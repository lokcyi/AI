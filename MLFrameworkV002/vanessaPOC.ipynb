{
 "metadata": {
  "language_info": {
   "codemirror_mode": {
    "name": "ipython",
    "version": 3
   },
   "file_extension": ".py",
   "mimetype": "text/x-python",
   "name": "python",
   "nbconvert_exporter": "python",
   "pygments_lexer": "ipython3",
   "version": "3.7.9-final"
  },
  "orig_nbformat": 2,
  "kernelspec": {
   "name": "python379jvsc74a57bd0fd79c5f311e48de877911d8cf1d56e7b724990a605ba536e714d512526dbebf5",
   "display_name": "Python 3.7.9 64-bit ('PY379': conda)"
  }
 },
 "nbformat": 4,
 "nbformat_minor": 2,
 "cells": [
  {
   "cell_type": "code",
   "execution_count": 56,
   "metadata": {},
   "outputs": [],
   "source": [
    "import pandas as pd\n",
    "import os\n",
    "import numpy as np \n",
    "import joblib as joblib"
   ]
  },
  {
   "cell_type": "code",
   "execution_count": 89,
   "metadata": {},
   "outputs": [],
   "source": [
    "# dataFiles = {dataFile :[\"./data/Parts_EQP_Output_ByMonth_20210407_van.csv\"\n",
    "#                 ,\"./data/ScmTrainingData_Monthly_30days.csv\"\n",
    "#                 ,\"./data/holiday.csv\"\n",
    "#                 ],\n",
    "#             relation :[['MFG_MONTH','EQP_NO'],['MFG_MONTH','TOOL_ID']]\n",
    "#                 ,[['MFG_MONTH'],['MFG_MONTH']]\n",
    "#                ]"
   ]
  },
  {
   "cell_type": "code",
   "execution_count": 58,
   "metadata": {},
   "outputs": [
    {
     "output_type": "execute_result",
     "data": {
      "text/plain": [
       "['MFG_MONTH', 'EQP_NO']"
      ]
     },
     "metadata": {},
     "execution_count": 58
    }
   ],
   "source": [
    "# datasetList =datafileList[0:1][0]\n",
    "\n",
    "# datasetRels =datafileList[1:][0]\n",
    "# datasetRels[0]"
   ]
  },
  {
   "cell_type": "code",
   "execution_count": 79,
   "metadata": {},
   "outputs": [],
   "source": [
    "def readData(inputfile):\n",
    "        df = pd.read_csv(inputfile)\n",
    "        df=df.dropna(axis=1,how='all')\n",
    "        df.info() \n",
    "        return analyzeData(df) \n",
    "def analyzeData(df):\n",
    "        print('非數值欄位：')\n",
    "        strColumnlist=df.select_dtypes(exclude=['int64','float64']).columns.tolist()\n",
    "        print(strColumnlist) \n",
    "        print('數值欄位：')\n",
    "        numbericColumnlist=df.select_dtypes(include=['int64','float64']).columns.tolist()\n",
    "        print(numbericColumnlist)\n",
    "        print('包含ＮＵＬＬ的欄位：')\n",
    "        nullColumnlist=df.columns[df.isna().any()].tolist()    \n",
    "        print(nullColumnlist)\n",
    "        print('===================================================')  \n",
    "        return df,strColumnlist,numbericColumnlist,nullColumnlist        \n",
    "def mergeDataFrame(dfleft,dfright,LeftKeys,RightKeys):\n",
    "        # dfright.columns = [str(col) + '_'+joinTableName for col in df.columns]\n",
    "        df_merge = pd.merge(dfleft, dfright, left_on=LeftKeys, right_on=RightKeys,how=\"inner\")\n",
    "        return df_merge        "
   ]
  },
  {
   "cell_type": "code",
   "execution_count": 100,
   "metadata": {},
   "outputs": [],
   "source": [
    "dataFiles = {'files':[\"./data/Parts_EQP_Output_ByMonth_20210407_van.csv\"\n",
    "                ,\"./data/ScmTrainingData_Monthly_30days.csv\"\n",
    "                ,\"./data/holiday.csv\"\n",
    "                ],\n",
    "            'relations':[\n",
    "                 [['MFG_MONTH','EQP_NO'],['MFG_MONTH','TOOL_ID']]\n",
    "                ,[['MFG_MONTH'],['MFG_MONTH']]\n",
    "               ]\n",
    "}"
   ]
  },
  {
   "cell_type": "code",
   "execution_count": 103,
   "metadata": {},
   "outputs": [
    {
     "output_type": "execute_result",
     "data": {
      "text/plain": [
       "['./data/Parts_EQP_Output_ByMonth_20210407_van.csv',\n",
       " './data/ScmTrainingData_Monthly_30days.csv',\n",
       " './data/holiday.csv']"
      ]
     },
     "metadata": {},
     "execution_count": 103
    }
   ],
   "source": [
    "dataFiles['files']"
   ]
  },
  {
   "cell_type": "code",
   "execution_count": 106,
   "metadata": {},
   "outputs": [
    {
     "output_type": "stream",
     "name": "stdout",
     "text": [
      "./data/Parts_EQP_Output_ByMonth_20210407_van.csv\n<class 'pandas.core.frame.DataFrame'>\nRangeIndex: 20775 entries, 0 to 20774\nData columns (total 9 columns):\n #   Column            Non-Null Count  Dtype  \n---  ------            --------------  -----  \n 0   PART_NO           20775 non-null  object \n 1   EQP_NO            20775 non-null  object \n 2   STOCK_EVENT_TIME  20775 non-null  object \n 3   QTY               20775 non-null  int64  \n 4   PM                20775 non-null  float64\n 5   TS                20775 non-null  float64\n 6   ENG               20775 non-null  float64\n 7   NST               20775 non-null  float64\n 8   MFG_MONTH         20775 non-null  int64  \ndtypes: float64(4), int64(2), object(3)\nmemory usage: 1.4+ MB\n非數值欄位：\n['PART_NO', 'EQP_NO', 'STOCK_EVENT_TIME']\n數值欄位：\n['QTY', 'PM', 'TS', 'ENG', 'NST', 'MFG_MONTH']\n包含ＮＵＬＬ的欄位：\n[]\n===================================================\n./data/ScmTrainingData_Monthly_30days.csv\n<class 'pandas.core.frame.DataFrame'>\nRangeIndex: 1837 entries, 0 to 1836\nData columns (total 26 columns):\n #   Column           Non-Null Count  Dtype  \n---  ------           --------------  -----  \n 0   MFG_MONTH        1837 non-null   int64  \n 1   TOOL_ID          1837 non-null   object \n 2   M_NUM            1837 non-null   float64\n 3   UP_TIME          1837 non-null   float64\n 4   C_UP_TIME        1837 non-null   float64\n 5   LOT_SIZE         1837 non-null   float64\n 6   C_LOT_SIZE       1837 non-null   float64\n 7   EQP_UTIL         1837 non-null   float64\n 8   C_EQP_UTIL       1837 non-null   float64\n 9   EQP_AVAIL_RATE   1837 non-null   float64\n 10  TC               1793 non-null   float64\n 11  PROCESS_TIME     1837 non-null   float64\n 12  PROCESS_JOBTIME  1837 non-null   float64\n 13  INLINE_CT_LOT    1837 non-null   float64\n 14  INLINE_CT_WAFER  1837 non-null   float64\n 15  MOVE_QTY         1837 non-null   float64\n 16  C_TC             1837 non-null   float64\n 17  ENG_LOT_RATE     1837 non-null   float64\n 18  HOT_LOT_RATE     1837 non-null   float64\n 19  BACKUP_BY_RATE   1837 non-null   int64  \n 20  BACKUP_FOR_RATE  1837 non-null   float64\n 21  RWORK_LOT_RATE   1837 non-null   float64\n 22  QUE_LOT_RATE     1837 non-null   float64\n 23  SAMPLING_RATE    1837 non-null   int64  \n 24  NUM_RECIPE       1837 non-null   int64  \n 25  CHANGE_RECIPE    1837 non-null   float64\ndtypes: float64(21), int64(4), object(1)\nmemory usage: 373.3+ KB\n非數值欄位：\n['TOOL_ID']\n數值欄位：\n['MFG_MONTH', 'M_NUM', 'UP_TIME', 'C_UP_TIME', 'LOT_SIZE', 'C_LOT_SIZE', 'EQP_UTIL', 'C_EQP_UTIL', 'EQP_AVAIL_RATE', 'TC', 'PROCESS_TIME', 'PROCESS_JOBTIME', 'INLINE_CT_LOT', 'INLINE_CT_WAFER', 'MOVE_QTY', 'C_TC', 'ENG_LOT_RATE', 'HOT_LOT_RATE', 'BACKUP_BY_RATE', 'BACKUP_FOR_RATE', 'RWORK_LOT_RATE', 'QUE_LOT_RATE', 'SAMPLING_RATE', 'NUM_RECIPE', 'CHANGE_RECIPE']\n包含ＮＵＬＬ的欄位：\n['TC']\n===================================================\n./data/holiday.csv\n<class 'pandas.core.frame.DataFrame'>\nRangeIndex: 163 entries, 0 to 162\nData columns (total 3 columns):\n #   Column     Non-Null Count  Dtype\n---  ------     --------------  -----\n 0   MFG_MONTH  163 non-null    int64\n 1   Holiday    163 non-null    int64\n 2   Days       163 non-null    int64\ndtypes: int64(3)\nmemory usage: 3.9 KB\n非數值欄位：\n[]\n數值欄位：\n['MFG_MONTH', 'Holiday', 'Days']\n包含ＮＵＬＬ的欄位：\n[]\n===================================================\n"
     ]
    }
   ],
   "source": [
    "\n",
    "\n",
    "def merge(dataFiles):\n",
    "    index =0\n",
    "    for dfFile in dataFiles['files']:\n",
    "        print(dfFile)\n",
    "        if index ==0:\n",
    "            _dfInputData1,_strColumnlist1,_numbericColumnlist1,_nullColumnlist1=readData(dfFile) \n",
    "            \n",
    "            # _df_result.\n",
    "        else:\n",
    "            datasetRels = dataFiles['relations'][index-1]\n",
    "            _dfInputData2,_strColumnlist2,_numbericColumnlist2,_nullColumnlist2=readData(dfFile) \n",
    "            _dfInputData1.set_index(datasetRels[0])\n",
    "            _dfInputData2.set_index(datasetRels[1])\n",
    "            df_merge = mergeDataFrame(_dfInputData1,_dfInputData2,datasetRels[0],datasetRels[1])\n",
    "            _dfInputData1 = df_merge.copy(deep=False)\n",
    "        index+=1\n",
    "    return _dfInputData1 \n",
    "df = merge(dataFiles)"
   ]
  },
  {
   "cell_type": "code",
   "execution_count": 108,
   "metadata": {},
   "outputs": [
    {
     "output_type": "execute_result",
     "data": {
      "text/plain": [
       "Index(['PART_NO', 'EQP_NO', 'STOCK_EVENT_TIME', 'QTY', 'PM', 'TS', 'ENG',\n",
       "       'NST', 'MFG_MONTH', 'TOOL_ID', 'M_NUM', 'UP_TIME', 'C_UP_TIME',\n",
       "       'LOT_SIZE', 'C_LOT_SIZE', 'EQP_UTIL', 'C_EQP_UTIL', 'EQP_AVAIL_RATE',\n",
       "       'TC', 'PROCESS_TIME', 'PROCESS_JOBTIME', 'INLINE_CT_LOT',\n",
       "       'INLINE_CT_WAFER', 'MOVE_QTY', 'C_TC', 'ENG_LOT_RATE', 'HOT_LOT_RATE',\n",
       "       'BACKUP_BY_RATE', 'BACKUP_FOR_RATE', 'RWORK_LOT_RATE', 'QUE_LOT_RATE',\n",
       "       'SAMPLING_RATE', 'NUM_RECIPE', 'CHANGE_RECIPE', 'Holiday', 'Days'],\n",
       "      dtype='object')"
      ]
     },
     "metadata": {},
     "execution_count": 108
    }
   ],
   "source": [
    "# _dfInputData1.reset_index(drop=True, inplace=True)\n",
    "# _dfInputData1.drop(['index'],axis=1)\n",
    "df.columns\n"
   ]
  },
  {
   "cell_type": "code",
   "execution_count": 65,
   "metadata": {},
   "outputs": [],
   "source": [
    "df_parts=pd.read_csv(\"./data/Parts_EQP_Output_ByMonth_20210407_2.csv\")\n",
    "df_parts['MFG_MONTH'] = df_parts['STOCK_EVENT_TIME'].apply(lambda x: pd.to_datetime(str(x), format='%Y/%m/%d %H:%M')).dt.strftime('%Y%m')\n",
    "df_parts.to_csv(\"./data/Parts_EQP_Output_ByMonth_20210407_van.csv\",index=False)"
   ]
  },
  {
   "cell_type": "code",
   "execution_count": null,
   "metadata": {},
   "outputs": [],
   "source": []
  }
 ]
}