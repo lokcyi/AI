{
 "metadata": {
  "language_info": {
   "codemirror_mode": {
    "name": "ipython",
    "version": 3
   },
   "file_extension": ".py",
   "mimetype": "text/x-python",
   "name": "python",
   "nbconvert_exporter": "python",
   "pygments_lexer": "ipython3",
   "version": "3.7.9"
  },
  "orig_nbformat": 2,
  "kernelspec": {
   "name": "python3",
   "display_name": "Python 3.7.9 64-bit ('PY379': conda)",
   "metadata": {
    "interpreter": {
     "hash": "22f30ec172dd1b5417736773e1b29c8f9a9a2bfdd3b5bfc2aa1d0d2da1ab96e1"
    }
   }
  }
 },
 "nbformat": 4,
 "nbformat_minor": 2,
 "cells": [
  {
   "cell_type": "code",
   "execution_count": null,
   "metadata": {},
   "outputs": [],
   "source": []
  },
  {
   "cell_type": "code",
   "execution_count": 2,
   "metadata": {},
   "outputs": [
    {
     "output_type": "stream",
     "name": "stdout",
     "text": [
      "[0.99999109 1.00001201] 4.000000000894312\n"
     ]
    }
   ],
   "source": [
    "\n",
    "# 7. 人工鱼群算法\n",
    "# 人工鱼群算法(artificial fish swarm algorithm, AFSA)\n",
    "\n",
    "# -> Demo code: examples/demo_afsa.py#s1\n",
    "\n",
    "def func(x):\n",
    "    x1, x2 = x\n",
    "    return 1 / x1 ** 2 + x1 ** 2 + 1 / x2 ** 2 + x2 ** 2\n",
    "\n",
    "\n",
    "from sko.AFSA import AFSA\n",
    "\n",
    "afsa = AFSA(func, n_dim=2, size_pop=50, max_iter=300,\n",
    "            max_try_num=100, step=0.5, visual=0.3,\n",
    "            q=0.98, delta=0.5)\n",
    "best_x, best_y = afsa.run()\n",
    "print(best_x, best_y)"
   ]
  }
 ]
}