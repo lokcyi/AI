{
 "metadata": {
  "language_info": {
   "codemirror_mode": {
    "name": "ipython",
    "version": 3
   },
   "file_extension": ".py",
   "mimetype": "text/x-python",
   "name": "python",
   "nbconvert_exporter": "python",
   "pygments_lexer": "ipython3",
   "version": "3.7.9-final"
  },
  "orig_nbformat": 2,
  "kernelspec": {
   "name": "python3",
   "display_name": "Python 3.7.9 64-bit ('PY379': conda)",
   "metadata": {
    "interpreter": {
     "hash": "fd79c5f311e48de877911d8cf1d56e7b724990a605ba536e714d512526dbebf5"
    }
   }
  }
 },
 "nbformat": 4,
 "nbformat_minor": 2,
 "cells": [
  {
   "source": [
    "https://iter01.com/575688.html\n",
    "https://kknews.cc/zh-tw/code/k2geb4r.html\n"
   ],
   "cell_type": "markdown",
   "metadata": {}
  },
  {
   "cell_type": "code",
   "execution_count": 10,
   "metadata": {},
   "outputs": [
    {
     "output_type": "stream",
     "name": "stdout",
     "text": [
      "MFG_DATE       0\n",
      "TOOLG_ID       0\n",
      "WIP_QTY        0\n",
      "NO_HOLD_QTY    0\n",
      "MOVE_QTY       0\n",
      "M              0\n",
      "U              0\n",
      "PT             0\n",
      "UP_TIME        0\n",
      "EQP_UTIL       0\n",
      "TC             0\n",
      "CS             0\n",
      "AI             0\n",
      "C_AI           0\n",
      "dtype: int64\n",
      "          WIP_QTY  NO_HOLD_QTY           M           U           PT  \\\n",
      "count  401.000000   401.000000  401.000000  401.000000   401.000000   \n",
      "mean   161.995012   134.887781    2.987531    0.506376  3085.053994   \n",
      "std    136.443175   135.970897    0.149480    0.091484   284.679610   \n",
      "min      1.000000     0.000000    1.000000    0.333333  2402.283019   \n",
      "25%     76.000000    50.000000    3.000000    0.462222  2886.127273   \n",
      "50%    125.000000   100.000000    3.000000    0.500000  3086.842857   \n",
      "75%    200.000000   174.000000    3.000000    0.546512  3254.179104   \n",
      "max    913.000000   895.000000    3.000000    1.700000  4347.333333   \n",
      "\n",
      "          UP_TIME    EQP_UTIL          TC          CS        C_AI  \n",
      "count  401.000000  401.000000  401.000000  401.000000  401.000000  \n",
      "mean     0.939801    0.692417    0.387052    0.334995    0.300796  \n",
      "std      0.072961    0.195409    0.161177    0.133030   15.171508  \n",
      "min      0.561834    0.071409    0.179445    0.028137 -300.029990  \n",
      "25%      0.916844    0.565698    0.320979    0.273662    0.663578  \n",
      "50%      0.961270    0.687439    0.364697    0.317761    0.816370  \n",
      "75%      0.990291    0.830025    0.405530    0.364432    0.980457  \n",
      "max      1.000000    1.000000    2.492340    1.969233   30.907348  \n",
      "[19:25:44] WARNING: ..\\src\\learner.cc:541: \n",
      "Parameters: { n_estimators } might not be used.\n",
      "\n",
      "  This may not be accurate due to some parameters are only used in language bindings but\n",
      "  passed down to XGBoost core.  Or some parameters are not used but slip through this\n",
      "  verification. Please open an issue if you find above cases.\n",
      "\n",
      "\n",
      "[19:25:44] WARNING: ..\\src\\learner.cc:541: \n",
      "Parameters: { n_estimators } might not be used.\n",
      "\n",
      "  This may not be accurate due to some parameters are only used in language bindings but\n",
      "  passed down to XGBoost core.  Or some parameters are not used but slip through this\n",
      "  verification. Please open an issue if you find above cases.\n",
      "\n",
      "\n",
      "[19:25:44] WARNING: ..\\src\\learner.cc:541: \n",
      "Parameters: { n_estimators } might not be used.\n",
      "\n",
      "  This may not be accurate due to some parameters are only used in language bindings but\n",
      "  passed down to XGBoost core.  Or some parameters are not used but slip through this\n",
      "  verification. Please open an issue if you find above cases.\n",
      "\n",
      "\n",
      "找到最佳迭代轮数 79\n",
      "[19:25:45] WARNING: ..\\src\\learner.cc:541: \n",
      "Parameters: { n_estimators } might not be used.\n",
      "\n",
      "  This may not be accurate due to some parameters are only used in language bindings but\n",
      "  passed down to XGBoost core.  Or some parameters are not used but slip through this\n",
      "  verification. Please open an issue if you find above cases.\n",
      "\n",
      "\n",
      "[0]\ttrain-rmse:1619.79517\tvalid-rmse:1614.16419\n",
      "[1]\ttrain-rmse:1466.51721\tvalid-rmse:1463.36255\n",
      "[2]\ttrain-rmse:1327.38550\tvalid-rmse:1328.43494\n",
      "[3]\ttrain-rmse:1202.54712\tvalid-rmse:1205.70508\n",
      "[4]\ttrain-rmse:1091.74670\tvalid-rmse:1100.10169\n",
      "[5]\ttrain-rmse:988.84558\tvalid-rmse:1000.60791\n",
      "[6]\ttrain-rmse:896.96967\tvalid-rmse:911.32556\n",
      "[7]\ttrain-rmse:814.16559\tvalid-rmse:837.39703\n",
      "[8]\ttrain-rmse:739.33496\tvalid-rmse:766.44769\n",
      "[9]\ttrain-rmse:672.29517\tvalid-rmse:700.87109\n",
      "[10]\ttrain-rmse:612.42517\tvalid-rmse:645.13977\n",
      "[11]\ttrain-rmse:558.39899\tvalid-rmse:596.86707\n",
      "[12]\ttrain-rmse:510.16492\tvalid-rmse:552.66510\n",
      "[13]\ttrain-rmse:465.87973\tvalid-rmse:509.55240\n",
      "[14]\ttrain-rmse:425.84933\tvalid-rmse:474.11896\n",
      "[15]\ttrain-rmse:390.12814\tvalid-rmse:440.42981\n",
      "[16]\ttrain-rmse:358.81561\tvalid-rmse:414.42465\n",
      "[17]\ttrain-rmse:330.19391\tvalid-rmse:390.96686\n",
      "[18]\ttrain-rmse:304.05374\tvalid-rmse:370.27121\n",
      "[19]\ttrain-rmse:281.40356\tvalid-rmse:352.76865\n",
      "[20]\ttrain-rmse:260.36850\tvalid-rmse:337.42630\n",
      "[21]\ttrain-rmse:241.39514\tvalid-rmse:321.64972\n",
      "[22]\ttrain-rmse:224.01334\tvalid-rmse:309.54398\n",
      "[23]\ttrain-rmse:208.52771\tvalid-rmse:296.44507\n",
      "[24]\ttrain-rmse:194.91887\tvalid-rmse:288.60669\n",
      "[25]\ttrain-rmse:182.72864\tvalid-rmse:281.06149\n",
      "[26]\ttrain-rmse:171.37056\tvalid-rmse:273.43890\n",
      "[27]\ttrain-rmse:161.11289\tvalid-rmse:269.81281\n",
      "[28]\ttrain-rmse:152.38796\tvalid-rmse:265.12237\n",
      "[29]\ttrain-rmse:143.77930\tvalid-rmse:261.45258\n",
      "[30]\ttrain-rmse:136.90449\tvalid-rmse:259.56415\n",
      "[31]\ttrain-rmse:131.13728\tvalid-rmse:257.97232\n",
      "[32]\ttrain-rmse:124.99648\tvalid-rmse:254.90080\n",
      "[33]\ttrain-rmse:119.93630\tvalid-rmse:253.07440\n",
      "[34]\ttrain-rmse:115.06710\tvalid-rmse:250.76388\n",
      "[35]\ttrain-rmse:111.13236\tvalid-rmse:248.69629\n",
      "[36]\ttrain-rmse:107.13120\tvalid-rmse:247.29541\n",
      "[37]\ttrain-rmse:104.07928\tvalid-rmse:245.56561\n",
      "[38]\ttrain-rmse:101.58737\tvalid-rmse:245.46771\n",
      "[39]\ttrain-rmse:98.01955\tvalid-rmse:245.40767\n",
      "[40]\ttrain-rmse:95.32579\tvalid-rmse:245.92360\n",
      "[41]\ttrain-rmse:92.57190\tvalid-rmse:245.46137\n",
      "[42]\ttrain-rmse:90.61732\tvalid-rmse:244.62431\n",
      "[43]\ttrain-rmse:88.03956\tvalid-rmse:244.78154\n",
      "[44]\ttrain-rmse:86.24536\tvalid-rmse:245.93750\n",
      "[45]\ttrain-rmse:84.42772\tvalid-rmse:245.07063\n",
      "[46]\ttrain-rmse:82.08801\tvalid-rmse:245.54059\n",
      "[47]\ttrain-rmse:81.22195\tvalid-rmse:245.86034\n",
      "[48]\ttrain-rmse:79.42194\tvalid-rmse:245.50102\n",
      "[49]\ttrain-rmse:78.20879\tvalid-rmse:245.78148\n",
      "[50]\ttrain-rmse:76.97414\tvalid-rmse:245.93057\n",
      "[51]\ttrain-rmse:75.18186\tvalid-rmse:246.59773\n",
      "[52]\ttrain-rmse:74.10323\tvalid-rmse:247.77501\n",
      "[53]\ttrain-rmse:72.11775\tvalid-rmse:247.51842\n",
      "[54]\ttrain-rmse:71.08292\tvalid-rmse:247.78834\n",
      "[55]\ttrain-rmse:70.30611\tvalid-rmse:247.51292\n",
      "[56]\ttrain-rmse:68.73943\tvalid-rmse:247.75505\n",
      "[57]\ttrain-rmse:67.72141\tvalid-rmse:247.79060\n",
      "[58]\ttrain-rmse:66.45264\tvalid-rmse:247.52577\n",
      "[59]\ttrain-rmse:65.01275\tvalid-rmse:248.40924\n",
      "[60]\ttrain-rmse:64.17003\tvalid-rmse:249.39171\n",
      "[61]\ttrain-rmse:62.63218\tvalid-rmse:249.85269\n",
      "[62]\ttrain-rmse:62.06802\tvalid-rmse:249.86230\n",
      "[63]\ttrain-rmse:61.06892\tvalid-rmse:249.81190\n",
      "[64]\ttrain-rmse:59.89813\tvalid-rmse:249.72781\n",
      "[65]\ttrain-rmse:58.51476\tvalid-rmse:249.59302\n",
      "[66]\ttrain-rmse:57.55179\tvalid-rmse:249.97719\n",
      "[67]\ttrain-rmse:56.69733\tvalid-rmse:250.38709\n",
      "[68]\ttrain-rmse:55.96141\tvalid-rmse:250.47264\n",
      "[69]\ttrain-rmse:55.15376\tvalid-rmse:251.17526\n",
      "[70]\ttrain-rmse:53.98848\tvalid-rmse:251.11087\n",
      "[71]\ttrain-rmse:52.66652\tvalid-rmse:250.88727\n",
      "[72]\ttrain-rmse:51.15698\tvalid-rmse:251.33977\n",
      "[73]\ttrain-rmse:50.54544\tvalid-rmse:251.23547\n",
      "[74]\ttrain-rmse:48.96944\tvalid-rmse:251.68022\n",
      "[75]\ttrain-rmse:48.11480\tvalid-rmse:251.91095\n",
      "[76]\ttrain-rmse:47.30841\tvalid-rmse:251.89529\n",
      "[77]\ttrain-rmse:46.65509\tvalid-rmse:251.78332\n",
      "[78]\ttrain-rmse:45.76009\tvalid-rmse:251.25372\n"
     ]
    }
   ],
   "source": [
    "import pandas as pd\n",
    "import numpy as np \n",
    "import xgboost as xgb\n",
    "import matplotlib.pyplot as plt\n",
    "from sklearn.model_selection import GridSearchCV\n",
    "from sklearn.model_selection import train_test_split\n",
    "\n",
    "# target_ToolGID = 'PK_DUVKrF'\n",
    "# target_ToolGID = 'XE_Sorter'\n",
    "# target_ToolGID = 'MA_Alps'\n",
    "target_ToolGID = 'PW_PIX'\n",
    "def readDataFromFile(file_path):\n",
    "    df = pd.read_csv(file_path)\n",
    "    return df\n",
    "\n",
    "df_train=readDataFromFile('../../homework/training_data_20210302.csv')\n",
    "df_train = df_train.loc[df_train['TOOLG_ID']==target_ToolGID]\n",
    "# 觀察缺失值------------------------------------------\n",
    "print(df_train.isnull().sum())\n",
    "# 做数据切分------------------------------------------\n",
    "print(df_train.drop(['TOOLG_ID','MOVE_QTY','MFG_DATE','AI'], axis=1).describe())\n",
    "df_train_eh =df_train.drop(['TOOLG_ID','MOVE_QTY','MFG_DATE','AI'], axis=1) \n",
    "X_dropped = np.asarray(df_train_eh)\n",
    "Y_dropped = np.asarray(df_train['MOVE_QTY'])\n",
    "\n",
    "X_train, X_val, y_train, y_val = train_test_split(X_dropped, Y_dropped,test_size =0.2, random_state=1)\n",
    "xgTrain = xgb.DMatrix(X_train,y_train)\n",
    "xgVal = xgb.DMatrix(X_val,y_val)\n",
    "\n",
    "#調超參 best_nround-----------------------------------------------------------\n",
    " \n",
    "other_params = {'learning_rate': 0.1, 'n_estimators': 500, 'max_depth': 5, 'min_child_weight': 1, 'seed': 0,\n",
    "    'subsample': 0.8, 'colsample_bytree': 0.8, 'gamma': 0, 'reg_alpha': 0, 'reg_lambda': 1}\n",
    "model = xgb.XGBRegressor(**other_params)\n",
    "num_round = 10\n",
    "best_nround = 1000\n",
    "\n",
    "# bst = xgb.train(param, dtrain, num_round)\n",
    "# 设定watchlist用于查看模型状态\n",
    "watchlist  =[(xgTrain, 'train'), (xgVal, 'valid')]\n",
    "\n",
    "res = xgb.cv(other_params,xgTrain, nfold=3,num_boost_round=500,metrics='rmse',early_stopping_rounds=25)\n",
    "# #找到最佳迭代轮数\n",
    "best_nround = res.shape[0] - 1\n",
    "print('找到最佳迭代轮数',best_nround)\n",
    "bst = xgb.train(other_params, xgTrain, best_nround, watchlist)\n",
    "\n"
   ]
  },
  {
   "cell_type": "code",
   "execution_count": 11,
   "metadata": {},
   "outputs": [
    {
     "output_type": "execute_result",
     "data": {
      "text/plain": [
       "        MFG_DATE TOOLG_ID  WIP_QTY  NO_HOLD_QTY  MOVE_QTY    M         U  \\\n",
       "152     20200122   PW_PIX    108.0        100.0    1580.0  3.0  0.587963   \n",
       "450     20200123   PW_PIX     59.0         50.0    1839.0  3.0  0.537037   \n",
       "628     20200124   PW_PIX    108.0        100.0    1568.0  3.0  0.497653   \n",
       "1145    20200125   PW_PIX    258.0        250.0    2541.0  3.0  0.569892   \n",
       "1247    20200126   PW_PIX    258.0        225.0    2332.0  3.0  0.557756   \n",
       "...          ...      ...      ...          ...       ...  ...       ...   \n",
       "118771  20210221   PW_PIX    110.0         83.0    2296.0  3.0  0.438095   \n",
       "118886  20210222   PW_PIX     75.0         50.0    2031.0  3.0  0.501754   \n",
       "119128  20210223   PW_PIX    205.0        180.0    2291.0  3.0  0.511111   \n",
       "119512  20210224   PW_PIX     75.0         50.0    1777.0  3.0  0.541667   \n",
       "119887  20210225   PW_PIX    272.0        247.0    2103.0  3.0  0.549451   \n",
       "\n",
       "                 PT   UP_TIME  EQP_UTIL        TC        CS          AI  \\\n",
       "152     3232.708333  1.000000  0.656590  0.433313  0.365686   68.958333   \n",
       "450     3227.466667  0.943611  0.694146  0.387840  0.337132   73.541667   \n",
       "628     3389.704225  0.962111  0.635283  0.366415  0.336746   69.458333   \n",
       "1145    3153.588710  0.961270  0.949337  0.364306  0.314092  110.041667   \n",
       "1247    3482.871287  1.000000  0.827492  0.282878  0.252590   98.166667   \n",
       "...             ...       ...       ...       ...       ...         ...   \n",
       "118771  3067.057143  1.000000  0.770908  0.394342  0.298569   92.875000   \n",
       "118886  2916.189474  0.911183  0.754109  0.312661  0.258611   84.291667   \n",
       "119128  3263.752381  0.978084  0.810124  0.410462  0.324960   99.833333   \n",
       "119512  3214.662500  0.902400  0.762454  0.305057  0.263326   71.750000   \n",
       "119887  3274.252747  1.000000  0.782236  0.318509  0.261988   91.625000   \n",
       "\n",
       "            C_AI  \n",
       "152     0.752956  \n",
       "450     0.898059  \n",
       "628     0.964658  \n",
       "1145    0.634169  \n",
       "1247    0.677258  \n",
       "...          ...  \n",
       "118771  0.573925  \n",
       "118886  0.589925  \n",
       "119128  0.604011  \n",
       "119512  0.768001  \n",
       "119887  0.805121  \n",
       "\n",
       "[401 rows x 14 columns]"
      ],
      "text/html": "<div>\n<style scoped>\n    .dataframe tbody tr th:only-of-type {\n        vertical-align: middle;\n    }\n\n    .dataframe tbody tr th {\n        vertical-align: top;\n    }\n\n    .dataframe thead th {\n        text-align: right;\n    }\n</style>\n<table border=\"1\" class=\"dataframe\">\n  <thead>\n    <tr style=\"text-align: right;\">\n      <th></th>\n      <th>MFG_DATE</th>\n      <th>TOOLG_ID</th>\n      <th>WIP_QTY</th>\n      <th>NO_HOLD_QTY</th>\n      <th>MOVE_QTY</th>\n      <th>M</th>\n      <th>U</th>\n      <th>PT</th>\n      <th>UP_TIME</th>\n      <th>EQP_UTIL</th>\n      <th>TC</th>\n      <th>CS</th>\n      <th>AI</th>\n      <th>C_AI</th>\n    </tr>\n  </thead>\n  <tbody>\n    <tr>\n      <th>152</th>\n      <td>20200122</td>\n      <td>PW_PIX</td>\n      <td>108.0</td>\n      <td>100.0</td>\n      <td>1580.0</td>\n      <td>3.0</td>\n      <td>0.587963</td>\n      <td>3232.708333</td>\n      <td>1.000000</td>\n      <td>0.656590</td>\n      <td>0.433313</td>\n      <td>0.365686</td>\n      <td>68.958333</td>\n      <td>0.752956</td>\n    </tr>\n    <tr>\n      <th>450</th>\n      <td>20200123</td>\n      <td>PW_PIX</td>\n      <td>59.0</td>\n      <td>50.0</td>\n      <td>1839.0</td>\n      <td>3.0</td>\n      <td>0.537037</td>\n      <td>3227.466667</td>\n      <td>0.943611</td>\n      <td>0.694146</td>\n      <td>0.387840</td>\n      <td>0.337132</td>\n      <td>73.541667</td>\n      <td>0.898059</td>\n    </tr>\n    <tr>\n      <th>628</th>\n      <td>20200124</td>\n      <td>PW_PIX</td>\n      <td>108.0</td>\n      <td>100.0</td>\n      <td>1568.0</td>\n      <td>3.0</td>\n      <td>0.497653</td>\n      <td>3389.704225</td>\n      <td>0.962111</td>\n      <td>0.635283</td>\n      <td>0.366415</td>\n      <td>0.336746</td>\n      <td>69.458333</td>\n      <td>0.964658</td>\n    </tr>\n    <tr>\n      <th>1145</th>\n      <td>20200125</td>\n      <td>PW_PIX</td>\n      <td>258.0</td>\n      <td>250.0</td>\n      <td>2541.0</td>\n      <td>3.0</td>\n      <td>0.569892</td>\n      <td>3153.588710</td>\n      <td>0.961270</td>\n      <td>0.949337</td>\n      <td>0.364306</td>\n      <td>0.314092</td>\n      <td>110.041667</td>\n      <td>0.634169</td>\n    </tr>\n    <tr>\n      <th>1247</th>\n      <td>20200126</td>\n      <td>PW_PIX</td>\n      <td>258.0</td>\n      <td>225.0</td>\n      <td>2332.0</td>\n      <td>3.0</td>\n      <td>0.557756</td>\n      <td>3482.871287</td>\n      <td>1.000000</td>\n      <td>0.827492</td>\n      <td>0.282878</td>\n      <td>0.252590</td>\n      <td>98.166667</td>\n      <td>0.677258</td>\n    </tr>\n    <tr>\n      <th>...</th>\n      <td>...</td>\n      <td>...</td>\n      <td>...</td>\n      <td>...</td>\n      <td>...</td>\n      <td>...</td>\n      <td>...</td>\n      <td>...</td>\n      <td>...</td>\n      <td>...</td>\n      <td>...</td>\n      <td>...</td>\n      <td>...</td>\n      <td>...</td>\n    </tr>\n    <tr>\n      <th>118771</th>\n      <td>20210221</td>\n      <td>PW_PIX</td>\n      <td>110.0</td>\n      <td>83.0</td>\n      <td>2296.0</td>\n      <td>3.0</td>\n      <td>0.438095</td>\n      <td>3067.057143</td>\n      <td>1.000000</td>\n      <td>0.770908</td>\n      <td>0.394342</td>\n      <td>0.298569</td>\n      <td>92.875000</td>\n      <td>0.573925</td>\n    </tr>\n    <tr>\n      <th>118886</th>\n      <td>20210222</td>\n      <td>PW_PIX</td>\n      <td>75.0</td>\n      <td>50.0</td>\n      <td>2031.0</td>\n      <td>3.0</td>\n      <td>0.501754</td>\n      <td>2916.189474</td>\n      <td>0.911183</td>\n      <td>0.754109</td>\n      <td>0.312661</td>\n      <td>0.258611</td>\n      <td>84.291667</td>\n      <td>0.589925</td>\n    </tr>\n    <tr>\n      <th>119128</th>\n      <td>20210223</td>\n      <td>PW_PIX</td>\n      <td>205.0</td>\n      <td>180.0</td>\n      <td>2291.0</td>\n      <td>3.0</td>\n      <td>0.511111</td>\n      <td>3263.752381</td>\n      <td>0.978084</td>\n      <td>0.810124</td>\n      <td>0.410462</td>\n      <td>0.324960</td>\n      <td>99.833333</td>\n      <td>0.604011</td>\n    </tr>\n    <tr>\n      <th>119512</th>\n      <td>20210224</td>\n      <td>PW_PIX</td>\n      <td>75.0</td>\n      <td>50.0</td>\n      <td>1777.0</td>\n      <td>3.0</td>\n      <td>0.541667</td>\n      <td>3214.662500</td>\n      <td>0.902400</td>\n      <td>0.762454</td>\n      <td>0.305057</td>\n      <td>0.263326</td>\n      <td>71.750000</td>\n      <td>0.768001</td>\n    </tr>\n    <tr>\n      <th>119887</th>\n      <td>20210225</td>\n      <td>PW_PIX</td>\n      <td>272.0</td>\n      <td>247.0</td>\n      <td>2103.0</td>\n      <td>3.0</td>\n      <td>0.549451</td>\n      <td>3274.252747</td>\n      <td>1.000000</td>\n      <td>0.782236</td>\n      <td>0.318509</td>\n      <td>0.261988</td>\n      <td>91.625000</td>\n      <td>0.805121</td>\n    </tr>\n  </tbody>\n</table>\n<p>401 rows × 14 columns</p>\n</div>"
     },
     "metadata": {},
     "execution_count": 11
    }
   ],
   "source": [
    "df_train"
   ]
  },
  {
   "cell_type": "code",
   "execution_count": 12,
   "metadata": {},
   "outputs": [],
   "source": [
    "import datetime\n",
    "\n",
    "df_train[df_train['MFG_DATE'].apply(lambda x: pd.to_datetime(str(x), format='%Y%m%d'))>pd.to_datetime('2020-11-01')]\n",
    "\n",
    "df_train_filter28days =df_train[\n",
    "    df_train['MFG_DATE'].apply(lambda x: pd.to_datetime(str(x), format='%Y%m%d'))>\n",
    "    \n",
    "     df_train['MFG_DATE'].apply(lambda x: pd.to_datetime(str(x), format='%Y%m%d')).max()- datetime.timedelta(days=28) ]\n",
    "df_train_filter28days.to_csv('./df_train_filter28days.csv')  \n"
   ]
  },
  {
   "cell_type": "code",
   "execution_count": 12,
   "metadata": {},
   "outputs": [],
   "source": [
    " "
   ]
  },
  {
   "cell_type": "code",
   "execution_count": 13,
   "metadata": {},
   "outputs": [],
   "source": [
    "df_testing = df_train_filter28days.drop(['TOOLG_ID','MOVE_QTY','MFG_DATE','AI'], axis=1)\n",
    "\n",
    " "
   ]
  },
  {
   "cell_type": "code",
   "execution_count": 8,
   "metadata": {},
   "outputs": [],
   "source": []
  },
  {
   "cell_type": "code",
   "execution_count": 14,
   "metadata": {},
   "outputs": [],
   "source": [
    "# df_train_filter28days = readDataFromFile('./df_train_filter28days.csv')\n",
    "# df_train_filter28days"
   ]
  },
  {
   "cell_type": "code",
   "execution_count": 15,
   "metadata": {},
   "outputs": [
    {
     "output_type": "stream",
     "name": "stdout",
     "text": [
      "     WIP_QTY  NO_HOLD_QTY         M         U           PT   UP_TIME  \\\n152    108.0        100.0  2.987531  0.506376  3085.053994  0.939801   \n\n     EQP_UTIL        TC        CS      C_AI  \n152  0.692417  0.387052  0.334995  0.300796  \n100.0 1\n"
     ]
    }
   ],
   "source": [
    "\n",
    "cols=['M','U','PT','UP_TIME','EQP_UTIL','TC','CS','C_AI']\n",
    "#df_testing = df_train_filter28days.drop(['TOOLG_ID','MOVE_QTY','MFG_DATE','AI'], axis=1)\n",
    "\n",
    "\n",
    "\n",
    "df_testing = df_train.drop(['TOOLG_ID','MOVE_QTY','MFG_DATE','AI'], axis=1)\n",
    "df_testing[cols]= df_testing[cols].mean()\n",
    "# for col in df_testing.columns:\n",
    "#     if col =='UP_TIME':\n",
    "#         df_testing[col] = df_testing[df_testing['UP_TIME'].apply(lambda x: x>=0.96)]['UP_TIME'].mean() \n",
    "#     elif col =='M':\n",
    "#         df_testing[col] = df_testing[df_testing[col].apply(lambda x: x>=31)][col].mean() \n",
    "#     elif col =='U':\n",
    "#         df_testing[col] = df_testing[df_testing[col].apply(lambda x:  0.06 <=  x <=0.08)][col].mean()         \n",
    "#     else:\n",
    "#         df_testing[col]= df_testing[col].mean()\n",
    "df_testing =df_testing[0:1]\n",
    "print(df_testing.head())\n",
    "# max_wip = df_testing['NO_HOLD_QTY'].max()* .75\n",
    "max_wip = np.percentile(df_testing['NO_HOLD_QTY'], 50) # return 50th percentile, e.g median.\n",
    "tick = (df_testing['NO_HOLD_QTY'].max() - df_testing['NO_HOLD_QTY'].min()) /400\n",
    "if max_wip <=0 :\n",
    "    max_wip=100\n",
    "if tick <1 :\n",
    "    tick = 1\n",
    "print(max_wip,tick)\n",
    "\n",
    "df = pd.DataFrame(columns = df_testing.columns)\n",
    "\n",
    "for i in range(3000):\n",
    "    df_testing['NO_HOLD_QTY']=max_wip+ tick*i\n",
    "    df = df.append(df_testing,ignore_index=True)\n",
    "# print(df.head())        \n"
   ]
  },
  {
   "cell_type": "code",
   "execution_count": 16,
   "metadata": {},
   "outputs": [
    {
     "output_type": "execute_result",
     "data": {
      "text/plain": [
       "1"
      ]
     },
     "metadata": {},
     "execution_count": 16
    }
   ],
   "source": [
    "tick"
   ]
  },
  {
   "cell_type": "code",
   "execution_count": 17,
   "metadata": {},
   "outputs": [
    {
     "output_type": "execute_result",
     "data": {
      "text/plain": [
       "      WIP_QTY  NO_HOLD_QTY         M         U           PT   UP_TIME  \\\n",
       "0       108.0        100.0  2.987531  0.506376  3085.053994  0.939801   \n",
       "1       108.0        101.0  2.987531  0.506376  3085.053994  0.939801   \n",
       "2       108.0        102.0  2.987531  0.506376  3085.053994  0.939801   \n",
       "3       108.0        103.0  2.987531  0.506376  3085.053994  0.939801   \n",
       "4       108.0        104.0  2.987531  0.506376  3085.053994  0.939801   \n",
       "...       ...          ...       ...       ...          ...       ...   \n",
       "2995    108.0       3095.0  2.987531  0.506376  3085.053994  0.939801   \n",
       "2996    108.0       3096.0  2.987531  0.506376  3085.053994  0.939801   \n",
       "2997    108.0       3097.0  2.987531  0.506376  3085.053994  0.939801   \n",
       "2998    108.0       3098.0  2.987531  0.506376  3085.053994  0.939801   \n",
       "2999    108.0       3099.0  2.987531  0.506376  3085.053994  0.939801   \n",
       "\n",
       "      EQP_UTIL        TC        CS      C_AI  \n",
       "0     0.692417  0.387052  0.334995  0.300796  \n",
       "1     0.692417  0.387052  0.334995  0.300796  \n",
       "2     0.692417  0.387052  0.334995  0.300796  \n",
       "3     0.692417  0.387052  0.334995  0.300796  \n",
       "4     0.692417  0.387052  0.334995  0.300796  \n",
       "...        ...       ...       ...       ...  \n",
       "2995  0.692417  0.387052  0.334995  0.300796  \n",
       "2996  0.692417  0.387052  0.334995  0.300796  \n",
       "2997  0.692417  0.387052  0.334995  0.300796  \n",
       "2998  0.692417  0.387052  0.334995  0.300796  \n",
       "2999  0.692417  0.387052  0.334995  0.300796  \n",
       "\n",
       "[3000 rows x 10 columns]"
      ],
      "text/html": "<div>\n<style scoped>\n    .dataframe tbody tr th:only-of-type {\n        vertical-align: middle;\n    }\n\n    .dataframe tbody tr th {\n        vertical-align: top;\n    }\n\n    .dataframe thead th {\n        text-align: right;\n    }\n</style>\n<table border=\"1\" class=\"dataframe\">\n  <thead>\n    <tr style=\"text-align: right;\">\n      <th></th>\n      <th>WIP_QTY</th>\n      <th>NO_HOLD_QTY</th>\n      <th>M</th>\n      <th>U</th>\n      <th>PT</th>\n      <th>UP_TIME</th>\n      <th>EQP_UTIL</th>\n      <th>TC</th>\n      <th>CS</th>\n      <th>C_AI</th>\n    </tr>\n  </thead>\n  <tbody>\n    <tr>\n      <th>0</th>\n      <td>108.0</td>\n      <td>100.0</td>\n      <td>2.987531</td>\n      <td>0.506376</td>\n      <td>3085.053994</td>\n      <td>0.939801</td>\n      <td>0.692417</td>\n      <td>0.387052</td>\n      <td>0.334995</td>\n      <td>0.300796</td>\n    </tr>\n    <tr>\n      <th>1</th>\n      <td>108.0</td>\n      <td>101.0</td>\n      <td>2.987531</td>\n      <td>0.506376</td>\n      <td>3085.053994</td>\n      <td>0.939801</td>\n      <td>0.692417</td>\n      <td>0.387052</td>\n      <td>0.334995</td>\n      <td>0.300796</td>\n    </tr>\n    <tr>\n      <th>2</th>\n      <td>108.0</td>\n      <td>102.0</td>\n      <td>2.987531</td>\n      <td>0.506376</td>\n      <td>3085.053994</td>\n      <td>0.939801</td>\n      <td>0.692417</td>\n      <td>0.387052</td>\n      <td>0.334995</td>\n      <td>0.300796</td>\n    </tr>\n    <tr>\n      <th>3</th>\n      <td>108.0</td>\n      <td>103.0</td>\n      <td>2.987531</td>\n      <td>0.506376</td>\n      <td>3085.053994</td>\n      <td>0.939801</td>\n      <td>0.692417</td>\n      <td>0.387052</td>\n      <td>0.334995</td>\n      <td>0.300796</td>\n    </tr>\n    <tr>\n      <th>4</th>\n      <td>108.0</td>\n      <td>104.0</td>\n      <td>2.987531</td>\n      <td>0.506376</td>\n      <td>3085.053994</td>\n      <td>0.939801</td>\n      <td>0.692417</td>\n      <td>0.387052</td>\n      <td>0.334995</td>\n      <td>0.300796</td>\n    </tr>\n    <tr>\n      <th>...</th>\n      <td>...</td>\n      <td>...</td>\n      <td>...</td>\n      <td>...</td>\n      <td>...</td>\n      <td>...</td>\n      <td>...</td>\n      <td>...</td>\n      <td>...</td>\n      <td>...</td>\n    </tr>\n    <tr>\n      <th>2995</th>\n      <td>108.0</td>\n      <td>3095.0</td>\n      <td>2.987531</td>\n      <td>0.506376</td>\n      <td>3085.053994</td>\n      <td>0.939801</td>\n      <td>0.692417</td>\n      <td>0.387052</td>\n      <td>0.334995</td>\n      <td>0.300796</td>\n    </tr>\n    <tr>\n      <th>2996</th>\n      <td>108.0</td>\n      <td>3096.0</td>\n      <td>2.987531</td>\n      <td>0.506376</td>\n      <td>3085.053994</td>\n      <td>0.939801</td>\n      <td>0.692417</td>\n      <td>0.387052</td>\n      <td>0.334995</td>\n      <td>0.300796</td>\n    </tr>\n    <tr>\n      <th>2997</th>\n      <td>108.0</td>\n      <td>3097.0</td>\n      <td>2.987531</td>\n      <td>0.506376</td>\n      <td>3085.053994</td>\n      <td>0.939801</td>\n      <td>0.692417</td>\n      <td>0.387052</td>\n      <td>0.334995</td>\n      <td>0.300796</td>\n    </tr>\n    <tr>\n      <th>2998</th>\n      <td>108.0</td>\n      <td>3098.0</td>\n      <td>2.987531</td>\n      <td>0.506376</td>\n      <td>3085.053994</td>\n      <td>0.939801</td>\n      <td>0.692417</td>\n      <td>0.387052</td>\n      <td>0.334995</td>\n      <td>0.300796</td>\n    </tr>\n    <tr>\n      <th>2999</th>\n      <td>108.0</td>\n      <td>3099.0</td>\n      <td>2.987531</td>\n      <td>0.506376</td>\n      <td>3085.053994</td>\n      <td>0.939801</td>\n      <td>0.692417</td>\n      <td>0.387052</td>\n      <td>0.334995</td>\n      <td>0.300796</td>\n    </tr>\n  </tbody>\n</table>\n<p>3000 rows × 10 columns</p>\n</div>"
     },
     "metadata": {},
     "execution_count": 17
    }
   ],
   "source": [
    "df"
   ]
  },
  {
   "cell_type": "code",
   "execution_count": 18,
   "metadata": {},
   "outputs": [
    {
     "output_type": "stream",
     "name": "stderr",
     "text": [
      "ipykernel_launcher:11: MatplotlibDeprecationWarning: savefig() got unexpected keyword argument \"width\" which is no longer supported as of 3.3 and will become an error two minor releases later\nipykernel_launcher:11: MatplotlibDeprecationWarning: savefig() got unexpected keyword argument \"height\" which is no longer supported as of 3.3 and will become an error two minor releases later\n"
     ]
    },
    {
     "output_type": "display_data",
     "data": {
      "text/plain": "<Figure size 432x288 with 1 Axes>",
      "image/svg+xml": "<?xml version=\"1.0\" encoding=\"utf-8\" standalone=\"no\"?>\r\n<!DOCTYPE svg PUBLIC \"-//W3C//DTD SVG 1.1//EN\"\r\n  \"http://www.w3.org/Graphics/SVG/1.1/DTD/svg11.dtd\">\r\n<!-- Created with matplotlib (https://matplotlib.org/) -->\r\n<svg height=\"277.1025pt\" version=\"1.1\" viewBox=\"0 0 395.328125 277.1025\" width=\"395.328125pt\" xmlns=\"http://www.w3.org/2000/svg\" xmlns:xlink=\"http://www.w3.org/1999/xlink\">\r\n <metadata>\r\n  <rdf:RDF xmlns:cc=\"http://creativecommons.org/ns#\" xmlns:dc=\"http://purl.org/dc/elements/1.1/\" xmlns:rdf=\"http://www.w3.org/1999/02/22-rdf-syntax-ns#\">\r\n   <cc:Work>\r\n    <dc:type rdf:resource=\"http://purl.org/dc/dcmitype/StillImage\"/>\r\n    <dc:date>2021-03-19T19:25:48.951239</dc:date>\r\n    <dc:format>image/svg+xml</dc:format>\r\n    <dc:creator>\r\n     <cc:Agent>\r\n      <dc:title>Matplotlib v3.3.3, https://matplotlib.org/</dc:title>\r\n     </cc:Agent>\r\n    </dc:creator>\r\n   </cc:Work>\r\n  </rdf:RDF>\r\n </metadata>\r\n <defs>\r\n  <style type=\"text/css\">*{stroke-linecap:butt;stroke-linejoin:round;}</style>\r\n </defs>\r\n <g id=\"figure_1\">\r\n  <g id=\"patch_1\">\r\n   <path d=\"M 0 277.1025 \r\nL 395.328125 277.1025 \r\nL 395.328125 0 \r\nL 0 0 \r\nz\r\n\" style=\"fill:none;\"/>\r\n  </g>\r\n  <g id=\"axes_1\">\r\n   <g id=\"patch_2\">\r\n    <path d=\"M 53.328125 239.54625 \r\nL 388.128125 239.54625 \r\nL 388.128125 22.10625 \r\nL 53.328125 22.10625 \r\nz\r\n\" style=\"fill:#ffffff;\"/>\r\n   </g>\r\n   <g id=\"matplotlib.axis_1\">\r\n    <g id=\"xtick_1\">\r\n     <g id=\"line2d_1\">\r\n      <defs>\r\n       <path d=\"M 0 0 \r\nL 0 3.5 \r\n\" id=\"md194366b4b\" style=\"stroke:#000000;stroke-width:0.8;\"/>\r\n      </defs>\r\n      <g>\r\n       <use style=\"stroke:#000000;stroke-width:0.8;\" x=\"58.397469\" xlink:href=\"#md194366b4b\" y=\"239.54625\"/>\r\n      </g>\r\n     </g>\r\n     <g id=\"text_1\">\r\n      <!-- 0 -->\r\n      <g transform=\"translate(55.216219 254.144687)scale(0.1 -0.1)\">\r\n       <defs>\r\n        <path d=\"M 31.78125 66.40625 \r\nQ 24.171875 66.40625 20.328125 58.90625 \r\nQ 16.5 51.421875 16.5 36.375 \r\nQ 16.5 21.390625 20.328125 13.890625 \r\nQ 24.171875 6.390625 31.78125 6.390625 \r\nQ 39.453125 6.390625 43.28125 13.890625 \r\nQ 47.125 21.390625 47.125 36.375 \r\nQ 47.125 51.421875 43.28125 58.90625 \r\nQ 39.453125 66.40625 31.78125 66.40625 \r\nz\r\nM 31.78125 74.21875 \r\nQ 44.046875 74.21875 50.515625 64.515625 \r\nQ 56.984375 54.828125 56.984375 36.375 \r\nQ 56.984375 17.96875 50.515625 8.265625 \r\nQ 44.046875 -1.421875 31.78125 -1.421875 \r\nQ 19.53125 -1.421875 13.0625 8.265625 \r\nQ 6.59375 17.96875 6.59375 36.375 \r\nQ 6.59375 54.828125 13.0625 64.515625 \r\nQ 19.53125 74.21875 31.78125 74.21875 \r\nz\r\n\" id=\"DejaVuSans-48\"/>\r\n       </defs>\r\n       <use xlink:href=\"#DejaVuSans-48\"/>\r\n      </g>\r\n     </g>\r\n    </g>\r\n    <g id=\"xtick_2\">\r\n     <g id=\"line2d_2\">\r\n      <g>\r\n       <use style=\"stroke:#000000;stroke-width:0.8;\" x=\"109.141657\" xlink:href=\"#md194366b4b\" y=\"239.54625\"/>\r\n      </g>\r\n     </g>\r\n     <g id=\"text_2\">\r\n      <!-- 500 -->\r\n      <g transform=\"translate(99.597907 254.144687)scale(0.1 -0.1)\">\r\n       <defs>\r\n        <path d=\"M 10.796875 72.90625 \r\nL 49.515625 72.90625 \r\nL 49.515625 64.59375 \r\nL 19.828125 64.59375 \r\nL 19.828125 46.734375 \r\nQ 21.96875 47.46875 24.109375 47.828125 \r\nQ 26.265625 48.1875 28.421875 48.1875 \r\nQ 40.625 48.1875 47.75 41.5 \r\nQ 54.890625 34.8125 54.890625 23.390625 \r\nQ 54.890625 11.625 47.5625 5.09375 \r\nQ 40.234375 -1.421875 26.90625 -1.421875 \r\nQ 22.3125 -1.421875 17.546875 -0.640625 \r\nQ 12.796875 0.140625 7.71875 1.703125 \r\nL 7.71875 11.625 \r\nQ 12.109375 9.234375 16.796875 8.0625 \r\nQ 21.484375 6.890625 26.703125 6.890625 \r\nQ 35.15625 6.890625 40.078125 11.328125 \r\nQ 45.015625 15.765625 45.015625 23.390625 \r\nQ 45.015625 31 40.078125 35.4375 \r\nQ 35.15625 39.890625 26.703125 39.890625 \r\nQ 22.75 39.890625 18.8125 39.015625 \r\nQ 14.890625 38.140625 10.796875 36.28125 \r\nz\r\n\" id=\"DejaVuSans-53\"/>\r\n       </defs>\r\n       <use xlink:href=\"#DejaVuSans-53\"/>\r\n       <use x=\"63.623047\" xlink:href=\"#DejaVuSans-48\"/>\r\n       <use x=\"127.246094\" xlink:href=\"#DejaVuSans-48\"/>\r\n      </g>\r\n     </g>\r\n    </g>\r\n    <g id=\"xtick_3\">\r\n     <g id=\"line2d_3\">\r\n      <g>\r\n       <use style=\"stroke:#000000;stroke-width:0.8;\" x=\"159.885844\" xlink:href=\"#md194366b4b\" y=\"239.54625\"/>\r\n      </g>\r\n     </g>\r\n     <g id=\"text_3\">\r\n      <!-- 1000 -->\r\n      <g transform=\"translate(147.160844 254.144687)scale(0.1 -0.1)\">\r\n       <defs>\r\n        <path d=\"M 12.40625 8.296875 \r\nL 28.515625 8.296875 \r\nL 28.515625 63.921875 \r\nL 10.984375 60.40625 \r\nL 10.984375 69.390625 \r\nL 28.421875 72.90625 \r\nL 38.28125 72.90625 \r\nL 38.28125 8.296875 \r\nL 54.390625 8.296875 \r\nL 54.390625 0 \r\nL 12.40625 0 \r\nz\r\n\" id=\"DejaVuSans-49\"/>\r\n       </defs>\r\n       <use xlink:href=\"#DejaVuSans-49\"/>\r\n       <use x=\"63.623047\" xlink:href=\"#DejaVuSans-48\"/>\r\n       <use x=\"127.246094\" xlink:href=\"#DejaVuSans-48\"/>\r\n       <use x=\"190.869141\" xlink:href=\"#DejaVuSans-48\"/>\r\n      </g>\r\n     </g>\r\n    </g>\r\n    <g id=\"xtick_4\">\r\n     <g id=\"line2d_4\">\r\n      <g>\r\n       <use style=\"stroke:#000000;stroke-width:0.8;\" x=\"210.630032\" xlink:href=\"#md194366b4b\" y=\"239.54625\"/>\r\n      </g>\r\n     </g>\r\n     <g id=\"text_4\">\r\n      <!-- 1500 -->\r\n      <g transform=\"translate(197.905032 254.144687)scale(0.1 -0.1)\">\r\n       <use xlink:href=\"#DejaVuSans-49\"/>\r\n       <use x=\"63.623047\" xlink:href=\"#DejaVuSans-53\"/>\r\n       <use x=\"127.246094\" xlink:href=\"#DejaVuSans-48\"/>\r\n       <use x=\"190.869141\" xlink:href=\"#DejaVuSans-48\"/>\r\n      </g>\r\n     </g>\r\n    </g>\r\n    <g id=\"xtick_5\">\r\n     <g id=\"line2d_5\">\r\n      <g>\r\n       <use style=\"stroke:#000000;stroke-width:0.8;\" x=\"261.374219\" xlink:href=\"#md194366b4b\" y=\"239.54625\"/>\r\n      </g>\r\n     </g>\r\n     <g id=\"text_5\">\r\n      <!-- 2000 -->\r\n      <g transform=\"translate(248.649219 254.144687)scale(0.1 -0.1)\">\r\n       <defs>\r\n        <path d=\"M 19.1875 8.296875 \r\nL 53.609375 8.296875 \r\nL 53.609375 0 \r\nL 7.328125 0 \r\nL 7.328125 8.296875 \r\nQ 12.9375 14.109375 22.625 23.890625 \r\nQ 32.328125 33.6875 34.8125 36.53125 \r\nQ 39.546875 41.84375 41.421875 45.53125 \r\nQ 43.3125 49.21875 43.3125 52.78125 \r\nQ 43.3125 58.59375 39.234375 62.25 \r\nQ 35.15625 65.921875 28.609375 65.921875 \r\nQ 23.96875 65.921875 18.8125 64.3125 \r\nQ 13.671875 62.703125 7.8125 59.421875 \r\nL 7.8125 69.390625 \r\nQ 13.765625 71.78125 18.9375 73 \r\nQ 24.125 74.21875 28.421875 74.21875 \r\nQ 39.75 74.21875 46.484375 68.546875 \r\nQ 53.21875 62.890625 53.21875 53.421875 \r\nQ 53.21875 48.921875 51.53125 44.890625 \r\nQ 49.859375 40.875 45.40625 35.40625 \r\nQ 44.1875 33.984375 37.640625 27.21875 \r\nQ 31.109375 20.453125 19.1875 8.296875 \r\nz\r\n\" id=\"DejaVuSans-50\"/>\r\n       </defs>\r\n       <use xlink:href=\"#DejaVuSans-50\"/>\r\n       <use x=\"63.623047\" xlink:href=\"#DejaVuSans-48\"/>\r\n       <use x=\"127.246094\" xlink:href=\"#DejaVuSans-48\"/>\r\n       <use x=\"190.869141\" xlink:href=\"#DejaVuSans-48\"/>\r\n      </g>\r\n     </g>\r\n    </g>\r\n    <g id=\"xtick_6\">\r\n     <g id=\"line2d_6\">\r\n      <g>\r\n       <use style=\"stroke:#000000;stroke-width:0.8;\" x=\"312.118407\" xlink:href=\"#md194366b4b\" y=\"239.54625\"/>\r\n      </g>\r\n     </g>\r\n     <g id=\"text_6\">\r\n      <!-- 2500 -->\r\n      <g transform=\"translate(299.393407 254.144687)scale(0.1 -0.1)\">\r\n       <use xlink:href=\"#DejaVuSans-50\"/>\r\n       <use x=\"63.623047\" xlink:href=\"#DejaVuSans-53\"/>\r\n       <use x=\"127.246094\" xlink:href=\"#DejaVuSans-48\"/>\r\n       <use x=\"190.869141\" xlink:href=\"#DejaVuSans-48\"/>\r\n      </g>\r\n     </g>\r\n    </g>\r\n    <g id=\"xtick_7\">\r\n     <g id=\"line2d_7\">\r\n      <g>\r\n       <use style=\"stroke:#000000;stroke-width:0.8;\" x=\"362.862594\" xlink:href=\"#md194366b4b\" y=\"239.54625\"/>\r\n      </g>\r\n     </g>\r\n     <g id=\"text_7\">\r\n      <!-- 3000 -->\r\n      <g transform=\"translate(350.137594 254.144687)scale(0.1 -0.1)\">\r\n       <defs>\r\n        <path d=\"M 40.578125 39.3125 \r\nQ 47.65625 37.796875 51.625 33 \r\nQ 55.609375 28.21875 55.609375 21.1875 \r\nQ 55.609375 10.40625 48.1875 4.484375 \r\nQ 40.765625 -1.421875 27.09375 -1.421875 \r\nQ 22.515625 -1.421875 17.65625 -0.515625 \r\nQ 12.796875 0.390625 7.625 2.203125 \r\nL 7.625 11.71875 \r\nQ 11.71875 9.328125 16.59375 8.109375 \r\nQ 21.484375 6.890625 26.8125 6.890625 \r\nQ 36.078125 6.890625 40.9375 10.546875 \r\nQ 45.796875 14.203125 45.796875 21.1875 \r\nQ 45.796875 27.640625 41.28125 31.265625 \r\nQ 36.765625 34.90625 28.71875 34.90625 \r\nL 20.21875 34.90625 \r\nL 20.21875 43.015625 \r\nL 29.109375 43.015625 \r\nQ 36.375 43.015625 40.234375 45.921875 \r\nQ 44.09375 48.828125 44.09375 54.296875 \r\nQ 44.09375 59.90625 40.109375 62.90625 \r\nQ 36.140625 65.921875 28.71875 65.921875 \r\nQ 24.65625 65.921875 20.015625 65.03125 \r\nQ 15.375 64.15625 9.8125 62.3125 \r\nL 9.8125 71.09375 \r\nQ 15.4375 72.65625 20.34375 73.4375 \r\nQ 25.25 74.21875 29.59375 74.21875 \r\nQ 40.828125 74.21875 47.359375 69.109375 \r\nQ 53.90625 64.015625 53.90625 55.328125 \r\nQ 53.90625 49.265625 50.4375 45.09375 \r\nQ 46.96875 40.921875 40.578125 39.3125 \r\nz\r\n\" id=\"DejaVuSans-51\"/>\r\n       </defs>\r\n       <use xlink:href=\"#DejaVuSans-51\"/>\r\n       <use x=\"63.623047\" xlink:href=\"#DejaVuSans-48\"/>\r\n       <use x=\"127.246094\" xlink:href=\"#DejaVuSans-48\"/>\r\n       <use x=\"190.869141\" xlink:href=\"#DejaVuSans-48\"/>\r\n      </g>\r\n     </g>\r\n    </g>\r\n    <g id=\"text_8\">\r\n     <!-- WIP -->\r\n     <g transform=\"translate(211.294531 267.822812)scale(0.1 -0.1)\">\r\n      <defs>\r\n       <path d=\"M 3.328125 72.90625 \r\nL 13.28125 72.90625 \r\nL 28.609375 11.28125 \r\nL 43.890625 72.90625 \r\nL 54.984375 72.90625 \r\nL 70.3125 11.28125 \r\nL 85.59375 72.90625 \r\nL 95.609375 72.90625 \r\nL 77.296875 0 \r\nL 64.890625 0 \r\nL 49.515625 63.28125 \r\nL 33.984375 0 \r\nL 21.578125 0 \r\nz\r\n\" id=\"DejaVuSans-87\"/>\r\n       <path d=\"M 9.8125 72.90625 \r\nL 19.671875 72.90625 \r\nL 19.671875 0 \r\nL 9.8125 0 \r\nz\r\n\" id=\"DejaVuSans-73\"/>\r\n       <path d=\"M 19.671875 64.796875 \r\nL 19.671875 37.40625 \r\nL 32.078125 37.40625 \r\nQ 38.96875 37.40625 42.71875 40.96875 \r\nQ 46.484375 44.53125 46.484375 51.125 \r\nQ 46.484375 57.671875 42.71875 61.234375 \r\nQ 38.96875 64.796875 32.078125 64.796875 \r\nz\r\nM 9.8125 72.90625 \r\nL 32.078125 72.90625 \r\nQ 44.34375 72.90625 50.609375 67.359375 \r\nQ 56.890625 61.8125 56.890625 51.125 \r\nQ 56.890625 40.328125 50.609375 34.8125 \r\nQ 44.34375 29.296875 32.078125 29.296875 \r\nL 19.671875 29.296875 \r\nL 19.671875 0 \r\nL 9.8125 0 \r\nz\r\n\" id=\"DejaVuSans-80\"/>\r\n      </defs>\r\n      <use xlink:href=\"#DejaVuSans-87\"/>\r\n      <use x=\"98.876953\" xlink:href=\"#DejaVuSans-73\"/>\r\n      <use x=\"128.369141\" xlink:href=\"#DejaVuSans-80\"/>\r\n     </g>\r\n    </g>\r\n   </g>\r\n   <g id=\"matplotlib.axis_2\">\r\n    <g id=\"ytick_1\">\r\n     <g id=\"line2d_8\">\r\n      <defs>\r\n       <path d=\"M 0 0 \r\nL -3.5 0 \r\n\" id=\"m50c2c5b75f\" style=\"stroke:#000000;stroke-width:0.8;\"/>\r\n      </defs>\r\n      <g>\r\n       <use style=\"stroke:#000000;stroke-width:0.8;\" x=\"53.328125\" xlink:href=\"#m50c2c5b75f\" y=\"203.117062\"/>\r\n      </g>\r\n     </g>\r\n     <g id=\"text_9\">\r\n      <!-- 1760 -->\r\n      <g transform=\"translate(20.878125 206.916281)scale(0.1 -0.1)\">\r\n       <defs>\r\n        <path d=\"M 8.203125 72.90625 \r\nL 55.078125 72.90625 \r\nL 55.078125 68.703125 \r\nL 28.609375 0 \r\nL 18.3125 0 \r\nL 43.21875 64.59375 \r\nL 8.203125 64.59375 \r\nz\r\n\" id=\"DejaVuSans-55\"/>\r\n        <path d=\"M 33.015625 40.375 \r\nQ 26.375 40.375 22.484375 35.828125 \r\nQ 18.609375 31.296875 18.609375 23.390625 \r\nQ 18.609375 15.53125 22.484375 10.953125 \r\nQ 26.375 6.390625 33.015625 6.390625 \r\nQ 39.65625 6.390625 43.53125 10.953125 \r\nQ 47.40625 15.53125 47.40625 23.390625 \r\nQ 47.40625 31.296875 43.53125 35.828125 \r\nQ 39.65625 40.375 33.015625 40.375 \r\nz\r\nM 52.59375 71.296875 \r\nL 52.59375 62.3125 \r\nQ 48.875 64.0625 45.09375 64.984375 \r\nQ 41.3125 65.921875 37.59375 65.921875 \r\nQ 27.828125 65.921875 22.671875 59.328125 \r\nQ 17.53125 52.734375 16.796875 39.40625 \r\nQ 19.671875 43.65625 24.015625 45.921875 \r\nQ 28.375 48.1875 33.59375 48.1875 \r\nQ 44.578125 48.1875 50.953125 41.515625 \r\nQ 57.328125 34.859375 57.328125 23.390625 \r\nQ 57.328125 12.15625 50.6875 5.359375 \r\nQ 44.046875 -1.421875 33.015625 -1.421875 \r\nQ 20.359375 -1.421875 13.671875 8.265625 \r\nQ 6.984375 17.96875 6.984375 36.375 \r\nQ 6.984375 53.65625 15.1875 63.9375 \r\nQ 23.390625 74.21875 37.203125 74.21875 \r\nQ 40.921875 74.21875 44.703125 73.484375 \r\nQ 48.484375 72.75 52.59375 71.296875 \r\nz\r\n\" id=\"DejaVuSans-54\"/>\r\n       </defs>\r\n       <use xlink:href=\"#DejaVuSans-49\"/>\r\n       <use x=\"63.623047\" xlink:href=\"#DejaVuSans-55\"/>\r\n       <use x=\"127.246094\" xlink:href=\"#DejaVuSans-54\"/>\r\n       <use x=\"190.869141\" xlink:href=\"#DejaVuSans-48\"/>\r\n      </g>\r\n     </g>\r\n    </g>\r\n    <g id=\"ytick_2\">\r\n     <g id=\"line2d_9\">\r\n      <g>\r\n       <use style=\"stroke:#000000;stroke-width:0.8;\" x=\"53.328125\" xlink:href=\"#m50c2c5b75f\" y=\"155.547136\"/>\r\n      </g>\r\n     </g>\r\n     <g id=\"text_10\">\r\n      <!-- 1780 -->\r\n      <g transform=\"translate(20.878125 159.346355)scale(0.1 -0.1)\">\r\n       <defs>\r\n        <path d=\"M 31.78125 34.625 \r\nQ 24.75 34.625 20.71875 30.859375 \r\nQ 16.703125 27.09375 16.703125 20.515625 \r\nQ 16.703125 13.921875 20.71875 10.15625 \r\nQ 24.75 6.390625 31.78125 6.390625 \r\nQ 38.8125 6.390625 42.859375 10.171875 \r\nQ 46.921875 13.96875 46.921875 20.515625 \r\nQ 46.921875 27.09375 42.890625 30.859375 \r\nQ 38.875 34.625 31.78125 34.625 \r\nz\r\nM 21.921875 38.8125 \r\nQ 15.578125 40.375 12.03125 44.71875 \r\nQ 8.5 49.078125 8.5 55.328125 \r\nQ 8.5 64.0625 14.71875 69.140625 \r\nQ 20.953125 74.21875 31.78125 74.21875 \r\nQ 42.671875 74.21875 48.875 69.140625 \r\nQ 55.078125 64.0625 55.078125 55.328125 \r\nQ 55.078125 49.078125 51.53125 44.71875 \r\nQ 48 40.375 41.703125 38.8125 \r\nQ 48.828125 37.15625 52.796875 32.3125 \r\nQ 56.78125 27.484375 56.78125 20.515625 \r\nQ 56.78125 9.90625 50.3125 4.234375 \r\nQ 43.84375 -1.421875 31.78125 -1.421875 \r\nQ 19.734375 -1.421875 13.25 4.234375 \r\nQ 6.78125 9.90625 6.78125 20.515625 \r\nQ 6.78125 27.484375 10.78125 32.3125 \r\nQ 14.796875 37.15625 21.921875 38.8125 \r\nz\r\nM 18.3125 54.390625 \r\nQ 18.3125 48.734375 21.84375 45.5625 \r\nQ 25.390625 42.390625 31.78125 42.390625 \r\nQ 38.140625 42.390625 41.71875 45.5625 \r\nQ 45.3125 48.734375 45.3125 54.390625 \r\nQ 45.3125 60.0625 41.71875 63.234375 \r\nQ 38.140625 66.40625 31.78125 66.40625 \r\nQ 25.390625 66.40625 21.84375 63.234375 \r\nQ 18.3125 60.0625 18.3125 54.390625 \r\nz\r\n\" id=\"DejaVuSans-56\"/>\r\n       </defs>\r\n       <use xlink:href=\"#DejaVuSans-49\"/>\r\n       <use x=\"63.623047\" xlink:href=\"#DejaVuSans-55\"/>\r\n       <use x=\"127.246094\" xlink:href=\"#DejaVuSans-56\"/>\r\n       <use x=\"190.869141\" xlink:href=\"#DejaVuSans-48\"/>\r\n      </g>\r\n     </g>\r\n    </g>\r\n    <g id=\"ytick_3\">\r\n     <g id=\"line2d_10\">\r\n      <g>\r\n       <use style=\"stroke:#000000;stroke-width:0.8;\" x=\"53.328125\" xlink:href=\"#m50c2c5b75f\" y=\"107.97721\"/>\r\n      </g>\r\n     </g>\r\n     <g id=\"text_11\">\r\n      <!-- 1800 -->\r\n      <g transform=\"translate(20.878125 111.776429)scale(0.1 -0.1)\">\r\n       <use xlink:href=\"#DejaVuSans-49\"/>\r\n       <use x=\"63.623047\" xlink:href=\"#DejaVuSans-56\"/>\r\n       <use x=\"127.246094\" xlink:href=\"#DejaVuSans-48\"/>\r\n       <use x=\"190.869141\" xlink:href=\"#DejaVuSans-48\"/>\r\n      </g>\r\n     </g>\r\n    </g>\r\n    <g id=\"ytick_4\">\r\n     <g id=\"line2d_11\">\r\n      <g>\r\n       <use style=\"stroke:#000000;stroke-width:0.8;\" x=\"53.328125\" xlink:href=\"#m50c2c5b75f\" y=\"60.407284\"/>\r\n      </g>\r\n     </g>\r\n     <g id=\"text_12\">\r\n      <!-- 1820 -->\r\n      <g transform=\"translate(20.878125 64.206503)scale(0.1 -0.1)\">\r\n       <use xlink:href=\"#DejaVuSans-49\"/>\r\n       <use x=\"63.623047\" xlink:href=\"#DejaVuSans-56\"/>\r\n       <use x=\"127.246094\" xlink:href=\"#DejaVuSans-50\"/>\r\n       <use x=\"190.869141\" xlink:href=\"#DejaVuSans-48\"/>\r\n      </g>\r\n     </g>\r\n    </g>\r\n    <g id=\"text_13\">\r\n     <!-- MOVE -->\r\n     <g transform=\"translate(14.798438 145.568437)rotate(-90)scale(0.1 -0.1)\">\r\n      <defs>\r\n       <path d=\"M 9.8125 72.90625 \r\nL 24.515625 72.90625 \r\nL 43.109375 23.296875 \r\nL 61.8125 72.90625 \r\nL 76.515625 72.90625 \r\nL 76.515625 0 \r\nL 66.890625 0 \r\nL 66.890625 64.015625 \r\nL 48.09375 14.015625 \r\nL 38.1875 14.015625 \r\nL 19.390625 64.015625 \r\nL 19.390625 0 \r\nL 9.8125 0 \r\nz\r\n\" id=\"DejaVuSans-77\"/>\r\n       <path d=\"M 39.40625 66.21875 \r\nQ 28.65625 66.21875 22.328125 58.203125 \r\nQ 16.015625 50.203125 16.015625 36.375 \r\nQ 16.015625 22.609375 22.328125 14.59375 \r\nQ 28.65625 6.59375 39.40625 6.59375 \r\nQ 50.140625 6.59375 56.421875 14.59375 \r\nQ 62.703125 22.609375 62.703125 36.375 \r\nQ 62.703125 50.203125 56.421875 58.203125 \r\nQ 50.140625 66.21875 39.40625 66.21875 \r\nz\r\nM 39.40625 74.21875 \r\nQ 54.734375 74.21875 63.90625 63.9375 \r\nQ 73.09375 53.65625 73.09375 36.375 \r\nQ 73.09375 19.140625 63.90625 8.859375 \r\nQ 54.734375 -1.421875 39.40625 -1.421875 \r\nQ 24.03125 -1.421875 14.8125 8.828125 \r\nQ 5.609375 19.09375 5.609375 36.375 \r\nQ 5.609375 53.65625 14.8125 63.9375 \r\nQ 24.03125 74.21875 39.40625 74.21875 \r\nz\r\n\" id=\"DejaVuSans-79\"/>\r\n       <path d=\"M 28.609375 0 \r\nL 0.78125 72.90625 \r\nL 11.078125 72.90625 \r\nL 34.1875 11.53125 \r\nL 57.328125 72.90625 \r\nL 67.578125 72.90625 \r\nL 39.796875 0 \r\nz\r\n\" id=\"DejaVuSans-86\"/>\r\n       <path d=\"M 9.8125 72.90625 \r\nL 55.90625 72.90625 \r\nL 55.90625 64.59375 \r\nL 19.671875 64.59375 \r\nL 19.671875 43.015625 \r\nL 54.390625 43.015625 \r\nL 54.390625 34.71875 \r\nL 19.671875 34.71875 \r\nL 19.671875 8.296875 \r\nL 56.78125 8.296875 \r\nL 56.78125 0 \r\nL 9.8125 0 \r\nz\r\n\" id=\"DejaVuSans-69\"/>\r\n      </defs>\r\n      <use xlink:href=\"#DejaVuSans-77\"/>\r\n      <use x=\"86.279297\" xlink:href=\"#DejaVuSans-79\"/>\r\n      <use x=\"163.240234\" xlink:href=\"#DejaVuSans-86\"/>\r\n      <use x=\"231.648438\" xlink:href=\"#DejaVuSans-69\"/>\r\n     </g>\r\n    </g>\r\n   </g>\r\n   <g id=\"line2d_12\">\r\n    <path clip-path=\"url(#pc42dcc4059)\" d=\"M 68.546307 227.41303 \r\nL 68.647795 224.158566 \r\nL 68.850772 202.223093 \r\nL 70.982028 202.223093 \r\nL 71.286493 177.036641 \r\nL 71.48947 209.738352 \r\nL 73.519237 209.738352 \r\nL 73.722214 186.79045 \r\nL 75.041563 186.79045 \r\nL 75.24454 208.709664 \r\nL 75.954958 208.709664 \r\nL 76.157935 186.618857 \r\nL 77.274307 186.618857 \r\nL 77.477284 229.662614 \r\nL 78.593656 229.662614 \r\nL 78.796633 215.672108 \r\nL 86.306772 215.672108 \r\nL 86.509749 31.989886 \r\nL 372.909943 31.989886 \r\nL 372.909943 31.989886 \r\n\" style=\"fill:none;stroke:#1f77b4;stroke-linecap:square;stroke-width:1.5;\"/>\r\n   </g>\r\n   <g id=\"patch_3\">\r\n    <path d=\"M 53.328125 239.54625 \r\nL 53.328125 22.10625 \r\n\" style=\"fill:none;stroke:#000000;stroke-linecap:square;stroke-linejoin:miter;stroke-width:0.8;\"/>\r\n   </g>\r\n   <g id=\"patch_4\">\r\n    <path d=\"M 388.128125 239.54625 \r\nL 388.128125 22.10625 \r\n\" style=\"fill:none;stroke:#000000;stroke-linecap:square;stroke-linejoin:miter;stroke-width:0.8;\"/>\r\n   </g>\r\n   <g id=\"patch_5\">\r\n    <path d=\"M 53.328125 239.54625 \r\nL 388.128125 239.54625 \r\n\" style=\"fill:none;stroke:#000000;stroke-linecap:square;stroke-linejoin:miter;stroke-width:0.8;\"/>\r\n   </g>\r\n   <g id=\"patch_6\">\r\n    <path d=\"M 53.328125 22.10625 \r\nL 388.128125 22.10625 \r\n\" style=\"fill:none;stroke:#000000;stroke-linecap:square;stroke-linejoin:miter;stroke-width:0.8;\"/>\r\n   </g>\r\n   <g id=\"text_14\">\r\n    <!-- TOOLG_ID:PW_PIX -->\r\n    <g transform=\"translate(166.165625 16.10625)scale(0.12 -0.12)\">\r\n     <defs>\r\n      <path d=\"M -0.296875 72.90625 \r\nL 61.375 72.90625 \r\nL 61.375 64.59375 \r\nL 35.5 64.59375 \r\nL 35.5 0 \r\nL 25.59375 0 \r\nL 25.59375 64.59375 \r\nL -0.296875 64.59375 \r\nz\r\n\" id=\"DejaVuSans-84\"/>\r\n      <path d=\"M 9.8125 72.90625 \r\nL 19.671875 72.90625 \r\nL 19.671875 8.296875 \r\nL 55.171875 8.296875 \r\nL 55.171875 0 \r\nL 9.8125 0 \r\nz\r\n\" id=\"DejaVuSans-76\"/>\r\n      <path d=\"M 59.515625 10.40625 \r\nL 59.515625 29.984375 \r\nL 43.40625 29.984375 \r\nL 43.40625 38.09375 \r\nL 69.28125 38.09375 \r\nL 69.28125 6.78125 \r\nQ 63.578125 2.734375 56.6875 0.65625 \r\nQ 49.8125 -1.421875 42 -1.421875 \r\nQ 24.90625 -1.421875 15.25 8.5625 \r\nQ 5.609375 18.5625 5.609375 36.375 \r\nQ 5.609375 54.25 15.25 64.234375 \r\nQ 24.90625 74.21875 42 74.21875 \r\nQ 49.125 74.21875 55.546875 72.453125 \r\nQ 61.96875 70.703125 67.390625 67.28125 \r\nL 67.390625 56.78125 \r\nQ 61.921875 61.421875 55.765625 63.765625 \r\nQ 49.609375 66.109375 42.828125 66.109375 \r\nQ 29.4375 66.109375 22.71875 58.640625 \r\nQ 16.015625 51.171875 16.015625 36.375 \r\nQ 16.015625 21.625 22.71875 14.15625 \r\nQ 29.4375 6.6875 42.828125 6.6875 \r\nQ 48.046875 6.6875 52.140625 7.59375 \r\nQ 56.25 8.5 59.515625 10.40625 \r\nz\r\n\" id=\"DejaVuSans-71\"/>\r\n      <path d=\"M 50.984375 -16.609375 \r\nL 50.984375 -23.578125 \r\nL -0.984375 -23.578125 \r\nL -0.984375 -16.609375 \r\nz\r\n\" id=\"DejaVuSans-95\"/>\r\n      <path d=\"M 19.671875 64.796875 \r\nL 19.671875 8.109375 \r\nL 31.59375 8.109375 \r\nQ 46.6875 8.109375 53.6875 14.9375 \r\nQ 60.6875 21.78125 60.6875 36.53125 \r\nQ 60.6875 51.171875 53.6875 57.984375 \r\nQ 46.6875 64.796875 31.59375 64.796875 \r\nz\r\nM 9.8125 72.90625 \r\nL 30.078125 72.90625 \r\nQ 51.265625 72.90625 61.171875 64.09375 \r\nQ 71.09375 55.28125 71.09375 36.53125 \r\nQ 71.09375 17.671875 61.125 8.828125 \r\nQ 51.171875 0 30.078125 0 \r\nL 9.8125 0 \r\nz\r\n\" id=\"DejaVuSans-68\"/>\r\n      <path d=\"M 11.71875 12.40625 \r\nL 22.015625 12.40625 \r\nL 22.015625 0 \r\nL 11.71875 0 \r\nz\r\nM 11.71875 51.703125 \r\nL 22.015625 51.703125 \r\nL 22.015625 39.3125 \r\nL 11.71875 39.3125 \r\nz\r\n\" id=\"DejaVuSans-58\"/>\r\n      <path d=\"M 6.296875 72.90625 \r\nL 16.890625 72.90625 \r\nL 35.015625 45.796875 \r\nL 53.21875 72.90625 \r\nL 63.8125 72.90625 \r\nL 40.375 37.890625 \r\nL 65.375 0 \r\nL 54.78125 0 \r\nL 34.28125 31 \r\nL 13.625 0 \r\nL 2.984375 0 \r\nL 29 38.921875 \r\nz\r\n\" id=\"DejaVuSans-88\"/>\r\n     </defs>\r\n     <use xlink:href=\"#DejaVuSans-84\"/>\r\n     <use x=\"61.083984\" xlink:href=\"#DejaVuSans-79\"/>\r\n     <use x=\"139.794922\" xlink:href=\"#DejaVuSans-79\"/>\r\n     <use x=\"218.505859\" xlink:href=\"#DejaVuSans-76\"/>\r\n     <use x=\"274.21875\" xlink:href=\"#DejaVuSans-71\"/>\r\n     <use x=\"351.708984\" xlink:href=\"#DejaVuSans-95\"/>\r\n     <use x=\"401.708984\" xlink:href=\"#DejaVuSans-73\"/>\r\n     <use x=\"431.201172\" xlink:href=\"#DejaVuSans-68\"/>\r\n     <use x=\"508.203125\" xlink:href=\"#DejaVuSans-58\"/>\r\n     <use x=\"541.894531\" xlink:href=\"#DejaVuSans-80\"/>\r\n     <use x=\"602.197266\" xlink:href=\"#DejaVuSans-87\"/>\r\n     <use x=\"701.074219\" xlink:href=\"#DejaVuSans-95\"/>\r\n     <use x=\"751.074219\" xlink:href=\"#DejaVuSans-80\"/>\r\n     <use x=\"811.376953\" xlink:href=\"#DejaVuSans-73\"/>\r\n     <use x=\"840.869141\" xlink:href=\"#DejaVuSans-88\"/>\r\n    </g>\r\n   </g>\r\n  </g>\r\n </g>\r\n <defs>\r\n  <clipPath id=\"pc42dcc4059\">\r\n   <rect height=\"217.44\" width=\"334.8\" x=\"53.328125\" y=\"22.10625\"/>\r\n  </clipPath>\r\n </defs>\r\n</svg>\r\n",
      "image/png": "[encoded data removed]"
     },
     "metadata": {
      "needs_background": "light"
     }
    }
   ],
   "source": [
    "X_droppedtest = np.asarray(df)\n",
    "xgtest = xgb.DMatrix(X_droppedtest)\n",
    "y_predict = bst.predict(xgtest)\n",
    "df['predict'] = y_predict\n",
    "\n",
    "plt.plot(df['NO_HOLD_QTY'] , y_predict)\n",
    "plt.title('TOOLG_ID:'+ df_train['TOOLG_ID'].iloc[0])\n",
    "plt.xlabel(\"WIP\")\n",
    "plt.ylabel(\"MOVE\")\n",
    " \n",
    "plt.savefig('./'+df_train['TOOLG_ID'].iloc[0]+'2.pdf',width=600, height=350)#儲存檔案\n",
    "plt.show()"
   ]
  },
  {
   "cell_type": "code",
   "execution_count": null,
   "metadata": {},
   "outputs": [],
   "source": []
  }
 ]
}