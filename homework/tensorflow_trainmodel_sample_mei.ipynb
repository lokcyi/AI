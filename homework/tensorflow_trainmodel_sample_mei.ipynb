{
 "metadata": {
  "language_info": {
   "codemirror_mode": {
    "name": "ipython",
    "version": 3
   },
   "file_extension": ".py",
   "mimetype": "text/x-python",
   "name": "python",
   "nbconvert_exporter": "python",
   "pygments_lexer": "ipython3",
   "version": "3.7.9-final"
  },
  "orig_nbformat": 2,
  "kernelspec": {
   "name": "python3",
   "display_name": "Python 3",
   "language": "python"
  }
 },
 "nbformat": 4,
 "nbformat_minor": 2,
 "cells": [
  {
   "cell_type": "code",
   "execution_count": 32,
   "metadata": {},
   "outputs": [
    {
     "output_type": "stream",
     "name": "stdout",
     "text": [
      "<class 'pandas.core.frame.DataFrame'>\nRangeIndex: 1015 entries, 0 to 1014\nData columns (total 14 columns):\n #   Column            Non-Null Count  Dtype  \n---  ------            --------------  -----  \n 0   DATA_DATE         1015 non-null   object \n 1   LOT_ID            1015 non-null   object \n 2   STATUS            1015 non-null   object \n 3   CHIPNAME          1015 non-null   object \n 4   LAYER             1015 non-null   object \n 5   REMAIN_LAYER_SEQ  1005 non-null   float64\n 6   OP_NO             1015 non-null   object \n 7   REMAIN_OP_SEQ     1005 non-null   float64\n 8   PRIORITY          1015 non-null   int64  \n 9   LOT_TYPE          1015 non-null   object \n 10  WIP_QTY           1015 non-null   int64  \n 11  WS_DATE           1015 non-null   object \n 12  IS_MAIN_ROUTE     1015 non-null   int64  \n 13  ACTUAL_WP_OUT     1015 non-null   object \ndtypes: float64(2), int64(3), object(9)\nmemory usage: 111.1+ KB\nNone\n"
     ]
    }
   ],
   "source": [
    "import sweetviz\n",
    "import pandas as pd\n",
    "import numpy as np\n",
    "from datetime import datetime\n",
    "\n",
    "def get_diff_time(cols):\n",
    "    s_date = cols[0]\n",
    "    e_date = cols[1]\n",
    "    diff_time = e_date - s_date\n",
    "    # cycletime = math.ceil((diff_time.total_seconds()/3600)) \n",
    "    # cycletime = diff_time.astype('timedelta64[D]')\n",
    "    days = diff_time.days\n",
    "    seconds = diff_time.seconds\n",
    "    hours = seconds/3600\n",
    "    if hours >=12 :\n",
    "      cycletime = days + 0.5\n",
    "    else:\n",
    "      cycletime = days\n",
    "    return cycletime\n",
    "\n",
    "train_select_columns = ['DATA_DATE','LOT_ID','STATUS','CHIPNAME','LAYER','REMAIN_LAYER_SEQ',\n",
    "  'OP_NO','REMAIN_OP_SEQ','PRIORITY','LOT_TYPE','WIP_QTY','WS_DATE','IS_MAIN_ROUTE','ACTUAL_WP_OUT']\n",
    "\n",
    "#train_select_columns = ['DATA_DATE','STATUS','CHIPNAME','LAYER','IS_MAIN_ROUTE','ACTUAL_WP_OUT']\n",
    "\n",
    "\n",
    "train_raw_data = pd.read_csv('D:/projects/ai/poc/homework/training_data_20210128.csv',usecols=train_select_columns)\n",
    "test_raw_data = pd.read_csv('D:/projects/ai/poc/homework/testing_data_20210128.csv',usecols=train_select_columns)\n",
    "\n",
    "\n",
    "# train_raw_data = pd.read_csv('data/Training_data_20210128.csv' ,usecols=train_select_columns)\n",
    "# test_raw_data = pd.read_csv('data/testing_data_20210128.csv',usecols=train_select_columns)\n",
    "# train_raw_data= train_raw_data.dropna()\n",
    "# test_raw_data= test_raw_data.dropna()\n",
    "\n",
    "print(test_raw_data.info())\n",
    "\n",
    "\n"
   ]
  },
  {
   "cell_type": "code",
   "execution_count": null,
   "metadata": {},
   "outputs": [],
   "source": []
  },
  {
   "cell_type": "code",
   "execution_count": 33,
   "metadata": {},
   "outputs": [],
   "source": [
    "train_raw_data['DATA_DATE'] = pd.to_datetime(train_raw_data['DATA_DATE']) #, format='%Y%m%d')\n",
    "# df['WS_DATE']=pd.to_datetime(df['WS_DATE'])\n",
    "train_raw_data['ACTUAL_WP_OUT']=pd.to_datetime(train_raw_data['ACTUAL_WP_OUT'])\n",
    "test_raw_data['DATA_DATE'] = pd.to_datetime(test_raw_data['DATA_DATE']) #, format='%Y%m%d')\n",
    "# df['WS_DATE']=pd.to_datetime(df['WS_DATE'])\n",
    "test_raw_data['ACTUAL_WP_OUT']=pd.to_datetime(test_raw_data['ACTUAL_WP_OUT'])\n",
    "\n",
    "\n"
   ]
  },
  {
   "cell_type": "code",
   "execution_count": 34,
   "metadata": {},
   "outputs": [
    {
     "output_type": "stream",
     "name": "stdout",
     "text": [
      "<class 'pandas.core.frame.DataFrame'>\nRangeIndex: 1015 entries, 0 to 1014\nData columns (total 14 columns):\n #   Column            Non-Null Count  Dtype         \n---  ------            --------------  -----         \n 0   DATA_DATE         1015 non-null   datetime64[ns]\n 1   LOT_ID            1015 non-null   object        \n 2   STATUS            1015 non-null   object        \n 3   CHIPNAME          1015 non-null   object        \n 4   LAYER             1015 non-null   object        \n 5   REMAIN_LAYER_SEQ  1005 non-null   float64       \n 6   OP_NO             1015 non-null   object        \n 7   REMAIN_OP_SEQ     1005 non-null   float64       \n 8   PRIORITY          1015 non-null   int64         \n 9   LOT_TYPE          1015 non-null   object        \n 10  WIP_QTY           1015 non-null   int64         \n 11  WS_DATE           1015 non-null   object        \n 12  IS_MAIN_ROUTE     1015 non-null   int64         \n 13  ACTUAL_WP_OUT     1015 non-null   datetime64[ns]\ndtypes: datetime64[ns](2), float64(2), int64(3), object(7)\nmemory usage: 111.1+ KB\nNone\n"
     ]
    }
   ],
   "source": [
    "\n",
    "print(test_raw_data.info())"
   ]
  },
  {
   "cell_type": "code",
   "execution_count": 35,
   "metadata": {},
   "outputs": [],
   "source": [
    "\n",
    "train_raw_data['REMAIN_CYCLE_TIME'] = train_raw_data[['DATA_DATE','ACTUAL_WP_OUT']].apply(get_diff_time, axis=1) \n",
    "test_raw_data['REMAIN_CYCLE_TIME'] = test_raw_data[['DATA_DATE','ACTUAL_WP_OUT']].apply(get_diff_time, axis=1) \n"
   ]
  },
  {
   "cell_type": "code",
   "execution_count": 36,
   "metadata": {},
   "outputs": [
    {
     "output_type": "stream",
     "name": "stdout",
     "text": [
      "<class 'pandas.core.frame.DataFrame'>\nRangeIndex: 1015 entries, 0 to 1014\nData columns (total 15 columns):\n #   Column             Non-Null Count  Dtype         \n---  ------             --------------  -----         \n 0   DATA_DATE          1015 non-null   datetime64[ns]\n 1   LOT_ID             1015 non-null   object        \n 2   STATUS             1015 non-null   object        \n 3   CHIPNAME           1015 non-null   object        \n 4   LAYER              1015 non-null   object        \n 5   REMAIN_LAYER_SEQ   1005 non-null   float64       \n 6   OP_NO              1015 non-null   object        \n 7   REMAIN_OP_SEQ      1005 non-null   float64       \n 8   PRIORITY           1015 non-null   int64         \n 9   LOT_TYPE           1015 non-null   object        \n 10  WIP_QTY            1015 non-null   int64         \n 11  WS_DATE            1015 non-null   object        \n 12  IS_MAIN_ROUTE      1015 non-null   int64         \n 13  ACTUAL_WP_OUT      1015 non-null   datetime64[ns]\n 14  REMAIN_CYCLE_TIME  1015 non-null   float64       \ndtypes: datetime64[ns](2), float64(3), int64(3), object(7)\nmemory usage: 119.1+ KB\nNone\n"
     ]
    }
   ],
   "source": [
    "print(test_raw_data.info())"
   ]
  },
  {
   "cell_type": "code",
   "execution_count": 37,
   "metadata": {},
   "outputs": [
    {
     "output_type": "stream",
     "name": "stderr",
     "text": [
      "Feature: ACTUAL_WP_OUT                       |█████████▎| [ 93%]   10:51 -> (00:50 left)\n",
      "Done! Use 'show' commands to display/save.   |██████████| [100%]   00:01 -> (00:00 left)Report my_report.html was generated! NOTEBOOK/COLAB USERS: the web browser MAY not pop up, regardless, the report IS saved in your notebook/colab files.\n",
      "\n"
     ]
    }
   ],
   "source": [
    "\n",
    "feature_config=sweetviz.FeatureConfig(skip=['DATA_DATE','ACTUAL_WP_OUT']\n",
    "\n",
    "my_report = sweetviz.compare([train_raw_data, 'train'],[test_raw_data, 'test'],\n",
    "                                     target_feat='REMAIN_CYCLE_TIME', # 加入特徵變數\n",
    "                                     feat_cfg=feature_config) \n",
    "my_report.show_html(filepath='my_report.html')"
   ]
  },
  {
   "cell_type": "code",
   "execution_count": null,
   "metadata": {},
   "outputs": [],
   "source": []
  }
 ]
}