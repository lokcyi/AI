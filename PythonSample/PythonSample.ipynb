{
 "metadata": {
  "language_info": {
   "codemirror_mode": {
    "name": "ipython",
    "version": 3
   },
   "file_extension": ".py",
   "mimetype": "text/x-python",
   "name": "python",
   "nbconvert_exporter": "python",
   "pygments_lexer": "ipython3",
   "version": "3.7.9-final"
  },
  "orig_nbformat": 2,
  "kernelspec": {
   "name": "python3",
   "display_name": "Python 3",
   "language": "python"
  }
 },
 "nbformat": 4,
 "nbformat_minor": 2,
 "cells": [
  {
   "cell_type": "code",
   "execution_count": 53,
   "metadata": {},
   "outputs": [
    {
     "output_type": "stream",
     "name": "stdout",
     "text": [
      "0    1.0\n1    3.0\n2    5.0\n3    NaN\n4    6.0\n5    8.0\ndtype: float64\n"
     ]
    }
   ],
   "source": [
    "%matplotlib inline\n",
    "# 引入 numpy 和 pandas 模組\n",
    "import numpy as np \n",
    "import pandas as pd\n",
    "s1 = pd.Series([1, 3, 5, np.nan, 6, 8]) # 使用 Python lits 產生 Series，其中包含一個值為 NaN \n",
    "\n",
    "print(s1)"
   ]
  },
  {
   "cell_type": "code",
   "execution_count": null,
   "metadata": {},
   "outputs": [],
   "source": []
  },
  {
   "cell_type": "code",
   "execution_count": 54,
   "metadata": {},
   "outputs": [
    {
     "output_type": "stream",
     "name": "stdout",
     "text": [
      "0    0\n1    0\n2    0\ndtype: int32\n"
     ]
    }
   ],
   "source": [
    "s2 = pd.Series(np.random.randint(2, size=[3])) # 使用 np.random.randint 產生 3 個 0-2（不含 2）的數組\n",
    "\n",
    "print(s2)\n"
   ]
  },
  {
   "cell_type": "code",
   "execution_count": 55,
   "metadata": {},
   "outputs": [
    {
     "output_type": "stream",
     "name": "stdout",
     "text": [
      "                   A         B         C         D\n2017-01-01 -0.078413  0.035597 -1.046302  1.272799\n2017-01-02  1.210128  1.771736 -0.696526  0.348591\n2017-01-03 -0.137072 -0.920208  0.799501  0.577971\n2017-01-04 -0.694354  1.133332  0.729765 -0.813945\n2017-01-05 -0.835081  0.155846  0.167012 -1.538942\n2017-01-06  2.080978 -0.088744 -0.827299 -0.435734\n"
     ]
    }
   ],
   "source": [
    "#DataFrame 可以使用 np.random.randn 產生值來創建，也可以使用 Python dict 進行創建：\n",
    "# 產生 20170101-20170106 的值，DatetimeIndex(['2017-01-01', '2017-01-02', '2017-01-03', '2017-01-04', '2017-01-05', '2017-01-06'], dtype='datetime64[ns]', freq='D')\n",
    "dates = pd.date_range('20170101', periods=6)\n",
    "\n",
    "# 產生 row6,column4 個 standard normal distribution 隨機值，使用 ABCD 當 columns，使用 dates 當 index\n",
    "df0 = pd.DataFrame(np.random.randn(6,4), index=dates, columns=list('ABCD')) \n",
    "print(df0)\n"
   ]
  },
  {
   "cell_type": "code",
   "execution_count": 111,
   "metadata": {},
   "outputs": [],
   "source": [
    "def iqr(df, colname, bounds = [.25, .75]):\n",
    "    s = df[colname]\n",
    "    q = s.quantile(bounds)\n",
    "    return df[~s.clip(*q).isin(q)]\n",
    "def iqrfilter(df, colname, bounds = [.25, .75]):\n",
    "    s = df[colname]\n",
    "    Q1 = df[colname].quantile(bounds[0])\n",
    "    Q3 = df[colname].quantile(bounds[1])\n",
    "    IQR = Q3 - Q1\n",
    "    # no_outliers = df.col[(Q1 - 1.5*IQR < df.BMI) &  (df.BMI < Q3 + 1.5*IQR)]\n",
    "    # outliers = df.col[(Q1 - 1.5*IQR >= df.BMI) |  (df.BMI >= Q3 + 1.5*IQR)]\n",
    "    print(IQR,Q1,Q3,Q1 - 1.5*IQR,Q3+ 1.5 * IQR)\n",
    "    if bounds[0]==0:\n",
    "        return df[~s.clip(*[Q1,Q3+ 1.5 * IQR]).isin([Q1,Q3+ 1.5 * IQR])]\n",
    "    else:\n",
    "        return df[~s.clip(*[Q1 - 1.5*IQR,Q3+ 1.5 * IQR]).isin([Q1 - 1.5*IQR,Q3+ 1.5 * IQR])]\n",
    "\n",
    "  "
   ]
  },
  {
   "cell_type": "code",
   "execution_count": 115,
   "metadata": {},
   "outputs": [
    {
     "output_type": "execute_result",
     "data": {
      "text/plain": [
       "-1.5611920844806486"
      ]
     },
     "metadata": {},
     "execution_count": 115
    }
   ],
   "source": []
  },
  {
   "cell_type": "code",
   "execution_count": 116,
   "metadata": {},
   "outputs": [
    {
     "output_type": "stream",
     "name": "stdout",
     "text": [
      "                   A         B         C         D\n2021-01-01 -1.126971 -0.797297  0.353695  0.868088\n2021-01-02  0.752717 -0.430078  0.676648  0.182237\n2021-01-03 -0.650349 -1.445081 -0.470815 -1.037272\n2021-01-04  0.292713 -0.646447  1.594667  1.185937\n2021-01-05  1.044818 -0.339585  0.436952  1.082029\n2021-01-06  0.079101  0.958894 -1.424953 -0.129833\n2021-01-07 -1.122863 -0.316775  0.597266  1.377503\n2021-01-08 -2.146452 -0.996598  0.277965 -0.233683\n2021-01-09 -1.375917  0.345261  1.865760 -1.741279\n2021-01-10  0.986529 -0.229492  0.102960 -0.542301\ncount    10.000000\nmean     -0.326668\nstd       1.111082\nmin      -2.146452\n25%      -1.125944\n50%      -0.285624\n75%       0.637716\nmax       1.044818\nName: A, dtype: float64\n-2.146452103980418\n2.7841678541087465 -2.146452103980418 0.6377157501283284 -6.322703885143538 4.813967531291448\n"
     ]
    },
    {
     "output_type": "execute_result",
     "data": {
      "text/plain": [
       "                   A         B         C         D\n",
       "2021-01-01 -1.126971 -0.797297  0.353695  0.868088\n",
       "2021-01-02  0.752717 -0.430078  0.676648  0.182237\n",
       "2021-01-03 -0.650349 -1.445081 -0.470815 -1.037272\n",
       "2021-01-04  0.292713 -0.646447  1.594667  1.185937\n",
       "2021-01-05  1.044818 -0.339585  0.436952  1.082029\n",
       "2021-01-06  0.079101  0.958894 -1.424953 -0.129833\n",
       "2021-01-07 -1.122863 -0.316775  0.597266  1.377503\n",
       "2021-01-09 -1.375917  0.345261  1.865760 -1.741279\n",
       "2021-01-10  0.986529 -0.229492  0.102960 -0.542301"
      ],
      "text/html": "<div>\n<style scoped>\n    .dataframe tbody tr th:only-of-type {\n        vertical-align: middle;\n    }\n\n    .dataframe tbody tr th {\n        vertical-align: top;\n    }\n\n    .dataframe thead th {\n        text-align: right;\n    }\n</style>\n<table border=\"1\" class=\"dataframe\">\n  <thead>\n    <tr style=\"text-align: right;\">\n      <th></th>\n      <th>A</th>\n      <th>B</th>\n      <th>C</th>\n      <th>D</th>\n    </tr>\n  </thead>\n  <tbody>\n    <tr>\n      <th>2021-01-01</th>\n      <td>-1.126971</td>\n      <td>-0.797297</td>\n      <td>0.353695</td>\n      <td>0.868088</td>\n    </tr>\n    <tr>\n      <th>2021-01-02</th>\n      <td>0.752717</td>\n      <td>-0.430078</td>\n      <td>0.676648</td>\n      <td>0.182237</td>\n    </tr>\n    <tr>\n      <th>2021-01-03</th>\n      <td>-0.650349</td>\n      <td>-1.445081</td>\n      <td>-0.470815</td>\n      <td>-1.037272</td>\n    </tr>\n    <tr>\n      <th>2021-01-04</th>\n      <td>0.292713</td>\n      <td>-0.646447</td>\n      <td>1.594667</td>\n      <td>1.185937</td>\n    </tr>\n    <tr>\n      <th>2021-01-05</th>\n      <td>1.044818</td>\n      <td>-0.339585</td>\n      <td>0.436952</td>\n      <td>1.082029</td>\n    </tr>\n    <tr>\n      <th>2021-01-06</th>\n      <td>0.079101</td>\n      <td>0.958894</td>\n      <td>-1.424953</td>\n      <td>-0.129833</td>\n    </tr>\n    <tr>\n      <th>2021-01-07</th>\n      <td>-1.122863</td>\n      <td>-0.316775</td>\n      <td>0.597266</td>\n      <td>1.377503</td>\n    </tr>\n    <tr>\n      <th>2021-01-09</th>\n      <td>-1.375917</td>\n      <td>0.345261</td>\n      <td>1.865760</td>\n      <td>-1.741279</td>\n    </tr>\n    <tr>\n      <th>2021-01-10</th>\n      <td>0.986529</td>\n      <td>-0.229492</td>\n      <td>0.102960</td>\n      <td>-0.542301</td>\n    </tr>\n  </tbody>\n</table>\n</div>"
     },
     "metadata": {},
     "execution_count": 116
    }
   ],
   "source": [
    "dates = pd.date_range('20210101', periods=10)\n",
    "\n",
    "# 產生 row6,column4 個 standard normal distribution 隨機值，使用 ABCD 當 columns，使用 dates 當 index\n",
    "df0 = pd.DataFrame(np.random.randn(10,4), index=dates, columns=list('ABCD')) \n",
    "print(df0)\n",
    "print(df0['A'].describe())\n",
    "print(df0['A'].quantile(0))\n",
    "# df0_test =iqrfilter(df0,'A',[0.25, .75])   \n",
    "# df0_test.head(20)\n",
    "df0_test =iqrfilter(df0,'A',[0, .75])   \n",
    "df0_test.head(20)"
   ]
  },
  {
   "source": [
    "觀察資料"
   ],
   "cell_type": "markdown",
   "metadata": {}
  },
  {
   "cell_type": "code",
   "execution_count": 56,
   "metadata": {},
   "outputs": [
    {
     "output_type": "stream",
     "name": "stdout",
     "text": [
      "A           float64\nB    datetime64[ns]\nC           float32\nD             int32\nE          category\nF            object\ndtype: object\n"
     ]
    }
   ],
   "source": [
    "# 觀察資料型態、結構、內容值\n",
    "df = pd.DataFrame({ 'A' : 1.,\n",
    "                    'B' : pd.Timestamp('20170102'),\n",
    "                    'C' : pd.Series(1,index=list(range(4)),dtype='float32'),\n",
    "                    'D' : np.array([3] * 4,dtype='int32'),\n",
    "                    'E' : pd.Categorical([\"test\",\"train\",\"test\",\"train\"]),\n",
    "                    'F' : 'foo' })\n",
    "\n",
    "# 印出內容值資料型別\n",
    "print(df.dtypes)"
   ]
  },
  {
   "cell_type": "code",
   "execution_count": 57,
   "metadata": {},
   "outputs": [
    {
     "output_type": "stream",
     "name": "stdout",
     "text": [
      "(4, 6)\n"
     ]
    }
   ],
   "source": [
    "# 印出資料維度\n",
    "print(df.shape)"
   ]
  },
  {
   "cell_type": "code",
   "execution_count": 58,
   "metadata": {},
   "outputs": [
    {
     "output_type": "stream",
     "name": "stdout",
     "text": [
      "4\n"
     ]
    }
   ],
   "source": [
    "# 印出每行資料長度\n",
    "print(len(df))"
   ]
  },
  {
   "cell_type": "code",
   "execution_count": 59,
   "metadata": {},
   "outputs": [
    {
     "output_type": "stream",
     "name": "stdout",
     "text": [
      "<class 'pandas.core.frame.DataFrame'>\nInt64Index: 4 entries, 0 to 3\nData columns (total 6 columns):\n #   Column  Non-Null Count  Dtype         \n---  ------  --------------  -----         \n 0   A       4 non-null      float64       \n 1   B       4 non-null      datetime64[ns]\n 2   C       4 non-null      float32       \n 3   D       4 non-null      int32         \n 4   E       4 non-null      category      \n 5   F       4 non-null      object        \ndtypes: category(1), datetime64[ns](1), float32(1), float64(1), int32(1), object(1)\nmemory usage: 288.0+ bytes\nNone\n"
     ]
    }
   ],
   "source": [
    "# 印出 DataFrame 資料概況\n",
    "print(df.info())"
   ]
  },
  {
   "cell_type": "code",
   "execution_count": 60,
   "metadata": {},
   "outputs": [
    {
     "output_type": "stream",
     "name": "stdout",
     "text": [
      "         A    C    D\ncount  4.0  4.0  4.0\nmean   1.0  1.0  3.0\nstd    0.0  0.0  0.0\nmin    1.0  1.0  3.0\n25%    1.0  1.0  3.0\n50%    1.0  1.0  3.0\n75%    1.0  1.0  3.0\nmax    1.0  1.0  3.0\n"
     ]
    }
   ],
   "source": [
    "# 印出基本敘述統計數據\n",
    "print(df.describe())"
   ]
  },
  {
   "cell_type": "code",
   "execution_count": 61,
   "metadata": {},
   "outputs": [
    {
     "output_type": "stream",
     "name": "stdout",
     "text": [
      "     A          B    C  D      E    F\n0  1.0 2017-01-02  1.0  3   test  foo\n1  1.0 2017-01-02  1.0  3  train  foo\n     A          B    C  D      E    F\n2  1.0 2017-01-02  1.0  3   test  foo\n3  1.0 2017-01-02  1.0  3  train  foo\n"
     ]
    }
   ],
   "source": [
    "# 印出首 i 個數據\n",
    "print(df.head(2))\n",
    "# 印出尾 i 個數據\n",
    "print(df.tail(2))\n"
   ]
  },
  {
   "cell_type": "code",
   "execution_count": 62,
   "metadata": {},
   "outputs": [
    {
     "output_type": "stream",
     "name": "stdout",
     "text": [
      "Int64Index([0, 1, 2, 3], dtype='int64')\n"
     ]
    }
   ],
   "source": [
    "# 印出 index 值\n",
    "print(df.index)\n"
   ]
  },
  {
   "cell_type": "code",
   "execution_count": 63,
   "metadata": {},
   "outputs": [
    {
     "output_type": "stream",
     "name": "stdout",
     "text": [
      "Index(['A', 'B', 'C', 'D', 'E', 'F'], dtype='object')\n"
     ]
    }
   ],
   "source": [
    "# 印出 columns 值\n",
    "print(df.columns)"
   ]
  },
  {
   "cell_type": "code",
   "execution_count": 64,
   "metadata": {},
   "outputs": [
    {
     "output_type": "stream",
     "name": "stdout",
     "text": [
      "Index(['A', 'B', 'C', 'D', 'E', 'F'], dtype='object')\n"
     ]
    }
   ],
   "source": [
    "# 印出 columns 值\n",
    "print(df.columns)"
   ]
  },
  {
   "cell_type": "code",
   "execution_count": 65,
   "metadata": {},
   "outputs": [
    {
     "output_type": "stream",
     "name": "stdout",
     "text": [
      "                     0                    1                    2  \\\nA                  1.0                  1.0                  1.0   \nB  2017-01-02 00:00:00  2017-01-02 00:00:00  2017-01-02 00:00:00   \nC                  1.0                  1.0                  1.0   \nD                    3                    3                    3   \nE                 test                train                 test   \nF                  foo                  foo                  foo   \n\n                     3  \nA                  1.0  \nB  2017-01-02 00:00:00  \nC                  1.0  \nD                    3  \nE                train  \nF                  foo  \n"
     ]
    }
   ],
   "source": [
    "# 印出轉置 DataFrame\n",
    "print(df.T)"
   ]
  },
  {
   "cell_type": "code",
   "execution_count": 66,
   "metadata": {},
   "outputs": [
    {
     "output_type": "stream",
     "name": "stdout",
     "text": [
      "     A          B    C  D      E    F\n3  1.0 2017-01-02  1.0  3  train  foo\n2  1.0 2017-01-02  1.0  3   test  foo\n1  1.0 2017-01-02  1.0  3  train  foo\n0  1.0 2017-01-02  1.0  3   test  foo\n     A          B    C  D      E    F\n0  1.0 2017-01-02  1.0  3   test  foo\n2  1.0 2017-01-02  1.0  3   test  foo\n1  1.0 2017-01-02  1.0  3  train  foo\n3  1.0 2017-01-02  1.0  3  train  foo\n"
     ]
    }
   ],
   "source": [
    "# sort by the index labels。axis=0 使用 index 進行 sort，axis=1 使用 columns 進行 sort。ascending 決定是否由小到大\n",
    "print(df.sort_index(axis=0, ascending=False))\n",
    "# sort by the values of columns\n",
    "print(df.sort_values(by='E'))"
   ]
  },
  {
   "source": [
    "選取資料"
   ],
   "cell_type": "markdown",
   "metadata": {}
  },
  {
   "cell_type": "code",
   "execution_count": 67,
   "metadata": {},
   "outputs": [
    {
     "output_type": "stream",
     "name": "stdout",
     "text": [
      "     A          B    C  D      E    F\n0  1.0 2017-01-02  1.0  3   test  foo\n1  1.0 2017-01-02  1.0  3  train  foo\n2  1.0 2017-01-02  1.0  3   test  foo\n3  1.0 2017-01-02  1.0  3  train  foo\n----------\nA                    1.0\nB    2017-01-02 00:00:00\nC                    1.0\nD                      3\nE                   test\nF                    foo\nName: 0, dtype: object\n"
     ]
    }
   ],
   "source": [
    "# 選取值的方式一般建議使用 \n",
    "#   1. loc, \n",
    "#   2. iloc, \n",
    "#   3. ix\n",
    "# label-location based 行列標籤值取值，以下取出 index=1 那一欄，[列, 行]\n",
    "print(df)\n",
    "print('----------')\n",
    "print(df.loc[0])"
   ]
  },
  {
   "cell_type": "code",
   "execution_count": 68,
   "metadata": {},
   "outputs": [
    {
     "output_type": "stream",
     "name": "stdout",
     "text": [
      "     A          B    C  D      E    F\n0  1.0 2017-01-02  1.0  3   test  foo\n1  1.0 2017-01-02  1.0  3  train  foo\n2  1.0 2017-01-02  1.0  3   test  foo\n3  1.0 2017-01-02  1.0  3  train  foo\n----------\n           B\n0 2017-01-02\n1 2017-01-02\n2 2017-01-02\n"
     ]
    }
   ],
   "source": [
    "# iloc 則通過行列數字索引取值，[列，行]\n",
    "print(df)\n",
    "print('----------')\n",
    "print(df.iloc[0:3, 1:2])"
   ]
  },
  {
   "cell_type": "code",
   "execution_count": 69,
   "metadata": {},
   "outputs": [
    {
     "output_type": "stream",
     "name": "stdout",
     "text": [
      "     A          B    C  D      E    F\n0  1.0 2017-01-02  1.0  3   test  foo\n1  1.0 2017-01-02  1.0  3  train  foo\n2  1.0 2017-01-02  1.0  3   test  foo\n3  1.0 2017-01-02  1.0  3  train  foo\n----------\n     A          B    C  D      E    F\n0  1.0 2017-01-02  1.0  3   test  foo\n1  1.0 2017-01-02  1.0  3  train  foo\n2  1.0 2017-01-02  1.0  3   test  foo\n3  1.0 2017-01-02  1.0  3  train  foo\n"
     ]
    }
   ],
   "source": [
    " \n",
    "print(df)\n",
    "print('----------')\n",
    "# 布林取值，取出 A 行大於 0 的資料\n",
    "print(df[df.A > 0])"
   ]
  },
  {
   "cell_type": "code",
   "execution_count": 70,
   "metadata": {},
   "outputs": [
    {
     "output_type": "stream",
     "name": "stdout",
     "text": [
      "2017-01-02    1\n2017-01-03    2\n2017-01-04    3\n2017-01-05    4\n2017-01-06    5\n2017-01-07    6\nFreq: D, dtype: int64\n"
     ]
    }
   ],
   "source": [
    "# 產生 Series 值\n",
    "s1 = pd.Series([1,2,3,4,5,6], index=pd.date_range('20170102', periods=6))\n",
    "print(s1)"
   ]
  },
  {
   "cell_type": "code",
   "execution_count": 71,
   "metadata": {},
   "outputs": [
    {
     "output_type": "stream",
     "name": "stdout",
     "text": [
      "[5 5 5 5]\n     A          B    C  D      E    F\n0  1.0 2017-01-02  1.0  5   test  foo\n1  1.0 2017-01-02  1.0  5  train  foo\n2  1.0 2017-01-02  1.0  5   test  foo\n3  1.0 2017-01-02  1.0  5  train  foo\n"
     ]
    }
   ],
   "source": [
    "# 更新值\n",
    "print(np.array([5] * len(df)))\n",
    "df.loc[:,'D'] = np.array([5] * len(df))\n",
    "print(df)"
   ]
  },
  {
   "source": [
    "處理遺失資料"
   ],
   "cell_type": "markdown",
   "metadata": {}
  },
  {
   "cell_type": "code",
   "execution_count": 72,
   "metadata": {},
   "outputs": [
    {
     "output_type": "execute_result",
     "data": {
      "text/plain": [
       "(2, 7)"
      ]
     },
     "metadata": {},
     "execution_count": 72
    }
   ],
   "source": [
    "df2.shape"
   ]
  },
  {
   "cell_type": "code",
   "execution_count": 73,
   "metadata": {},
   "outputs": [
    {
     "output_type": "stream",
     "name": "stdout",
     "text": [
      "drop 掉 NaN 值\n             A  B  C  D  E  F  E\n2017-01-01  1  1  1  1  1  1  1\n2017-01-02  1  1  1  1  1  1  1\n補充 NaN 為 3\n             A  B  C  D  E  F  E\n2017-01-01  1  1  1  1  1  1  1\n2017-01-02  1  1  1  1  1  1  1\n2017-01-03  3  3  3  3  3  3  3\n2017-01-04  3  3  3  3  3  3  3\n              A    B    C    D    E    F    E\n2017-01-01    1    1    1    1    1    1    1\n2017-01-02    1    1    1    1    1    1    1\n2017-01-03  NaN  NaN  NaN  NaN  NaN  NaN  NaN\n2017-01-04  NaN  NaN  NaN  NaN  NaN  NaN  NaN\n回傳 NaN 布林值 \n                 A      B      C      D      E      F      E\n2017-01-01  False  False  False  False  False  False  False\n2017-01-02  False  False  False  False  False  False  False\n2017-01-03   True   True   True   True   True   True   True\n2017-01-04   True   True   True   True   True   True   True\n"
     ]
    }
   ],
   "source": [
    "# 查缺補漏\n",
    "df2 = pd.DataFrame(index=dates[0:4], columns=list(df.columns) + ['E'])\n",
    "\n",
    "df2.loc[dates[0]:dates[1], :] = 1\n",
    "\n",
    "# drop 掉 NaN 值\n",
    "print('drop 掉 NaN 值\\n',df2.dropna(how='any'))\n",
    "# 補充 NaN 為 3\n",
    "print('補充 NaN 為 3\\n',df2.fillna(value=3))\n",
    "print(df2)\n",
    "\n",
    "# 回傳 NaN 布林值 \n",
    "print('回傳 NaN 布林值 \\n',pd.isnull(df2))\n",
    "\n",
    "# inplace 為 True 為直接操作資料，不是操作 copy 副本\n",
    "df2.dropna(how='any', inplace=True)\n"
   ]
  },
  {
   "source": [
    "資料操作"
   ],
   "cell_type": "markdown",
   "metadata": {}
  },
  {
   "cell_type": "code",
   "execution_count": 74,
   "metadata": {},
   "outputs": [
    {
     "output_type": "execute_result",
     "data": {
      "text/plain": [
       "     A          B    C  D      E    F\n",
       "0  1.0 2017-01-02  1.0  5   test  foo\n",
       "1  1.0 2017-01-02  1.0  5  train  foo\n",
       "2  1.0 2017-01-02  1.0  5   test  foo\n",
       "3  1.0 2017-01-02  1.0  5  train  foo"
      ],
      "text/html": "<div>\n<style scoped>\n    .dataframe tbody tr th:only-of-type {\n        vertical-align: middle;\n    }\n\n    .dataframe tbody tr th {\n        vertical-align: top;\n    }\n\n    .dataframe thead th {\n        text-align: right;\n    }\n</style>\n<table border=\"1\" class=\"dataframe\">\n  <thead>\n    <tr style=\"text-align: right;\">\n      <th></th>\n      <th>A</th>\n      <th>B</th>\n      <th>C</th>\n      <th>D</th>\n      <th>E</th>\n      <th>F</th>\n    </tr>\n  </thead>\n  <tbody>\n    <tr>\n      <th>0</th>\n      <td>1.0</td>\n      <td>2017-01-02</td>\n      <td>1.0</td>\n      <td>5</td>\n      <td>test</td>\n      <td>foo</td>\n    </tr>\n    <tr>\n      <th>1</th>\n      <td>1.0</td>\n      <td>2017-01-02</td>\n      <td>1.0</td>\n      <td>5</td>\n      <td>train</td>\n      <td>foo</td>\n    </tr>\n    <tr>\n      <th>2</th>\n      <td>1.0</td>\n      <td>2017-01-02</td>\n      <td>1.0</td>\n      <td>5</td>\n      <td>test</td>\n      <td>foo</td>\n    </tr>\n    <tr>\n      <th>3</th>\n      <td>1.0</td>\n      <td>2017-01-02</td>\n      <td>1.0</td>\n      <td>5</td>\n      <td>train</td>\n      <td>foo</td>\n    </tr>\n  </tbody>\n</table>\n</div>"
     },
     "metadata": {},
     "execution_count": 74
    }
   ],
   "source": [
    "df "
   ]
  },
  {
   "cell_type": "code",
   "execution_count": 78,
   "metadata": {},
   "outputs": [
    {
     "output_type": "stream",
     "name": "stdout",
     "text": [
      "          0         1         2         3\n0  2.109820 -0.208755  0.577957 -0.087526\n1 -0.818899  0.207903 -0.068258  0.748858\n2  0.167755 -0.108867  0.305200 -0.105095\n3 -2.358742  1.170530  0.028391 -0.516319\n4 -0.127613  1.968803  0.148444 -0.700788\n5 -0.671720 -0.825422  1.296710  0.460706\n6  0.925710  0.330585  1.006003 -0.674781\n7  0.357170  0.917567 -0.230553  0.297486\n8 -0.069760  0.592240 -0.096924  0.495217\n9  0.055401 -0.141892 -2.143110  0.291511\n"
     ]
    }
   ],
   "source": [
    "# 串接資料\n",
    "df = pd.DataFrame(np.random.randn(10, 4))\n",
    "\n",
    "print(df)"
   ]
  },
  {
   "cell_type": "code",
   "execution_count": 81,
   "metadata": {},
   "outputs": [
    {
     "output_type": "stream",
     "name": "stdout",
     "text": [
      "[          0         1         2         3\n0  2.109820 -0.208755  0.577957 -0.087526\n1 -0.818899  0.207903 -0.068258  0.748858\n2  0.167755 -0.108867  0.305200 -0.105095,           0         1         2         3\n3 -2.358742  1.170530  0.028391 -0.516319\n4 -0.127613  1.968803  0.148444 -0.700788\n5 -0.671720 -0.825422  1.296710  0.460706\n6  0.925710  0.330585  1.006003 -0.674781,           0         1         2         3\n7  0.357170  0.917567 -0.230553  0.297486\n8 -0.069760  0.592240 -0.096924  0.495217\n9  0.055401 -0.141892 -2.143110  0.291511]\n---------------\n          0         1         2         3\n0  2.109820 -0.208755  0.577957 -0.087526\n1 -0.818899  0.207903 -0.068258  0.748858\n2  0.167755 -0.108867  0.305200 -0.105095\n3 -2.358742  1.170530  0.028391 -0.516319\n4 -0.127613  1.968803  0.148444 -0.700788\n5 -0.671720 -0.825422  1.296710  0.460706\n6  0.925710  0.330585  1.006003 -0.674781\n7  0.357170  0.917567 -0.230553  0.297486\n8 -0.069760  0.592240 -0.096924  0.495217\n9  0.055401 -0.141892 -2.143110  0.291511\n"
     ]
    }
   ],
   "source": [
    "\n",
    "pieces = [df[:3], df[3:7], df[7:]]\n",
    "print(pieces)\n",
    "print('---------------')\n",
    "print(pd.concat(pieces))"
   ]
  },
  {
   "cell_type": "code",
   "execution_count": 77,
   "metadata": {},
   "outputs": [
    {
     "output_type": "execute_result",
     "data": {
      "text/plain": [
       "0    2.743736\n",
       "1    3.720134\n",
       "2    3.922418\n",
       "3    5.398112\n",
       "dtype: float64"
      ]
     },
     "metadata": {},
     "execution_count": 77
    }
   ],
   "source": [
    "# 針對每一個值進行操作\n",
    "df.apply(lambda x: x.max() - x.min())"
   ]
  },
  {
   "cell_type": "code",
   "execution_count": 82,
   "metadata": {},
   "outputs": [
    {
     "output_type": "stream",
     "name": "stdout",
     "text": [
      "   key  lval  rval\n0  foo     1     4\n1  foo     1     5\n2  foo     2     4\n3  foo     2     5\n"
     ]
    }
   ],
   "source": [
    "# 合併資料\n",
    "left = pd.DataFrame({'key': ['foo', 'foo'], 'lval': [1, 2]})\n",
    "right = pd.DataFrame({'key': ['foo', 'foo'], 'rval': [4, 5]})\n",
    "\n",
    "print(pd.merge(left, right, on='key'))"
   ]
  },
  {
   "source": [
    "#新增資料"
   ],
   "cell_type": "markdown",
   "metadata": {}
  },
  {
   "cell_type": "code",
   "execution_count": 83,
   "metadata": {},
   "outputs": [
    {
     "output_type": "stream",
     "name": "stdout",
     "text": [
      "          A         B         C         D\n0  0.216756  1.972481  0.890232 -0.793600\n1 -0.927521  0.561487  0.220607  0.683453\n2  0.068011  1.516239  0.116570 -0.428335\n3  1.125374 -0.004607  1.743232 -0.041050\n4  0.112310 -1.368096 -0.306318 -0.803689\n5  2.463907  0.087962  0.597603  1.371971\n6  0.003451  1.259377  0.722004  0.028018\n7  1.237242 -0.533133  0.974503 -1.261970\n          A         B         C         D\n0  0.216756  1.972481  0.890232 -0.793600\n1 -0.927521  0.561487  0.220607  0.683453\n2  0.068011  1.516239  0.116570 -0.428335\n3  1.125374 -0.004607  1.743232 -0.041050\n4  0.112310 -1.368096 -0.306318 -0.803689\n5  2.463907  0.087962  0.597603  1.371971\n6  0.003451  1.259377  0.722004  0.028018\n7  1.237242 -0.533133  0.974503 -1.261970\n8  1.125374 -0.004607  1.743232 -0.041050\n"
     ]
    }
   ],
   "source": [
    "# 新增資料於最後\n",
    "df = pd.DataFrame(np.random.randn(8, 4), columns=['A','B','C','D'])\n",
    "print(df)\n",
    "s = df.iloc[3]\n",
    "print(df.append(s, ignore_index=True))"
   ]
  },
  {
   "source": [
    "群組操作"
   ],
   "cell_type": "markdown",
   "metadata": {}
  },
  {
   "cell_type": "code",
   "execution_count": 84,
   "metadata": {},
   "outputs": [
    {
     "output_type": "stream",
     "name": "stdout",
     "text": [
      "                            C         D\nA         B                            \n-0.927521  0.561487  0.220607  0.683453\n 0.003451  1.259377  0.722004  0.028018\n 0.068011  1.516239  0.116570 -0.428335\n 0.112310 -1.368096 -0.306318 -0.803689\n 0.216756  1.972481  0.890232 -0.793600\n 1.125374 -0.004607  1.743232 -0.041050\n 1.237242 -0.533133  0.974503 -1.261970\n 2.463907  0.087962  0.597603  1.371971\n"
     ]
    }
   ],
   "source": [
    "# 群組操作\n",
    "print(df.groupby(['A','B']).sum())\n"
   ]
  },
  {
   "source": [
    "繪圖"
   ],
   "cell_type": "markdown",
   "metadata": {}
  },
  {
   "cell_type": "code",
   "execution_count": 85,
   "metadata": {},
   "outputs": [
    {
     "output_type": "execute_result",
     "data": {
      "text/plain": [
       "<AxesSubplot:>"
      ]
     },
     "metadata": {},
     "execution_count": 85
    },
    {
     "output_type": "display_data",
     "data": {
      "text/plain": "<Figure size 432x288 with 1 Axes>",
      "image/svg+xml": "<?xml version=\"1.0\" encoding=\"utf-8\" standalone=\"no\"?>\r\n<!DOCTYPE svg PUBLIC \"-//W3C//DTD SVG 1.1//EN\"\r\n  \"http://www.w3.org/Graphics/SVG/1.1/DTD/svg11.dtd\">\r\n<!-- Created with matplotlib (https://matplotlib.org/) -->\r\n<svg height=\"259.715937pt\" version=\"1.1\" viewBox=\"0 0 368.925 259.715937\" width=\"368.925pt\" xmlns=\"http://www.w3.org/2000/svg\" xmlns:xlink=\"http://www.w3.org/1999/xlink\">\r\n <metadata>\r\n  <rdf:RDF xmlns:cc=\"http://creativecommons.org/ns#\" xmlns:dc=\"http://purl.org/dc/elements/1.1/\" xmlns:rdf=\"http://www.w3.org/1999/02/22-rdf-syntax-ns#\">\r\n   <cc:Work>\r\n    <dc:type rdf:resource=\"http://purl.org/dc/dcmitype/StillImage\"/>\r\n    <dc:date>2021-02-09T10:37:04.947183</dc:date>\r\n    <dc:format>image/svg+xml</dc:format>\r\n    <dc:creator>\r\n     <cc:Agent>\r\n      <dc:title>Matplotlib v3.3.3, https://matplotlib.org/</dc:title>\r\n     </cc:Agent>\r\n    </dc:creator>\r\n   </cc:Work>\r\n  </rdf:RDF>\r\n </metadata>\r\n <defs>\r\n  <style type=\"text/css\">*{stroke-linecap:butt;stroke-linejoin:round;}</style>\r\n </defs>\r\n <g id=\"figure_1\">\r\n  <g id=\"patch_1\">\r\n   <path d=\"M -0 259.715937 \r\nL 368.925 259.715937 \r\nL 368.925 0 \r\nL -0 0 \r\nz\r\n\" style=\"fill:none;\"/>\r\n  </g>\r\n  <g id=\"axes_1\">\r\n   <g id=\"patch_2\">\r\n    <path d=\"M 26.925 224.64 \r\nL 361.725 224.64 \r\nL 361.725 7.2 \r\nL 26.925 7.2 \r\nz\r\n\" style=\"fill:#ffffff;\"/>\r\n   </g>\r\n   <g id=\"matplotlib.axis_1\">\r\n    <g id=\"xtick_1\">\r\n     <g id=\"line2d_1\">\r\n      <defs>\r\n       <path d=\"M 0 0 \r\nL 0 3.5 \r\n\" id=\"m4a473cf31a\" style=\"stroke:#000000;stroke-width:0.8;\"/>\r\n      </defs>\r\n      <g>\r\n       <use style=\"stroke:#000000;stroke-width:0.8;\" x=\"26.925\" xlink:href=\"#m4a473cf31a\" y=\"224.64\"/>\r\n      </g>\r\n     </g>\r\n     <g id=\"text_1\">\r\n      <!-- Jan -->\r\n      <g transform=\"translate(19.217188 239.238438)scale(0.1 -0.1)\">\r\n       <defs>\r\n        <path d=\"M 9.8125 72.90625 \r\nL 19.671875 72.90625 \r\nL 19.671875 5.078125 \r\nQ 19.671875 -8.109375 14.671875 -14.0625 \r\nQ 9.671875 -20.015625 -1.421875 -20.015625 \r\nL -5.171875 -20.015625 \r\nL -5.171875 -11.71875 \r\nL -2.09375 -11.71875 \r\nQ 4.4375 -11.71875 7.125 -8.046875 \r\nQ 9.8125 -4.390625 9.8125 5.078125 \r\nz\r\n\" id=\"DejaVuSans-74\"/>\r\n        <path d=\"M 34.28125 27.484375 \r\nQ 23.390625 27.484375 19.1875 25 \r\nQ 14.984375 22.515625 14.984375 16.5 \r\nQ 14.984375 11.71875 18.140625 8.90625 \r\nQ 21.296875 6.109375 26.703125 6.109375 \r\nQ 34.1875 6.109375 38.703125 11.40625 \r\nQ 43.21875 16.703125 43.21875 25.484375 \r\nL 43.21875 27.484375 \r\nz\r\nM 52.203125 31.203125 \r\nL 52.203125 0 \r\nL 43.21875 0 \r\nL 43.21875 8.296875 \r\nQ 40.140625 3.328125 35.546875 0.953125 \r\nQ 30.953125 -1.421875 24.3125 -1.421875 \r\nQ 15.921875 -1.421875 10.953125 3.296875 \r\nQ 6 8.015625 6 15.921875 \r\nQ 6 25.140625 12.171875 29.828125 \r\nQ 18.359375 34.515625 30.609375 34.515625 \r\nL 43.21875 34.515625 \r\nL 43.21875 35.40625 \r\nQ 43.21875 41.609375 39.140625 45 \r\nQ 35.0625 48.390625 27.6875 48.390625 \r\nQ 23 48.390625 18.546875 47.265625 \r\nQ 14.109375 46.140625 10.015625 43.890625 \r\nL 10.015625 52.203125 \r\nQ 14.9375 54.109375 19.578125 55.046875 \r\nQ 24.21875 56 28.609375 56 \r\nQ 40.484375 56 46.34375 49.84375 \r\nQ 52.203125 43.703125 52.203125 31.203125 \r\nz\r\n\" id=\"DejaVuSans-97\"/>\r\n        <path d=\"M 54.890625 33.015625 \r\nL 54.890625 0 \r\nL 45.90625 0 \r\nL 45.90625 32.71875 \r\nQ 45.90625 40.484375 42.875 44.328125 \r\nQ 39.84375 48.1875 33.796875 48.1875 \r\nQ 26.515625 48.1875 22.3125 43.546875 \r\nQ 18.109375 38.921875 18.109375 30.90625 \r\nL 18.109375 0 \r\nL 9.078125 0 \r\nL 9.078125 54.6875 \r\nL 18.109375 54.6875 \r\nL 18.109375 46.1875 \r\nQ 21.34375 51.125 25.703125 53.5625 \r\nQ 30.078125 56 35.796875 56 \r\nQ 45.21875 56 50.046875 50.171875 \r\nQ 54.890625 44.34375 54.890625 33.015625 \r\nz\r\n\" id=\"DejaVuSans-110\"/>\r\n       </defs>\r\n       <use xlink:href=\"#DejaVuSans-74\"/>\r\n       <use x=\"29.492188\" xlink:href=\"#DejaVuSans-97\"/>\r\n       <use x=\"90.771484\" xlink:href=\"#DejaVuSans-110\"/>\r\n      </g>\r\n      <!-- 2000 -->\r\n      <g transform=\"translate(14.2 250.43625)scale(0.1 -0.1)\">\r\n       <defs>\r\n        <path d=\"M 19.1875 8.296875 \r\nL 53.609375 8.296875 \r\nL 53.609375 0 \r\nL 7.328125 0 \r\nL 7.328125 8.296875 \r\nQ 12.9375 14.109375 22.625 23.890625 \r\nQ 32.328125 33.6875 34.8125 36.53125 \r\nQ 39.546875 41.84375 41.421875 45.53125 \r\nQ 43.3125 49.21875 43.3125 52.78125 \r\nQ 43.3125 58.59375 39.234375 62.25 \r\nQ 35.15625 65.921875 28.609375 65.921875 \r\nQ 23.96875 65.921875 18.8125 64.3125 \r\nQ 13.671875 62.703125 7.8125 59.421875 \r\nL 7.8125 69.390625 \r\nQ 13.765625 71.78125 18.9375 73 \r\nQ 24.125 74.21875 28.421875 74.21875 \r\nQ 39.75 74.21875 46.484375 68.546875 \r\nQ 53.21875 62.890625 53.21875 53.421875 \r\nQ 53.21875 48.921875 51.53125 44.890625 \r\nQ 49.859375 40.875 45.40625 35.40625 \r\nQ 44.1875 33.984375 37.640625 27.21875 \r\nQ 31.109375 20.453125 19.1875 8.296875 \r\nz\r\n\" id=\"DejaVuSans-50\"/>\r\n        <path d=\"M 31.78125 66.40625 \r\nQ 24.171875 66.40625 20.328125 58.90625 \r\nQ 16.5 51.421875 16.5 36.375 \r\nQ 16.5 21.390625 20.328125 13.890625 \r\nQ 24.171875 6.390625 31.78125 6.390625 \r\nQ 39.453125 6.390625 43.28125 13.890625 \r\nQ 47.125 21.390625 47.125 36.375 \r\nQ 47.125 51.421875 43.28125 58.90625 \r\nQ 39.453125 66.40625 31.78125 66.40625 \r\nz\r\nM 31.78125 74.21875 \r\nQ 44.046875 74.21875 50.515625 64.515625 \r\nQ 56.984375 54.828125 56.984375 36.375 \r\nQ 56.984375 17.96875 50.515625 8.265625 \r\nQ 44.046875 -1.421875 31.78125 -1.421875 \r\nQ 19.53125 -1.421875 13.0625 8.265625 \r\nQ 6.59375 17.96875 6.59375 36.375 \r\nQ 6.59375 54.828125 13.0625 64.515625 \r\nQ 19.53125 74.21875 31.78125 74.21875 \r\nz\r\n\" id=\"DejaVuSans-48\"/>\r\n       </defs>\r\n       <use xlink:href=\"#DejaVuSans-50\"/>\r\n       <use x=\"63.623047\" xlink:href=\"#DejaVuSans-48\"/>\r\n       <use x=\"127.246094\" xlink:href=\"#DejaVuSans-48\"/>\r\n       <use x=\"190.869141\" xlink:href=\"#DejaVuSans-48\"/>\r\n      </g>\r\n     </g>\r\n    </g>\r\n    <g id=\"xtick_2\">\r\n     <g id=\"line2d_2\">\r\n      <g>\r\n       <use style=\"stroke:#000000;stroke-width:0.8;\" x=\"149.584459\" xlink:href=\"#m4a473cf31a\" y=\"224.64\"/>\r\n      </g>\r\n     </g>\r\n     <g id=\"text_2\">\r\n      <!-- Jan -->\r\n      <g transform=\"translate(141.876647 239.238438)scale(0.1 -0.1)\">\r\n       <use xlink:href=\"#DejaVuSans-74\"/>\r\n       <use x=\"29.492188\" xlink:href=\"#DejaVuSans-97\"/>\r\n       <use x=\"90.771484\" xlink:href=\"#DejaVuSans-110\"/>\r\n      </g>\r\n      <!-- 2001 -->\r\n      <g transform=\"translate(136.859459 250.43625)scale(0.1 -0.1)\">\r\n       <defs>\r\n        <path d=\"M 12.40625 8.296875 \r\nL 28.515625 8.296875 \r\nL 28.515625 63.921875 \r\nL 10.984375 60.40625 \r\nL 10.984375 69.390625 \r\nL 28.421875 72.90625 \r\nL 38.28125 72.90625 \r\nL 38.28125 8.296875 \r\nL 54.390625 8.296875 \r\nL 54.390625 0 \r\nL 12.40625 0 \r\nz\r\n\" id=\"DejaVuSans-49\"/>\r\n       </defs>\r\n       <use xlink:href=\"#DejaVuSans-50\"/>\r\n       <use x=\"63.623047\" xlink:href=\"#DejaVuSans-48\"/>\r\n       <use x=\"127.246094\" xlink:href=\"#DejaVuSans-48\"/>\r\n       <use x=\"190.869141\" xlink:href=\"#DejaVuSans-49\"/>\r\n      </g>\r\n     </g>\r\n    </g>\r\n    <g id=\"xtick_3\">\r\n     <g id=\"line2d_3\">\r\n      <g>\r\n       <use style=\"stroke:#000000;stroke-width:0.8;\" x=\"271.908784\" xlink:href=\"#m4a473cf31a\" y=\"224.64\"/>\r\n      </g>\r\n     </g>\r\n     <g id=\"text_3\">\r\n      <!-- Jan -->\r\n      <g transform=\"translate(264.200971 239.238438)scale(0.1 -0.1)\">\r\n       <use xlink:href=\"#DejaVuSans-74\"/>\r\n       <use x=\"29.492188\" xlink:href=\"#DejaVuSans-97\"/>\r\n       <use x=\"90.771484\" xlink:href=\"#DejaVuSans-110\"/>\r\n      </g>\r\n      <!-- 2002 -->\r\n      <g transform=\"translate(259.183784 250.43625)scale(0.1 -0.1)\">\r\n       <use xlink:href=\"#DejaVuSans-50\"/>\r\n       <use x=\"63.623047\" xlink:href=\"#DejaVuSans-48\"/>\r\n       <use x=\"127.246094\" xlink:href=\"#DejaVuSans-48\"/>\r\n       <use x=\"190.869141\" xlink:href=\"#DejaVuSans-50\"/>\r\n      </g>\r\n     </g>\r\n    </g>\r\n    <g id=\"xtick_4\">\r\n     <g id=\"line2d_4\">\r\n      <g>\r\n       <use style=\"stroke:#000000;stroke-width:0.8;\" x=\"361.725\" xlink:href=\"#m4a473cf31a\" y=\"224.64\"/>\r\n      </g>\r\n     </g>\r\n    </g>\r\n    <g id=\"xtick_5\">\r\n     <g id=\"line2d_5\">\r\n      <defs>\r\n       <path d=\"M 0 0 \r\nL 0 2 \r\n\" id=\"m7d0da09862\" style=\"stroke:#000000;stroke-width:0.6;\"/>\r\n      </defs>\r\n      <g>\r\n       <use style=\"stroke:#000000;stroke-width:0.6;\" x=\"37.314189\" xlink:href=\"#m7d0da09862\" y=\"224.64\"/>\r\n      </g>\r\n     </g>\r\n    </g>\r\n    <g id=\"xtick_6\">\r\n     <g id=\"line2d_6\">\r\n      <g>\r\n       <use style=\"stroke:#000000;stroke-width:0.6;\" x=\"47.033108\" xlink:href=\"#m7d0da09862\" y=\"224.64\"/>\r\n      </g>\r\n     </g>\r\n    </g>\r\n    <g id=\"xtick_7\">\r\n     <g id=\"line2d_7\">\r\n      <g>\r\n       <use style=\"stroke:#000000;stroke-width:0.6;\" x=\"57.422297\" xlink:href=\"#m7d0da09862\" y=\"224.64\"/>\r\n      </g>\r\n     </g>\r\n    </g>\r\n    <g id=\"xtick_8\">\r\n     <g id=\"line2d_8\">\r\n      <g>\r\n       <use style=\"stroke:#000000;stroke-width:0.6;\" x=\"67.476351\" xlink:href=\"#m7d0da09862\" y=\"224.64\"/>\r\n      </g>\r\n     </g>\r\n    </g>\r\n    <g id=\"xtick_9\">\r\n     <g id=\"line2d_9\">\r\n      <g>\r\n       <use style=\"stroke:#000000;stroke-width:0.6;\" x=\"77.865541\" xlink:href=\"#m7d0da09862\" y=\"224.64\"/>\r\n      </g>\r\n     </g>\r\n    </g>\r\n    <g id=\"xtick_10\">\r\n     <g id=\"line2d_10\">\r\n      <g>\r\n       <use style=\"stroke:#000000;stroke-width:0.6;\" x=\"87.919595\" xlink:href=\"#m7d0da09862\" y=\"224.64\"/>\r\n      </g>\r\n     </g>\r\n     <g id=\"text_4\">\r\n      <!-- Jul -->\r\n      <g transform=\"translate(81.886782 237.638438)scale(0.1 -0.1)\">\r\n       <defs>\r\n        <path d=\"M 8.5 21.578125 \r\nL 8.5 54.6875 \r\nL 17.484375 54.6875 \r\nL 17.484375 21.921875 \r\nQ 17.484375 14.15625 20.5 10.265625 \r\nQ 23.53125 6.390625 29.59375 6.390625 \r\nQ 36.859375 6.390625 41.078125 11.03125 \r\nQ 45.3125 15.671875 45.3125 23.6875 \r\nL 45.3125 54.6875 \r\nL 54.296875 54.6875 \r\nL 54.296875 0 \r\nL 45.3125 0 \r\nL 45.3125 8.40625 \r\nQ 42.046875 3.421875 37.71875 1 \r\nQ 33.40625 -1.421875 27.6875 -1.421875 \r\nQ 18.265625 -1.421875 13.375 4.4375 \r\nQ 8.5 10.296875 8.5 21.578125 \r\nz\r\nM 31.109375 56 \r\nz\r\n\" id=\"DejaVuSans-117\"/>\r\n        <path d=\"M 9.421875 75.984375 \r\nL 18.40625 75.984375 \r\nL 18.40625 0 \r\nL 9.421875 0 \r\nz\r\n\" id=\"DejaVuSans-108\"/>\r\n       </defs>\r\n       <use xlink:href=\"#DejaVuSans-74\"/>\r\n       <use x=\"29.492188\" xlink:href=\"#DejaVuSans-117\"/>\r\n       <use x=\"92.871094\" xlink:href=\"#DejaVuSans-108\"/>\r\n      </g>\r\n     </g>\r\n    </g>\r\n    <g id=\"xtick_11\">\r\n     <g id=\"line2d_11\">\r\n      <g>\r\n       <use style=\"stroke:#000000;stroke-width:0.6;\" x=\"98.308784\" xlink:href=\"#m7d0da09862\" y=\"224.64\"/>\r\n      </g>\r\n     </g>\r\n    </g>\r\n    <g id=\"xtick_12\">\r\n     <g id=\"line2d_12\">\r\n      <g>\r\n       <use style=\"stroke:#000000;stroke-width:0.6;\" x=\"108.697973\" xlink:href=\"#m7d0da09862\" y=\"224.64\"/>\r\n      </g>\r\n     </g>\r\n    </g>\r\n    <g id=\"xtick_13\">\r\n     <g id=\"line2d_13\">\r\n      <g>\r\n       <use style=\"stroke:#000000;stroke-width:0.6;\" x=\"118.752027\" xlink:href=\"#m7d0da09862\" y=\"224.64\"/>\r\n      </g>\r\n     </g>\r\n    </g>\r\n    <g id=\"xtick_14\">\r\n     <g id=\"line2d_14\">\r\n      <g>\r\n       <use style=\"stroke:#000000;stroke-width:0.6;\" x=\"129.141216\" xlink:href=\"#m7d0da09862\" y=\"224.64\"/>\r\n      </g>\r\n     </g>\r\n    </g>\r\n    <g id=\"xtick_15\">\r\n     <g id=\"line2d_15\">\r\n      <g>\r\n       <use style=\"stroke:#000000;stroke-width:0.6;\" x=\"139.19527\" xlink:href=\"#m7d0da09862\" y=\"224.64\"/>\r\n      </g>\r\n     </g>\r\n    </g>\r\n    <g id=\"xtick_16\">\r\n     <g id=\"line2d_16\">\r\n      <g>\r\n       <use style=\"stroke:#000000;stroke-width:0.6;\" x=\"159.973649\" xlink:href=\"#m7d0da09862\" y=\"224.64\"/>\r\n      </g>\r\n     </g>\r\n    </g>\r\n    <g id=\"xtick_17\">\r\n     <g id=\"line2d_17\">\r\n      <g>\r\n       <use style=\"stroke:#000000;stroke-width:0.6;\" x=\"169.357432\" xlink:href=\"#m7d0da09862\" y=\"224.64\"/>\r\n      </g>\r\n     </g>\r\n    </g>\r\n    <g id=\"xtick_18\">\r\n     <g id=\"line2d_18\">\r\n      <g>\r\n       <use style=\"stroke:#000000;stroke-width:0.6;\" x=\"179.746622\" xlink:href=\"#m7d0da09862\" y=\"224.64\"/>\r\n      </g>\r\n     </g>\r\n    </g>\r\n    <g id=\"xtick_19\">\r\n     <g id=\"line2d_19\">\r\n      <g>\r\n       <use style=\"stroke:#000000;stroke-width:0.6;\" x=\"189.800676\" xlink:href=\"#m7d0da09862\" y=\"224.64\"/>\r\n      </g>\r\n     </g>\r\n    </g>\r\n    <g id=\"xtick_20\">\r\n     <g id=\"line2d_20\">\r\n      <g>\r\n       <use style=\"stroke:#000000;stroke-width:0.6;\" x=\"200.189865\" xlink:href=\"#m7d0da09862\" y=\"224.64\"/>\r\n      </g>\r\n     </g>\r\n    </g>\r\n    <g id=\"xtick_21\">\r\n     <g id=\"line2d_21\">\r\n      <g>\r\n       <use style=\"stroke:#000000;stroke-width:0.6;\" x=\"210.243919\" xlink:href=\"#m7d0da09862\" y=\"224.64\"/>\r\n      </g>\r\n     </g>\r\n     <g id=\"text_5\">\r\n      <!-- Jul -->\r\n      <g transform=\"translate(204.211106 237.638438)scale(0.1 -0.1)\">\r\n       <use xlink:href=\"#DejaVuSans-74\"/>\r\n       <use x=\"29.492188\" xlink:href=\"#DejaVuSans-117\"/>\r\n       <use x=\"92.871094\" xlink:href=\"#DejaVuSans-108\"/>\r\n      </g>\r\n     </g>\r\n    </g>\r\n    <g id=\"xtick_22\">\r\n     <g id=\"line2d_22\">\r\n      <g>\r\n       <use style=\"stroke:#000000;stroke-width:0.6;\" x=\"220.633108\" xlink:href=\"#m7d0da09862\" y=\"224.64\"/>\r\n      </g>\r\n     </g>\r\n    </g>\r\n    <g id=\"xtick_23\">\r\n     <g id=\"line2d_23\">\r\n      <g>\r\n       <use style=\"stroke:#000000;stroke-width:0.6;\" x=\"231.022297\" xlink:href=\"#m7d0da09862\" y=\"224.64\"/>\r\n      </g>\r\n     </g>\r\n    </g>\r\n    <g id=\"xtick_24\">\r\n     <g id=\"line2d_24\">\r\n      <g>\r\n       <use style=\"stroke:#000000;stroke-width:0.6;\" x=\"241.076351\" xlink:href=\"#m7d0da09862\" y=\"224.64\"/>\r\n      </g>\r\n     </g>\r\n    </g>\r\n    <g id=\"xtick_25\">\r\n     <g id=\"line2d_25\">\r\n      <g>\r\n       <use style=\"stroke:#000000;stroke-width:0.6;\" x=\"251.465541\" xlink:href=\"#m7d0da09862\" y=\"224.64\"/>\r\n      </g>\r\n     </g>\r\n    </g>\r\n    <g id=\"xtick_26\">\r\n     <g id=\"line2d_26\">\r\n      <g>\r\n       <use style=\"stroke:#000000;stroke-width:0.6;\" x=\"261.519595\" xlink:href=\"#m7d0da09862\" y=\"224.64\"/>\r\n      </g>\r\n     </g>\r\n    </g>\r\n    <g id=\"xtick_27\">\r\n     <g id=\"line2d_27\">\r\n      <g>\r\n       <use style=\"stroke:#000000;stroke-width:0.6;\" x=\"282.297973\" xlink:href=\"#m7d0da09862\" y=\"224.64\"/>\r\n      </g>\r\n     </g>\r\n    </g>\r\n    <g id=\"xtick_28\">\r\n     <g id=\"line2d_28\">\r\n      <g>\r\n       <use style=\"stroke:#000000;stroke-width:0.6;\" x=\"291.681757\" xlink:href=\"#m7d0da09862\" y=\"224.64\"/>\r\n      </g>\r\n     </g>\r\n    </g>\r\n    <g id=\"xtick_29\">\r\n     <g id=\"line2d_29\">\r\n      <g>\r\n       <use style=\"stroke:#000000;stroke-width:0.6;\" x=\"302.070946\" xlink:href=\"#m7d0da09862\" y=\"224.64\"/>\r\n      </g>\r\n     </g>\r\n    </g>\r\n    <g id=\"xtick_30\">\r\n     <g id=\"line2d_30\">\r\n      <g>\r\n       <use style=\"stroke:#000000;stroke-width:0.6;\" x=\"312.125\" xlink:href=\"#m7d0da09862\" y=\"224.64\"/>\r\n      </g>\r\n     </g>\r\n    </g>\r\n    <g id=\"xtick_31\">\r\n     <g id=\"line2d_31\">\r\n      <g>\r\n       <use style=\"stroke:#000000;stroke-width:0.6;\" x=\"322.514189\" xlink:href=\"#m7d0da09862\" y=\"224.64\"/>\r\n      </g>\r\n     </g>\r\n    </g>\r\n    <g id=\"xtick_32\">\r\n     <g id=\"line2d_32\">\r\n      <g>\r\n       <use style=\"stroke:#000000;stroke-width:0.6;\" x=\"332.568243\" xlink:href=\"#m7d0da09862\" y=\"224.64\"/>\r\n      </g>\r\n     </g>\r\n     <g id=\"text_6\">\r\n      <!-- Jul -->\r\n      <g transform=\"translate(326.535431 237.638438)scale(0.1 -0.1)\">\r\n       <use xlink:href=\"#DejaVuSans-74\"/>\r\n       <use x=\"29.492188\" xlink:href=\"#DejaVuSans-117\"/>\r\n       <use x=\"92.871094\" xlink:href=\"#DejaVuSans-108\"/>\r\n      </g>\r\n     </g>\r\n    </g>\r\n    <g id=\"xtick_33\">\r\n     <g id=\"line2d_33\">\r\n      <g>\r\n       <use style=\"stroke:#000000;stroke-width:0.6;\" x=\"342.957432\" xlink:href=\"#m7d0da09862\" y=\"224.64\"/>\r\n      </g>\r\n     </g>\r\n    </g>\r\n    <g id=\"xtick_34\">\r\n     <g id=\"line2d_34\">\r\n      <g>\r\n       <use style=\"stroke:#000000;stroke-width:0.6;\" x=\"353.346622\" xlink:href=\"#m7d0da09862\" y=\"224.64\"/>\r\n      </g>\r\n     </g>\r\n    </g>\r\n   </g>\r\n   <g id=\"matplotlib.axis_2\">\r\n    <g id=\"ytick_1\">\r\n     <g id=\"line2d_35\">\r\n      <defs>\r\n       <path d=\"M 0 0 \r\nL -3.5 0 \r\n\" id=\"m303851271a\" style=\"stroke:#000000;stroke-width:0.8;\"/>\r\n      </defs>\r\n      <g>\r\n       <use style=\"stroke:#000000;stroke-width:0.8;\" x=\"26.925\" xlink:href=\"#m303851271a\" y=\"207.101354\"/>\r\n      </g>\r\n     </g>\r\n     <g id=\"text_7\">\r\n      <!-- 0 -->\r\n      <g transform=\"translate(13.5625 210.900573)scale(0.1 -0.1)\">\r\n       <use xlink:href=\"#DejaVuSans-48\"/>\r\n      </g>\r\n     </g>\r\n    </g>\r\n    <g id=\"ytick_2\">\r\n     <g id=\"line2d_36\">\r\n      <g>\r\n       <use style=\"stroke:#000000;stroke-width:0.8;\" x=\"26.925\" xlink:href=\"#m303851271a\" y=\"172.068857\"/>\r\n      </g>\r\n     </g>\r\n     <g id=\"text_8\">\r\n      <!-- 10 -->\r\n      <g transform=\"translate(7.2 175.868076)scale(0.1 -0.1)\">\r\n       <use xlink:href=\"#DejaVuSans-49\"/>\r\n       <use x=\"63.623047\" xlink:href=\"#DejaVuSans-48\"/>\r\n      </g>\r\n     </g>\r\n    </g>\r\n    <g id=\"ytick_3\">\r\n     <g id=\"line2d_37\">\r\n      <g>\r\n       <use style=\"stroke:#000000;stroke-width:0.8;\" x=\"26.925\" xlink:href=\"#m303851271a\" y=\"137.036359\"/>\r\n      </g>\r\n     </g>\r\n     <g id=\"text_9\">\r\n      <!-- 20 -->\r\n      <g transform=\"translate(7.2 140.835578)scale(0.1 -0.1)\">\r\n       <use xlink:href=\"#DejaVuSans-50\"/>\r\n       <use x=\"63.623047\" xlink:href=\"#DejaVuSans-48\"/>\r\n      </g>\r\n     </g>\r\n    </g>\r\n    <g id=\"ytick_4\">\r\n     <g id=\"line2d_38\">\r\n      <g>\r\n       <use style=\"stroke:#000000;stroke-width:0.8;\" x=\"26.925\" xlink:href=\"#m303851271a\" y=\"102.003862\"/>\r\n      </g>\r\n     </g>\r\n     <g id=\"text_10\">\r\n      <!-- 30 -->\r\n      <g transform=\"translate(7.2 105.803081)scale(0.1 -0.1)\">\r\n       <defs>\r\n        <path d=\"M 40.578125 39.3125 \r\nQ 47.65625 37.796875 51.625 33 \r\nQ 55.609375 28.21875 55.609375 21.1875 \r\nQ 55.609375 10.40625 48.1875 4.484375 \r\nQ 40.765625 -1.421875 27.09375 -1.421875 \r\nQ 22.515625 -1.421875 17.65625 -0.515625 \r\nQ 12.796875 0.390625 7.625 2.203125 \r\nL 7.625 11.71875 \r\nQ 11.71875 9.328125 16.59375 8.109375 \r\nQ 21.484375 6.890625 26.8125 6.890625 \r\nQ 36.078125 6.890625 40.9375 10.546875 \r\nQ 45.796875 14.203125 45.796875 21.1875 \r\nQ 45.796875 27.640625 41.28125 31.265625 \r\nQ 36.765625 34.90625 28.71875 34.90625 \r\nL 20.21875 34.90625 \r\nL 20.21875 43.015625 \r\nL 29.109375 43.015625 \r\nQ 36.375 43.015625 40.234375 45.921875 \r\nQ 44.09375 48.828125 44.09375 54.296875 \r\nQ 44.09375 59.90625 40.109375 62.90625 \r\nQ 36.140625 65.921875 28.71875 65.921875 \r\nQ 24.65625 65.921875 20.015625 65.03125 \r\nQ 15.375 64.15625 9.8125 62.3125 \r\nL 9.8125 71.09375 \r\nQ 15.4375 72.65625 20.34375 73.4375 \r\nQ 25.25 74.21875 29.59375 74.21875 \r\nQ 40.828125 74.21875 47.359375 69.109375 \r\nQ 53.90625 64.015625 53.90625 55.328125 \r\nQ 53.90625 49.265625 50.4375 45.09375 \r\nQ 46.96875 40.921875 40.578125 39.3125 \r\nz\r\n\" id=\"DejaVuSans-51\"/>\r\n       </defs>\r\n       <use xlink:href=\"#DejaVuSans-51\"/>\r\n       <use x=\"63.623047\" xlink:href=\"#DejaVuSans-48\"/>\r\n      </g>\r\n     </g>\r\n    </g>\r\n    <g id=\"ytick_5\">\r\n     <g id=\"line2d_39\">\r\n      <g>\r\n       <use style=\"stroke:#000000;stroke-width:0.8;\" x=\"26.925\" xlink:href=\"#m303851271a\" y=\"66.971364\"/>\r\n      </g>\r\n     </g>\r\n     <g id=\"text_11\">\r\n      <!-- 40 -->\r\n      <g transform=\"translate(7.2 70.770583)scale(0.1 -0.1)\">\r\n       <defs>\r\n        <path d=\"M 37.796875 64.3125 \r\nL 12.890625 25.390625 \r\nL 37.796875 25.390625 \r\nz\r\nM 35.203125 72.90625 \r\nL 47.609375 72.90625 \r\nL 47.609375 25.390625 \r\nL 58.015625 25.390625 \r\nL 58.015625 17.1875 \r\nL 47.609375 17.1875 \r\nL 47.609375 0 \r\nL 37.796875 0 \r\nL 37.796875 17.1875 \r\nL 4.890625 17.1875 \r\nL 4.890625 26.703125 \r\nz\r\n\" id=\"DejaVuSans-52\"/>\r\n       </defs>\r\n       <use xlink:href=\"#DejaVuSans-52\"/>\r\n       <use x=\"63.623047\" xlink:href=\"#DejaVuSans-48\"/>\r\n      </g>\r\n     </g>\r\n    </g>\r\n    <g id=\"ytick_6\">\r\n     <g id=\"line2d_40\">\r\n      <g>\r\n       <use style=\"stroke:#000000;stroke-width:0.8;\" x=\"26.925\" xlink:href=\"#m303851271a\" y=\"31.938867\"/>\r\n      </g>\r\n     </g>\r\n     <g id=\"text_12\">\r\n      <!-- 50 -->\r\n      <g transform=\"translate(7.2 35.738086)scale(0.1 -0.1)\">\r\n       <defs>\r\n        <path d=\"M 10.796875 72.90625 \r\nL 49.515625 72.90625 \r\nL 49.515625 64.59375 \r\nL 19.828125 64.59375 \r\nL 19.828125 46.734375 \r\nQ 21.96875 47.46875 24.109375 47.828125 \r\nQ 26.265625 48.1875 28.421875 48.1875 \r\nQ 40.625 48.1875 47.75 41.5 \r\nQ 54.890625 34.8125 54.890625 23.390625 \r\nQ 54.890625 11.625 47.5625 5.09375 \r\nQ 40.234375 -1.421875 26.90625 -1.421875 \r\nQ 22.3125 -1.421875 17.546875 -0.640625 \r\nQ 12.796875 0.140625 7.71875 1.703125 \r\nL 7.71875 11.625 \r\nQ 12.109375 9.234375 16.796875 8.0625 \r\nQ 21.484375 6.890625 26.703125 6.890625 \r\nQ 35.15625 6.890625 40.078125 11.328125 \r\nQ 45.015625 15.765625 45.015625 23.390625 \r\nQ 45.015625 31 40.078125 35.4375 \r\nQ 35.15625 39.890625 26.703125 39.890625 \r\nQ 22.75 39.890625 18.8125 39.015625 \r\nQ 14.890625 38.140625 10.796875 36.28125 \r\nz\r\n\" id=\"DejaVuSans-53\"/>\r\n       </defs>\r\n       <use xlink:href=\"#DejaVuSans-53\"/>\r\n       <use x=\"63.623047\" xlink:href=\"#DejaVuSans-48\"/>\r\n      </g>\r\n     </g>\r\n    </g>\r\n   </g>\r\n   <g id=\"line2d_41\">\r\n    <path clip-path=\"url(#p48bfc19efc)\" d=\"M 26.925 209.171808 \r\nL 27.260135 206.253954 \r\nL 27.59527 205.289383 \r\nL 27.930405 200.605474 \r\nL 28.265541 199.454871 \r\nL 28.600676 205.121982 \r\nL 28.935811 202.042898 \r\nL 29.270946 204.642485 \r\nL 29.606081 197.792368 \r\nL 29.941216 203.26775 \r\nL 30.276351 202.140969 \r\nL 30.946622 196.328988 \r\nL 31.281757 196.126057 \r\nL 31.616892 195.483934 \r\nL 31.952027 190.199389 \r\nL 32.287162 200.476125 \r\nL 32.622297 200.715646 \r\nL 32.957432 199.985388 \r\nL 33.292568 198.873105 \r\nL 33.627703 201.83449 \r\nL 33.962838 200.057422 \r\nL 34.297973 192.824181 \r\nL 34.633108 196.250886 \r\nL 34.968243 192.919557 \r\nL 35.303378 186.766443 \r\nL 35.973649 192.177142 \r\nL 36.308784 188.139776 \r\nL 36.643919 191.53406 \r\nL 36.979054 192.274004 \r\nL 37.314189 195.476027 \r\nL 37.649324 192.795979 \r\nL 38.319595 185.003422 \r\nL 38.65473 188.971554 \r\nL 38.989865 195.041063 \r\nL 39.325 192.504463 \r\nL 39.660135 191.727528 \r\nL 39.99527 190.408598 \r\nL 40.330405 190.258302 \r\nL 40.665541 186.583542 \r\nL 41.000676 190.538281 \r\nL 41.335811 192.173592 \r\nL 41.670946 192.12075 \r\nL 42.006081 191.752228 \r\nL 42.676351 184.068092 \r\nL 43.011486 186.959433 \r\nL 43.346622 184.053707 \r\nL 44.016892 181.72814 \r\nL 44.352027 181.861123 \r\nL 44.687162 188.073431 \r\nL 45.022297 189.910247 \r\nL 45.357432 193.915282 \r\nL 45.692568 192.327397 \r\nL 46.027703 193.025147 \r\nL 46.362838 199.470644 \r\nL 46.697973 200.956137 \r\nL 47.033108 199.642415 \r\nL 47.703378 193.364044 \r\nL 48.038514 196.150795 \r\nL 48.373649 202.194629 \r\nL 48.708784 199.521479 \r\nL 49.043919 203.232671 \r\nL 49.379054 201.511529 \r\nL 49.714189 201.476645 \r\nL 50.049324 201.700893 \r\nL 50.384459 203.606067 \r\nL 50.719595 198.474916 \r\nL 51.05473 199.352658 \r\nL 51.389865 204.160018 \r\nL 51.725 210.635303 \r\nL 52.39527 204.899501 \r\nL 52.730405 206.600815 \r\nL 53.065541 204.734546 \r\nL 53.400676 209.999174 \r\nL 53.735811 211.568967 \r\nL 54.070946 213.725154 \r\nL 54.406081 209.776762 \r\nL 54.741216 207.351532 \r\nL 55.076351 208.656076 \r\nL 55.411486 208.473472 \r\nL 55.746622 206.072396 \r\nL 56.081757 204.891465 \r\nL 56.416892 201.857893 \r\nL 56.752027 202.995792 \r\nL 57.087162 204.952631 \r\nL 57.422297 204.34482 \r\nL 57.757432 205.557907 \r\nL 58.092568 204.118414 \r\nL 58.762838 206.803998 \r\nL 59.097973 214.756364 \r\nL 59.433108 213.349988 \r\nL 59.768243 209.084823 \r\nL 60.103378 203.11715 \r\nL 60.438514 203.712842 \r\nL 60.773649 199.910837 \r\nL 61.108784 197.485639 \r\nL 61.443919 196.119052 \r\nL 61.779054 193.214531 \r\nL 62.114189 199.334217 \r\nL 62.449324 200.341185 \r\nL 62.784459 197.135381 \r\nL 63.119595 190.534986 \r\nL 63.45473 191.761101 \r\nL 63.789865 189.675216 \r\nL 64.125 193.179366 \r\nL 64.460135 189.064476 \r\nL 64.79527 188.166502 \r\nL 65.130405 194.851777 \r\nL 65.465541 196.549963 \r\nL 66.135811 206.715755 \r\nL 66.470946 206.124192 \r\nL 66.806081 206.164545 \r\nL 67.141216 204.830916 \r\nL 67.476351 202.525883 \r\nL 68.146622 205.744518 \r\nL 68.481757 205.789566 \r\nL 69.152027 196.590018 \r\nL 69.822297 196.155097 \r\nL 70.492568 199.592823 \r\nL 70.827703 198.58204 \r\nL 71.162838 198.282981 \r\nL 71.497973 195.240177 \r\nL 71.833108 197.767033 \r\nL 72.168243 202.542879 \r\nL 72.503378 203.98599 \r\nL 73.508784 201.360999 \r\nL 74.179054 194.906431 \r\nL 74.849324 191.986439 \r\nL 75.184459 191.29675 \r\nL 75.519595 186.33732 \r\nL 75.85473 184.37067 \r\nL 76.189865 184.353217 \r\nL 76.525 191.166322 \r\nL 76.860135 194.173178 \r\nL 77.19527 192.31268 \r\nL 77.530405 195.879698 \r\nL 78.200676 200.021399 \r\nL 78.535811 197.852331 \r\nL 78.870946 201.794984 \r\nL 79.541216 190.952283 \r\nL 79.876351 195.76102 \r\nL 80.211486 192.90461 \r\nL 80.546622 191.805645 \r\nL 80.881757 191.424074 \r\nL 81.216892 193.070682 \r\nL 81.552027 191.849002 \r\nL 81.887162 187.168801 \r\nL 82.557432 182.316973 \r\nL 82.892568 185.641375 \r\nL 83.227703 180.341425 \r\nL 83.562838 177.621152 \r\nL 83.897973 172.247375 \r\nL 84.903378 179.866384 \r\nL 85.238514 178.013712 \r\nL 85.573649 175.321358 \r\nL 85.908784 171.374715 \r\nL 86.243919 171.629053 \r\nL 86.579054 167.938409 \r\nL 86.914189 173.193204 \r\nL 88.25473 161.779336 \r\nL 88.589865 160.379581 \r\nL 88.925 162.241186 \r\nL 89.260135 157.552357 \r\nL 89.59527 155.191296 \r\nL 89.930405 155.32687 \r\nL 90.265541 156.891692 \r\nL 90.600676 154.298045 \r\nL 90.935811 149.306269 \r\nL 91.270946 149.309685 \r\nL 91.606081 149.863932 \r\nL 91.941216 152.398852 \r\nL 92.276351 151.958881 \r\nL 92.611486 151.921208 \r\nL 92.946622 150.860771 \r\nL 93.281757 156.603732 \r\nL 93.616892 152.48312 \r\nL 93.952027 154.255525 \r\nL 94.622297 152.234645 \r\nL 94.957432 149.913788 \r\nL 95.292568 149.988198 \r\nL 95.627703 146.020625 \r\nL 95.962838 143.448689 \r\nL 96.297973 147.99883 \r\nL 96.633108 145.749683 \r\nL 96.968243 147.386399 \r\nL 97.303378 145.821411 \r\nL 97.638514 139.057103 \r\nL 98.308784 146.109929 \r\nL 98.643919 140.693151 \r\nL 98.979054 141.676395 \r\nL 99.314189 138.249743 \r\nL 99.649324 140.593261 \r\nL 99.984459 144.580068 \r\nL 100.989865 149.236663 \r\nL 101.325 144.451821 \r\nL 101.660135 141.384402 \r\nL 101.99527 136.853331 \r\nL 102.330405 136.833887 \r\nL 103.000676 131.36743 \r\nL 103.335811 136.631341 \r\nL 103.670946 138.188242 \r\nL 104.006081 141.201731 \r\nL 104.676351 135.450702 \r\nL 105.011486 129.067355 \r\nL 105.346622 131.078561 \r\nL 105.681757 126.163719 \r\nL 106.016892 131.01503 \r\nL 106.352027 126.774617 \r\nL 106.687162 130.438542 \r\nL 107.022297 127.67322 \r\nL 107.692568 131.123283 \r\nL 108.027703 135.090045 \r\nL 108.362838 133.990151 \r\nL 108.697973 129.084412 \r\nL 109.368243 126.729643 \r\nL 109.703378 123.456047 \r\nL 110.373649 129.995397 \r\nL 110.708784 125.583794 \r\nL 111.043919 122.799089 \r\nL 111.379054 122.44022 \r\nL 111.714189 116.409085 \r\nL 112.049324 120.264219 \r\nL 112.384459 117.026013 \r\nL 112.719595 112.040528 \r\nL 113.05473 109.640681 \r\nL 113.389865 106.298627 \r\nL 113.725 107.349584 \r\nL 114.060135 110.055686 \r\nL 114.39527 111.168588 \r\nL 114.730405 115.247089 \r\nL 115.400676 127.387943 \r\nL 115.735811 127.679591 \r\nL 116.070946 126.401131 \r\nL 116.406081 123.679845 \r\nL 117.411486 108.486457 \r\nL 118.081757 107.68449 \r\nL 118.416892 109.352301 \r\nL 119.087162 101.32383 \r\nL 119.422297 101.340376 \r\nL 119.757432 101.63493 \r\nL 120.092568 99.807369 \r\nL 120.427703 99.238532 \r\nL 120.762838 101.226253 \r\nL 121.097973 104.904115 \r\nL 121.433108 106.93825 \r\nL 121.768243 102.239195 \r\nL 122.103378 104.26081 \r\nL 122.773649 90.869035 \r\nL 123.108784 92.49531 \r\nL 123.443919 89.870173 \r\nL 123.779054 85.743485 \r\nL 124.114189 88.076356 \r\nL 124.449324 86.629358 \r\nL 124.784459 86.945617 \r\nL 125.119595 85.756442 \r\nL 125.45473 86.060888 \r\nL 125.789865 83.49506 \r\nL 126.125 80.014808 \r\nL 126.460135 79.529076 \r\nL 126.79527 75.978368 \r\nL 127.130405 75.11998 \r\nL 127.465541 77.817435 \r\nL 127.800676 75.90209 \r\nL 128.135811 82.445612 \r\nL 128.470946 78.278846 \r\nL 128.806081 76.750345 \r\nL 129.141216 80.711016 \r\nL 129.476351 79.447612 \r\nL 129.811486 77.110458 \r\nL 130.146622 82.879786 \r\nL 130.816892 84.21772 \r\nL 131.487162 98.237298 \r\nL 131.822297 98.758702 \r\nL 132.492568 91.683527 \r\nL 132.827703 93.583778 \r\nL 133.162838 96.727971 \r\nL 133.497973 93.598496 \r\nL 133.833108 94.784572 \r\nL 134.168243 100.915086 \r\nL 134.503378 97.512336 \r\nL 134.838514 95.493887 \r\nL 135.173649 90.074208 \r\nL 135.508784 89.933554 \r\nL 135.843919 83.31626 \r\nL 136.179054 84.286616 \r\nL 136.514189 87.467623 \r\nL 136.849324 88.490836 \r\nL 137.184459 94.571185 \r\nL 137.519595 91.565523 \r\nL 137.85473 86.113059 \r\nL 138.189865 85.154303 \r\nL 138.525 83.242994 \r\nL 138.860135 88.190767 \r\nL 139.19527 86.66734 \r\nL 139.530405 86.470026 \r\nL 139.865541 86.784559 \r\nL 140.200676 87.360636 \r\nL 140.535811 86.915121 \r\nL 140.870946 90.932625 \r\nL 141.206081 88.682196 \r\nL 141.541216 93.382912 \r\nL 141.876351 93.647777 \r\nL 142.211486 99.142761 \r\nL 142.546622 99.569653 \r\nL 143.216892 100.71705 \r\nL 143.552027 95.001948 \r\nL 144.222297 111.843856 \r\nL 144.557432 104.549277 \r\nL 144.892568 103.083949 \r\nL 145.227703 98.11497 \r\nL 146.233108 91.334565 \r\nL 146.568243 84.955961 \r\nL 146.903378 83.975688 \r\nL 147.238514 84.793056 \r\nL 147.573649 84.125955 \r\nL 147.908784 92.141544 \r\nL 148.243919 84.705741 \r\nL 148.579054 89.033233 \r\nL 148.914189 88.163983 \r\nL 149.249324 90.845993 \r\nL 149.584459 88.192974 \r\nL 149.919595 87.349971 \r\nL 150.25473 89.916027 \r\nL 150.589865 96.779321 \r\nL 150.925 99.408841 \r\nL 151.260135 100.035672 \r\nL 151.59527 98.157539 \r\nL 151.930405 95.507038 \r\nL 152.265541 99.136899 \r\nL 152.600676 105.281016 \r\nL 152.935811 104.563968 \r\nL 153.270946 104.339325 \r\nL 153.606081 107.569504 \r\nL 153.941216 105.97472 \r\nL 154.276351 105.295034 \r\nL 154.611486 105.055978 \r\nL 154.946622 108.606794 \r\nL 155.281757 114.565969 \r\nL 155.616892 116.460994 \r\nL 155.952027 108.674099 \r\nL 156.287162 117.544884 \r\nL 156.622297 120.226161 \r\nL 156.957432 126.628559 \r\nL 157.292568 129.772627 \r\nL 157.627703 127.550125 \r\nL 158.297973 120.92422 \r\nL 158.633108 125.720277 \r\nL 158.968243 127.969698 \r\nL 159.303378 125.740263 \r\nL 159.638514 124.539016 \r\nL 159.973649 132.058596 \r\nL 160.308784 133.256428 \r\nL 160.643919 131.564065 \r\nL 160.979054 134.347741 \r\nL 161.314189 130.304597 \r\nL 161.649324 128.969919 \r\nL 161.984459 134.324765 \r\nL 162.319595 134.54672 \r\nL 162.65473 135.555664 \r\nL 162.989865 141.550805 \r\nL 163.325 141.539791 \r\nL 163.660135 133.019541 \r\nL 163.99527 131.147582 \r\nL 164.330405 134.095994 \r\nL 164.665541 132.670434 \r\nL 165.000676 133.362492 \r\nL 165.335811 129.284114 \r\nL 165.670946 121.984463 \r\nL 166.006081 124.082891 \r\nL 166.341216 127.089174 \r\nL 166.676351 127.435411 \r\nL 167.011486 131.889286 \r\nL 167.346622 125.894768 \r\nL 167.681757 132.264808 \r\nL 168.016892 135.502577 \r\nL 168.352027 136.603074 \r\nL 168.687162 140.943716 \r\nL 169.357432 137.56744 \r\nL 169.692568 141.556628 \r\nL 170.027703 143.092895 \r\nL 170.362838 150.637428 \r\nL 170.697973 150.352983 \r\nL 171.033108 148.113216 \r\nL 171.368243 147.241944 \r\nL 172.038514 154.102306 \r\nL 172.373649 153.847348 \r\nL 172.708784 152.014569 \r\nL 173.043919 145.490013 \r\nL 173.379054 154.194358 \r\nL 173.714189 155.500005 \r\nL 174.049324 154.435535 \r\nL 174.719595 156.908837 \r\nL 175.05473 159.86934 \r\nL 175.389865 155.179477 \r\nL 175.725 155.306981 \r\nL 176.060135 153.984082 \r\nL 176.39527 154.822446 \r\nL 176.730405 157.086056 \r\nL 177.065541 154.503907 \r\nL 177.400676 155.847097 \r\nL 177.735811 150.534167 \r\nL 178.070946 153.713738 \r\nL 178.406081 152.351122 \r\nL 178.741216 155.320927 \r\nL 179.076351 155.868831 \r\nL 179.411486 158.024521 \r\nL 179.746622 158.565382 \r\nL 180.081757 162.349745 \r\nL 180.416892 161.093904 \r\nL 180.752027 170.712564 \r\nL 181.087162 171.583364 \r\nL 181.422297 169.189548 \r\nL 181.757432 172.449529 \r\nL 182.092568 168.265477 \r\nL 182.762838 169.176076 \r\nL 183.097973 167.85843 \r\nL 183.433108 169.180563 \r\nL 183.768243 161.435575 \r\nL 184.103378 157.377344 \r\nL 184.438514 160.132461 \r\nL 184.773649 164.065695 \r\nL 186.114189 143.23813 \r\nL 186.449324 143.985086 \r\nL 186.784459 147.63575 \r\nL 187.119595 147.515392 \r\nL 187.45473 146.334703 \r\nL 187.789865 154.937948 \r\nL 188.125 150.203587 \r\nL 188.460135 152.515087 \r\nL 188.79527 153.048853 \r\nL 189.130405 151.294176 \r\nL 189.465541 156.268598 \r\nL 189.800676 155.564604 \r\nL 190.135811 154.240597 \r\nL 190.470946 149.779111 \r\nL 190.806081 147.676871 \r\nL 191.141216 152.184632 \r\nL 191.811486 153.911146 \r\nL 192.146622 148.145991 \r\nL 192.816892 150.944594 \r\nL 193.152027 154.841222 \r\nL 193.487162 153.783671 \r\nL 193.822297 156.51996 \r\nL 194.157432 161.271377 \r\nL 194.492568 160.39736 \r\nL 194.827703 158.305312 \r\nL 195.162838 162.398598 \r\nL 195.497973 156.605339 \r\nL 195.833108 155.629781 \r\nL 196.168243 155.106248 \r\nL 196.503378 151.911467 \r\nL 196.838514 141.117866 \r\nL 197.173649 140.14939 \r\nL 197.508784 141.890599 \r\nL 198.179054 139.348943 \r\nL 198.514189 134.888918 \r\nL 198.849324 132.635151 \r\nL 199.519595 135.874691 \r\nL 199.85473 135.96152 \r\nL 200.189865 139.454871 \r\nL 200.525 140.171868 \r\nL 200.860135 139.974796 \r\nL 201.19527 138.923684 \r\nL 201.530405 134.090596 \r\nL 201.865541 138.249301 \r\nL 202.200676 137.995403 \r\nL 202.535811 139.934329 \r\nL 202.870946 135.478676 \r\nL 203.206081 133.871736 \r\nL 203.541216 135.448562 \r\nL 203.876351 137.560181 \r\nL 204.211486 148.01985 \r\nL 204.881757 150.700102 \r\nL 205.216892 148.249155 \r\nL 205.552027 148.286632 \r\nL 205.887162 148.997666 \r\nL 206.222297 148.976749 \r\nL 206.557432 139.71075 \r\nL 206.892568 136.072526 \r\nL 207.227703 135.989332 \r\nL 207.562838 136.168605 \r\nL 208.233108 146.642464 \r\nL 208.568243 143.457574 \r\nL 208.903378 147.101595 \r\nL 209.238514 144.991035 \r\nL 209.573649 146.221656 \r\nL 209.908784 144.248548 \r\nL 210.243919 135.546599 \r\nL 210.579054 131.224808 \r\nL 210.914189 131.977249 \r\nL 211.249324 134.907579 \r\nL 211.919595 127.344801 \r\nL 212.25473 129.471141 \r\nL 212.589865 130.166426 \r\nL 212.925 128.5753 \r\nL 213.260135 131.47179 \r\nL 213.59527 131.388929 \r\nL 213.930405 132.17055 \r\nL 214.265541 136.335537 \r\nL 214.600676 134.137145 \r\nL 214.935811 130.681538 \r\nL 215.606081 117.903394 \r\nL 215.941216 114.228677 \r\nL 216.276351 116.063921 \r\nL 216.611486 121.138601 \r\nL 216.946622 121.335559 \r\nL 217.616892 109.4023 \r\nL 217.952027 107.014298 \r\nL 218.287162 109.911963 \r\nL 218.622297 107.97192 \r\nL 218.957432 107.695349 \r\nL 219.292568 107.257469 \r\nL 219.627703 101.988074 \r\nL 219.962838 100.086584 \r\nL 220.297973 101.041944 \r\nL 220.633108 97.887971 \r\nL 220.968243 88.303459 \r\nL 221.638514 92.345976 \r\nL 221.973649 95.998156 \r\nL 222.308784 89.759604 \r\nL 222.643919 90.319693 \r\nL 223.314189 86.245833 \r\nL 223.649324 84.816974 \r\nL 223.984459 74.424902 \r\nL 224.319595 72.298392 \r\nL 224.65473 73.378292 \r\nL 224.989865 75.837517 \r\nL 225.325 73.458922 \r\nL 225.660135 79.911518 \r\nL 225.99527 82.52138 \r\nL 226.330405 88.211452 \r\nL 226.665541 86.510242 \r\nL 227.000676 86.743084 \r\nL 227.335811 90.583534 \r\nL 227.670946 85.78504 \r\nL 228.006081 86.587414 \r\nL 228.341216 89.335285 \r\nL 228.676351 88.987409 \r\nL 229.011486 85.647796 \r\nL 229.346622 90.873014 \r\nL 229.681757 88.289293 \r\nL 230.016892 88.403881 \r\nL 230.687162 83.717483 \r\nL 231.022297 82.261089 \r\nL 231.357432 82.417126 \r\nL 231.692568 83.144078 \r\nL 232.027703 78.649499 \r\nL 232.362838 79.541384 \r\nL 232.697973 85.188089 \r\nL 233.033108 87.854305 \r\nL 233.368243 88.409368 \r\nL 233.703378 85.100848 \r\nL 234.038514 89.671648 \r\nL 234.373649 88.132337 \r\nL 234.708784 90.688653 \r\nL 235.043919 91.58401 \r\nL 235.379054 86.056532 \r\nL 235.714189 84.613269 \r\nL 236.049324 86.825796 \r\nL 236.384459 86.005241 \r\nL 236.719595 81.394208 \r\nL 237.05473 81.096975 \r\nL 237.389865 81.157393 \r\nL 237.725 80.450906 \r\nL 238.060135 73.655653 \r\nL 238.39527 74.522732 \r\nL 238.730405 73.772978 \r\nL 239.065541 72.18346 \r\nL 239.400676 68.829254 \r\nL 239.735811 68.721375 \r\nL 240.070946 66.789398 \r\nL 240.406081 61.82085 \r\nL 240.741216 65.811742 \r\nL 241.076351 67.707808 \r\nL 241.411486 73.671726 \r\nL 242.081757 72.132124 \r\nL 242.752027 69.003173 \r\nL 243.087162 75.131629 \r\nL 243.422297 77.7818 \r\nL 244.092568 86.564838 \r\nL 244.427703 88.820255 \r\nL 244.762838 87.759094 \r\nL 245.097973 84.881556 \r\nL 245.433108 79.596798 \r\nL 245.768243 76.922873 \r\nL 246.103378 80.078496 \r\nL 246.438514 76.599823 \r\nL 246.773649 76.002758 \r\nL 247.108784 75.140995 \r\nL 247.443919 68.97395 \r\nL 247.779054 65.451869 \r\nL 248.114189 64.207612 \r\nL 248.449324 58.363985 \r\nL 248.784459 57.994787 \r\nL 249.119595 61.203138 \r\nL 249.45473 69.670951 \r\nL 249.789865 70.315139 \r\nL 250.125 68.225823 \r\nL 250.460135 71.440247 \r\nL 250.79527 70.149719 \r\nL 251.130405 76.984011 \r\nL 251.465541 72.738267 \r\nL 251.800676 71.978508 \r\nL 252.135811 65.705176 \r\nL 252.470946 68.086954 \r\nL 252.806081 69.295786 \r\nL 253.141216 64.962362 \r\nL 253.476351 67.581469 \r\nL 253.811486 64.889909 \r\nL 254.146622 69.892085 \r\nL 254.481757 69.741206 \r\nL 254.816892 68.884476 \r\nL 255.152027 73.983605 \r\nL 255.487162 77.384134 \r\nL 255.822297 75.329081 \r\nL 256.157432 74.289435 \r\nL 256.492568 71.846649 \r\nL 256.827703 71.786 \r\nL 257.162838 70.069689 \r\nL 257.497973 71.907748 \r\nL 257.833108 67.093183 \r\nL 258.168243 64.338981 \r\nL 258.503378 69.667165 \r\nL 258.838514 68.830572 \r\nL 259.173649 72.086178 \r\nL 259.508784 70.639797 \r\nL 260.179054 60.882077 \r\nL 260.514189 61.53363 \r\nL 260.849324 60.877085 \r\nL 261.184459 52.305752 \r\nL 261.85473 48.542762 \r\nL 262.189865 50.400224 \r\nL 262.525 50.587914 \r\nL 262.860135 46.302065 \r\nL 263.530405 56.35582 \r\nL 263.865541 58.685243 \r\nL 264.200676 58.836147 \r\nL 264.535811 55.84217 \r\nL 264.870946 59.891423 \r\nL 265.206081 61.08403 \r\nL 265.541216 70.496565 \r\nL 265.876351 68.407 \r\nL 266.546622 74.543258 \r\nL 266.881757 76.853561 \r\nL 267.216892 82.329084 \r\nL 267.552027 80.188169 \r\nL 268.222297 77.791532 \r\nL 268.557432 79.070704 \r\nL 268.892568 79.310399 \r\nL 269.227703 79.023264 \r\nL 269.562838 70.702611 \r\nL 270.233108 72.966458 \r\nL 270.568243 71.045353 \r\nL 270.903378 70.935163 \r\nL 271.238514 78.164705 \r\nL 271.573649 74.922249 \r\nL 271.908784 73.067014 \r\nL 272.243919 68.800572 \r\nL 272.579054 67.605044 \r\nL 272.914189 69.063882 \r\nL 273.249324 77.187599 \r\nL 273.919595 71.073256 \r\nL 274.589865 79.1306 \r\nL 274.925 78.99924 \r\nL 275.260135 79.994167 \r\nL 275.59527 74.745986 \r\nL 276.265541 69.168264 \r\nL 276.600676 67.005588 \r\nL 276.935811 67.596649 \r\nL 277.270946 69.736964 \r\nL 278.611486 58.921247 \r\nL 278.946622 60.139056 \r\nL 279.281757 59.029802 \r\nL 279.616892 57.336933 \r\nL 279.952027 52.347101 \r\nL 280.622297 58.944764 \r\nL 280.957432 63.451659 \r\nL 281.292568 63.767046 \r\nL 281.627703 65.854904 \r\nL 281.962838 59.849419 \r\nL 282.297973 61.794665 \r\nL 282.633108 61.730812 \r\nL 282.968243 64.340054 \r\nL 283.303378 63.15256 \r\nL 283.973649 50.946785 \r\nL 284.308784 47.012448 \r\nL 284.643919 50.004853 \r\nL 284.979054 44.91089 \r\nL 285.314189 44.9267 \r\nL 285.649324 43.188829 \r\nL 285.984459 45.301364 \r\nL 286.319595 49.659704 \r\nL 286.65473 45.792808 \r\nL 286.989865 53.110087 \r\nL 287.325 52.370572 \r\nL 287.660135 48.548752 \r\nL 287.99527 48.207021 \r\nL 288.330405 46.754599 \r\nL 288.665541 49.669681 \r\nL 289.000676 51.243288 \r\nL 289.335811 45.855642 \r\nL 289.670946 46.92051 \r\nL 290.006081 45.016996 \r\nL 290.341216 39.507544 \r\nL 290.676351 37.699315 \r\nL 291.011486 39.516538 \r\nL 291.346622 38.306483 \r\nL 291.681757 42.884553 \r\nL 292.016892 35.155143 \r\nL 292.352027 38.289357 \r\nL 292.687162 38.810928 \r\nL 293.022297 38.138784 \r\nL 293.357432 39.48375 \r\nL 293.692568 37.556857 \r\nL 294.027703 37.655733 \r\nL 294.362838 45.346478 \r\nL 294.697973 45.722977 \r\nL 295.033108 49.213831 \r\nL 295.368243 49.841416 \r\nL 295.703378 46.210861 \r\nL 296.038514 45.337341 \r\nL 296.373649 44.805896 \r\nL 296.708784 43.417257 \r\nL 297.043919 45.629187 \r\nL 297.714189 42.931664 \r\nL 298.049324 47.330309 \r\nL 298.384459 43.451245 \r\nL 298.719595 47.810473 \r\nL 299.05473 48.956136 \r\nL 299.389865 44.481448 \r\nL 299.725 34.857277 \r\nL 300.39527 31.308278 \r\nL 300.730405 33.796611 \r\nL 301.065541 33.089529 \r\nL 301.400676 31.965076 \r\nL 301.735811 33.442331 \r\nL 302.070946 30.00553 \r\nL 302.406081 28.803325 \r\nL 302.741216 30.298965 \r\nL 303.076351 27.273762 \r\nL 303.411486 28.984976 \r\nL 303.746622 32.711523 \r\nL 304.081757 38.632255 \r\nL 304.416892 36.475027 \r\nL 304.752027 45.849516 \r\nL 305.087162 44.226447 \r\nL 305.422297 43.773167 \r\nL 305.757432 39.834161 \r\nL 306.092568 40.514956 \r\nL 306.427703 37.206468 \r\nL 306.762838 35.681913 \r\nL 307.097973 31.179271 \r\nL 307.433108 30.328973 \r\nL 307.768243 23.977873 \r\nL 308.103378 24.112548 \r\nL 308.438514 22.615083 \r\nL 308.773649 20.29682 \r\nL 309.108784 19.813083 \r\nL 309.443919 23.663342 \r\nL 309.779054 19.301601 \r\nL 310.114189 17.083636 \r\nL 310.449324 20.9958 \r\nL 310.784459 17.747897 \r\nL 311.119595 24.200941 \r\nL 311.45473 27.287884 \r\nL 311.789865 26.657746 \r\nL 312.125 28.771503 \r\nL 312.460135 38.742545 \r\nL 313.130405 41.82642 \r\nL 313.465541 45.605862 \r\nL 313.800676 54.096026 \r\nL 314.470946 46.43457 \r\nL 314.806081 46.282285 \r\nL 315.141216 47.160834 \r\nL 315.476351 50.788404 \r\nL 315.811486 45.141482 \r\nL 316.146622 44.16879 \r\nL 316.481757 45.224442 \r\nL 316.816892 40.528661 \r\nL 317.152027 42.955284 \r\nL 317.487162 46.361934 \r\nL 317.822297 46.493994 \r\nL 318.157432 50.066102 \r\nL 318.492568 47.357865 \r\nL 318.827703 47.878892 \r\nL 319.162838 46.639932 \r\nL 319.497973 48.6436 \r\nL 319.833108 47.397496 \r\nL 320.168243 50.727844 \r\nL 320.503378 51.945872 \r\nL 320.838514 54.073742 \r\nL 321.173649 52.157487 \r\nL 321.508784 48.42671 \r\nL 321.843919 49.517336 \r\nL 322.179054 48.029296 \r\nL 322.514189 49.764684 \r\nL 322.849324 49.096394 \r\nL 323.184459 45.908681 \r\nL 323.519595 40.986403 \r\nL 323.85473 44.468623 \r\nL 324.189865 41.771109 \r\nL 324.860135 53.020287 \r\nL 325.19527 50.871538 \r\nL 325.865541 56.976226 \r\nL 326.200676 57.898156 \r\nL 326.535811 55.812297 \r\nL 326.870946 52.948349 \r\nL 327.541216 56.651907 \r\nL 327.876351 61.560211 \r\nL 328.211486 62.237976 \r\nL 329.552027 45.9277 \r\nL 330.222297 39.541823 \r\nL 330.557432 40.538102 \r\nL 330.892568 43.599378 \r\nL 331.227703 38.876101 \r\nL 331.562838 37.317579 \r\nL 331.897973 39.73216 \r\nL 332.233108 40.132744 \r\nL 332.568243 41.519425 \r\nL 332.903378 41.697549 \r\nL 333.238514 46.339214 \r\nL 333.573649 47.017552 \r\nL 333.908784 44.770057 \r\nL 334.243919 43.776399 \r\nL 334.579054 41.865601 \r\nL 334.914189 41.228633 \r\nL 335.584459 33.68319 \r\nL 335.919595 30.985307 \r\nL 336.25473 35.804905 \r\nL 336.589865 37.986206 \r\nL 337.260135 39.320739 \r\nL 337.59527 30.789871 \r\nL 337.930405 32.622739 \r\nL 338.265541 29.847088 \r\nL 338.600676 30.314298 \r\nL 338.935811 25.852304 \r\nL 339.270946 29.410244 \r\nL 339.606081 30.979554 \r\nL 339.941216 34.068001 \r\nL 340.611486 32.450187 \r\nL 340.946622 34.50055 \r\nL 341.281757 35.140835 \r\nL 341.616892 37.524111 \r\nL 341.952027 38.378764 \r\nL 342.287162 40.868917 \r\nL 342.622297 41.242053 \r\nL 342.957432 42.376424 \r\nL 343.292568 49.423518 \r\nL 343.627703 48.074982 \r\nL 344.633108 38.99617 \r\nL 344.968243 38.782375 \r\nL 345.303378 37.149528 \r\nL 345.638514 39.63884 \r\nL 345.973649 37.288362 \r\nL 346.308784 39.698468 \r\nL 346.643919 38.229332 \r\nL 346.979054 37.539712 \r\nL 347.649324 39.189793 \r\nL 347.984459 41.514003 \r\nL 348.319595 42.001286 \r\nL 348.65473 40.761889 \r\nL 348.989865 42.31455 \r\nL 349.325 45.685801 \r\nL 349.660135 43.087304 \r\nL 349.99527 46.769053 \r\nL 350.330405 46.086422 \r\nL 350.665541 45.815917 \r\nL 351.000676 45.390102 \r\nL 351.335811 45.755447 \r\nL 351.670946 47.731074 \r\nL 352.341216 53.863403 \r\nL 352.676351 47.445362 \r\nL 353.011486 49.134599 \r\nL 353.346622 48.64108 \r\nL 353.681757 48.650519 \r\nL 354.016892 46.661225 \r\nL 354.352027 43.458845 \r\nL 354.687162 43.235968 \r\nL 355.022297 43.209907 \r\nL 355.692568 38.271783 \r\nL 356.027703 38.319953 \r\nL 356.362838 37.105997 \r\nL 356.697973 32.424242 \r\nL 357.033108 31.119801 \r\nL 357.368243 33.623063 \r\nL 358.038514 41.692537 \r\nL 358.373649 40.175176 \r\nL 359.043919 42.139845 \r\nL 359.379054 41.611579 \r\nL 360.049324 38.146851 \r\nL 360.384459 39.980834 \r\nL 360.719595 43.194146 \r\nL 361.05473 41.016557 \r\nL 361.389865 40.005021 \r\nL 361.725 44.241436 \r\nL 361.725 44.241436 \r\n\" style=\"fill:none;stroke:#1f77b4;stroke-linecap:square;stroke-width:1.5;\"/>\r\n   </g>\r\n   <g id=\"patch_3\">\r\n    <path d=\"M 26.925 224.64 \r\nL 26.925 7.2 \r\n\" style=\"fill:none;stroke:#000000;stroke-linecap:square;stroke-linejoin:miter;stroke-width:0.8;\"/>\r\n   </g>\r\n   <g id=\"patch_4\">\r\n    <path d=\"M 361.725 224.64 \r\nL 361.725 7.2 \r\n\" style=\"fill:none;stroke:#000000;stroke-linecap:square;stroke-linejoin:miter;stroke-width:0.8;\"/>\r\n   </g>\r\n   <g id=\"patch_5\">\r\n    <path d=\"M 26.925 224.64 \r\nL 361.725 224.64 \r\n\" style=\"fill:none;stroke:#000000;stroke-linecap:square;stroke-linejoin:miter;stroke-width:0.8;\"/>\r\n   </g>\r\n   <g id=\"patch_6\">\r\n    <path d=\"M 26.925 7.2 \r\nL 361.725 7.2 \r\n\" style=\"fill:none;stroke:#000000;stroke-linecap:square;stroke-linejoin:miter;stroke-width:0.8;\"/>\r\n   </g>\r\n  </g>\r\n </g>\r\n <defs>\r\n  <clipPath id=\"p48bfc19efc\">\r\n   <rect height=\"217.44\" width=\"334.8\" x=\"26.925\" y=\"7.2\"/>\r\n  </clipPath>\r\n </defs>\r\n</svg>\r\n",
      "image/png": "[encoded data removed]"
     },
     "metadata": {
      "needs_background": "light"
     }
    }
   ],
   "source": [
    "# 印出圖表\n",
    "ts = pd.Series(np.random.randn(1000), index=pd.date_range('1/1/2000', periods=1000))\n",
    "ts = ts.cumsum()\n",
    "ts.plot()\n"
   ]
  },
  {
   "source": [
    "輸入/輸出"
   ],
   "cell_type": "markdown",
   "metadata": {}
  },
  {
   "cell_type": "code",
   "execution_count": 87,
   "metadata": {},
   "outputs": [
    {
     "output_type": "execute_result",
     "data": {
      "text/plain": [
       "   Unnamed: 0         A         B         C         D\n",
       "0           0  0.216756  1.972481  0.890232 -0.793600\n",
       "1           1 -0.927521  0.561487  0.220607  0.683453\n",
       "2           2  0.068011  1.516239  0.116570 -0.428335\n",
       "3           3  1.125374 -0.004607  1.743232 -0.041050\n",
       "4           4  0.112310 -1.368096 -0.306318 -0.803689\n",
       "5           5  2.463907  0.087962  0.597603  1.371971\n",
       "6           6  0.003451  1.259377  0.722004  0.028018\n",
       "7           7  1.237242 -0.533133  0.974503 -1.261970"
      ],
      "text/html": "<div>\n<style scoped>\n    .dataframe tbody tr th:only-of-type {\n        vertical-align: middle;\n    }\n\n    .dataframe tbody tr th {\n        vertical-align: top;\n    }\n\n    .dataframe thead th {\n        text-align: right;\n    }\n</style>\n<table border=\"1\" class=\"dataframe\">\n  <thead>\n    <tr style=\"text-align: right;\">\n      <th></th>\n      <th>Unnamed: 0</th>\n      <th>A</th>\n      <th>B</th>\n      <th>C</th>\n      <th>D</th>\n    </tr>\n  </thead>\n  <tbody>\n    <tr>\n      <th>0</th>\n      <td>0</td>\n      <td>0.216756</td>\n      <td>1.972481</td>\n      <td>0.890232</td>\n      <td>-0.793600</td>\n    </tr>\n    <tr>\n      <th>1</th>\n      <td>1</td>\n      <td>-0.927521</td>\n      <td>0.561487</td>\n      <td>0.220607</td>\n      <td>0.683453</td>\n    </tr>\n    <tr>\n      <th>2</th>\n      <td>2</td>\n      <td>0.068011</td>\n      <td>1.516239</td>\n      <td>0.116570</td>\n      <td>-0.428335</td>\n    </tr>\n    <tr>\n      <th>3</th>\n      <td>3</td>\n      <td>1.125374</td>\n      <td>-0.004607</td>\n      <td>1.743232</td>\n      <td>-0.041050</td>\n    </tr>\n    <tr>\n      <th>4</th>\n      <td>4</td>\n      <td>0.112310</td>\n      <td>-1.368096</td>\n      <td>-0.306318</td>\n      <td>-0.803689</td>\n    </tr>\n    <tr>\n      <th>5</th>\n      <td>5</td>\n      <td>2.463907</td>\n      <td>0.087962</td>\n      <td>0.597603</td>\n      <td>1.371971</td>\n    </tr>\n    <tr>\n      <th>6</th>\n      <td>6</td>\n      <td>0.003451</td>\n      <td>1.259377</td>\n      <td>0.722004</td>\n      <td>0.028018</td>\n    </tr>\n    <tr>\n      <th>7</th>\n      <td>7</td>\n      <td>1.237242</td>\n      <td>-0.533133</td>\n      <td>0.974503</td>\n      <td>-1.261970</td>\n    </tr>\n  </tbody>\n</table>\n</div>"
     },
     "metadata": {},
     "execution_count": 87
    }
   ],
   "source": [
    "# 讀取檔案/輸出檔案，支援 csv, h5, xlsx 檔案格式\n",
    "df.to_csv('foo.csv')\n",
    "pd.read_csv('foo.csv')\n",
    "# df.to_excel('foo.xlsx', sheet_name='Sheet1')\n",
    "# print(pd.read_excel('foo.xlsx', 'Sheet1', index_col=None, na_values=['NA']))\n"
   ]
  },
  {
   "cell_type": "code",
   "execution_count": null,
   "metadata": {},
   "outputs": [],
   "source": []
  }
 ]
}