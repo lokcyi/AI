{
 "metadata": {
  "language_info": {
   "codemirror_mode": {
    "name": "ipython",
    "version": 3
   },
   "file_extension": ".py",
   "mimetype": "text/x-python",
   "name": "python",
   "nbconvert_exporter": "python",
   "pygments_lexer": "ipython3",
   "version": "3.7.9-final"
  },
  "orig_nbformat": 2,
  "kernelspec": {
   "name": "python3",
   "display_name": "Python 3",
   "language": "python"
  }
 },
 "nbformat": 4,
 "nbformat_minor": 2,
 "cells": [
  {
   "cell_type": "code",
   "execution_count": 162,
   "metadata": {},
   "outputs": [],
   "source": [
    "import tensorflow as tf\n",
    "import numpy as np \n",
    "import math\n",
    "import matplotlib.pyplot as plt\n",
    "import pandas as pd\n",
    "from sklearn.neighbors import KNeighborsClassifier\n",
    "from sklearn.model_selection import GridSearchCV\n",
    "from sklearn.preprocessing import LabelEncoder\n",
    "\n",
    "save_model = './training_model2.h5'\n",
    "\n",
    "\n",
    "# %%\n"
   ]
  },
  {
   "cell_type": "code",
   "execution_count": 163,
   "metadata": {},
   "outputs": [],
   "source": [
    "def readDataFromFile(file_path):\n",
    "    df = pd.read_csv(file_path)\n",
    "    return df\n",
    "#def handleData(df):\n",
    "   # df = readDataFromFile(source_file_path)\n",
    "\n",
    "    # df['PRIORITY'] = df['PRIORITY'].astype(str)\n",
    "    # df['IS_MAIN_ROUTE'] = df['IS_MAIN_ROUTE'].astype(str)\n",
    "\n",
    "    # df['DATA_DATE'] = df['DATA_DATE'].astype(str)\n",
    "    # df = df.loc[df['LOT_TYPE']=='FDY']\n",
    "    # df = df.loc[df['LAYER']!='XX']\n",
    "\n",
    "    # # df.fillna(0, inplace=True)\n",
    "    # df = df.assign(PROCESSED_DAYS = ((pd.to_datetime(df['DATA_DATE'], format='%Y%m%d')-pd.to_datetime(df['WS_DATE'], format='%Y%m%d'))/pd.Timedelta(1, 'D')).fillna(0).astype(int))\n",
    "    # df = df.assign(REMAIN_DAYS = ((pd.to_datetime(df['ACTUAL_WP_OUT'], format='%Y%m%d')-pd.to_datetime(df['DATA_DATE'], format='%Y%m%d'))/pd.Timedelta(1, 'D')).fillna(0).astype(int))\n",
    "\n",
    "    # df2 = df.drop(columns=['IDX','LOT_TYPE','WS_DATE','ACTUAL_WP_OUT','DATA_DATE','LAYER','LOT_ID'])\n",
    "\n",
    "    # labelencoder = LabelEncoder()\n",
    "    # df2['PRIORITY'] = labelencoder.fit_transform(df2['PRIORITY'])\n",
    "    # df2['IS_MAIN_ROUTE'] = labelencoder.fit_transform(df2['IS_MAIN_ROUTE'])\n",
    "    # df2['STATUS'] = labelencoder.fit_transform(df2['STATUS'])\n",
    "    # df2['CHIPNAME'] = labelencoder.fit_transform(df2['CHIPNAME'])\n",
    "\n",
    "    # df3 = df2.drop(df2.loc[:, '0I':'UG'].columns, axis = 1) \n",
    "    # # df3.info()\n",
    "\n",
    "    \n",
    "def training(df):\n",
    "    X_dropped = np.asarray(df3.drop('MOVE_QTY', axis=1))\n",
    "    Y_dropped = np.asarray(df3['MOVE_QTY'])\n",
    "\n",
    "    #將Layer放入Model中\n",
    "    model = tf.keras.Sequential([\n",
    "        tf.keras.layers.Dense(units=8,input_shape=[X_dropped.shape[1]]),\n",
    "        tf.keras.layers.Dense(units=32),\n",
    "        tf.keras.layers.Dense(units=64),\n",
    "        tf.keras.layers.Dropout(0.2),\n",
    "        tf.keras.layers.Dense(units=32),\n",
    "        tf.keras.layers.Dropout(0.2),\n",
    "        tf.keras.layers.Dense(units=1)\n",
    "        ])\n",
    "    model.summary()\n",
    "    print(\"\\n[Info] 訓練中...\")  \n",
    "    # 定義 tensorboard callback\n",
    "    tensorboard_callback = [tf.keras.callbacks.TensorBoard(log_dir='D:/Projects/AI/POC/homework/logs')]\n",
    "    #======================================================================================\n",
    "    #compile()方法來指定損失函數與優化函數，也可以額外指定一系列的訓練和評估期間計算評量標準\n",
    "    # model.compile(loss='binary_crossentropy', optimizer='adam', metrics=['accuracy'])  \n",
    "    #root_mean_squared_error\n",
    "    from tensorflow.keras import backend as K \n",
    "    def root_mean_squared_error(y_true, y_pred): \n",
    "        return K.sqrt(K.mean(K.square(y_pred - y_true), axis=-1)) \n",
    "    # model.compile(optimizer = \"rmsprop\", loss = root_mean_squared_error,metrics =[\"accuracy\"],callbacks=tensorboard_callback) \n",
    "    model.compile(optimizer = \"adam\", loss = root_mean_squared_error,metrics =[\"accuracy\"],callbacks=tensorboard_callback) \n",
    "    #-----------------------------------\n",
    "    #mean_squared_error\n",
    "    #model.compile(loss='mean_squared_error', optimizer=tf.keras.optimizers.Adam(0.01), metrics=['accuracy'], callbacks=tensorboard_callback) \n",
    "    #======================================================================================\n",
    "    \n",
    "    # train_history = model.fit(x=X_dropped, y=Y_dropped,\n",
    "    #                validation_data=(X_dropped_test, Y_dropped_test), # Use this instead\n",
    "    #                 epochs=50, batch_size=30, verbose=2) #validation_split=0.1, 用最後的10%資料驗證 batch_size=200: 每一批次200筆資料 verbose=2: 顯示訓練過程\n",
    "    train_history = model.fit(x=X_dropped, y=Y_dropped,\n",
    "                #validation_data=(X_dropped_test, Y_dropped_test), # Use this instead\n",
    "                validation_split=0.20, epochs=50, batch_size=32, verbose=2) #validation_split=0.1, 用最後的10%資料驗證 batch_size=200: 每一批次200筆資料\n",
    "    # early_stopping = tf.keras.callbacks.EarlyStopping(patience=25)\n",
    "    # train_history = model.fit(x=X_dropped, y=Y_dropped, validation_split=0.1, epochs=200, batch_size=30, verbose=2)\n",
    "    # train_history = model.fit(X_dropped, Y_dropped, epochs=20, verbose=True)\n",
    "    print(\"Finished training the model\")\n",
    "    model.save(save_model)\n",
    "\n",
    "    plt.xlabel('Epoch Number')\n",
    "    plt.ylabel(\"Loss Magnitude\")\n",
    "    plt.plot(train_history.history['loss'])\n",
    "    plt.show()\n",
    "    # model.compile(loss='mean_squared_error', optimizer=tf.keras.optimizers.Adam(0.01))\n",
    "\n",
    "    # history = model.fit(X_dropped, Y_dropped, epochs=20, verbose=True)\n",
    "    # print(\"Finished training the model\")\n",
    "    # model.save(save_model)\n",
    "\n",
    "    # plt.xlabel('Epoch Number')\n",
    "    # plt.ylabel(\"Loss Magnitude\")\n",
    "    # plt.plot(history.history['loss'])\n",
    "    # plt.show()"
   ]
  },
  {
   "cell_type": "code",
   "execution_count": 164,
   "metadata": {},
   "outputs": [],
   "source": [
    "def Testing(source_file_path):\n",
    "    df_test = pd.read_excel(source_file_path)\n",
    "\n",
    "    df_test['PRIORITY'] = df_test['PRIORITY'].astype(str)\n",
    "    df_test['IS_MAIN_ROUTE'] = df_test['IS_MAIN_ROUTE'].astype(str)\n",
    "\n",
    "    df_test['DATA_DATE'] = df_test['DATA_DATE'].astype(str)\n",
    "    df_test = df_test.loc[df_test['LOT_TYPE']=='FDY']\n",
    "    df_test = df_test.loc[df_test['LAYER']!='XX']\n",
    "\n",
    "    df_test = df_test.assign(PROCESSED_DAYS = ((pd.to_datetime(df_test['DATA_DATE'], format='%Y%m%d')-pd.to_datetime(df_test['WS_DATE'], format='%Y%m%d'))/pd.Timedelta(1, 'D')).fillna(0).astype(int))\n",
    "    df_test = df_test.assign(REMAIN_DAYS = ((pd.to_datetime(df_test['ACTUAL_WP_OUT'], format='%Y%m%d')-pd.to_datetime(df_test['DATA_DATE'], format='%Y%m%d'))/pd.Timedelta(1, 'D')).fillna(0).astype(int))\n",
    "\n",
    "    df_test2 = df_test.drop(columns=['IDX','LOT_TYPE','WS_DATE','ACTUAL_WP_OUT','DATA_DATE','LAYER','LOT_ID'])\n",
    "\n",
    "    labelencoder = LabelEncoder()\n",
    "    df_test2['PRIORITY'] = labelencoder.fit_transform(df_test2['PRIORITY'])\n",
    "    df_test2['IS_MAIN_ROUTE'] = labelencoder.fit_transform(df_test2['IS_MAIN_ROUTE'])\n",
    "    df_test2['STATUS'] = labelencoder.fit_transform(df_test2['STATUS'])\n",
    "    df_test2['CHIPNAME'] = labelencoder.fit_transform(df_test2['CHIPNAME'])\n",
    "\n",
    "    df_test3 = df_test2.drop(df_test2.loc[:, '0I':'UG'].columns, axis = 1) \n",
    "    \n",
    "    X_Test = np.asarray(df_test3.drop('REMAIN_DAYS', axis=1))\n",
    "    Y_Test = np.asarray(df_test3['REMAIN_DAYS'])\n",
    "\n",
    "    # df_test3.info()\n",
    "    model = tf.keras.models.load_model(save_model)\n",
    "    # print(model.predict(df_test3))\n",
    "\n",
    "    # plt.xlabel('Seq Number')\n",
    "    plt.ylabel(\"Remain Days\")\n",
    "\n",
    "    plt.plot(model.predict(X_Test), label = \"Predict\", color='red', marker='.',linewidth = '0.5')\n",
    "    plt.legend()\n",
    "    plt.show()"
   ]
  },
  {
   "cell_type": "code",
   "execution_count": 165,
   "metadata": {},
   "outputs": [],
   "source": [
    "#Training('.homework/training_data_20210226.csv')\n",
    "# Testing('D:/Documents/機器學習/Data/Testing_Data.xlsx')"
   ]
  },
  {
   "cell_type": "code",
   "execution_count": 166,
   "metadata": {},
   "outputs": [],
   "source": [
    "df_train =readDataFromFile('./training_data_20210226.csv')\n",
    "\n",
    "\n"
   ]
  },
  {
   "cell_type": "code",
   "execution_count": 167,
   "metadata": {},
   "outputs": [
    {
     "output_type": "execute_result",
     "data": {
      "text/plain": [
       "               特征  缺失值个数\n",
       "0        MFG_DATE      0\n",
       "1        TOOLG_ID      0\n",
       "2   TOOLG_ID_NEXT     92\n",
       "3         WIP_QTY      0\n",
       "4        MOVE_QTY      0\n",
       "5               M     12\n",
       "6               U     13\n",
       "7              PT      0\n",
       "8         UP_TIME      1\n",
       "9        EQP_UTIL      1\n",
       "10             CA      9\n",
       "11             CS      9"
      ],
      "text/html": "<div>\n<style scoped>\n    .dataframe tbody tr th:only-of-type {\n        vertical-align: middle;\n    }\n\n    .dataframe tbody tr th {\n        vertical-align: top;\n    }\n\n    .dataframe thead th {\n        text-align: right;\n    }\n</style>\n<table border=\"1\" class=\"dataframe\">\n  <thead>\n    <tr style=\"text-align: right;\">\n      <th></th>\n      <th>特征</th>\n      <th>缺失值个数</th>\n    </tr>\n  </thead>\n  <tbody>\n    <tr>\n      <th>0</th>\n      <td>MFG_DATE</td>\n      <td>0</td>\n    </tr>\n    <tr>\n      <th>1</th>\n      <td>TOOLG_ID</td>\n      <td>0</td>\n    </tr>\n    <tr>\n      <th>2</th>\n      <td>TOOLG_ID_NEXT</td>\n      <td>92</td>\n    </tr>\n    <tr>\n      <th>3</th>\n      <td>WIP_QTY</td>\n      <td>0</td>\n    </tr>\n    <tr>\n      <th>4</th>\n      <td>MOVE_QTY</td>\n      <td>0</td>\n    </tr>\n    <tr>\n      <th>5</th>\n      <td>M</td>\n      <td>12</td>\n    </tr>\n    <tr>\n      <th>6</th>\n      <td>U</td>\n      <td>13</td>\n    </tr>\n    <tr>\n      <th>7</th>\n      <td>PT</td>\n      <td>0</td>\n    </tr>\n    <tr>\n      <th>8</th>\n      <td>UP_TIME</td>\n      <td>1</td>\n    </tr>\n    <tr>\n      <th>9</th>\n      <td>EQP_UTIL</td>\n      <td>1</td>\n    </tr>\n    <tr>\n      <th>10</th>\n      <td>CA</td>\n      <td>9</td>\n    </tr>\n    <tr>\n      <th>11</th>\n      <td>CS</td>\n      <td>9</td>\n    </tr>\n  </tbody>\n</table>\n</div>"
     },
     "metadata": {},
     "execution_count": 167
    }
   ],
   "source": [
    "# 查看缺失情况\n",
    "missing = df_train.isna().sum()\n",
    "missing = pd.DataFrame(data={'特征': missing.index,'缺失值个数':missing.values})\n",
    "missing"
   ]
  },
  {
   "cell_type": "code",
   "execution_count": 168,
   "metadata": {},
   "outputs": [],
   "source": [
    "df_train['Finish']=np.where(df['TOOLG_ID_NEXT'].isnull(), 1, 0)       "
   ]
  },
  {
   "cell_type": "code",
   "execution_count": 169,
   "metadata": {},
   "outputs": [
    {
     "output_type": "display_data",
     "data": {
      "text/plain": "<Figure size 600x400 with 1 Axes>",
      "image/svg+xml": "<?xml version=\"1.0\" encoding=\"utf-8\" standalone=\"no\"?>\n<!DOCTYPE svg PUBLIC \"-//W3C//DTD SVG 1.1//EN\"\n  \"http://www.w3.org/Graphics/SVG/1.1/DTD/svg11.dtd\">\n<!-- Created with matplotlib (https://matplotlib.org/) -->\n<svg height=\"272.0425pt\" version=\"1.1\" viewBox=\"0 0 390.15625 272.0425\" width=\"390.15625pt\" xmlns=\"http://www.w3.org/2000/svg\" xmlns:xlink=\"http://www.w3.org/1999/xlink\">\n <metadata>\n  <rdf:RDF xmlns:cc=\"http://creativecommons.org/ns#\" xmlns:dc=\"http://purl.org/dc/elements/1.1/\" xmlns:rdf=\"http://www.w3.org/1999/02/22-rdf-syntax-ns#\">\n   <cc:Work>\n    <dc:type rdf:resource=\"http://purl.org/dc/dcmitype/StillImage\"/>\n    <dc:date>2021-03-01T22:33:22.314561</dc:date>\n    <dc:format>image/svg+xml</dc:format>\n    <dc:creator>\n     <cc:Agent>\n      <dc:title>Matplotlib v3.3.2, https://matplotlib.org/</dc:title>\n     </cc:Agent>\n    </dc:creator>\n   </cc:Work>\n  </rdf:RDF>\n </metadata>\n <defs>\n  <style type=\"text/css\">*{stroke-linecap:butt;stroke-linejoin:round;}</style>\n </defs>\n <g id=\"figure_1\">\n  <g id=\"patch_1\">\n   <path d=\"M 0 272.0425 \nL 390.15625 272.0425 \nL 390.15625 0 \nL 0 0 \nz\n\" style=\"fill:#ffffff;\"/>\n  </g>\n  <g id=\"axes_1\">\n   <g id=\"patch_2\">\n    <path d=\"M 48.15625 239.76375 \nL 382.95625 239.76375 \nL 382.95625 22.32375 \nL 48.15625 22.32375 \nz\n\" style=\"fill:#ffffff;\"/>\n   </g>\n   <g id=\"patch_3\">\n    <path clip-path=\"url(#pe258736844)\" d=\"M 63.374432 239.76375 \nL 99.181918 239.76375 \nL 99.181918 32.678036 \nL 63.374432 32.678036 \nz\n\" style=\"fill:#ff0000;\"/>\n   </g>\n   <g id=\"patch_4\">\n    <path clip-path=\"url(#pe258736844)\" d=\"M 108.13379 239.76375 \nL 143.941277 239.76375 \nL 143.941277 212.75257 \nL 108.13379 212.75257 \nz\n\" style=\"fill:#008000;\"/>\n   </g>\n   <g id=\"patch_5\">\n    <path clip-path=\"url(#pe258736844)\" d=\"M 152.893148 239.76375 \nL 188.700635 239.76375 \nL 188.700635 210.501638 \nL 152.893148 210.501638 \nz\n\" style=\"fill:#ffff00;\"/>\n   </g>\n   <g id=\"patch_6\">\n    <path clip-path=\"url(#pe258736844)\" d=\"M 197.652507 239.76375 \nL 233.459993 239.76375 \nL 233.459993 237.512818 \nL 197.652507 237.512818 \nz\n\" style=\"fill:#4682b4;\"/>\n   </g>\n   <g id=\"patch_7\">\n    <path clip-path=\"url(#pe258736844)\" d=\"M 242.411865 239.76375 \nL 278.219352 239.76375 \nL 278.219352 237.512818 \nL 242.411865 237.512818 \nz\n\" style=\"fill:#ff0000;\"/>\n   </g>\n   <g id=\"patch_8\">\n    <path clip-path=\"url(#pe258736844)\" d=\"M 287.171223 239.76375 \nL 322.97871 239.76375 \nL 322.97871 219.505365 \nL 287.171223 219.505365 \nz\n\" style=\"fill:#008000;\"/>\n   </g>\n   <g id=\"patch_9\">\n    <path clip-path=\"url(#pe258736844)\" d=\"M 331.930582 239.76375 \nL 367.738068 239.76375 \nL 367.738068 219.505365 \nL 331.930582 219.505365 \nz\n\" style=\"fill:#ffff00;\"/>\n   </g>\n   <g id=\"matplotlib.axis_1\">\n    <g id=\"xtick_1\">\n     <g id=\"line2d_1\">\n      <defs>\n       <path d=\"M 0 0 \nL 0 3.5 \n\" id=\"mbf903f8fa0\" style=\"stroke:#58544f;stroke-width:0.8;\"/>\n      </defs>\n      <g>\n       <use style=\"fill:#58544f;stroke:#58544f;stroke-width:0.8;\" x=\"81.278175\" xlink:href=\"#mbf903f8fa0\" y=\"239.76375\"/>\n      </g>\n     </g>\n     <g id=\"text_1\">\n      <!-- 0 -->\n      <g style=\"fill:#58544f;\" transform=\"translate(83.465675 251.31125)rotate(-90)scale(0.08 -0.08)\">\n       <defs>\n        <path d=\"M 51.65625 29.9375 \nQ 51.65625 14.59375 45.921875 6.796875 \nQ 40.1875 -0.984375 28.46875 -0.984375 \nQ 16.9375 -0.984375 11.109375 6.609375 \nQ 5.28125 14.203125 5.125 29.109375 \nL 5.125 41.40625 \nQ 5.125 56.734375 10.859375 64.40625 \nQ 16.609375 72.078125 28.375 72.078125 \nQ 40.046875 72.078125 45.78125 64.59375 \nQ 51.515625 57.125 51.65625 42.234375 \nz\nM 39.796875 43.21875 \nQ 39.796875 53.21875 37.0625 57.875 \nQ 34.328125 62.546875 28.375 62.546875 \nQ 22.5625 62.546875 19.828125 58.125 \nQ 17.09375 53.71875 16.9375 44.34375 \nL 16.9375 28.21875 \nQ 16.9375 18.265625 19.71875 13.375 \nQ 22.515625 8.5 28.46875 8.5 \nQ 34.1875 8.5 36.921875 13.015625 \nQ 39.65625 17.53125 39.796875 27.15625 \nz\n\" id=\"Roboto-Medium-48\"/>\n       </defs>\n       <use xlink:href=\"#Roboto-Medium-48\"/>\n      </g>\n     </g>\n    </g>\n    <g id=\"xtick_2\">\n     <g id=\"line2d_2\">\n      <g>\n       <use style=\"fill:#58544f;stroke:#58544f;stroke-width:0.8;\" x=\"126.037533\" xlink:href=\"#mbf903f8fa0\" y=\"239.76375\"/>\n      </g>\n     </g>\n     <g id=\"text_2\">\n      <!-- 1 -->\n      <g style=\"fill:#58544f;\" transform=\"translate(128.225033 251.31125)rotate(-90)scale(0.08 -0.08)\">\n       <defs>\n        <path d=\"M 37.453125 0 \nL 25.640625 0 \nL 25.640625 57.078125 \nL 8.203125 51.125 \nL 8.203125 61.140625 \nL 35.9375 71.34375 \nL 37.453125 71.34375 \nz\n\" id=\"Roboto-Medium-49\"/>\n       </defs>\n       <use xlink:href=\"#Roboto-Medium-49\"/>\n      </g>\n     </g>\n    </g>\n    <g id=\"xtick_3\">\n     <g id=\"line2d_3\">\n      <g>\n       <use style=\"fill:#58544f;stroke:#58544f;stroke-width:0.8;\" x=\"170.796892\" xlink:href=\"#mbf903f8fa0\" y=\"239.76375\"/>\n      </g>\n     </g>\n     <g id=\"text_3\">\n      <!-- 2 -->\n      <g style=\"fill:#58544f;\" transform=\"translate(172.984392 251.31125)rotate(-90)scale(0.08 -0.08)\">\n       <defs>\n        <path d=\"M 53.125 0 \nL 5.328125 0 \nL 5.328125 8.15625 \nL 29 33.984375 \nQ 34.125 39.703125 36.296875 43.53125 \nQ 38.484375 47.359375 38.484375 51.21875 \nQ 38.484375 56.296875 35.625 59.421875 \nQ 32.765625 62.546875 27.9375 62.546875 \nQ 22.171875 62.546875 19 59.03125 \nQ 15.828125 55.515625 15.828125 49.421875 \nL 3.953125 49.421875 \nQ 3.953125 55.90625 6.90625 61.109375 \nQ 9.859375 66.3125 15.34375 69.1875 \nQ 20.84375 72.078125 28.03125 72.078125 \nQ 38.375 72.078125 44.359375 66.875 \nQ 50.34375 61.671875 50.34375 52.484375 \nQ 50.34375 47.171875 47.34375 41.328125 \nQ 44.34375 35.5 37.5 28.078125 \nL 20.125 9.46875 \nL 53.125 9.46875 \nz\n\" id=\"Roboto-Medium-50\"/>\n       </defs>\n       <use xlink:href=\"#Roboto-Medium-50\"/>\n      </g>\n     </g>\n    </g>\n    <g id=\"xtick_4\">\n     <g id=\"line2d_4\">\n      <g>\n       <use style=\"fill:#58544f;stroke:#58544f;stroke-width:0.8;\" x=\"215.55625\" xlink:href=\"#mbf903f8fa0\" y=\"239.76375\"/>\n      </g>\n     </g>\n     <g id=\"text_4\">\n      <!-- 3 -->\n      <g style=\"fill:#58544f;\" transform=\"translate(217.74375 251.31125)rotate(-90)scale(0.08 -0.08)\">\n       <defs>\n        <path d=\"M 19.046875 40.96875 \nL 26.265625 40.96875 \nQ 31.734375 41.015625 34.9375 43.796875 \nQ 38.140625 46.578125 38.140625 51.859375 \nQ 38.140625 56.9375 35.46875 59.734375 \nQ 32.8125 62.546875 27.34375 62.546875 \nQ 22.5625 62.546875 19.484375 59.78125 \nQ 16.40625 57.03125 16.40625 52.59375 \nL 4.546875 52.59375 \nQ 4.546875 58.0625 7.453125 62.546875 \nQ 10.359375 67.046875 15.546875 69.5625 \nQ 20.75 72.078125 27.203125 72.078125 \nQ 37.84375 72.078125 43.921875 66.71875 \nQ 50 61.375 50 51.859375 \nQ 50 47.078125 46.9375 42.84375 \nQ 43.890625 38.625 39.0625 36.46875 \nQ 44.921875 34.46875 47.96875 30.171875 \nQ 51.03125 25.875 51.03125 19.921875 \nQ 51.03125 10.359375 44.453125 4.6875 \nQ 37.890625 -0.984375 27.203125 -0.984375 \nQ 16.9375 -0.984375 10.390625 4.484375 \nQ 3.859375 9.96875 3.859375 19.046875 \nL 15.71875 19.046875 \nQ 15.71875 14.359375 18.859375 11.421875 \nQ 22.015625 8.5 27.34375 8.5 \nQ 32.859375 8.5 36.03125 11.421875 \nQ 39.203125 14.359375 39.203125 19.921875 \nQ 39.203125 25.53125 35.875 28.5625 \nQ 32.5625 31.59375 26.03125 31.59375 \nL 19.046875 31.59375 \nz\n\" id=\"Roboto-Medium-51\"/>\n       </defs>\n       <use xlink:href=\"#Roboto-Medium-51\"/>\n      </g>\n     </g>\n    </g>\n    <g id=\"xtick_5\">\n     <g id=\"line2d_5\">\n      <g>\n       <use style=\"fill:#58544f;stroke:#58544f;stroke-width:0.8;\" x=\"260.315608\" xlink:href=\"#mbf903f8fa0\" y=\"239.76375\"/>\n      </g>\n     </g>\n     <g id=\"text_5\">\n      <!-- 4 -->\n      <g style=\"fill:#58544f;\" transform=\"translate(262.503108 251.31125)rotate(-90)scale(0.08 -0.08)\">\n       <defs>\n        <path d=\"M 45.453125 25.34375 \nL 54.296875 25.34375 \nL 54.296875 15.828125 \nL 45.453125 15.828125 \nL 45.453125 0 \nL 33.59375 0 \nL 33.59375 15.828125 \nL 2.875 15.828125 \nL 2.546875 23.046875 \nL 33.203125 71.09375 \nL 45.453125 71.09375 \nz\nM 14.984375 25.34375 \nL 33.59375 25.34375 \nL 33.59375 55.03125 \nL 32.71875 53.46875 \nz\n\" id=\"Roboto-Medium-52\"/>\n       </defs>\n       <use xlink:href=\"#Roboto-Medium-52\"/>\n      </g>\n     </g>\n    </g>\n    <g id=\"xtick_6\">\n     <g id=\"line2d_6\">\n      <g>\n       <use style=\"fill:#58544f;stroke:#58544f;stroke-width:0.8;\" x=\"305.074967\" xlink:href=\"#mbf903f8fa0\" y=\"239.76375\"/>\n      </g>\n     </g>\n     <g id=\"text_6\">\n      <!-- 5 -->\n      <g style=\"fill:#58544f;\" transform=\"translate(307.262467 251.31125)rotate(-90)scale(0.08 -0.08)\">\n       <defs>\n        <path d=\"M 8.5 35.25 \nL 12.359375 71.09375 \nL 50.53125 71.09375 \nL 50.53125 60.84375 \nL 22.21875 60.84375 \nL 20.265625 43.84375 \nQ 25.203125 46.6875 31.390625 46.6875 \nQ 41.546875 46.6875 47.1875 40.1875 \nQ 52.828125 33.6875 52.828125 22.703125 \nQ 52.828125 11.859375 46.578125 5.4375 \nQ 40.328125 -0.984375 29.4375 -0.984375 \nQ 19.671875 -0.984375 13.25 4.5625 \nQ 6.84375 10.109375 6.296875 19.1875 \nL 17.78125 19.1875 \nQ 18.453125 14.015625 21.484375 11.25 \nQ 24.515625 8.5 29.390625 8.5 \nQ 34.859375 8.5 37.90625 12.40625 \nQ 40.96875 16.3125 40.96875 23.046875 \nQ 40.96875 29.546875 37.59375 33.328125 \nQ 34.234375 37.109375 28.328125 37.109375 \nQ 25.09375 37.109375 22.84375 36.25 \nQ 20.609375 35.40625 17.96875 32.90625 \nz\n\" id=\"Roboto-Medium-53\"/>\n       </defs>\n       <use xlink:href=\"#Roboto-Medium-53\"/>\n      </g>\n     </g>\n    </g>\n    <g id=\"xtick_7\">\n     <g id=\"line2d_7\">\n      <g>\n       <use style=\"fill:#58544f;stroke:#58544f;stroke-width:0.8;\" x=\"349.834325\" xlink:href=\"#mbf903f8fa0\" y=\"239.76375\"/>\n      </g>\n     </g>\n     <g id=\"text_7\">\n      <!-- 6 -->\n      <g style=\"fill:#58544f;\" transform=\"translate(352.021825 251.31125)rotate(-90)scale(0.08 -0.08)\">\n       <defs>\n        <path d=\"M 42.234375 71.4375 \nL 42.234375 61.625 \nL 40.765625 61.625 \nQ 30.8125 61.46875 24.84375 56.140625 \nQ 18.890625 50.828125 17.78125 41.0625 \nQ 23.484375 47.078125 32.375 47.078125 \nQ 41.796875 47.078125 47.234375 40.4375 \nQ 52.6875 33.796875 52.6875 23.296875 \nQ 52.6875 12.453125 46.3125 5.734375 \nQ 39.9375 -0.984375 29.59375 -0.984375 \nQ 18.953125 -0.984375 12.328125 6.875 \nQ 5.71875 14.75 5.71875 27.484375 \nL 5.71875 31.546875 \nQ 5.71875 50.25 14.8125 60.84375 \nQ 23.921875 71.4375 41.015625 71.4375 \nz\nM 29.5 37.5 \nQ 25.59375 37.5 22.34375 35.296875 \nQ 19.09375 33.109375 17.578125 29.4375 \nL 17.578125 25.828125 \nQ 17.578125 17.921875 20.890625 13.25 \nQ 24.21875 8.59375 29.484375 8.59375 \nQ 34.765625 8.59375 37.84375 12.546875 \nQ 40.921875 16.5 40.921875 22.9375 \nQ 40.921875 29.390625 37.796875 33.4375 \nQ 34.671875 37.5 29.5 37.5 \nz\n\" id=\"Roboto-Medium-54\"/>\n       </defs>\n       <use xlink:href=\"#Roboto-Medium-54\"/>\n      </g>\n     </g>\n    </g>\n    <g id=\"text_8\">\n     <!-- variables names -->\n     <g style=\"fill:#58544f;\" transform=\"translate(178.9375 262.81125)scale(0.1 -0.1)\">\n      <defs>\n       <path d=\"M 24.703125 15.046875 \nL 35.890625 52.828125 \nL 48.140625 52.828125 \nL 29.828125 0 \nL 19.53125 0 \nL 1.078125 52.828125 \nL 13.375 52.828125 \nz\n\" id=\"Roboto-Medium-118\"/>\n       <path d=\"M 37.640625 0 \nQ 36.859375 1.515625 36.28125 4.9375 \nQ 30.609375 -0.984375 22.40625 -0.984375 \nQ 14.453125 -0.984375 9.421875 3.5625 \nQ 4.390625 8.109375 4.390625 14.796875 \nQ 4.390625 23.25 10.65625 27.765625 \nQ 16.9375 32.28125 28.609375 32.28125 \nL 35.890625 32.28125 \nL 35.890625 35.75 \nQ 35.890625 39.84375 33.59375 42.3125 \nQ 31.296875 44.78125 26.609375 44.78125 \nQ 22.5625 44.78125 19.96875 42.75 \nQ 17.390625 40.71875 17.390625 37.59375 \nL 5.515625 37.59375 \nQ 5.515625 41.9375 8.390625 45.71875 \nQ 11.28125 49.515625 16.234375 51.65625 \nQ 21.1875 53.8125 27.296875 53.8125 \nQ 36.578125 53.8125 42.09375 49.140625 \nQ 47.609375 44.484375 47.75 36.03125 \nL 47.75 12.203125 \nQ 47.75 5.078125 49.75 0.828125 \nL 49.75 0 \nz\nM 24.609375 8.546875 \nQ 28.125 8.546875 31.21875 10.25 \nQ 34.328125 11.96875 35.890625 14.84375 \nL 35.890625 24.8125 \nL 29.5 24.8125 \nQ 22.90625 24.8125 19.578125 22.515625 \nQ 16.265625 20.21875 16.265625 16.015625 \nQ 16.265625 12.59375 18.53125 10.5625 \nQ 20.796875 8.546875 24.609375 8.546875 \nz\n\" id=\"Roboto-Medium-97\"/>\n       <path d=\"M 33.734375 42 \nQ 31.390625 42.390625 28.90625 42.390625 \nQ 20.75 42.390625 17.921875 36.140625 \nL 17.921875 0 \nL 6.0625 0 \nL 6.0625 52.828125 \nL 17.390625 52.828125 \nL 17.671875 46.921875 \nQ 21.96875 53.8125 29.59375 53.8125 \nQ 32.125 53.8125 33.796875 53.125 \nz\n\" id=\"Roboto-Medium-114\"/>\n       <path d=\"M 18.703125 0 \nL 6.84375 0 \nL 6.84375 52.828125 \nL 18.703125 52.828125 \nz\nM 6.109375 66.546875 \nQ 6.109375 69.28125 7.84375 71.09375 \nQ 9.578125 72.90625 12.796875 72.90625 \nQ 16.015625 72.90625 17.765625 71.09375 \nQ 19.53125 69.28125 19.53125 66.546875 \nQ 19.53125 63.875 17.765625 62.078125 \nQ 16.015625 60.296875 12.796875 60.296875 \nQ 9.578125 60.296875 7.84375 62.078125 \nQ 6.109375 63.875 6.109375 66.546875 \nz\n\" id=\"Roboto-Medium-105\"/>\n       <path d=\"M 52.4375 25.875 \nQ 52.4375 13.578125 46.9375 6.296875 \nQ 41.453125 -0.984375 31.84375 -0.984375 \nQ 22.5625 -0.984375 17.390625 5.71875 \nL 16.796875 0 \nL 6.0625 0 \nL 6.0625 75 \nL 17.921875 75 \nL 17.921875 47.75 \nQ 23.046875 53.8125 31.734375 53.8125 \nQ 41.40625 53.8125 46.921875 46.625 \nQ 52.4375 39.453125 52.4375 26.5625 \nz\nM 40.578125 26.90625 \nQ 40.578125 35.5 37.546875 39.796875 \nQ 34.515625 44.09375 28.765625 44.09375 \nQ 21.046875 44.09375 17.921875 37.359375 \nL 17.921875 15.578125 \nQ 21.09375 8.6875 28.859375 8.6875 \nQ 34.421875 8.6875 37.453125 12.84375 \nQ 40.484375 17 40.578125 25.390625 \nz\n\" id=\"Roboto-Medium-98\"/>\n       <path d=\"M 18.703125 0 \nL 6.84375 0 \nL 6.84375 75 \nL 18.703125 75 \nz\n\" id=\"Roboto-Medium-108\"/>\n       <path d=\"M 29.34375 -0.984375 \nQ 18.0625 -0.984375 11.046875 6.125 \nQ 4.046875 13.234375 4.046875 25.046875 \nL 4.046875 26.515625 \nQ 4.046875 34.421875 7.09375 40.640625 \nQ 10.15625 46.875 15.671875 50.34375 \nQ 21.1875 53.8125 27.984375 53.8125 \nQ 38.765625 53.8125 44.640625 46.921875 \nQ 50.53125 40.046875 50.53125 27.4375 \nL 50.53125 22.65625 \nL 16.015625 22.65625 \nQ 16.546875 16.109375 20.375 12.296875 \nQ 24.21875 8.5 30.03125 8.5 \nQ 38.1875 8.5 43.3125 15.09375 \nL 49.703125 8.984375 \nQ 46.53125 4.25 41.234375 1.625 \nQ 35.9375 -0.984375 29.34375 -0.984375 \nz\nM 27.9375 44.28125 \nQ 23.046875 44.28125 20.046875 40.859375 \nQ 17.046875 37.453125 16.21875 31.34375 \nL 38.8125 31.34375 \nL 38.8125 32.234375 \nQ 38.421875 38.1875 35.640625 41.234375 \nQ 32.859375 44.28125 27.9375 44.28125 \nz\n\" id=\"Roboto-Medium-101\"/>\n       <path d=\"M 35.6875 14.359375 \nQ 35.6875 17.53125 33.078125 19.1875 \nQ 30.46875 20.84375 24.40625 22.109375 \nQ 18.359375 23.390625 14.3125 25.34375 \nQ 5.421875 29.640625 5.421875 37.796875 \nQ 5.421875 44.625 11.171875 49.21875 \nQ 16.9375 53.8125 25.828125 53.8125 \nQ 35.296875 53.8125 41.125 49.125 \nQ 46.96875 44.4375 46.96875 36.96875 \nL 35.109375 36.96875 \nQ 35.109375 40.375 32.5625 42.640625 \nQ 30.03125 44.921875 25.828125 44.921875 \nQ 21.921875 44.921875 19.453125 43.109375 \nQ 17 41.3125 17 38.28125 \nQ 17 35.546875 19.28125 34.03125 \nQ 21.578125 32.515625 28.5625 30.96875 \nQ 35.546875 29.4375 39.515625 27.3125 \nQ 43.5 25.203125 45.421875 22.21875 \nQ 47.359375 19.234375 47.359375 14.984375 \nQ 47.359375 7.859375 41.453125 3.4375 \nQ 35.546875 -0.984375 25.984375 -0.984375 \nQ 19.484375 -0.984375 14.40625 1.359375 \nQ 9.328125 3.71875 6.484375 7.8125 \nQ 3.65625 11.921875 3.65625 16.65625 \nL 15.1875 16.65625 \nQ 15.4375 12.453125 18.359375 10.171875 \nQ 21.296875 7.90625 26.125 7.90625 \nQ 30.8125 7.90625 33.25 9.6875 \nQ 35.6875 11.46875 35.6875 14.359375 \nz\n\" id=\"Roboto-Medium-115\"/>\n       <path id=\"Roboto-Medium-32\"/>\n       <path d=\"M 17.09375 52.828125 \nL 17.4375 46.734375 \nQ 23.296875 53.8125 32.8125 53.8125 \nQ 49.3125 53.8125 49.609375 34.90625 \nL 49.609375 0 \nL 37.75 0 \nL 37.75 34.234375 \nQ 37.75 39.265625 35.578125 41.671875 \nQ 33.40625 44.09375 28.46875 44.09375 \nQ 21.296875 44.09375 17.78125 37.59375 \nL 17.78125 0 \nL 5.90625 0 \nL 5.90625 52.828125 \nz\n\" id=\"Roboto-Medium-110\"/>\n       <path d=\"M 17.234375 52.828125 \nL 17.578125 47.3125 \nQ 23.140625 53.8125 32.8125 53.8125 \nQ 43.40625 53.8125 47.3125 45.703125 \nQ 53.078125 53.8125 63.53125 53.8125 \nQ 72.265625 53.8125 76.53125 48.96875 \nQ 80.8125 44.140625 80.90625 34.71875 \nL 80.90625 0 \nL 69.046875 0 \nL 69.046875 34.375 \nQ 69.046875 39.40625 66.84375 41.75 \nQ 64.65625 44.09375 59.578125 44.09375 \nQ 55.515625 44.09375 52.953125 41.921875 \nQ 50.390625 39.75 49.359375 36.234375 \nL 49.421875 0 \nL 37.546875 0 \nL 37.546875 34.765625 \nQ 37.3125 44.09375 28.03125 44.09375 \nQ 20.90625 44.09375 17.921875 38.28125 \nL 17.921875 0 \nL 6.0625 0 \nL 6.0625 52.828125 \nz\n\" id=\"Roboto-Medium-109\"/>\n      </defs>\n      <use xlink:href=\"#Roboto-Medium-118\"/>\n      <use x=\"49.462891\" xlink:href=\"#Roboto-Medium-97\"/>\n      <use x=\"103.564453\" xlink:href=\"#Roboto-Medium-114\"/>\n      <use x=\"138.720703\" xlink:href=\"#Roboto-Medium-105\"/>\n      <use x=\"164.257812\" xlink:href=\"#Roboto-Medium-97\"/>\n      <use x=\"218.359375\" xlink:href=\"#Roboto-Medium-98\"/>\n      <use x=\"274.658203\" xlink:href=\"#Roboto-Medium-108\"/>\n      <use x=\"300.195312\" xlink:href=\"#Roboto-Medium-101\"/>\n      <use x=\"353.857422\" xlink:href=\"#Roboto-Medium-115\"/>\n      <use x=\"405.46875\" xlink:href=\"#Roboto-Medium-32\"/>\n      <use x=\"430.371094\" xlink:href=\"#Roboto-Medium-110\"/>\n      <use x=\"485.986328\" xlink:href=\"#Roboto-Medium-97\"/>\n      <use x=\"540.087891\" xlink:href=\"#Roboto-Medium-109\"/>\n      <use x=\"627.099609\" xlink:href=\"#Roboto-Medium-101\"/>\n      <use x=\"680.761719\" xlink:href=\"#Roboto-Medium-115\"/>\n     </g>\n    </g>\n   </g>\n   <g id=\"matplotlib.axis_2\">\n    <g id=\"ytick_1\">\n     <g id=\"line2d_8\">\n      <defs>\n       <path d=\"M 0 0 \nL -3.5 0 \n\" id=\"m4cb5d32e9d\" style=\"stroke:#58544f;stroke-width:0.8;\"/>\n      </defs>\n      <g>\n       <use style=\"fill:#58544f;stroke:#58544f;stroke-width:0.8;\" x=\"48.15625\" xlink:href=\"#m4cb5d32e9d\" y=\"239.76375\"/>\n      </g>\n     </g>\n     <g id=\"text_9\">\n      <!-- 0.000 -->\n      <g style=\"fill:#58544f;\" transform=\"translate(20.73125 242.76375)scale(0.08 -0.08)\">\n       <defs>\n        <path d=\"M 13.484375 12.5 \nQ 16.796875 12.5 18.59375 10.609375 \nQ 20.40625 8.734375 20.40625 5.90625 \nQ 20.40625 3.125 18.59375 1.296875 \nQ 16.796875 -0.53125 13.484375 -0.53125 \nQ 10.296875 -0.53125 8.4375 1.265625 \nQ 6.59375 3.078125 6.59375 5.90625 \nQ 6.59375 8.734375 8.390625 10.609375 \nQ 10.203125 12.5 13.484375 12.5 \nz\n\" id=\"Roboto-Medium-46\"/>\n       </defs>\n       <use xlink:href=\"#Roboto-Medium-48\"/>\n       <use x=\"56.835938\" xlink:href=\"#Roboto-Medium-46\"/>\n       <use x=\"84.765625\" xlink:href=\"#Roboto-Medium-48\"/>\n       <use x=\"141.601562\" xlink:href=\"#Roboto-Medium-48\"/>\n       <use x=\"198.4375\" xlink:href=\"#Roboto-Medium-48\"/>\n      </g>\n     </g>\n    </g>\n    <g id=\"ytick_2\">\n     <g id=\"line2d_9\">\n      <g>\n       <use style=\"fill:#58544f;stroke:#58544f;stroke-width:0.8;\" x=\"48.15625\" xlink:href=\"#m4cb5d32e9d\" y=\"195.893092\"/>\n      </g>\n     </g>\n     <g id=\"text_10\">\n      <!-- 0.005 -->\n      <g style=\"fill:#58544f;\" transform=\"translate(20.73125 198.893092)scale(0.08 -0.08)\">\n       <use xlink:href=\"#Roboto-Medium-48\"/>\n       <use x=\"56.835938\" xlink:href=\"#Roboto-Medium-46\"/>\n       <use x=\"84.765625\" xlink:href=\"#Roboto-Medium-48\"/>\n       <use x=\"141.601562\" xlink:href=\"#Roboto-Medium-48\"/>\n       <use x=\"198.4375\" xlink:href=\"#Roboto-Medium-53\"/>\n      </g>\n     </g>\n    </g>\n    <g id=\"ytick_3\">\n     <g id=\"line2d_10\">\n      <g>\n       <use style=\"fill:#58544f;stroke:#58544f;stroke-width:0.8;\" x=\"48.15625\" xlink:href=\"#m4cb5d32e9d\" y=\"152.022433\"/>\n      </g>\n     </g>\n     <g id=\"text_11\">\n      <!-- 0.010 -->\n      <g style=\"fill:#58544f;\" transform=\"translate(20.73125 155.022433)scale(0.08 -0.08)\">\n       <use xlink:href=\"#Roboto-Medium-48\"/>\n       <use x=\"56.835938\" xlink:href=\"#Roboto-Medium-46\"/>\n       <use x=\"84.765625\" xlink:href=\"#Roboto-Medium-48\"/>\n       <use x=\"141.601562\" xlink:href=\"#Roboto-Medium-49\"/>\n       <use x=\"198.4375\" xlink:href=\"#Roboto-Medium-48\"/>\n      </g>\n     </g>\n    </g>\n    <g id=\"ytick_4\">\n     <g id=\"line2d_11\">\n      <g>\n       <use style=\"fill:#58544f;stroke:#58544f;stroke-width:0.8;\" x=\"48.15625\" xlink:href=\"#m4cb5d32e9d\" y=\"108.151775\"/>\n      </g>\n     </g>\n     <g id=\"text_12\">\n      <!-- 0.015 -->\n      <g style=\"fill:#58544f;\" transform=\"translate(20.73125 111.151775)scale(0.08 -0.08)\">\n       <use xlink:href=\"#Roboto-Medium-48\"/>\n       <use x=\"56.835938\" xlink:href=\"#Roboto-Medium-46\"/>\n       <use x=\"84.765625\" xlink:href=\"#Roboto-Medium-48\"/>\n       <use x=\"141.601562\" xlink:href=\"#Roboto-Medium-49\"/>\n       <use x=\"198.4375\" xlink:href=\"#Roboto-Medium-53\"/>\n      </g>\n     </g>\n    </g>\n    <g id=\"ytick_5\">\n     <g id=\"line2d_12\">\n      <g>\n       <use style=\"fill:#58544f;stroke:#58544f;stroke-width:0.8;\" x=\"48.15625\" xlink:href=\"#m4cb5d32e9d\" y=\"64.281116\"/>\n      </g>\n     </g>\n     <g id=\"text_13\">\n      <!-- 0.020 -->\n      <g style=\"fill:#58544f;\" transform=\"translate(20.73125 67.281116)scale(0.08 -0.08)\">\n       <use xlink:href=\"#Roboto-Medium-48\"/>\n       <use x=\"56.835938\" xlink:href=\"#Roboto-Medium-46\"/>\n       <use x=\"84.765625\" xlink:href=\"#Roboto-Medium-48\"/>\n       <use x=\"141.601562\" xlink:href=\"#Roboto-Medium-50\"/>\n       <use x=\"198.4375\" xlink:href=\"#Roboto-Medium-48\"/>\n      </g>\n     </g>\n    </g>\n    <g id=\"text_14\">\n     <!-- missing rate -->\n     <g style=\"fill:#58544f;\" transform=\"translate(14.651562 158.777344)rotate(-90)scale(0.1 -0.1)\">\n      <defs>\n       <path d=\"M 4 26.8125 \nQ 4 39.109375 9.78125 46.453125 \nQ 15.578125 53.8125 25.140625 53.8125 \nQ 34.1875 53.8125 39.359375 47.515625 \nL 39.890625 52.828125 \nL 50.59375 52.828125 \nL 50.59375 1.609375 \nQ 50.59375 -8.796875 44.109375 -14.796875 \nQ 37.640625 -20.796875 26.65625 -20.796875 \nQ 20.84375 -20.796875 15.296875 -18.375 \nQ 9.765625 -15.96875 6.890625 -12.0625 \nL 12.5 -4.9375 \nQ 17.96875 -11.421875 25.984375 -11.421875 \nQ 31.890625 -11.421875 35.296875 -8.21875 \nQ 38.71875 -5.03125 38.71875 1.171875 \nL 38.71875 4.734375 \nQ 33.59375 -0.984375 25.046875 -0.984375 \nQ 15.765625 -0.984375 9.875 6.390625 \nQ 4 13.765625 4 26.8125 \nz\nM 15.828125 25.78125 \nQ 15.828125 17.828125 19.0625 13.25 \nQ 22.3125 8.6875 28.078125 8.6875 \nQ 35.25 8.6875 38.71875 14.84375 \nL 38.71875 38.09375 \nQ 35.359375 44.09375 28.171875 44.09375 \nQ 22.3125 44.09375 19.0625 39.453125 \nQ 15.828125 34.8125 15.828125 25.78125 \nz\n\" id=\"Roboto-Medium-103\"/>\n       <path d=\"M 20.953125 65.671875 \nL 20.953125 52.828125 \nL 30.28125 52.828125 \nL 30.28125 44.046875 \nL 20.953125 44.046875 \nL 20.953125 14.546875 \nQ 20.953125 11.53125 22.140625 10.1875 \nQ 23.34375 8.84375 26.421875 8.84375 \nQ 28.46875 8.84375 30.5625 9.328125 \nL 30.5625 0.140625 \nQ 26.515625 -0.984375 22.75 -0.984375 \nQ 9.078125 -0.984375 9.078125 14.109375 \nL 9.078125 44.046875 \nL 0.390625 44.046875 \nL 0.390625 52.828125 \nL 9.078125 52.828125 \nL 9.078125 65.671875 \nz\n\" id=\"Roboto-Medium-116\"/>\n      </defs>\n      <use xlink:href=\"#Roboto-Medium-109\"/>\n      <use x=\"87.011719\" xlink:href=\"#Roboto-Medium-105\"/>\n      <use x=\"112.548828\" xlink:href=\"#Roboto-Medium-115\"/>\n      <use x=\"164.160156\" xlink:href=\"#Roboto-Medium-115\"/>\n      <use x=\"215.771484\" xlink:href=\"#Roboto-Medium-105\"/>\n      <use x=\"241.308594\" xlink:href=\"#Roboto-Medium-110\"/>\n      <use x=\"296.923828\" xlink:href=\"#Roboto-Medium-103\"/>\n      <use x=\"353.613281\" xlink:href=\"#Roboto-Medium-32\"/>\n      <use x=\"378.515625\" xlink:href=\"#Roboto-Medium-114\"/>\n      <use x=\"413.671875\" xlink:href=\"#Roboto-Medium-97\"/>\n      <use x=\"467.773438\" xlink:href=\"#Roboto-Medium-116\"/>\n      <use x=\"501.025391\" xlink:href=\"#Roboto-Medium-101\"/>\n     </g>\n    </g>\n   </g>\n   <g id=\"patch_10\">\n    <path d=\"M 48.15625 239.76375 \nL 48.15625 22.32375 \n\" style=\"fill:none;stroke:#58544f;stroke-linecap:square;stroke-linejoin:miter;stroke-width:0.8;\"/>\n   </g>\n   <g id=\"patch_11\">\n    <path d=\"M 382.95625 239.76375 \nL 382.95625 22.32375 \n\" style=\"fill:none;stroke:#58544f;stroke-linecap:square;stroke-linejoin:miter;stroke-width:0.8;\"/>\n   </g>\n   <g id=\"patch_12\">\n    <path d=\"M 48.15625 239.76375 \nL 382.95625 239.76375 \n\" style=\"fill:none;stroke:#58544f;stroke-linecap:square;stroke-linejoin:miter;stroke-width:0.8;\"/>\n   </g>\n   <g id=\"patch_13\">\n    <path d=\"M 48.15625 22.32375 \nL 382.95625 22.32375 \n\" style=\"fill:none;stroke:#58544f;stroke-linecap:square;stroke-linejoin:miter;stroke-width:0.8;\"/>\n   </g>\n   <g id=\"text_15\">\n    <!-- Histogram of missing value of variables -->\n    <g transform=\"translate(108.873438 16.32375)scale(0.12 -0.12)\">\n     <defs>\n      <path d=\"M 63.671875 0 \nL 51.375 0 \nL 51.375 31.59375 \nL 19.578125 31.59375 \nL 19.578125 0 \nL 7.234375 0 \nL 7.234375 71.09375 \nL 19.578125 71.09375 \nL 19.578125 41.5 \nL 51.375 41.5 \nL 51.375 71.09375 \nL 63.671875 71.09375 \nz\n\" id=\"Roboto-Medium-72\"/>\n      <path d=\"M 3.859375 26.90625 \nQ 3.859375 34.671875 6.9375 40.890625 \nQ 10.015625 47.125 15.578125 50.46875 \nQ 21.140625 53.8125 28.375 53.8125 \nQ 39.0625 53.8125 45.71875 46.921875 \nQ 52.390625 40.046875 52.9375 28.65625 \nL 52.984375 25.875 \nQ 52.984375 18.0625 49.96875 11.90625 \nQ 46.96875 5.765625 41.375 2.390625 \nQ 35.796875 -0.984375 28.46875 -0.984375 \nQ 17.28125 -0.984375 10.5625 6.46875 \nQ 3.859375 13.921875 3.859375 26.3125 \nz\nM 15.71875 25.875 \nQ 15.71875 17.71875 19.09375 13.109375 \nQ 22.46875 8.5 28.46875 8.5 \nQ 34.46875 8.5 37.8125 13.1875 \nQ 41.15625 17.875 41.15625 26.90625 \nQ 41.15625 34.90625 37.71875 39.59375 \nQ 34.28125 44.28125 28.375 44.28125 \nQ 22.5625 44.28125 19.140625 39.671875 \nQ 15.71875 35.0625 15.71875 25.875 \nz\n\" id=\"Roboto-Medium-111\"/>\n      <path d=\"M 10.25 0 \nL 10.25 44.046875 \nL 2.203125 44.046875 \nL 2.203125 52.828125 \nL 10.25 52.828125 \nL 10.25 57.671875 \nQ 10.25 66.453125 15.125 71.234375 \nQ 20.015625 76.03125 28.8125 76.03125 \nQ 31.9375 76.03125 35.453125 75.140625 \nL 35.15625 65.875 \nQ 33.203125 66.265625 30.609375 66.265625 \nQ 22.125 66.265625 22.125 57.515625 \nL 22.125 52.828125 \nL 32.859375 52.828125 \nL 32.859375 44.046875 \nL 22.125 44.046875 \nL 22.125 0 \nz\n\" id=\"Roboto-Medium-102\"/>\n      <path d=\"M 38.09375 5.171875 \nQ 32.859375 -0.984375 23.25 -0.984375 \nQ 14.65625 -0.984375 10.234375 4.046875 \nQ 5.8125 9.078125 5.8125 18.609375 \nL 5.8125 52.828125 \nL 17.671875 52.828125 \nL 17.671875 18.75 \nQ 17.671875 8.6875 26.03125 8.6875 \nQ 34.671875 8.6875 37.703125 14.890625 \nL 37.703125 52.828125 \nL 49.5625 52.828125 \nL 49.5625 0 \nL 38.375 0 \nz\n\" id=\"Roboto-Medium-117\"/>\n     </defs>\n     <use xlink:href=\"#Roboto-Medium-72\"/>\n     <use x=\"71.044922\" xlink:href=\"#Roboto-Medium-105\"/>\n     <use x=\"96.582031\" xlink:href=\"#Roboto-Medium-115\"/>\n     <use x=\"148.193359\" xlink:href=\"#Roboto-Medium-116\"/>\n     <use x=\"181.445312\" xlink:href=\"#Roboto-Medium-111\"/>\n     <use x=\"238.378906\" xlink:href=\"#Roboto-Medium-103\"/>\n     <use x=\"295.068359\" xlink:href=\"#Roboto-Medium-114\"/>\n     <use x=\"330.224609\" xlink:href=\"#Roboto-Medium-97\"/>\n     <use x=\"384.326172\" xlink:href=\"#Roboto-Medium-109\"/>\n     <use x=\"471.337891\" xlink:href=\"#Roboto-Medium-32\"/>\n     <use x=\"496.240234\" xlink:href=\"#Roboto-Medium-111\"/>\n     <use x=\"553.173828\" xlink:href=\"#Roboto-Medium-102\"/>\n     <use x=\"588.623047\" xlink:href=\"#Roboto-Medium-32\"/>\n     <use x=\"613.525391\" xlink:href=\"#Roboto-Medium-109\"/>\n     <use x=\"700.537109\" xlink:href=\"#Roboto-Medium-105\"/>\n     <use x=\"726.074219\" xlink:href=\"#Roboto-Medium-115\"/>\n     <use x=\"777.685547\" xlink:href=\"#Roboto-Medium-115\"/>\n     <use x=\"829.296875\" xlink:href=\"#Roboto-Medium-105\"/>\n     <use x=\"854.833984\" xlink:href=\"#Roboto-Medium-110\"/>\n     <use x=\"910.449219\" xlink:href=\"#Roboto-Medium-103\"/>\n     <use x=\"967.138672\" xlink:href=\"#Roboto-Medium-32\"/>\n     <use x=\"992.041016\" xlink:href=\"#Roboto-Medium-118\"/>\n     <use x=\"1041.503906\" xlink:href=\"#Roboto-Medium-97\"/>\n     <use x=\"1095.605469\" xlink:href=\"#Roboto-Medium-108\"/>\n     <use x=\"1121.142578\" xlink:href=\"#Roboto-Medium-117\"/>\n     <use x=\"1176.708984\" xlink:href=\"#Roboto-Medium-101\"/>\n     <use x=\"1230.371094\" xlink:href=\"#Roboto-Medium-32\"/>\n     <use x=\"1255.273438\" xlink:href=\"#Roboto-Medium-111\"/>\n     <use x=\"1312.207031\" xlink:href=\"#Roboto-Medium-102\"/>\n     <use x=\"1347.65625\" xlink:href=\"#Roboto-Medium-32\"/>\n     <use x=\"1372.558594\" xlink:href=\"#Roboto-Medium-118\"/>\n     <use x=\"1422.021484\" xlink:href=\"#Roboto-Medium-97\"/>\n     <use x=\"1476.123047\" xlink:href=\"#Roboto-Medium-114\"/>\n     <use x=\"1511.279297\" xlink:href=\"#Roboto-Medium-105\"/>\n     <use x=\"1536.816406\" xlink:href=\"#Roboto-Medium-97\"/>\n     <use x=\"1590.917969\" xlink:href=\"#Roboto-Medium-98\"/>\n     <use x=\"1647.216797\" xlink:href=\"#Roboto-Medium-108\"/>\n     <use x=\"1672.753906\" xlink:href=\"#Roboto-Medium-101\"/>\n     <use x=\"1726.416016\" xlink:href=\"#Roboto-Medium-115\"/>\n    </g>\n   </g>\n  </g>\n </g>\n <defs>\n  <clipPath id=\"pe258736844\">\n   <rect height=\"217.44\" width=\"334.8\" x=\"48.15625\" y=\"22.32375\"/>\n  </clipPath>\n </defs>\n</svg>\n",
      "image/png": "[encoded data removed]"
     },
     "metadata": {}
    }
   ],
   "source": [
    "# 去掉标签\n",
    "X_missing = df_train#.drop(['survived'],axis=1)\n",
    "\n",
    "# 查看缺失情况\n",
    "missing = X_missing.isna().sum()\n",
    "missing = pd.DataFrame(data={'特征': missing.index,'缺失值个数':missing.values})\n",
    "#通过~取反，选取不包含数字0的行\n",
    "missing = missing[~missing['缺失值个数'].isin([0])]\n",
    "# 缺失比例\n",
    "missing['缺失比例'] =  missing['缺失值个数']/X_missing.shape[0]\n",
    "missing\n",
    "# 排序\n",
    "missing.sort_values(by='缺失比例',ascending=False)\n",
    "\n",
    "#柱形图可视化\n",
    "import matplotlib.pyplot as plt\n",
    "import numpy as np\n",
    "import pylab as pl\n",
    "fig = plt.figure()#figsize=(18,6))\n",
    "plt.bar(np.arange(missing.shape[0]), list(missing['缺失比例'].values), align = 'center',color=['red','green','yellow','steelblue'])\n",
    "plt.title('Histogram of missing value of variables')\n",
    "plt.xlabel('variables names')\n",
    "plt.ylabel('missing rate')\n",
    "# 添加x轴标签，并旋转90度\n",
    "#plt.xticks(np.arange(missing.shape[0]),list(missing['特征']))\n",
    "plt.xticks(rotation=90)\n",
    "# 添加数值显示\n",
    "# for x,y in enumerate(list(missing['缺失比例'].values)):\n",
    "#     plt.text(x,y*-0.12,'{:.2%}'.format(y),ha='center',rotation=90)    \n",
    "    \n",
    "#     plt.xticks(rotation=90)\n",
    "# 添加数值显示\n",
    "# for x,y in enumerate(list(missing['缺失比例'].values)):\n",
    "#     plt.text(x,y+0.12,'{:.2%}'.format(y),ha='center',rotation=90)    \n",
    "#plt.ylim([0,1.2])\n",
    "plt.show()\n",
    " "
   ]
  },
  {
   "cell_type": "code",
   "execution_count": 170,
   "metadata": {},
   "outputs": [
    {
     "output_type": "execute_result",
     "data": {
      "text/plain": [
       "           MFG_DATE       WIP_QTY      MOVE_QTY            M            U  \\\n",
       "count  3.898000e+03   3898.000000   3898.000000  3886.000000  3885.000000   \n",
       "mean   2.020417e+07    483.195998   2115.756157     4.826150     0.684285   \n",
       "std    4.227961e+03   2499.138497   6485.535537     5.785274     0.586407   \n",
       "min    2.020110e+07      0.000000      0.500000     0.000000     0.002985   \n",
       "25%    2.020112e+07      0.000000     75.000000     1.900273     0.243333   \n",
       "50%    2.020122e+07     25.000000    325.000000     3.449388     0.593750   \n",
       "75%    2.021011e+07    100.000000   1156.500000     4.743428     0.921187   \n",
       "max    2.021013e+07  27122.000000  45652.000000    38.027170     3.483951   \n",
       "\n",
       "                 PT      UP_TIME     EQP_UTIL            CA            CS  \\\n",
       "count   3898.000000  3897.000000  3897.000000  3.889000e+03  3.889000e+03   \n",
       "mean    4289.813274     0.933258     0.779015  9.819214e+06  9.262739e+06   \n",
       "std     9377.884549     0.098282     0.232470  4.024248e+07  3.930272e+07   \n",
       "min        0.000000     0.000000     0.000000  0.000000e+00  0.000000e+00   \n",
       "25%      265.857871     0.915181     0.717158  1.858605e+05  1.418136e+05   \n",
       "50%     1546.761982     0.964067     0.850901  6.105353e+05  4.785987e+05   \n",
       "75%     3031.922803     0.994597     0.939447  1.503479e+06  1.106681e+06   \n",
       "max    61081.909091     1.000000     1.000000  6.945724e+08  6.805913e+08   \n",
       "\n",
       "            Finish  \n",
       "count  3898.000000  \n",
       "mean      0.023602  \n",
       "std       0.151825  \n",
       "min       0.000000  \n",
       "25%       0.000000  \n",
       "50%       0.000000  \n",
       "75%       0.000000  \n",
       "max       1.000000  "
      ],
      "text/html": "<div>\n<style scoped>\n    .dataframe tbody tr th:only-of-type {\n        vertical-align: middle;\n    }\n\n    .dataframe tbody tr th {\n        vertical-align: top;\n    }\n\n    .dataframe thead th {\n        text-align: right;\n    }\n</style>\n<table border=\"1\" class=\"dataframe\">\n  <thead>\n    <tr style=\"text-align: right;\">\n      <th></th>\n      <th>MFG_DATE</th>\n      <th>WIP_QTY</th>\n      <th>MOVE_QTY</th>\n      <th>M</th>\n      <th>U</th>\n      <th>PT</th>\n      <th>UP_TIME</th>\n      <th>EQP_UTIL</th>\n      <th>CA</th>\n      <th>CS</th>\n      <th>Finish</th>\n    </tr>\n  </thead>\n  <tbody>\n    <tr>\n      <th>count</th>\n      <td>3.898000e+03</td>\n      <td>3898.000000</td>\n      <td>3898.000000</td>\n      <td>3886.000000</td>\n      <td>3885.000000</td>\n      <td>3898.000000</td>\n      <td>3897.000000</td>\n      <td>3897.000000</td>\n      <td>3.889000e+03</td>\n      <td>3.889000e+03</td>\n      <td>3898.000000</td>\n    </tr>\n    <tr>\n      <th>mean</th>\n      <td>2.020417e+07</td>\n      <td>483.195998</td>\n      <td>2115.756157</td>\n      <td>4.826150</td>\n      <td>0.684285</td>\n      <td>4289.813274</td>\n      <td>0.933258</td>\n      <td>0.779015</td>\n      <td>9.819214e+06</td>\n      <td>9.262739e+06</td>\n      <td>0.023602</td>\n    </tr>\n    <tr>\n      <th>std</th>\n      <td>4.227961e+03</td>\n      <td>2499.138497</td>\n      <td>6485.535537</td>\n      <td>5.785274</td>\n      <td>0.586407</td>\n      <td>9377.884549</td>\n      <td>0.098282</td>\n      <td>0.232470</td>\n      <td>4.024248e+07</td>\n      <td>3.930272e+07</td>\n      <td>0.151825</td>\n    </tr>\n    <tr>\n      <th>min</th>\n      <td>2.020110e+07</td>\n      <td>0.000000</td>\n      <td>0.500000</td>\n      <td>0.000000</td>\n      <td>0.002985</td>\n      <td>0.000000</td>\n      <td>0.000000</td>\n      <td>0.000000</td>\n      <td>0.000000e+00</td>\n      <td>0.000000e+00</td>\n      <td>0.000000</td>\n    </tr>\n    <tr>\n      <th>25%</th>\n      <td>2.020112e+07</td>\n      <td>0.000000</td>\n      <td>75.000000</td>\n      <td>1.900273</td>\n      <td>0.243333</td>\n      <td>265.857871</td>\n      <td>0.915181</td>\n      <td>0.717158</td>\n      <td>1.858605e+05</td>\n      <td>1.418136e+05</td>\n      <td>0.000000</td>\n    </tr>\n    <tr>\n      <th>50%</th>\n      <td>2.020122e+07</td>\n      <td>25.000000</td>\n      <td>325.000000</td>\n      <td>3.449388</td>\n      <td>0.593750</td>\n      <td>1546.761982</td>\n      <td>0.964067</td>\n      <td>0.850901</td>\n      <td>6.105353e+05</td>\n      <td>4.785987e+05</td>\n      <td>0.000000</td>\n    </tr>\n    <tr>\n      <th>75%</th>\n      <td>2.021011e+07</td>\n      <td>100.000000</td>\n      <td>1156.500000</td>\n      <td>4.743428</td>\n      <td>0.921187</td>\n      <td>3031.922803</td>\n      <td>0.994597</td>\n      <td>0.939447</td>\n      <td>1.503479e+06</td>\n      <td>1.106681e+06</td>\n      <td>0.000000</td>\n    </tr>\n    <tr>\n      <th>max</th>\n      <td>2.021013e+07</td>\n      <td>27122.000000</td>\n      <td>45652.000000</td>\n      <td>38.027170</td>\n      <td>3.483951</td>\n      <td>61081.909091</td>\n      <td>1.000000</td>\n      <td>1.000000</td>\n      <td>6.945724e+08</td>\n      <td>6.805913e+08</td>\n      <td>1.000000</td>\n    </tr>\n  </tbody>\n</table>\n</div>"
     },
     "metadata": {},
     "execution_count": 170
    }
   ],
   "source": [
    "df_train.describe()"
   ]
  },
  {
   "cell_type": "code",
   "execution_count": 171,
   "metadata": {},
   "outputs": [
    {
     "output_type": "stream",
     "name": "stdout",
     "text": [
      "[[20201101 'DGM_AM_350' 'PK_DUVKrF' ... 3635820.8056688 1427079.10968744\n  0]\n [20201101 'EA_AsherM' 'PK_DUVKrF' ... 267171.797924688 388333.460186064\n  0]\n [20201101 'EB_Asher' 'PK_DUVKrF' ... 419874.28164436 1097463.87020019 0]\n ...\n [20210131 'WO_SiO2' 'PK_DUVKrF' ... 3215659.26236882 1574355.66266867 0]\n [20210131 'WY_DK' 'PK_DUVKrF' ... 913623.089013633 680035.173215718 0]\n [20210131 'XE_Sorter' 'PK_DUVKrF' ... 19413.2271045446 20277.0372473823\n  0]]\n"
     ]
    }
   ],
   "source": [
    "# 2\tTOOLG_ID_NEXT\t92\t0.023602\n",
    "# 5\tM\t12\t0.003079\n",
    "# 6\tU\t13\t0.003335\n",
    "# 8\tUP_TIME\t1\t0.000257\n",
    "# 9\tEQP_UTIL\t1\t0.000257\n",
    "# 10\tCA\t9\t0.002309\n",
    "# 11\tCS\t9\t0.002309\n",
    "df_train['TOOLG_ID_NEXT'] = df_train['TOOLG_ID_NEXT'].fillna('NA')\n",
    "# 均值填充\n",
    "df_train['M'] = df_train['M'].fillna(df_train['M'].mean())\n",
    "df_train['U'] = df_train['U'].fillna(df_train['U'].mean())\n",
    "# 中位数填充\n",
    "df_train['UP_TIME'] = df_train['UP_TIME'].fillna(df_train['UP_TIME'].median())\n",
    "df_train['EQP_UTIL'] = df_train['EQP_UTIL'].fillna(df_train['EQP_UTIL'].median())\n",
    "# 众数填充\n",
    "from sklearn.impute import SimpleImputer\n",
    "\n",
    "# imputer = Imputer(missing_values =\"NaN\",strategy = \"most_frequent\",axis = 0)\n",
    "# # imp_mean = SimpleImputer(missing_values = np.nan, strategy=\"most_frequent\",copy=True)\n",
    "# # df_train_mean = imp_mean.fit_transform(df_train[:'CS'])\n",
    "# # df_train_mean\n",
    "# df_train['CS']=imputer.transform(df_train['CS'].reshape(-1,1))\n",
    "# imputer = SimpleImputer(missing_values =\"nan\",strategy = \"mean\")\n",
    "# df_train['CS']=imputer.fit_transform(df_train['CS'].values.reshape(-1,1))[:0]\n",
    "imp = SimpleImputer(strategy=\"most_frequent\")\n",
    "print(imp.fit_transform(df))\n",
    "# strategy參數：可為\"mean\"(平均數[預設])、\"median\"(中位數)、\"most_frequent\"(眾數[可用於填充文字])、\"constant\"(常數[可用於填充文字])\n",
    "# 若使用\"constant\"(常數)進行填補，則需再指定fill_value參數為何值\n",
    "# fill_value = 0：使用0進行填補\n",
    "# copy: 預設為True:創建特徵矩陣的副本 ; 設為False時，會將缺失值直接填補到原本的特徵矩陣中去\n",
    "# X_missing"
   ]
  },
  {
   "cell_type": "code",
   "execution_count": 172,
   "metadata": {},
   "outputs": [
    {
     "output_type": "stream",
     "name": "stdout",
     "text": [
      "MFG_DATE         0\nTOOLG_ID         0\nTOOLG_ID_NEXT    0\nWIP_QTY          0\nMOVE_QTY         0\nM                0\nU                0\nPT               0\nUP_TIME          0\nEQP_UTIL         0\nCA               9\nCS               9\nFinish           0\ndtype: int64\n"
     ]
    }
   ],
   "source": [
    "\n",
    "# 1. 查看缺失情况\n",
    "print(df_train.isnull().sum())\n",
    "# print(df_test.isnull().sum())\n",
    "#df_train.dropna() # 刪除null值\n",
    "#df2_test = df2_test.dropna()# 刪除null值\n"
   ]
  },
  {
   "cell_type": "code",
   "execution_count": 172,
   "metadata": {},
   "outputs": [],
   "source": [
    "  "
   ]
  },
  {
   "cell_type": "code",
   "execution_count": 173,
   "metadata": {},
   "outputs": [
    {
     "output_type": "stream",
     "name": "stdout",
     "text": [
      "<class 'pandas.core.frame.DataFrame'>\nRangeIndex: 3898 entries, 0 to 3897\nData columns (total 13 columns):\n #   Column         Non-Null Count  Dtype  \n---  ------         --------------  -----  \n 0   MFG_DATE       3898 non-null   int64  \n 1   TOOLG_ID       3898 non-null   object \n 2   TOOLG_ID_NEXT  3898 non-null   object \n 3   WIP_QTY        3898 non-null   int64  \n 4   MOVE_QTY       3898 non-null   float64\n 5   M              3898 non-null   float64\n 6   U              3898 non-null   float64\n 7   PT             3898 non-null   float64\n 8   UP_TIME        3898 non-null   float64\n 9   EQP_UTIL       3898 non-null   float64\n 10  CA             3889 non-null   float64\n 11  CS             3889 non-null   float64\n 12  Finish         3898 non-null   int64  \ndtypes: float64(8), int64(3), object(2)\nmemory usage: 396.0+ KB\n"
     ]
    }
   ],
   "source": [
    "df_train.info()"
   ]
  },
  {
   "cell_type": "code",
   "execution_count": 174,
   "metadata": {},
   "outputs": [],
   "source": [
    "df_train[['WIP_QTY2']] = df_train['MOVE_QTY']+df_train['WIP_QTY']"
   ]
  },
  {
   "cell_type": "code",
   "execution_count": null,
   "metadata": {},
   "outputs": [],
   "source": []
  },
  {
   "cell_type": "code",
   "execution_count": 175,
   "metadata": {},
   "outputs": [],
   "source": [
    "df_train[['ToolPrefix', 'ToolSub']] = df_train['TOOLG_ID'].str.split('_', 1, expand=True)\n"
   ]
  },
  {
   "cell_type": "code",
   "execution_count": 176,
   "metadata": {},
   "outputs": [
    {
     "output_type": "execute_result",
     "data": {
      "text/plain": [
       "           MFG_DATE       WIP_QTY      MOVE_QTY            M            U  \\\n",
       "count  3.898000e+03   3898.000000   3898.000000  3898.000000  3898.000000   \n",
       "mean   2.020417e+07    483.195998   2115.756157     4.826150     0.684285   \n",
       "std    4.227961e+03   2499.138497   6485.535537     5.776359     0.585428   \n",
       "min    2.020110e+07      0.000000      0.500000     0.000000     0.002985   \n",
       "25%    2.020112e+07      0.000000     75.000000     1.901335     0.243864   \n",
       "50%    2.020122e+07     25.000000    325.000000     3.452527     0.598874   \n",
       "75%    2.021011e+07    100.000000   1156.500000     4.760755     0.920765   \n",
       "max    2.021013e+07  27122.000000  45652.000000    38.027170     3.483951   \n",
       "\n",
       "                 PT      UP_TIME     EQP_UTIL            CA            CS  \\\n",
       "count   3898.000000  3898.000000  3898.000000  3.889000e+03  3.889000e+03   \n",
       "mean    4289.813274     0.933266     0.779034  9.819214e+06  9.262739e+06   \n",
       "std     9377.884549     0.098271     0.232443  4.024248e+07  3.930272e+07   \n",
       "min        0.000000     0.000000     0.000000  0.000000e+00  0.000000e+00   \n",
       "25%      265.857871     0.915245     0.717248  1.858605e+05  1.418136e+05   \n",
       "50%     1546.761982     0.964067     0.850901  6.105353e+05  4.785987e+05   \n",
       "75%     3031.922803     0.994595     0.939432  1.503479e+06  1.106681e+06   \n",
       "max    61081.909091     1.000000     1.000000  6.945724e+08  6.805913e+08   \n",
       "\n",
       "            Finish      WIP_QTY2  \n",
       "count  3898.000000   3898.000000  \n",
       "mean      0.023602   2598.952155  \n",
       "std       0.151825   8880.818740  \n",
       "min       0.000000      0.500000  \n",
       "25%       0.000000     99.000000  \n",
       "50%       0.000000    370.500000  \n",
       "75%       0.000000   1225.750000  \n",
       "max       1.000000  72774.000000  "
      ],
      "text/html": "<div>\n<style scoped>\n    .dataframe tbody tr th:only-of-type {\n        vertical-align: middle;\n    }\n\n    .dataframe tbody tr th {\n        vertical-align: top;\n    }\n\n    .dataframe thead th {\n        text-align: right;\n    }\n</style>\n<table border=\"1\" class=\"dataframe\">\n  <thead>\n    <tr style=\"text-align: right;\">\n      <th></th>\n      <th>MFG_DATE</th>\n      <th>WIP_QTY</th>\n      <th>MOVE_QTY</th>\n      <th>M</th>\n      <th>U</th>\n      <th>PT</th>\n      <th>UP_TIME</th>\n      <th>EQP_UTIL</th>\n      <th>CA</th>\n      <th>CS</th>\n      <th>Finish</th>\n      <th>WIP_QTY2</th>\n    </tr>\n  </thead>\n  <tbody>\n    <tr>\n      <th>count</th>\n      <td>3.898000e+03</td>\n      <td>3898.000000</td>\n      <td>3898.000000</td>\n      <td>3898.000000</td>\n      <td>3898.000000</td>\n      <td>3898.000000</td>\n      <td>3898.000000</td>\n      <td>3898.000000</td>\n      <td>3.889000e+03</td>\n      <td>3.889000e+03</td>\n      <td>3898.000000</td>\n      <td>3898.000000</td>\n    </tr>\n    <tr>\n      <th>mean</th>\n      <td>2.020417e+07</td>\n      <td>483.195998</td>\n      <td>2115.756157</td>\n      <td>4.826150</td>\n      <td>0.684285</td>\n      <td>4289.813274</td>\n      <td>0.933266</td>\n      <td>0.779034</td>\n      <td>9.819214e+06</td>\n      <td>9.262739e+06</td>\n      <td>0.023602</td>\n      <td>2598.952155</td>\n    </tr>\n    <tr>\n      <th>std</th>\n      <td>4.227961e+03</td>\n      <td>2499.138497</td>\n      <td>6485.535537</td>\n      <td>5.776359</td>\n      <td>0.585428</td>\n      <td>9377.884549</td>\n      <td>0.098271</td>\n      <td>0.232443</td>\n      <td>4.024248e+07</td>\n      <td>3.930272e+07</td>\n      <td>0.151825</td>\n      <td>8880.818740</td>\n    </tr>\n    <tr>\n      <th>min</th>\n      <td>2.020110e+07</td>\n      <td>0.000000</td>\n      <td>0.500000</td>\n      <td>0.000000</td>\n      <td>0.002985</td>\n      <td>0.000000</td>\n      <td>0.000000</td>\n      <td>0.000000</td>\n      <td>0.000000e+00</td>\n      <td>0.000000e+00</td>\n      <td>0.000000</td>\n      <td>0.500000</td>\n    </tr>\n    <tr>\n      <th>25%</th>\n      <td>2.020112e+07</td>\n      <td>0.000000</td>\n      <td>75.000000</td>\n      <td>1.901335</td>\n      <td>0.243864</td>\n      <td>265.857871</td>\n      <td>0.915245</td>\n      <td>0.717248</td>\n      <td>1.858605e+05</td>\n      <td>1.418136e+05</td>\n      <td>0.000000</td>\n      <td>99.000000</td>\n    </tr>\n    <tr>\n      <th>50%</th>\n      <td>2.020122e+07</td>\n      <td>25.000000</td>\n      <td>325.000000</td>\n      <td>3.452527</td>\n      <td>0.598874</td>\n      <td>1546.761982</td>\n      <td>0.964067</td>\n      <td>0.850901</td>\n      <td>6.105353e+05</td>\n      <td>4.785987e+05</td>\n      <td>0.000000</td>\n      <td>370.500000</td>\n    </tr>\n    <tr>\n      <th>75%</th>\n      <td>2.021011e+07</td>\n      <td>100.000000</td>\n      <td>1156.500000</td>\n      <td>4.760755</td>\n      <td>0.920765</td>\n      <td>3031.922803</td>\n      <td>0.994595</td>\n      <td>0.939432</td>\n      <td>1.503479e+06</td>\n      <td>1.106681e+06</td>\n      <td>0.000000</td>\n      <td>1225.750000</td>\n    </tr>\n    <tr>\n      <th>max</th>\n      <td>2.021013e+07</td>\n      <td>27122.000000</td>\n      <td>45652.000000</td>\n      <td>38.027170</td>\n      <td>3.483951</td>\n      <td>61081.909091</td>\n      <td>1.000000</td>\n      <td>1.000000</td>\n      <td>6.945724e+08</td>\n      <td>6.805913e+08</td>\n      <td>1.000000</td>\n      <td>72774.000000</td>\n    </tr>\n  </tbody>\n</table>\n</div>"
     },
     "metadata": {},
     "execution_count": 176
    }
   ],
   "source": [
    "df_train.describe()"
   ]
  },
  {
   "cell_type": "code",
   "execution_count": 177,
   "metadata": {},
   "outputs": [],
   "source": [
    "import sweetviz as sv\n",
    "pairwise_analysis='off' #相關性和其他型別的資料關聯可能需要花費較長時間。如果超過了某個閾值，就需要設定這個引數為on或者off，以判斷是否需要分析資料相關性。"
   ]
  },
  {
   "cell_type": "code",
   "execution_count": 182,
   "metadata": {},
   "outputs": [
    {
     "output_type": "stream",
     "name": "stderr",
     "text": [
      "Done! Use 'show' commands to display/save.   |██████████| [100%]   00:00 -> (00:00 left)\n",
      "Report Basic_train_report.html was generated! NOTEBOOK/COLAB USERS: the web browser MAY not pop up, regardless, the report IS saved in your notebook/colab files.\n",
      "Done! Use 'show' commands to display/save.   |██████████| [100%]   00:01 -> (00:00 left)\n",
      "Report Compare_male_female_report.html was generated! NOTEBOOK/COLAB USERS: the web browser MAY not pop up, regardless, the report IS saved in your notebook/colab files.\n"
     ]
    }
   ],
   "source": [
    "report_train = sv.analyze([df_train, 'train'],\n",
    "                                target_feat='MOVE_QTY' \n",
    ")\n",
    "report_train.show_html(filepath='Basic_train_report.html'\n",
    "                                ) # 儲存為html的格式\n",
    "\n",
    "compare_subsets_report = sv.compare_intra(df_train,\n",
    "                                          df_train['Finish']==1, # 給條件區分\n",
    "                                          ['Finish', 'notFinish'], # 為兩個子資料集命名 \n",
    "                                          target_feat='MOVE_QTY',\n",
    "                                          )\n",
    "\n",
    "compare_subsets_report.show_html(filepath='Compare_male_female_report.html')"
   ]
  },
  {
   "cell_type": "code",
   "execution_count": 33,
   "metadata": {},
   "outputs": [
    {
     "output_type": "execute_result",
     "data": {
      "text/plain": [
       "   MFG_DATE    TOOLG_ID TOOLG_ID_NEXT  WIP_QTY  MOVE_QTY          M         U  \\\n",
       "0  20201101  DGM_AM_350     PK_DUVKrF        0      75.0   4.333333  0.866667   \n",
       "1  20201101   EA_AsherM     PK_DUVKrF        0      25.0   7.912943  0.376807   \n",
       "2  20201101    EB_Asher     PK_DUVKrF        0     125.0  14.547104  0.484903   \n",
       "3  20201101    EL_Light     PK_DUVKrF        0     700.0   3.882883  1.941441   \n",
       "4  20201101   FC_PadOxi     PK_DUVKrF        0     175.0   3.628141  0.302345   \n",
       "\n",
       "             PT   UP_TIME  EQP_UTIL            CA            CS ToolPrefix  \\\n",
       "0   4210.137255  0.894144  0.964586  3.635821e+06  1.427079e+06        DGM   \n",
       "1   1660.781202  0.997027  0.837179  2.671718e+05  3.883335e+05         EA   \n",
       "2   2353.752487  0.972583  0.950711  4.198743e+05  1.097464e+06         EB   \n",
       "3   1533.378378  0.980550  0.896763  2.933828e+05  9.144524e+04         EL   \n",
       "4  11241.889447  0.894738  0.909255  2.588558e+07  2.396351e+07         FC   \n",
       "\n",
       "  ToolSub  \n",
       "0  AM_350  \n",
       "1  AsherM  \n",
       "2   Asher  \n",
       "3   Light  \n",
       "4  PadOxi  "
      ],
      "text/html": "<div>\n<style scoped>\n    .dataframe tbody tr th:only-of-type {\n        vertical-align: middle;\n    }\n\n    .dataframe tbody tr th {\n        vertical-align: top;\n    }\n\n    .dataframe thead th {\n        text-align: right;\n    }\n</style>\n<table border=\"1\" class=\"dataframe\">\n  <thead>\n    <tr style=\"text-align: right;\">\n      <th></th>\n      <th>MFG_DATE</th>\n      <th>TOOLG_ID</th>\n      <th>TOOLG_ID_NEXT</th>\n      <th>WIP_QTY</th>\n      <th>MOVE_QTY</th>\n      <th>M</th>\n      <th>U</th>\n      <th>PT</th>\n      <th>UP_TIME</th>\n      <th>EQP_UTIL</th>\n      <th>CA</th>\n      <th>CS</th>\n      <th>ToolPrefix</th>\n      <th>ToolSub</th>\n    </tr>\n  </thead>\n  <tbody>\n    <tr>\n      <th>0</th>\n      <td>20201101</td>\n      <td>DGM_AM_350</td>\n      <td>PK_DUVKrF</td>\n      <td>0</td>\n      <td>75.0</td>\n      <td>4.333333</td>\n      <td>0.866667</td>\n      <td>4210.137255</td>\n      <td>0.894144</td>\n      <td>0.964586</td>\n      <td>3.635821e+06</td>\n      <td>1.427079e+06</td>\n      <td>DGM</td>\n      <td>AM_350</td>\n    </tr>\n    <tr>\n      <th>1</th>\n      <td>20201101</td>\n      <td>EA_AsherM</td>\n      <td>PK_DUVKrF</td>\n      <td>0</td>\n      <td>25.0</td>\n      <td>7.912943</td>\n      <td>0.376807</td>\n      <td>1660.781202</td>\n      <td>0.997027</td>\n      <td>0.837179</td>\n      <td>2.671718e+05</td>\n      <td>3.883335e+05</td>\n      <td>EA</td>\n      <td>AsherM</td>\n    </tr>\n    <tr>\n      <th>2</th>\n      <td>20201101</td>\n      <td>EB_Asher</td>\n      <td>PK_DUVKrF</td>\n      <td>0</td>\n      <td>125.0</td>\n      <td>14.547104</td>\n      <td>0.484903</td>\n      <td>2353.752487</td>\n      <td>0.972583</td>\n      <td>0.950711</td>\n      <td>4.198743e+05</td>\n      <td>1.097464e+06</td>\n      <td>EB</td>\n      <td>Asher</td>\n    </tr>\n    <tr>\n      <th>3</th>\n      <td>20201101</td>\n      <td>EL_Light</td>\n      <td>PK_DUVKrF</td>\n      <td>0</td>\n      <td>700.0</td>\n      <td>3.882883</td>\n      <td>1.941441</td>\n      <td>1533.378378</td>\n      <td>0.980550</td>\n      <td>0.896763</td>\n      <td>2.933828e+05</td>\n      <td>9.144524e+04</td>\n      <td>EL</td>\n      <td>Light</td>\n    </tr>\n    <tr>\n      <th>4</th>\n      <td>20201101</td>\n      <td>FC_PadOxi</td>\n      <td>PK_DUVKrF</td>\n      <td>0</td>\n      <td>175.0</td>\n      <td>3.628141</td>\n      <td>0.302345</td>\n      <td>11241.889447</td>\n      <td>0.894738</td>\n      <td>0.909255</td>\n      <td>2.588558e+07</td>\n      <td>2.396351e+07</td>\n      <td>FC</td>\n      <td>PadOxi</td>\n    </tr>\n  </tbody>\n</table>\n</div>"
     },
     "metadata": {},
     "execution_count": 33
    }
   ],
   "source": [
    "df_train.head()"
   ]
  },
  {
   "cell_type": "code",
   "execution_count": 41,
   "metadata": {},
   "outputs": [
    {
     "output_type": "execute_result",
     "data": {
      "text/plain": [
       "      MFG_DATE    TOOLG_ID TOOLG_ID_NEXT  WIP_QTY  MOVE_QTY          M  \\\n",
       "0     20201101  DGM_AM_350     PK_DUVKrF        0      75.0   4.333333   \n",
       "1     20201101   EA_AsherM     PK_DUVKrF        0      25.0   7.912943   \n",
       "2     20201101    EB_Asher     PK_DUVKrF        0     125.0  14.547104   \n",
       "3     20201101    EL_Light     PK_DUVKrF        0     700.0   3.882883   \n",
       "4     20201101   FC_PadOxi     PK_DUVKrF        0     175.0   3.628141   \n",
       "...        ...         ...           ...      ...       ...        ...   \n",
       "3893  20210131   WM_PosCln     PK_DUVKrF      659    6918.0   9.948901   \n",
       "3894  20210131   WM_PreCln     PK_DUVKrF        0      50.0   3.902196   \n",
       "3895  20210131     WO_SiO2     PK_DUVKrF        0      25.0   2.413793   \n",
       "3896  20210131       WY_DK     PK_DUVKrF       25     100.0   1.747126   \n",
       "3897  20210131   XE_Sorter     PK_DUVKrF       25     451.0  14.328921   \n",
       "\n",
       "             U            PT   UP_TIME  EQP_UTIL            CA            CS  \\\n",
       "0     0.866667   4210.137255  0.894144  0.964586  3.635821e+06  1.427079e+06   \n",
       "1     0.376807   1660.781202  0.997027  0.837179  2.671718e+05  3.883335e+05   \n",
       "2     0.484903   2353.752487  0.972583  0.950711  4.198743e+05  1.097464e+06   \n",
       "3     1.941441   1533.378378  0.980550  0.896763  2.933828e+05  9.144524e+04   \n",
       "4     0.302345  11241.889447  0.894738  0.909255  2.588558e+07  2.396351e+07   \n",
       "...        ...           ...       ...       ...           ...           ...   \n",
       "3893  0.621806   2976.063736  1.000000  0.991135  1.358413e+06  8.657739e+05   \n",
       "3894  0.780439   2449.485030  0.982268  0.985043  5.269941e+05  1.817229e+05   \n",
       "3895  0.804598   5035.844828  0.913641  0.970327  3.215659e+06  1.574356e+06   \n",
       "3896  0.873563   3237.965517  0.943347  0.886387  9.136231e+05  6.800352e+05   \n",
       "3897  0.796051    272.570483  0.996697  0.636871  1.941323e+04  2.027704e+04   \n",
       "\n",
       "     ToolPrefix ToolSub  WIP_QTY2  \n",
       "0           DGM  AM_350      75.0  \n",
       "1            EA  AsherM      25.0  \n",
       "2            EB   Asher     125.0  \n",
       "3            EL   Light     700.0  \n",
       "4            FC  PadOxi     175.0  \n",
       "...         ...     ...       ...  \n",
       "3893         WM  PosCln    7577.0  \n",
       "3894         WM  PreCln      50.0  \n",
       "3895         WO    SiO2      25.0  \n",
       "3896         WY      DK     125.0  \n",
       "3897         XE  Sorter     476.0  \n",
       "\n",
       "[3716 rows x 15 columns]"
      ],
      "text/html": "<div>\n<style scoped>\n    .dataframe tbody tr th:only-of-type {\n        vertical-align: middle;\n    }\n\n    .dataframe tbody tr th {\n        vertical-align: top;\n    }\n\n    .dataframe thead th {\n        text-align: right;\n    }\n</style>\n<table border=\"1\" class=\"dataframe\">\n  <thead>\n    <tr style=\"text-align: right;\">\n      <th></th>\n      <th>MFG_DATE</th>\n      <th>TOOLG_ID</th>\n      <th>TOOLG_ID_NEXT</th>\n      <th>WIP_QTY</th>\n      <th>MOVE_QTY</th>\n      <th>M</th>\n      <th>U</th>\n      <th>PT</th>\n      <th>UP_TIME</th>\n      <th>EQP_UTIL</th>\n      <th>CA</th>\n      <th>CS</th>\n      <th>ToolPrefix</th>\n      <th>ToolSub</th>\n      <th>WIP_QTY2</th>\n    </tr>\n  </thead>\n  <tbody>\n    <tr>\n      <th>0</th>\n      <td>20201101</td>\n      <td>DGM_AM_350</td>\n      <td>PK_DUVKrF</td>\n      <td>0</td>\n      <td>75.0</td>\n      <td>4.333333</td>\n      <td>0.866667</td>\n      <td>4210.137255</td>\n      <td>0.894144</td>\n      <td>0.964586</td>\n      <td>3.635821e+06</td>\n      <td>1.427079e+06</td>\n      <td>DGM</td>\n      <td>AM_350</td>\n      <td>75.0</td>\n    </tr>\n    <tr>\n      <th>1</th>\n      <td>20201101</td>\n      <td>EA_AsherM</td>\n      <td>PK_DUVKrF</td>\n      <td>0</td>\n      <td>25.0</td>\n      <td>7.912943</td>\n      <td>0.376807</td>\n      <td>1660.781202</td>\n      <td>0.997027</td>\n      <td>0.837179</td>\n      <td>2.671718e+05</td>\n      <td>3.883335e+05</td>\n      <td>EA</td>\n      <td>AsherM</td>\n      <td>25.0</td>\n    </tr>\n    <tr>\n      <th>2</th>\n      <td>20201101</td>\n      <td>EB_Asher</td>\n      <td>PK_DUVKrF</td>\n      <td>0</td>\n      <td>125.0</td>\n      <td>14.547104</td>\n      <td>0.484903</td>\n      <td>2353.752487</td>\n      <td>0.972583</td>\n      <td>0.950711</td>\n      <td>4.198743e+05</td>\n      <td>1.097464e+06</td>\n      <td>EB</td>\n      <td>Asher</td>\n      <td>125.0</td>\n    </tr>\n    <tr>\n      <th>3</th>\n      <td>20201101</td>\n      <td>EL_Light</td>\n      <td>PK_DUVKrF</td>\n      <td>0</td>\n      <td>700.0</td>\n      <td>3.882883</td>\n      <td>1.941441</td>\n      <td>1533.378378</td>\n      <td>0.980550</td>\n      <td>0.896763</td>\n      <td>2.933828e+05</td>\n      <td>9.144524e+04</td>\n      <td>EL</td>\n      <td>Light</td>\n      <td>700.0</td>\n    </tr>\n    <tr>\n      <th>4</th>\n      <td>20201101</td>\n      <td>FC_PadOxi</td>\n      <td>PK_DUVKrF</td>\n      <td>0</td>\n      <td>175.0</td>\n      <td>3.628141</td>\n      <td>0.302345</td>\n      <td>11241.889447</td>\n      <td>0.894738</td>\n      <td>0.909255</td>\n      <td>2.588558e+07</td>\n      <td>2.396351e+07</td>\n      <td>FC</td>\n      <td>PadOxi</td>\n      <td>175.0</td>\n    </tr>\n    <tr>\n      <th>...</th>\n      <td>...</td>\n      <td>...</td>\n      <td>...</td>\n      <td>...</td>\n      <td>...</td>\n      <td>...</td>\n      <td>...</td>\n      <td>...</td>\n      <td>...</td>\n      <td>...</td>\n      <td>...</td>\n      <td>...</td>\n      <td>...</td>\n      <td>...</td>\n      <td>...</td>\n    </tr>\n    <tr>\n      <th>3893</th>\n      <td>20210131</td>\n      <td>WM_PosCln</td>\n      <td>PK_DUVKrF</td>\n      <td>659</td>\n      <td>6918.0</td>\n      <td>9.948901</td>\n      <td>0.621806</td>\n      <td>2976.063736</td>\n      <td>1.000000</td>\n      <td>0.991135</td>\n      <td>1.358413e+06</td>\n      <td>8.657739e+05</td>\n      <td>WM</td>\n      <td>PosCln</td>\n      <td>7577.0</td>\n    </tr>\n    <tr>\n      <th>3894</th>\n      <td>20210131</td>\n      <td>WM_PreCln</td>\n      <td>PK_DUVKrF</td>\n      <td>0</td>\n      <td>50.0</td>\n      <td>3.902196</td>\n      <td>0.780439</td>\n      <td>2449.485030</td>\n      <td>0.982268</td>\n      <td>0.985043</td>\n      <td>5.269941e+05</td>\n      <td>1.817229e+05</td>\n      <td>WM</td>\n      <td>PreCln</td>\n      <td>50.0</td>\n    </tr>\n    <tr>\n      <th>3895</th>\n      <td>20210131</td>\n      <td>WO_SiO2</td>\n      <td>PK_DUVKrF</td>\n      <td>0</td>\n      <td>25.0</td>\n      <td>2.413793</td>\n      <td>0.804598</td>\n      <td>5035.844828</td>\n      <td>0.913641</td>\n      <td>0.970327</td>\n      <td>3.215659e+06</td>\n      <td>1.574356e+06</td>\n      <td>WO</td>\n      <td>SiO2</td>\n      <td>25.0</td>\n    </tr>\n    <tr>\n      <th>3896</th>\n      <td>20210131</td>\n      <td>WY_DK</td>\n      <td>PK_DUVKrF</td>\n      <td>25</td>\n      <td>100.0</td>\n      <td>1.747126</td>\n      <td>0.873563</td>\n      <td>3237.965517</td>\n      <td>0.943347</td>\n      <td>0.886387</td>\n      <td>9.136231e+05</td>\n      <td>6.800352e+05</td>\n      <td>WY</td>\n      <td>DK</td>\n      <td>125.0</td>\n    </tr>\n    <tr>\n      <th>3897</th>\n      <td>20210131</td>\n      <td>XE_Sorter</td>\n      <td>PK_DUVKrF</td>\n      <td>25</td>\n      <td>451.0</td>\n      <td>14.328921</td>\n      <td>0.796051</td>\n      <td>272.570483</td>\n      <td>0.996697</td>\n      <td>0.636871</td>\n      <td>1.941323e+04</td>\n      <td>2.027704e+04</td>\n      <td>XE</td>\n      <td>Sorter</td>\n      <td>476.0</td>\n    </tr>\n  </tbody>\n</table>\n<p>3716 rows × 15 columns</p>\n</div>"
     },
     "metadata": {},
     "execution_count": 41
    }
   ],
   "source": []
  },
  {
   "cell_type": "code",
   "execution_count": null,
   "metadata": {},
   "outputs": [],
   "source": []
  }
 ]
}