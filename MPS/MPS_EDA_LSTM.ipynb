{
 "metadata": {
  "language_info": {
   "codemirror_mode": {
    "name": "ipython",
    "version": 3
   },
   "file_extension": ".py",
   "mimetype": "text/x-python",
   "name": "python",
   "nbconvert_exporter": "python",
   "pygments_lexer": "ipython3",
   "version": "3.7.9-final"
  },
  "orig_nbformat": 2,
  "kernelspec": {
   "name": "python3",
   "display_name": "Python 3.7.9 64-bit ('python37': conda)",
   "metadata": {
    "interpreter": {
     "hash": "c42b5a0b25f25b91547b1efdbb1d498b56c8afb4f9c2df8520f37980aedc3d2e"
    }
   }
  }
 },
 "nbformat": 4,
 "nbformat_minor": 2,
 "cells": [
  {
   "cell_type": "code",
   "execution_count": 3,
   "metadata": {},
   "outputs": [],
   "source": [
    "import numpy as np \n",
    "import math\n",
    "import matplotlib.pyplot as plt\n",
    "import pandas as pd\n",
    "\n",
    "import datetime\n",
    "final_date = '2021-01-18'\n",
    "target_ToolGID = 'PK_DUVKrF'"
   ]
  },
  {
   "cell_type": "code",
   "execution_count": null,
   "metadata": {},
   "outputs": [],
   "source": [
    "def transform_stationary(ts):\n",
    "    '''\n",
    "    平穩變換：\n",
    "    消除趨勢：移動平均、指數加權移動平均\n",
    "    有時候簡單的減掉趨勢的方法并不能得到平穩序列，尤其對于高季節性的時間序列來說，此時可以采用differencing(差分)或decomposition(分解)\n",
    "    消除趨勢和季節性：差分、序列分解\n",
    "    :param ts:\n",
    "    :return:\n",
    "    '''\n",
    "    # 利用log降低異方差性\n",
    "    ts_log = np.log(ts)\n",
    "    # plt.plot(ts_log, color='brown', label='ts_log')\n",
    "    # plt.title('ts_log')\n",
    "    # plt.show()\n",
    "\n",
    "    # 移動平均法，得到趨勢（需要確定合適的K值，當前例子中，合適的K值是12個月，因為趨勢是逐年增長，但是有些復雜場景下，K值的確定很難）\n",
    "    # trend = use_moving_avg(ts_log)\n",
    "    # 指數加權移動平均法平，得到趨勢(由于每次都是從當前時刻到起始時刻的指數加權平均，所以沒有確定K值的問題)\n",
    "    # trend = use_exponentially_weighted_moving_avg(ts_log)\n",
    "    # print(trend)\n",
    "    # 減去趨勢：將平滑后的序列從ts_log序列中移除\n",
    "    # rs = ts_log - trend\n",
    "    # 若趨勢建模是用的移動平均法，由于是取前12個月的均值，所以開始的11個值的移動平均都是非數了，需要去除非數\n",
    "    # rs.dropna(inplace=True)\n",
    "\n",
    "    # differencing(差分)\n",
    "    rs_log_diff = ts_log - ts_log.shift()  # 1階差分\n",
    "    # use_rolling_statistics(rs)\n",
    "    # rs = rs - rs.shift() # 2階差分\n",
    "    # 季節性差分 ,此案例中的季節間隔為12個月  d=1 D=1\n",
    "    # rs = (ts_log - ts_log.shift(periods=12)) - (ts_log.shift() - ts_log.shift().shift(periods=12))\n",
    "    rs_log_diff.dropna(inplace=True)\n",
    "\n",
    "    # decomposition(分解)\n",
    "    # rs = use_decomposition(ts_log)\n",
    "    # rs.dropna(inplace=True)\n",
    "\n",
    "    # 對去除趨勢后的序列做平穩性檢驗\n",
    "    # use_rolling_statistics(rs)\n",
    "    use_df(rs_log_diff)\n",
    "    return ts_log, rs_log_diff"
   ]
  },
  {
   "cell_type": "code",
   "execution_count": 4,
   "metadata": {},
   "outputs": [],
   "source": [
    "df_train_orign=pd.read_csv('./data/TRCT_TrainingData_20210131.csv')\n",
    " \n",
    "df_train_orign = df_train_orign.loc[df_train_orign['TOOLG_ID']==target_ToolGID]\n",
    "#df_train_orign['MFG_DATE'] = pd.to_datetime(test['MFG_DATE'],format='%Y%m%d') \n",
    "df_train_orign['MFG_DATE'] = df_train_orign['MFG_DATE'].apply(lambda x: pd.to_datetime(str(x), format='%Y%m%d'))"
   ]
  },
  {
   "cell_type": "code",
   "execution_count": null,
   "metadata": {},
   "outputs": [],
   "source": [
    "from statsmodels.tsa.arima_model import ARIMA"
   ]
  },
  {
   "cell_type": "code",
   "execution_count": 5,
   "metadata": {},
   "outputs": [],
   "source": [
    "df = df_train_orign[['MFG_DATE','MOVE_QTY']]"
   ]
  },
  {
   "cell_type": "code",
   "execution_count": 6,
   "metadata": {},
   "outputs": [
    {
     "output_type": "execute_result",
     "data": {
      "text/plain": [
       "         MFG_DATE  MOVE_QTY\n",
       "230    2020-01-22   39188.0\n",
       "566    2020-01-23   41196.0\n",
       "902    2020-01-24   39928.0\n",
       "1238   2020-01-25   41096.0\n",
       "1574   2020-01-26   42221.0\n",
       "...           ...       ...\n",
       "127194 2021-01-27   38413.0\n",
       "127540 2021-01-28   40682.0\n",
       "127884 2021-01-29   42199.0\n",
       "128230 2021-01-30   44709.0\n",
       "128575 2021-01-31   44488.0\n",
       "\n",
       "[377 rows x 2 columns]"
      ],
      "text/html": "<div>\n<style scoped>\n    .dataframe tbody tr th:only-of-type {\n        vertical-align: middle;\n    }\n\n    .dataframe tbody tr th {\n        vertical-align: top;\n    }\n\n    .dataframe thead th {\n        text-align: right;\n    }\n</style>\n<table border=\"1\" class=\"dataframe\">\n  <thead>\n    <tr style=\"text-align: right;\">\n      <th></th>\n      <th>MFG_DATE</th>\n      <th>MOVE_QTY</th>\n    </tr>\n  </thead>\n  <tbody>\n    <tr>\n      <th>230</th>\n      <td>2020-01-22</td>\n      <td>39188.0</td>\n    </tr>\n    <tr>\n      <th>566</th>\n      <td>2020-01-23</td>\n      <td>41196.0</td>\n    </tr>\n    <tr>\n      <th>902</th>\n      <td>2020-01-24</td>\n      <td>39928.0</td>\n    </tr>\n    <tr>\n      <th>1238</th>\n      <td>2020-01-25</td>\n      <td>41096.0</td>\n    </tr>\n    <tr>\n      <th>1574</th>\n      <td>2020-01-26</td>\n      <td>42221.0</td>\n    </tr>\n    <tr>\n      <th>...</th>\n      <td>...</td>\n      <td>...</td>\n    </tr>\n    <tr>\n      <th>127194</th>\n      <td>2021-01-27</td>\n      <td>38413.0</td>\n    </tr>\n    <tr>\n      <th>127540</th>\n      <td>2021-01-28</td>\n      <td>40682.0</td>\n    </tr>\n    <tr>\n      <th>127884</th>\n      <td>2021-01-29</td>\n      <td>42199.0</td>\n    </tr>\n    <tr>\n      <th>128230</th>\n      <td>2021-01-30</td>\n      <td>44709.0</td>\n    </tr>\n    <tr>\n      <th>128575</th>\n      <td>2021-01-31</td>\n      <td>44488.0</td>\n    </tr>\n  </tbody>\n</table>\n<p>377 rows × 2 columns</p>\n</div>"
     },
     "metadata": {},
     "execution_count": 6
    }
   ],
   "source": []
  },
  {
   "cell_type": "code",
   "execution_count": null,
   "metadata": {},
   "outputs": [],
   "source": []
  }
 ]
}