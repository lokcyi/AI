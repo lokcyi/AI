{
 "metadata": {
  "language_info": {
   "codemirror_mode": {
    "name": "ipython",
    "version": 3
   },
   "file_extension": ".py",
   "mimetype": "text/x-python",
   "name": "python",
   "nbconvert_exporter": "python",
   "pygments_lexer": "ipython3",
   "version": "3.7.9-final"
  },
  "orig_nbformat": 2,
  "kernelspec": {
   "name": "python3",
   "display_name": "Python 3",
   "language": "python"
  }
 },
 "nbformat": 4,
 "nbformat_minor": 2,
 "cells": [
  {
   "source": [
    "## https://blog.csdn.net/SZU_Hadooper/article/details/79050483\n",
    "## https://flashgene.com/archives/140094.html\n",
    "## https://medium.com/@gary1346aa/%E6%A9%9F%E6%A2%B0%E5%AD%B8%E7%BF%92-gradient-boosting-1-272e8d7b17e1\n",
    "\n",
    "## 資料分析&機器學習 第5.2講: Kaggle機器學習競賽神器XGBoost介紹\n",
    "https://medium.com/jameslearningnote/%E8%B3%87%E6%96%99%E5%88%86%E6%9E%90-%E6%A9%9F%E5%99%A8%E5%AD%B8%E7%BF%92-%E7%AC%AC5-2%E8%AC%9B-kaggle%E6%A9%9F%E5%99%A8%E5%AD%B8%E7%BF%92%E7%AB%B6%E8%B3%BD%E7%A5%9E%E5%99%A8xgboost%E4%BB%8B%E7%B4%B9-1c8f55cffcc\n",
    "\n",
    "## https://read01.com/7DB44zB.html#.YEYOJWgzaHs"
   ],
   "cell_type": "markdown",
   "metadata": {}
  },
  {
   "cell_type": "code",
   "execution_count": 1,
   "metadata": {},
   "outputs": [],
   "source": [
    "# import tensorflow as tf\n",
    "import numpy as np \n",
    "import math\n",
    "import matplotlib.pyplot as plt\n",
    "import pandas as pd\n",
    "from sklearn.neighbors import KNeighborsClassifier\n",
    "from sklearn.model_selection import GridSearchCV\n",
    "from sklearn.preprocessing import LabelEncoder\n",
    "from sklearn import preprocessing\n",
    "import re\n",
    "import sweetviz as sv\n",
    "save_model = './NN/training_model2.h5'\n",
    "save_modelxg = './GX/training_model2.model'\n",
    "#target_ToolGID = 'PK_DUVKrF'\n",
    "# target_ToolGID = 'XE_Sorter'\n",
    "# target_ToolGID = 'MA_Alps'\n",
    "target_ToolGID = 'PW_PIX'\n"
   ]
  },
  {
   "cell_type": "code",
   "execution_count": 2,
   "metadata": {},
   "outputs": [],
   "source": [
    "def readDataFromFile(file_path):\n",
    "    df = pd.read_csv(file_path)\n",
    "    return df"
   ]
  },
  {
   "source": [
    "# Def :missData  查看缺失情况"
   ],
   "cell_type": "markdown",
   "metadata": {}
  },
  {
   "cell_type": "code",
   "execution_count": 3,
   "metadata": {},
   "outputs": [],
   "source": [
    "def missData(df_train):\n",
    "    \n",
    "    X_missing = df_train#.drop(['survived'],axis=1)\n",
    "\n",
    "    # 查看缺失情况\n",
    "    missing = X_missing.isna().sum()\n",
    "    missing = pd.DataFrame(data={'特徵': missing.index,'缺失值個數':missing.values})\n",
    "    #通过~取反，选取不包含数字0的行\n",
    "    missing = missing[~missing['缺失值個數'].isin([0])]\n",
    "    # 缺失比例\n",
    "    missing['缺失比率'] =  missing['缺失值個數']/X_missing.shape[0]\n",
    "    print(missing)\n",
    "    # 排序\n",
    "    missing.sort_values(by='缺失比率',ascending=False)\n",
    "\n",
    "    #柱形图可视化\n",
    "    # import matplotlib.pyplot as plt\n",
    "    # import numpy as np\n",
    "    import pylab as pl\n",
    "    fig = plt.figure()#figsize=(18,6))\n",
    "    plt.bar(np.arange(missing.shape[0]), list(missing['缺失比率'].values), align = 'center',color=['red','green','yellow','steelblue'])\n",
    "    plt.title('Histogram of missing value of variables')\n",
    "    plt.xlabel('variables names')\n",
    "    plt.ylabel('missing rate')\n",
    "    # 添加x轴标签，并旋转90度\n",
    "    #plt.xticks(np.arange(missing.shape[0]),list(missing['特征']))\n",
    "    plt.xticks(rotation=90)\n",
    "    # 添加数值显示\n",
    "    # for x,y in enumerate(list(missing['缺失比例'].values)):\n",
    "    #     plt.text(x,y*-0.12,'{:.2%}'.format(y),ha='center',rotation=90)    \n",
    "        \n",
    "    #     plt.xticks(rotation=90)\n",
    "    # 添加数值显示\n",
    "    # for x,y in enumerate(list(missing['缺失比例'].values)):\n",
    "    #     plt.text(x,y+0.12,'{:.2%}'.format(y),ha='center',rotation=90)    \n",
    "    #plt.ylim([0,1.2])\n",
    "    plt.show()"
   ]
  },
  {
   "source": [
    "# Def EDA 繪製 EDA 圖"
   ],
   "cell_type": "markdown",
   "metadata": {}
  },
  {
   "cell_type": "code",
   "execution_count": 4,
   "metadata": {},
   "outputs": [],
   "source": [
    "def EDA(df_train,targetfeat='NO_HOLD_QTY'):\n",
    "    \n",
    "    pairwise_analysis='off' #相關性和其他型別的資料關聯可能需要花費較長時間。如果超過了某個閾值，就需要設定這個引數為on或者off，以判斷是否需要分析資料相關性。\n",
    "    report_train = sv.analyze([df_train, 'train'],\n",
    "                                    target_feat= targetfeat\n",
    "    )\n",
    "    report_train.show_html(filepath='./sweetvizHTML/HW2_train_report.html' ) # 儲存為html的格式\n",
    "\n",
    "    # compare_subsets_report = sv.compare_intra(df_train,\n",
    "    #                                         df_train['Finish']==1, # 給條件區分\n",
    "    #                                         ['Finish', 'notFinish'], # 為兩個子資料集命名 \n",
    "    #                                         target_feat='NO_HOLD_QTY',\n",
    "    #                                         )\n",
    "\n",
    "    # compare_subsets_report.show_html(filepath='./sweetvizHTML/HW2_Compare_report.html')"
   ]
  },
  {
   "source": [
    "# Def: preHandleDat() :資料整理(label encoding one hot encoding 特徵縮放)"
   ],
   "cell_type": "markdown",
   "metadata": {}
  },
  {
   "cell_type": "code",
   "execution_count": 5,
   "metadata": {},
   "outputs": [],
   "source": [
    "def preHandleDat(df):\n",
    "   # num_cols=['NO_HOLD_QTY','M','U','PT','UP_TIME','EQP_UTIL','TC','CS','AI','C_AI']\n",
    "    num_cols=['NO_HOLD_QTY','M','U','PT','UP_TIME','EQP_UTIL','TC','CS', 'C_AI']\n",
    " \n",
    "    df = df.drop('WIP_QTY', axis=1)\n",
    "\n",
    "    df = df.sort_values('NO_HOLD_QTY')\n",
    "    print(df.describe())        \n",
    "#      2   WIP_QTY      120018 non-null  float64\n",
    "#  3   NO_HOLD_QTY  120018 non-null  float64\n",
    "#  4   MOVE_QTY     120018 non-null  float64\n",
    "#  5   M            118540 non-null  float64\n",
    "#  6   U            118442 non-null  float64\n",
    "#  7   PT           120018 non-null  float64\n",
    "#  8   UP_TIME      118540 non-null  float64\n",
    "#  9   EQP_UTIL     118540 non-null  float64\n",
    "#  10  TC           115972 non-null  float64\n",
    "#  11  CS           115972 non-null  float64\n",
    "#  12  AI           113521 non-null  float64\n",
    "#  13  C_AI         112975 non-null  float64\n",
    "    \n",
    "    #  8   Finish           3898 non-null   object \n",
    "    #  9   WEEKDAY          3898 non-null   object \n",
    "    #  11  ToolPrefix       3898 non-null   object \n",
    "    #  12  ToolSub          3818 non-null   object \n",
    "    #  13  ToolPrefix_NEXT  3898 non-null   object \n",
    "    #  14  ToolSub_NEXT     3806 non-null   object  \n",
    "    from sklearn.preprocessing import StandardScaler\n",
    "    from sklearn.preprocessing import MinMaxScaler\n",
    "    from sklearn.preprocessing import RobustScaler\n",
    "\n",
    "    # std_scaler = StandardScaler()\n",
    "    # std_scaler.fit(df_train[num_cols])\n",
    "    # df_train_scal = df\n",
    "    # df_train_scal[num_cols]= std_scaler.transform(df_train[num_cols])\n",
    "    # df_train_scal \n",
    "\n",
    "    minMax_scaler = MinMaxScaler()\n",
    "    minMax_scaler.fit(df_train[num_cols])\n",
    "    df_train_scal = df\n",
    "    df_train_scal[num_cols]= minMax_scaler.transform(df[num_cols])\n",
    "\n",
    "\n",
    "    # robust_scaler = RobustScaler()\n",
    "    # robust_scaler.fit(df_train[num_cols])\n",
    "    # df_train_scal = df\n",
    "    # df_train_scal[num_cols] = robust_scaler.transform(df[num_cols])\n",
    "    #==================================================\n",
    "    #==================================================\n",
    "    #one hot encoder\n",
    "    #==================================================\n",
    "    #cat_cols = ['Finish','WEEKDAY','ToolPrefix','ToolSub','ToolPrefix_NEXT','ToolSub_NEXT','TOOLG_ID']\n",
    "    #cat_cols = [ 'ToolPrefix','ToolSub','TOOLG_ID']\n",
    "    cat_cols = [ 'TOOLG_ID']\n",
    "    df_train_eh =pd.get_dummies(df_train_scal.drop('MOVE_QTY', axis=1),columns=cat_cols)\n",
    "    # df_test_eh=pd.get_dummies(df.drop('MOVE_QTY', axis=1))\n",
    "    #df_test_eh = df_test_eh.reindex(columns = df_test_eh.columns, fill_value=0)\n",
    "   \n",
    "\n",
    "\n",
    "    # #rescaling 特徵縮放(0~1) 特徵最小/全距\n",
    "    # # minmax_scale = preprocessing.MinMaxScaler(feature_range=(0, 1))  \n",
    "    # # X_dropped = minmax_scale.fit_transform(X_dropped)  \n",
    "     \n",
    "    # from sklearn.preprocessing import StandardScaler\n",
    "\n",
    "    # # scaler = StandardScaler().fit(X)\n",
    "    # # X_dropped = scaler.transform(X_dropped)\n",
    "    # # Scaling features\n",
    "    # std_scaler = StandardScaler()\n",
    "    # df_test_eh = std_scaler.fit_transform(df_test_eh)\n",
    "    #print(df_train_eh.head())\n",
    "    # return df_train_ehNO_HOLD_QTY'].max()* .75\n",
    "\n",
    "    #np.asarray(x).astype('float32')        \n",
    "           \n",
    "    X_dropped = np.asarray(df_train_eh)\n",
    "    Y_dropped = np.asarray(df['MOVE_QTY'])\n",
    "    return X_dropped,Y_dropped\n",
    "    "
   ]
  },
  {
   "source": [
    "# def trainModel() 訓練模型"
   ],
   "cell_type": "markdown",
   "metadata": {}
  },
  {
   "cell_type": "code",
   "execution_count": 6,
   "metadata": {},
   "outputs": [],
   "source": [
    "# #root_mean_squared_error---------------------------------\n",
    "from tensorflow.keras import backend as K \n",
    "def root_mean_squared_error(y_true, y_pred): \n",
    "    return K.sqrt(K.mean(K.square(y_pred - y_true), axis=-1)) "
   ]
  },
  {
   "source": [
    "## xgboost\n",
    "> conda install -c conda-forge xgboost\n"
   ],
   "cell_type": "markdown",
   "metadata": {}
  },
  {
   "cell_type": "code",
   "execution_count": 7,
   "metadata": {},
   "outputs": [],
   "source": [
    "# import xgboost as xgb\n",
    "# from sklearn.metrics import log_loss\n",
    "# from sklearn.model_selection import train_test_split\n",
    "# # train, test = train_test_split(df_train)\n",
    "# train_x,train_y = preHandleDat(df_train)\n",
    "# # dtrain =xgb.DMatrix(X_dropped, Y_dropped)\n",
    "# # # param = {'max_depth':2, 'eta':1, 'objective':'binary:logistic' }\n",
    "# # param = {'max_depth':6, 'eta':1, #this is the default value anyway \n",
    "# #     'colsample_bytree':1 #this is the default value anyway \n",
    "# # }\n",
    "\n",
    "\n",
    "# # num_round = 2\n",
    "# # bst = xgb.train(param, dtrain, num_round)\n",
    "\n",
    "# parameters = {'max_depth': [5, 10, 15, 20, 25],\n",
    "#               'learning_rate': [0.01, 0.02, 0.05, 0.1, 0.15],\n",
    "#               'n_estimators': [100, 250, 500, 750, 1000],\n",
    "#               'min_child_weight': [0, 2, 5, 10, 20],\n",
    "#               'max_delta_step': [0, 0.2, 0.6, 1, 2],\n",
    "#               'subsample': [0.6, 0.7, 0.8, 0.85, 0.95],\n",
    "#               'colsample_bytree': [0.5, 0.6, 0.7, 0.8, 0.9],\n",
    "#               'reg_alpha': [0, 0.25, 0.5, 0.75, 1],\n",
    "#               'reg_lambda': [0.2, 0.4, 0.6, 0.8, 1]\n",
    "#             #   ,'scale_pos_weight': [0.2, 0.4, 0.6, 0.8, 1]\n",
    "# }\n",
    "\n",
    "\n",
    "\n",
    "# xlf = xgb.XGBClassifier(max_depth=10,\n",
    "#             learning_rate=0.01,\n",
    "#             n_estimators=2000,\n",
    "#             silent=True,\n",
    "#             objective ='reg:squarederror',  # 线性回归问题\n",
    "#             num_class=3 ,\n",
    "#             nthread=-1,\n",
    "#             gamma=0,\n",
    "#             min_child_weight=1,\n",
    "#             max_delta_step=0,\n",
    "#             subsample=0.85,\n",
    "#             colsample_bytree=0.7,\n",
    "#             colsample_bylevel=1,\n",
    "#             reg_alpha=0,\n",
    "#             reg_lambda=1,\n",
    "#             scale_pos_weight=1,\n",
    "#             seed=0,\n",
    "#             missing=None)\n",
    "\n",
    "\n",
    "\n",
    "# gs = GridSearchCV(xlf, param_grid=parameters, scoring='neg_mean_squared_error', cv=3)\n",
    "\n",
    "# gs.fit(train_x, train_y)\n",
    "\n",
    "\n",
    "\n",
    "# print(\"Best score: %0.3f\" % gs.best_score_)\n",
    "\n",
    "# print(\"Best parameters set: %s\" % gs.best_params_ )"
   ]
  },
  {
   "cell_type": "code",
   "execution_count": null,
   "metadata": {},
   "outputs": [],
   "source": []
  },
  {
   "cell_type": "code",
   "execution_count": 8,
   "metadata": {},
   "outputs": [],
   "source": [
    "def trainModelXG(toolG_Id,df,save_model): \n",
    "    save_model_tool = getSavePath(toolG_Id,save_model)    \n",
    "   \n",
    "    X_dropped,Y_dropped = preHandleDat(df)\n",
    "    import xgboost as xgb\n",
    "    from sklearn.metrics import log_loss\n",
    "    from sklearn.model_selection import train_test_split\n",
    "    # 做数据切分\n",
    "    train, test = train_test_split(df)\n",
    "    X_dropped,Y_dropped = preHandleDat(train)\n",
    "    X_droppedtest,Y_droppedtest = preHandleDat(test)\n",
    "    # read in data\n",
    "    # # 转换成Dmatrix格式\n",
    "    # feature_columns = ['Pregnancies', 'Glucose', 'BloodPressure', 'SkinThickness', 'Insulin', 'BMI', 'DiabetesPedigreeFunction', 'Age']\n",
    "    # target_column = 'Outcome'\n",
    "    # # 取出numpy array去初始化DMatrix对象\n",
    "    # xgtrain = xgb.DMatrix(train[feature_columns].values, train[target_column].values)\n",
    "    # xgtest = xgb.DMatrix(test[feature_columns].values, test[target_column].values)\n",
    "\n",
    "    xgtrain = xgb.DMatrix(X_dropped, Y_dropped)\n",
    "    xgtest = xgb.DMatrix(X_droppedtest, Y_droppedtest)\n",
    "    \n",
    "    # # specify parameters via map\n",
    "    # param = {'max_depth':2, 'eta':1, 'objective':'binary:logistic' }\n",
    "    # num_round = 2\n",
    "    # bst = xgb.train(param, df, num_round)\n",
    "\n",
    "\n",
    "        #参数设定\n",
    "    '''\n",
    "    max_depth:用于设置树的最大深度,默认为6，范围为：》1\n",
    "    eta:可以看作为学习率\n",
    "    为了防止过拟合，更新过程中用到的收缩步长，\n",
    "    再每次提升计算之后算法会直接获得新特征的权重。eta通过缩减特征的权重使提升计算过程更加保守。缺省值为0.3\n",
    "    取值范围为：[0,1]\n",
    "    silent：0表示输出信息， 1表示安静模式\n",
    "    subsample:表示观测的子样本的比率，将其设置未0.5以为着xgboost将随机抽取一半观测用于数的生长，这将有助于防止过拟合现象，范围未（0，1]\n",
    "    colsample_bytree:表示用于构造每棵树时变量的子样本比率,range: (0,1]\n",
    "    objective：这个参数定义需要被最小化的损失函数。\n",
    "    binary:logistic：二分类的逻辑回归，返回预测的概率\n",
    "    '''\n",
    "    # param = {'max_depth':5, 'eta':0.1, 'silent':1, 'subsample':0.7, 'colsample_bytree':0.7, 'objective':'binary:logistic' }\n",
    "    # param = {'max_depth':6, 'eta':1, #this is the default value anyway \n",
    "    #   'colsample_bytree':1 #this is the default value anyway \n",
    "    # }\n",
    "    params ={'learning_rate': 0.1,\n",
    "              'max_depth': 10,                # 构建树的深度，越大越容易过拟合\n",
    "              'num_boost_round':2000,\n",
    "              'objective':'reg:squarederror',  # 线性回归问题\n",
    "              #'objective': 'reg:linear',      # 线性回归问题，早期版本的参与，将被reg:squarederror替换\n",
    "              'random_state': 7,\n",
    "              'gamma':0,\n",
    "              'subsample':0.8,\n",
    "              'colsample_bytree':0.8,\n",
    "              'reg_alpha':0.005,\n",
    "              'n_estimators' : 1000,\n",
    "              'eval_metric':['logloss','rmse','mae'],   #分类有“auc”\n",
    "              'eta':0.3  #为了防止过拟合，更新过程中用到的收缩步长。eta通过缩减特征 的权重使提升计算过程更加保守。缺省值为0.3，取值范围为：[0,1]\n",
    "            }\n",
    "\n",
    "    num_round = 10\n",
    "    best_nround = 1000\n",
    "    \n",
    "    # bst = xgb.train(param, dtrain, num_round)\n",
    "    # 设定watchlist用于查看模型状态\n",
    "    watchlist  = [(xgtest,'eval'), (xgtrain,'train')]\n",
    "    \n",
    "    res = xgb.cv(params,xgtrain,num_boost_round=500,metrics='rmse',early_stopping_rounds=25)\n",
    "    # #找到最佳迭代轮数\n",
    "    best_nround = res.shape[0] - 1\n",
    "    print('找到最佳迭代轮数',best_nround)\n",
    "\n",
    "\n",
    "    bst = xgb.train(params, xgtrain, best_nround, watchlist)\n",
    "    \n",
    "    # 使用模型预测\n",
    "    preds = bst.predict(xgtest)\n",
    "    \n",
    "    # 判断准确率\n",
    "    labels = xgtest.get_label()\n",
    "    print('错误类为%f' % \\\n",
    "        (sum(1 for i in range(len(preds)) if int(preds[i]>0.5)!=labels[i]) /float(len(preds))))\n",
    "  \n",
    "\n",
    "    #模型存储\n",
    "\n",
    "    # gs = GridSearchCV(xlf, param_grid=parameters, scoring='accuracy', cv=3)\n",
    "\n",
    "    # gs.fit(train_x, train_y)\n",
    "    # print(\"Best score: %0.3f\" % gs.best_score_)\n",
    "\n",
    "    # print(\"Best parameters set: %s\" % gs.best_params_ )\n",
    "\n",
    "\n",
    "    bst.save_model(save_model_tool)\n",
    "    # make prediction\n",
    "    #preds = bst.predict(dtest)\n",
    "\n",
    "    # mod = xgb.XGBRegressor(\n",
    "    #     gamma=1,                 \n",
    "    #     learning_rate=0.01,\n",
    "    #     max_depth=3,\n",
    "    #     n_estimators=10000,                                                                    \n",
    "    #     subsample=0.8,\n",
    "    #     random_state=34\n",
    "    # ) \n",
    "\n",
    "    # mod.fit(X_train, y_train)\n",
    "    # predictions = mod.predict(X_val)\n",
    "    # rmse = sqrt(mean_squared_error(y_val, predictions))\n",
    "    # print(\"score: {0:,.0f}\".format(rmse))"
   ]
  },
  {
   "cell_type": "code",
   "execution_count": 9,
   "metadata": {},
   "outputs": [],
   "source": [
    "def trainModel(toolG_Id,df,save_model):\n",
    "\n",
    "    #save_model_tool = getSavePath(df['TOOLG_ID'].iloc[0],save_model)    \n",
    "    save_model_tool = getSavePath(toolG_Id,save_model)    \n",
    "    # cleanString = re.sub('\\W+','', df['TOOLG_ID'].iloc[0] )\n",
    "    # print(cleanString)\n",
    "    \n",
    "    # save_model=save_model = './training_model2'+cleanString+'.h5'\n",
    " \n",
    "    #======================================================================================\n",
    "    # print(df.head(2))\n",
    "    # df_train_eh = preHandleDat(df)\n",
    "    # X_dropped = np.asarray(df_train_eh)\n",
    "    # Y_dropped = np.asarray(df['MOVE_QTY'])\n",
    "    X_dropped,Y_dropped = preHandleDat(df)\n",
    "    #print(\"Y_dropped\",Y_dropped)\n",
    "        # print(X_dropped)\n",
    "            # print(Y_dropped)\n",
    "            \n",
    "                #1.建立模型(Model)\n",
    "                    #將Layer放入Model中)\n",
    "    # print(X_dropped)\n",
    "    # print(Y_dropped)\n",
    "\n",
    "    #1.建立模型(Model)\n",
    "    #將Layer放入Model中\n",
    "    # Activation Functions\n",
    "    # A.softmax：值介於 [0,1] 之間，且機率總和等於 1，適合多分類使用。\n",
    "    # B.sigmoid：值介於 [0,1] 之間，且分布兩極化，大部分不是 0，就是 1，適合二分法。\n",
    "    # C.Relu (Rectified Linear Units)：忽略負值，介於 [0,∞] 之間。\n",
    "    # D.tanh：與sigmoid類似，但值介於[-1,1]之間，即傳導有負值。\n",
    "    model = tf.keras.Sequential([\n",
    "        tf.keras.layers.Dense(units=16,input_shape=[X_dropped.shape[1]]), # units：输出维度\n",
    "        # tf.keras.layers.Dense(units=32),\n",
    "        # tf.keras.layers.Dense(units=64),\n",
    "        # tf.keras.layers.Dropout(0.2),\n",
    "        # tf.keras.layers.Dense(units=32),\n",
    "        # tf.keras.layers.Dropout(0.2),\n",
    "        # tf.keras.layers.Dense(units=1)\n",
    "\n",
    "        \n",
    "        tf.keras.layers.Dense(units=16, kernel_initializer='random_uniform', activation='relu'),\n",
    "        tf.keras.layers.Dense(units=16, kernel_initializer='random_uniform', activation='relu'),\n",
    "\n",
    "        #tf.keras.layers.Dense(units=1)\n",
    "        tf.keras.layers.Dense(units=1, kernel_initializer='random_uniform',activation='relu')\n",
    "        \n",
    "\n",
    "        ])\n",
    "    #model.summary()\n",
    "    #======================================================================================\n",
    "    # 定義 tensorboard callback\n",
    "    tensorboard_callback = [tf.keras.callbacks.TensorBoard(log_dir='D:/Projects/AI/POC/homework/logs2')]\n",
    "    #======================================================================================\n",
    "    #2. 確立目標及求解方法：以compile函數定義損失函數(loss)、優化函數(optimizer)及成效衡量指標(mertrics)。\n",
    "\n",
    "    #compile()方法來指定損失函數與優化函數，也可以額外指定一系列的訓練和評估期間計算評量標準\n",
    "    #model.compile(loss='binary_crossentropy', optimizer='adam', metrics=['accuracy'])  \n",
    "    \n",
    "    # # model.compile( loss = root_mean_squared_error,optimizer = \"rmsprop\",metrics =[\"accuracy\"],callbacks=tensorboard_callback) \n",
    "    # model.compile(loss = root_mean_squared_error,metrics =[\"accuracy\"],callbacks=tensorboard_callback) \n",
    "    # \n",
    "    #--------------------------\n",
    "    #[Keras 損失函數(loss)]\n",
    "    #   A.均方誤差(mean_squared_error)----mean_squared_error-------------------------------\n",
    "    #   B.Hinge Error (hinge)：是一種單邊誤差，不考慮負值，適用於『支援向量機』(SVM)的最大間隔分類法(maximum-margin classification)\n",
    "     #  C.Cross Entropy (categorical_crossentropy)：當預測值與實際值愈相近，損失函數就愈小，反之差距很大，就會更影響損失函數的值，這篇文章 主張要用 Cross Entropy 取代 MSE，因為，在梯度下時，Cross Entropy 計算速度較快，其他變形包括 sparse_categorical_crossentropy、binary_crossentropy。\n",
    "     #  D.其他還有 logcosh、kullback_leibler_divergence、poisson、cosine_proximity 等。\n",
    "    #--------------------------\n",
    "    #[優化函數(Optimizer)]\n",
    "    #   A. 隨機梯度下降法(Stochastic Gradient Descent, SGD)：就是利用偏微分，逐步按著下降的方向，尋找最佳解。它含以下參數：\n",
    "    #        Learning Rate (lr)：逼近最佳解的學習速率，速率訂的太小，計算最佳解的時間花費較長，訂的太大，可能會在最佳解兩                               旁擺盪，找不到最佳解。\n",
    "    #        momentum：更新的動能，一開始學習速率可以大一點，接近最佳解時，學習速率步幅就要小一點，一般訂為0.5，不要那麼大時，可改為 0.9。\n",
    "    #        decay：每次更新後，學習速率隨之衰減的比率。\n",
    "    #        nesterov：是否使用 Nesterov momentum，請參考 http://blog.csdn.net/luo123n/article/details/48239963 。\n",
    "    #  B.Adam：一般而言，比SGD模型訓練成本較低，請參考『Adam - A Method for Stochastic Optimization』，包含相關參數建議值，含以下參數：\n",
    "\n",
    "    #        lr：逼近最佳解的學習速率，預設值為0.001。\n",
    "    #        beta_1：一階矩估計的指數衰減因子，預設值為0.9。\n",
    "    #        beta_2：二階矩估計的指數衰減因子，預設值為0.999。\n",
    "    #        epsilon：為一大於但接近 0 的數，放在分母，避免產生除以 0 的錯誤，預設值為1e-08。\n",
    "    #        decay：每次更新後，學習速率隨之衰減的比率。\n",
    "    # model.compile(loss='mean_squared_error', optimizer=tf.keras.optimizers.Adam(0.01)\n",
    "    #                     , metrics= ['accuracy'],callbacks=tensorboard_callback) \n",
    "    # model.compile(loss='mean_squared_error', optimizer=tf.keras.optimizers.SGD()\n",
    "    #                     , metrics= ['accuracy'],callbacks=tensorboard_callback) \n",
    "    #========================================================================\n",
    "    # SGD\n",
    "    sgd = tf.keras.optimizers.SGD(lr=0.20, momentum=0.0, decay=0.0, nesterov=False)\n",
    "    # 随机梯度下降优化器。\n",
    "    # 包含扩展功能的支持： - 动量（momentum）优化, - 学习率衰减（每次参数更新后） - Nestrov 动量 (NAG) 优化\n",
    "    # 参数\n",
    "    # lr: float >= 0. 学习率。\n",
    "    # momentum: float >= 0. 参数，用于加速 SGD 在相关方向上前进，并抑制震荡。\n",
    "    # decay: float >= 0. 每次参数更新后学习率衰减值。\n",
    "    # nesterov: boolean. 是否使用 Nesterov 动量。\n",
    "    #========================================================================\n",
    "    # compile 編譯模型\n",
    "    # model.compile(loss='mean_squared_error', optimizer='adam'\n",
    "    #                     , metrics= ['accuracy','mse', 'mae', 'mape'],callbacks=tensorboard_callback) 」‘「＝、\n",
    "    \n",
    "    # model.compile(loss='mean_squared_error', optimizer=tf.keras.optimizers.SGD(lr=0.01,decay=1e-6, momentum=0.9, nesterov=True)\n",
    "    #                     , metrics= ['accuracy','mse', 'mae', 'mape'],callbacks=tensorboard_callback) \n",
    "    # model.compile(loss=root_mean_squared_error, optimizer=tf.keras.optimizers.Adam(lr=0.01)\n",
    "    #                     , metrics = [root_mean_squared_error, 'mae', 'mape'])\n",
    "    \n",
    "    # model.compile(loss='mean_absolute_error', optimizer=tf.keras.optimizers.Adam(lr=0.01)\n",
    "    #                     , metrics = [root_mean_squared_error, 'mae', 'mape'])   \n",
    "    model.compile(loss='mean_absolute_error', optimizer=tf.keras.optimizers.Adam(lr=0.01) #, optimizer=tf.keras.optimizers.SGD(lr=0.2)\n",
    "                        , metrics = [root_mean_squared_error, 'mae', 'mape'])                                 \n",
    "    #======================================================================================\n",
    "\n",
    "    #3.訓練 fit：以compile函數進行訓練，指定訓練的樣本資料(x, y)，並撥一部分資料作驗證，還有要訓練幾個週期、訓練資料的抽樣方式。\n",
    "    # train_history = model.fit(x=X_dropped, y=Y_dropped,\n",
    "    #                validation_data=(X_dropped_test, Y_dropped_test), # Use this instead\n",
    "    #                 epochs=50, batch_size=30, verbose=2) #validation_split=0.1, 用最後的10%資料驗證 batch_size=200: 每一批次200筆資料 verbose=2: 顯示訓練過程\n",
    "    train_history = model.fit(x=X_dropped, y=Y_dropped,\n",
    "                #validation_data=(X_dropped_test, Y_dropped_test), # Use this instead\n",
    "                validation_split=0.10, epochs=50, batch_size=32, verbose=0) #validation_split=0.1, 用最後的10%資料驗證 batch_size=200: 每一批次200筆資料\n",
    "    # early_stopping = tf.keras.callbacks.EarlyStopping(patience=25)\n",
    "    # train_history = model.fit(x=X_dropped, y=Y_dropped, validation_split=0.1, epochs=200, batch_size=30, verbose=2)\n",
    "    # train_history = model.fit(X_dropped, Y_dropped, epochs=20, verbose=True)\n",
    "    \n",
    "    model.save(save_model_tool)\n",
    "    # model.compile(loss='mean_squared_error', optimizer=tf.keras.optimizers.Adam(0.01))\n",
    "\n",
    "    #評估(Evaluation)：訓練完後，計算成效。\n",
    "    # 顯示訓練成果(分數)\n",
    "    # scores = model.evaluate(X_dropped, Y_dropped) \n",
    "    \n",
    "    # print(\"Finished training the model\",scores)\n",
    "    print(train_history.history.keys())\n",
    "    #dict_keys(['loss', 'accuracy', 'mse', 'mae', 'mape', 'val_loss', 'val_accuracy', 'val_mse', 'val_mae', 'val_mape'])\n",
    "    \n",
    "    # 當RMSE收斂至接近0.02，且MAPE接近10%，即完成模型之訓練\n",
    "    figure, axis_1 = plt.subplots()\n",
    "    plt.title(df['TOOLG_ID'].iloc[0]) # title\n",
    "    plt.xlabel('Epoch Number')\n",
    "    plt.ylabel(\"Loss Magnitude\")\n",
    "\n",
    "    loss = axis_1.plot(train_history.history['loss'], label = 'loss')\n",
    "\n",
    "    #plt.ylabel(\"accuracy\")\n",
    "    # ac =axis_1.plot(train_history.history['accuracy'], label = 'accuracy' )# 準確度\n",
    "    # ac =axis_1.plot(train_history.history['mse'], label = 'mse' )# 準確度\n",
    "    \n",
    "    \n",
    "    \n",
    "    # mse = axis_1.plot(train_history.history['mse'], label = 'mse' ) \n",
    "    # vallossaxis_1= axis_1.plot(train_history.history['val_loss'], label = 'val_loss' )# 準確度\n",
    "    axis_2 = axis_1.twinx()\n",
    "    # mse = axis_2.plot(train_history.history['mse'], label = 'mse',color='red' ) \n",
    "    mse = axis_2.plot(train_history.history['root_mean_squared_error'], label = 'mse',color='red' ) \n",
    "    \n",
    "    # mape = axis_2.plot(train_history.history['mape'], label = 'mape' )# 準確度 接近10%\n",
    "        \n",
    "    axis_1.legend(loc='upper left',fontsize='large')\n",
    "    axis_2.legend(loc='upper right',fontsize='large')\n",
    "    # plt.legend((ac, valloss, mse, mape),\n",
    "    #        ('Low accuracy', 'val_loss', 'mse', 'mape'),\n",
    "    #        scatterpoints=1,\n",
    "    #        loc='upper right',\n",
    "    #     #    ncol=3,\n",
    "    #        fontsize=14)\n",
    "\n",
    "    plt.show()\n",
    "\n",
    "    from sklearn.metrics import mean_squared_error #均方誤差\n",
    "    from sklearn.metrics import mean_absolute_error #平方絕對誤差\n",
    "    from sklearn.metrics import r2_score#R square\n",
    "    #呼叫\n",
    "    y_predict = model.predict(X_dropped)\n",
    "    #print(np.count_nonzero(~np.isnan(Y_dropped)),np.count_nonzero(~np.isnan(y_predict)))\n",
    "    Y_dropped = np.nan_to_num(np.nan, copy=True)\n",
    "    # Y_dropped = np.nan_to_num(np.nan, copy=True)\n",
    "    \n",
    "\n",
    "    # print(\"mean_squared_error\",mean_squared_error(Y_dropped,y_predict))\n",
    "    # print(\"mean_absolute_error\",mean_absolute_error(Y_dropped,y_predict))\n",
    "    # print(\"r2_score\",r2_score(Y_dropped,y_predict))\n",
    "\n",
    "\n",
    "    #return df_test_eh"
   ]
  },
  {
   "cell_type": "code",
   "execution_count": 10,
   "metadata": {},
   "outputs": [],
   "source": [
    "def getSavePath(toolg,save_model):\n",
    "    cleanString = re.sub('\\W+','', toolg )\n",
    "    #print(cleanString)\n",
    "    path = save_model\n",
    "    path = save_model.replace(save_model.split('/', 2)[len( save_model.split('/', 2))-1],cleanString+save_model.split('/', 2)[len(     save_model.split('/', 2))-1])\n",
    "    print(path)\n",
    "    return path"
   ]
  },
  {
   "cell_type": "code",
   "execution_count": 11,
   "metadata": {},
   "outputs": [],
   "source": [
    "def TestModelXG(df,save_model):\n",
    "    import xgboost as xgb\n",
    "    save_model_tool = getSavePath(df['TOOLG_ID'].iloc[0],save_model)\n",
    "\n",
    "    bst2 = xgb.Booster(model_file=save_model_tool)\n",
    "    \n",
    "\n",
    "    # print(save_model_tool)\n",
    "    #======================================================================================\n",
    "    X_dropped,Y_dropped = preHandleDat(df)\n",
    "    dtest2 = xgb.DMatrix(X_dropped)\n",
    "    y_predict = bst2.predict(dtest2)\n",
    "    # assert they are the same\n",
    "    # assert np.sum(np.abs(y_predict - Y_dropped)) == 0\n",
    "    \n",
    "    \n",
    "    df['predict'] = y_predict\n",
    "    plt.title('TOOLG_ID:'+ df['TOOLG_ID'].iloc[0])\n",
    "    plt.xlabel(\"WIP\")\n",
    "    plt.ylabel(\"MOVE\")\n",
    "    plt.plot(df['NO_HOLD_QTY'] , y_predict)\n",
    "    plt.savefig('./'+df['TOOLG_ID'].iloc[0]+'.pdf',width=600, height=350)\n",
    "    plt.show()\n"
   ]
  },
  {
   "cell_type": "code",
   "execution_count": 12,
   "metadata": {},
   "outputs": [],
   "source": [
    "def TestModel(df,save_model):\n",
    "\n",
    "    save_model_tool = getSavePath(df['TOOLG_ID'].iloc[0],save_model)\n",
    "    # print(save_model_tool)\n",
    "    #======================================================================================\n",
    "    # print(df.head(20))\n",
    "    # df_test_eh = preHandleDat(df)\n",
    "    # X_dropped = np.asarray(df_test_eh)\n",
    "    # Y_dropped = np.asarray(df['MOVE_QTY'])\n",
    "    X_dropped,Y_dropped = preHandleDat(df)\n",
    "    # print(X_dropped)     \n",
    "    # print(save_model_tool)\n",
    "     #======================================================================================\n",
    "    # #root_mean_squared_error---------------------------------\n",
    "    # from tensorflow.keras import backend as K \n",
    "    # def root_mean_squared_error(y_true, y_pred): \n",
    "    #      return K.sqrt(K.mean(K.square(y_pred - y_true), axis=-1)) \n",
    "\n",
    "\n",
    "#      #one hot encoder\n",
    "#     df_test_eh=pd.get_dummies(df.drop('MOVE_QTY', axis=1))\n",
    "#     df_test_eh = df_test_eh.reindex(columns = df.columns, fill_value=0)\n",
    "    \n",
    "\n",
    "#     #rescaling 特徵縮放(0~1) 特徵最小/全距\n",
    "#     minmax_scale = preprocessing.MinMaxScaler(feature_range=(0, 1))  \n",
    "#     X_dropped = minmax_scale.fit_transform(X_dropped)  \n",
    "    # df_test3.info()\n",
    "    # It can be used to reconstruct the model identically.\n",
    "\n",
    "   \n",
    "    # model = tf.keras.models.load_model(save_model_tool)\n",
    "    model = tf.keras.models.load_model(save_model_tool,custom_objects={ 'root_mean_squared_error': root_mean_squared_error})\n",
    "    # np.testing.assert_allclose(\n",
    "    #     model.predict(test_input), model.predict(test_input)\n",
    "    # )\n",
    "    \n",
    "    # print(model.predict(df_test3))\n",
    "\n",
    "    # plt.xlabel('Seq Number')\n",
    "    y_predict = model.predict(X_dropped)\n",
    "    \n",
    "    df['predict'] = y_predict # 預測WIP 數\n",
    "    print(y_predict)\n",
    "    # print(df.head())\n",
    "    # df['NO_HOLD_QTY'] = df_train['NO_HOLD_QTY'].astype('int')\n",
    "    # df['predict'] = df_train['predict'].astype('int')\n",
    "    # df.plot.scatter(x ='NO_HOLD_QTY', y='predict')#,style='o',figsize=(10,5), grid=True  )\n",
    "    # ax.locator_params(integer=True)\n",
    "    \n",
    " \n",
    "    plt.plot( df['NO_HOLD_QTY'] ,y_predict )\n",
    "    plt.show()\n",
    "\n",
    "    # plt.ylabel(\"MOVE_QTY\")\n",
    "    # plt.xlabel(\"WIP_QTY\")\n",
    "    \n",
    "    # plt.plot(df['NO_HOLD_QTY'],model.predict(X_dropped), label = \"Predict\", color='red', marker='.',linewidth = '0.5')\n",
    "    # plt.legend()\n",
    "    # plt.show()\n",
    " "
   ]
  },
  {
   "cell_type": "code",
   "execution_count": 13,
   "metadata": {},
   "outputs": [],
   "source": [
    "#Training('.homework/training_data_20210226.csv')\n",
    "# Testing('D:/Documents/機器學習/Data/Testing_Data.xlsx')"
   ]
  },
  {
   "source": [
    "# 開始資料分析與處理"
   ],
   "cell_type": "markdown",
   "metadata": {}
  },
  {
   "cell_type": "code",
   "execution_count": 14,
   "metadata": {},
   "outputs": [
    {
     "output_type": "stream",
     "name": "stdout",
     "text": [
      "<class 'pandas.core.frame.DataFrame'>\nRangeIndex: 120018 entries, 0 to 120017\nData columns (total 14 columns):\n #   Column       Non-Null Count   Dtype  \n---  ------       --------------   -----  \n 0   MFG_DATE     120018 non-null  int64  \n 1   TOOLG_ID     120018 non-null  object \n 2   WIP_QTY      120018 non-null  float64\n 3   NO_HOLD_QTY  120018 non-null  float64\n 4   MOVE_QTY     120018 non-null  float64\n 5   M            118540 non-null  float64\n 6   U            118442 non-null  float64\n 7   PT           120018 non-null  float64\n 8   UP_TIME      118540 non-null  float64\n 9   EQP_UTIL     118540 non-null  float64\n 10  TC           115972 non-null  float64\n 11  CS           115972 non-null  float64\n 12  AI           113521 non-null  float64\n 13  C_AI         112975 non-null  float64\ndtypes: float64(12), int64(1), object(1)\nmemory usage: 12.8+ MB\n"
     ]
    }
   ],
   "source": [
    "df_train_orign=readDataFromFile('./training_data_20210302.csv')\n",
    "df_train = df_train_orign\n",
    "df_train.info()\n",
    "# EDA(df_train_orign)"
   ]
  },
  {
   "cell_type": "code",
   "execution_count": 200,
   "metadata": {},
   "outputs": [
    {
     "output_type": "stream",
     "name": "stdout",
     "text": [
      "<class 'pandas.core.frame.DataFrame'>\nRangeIndex: 120018 entries, 0 to 120017\nData columns (total 14 columns):\n #   Column       Non-Null Count   Dtype  \n---  ------       --------------   -----  \n 0   MFG_DATE     120018 non-null  int64  \n 1   TOOLG_ID     120018 non-null  object \n 2   WIP_QTY      120018 non-null  float64\n 3   NO_HOLD_QTY  120018 non-null  float64\n 4   MOVE_QTY     120018 non-null  float64\n 5   M            118540 non-null  float64\n 6   U            118442 non-null  float64\n 7   PT           120018 non-null  float64\n 8   UP_TIME      118540 non-null  float64\n 9   EQP_UTIL     118540 non-null  float64\n 10  TC           115972 non-null  float64\n 11  CS           115972 non-null  float64\n 12  AI           113521 non-null  float64\n 13  C_AI         112975 non-null  float64\ndtypes: float64(12), int64(1), object(1)\nmemory usage: 12.8+ MB\n"
     ]
    }
   ],
   "source": []
  },
  {
   "cell_type": "code",
   "execution_count": 15,
   "metadata": {},
   "outputs": [],
   "source": [
    "#EDA(df_train)"
   ]
  },
  {
   "cell_type": "code",
   "execution_count": 16,
   "metadata": {},
   "outputs": [
    {
     "output_type": "stream",
     "name": "stdout",
     "text": [
      "          特徵  缺失值個數      缺失比率\n5          M   1478  0.012315\n6          U   1576  0.013131\n8    UP_TIME   1478  0.012315\n9   EQP_UTIL   1478  0.012315\n10        TC   4046  0.033712\n11        CS   4046  0.033712\n12        AI   6497  0.054134\n13      C_AI   7043  0.058683\n"
     ]
    },
    {
     "output_type": "display_data",
     "data": {
      "text/plain": "<Figure size 432x288 with 1 Axes>",
      "image/svg+xml": "<?xml version=\"1.0\" encoding=\"utf-8\" standalone=\"no\"?>\r\n<!DOCTYPE svg PUBLIC \"-//W3C//DTD SVG 1.1//EN\"\r\n  \"http://www.w3.org/Graphics/SVG/1.1/DTD/svg11.dtd\">\r\n<!-- Created with matplotlib (https://matplotlib.org/) -->\r\n<svg height=\"273.99875pt\" version=\"1.1\" viewBox=\"0 0 392.14375 273.99875\" width=\"392.14375pt\" xmlns=\"http://www.w3.org/2000/svg\" xmlns:xlink=\"http://www.w3.org/1999/xlink\">\r\n <metadata>\r\n  <rdf:RDF xmlns:cc=\"http://creativecommons.org/ns#\" xmlns:dc=\"http://purl.org/dc/elements/1.1/\" xmlns:rdf=\"http://www.w3.org/1999/02/22-rdf-syntax-ns#\">\r\n   <cc:Work>\r\n    <dc:type rdf:resource=\"http://purl.org/dc/dcmitype/StillImage\"/>\r\n    <dc:date>2021-03-22T09:58:11.959551</dc:date>\r\n    <dc:format>image/svg+xml</dc:format>\r\n    <dc:creator>\r\n     <cc:Agent>\r\n      <dc:title>Matplotlib v3.3.3, https://matplotlib.org/</dc:title>\r\n     </cc:Agent>\r\n    </dc:creator>\r\n   </cc:Work>\r\n  </rdf:RDF>\r\n </metadata>\r\n <defs>\r\n  <style type=\"text/css\">*{stroke-linecap:butt;stroke-linejoin:round;}</style>\r\n </defs>\r\n <g id=\"figure_1\">\r\n  <g id=\"patch_1\">\r\n   <path d=\"M 0 273.99875 \r\nL 392.14375 273.99875 \r\nL 392.14375 0 \r\nL 0 0 \r\nz\r\n\" style=\"fill:none;\"/>\r\n  </g>\r\n  <g id=\"axes_1\">\r\n   <g id=\"patch_2\">\r\n    <path d=\"M 50.14375 239.758125 \r\nL 384.94375 239.758125 \r\nL 384.94375 22.318125 \r\nL 50.14375 22.318125 \r\nz\r\n\" style=\"fill:#ffffff;\"/>\r\n   </g>\r\n   <g id=\"patch_3\">\r\n    <path clip-path=\"url(#p9cf9d37a81)\" d=\"M 65.361932 239.758125 \r\nL 96.578715 239.758125 \r\nL 96.578715 196.30041 \r\nL 65.361932 196.30041 \r\nz\r\n\" style=\"fill:#ff0000;\"/>\r\n   </g>\r\n   <g id=\"patch_4\">\r\n    <path clip-path=\"url(#p9cf9d37a81)\" d=\"M 104.382911 239.758125 \r\nL 135.599694 239.758125 \r\nL 135.599694 193.418911 \r\nL 104.382911 193.418911 \r\nz\r\n\" style=\"fill:#008000;\"/>\r\n   </g>\r\n   <g id=\"patch_5\">\r\n    <path clip-path=\"url(#p9cf9d37a81)\" d=\"M 143.40389 239.758125 \r\nL 174.620673 239.758125 \r\nL 174.620673 196.30041 \r\nL 143.40389 196.30041 \r\nz\r\n\" style=\"fill:#ffff00;\"/>\r\n   </g>\r\n   <g id=\"patch_6\">\r\n    <path clip-path=\"url(#p9cf9d37a81)\" d=\"M 182.424869 239.758125 \r\nL 213.641652 239.758125 \r\nL 213.641652 196.30041 \r\nL 182.424869 196.30041 \r\nz\r\n\" style=\"fill:#4682b4;\"/>\r\n   </g>\r\n   <g id=\"patch_7\">\r\n    <path clip-path=\"url(#p9cf9d37a81)\" d=\"M 221.445848 239.758125 \r\nL 252.662631 239.758125 \r\nL 252.662631 120.793366 \r\nL 221.445848 120.793366 \r\nz\r\n\" style=\"fill:#ff0000;\"/>\r\n   </g>\r\n   <g id=\"patch_8\">\r\n    <path clip-path=\"url(#p9cf9d37a81)\" d=\"M 260.466827 239.758125 \r\nL 291.68361 239.758125 \r\nL 291.68361 120.793366 \r\nL 260.466827 120.793366 \r\nz\r\n\" style=\"fill:#008000;\"/>\r\n   </g>\r\n   <g id=\"patch_9\">\r\n    <path clip-path=\"url(#p9cf9d37a81)\" d=\"M 299.487806 239.758125 \r\nL 330.704589 239.758125 \r\nL 330.704589 48.726479 \r\nL 299.487806 48.726479 \r\nz\r\n\" style=\"fill:#ffff00;\"/>\r\n   </g>\r\n   <g id=\"patch_10\">\r\n    <path clip-path=\"url(#p9cf9d37a81)\" d=\"M 338.508785 239.758125 \r\nL 369.725568 239.758125 \r\nL 369.725568 32.672411 \r\nL 338.508785 32.672411 \r\nz\r\n\" style=\"fill:#4682b4;\"/>\r\n   </g>\r\n   <g id=\"matplotlib.axis_1\">\r\n    <g id=\"xtick_1\">\r\n     <g id=\"line2d_1\">\r\n      <defs>\r\n       <path d=\"M 0 0 \r\nL 0 3.5 \r\n\" id=\"m3a48430761\" style=\"stroke:#000000;stroke-width:0.8;\"/>\r\n      </defs>\r\n      <g>\r\n       <use style=\"stroke:#000000;stroke-width:0.8;\" x=\"80.970323\" xlink:href=\"#m3a48430761\" y=\"239.758125\"/>\r\n      </g>\r\n     </g>\r\n     <g id=\"text_1\">\r\n      <!-- 0 -->\r\n      <g transform=\"translate(83.729698 253.120625)rotate(-90)scale(0.1 -0.1)\">\r\n       <defs>\r\n        <path d=\"M 31.78125 66.40625 \r\nQ 24.171875 66.40625 20.328125 58.90625 \r\nQ 16.5 51.421875 16.5 36.375 \r\nQ 16.5 21.390625 20.328125 13.890625 \r\nQ 24.171875 6.390625 31.78125 6.390625 \r\nQ 39.453125 6.390625 43.28125 13.890625 \r\nQ 47.125 21.390625 47.125 36.375 \r\nQ 47.125 51.421875 43.28125 58.90625 \r\nQ 39.453125 66.40625 31.78125 66.40625 \r\nz\r\nM 31.78125 74.21875 \r\nQ 44.046875 74.21875 50.515625 64.515625 \r\nQ 56.984375 54.828125 56.984375 36.375 \r\nQ 56.984375 17.96875 50.515625 8.265625 \r\nQ 44.046875 -1.421875 31.78125 -1.421875 \r\nQ 19.53125 -1.421875 13.0625 8.265625 \r\nQ 6.59375 17.96875 6.59375 36.375 \r\nQ 6.59375 54.828125 13.0625 64.515625 \r\nQ 19.53125 74.21875 31.78125 74.21875 \r\nz\r\n\" id=\"DejaVuSans-48\"/>\r\n       </defs>\r\n       <use xlink:href=\"#DejaVuSans-48\"/>\r\n      </g>\r\n     </g>\r\n    </g>\r\n    <g id=\"xtick_2\">\r\n     <g id=\"line2d_2\">\r\n      <g>\r\n       <use style=\"stroke:#000000;stroke-width:0.8;\" x=\"119.991302\" xlink:href=\"#m3a48430761\" y=\"239.758125\"/>\r\n      </g>\r\n     </g>\r\n     <g id=\"text_2\">\r\n      <!-- 1 -->\r\n      <g transform=\"translate(122.750677 253.120625)rotate(-90)scale(0.1 -0.1)\">\r\n       <defs>\r\n        <path d=\"M 12.40625 8.296875 \r\nL 28.515625 8.296875 \r\nL 28.515625 63.921875 \r\nL 10.984375 60.40625 \r\nL 10.984375 69.390625 \r\nL 28.421875 72.90625 \r\nL 38.28125 72.90625 \r\nL 38.28125 8.296875 \r\nL 54.390625 8.296875 \r\nL 54.390625 0 \r\nL 12.40625 0 \r\nz\r\n\" id=\"DejaVuSans-49\"/>\r\n       </defs>\r\n       <use xlink:href=\"#DejaVuSans-49\"/>\r\n      </g>\r\n     </g>\r\n    </g>\r\n    <g id=\"xtick_3\">\r\n     <g id=\"line2d_3\">\r\n      <g>\r\n       <use style=\"stroke:#000000;stroke-width:0.8;\" x=\"159.012281\" xlink:href=\"#m3a48430761\" y=\"239.758125\"/>\r\n      </g>\r\n     </g>\r\n     <g id=\"text_3\">\r\n      <!-- 2 -->\r\n      <g transform=\"translate(161.771656 253.120625)rotate(-90)scale(0.1 -0.1)\">\r\n       <defs>\r\n        <path d=\"M 19.1875 8.296875 \r\nL 53.609375 8.296875 \r\nL 53.609375 0 \r\nL 7.328125 0 \r\nL 7.328125 8.296875 \r\nQ 12.9375 14.109375 22.625 23.890625 \r\nQ 32.328125 33.6875 34.8125 36.53125 \r\nQ 39.546875 41.84375 41.421875 45.53125 \r\nQ 43.3125 49.21875 43.3125 52.78125 \r\nQ 43.3125 58.59375 39.234375 62.25 \r\nQ 35.15625 65.921875 28.609375 65.921875 \r\nQ 23.96875 65.921875 18.8125 64.3125 \r\nQ 13.671875 62.703125 7.8125 59.421875 \r\nL 7.8125 69.390625 \r\nQ 13.765625 71.78125 18.9375 73 \r\nQ 24.125 74.21875 28.421875 74.21875 \r\nQ 39.75 74.21875 46.484375 68.546875 \r\nQ 53.21875 62.890625 53.21875 53.421875 \r\nQ 53.21875 48.921875 51.53125 44.890625 \r\nQ 49.859375 40.875 45.40625 35.40625 \r\nQ 44.1875 33.984375 37.640625 27.21875 \r\nQ 31.109375 20.453125 19.1875 8.296875 \r\nz\r\n\" id=\"DejaVuSans-50\"/>\r\n       </defs>\r\n       <use xlink:href=\"#DejaVuSans-50\"/>\r\n      </g>\r\n     </g>\r\n    </g>\r\n    <g id=\"xtick_4\">\r\n     <g id=\"line2d_4\">\r\n      <g>\r\n       <use style=\"stroke:#000000;stroke-width:0.8;\" x=\"198.03326\" xlink:href=\"#m3a48430761\" y=\"239.758125\"/>\r\n      </g>\r\n     </g>\r\n     <g id=\"text_4\">\r\n      <!-- 3 -->\r\n      <g transform=\"translate(200.792635 253.120625)rotate(-90)scale(0.1 -0.1)\">\r\n       <defs>\r\n        <path d=\"M 40.578125 39.3125 \r\nQ 47.65625 37.796875 51.625 33 \r\nQ 55.609375 28.21875 55.609375 21.1875 \r\nQ 55.609375 10.40625 48.1875 4.484375 \r\nQ 40.765625 -1.421875 27.09375 -1.421875 \r\nQ 22.515625 -1.421875 17.65625 -0.515625 \r\nQ 12.796875 0.390625 7.625 2.203125 \r\nL 7.625 11.71875 \r\nQ 11.71875 9.328125 16.59375 8.109375 \r\nQ 21.484375 6.890625 26.8125 6.890625 \r\nQ 36.078125 6.890625 40.9375 10.546875 \r\nQ 45.796875 14.203125 45.796875 21.1875 \r\nQ 45.796875 27.640625 41.28125 31.265625 \r\nQ 36.765625 34.90625 28.71875 34.90625 \r\nL 20.21875 34.90625 \r\nL 20.21875 43.015625 \r\nL 29.109375 43.015625 \r\nQ 36.375 43.015625 40.234375 45.921875 \r\nQ 44.09375 48.828125 44.09375 54.296875 \r\nQ 44.09375 59.90625 40.109375 62.90625 \r\nQ 36.140625 65.921875 28.71875 65.921875 \r\nQ 24.65625 65.921875 20.015625 65.03125 \r\nQ 15.375 64.15625 9.8125 62.3125 \r\nL 9.8125 71.09375 \r\nQ 15.4375 72.65625 20.34375 73.4375 \r\nQ 25.25 74.21875 29.59375 74.21875 \r\nQ 40.828125 74.21875 47.359375 69.109375 \r\nQ 53.90625 64.015625 53.90625 55.328125 \r\nQ 53.90625 49.265625 50.4375 45.09375 \r\nQ 46.96875 40.921875 40.578125 39.3125 \r\nz\r\n\" id=\"DejaVuSans-51\"/>\r\n       </defs>\r\n       <use xlink:href=\"#DejaVuSans-51\"/>\r\n      </g>\r\n     </g>\r\n    </g>\r\n    <g id=\"xtick_5\">\r\n     <g id=\"line2d_5\">\r\n      <g>\r\n       <use style=\"stroke:#000000;stroke-width:0.8;\" x=\"237.05424\" xlink:href=\"#m3a48430761\" y=\"239.758125\"/>\r\n      </g>\r\n     </g>\r\n     <g id=\"text_5\">\r\n      <!-- 4 -->\r\n      <g transform=\"translate(239.813615 253.120625)rotate(-90)scale(0.1 -0.1)\">\r\n       <defs>\r\n        <path d=\"M 37.796875 64.3125 \r\nL 12.890625 25.390625 \r\nL 37.796875 25.390625 \r\nz\r\nM 35.203125 72.90625 \r\nL 47.609375 72.90625 \r\nL 47.609375 25.390625 \r\nL 58.015625 25.390625 \r\nL 58.015625 17.1875 \r\nL 47.609375 17.1875 \r\nL 47.609375 0 \r\nL 37.796875 0 \r\nL 37.796875 17.1875 \r\nL 4.890625 17.1875 \r\nL 4.890625 26.703125 \r\nz\r\n\" id=\"DejaVuSans-52\"/>\r\n       </defs>\r\n       <use xlink:href=\"#DejaVuSans-52\"/>\r\n      </g>\r\n     </g>\r\n    </g>\r\n    <g id=\"xtick_6\">\r\n     <g id=\"line2d_6\">\r\n      <g>\r\n       <use style=\"stroke:#000000;stroke-width:0.8;\" x=\"276.075219\" xlink:href=\"#m3a48430761\" y=\"239.758125\"/>\r\n      </g>\r\n     </g>\r\n     <g id=\"text_6\">\r\n      <!-- 5 -->\r\n      <g transform=\"translate(278.834594 253.120625)rotate(-90)scale(0.1 -0.1)\">\r\n       <defs>\r\n        <path d=\"M 10.796875 72.90625 \r\nL 49.515625 72.90625 \r\nL 49.515625 64.59375 \r\nL 19.828125 64.59375 \r\nL 19.828125 46.734375 \r\nQ 21.96875 47.46875 24.109375 47.828125 \r\nQ 26.265625 48.1875 28.421875 48.1875 \r\nQ 40.625 48.1875 47.75 41.5 \r\nQ 54.890625 34.8125 54.890625 23.390625 \r\nQ 54.890625 11.625 47.5625 5.09375 \r\nQ 40.234375 -1.421875 26.90625 -1.421875 \r\nQ 22.3125 -1.421875 17.546875 -0.640625 \r\nQ 12.796875 0.140625 7.71875 1.703125 \r\nL 7.71875 11.625 \r\nQ 12.109375 9.234375 16.796875 8.0625 \r\nQ 21.484375 6.890625 26.703125 6.890625 \r\nQ 35.15625 6.890625 40.078125 11.328125 \r\nQ 45.015625 15.765625 45.015625 23.390625 \r\nQ 45.015625 31 40.078125 35.4375 \r\nQ 35.15625 39.890625 26.703125 39.890625 \r\nQ 22.75 39.890625 18.8125 39.015625 \r\nQ 14.890625 38.140625 10.796875 36.28125 \r\nz\r\n\" id=\"DejaVuSans-53\"/>\r\n       </defs>\r\n       <use xlink:href=\"#DejaVuSans-53\"/>\r\n      </g>\r\n     </g>\r\n    </g>\r\n    <g id=\"xtick_7\">\r\n     <g id=\"line2d_7\">\r\n      <g>\r\n       <use style=\"stroke:#000000;stroke-width:0.8;\" x=\"315.096198\" xlink:href=\"#m3a48430761\" y=\"239.758125\"/>\r\n      </g>\r\n     </g>\r\n     <g id=\"text_7\">\r\n      <!-- 6 -->\r\n      <g transform=\"translate(317.855573 253.120625)rotate(-90)scale(0.1 -0.1)\">\r\n       <defs>\r\n        <path d=\"M 33.015625 40.375 \r\nQ 26.375 40.375 22.484375 35.828125 \r\nQ 18.609375 31.296875 18.609375 23.390625 \r\nQ 18.609375 15.53125 22.484375 10.953125 \r\nQ 26.375 6.390625 33.015625 6.390625 \r\nQ 39.65625 6.390625 43.53125 10.953125 \r\nQ 47.40625 15.53125 47.40625 23.390625 \r\nQ 47.40625 31.296875 43.53125 35.828125 \r\nQ 39.65625 40.375 33.015625 40.375 \r\nz\r\nM 52.59375 71.296875 \r\nL 52.59375 62.3125 \r\nQ 48.875 64.0625 45.09375 64.984375 \r\nQ 41.3125 65.921875 37.59375 65.921875 \r\nQ 27.828125 65.921875 22.671875 59.328125 \r\nQ 17.53125 52.734375 16.796875 39.40625 \r\nQ 19.671875 43.65625 24.015625 45.921875 \r\nQ 28.375 48.1875 33.59375 48.1875 \r\nQ 44.578125 48.1875 50.953125 41.515625 \r\nQ 57.328125 34.859375 57.328125 23.390625 \r\nQ 57.328125 12.15625 50.6875 5.359375 \r\nQ 44.046875 -1.421875 33.015625 -1.421875 \r\nQ 20.359375 -1.421875 13.671875 8.265625 \r\nQ 6.984375 17.96875 6.984375 36.375 \r\nQ 6.984375 53.65625 15.1875 63.9375 \r\nQ 23.390625 74.21875 37.203125 74.21875 \r\nQ 40.921875 74.21875 44.703125 73.484375 \r\nQ 48.484375 72.75 52.59375 71.296875 \r\nz\r\n\" id=\"DejaVuSans-54\"/>\r\n       </defs>\r\n       <use xlink:href=\"#DejaVuSans-54\"/>\r\n      </g>\r\n     </g>\r\n    </g>\r\n    <g id=\"xtick_8\">\r\n     <g id=\"line2d_8\">\r\n      <g>\r\n       <use style=\"stroke:#000000;stroke-width:0.8;\" x=\"354.117177\" xlink:href=\"#m3a48430761\" y=\"239.758125\"/>\r\n      </g>\r\n     </g>\r\n     <g id=\"text_8\">\r\n      <!-- 7 -->\r\n      <g transform=\"translate(356.876552 253.120625)rotate(-90)scale(0.1 -0.1)\">\r\n       <defs>\r\n        <path d=\"M 8.203125 72.90625 \r\nL 55.078125 72.90625 \r\nL 55.078125 68.703125 \r\nL 28.609375 0 \r\nL 18.3125 0 \r\nL 43.21875 64.59375 \r\nL 8.203125 64.59375 \r\nz\r\n\" id=\"DejaVuSans-55\"/>\r\n       </defs>\r\n       <use xlink:href=\"#DejaVuSans-55\"/>\r\n      </g>\r\n     </g>\r\n    </g>\r\n    <g id=\"text_9\">\r\n     <!-- variables names -->\r\n     <g transform=\"translate(176.39375 264.719062)scale(0.1 -0.1)\">\r\n      <defs>\r\n       <path d=\"M 2.984375 54.6875 \r\nL 12.5 54.6875 \r\nL 29.59375 8.796875 \r\nL 46.6875 54.6875 \r\nL 56.203125 54.6875 \r\nL 35.6875 0 \r\nL 23.484375 0 \r\nz\r\n\" id=\"DejaVuSans-118\"/>\r\n       <path d=\"M 34.28125 27.484375 \r\nQ 23.390625 27.484375 19.1875 25 \r\nQ 14.984375 22.515625 14.984375 16.5 \r\nQ 14.984375 11.71875 18.140625 8.90625 \r\nQ 21.296875 6.109375 26.703125 6.109375 \r\nQ 34.1875 6.109375 38.703125 11.40625 \r\nQ 43.21875 16.703125 43.21875 25.484375 \r\nL 43.21875 27.484375 \r\nz\r\nM 52.203125 31.203125 \r\nL 52.203125 0 \r\nL 43.21875 0 \r\nL 43.21875 8.296875 \r\nQ 40.140625 3.328125 35.546875 0.953125 \r\nQ 30.953125 -1.421875 24.3125 -1.421875 \r\nQ 15.921875 -1.421875 10.953125 3.296875 \r\nQ 6 8.015625 6 15.921875 \r\nQ 6 25.140625 12.171875 29.828125 \r\nQ 18.359375 34.515625 30.609375 34.515625 \r\nL 43.21875 34.515625 \r\nL 43.21875 35.40625 \r\nQ 43.21875 41.609375 39.140625 45 \r\nQ 35.0625 48.390625 27.6875 48.390625 \r\nQ 23 48.390625 18.546875 47.265625 \r\nQ 14.109375 46.140625 10.015625 43.890625 \r\nL 10.015625 52.203125 \r\nQ 14.9375 54.109375 19.578125 55.046875 \r\nQ 24.21875 56 28.609375 56 \r\nQ 40.484375 56 46.34375 49.84375 \r\nQ 52.203125 43.703125 52.203125 31.203125 \r\nz\r\n\" id=\"DejaVuSans-97\"/>\r\n       <path d=\"M 41.109375 46.296875 \r\nQ 39.59375 47.171875 37.8125 47.578125 \r\nQ 36.03125 48 33.890625 48 \r\nQ 26.265625 48 22.1875 43.046875 \r\nQ 18.109375 38.09375 18.109375 28.8125 \r\nL 18.109375 0 \r\nL 9.078125 0 \r\nL 9.078125 54.6875 \r\nL 18.109375 54.6875 \r\nL 18.109375 46.1875 \r\nQ 20.953125 51.171875 25.484375 53.578125 \r\nQ 30.03125 56 36.53125 56 \r\nQ 37.453125 56 38.578125 55.875 \r\nQ 39.703125 55.765625 41.0625 55.515625 \r\nz\r\n\" id=\"DejaVuSans-114\"/>\r\n       <path d=\"M 9.421875 54.6875 \r\nL 18.40625 54.6875 \r\nL 18.40625 0 \r\nL 9.421875 0 \r\nz\r\nM 9.421875 75.984375 \r\nL 18.40625 75.984375 \r\nL 18.40625 64.59375 \r\nL 9.421875 64.59375 \r\nz\r\n\" id=\"DejaVuSans-105\"/>\r\n       <path d=\"M 48.6875 27.296875 \r\nQ 48.6875 37.203125 44.609375 42.84375 \r\nQ 40.53125 48.484375 33.40625 48.484375 \r\nQ 26.265625 48.484375 22.1875 42.84375 \r\nQ 18.109375 37.203125 18.109375 27.296875 \r\nQ 18.109375 17.390625 22.1875 11.75 \r\nQ 26.265625 6.109375 33.40625 6.109375 \r\nQ 40.53125 6.109375 44.609375 11.75 \r\nQ 48.6875 17.390625 48.6875 27.296875 \r\nz\r\nM 18.109375 46.390625 \r\nQ 20.953125 51.265625 25.265625 53.625 \r\nQ 29.59375 56 35.59375 56 \r\nQ 45.5625 56 51.78125 48.09375 \r\nQ 58.015625 40.1875 58.015625 27.296875 \r\nQ 58.015625 14.40625 51.78125 6.484375 \r\nQ 45.5625 -1.421875 35.59375 -1.421875 \r\nQ 29.59375 -1.421875 25.265625 0.953125 \r\nQ 20.953125 3.328125 18.109375 8.203125 \r\nL 18.109375 0 \r\nL 9.078125 0 \r\nL 9.078125 75.984375 \r\nL 18.109375 75.984375 \r\nz\r\n\" id=\"DejaVuSans-98\"/>\r\n       <path d=\"M 9.421875 75.984375 \r\nL 18.40625 75.984375 \r\nL 18.40625 0 \r\nL 9.421875 0 \r\nz\r\n\" id=\"DejaVuSans-108\"/>\r\n       <path d=\"M 56.203125 29.59375 \r\nL 56.203125 25.203125 \r\nL 14.890625 25.203125 \r\nQ 15.484375 15.921875 20.484375 11.0625 \r\nQ 25.484375 6.203125 34.421875 6.203125 \r\nQ 39.59375 6.203125 44.453125 7.46875 \r\nQ 49.3125 8.734375 54.109375 11.28125 \r\nL 54.109375 2.78125 \r\nQ 49.265625 0.734375 44.1875 -0.34375 \r\nQ 39.109375 -1.421875 33.890625 -1.421875 \r\nQ 20.796875 -1.421875 13.15625 6.1875 \r\nQ 5.515625 13.8125 5.515625 26.8125 \r\nQ 5.515625 40.234375 12.765625 48.109375 \r\nQ 20.015625 56 32.328125 56 \r\nQ 43.359375 56 49.78125 48.890625 \r\nQ 56.203125 41.796875 56.203125 29.59375 \r\nz\r\nM 47.21875 32.234375 \r\nQ 47.125 39.59375 43.09375 43.984375 \r\nQ 39.0625 48.390625 32.421875 48.390625 \r\nQ 24.90625 48.390625 20.390625 44.140625 \r\nQ 15.875 39.890625 15.1875 32.171875 \r\nz\r\n\" id=\"DejaVuSans-101\"/>\r\n       <path d=\"M 44.28125 53.078125 \r\nL 44.28125 44.578125 \r\nQ 40.484375 46.53125 36.375 47.5 \r\nQ 32.28125 48.484375 27.875 48.484375 \r\nQ 21.1875 48.484375 17.84375 46.4375 \r\nQ 14.5 44.390625 14.5 40.28125 \r\nQ 14.5 37.15625 16.890625 35.375 \r\nQ 19.28125 33.59375 26.515625 31.984375 \r\nL 29.59375 31.296875 \r\nQ 39.15625 29.25 43.1875 25.515625 \r\nQ 47.21875 21.78125 47.21875 15.09375 \r\nQ 47.21875 7.46875 41.1875 3.015625 \r\nQ 35.15625 -1.421875 24.609375 -1.421875 \r\nQ 20.21875 -1.421875 15.453125 -0.5625 \r\nQ 10.6875 0.296875 5.421875 2 \r\nL 5.421875 11.28125 \r\nQ 10.40625 8.6875 15.234375 7.390625 \r\nQ 20.0625 6.109375 24.8125 6.109375 \r\nQ 31.15625 6.109375 34.5625 8.28125 \r\nQ 37.984375 10.453125 37.984375 14.40625 \r\nQ 37.984375 18.0625 35.515625 20.015625 \r\nQ 33.0625 21.96875 24.703125 23.78125 \r\nL 21.578125 24.515625 \r\nQ 13.234375 26.265625 9.515625 29.90625 \r\nQ 5.8125 33.546875 5.8125 39.890625 \r\nQ 5.8125 47.609375 11.28125 51.796875 \r\nQ 16.75 56 26.8125 56 \r\nQ 31.78125 56 36.171875 55.265625 \r\nQ 40.578125 54.546875 44.28125 53.078125 \r\nz\r\n\" id=\"DejaVuSans-115\"/>\r\n       <path id=\"DejaVuSans-32\"/>\r\n       <path d=\"M 54.890625 33.015625 \r\nL 54.890625 0 \r\nL 45.90625 0 \r\nL 45.90625 32.71875 \r\nQ 45.90625 40.484375 42.875 44.328125 \r\nQ 39.84375 48.1875 33.796875 48.1875 \r\nQ 26.515625 48.1875 22.3125 43.546875 \r\nQ 18.109375 38.921875 18.109375 30.90625 \r\nL 18.109375 0 \r\nL 9.078125 0 \r\nL 9.078125 54.6875 \r\nL 18.109375 54.6875 \r\nL 18.109375 46.1875 \r\nQ 21.34375 51.125 25.703125 53.5625 \r\nQ 30.078125 56 35.796875 56 \r\nQ 45.21875 56 50.046875 50.171875 \r\nQ 54.890625 44.34375 54.890625 33.015625 \r\nz\r\n\" id=\"DejaVuSans-110\"/>\r\n       <path d=\"M 52 44.1875 \r\nQ 55.375 50.25 60.0625 53.125 \r\nQ 64.75 56 71.09375 56 \r\nQ 79.640625 56 84.28125 50.015625 \r\nQ 88.921875 44.046875 88.921875 33.015625 \r\nL 88.921875 0 \r\nL 79.890625 0 \r\nL 79.890625 32.71875 \r\nQ 79.890625 40.578125 77.09375 44.375 \r\nQ 74.3125 48.1875 68.609375 48.1875 \r\nQ 61.625 48.1875 57.5625 43.546875 \r\nQ 53.515625 38.921875 53.515625 30.90625 \r\nL 53.515625 0 \r\nL 44.484375 0 \r\nL 44.484375 32.71875 \r\nQ 44.484375 40.625 41.703125 44.40625 \r\nQ 38.921875 48.1875 33.109375 48.1875 \r\nQ 26.21875 48.1875 22.15625 43.53125 \r\nQ 18.109375 38.875 18.109375 30.90625 \r\nL 18.109375 0 \r\nL 9.078125 0 \r\nL 9.078125 54.6875 \r\nL 18.109375 54.6875 \r\nL 18.109375 46.1875 \r\nQ 21.1875 51.21875 25.484375 53.609375 \r\nQ 29.78125 56 35.6875 56 \r\nQ 41.65625 56 45.828125 52.96875 \r\nQ 50 49.953125 52 44.1875 \r\nz\r\n\" id=\"DejaVuSans-109\"/>\r\n      </defs>\r\n      <use xlink:href=\"#DejaVuSans-118\"/>\r\n      <use x=\"59.179688\" xlink:href=\"#DejaVuSans-97\"/>\r\n      <use x=\"120.458984\" xlink:href=\"#DejaVuSans-114\"/>\r\n      <use x=\"161.572266\" xlink:href=\"#DejaVuSans-105\"/>\r\n      <use x=\"189.355469\" xlink:href=\"#DejaVuSans-97\"/>\r\n      <use x=\"250.634766\" xlink:href=\"#DejaVuSans-98\"/>\r\n      <use x=\"314.111328\" xlink:href=\"#DejaVuSans-108\"/>\r\n      <use x=\"341.894531\" xlink:href=\"#DejaVuSans-101\"/>\r\n      <use x=\"403.417969\" xlink:href=\"#DejaVuSans-115\"/>\r\n      <use x=\"455.517578\" xlink:href=\"#DejaVuSans-32\"/>\r\n      <use x=\"487.304688\" xlink:href=\"#DejaVuSans-110\"/>\r\n      <use x=\"550.683594\" xlink:href=\"#DejaVuSans-97\"/>\r\n      <use x=\"611.962891\" xlink:href=\"#DejaVuSans-109\"/>\r\n      <use x=\"709.375\" xlink:href=\"#DejaVuSans-101\"/>\r\n      <use x=\"770.898438\" xlink:href=\"#DejaVuSans-115\"/>\r\n     </g>\r\n    </g>\r\n   </g>\r\n   <g id=\"matplotlib.axis_2\">\r\n    <g id=\"ytick_1\">\r\n     <g id=\"line2d_9\">\r\n      <defs>\r\n       <path d=\"M 0 0 \r\nL -3.5 0 \r\n\" id=\"m15161a4b31\" style=\"stroke:#000000;stroke-width:0.8;\"/>\r\n      </defs>\r\n      <g>\r\n       <use style=\"stroke:#000000;stroke-width:0.8;\" x=\"50.14375\" xlink:href=\"#m15161a4b31\" y=\"239.758125\"/>\r\n      </g>\r\n     </g>\r\n     <g id=\"text_10\">\r\n      <!-- 0.00 -->\r\n      <g transform=\"translate(20.878125 243.557344)scale(0.1 -0.1)\">\r\n       <defs>\r\n        <path d=\"M 10.6875 12.40625 \r\nL 21 12.40625 \r\nL 21 0 \r\nL 10.6875 0 \r\nz\r\n\" id=\"DejaVuSans-46\"/>\r\n       </defs>\r\n       <use xlink:href=\"#DejaVuSans-48\"/>\r\n       <use x=\"63.623047\" xlink:href=\"#DejaVuSans-46\"/>\r\n       <use x=\"95.410156\" xlink:href=\"#DejaVuSans-48\"/>\r\n       <use x=\"159.033203\" xlink:href=\"#DejaVuSans-48\"/>\r\n      </g>\r\n     </g>\r\n    </g>\r\n    <g id=\"ytick_2\">\r\n     <g id=\"line2d_10\">\r\n      <g>\r\n       <use style=\"stroke:#000000;stroke-width:0.8;\" x=\"50.14375\" xlink:href=\"#m15161a4b31\" y=\"204.469167\"/>\r\n      </g>\r\n     </g>\r\n     <g id=\"text_11\">\r\n      <!-- 0.01 -->\r\n      <g transform=\"translate(20.878125 208.268386)scale(0.1 -0.1)\">\r\n       <use xlink:href=\"#DejaVuSans-48\"/>\r\n       <use x=\"63.623047\" xlink:href=\"#DejaVuSans-46\"/>\r\n       <use x=\"95.410156\" xlink:href=\"#DejaVuSans-48\"/>\r\n       <use x=\"159.033203\" xlink:href=\"#DejaVuSans-49\"/>\r\n      </g>\r\n     </g>\r\n    </g>\r\n    <g id=\"ytick_3\">\r\n     <g id=\"line2d_11\">\r\n      <g>\r\n       <use style=\"stroke:#000000;stroke-width:0.8;\" x=\"50.14375\" xlink:href=\"#m15161a4b31\" y=\"169.180209\"/>\r\n      </g>\r\n     </g>\r\n     <g id=\"text_12\">\r\n      <!-- 0.02 -->\r\n      <g transform=\"translate(20.878125 172.979427)scale(0.1 -0.1)\">\r\n       <use xlink:href=\"#DejaVuSans-48\"/>\r\n       <use x=\"63.623047\" xlink:href=\"#DejaVuSans-46\"/>\r\n       <use x=\"95.410156\" xlink:href=\"#DejaVuSans-48\"/>\r\n       <use x=\"159.033203\" xlink:href=\"#DejaVuSans-50\"/>\r\n      </g>\r\n     </g>\r\n    </g>\r\n    <g id=\"ytick_4\">\r\n     <g id=\"line2d_12\">\r\n      <g>\r\n       <use style=\"stroke:#000000;stroke-width:0.8;\" x=\"50.14375\" xlink:href=\"#m15161a4b31\" y=\"133.89125\"/>\r\n      </g>\r\n     </g>\r\n     <g id=\"text_13\">\r\n      <!-- 0.03 -->\r\n      <g transform=\"translate(20.878125 137.690469)scale(0.1 -0.1)\">\r\n       <use xlink:href=\"#DejaVuSans-48\"/>\r\n       <use x=\"63.623047\" xlink:href=\"#DejaVuSans-46\"/>\r\n       <use x=\"95.410156\" xlink:href=\"#DejaVuSans-48\"/>\r\n       <use x=\"159.033203\" xlink:href=\"#DejaVuSans-51\"/>\r\n      </g>\r\n     </g>\r\n    </g>\r\n    <g id=\"ytick_5\">\r\n     <g id=\"line2d_13\">\r\n      <g>\r\n       <use style=\"stroke:#000000;stroke-width:0.8;\" x=\"50.14375\" xlink:href=\"#m15161a4b31\" y=\"98.602292\"/>\r\n      </g>\r\n     </g>\r\n     <g id=\"text_14\">\r\n      <!-- 0.04 -->\r\n      <g transform=\"translate(20.878125 102.401511)scale(0.1 -0.1)\">\r\n       <use xlink:href=\"#DejaVuSans-48\"/>\r\n       <use x=\"63.623047\" xlink:href=\"#DejaVuSans-46\"/>\r\n       <use x=\"95.410156\" xlink:href=\"#DejaVuSans-48\"/>\r\n       <use x=\"159.033203\" xlink:href=\"#DejaVuSans-52\"/>\r\n      </g>\r\n     </g>\r\n    </g>\r\n    <g id=\"ytick_6\">\r\n     <g id=\"line2d_14\">\r\n      <g>\r\n       <use style=\"stroke:#000000;stroke-width:0.8;\" x=\"50.14375\" xlink:href=\"#m15161a4b31\" y=\"63.313334\"/>\r\n      </g>\r\n     </g>\r\n     <g id=\"text_15\">\r\n      <!-- 0.05 -->\r\n      <g transform=\"translate(20.878125 67.112553)scale(0.1 -0.1)\">\r\n       <use xlink:href=\"#DejaVuSans-48\"/>\r\n       <use x=\"63.623047\" xlink:href=\"#DejaVuSans-46\"/>\r\n       <use x=\"95.410156\" xlink:href=\"#DejaVuSans-48\"/>\r\n       <use x=\"159.033203\" xlink:href=\"#DejaVuSans-53\"/>\r\n      </g>\r\n     </g>\r\n    </g>\r\n    <g id=\"ytick_7\">\r\n     <g id=\"line2d_15\">\r\n      <g>\r\n       <use style=\"stroke:#000000;stroke-width:0.8;\" x=\"50.14375\" xlink:href=\"#m15161a4b31\" y=\"28.024376\"/>\r\n      </g>\r\n     </g>\r\n     <g id=\"text_16\">\r\n      <!-- 0.06 -->\r\n      <g transform=\"translate(20.878125 31.823595)scale(0.1 -0.1)\">\r\n       <use xlink:href=\"#DejaVuSans-48\"/>\r\n       <use x=\"63.623047\" xlink:href=\"#DejaVuSans-46\"/>\r\n       <use x=\"95.410156\" xlink:href=\"#DejaVuSans-48\"/>\r\n       <use x=\"159.033203\" xlink:href=\"#DejaVuSans-54\"/>\r\n      </g>\r\n     </g>\r\n    </g>\r\n    <g id=\"text_17\">\r\n     <!-- missing rate -->\r\n     <g transform=\"translate(14.798438 161.984219)rotate(-90)scale(0.1 -0.1)\">\r\n      <defs>\r\n       <path d=\"M 45.40625 27.984375 \r\nQ 45.40625 37.75 41.375 43.109375 \r\nQ 37.359375 48.484375 30.078125 48.484375 \r\nQ 22.859375 48.484375 18.828125 43.109375 \r\nQ 14.796875 37.75 14.796875 27.984375 \r\nQ 14.796875 18.265625 18.828125 12.890625 \r\nQ 22.859375 7.515625 30.078125 7.515625 \r\nQ 37.359375 7.515625 41.375 12.890625 \r\nQ 45.40625 18.265625 45.40625 27.984375 \r\nz\r\nM 54.390625 6.78125 \r\nQ 54.390625 -7.171875 48.1875 -13.984375 \r\nQ 42 -20.796875 29.203125 -20.796875 \r\nQ 24.46875 -20.796875 20.265625 -20.09375 \r\nQ 16.0625 -19.390625 12.109375 -17.921875 \r\nL 12.109375 -9.1875 \r\nQ 16.0625 -11.328125 19.921875 -12.34375 \r\nQ 23.78125 -13.375 27.78125 -13.375 \r\nQ 36.625 -13.375 41.015625 -8.765625 \r\nQ 45.40625 -4.15625 45.40625 5.171875 \r\nL 45.40625 9.625 \r\nQ 42.625 4.78125 38.28125 2.390625 \r\nQ 33.9375 0 27.875 0 \r\nQ 17.828125 0 11.671875 7.65625 \r\nQ 5.515625 15.328125 5.515625 27.984375 \r\nQ 5.515625 40.671875 11.671875 48.328125 \r\nQ 17.828125 56 27.875 56 \r\nQ 33.9375 56 38.28125 53.609375 \r\nQ 42.625 51.21875 45.40625 46.390625 \r\nL 45.40625 54.6875 \r\nL 54.390625 54.6875 \r\nz\r\n\" id=\"DejaVuSans-103\"/>\r\n       <path d=\"M 18.3125 70.21875 \r\nL 18.3125 54.6875 \r\nL 36.8125 54.6875 \r\nL 36.8125 47.703125 \r\nL 18.3125 47.703125 \r\nL 18.3125 18.015625 \r\nQ 18.3125 11.328125 20.140625 9.421875 \r\nQ 21.96875 7.515625 27.59375 7.515625 \r\nL 36.8125 7.515625 \r\nL 36.8125 0 \r\nL 27.59375 0 \r\nQ 17.1875 0 13.234375 3.875 \r\nQ 9.28125 7.765625 9.28125 18.015625 \r\nL 9.28125 47.703125 \r\nL 2.6875 47.703125 \r\nL 2.6875 54.6875 \r\nL 9.28125 54.6875 \r\nL 9.28125 70.21875 \r\nz\r\n\" id=\"DejaVuSans-116\"/>\r\n      </defs>\r\n      <use xlink:href=\"#DejaVuSans-109\"/>\r\n      <use x=\"97.412109\" xlink:href=\"#DejaVuSans-105\"/>\r\n      <use x=\"125.195312\" xlink:href=\"#DejaVuSans-115\"/>\r\n      <use x=\"177.294922\" xlink:href=\"#DejaVuSans-115\"/>\r\n      <use x=\"229.394531\" xlink:href=\"#DejaVuSans-105\"/>\r\n      <use x=\"257.177734\" xlink:href=\"#DejaVuSans-110\"/>\r\n      <use x=\"320.556641\" xlink:href=\"#DejaVuSans-103\"/>\r\n      <use x=\"384.033203\" xlink:href=\"#DejaVuSans-32\"/>\r\n      <use x=\"415.820312\" xlink:href=\"#DejaVuSans-114\"/>\r\n      <use x=\"456.933594\" xlink:href=\"#DejaVuSans-97\"/>\r\n      <use x=\"518.212891\" xlink:href=\"#DejaVuSans-116\"/>\r\n      <use x=\"557.421875\" xlink:href=\"#DejaVuSans-101\"/>\r\n     </g>\r\n    </g>\r\n   </g>\r\n   <g id=\"patch_11\">\r\n    <path d=\"M 50.14375 239.758125 \r\nL 50.14375 22.318125 \r\n\" style=\"fill:none;stroke:#000000;stroke-linecap:square;stroke-linejoin:miter;stroke-width:0.8;\"/>\r\n   </g>\r\n   <g id=\"patch_12\">\r\n    <path d=\"M 384.94375 239.758125 \r\nL 384.94375 22.318125 \r\n\" style=\"fill:none;stroke:#000000;stroke-linecap:square;stroke-linejoin:miter;stroke-width:0.8;\"/>\r\n   </g>\r\n   <g id=\"patch_13\">\r\n    <path d=\"M 50.14375 239.758125 \r\nL 384.94375 239.758125 \r\n\" style=\"fill:none;stroke:#000000;stroke-linecap:square;stroke-linejoin:miter;stroke-width:0.8;\"/>\r\n   </g>\r\n   <g id=\"patch_14\">\r\n    <path d=\"M 50.14375 22.318125 \r\nL 384.94375 22.318125 \r\n\" style=\"fill:none;stroke:#000000;stroke-linecap:square;stroke-linejoin:miter;stroke-width:0.8;\"/>\r\n   </g>\r\n   <g id=\"text_18\">\r\n    <!-- Histogram of missing value of variables -->\r\n    <g transform=\"translate(98.555313 16.318125)scale(0.12 -0.12)\">\r\n     <defs>\r\n      <path d=\"M 9.8125 72.90625 \r\nL 19.671875 72.90625 \r\nL 19.671875 43.015625 \r\nL 55.515625 43.015625 \r\nL 55.515625 72.90625 \r\nL 65.375 72.90625 \r\nL 65.375 0 \r\nL 55.515625 0 \r\nL 55.515625 34.71875 \r\nL 19.671875 34.71875 \r\nL 19.671875 0 \r\nL 9.8125 0 \r\nz\r\n\" id=\"DejaVuSans-72\"/>\r\n      <path d=\"M 30.609375 48.390625 \r\nQ 23.390625 48.390625 19.1875 42.75 \r\nQ 14.984375 37.109375 14.984375 27.296875 \r\nQ 14.984375 17.484375 19.15625 11.84375 \r\nQ 23.34375 6.203125 30.609375 6.203125 \r\nQ 37.796875 6.203125 41.984375 11.859375 \r\nQ 46.1875 17.53125 46.1875 27.296875 \r\nQ 46.1875 37.015625 41.984375 42.703125 \r\nQ 37.796875 48.390625 30.609375 48.390625 \r\nz\r\nM 30.609375 56 \r\nQ 42.328125 56 49.015625 48.375 \r\nQ 55.71875 40.765625 55.71875 27.296875 \r\nQ 55.71875 13.875 49.015625 6.21875 \r\nQ 42.328125 -1.421875 30.609375 -1.421875 \r\nQ 18.84375 -1.421875 12.171875 6.21875 \r\nQ 5.515625 13.875 5.515625 27.296875 \r\nQ 5.515625 40.765625 12.171875 48.375 \r\nQ 18.84375 56 30.609375 56 \r\nz\r\n\" id=\"DejaVuSans-111\"/>\r\n      <path d=\"M 37.109375 75.984375 \r\nL 37.109375 68.5 \r\nL 28.515625 68.5 \r\nQ 23.6875 68.5 21.796875 66.546875 \r\nQ 19.921875 64.59375 19.921875 59.515625 \r\nL 19.921875 54.6875 \r\nL 34.71875 54.6875 \r\nL 34.71875 47.703125 \r\nL 19.921875 47.703125 \r\nL 19.921875 0 \r\nL 10.890625 0 \r\nL 10.890625 47.703125 \r\nL 2.296875 47.703125 \r\nL 2.296875 54.6875 \r\nL 10.890625 54.6875 \r\nL 10.890625 58.5 \r\nQ 10.890625 67.625 15.140625 71.796875 \r\nQ 19.390625 75.984375 28.609375 75.984375 \r\nz\r\n\" id=\"DejaVuSans-102\"/>\r\n      <path d=\"M 8.5 21.578125 \r\nL 8.5 54.6875 \r\nL 17.484375 54.6875 \r\nL 17.484375 21.921875 \r\nQ 17.484375 14.15625 20.5 10.265625 \r\nQ 23.53125 6.390625 29.59375 6.390625 \r\nQ 36.859375 6.390625 41.078125 11.03125 \r\nQ 45.3125 15.671875 45.3125 23.6875 \r\nL 45.3125 54.6875 \r\nL 54.296875 54.6875 \r\nL 54.296875 0 \r\nL 45.3125 0 \r\nL 45.3125 8.40625 \r\nQ 42.046875 3.421875 37.71875 1 \r\nQ 33.40625 -1.421875 27.6875 -1.421875 \r\nQ 18.265625 -1.421875 13.375 4.4375 \r\nQ 8.5 10.296875 8.5 21.578125 \r\nz\r\nM 31.109375 56 \r\nz\r\n\" id=\"DejaVuSans-117\"/>\r\n     </defs>\r\n     <use xlink:href=\"#DejaVuSans-72\"/>\r\n     <use x=\"75.195312\" xlink:href=\"#DejaVuSans-105\"/>\r\n     <use x=\"102.978516\" xlink:href=\"#DejaVuSans-115\"/>\r\n     <use x=\"155.078125\" xlink:href=\"#DejaVuSans-116\"/>\r\n     <use x=\"194.287109\" xlink:href=\"#DejaVuSans-111\"/>\r\n     <use x=\"255.46875\" xlink:href=\"#DejaVuSans-103\"/>\r\n     <use x=\"318.945312\" xlink:href=\"#DejaVuSans-114\"/>\r\n     <use x=\"360.058594\" xlink:href=\"#DejaVuSans-97\"/>\r\n     <use x=\"421.337891\" xlink:href=\"#DejaVuSans-109\"/>\r\n     <use x=\"518.75\" xlink:href=\"#DejaVuSans-32\"/>\r\n     <use x=\"550.537109\" xlink:href=\"#DejaVuSans-111\"/>\r\n     <use x=\"611.71875\" xlink:href=\"#DejaVuSans-102\"/>\r\n     <use x=\"646.923828\" xlink:href=\"#DejaVuSans-32\"/>\r\n     <use x=\"678.710938\" xlink:href=\"#DejaVuSans-109\"/>\r\n     <use x=\"776.123047\" xlink:href=\"#DejaVuSans-105\"/>\r\n     <use x=\"803.90625\" xlink:href=\"#DejaVuSans-115\"/>\r\n     <use x=\"856.005859\" xlink:href=\"#DejaVuSans-115\"/>\r\n     <use x=\"908.105469\" xlink:href=\"#DejaVuSans-105\"/>\r\n     <use x=\"935.888672\" xlink:href=\"#DejaVuSans-110\"/>\r\n     <use x=\"999.267578\" xlink:href=\"#DejaVuSans-103\"/>\r\n     <use x=\"1062.744141\" xlink:href=\"#DejaVuSans-32\"/>\r\n     <use x=\"1094.53125\" xlink:href=\"#DejaVuSans-118\"/>\r\n     <use x=\"1153.710938\" xlink:href=\"#DejaVuSans-97\"/>\r\n     <use x=\"1214.990234\" xlink:href=\"#DejaVuSans-108\"/>\r\n     <use x=\"1242.773438\" xlink:href=\"#DejaVuSans-117\"/>\r\n     <use x=\"1306.152344\" xlink:href=\"#DejaVuSans-101\"/>\r\n     <use x=\"1367.675781\" xlink:href=\"#DejaVuSans-32\"/>\r\n     <use x=\"1399.462891\" xlink:href=\"#DejaVuSans-111\"/>\r\n     <use x=\"1460.644531\" xlink:href=\"#DejaVuSans-102\"/>\r\n     <use x=\"1495.849609\" xlink:href=\"#DejaVuSans-32\"/>\r\n     <use x=\"1527.636719\" xlink:href=\"#DejaVuSans-118\"/>\r\n     <use x=\"1586.816406\" xlink:href=\"#DejaVuSans-97\"/>\r\n     <use x=\"1648.095703\" xlink:href=\"#DejaVuSans-114\"/>\r\n     <use x=\"1689.208984\" xlink:href=\"#DejaVuSans-105\"/>\r\n     <use x=\"1716.992188\" xlink:href=\"#DejaVuSans-97\"/>\r\n     <use x=\"1778.271484\" xlink:href=\"#DejaVuSans-98\"/>\r\n     <use x=\"1841.748047\" xlink:href=\"#DejaVuSans-108\"/>\r\n     <use x=\"1869.53125\" xlink:href=\"#DejaVuSans-101\"/>\r\n     <use x=\"1931.054688\" xlink:href=\"#DejaVuSans-115\"/>\r\n    </g>\r\n   </g>\r\n  </g>\r\n </g>\r\n <defs>\r\n  <clipPath id=\"p9cf9d37a81\">\r\n   <rect height=\"217.44\" width=\"334.8\" x=\"50.14375\" y=\"22.318125\"/>\r\n  </clipPath>\r\n </defs>\r\n</svg>\r\n",
      "image/png": "[encoded data removed]"
     },
     "metadata": {
      "needs_background": "light"
     }
    }
   ],
   "source": [
    "num_cols=['WIP_QTY','NO_HOLD_QTY','M','U','PT','UP_TIME','EQP_UTIL','TC','CS','AI','C_AI']\n",
    "missData(df_train)"
   ]
  },
  {
   "cell_type": "code",
   "execution_count": 17,
   "metadata": {},
   "outputs": [
    {
     "output_type": "stream",
     "name": "stdout",
     "text": [
      "<class 'pandas.core.frame.DataFrame'>\nRangeIndex: 120018 entries, 0 to 120017\nData columns (total 14 columns):\n #   Column       Non-Null Count   Dtype  \n---  ------       --------------   -----  \n 0   MFG_DATE     120018 non-null  int64  \n 1   TOOLG_ID     120018 non-null  object \n 2   WIP_QTY      120018 non-null  float64\n 3   NO_HOLD_QTY  120018 non-null  float64\n 4   MOVE_QTY     120018 non-null  float64\n 5   M            118540 non-null  float64\n 6   U            118442 non-null  float64\n 7   PT           120018 non-null  float64\n 8   UP_TIME      118540 non-null  float64\n 9   EQP_UTIL     118540 non-null  float64\n 10  TC           115972 non-null  float64\n 11  CS           115972 non-null  float64\n 12  AI           113521 non-null  float64\n 13  C_AI         112975 non-null  float64\ndtypes: float64(12), int64(1), object(1)\nmemory usage: 12.8+ MB\n"
     ]
    }
   ],
   "source": [
    "#df_train['Finish']=np.where(df_train['TOOLG_ID_NEXT'].isnull(), 1, 0).astype(str)\n",
    "#df_train['WEEKDAY']=pd.to_datetime(df_train['MFG_DATE'],format='%Y%m%d').dt.day_name()\n",
    " \n",
    "df_train.info()"
   ]
  },
  {
   "cell_type": "code",
   "execution_count": 18,
   "metadata": {},
   "outputs": [],
   "source": [
    "#df_traindf_trainpd.to_datetime(df_train['MFG_DATE'],format='%Y%m%d').dt.day_name()"
   ]
  },
  {
   "cell_type": "code",
   "execution_count": 19,
   "metadata": {},
   "outputs": [
    {
     "output_type": "execute_result",
     "data": {
      "text/plain": [
       "   MFG_DATE    TOOLG_ID  WIP_QTY  NO_HOLD_QTY  MOVE_QTY     M         U  \\\n",
       "0  20200122      CI_STI   1672.0       1500.0    3371.0   5.0  0.475904   \n",
       "1  20200122  DGM_AM_350    377.0        324.0    2294.0  10.0  0.707514   \n",
       "2  20200122      DI_PSG      0.0          0.0     125.0   2.0  0.500000   \n",
       "3  20200122      DN_SiN    131.0        125.0    1381.0   4.0  0.782313   \n",
       "4  20200122      DO_SOD     13.0         12.0     706.0   2.0  1.000000   \n",
       "\n",
       "             PT   UP_TIME  EQP_UTIL        TC        CS          AI      C_AI  \n",
       "0   4910.234940  0.956914  0.989448  0.382283  0.354976  159.375000  0.836586  \n",
       "1   4017.560694  0.839097  0.979897  0.264591  0.256043  101.791667  0.629749  \n",
       "2  16531.000000  0.986675  0.375072  0.052413  0.298198   12.250000  1.361144  \n",
       "3   2056.897959  0.982981  0.779669  0.477650  0.373563   51.291667  1.101988  \n",
       "4   1750.037736  0.909998  0.460758  0.278303  0.183449   25.250000  3.147461  "
      ],
      "text/html": "<div>\n<style scoped>\n    .dataframe tbody tr th:only-of-type {\n        vertical-align: middle;\n    }\n\n    .dataframe tbody tr th {\n        vertical-align: top;\n    }\n\n    .dataframe thead th {\n        text-align: right;\n    }\n</style>\n<table border=\"1\" class=\"dataframe\">\n  <thead>\n    <tr style=\"text-align: right;\">\n      <th></th>\n      <th>MFG_DATE</th>\n      <th>TOOLG_ID</th>\n      <th>WIP_QTY</th>\n      <th>NO_HOLD_QTY</th>\n      <th>MOVE_QTY</th>\n      <th>M</th>\n      <th>U</th>\n      <th>PT</th>\n      <th>UP_TIME</th>\n      <th>EQP_UTIL</th>\n      <th>TC</th>\n      <th>CS</th>\n      <th>AI</th>\n      <th>C_AI</th>\n    </tr>\n  </thead>\n  <tbody>\n    <tr>\n      <th>0</th>\n      <td>20200122</td>\n      <td>CI_STI</td>\n      <td>1672.0</td>\n      <td>1500.0</td>\n      <td>3371.0</td>\n      <td>5.0</td>\n      <td>0.475904</td>\n      <td>4910.234940</td>\n      <td>0.956914</td>\n      <td>0.989448</td>\n      <td>0.382283</td>\n      <td>0.354976</td>\n      <td>159.375000</td>\n      <td>0.836586</td>\n    </tr>\n    <tr>\n      <th>1</th>\n      <td>20200122</td>\n      <td>DGM_AM_350</td>\n      <td>377.0</td>\n      <td>324.0</td>\n      <td>2294.0</td>\n      <td>10.0</td>\n      <td>0.707514</td>\n      <td>4017.560694</td>\n      <td>0.839097</td>\n      <td>0.979897</td>\n      <td>0.264591</td>\n      <td>0.256043</td>\n      <td>101.791667</td>\n      <td>0.629749</td>\n    </tr>\n    <tr>\n      <th>2</th>\n      <td>20200122</td>\n      <td>DI_PSG</td>\n      <td>0.0</td>\n      <td>0.0</td>\n      <td>125.0</td>\n      <td>2.0</td>\n      <td>0.500000</td>\n      <td>16531.000000</td>\n      <td>0.986675</td>\n      <td>0.375072</td>\n      <td>0.052413</td>\n      <td>0.298198</td>\n      <td>12.250000</td>\n      <td>1.361144</td>\n    </tr>\n    <tr>\n      <th>3</th>\n      <td>20200122</td>\n      <td>DN_SiN</td>\n      <td>131.0</td>\n      <td>125.0</td>\n      <td>1381.0</td>\n      <td>4.0</td>\n      <td>0.782313</td>\n      <td>2056.897959</td>\n      <td>0.982981</td>\n      <td>0.779669</td>\n      <td>0.477650</td>\n      <td>0.373563</td>\n      <td>51.291667</td>\n      <td>1.101988</td>\n    </tr>\n    <tr>\n      <th>4</th>\n      <td>20200122</td>\n      <td>DO_SOD</td>\n      <td>13.0</td>\n      <td>12.0</td>\n      <td>706.0</td>\n      <td>2.0</td>\n      <td>1.000000</td>\n      <td>1750.037736</td>\n      <td>0.909998</td>\n      <td>0.460758</td>\n      <td>0.278303</td>\n      <td>0.183449</td>\n      <td>25.250000</td>\n      <td>3.147461</td>\n    </tr>\n  </tbody>\n</table>\n</div>"
     },
     "metadata": {},
     "execution_count": 19
    }
   ],
   "source": [
    "\n",
    "df_train.head()"
   ]
  },
  {
   "cell_type": "code",
   "execution_count": null,
   "metadata": {},
   "outputs": [],
   "source": []
  },
  {
   "cell_type": "code",
   "execution_count": 20,
   "metadata": {},
   "outputs": [
    {
     "output_type": "execute_result",
     "data": {
      "text/plain": [
       "           MFG_DATE        WIP_QTY    NO_HOLD_QTY       MOVE_QTY  \\\n",
       "count  1.200180e+05  120018.000000  120018.000000  120018.000000   \n",
       "mean   2.020204e+07     665.831217     584.163217    5255.925968   \n",
       "std    3.308159e+03    1518.844885    1350.837912   15090.027801   \n",
       "min    2.020012e+07       0.000000       0.000000       0.300000   \n",
       "25%    2.020050e+07      26.000000      25.000000     235.000000   \n",
       "50%    2.020081e+07     152.000000     125.000000     834.000000   \n",
       "75%    2.020112e+07     619.000000     554.000000    2711.875000   \n",
       "max    2.021022e+07   31335.000000   29847.000000  129006.000000   \n",
       "\n",
       "                   M              U             PT        UP_TIME  \\\n",
       "count  118540.000000  118442.000000  120018.000000  118540.000000   \n",
       "mean        6.548169       0.664630    5872.975754       0.921193   \n",
       "std         8.241060       0.296037    6802.255497       0.120564   \n",
       "min         1.000000       0.000000       0.000000       0.000000   \n",
       "25%         2.000000       0.430894    2059.140621       0.888972   \n",
       "50%         3.000000       0.671875    3804.761997       0.970585   \n",
       "75%         8.000000       0.981132    6962.364087       1.000000   \n",
       "max        64.000000       3.000000   96513.000000       1.000000   \n",
       "\n",
       "            EQP_UTIL             TC             CS             AI  \\\n",
       "count  118540.000000  115972.000000  115972.000000  113521.000000   \n",
       "mean        0.624177       0.595742       0.561539     225.856884   \n",
       "std         0.296448       0.993900       0.997925     644.051553   \n",
       "min         0.000000       0.000000       0.000000    -362.083333   \n",
       "25%         0.392431       0.260518       0.220116      11.791667   \n",
       "50%         0.693149       0.400569       0.359979      35.791667   \n",
       "75%         0.886909       0.567120       0.526168     112.208333   \n",
       "max         1.000000      33.466401      33.466401    5440.833333   \n",
       "\n",
       "                C_AI  \n",
       "count  112975.000000  \n",
       "mean        2.640577  \n",
       "std        27.075672  \n",
       "min     -1746.889210  \n",
       "25%         0.816412  \n",
       "50%         1.542316  \n",
       "75%         2.811438  \n",
       "max      2581.985283  "
      ],
      "text/html": "<div>\n<style scoped>\n    .dataframe tbody tr th:only-of-type {\n        vertical-align: middle;\n    }\n\n    .dataframe tbody tr th {\n        vertical-align: top;\n    }\n\n    .dataframe thead th {\n        text-align: right;\n    }\n</style>\n<table border=\"1\" class=\"dataframe\">\n  <thead>\n    <tr style=\"text-align: right;\">\n      <th></th>\n      <th>MFG_DATE</th>\n      <th>WIP_QTY</th>\n      <th>NO_HOLD_QTY</th>\n      <th>MOVE_QTY</th>\n      <th>M</th>\n      <th>U</th>\n      <th>PT</th>\n      <th>UP_TIME</th>\n      <th>EQP_UTIL</th>\n      <th>TC</th>\n      <th>CS</th>\n      <th>AI</th>\n      <th>C_AI</th>\n    </tr>\n  </thead>\n  <tbody>\n    <tr>\n      <th>count</th>\n      <td>1.200180e+05</td>\n      <td>120018.000000</td>\n      <td>120018.000000</td>\n      <td>120018.000000</td>\n      <td>118540.000000</td>\n      <td>118442.000000</td>\n      <td>120018.000000</td>\n      <td>118540.000000</td>\n      <td>118540.000000</td>\n      <td>115972.000000</td>\n      <td>115972.000000</td>\n      <td>113521.000000</td>\n      <td>112975.000000</td>\n    </tr>\n    <tr>\n      <th>mean</th>\n      <td>2.020204e+07</td>\n      <td>665.831217</td>\n      <td>584.163217</td>\n      <td>5255.925968</td>\n      <td>6.548169</td>\n      <td>0.664630</td>\n      <td>5872.975754</td>\n      <td>0.921193</td>\n      <td>0.624177</td>\n      <td>0.595742</td>\n      <td>0.561539</td>\n      <td>225.856884</td>\n      <td>2.640577</td>\n    </tr>\n    <tr>\n      <th>std</th>\n      <td>3.308159e+03</td>\n      <td>1518.844885</td>\n      <td>1350.837912</td>\n      <td>15090.027801</td>\n      <td>8.241060</td>\n      <td>0.296037</td>\n      <td>6802.255497</td>\n      <td>0.120564</td>\n      <td>0.296448</td>\n      <td>0.993900</td>\n      <td>0.997925</td>\n      <td>644.051553</td>\n      <td>27.075672</td>\n    </tr>\n    <tr>\n      <th>min</th>\n      <td>2.020012e+07</td>\n      <td>0.000000</td>\n      <td>0.000000</td>\n      <td>0.300000</td>\n      <td>1.000000</td>\n      <td>0.000000</td>\n      <td>0.000000</td>\n      <td>0.000000</td>\n      <td>0.000000</td>\n      <td>0.000000</td>\n      <td>0.000000</td>\n      <td>-362.083333</td>\n      <td>-1746.889210</td>\n    </tr>\n    <tr>\n      <th>25%</th>\n      <td>2.020050e+07</td>\n      <td>26.000000</td>\n      <td>25.000000</td>\n      <td>235.000000</td>\n      <td>2.000000</td>\n      <td>0.430894</td>\n      <td>2059.140621</td>\n      <td>0.888972</td>\n      <td>0.392431</td>\n      <td>0.260518</td>\n      <td>0.220116</td>\n      <td>11.791667</td>\n      <td>0.816412</td>\n    </tr>\n    <tr>\n      <th>50%</th>\n      <td>2.020081e+07</td>\n      <td>152.000000</td>\n      <td>125.000000</td>\n      <td>834.000000</td>\n      <td>3.000000</td>\n      <td>0.671875</td>\n      <td>3804.761997</td>\n      <td>0.970585</td>\n      <td>0.693149</td>\n      <td>0.400569</td>\n      <td>0.359979</td>\n      <td>35.791667</td>\n      <td>1.542316</td>\n    </tr>\n    <tr>\n      <th>75%</th>\n      <td>2.020112e+07</td>\n      <td>619.000000</td>\n      <td>554.000000</td>\n      <td>2711.875000</td>\n      <td>8.000000</td>\n      <td>0.981132</td>\n      <td>6962.364087</td>\n      <td>1.000000</td>\n      <td>0.886909</td>\n      <td>0.567120</td>\n      <td>0.526168</td>\n      <td>112.208333</td>\n      <td>2.811438</td>\n    </tr>\n    <tr>\n      <th>max</th>\n      <td>2.021022e+07</td>\n      <td>31335.000000</td>\n      <td>29847.000000</td>\n      <td>129006.000000</td>\n      <td>64.000000</td>\n      <td>3.000000</td>\n      <td>96513.000000</td>\n      <td>1.000000</td>\n      <td>1.000000</td>\n      <td>33.466401</td>\n      <td>33.466401</td>\n      <td>5440.833333</td>\n      <td>2581.985283</td>\n    </tr>\n  </tbody>\n</table>\n</div>"
     },
     "metadata": {},
     "execution_count": 20
    }
   ],
   "source": [
    "df_train.describe()"
   ]
  },
  {
   "cell_type": "code",
   "execution_count": 21,
   "metadata": {},
   "outputs": [
    {
     "output_type": "stream",
     "name": "stdout",
     "text": [
      "           MFG_DATE        WIP_QTY    NO_HOLD_QTY       MOVE_QTY  \\\ncount  1.085980e+05  108598.000000  108598.000000  108598.000000   \nmean   2.020204e+07     733.056944     643.897668    5635.953284   \nstd    3.312451e+03    1580.246726    1405.950742   15757.893965   \nmin    2.020012e+07       0.000000       0.000000       0.600000   \n25%    2.020050e+07      50.000000      40.000000     299.000000   \n50%    2.020081e+07     200.000000     170.000000     909.000000   \n75%    2.020112e+07     721.000000     642.000000    2843.000000   \nmax    2.021022e+07   31335.000000   29847.000000  129006.000000   \n\n                   M              U             PT        UP_TIME  \\\ncount  108598.000000  108598.000000  108598.000000  108598.000000   \nmean        6.952246       0.648095    5961.265449       0.919168   \nstd         8.455798       0.294285    6649.364058       0.118686   \nmin         1.000000       0.000000       0.000000       0.000000   \n25%         2.000000       0.410435    2221.049383       0.884840   \n50%         4.000000       0.649704    3906.592711       0.966085   \n75%         8.000000       0.948630    7059.563451       1.000000   \nmax        64.000000       3.000000   74569.000000       1.000000   \n\n            EQP_UTIL             TC             CS             AI  \\\ncount  108598.000000  108598.000000  108598.000000  108598.000000   \nmean        0.648129       0.554672       0.519300     235.508643   \nstd         0.282048       0.884696       0.888051     656.662415   \nmin         0.000000       0.000000       0.000000    -362.083333   \n25%         0.434035       0.265418       0.225004      13.458333   \n50%         0.719205       0.397678       0.356834      38.708333   \n75%         0.894240       0.548810       0.507918     119.583333   \nmax         1.000000      33.466401      33.466401    5440.833333   \n\n                C_AI  \ncount  108598.000000  \nmean        2.563740  \nstd        25.507786  \nmin     -1246.985792  \n25%         0.819984  \n50%         1.523384  \n75%         2.721883  \nmax      2581.985283  \n<class 'pandas.core.frame.DataFrame'>\nInt64Index: 108598 entries, 0 to 120017\nData columns (total 14 columns):\n #   Column       Non-Null Count   Dtype  \n---  ------       --------------   -----  \n 0   MFG_DATE     108598 non-null  int64  \n 1   TOOLG_ID     108598 non-null  object \n 2   WIP_QTY      108598 non-null  float64\n 3   NO_HOLD_QTY  108598 non-null  float64\n 4   MOVE_QTY     108598 non-null  float64\n 5   M            108598 non-null  float64\n 6   U            108598 non-null  float64\n 7   PT           108598 non-null  float64\n 8   UP_TIME      108598 non-null  float64\n 9   EQP_UTIL     108598 non-null  float64\n 10  TC           108598 non-null  float64\n 11  CS           108598 non-null  float64\n 12  AI           108598 non-null  float64\n 13  C_AI         108598 non-null  float64\ndtypes: float64(12), int64(1), object(1)\nmemory usage: 12.4+ MB\nNone\n"
     ]
    }
   ],
   "source": [
    "# 5          M   1478  0.012315\n",
    "# 6          U   1576  0.013131\n",
    "# 8    UP_TIME   1478  0.012315\n",
    "# 9   EQP_UTIL   1478  0.012315\n",
    "# 10        TC   4046  0.033712\n",
    "# 11        CS   4046  0.033712\n",
    "# 12        AI   6497  0.054134\n",
    "# 13      C_AI   7043  0.058683\n",
    "#df_train['TOOLG_ID_NEXT'] = df_train['TOOLG_ID_NEXT'].fillna('NA')\n",
    "# 1. 查看缺失情况\n",
    "# 0.刪除null值\n",
    "df_train['AI'] = df_train['AI'].fillna(df_train['AI'].mean())\n",
    "df_train = df_train.dropna()\n",
    "# # 1. 均值填充\n",
    "# df_train['M'] = df_train['M'].fillna(df_train['M'].mean())\n",
    "# df_train['U'] = df_train['U'].fillna(df_train['U'].mean())\n",
    "# df_train['TC'] = df_train['TC'].fillna(df_train['TC'].mean())\n",
    "# # df_train['CA'] = df_train['CA'].fillna(df_train['CA'].mean())\n",
    "# df_train['CS'] = df_train['CS'].fillna(df_train['CS'].mean())\n",
    "# # df_train['AI'] = df_train['AI'].fillna(df_train['AI'].mean())\n",
    "# df_train['C_AI'] = df_train['C_AI'].fillna(df_train['C_AI'].mean())\n",
    "\n",
    "# # 2.中位数填充\n",
    "\n",
    "# 5          M   1478  0.012315\n",
    "# 6          U   1576  0.013131\n",
    "# 8    UP_TIME   1478  0.012315\n",
    "# 9   EQP_UTIL   1478  0.012315\n",
    "# 10        TC   4046  0.033712\n",
    "# 11        CS   4046  0.033712\n",
    "# 12        AI   6497  0.054134\n",
    "# 13      C_AI   7043  0.058683\n",
    "# cols=['M','U','UP_TIME','EQP_UTIL','TC','CS','C_AI']\n",
    "# for col in cols:\n",
    "#     df_train[col] = df_train[col].fillna(df_train[col].median())\n",
    "# df_train['UP_TIME'] = df_train['UP_TIME'].fillna(df_train['UP_TIME'].median())\n",
    "# df_train['EQP_UTIL'] = df_train['EQP_UTIL'].fillna(df_train['EQP_UTIL'].median())\n",
    "\n",
    "# # 3.众数填充\n",
    "# from sklearn.impute import SimpleImputer\n",
    "\n",
    "# # imputer = Imputer(missing_values =\"NaN\",strategy = \"most_frequent\",axis = 0)\n",
    "# # # imp_mean = SimpleImputer(missing_values = np.nan, strategy=\"most_frequent\",copy=True)\n",
    "# # # df_train_mean = imp_mean.fit_transform(df_train[:'CS'])\n",
    "# # # df_train_mean\n",
    "# # df_train['CS']=imputer.transform(df_train['CS'].reshape(-1,1))\n",
    "# # imputer = SimpleImputer(missing_values =\"nan\",strategy = \"mean\")\n",
    "# # df_train['CS']=imputer.fit_transform(df_train['CS'].values.reshape(-1,1))[:0]\n",
    "# imp = SimpleImputer(strategy=\"most_frequent\")\n",
    "# imp.fit_transform(df_train)\n",
    "\n",
    "print(df_train.describe())\n",
    "print(df_train.info())\n",
    "# strategy參數：可為\"mean\"(平均數[預設])、\"median\"(中位數)、\"most_frequent\"(眾數[可用於填充文字])、\"constant\"(常數[可用於填充文字])\n",
    "# 若使用\"constant\"(常數)進行填補，則需再指定fill_value參數為何值\n",
    "# fill_value = 0：使用0進行填補\n",
    "# copy: 預設為True:創建特徵矩陣的副本 ; 設為False時，會將缺失值直接填補到原本的特徵矩陣中去\n",
    "# X_missing"
   ]
  },
  {
   "cell_type": "code",
   "execution_count": 22,
   "metadata": {},
   "outputs": [
    {
     "output_type": "stream",
     "name": "stdout",
     "text": [
      "MFG_DATE       0\nTOOLG_ID       0\nWIP_QTY        0\nNO_HOLD_QTY    0\nMOVE_QTY       0\nM              0\nU              0\nPT             0\nUP_TIME        0\nEQP_UTIL       0\nTC             0\nCS             0\nAI             0\nC_AI           0\ndtype: int64\n"
     ]
    }
   ],
   "source": [
    "\n",
    "# 1. 查看缺失情况\n",
    "print(df_train.isnull().sum())\n",
    "# print(df_test.isnull().sum())\n",
    "#df_train.dropna() # 刪除null值\n",
    "#df2_test = df2_test.dropna()# 刪除null值\n"
   ]
  },
  {
   "cell_type": "code",
   "execution_count": null,
   "metadata": {},
   "outputs": [],
   "source": []
  },
  {
   "cell_type": "code",
   "execution_count": 23,
   "metadata": {},
   "outputs": [],
   "source": [
    "#df_train[['WIP_QTY2']] = df_train['MOVE_QTY']+df_train['WIP_QTY']\n",
    "# df_train[['ToolPrefix', 'ToolSub']] = df_train['TOOLG_ID'].str.split('_', 1, expand=True)\n",
    "# df_train[['ToolPrefix_NEXT', 'ToolSub_NEXT']] = df_train['TOOLG_ID_NEXT'].str.split('_', 1, expand=True)"
   ]
  },
  {
   "cell_type": "code",
   "execution_count": 24,
   "metadata": {},
   "outputs": [],
   "source": [
    "df_train = df_train.drop(columns=['MFG_DATE','AI']) #'TOOLG_ID',,'TOOLG_ID_NEXT'"
   ]
  },
  {
   "cell_type": "code",
   "execution_count": 25,
   "metadata": {},
   "outputs": [
    {
     "output_type": "stream",
     "name": "stdout",
     "text": [
      "<class 'pandas.core.frame.DataFrame'>\nInt64Index: 108598 entries, 0 to 120017\nData columns (total 12 columns):\n #   Column       Non-Null Count   Dtype  \n---  ------       --------------   -----  \n 0   TOOLG_ID     108598 non-null  object \n 1   WIP_QTY      108598 non-null  float64\n 2   NO_HOLD_QTY  108598 non-null  float64\n 3   MOVE_QTY     108598 non-null  float64\n 4   M            108598 non-null  float64\n 5   U            108598 non-null  float64\n 6   PT           108598 non-null  float64\n 7   UP_TIME      108598 non-null  float64\n 8   EQP_UTIL     108598 non-null  float64\n 9   TC           108598 non-null  float64\n 10  CS           108598 non-null  float64\n 11  C_AI         108598 non-null  float64\ndtypes: float64(11), object(1)\nmemory usage: 10.8+ MB\n"
     ]
    }
   ],
   "source": [
    "df_train.info()"
   ]
  },
  {
   "cell_type": "code",
   "execution_count": 26,
   "metadata": {
    "tags": []
   },
   "outputs": [],
   "source": [
    "#trainModel(df_train,save_model)\n"
   ]
  },
  {
   "cell_type": "code",
   "execution_count": 27,
   "metadata": {},
   "outputs": [],
   "source": [
    "#TestModel(df_train,save_model)"
   ]
  },
  {
   "cell_type": "code",
   "execution_count": 28,
   "metadata": {},
   "outputs": [],
   "source": [
    "# newdf = pd.DataFrame(np.repeat(df.values,3,axis=0))\n",
    "# newdf.columns = df.columns\n",
    "# print(newdf)\n"
   ]
  },
  {
   "cell_type": "code",
   "execution_count": null,
   "metadata": {},
   "outputs": [],
   "source": []
  },
  {
   "cell_type": "code",
   "execution_count": null,
   "metadata": {},
   "outputs": [],
   "source": []
  },
  {
   "cell_type": "code",
   "execution_count": 29,
   "metadata": {},
   "outputs": [],
   "source": [
    "# 'CI_STI', 'DGM_AM_350', 'DI_PSG', 'DN_SiN', 'DO_SOD', 'DS_Logic',\n",
    "#        'DT_BP_G/F', 'DT_O3', 'EA_AsherM', 'EC_1C', 'EC_DK_2F', 'EC_DK1',\n",
    "#        'EC_Flex45_1C', 'EG_LAM_G2', 'EG_PolyEB_CIS', 'EG_PolyEB2',\n",
    "#        'EH_OxEB', 'EK_1G', 'EK_aC', 'CI_ILD', 'CI_IMD', 'DA_BM', 'DB_Pre',\n",
    "#        'DB_TiN', 'DGA_BM_350', 'DI_HDP', 'DK_300', 'DK_550', 'DK_SiN',\n",
    "#        'DM_TiN(ASFD)', 'DR_LampA', 'DT_STI_TD', 'DW_WSi', 'EA_RWK',\n",
    "#        'EB_Asher', 'EC_DK2', 'EC_Flex_38', 'EC_Flex45_F6X', 'EK_aC(JX)',\n",
    "#        'EK_C/F', 'EK_RG', 'EU_Jin_Cu', 'EU_V_Cu', 'EW_3S', 'FAFS_Annl',\n",
    "#        'FD_BS', 'FD_DO', 'FL_NiPt', 'FN_HTO_DK', 'IBH_HiCur', 'IBS_As(H)',\n",
    "#        'ID_HiEnrg', 'MA_Al_175', 'MP_Cu', 'MR_Cu_TD', 'MS_MOCVD',\n",
    "#        'MT_Ti/TiN', 'EC_LDD_Logic', 'EC_Shin_DK40', 'EC_TH_63',\n",
    "#        'EC_Via_20', 'EC_Via_30', 'EC_Via_40', 'EG_Gate_232', 'EG_STI_G5',\n",
    "#        'EH_CP', 'EH_LDD_2N', 'EK_1G_6X', 'EM_AL_Cln', 'EM_AL_FDY',\n",
    "#        'EM_MX_W/O', 'EM_SP55_TM', 'EW_1G', 'EW_BL', 'EW_CP_72',\n",
    "#        'EW_RG_63', 'PE_ChaEsr', 'PG_UVcure', 'PH_Immersion', 'QC_ET',\n",
    "#        'QE_ThkMea', 'QH_XRF', 'QP_Defect', 'QS_SEM', 'RI_AM', 'SC_M.Jet',\n",
    "#        'WAT_TSA', 'WDD_160_G1', 'WDD_160_G2', 'WDS_160_G2', 'WE_HV40',\n",
    "#        'WK_BsEtch', 'WK_Cu', 'WM_PosCln', 'WN_ContactCln', 'FD_Tel',\n",
    "#        'FE_Anneal', 'FG_GOX', 'FH_HT(L)', 'FJ_TD', 'FK_ZAC', 'FL_LT',\n",
    "#        'FM_ALD', 'FM_ALD_SPT', 'FM_SiN(F)', 'FO_TiO', 'FT_119',\n",
    "#        'FX_PadOxi_B', 'IBS_HiCur', 'IBV_HiCur', 'MT_TiN', 'PK_DUVKrF',\n",
    "#        'PU_C/F', 'PU_I-Line', 'CU_Cu', 'DA_AM', 'DB_Ti/SFD', 'DB_Ti/TiN',\n",
    "#        'DC_DCT', 'DC_WCVD', 'DD_BD_Cu', 'DGA_AM_230_LTO', 'DGA_AM_350',\n",
    "#        'DGA_AM_400', 'DM_SFD_480', 'DP_SiN', 'DS_FDY', 'DS_HDP', 'DT_BP',\n",
    "#        'DT_STI', 'EC_3S', 'EC_DK_1G', 'EC_Flex', 'CI_ILD_Eba',\n",
    "#        'CI_STI_Eba', 'CM_W_Eba', 'CM_WCMP', 'CN_N2_Cu', 'DB_Ti',\n",
    "#        'DD_BLOK_Cu', 'DM_SFD_650', 'EA_C/F', 'EC_LDD_Dram', 'EC_LDD_NXP',\n",
    "#        'EC_SAC', 'EC_TH_CIS', 'EG_LAM_Poly', 'EH_PV', 'EH_SR', 'EK_1F_68',\n",
    "#        'EK_1G_SDRM', 'EK_RG_SDRM', 'PW_PIX', 'QA_ADI', 'QA_AEI', 'QA_Cu',\n",
    "#        'QC_CMP', 'QGK_2365', 'QX_Overly', 'QY_D.PC', 'RD_RTO', 'SC_C/F',\n",
    "#        'WC_Crown', 'WD_130', 'WE_Crown', 'WO_SiO2', 'WQ_CeO2', 'WW_Poly',\n",
    "#        'XE_C/F', 'EL_Light_2B', 'EM_AL_Depo', 'EM_MX', 'EM_W/O',\n",
    "#        'EU_TU_Cu', 'EV_BV_AM', 'EV_BV_BM', 'EW_1GBL', 'EW_2S_G5', 'EW_CP',\n",
    "#        'EW_SP(G5)', 'FD_B-Poly', 'FD_TD', 'FE_DK', 'FJ_MLD_OX',\n",
    "#        'FK_LAZO(I)', 'FN_HTO', 'FN_SiN(DRAM)', 'FP_NDPoly', 'FQ_PIQ',\n",
    "#        'MA_Alps', 'MB_Co(H)', 'MB_Co_350', 'MB_PC30', 'MR_Cu', 'PB_BARC',\n",
    "#        'PT_Marker', 'QC_C/F', 'QC_TF', 'QPK_PUMA', 'QW_Cu', 'QW_SEM-ET',\n",
    "#        'RAM_RTA', 'RDA_RTO', 'RE_EPI_ND', 'RI_BM', 'RN_RTN_5P/2N',\n",
    "#        'WA_PreCln', 'WAT Out', 'WAT_TEST', 'WF_DK28', 'WF_LiEtch',\n",
    "#        'WH_CIS', 'WH_EKC', 'WJ_LiEtch', 'WM_PreCln', 'WN_NiPt',\n",
    "#        'WU_W-RMV', 'WW_HF', 'EC_Flex_45', 'EC_TH_45', 'EC_Via(S55)',\n",
    "#        'EG_C/F', 'EG_LAM_G1', 'EG_LDD', 'EG_PolyEB', 'EG_SiN EB',\n",
    "#        'EG_STI_232', 'EG_STI_DPS', 'EH_LDD_SP', 'EH_PI', 'EK_1G05_68',\n",
    "#        'EL_Light', 'EM_AL_AG', 'EN_1F', 'EU_U_Cu', 'EW_4F', 'EW_RG_45',\n",
    "#        'WN_Co-RMV', 'WO_NXP', 'WT_Cu', 'WW_NH4OH', 'WY_DK', 'XE_Cu',\n",
    "#        'XE_Sorter', 'XW_Sorter', 'EW_SP(G2)', 'FC_PadOxi', 'FD_Ge-Poly',\n",
    "#        'FH_HT', 'FH_HT_LCD', 'FI_WHoxid', 'FK_LAHO', 'FK_LAZO(F)',\n",
    "#        'FL_Cu', 'FM_SiN(A)', 'FN_H(F)', 'FN_SiN(A)', 'FN_SiN(F)',\n",
    "#        'FT_148', 'FT_TEOS(F)', 'IA_MidCur', 'MA_Al', 'MB_Co_250',\n",
    "#        'MS_SIP', 'MW_W', 'OTHERS', 'PH_DUVArF', 'PR_Relacs', 'PW_C/F',\n",
    "#        'QA_C/F', 'QC_Cu', 'QF_Wet', 'QG_Defect', 'QU_Mfilm', 'QW_C/F',\n",
    "#        'QW_SEM-PH', 'QZ_Defect', 'RAA_RTA', 'RAA_Spike', 'RAM_Anneal',\n",
    "#        'RN_RTN_1G', 'RS_DK', 'RS_SPA', 'WB_LiEtch', 'WC_SiO2',\n",
    "#        'WE_PreCln', 'WH_DSP', 'WL_Resist', 'EC_Flex45_F7X', 'EM_W/I',\n",
    "#        'RS_TD', 'WDD_SP55', 'MS_NiPt', 'QY_Defect', 'RE_EPI',\n",
    "#        'FT_TEOS(TD)', 'DR_NiPt', 'DD_BD_TD', 'WK_NiPt', 'EW_3SCP',\n",
    "#        'EK_1F_99', 'EC_SCCM_SiNEB', 'EW_2S_DPS', 'DC_WCVD_Cu',\n",
    "#        'EC_Flex(S90)', 'EC_Con', 'RAA_DK', 'EC_SADP_DK28',\n",
    "#        'FI_Whoxid(TD)', 'EK_BL20', 'DK_Li filter', 'FM_ALD(TD)',\n",
    "#        'EC_HV40', 'CP TEST', 'WT Out', 'RS_S55', 'DI_TD', 'DL_TD',\n",
    "#        'WM_SW', 'QD_AFM', 'EK_a-C_S', 'WR_PD_B(NPW)', 'EC_HMO',\n",
    "#        'QV_CVTest', 'QP_PUMA', 'DK_Li Pi', 'EW_RG', 'EA_TD', 'EC_HARC',\n",
    "#        'EK_1S_TD', 'D63FE01A', 'WR_PD_A(NPW)', 'FN_NPW', 'CI_C/F',\n",
    "#        'FD_TD(T92)', 'WH_C/F', 'WH_TD', 'FD_TD(K59)', 'WG_Si', 'MS_Ta2O5',\n",
    "#        'QG_2365', 'DC_400', 'EG_LAM_G3', 'PR_1B', 'FH_H88', 'EW_DK28',\n",
    "#        'DI_HDP_HV80', 'DI_HDP_FSG', 'WF_Certas'"
   ]
  },
  {
   "cell_type": "code",
   "execution_count": 30,
   "metadata": {},
   "outputs": [],
   "source": [
    "# WT Out\n",
    "#df_train_orign.loc[df_train_orign['TOOLG_ID']=='WT Out'].iloc[0].count()\n",
    "# df_train_orign.loc[df_train_orign['TOOLG_ID']=='PR_Relacs'].shape[0]\n",
    "   "
   ]
  },
  {
   "cell_type": "code",
   "execution_count": 31,
   "metadata": {},
   "outputs": [
    {
     "output_type": "execute_result",
     "data": {
      "text/plain": [
       "        MFG_DATE    TOOLG_ID  WIP_QTY  NO_HOLD_QTY  MOVE_QTY     M         U  \\\n",
       "0       20200122      CI_STI   1672.0       1500.0    3371.0   5.0  0.475904   \n",
       "1       20200122  DGM_AM_350    377.0        324.0    2294.0  10.0  0.707514   \n",
       "2       20200122      DI_PSG      0.0          0.0     125.0   2.0  0.500000   \n",
       "3       20200122      DN_SiN    131.0        125.0    1381.0   4.0  0.782313   \n",
       "4       20200122      DO_SOD     13.0         12.0     706.0   2.0  1.000000   \n",
       "...          ...         ...      ...          ...       ...   ...       ...   \n",
       "120013  20210225    MS_MOCVD      8.0          6.0     363.0   7.0  0.439232   \n",
       "120014  20210225      MS_SIP    590.0        584.0    5554.0  43.0  0.528306   \n",
       "120015  20210225        MW_W    113.0         62.0     698.0   6.0  0.945887   \n",
       "120016  20210225      OTHERS   2256.0       1290.0    1066.0   3.0  0.006944   \n",
       "120017  20210225   PH_DUVArF   4286.0       3709.0    9114.0  11.0  0.185234   \n",
       "\n",
       "                  PT   UP_TIME  EQP_UTIL        TC        CS          AI  \\\n",
       "0        4910.234940  0.956914  0.989448  0.382283  0.354976  159.375000   \n",
       "1        4017.560694  0.839097  0.979897  0.264591  0.256043  101.791667   \n",
       "2       16531.000000  0.986675  0.375072  0.052413  0.298198   12.250000   \n",
       "3        2056.897959  0.982981  0.779669  0.477650  0.373563   51.291667   \n",
       "4        1750.037736  0.909998  0.460758  0.278303  0.183449   25.250000   \n",
       "...              ...       ...       ...       ...       ...         ...   \n",
       "120013   5021.179104  0.632350  0.625828  0.524524  0.522686   11.208333   \n",
       "120014   4330.552448  0.829726  0.917537  0.405158  0.369477  210.916667   \n",
       "120015   1813.207792  0.772282  0.315648  0.436300  0.157383   29.583333   \n",
       "120016     30.812500  0.666667  0.007022  4.954711  4.954711   51.875000   \n",
       "120017   3470.162839  0.898888  0.834274  0.518624  0.387262  403.916667   \n",
       "\n",
       "            C_AI  \n",
       "0       0.836586  \n",
       "1       0.629749  \n",
       "2       1.361144  \n",
       "3       1.101988  \n",
       "4       3.147461  \n",
       "...          ...  \n",
       "120013  3.648754  \n",
       "120014  0.693594  \n",
       "120015  2.284976  \n",
       "120016  2.632390  \n",
       "120017  0.840406  \n",
       "\n",
       "[120018 rows x 14 columns]"
      ],
      "text/html": "<div>\n<style scoped>\n    .dataframe tbody tr th:only-of-type {\n        vertical-align: middle;\n    }\n\n    .dataframe tbody tr th {\n        vertical-align: top;\n    }\n\n    .dataframe thead th {\n        text-align: right;\n    }\n</style>\n<table border=\"1\" class=\"dataframe\">\n  <thead>\n    <tr style=\"text-align: right;\">\n      <th></th>\n      <th>MFG_DATE</th>\n      <th>TOOLG_ID</th>\n      <th>WIP_QTY</th>\n      <th>NO_HOLD_QTY</th>\n      <th>MOVE_QTY</th>\n      <th>M</th>\n      <th>U</th>\n      <th>PT</th>\n      <th>UP_TIME</th>\n      <th>EQP_UTIL</th>\n      <th>TC</th>\n      <th>CS</th>\n      <th>AI</th>\n      <th>C_AI</th>\n    </tr>\n  </thead>\n  <tbody>\n    <tr>\n      <th>0</th>\n      <td>20200122</td>\n      <td>CI_STI</td>\n      <td>1672.0</td>\n      <td>1500.0</td>\n      <td>3371.0</td>\n      <td>5.0</td>\n      <td>0.475904</td>\n      <td>4910.234940</td>\n      <td>0.956914</td>\n      <td>0.989448</td>\n      <td>0.382283</td>\n      <td>0.354976</td>\n      <td>159.375000</td>\n      <td>0.836586</td>\n    </tr>\n    <tr>\n      <th>1</th>\n      <td>20200122</td>\n      <td>DGM_AM_350</td>\n      <td>377.0</td>\n      <td>324.0</td>\n      <td>2294.0</td>\n      <td>10.0</td>\n      <td>0.707514</td>\n      <td>4017.560694</td>\n      <td>0.839097</td>\n      <td>0.979897</td>\n      <td>0.264591</td>\n      <td>0.256043</td>\n      <td>101.791667</td>\n      <td>0.629749</td>\n    </tr>\n    <tr>\n      <th>2</th>\n      <td>20200122</td>\n      <td>DI_PSG</td>\n      <td>0.0</td>\n      <td>0.0</td>\n      <td>125.0</td>\n      <td>2.0</td>\n      <td>0.500000</td>\n      <td>16531.000000</td>\n      <td>0.986675</td>\n      <td>0.375072</td>\n      <td>0.052413</td>\n      <td>0.298198</td>\n      <td>12.250000</td>\n      <td>1.361144</td>\n    </tr>\n    <tr>\n      <th>3</th>\n      <td>20200122</td>\n      <td>DN_SiN</td>\n      <td>131.0</td>\n      <td>125.0</td>\n      <td>1381.0</td>\n      <td>4.0</td>\n      <td>0.782313</td>\n      <td>2056.897959</td>\n      <td>0.982981</td>\n      <td>0.779669</td>\n      <td>0.477650</td>\n      <td>0.373563</td>\n      <td>51.291667</td>\n      <td>1.101988</td>\n    </tr>\n    <tr>\n      <th>4</th>\n      <td>20200122</td>\n      <td>DO_SOD</td>\n      <td>13.0</td>\n      <td>12.0</td>\n      <td>706.0</td>\n      <td>2.0</td>\n      <td>1.000000</td>\n      <td>1750.037736</td>\n      <td>0.909998</td>\n      <td>0.460758</td>\n      <td>0.278303</td>\n      <td>0.183449</td>\n      <td>25.250000</td>\n      <td>3.147461</td>\n    </tr>\n    <tr>\n      <th>...</th>\n      <td>...</td>\n      <td>...</td>\n      <td>...</td>\n      <td>...</td>\n      <td>...</td>\n      <td>...</td>\n      <td>...</td>\n      <td>...</td>\n      <td>...</td>\n      <td>...</td>\n      <td>...</td>\n      <td>...</td>\n      <td>...</td>\n      <td>...</td>\n    </tr>\n    <tr>\n      <th>120013</th>\n      <td>20210225</td>\n      <td>MS_MOCVD</td>\n      <td>8.0</td>\n      <td>6.0</td>\n      <td>363.0</td>\n      <td>7.0</td>\n      <td>0.439232</td>\n      <td>5021.179104</td>\n      <td>0.632350</td>\n      <td>0.625828</td>\n      <td>0.524524</td>\n      <td>0.522686</td>\n      <td>11.208333</td>\n      <td>3.648754</td>\n    </tr>\n    <tr>\n      <th>120014</th>\n      <td>20210225</td>\n      <td>MS_SIP</td>\n      <td>590.0</td>\n      <td>584.0</td>\n      <td>5554.0</td>\n      <td>43.0</td>\n      <td>0.528306</td>\n      <td>4330.552448</td>\n      <td>0.829726</td>\n      <td>0.917537</td>\n      <td>0.405158</td>\n      <td>0.369477</td>\n      <td>210.916667</td>\n      <td>0.693594</td>\n    </tr>\n    <tr>\n      <th>120015</th>\n      <td>20210225</td>\n      <td>MW_W</td>\n      <td>113.0</td>\n      <td>62.0</td>\n      <td>698.0</td>\n      <td>6.0</td>\n      <td>0.945887</td>\n      <td>1813.207792</td>\n      <td>0.772282</td>\n      <td>0.315648</td>\n      <td>0.436300</td>\n      <td>0.157383</td>\n      <td>29.583333</td>\n      <td>2.284976</td>\n    </tr>\n    <tr>\n      <th>120016</th>\n      <td>20210225</td>\n      <td>OTHERS</td>\n      <td>2256.0</td>\n      <td>1290.0</td>\n      <td>1066.0</td>\n      <td>3.0</td>\n      <td>0.006944</td>\n      <td>30.812500</td>\n      <td>0.666667</td>\n      <td>0.007022</td>\n      <td>4.954711</td>\n      <td>4.954711</td>\n      <td>51.875000</td>\n      <td>2.632390</td>\n    </tr>\n    <tr>\n      <th>120017</th>\n      <td>20210225</td>\n      <td>PH_DUVArF</td>\n      <td>4286.0</td>\n      <td>3709.0</td>\n      <td>9114.0</td>\n      <td>11.0</td>\n      <td>0.185234</td>\n      <td>3470.162839</td>\n      <td>0.898888</td>\n      <td>0.834274</td>\n      <td>0.518624</td>\n      <td>0.387262</td>\n      <td>403.916667</td>\n      <td>0.840406</td>\n    </tr>\n  </tbody>\n</table>\n<p>120018 rows × 14 columns</p>\n</div>"
     },
     "metadata": {},
     "execution_count": 31
    }
   ],
   "source": [
    "df_train_orign"
   ]
  },
  {
   "cell_type": "code",
   "execution_count": 32,
   "metadata": {},
   "outputs": [],
   "source": [
    "# df_train_tool = df_train.loc[df_train['TOOLG_ID']=='EC_Flex_38']\n",
    "# df_train_tool= df_train_tool.sort_values('WIP_QTY')\n",
    "# df_train_tool.head()\n",
    "# aa= df_train_tool['MOVE_QTY'].rolling(5).apply(lambda x: pd.Series(x).autocorr())\n",
    "# aa"
   ]
  },
  {
   "cell_type": "code",
   "execution_count": 33,
   "metadata": {
    "tags": []
   },
   "outputs": [
    {
     "output_type": "stream",
     "name": "stdout",
     "text": [
      "DA_BM\n",
      "DI_HDP\n",
      "DK_300\n",
      "EA_RWK\n",
      "MP_Cu\n",
      "EC_Via_20\n",
      "EH_LDD_2N\n",
      "WDD_160_G1\n",
      "WDD_160_G2\n",
      "FH_HT(L)\n",
      "PK_DUVKrF\n",
      "PU_I-Line\n",
      "QA_ADI\n",
      "QGK_2365\n",
      "QX_Overly\n",
      "RD_RTO\n",
      "XE_C/F\n",
      "EL_Light_2B\n",
      "EM_MX\n",
      "MB_PC30\n",
      "PB_BARC\n",
      "QPK_PUMA\n",
      "RAM_RTA\n",
      "WH_CIS\n",
      "EG_SiN EB\n",
      "EU_U_Cu\n",
      "EW_4F\n",
      "WT_Cu\n",
      "FN_SiN(F)\n",
      "MB_Co_250\n",
      "QG_Defect\n",
      "RAA_RTA\n",
      "RAM_Anneal\n",
      "WB_LiEtch\n",
      "EW_2S_DPS\n",
      "WH_C/F\n",
      "DC_400\n",
      "PR_1B\n"
     ]
    }
   ],
   "source": [
    "toolgCorr=[]\n",
    "#df_train_orign.groupby('TOOLG_ID').size()[toolg]\n",
    "for toolg in df_train_orign.TOOLG_ID.unique() :\n",
    "#for toolg in ['PK_DUVKrF'] :\n",
    "    df_train_orign_tool = df_train_orign.loc[df_train_orign['TOOLG_ID']==toolg]\n",
    "    df_train_tool = df_train.loc[df_train['TOOLG_ID']==toolg]\n",
    "    # print(toolg,df_train_orign_tool.shape[0],df_train_orign.loc[df_train_orign['TOOLG_ID']==toolg].iloc[0].shape[0])\n",
    "\n",
    "    # print(df_train_orign.loc[df_train_orign['TOOLG_ID']==toolg].iloc[0]['WIP_QTY'])\n",
    "    # print(df_train_orign.loc[df_train_orign['TOOLG_ID']==toolg].iloc[0]['MOVE_QTY'])\n",
    "    # print(df_train_orign.loc[df_train_orign['TOOLG_ID']==toolg].iloc[0].shape[0])\n",
    "    # print(df_train_orign_tool['WIP_QTY'].corr(df_train_orign_tool['MOVE_QTY']) )\n",
    "    \n",
    "     \n",
    "    # if  df_train_tool.shape[0]>100 and  (df_train_orign_tool['NO_HOLD_QTY'].corr(df_train_orign_tool['MOVE_QTY']) < 0.7 ) and  (df_train_orign_tool['NO_HOLD_QTY'].corr(df_train_orign_tool['MOVE_QTY']) > 0.5 ):\n",
    "    if  df_train_tool.shape[0]>100 and  (df_train_orign_tool['NO_HOLD_QTY'].corr(df_train_orign_tool['MOVE_QTY']) < 0.3 ) and  (df_train_orign_tool['NO_HOLD_QTY'].corr(df_train_orign_tool['MOVE_QTY']) > 0.2 ):\n",
    "   #if  df_train_orign_tool['WIP_QTY'].corr(df_train_orign_tool['MOVE_QTY']) > 0.7:\n",
    "        print(toolg)\n",
    "        # print('WIP_QTY ',df_train_orign.loc[df_train_orign['TOOLG_ID']==toolg].iloc[0]['WIP_QTY'])\n",
    "        # print('MOVE_QTY ' , df_train_orign.loc[df_train_orign['TOOLG_ID']==toolg].iloc[0]['MOVE_QTY'])\n",
    "        # print('COUNT ',df_train_orign.loc[df_train_orign['TOOLG_ID']==toolg].iloc[0].count())\n",
    "        # print('corr ' ,df_train_orign_tool['WIP_QTY'].corr(df_train_orign_tool['MOVE_QTY']) )\n",
    "        # print(toolg,df_train_orign_tool.count())\n",
    "        toolgCorr.append([toolg ,df_train_orign_tool['NO_HOLD_QTY'].corr(df_train_orign_tool['MOVE_QTY'])  ])\n",
    "    # print(toolg ,' corr : ',df_train_orign_tool['WIP_QTY'].corr(df_train_orign_tool['MOVE_QTY']))\n",
    "toolgCorr =np.asarray(toolgCorr) \n",
    "# toolgCorr[:,1]\n",
    " \n"
   ]
  },
  {
   "cell_type": "code",
   "execution_count": 483,
   "metadata": {},
   "outputs": [
    {
     "output_type": "execute_result",
     "data": {
      "text/plain": [
       "Empty DataFrame\n",
       "Columns: [TOOLG_ID, WIP_QTY, NO_HOLD_QTY, MOVE_QTY, M, U, PT, UP_TIME, EQP_UTIL, TC, CS, C_AI]\n",
       "Index: []"
      ],
      "text/html": "<div>\n<style scoped>\n    .dataframe tbody tr th:only-of-type {\n        vertical-align: middle;\n    }\n\n    .dataframe tbody tr th {\n        vertical-align: top;\n    }\n\n    .dataframe thead th {\n        text-align: right;\n    }\n</style>\n<table border=\"1\" class=\"dataframe\">\n  <thead>\n    <tr style=\"text-align: right;\">\n      <th></th>\n      <th>TOOLG_ID</th>\n      <th>WIP_QTY</th>\n      <th>NO_HOLD_QTY</th>\n      <th>MOVE_QTY</th>\n      <th>M</th>\n      <th>U</th>\n      <th>PT</th>\n      <th>UP_TIME</th>\n      <th>EQP_UTIL</th>\n      <th>TC</th>\n      <th>CS</th>\n      <th>C_AI</th>\n    </tr>\n  </thead>\n  <tbody>\n  </tbody>\n</table>\n</div>"
     },
     "metadata": {},
     "execution_count": 483
    }
   ],
   "source": []
  },
  {
   "cell_type": "code",
   "execution_count": 34,
   "metadata": {},
   "outputs": [],
   "source": [
    "# toolgCorr = toolgCorr[(toolgCorr[:,0]=='PK_DUVKrF')]\n",
    "#xy_dat[((xy_dat[:,0] > min) & (xy_dat[:,0] < max))]"
   ]
  },
  {
   "cell_type": "code",
   "execution_count": 35,
   "metadata": {},
   "outputs": [
    {
     "output_type": "execute_result",
     "data": {
      "text/plain": [
       "          TOOLG_ID  WIP_QTY  NO_HOLD_QTY  MOVE_QTY     M         U  \\\n",
       "0           CI_STI   1672.0       1500.0    3371.0   5.0  0.475904   \n",
       "1       DGM_AM_350    377.0        324.0    2294.0  10.0  0.707514   \n",
       "2           DI_PSG      0.0          0.0     125.0   2.0  0.500000   \n",
       "3           DN_SiN    131.0        125.0    1381.0   4.0  0.782313   \n",
       "4           DO_SOD     13.0         12.0     706.0   2.0  1.000000   \n",
       "...            ...      ...          ...       ...   ...       ...   \n",
       "120013    MS_MOCVD      8.0          6.0     363.0   7.0  0.439232   \n",
       "120014      MS_SIP    590.0        584.0    5554.0  43.0  0.528306   \n",
       "120015        MW_W    113.0         62.0     698.0   6.0  0.945887   \n",
       "120016      OTHERS   2256.0       1290.0    1066.0   3.0  0.006944   \n",
       "120017   PH_DUVArF   4286.0       3709.0    9114.0  11.0  0.185234   \n",
       "\n",
       "                  PT   UP_TIME  EQP_UTIL        TC        CS      C_AI  \n",
       "0        4910.234940  0.956914  0.989448  0.382283  0.354976  0.836586  \n",
       "1        4017.560694  0.839097  0.979897  0.264591  0.256043  0.629749  \n",
       "2       16531.000000  0.986675  0.375072  0.052413  0.298198  1.361144  \n",
       "3        2056.897959  0.982981  0.779669  0.477650  0.373563  1.101988  \n",
       "4        1750.037736  0.909998  0.460758  0.278303  0.183449  3.147461  \n",
       "...              ...       ...       ...       ...       ...       ...  \n",
       "120013   5021.179104  0.632350  0.625828  0.524524  0.522686  3.648754  \n",
       "120014   4330.552448  0.829726  0.917537  0.405158  0.369477  0.693594  \n",
       "120015   1813.207792  0.772282  0.315648  0.436300  0.157383  2.284976  \n",
       "120016     30.812500  0.666667  0.007022  4.954711  4.954711  2.632390  \n",
       "120017   3470.162839  0.898888  0.834274  0.518624  0.387262  0.840406  \n",
       "\n",
       "[108598 rows x 12 columns]"
      ],
      "text/html": "<div>\n<style scoped>\n    .dataframe tbody tr th:only-of-type {\n        vertical-align: middle;\n    }\n\n    .dataframe tbody tr th {\n        vertical-align: top;\n    }\n\n    .dataframe thead th {\n        text-align: right;\n    }\n</style>\n<table border=\"1\" class=\"dataframe\">\n  <thead>\n    <tr style=\"text-align: right;\">\n      <th></th>\n      <th>TOOLG_ID</th>\n      <th>WIP_QTY</th>\n      <th>NO_HOLD_QTY</th>\n      <th>MOVE_QTY</th>\n      <th>M</th>\n      <th>U</th>\n      <th>PT</th>\n      <th>UP_TIME</th>\n      <th>EQP_UTIL</th>\n      <th>TC</th>\n      <th>CS</th>\n      <th>C_AI</th>\n    </tr>\n  </thead>\n  <tbody>\n    <tr>\n      <th>0</th>\n      <td>CI_STI</td>\n      <td>1672.0</td>\n      <td>1500.0</td>\n      <td>3371.0</td>\n      <td>5.0</td>\n      <td>0.475904</td>\n      <td>4910.234940</td>\n      <td>0.956914</td>\n      <td>0.989448</td>\n      <td>0.382283</td>\n      <td>0.354976</td>\n      <td>0.836586</td>\n    </tr>\n    <tr>\n      <th>1</th>\n      <td>DGM_AM_350</td>\n      <td>377.0</td>\n      <td>324.0</td>\n      <td>2294.0</td>\n      <td>10.0</td>\n      <td>0.707514</td>\n      <td>4017.560694</td>\n      <td>0.839097</td>\n      <td>0.979897</td>\n      <td>0.264591</td>\n      <td>0.256043</td>\n      <td>0.629749</td>\n    </tr>\n    <tr>\n      <th>2</th>\n      <td>DI_PSG</td>\n      <td>0.0</td>\n      <td>0.0</td>\n      <td>125.0</td>\n      <td>2.0</td>\n      <td>0.500000</td>\n      <td>16531.000000</td>\n      <td>0.986675</td>\n      <td>0.375072</td>\n      <td>0.052413</td>\n      <td>0.298198</td>\n      <td>1.361144</td>\n    </tr>\n    <tr>\n      <th>3</th>\n      <td>DN_SiN</td>\n      <td>131.0</td>\n      <td>125.0</td>\n      <td>1381.0</td>\n      <td>4.0</td>\n      <td>0.782313</td>\n      <td>2056.897959</td>\n      <td>0.982981</td>\n      <td>0.779669</td>\n      <td>0.477650</td>\n      <td>0.373563</td>\n      <td>1.101988</td>\n    </tr>\n    <tr>\n      <th>4</th>\n      <td>DO_SOD</td>\n      <td>13.0</td>\n      <td>12.0</td>\n      <td>706.0</td>\n      <td>2.0</td>\n      <td>1.000000</td>\n      <td>1750.037736</td>\n      <td>0.909998</td>\n      <td>0.460758</td>\n      <td>0.278303</td>\n      <td>0.183449</td>\n      <td>3.147461</td>\n    </tr>\n    <tr>\n      <th>...</th>\n      <td>...</td>\n      <td>...</td>\n      <td>...</td>\n      <td>...</td>\n      <td>...</td>\n      <td>...</td>\n      <td>...</td>\n      <td>...</td>\n      <td>...</td>\n      <td>...</td>\n      <td>...</td>\n      <td>...</td>\n    </tr>\n    <tr>\n      <th>120013</th>\n      <td>MS_MOCVD</td>\n      <td>8.0</td>\n      <td>6.0</td>\n      <td>363.0</td>\n      <td>7.0</td>\n      <td>0.439232</td>\n      <td>5021.179104</td>\n      <td>0.632350</td>\n      <td>0.625828</td>\n      <td>0.524524</td>\n      <td>0.522686</td>\n      <td>3.648754</td>\n    </tr>\n    <tr>\n      <th>120014</th>\n      <td>MS_SIP</td>\n      <td>590.0</td>\n      <td>584.0</td>\n      <td>5554.0</td>\n      <td>43.0</td>\n      <td>0.528306</td>\n      <td>4330.552448</td>\n      <td>0.829726</td>\n      <td>0.917537</td>\n      <td>0.405158</td>\n      <td>0.369477</td>\n      <td>0.693594</td>\n    </tr>\n    <tr>\n      <th>120015</th>\n      <td>MW_W</td>\n      <td>113.0</td>\n      <td>62.0</td>\n      <td>698.0</td>\n      <td>6.0</td>\n      <td>0.945887</td>\n      <td>1813.207792</td>\n      <td>0.772282</td>\n      <td>0.315648</td>\n      <td>0.436300</td>\n      <td>0.157383</td>\n      <td>2.284976</td>\n    </tr>\n    <tr>\n      <th>120016</th>\n      <td>OTHERS</td>\n      <td>2256.0</td>\n      <td>1290.0</td>\n      <td>1066.0</td>\n      <td>3.0</td>\n      <td>0.006944</td>\n      <td>30.812500</td>\n      <td>0.666667</td>\n      <td>0.007022</td>\n      <td>4.954711</td>\n      <td>4.954711</td>\n      <td>2.632390</td>\n    </tr>\n    <tr>\n      <th>120017</th>\n      <td>PH_DUVArF</td>\n      <td>4286.0</td>\n      <td>3709.0</td>\n      <td>9114.0</td>\n      <td>11.0</td>\n      <td>0.185234</td>\n      <td>3470.162839</td>\n      <td>0.898888</td>\n      <td>0.834274</td>\n      <td>0.518624</td>\n      <td>0.387262</td>\n      <td>0.840406</td>\n    </tr>\n  </tbody>\n</table>\n<p>108598 rows × 12 columns</p>\n</div>"
     },
     "metadata": {},
     "execution_count": 35
    }
   ],
   "source": [
    "df_train"
   ]
  },
  {
   "cell_type": "code",
   "execution_count": 36,
   "metadata": {},
   "outputs": [],
   "source": [
    "# for t in toolgCorr:\n",
    "#     toolg = t[0]\n",
    "#     df_train.loc[df_train['TOOLG_ID']==toolg]"
   ]
  },
  {
   "source": [
    "# 觀察 散佈圖"
   ],
   "cell_type": "markdown",
   "metadata": {}
  },
  {
   "cell_type": "code",
   "execution_count": 37,
   "metadata": {},
   "outputs": [
    {
     "output_type": "execute_result",
     "data": {
      "text/plain": [
       "           MFG_DATE     WIP_QTY  NO_HOLD_QTY     MOVE_QTY           M  \\\n",
       "count  4.010000e+02  401.000000   401.000000   401.000000  401.000000   \n",
       "mean   2.020202e+07  161.995012   134.887781  1678.241895    2.987531   \n",
       "std    3.296598e+03  136.443175   135.970897   623.204291    0.149480   \n",
       "min    2.020012e+07    1.000000     0.000000   234.000000    1.000000   \n",
       "25%    2.020050e+07   76.000000    50.000000  1245.000000    3.000000   \n",
       "50%    2.020081e+07  125.000000   100.000000  1580.000000    3.000000   \n",
       "75%    2.020112e+07  200.000000   174.000000  2031.000000    3.000000   \n",
       "max    2.021022e+07  913.000000   895.000000  3301.000000    3.000000   \n",
       "\n",
       "                U           PT     UP_TIME    EQP_UTIL          TC  \\\n",
       "count  401.000000   401.000000  401.000000  401.000000  401.000000   \n",
       "mean     0.506376  3085.053994    0.939801    0.692417    0.387052   \n",
       "std      0.091484   284.679610    0.072961    0.195409    0.161177   \n",
       "min      0.333333  2402.283019    0.561834    0.071409    0.179445   \n",
       "25%      0.462222  2886.127273    0.916844    0.565698    0.320979   \n",
       "50%      0.500000  3086.842857    0.961270    0.687439    0.364697   \n",
       "75%      0.546512  3254.179104    0.990291    0.830025    0.405530   \n",
       "max      1.700000  4347.333333    1.000000    1.000000    2.492340   \n",
       "\n",
       "               CS          AI        C_AI  \n",
       "count  401.000000  401.000000  401.000000  \n",
       "mean     0.334995   69.949939    0.300796  \n",
       "std      0.133030   27.777840   15.171508  \n",
       "min      0.028137   -0.291667 -300.029990  \n",
       "25%      0.273662   51.041667    0.663578  \n",
       "50%      0.317761   67.458333    0.816370  \n",
       "75%      0.364432   85.416667    0.980457  \n",
       "max      1.969233  148.375000   30.907348  "
      ],
      "text/html": "<div>\n<style scoped>\n    .dataframe tbody tr th:only-of-type {\n        vertical-align: middle;\n    }\n\n    .dataframe tbody tr th {\n        vertical-align: top;\n    }\n\n    .dataframe thead th {\n        text-align: right;\n    }\n</style>\n<table border=\"1\" class=\"dataframe\">\n  <thead>\n    <tr style=\"text-align: right;\">\n      <th></th>\n      <th>MFG_DATE</th>\n      <th>WIP_QTY</th>\n      <th>NO_HOLD_QTY</th>\n      <th>MOVE_QTY</th>\n      <th>M</th>\n      <th>U</th>\n      <th>PT</th>\n      <th>UP_TIME</th>\n      <th>EQP_UTIL</th>\n      <th>TC</th>\n      <th>CS</th>\n      <th>AI</th>\n      <th>C_AI</th>\n    </tr>\n  </thead>\n  <tbody>\n    <tr>\n      <th>count</th>\n      <td>4.010000e+02</td>\n      <td>401.000000</td>\n      <td>401.000000</td>\n      <td>401.000000</td>\n      <td>401.000000</td>\n      <td>401.000000</td>\n      <td>401.000000</td>\n      <td>401.000000</td>\n      <td>401.000000</td>\n      <td>401.000000</td>\n      <td>401.000000</td>\n      <td>401.000000</td>\n      <td>401.000000</td>\n    </tr>\n    <tr>\n      <th>mean</th>\n      <td>2.020202e+07</td>\n      <td>161.995012</td>\n      <td>134.887781</td>\n      <td>1678.241895</td>\n      <td>2.987531</td>\n      <td>0.506376</td>\n      <td>3085.053994</td>\n      <td>0.939801</td>\n      <td>0.692417</td>\n      <td>0.387052</td>\n      <td>0.334995</td>\n      <td>69.949939</td>\n      <td>0.300796</td>\n    </tr>\n    <tr>\n      <th>std</th>\n      <td>3.296598e+03</td>\n      <td>136.443175</td>\n      <td>135.970897</td>\n      <td>623.204291</td>\n      <td>0.149480</td>\n      <td>0.091484</td>\n      <td>284.679610</td>\n      <td>0.072961</td>\n      <td>0.195409</td>\n      <td>0.161177</td>\n      <td>0.133030</td>\n      <td>27.777840</td>\n      <td>15.171508</td>\n    </tr>\n    <tr>\n      <th>min</th>\n      <td>2.020012e+07</td>\n      <td>1.000000</td>\n      <td>0.000000</td>\n      <td>234.000000</td>\n      <td>1.000000</td>\n      <td>0.333333</td>\n      <td>2402.283019</td>\n      <td>0.561834</td>\n      <td>0.071409</td>\n      <td>0.179445</td>\n      <td>0.028137</td>\n      <td>-0.291667</td>\n      <td>-300.029990</td>\n    </tr>\n    <tr>\n      <th>25%</th>\n      <td>2.020050e+07</td>\n      <td>76.000000</td>\n      <td>50.000000</td>\n      <td>1245.000000</td>\n      <td>3.000000</td>\n      <td>0.462222</td>\n      <td>2886.127273</td>\n      <td>0.916844</td>\n      <td>0.565698</td>\n      <td>0.320979</td>\n      <td>0.273662</td>\n      <td>51.041667</td>\n      <td>0.663578</td>\n    </tr>\n    <tr>\n      <th>50%</th>\n      <td>2.020081e+07</td>\n      <td>125.000000</td>\n      <td>100.000000</td>\n      <td>1580.000000</td>\n      <td>3.000000</td>\n      <td>0.500000</td>\n      <td>3086.842857</td>\n      <td>0.961270</td>\n      <td>0.687439</td>\n      <td>0.364697</td>\n      <td>0.317761</td>\n      <td>67.458333</td>\n      <td>0.816370</td>\n    </tr>\n    <tr>\n      <th>75%</th>\n      <td>2.020112e+07</td>\n      <td>200.000000</td>\n      <td>174.000000</td>\n      <td>2031.000000</td>\n      <td>3.000000</td>\n      <td>0.546512</td>\n      <td>3254.179104</td>\n      <td>0.990291</td>\n      <td>0.830025</td>\n      <td>0.405530</td>\n      <td>0.364432</td>\n      <td>85.416667</td>\n      <td>0.980457</td>\n    </tr>\n    <tr>\n      <th>max</th>\n      <td>2.021022e+07</td>\n      <td>913.000000</td>\n      <td>895.000000</td>\n      <td>3301.000000</td>\n      <td>3.000000</td>\n      <td>1.700000</td>\n      <td>4347.333333</td>\n      <td>1.000000</td>\n      <td>1.000000</td>\n      <td>2.492340</td>\n      <td>1.969233</td>\n      <td>148.375000</td>\n      <td>30.907348</td>\n    </tr>\n  </tbody>\n</table>\n</div>"
     },
     "metadata": {},
     "execution_count": 37
    },
    {
     "output_type": "display_data",
     "data": {
      "text/plain": "<Figure size 432x288 with 1 Axes>",
      "image/svg+xml": "<?xml version=\"1.0\" encoding=\"utf-8\" standalone=\"no\"?>\r\n<!DOCTYPE svg PUBLIC \"-//W3C//DTD SVG 1.1//EN\"\r\n  \"http://www.w3.org/Graphics/SVG/1.1/DTD/svg11.dtd\">\r\n<!-- Created with matplotlib (https://matplotlib.org/) -->\r\n<svg height=\"277.1025pt\" version=\"1.1\" viewBox=\"0 0 395.328125 277.1025\" width=\"395.328125pt\" xmlns=\"http://www.w3.org/2000/svg\" xmlns:xlink=\"http://www.w3.org/1999/xlink\">\r\n <metadata>\r\n  <rdf:RDF xmlns:cc=\"http://creativecommons.org/ns#\" xmlns:dc=\"http://purl.org/dc/elements/1.1/\" xmlns:rdf=\"http://www.w3.org/1999/02/22-rdf-syntax-ns#\">\r\n   <cc:Work>\r\n    <dc:type rdf:resource=\"http://purl.org/dc/dcmitype/StillImage\"/>\r\n    <dc:date>2021-03-22T09:58:20.100047</dc:date>\r\n    <dc:format>image/svg+xml</dc:format>\r\n    <dc:creator>\r\n     <cc:Agent>\r\n      <dc:title>Matplotlib v3.3.3, https://matplotlib.org/</dc:title>\r\n     </cc:Agent>\r\n    </dc:creator>\r\n   </cc:Work>\r\n  </rdf:RDF>\r\n </metadata>\r\n <defs>\r\n  <style type=\"text/css\">*{stroke-linecap:butt;stroke-linejoin:round;}</style>\r\n </defs>\r\n <g id=\"figure_1\">\r\n  <g id=\"patch_1\">\r\n   <path d=\"M 0 277.1025 \r\nL 395.328125 277.1025 \r\nL 395.328125 0 \r\nL 0 0 \r\nz\r\n\" style=\"fill:none;\"/>\r\n  </g>\r\n  <g id=\"axes_1\">\r\n   <g id=\"patch_2\">\r\n    <path d=\"M 53.328125 239.54625 \r\nL 388.128125 239.54625 \r\nL 388.128125 22.10625 \r\nL 53.328125 22.10625 \r\nz\r\n\" style=\"fill:#ffffff;\"/>\r\n   </g>\r\n   <g id=\"PathCollection_1\">\r\n    <defs>\r\n     <path d=\"M 0 3 \r\nC 0.795609 3 1.55874 2.683901 2.12132 2.12132 \r\nC 2.683901 1.55874 3 0.795609 3 0 \r\nC 3 -0.795609 2.683901 -1.55874 2.12132 -2.12132 \r\nC 1.55874 -2.683901 0.795609 -3 0 -3 \r\nC -0.795609 -3 -1.55874 -2.683901 -2.12132 -2.12132 \r\nC -2.683901 -1.55874 -3 -0.795609 -3 0 \r\nC -3 0.795609 -2.683901 1.55874 -2.12132 2.12132 \r\nC -1.55874 2.683901 -0.795609 3 0 3 \r\nz\r\n\" id=\"m78fcecfa1e\" style=\"stroke:#1f77b4;\"/>\r\n    </defs>\r\n    <g clip-path=\"url(#p0ee641cfd6)\">\r\n     <use style=\"fill:#1f77b4;stroke:#1f77b4;\" x=\"102.553417\" xlink:href=\"#m78fcecfa1e\" y=\"142.910905\"/>\r\n     <use style=\"fill:#1f77b4;stroke:#1f77b4;\" x=\"85.549862\" xlink:href=\"#m78fcecfa1e\" y=\"126.217968\"/>\r\n     <use style=\"fill:#1f77b4;stroke:#1f77b4;\" x=\"102.553417\" xlink:href=\"#m78fcecfa1e\" y=\"143.684323\"/>\r\n     <use style=\"fill:#1f77b4;stroke:#1f77b4;\" x=\"153.564082\" xlink:href=\"#m78fcecfa1e\" y=\"80.973021\"/>\r\n     <use style=\"fill:#1f77b4;stroke:#1f77b4;\" x=\"145.062305\" xlink:href=\"#m78fcecfa1e\" y=\"94.443383\"/>\r\n     <use style=\"fill:#1f77b4;stroke:#1f77b4;\" x=\"160.365504\" xlink:href=\"#m78fcecfa1e\" y=\"68.791689\"/>\r\n     <use style=\"fill:#1f77b4;stroke:#1f77b4;\" x=\"206.955245\" xlink:href=\"#m78fcecfa1e\" y=\"56.739259\"/>\r\n     <use style=\"fill:#1f77b4;stroke:#1f77b4;\" x=\"325.980131\" xlink:href=\"#m78fcecfa1e\" y=\"63.442215\"/>\r\n     <use style=\"fill:#1f77b4;stroke:#1f77b4;\" x=\"215.116952\" xlink:href=\"#m78fcecfa1e\" y=\"61.379767\"/>\r\n     <use style=\"fill:#1f77b4;stroke:#1f77b4;\" x=\"129.419034\" xlink:href=\"#m78fcecfa1e\" y=\"170.560595\"/>\r\n     <use style=\"fill:#1f77b4;stroke:#1f77b4;\" x=\"77.048084\" xlink:href=\"#m78fcecfa1e\" y=\"195.761129\"/>\r\n     <use style=\"fill:#1f77b4;stroke:#1f77b4;\" x=\"136.560527\" xlink:href=\"#m78fcecfa1e\" y=\"108.880517\"/>\r\n     <use style=\"fill:#1f77b4;stroke:#1f77b4;\" x=\"117.176474\" xlink:href=\"#m78fcecfa1e\" y=\"157.219136\"/>\r\n     <use style=\"fill:#1f77b4;stroke:#1f77b4;\" x=\"87.93036\" xlink:href=\"#m78fcecfa1e\" y=\"183.515345\"/>\r\n     <use style=\"fill:#1f77b4;stroke:#1f77b4;\" x=\"146.422589\" xlink:href=\"#m78fcecfa1e\" y=\"143.104259\"/>\r\n     <use style=\"fill:#1f77b4;stroke:#1f77b4;\" x=\"102.893488\" xlink:href=\"#m78fcecfa1e\" y=\"172.623043\"/>\r\n     <use style=\"fill:#1f77b4;stroke:#1f77b4;\" x=\"151.183585\" xlink:href=\"#m78fcecfa1e\" y=\"106.109103\"/>\r\n     <use style=\"fill:#1f77b4;stroke:#1f77b4;\" x=\"111.395266\" xlink:href=\"#m78fcecfa1e\" y=\"135.498983\"/>\r\n     <use style=\"fill:#1f77b4;stroke:#1f77b4;\" x=\"87.250217\" xlink:href=\"#m78fcecfa1e\" y=\"180.163867\"/>\r\n     <use style=\"fill:#1f77b4;stroke:#1f77b4;\" x=\"103.233559\" xlink:href=\"#m78fcecfa1e\" y=\"146.842446\"/>\r\n     <use style=\"fill:#1f77b4;stroke:#1f77b4;\" x=\"153.224011\" xlink:href=\"#m78fcecfa1e\" y=\"122.028621\"/>\r\n     <use style=\"fill:#1f77b4;stroke:#1f77b4;\" x=\"136.560527\" xlink:href=\"#m78fcecfa1e\" y=\"140.268394\"/>\r\n     <use style=\"fill:#1f77b4;stroke:#1f77b4;\" x=\"162.06586\" xlink:href=\"#m78fcecfa1e\" y=\"142.846453\"/>\r\n     <use style=\"fill:#1f77b4;stroke:#1f77b4;\" x=\"161.725789\" xlink:href=\"#m78fcecfa1e\" y=\"148.647088\"/>\r\n     <use style=\"fill:#1f77b4;stroke:#1f77b4;\" x=\"102.893488\" xlink:href=\"#m78fcecfa1e\" y=\"137.174722\"/>\r\n     <use style=\"fill:#1f77b4;stroke:#1f77b4;\" x=\"85.209791\" xlink:href=\"#m78fcecfa1e\" y=\"85.162368\"/>\r\n     <use style=\"fill:#1f77b4;stroke:#1f77b4;\" x=\"117.856617\" xlink:href=\"#m78fcecfa1e\" y=\"147.229155\"/>\r\n     <use style=\"fill:#1f77b4;stroke:#1f77b4;\" x=\"162.06586\" xlink:href=\"#m78fcecfa1e\" y=\"128.344868\"/>\r\n     <use style=\"fill:#1f77b4;stroke:#1f77b4;\" x=\"136.220456\" xlink:href=\"#m78fcecfa1e\" y=\"111.007416\"/>\r\n     <use style=\"fill:#1f77b4;stroke:#1f77b4;\" x=\"85.549862\" xlink:href=\"#m78fcecfa1e\" y=\"112.167543\"/>\r\n     <use style=\"fill:#1f77b4;stroke:#1f77b4;\" x=\"152.88394\" xlink:href=\"#m78fcecfa1e\" y=\"107.913744\"/>\r\n     <use style=\"fill:#1f77b4;stroke:#1f77b4;\" x=\"111.055195\" xlink:href=\"#m78fcecfa1e\" y=\"109.653935\"/>\r\n     <use style=\"fill:#1f77b4;stroke:#1f77b4;\" x=\"86.230004\" xlink:href=\"#m78fcecfa1e\" y=\"114.745603\"/>\r\n     <use style=\"fill:#1f77b4;stroke:#1f77b4;\" x=\"94.051639\" xlink:href=\"#m78fcecfa1e\" y=\"76.719222\"/>\r\n     <use style=\"fill:#1f77b4;stroke:#1f77b4;\" x=\"173.968348\" xlink:href=\"#m78fcecfa1e\" y=\"75.945804\"/>\r\n     <use style=\"fill:#1f77b4;stroke:#1f77b4;\" x=\"240.622284\" xlink:href=\"#m78fcecfa1e\" y=\"64.344536\"/>\r\n     <use style=\"fill:#1f77b4;stroke:#1f77b4;\" x=\"212.056312\" xlink:href=\"#m78fcecfa1e\" y=\"75.494644\"/>\r\n     <use style=\"fill:#1f77b4;stroke:#1f77b4;\" x=\"185.530766\" xlink:href=\"#m78fcecfa1e\" y=\"99.53505\"/>\r\n     <use style=\"fill:#1f77b4;stroke:#1f77b4;\" x=\"94.051639\" xlink:href=\"#m78fcecfa1e\" y=\"179.712707\"/>\r\n     <use style=\"fill:#1f77b4;stroke:#1f77b4;\" x=\"77.048084\" xlink:href=\"#m78fcecfa1e\" y=\"162.633062\"/>\r\n     <use style=\"fill:#1f77b4;stroke:#1f77b4;\" x=\"94.051639\" xlink:href=\"#m78fcecfa1e\" y=\"157.090233\"/>\r\n     <use style=\"fill:#1f77b4;stroke:#1f77b4;\" x=\"93.371497\" xlink:href=\"#m78fcecfa1e\" y=\"179.325998\"/>\r\n     <use style=\"fill:#1f77b4;stroke:#1f77b4;\" x=\"135.880385\" xlink:href=\"#m78fcecfa1e\" y=\"158.25036\"/>\r\n     <use style=\"fill:#1f77b4;stroke:#1f77b4;\" x=\"152.88394\" xlink:href=\"#m78fcecfa1e\" y=\"155.801203\"/>\r\n     <use style=\"fill:#1f77b4;stroke:#1f77b4;\" x=\"102.213346\" xlink:href=\"#m78fcecfa1e\" y=\"188.671464\"/>\r\n     <use style=\"fill:#1f77b4;stroke:#1f77b4;\" x=\"121.597399\" xlink:href=\"#m78fcecfa1e\" y=\"137.883688\"/>\r\n     <use style=\"fill:#1f77b4;stroke:#1f77b4;\" x=\"68.546307\" xlink:href=\"#m78fcecfa1e\" y=\"142.073035\"/>\r\n     <use style=\"fill:#1f77b4;stroke:#1f77b4;\" x=\"94.051639\" xlink:href=\"#m78fcecfa1e\" y=\"124.735584\"/>\r\n     <use style=\"fill:#1f77b4;stroke:#1f77b4;\" x=\"85.549862\" xlink:href=\"#m78fcecfa1e\" y=\"126.991386\"/>\r\n     <use style=\"fill:#1f77b4;stroke:#1f77b4;\" x=\"119.556972\" xlink:href=\"#m78fcecfa1e\" y=\"139.752782\"/>\r\n     <use style=\"fill:#1f77b4;stroke:#1f77b4;\" x=\"93.711568\" xlink:href=\"#m78fcecfa1e\" y=\"140.912909\"/>\r\n     <use style=\"fill:#1f77b4;stroke:#1f77b4;\" x=\"85.549862\" xlink:href=\"#m78fcecfa1e\" y=\"143.426517\"/>\r\n     <use style=\"fill:#1f77b4;stroke:#1f77b4;\" x=\"85.549862\" xlink:href=\"#m78fcecfa1e\" y=\"127.635901\"/>\r\n     <use style=\"fill:#1f77b4;stroke:#1f77b4;\" x=\"77.048084\" xlink:href=\"#m78fcecfa1e\" y=\"131.05183\"/>\r\n     <use style=\"fill:#1f77b4;stroke:#1f77b4;\" x=\"94.051639\" xlink:href=\"#m78fcecfa1e\" y=\"118.870498\"/>\r\n     <use style=\"fill:#1f77b4;stroke:#1f77b4;\" x=\"153.224011\" xlink:href=\"#m78fcecfa1e\" y=\"104.304461\"/>\r\n     <use style=\"fill:#1f77b4;stroke:#1f77b4;\" x=\"111.055195\" xlink:href=\"#m78fcecfa1e\" y=\"107.204778\"/>\r\n     <use style=\"fill:#1f77b4;stroke:#1f77b4;\" x=\"102.213346\" xlink:href=\"#m78fcecfa1e\" y=\"160.570614\"/>\r\n     <use style=\"fill:#1f77b4;stroke:#1f77b4;\" x=\"119.556972\" xlink:href=\"#m78fcecfa1e\" y=\"137.045819\"/>\r\n     <use style=\"fill:#1f77b4;stroke:#1f77b4;\" x=\"119.556972\" xlink:href=\"#m78fcecfa1e\" y=\"100.050662\"/>\r\n     <use style=\"fill:#1f77b4;stroke:#1f77b4;\" x=\"99.152706\" xlink:href=\"#m78fcecfa1e\" y=\"108.042647\"/>\r\n     <use style=\"fill:#1f77b4;stroke:#1f77b4;\" x=\"102.893488\" xlink:href=\"#m78fcecfa1e\" y=\"118.612692\"/>\r\n     <use style=\"fill:#1f77b4;stroke:#1f77b4;\" x=\"111.055195\" xlink:href=\"#m78fcecfa1e\" y=\"121.190752\"/>\r\n     <use style=\"fill:#1f77b4;stroke:#1f77b4;\" x=\"174.988562\" xlink:href=\"#m78fcecfa1e\" y=\"115.454569\"/>\r\n     <use style=\"fill:#1f77b4;stroke:#1f77b4;\" x=\"136.220456\" xlink:href=\"#m78fcecfa1e\" y=\"97.214797\"/>\r\n     <use style=\"fill:#1f77b4;stroke:#1f77b4;\" x=\"77.388155\" xlink:href=\"#m78fcecfa1e\" y=\"94.636737\"/>\r\n     <use style=\"fill:#1f77b4;stroke:#1f77b4;\" x=\"135.540314\" xlink:href=\"#m78fcecfa1e\" y=\"68.985043\"/>\r\n     <use style=\"fill:#1f77b4;stroke:#1f77b4;\" x=\"173.968348\" xlink:href=\"#m78fcecfa1e\" y=\"69.565106\"/>\r\n     <use style=\"fill:#1f77b4;stroke:#1f77b4;\" x=\"119.556972\" xlink:href=\"#m78fcecfa1e\" y=\"138.270397\"/>\r\n     <use style=\"fill:#1f77b4;stroke:#1f77b4;\" x=\"120.577185\" xlink:href=\"#m78fcecfa1e\" y=\"152.385274\"/>\r\n     <use style=\"fill:#1f77b4;stroke:#1f77b4;\" x=\"94.051639\" xlink:href=\"#m78fcecfa1e\" y=\"156.574621\"/>\r\n     <use style=\"fill:#1f77b4;stroke:#1f77b4;\" x=\"102.553417\" xlink:href=\"#m78fcecfa1e\" y=\"169.980532\"/>\r\n     <use style=\"fill:#1f77b4;stroke:#1f77b4;\" x=\"68.546307\" xlink:href=\"#m78fcecfa1e\" y=\"174.427685\"/>\r\n     <use style=\"fill:#1f77b4;stroke:#1f77b4;\" x=\"81.469009\" xlink:href=\"#m78fcecfa1e\" y=\"174.427685\"/>\r\n     <use style=\"fill:#1f77b4;stroke:#1f77b4;\" x=\"94.051639\" xlink:href=\"#m78fcecfa1e\" y=\"156.381267\"/>\r\n     <use style=\"fill:#1f77b4;stroke:#1f77b4;\" x=\"110.715123\" xlink:href=\"#m78fcecfa1e\" y=\"163.277576\"/>\r\n     <use style=\"fill:#1f77b4;stroke:#1f77b4;\" x=\"136.220456\" xlink:href=\"#m78fcecfa1e\" y=\"143.362065\"/>\r\n     <use style=\"fill:#1f77b4;stroke:#1f77b4;\" x=\"130.439247\" xlink:href=\"#m78fcecfa1e\" y=\"154.189916\"/>\r\n     <use style=\"fill:#1f77b4;stroke:#1f77b4;\" x=\"114.455906\" xlink:href=\"#m78fcecfa1e\" y=\"125.315647\"/>\r\n     <use style=\"fill:#1f77b4;stroke:#1f77b4;\" x=\"94.051639\" xlink:href=\"#m78fcecfa1e\" y=\"169.142662\"/>\r\n     <use style=\"fill:#1f77b4;stroke:#1f77b4;\" x=\"77.048084\" xlink:href=\"#m78fcecfa1e\" y=\"176.232326\"/>\r\n     <use style=\"fill:#1f77b4;stroke:#1f77b4;\" x=\"119.897043\" xlink:href=\"#m78fcecfa1e\" y=\"150.322826\"/>\r\n     <use style=\"fill:#1f77b4;stroke:#1f77b4;\" x=\"77.048084\" xlink:href=\"#m78fcecfa1e\" y=\"122.479782\"/>\r\n     <use style=\"fill:#1f77b4;stroke:#1f77b4;\" x=\"111.055195\" xlink:href=\"#m78fcecfa1e\" y=\"107.527035\"/>\r\n     <use style=\"fill:#1f77b4;stroke:#1f77b4;\" x=\"115.476119\" xlink:href=\"#m78fcecfa1e\" y=\"145.424513\"/>\r\n     <use style=\"fill:#1f77b4;stroke:#1f77b4;\" x=\"162.06586\" xlink:href=\"#m78fcecfa1e\" y=\"126.926935\"/>\r\n     <use style=\"fill:#1f77b4;stroke:#1f77b4;\" x=\"128.398821\" xlink:href=\"#m78fcecfa1e\" y=\"135.950144\"/>\r\n     <use style=\"fill:#1f77b4;stroke:#1f77b4;\" x=\"87.590289\" xlink:href=\"#m78fcecfa1e\" y=\"123.768812\"/>\r\n     <use style=\"fill:#1f77b4;stroke:#1f77b4;\" x=\"127.718679\" xlink:href=\"#m78fcecfa1e\" y=\"139.108267\"/>\r\n     <use style=\"fill:#1f77b4;stroke:#1f77b4;\" x=\"94.051639\" xlink:href=\"#m78fcecfa1e\" y=\"131.760797\"/>\r\n     <use style=\"fill:#1f77b4;stroke:#1f77b4;\" x=\"136.220456\" xlink:href=\"#m78fcecfa1e\" y=\"117.839274\"/>\r\n     <use style=\"fill:#1f77b4;stroke:#1f77b4;\" x=\"84.189578\" xlink:href=\"#m78fcecfa1e\" y=\"162.181901\"/>\r\n     <use style=\"fill:#1f77b4;stroke:#1f77b4;\" x=\"111.055195\" xlink:href=\"#m78fcecfa1e\" y=\"141.299618\"/>\r\n     <use style=\"fill:#1f77b4;stroke:#1f77b4;\" x=\"85.549862\" xlink:href=\"#m78fcecfa1e\" y=\"141.557423\"/>\r\n     <use style=\"fill:#1f77b4;stroke:#1f77b4;\" x=\"127.718679\" xlink:href=\"#m78fcecfa1e\" y=\"85.420174\"/>\r\n     <use style=\"fill:#1f77b4;stroke:#1f77b4;\" x=\"111.055195\" xlink:href=\"#m78fcecfa1e\" y=\"107.398133\"/>\r\n     <use style=\"fill:#1f77b4;stroke:#1f77b4;\" x=\"136.560527\" xlink:href=\"#m78fcecfa1e\" y=\"61.444218\"/>\r\n     <use style=\"fill:#1f77b4;stroke:#1f77b4;\" x=\"255.925484\" xlink:href=\"#m78fcecfa1e\" y=\"68.598334\"/>\r\n     <use style=\"fill:#1f77b4;stroke:#1f77b4;\" x=\"220.558089\" xlink:href=\"#m78fcecfa1e\" y=\"108.364905\"/>\r\n     <use style=\"fill:#1f77b4;stroke:#1f77b4;\" x=\"78.068298\" xlink:href=\"#m78fcecfa1e\" y=\"201.690666\"/>\r\n     <use style=\"fill:#1f77b4;stroke:#1f77b4;\" x=\"77.048084\" xlink:href=\"#m78fcecfa1e\" y=\"154.189916\"/>\r\n     <use style=\"fill:#1f77b4;stroke:#1f77b4;\" x=\"102.893488\" xlink:href=\"#m78fcecfa1e\" y=\"142.653099\"/>\r\n     <use style=\"fill:#1f77b4;stroke:#1f77b4;\" x=\"85.549862\" xlink:href=\"#m78fcecfa1e\" y=\"164.759961\"/>\r\n     <use style=\"fill:#1f77b4;stroke:#1f77b4;\" x=\"111.395266\" xlink:href=\"#m78fcecfa1e\" y=\"149.291603\"/>\r\n     <use style=\"fill:#1f77b4;stroke:#1f77b4;\" x=\"69.226449\" xlink:href=\"#m78fcecfa1e\" y=\"151.160696\"/>\r\n     <use style=\"fill:#1f77b4;stroke:#1f77b4;\" x=\"102.553417\" xlink:href=\"#m78fcecfa1e\" y=\"153.416498\"/>\r\n     <use style=\"fill:#1f77b4;stroke:#1f77b4;\" x=\"118.536759\" xlink:href=\"#m78fcecfa1e\" y=\"173.912073\"/>\r\n     <use style=\"fill:#1f77b4;stroke:#1f77b4;\" x=\"93.371497\" xlink:href=\"#m78fcecfa1e\" y=\"141.557423\"/>\r\n     <use style=\"fill:#1f77b4;stroke:#1f77b4;\" x=\"94.051639\" xlink:href=\"#m78fcecfa1e\" y=\"128.215965\"/>\r\n     <use style=\"fill:#1f77b4;stroke:#1f77b4;\" x=\"102.553417\" xlink:href=\"#m78fcecfa1e\" y=\"129.247188\"/>\r\n     <use style=\"fill:#1f77b4;stroke:#1f77b4;\" x=\"145.062305\" xlink:href=\"#m78fcecfa1e\" y=\"126.217968\"/>\r\n     <use style=\"fill:#1f77b4;stroke:#1f77b4;\" x=\"111.735337\" xlink:href=\"#m78fcecfa1e\" y=\"120.481785\"/>\r\n     <use style=\"fill:#1f77b4;stroke:#1f77b4;\" x=\"103.233559\" xlink:href=\"#m78fcecfa1e\" y=\"116.936953\"/>\r\n     <use style=\"fill:#1f77b4;stroke:#1f77b4;\" x=\"121.257328\" xlink:href=\"#m78fcecfa1e\" y=\"146.455737\"/>\r\n     <use style=\"fill:#1f77b4;stroke:#1f77b4;\" x=\"102.553417\" xlink:href=\"#m78fcecfa1e\" y=\"147.358058\"/>\r\n     <use style=\"fill:#1f77b4;stroke:#1f77b4;\" x=\"101.873275\" xlink:href=\"#m78fcecfa1e\" y=\"157.283588\"/>\r\n     <use style=\"fill:#1f77b4;stroke:#1f77b4;\" x=\"128.05875\" xlink:href=\"#m78fcecfa1e\" y=\"130.987379\"/>\r\n     <use style=\"fill:#1f77b4;stroke:#1f77b4;\" x=\"120.917257\" xlink:href=\"#m78fcecfa1e\" y=\"160.312808\"/>\r\n     <use style=\"fill:#1f77b4;stroke:#1f77b4;\" x=\"95.071853\" xlink:href=\"#m78fcecfa1e\" y=\"166.113442\"/>\r\n     <use style=\"fill:#1f77b4;stroke:#1f77b4;\" x=\"136.220456\" xlink:href=\"#m78fcecfa1e\" y=\"147.615864\"/>\r\n     <use style=\"fill:#1f77b4;stroke:#1f77b4;\" x=\"94.051639\" xlink:href=\"#m78fcecfa1e\" y=\"143.233162\"/>\r\n     <use style=\"fill:#1f77b4;stroke:#1f77b4;\" x=\"102.553417\" xlink:href=\"#m78fcecfa1e\" y=\"134.274405\"/>\r\n     <use style=\"fill:#1f77b4;stroke:#1f77b4;\" x=\"93.711568\" xlink:href=\"#m78fcecfa1e\" y=\"113.907733\"/>\r\n     <use style=\"fill:#1f77b4;stroke:#1f77b4;\" x=\"127.378607\" xlink:href=\"#m78fcecfa1e\" y=\"78.201606\"/>\r\n     <use style=\"fill:#1f77b4;stroke:#1f77b4;\" x=\"170.907709\" xlink:href=\"#m78fcecfa1e\" y=\"150.387278\"/>\r\n     <use style=\"fill:#1f77b4;stroke:#1f77b4;\" x=\"196.413041\" xlink:href=\"#m78fcecfa1e\" y=\"145.74677\"/>\r\n     <use style=\"fill:#1f77b4;stroke:#1f77b4;\" x=\"162.405931\" xlink:href=\"#m78fcecfa1e\" y=\"92.574289\"/>\r\n     <use style=\"fill:#1f77b4;stroke:#1f77b4;\" x=\"221.918374\" xlink:href=\"#m78fcecfa1e\" y=\"70.983039\"/>\r\n     <use style=\"fill:#1f77b4;stroke:#1f77b4;\" x=\"102.553417\" xlink:href=\"#m78fcecfa1e\" y=\"87.611524\"/>\r\n     <use style=\"fill:#1f77b4;stroke:#1f77b4;\" x=\"87.250217\" xlink:href=\"#m78fcecfa1e\" y=\"118.806047\"/>\r\n     <use style=\"fill:#1f77b4;stroke:#1f77b4;\" x=\"86.230004\" xlink:href=\"#m78fcecfa1e\" y=\"160.570614\"/>\r\n     <use style=\"fill:#1f77b4;stroke:#1f77b4;\" x=\"86.230004\" xlink:href=\"#m78fcecfa1e\" y=\"146.842446\"/>\r\n     <use style=\"fill:#1f77b4;stroke:#1f77b4;\" x=\"145.062305\" xlink:href=\"#m78fcecfa1e\" y=\"184.933278\"/>\r\n     <use style=\"fill:#1f77b4;stroke:#1f77b4;\" x=\"94.051639\" xlink:href=\"#m78fcecfa1e\" y=\"188.02695\"/>\r\n     <use style=\"fill:#1f77b4;stroke:#1f77b4;\" x=\"85.549862\" xlink:href=\"#m78fcecfa1e\" y=\"194.923259\"/>\r\n     <use style=\"fill:#1f77b4;stroke:#1f77b4;\" x=\"85.549862\" xlink:href=\"#m78fcecfa1e\" y=\"159.152681\"/>\r\n     <use style=\"fill:#1f77b4;stroke:#1f77b4;\" x=\"77.728227\" xlink:href=\"#m78fcecfa1e\" y=\"174.556588\"/>\r\n     <use style=\"fill:#1f77b4;stroke:#1f77b4;\" x=\"102.553417\" xlink:href=\"#m78fcecfa1e\" y=\"149.227151\"/>\r\n     <use style=\"fill:#1f77b4;stroke:#1f77b4;\" x=\"94.051639\" xlink:href=\"#m78fcecfa1e\" y=\"118.225983\"/>\r\n     <use style=\"fill:#1f77b4;stroke:#1f77b4;\" x=\"102.553417\" xlink:href=\"#m78fcecfa1e\" y=\"147.100252\"/>\r\n     <use style=\"fill:#1f77b4;stroke:#1f77b4;\" x=\"102.553417\" xlink:href=\"#m78fcecfa1e\" y=\"165.662282\"/>\r\n     <use style=\"fill:#1f77b4;stroke:#1f77b4;\" x=\"119.216901\" xlink:href=\"#m78fcecfa1e\" y=\"107.784841\"/>\r\n     <use style=\"fill:#1f77b4;stroke:#1f77b4;\" x=\"94.051639\" xlink:href=\"#m78fcecfa1e\" y=\"155.801203\"/>\r\n     <use style=\"fill:#1f77b4;stroke:#1f77b4;\" x=\"110.715123\" xlink:href=\"#m78fcecfa1e\" y=\"115.325666\"/>\r\n     <use style=\"fill:#1f77b4;stroke:#1f77b4;\" x=\"94.051639\" xlink:href=\"#m78fcecfa1e\" y=\"130.213961\"/>\r\n     <use style=\"fill:#1f77b4;stroke:#1f77b4;\" x=\"94.051639\" xlink:href=\"#m78fcecfa1e\" y=\"144.715547\"/>\r\n     <use style=\"fill:#1f77b4;stroke:#1f77b4;\" x=\"102.553417\" xlink:href=\"#m78fcecfa1e\" y=\"112.03864\"/>\r\n     <use style=\"fill:#1f77b4;stroke:#1f77b4;\" x=\"102.553417\" xlink:href=\"#m78fcecfa1e\" y=\"137.110271\"/>\r\n     <use style=\"fill:#1f77b4;stroke:#1f77b4;\" x=\"102.553417\" xlink:href=\"#m78fcecfa1e\" y=\"156.51017\"/>\r\n     <use style=\"fill:#1f77b4;stroke:#1f77b4;\" x=\"102.553417\" xlink:href=\"#m78fcecfa1e\" y=\"168.62705\"/>\r\n     <use style=\"fill:#1f77b4;stroke:#1f77b4;\" x=\"106.63427\" xlink:href=\"#m78fcecfa1e\" y=\"151.225147\"/>\r\n     <use style=\"fill:#1f77b4;stroke:#1f77b4;\" x=\"85.549862\" xlink:href=\"#m78fcecfa1e\" y=\"131.567442\"/>\r\n     <use style=\"fill:#1f77b4;stroke:#1f77b4;\" x=\"85.889933\" xlink:href=\"#m78fcecfa1e\" y=\"119.38611\"/>\r\n     <use style=\"fill:#1f77b4;stroke:#1f77b4;\" x=\"86.230004\" xlink:href=\"#m78fcecfa1e\" y=\"146.069028\"/>\r\n     <use style=\"fill:#1f77b4;stroke:#1f77b4;\" x=\"77.728227\" xlink:href=\"#m78fcecfa1e\" y=\"132.920924\"/>\r\n     <use style=\"fill:#1f77b4;stroke:#1f77b4;\" x=\"102.553417\" xlink:href=\"#m78fcecfa1e\" y=\"111.007416\"/>\r\n     <use style=\"fill:#1f77b4;stroke:#1f77b4;\" x=\"285.171599\" xlink:href=\"#m78fcecfa1e\" y=\"55.772487\"/>\r\n     <use style=\"fill:#1f77b4;stroke:#1f77b4;\" x=\"187.911264\" xlink:href=\"#m78fcecfa1e\" y=\"56.803711\"/>\r\n     <use style=\"fill:#1f77b4;stroke:#1f77b4;\" x=\"179.069415\" xlink:href=\"#m78fcecfa1e\" y=\"64.924599\"/>\r\n     <use style=\"fill:#1f77b4;stroke:#1f77b4;\" x=\"206.615174\" xlink:href=\"#m78fcecfa1e\" y=\"55.256875\"/>\r\n     <use style=\"fill:#1f77b4;stroke:#1f77b4;\" x=\"342.303544\" xlink:href=\"#m78fcecfa1e\" y=\"68.147174\"/>\r\n     <use style=\"fill:#1f77b4;stroke:#1f77b4;\" x=\"105.273986\" xlink:href=\"#m78fcecfa1e\" y=\"189.960494\"/>\r\n     <use style=\"fill:#1f77b4;stroke:#1f77b4;\" x=\"77.388155\" xlink:href=\"#m78fcecfa1e\" y=\"210.198263\"/>\r\n     <use style=\"fill:#1f77b4;stroke:#1f77b4;\" x=\"102.553417\" xlink:href=\"#m78fcecfa1e\" y=\"169.271565\"/>\r\n     <use style=\"fill:#1f77b4;stroke:#1f77b4;\" x=\"77.048084\" xlink:href=\"#m78fcecfa1e\" y=\"177.521356\"/>\r\n     <use style=\"fill:#1f77b4;stroke:#1f77b4;\" x=\"128.05875\" xlink:href=\"#m78fcecfa1e\" y=\"114.358894\"/>\r\n     <use style=\"fill:#1f77b4;stroke:#1f77b4;\" x=\"102.553417\" xlink:href=\"#m78fcecfa1e\" y=\"157.090233\"/>\r\n     <use style=\"fill:#1f77b4;stroke:#1f77b4;\" x=\"110.715123\" xlink:href=\"#m78fcecfa1e\" y=\"165.275573\"/>\r\n     <use style=\"fill:#1f77b4;stroke:#1f77b4;\" x=\"137.580741\" xlink:href=\"#m78fcecfa1e\" y=\"169.400468\"/>\r\n     <use style=\"fill:#1f77b4;stroke:#1f77b4;\" x=\"127.718679\" xlink:href=\"#m78fcecfa1e\" y=\"157.670297\"/>\r\n     <use style=\"fill:#1f77b4;stroke:#1f77b4;\" x=\"85.549862\" xlink:href=\"#m78fcecfa1e\" y=\"140.719554\"/>\r\n     <use style=\"fill:#1f77b4;stroke:#1f77b4;\" x=\"68.546307\" xlink:href=\"#m78fcecfa1e\" y=\"150.000569\"/>\r\n     <use style=\"fill:#1f77b4;stroke:#1f77b4;\" x=\"94.051639\" xlink:href=\"#m78fcecfa1e\" y=\"141.492972\"/>\r\n     <use style=\"fill:#1f77b4;stroke:#1f77b4;\" x=\"118.196688\" xlink:href=\"#m78fcecfa1e\" y=\"161.215129\"/>\r\n     <use style=\"fill:#1f77b4;stroke:#1f77b4;\" x=\"103.57363\" xlink:href=\"#m78fcecfa1e\" y=\"161.601838\"/>\r\n     <use style=\"fill:#1f77b4;stroke:#1f77b4;\" x=\"104.593844\" xlink:href=\"#m78fcecfa1e\" y=\"166.177894\"/>\r\n     <use style=\"fill:#1f77b4;stroke:#1f77b4;\" x=\"94.391711\" xlink:href=\"#m78fcecfa1e\" y=\"153.803207\"/>\r\n     <use style=\"fill:#1f77b4;stroke:#1f77b4;\" x=\"110.715123\" xlink:href=\"#m78fcecfa1e\" y=\"149.871666\"/>\r\n     <use style=\"fill:#1f77b4;stroke:#1f77b4;\" x=\"137.240669\" xlink:href=\"#m78fcecfa1e\" y=\"125.380099\"/>\r\n     <use style=\"fill:#1f77b4;stroke:#1f77b4;\" x=\"94.051639\" xlink:href=\"#m78fcecfa1e\" y=\"160.055002\"/>\r\n     <use style=\"fill:#1f77b4;stroke:#1f77b4;\" x=\"136.220456\" xlink:href=\"#m78fcecfa1e\" y=\"150.000569\"/>\r\n     <use style=\"fill:#1f77b4;stroke:#1f77b4;\" x=\"85.549862\" xlink:href=\"#m78fcecfa1e\" y=\"139.430524\"/>\r\n     <use style=\"fill:#1f77b4;stroke:#1f77b4;\" x=\"115.136048\" xlink:href=\"#m78fcecfa1e\" y=\"143.426517\"/>\r\n     <use style=\"fill:#1f77b4;stroke:#1f77b4;\" x=\"145.062305\" xlink:href=\"#m78fcecfa1e\" y=\"118.354886\"/>\r\n     <use style=\"fill:#1f77b4;stroke:#1f77b4;\" x=\"103.913701\" xlink:href=\"#m78fcecfa1e\" y=\"145.940125\"/>\r\n     <use style=\"fill:#1f77b4;stroke:#1f77b4;\" x=\"94.391711\" xlink:href=\"#m78fcecfa1e\" y=\"114.229991\"/>\r\n     <use style=\"fill:#1f77b4;stroke:#1f77b4;\" x=\"162.06586\" xlink:href=\"#m78fcecfa1e\" y=\"49.649595\"/>\r\n     <use style=\"fill:#1f77b4;stroke:#1f77b4;\" x=\"245.043209\" xlink:href=\"#m78fcecfa1e\" y=\"56.030293\"/>\r\n     <use style=\"fill:#1f77b4;stroke:#1f77b4;\" x=\"256.945697\" xlink:href=\"#m78fcecfa1e\" y=\"43.977864\"/>\r\n     <use style=\"fill:#1f77b4;stroke:#1f77b4;\" x=\"310.33686\" xlink:href=\"#m78fcecfa1e\" y=\"41.593159\"/>\r\n     <use style=\"fill:#1f77b4;stroke:#1f77b4;\" x=\"155.264438\" xlink:href=\"#m78fcecfa1e\" y=\"65.053502\"/>\r\n     <use style=\"fill:#1f77b4;stroke:#1f77b4;\" x=\"216.137165\" xlink:href=\"#m78fcecfa1e\" y=\"108.880517\"/>\r\n     <use style=\"fill:#1f77b4;stroke:#1f77b4;\" x=\"94.731782\" xlink:href=\"#m78fcecfa1e\" y=\"188.413658\"/>\r\n     <use style=\"fill:#1f77b4;stroke:#1f77b4;\" x=\"111.055195\" xlink:href=\"#m78fcecfa1e\" y=\"193.24752\"/>\r\n     <use style=\"fill:#1f77b4;stroke:#1f77b4;\" x=\"112.75555\" xlink:href=\"#m78fcecfa1e\" y=\"164.502155\"/>\r\n     <use style=\"fill:#1f77b4;stroke:#1f77b4;\" x=\"94.051639\" xlink:href=\"#m78fcecfa1e\" y=\"173.525364\"/>\r\n     <use style=\"fill:#1f77b4;stroke:#1f77b4;\" x=\"102.553417\" xlink:href=\"#m78fcecfa1e\" y=\"181.646252\"/>\r\n     <use style=\"fill:#1f77b4;stroke:#1f77b4;\" x=\"68.546307\" xlink:href=\"#m78fcecfa1e\" y=\"198.983703\"/>\r\n     <use style=\"fill:#1f77b4;stroke:#1f77b4;\" x=\"94.051639\" xlink:href=\"#m78fcecfa1e\" y=\"165.275573\"/>\r\n     <use style=\"fill:#1f77b4;stroke:#1f77b4;\" x=\"85.549862\" xlink:href=\"#m78fcecfa1e\" y=\"157.348039\"/>\r\n     <use style=\"fill:#1f77b4;stroke:#1f77b4;\" x=\"102.553417\" xlink:href=\"#m78fcecfa1e\" y=\"132.792021\"/>\r\n     <use style=\"fill:#1f77b4;stroke:#1f77b4;\" x=\"102.893488\" xlink:href=\"#m78fcecfa1e\" y=\"140.075039\"/>\r\n     <use style=\"fill:#1f77b4;stroke:#1f77b4;\" x=\"161.385718\" xlink:href=\"#m78fcecfa1e\" y=\"143.426517\"/>\r\n     <use style=\"fill:#1f77b4;stroke:#1f77b4;\" x=\"128.05875\" xlink:href=\"#m78fcecfa1e\" y=\"115.454569\"/>\r\n     <use style=\"fill:#1f77b4;stroke:#1f77b4;\" x=\"102.553417\" xlink:href=\"#m78fcecfa1e\" y=\"146.391285\"/>\r\n     <use style=\"fill:#1f77b4;stroke:#1f77b4;\" x=\"94.051639\" xlink:href=\"#m78fcecfa1e\" y=\"164.502155\"/>\r\n     <use style=\"fill:#1f77b4;stroke:#1f77b4;\" x=\"85.549862\" xlink:href=\"#m78fcecfa1e\" y=\"152.64308\"/>\r\n     <use style=\"fill:#1f77b4;stroke:#1f77b4;\" x=\"77.048084\" xlink:href=\"#m78fcecfa1e\" y=\"123.2532\"/>\r\n     <use style=\"fill:#1f77b4;stroke:#1f77b4;\" x=\"154.924367\" xlink:href=\"#m78fcecfa1e\" y=\"105.077879\"/>\r\n     <use style=\"fill:#1f77b4;stroke:#1f77b4;\" x=\"119.556972\" xlink:href=\"#m78fcecfa1e\" y=\"125.122293\"/>\r\n     <use style=\"fill:#1f77b4;stroke:#1f77b4;\" x=\"102.553417\" xlink:href=\"#m78fcecfa1e\" y=\"153.609853\"/>\r\n     <use style=\"fill:#1f77b4;stroke:#1f77b4;\" x=\"68.546307\" xlink:href=\"#m78fcecfa1e\" y=\"129.698349\"/>\r\n     <use style=\"fill:#1f77b4;stroke:#1f77b4;\" x=\"127.718679\" xlink:href=\"#m78fcecfa1e\" y=\"88.191588\"/>\r\n     <use style=\"fill:#1f77b4;stroke:#1f77b4;\" x=\"189.95169\" xlink:href=\"#m78fcecfa1e\" y=\"88.191588\"/>\r\n     <use style=\"fill:#1f77b4;stroke:#1f77b4;\" x=\"143.361949\" xlink:href=\"#m78fcecfa1e\" y=\"72.272069\"/>\r\n     <use style=\"fill:#1f77b4;stroke:#1f77b4;\" x=\"136.560527\" xlink:href=\"#m78fcecfa1e\" y=\"69.371752\"/>\r\n     <use style=\"fill:#1f77b4;stroke:#1f77b4;\" x=\"211.036099\" xlink:href=\"#m78fcecfa1e\" y=\"68.147174\"/>\r\n     <use style=\"fill:#1f77b4;stroke:#1f77b4;\" x=\"127.718679\" xlink:href=\"#m78fcecfa1e\" y=\"88.771651\"/>\r\n     <use style=\"fill:#1f77b4;stroke:#1f77b4;\" x=\"256.605626\" xlink:href=\"#m78fcecfa1e\" y=\"63.635569\"/>\r\n     <use style=\"fill:#1f77b4;stroke:#1f77b4;\" x=\"372.909943\" xlink:href=\"#m78fcecfa1e\" y=\"60.090737\"/>\r\n     <use style=\"fill:#1f77b4;stroke:#1f77b4;\" x=\"288.232239\" xlink:href=\"#m78fcecfa1e\" y=\"59.188416\"/>\r\n     <use style=\"fill:#1f77b4;stroke:#1f77b4;\" x=\"246.403493\" xlink:href=\"#m78fcecfa1e\" y=\"106.495812\"/>\r\n     <use style=\"fill:#1f77b4;stroke:#1f77b4;\" x=\"98.132493\" xlink:href=\"#m78fcecfa1e\" y=\"208.715879\"/>\r\n     <use style=\"fill:#1f77b4;stroke:#1f77b4;\" x=\"68.546307\" xlink:href=\"#m78fcecfa1e\" y=\"187.317983\"/>\r\n     <use style=\"fill:#1f77b4;stroke:#1f77b4;\" x=\"85.549862\" xlink:href=\"#m78fcecfa1e\" y=\"195.503323\"/>\r\n     <use style=\"fill:#1f77b4;stroke:#1f77b4;\" x=\"80.788866\" xlink:href=\"#m78fcecfa1e\" y=\"151.611856\"/>\r\n     <use style=\"fill:#1f77b4;stroke:#1f77b4;\" x=\"101.533204\" xlink:href=\"#m78fcecfa1e\" y=\"161.344032\"/>\r\n     <use style=\"fill:#1f77b4;stroke:#1f77b4;\" x=\"111.055195\" xlink:href=\"#m78fcecfa1e\" y=\"146.971349\"/>\r\n     <use style=\"fill:#1f77b4;stroke:#1f77b4;\" x=\"68.546307\" xlink:href=\"#m78fcecfa1e\" y=\"150.06502\"/>\r\n     <use style=\"fill:#1f77b4;stroke:#1f77b4;\" x=\"68.886378\" xlink:href=\"#m78fcecfa1e\" y=\"154.834431\"/>\r\n     <use style=\"fill:#1f77b4;stroke:#1f77b4;\" x=\"77.388155\" xlink:href=\"#m78fcecfa1e\" y=\"189.122625\"/>\r\n     <use style=\"fill:#1f77b4;stroke:#1f77b4;\" x=\"96.432137\" xlink:href=\"#m78fcecfa1e\" y=\"161.537386\"/>\r\n     <use style=\"fill:#1f77b4;stroke:#1f77b4;\" x=\"94.051639\" xlink:href=\"#m78fcecfa1e\" y=\"134.983371\"/>\r\n     <use style=\"fill:#1f77b4;stroke:#1f77b4;\" x=\"102.553417\" xlink:href=\"#m78fcecfa1e\" y=\"138.786009\"/>\r\n     <use style=\"fill:#1f77b4;stroke:#1f77b4;\" x=\"102.553417\" xlink:href=\"#m78fcecfa1e\" y=\"142.653099\"/>\r\n     <use style=\"fill:#1f77b4;stroke:#1f77b4;\" x=\"127.718679\" xlink:href=\"#m78fcecfa1e\" y=\"155.092237\"/>\r\n     <use style=\"fill:#1f77b4;stroke:#1f77b4;\" x=\"94.731782\" xlink:href=\"#m78fcecfa1e\" y=\"149.033797\"/>\r\n     <use style=\"fill:#1f77b4;stroke:#1f77b4;\" x=\"86.230004\" xlink:href=\"#m78fcecfa1e\" y=\"166.242345\"/>\r\n     <use style=\"fill:#1f77b4;stroke:#1f77b4;\" x=\"119.556972\" xlink:href=\"#m78fcecfa1e\" y=\"158.637069\"/>\r\n     <use style=\"fill:#1f77b4;stroke:#1f77b4;\" x=\"77.048084\" xlink:href=\"#m78fcecfa1e\" y=\"179.39045\"/>\r\n     <use style=\"fill:#1f77b4;stroke:#1f77b4;\" x=\"77.048084\" xlink:href=\"#m78fcecfa1e\" y=\"153.158692\"/>\r\n     <use style=\"fill:#1f77b4;stroke:#1f77b4;\" x=\"94.051639\" xlink:href=\"#m78fcecfa1e\" y=\"151.35405\"/>\r\n     <use style=\"fill:#1f77b4;stroke:#1f77b4;\" x=\"95.411924\" xlink:href=\"#m78fcecfa1e\" y=\"138.528203\"/>\r\n     <use style=\"fill:#1f77b4;stroke:#1f77b4;\" x=\"127.718679\" xlink:href=\"#m78fcecfa1e\" y=\"83.228823\"/>\r\n     <use style=\"fill:#1f77b4;stroke:#1f77b4;\" x=\"162.06586\" xlink:href=\"#m78fcecfa1e\" y=\"79.297282\"/>\r\n     <use style=\"fill:#1f77b4;stroke:#1f77b4;\" x=\"102.553417\" xlink:href=\"#m78fcecfa1e\" y=\"125.702356\"/>\r\n     <use style=\"fill:#1f77b4;stroke:#1f77b4;\" x=\"119.556972\" xlink:href=\"#m78fcecfa1e\" y=\"97.665957\"/>\r\n     <use style=\"fill:#1f77b4;stroke:#1f77b4;\" x=\"128.738892\" xlink:href=\"#m78fcecfa1e\" y=\"68.791689\"/>\r\n     <use style=\"fill:#1f77b4;stroke:#1f77b4;\" x=\"111.055195\" xlink:href=\"#m78fcecfa1e\" y=\"42.624383\"/>\r\n     <use style=\"fill:#1f77b4;stroke:#1f77b4;\" x=\"162.746002\" xlink:href=\"#m78fcecfa1e\" y=\"40.561935\"/>\r\n     <use style=\"fill:#1f77b4;stroke:#1f77b4;\" x=\"147.102731\" xlink:href=\"#m78fcecfa1e\" y=\"44.751282\"/>\r\n     <use style=\"fill:#1f77b4;stroke:#1f77b4;\" x=\"239.942142\" xlink:href=\"#m78fcecfa1e\" y=\"84.84011\"/>\r\n     <use style=\"fill:#1f77b4;stroke:#1f77b4;\" x=\"85.209791\" xlink:href=\"#m78fcecfa1e\" y=\"220.703856\"/>\r\n     <use style=\"fill:#1f77b4;stroke:#1f77b4;\" x=\"85.889933\" xlink:href=\"#m78fcecfa1e\" y=\"217.223476\"/>\r\n     <use style=\"fill:#1f77b4;stroke:#1f77b4;\" x=\"86.910146\" xlink:href=\"#m78fcecfa1e\" y=\"166.822409\"/>\r\n     <use style=\"fill:#1f77b4;stroke:#1f77b4;\" x=\"116.156261\" xlink:href=\"#m78fcecfa1e\" y=\"138.914912\"/>\r\n     <use style=\"fill:#1f77b4;stroke:#1f77b4;\" x=\"85.889933\" xlink:href=\"#m78fcecfa1e\" y=\"173.332009\"/>\r\n     <use style=\"fill:#1f77b4;stroke:#1f77b4;\" x=\"68.546307\" xlink:href=\"#m78fcecfa1e\" y=\"165.662282\"/>\r\n     <use style=\"fill:#1f77b4;stroke:#1f77b4;\" x=\"85.549862\" xlink:href=\"#m78fcecfa1e\" y=\"172.558591\"/>\r\n     <use style=\"fill:#1f77b4;stroke:#1f77b4;\" x=\"94.051639\" xlink:href=\"#m78fcecfa1e\" y=\"161.021774\"/>\r\n     <use style=\"fill:#1f77b4;stroke:#1f77b4;\" x=\"77.388155\" xlink:href=\"#m78fcecfa1e\" y=\"145.102256\"/>\r\n     <use style=\"fill:#1f77b4;stroke:#1f77b4;\" x=\"85.549862\" xlink:href=\"#m78fcecfa1e\" y=\"175.330006\"/>\r\n     <use style=\"fill:#1f77b4;stroke:#1f77b4;\" x=\"77.048084\" xlink:href=\"#m78fcecfa1e\" y=\"194.08539\"/>\r\n     <use style=\"fill:#1f77b4;stroke:#1f77b4;\" x=\"111.735337\" xlink:href=\"#m78fcecfa1e\" y=\"127.184741\"/>\r\n     <use style=\"fill:#1f77b4;stroke:#1f77b4;\" x=\"128.05875\" xlink:href=\"#m78fcecfa1e\" y=\"160.892871\"/>\r\n     <use style=\"fill:#1f77b4;stroke:#1f77b4;\" x=\"94.051639\" xlink:href=\"#m78fcecfa1e\" y=\"155.994558\"/>\r\n     <use style=\"fill:#1f77b4;stroke:#1f77b4;\" x=\"102.553417\" xlink:href=\"#m78fcecfa1e\" y=\"179.970513\"/>\r\n     <use style=\"fill:#1f77b4;stroke:#1f77b4;\" x=\"178.729344\" xlink:href=\"#m78fcecfa1e\" y=\"175.910069\"/>\r\n     <use style=\"fill:#1f77b4;stroke:#1f77b4;\" x=\"263.747119\" xlink:href=\"#m78fcecfa1e\" y=\"129.698349\"/>\r\n     <use style=\"fill:#1f77b4;stroke:#1f77b4;\" x=\"223.618729\" xlink:href=\"#m78fcecfa1e\" y=\"80.199603\"/>\r\n     <use style=\"fill:#1f77b4;stroke:#1f77b4;\" x=\"120.237114\" xlink:href=\"#m78fcecfa1e\" y=\"105.915748\"/>\r\n     <use style=\"fill:#1f77b4;stroke:#1f77b4;\" x=\"77.048084\" xlink:href=\"#m78fcecfa1e\" y=\"141.428521\"/>\r\n     <use style=\"fill:#1f77b4;stroke:#1f77b4;\" x=\"129.078963\" xlink:href=\"#m78fcecfa1e\" y=\"128.473771\"/>\r\n     <use style=\"fill:#1f77b4;stroke:#1f77b4;\" x=\"77.048084\" xlink:href=\"#m78fcecfa1e\" y=\"116.80805\"/>\r\n     <use style=\"fill:#1f77b4;stroke:#1f77b4;\" x=\"128.05875\" xlink:href=\"#m78fcecfa1e\" y=\"136.788013\"/>\r\n     <use style=\"fill:#1f77b4;stroke:#1f77b4;\" x=\"85.549862\" xlink:href=\"#m78fcecfa1e\" y=\"110.427353\"/>\r\n     <use style=\"fill:#1f77b4;stroke:#1f77b4;\" x=\"110.034981\" xlink:href=\"#m78fcecfa1e\" y=\"74.785677\"/>\r\n     <use style=\"fill:#1f77b4;stroke:#1f77b4;\" x=\"119.216901\" xlink:href=\"#m78fcecfa1e\" y=\"79.941797\"/>\r\n     <use style=\"fill:#1f77b4;stroke:#1f77b4;\" x=\"228.379725\" xlink:href=\"#m78fcecfa1e\" y=\"69.178397\"/>\r\n     <use style=\"fill:#1f77b4;stroke:#1f77b4;\" x=\"205.935032\" xlink:href=\"#m78fcecfa1e\" y=\"52.678815\"/>\r\n     <use style=\"fill:#1f77b4;stroke:#1f77b4;\" x=\"284.831528\" xlink:href=\"#m78fcecfa1e\" y=\"31.989886\"/>\r\n     <use style=\"fill:#1f77b4;stroke:#1f77b4;\" x=\"77.728227\" xlink:href=\"#m78fcecfa1e\" y=\"47.393793\"/>\r\n     <use style=\"fill:#1f77b4;stroke:#1f77b4;\" x=\"136.560527\" xlink:href=\"#m78fcecfa1e\" y=\"79.039476\"/>\r\n     <use style=\"fill:#1f77b4;stroke:#1f77b4;\" x=\"68.546307\" xlink:href=\"#m78fcecfa1e\" y=\"229.662614\"/>\r\n     <use style=\"fill:#1f77b4;stroke:#1f77b4;\" x=\"102.553417\" xlink:href=\"#m78fcecfa1e\" y=\"174.169879\"/>\r\n     <use style=\"fill:#1f77b4;stroke:#1f77b4;\" x=\"69.226449\" xlink:href=\"#m78fcecfa1e\" y=\"186.931274\"/>\r\n     <use style=\"fill:#1f77b4;stroke:#1f77b4;\" x=\"118.87683\" xlink:href=\"#m78fcecfa1e\" y=\"179.712707\"/>\r\n     <use style=\"fill:#1f77b4;stroke:#1f77b4;\" x=\"76.708013\" xlink:href=\"#m78fcecfa1e\" y=\"171.011756\"/>\r\n     <use style=\"fill:#1f77b4;stroke:#1f77b4;\" x=\"94.051639\" xlink:href=\"#m78fcecfa1e\" y=\"158.379263\"/>\r\n     <use style=\"fill:#1f77b4;stroke:#1f77b4;\" x=\"85.549862\" xlink:href=\"#m78fcecfa1e\" y=\"188.413658\"/>\r\n     <use style=\"fill:#1f77b4;stroke:#1f77b4;\" x=\"111.055195\" xlink:href=\"#m78fcecfa1e\" y=\"167.273569\"/>\r\n     <use style=\"fill:#1f77b4;stroke:#1f77b4;\" x=\"136.560527\" xlink:href=\"#m78fcecfa1e\" y=\"112.360897\"/>\r\n     <use style=\"fill:#1f77b4;stroke:#1f77b4;\" x=\"95.751995\" xlink:href=\"#m78fcecfa1e\" y=\"171.914076\"/>\r\n     <use style=\"fill:#1f77b4;stroke:#1f77b4;\" x=\"94.051639\" xlink:href=\"#m78fcecfa1e\" y=\"175.201103\"/>\r\n     <use style=\"fill:#1f77b4;stroke:#1f77b4;\" x=\"89.970786\" xlink:href=\"#m78fcecfa1e\" y=\"183.966506\"/>\r\n     <use style=\"fill:#1f77b4;stroke:#1f77b4;\" x=\"85.889933\" xlink:href=\"#m78fcecfa1e\" y=\"191.894039\"/>\r\n     <use style=\"fill:#1f77b4;stroke:#1f77b4;\" x=\"77.048084\" xlink:href=\"#m78fcecfa1e\" y=\"164.244349\"/>\r\n     <use style=\"fill:#1f77b4;stroke:#1f77b4;\" x=\"86.570075\" xlink:href=\"#m78fcecfa1e\" y=\"147.358058\"/>\r\n     <use style=\"fill:#1f77b4;stroke:#1f77b4;\" x=\"106.63427\" xlink:href=\"#m78fcecfa1e\" y=\"152.449726\"/>\r\n     <use style=\"fill:#1f77b4;stroke:#1f77b4;\" x=\"83.169364\" xlink:href=\"#m78fcecfa1e\" y=\"129.633897\"/>\r\n     <use style=\"fill:#1f77b4;stroke:#1f77b4;\" x=\"68.886378\" xlink:href=\"#m78fcecfa1e\" y=\"192.79636\"/>\r\n     <use style=\"fill:#1f77b4;stroke:#1f77b4;\" x=\"94.051639\" xlink:href=\"#m78fcecfa1e\" y=\"114.6167\"/>\r\n     <use style=\"fill:#1f77b4;stroke:#1f77b4;\" x=\"122.617612\" xlink:href=\"#m78fcecfa1e\" y=\"147.744767\"/>\r\n     <use style=\"fill:#1f77b4;stroke:#1f77b4;\" x=\"110.715123\" xlink:href=\"#m78fcecfa1e\" y=\"102.435368\"/>\r\n     <use style=\"fill:#1f77b4;stroke:#1f77b4;\" x=\"116.156261\" xlink:href=\"#m78fcecfa1e\" y=\"138.657106\"/>\r\n     <use style=\"fill:#1f77b4;stroke:#1f77b4;\" x=\"135.880385\" xlink:href=\"#m78fcecfa1e\" y=\"149.678312\"/>\r\n     <use style=\"fill:#1f77b4;stroke:#1f77b4;\" x=\"85.549862\" xlink:href=\"#m78fcecfa1e\" y=\"129.504994\"/>\r\n     <use style=\"fill:#1f77b4;stroke:#1f77b4;\" x=\"161.385718\" xlink:href=\"#m78fcecfa1e\" y=\"113.907733\"/>\r\n     <use style=\"fill:#1f77b4;stroke:#1f77b4;\" x=\"85.549862\" xlink:href=\"#m78fcecfa1e\" y=\"134.532211\"/>\r\n     <use style=\"fill:#1f77b4;stroke:#1f77b4;\" x=\"119.556972\" xlink:href=\"#m78fcecfa1e\" y=\"57.899386\"/>\r\n     <use style=\"fill:#1f77b4;stroke:#1f77b4;\" x=\"145.062305\" xlink:href=\"#m78fcecfa1e\" y=\"40.304129\"/>\r\n     <use style=\"fill:#1f77b4;stroke:#1f77b4;\" x=\"128.398821\" xlink:href=\"#m78fcecfa1e\" y=\"40.755289\"/>\r\n     <use style=\"fill:#1f77b4;stroke:#1f77b4;\" x=\"81.80908\" xlink:href=\"#m78fcecfa1e\" y=\"39.659614\"/>\r\n     <use style=\"fill:#1f77b4;stroke:#1f77b4;\" x=\"76.367942\" xlink:href=\"#m78fcecfa1e\" y=\"176.296778\"/>\r\n     <use style=\"fill:#1f77b4;stroke:#1f77b4;\" x=\"68.546307\" xlink:href=\"#m78fcecfa1e\" y=\"211.680647\"/>\r\n     <use style=\"fill:#1f77b4;stroke:#1f77b4;\" x=\"114.795977\" xlink:href=\"#m78fcecfa1e\" y=\"194.53655\"/>\r\n     <use style=\"fill:#1f77b4;stroke:#1f77b4;\" x=\"68.546307\" xlink:href=\"#m78fcecfa1e\" y=\"195.890032\"/>\r\n     <use style=\"fill:#1f77b4;stroke:#1f77b4;\" x=\"114.455906\" xlink:href=\"#m78fcecfa1e\" y=\"179.906061\"/>\r\n     <use style=\"fill:#1f77b4;stroke:#1f77b4;\" x=\"77.388155\" xlink:href=\"#m78fcecfa1e\" y=\"182.41967\"/>\r\n     <use style=\"fill:#1f77b4;stroke:#1f77b4;\" x=\"85.549862\" xlink:href=\"#m78fcecfa1e\" y=\"170.302789\"/>\r\n     <use style=\"fill:#1f77b4;stroke:#1f77b4;\" x=\"68.546307\" xlink:href=\"#m78fcecfa1e\" y=\"177.843614\"/>\r\n     <use style=\"fill:#1f77b4;stroke:#1f77b4;\" x=\"85.549862\" xlink:href=\"#m78fcecfa1e\" y=\"162.11745\"/>\r\n     <use style=\"fill:#1f77b4;stroke:#1f77b4;\" x=\"68.546307\" xlink:href=\"#m78fcecfa1e\" y=\"144.779998\"/>\r\n     <use style=\"fill:#1f77b4;stroke:#1f77b4;\" x=\"85.549862\" xlink:href=\"#m78fcecfa1e\" y=\"146.197931\"/>\r\n     <use style=\"fill:#1f77b4;stroke:#1f77b4;\" x=\"94.051639\" xlink:href=\"#m78fcecfa1e\" y=\"134.725565\"/>\r\n     <use style=\"fill:#1f77b4;stroke:#1f77b4;\" x=\"77.048084\" xlink:href=\"#m78fcecfa1e\" y=\"130.020606\"/>\r\n     <use style=\"fill:#1f77b4;stroke:#1f77b4;\" x=\"136.560527\" xlink:href=\"#m78fcecfa1e\" y=\"125.960162\"/>\r\n     <use style=\"fill:#1f77b4;stroke:#1f77b4;\" x=\"90.650928\" xlink:href=\"#m78fcecfa1e\" y=\"145.682319\"/>\r\n     <use style=\"fill:#1f77b4;stroke:#1f77b4;\" x=\"121.597399\" xlink:href=\"#m78fcecfa1e\" y=\"171.20511\"/>\r\n     <use style=\"fill:#1f77b4;stroke:#1f77b4;\" x=\"85.889933\" xlink:href=\"#m78fcecfa1e\" y=\"161.215129\"/>\r\n     <use style=\"fill:#1f77b4;stroke:#1f77b4;\" x=\"111.395266\" xlink:href=\"#m78fcecfa1e\" y=\"147.358058\"/>\r\n     <use style=\"fill:#1f77b4;stroke:#1f77b4;\" x=\"77.048084\" xlink:href=\"#m78fcecfa1e\" y=\"189.896043\"/>\r\n     <use style=\"fill:#1f77b4;stroke:#1f77b4;\" x=\"77.048084\" xlink:href=\"#m78fcecfa1e\" y=\"172.623043\"/>\r\n     <use style=\"fill:#1f77b4;stroke:#1f77b4;\" x=\"153.564082\" xlink:href=\"#m78fcecfa1e\" y=\"176.81239\"/>\r\n     <use style=\"fill:#1f77b4;stroke:#1f77b4;\" x=\"94.051639\" xlink:href=\"#m78fcecfa1e\" y=\"119.837271\"/>\r\n     <use style=\"fill:#1f77b4;stroke:#1f77b4;\" x=\"78.068298\" xlink:href=\"#m78fcecfa1e\" y=\"130.536218\"/>\r\n     <use style=\"fill:#1f77b4;stroke:#1f77b4;\" x=\"128.738892\" xlink:href=\"#m78fcecfa1e\" y=\"140.784006\"/>\r\n     <use style=\"fill:#1f77b4;stroke:#1f77b4;\" x=\"77.048084\" xlink:href=\"#m78fcecfa1e\" y=\"108.687162\"/>\r\n     <use style=\"fill:#1f77b4;stroke:#1f77b4;\" x=\"102.553417\" xlink:href=\"#m78fcecfa1e\" y=\"115.519021\"/>\r\n     <use style=\"fill:#1f77b4;stroke:#1f77b4;\" x=\"68.546307\" xlink:href=\"#m78fcecfa1e\" y=\"81.875342\"/>\r\n     <use style=\"fill:#1f77b4;stroke:#1f77b4;\" x=\"68.886378\" xlink:href=\"#m78fcecfa1e\" y=\"112.683155\"/>\r\n     <use style=\"fill:#1f77b4;stroke:#1f77b4;\" x=\"112.075408\" xlink:href=\"#m78fcecfa1e\" y=\"77.9438\"/>\r\n     <use style=\"fill:#1f77b4;stroke:#1f77b4;\" x=\"162.405931\" xlink:href=\"#m78fcecfa1e\" y=\"67.696013\"/>\r\n     <use style=\"fill:#1f77b4;stroke:#1f77b4;\" x=\"111.055195\" xlink:href=\"#m78fcecfa1e\" y=\"75.687998\"/>\r\n     <use style=\"fill:#1f77b4;stroke:#1f77b4;\" x=\"84.86972\" xlink:href=\"#m78fcecfa1e\" y=\"175.458909\"/>\r\n     <use style=\"fill:#1f77b4;stroke:#1f77b4;\" x=\"68.546307\" xlink:href=\"#m78fcecfa1e\" y=\"222.186241\"/>\r\n     <use style=\"fill:#1f77b4;stroke:#1f77b4;\" x=\"77.728227\" xlink:href=\"#m78fcecfa1e\" y=\"194.407647\"/>\r\n     <use style=\"fill:#1f77b4;stroke:#1f77b4;\" x=\"81.80908\" xlink:href=\"#m78fcecfa1e\" y=\"178.939289\"/>\r\n     <use style=\"fill:#1f77b4;stroke:#1f77b4;\" x=\"85.549862\" xlink:href=\"#m78fcecfa1e\" y=\"178.874838\"/>\r\n     <use style=\"fill:#1f77b4;stroke:#1f77b4;\" x=\"112.75555\" xlink:href=\"#m78fcecfa1e\" y=\"165.984539\"/>\r\n     <use style=\"fill:#1f77b4;stroke:#1f77b4;\" x=\"82.489222\" xlink:href=\"#m78fcecfa1e\" y=\"211.680647\"/>\r\n     <use style=\"fill:#1f77b4;stroke:#1f77b4;\" x=\"76.708013\" xlink:href=\"#m78fcecfa1e\" y=\"169.336017\"/>\r\n     <use style=\"fill:#1f77b4;stroke:#1f77b4;\" x=\"89.970786\" xlink:href=\"#m78fcecfa1e\" y=\"153.287595\"/>\r\n     <use style=\"fill:#1f77b4;stroke:#1f77b4;\" x=\"77.048084\" xlink:href=\"#m78fcecfa1e\" y=\"184.15986\"/>\r\n     <use style=\"fill:#1f77b4;stroke:#1f77b4;\" x=\"77.048084\" xlink:href=\"#m78fcecfa1e\" y=\"181.066188\"/>\r\n     <use style=\"fill:#1f77b4;stroke:#1f77b4;\" x=\"111.055195\" xlink:href=\"#m78fcecfa1e\" y=\"131.825248\"/>\r\n     <use style=\"fill:#1f77b4;stroke:#1f77b4;\" x=\"94.391711\" xlink:href=\"#m78fcecfa1e\" y=\"163.213125\"/>\r\n     <use style=\"fill:#1f77b4;stroke:#1f77b4;\" x=\"85.889933\" xlink:href=\"#m78fcecfa1e\" y=\"166.048991\"/>\r\n     <use style=\"fill:#1f77b4;stroke:#1f77b4;\" x=\"111.395266\" xlink:href=\"#m78fcecfa1e\" y=\"144.715547\"/>\r\n     <use style=\"fill:#1f77b4;stroke:#1f77b4;\" x=\"106.294199\" xlink:href=\"#m78fcecfa1e\" y=\"144.328838\"/>\r\n     <use style=\"fill:#1f77b4;stroke:#1f77b4;\" x=\"77.048084\" xlink:href=\"#m78fcecfa1e\" y=\"179.906061\"/>\r\n     <use style=\"fill:#1f77b4;stroke:#1f77b4;\" x=\"81.469009\" xlink:href=\"#m78fcecfa1e\" y=\"178.617032\"/>\r\n     <use style=\"fill:#1f77b4;stroke:#1f77b4;\" x=\"85.549862\" xlink:href=\"#m78fcecfa1e\" y=\"131.954151\"/>\r\n     <use style=\"fill:#1f77b4;stroke:#1f77b4;\" x=\"85.549862\" xlink:href=\"#m78fcecfa1e\" y=\"136.079047\"/>\r\n     <use style=\"fill:#1f77b4;stroke:#1f77b4;\" x=\"68.886378\" xlink:href=\"#m78fcecfa1e\" y=\"143.233162\"/>\r\n     <use style=\"fill:#1f77b4;stroke:#1f77b4;\" x=\"85.549862\" xlink:href=\"#m78fcecfa1e\" y=\"132.985375\"/>\r\n     <use style=\"fill:#1f77b4;stroke:#1f77b4;\" x=\"77.388155\" xlink:href=\"#m78fcecfa1e\" y=\"94.701188\"/>\r\n     <use style=\"fill:#1f77b4;stroke:#1f77b4;\" x=\"72.967231\" xlink:href=\"#m78fcecfa1e\" y=\"143.813226\"/>\r\n     <use style=\"fill:#1f77b4;stroke:#1f77b4;\" x=\"85.549862\" xlink:href=\"#m78fcecfa1e\" y=\"137.432528\"/>\r\n     <use style=\"fill:#1f77b4;stroke:#1f77b4;\" x=\"77.048084\" xlink:href=\"#m78fcecfa1e\" y=\"93.541062\"/>\r\n     <use style=\"fill:#1f77b4;stroke:#1f77b4;\" x=\"111.055195\" xlink:href=\"#m78fcecfa1e\" y=\"138.077043\"/>\r\n     <use style=\"fill:#1f77b4;stroke:#1f77b4;\" x=\"102.213346\" xlink:href=\"#m78fcecfa1e\" y=\"114.101088\"/>\r\n     <use style=\"fill:#1f77b4;stroke:#1f77b4;\" x=\"77.048084\" xlink:href=\"#m78fcecfa1e\" y=\"91.285259\"/>\r\n     <use style=\"fill:#1f77b4;stroke:#1f77b4;\" x=\"102.213346\" xlink:href=\"#m78fcecfa1e\" y=\"79.103927\"/>\r\n     <use style=\"fill:#1f77b4;stroke:#1f77b4;\" x=\"85.549862\" xlink:href=\"#m78fcecfa1e\" y=\"69.565106\"/>\r\n     <use style=\"fill:#1f77b4;stroke:#1f77b4;\" x=\"86.230004\" xlink:href=\"#m78fcecfa1e\" y=\"169.336017\"/>\r\n     <use style=\"fill:#1f77b4;stroke:#1f77b4;\" x=\"68.546307\" xlink:href=\"#m78fcecfa1e\" y=\"201.368408\"/>\r\n     <use style=\"fill:#1f77b4;stroke:#1f77b4;\" x=\"68.546307\" xlink:href=\"#m78fcecfa1e\" y=\"206.588979\"/>\r\n     <use style=\"fill:#1f77b4;stroke:#1f77b4;\" x=\"77.048084\" xlink:href=\"#m78fcecfa1e\" y=\"210.262714\"/>\r\n     <use style=\"fill:#1f77b4;stroke:#1f77b4;\" x=\"98.472564\" xlink:href=\"#m78fcecfa1e\" y=\"202.592987\"/>\r\n     <use style=\"fill:#1f77b4;stroke:#1f77b4;\" x=\"77.048084\" xlink:href=\"#m78fcecfa1e\" y=\"192.151845\"/>\r\n     <use style=\"fill:#1f77b4;stroke:#1f77b4;\" x=\"85.549862\" xlink:href=\"#m78fcecfa1e\" y=\"186.544565\"/>\r\n     <use style=\"fill:#1f77b4;stroke:#1f77b4;\" x=\"111.395266\" xlink:href=\"#m78fcecfa1e\" y=\"189.831591\"/>\r\n     <use style=\"fill:#1f77b4;stroke:#1f77b4;\" x=\"68.546307\" xlink:href=\"#m78fcecfa1e\" y=\"206.460076\"/>\r\n     <use style=\"fill:#1f77b4;stroke:#1f77b4;\" x=\"102.893488\" xlink:href=\"#m78fcecfa1e\" y=\"180.808382\"/>\r\n     <use style=\"fill:#1f77b4;stroke:#1f77b4;\" x=\"85.549862\" xlink:href=\"#m78fcecfa1e\" y=\"185.513341\"/>\r\n     <use style=\"fill:#1f77b4;stroke:#1f77b4;\" x=\"68.546307\" xlink:href=\"#m78fcecfa1e\" y=\"152.320823\"/>\r\n     <use style=\"fill:#1f77b4;stroke:#1f77b4;\" x=\"77.048084\" xlink:href=\"#m78fcecfa1e\" y=\"153.545401\"/>\r\n     <use style=\"fill:#1f77b4;stroke:#1f77b4;\" x=\"111.055195\" xlink:href=\"#m78fcecfa1e\" y=\"138.334849\"/>\r\n     <use style=\"fill:#1f77b4;stroke:#1f77b4;\" x=\"94.051639\" xlink:href=\"#m78fcecfa1e\" y=\"134.532211\"/>\r\n     <use style=\"fill:#1f77b4;stroke:#1f77b4;\" x=\"135.880385\" xlink:href=\"#m78fcecfa1e\" y=\"127.184741\"/>\r\n     <use style=\"fill:#1f77b4;stroke:#1f77b4;\" x=\"119.897043\" xlink:href=\"#m78fcecfa1e\" y=\"161.150677\"/>\r\n     <use style=\"fill:#1f77b4;stroke:#1f77b4;\" x=\"77.048084\" xlink:href=\"#m78fcecfa1e\" y=\"153.996562\"/>\r\n     <use style=\"fill:#1f77b4;stroke:#1f77b4;\" x=\"94.391711\" xlink:href=\"#m78fcecfa1e\" y=\"99.08389\"/>\r\n     <use style=\"fill:#1f77b4;stroke:#1f77b4;\" x=\"96.092066\" xlink:href=\"#m78fcecfa1e\" y=\"154.898882\"/>\r\n     <use style=\"fill:#1f77b4;stroke:#1f77b4;\" x=\"94.051639\" xlink:href=\"#m78fcecfa1e\" y=\"150.967341\"/>\r\n     <use style=\"fill:#1f77b4;stroke:#1f77b4;\" x=\"96.772208\" xlink:href=\"#m78fcecfa1e\" y=\"96.763636\"/>\r\n     <use style=\"fill:#1f77b4;stroke:#1f77b4;\" x=\"85.549862\" xlink:href=\"#m78fcecfa1e\" y=\"113.843282\"/>\r\n     <use style=\"fill:#1f77b4;stroke:#1f77b4;\" x=\"129.759105\" xlink:href=\"#m78fcecfa1e\" y=\"97.085894\"/>\r\n     <use style=\"fill:#1f77b4;stroke:#1f77b4;\" x=\"85.549862\" xlink:href=\"#m78fcecfa1e\" y=\"130.213961\"/>\r\n     <use style=\"fill:#1f77b4;stroke:#1f77b4;\" x=\"152.543869\" xlink:href=\"#m78fcecfa1e\" y=\"109.202774\"/>\r\n    </g>\r\n   </g>\r\n   <g id=\"matplotlib.axis_1\">\r\n    <g id=\"xtick_1\">\r\n     <g id=\"line2d_1\">\r\n      <defs>\r\n       <path d=\"M 0 0 \r\nL 0 3.5 \r\n\" id=\"mbc6b46ae5c\" style=\"stroke:#000000;stroke-width:0.8;\"/>\r\n      </defs>\r\n      <g>\r\n       <use style=\"stroke:#000000;stroke-width:0.8;\" x=\"68.546307\" xlink:href=\"#mbc6b46ae5c\" y=\"239.54625\"/>\r\n      </g>\r\n     </g>\r\n     <g id=\"text_1\">\r\n      <!-- 0 -->\r\n      <g transform=\"translate(65.365057 254.144687)scale(0.1 -0.1)\">\r\n       <defs>\r\n        <path d=\"M 31.78125 66.40625 \r\nQ 24.171875 66.40625 20.328125 58.90625 \r\nQ 16.5 51.421875 16.5 36.375 \r\nQ 16.5 21.390625 20.328125 13.890625 \r\nQ 24.171875 6.390625 31.78125 6.390625 \r\nQ 39.453125 6.390625 43.28125 13.890625 \r\nQ 47.125 21.390625 47.125 36.375 \r\nQ 47.125 51.421875 43.28125 58.90625 \r\nQ 39.453125 66.40625 31.78125 66.40625 \r\nz\r\nM 31.78125 74.21875 \r\nQ 44.046875 74.21875 50.515625 64.515625 \r\nQ 56.984375 54.828125 56.984375 36.375 \r\nQ 56.984375 17.96875 50.515625 8.265625 \r\nQ 44.046875 -1.421875 31.78125 -1.421875 \r\nQ 19.53125 -1.421875 13.0625 8.265625 \r\nQ 6.59375 17.96875 6.59375 36.375 \r\nQ 6.59375 54.828125 13.0625 64.515625 \r\nQ 19.53125 74.21875 31.78125 74.21875 \r\nz\r\n\" id=\"DejaVuSans-48\"/>\r\n       </defs>\r\n       <use xlink:href=\"#DejaVuSans-48\"/>\r\n      </g>\r\n     </g>\r\n    </g>\r\n    <g id=\"xtick_2\">\r\n     <g id=\"line2d_2\">\r\n      <g>\r\n       <use style=\"stroke:#000000;stroke-width:0.8;\" x=\"136.560527\" xlink:href=\"#mbc6b46ae5c\" y=\"239.54625\"/>\r\n      </g>\r\n     </g>\r\n     <g id=\"text_2\">\r\n      <!-- 200 -->\r\n      <g transform=\"translate(127.016777 254.144687)scale(0.1 -0.1)\">\r\n       <defs>\r\n        <path d=\"M 19.1875 8.296875 \r\nL 53.609375 8.296875 \r\nL 53.609375 0 \r\nL 7.328125 0 \r\nL 7.328125 8.296875 \r\nQ 12.9375 14.109375 22.625 23.890625 \r\nQ 32.328125 33.6875 34.8125 36.53125 \r\nQ 39.546875 41.84375 41.421875 45.53125 \r\nQ 43.3125 49.21875 43.3125 52.78125 \r\nQ 43.3125 58.59375 39.234375 62.25 \r\nQ 35.15625 65.921875 28.609375 65.921875 \r\nQ 23.96875 65.921875 18.8125 64.3125 \r\nQ 13.671875 62.703125 7.8125 59.421875 \r\nL 7.8125 69.390625 \r\nQ 13.765625 71.78125 18.9375 73 \r\nQ 24.125 74.21875 28.421875 74.21875 \r\nQ 39.75 74.21875 46.484375 68.546875 \r\nQ 53.21875 62.890625 53.21875 53.421875 \r\nQ 53.21875 48.921875 51.53125 44.890625 \r\nQ 49.859375 40.875 45.40625 35.40625 \r\nQ 44.1875 33.984375 37.640625 27.21875 \r\nQ 31.109375 20.453125 19.1875 8.296875 \r\nz\r\n\" id=\"DejaVuSans-50\"/>\r\n       </defs>\r\n       <use xlink:href=\"#DejaVuSans-50\"/>\r\n       <use x=\"63.623047\" xlink:href=\"#DejaVuSans-48\"/>\r\n       <use x=\"127.246094\" xlink:href=\"#DejaVuSans-48\"/>\r\n      </g>\r\n     </g>\r\n    </g>\r\n    <g id=\"xtick_3\">\r\n     <g id=\"line2d_3\">\r\n      <g>\r\n       <use style=\"stroke:#000000;stroke-width:0.8;\" x=\"204.574748\" xlink:href=\"#mbc6b46ae5c\" y=\"239.54625\"/>\r\n      </g>\r\n     </g>\r\n     <g id=\"text_3\">\r\n      <!-- 400 -->\r\n      <g transform=\"translate(195.030998 254.144687)scale(0.1 -0.1)\">\r\n       <defs>\r\n        <path d=\"M 37.796875 64.3125 \r\nL 12.890625 25.390625 \r\nL 37.796875 25.390625 \r\nz\r\nM 35.203125 72.90625 \r\nL 47.609375 72.90625 \r\nL 47.609375 25.390625 \r\nL 58.015625 25.390625 \r\nL 58.015625 17.1875 \r\nL 47.609375 17.1875 \r\nL 47.609375 0 \r\nL 37.796875 0 \r\nL 37.796875 17.1875 \r\nL 4.890625 17.1875 \r\nL 4.890625 26.703125 \r\nz\r\n\" id=\"DejaVuSans-52\"/>\r\n       </defs>\r\n       <use xlink:href=\"#DejaVuSans-52\"/>\r\n       <use x=\"63.623047\" xlink:href=\"#DejaVuSans-48\"/>\r\n       <use x=\"127.246094\" xlink:href=\"#DejaVuSans-48\"/>\r\n      </g>\r\n     </g>\r\n    </g>\r\n    <g id=\"xtick_4\">\r\n     <g id=\"line2d_4\">\r\n      <g>\r\n       <use style=\"stroke:#000000;stroke-width:0.8;\" x=\"272.588968\" xlink:href=\"#mbc6b46ae5c\" y=\"239.54625\"/>\r\n      </g>\r\n     </g>\r\n     <g id=\"text_4\">\r\n      <!-- 600 -->\r\n      <g transform=\"translate(263.045218 254.144687)scale(0.1 -0.1)\">\r\n       <defs>\r\n        <path d=\"M 33.015625 40.375 \r\nQ 26.375 40.375 22.484375 35.828125 \r\nQ 18.609375 31.296875 18.609375 23.390625 \r\nQ 18.609375 15.53125 22.484375 10.953125 \r\nQ 26.375 6.390625 33.015625 6.390625 \r\nQ 39.65625 6.390625 43.53125 10.953125 \r\nQ 47.40625 15.53125 47.40625 23.390625 \r\nQ 47.40625 31.296875 43.53125 35.828125 \r\nQ 39.65625 40.375 33.015625 40.375 \r\nz\r\nM 52.59375 71.296875 \r\nL 52.59375 62.3125 \r\nQ 48.875 64.0625 45.09375 64.984375 \r\nQ 41.3125 65.921875 37.59375 65.921875 \r\nQ 27.828125 65.921875 22.671875 59.328125 \r\nQ 17.53125 52.734375 16.796875 39.40625 \r\nQ 19.671875 43.65625 24.015625 45.921875 \r\nQ 28.375 48.1875 33.59375 48.1875 \r\nQ 44.578125 48.1875 50.953125 41.515625 \r\nQ 57.328125 34.859375 57.328125 23.390625 \r\nQ 57.328125 12.15625 50.6875 5.359375 \r\nQ 44.046875 -1.421875 33.015625 -1.421875 \r\nQ 20.359375 -1.421875 13.671875 8.265625 \r\nQ 6.984375 17.96875 6.984375 36.375 \r\nQ 6.984375 53.65625 15.1875 63.9375 \r\nQ 23.390625 74.21875 37.203125 74.21875 \r\nQ 40.921875 74.21875 44.703125 73.484375 \r\nQ 48.484375 72.75 52.59375 71.296875 \r\nz\r\n\" id=\"DejaVuSans-54\"/>\r\n       </defs>\r\n       <use xlink:href=\"#DejaVuSans-54\"/>\r\n       <use x=\"63.623047\" xlink:href=\"#DejaVuSans-48\"/>\r\n       <use x=\"127.246094\" xlink:href=\"#DejaVuSans-48\"/>\r\n      </g>\r\n     </g>\r\n    </g>\r\n    <g id=\"xtick_5\">\r\n     <g id=\"line2d_5\">\r\n      <g>\r\n       <use style=\"stroke:#000000;stroke-width:0.8;\" x=\"340.603188\" xlink:href=\"#mbc6b46ae5c\" y=\"239.54625\"/>\r\n      </g>\r\n     </g>\r\n     <g id=\"text_5\">\r\n      <!-- 800 -->\r\n      <g transform=\"translate(331.059438 254.144687)scale(0.1 -0.1)\">\r\n       <defs>\r\n        <path d=\"M 31.78125 34.625 \r\nQ 24.75 34.625 20.71875 30.859375 \r\nQ 16.703125 27.09375 16.703125 20.515625 \r\nQ 16.703125 13.921875 20.71875 10.15625 \r\nQ 24.75 6.390625 31.78125 6.390625 \r\nQ 38.8125 6.390625 42.859375 10.171875 \r\nQ 46.921875 13.96875 46.921875 20.515625 \r\nQ 46.921875 27.09375 42.890625 30.859375 \r\nQ 38.875 34.625 31.78125 34.625 \r\nz\r\nM 21.921875 38.8125 \r\nQ 15.578125 40.375 12.03125 44.71875 \r\nQ 8.5 49.078125 8.5 55.328125 \r\nQ 8.5 64.0625 14.71875 69.140625 \r\nQ 20.953125 74.21875 31.78125 74.21875 \r\nQ 42.671875 74.21875 48.875 69.140625 \r\nQ 55.078125 64.0625 55.078125 55.328125 \r\nQ 55.078125 49.078125 51.53125 44.71875 \r\nQ 48 40.375 41.703125 38.8125 \r\nQ 48.828125 37.15625 52.796875 32.3125 \r\nQ 56.78125 27.484375 56.78125 20.515625 \r\nQ 56.78125 9.90625 50.3125 4.234375 \r\nQ 43.84375 -1.421875 31.78125 -1.421875 \r\nQ 19.734375 -1.421875 13.25 4.234375 \r\nQ 6.78125 9.90625 6.78125 20.515625 \r\nQ 6.78125 27.484375 10.78125 32.3125 \r\nQ 14.796875 37.15625 21.921875 38.8125 \r\nz\r\nM 18.3125 54.390625 \r\nQ 18.3125 48.734375 21.84375 45.5625 \r\nQ 25.390625 42.390625 31.78125 42.390625 \r\nQ 38.140625 42.390625 41.71875 45.5625 \r\nQ 45.3125 48.734375 45.3125 54.390625 \r\nQ 45.3125 60.0625 41.71875 63.234375 \r\nQ 38.140625 66.40625 31.78125 66.40625 \r\nQ 25.390625 66.40625 21.84375 63.234375 \r\nQ 18.3125 60.0625 18.3125 54.390625 \r\nz\r\n\" id=\"DejaVuSans-56\"/>\r\n       </defs>\r\n       <use xlink:href=\"#DejaVuSans-56\"/>\r\n       <use x=\"63.623047\" xlink:href=\"#DejaVuSans-48\"/>\r\n       <use x=\"127.246094\" xlink:href=\"#DejaVuSans-48\"/>\r\n      </g>\r\n     </g>\r\n    </g>\r\n    <g id=\"text_6\">\r\n     <!-- WIP -->\r\n     <g transform=\"translate(211.294531 267.822812)scale(0.1 -0.1)\">\r\n      <defs>\r\n       <path d=\"M 3.328125 72.90625 \r\nL 13.28125 72.90625 \r\nL 28.609375 11.28125 \r\nL 43.890625 72.90625 \r\nL 54.984375 72.90625 \r\nL 70.3125 11.28125 \r\nL 85.59375 72.90625 \r\nL 95.609375 72.90625 \r\nL 77.296875 0 \r\nL 64.890625 0 \r\nL 49.515625 63.28125 \r\nL 33.984375 0 \r\nL 21.578125 0 \r\nz\r\n\" id=\"DejaVuSans-87\"/>\r\n       <path d=\"M 9.8125 72.90625 \r\nL 19.671875 72.90625 \r\nL 19.671875 0 \r\nL 9.8125 0 \r\nz\r\n\" id=\"DejaVuSans-73\"/>\r\n       <path d=\"M 19.671875 64.796875 \r\nL 19.671875 37.40625 \r\nL 32.078125 37.40625 \r\nQ 38.96875 37.40625 42.71875 40.96875 \r\nQ 46.484375 44.53125 46.484375 51.125 \r\nQ 46.484375 57.671875 42.71875 61.234375 \r\nQ 38.96875 64.796875 32.078125 64.796875 \r\nz\r\nM 9.8125 72.90625 \r\nL 32.078125 72.90625 \r\nQ 44.34375 72.90625 50.609375 67.359375 \r\nQ 56.890625 61.8125 56.890625 51.125 \r\nQ 56.890625 40.328125 50.609375 34.8125 \r\nQ 44.34375 29.296875 32.078125 29.296875 \r\nL 19.671875 29.296875 \r\nL 19.671875 0 \r\nL 9.8125 0 \r\nz\r\n\" id=\"DejaVuSans-80\"/>\r\n      </defs>\r\n      <use xlink:href=\"#DejaVuSans-87\"/>\r\n      <use x=\"98.876953\" xlink:href=\"#DejaVuSans-73\"/>\r\n      <use x=\"128.369141\" xlink:href=\"#DejaVuSans-80\"/>\r\n     </g>\r\n    </g>\r\n   </g>\r\n   <g id=\"matplotlib.axis_2\">\r\n    <g id=\"ytick_1\">\r\n     <g id=\"line2d_6\">\r\n      <defs>\r\n       <path d=\"M 0 0 \r\nL -3.5 0 \r\n\" id=\"mf5df08c2d2\" style=\"stroke:#000000;stroke-width:0.8;\"/>\r\n      </defs>\r\n      <g>\r\n       <use style=\"stroke:#000000;stroke-width:0.8;\" x=\"53.328125\" xlink:href=\"#mf5df08c2d2\" y=\"212.518517\"/>\r\n      </g>\r\n     </g>\r\n     <g id=\"text_7\">\r\n      <!-- 500 -->\r\n      <g transform=\"translate(27.240625 216.317735)scale(0.1 -0.1)\">\r\n       <defs>\r\n        <path d=\"M 10.796875 72.90625 \r\nL 49.515625 72.90625 \r\nL 49.515625 64.59375 \r\nL 19.828125 64.59375 \r\nL 19.828125 46.734375 \r\nQ 21.96875 47.46875 24.109375 47.828125 \r\nQ 26.265625 48.1875 28.421875 48.1875 \r\nQ 40.625 48.1875 47.75 41.5 \r\nQ 54.890625 34.8125 54.890625 23.390625 \r\nQ 54.890625 11.625 47.5625 5.09375 \r\nQ 40.234375 -1.421875 26.90625 -1.421875 \r\nQ 22.3125 -1.421875 17.546875 -0.640625 \r\nQ 12.796875 0.140625 7.71875 1.703125 \r\nL 7.71875 11.625 \r\nQ 12.109375 9.234375 16.796875 8.0625 \r\nQ 21.484375 6.890625 26.703125 6.890625 \r\nQ 35.15625 6.890625 40.078125 11.328125 \r\nQ 45.015625 15.765625 45.015625 23.390625 \r\nQ 45.015625 31 40.078125 35.4375 \r\nQ 35.15625 39.890625 26.703125 39.890625 \r\nQ 22.75 39.890625 18.8125 39.015625 \r\nQ 14.890625 38.140625 10.796875 36.28125 \r\nz\r\n\" id=\"DejaVuSans-53\"/>\r\n       </defs>\r\n       <use xlink:href=\"#DejaVuSans-53\"/>\r\n       <use x=\"63.623047\" xlink:href=\"#DejaVuSans-48\"/>\r\n       <use x=\"127.246094\" xlink:href=\"#DejaVuSans-48\"/>\r\n      </g>\r\n     </g>\r\n    </g>\r\n    <g id=\"ytick_2\">\r\n     <g id=\"line2d_7\">\r\n      <g>\r\n       <use style=\"stroke:#000000;stroke-width:0.8;\" x=\"53.328125\" xlink:href=\"#mf5df08c2d2\" y=\"180.29277\"/>\r\n      </g>\r\n     </g>\r\n     <g id=\"text_8\">\r\n      <!-- 1000 -->\r\n      <g transform=\"translate(20.878125 184.091989)scale(0.1 -0.1)\">\r\n       <defs>\r\n        <path d=\"M 12.40625 8.296875 \r\nL 28.515625 8.296875 \r\nL 28.515625 63.921875 \r\nL 10.984375 60.40625 \r\nL 10.984375 69.390625 \r\nL 28.421875 72.90625 \r\nL 38.28125 72.90625 \r\nL 38.28125 8.296875 \r\nL 54.390625 8.296875 \r\nL 54.390625 0 \r\nL 12.40625 0 \r\nz\r\n\" id=\"DejaVuSans-49\"/>\r\n       </defs>\r\n       <use xlink:href=\"#DejaVuSans-49\"/>\r\n       <use x=\"63.623047\" xlink:href=\"#DejaVuSans-48\"/>\r\n       <use x=\"127.246094\" xlink:href=\"#DejaVuSans-48\"/>\r\n       <use x=\"190.869141\" xlink:href=\"#DejaVuSans-48\"/>\r\n      </g>\r\n     </g>\r\n    </g>\r\n    <g id=\"ytick_3\">\r\n     <g id=\"line2d_8\">\r\n      <g>\r\n       <use style=\"stroke:#000000;stroke-width:0.8;\" x=\"53.328125\" xlink:href=\"#mf5df08c2d2\" y=\"148.067024\"/>\r\n      </g>\r\n     </g>\r\n     <g id=\"text_9\">\r\n      <!-- 1500 -->\r\n      <g transform=\"translate(20.878125 151.866243)scale(0.1 -0.1)\">\r\n       <use xlink:href=\"#DejaVuSans-49\"/>\r\n       <use x=\"63.623047\" xlink:href=\"#DejaVuSans-53\"/>\r\n       <use x=\"127.246094\" xlink:href=\"#DejaVuSans-48\"/>\r\n       <use x=\"190.869141\" xlink:href=\"#DejaVuSans-48\"/>\r\n      </g>\r\n     </g>\r\n    </g>\r\n    <g id=\"ytick_4\">\r\n     <g id=\"line2d_9\">\r\n      <g>\r\n       <use style=\"stroke:#000000;stroke-width:0.8;\" x=\"53.328125\" xlink:href=\"#mf5df08c2d2\" y=\"115.841278\"/>\r\n      </g>\r\n     </g>\r\n     <g id=\"text_10\">\r\n      <!-- 2000 -->\r\n      <g transform=\"translate(20.878125 119.640497)scale(0.1 -0.1)\">\r\n       <use xlink:href=\"#DejaVuSans-50\"/>\r\n       <use x=\"63.623047\" xlink:href=\"#DejaVuSans-48\"/>\r\n       <use x=\"127.246094\" xlink:href=\"#DejaVuSans-48\"/>\r\n       <use x=\"190.869141\" xlink:href=\"#DejaVuSans-48\"/>\r\n      </g>\r\n     </g>\r\n    </g>\r\n    <g id=\"ytick_5\">\r\n     <g id=\"line2d_10\">\r\n      <g>\r\n       <use style=\"stroke:#000000;stroke-width:0.8;\" x=\"53.328125\" xlink:href=\"#mf5df08c2d2\" y=\"83.615532\"/>\r\n      </g>\r\n     </g>\r\n     <g id=\"text_11\">\r\n      <!-- 2500 -->\r\n      <g transform=\"translate(20.878125 87.414751)scale(0.1 -0.1)\">\r\n       <use xlink:href=\"#DejaVuSans-50\"/>\r\n       <use x=\"63.623047\" xlink:href=\"#DejaVuSans-53\"/>\r\n       <use x=\"127.246094\" xlink:href=\"#DejaVuSans-48\"/>\r\n       <use x=\"190.869141\" xlink:href=\"#DejaVuSans-48\"/>\r\n      </g>\r\n     </g>\r\n    </g>\r\n    <g id=\"ytick_6\">\r\n     <g id=\"line2d_11\">\r\n      <g>\r\n       <use style=\"stroke:#000000;stroke-width:0.8;\" x=\"53.328125\" xlink:href=\"#mf5df08c2d2\" y=\"51.389786\"/>\r\n      </g>\r\n     </g>\r\n     <g id=\"text_12\">\r\n      <!-- 3000 -->\r\n      <g transform=\"translate(20.878125 55.189004)scale(0.1 -0.1)\">\r\n       <defs>\r\n        <path d=\"M 40.578125 39.3125 \r\nQ 47.65625 37.796875 51.625 33 \r\nQ 55.609375 28.21875 55.609375 21.1875 \r\nQ 55.609375 10.40625 48.1875 4.484375 \r\nQ 40.765625 -1.421875 27.09375 -1.421875 \r\nQ 22.515625 -1.421875 17.65625 -0.515625 \r\nQ 12.796875 0.390625 7.625 2.203125 \r\nL 7.625 11.71875 \r\nQ 11.71875 9.328125 16.59375 8.109375 \r\nQ 21.484375 6.890625 26.8125 6.890625 \r\nQ 36.078125 6.890625 40.9375 10.546875 \r\nQ 45.796875 14.203125 45.796875 21.1875 \r\nQ 45.796875 27.640625 41.28125 31.265625 \r\nQ 36.765625 34.90625 28.71875 34.90625 \r\nL 20.21875 34.90625 \r\nL 20.21875 43.015625 \r\nL 29.109375 43.015625 \r\nQ 36.375 43.015625 40.234375 45.921875 \r\nQ 44.09375 48.828125 44.09375 54.296875 \r\nQ 44.09375 59.90625 40.109375 62.90625 \r\nQ 36.140625 65.921875 28.71875 65.921875 \r\nQ 24.65625 65.921875 20.015625 65.03125 \r\nQ 15.375 64.15625 9.8125 62.3125 \r\nL 9.8125 71.09375 \r\nQ 15.4375 72.65625 20.34375 73.4375 \r\nQ 25.25 74.21875 29.59375 74.21875 \r\nQ 40.828125 74.21875 47.359375 69.109375 \r\nQ 53.90625 64.015625 53.90625 55.328125 \r\nQ 53.90625 49.265625 50.4375 45.09375 \r\nQ 46.96875 40.921875 40.578125 39.3125 \r\nz\r\n\" id=\"DejaVuSans-51\"/>\r\n       </defs>\r\n       <use xlink:href=\"#DejaVuSans-51\"/>\r\n       <use x=\"63.623047\" xlink:href=\"#DejaVuSans-48\"/>\r\n       <use x=\"127.246094\" xlink:href=\"#DejaVuSans-48\"/>\r\n       <use x=\"190.869141\" xlink:href=\"#DejaVuSans-48\"/>\r\n      </g>\r\n     </g>\r\n    </g>\r\n    <g id=\"text_13\">\r\n     <!-- MOVE -->\r\n     <g transform=\"translate(14.798438 145.568437)rotate(-90)scale(0.1 -0.1)\">\r\n      <defs>\r\n       <path d=\"M 9.8125 72.90625 \r\nL 24.515625 72.90625 \r\nL 43.109375 23.296875 \r\nL 61.8125 72.90625 \r\nL 76.515625 72.90625 \r\nL 76.515625 0 \r\nL 66.890625 0 \r\nL 66.890625 64.015625 \r\nL 48.09375 14.015625 \r\nL 38.1875 14.015625 \r\nL 19.390625 64.015625 \r\nL 19.390625 0 \r\nL 9.8125 0 \r\nz\r\n\" id=\"DejaVuSans-77\"/>\r\n       <path d=\"M 39.40625 66.21875 \r\nQ 28.65625 66.21875 22.328125 58.203125 \r\nQ 16.015625 50.203125 16.015625 36.375 \r\nQ 16.015625 22.609375 22.328125 14.59375 \r\nQ 28.65625 6.59375 39.40625 6.59375 \r\nQ 50.140625 6.59375 56.421875 14.59375 \r\nQ 62.703125 22.609375 62.703125 36.375 \r\nQ 62.703125 50.203125 56.421875 58.203125 \r\nQ 50.140625 66.21875 39.40625 66.21875 \r\nz\r\nM 39.40625 74.21875 \r\nQ 54.734375 74.21875 63.90625 63.9375 \r\nQ 73.09375 53.65625 73.09375 36.375 \r\nQ 73.09375 19.140625 63.90625 8.859375 \r\nQ 54.734375 -1.421875 39.40625 -1.421875 \r\nQ 24.03125 -1.421875 14.8125 8.828125 \r\nQ 5.609375 19.09375 5.609375 36.375 \r\nQ 5.609375 53.65625 14.8125 63.9375 \r\nQ 24.03125 74.21875 39.40625 74.21875 \r\nz\r\n\" id=\"DejaVuSans-79\"/>\r\n       <path d=\"M 28.609375 0 \r\nL 0.78125 72.90625 \r\nL 11.078125 72.90625 \r\nL 34.1875 11.53125 \r\nL 57.328125 72.90625 \r\nL 67.578125 72.90625 \r\nL 39.796875 0 \r\nz\r\n\" id=\"DejaVuSans-86\"/>\r\n       <path d=\"M 9.8125 72.90625 \r\nL 55.90625 72.90625 \r\nL 55.90625 64.59375 \r\nL 19.671875 64.59375 \r\nL 19.671875 43.015625 \r\nL 54.390625 43.015625 \r\nL 54.390625 34.71875 \r\nL 19.671875 34.71875 \r\nL 19.671875 8.296875 \r\nL 56.78125 8.296875 \r\nL 56.78125 0 \r\nL 9.8125 0 \r\nz\r\n\" id=\"DejaVuSans-69\"/>\r\n      </defs>\r\n      <use xlink:href=\"#DejaVuSans-77\"/>\r\n      <use x=\"86.279297\" xlink:href=\"#DejaVuSans-79\"/>\r\n      <use x=\"163.240234\" xlink:href=\"#DejaVuSans-86\"/>\r\n      <use x=\"231.648438\" xlink:href=\"#DejaVuSans-69\"/>\r\n     </g>\r\n    </g>\r\n   </g>\r\n   <g id=\"patch_3\">\r\n    <path d=\"M 53.328125 239.54625 \r\nL 53.328125 22.10625 \r\n\" style=\"fill:none;stroke:#000000;stroke-linecap:square;stroke-linejoin:miter;stroke-width:0.8;\"/>\r\n   </g>\r\n   <g id=\"patch_4\">\r\n    <path d=\"M 388.128125 239.54625 \r\nL 388.128125 22.10625 \r\n\" style=\"fill:none;stroke:#000000;stroke-linecap:square;stroke-linejoin:miter;stroke-width:0.8;\"/>\r\n   </g>\r\n   <g id=\"patch_5\">\r\n    <path d=\"M 53.328125 239.54625 \r\nL 388.128125 239.54625 \r\n\" style=\"fill:none;stroke:#000000;stroke-linecap:square;stroke-linejoin:miter;stroke-width:0.8;\"/>\r\n   </g>\r\n   <g id=\"patch_6\">\r\n    <path d=\"M 53.328125 22.10625 \r\nL 388.128125 22.10625 \r\n\" style=\"fill:none;stroke:#000000;stroke-linecap:square;stroke-linejoin:miter;stroke-width:0.8;\"/>\r\n   </g>\r\n   <g id=\"text_14\">\r\n    <!-- TOOLG_ID:PW_PIX -->\r\n    <g transform=\"translate(166.165625 16.10625)scale(0.12 -0.12)\">\r\n     <defs>\r\n      <path d=\"M -0.296875 72.90625 \r\nL 61.375 72.90625 \r\nL 61.375 64.59375 \r\nL 35.5 64.59375 \r\nL 35.5 0 \r\nL 25.59375 0 \r\nL 25.59375 64.59375 \r\nL -0.296875 64.59375 \r\nz\r\n\" id=\"DejaVuSans-84\"/>\r\n      <path d=\"M 9.8125 72.90625 \r\nL 19.671875 72.90625 \r\nL 19.671875 8.296875 \r\nL 55.171875 8.296875 \r\nL 55.171875 0 \r\nL 9.8125 0 \r\nz\r\n\" id=\"DejaVuSans-76\"/>\r\n      <path d=\"M 59.515625 10.40625 \r\nL 59.515625 29.984375 \r\nL 43.40625 29.984375 \r\nL 43.40625 38.09375 \r\nL 69.28125 38.09375 \r\nL 69.28125 6.78125 \r\nQ 63.578125 2.734375 56.6875 0.65625 \r\nQ 49.8125 -1.421875 42 -1.421875 \r\nQ 24.90625 -1.421875 15.25 8.5625 \r\nQ 5.609375 18.5625 5.609375 36.375 \r\nQ 5.609375 54.25 15.25 64.234375 \r\nQ 24.90625 74.21875 42 74.21875 \r\nQ 49.125 74.21875 55.546875 72.453125 \r\nQ 61.96875 70.703125 67.390625 67.28125 \r\nL 67.390625 56.78125 \r\nQ 61.921875 61.421875 55.765625 63.765625 \r\nQ 49.609375 66.109375 42.828125 66.109375 \r\nQ 29.4375 66.109375 22.71875 58.640625 \r\nQ 16.015625 51.171875 16.015625 36.375 \r\nQ 16.015625 21.625 22.71875 14.15625 \r\nQ 29.4375 6.6875 42.828125 6.6875 \r\nQ 48.046875 6.6875 52.140625 7.59375 \r\nQ 56.25 8.5 59.515625 10.40625 \r\nz\r\n\" id=\"DejaVuSans-71\"/>\r\n      <path d=\"M 50.984375 -16.609375 \r\nL 50.984375 -23.578125 \r\nL -0.984375 -23.578125 \r\nL -0.984375 -16.609375 \r\nz\r\n\" id=\"DejaVuSans-95\"/>\r\n      <path d=\"M 19.671875 64.796875 \r\nL 19.671875 8.109375 \r\nL 31.59375 8.109375 \r\nQ 46.6875 8.109375 53.6875 14.9375 \r\nQ 60.6875 21.78125 60.6875 36.53125 \r\nQ 60.6875 51.171875 53.6875 57.984375 \r\nQ 46.6875 64.796875 31.59375 64.796875 \r\nz\r\nM 9.8125 72.90625 \r\nL 30.078125 72.90625 \r\nQ 51.265625 72.90625 61.171875 64.09375 \r\nQ 71.09375 55.28125 71.09375 36.53125 \r\nQ 71.09375 17.671875 61.125 8.828125 \r\nQ 51.171875 0 30.078125 0 \r\nL 9.8125 0 \r\nz\r\n\" id=\"DejaVuSans-68\"/>\r\n      <path d=\"M 11.71875 12.40625 \r\nL 22.015625 12.40625 \r\nL 22.015625 0 \r\nL 11.71875 0 \r\nz\r\nM 11.71875 51.703125 \r\nL 22.015625 51.703125 \r\nL 22.015625 39.3125 \r\nL 11.71875 39.3125 \r\nz\r\n\" id=\"DejaVuSans-58\"/>\r\n      <path d=\"M 6.296875 72.90625 \r\nL 16.890625 72.90625 \r\nL 35.015625 45.796875 \r\nL 53.21875 72.90625 \r\nL 63.8125 72.90625 \r\nL 40.375 37.890625 \r\nL 65.375 0 \r\nL 54.78125 0 \r\nL 34.28125 31 \r\nL 13.625 0 \r\nL 2.984375 0 \r\nL 29 38.921875 \r\nz\r\n\" id=\"DejaVuSans-88\"/>\r\n     </defs>\r\n     <use xlink:href=\"#DejaVuSans-84\"/>\r\n     <use x=\"61.083984\" xlink:href=\"#DejaVuSans-79\"/>\r\n     <use x=\"139.794922\" xlink:href=\"#DejaVuSans-79\"/>\r\n     <use x=\"218.505859\" xlink:href=\"#DejaVuSans-76\"/>\r\n     <use x=\"274.21875\" xlink:href=\"#DejaVuSans-71\"/>\r\n     <use x=\"351.708984\" xlink:href=\"#DejaVuSans-95\"/>\r\n     <use x=\"401.708984\" xlink:href=\"#DejaVuSans-73\"/>\r\n     <use x=\"431.201172\" xlink:href=\"#DejaVuSans-68\"/>\r\n     <use x=\"508.203125\" xlink:href=\"#DejaVuSans-58\"/>\r\n     <use x=\"541.894531\" xlink:href=\"#DejaVuSans-80\"/>\r\n     <use x=\"602.197266\" xlink:href=\"#DejaVuSans-87\"/>\r\n     <use x=\"701.074219\" xlink:href=\"#DejaVuSans-95\"/>\r\n     <use x=\"751.074219\" xlink:href=\"#DejaVuSans-80\"/>\r\n     <use x=\"811.376953\" xlink:href=\"#DejaVuSans-73\"/>\r\n     <use x=\"840.869141\" xlink:href=\"#DejaVuSans-88\"/>\r\n    </g>\r\n   </g>\r\n  </g>\r\n </g>\r\n <defs>\r\n  <clipPath id=\"p0ee641cfd6\">\r\n   <rect height=\"217.44\" width=\"334.8\" x=\"53.328125\" y=\"22.10625\"/>\r\n  </clipPath>\r\n </defs>\r\n</svg>\r\n",
      "image/png": "[encoded data removed]"
     },
     "metadata": {
      "needs_background": "light"
     }
    }
   ],
   "source": [
    "toolgCorr = toolgCorr[(toolgCorr[:,0]==target_ToolGID)]\n",
    "df_train_orign_toolg = df_train_orign[df_train_orign['TOOLG_ID']==target_ToolGID]\n",
    "#toolgCorr\n",
    "plt.scatter(x=df_train_orign_toolg['NO_HOLD_QTY'], y=df_train_orign_toolg['MOVE_QTY'])\n",
    "plt.title('TOOLG_ID:'+ df_train_orign_toolg['TOOLG_ID'].iloc[0])\n",
    "plt.xlabel(\"WIP\")\n",
    "plt.ylabel(\"MOVE\")\n",
    "\n",
    "df_train_orign_toolg.describe()"
   ]
  },
  {
   "cell_type": "code",
   "execution_count": 38,
   "metadata": {
    "tags": []
   },
   "outputs": [],
   "source": [
    "# df_train_orign.TOOLG_ID.unique()\n",
    "#keyTool=['PW_C/F']\n",
    "# for toolg in df_train_orign.TOOLG_ID.unique() :\n",
    "\n",
    "# for toolg in toolgCorr[:,0]:\n",
    " \n",
    "# nrows =  math.ceil(toolgCorr.shape[0]/4)\n",
    "# fig, axes = plt.subplots(nrows,4,figsize=(20,5*nrows))\n",
    "# idex=0\n",
    " \n",
    "# for axesrow in axes:\n",
    "#      for i in range(4):\n",
    "#         # print(axesrow[i])\n",
    "#         #t = toolgCorr[i][0]\n",
    "#         if idex >= toolgCorr.shape[0]:\n",
    "#             break\n",
    "#         toolg = toolgCorr[idex][0]\n",
    "#         df_train_orign_toolg = df_train.loc[df_train['TOOLG_ID']==toolg]\n",
    "\n",
    "#         axesrow[i].scatter(x=df_train_orign_toolg['NO_HOLD_QTY'], y=df_train_orign_toolg['MOVE_QTY'])\n",
    "         \n",
    "        \n",
    "#         axesrow[i].grid()\n",
    "#         axesrow[i].set_ylabel('MOVE_QTY', fontsize=12)\n",
    "#         # ax.set_xlabel('WIP_QTY', fontsize=12)\n",
    "#         axesrow[i].set_xlabel('NO_HOLD scatter', fontsize=12)\n",
    "        \n",
    "#         axesrow[i].set_title(f'Group: {toolg}', fontsize=12)\n",
    "#         idex+=1\n",
    "         \n",
    "# plt.show()\n",
    "\n"
   ]
  },
  {
   "cell_type": "code",
   "execution_count": 39,
   "metadata": {},
   "outputs": [
    {
     "output_type": "execute_result",
     "data": {
      "text/plain": [
       "     TOOLG_ID  WIP_QTY  NO_HOLD_QTY  MOVE_QTY     M         U            PT  \\\n",
       "0      CI_STI   1672.0       1500.0    3371.0   5.0  0.475904   4910.234940   \n",
       "1  DGM_AM_350    377.0        324.0    2294.0  10.0  0.707514   4017.560694   \n",
       "2      DI_PSG      0.0          0.0     125.0   2.0  0.500000  16531.000000   \n",
       "3      DN_SiN    131.0        125.0    1381.0   4.0  0.782313   2056.897959   \n",
       "4      DO_SOD     13.0         12.0     706.0   2.0  1.000000   1750.037736   \n",
       "\n",
       "    UP_TIME  EQP_UTIL        TC        CS      C_AI  \n",
       "0  0.956914  0.989448  0.382283  0.354976  0.836586  \n",
       "1  0.839097  0.979897  0.264591  0.256043  0.629749  \n",
       "2  0.986675  0.375072  0.052413  0.298198  1.361144  \n",
       "3  0.982981  0.779669  0.477650  0.373563  1.101988  \n",
       "4  0.909998  0.460758  0.278303  0.183449  3.147461  "
      ],
      "text/html": "<div>\n<style scoped>\n    .dataframe tbody tr th:only-of-type {\n        vertical-align: middle;\n    }\n\n    .dataframe tbody tr th {\n        vertical-align: top;\n    }\n\n    .dataframe thead th {\n        text-align: right;\n    }\n</style>\n<table border=\"1\" class=\"dataframe\">\n  <thead>\n    <tr style=\"text-align: right;\">\n      <th></th>\n      <th>TOOLG_ID</th>\n      <th>WIP_QTY</th>\n      <th>NO_HOLD_QTY</th>\n      <th>MOVE_QTY</th>\n      <th>M</th>\n      <th>U</th>\n      <th>PT</th>\n      <th>UP_TIME</th>\n      <th>EQP_UTIL</th>\n      <th>TC</th>\n      <th>CS</th>\n      <th>C_AI</th>\n    </tr>\n  </thead>\n  <tbody>\n    <tr>\n      <th>0</th>\n      <td>CI_STI</td>\n      <td>1672.0</td>\n      <td>1500.0</td>\n      <td>3371.0</td>\n      <td>5.0</td>\n      <td>0.475904</td>\n      <td>4910.234940</td>\n      <td>0.956914</td>\n      <td>0.989448</td>\n      <td>0.382283</td>\n      <td>0.354976</td>\n      <td>0.836586</td>\n    </tr>\n    <tr>\n      <th>1</th>\n      <td>DGM_AM_350</td>\n      <td>377.0</td>\n      <td>324.0</td>\n      <td>2294.0</td>\n      <td>10.0</td>\n      <td>0.707514</td>\n      <td>4017.560694</td>\n      <td>0.839097</td>\n      <td>0.979897</td>\n      <td>0.264591</td>\n      <td>0.256043</td>\n      <td>0.629749</td>\n    </tr>\n    <tr>\n      <th>2</th>\n      <td>DI_PSG</td>\n      <td>0.0</td>\n      <td>0.0</td>\n      <td>125.0</td>\n      <td>2.0</td>\n      <td>0.500000</td>\n      <td>16531.000000</td>\n      <td>0.986675</td>\n      <td>0.375072</td>\n      <td>0.052413</td>\n      <td>0.298198</td>\n      <td>1.361144</td>\n    </tr>\n    <tr>\n      <th>3</th>\n      <td>DN_SiN</td>\n      <td>131.0</td>\n      <td>125.0</td>\n      <td>1381.0</td>\n      <td>4.0</td>\n      <td>0.782313</td>\n      <td>2056.897959</td>\n      <td>0.982981</td>\n      <td>0.779669</td>\n      <td>0.477650</td>\n      <td>0.373563</td>\n      <td>1.101988</td>\n    </tr>\n    <tr>\n      <th>4</th>\n      <td>DO_SOD</td>\n      <td>13.0</td>\n      <td>12.0</td>\n      <td>706.0</td>\n      <td>2.0</td>\n      <td>1.000000</td>\n      <td>1750.037736</td>\n      <td>0.909998</td>\n      <td>0.460758</td>\n      <td>0.278303</td>\n      <td>0.183449</td>\n      <td>3.147461</td>\n    </tr>\n  </tbody>\n</table>\n</div>"
     },
     "metadata": {},
     "execution_count": 39
    }
   ],
   "source": [
    "df_train.head()"
   ]
  },
  {
   "cell_type": "code",
   "execution_count": 40,
   "metadata": {},
   "outputs": [],
   "source": [
    "#df_train_orign_toolg.head()"
   ]
  },
  {
   "cell_type": "code",
   "execution_count": 41,
   "metadata": {},
   "outputs": [],
   "source": [
    "#df_train_orign_toolg.head()"
   ]
  },
  {
   "source": [
    "# 訓練機台模型"
   ],
   "cell_type": "markdown",
   "metadata": {}
  },
  {
   "cell_type": "code",
   "execution_count": 42,
   "metadata": {
    "tags": []
   },
   "outputs": [],
   "source": [
    "# for t in toolgCorr:  \n",
    "#     toolg=t[0]\n",
    "#     df_train_orign_toolg = df_train.loc[df_train['TOOLG_ID']==toolg]   \n",
    "#     save_model2 = getSavePath(df_train_orign_toolg['TOOLG_ID'].iloc[0],save_model)\n",
    "#     #print(df_train_orign_toolg['TOOLG_ID'].iloc[0])\n",
    "#     cleanString = re.sub('\\W+','', df_train_orign_toolg['TOOLG_ID'].iloc[0] )\n",
    "#     print(cleanString)\n",
    "    # path = save_model\n",
    "    # path = save_model.replace(save_model.split('/', 2)[len( save_model.split('/', 2))-1],cleanString+save_model.spll6≥÷it('/', 2)[len(     save_model.split('/', 2))-1])\n",
    "    # print(path)\n",
    "for t in toolgCorr:     \n",
    "    toolg=t[0]\n",
    "    df_train_orign_toolg = df_train.loc[df_train['TOOLG_ID']==toolg]\n",
    "    #trainModel(toolg,df_train_orign_toolg,save_model)\n",
    "    trainModelXG(toolg,df_train_orign_toolg,save_modelxg)"
   ]
  },
  {
   "cell_type": "code",
   "execution_count": 43,
   "metadata": {},
   "outputs": [],
   "source": [
    "# df_testing"
   ]
  },
  {
   "source": [
    "# 測試 臨界值"
   ],
   "cell_type": "markdown",
   "metadata": {}
  },
  {
   "cell_type": "code",
   "execution_count": 44,
   "metadata": {},
   "outputs": [
    {
     "output_type": "execute_result",
     "data": {
      "text/plain": [
       "          WIP_QTY  NO_HOLD_QTY    MOVE_QTY     M     U           PT  \\\n",
       "count   58.000000    58.000000   58.000000  58.0  58.0    58.000000   \n",
       "mean   120.293103    82.034483   94.724138   1.0   1.0  3898.307575   \n",
       "std     66.184752    55.654626   70.763950   0.0   0.0  1249.818703   \n",
       "min     12.000000     1.000000    3.000000   1.0   1.0  1129.000000   \n",
       "25%     68.250000    40.250000   52.000000   1.0   1.0  3130.450000   \n",
       "50%    119.500000    75.500000   75.500000   1.0   1.0  3916.600000   \n",
       "75%    172.000000   111.250000  121.750000   1.0   1.0  4649.875000   \n",
       "max    268.000000   260.000000  341.000000   1.0   1.0  6623.500000   \n",
       "\n",
       "         UP_TIME   EQP_UTIL         TC         CS       C_AI  \n",
       "count  58.000000  58.000000  58.000000  58.000000  58.000000  \n",
       "mean    0.929371   0.281864   0.445775   0.446608   9.920046  \n",
       "std     0.165938   0.179289   0.224558   0.230640  18.186780  \n",
       "min     0.258440   0.051102   0.000904   0.000904 -37.215004  \n",
       "25%     1.000000   0.168183   0.284584   0.295218   3.211246  \n",
       "50%     1.000000   0.248037   0.487655   0.486949   5.057423  \n",
       "75%     1.000000   0.340555   0.613753   0.626112   7.931469  \n",
       "max     1.000000   0.851151   0.957026   0.957026  92.540943  "
      ],
      "text/html": "<div>\n<style scoped>\n    .dataframe tbody tr th:only-of-type {\n        vertical-align: middle;\n    }\n\n    .dataframe tbody tr th {\n        vertical-align: top;\n    }\n\n    .dataframe thead th {\n        text-align: right;\n    }\n</style>\n<table border=\"1\" class=\"dataframe\">\n  <thead>\n    <tr style=\"text-align: right;\">\n      <th></th>\n      <th>WIP_QTY</th>\n      <th>NO_HOLD_QTY</th>\n      <th>MOVE_QTY</th>\n      <th>M</th>\n      <th>U</th>\n      <th>PT</th>\n      <th>UP_TIME</th>\n      <th>EQP_UTIL</th>\n      <th>TC</th>\n      <th>CS</th>\n      <th>C_AI</th>\n    </tr>\n  </thead>\n  <tbody>\n    <tr>\n      <th>count</th>\n      <td>58.000000</td>\n      <td>58.000000</td>\n      <td>58.000000</td>\n      <td>58.0</td>\n      <td>58.0</td>\n      <td>58.000000</td>\n      <td>58.000000</td>\n      <td>58.000000</td>\n      <td>58.000000</td>\n      <td>58.000000</td>\n      <td>58.000000</td>\n    </tr>\n    <tr>\n      <th>mean</th>\n      <td>120.293103</td>\n      <td>82.034483</td>\n      <td>94.724138</td>\n      <td>1.0</td>\n      <td>1.0</td>\n      <td>3898.307575</td>\n      <td>0.929371</td>\n      <td>0.281864</td>\n      <td>0.445775</td>\n      <td>0.446608</td>\n      <td>9.920046</td>\n    </tr>\n    <tr>\n      <th>std</th>\n      <td>66.184752</td>\n      <td>55.654626</td>\n      <td>70.763950</td>\n      <td>0.0</td>\n      <td>0.0</td>\n      <td>1249.818703</td>\n      <td>0.165938</td>\n      <td>0.179289</td>\n      <td>0.224558</td>\n      <td>0.230640</td>\n      <td>18.186780</td>\n    </tr>\n    <tr>\n      <th>min</th>\n      <td>12.000000</td>\n      <td>1.000000</td>\n      <td>3.000000</td>\n      <td>1.0</td>\n      <td>1.0</td>\n      <td>1129.000000</td>\n      <td>0.258440</td>\n      <td>0.051102</td>\n      <td>0.000904</td>\n      <td>0.000904</td>\n      <td>-37.215004</td>\n    </tr>\n    <tr>\n      <th>25%</th>\n      <td>68.250000</td>\n      <td>40.250000</td>\n      <td>52.000000</td>\n      <td>1.0</td>\n      <td>1.0</td>\n      <td>3130.450000</td>\n      <td>1.000000</td>\n      <td>0.168183</td>\n      <td>0.284584</td>\n      <td>0.295218</td>\n      <td>3.211246</td>\n    </tr>\n    <tr>\n      <th>50%</th>\n      <td>119.500000</td>\n      <td>75.500000</td>\n      <td>75.500000</td>\n      <td>1.0</td>\n      <td>1.0</td>\n      <td>3916.600000</td>\n      <td>1.000000</td>\n      <td>0.248037</td>\n      <td>0.487655</td>\n      <td>0.486949</td>\n      <td>5.057423</td>\n    </tr>\n    <tr>\n      <th>75%</th>\n      <td>172.000000</td>\n      <td>111.250000</td>\n      <td>121.750000</td>\n      <td>1.0</td>\n      <td>1.0</td>\n      <td>4649.875000</td>\n      <td>1.000000</td>\n      <td>0.340555</td>\n      <td>0.613753</td>\n      <td>0.626112</td>\n      <td>7.931469</td>\n    </tr>\n    <tr>\n      <th>max</th>\n      <td>268.000000</td>\n      <td>260.000000</td>\n      <td>341.000000</td>\n      <td>1.0</td>\n      <td>1.0</td>\n      <td>6623.500000</td>\n      <td>1.000000</td>\n      <td>0.851151</td>\n      <td>0.957026</td>\n      <td>0.957026</td>\n      <td>92.540943</td>\n    </tr>\n  </tbody>\n</table>\n</div>"
     },
     "metadata": {},
     "execution_count": 44
    }
   ],
   "source": [
    "df_train.loc[df_train['TOOLG_ID']==toolg].describe()"
   ]
  },
  {
   "cell_type": "code",
   "execution_count": 45,
   "metadata": {},
   "outputs": [],
   "source": [
    "#df_testing"
   ]
  },
  {
   "source": [
    "# 執行模型預測"
   ],
   "cell_type": "markdown",
   "metadata": {}
  },
  {
   "cell_type": "code",
   "execution_count": 46,
   "metadata": {
    "tags": []
   },
   "outputs": [],
   "source": [
    "#cols=df_train.columns\n",
    "cols=['M','U','PT','UP_TIME','EQP_UTIL','TC','CS','C_AI']\n",
    "#for toolg in toolgCorr[:,0]:     \n",
    "# for toolg in toolgCorr[:,0]:  \n",
    "# \n",
    "\n",
    "for t in toolgCorr:\n",
    "    toolg=t[0]\n",
    "    # df_test_orign_toolg = df_train.loc[df_train['TOOLG_ID']==toolg]\n",
    "    # df_testing =df_test_orign_toolg\n",
    "    df_testing= df_train.loc[df_train['TOOLG_ID']==toolg]\n",
    "    df_testing[cols] = df_testing[cols].mean()\n",
    "    df_testing =df_testing[0:1]\n",
    "    # max_wip = df_testing['NO_HOLD_QTY'].max()* .75\n",
    "    max_wip = np.percentile(df_testing['NO_HOLD_QTY'], 50) # return 50th percentile, e.g median.\n",
    "    tick = (df_testing['NO_HOLD_QTY'].max() - df_testing['NO_HOLD_QTY'].min()) /400\n",
    "    if max_wip <=0 :\n",
    "        \n",
    "        max_wip=100\n",
    "    if tick <10 :\n",
    "        tick = 10\n",
    "    print(max_wip,tick)\n",
    "    #print(\" max_wip\" ,max_wip)\n",
    "    \n",
    "    \n",
    "    \n",
    "    # cols=['NO_HOLD_QTY','M','U','PT','UP_TIME','EQP_UTIL','TC','CS','AI','C_AI']\n",
    "    # df_testing[cols] = df_train[cols].mean()\n",
    "    # df_testing.head()\n",
    "    # df_train_orign.info()\n",
    "    # print(df_testing.columns)\n",
    "    # print(df_testing.head)\n",
    "    # print(df_testing.mean())\n",
    "    # df = pd.DataFrame(['FE_Anneal',584.163217,750.0,6.548169,0.66463,5872.975754,0.921801,0.625027,0.59574,0.561539,225.856884,\t2.640577,'Wednesday','FE_Anneal'], columns = df_train.columns)\n",
    "    #df = pd.DataFrame( df_testing[0:1], columns = df_testing.columns)\n",
    "    # df.loc[0] = df_testing[0:1]\n",
    "    # df_testing_template= ['FE_Anneal',584.163217,750.0,6.548169,0.66463,5872.975754,0.921801,0.625027,0.59574,0.561539,225.856884,\t2.640577,'Wednesday','FE_Anneal']#df_testing[0:1]\n",
    "\n",
    " \n",
    "    # testModel(df_train_orign_toolg,save_model)\n",
    "    df = pd.DataFrame(columns = df_testing.columns)\n",
    "   \n",
    "    for i in range(2000):\n",
    "        # #pd.concat([ df_testing ,df_testing_template]) \n",
    "        # df.append(df_testing_template,ignore_index=True,sort=False)\n",
    "        # #print(df_testing.shape)\n",
    "        # #print(df_testing_template)\n",
    "        # df.loc[i]=df_testing[0:1]\n",
    "        # df.append(pd.Series(df_testing[0:1].values.tolist(), index=newDF.columns[:len(df_testing[0:1].values.tolist())]), ignore_index=True)\n",
    "        \n",
    "        df_testing['NO_HOLD_QTY']=max_wip+ tick*i\n",
    "        #print(i,df_testing.head())\n",
    "        # n =pd.Series(df_testing[0:1].values.tolist())\n",
    "        df = df.append(df_testing,ignore_index=True)\n",
    "        \n",
    "    #print(df.shape,df.head())        \n",
    "    # TestModel(df,save_model)\n",
    "    TestModelXG(df,save_modelxg)\n",
    "       "
   ]
  },
  {
   "cell_type": "code",
   "execution_count": 47,
   "metadata": {},
   "outputs": [
    {
     "output_type": "error",
     "ename": "NameError",
     "evalue": "name 'df' is not defined",
     "traceback": [
      "\u001b[1;31m---------------------------------------------------------------------------\u001b[0m",
      "\u001b[1;31mNameError\u001b[0m                                 Traceback (most recent call last)",
      "\u001b[1;32m<ipython-input-47-a74c58233b9e>\u001b[0m in \u001b[0;36m<module>\u001b[1;34m\u001b[0m\n\u001b[1;32m----> 1\u001b[1;33m \u001b[0mdf\u001b[0m\u001b[1;33m.\u001b[0m\u001b[0minfo\u001b[0m\u001b[1;33m(\u001b[0m\u001b[1;33m)\u001b[0m\u001b[1;33m\u001b[0m\u001b[1;33m\u001b[0m\u001b[0m\n\u001b[0m",
      "\u001b[1;31mNameError\u001b[0m: name 'df' is not defined"
     ]
    }
   ],
   "source": [
    "df.info()"
   ]
  },
  {
   "cell_type": "code",
   "execution_count": 139,
   "metadata": {},
   "outputs": [],
   "source": [
    "# df_train.loc[df_train['TOOLG_ID']=='PK_DUVKrF']  \n",
    "# df1=readDataFromFile('./MG-1M.csv')\n",
    "# df1.columns"
   ]
  },
  {
   "source": [
    "# sweetviz"
   ],
   "cell_type": "markdown",
   "metadata": {}
  },
  {
   "cell_type": "code",
   "execution_count": 140,
   "metadata": {
    "tags": []
   },
   "outputs": [],
   "source": [
    "\n",
    "\n",
    "# import sweetviz as sv\n",
    "# pairwise_analysis='on' #相關性和其他型別的資料關聯可能需要花費較長時間。如果超過了某個閾值，就需要設定這個引數為on或者off，以判斷是否需要分析資料相關性。\n",
    "# df1=readDataFromFile('./MG-1M.csv')\n",
    "# # 1. 查看缺失情况\n",
    "# df1.fillna(value=0, inplace=True)\n",
    "# # nullseries = df1.isnull().sum()\n",
    "# # print(nullseries[nullseries > 0])\n",
    "# # df1['TECH-PROD_ID'] = df1['TECH']+df1['PROD_ID']\n",
    "# # df1['LAYER-STAGE'] = df1['LAYER']+df1['STAGE']\n",
    "# # df1['OPER_NAME-LAYER-STAGE']= df1['OPER_NAME']+df1['LAYER']+df1['STAGE']\n",
    "# # df1['ROUTE_ID-OPER_NAME']= df1['ROUTE_ID']+df1['OPER_NAME'] \n",
    "# # df1['ROUTE_ID-OPER_NAME-LAYER-STAGE']= df1['ROUTE_ID']+df1['OPER_NAME']+df1['LAYER']+df1['STAGE']\n",
    "# # df1['ROUTE_ID-LAYER'] = df1['ROUTE_ID']+df1['LAYER']\n",
    "# # df1['ROUTE_ID-STAGE'] = df1['ROUTE_ID']+df1['STAGE']\n",
    "\n",
    "# feature_config = sv.FeatureConfig()\n",
    "# #                                    force_cat=['TECH','PROD_ID','ROUTE_ID','OPER_NAME','LAYER','STAGE','LOT_PRTY','LOT_TYPE','LAYER','STAGE','TECH-PROD_ID'\t \n",
    "# # ,'LAYER-STAGE'\t \n",
    "# # ,'OPER_NAME-LAYER-STAGE' \n",
    "# # ,'ROUTE_ID-OPER_NAME' \n",
    "# # ,'ROUTE_ID-OPER_NAME-LAYER-STAGE' \n",
    "# # ,'ROUTE_ID-LAYER' \n",
    "# # ,'ROUTE_ID-STAGE' ])\n",
    "\n",
    "\n",
    "# report_train = sv.analyze([df1, 'train'],\n",
    "#                                 target_feat='MOVE_QTY', # Categorical特徵\n",
    "#                                 feat_cfg=feature_config,\n",
    "#                                 pairwise_analysis  = pairwise_analysis) \n",
    "\n",
    "\n",
    "# report_train.show_html(filepath='Basic_train_reportMG1M.html' ) # 儲存為html的格式\n",
    "\n",
    "# # # compare_subsets_report = sv.compare_intra(df_train,\n",
    "# # #                                         df_train['Finish']==1, # 給條件區分\n",
    "# # #                                         ['Finish', 'notFinish'], # 為兩個子資料集命名 \n",
    "# # #                                         target_feat='MOVE_QTY',\n",
    "# # #                                         )\n",
    "\n",
    "# # # compare_subsets_report.show_html(filepath='./sweetvizHTML/Compare_male_female_report.html')\n",
    "\n",
    "\n"
   ]
  },
  {
   "cell_type": "code",
   "execution_count": 141,
   "metadata": {
    "tags": []
   },
   "outputs": [],
   "source": [
    "\n",
    " \n",
    "# pairwise_analysis='on' #相關性和其他型別的資料關聯可能需要花費較長時間。如果超過了某個閾值，就需要設定這個引數為on或者off，以判斷是否需要分析資料相關性。\n",
    "# df1=readDataFromFile('./MG-2M.csv')\n",
    "# # # 1. 查看缺失情况\n",
    "# df1.fillna(value=0, inplace=True)\n",
    "# # nullseries = df1.isnull().sum()\n",
    "# # print(nullseries[nullseries > 0])\n",
    "\n",
    "# # df1['TECH-PROD_ID'] = df1['TECH']+df1['PROD_ID']\n",
    "# # df1['LAYER-STAGE'] = df1['LAYER']+df1['STAGE']\n",
    "# # df1['OPER_NAME-LAYER-STAGE']= df1['OPER_NAME']+df1['LAYER']+df1['STAGE']\n",
    "# # df1['ROUTE_ID-OPER_NAME']= df1['ROUTE_ID']+df1['OPER_NAME'] \n",
    "# # df1['ROUTE_ID-OPER_NAME-LAYER-STAGE']= df1['ROUTE_ID']+df1['OPER_NAME']+df1['LAYER']+df1['STAGE']\n",
    "# # df1['ROUTE_ID-LAYER'] = df1['ROUTE_ID']+df1['LAYER']\n",
    "# # df1['ROUTE_ID-STAGE'] = df1['ROUTE_ID']+df1['STAGE']\n",
    "\n",
    "# feature_config = sv.FeatureConfig()\n",
    "# #                                    force_cat=['TECH','PROD_ID','ROUTE_ID','OPER_NAME','LAYER','STAGE','LOT_PRTY','LOT_TYPE','LAYER','STAGE','TECH-PROD_ID'\t \n",
    "# # ,'LAYER-STAGE'\t \n",
    "# # ,'OPER_NAME-LAYER-STAGE' \n",
    "# # ,'ROUTE_ID-OPER_NAME' \n",
    "# # ,'ROUTE_ID-OPER_NAME-LAYER-STAGE' \n",
    "# # ,'ROUTE_ID-LAYER' \n",
    "# # ,'ROUTE_ID-STAGE' ])\n",
    "\n",
    "\n",
    "# report_train = sv.analyze([df1, 'train'],\n",
    "#                                 target_feat='MOVE_QTY', # Categorical特徵\n",
    "#                                 feat_cfg=feature_config,\n",
    "#                                 pairwise_analysis  = pairwise_analysis) \n",
    "\n",
    "\n",
    "# report_train.show_html(filepath='Basic_train_reportMG2M.html' ) # 儲存為html的格式\n",
    "\n",
    "# # # compare_subsets_report = sv.compare_intra(df_train,\n",
    "# # #                                         df_train['Finish']==1, # 給條件區分\n",
    "# # #                                         ['Finish', 'notFinish'], # 為兩個子資料集命名 \n",
    "# # #                                         target_feat='MOVE_QTY',\n",
    "# # #                                         )\n",
    "\n",
    "# # # compare_subsets_report.show_html(filepath='./sweetvizHTML/Compare_male_female_report.html')\n",
    "\n",
    "\n"
   ]
  },
  {
   "cell_type": "code",
   "execution_count": 142,
   "metadata": {},
   "outputs": [],
   "source": [
    "# df1"
   ]
  },
  {
   "cell_type": "code",
   "execution_count": 143,
   "metadata": {},
   "outputs": [],
   "source": [
    "# plt.plot([1,2,3,4], [1,4,9,16])"
   ]
  },
  {
   "cell_type": "code",
   "execution_count": null,
   "metadata": {},
   "outputs": [],
   "source": []
  }
 ]
}