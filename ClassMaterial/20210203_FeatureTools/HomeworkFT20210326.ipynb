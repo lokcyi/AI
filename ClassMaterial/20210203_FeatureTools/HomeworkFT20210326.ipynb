{
 "metadata": {
  "language_info": {
   "codemirror_mode": {
    "name": "ipython",
    "version": 3
   },
   "file_extension": ".py",
   "mimetype": "text/x-python",
   "name": "python",
   "nbconvert_exporter": "python",
   "pygments_lexer": "ipython3",
   "version": "3.7.9-final"
  },
  "orig_nbformat": 2,
  "kernelspec": {
   "name": "python3",
   "display_name": "Python 3",
   "language": "python"
  }
 },
 "nbformat": 4,
 "nbformat_minor": 2,
 "cells": [
  {
   "cell_type": "code",
   "execution_count": 1,
   "metadata": {},
   "outputs": [],
   "source": [
    "\n",
    "import sys\n",
    "import pandas as pd \n",
    "import tensorflow as tf \n",
    "# featuretools for automated feature engineering\n",
    "import featuretools as ft\n",
    "import featuretools.variable_types as vtypes"
   ]
  },
  {
   "cell_type": "code",
   "execution_count": 2,
   "metadata": {},
   "outputs": [],
   "source": [
    "df_train = pd.read_csv('D:/projects/ai/poc/homework/training_data_20210128.csv')\n",
    "#df_train = pd.read_csv('./training_data_20210128.csv')"
   ]
  },
  {
   "cell_type": "code",
   "execution_count": 3,
   "metadata": {},
   "outputs": [],
   "source": [
    "df_train.head()\n",
    "\n",
    "# df_train = df_train.drop(columns=['IDX','LOT_TYPE','WS_DATE','ACTUAL_WP_OUT','DATA_DATE','OP_NO','LOT_ID'])\n",
    "df_train = df_train.drop(df_train.loc[:, '0E':'ZL'].columns, axis = 1) "
   ]
  },
  {
   "cell_type": "code",
   "execution_count": 4,
   "metadata": {},
   "outputs": [],
   "source": [
    "es = ft.EntitySet(id = 'WIP')"
   ]
  },
  {
   "cell_type": "code",
   "execution_count": 5,
   "metadata": {},
   "outputs": [],
   "source": [
    "# Entity set with id applications\n",
    "es = ft.EntitySet(id = 'WIP')\n",
    "\n",
    "# Create an entity from the client dataframe\n",
    "# This dataframe already has an index and a time index\n",
    "es = es.entity_from_dataframe(entity_id = 'WIP',\n",
    "             dataframe = df_train,  \n",
    "             variable_types={'IDX': ft.variable_types.Categorical},\n",
    "             make_index = True, \n",
    "             index = 'ID', time_index = 'DATA_DATE')"
   ]
  },
  {
   "source": [],
   "cell_type": "markdown",
   "metadata": {}
  },
  {
   "cell_type": "code",
   "execution_count": 20,
   "metadata": {},
   "outputs": [
    {
     "output_type": "execute_result",
     "data": {
      "text/plain": [
       "Entityset: WIP\n",
       "  Entities:\n",
       "    WIP [Rows: 226723, Columns: 16]\n",
       "  Relationships:\n",
       "    No relationships"
      ]
     },
     "metadata": {},
     "execution_count": 20
    }
   ],
   "source": [
    "es"
   ]
  },
  {
   "cell_type": "code",
   "execution_count": 7,
   "metadata": {},
   "outputs": [
    {
     "output_type": "execute_result",
     "data": {
      "text/plain": [
       "                name         type  dask_compatible  koalas_compatible  \\\n",
       "0         num_unique  aggregation             True               True   \n",
       "1           num_true  aggregation             True              False   \n",
       "2                sum  aggregation             True               True   \n",
       "3            entropy  aggregation            False              False   \n",
       "4                max  aggregation             True               True   \n",
       "5                all  aggregation             True              False   \n",
       "6                min  aggregation             True               True   \n",
       "7              first  aggregation            False              False   \n",
       "8              count  aggregation             True               True   \n",
       "9      n_most_common  aggregation            False              False   \n",
       "10              last  aggregation            False              False   \n",
       "11   time_since_last  aggregation            False              False   \n",
       "12              mode  aggregation            False              False   \n",
       "13            median  aggregation            False              False   \n",
       "14             trend  aggregation            False              False   \n",
       "15  avg_time_between  aggregation            False              False   \n",
       "16              mean  aggregation             True               True   \n",
       "17  time_since_first  aggregation            False              False   \n",
       "18      percent_true  aggregation             True              False   \n",
       "19               any  aggregation             True              False   \n",
       "20              skew  aggregation            False              False   \n",
       "21               std  aggregation             True               True   \n",
       "\n",
       "                                          description  \\\n",
       "0   Determines the number of distinct values, igno...   \n",
       "1                 Counts the number of `True` values.   \n",
       "2      Calculates the total addition, ignoring `NaN`.   \n",
       "3   Calculates the entropy for a categorical variable   \n",
       "4   Calculates the highest value, ignoring `NaN` v...   \n",
       "5      Calculates if all values are 'True' in a list.   \n",
       "6   Calculates the smallest value, ignoring `NaN` ...   \n",
       "7               Determines the first value in a list.   \n",
       "8   Determines the total number of values, excludi...   \n",
       "9            Determines the `n` most common elements.   \n",
       "10               Determines the last value in a list.   \n",
       "11  Calculates the time elapsed since the last dat...   \n",
       "12       Determines the most commonly repeated value.   \n",
       "13  Determines the middlemost number in a list of ...   \n",
       "14      Calculates the trend of a variable over time.   \n",
       "15  Computes the average number of seconds between...   \n",
       "16         Computes the average for a list of values.   \n",
       "17  Calculates the time elapsed since the first da...   \n",
       "18           Determines the percent of `True` values.   \n",
       "19       Determines if any value is 'True' in a list.   \n",
       "20  Computes the extent to which a distribution di...   \n",
       "21  Computes the dispersion relative to the mean v...   \n",
       "\n",
       "                  valid_inputs return_type  \n",
       "0                     Discrete     Numeric  \n",
       "1                      Boolean     Numeric  \n",
       "2                      Numeric     Numeric  \n",
       "3                  Categorical     Numeric  \n",
       "4                      Numeric     Numeric  \n",
       "5                      Boolean     Boolean  \n",
       "6                      Numeric     Numeric  \n",
       "7                     Variable        None  \n",
       "8                        Index     Numeric  \n",
       "9                     Discrete    Discrete  \n",
       "10                    Variable        None  \n",
       "11           DatetimeTimeIndex     Numeric  \n",
       "12                    Discrete        None  \n",
       "13                     Numeric     Numeric  \n",
       "14  DatetimeTimeIndex, Numeric     Numeric  \n",
       "15           DatetimeTimeIndex     Numeric  \n",
       "16                     Numeric     Numeric  \n",
       "17           DatetimeTimeIndex     Numeric  \n",
       "18                     Boolean     Numeric  \n",
       "19                     Boolean     Boolean  \n",
       "20                     Numeric     Numeric  \n",
       "21                     Numeric     Numeric  "
      ],
      "text/html": "<div>\n<style scoped>\n    .dataframe tbody tr th:only-of-type {\n        vertical-align: middle;\n    }\n\n    .dataframe tbody tr th {\n        vertical-align: top;\n    }\n\n    .dataframe thead th {\n        text-align: right;\n    }\n</style>\n<table border=\"1\" class=\"dataframe\">\n  <thead>\n    <tr style=\"text-align: right;\">\n      <th></th>\n      <th>name</th>\n      <th>type</th>\n      <th>dask_compatible</th>\n      <th>koalas_compatible</th>\n      <th>description</th>\n      <th>valid_inputs</th>\n      <th>return_type</th>\n    </tr>\n  </thead>\n  <tbody>\n    <tr>\n      <th>0</th>\n      <td>num_unique</td>\n      <td>aggregation</td>\n      <td>True</td>\n      <td>True</td>\n      <td>Determines the number of distinct values, igno...</td>\n      <td>Discrete</td>\n      <td>Numeric</td>\n    </tr>\n    <tr>\n      <th>1</th>\n      <td>num_true</td>\n      <td>aggregation</td>\n      <td>True</td>\n      <td>False</td>\n      <td>Counts the number of `True` values.</td>\n      <td>Boolean</td>\n      <td>Numeric</td>\n    </tr>\n    <tr>\n      <th>2</th>\n      <td>sum</td>\n      <td>aggregation</td>\n      <td>True</td>\n      <td>True</td>\n      <td>Calculates the total addition, ignoring `NaN`.</td>\n      <td>Numeric</td>\n      <td>Numeric</td>\n    </tr>\n    <tr>\n      <th>3</th>\n      <td>entropy</td>\n      <td>aggregation</td>\n      <td>False</td>\n      <td>False</td>\n      <td>Calculates the entropy for a categorical variable</td>\n      <td>Categorical</td>\n      <td>Numeric</td>\n    </tr>\n    <tr>\n      <th>4</th>\n      <td>max</td>\n      <td>aggregation</td>\n      <td>True</td>\n      <td>True</td>\n      <td>Calculates the highest value, ignoring `NaN` v...</td>\n      <td>Numeric</td>\n      <td>Numeric</td>\n    </tr>\n    <tr>\n      <th>5</th>\n      <td>all</td>\n      <td>aggregation</td>\n      <td>True</td>\n      <td>False</td>\n      <td>Calculates if all values are 'True' in a list.</td>\n      <td>Boolean</td>\n      <td>Boolean</td>\n    </tr>\n    <tr>\n      <th>6</th>\n      <td>min</td>\n      <td>aggregation</td>\n      <td>True</td>\n      <td>True</td>\n      <td>Calculates the smallest value, ignoring `NaN` ...</td>\n      <td>Numeric</td>\n      <td>Numeric</td>\n    </tr>\n    <tr>\n      <th>7</th>\n      <td>first</td>\n      <td>aggregation</td>\n      <td>False</td>\n      <td>False</td>\n      <td>Determines the first value in a list.</td>\n      <td>Variable</td>\n      <td>None</td>\n    </tr>\n    <tr>\n      <th>8</th>\n      <td>count</td>\n      <td>aggregation</td>\n      <td>True</td>\n      <td>True</td>\n      <td>Determines the total number of values, excludi...</td>\n      <td>Index</td>\n      <td>Numeric</td>\n    </tr>\n    <tr>\n      <th>9</th>\n      <td>n_most_common</td>\n      <td>aggregation</td>\n      <td>False</td>\n      <td>False</td>\n      <td>Determines the `n` most common elements.</td>\n      <td>Discrete</td>\n      <td>Discrete</td>\n    </tr>\n    <tr>\n      <th>10</th>\n      <td>last</td>\n      <td>aggregation</td>\n      <td>False</td>\n      <td>False</td>\n      <td>Determines the last value in a list.</td>\n      <td>Variable</td>\n      <td>None</td>\n    </tr>\n    <tr>\n      <th>11</th>\n      <td>time_since_last</td>\n      <td>aggregation</td>\n      <td>False</td>\n      <td>False</td>\n      <td>Calculates the time elapsed since the last dat...</td>\n      <td>DatetimeTimeIndex</td>\n      <td>Numeric</td>\n    </tr>\n    <tr>\n      <th>12</th>\n      <td>mode</td>\n      <td>aggregation</td>\n      <td>False</td>\n      <td>False</td>\n      <td>Determines the most commonly repeated value.</td>\n      <td>Discrete</td>\n      <td>None</td>\n    </tr>\n    <tr>\n      <th>13</th>\n      <td>median</td>\n      <td>aggregation</td>\n      <td>False</td>\n      <td>False</td>\n      <td>Determines the middlemost number in a list of ...</td>\n      <td>Numeric</td>\n      <td>Numeric</td>\n    </tr>\n    <tr>\n      <th>14</th>\n      <td>trend</td>\n      <td>aggregation</td>\n      <td>False</td>\n      <td>False</td>\n      <td>Calculates the trend of a variable over time.</td>\n      <td>DatetimeTimeIndex, Numeric</td>\n      <td>Numeric</td>\n    </tr>\n    <tr>\n      <th>15</th>\n      <td>avg_time_between</td>\n      <td>aggregation</td>\n      <td>False</td>\n      <td>False</td>\n      <td>Computes the average number of seconds between...</td>\n      <td>DatetimeTimeIndex</td>\n      <td>Numeric</td>\n    </tr>\n    <tr>\n      <th>16</th>\n      <td>mean</td>\n      <td>aggregation</td>\n      <td>True</td>\n      <td>True</td>\n      <td>Computes the average for a list of values.</td>\n      <td>Numeric</td>\n      <td>Numeric</td>\n    </tr>\n    <tr>\n      <th>17</th>\n      <td>time_since_first</td>\n      <td>aggregation</td>\n      <td>False</td>\n      <td>False</td>\n      <td>Calculates the time elapsed since the first da...</td>\n      <td>DatetimeTimeIndex</td>\n      <td>Numeric</td>\n    </tr>\n    <tr>\n      <th>18</th>\n      <td>percent_true</td>\n      <td>aggregation</td>\n      <td>True</td>\n      <td>False</td>\n      <td>Determines the percent of `True` values.</td>\n      <td>Boolean</td>\n      <td>Numeric</td>\n    </tr>\n    <tr>\n      <th>19</th>\n      <td>any</td>\n      <td>aggregation</td>\n      <td>True</td>\n      <td>False</td>\n      <td>Determines if any value is 'True' in a list.</td>\n      <td>Boolean</td>\n      <td>Boolean</td>\n    </tr>\n    <tr>\n      <th>20</th>\n      <td>skew</td>\n      <td>aggregation</td>\n      <td>False</td>\n      <td>False</td>\n      <td>Computes the extent to which a distribution di...</td>\n      <td>Numeric</td>\n      <td>Numeric</td>\n    </tr>\n    <tr>\n      <th>21</th>\n      <td>std</td>\n      <td>aggregation</td>\n      <td>True</td>\n      <td>True</td>\n      <td>Computes the dispersion relative to the mean v...</td>\n      <td>Numeric</td>\n      <td>Numeric</td>\n    </tr>\n  </tbody>\n</table>\n</div>"
     },
     "metadata": {},
     "execution_count": 7
    }
   ],
   "source": [
    "# List the primitives in a dataframe\n",
    "# primitives = ft.list_primitives()\n",
    "# pd.options.display.max_colwidth = 100\n",
    "\n",
    "# primitives[primitives['type'] == 'aggregation'].head(10)\n",
    "primitives = ft.list_primitives()\n",
    "#pd.options.display.max_colwidth = 100\n",
    "primitives[primitives['type'] == 'aggregation'].head(22)"
   ]
  },
  {
   "cell_type": "code",
   "execution_count": 19,
   "metadata": {},
   "outputs": [
    {
     "output_type": "execute_result",
     "data": {
      "text/plain": [
       "                               name       type  dask_compatible  \\\n",
       "22                       is_weekend  transform             True   \n",
       "23                          cum_max  transform            False   \n",
       "24        less_than_equal_to_scalar  transform             True   \n",
       "25                              not  transform             True   \n",
       "26                              day  transform             True   \n",
       "27            divide_numeric_scalar  transform             True   \n",
       "28               add_numeric_scalar  transform             True   \n",
       "29                        less_than  transform             True   \n",
       "30                        longitude  transform            False   \n",
       "31                             week  transform             True   \n",
       "32                modulo_by_feature  transform             True   \n",
       "33                       time_since  transform             True   \n",
       "34                        not_equal  transform             True   \n",
       "35                          cum_sum  transform            False   \n",
       "36                          cum_min  transform            False   \n",
       "37                         cum_mean  transform            False   \n",
       "38          subtract_numeric_scalar  transform             True   \n",
       "39                     greater_than  transform             True   \n",
       "40                divide_by_feature  transform             True   \n",
       "41                        haversine  transform            False   \n",
       "42                              and  transform             True   \n",
       "43                      add_numeric  transform             True   \n",
       "44          multiply_numeric_scalar  transform             True   \n",
       "45                             hour  transform             True   \n",
       "46                           minute  transform             True   \n",
       "47                     equal_scalar  transform             True   \n",
       "48                 multiply_numeric  transform             True   \n",
       "49                           negate  transform             True   \n",
       "50                         absolute  transform             True   \n",
       "51                            equal  transform             True   \n",
       "52                         latitude  transform            False   \n",
       "53                        num_words  transform             True   \n",
       "54                            month  transform             True   \n",
       "55                 multiply_boolean  transform             True   \n",
       "56                 less_than_scalar  transform             True   \n",
       "57                             diff  transform            False   \n",
       "58                        cum_count  transform            False   \n",
       "59                             isin  transform             True   \n",
       "60              greater_than_scalar  transform             True   \n",
       "61     greater_than_equal_to_scalar  transform             True   \n",
       "62                          is_null  transform             True   \n",
       "63              time_since_previous  transform            False   \n",
       "64                           second  transform             True   \n",
       "65  scalar_subtract_numeric_feature  transform             True   \n",
       "66            greater_than_equal_to  transform             True   \n",
       "67            modulo_numeric_scalar  transform             True   \n",
       "68                   divide_numeric  transform             True   \n",
       "69                 subtract_numeric  transform             True   \n",
       "70                               or  transform             True   \n",
       "71                          weekday  transform             True   \n",
       "72                       percentile  transform            False   \n",
       "73                 not_equal_scalar  transform             True   \n",
       "74                   modulo_numeric  transform             True   \n",
       "75                   num_characters  transform             True   \n",
       "76               less_than_equal_to  transform             True   \n",
       "77                              age  transform             True   \n",
       "78                             year  transform             True   \n",
       "\n",
       "    koalas_compatible                                        description  \\\n",
       "22               True           Determines if a date falls on a weekend.   \n",
       "23              False                 Calculates the cumulative maximum.   \n",
       "24               True  Determines if values are less than or equal to...   \n",
       "25               True                           Negates a boolean value.   \n",
       "26               True   Determines the day of the month from a datetime.   \n",
       "27               True       Divide each element in the list by a scalar.   \n",
       "28               True            Add a scalar to each value in the list.   \n",
       "29               True  Determines if values in one list are less than...   \n",
       "30              False  Returns the second tuple value in a list of La...   \n",
       "31               True   Determines the week of the year from a datetime.   \n",
       "32               True  Return the modulo of a scalar by each element ...   \n",
       "33              False  Calculates time from a value to a specified cu...   \n",
       "34              False  Determines if values in one list are not equal...   \n",
       "35              False                     Calculates the cumulative sum.   \n",
       "36              False                 Calculates the cumulative minimum.   \n",
       "37              False                    Calculates the cumulative mean.   \n",
       "38               True   Subtract a scalar from each element in the list.   \n",
       "39              False  Determines if values in one list are greater t...   \n",
       "40               True         Divide a scalar by each value in the list.   \n",
       "41              False  Calculates the approximate haversine distance ...   \n",
       "42               True             Element-wise logical AND of two lists.   \n",
       "43               True                Element-wise addition of two lists.   \n",
       "44               True     Multiply each element in the list by a scalar.   \n",
       "45               True           Determines the hour value of a datetime.   \n",
       "46               True        Determines the minutes value of a datetime.   \n",
       "47               True  Determines if values in a list are equal to a ...   \n",
       "48               True          Element-wise multiplication of two lists.   \n",
       "49               True                           Negates a numeric value.   \n",
       "50               True           Computes the absolute value of a number.   \n",
       "51               True  Determines if values in one list are equal to ...   \n",
       "52              False  Returns the first tuple value in a list of Lat...   \n",
       "53               True  Determines the number of words in a string by ...   \n",
       "54               True          Determines the month value of a datetime.   \n",
       "55              False  Element-wise multiplication of two lists of bo...   \n",
       "56               True  Determines if values are less than a given sca...   \n",
       "57              False  Compute the difference between the value in a ...   \n",
       "58              False                   Calculates the cumulative count.   \n",
       "59               True  Determines whether a value is present in a pro...   \n",
       "60               True  Determines if values are greater than a given ...   \n",
       "61               True  Determines if values are greater than or equal...   \n",
       "62               True                     Determines if a value is null.   \n",
       "63              False  Compute the time since the previous entry in a...   \n",
       "64               True        Determines the seconds value of a datetime.   \n",
       "65               True  Subtract each value in the list from a given s...   \n",
       "66               True  Determines if values in one list are greater t...   \n",
       "67               True  Return the modulo of each element in the list ...   \n",
       "68               True                Element-wise division of two lists.   \n",
       "69              False             Element-wise subtraction of two lists.   \n",
       "70               True              Element-wise logical OR of two lists.   \n",
       "71               True    Determines the day of the week from a datetime.   \n",
       "72              False  Determines the percentile rank for each value ...   \n",
       "73               True  Determines if values in a list are not equal t...   \n",
       "74               True                  Element-wise modulo of two lists.   \n",
       "75               True   Calculates the number of characters in a string.   \n",
       "76               True  Determines if values in one list are less than...   \n",
       "77              False  Calculates the age in years as a floating poin...   \n",
       "78               True           Determines the year value of a datetime.   \n",
       "\n",
       "                  valid_inputs return_type  \n",
       "22                    Datetime     Boolean  \n",
       "23                     Numeric     Numeric  \n",
       "24  Datetime, Numeric, Ordinal     Boolean  \n",
       "25                     Boolean     Boolean  \n",
       "26                    Datetime     Ordinal  \n",
       "27                     Numeric     Numeric  \n",
       "28                     Numeric     Numeric  \n",
       "29  Datetime, Numeric, Ordinal     Boolean  \n",
       "30                     LatLong     Numeric  \n",
       "31                    Datetime     Ordinal  \n",
       "32                     Numeric     Numeric  \n",
       "33                    Datetime     Numeric  \n",
       "34                    Variable     Boolean  \n",
       "35                     Numeric     Numeric  \n",
       "36                     Numeric     Numeric  \n",
       "37                     Numeric     Numeric  \n",
       "38                     Numeric     Numeric  \n",
       "39  Datetime, Numeric, Ordinal     Boolean  \n",
       "40                     Numeric     Numeric  \n",
       "41                     LatLong     Numeric  \n",
       "42                     Boolean     Boolean  \n",
       "43                     Numeric     Numeric  \n",
       "44                     Numeric     Numeric  \n",
       "45                    Datetime     Ordinal  \n",
       "46                    Datetime     Numeric  \n",
       "47                    Variable     Boolean  \n",
       "48            Numeric, Boolean     Numeric  \n",
       "49                     Numeric     Numeric  \n",
       "50                     Numeric     Numeric  \n",
       "51                    Variable     Boolean  \n",
       "52                     LatLong     Numeric  \n",
       "53             NaturalLanguage     Numeric  \n",
       "54                    Datetime     Ordinal  \n",
       "55                     Boolean     Boolean  \n",
       "56  Datetime, Numeric, Ordinal     Boolean  \n",
       "57                     Numeric     Numeric  \n",
       "58                Discrete, Id     Numeric  \n",
       "59                    Variable     Boolean  \n",
       "60  Datetime, Numeric, Ordinal     Boolean  \n",
       "61  Datetime, Numeric, Ordinal     Boolean  \n",
       "62                    Variable     Boolean  \n",
       "63           DatetimeTimeIndex     Numeric  \n",
       "64                    Datetime     Numeric  \n",
       "65                     Numeric     Numeric  \n",
       "66  Datetime, Numeric, Ordinal     Boolean  \n",
       "67                     Numeric     Numeric  \n",
       "68                     Numeric     Numeric  \n",
       "69                     Numeric     Numeric  \n",
       "70                     Boolean     Boolean  \n",
       "71                    Datetime     Ordinal  \n",
       "72                     Numeric     Numeric  \n",
       "73                    Variable     Boolean  \n",
       "74                     Numeric     Numeric  \n",
       "75             NaturalLanguage     Numeric  \n",
       "76  Datetime, Numeric, Ordinal     Boolean  \n",
       "77                 DateOfBirth     Numeric  \n",
       "78                    Datetime     Ordinal  "
      ],
      "text/html": "<div>\n<style scoped>\n    .dataframe tbody tr th:only-of-type {\n        vertical-align: middle;\n    }\n\n    .dataframe tbody tr th {\n        vertical-align: top;\n    }\n\n    .dataframe thead th {\n        text-align: right;\n    }\n</style>\n<table border=\"1\" class=\"dataframe\">\n  <thead>\n    <tr style=\"text-align: right;\">\n      <th></th>\n      <th>name</th>\n      <th>type</th>\n      <th>dask_compatible</th>\n      <th>koalas_compatible</th>\n      <th>description</th>\n      <th>valid_inputs</th>\n      <th>return_type</th>\n    </tr>\n  </thead>\n  <tbody>\n    <tr>\n      <th>22</th>\n      <td>is_weekend</td>\n      <td>transform</td>\n      <td>True</td>\n      <td>True</td>\n      <td>Determines if a date falls on a weekend.</td>\n      <td>Datetime</td>\n      <td>Boolean</td>\n    </tr>\n    <tr>\n      <th>23</th>\n      <td>cum_max</td>\n      <td>transform</td>\n      <td>False</td>\n      <td>False</td>\n      <td>Calculates the cumulative maximum.</td>\n      <td>Numeric</td>\n      <td>Numeric</td>\n    </tr>\n    <tr>\n      <th>24</th>\n      <td>less_than_equal_to_scalar</td>\n      <td>transform</td>\n      <td>True</td>\n      <td>True</td>\n      <td>Determines if values are less than or equal to...</td>\n      <td>Datetime, Numeric, Ordinal</td>\n      <td>Boolean</td>\n    </tr>\n    <tr>\n      <th>25</th>\n      <td>not</td>\n      <td>transform</td>\n      <td>True</td>\n      <td>True</td>\n      <td>Negates a boolean value.</td>\n      <td>Boolean</td>\n      <td>Boolean</td>\n    </tr>\n    <tr>\n      <th>26</th>\n      <td>day</td>\n      <td>transform</td>\n      <td>True</td>\n      <td>True</td>\n      <td>Determines the day of the month from a datetime.</td>\n      <td>Datetime</td>\n      <td>Ordinal</td>\n    </tr>\n    <tr>\n      <th>27</th>\n      <td>divide_numeric_scalar</td>\n      <td>transform</td>\n      <td>True</td>\n      <td>True</td>\n      <td>Divide each element in the list by a scalar.</td>\n      <td>Numeric</td>\n      <td>Numeric</td>\n    </tr>\n    <tr>\n      <th>28</th>\n      <td>add_numeric_scalar</td>\n      <td>transform</td>\n      <td>True</td>\n      <td>True</td>\n      <td>Add a scalar to each value in the list.</td>\n      <td>Numeric</td>\n      <td>Numeric</td>\n    </tr>\n    <tr>\n      <th>29</th>\n      <td>less_than</td>\n      <td>transform</td>\n      <td>True</td>\n      <td>True</td>\n      <td>Determines if values in one list are less than...</td>\n      <td>Datetime, Numeric, Ordinal</td>\n      <td>Boolean</td>\n    </tr>\n    <tr>\n      <th>30</th>\n      <td>longitude</td>\n      <td>transform</td>\n      <td>False</td>\n      <td>False</td>\n      <td>Returns the second tuple value in a list of La...</td>\n      <td>LatLong</td>\n      <td>Numeric</td>\n    </tr>\n    <tr>\n      <th>31</th>\n      <td>week</td>\n      <td>transform</td>\n      <td>True</td>\n      <td>True</td>\n      <td>Determines the week of the year from a datetime.</td>\n      <td>Datetime</td>\n      <td>Ordinal</td>\n    </tr>\n    <tr>\n      <th>32</th>\n      <td>modulo_by_feature</td>\n      <td>transform</td>\n      <td>True</td>\n      <td>True</td>\n      <td>Return the modulo of a scalar by each element ...</td>\n      <td>Numeric</td>\n      <td>Numeric</td>\n    </tr>\n    <tr>\n      <th>33</th>\n      <td>time_since</td>\n      <td>transform</td>\n      <td>True</td>\n      <td>False</td>\n      <td>Calculates time from a value to a specified cu...</td>\n      <td>Datetime</td>\n      <td>Numeric</td>\n    </tr>\n    <tr>\n      <th>34</th>\n      <td>not_equal</td>\n      <td>transform</td>\n      <td>True</td>\n      <td>False</td>\n      <td>Determines if values in one list are not equal...</td>\n      <td>Variable</td>\n      <td>Boolean</td>\n    </tr>\n    <tr>\n      <th>35</th>\n      <td>cum_sum</td>\n      <td>transform</td>\n      <td>False</td>\n      <td>False</td>\n      <td>Calculates the cumulative sum.</td>\n      <td>Numeric</td>\n      <td>Numeric</td>\n    </tr>\n    <tr>\n      <th>36</th>\n      <td>cum_min</td>\n      <td>transform</td>\n      <td>False</td>\n      <td>False</td>\n      <td>Calculates the cumulative minimum.</td>\n      <td>Numeric</td>\n      <td>Numeric</td>\n    </tr>\n    <tr>\n      <th>37</th>\n      <td>cum_mean</td>\n      <td>transform</td>\n      <td>False</td>\n      <td>False</td>\n      <td>Calculates the cumulative mean.</td>\n      <td>Numeric</td>\n      <td>Numeric</td>\n    </tr>\n    <tr>\n      <th>38</th>\n      <td>subtract_numeric_scalar</td>\n      <td>transform</td>\n      <td>True</td>\n      <td>True</td>\n      <td>Subtract a scalar from each element in the list.</td>\n      <td>Numeric</td>\n      <td>Numeric</td>\n    </tr>\n    <tr>\n      <th>39</th>\n      <td>greater_than</td>\n      <td>transform</td>\n      <td>True</td>\n      <td>False</td>\n      <td>Determines if values in one list are greater t...</td>\n      <td>Datetime, Numeric, Ordinal</td>\n      <td>Boolean</td>\n    </tr>\n    <tr>\n      <th>40</th>\n      <td>divide_by_feature</td>\n      <td>transform</td>\n      <td>True</td>\n      <td>True</td>\n      <td>Divide a scalar by each value in the list.</td>\n      <td>Numeric</td>\n      <td>Numeric</td>\n    </tr>\n    <tr>\n      <th>41</th>\n      <td>haversine</td>\n      <td>transform</td>\n      <td>False</td>\n      <td>False</td>\n      <td>Calculates the approximate haversine distance ...</td>\n      <td>LatLong</td>\n      <td>Numeric</td>\n    </tr>\n    <tr>\n      <th>42</th>\n      <td>and</td>\n      <td>transform</td>\n      <td>True</td>\n      <td>True</td>\n      <td>Element-wise logical AND of two lists.</td>\n      <td>Boolean</td>\n      <td>Boolean</td>\n    </tr>\n    <tr>\n      <th>43</th>\n      <td>add_numeric</td>\n      <td>transform</td>\n      <td>True</td>\n      <td>True</td>\n      <td>Element-wise addition of two lists.</td>\n      <td>Numeric</td>\n      <td>Numeric</td>\n    </tr>\n    <tr>\n      <th>44</th>\n      <td>multiply_numeric_scalar</td>\n      <td>transform</td>\n      <td>True</td>\n      <td>True</td>\n      <td>Multiply each element in the list by a scalar.</td>\n      <td>Numeric</td>\n      <td>Numeric</td>\n    </tr>\n    <tr>\n      <th>45</th>\n      <td>hour</td>\n      <td>transform</td>\n      <td>True</td>\n      <td>True</td>\n      <td>Determines the hour value of a datetime.</td>\n      <td>Datetime</td>\n      <td>Ordinal</td>\n    </tr>\n    <tr>\n      <th>46</th>\n      <td>minute</td>\n      <td>transform</td>\n      <td>True</td>\n      <td>True</td>\n      <td>Determines the minutes value of a datetime.</td>\n      <td>Datetime</td>\n      <td>Numeric</td>\n    </tr>\n    <tr>\n      <th>47</th>\n      <td>equal_scalar</td>\n      <td>transform</td>\n      <td>True</td>\n      <td>True</td>\n      <td>Determines if values in a list are equal to a ...</td>\n      <td>Variable</td>\n      <td>Boolean</td>\n    </tr>\n    <tr>\n      <th>48</th>\n      <td>multiply_numeric</td>\n      <td>transform</td>\n      <td>True</td>\n      <td>True</td>\n      <td>Element-wise multiplication of two lists.</td>\n      <td>Numeric, Boolean</td>\n      <td>Numeric</td>\n    </tr>\n    <tr>\n      <th>49</th>\n      <td>negate</td>\n      <td>transform</td>\n      <td>True</td>\n      <td>True</td>\n      <td>Negates a numeric value.</td>\n      <td>Numeric</td>\n      <td>Numeric</td>\n    </tr>\n    <tr>\n      <th>50</th>\n      <td>absolute</td>\n      <td>transform</td>\n      <td>True</td>\n      <td>True</td>\n      <td>Computes the absolute value of a number.</td>\n      <td>Numeric</td>\n      <td>Numeric</td>\n    </tr>\n    <tr>\n      <th>51</th>\n      <td>equal</td>\n      <td>transform</td>\n      <td>True</td>\n      <td>True</td>\n      <td>Determines if values in one list are equal to ...</td>\n      <td>Variable</td>\n      <td>Boolean</td>\n    </tr>\n    <tr>\n      <th>52</th>\n      <td>latitude</td>\n      <td>transform</td>\n      <td>False</td>\n      <td>False</td>\n      <td>Returns the first tuple value in a list of Lat...</td>\n      <td>LatLong</td>\n      <td>Numeric</td>\n    </tr>\n    <tr>\n      <th>53</th>\n      <td>num_words</td>\n      <td>transform</td>\n      <td>True</td>\n      <td>True</td>\n      <td>Determines the number of words in a string by ...</td>\n      <td>NaturalLanguage</td>\n      <td>Numeric</td>\n    </tr>\n    <tr>\n      <th>54</th>\n      <td>month</td>\n      <td>transform</td>\n      <td>True</td>\n      <td>True</td>\n      <td>Determines the month value of a datetime.</td>\n      <td>Datetime</td>\n      <td>Ordinal</td>\n    </tr>\n    <tr>\n      <th>55</th>\n      <td>multiply_boolean</td>\n      <td>transform</td>\n      <td>True</td>\n      <td>False</td>\n      <td>Element-wise multiplication of two lists of bo...</td>\n      <td>Boolean</td>\n      <td>Boolean</td>\n    </tr>\n    <tr>\n      <th>56</th>\n      <td>less_than_scalar</td>\n      <td>transform</td>\n      <td>True</td>\n      <td>True</td>\n      <td>Determines if values are less than a given sca...</td>\n      <td>Datetime, Numeric, Ordinal</td>\n      <td>Boolean</td>\n    </tr>\n    <tr>\n      <th>57</th>\n      <td>diff</td>\n      <td>transform</td>\n      <td>False</td>\n      <td>False</td>\n      <td>Compute the difference between the value in a ...</td>\n      <td>Numeric</td>\n      <td>Numeric</td>\n    </tr>\n    <tr>\n      <th>58</th>\n      <td>cum_count</td>\n      <td>transform</td>\n      <td>False</td>\n      <td>False</td>\n      <td>Calculates the cumulative count.</td>\n      <td>Discrete, Id</td>\n      <td>Numeric</td>\n    </tr>\n    <tr>\n      <th>59</th>\n      <td>isin</td>\n      <td>transform</td>\n      <td>True</td>\n      <td>True</td>\n      <td>Determines whether a value is present in a pro...</td>\n      <td>Variable</td>\n      <td>Boolean</td>\n    </tr>\n    <tr>\n      <th>60</th>\n      <td>greater_than_scalar</td>\n      <td>transform</td>\n      <td>True</td>\n      <td>True</td>\n      <td>Determines if values are greater than a given ...</td>\n      <td>Datetime, Numeric, Ordinal</td>\n      <td>Boolean</td>\n    </tr>\n    <tr>\n      <th>61</th>\n      <td>greater_than_equal_to_scalar</td>\n      <td>transform</td>\n      <td>True</td>\n      <td>True</td>\n      <td>Determines if values are greater than or equal...</td>\n      <td>Datetime, Numeric, Ordinal</td>\n      <td>Boolean</td>\n    </tr>\n    <tr>\n      <th>62</th>\n      <td>is_null</td>\n      <td>transform</td>\n      <td>True</td>\n      <td>True</td>\n      <td>Determines if a value is null.</td>\n      <td>Variable</td>\n      <td>Boolean</td>\n    </tr>\n    <tr>\n      <th>63</th>\n      <td>time_since_previous</td>\n      <td>transform</td>\n      <td>False</td>\n      <td>False</td>\n      <td>Compute the time since the previous entry in a...</td>\n      <td>DatetimeTimeIndex</td>\n      <td>Numeric</td>\n    </tr>\n    <tr>\n      <th>64</th>\n      <td>second</td>\n      <td>transform</td>\n      <td>True</td>\n      <td>True</td>\n      <td>Determines the seconds value of a datetime.</td>\n      <td>Datetime</td>\n      <td>Numeric</td>\n    </tr>\n    <tr>\n      <th>65</th>\n      <td>scalar_subtract_numeric_feature</td>\n      <td>transform</td>\n      <td>True</td>\n      <td>True</td>\n      <td>Subtract each value in the list from a given s...</td>\n      <td>Numeric</td>\n      <td>Numeric</td>\n    </tr>\n    <tr>\n      <th>66</th>\n      <td>greater_than_equal_to</td>\n      <td>transform</td>\n      <td>True</td>\n      <td>True</td>\n      <td>Determines if values in one list are greater t...</td>\n      <td>Datetime, Numeric, Ordinal</td>\n      <td>Boolean</td>\n    </tr>\n    <tr>\n      <th>67</th>\n      <td>modulo_numeric_scalar</td>\n      <td>transform</td>\n      <td>True</td>\n      <td>True</td>\n      <td>Return the modulo of each element in the list ...</td>\n      <td>Numeric</td>\n      <td>Numeric</td>\n    </tr>\n    <tr>\n      <th>68</th>\n      <td>divide_numeric</td>\n      <td>transform</td>\n      <td>True</td>\n      <td>True</td>\n      <td>Element-wise division of two lists.</td>\n      <td>Numeric</td>\n      <td>Numeric</td>\n    </tr>\n    <tr>\n      <th>69</th>\n      <td>subtract_numeric</td>\n      <td>transform</td>\n      <td>True</td>\n      <td>False</td>\n      <td>Element-wise subtraction of two lists.</td>\n      <td>Numeric</td>\n      <td>Numeric</td>\n    </tr>\n    <tr>\n      <th>70</th>\n      <td>or</td>\n      <td>transform</td>\n      <td>True</td>\n      <td>True</td>\n      <td>Element-wise logical OR of two lists.</td>\n      <td>Boolean</td>\n      <td>Boolean</td>\n    </tr>\n    <tr>\n      <th>71</th>\n      <td>weekday</td>\n      <td>transform</td>\n      <td>True</td>\n      <td>True</td>\n      <td>Determines the day of the week from a datetime.</td>\n      <td>Datetime</td>\n      <td>Ordinal</td>\n    </tr>\n    <tr>\n      <th>72</th>\n      <td>percentile</td>\n      <td>transform</td>\n      <td>False</td>\n      <td>False</td>\n      <td>Determines the percentile rank for each value ...</td>\n      <td>Numeric</td>\n      <td>Numeric</td>\n    </tr>\n    <tr>\n      <th>73</th>\n      <td>not_equal_scalar</td>\n      <td>transform</td>\n      <td>True</td>\n      <td>True</td>\n      <td>Determines if values in a list are not equal t...</td>\n      <td>Variable</td>\n      <td>Boolean</td>\n    </tr>\n    <tr>\n      <th>74</th>\n      <td>modulo_numeric</td>\n      <td>transform</td>\n      <td>True</td>\n      <td>True</td>\n      <td>Element-wise modulo of two lists.</td>\n      <td>Numeric</td>\n      <td>Numeric</td>\n    </tr>\n    <tr>\n      <th>75</th>\n      <td>num_characters</td>\n      <td>transform</td>\n      <td>True</td>\n      <td>True</td>\n      <td>Calculates the number of characters in a string.</td>\n      <td>NaturalLanguage</td>\n      <td>Numeric</td>\n    </tr>\n    <tr>\n      <th>76</th>\n      <td>less_than_equal_to</td>\n      <td>transform</td>\n      <td>True</td>\n      <td>True</td>\n      <td>Determines if values in one list are less than...</td>\n      <td>Datetime, Numeric, Ordinal</td>\n      <td>Boolean</td>\n    </tr>\n    <tr>\n      <th>77</th>\n      <td>age</td>\n      <td>transform</td>\n      <td>True</td>\n      <td>False</td>\n      <td>Calculates the age in years as a floating poin...</td>\n      <td>DateOfBirth</td>\n      <td>Numeric</td>\n    </tr>\n    <tr>\n      <th>78</th>\n      <td>year</td>\n      <td>transform</td>\n      <td>True</td>\n      <td>True</td>\n      <td>Determines the year value of a datetime.</td>\n      <td>Datetime</td>\n      <td>Ordinal</td>\n    </tr>\n  </tbody>\n</table>\n</div>"
     },
     "metadata": {},
     "execution_count": 19
    }
   ],
   "source": [
    "primitives[primitives['type'] == 'transform'].head(78)"
   ]
  },
  {
   "cell_type": "code",
   "execution_count": 9,
   "metadata": {},
   "outputs": [],
   "source": [
    "# Default primitives from featuretools\n",
    "#default_agg_primitives =  [\"sum\", \"std\", \"max\", \"skew\", \"min\", \"mean\", \"count\", \"percent_true\", \"num_unique\", \"mode\"]\n",
    "# default_trans_primitives =  [\"day\", \"year\", \"month\", \"weekday\", \"haversine\",   \"characters\"]\n",
    "default_trans_primitives =  [\"day\", \"year\", \"month\", \"weekday\"]"
   ]
  },
  {
   "cell_type": "code",
   "execution_count": 10,
   "metadata": {},
   "outputs": [
    {
     "output_type": "stream",
     "name": "stdout",
     "text": [
      "Built 24 features\n",
      "Built 24 features\n",
      "Elapsed: 00:01 | Progress: 100%|██████████\n"
     ]
    }
   ],
   "source": [
    "# DFS with specified primitives\n",
    "feature_names = ft.dfs(entityset = es, target_entity = 'WIP',\n",
    "                       trans_primitives = default_trans_primitives,\n",
    "                       #agg_primitives=default_agg_primitives, \n",
    "                        verbose = 1,\n",
    "                       features_only = True)\n",
    "feature_matrix,feature_names = ft.dfs(entityset = es, target_entity = 'WIP',\n",
    "                       trans_primitives = default_trans_primitives,\n",
    "                       #agg_primitives=default_agg_primitives, \n",
    "                        verbose = 1,\n",
    "                       features_only = False)\n",
    "\n",
    " "
   ]
  },
  {
   "cell_type": "code",
   "execution_count": 25,
   "metadata": {},
   "outputs": [
    {
     "output_type": "execute_result",
     "data": {
      "text/plain": [
       "<graphviz.dot.Digraph at 0x1d61c20c848>"
      ],
      "image/svg+xml": "<?xml version=\"1.0\" encoding=\"UTF-8\" standalone=\"no\"?>\r\n<!DOCTYPE svg PUBLIC \"-//W3C//DTD SVG 1.1//EN\"\r\n \"http://www.w3.org/Graphics/SVG/1.1/DTD/svg11.dtd\">\r\n<!-- Generated by graphviz version 2.46.1 (0)\r\n -->\r\n<!-- Title: DAY(WS_DATE) Pages: 1 -->\r\n<svg width=\"325pt\" height=\"127pt\"\r\n viewBox=\"0.00 0.00 325.00 127.00\" xmlns=\"http://www.w3.org/2000/svg\" xmlns:xlink=\"http://www.w3.org/1999/xlink\">\r\n<g id=\"graph0\" class=\"graph\" transform=\"scale(1 1) rotate(0) translate(4 123)\">\r\n<title>DAY(WS_DATE)</title>\r\n<polygon fill=\"white\" stroke=\"transparent\" points=\"-4,4 -4,-123 321,-123 321,4 -4,4\"/>\r\n<!-- WIP -->\r\n<g id=\"node1\" class=\"node\">\r\n<title>WIP</title>\r\n<polygon fill=\"#a9a9a9\" stroke=\"transparent\" points=\"8.5,-77.5 8.5,-114.5 135.5,-114.5 135.5,-77.5 8.5,-77.5\"/>\r\n<polygon fill=\"none\" stroke=\"black\" points=\"8.5,-77.5 8.5,-114.5 135.5,-114.5 135.5,-77.5 8.5,-77.5\"/>\r\n<text text-anchor=\"start\" x=\"22\" y=\"-93.3\" font-family=\"Times New Roman,serif\" font-weight=\"bold\" font-size=\"14.00\">★ WIP (target)</text>\r\n<polygon fill=\"none\" stroke=\"black\" points=\"8.5,-40.5 8.5,-77.5 135.5,-77.5 135.5,-40.5 8.5,-40.5\"/>\r\n<text text-anchor=\"start\" x=\"19.5\" y=\"-55.3\" font-family=\"Times New Roman,serif\" font-size=\"14.00\">WS_DATE</text>\r\n<polygon fill=\"#d9ead3\" stroke=\"transparent\" points=\"8.5,-3.5 8.5,-40.5 135.5,-40.5 135.5,-3.5 8.5,-3.5\"/>\r\n<polygon fill=\"none\" stroke=\"black\" points=\"8.5,-3.5 8.5,-40.5 135.5,-40.5 135.5,-3.5 8.5,-3.5\"/>\r\n<text text-anchor=\"start\" x=\"19.5\" y=\"-18.3\" font-family=\"Times New Roman,serif\" font-size=\"14.00\">DAY(WS_DATE)</text>\r\n</g>\r\n<!-- 0_DAY(WS_DATE)_day -->\r\n<g id=\"node2\" class=\"node\">\r\n<title>0_DAY(WS_DATE)_day</title>\r\n<polygon fill=\"none\" stroke=\"black\" points=\"248,-74.5 179,-40.5 248,-6.5 317,-40.5 248,-74.5\"/>\r\n<text text-anchor=\"start\" x=\"221.5\" y=\"-44.9\" font-family=\"Times New Roman,serif\" font-weight=\"bold\" font-size=\"12.00\">Transform</text>\r\n<text text-anchor=\"start\" x=\"233\" y=\"-31.3\" font-family=\"Times New Roman,serif\" font-size=\"14.00\">DAY</text>\r\n</g>\r\n<!-- WIP&#45;&gt;0_DAY(WS_DATE)_day -->\r\n<g id=\"edge2\" class=\"edge\">\r\n<title>WIP:WS_DATE&#45;&gt;0_DAY(WS_DATE)_day</title>\r\n<path fill=\"none\" stroke=\"black\" d=\"M136.5,-58.5C154.37,-58.5 173.66,-56.18 191.05,-53.2\"/>\r\n<polygon fill=\"black\" stroke=\"black\" points=\"191.82,-56.62 201.04,-51.39 190.57,-49.73 191.82,-56.62\"/>\r\n</g>\r\n<!-- 0_DAY(WS_DATE)_day&#45;&gt;WIP -->\r\n<g id=\"edge1\" class=\"edge\">\r\n<title>0_DAY(WS_DATE)_day&#45;&gt;WIP:DAY(WS_DATE)</title>\r\n<path fill=\"none\" stroke=\"black\" d=\"M201.87,-29.17C185,-25.72 165.35,-22.61 146.54,-21.74\"/>\r\n<polygon fill=\"black\" stroke=\"black\" points=\"146.58,-18.24 136.5,-21.5 146.41,-25.24 146.58,-18.24\"/>\r\n</g>\r\n</g>\r\n</svg>\r\n"
     },
     "metadata": {},
     "execution_count": 25
    }
   ],
   "source": [
    "# Feature lineage graphs\n",
    "# Understanding Feature Output¶\n",
    "# In general, Featuretools references generated features through the feature name. In order to make features easier to understand, Featuretools offers two additional tools, featuretools.graph_feature() and featuretools.describe_feature(), to help explain what a feature is and the steps Featuretools took to generate it.\n",
    "feature = feature_names[14]\n",
    "ft.graph_feature(feature)"
   ]
  },
  {
   "cell_type": "code",
   "execution_count": 26,
   "metadata": {},
   "outputs": [
    {
     "output_type": "execute_result",
     "data": {
      "text/plain": [
       "'The day of the month of the \"WS_DATE\".'"
      ]
     },
     "metadata": {},
     "execution_count": 26
    }
   ],
   "source": [
    "ft.describe_feature(feature)"
   ]
  },
  {
   "cell_type": "code",
   "execution_count": 11,
   "metadata": {},
   "outputs": [
    {
     "output_type": "stream",
     "name": "stdout",
     "text": [
      "Built 18 features\n",
      "Elapsed: 00:01 | Progress: 100%|██████████\n"
     ]
    }
   ],
   "source": [
    "feature_matrix,feature_names =ft.dfs(entityset = es, target_entity = 'WIP',\n",
    "                       trans_primitives=['weekday', 'day'],\n",
    "                       #agg_primitives=default_agg_primitives, \n",
    "                        verbose = 1,\n",
    "                       features_only = False)\n",
    "\n",
    "\n",
    " "
   ]
  },
  {
   "cell_type": "code",
   "execution_count": 12,
   "metadata": {},
   "outputs": [
    {
     "output_type": "stream",
     "name": "stdout",
     "text": [
      "Built 15 features\n",
      "Elapsed: 00:00 | Progress:   0%|          C:\\ProgramData\\Anaconda3\\envs\\PY379\\lib\\site-packages\\featuretools\\synthesis\\dfs.py:317: UnusedPrimitiveWarning: Some specified primitives were not used during DFS:\n",
      "  trans_primitives: ['cum_count']\n",
      "  groupby_trans_primitives: ['cum_count', 'cum_sum']\n",
      "This may be caused by a using a value of max_depth that is too small, not setting interesting values, or it may indicate no compatible variable types for the primitive were found in the data.\n",
      "  warnings.warn(warning_msg, UnusedPrimitiveWarning)\n",
      "Elapsed: 00:01 | Progress: 100%|██████████\n"
     ]
    },
    {
     "output_type": "execute_result",
     "data": {
      "text/plain": [
       "           LOT_ID      STATUS                            CHIPNAME LAYER  \\\n",
       "ID                                                                        \n",
       "0       AWM885000     WAITING  CHIP25                                1C   \n",
       "1       AWM009000     WAITING  CHIP25                                1M   \n",
       "2       AWM125000     WAITING  CHIP25                                2T   \n",
       "3       AWN854000  PROCESSING  CHIP25                                1P   \n",
       "4       AWN860000     WAITING  CHIP25                                2N   \n",
       "...           ...         ...                                 ...   ...   \n",
       "226646  MPF498000  PROCESSING  CHIP177                               1G   \n",
       "226647  MPG078000  PROCESSING  CHIP177                               1F   \n",
       "226648  MPG078000  PROCESSING  CHIP177                               1F   \n",
       "226649  MPG203000     WAITING  CHIP177                               1F   \n",
       "226650  MPF496000  PROCESSING  CHIP177                               4E   \n",
       "\n",
       "        REMAIN_LAYER_SEQ     OP_NO  REMAIN_OP_SEQ LOT_TYPE  WIP_QTY  \\\n",
       "ID                                                                    \n",
       "0                    9.0  1C.WWW20          222.0      FDY       25   \n",
       "1                    8.0  1M.ECM10          199.0      FDY       25   \n",
       "2                    5.0  2T.PPK10          101.0      FDY       25   \n",
       "3                   14.0  1P.WWA10          319.0      FDY       25   \n",
       "4                   13.0  2N.IIA10          292.0      FDY       25   \n",
       "...                  ...       ...            ...      ...      ...   \n",
       "226646              19.0  1G.FRA05          450.0      FDY       25   \n",
       "226647              22.0  1F.FFE10          523.0      FDY       18   \n",
       "226648              22.0  1F.FFE10          523.0      FDY        7   \n",
       "226649              22.0  1F.CDA10          550.0      FDY       18   \n",
       "226650              20.0  4E.FFN20          484.0      FDY       18   \n",
       "\n",
       "        IS_MAIN_ROUTE     IDX  CUM_SUM(IS_MAIN_ROUTE)  \\\n",
       "ID                                                      \n",
       "0                   1   32905                       1   \n",
       "1                   1   32939                       2   \n",
       "2                   1   33153                       3   \n",
       "3                   1   47309                       4   \n",
       "4                   1   47315                       5   \n",
       "...               ...     ...                     ...   \n",
       "226646              1  510556                  220565   \n",
       "226647              1  511000                  220566   \n",
       "226648              1  511001                  220567   \n",
       "226649              1  511119                  220568   \n",
       "226650              1  510553                  220569   \n",
       "\n",
       "        CUM_SUM(REMAIN_LAYER_SEQ)  CUM_SUM(REMAIN_OP_SEQ)  CUM_SUM(WIP_QTY)  \n",
       "ID                                                                           \n",
       "0                             9.0                   222.0                25  \n",
       "1                            17.0                   421.0                50  \n",
       "2                            22.0                   522.0                75  \n",
       "3                            36.0                   841.0               100  \n",
       "4                            49.0                  1133.0               125  \n",
       "...                           ...                     ...               ...  \n",
       "226646                  3063249.0              65282678.0           5133370  \n",
       "226647                  3063271.0              65283201.0           5133388  \n",
       "226648                  3063293.0              65283724.0           5133395  \n",
       "226649                  3063315.0              65284274.0           5133413  \n",
       "226650                  3063335.0              65284758.0           5133431  \n",
       "\n",
       "[226723 rows x 15 columns]"
      ],
      "text/html": "<div>\n<style scoped>\n    .dataframe tbody tr th:only-of-type {\n        vertical-align: middle;\n    }\n\n    .dataframe tbody tr th {\n        vertical-align: top;\n    }\n\n    .dataframe thead th {\n        text-align: right;\n    }\n</style>\n<table border=\"1\" class=\"dataframe\">\n  <thead>\n    <tr style=\"text-align: right;\">\n      <th></th>\n      <th>LOT_ID</th>\n      <th>STATUS</th>\n      <th>CHIPNAME</th>\n      <th>LAYER</th>\n      <th>REMAIN_LAYER_SEQ</th>\n      <th>OP_NO</th>\n      <th>REMAIN_OP_SEQ</th>\n      <th>LOT_TYPE</th>\n      <th>WIP_QTY</th>\n      <th>IS_MAIN_ROUTE</th>\n      <th>IDX</th>\n      <th>CUM_SUM(IS_MAIN_ROUTE)</th>\n      <th>CUM_SUM(REMAIN_LAYER_SEQ)</th>\n      <th>CUM_SUM(REMAIN_OP_SEQ)</th>\n      <th>CUM_SUM(WIP_QTY)</th>\n    </tr>\n    <tr>\n      <th>ID</th>\n      <th></th>\n      <th></th>\n      <th></th>\n      <th></th>\n      <th></th>\n      <th></th>\n      <th></th>\n      <th></th>\n      <th></th>\n      <th></th>\n      <th></th>\n      <th></th>\n      <th></th>\n      <th></th>\n      <th></th>\n    </tr>\n  </thead>\n  <tbody>\n    <tr>\n      <th>0</th>\n      <td>AWM885000</td>\n      <td>WAITING</td>\n      <td>CHIP25</td>\n      <td>1C</td>\n      <td>9.0</td>\n      <td>1C.WWW20</td>\n      <td>222.0</td>\n      <td>FDY</td>\n      <td>25</td>\n      <td>1</td>\n      <td>32905</td>\n      <td>1</td>\n      <td>9.0</td>\n      <td>222.0</td>\n      <td>25</td>\n    </tr>\n    <tr>\n      <th>1</th>\n      <td>AWM009000</td>\n      <td>WAITING</td>\n      <td>CHIP25</td>\n      <td>1M</td>\n      <td>8.0</td>\n      <td>1M.ECM10</td>\n      <td>199.0</td>\n      <td>FDY</td>\n      <td>25</td>\n      <td>1</td>\n      <td>32939</td>\n      <td>2</td>\n      <td>17.0</td>\n      <td>421.0</td>\n      <td>50</td>\n    </tr>\n    <tr>\n      <th>2</th>\n      <td>AWM125000</td>\n      <td>WAITING</td>\n      <td>CHIP25</td>\n      <td>2T</td>\n      <td>5.0</td>\n      <td>2T.PPK10</td>\n      <td>101.0</td>\n      <td>FDY</td>\n      <td>25</td>\n      <td>1</td>\n      <td>33153</td>\n      <td>3</td>\n      <td>22.0</td>\n      <td>522.0</td>\n      <td>75</td>\n    </tr>\n    <tr>\n      <th>3</th>\n      <td>AWN854000</td>\n      <td>PROCESSING</td>\n      <td>CHIP25</td>\n      <td>1P</td>\n      <td>14.0</td>\n      <td>1P.WWA10</td>\n      <td>319.0</td>\n      <td>FDY</td>\n      <td>25</td>\n      <td>1</td>\n      <td>47309</td>\n      <td>4</td>\n      <td>36.0</td>\n      <td>841.0</td>\n      <td>100</td>\n    </tr>\n    <tr>\n      <th>4</th>\n      <td>AWN860000</td>\n      <td>WAITING</td>\n      <td>CHIP25</td>\n      <td>2N</td>\n      <td>13.0</td>\n      <td>2N.IIA10</td>\n      <td>292.0</td>\n      <td>FDY</td>\n      <td>25</td>\n      <td>1</td>\n      <td>47315</td>\n      <td>5</td>\n      <td>49.0</td>\n      <td>1133.0</td>\n      <td>125</td>\n    </tr>\n    <tr>\n      <th>...</th>\n      <td>...</td>\n      <td>...</td>\n      <td>...</td>\n      <td>...</td>\n      <td>...</td>\n      <td>...</td>\n      <td>...</td>\n      <td>...</td>\n      <td>...</td>\n      <td>...</td>\n      <td>...</td>\n      <td>...</td>\n      <td>...</td>\n      <td>...</td>\n      <td>...</td>\n    </tr>\n    <tr>\n      <th>226646</th>\n      <td>MPF498000</td>\n      <td>PROCESSING</td>\n      <td>CHIP177</td>\n      <td>1G</td>\n      <td>19.0</td>\n      <td>1G.FRA05</td>\n      <td>450.0</td>\n      <td>FDY</td>\n      <td>25</td>\n      <td>1</td>\n      <td>510556</td>\n      <td>220565</td>\n      <td>3063249.0</td>\n      <td>65282678.0</td>\n      <td>5133370</td>\n    </tr>\n    <tr>\n      <th>226647</th>\n      <td>MPG078000</td>\n      <td>PROCESSING</td>\n      <td>CHIP177</td>\n      <td>1F</td>\n      <td>22.0</td>\n      <td>1F.FFE10</td>\n      <td>523.0</td>\n      <td>FDY</td>\n      <td>18</td>\n      <td>1</td>\n      <td>511000</td>\n      <td>220566</td>\n      <td>3063271.0</td>\n      <td>65283201.0</td>\n      <td>5133388</td>\n    </tr>\n    <tr>\n      <th>226648</th>\n      <td>MPG078000</td>\n      <td>PROCESSING</td>\n      <td>CHIP177</td>\n      <td>1F</td>\n      <td>22.0</td>\n      <td>1F.FFE10</td>\n      <td>523.0</td>\n      <td>FDY</td>\n      <td>7</td>\n      <td>1</td>\n      <td>511001</td>\n      <td>220567</td>\n      <td>3063293.0</td>\n      <td>65283724.0</td>\n      <td>5133395</td>\n    </tr>\n    <tr>\n      <th>226649</th>\n      <td>MPG203000</td>\n      <td>WAITING</td>\n      <td>CHIP177</td>\n      <td>1F</td>\n      <td>22.0</td>\n      <td>1F.CDA10</td>\n      <td>550.0</td>\n      <td>FDY</td>\n      <td>18</td>\n      <td>1</td>\n      <td>511119</td>\n      <td>220568</td>\n      <td>3063315.0</td>\n      <td>65284274.0</td>\n      <td>5133413</td>\n    </tr>\n    <tr>\n      <th>226650</th>\n      <td>MPF496000</td>\n      <td>PROCESSING</td>\n      <td>CHIP177</td>\n      <td>4E</td>\n      <td>20.0</td>\n      <td>4E.FFN20</td>\n      <td>484.0</td>\n      <td>FDY</td>\n      <td>18</td>\n      <td>1</td>\n      <td>510553</td>\n      <td>220569</td>\n      <td>3063335.0</td>\n      <td>65284758.0</td>\n      <td>5133431</td>\n    </tr>\n  </tbody>\n</table>\n<p>226723 rows × 15 columns</p>\n</div>"
     },
     "metadata": {},
     "execution_count": 12
    }
   ],
   "source": [
    "#累績總計 與總數\n",
    " \n",
    "feature_matrix, features_list = ft.dfs(entityset=es, \n",
    "    verbose = 1,\n",
    "\ttarget_entity='WIP',\n",
    "    agg_primitives=[], \n",
    "\ttrans_primitives=['cum_sum', 'cum_count'], \n",
    "\tgroupby_trans_primitives=['cum_sum', 'cum_count'], #累積總計、累積總數\n",
    "    \n",
    "    ignore_variables={'WIP': ['PRIORITY']}\n",
    "    \n",
    "\t)\n",
    "feature_matrix    \n"
   ]
  },
  {
   "cell_type": "code",
   "execution_count": 13,
   "metadata": {},
   "outputs": [
    {
     "output_type": "execute_result",
     "data": {
      "text/plain": [
       "                  name         type  dask_compatible  koalas_compatible  \\\n",
       "0           num_unique  aggregation             True               True   \n",
       "1             num_true  aggregation             True              False   \n",
       "2                  sum  aggregation             True               True   \n",
       "3              entropy  aggregation            False              False   \n",
       "4                  max  aggregation             True               True   \n",
       "..                 ...          ...              ...                ...   \n",
       "74      modulo_numeric    transform             True               True   \n",
       "75      num_characters    transform             True               True   \n",
       "76  less_than_equal_to    transform             True               True   \n",
       "77                 age    transform             True              False   \n",
       "78                year    transform             True               True   \n",
       "\n",
       "                                          description  \\\n",
       "0   Determines the number of distinct values, igno...   \n",
       "1                 Counts the number of `True` values.   \n",
       "2      Calculates the total addition, ignoring `NaN`.   \n",
       "3   Calculates the entropy for a categorical variable   \n",
       "4   Calculates the highest value, ignoring `NaN` v...   \n",
       "..                                                ...   \n",
       "74                  Element-wise modulo of two lists.   \n",
       "75   Calculates the number of characters in a string.   \n",
       "76  Determines if values in one list are less than...   \n",
       "77  Calculates the age in years as a floating poin...   \n",
       "78           Determines the year value of a datetime.   \n",
       "\n",
       "                  valid_inputs return_type  \n",
       "0                     Discrete     Numeric  \n",
       "1                      Boolean     Numeric  \n",
       "2                      Numeric     Numeric  \n",
       "3                  Categorical     Numeric  \n",
       "4                      Numeric     Numeric  \n",
       "..                         ...         ...  \n",
       "74                     Numeric     Numeric  \n",
       "75             NaturalLanguage     Numeric  \n",
       "76  Datetime, Numeric, Ordinal     Boolean  \n",
       "77                 DateOfBirth     Numeric  \n",
       "78                    Datetime     Ordinal  \n",
       "\n",
       "[79 rows x 7 columns]"
      ],
      "text/html": "<div>\n<style scoped>\n    .dataframe tbody tr th:only-of-type {\n        vertical-align: middle;\n    }\n\n    .dataframe tbody tr th {\n        vertical-align: top;\n    }\n\n    .dataframe thead th {\n        text-align: right;\n    }\n</style>\n<table border=\"1\" class=\"dataframe\">\n  <thead>\n    <tr style=\"text-align: right;\">\n      <th></th>\n      <th>name</th>\n      <th>type</th>\n      <th>dask_compatible</th>\n      <th>koalas_compatible</th>\n      <th>description</th>\n      <th>valid_inputs</th>\n      <th>return_type</th>\n    </tr>\n  </thead>\n  <tbody>\n    <tr>\n      <th>0</th>\n      <td>num_unique</td>\n      <td>aggregation</td>\n      <td>True</td>\n      <td>True</td>\n      <td>Determines the number of distinct values, igno...</td>\n      <td>Discrete</td>\n      <td>Numeric</td>\n    </tr>\n    <tr>\n      <th>1</th>\n      <td>num_true</td>\n      <td>aggregation</td>\n      <td>True</td>\n      <td>False</td>\n      <td>Counts the number of `True` values.</td>\n      <td>Boolean</td>\n      <td>Numeric</td>\n    </tr>\n    <tr>\n      <th>2</th>\n      <td>sum</td>\n      <td>aggregation</td>\n      <td>True</td>\n      <td>True</td>\n      <td>Calculates the total addition, ignoring `NaN`.</td>\n      <td>Numeric</td>\n      <td>Numeric</td>\n    </tr>\n    <tr>\n      <th>3</th>\n      <td>entropy</td>\n      <td>aggregation</td>\n      <td>False</td>\n      <td>False</td>\n      <td>Calculates the entropy for a categorical variable</td>\n      <td>Categorical</td>\n      <td>Numeric</td>\n    </tr>\n    <tr>\n      <th>4</th>\n      <td>max</td>\n      <td>aggregation</td>\n      <td>True</td>\n      <td>True</td>\n      <td>Calculates the highest value, ignoring `NaN` v...</td>\n      <td>Numeric</td>\n      <td>Numeric</td>\n    </tr>\n    <tr>\n      <th>...</th>\n      <td>...</td>\n      <td>...</td>\n      <td>...</td>\n      <td>...</td>\n      <td>...</td>\n      <td>...</td>\n      <td>...</td>\n    </tr>\n    <tr>\n      <th>74</th>\n      <td>modulo_numeric</td>\n      <td>transform</td>\n      <td>True</td>\n      <td>True</td>\n      <td>Element-wise modulo of two lists.</td>\n      <td>Numeric</td>\n      <td>Numeric</td>\n    </tr>\n    <tr>\n      <th>75</th>\n      <td>num_characters</td>\n      <td>transform</td>\n      <td>True</td>\n      <td>True</td>\n      <td>Calculates the number of characters in a string.</td>\n      <td>NaturalLanguage</td>\n      <td>Numeric</td>\n    </tr>\n    <tr>\n      <th>76</th>\n      <td>less_than_equal_to</td>\n      <td>transform</td>\n      <td>True</td>\n      <td>True</td>\n      <td>Determines if values in one list are less than...</td>\n      <td>Datetime, Numeric, Ordinal</td>\n      <td>Boolean</td>\n    </tr>\n    <tr>\n      <th>77</th>\n      <td>age</td>\n      <td>transform</td>\n      <td>True</td>\n      <td>False</td>\n      <td>Calculates the age in years as a floating poin...</td>\n      <td>DateOfBirth</td>\n      <td>Numeric</td>\n    </tr>\n    <tr>\n      <th>78</th>\n      <td>year</td>\n      <td>transform</td>\n      <td>True</td>\n      <td>True</td>\n      <td>Determines the year value of a datetime.</td>\n      <td>Datetime</td>\n      <td>Ordinal</td>\n    </tr>\n  </tbody>\n</table>\n<p>79 rows × 7 columns</p>\n</div>"
     },
     "metadata": {},
     "execution_count": 13
    }
   ],
   "source": [
    "ft.primitives.list_primitives()"
   ]
  },
  {
   "cell_type": "code",
   "execution_count": 14,
   "metadata": {},
   "outputs": [
    {
     "output_type": "stream",
     "name": "stdout",
     "text": [
      "Built 15 features\n",
      "Elapsed: 00:00 | Progress:   0%|          C:\\ProgramData\\Anaconda3\\envs\\PY379\\lib\\site-packages\\featuretools\\synthesis\\dfs.py:317: UnusedPrimitiveWarning: Some specified primitives were not used during DFS:\n",
      "  trans_primitives: ['cum_count']\n",
      "This may be caused by a using a value of max_depth that is too small, not setting interesting values, or it may indicate no compatible variable types for the primitive were found in the data.\n",
      "  warnings.warn(warning_msg, UnusedPrimitiveWarning)\n",
      "Elapsed: 00:01 | Progress: 100%|██████████\n"
     ]
    },
    {
     "output_type": "execute_result",
     "data": {
      "text/plain": [
       "           LOT_ID      STATUS                            CHIPNAME LAYER  \\\n",
       "ID                                                                        \n",
       "0       AWM885000     WAITING  CHIP25                                1C   \n",
       "1       AWM009000     WAITING  CHIP25                                1M   \n",
       "2       AWM125000     WAITING  CHIP25                                2T   \n",
       "3       AWN854000  PROCESSING  CHIP25                                1P   \n",
       "4       AWN860000     WAITING  CHIP25                                2N   \n",
       "...           ...         ...                                 ...   ...   \n",
       "226646  MPF498000  PROCESSING  CHIP177                               1G   \n",
       "226647  MPG078000  PROCESSING  CHIP177                               1F   \n",
       "226648  MPG078000  PROCESSING  CHIP177                               1F   \n",
       "226649  MPG203000     WAITING  CHIP177                               1F   \n",
       "226650  MPF496000  PROCESSING  CHIP177                               4E   \n",
       "\n",
       "        REMAIN_LAYER_SEQ     OP_NO  REMAIN_OP_SEQ  PRIORITY LOT_TYPE  WIP_QTY  \\\n",
       "ID                                                                              \n",
       "0                    9.0  1C.WWW20          222.0         4      FDY       25   \n",
       "1                    8.0  1M.ECM10          199.0         4      FDY       25   \n",
       "2                    5.0  2T.PPK10          101.0         4      FDY       25   \n",
       "3                   14.0  1P.WWA10          319.0         4      FDY       25   \n",
       "4                   13.0  2N.IIA10          292.0         4      FDY       25   \n",
       "...                  ...       ...            ...       ...      ...      ...   \n",
       "226646              19.0  1G.FRA05          450.0         1      FDY       25   \n",
       "226647              22.0  1F.FFE10          523.0         1      FDY       18   \n",
       "226648              22.0  1F.FFE10          523.0         1      FDY        7   \n",
       "226649              22.0  1F.CDA10          550.0         4      FDY       18   \n",
       "226650              20.0  4E.FFN20          484.0         1      FDY       18   \n",
       "\n",
       "        IS_MAIN_ROUTE     IDX  CUM_SUM(WIP_QTY)  IS_WEEKEND(DATA_DATE)  \\\n",
       "ID                                                                       \n",
       "0                   1   32905                25                   True   \n",
       "1                   1   32939                50                   True   \n",
       "2                   1   33153                75                   True   \n",
       "3                   1   47309               100                   True   \n",
       "4                   1   47315               125                   True   \n",
       "...               ...     ...               ...                    ...   \n",
       "226646              1  510556           5133370                  False   \n",
       "226647              1  511000           5133388                  False   \n",
       "226648              1  511001           5133395                  False   \n",
       "226649              1  511119           5133413                  False   \n",
       "226650              1  510553           5133431                  False   \n",
       "\n",
       "        IS_WEEKEND(WS_DATE)  \n",
       "ID                           \n",
       "0                      True  \n",
       "1                      True  \n",
       "2                     False  \n",
       "3                     False  \n",
       "4                     False  \n",
       "...                     ...  \n",
       "226646                False  \n",
       "226647                False  \n",
       "226648                False  \n",
       "226649                False  \n",
       "226650                False  \n",
       "\n",
       "[226723 rows x 15 columns]"
      ],
      "text/html": "<div>\n<style scoped>\n    .dataframe tbody tr th:only-of-type {\n        vertical-align: middle;\n    }\n\n    .dataframe tbody tr th {\n        vertical-align: top;\n    }\n\n    .dataframe thead th {\n        text-align: right;\n    }\n</style>\n<table border=\"1\" class=\"dataframe\">\n  <thead>\n    <tr style=\"text-align: right;\">\n      <th></th>\n      <th>LOT_ID</th>\n      <th>STATUS</th>\n      <th>CHIPNAME</th>\n      <th>LAYER</th>\n      <th>REMAIN_LAYER_SEQ</th>\n      <th>OP_NO</th>\n      <th>REMAIN_OP_SEQ</th>\n      <th>PRIORITY</th>\n      <th>LOT_TYPE</th>\n      <th>WIP_QTY</th>\n      <th>IS_MAIN_ROUTE</th>\n      <th>IDX</th>\n      <th>CUM_SUM(WIP_QTY)</th>\n      <th>IS_WEEKEND(DATA_DATE)</th>\n      <th>IS_WEEKEND(WS_DATE)</th>\n    </tr>\n    <tr>\n      <th>ID</th>\n      <th></th>\n      <th></th>\n      <th></th>\n      <th></th>\n      <th></th>\n      <th></th>\n      <th></th>\n      <th></th>\n      <th></th>\n      <th></th>\n      <th></th>\n      <th></th>\n      <th></th>\n      <th></th>\n      <th></th>\n    </tr>\n  </thead>\n  <tbody>\n    <tr>\n      <th>0</th>\n      <td>AWM885000</td>\n      <td>WAITING</td>\n      <td>CHIP25</td>\n      <td>1C</td>\n      <td>9.0</td>\n      <td>1C.WWW20</td>\n      <td>222.0</td>\n      <td>4</td>\n      <td>FDY</td>\n      <td>25</td>\n      <td>1</td>\n      <td>32905</td>\n      <td>25</td>\n      <td>True</td>\n      <td>True</td>\n    </tr>\n    <tr>\n      <th>1</th>\n      <td>AWM009000</td>\n      <td>WAITING</td>\n      <td>CHIP25</td>\n      <td>1M</td>\n      <td>8.0</td>\n      <td>1M.ECM10</td>\n      <td>199.0</td>\n      <td>4</td>\n      <td>FDY</td>\n      <td>25</td>\n      <td>1</td>\n      <td>32939</td>\n      <td>50</td>\n      <td>True</td>\n      <td>True</td>\n    </tr>\n    <tr>\n      <th>2</th>\n      <td>AWM125000</td>\n      <td>WAITING</td>\n      <td>CHIP25</td>\n      <td>2T</td>\n      <td>5.0</td>\n      <td>2T.PPK10</td>\n      <td>101.0</td>\n      <td>4</td>\n      <td>FDY</td>\n      <td>25</td>\n      <td>1</td>\n      <td>33153</td>\n      <td>75</td>\n      <td>True</td>\n      <td>False</td>\n    </tr>\n    <tr>\n      <th>3</th>\n      <td>AWN854000</td>\n      <td>PROCESSING</td>\n      <td>CHIP25</td>\n      <td>1P</td>\n      <td>14.0</td>\n      <td>1P.WWA10</td>\n      <td>319.0</td>\n      <td>4</td>\n      <td>FDY</td>\n      <td>25</td>\n      <td>1</td>\n      <td>47309</td>\n      <td>100</td>\n      <td>True</td>\n      <td>False</td>\n    </tr>\n    <tr>\n      <th>4</th>\n      <td>AWN860000</td>\n      <td>WAITING</td>\n      <td>CHIP25</td>\n      <td>2N</td>\n      <td>13.0</td>\n      <td>2N.IIA10</td>\n      <td>292.0</td>\n      <td>4</td>\n      <td>FDY</td>\n      <td>25</td>\n      <td>1</td>\n      <td>47315</td>\n      <td>125</td>\n      <td>True</td>\n      <td>False</td>\n    </tr>\n    <tr>\n      <th>...</th>\n      <td>...</td>\n      <td>...</td>\n      <td>...</td>\n      <td>...</td>\n      <td>...</td>\n      <td>...</td>\n      <td>...</td>\n      <td>...</td>\n      <td>...</td>\n      <td>...</td>\n      <td>...</td>\n      <td>...</td>\n      <td>...</td>\n      <td>...</td>\n      <td>...</td>\n    </tr>\n    <tr>\n      <th>226646</th>\n      <td>MPF498000</td>\n      <td>PROCESSING</td>\n      <td>CHIP177</td>\n      <td>1G</td>\n      <td>19.0</td>\n      <td>1G.FRA05</td>\n      <td>450.0</td>\n      <td>1</td>\n      <td>FDY</td>\n      <td>25</td>\n      <td>1</td>\n      <td>510556</td>\n      <td>5133370</td>\n      <td>False</td>\n      <td>False</td>\n    </tr>\n    <tr>\n      <th>226647</th>\n      <td>MPG078000</td>\n      <td>PROCESSING</td>\n      <td>CHIP177</td>\n      <td>1F</td>\n      <td>22.0</td>\n      <td>1F.FFE10</td>\n      <td>523.0</td>\n      <td>1</td>\n      <td>FDY</td>\n      <td>18</td>\n      <td>1</td>\n      <td>511000</td>\n      <td>5133388</td>\n      <td>False</td>\n      <td>False</td>\n    </tr>\n    <tr>\n      <th>226648</th>\n      <td>MPG078000</td>\n      <td>PROCESSING</td>\n      <td>CHIP177</td>\n      <td>1F</td>\n      <td>22.0</td>\n      <td>1F.FFE10</td>\n      <td>523.0</td>\n      <td>1</td>\n      <td>FDY</td>\n      <td>7</td>\n      <td>1</td>\n      <td>511001</td>\n      <td>5133395</td>\n      <td>False</td>\n      <td>False</td>\n    </tr>\n    <tr>\n      <th>226649</th>\n      <td>MPG203000</td>\n      <td>WAITING</td>\n      <td>CHIP177</td>\n      <td>1F</td>\n      <td>22.0</td>\n      <td>1F.CDA10</td>\n      <td>550.0</td>\n      <td>4</td>\n      <td>FDY</td>\n      <td>18</td>\n      <td>1</td>\n      <td>511119</td>\n      <td>5133413</td>\n      <td>False</td>\n      <td>False</td>\n    </tr>\n    <tr>\n      <th>226650</th>\n      <td>MPF496000</td>\n      <td>PROCESSING</td>\n      <td>CHIP177</td>\n      <td>4E</td>\n      <td>20.0</td>\n      <td>4E.FFN20</td>\n      <td>484.0</td>\n      <td>1</td>\n      <td>FDY</td>\n      <td>18</td>\n      <td>1</td>\n      <td>510553</td>\n      <td>5133431</td>\n      <td>False</td>\n      <td>False</td>\n    </tr>\n  </tbody>\n</table>\n<p>226723 rows × 15 columns</p>\n</div>"
     },
     "metadata": {},
     "execution_count": 14
    }
   ],
   "source": [
    "from featuretools.primitives import CumCount\n",
    "from featuretools.primitives import IsWeekend\n",
    "#累績總數\n",
    "cum_count = CumCount()\n",
    "cum_count([1, 2, 3, 4, None, 5]).tolist()\n",
    "isWkend = IsWeekend()\n",
    "feature_matrix, features_list = ft.dfs(entityset=es, \n",
    "    verbose = 1,\n",
    "\ttarget_entity='WIP',\n",
    "    agg_primitives=[], \n",
    "\ttrans_primitives=['cum_sum','cum_count','is_weekend'], \n",
    "\tprimitive_options={\n",
    "        'cum_sum': {\n",
    "                'include_variables':\n",
    "                    {'WIP': ['WIP_QTY']},\n",
    "                'ignore_variables':\n",
    "                    {'WIP': ['IS_MAIN_ROUTE']}    \n",
    "                    \n",
    "                    },\n",
    "\t\t'cum_count': {\n",
    "                'include_variables':\n",
    "                    {'WIP': ['WIP_QTY']},\n",
    "                'ignore_variables':\n",
    "                    {'WIP': ['IS_MAIN_ROUTE']}    \n",
    "                    \n",
    "                    },\n",
    "        'is_weekend': {\n",
    "                'ignore_variables':\n",
    "                        {'WIP': ['ACTUAL_WP_OUT']}}\n",
    "        }\n",
    "    \n",
    "\t)\n",
    "\n",
    "\n",
    "\n",
    "feature_matrix    "
   ]
  },
  {
   "source": [
    "# Feature Selection"
   ],
   "cell_type": "markdown",
   "metadata": {}
  },
  {
   "cell_type": "code",
   "execution_count": 40,
   "metadata": {},
   "outputs": [
    {
     "output_type": "stream",
     "name": "stdout",
     "text": [
      "features (226723, 17)\n",
      "被刪除的欄位 remove_low_information_features (226723, 17)\n",
      "Removed 0 features from training features\n",
      "set()\n",
      "被刪除的欄位 remove_highly_null_features (226723, 17)\n",
      "Removed 0 features from training features\n",
      "set()\n",
      "被刪除的欄位 remove_single_value_features (226723, 17)\n",
      "Removed 0 features from training features\n",
      "set()\n",
      "被刪除的欄位 remove_highly_correlated_features (226723, 12)\n",
      "Removed 5 features from training features\n",
      "{'ABSOLUTE(REMAIN_LAYER_SEQ)', 'ABSOLUTE(WIP_QTY)', 'ABSOLUTE(REMAIN_OP_SEQ)', 'ABSOLUTE(IS_MAIN_ROUTE)', 'ABSOLUTE(PRIORITY)'}\n"
     ]
    }
   ],
   "source": [
    "#select features that have at least 2 unique values and that are not all null\n",
    "#(feature_matrix, features=None):\n",
    "from featuretools.selection import remove_low_information_features  ## 移除较小信息的特征\n",
    "\n",
    "#Removes columns from a feature matrix that have higher than a set threshold of null values.\n",
    "#(feature_matrix, features=None, pct_null_threshold=0.95):\n",
    "from featuretools.selection import remove_highly_null_features\n",
    "\n",
    "#Removes columns in feature matrix where all the values are the same.\n",
    "#(feature_matrix, features=None, count_nan_as_value=False):\n",
    "from featuretools.selection import remove_single_value_features\n",
    "\n",
    "#Removes columns in feature matrix that are highly correlated with another column.\n",
    "#(feature_matrix, features=None, pct_corr_threshold=0.95,features_to_check=None, features_to_keep=None):\n",
    "from featuretools.selection import remove_highly_correlated_features \n",
    "\n",
    "print('features',feature_matrix.shape)\n",
    "features1, feature_names1 = remove_low_information_features(feature_matrix, features_list)\n",
    "print('被刪除的欄位 remove_low_information_features',feature_matrix.shape)\n",
    "print('Removed %d features from training features' % (feature_matrix.shape[1] - features1.shape[1])) \n",
    "print(set(feature_matrix) - set(features1))\n",
    "\n",
    "features1, feature_names1 = remove_highly_null_features(feature_matrix, features_list,0.95)\n",
    "print('被刪除的欄位 remove_highly_null_features',features1.shape)\n",
    "print('Removed %d features from training features' % (feature_matrix.shape[1] - features1.shape[1])) \n",
    "print(set(feature_matrix) - set(features1))\n",
    "\n",
    "features1, feature_names1 = remove_single_value_features(feature_matrix, features_list)\n",
    "print('被刪除的欄位 remove_single_value_features',features1.shape)\n",
    "print('Removed %d features from training features' % (feature_matrix.shape[1] - features1.shape[1])) \n",
    "print(set(feature_matrix) - set(features1))\n",
    "\n",
    "features1, feature_names1 = remove_highly_correlated_features(feature_matrix, features_list,0.95)\n",
    "print('被刪除的欄位 remove_highly_correlated_features',features1.shape)\n",
    "print('Removed %d features from training features' % (feature_matrix.shape[1] - features1.shape[1])) \n",
    "print(set(feature_matrix) - set(features1))"
   ]
  },
  {
   "cell_type": "code",
   "execution_count": 39,
   "metadata": {},
   "outputs": [
    {
     "output_type": "stream",
     "name": "stdout",
     "text": [
      "{'ABSOLUTE(REMAIN_LAYER_SEQ)', 'ABSOLUTE(WIP_QTY)', 'ABSOLUTE(REMAIN_OP_SEQ)', 'ABSOLUTE(IS_MAIN_ROUTE)', 'ABSOLUTE(PRIORITY)'}\n"
     ]
    }
   ],
   "source": [
    "# print(set(feature_matrix))\n",
    "# print(feature_matrix.shape)\n",
    "# print(set(feature_names1))\n",
    "# 被刪除的欄位\n",
    "print(set(feature_matrix) - set(features1))"
   ]
  },
  {
   "source": [
    "# encode_features"
   ],
   "cell_type": "markdown",
   "metadata": {}
  },
  {
   "source": [
    "#featuretools.synthesis :encode_features\n",
    "fm_enc,f_enc =ft.encode_features(features1, feature_names1)\n",
    "fm_enc.head()"
   ],
   "cell_type": "code",
   "metadata": {},
   "execution_count": 16,
   "outputs": [
    {
     "output_type": "execute_result",
     "data": {
      "text/plain": [
       "    LOT_ID = BSP340000  LOT_ID = BSP972000  LOT_ID = BSP968000  \\\n",
       "ID                                                               \n",
       "0                False               False               False   \n",
       "1                False               False               False   \n",
       "2                False               False               False   \n",
       "3                False               False               False   \n",
       "4                False               False               False   \n",
       "\n",
       "    LOT_ID = BSP949000  LOT_ID = BSP946000  LOT_ID = BSP945000  \\\n",
       "ID                                                               \n",
       "0                False               False               False   \n",
       "1                False               False               False   \n",
       "2                False               False               False   \n",
       "3                False               False               False   \n",
       "4                False               False               False   \n",
       "\n",
       "    LOT_ID = BSP944000  LOT_ID = BSP943000  LOT_ID = BSP922000  \\\n",
       "ID                                                               \n",
       "0                False               False               False   \n",
       "1                False               False               False   \n",
       "2                False               False               False   \n",
       "3                False               False               False   \n",
       "4                False               False               False   \n",
       "\n",
       "    LOT_ID = BSP921000  ...  IDX = 507661  IDX = 507599  IDX = 507597  \\\n",
       "ID                      ...                                             \n",
       "0                False  ...         False         False         False   \n",
       "1                False  ...         False         False         False   \n",
       "2                False  ...         False         False         False   \n",
       "3                False  ...         False         False         False   \n",
       "4                False  ...         False         False         False   \n",
       "\n",
       "    IDX = 507596  IDX = 507054  IDX = 507053  IDX = 507052  IDX is unknown  \\\n",
       "ID                                                                           \n",
       "0          False         False         False         False            True   \n",
       "1          False         False         False         False            True   \n",
       "2          False         False         False         False            True   \n",
       "3          False         False         False         False            True   \n",
       "4          False         False         False         False            True   \n",
       "\n",
       "    IS_WEEKEND(DATA_DATE)  IS_WEEKEND(WS_DATE)  \n",
       "ID                                              \n",
       "0                    True                 True  \n",
       "1                    True                 True  \n",
       "2                    True                False  \n",
       "3                    True                False  \n",
       "4                    True                False  \n",
       "\n",
       "[5 rows x 68 columns]"
      ],
      "text/html": "<div>\n<style scoped>\n    .dataframe tbody tr th:only-of-type {\n        vertical-align: middle;\n    }\n\n    .dataframe tbody tr th {\n        vertical-align: top;\n    }\n\n    .dataframe thead th {\n        text-align: right;\n    }\n</style>\n<table border=\"1\" class=\"dataframe\">\n  <thead>\n    <tr style=\"text-align: right;\">\n      <th></th>\n      <th>LOT_ID = BSP340000</th>\n      <th>LOT_ID = BSP972000</th>\n      <th>LOT_ID = BSP968000</th>\n      <th>LOT_ID = BSP949000</th>\n      <th>LOT_ID = BSP946000</th>\n      <th>LOT_ID = BSP945000</th>\n      <th>LOT_ID = BSP944000</th>\n      <th>LOT_ID = BSP943000</th>\n      <th>LOT_ID = BSP922000</th>\n      <th>LOT_ID = BSP921000</th>\n      <th>...</th>\n      <th>IDX = 507661</th>\n      <th>IDX = 507599</th>\n      <th>IDX = 507597</th>\n      <th>IDX = 507596</th>\n      <th>IDX = 507054</th>\n      <th>IDX = 507053</th>\n      <th>IDX = 507052</th>\n      <th>IDX is unknown</th>\n      <th>IS_WEEKEND(DATA_DATE)</th>\n      <th>IS_WEEKEND(WS_DATE)</th>\n    </tr>\n    <tr>\n      <th>ID</th>\n      <th></th>\n      <th></th>\n      <th></th>\n      <th></th>\n      <th></th>\n      <th></th>\n      <th></th>\n      <th></th>\n      <th></th>\n      <th></th>\n      <th></th>\n      <th></th>\n      <th></th>\n      <th></th>\n      <th></th>\n      <th></th>\n      <th></th>\n      <th></th>\n      <th></th>\n      <th></th>\n      <th></th>\n    </tr>\n  </thead>\n  <tbody>\n    <tr>\n      <th>0</th>\n      <td>False</td>\n      <td>False</td>\n      <td>False</td>\n      <td>False</td>\n      <td>False</td>\n      <td>False</td>\n      <td>False</td>\n      <td>False</td>\n      <td>False</td>\n      <td>False</td>\n      <td>...</td>\n      <td>False</td>\n      <td>False</td>\n      <td>False</td>\n      <td>False</td>\n      <td>False</td>\n      <td>False</td>\n      <td>False</td>\n      <td>True</td>\n      <td>True</td>\n      <td>True</td>\n    </tr>\n    <tr>\n      <th>1</th>\n      <td>False</td>\n      <td>False</td>\n      <td>False</td>\n      <td>False</td>\n      <td>False</td>\n      <td>False</td>\n      <td>False</td>\n      <td>False</td>\n      <td>False</td>\n      <td>False</td>\n      <td>...</td>\n      <td>False</td>\n      <td>False</td>\n      <td>False</td>\n      <td>False</td>\n      <td>False</td>\n      <td>False</td>\n      <td>False</td>\n      <td>True</td>\n      <td>True</td>\n      <td>True</td>\n    </tr>\n    <tr>\n      <th>2</th>\n      <td>False</td>\n      <td>False</td>\n      <td>False</td>\n      <td>False</td>\n      <td>False</td>\n      <td>False</td>\n      <td>False</td>\n      <td>False</td>\n      <td>False</td>\n      <td>False</td>\n      <td>...</td>\n      <td>False</td>\n      <td>False</td>\n      <td>False</td>\n      <td>False</td>\n      <td>False</td>\n      <td>False</td>\n      <td>False</td>\n      <td>True</td>\n      <td>True</td>\n      <td>False</td>\n    </tr>\n    <tr>\n      <th>3</th>\n      <td>False</td>\n      <td>False</td>\n      <td>False</td>\n      <td>False</td>\n      <td>False</td>\n      <td>False</td>\n      <td>False</td>\n      <td>False</td>\n      <td>False</td>\n      <td>False</td>\n      <td>...</td>\n      <td>False</td>\n      <td>False</td>\n      <td>False</td>\n      <td>False</td>\n      <td>False</td>\n      <td>False</td>\n      <td>False</td>\n      <td>True</td>\n      <td>True</td>\n      <td>False</td>\n    </tr>\n    <tr>\n      <th>4</th>\n      <td>False</td>\n      <td>False</td>\n      <td>False</td>\n      <td>False</td>\n      <td>False</td>\n      <td>False</td>\n      <td>False</td>\n      <td>False</td>\n      <td>False</td>\n      <td>False</td>\n      <td>...</td>\n      <td>False</td>\n      <td>False</td>\n      <td>False</td>\n      <td>False</td>\n      <td>False</td>\n      <td>False</td>\n      <td>False</td>\n      <td>True</td>\n      <td>True</td>\n      <td>False</td>\n    </tr>\n  </tbody>\n</table>\n<p>5 rows × 68 columns</p>\n</div>"
     },
     "metadata": {},
     "execution_count": 16
    }
   ]
  },
  {
   "cell_type": "code",
   "execution_count": null,
   "metadata": {},
   "outputs": [],
   "source": []
  },
  {
   "cell_type": "code",
   "execution_count": 27,
   "metadata": {},
   "outputs": [],
   "source": [
    "from featuretools.primitives import make_agg_primitive, make_trans_primitive\n",
    "from featuretools.variable_types import Text, Numeric\n",
    "def absolute(column):\n",
    "    return abs(column)\n",
    "\n",
    "\n",
    "Absolute = make_trans_primitive(function=absolute, input_types=[Numeric], return_type=Numeric)\n",
    "\n",
    "def maximum(column):\n",
    "    return max(column)\n",
    "Maximum = make_agg_primitive(function=maximum,\n",
    "    input_types=[Numeric],\n",
    "    return_type=Numeric)"
   ]
  },
  {
   "source": [
    "\n",
    "# Maximum = make_agg_primitive(function=maximum, input_types=[Numeric], return_type=Numeric)\u000b"
   ],
   "cell_type": "markdown",
   "metadata": {}
  },
  {
   "cell_type": "code",
   "execution_count": 29,
   "metadata": {},
   "outputs": [
    {
     "output_type": "stream",
     "name": "stderr",
     "text": [
      "C:\\ProgramData\\Anaconda3\\envs\\PY379\\lib\\site-packages\\featuretools\\synthesis\\dfs.py:317: UnusedPrimitiveWarning: Some specified primitives were not used during DFS:\n  agg_primitives: ['maximum']\nThis may be caused by a using a value of max_depth that is too small, not setting interesting values, or it may indicate no compatible variable types for the primitive were found in the data.\n  warnings.warn(warning_msg, UnusedPrimitiveWarning)\n"
     ]
    }
   ],
   "source": [
    "\n",
    "feature_matrix,feature_defs = ft.dfs(entityset=es,\n",
    "                target_entity=\"WIP\",\n",
    "                agg_primitives=[Maximum],\n",
    "                trans_primitives=[Absolute],\n",
    "                max_depth=2)\n"
   ]
  },
  {
   "cell_type": "code",
   "execution_count": null,
   "metadata": {},
   "outputs": [],
   "source": []
  }
 ]
}