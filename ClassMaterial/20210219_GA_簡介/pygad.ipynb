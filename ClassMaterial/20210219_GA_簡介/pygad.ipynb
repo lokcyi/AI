{
 "metadata": {
  "language_info": {
   "codemirror_mode": {
    "name": "ipython",
    "version": 3
   },
   "file_extension": ".py",
   "mimetype": "text/x-python",
   "name": "python",
   "nbconvert_exporter": "python",
   "pygments_lexer": "ipython3",
   "version": "3.7.9"
  },
  "orig_nbformat": 2,
  "kernelspec": {
   "name": "python3",
   "display_name": "Python 3",
   "language": "python"
  }
 },
 "nbformat": 4,
 "nbformat_minor": 2,
 "cells": [
  {
   "cell_type": "code",
   "execution_count": 348,
   "metadata": {},
   "outputs": [],
   "source": [
    "import pandas as pd\n",
    "import numpy as np\n",
    "# num_solutions = 10\n",
    "# population_1D_vector = numpy.zeros(shape=(num_solutions, 8))\n",
    "# population_1D_vector\n"
   ]
  },
  {
   "cell_type": "code",
   "execution_count": 349,
   "metadata": {},
   "outputs": [],
   "source": [
    "\n",
    "\n",
    "\n",
    "# for solution_idx in range(12):\n",
    "#     initial_queens_y_indices = numpy.random.rand(8)*8\n",
    "#     initial_queens_y_indices = initial_queens_y_indices.astype(numpy.uint8)\n",
    "#     population_1D_vector[solution_idx, :] = initial_queens_y_indices\n",
    "# print(population_1D_vector)        "
   ]
  },
  {
   "cell_type": "code",
   "execution_count": 350,
   "metadata": {},
   "outputs": [],
   "source": [
    "import pygad\n",
    "import numpy\n",
    "\n",
    "\"\"\"\n",
    "Given the following function:\n",
    "    y = f(w1:w6) = w1x1 + w2x2 + w3x3 + w4x4 + w5x5 + 6wx6\n",
    "    where (x1,x2,x3,x4,x5,x6)=(4,-2,3.5,5,-11,-4.7) and y=44\n",
    "What are the best values for the 6 weights (w1 to w6)? We are going to use the genetic algorithm to optimize this function.\n",
    "\"\"\"\n",
    "\n",
    "# function_inputs = [4,-2,3.5,5,-11,-4.7] # Function inputs.\n",
    "# desired_output = 44 # Function output.\n",
    "\n",
    " \n",
    "\n",
    "def initialize_population(self, *args):\n",
    "    self.num_solutions = 12\n",
    "\n",
    "    self.reset_board_text()\n",
    "\n",
    "    self.population_1D_vector = numpy.zeros(shape=(self.num_solutions, 12))\n",
    "\n",
    "    for solution_idx in range(self.num_solutions):\n",
    "        initial_queens_y_indices = numpy.random.rand(8)*8\n",
    "        initial_queens_y_indices = initial_queens_y_indices.astype(numpy.uint8)\n",
    "        self.population_1D_vector[solution_idx, :] = initial_queens_y_indices\n",
    "\n",
    "    self.vector_to_matrix()\n",
    "\n",
    "    self.pop_created = 1\n",
    "    self.num_attacks_Label.text = \"Initial Population Created.\"\n",
    "\n",
    "def fitness_func(solution, solution_idx):\n",
    "    # Calculating the fitness value of each solution in the current population.\n",
    "    # The fitness function calulates the sum of products between each input and its corresponding weight.\n",
    "    # output = numpy.sum(solution*function_inputs)\n",
    "    # fitness = 1.0 / numpy.abs(output - desired_output)\n",
    "    \n",
    "    total_length = 0\n",
    "    itemidx=0\n",
    "    \n",
    "    for loc in solution:\n",
    "       \n",
    "        \n",
    "        if itemidx>0 :\n",
    "            cityidx1 = loc-1\n",
    "            cityidx2 =solution[itemidx-1]-1   \n",
    "            total_length +=((xs[cityidx1] - xs[cityidx2]) ** 2 + (ys[cityidx1] - ys[cityidx2]) ** 2) ** (1 / 2)  \n",
    "            # print(xs[cityidx1],ys[cityidx1], xs[cityidx1], ys[cityidx2],total_length )\n",
    "        elif  itemidx==solution.size :\n",
    "            cityidx1 = loc-1\n",
    "            cityidx2 =solution[itemidx-1]-1 \n",
    "            total_length +=((xs[cityidx1] - xs[cityidx2]) ** 2 + (ys[cityidx1] - ys[cityidx2]) ** 2) ** (1 / 2)  \n",
    "            if ((xs[cityidx1] - xs[cityidx2]) ** 2 + (ys[cityidx1] - ys[cityidx2]) ** 2) ** (1 / 2)  <0:\n",
    "                print('ERROR',((xs[cityidx1] - xs[cityidx2]) ** 2 + (ys[cityidx1] - ys[cityidx2]) ** 2) ** (1 / 2)  )\n",
    "            # print(xs[cityidx1],ys[cityidx1], xs[cityidx1], ys[cityidx2],total_length )\n",
    "            \n",
    "            cityidx2 =solution[0] \n",
    "            total_length +=((xs[itemidx] - xs[0]) ** 2 + (ys[itemidx] - ys[0]) ** 2) ** (1 / 2) \n",
    "            # print(total_length)\n",
    "        itemidx += 1\n",
    "    #print(\"fitness_func\",total_length,solution,solution_idx)    \n",
    "    # path_copy = self.path[:]\n",
    "    # from_here = path_copy.pop(0)\n",
    "    # init_node = copy.deepcopy(from_here)\n",
    "    \n",
    "    \n",
    "    \n",
    "    \n",
    "    #((self.loc[0] - location2.loc[0]) ** 2 + (self.loc[1] - location2.loc[1]) ** 2) ** (1 / 2) \n",
    "\n",
    "    # while solution:\n",
    "    #     to_there = path_copy.pop(0)\n",
    "    #     total_length += to_there.distance_between(from_here)\n",
    "    #     from_here = copy.deepcopy(to_there)\n",
    "    # total_length += from_here.distance_between(init_node)\n",
    "       \n",
    "    return total_length*-1 #fitness\n",
    "\n",
    "\n",
    "fitness_function = fitness_func\n",
    "\n",
    "def on_start(ga_instance):\n",
    "    print(\"on_start()\")\n",
    "\n",
    "def on_fitness(ga_instance, population_fitness):\n",
    "    print(\"on_fitness()\")\n",
    "\n",
    "def on_parents(ga_instance, selected_parents):\n",
    "    print(\"on_parents()\")\n",
    "\n",
    "def on_crossover(ga_instance, offspring_crossover):\n",
    "    print(\"on_crossover()\")\n",
    "\n",
    "def on_mutation(ga_instance, offspring_mutation):\n",
    "    print(\"on_mutation()\")\n",
    "\n",
    "def on_generation(ga_instance):\n",
    "    print(\"on_generation()\")\n",
    "\n",
    "def on_stop(ga_instance, last_population_fitness):\n",
    "    print(\"on_stop()\")\n",
    "\n"
   ]
  },
  {
   "cell_type": "code",
   "execution_count": 351,
   "metadata": {},
   "outputs": [],
   "source": [
    "\n",
    "xs = [8, 50, 18, 35, 90, 40, 84, 74, 34, 40, 60, 74]\n",
    "ys = [3, 62, 0, 25, 89, 71, 7, 29, 45, 65, 69, 47]\n",
    "cities = ['Z', 'P', 'A', 'K', 'O', 'Y', 'N', 'X', 'G', 'Q', 'S', 'J']\n",
    "locations = list(zip(xs, ys, cities))\n",
    "# for x, y, name in zip(xs, ys, cities):\n",
    "#     global locations\n",
    "#     locations.append(Location(name, x, y))"
   ]
  },
  {
   "cell_type": "code",
   "execution_count": 352,
   "metadata": {},
   "outputs": [],
   "source": [
    "#num_generations = 100 # Number of generations.\n",
    "num_generations = 2 # Number of generations.\n",
    "num_parents_mating = 7 # Number of solutions to be selected as parents in the mating pool.\n",
    "\n",
    "# To prepare the initial population, there are 2 ways:\n",
    "# 1) Prepare it yourself and pass it to the initial_population parameter. This way is useful when the user wants to start the genetic algorithm with a custom initial population.\n",
    "# 2) Assign valid integer values to the sol_per_pop and num_genes parameters. If the initial_population parameter exists, then the sol_per_pop and num_genes parameters are useless.\n",
    "sol_per_pop = 50 # Number of solutions in the population.\n",
    "#num_genes = len(function_inputs)\n",
    "num_genes = 12\n",
    "\n",
    "init_range_low = 1\n",
    "init_range_high = 12\n",
    "\n",
    "parent_selection_type = \"sss\" # Type of parent selection.\n",
    "keep_parents = 7 # Number of parents to keep in the next population. -1 means keep all parents and 0 means keep nothing.\n",
    "\n",
    "crossover_type = \"single_point\" # Type of the crossover operator.\n",
    "\n",
    "# Parameters of the mutation operation.\n",
    "mutation_type = \"random\" # Type of the mutation operator.\n",
    "mutation_percent_genes = 10 # Percentage of genes to mutate. This parameter has no action if the parameter mutation_num_genes exists or when mutation_type is None.\n",
    "\n",
    "last_fitness = 0"
   ]
  },
  {
   "cell_type": "code",
   "execution_count": 32,
   "metadata": {},
   "outputs": [
    {
     "output_type": "execute_result",
     "data": {
      "text/plain": [
       "10"
      ]
     },
     "metadata": {},
     "execution_count": 32
    }
   ],
   "source": []
  },
  {
   "cell_type": "code",
   "execution_count": 353,
   "metadata": {},
   "outputs": [],
   "source": [
    "#population_size = 50\n",
    "#num_gene=12 # num_solutions = 10\n",
    "#每個染色體共有 n=10 = 10  個基因\n",
    "#隨機產生30個1-10數值的染色體, 利用整除job數量的餘數(數值落在1-10之間)作為n個job number, 每個job出現m次\n",
    "#-->隨機產生30個 seq list\n",
    "population_list=[]\n",
    "gene_space = [i for i in range(1, 13)]\n",
    "for i in range(sol_per_pop):\n",
    "\n",
    "    nxm_random_num=list(np.random.permutation(gene_space)) \n",
    "    #有順序的可屬數物件打亂、隨機排列的方法。\n",
    "    # generate a random permutation of 0 to num_job*num_mc-1\n",
    "    #print(np.random.permutation(num_gene)) #100的list 0-99\n",
    "    '''\n",
    "    np.random.permutation(num_gene)\n",
    "    [79 40 76 80 20 60 48 28 94 23 77 65 38 52 85 53 25 32 54 36 70 75  6 95\n",
    "     96 97 72 31 26 15 27 71 16 83 56 98  7 90 30 93 17 43 62 41 59 87  2 51\n",
    "     19 37 21 99 13 12 91 74  4 92 34 49 84 67 69 55 73  9 47 68 58 78 44 86\n",
    "      0 88 45 50 24 82 46  8 61 42 39 57 66 10 35  5 22  3 11 63 29 33 14 81\n",
    "      1 18 64 89]\n",
    "    '''\n",
    "    population_list.append(nxm_random_num) # add to the population_list\n",
    " \n",
    "#population_list"
   ]
  },
  {
   "cell_type": "code",
   "execution_count": 354,
   "metadata": {},
   "outputs": [],
   "source": [
    "\n",
    "\n",
    "def callback_generation(ga_instance):\n",
    "    global last_fitness\n",
    "    print(\"Generation = {generation}\".format(generation=ga_instance.generations_completed))\n",
    "    print(\"Fitness    = {fitness}\".format(fitness=ga_instance.best_solution()[1]))\n",
    "    print(\"Change     = {change}\".format(change=ga_instance.best_solution()[1] - last_fitness))\n",
    "    last_fitness = ga_instance.best_solution()[1]\n",
    "\n",
    "# Creating an instance of the GA class inside the ga module. Some parameters are initialized within the constructor.\n",
    "ga_instance = pygad.GA(num_generations=num_generations,\n",
    "                       num_parents_mating=num_parents_mating, \n",
    "                       fitness_func=fitness_function,\n",
    "                       sol_per_pop=sol_per_pop, \n",
    "                       initial_population=population_list,\n",
    "                       num_genes=num_genes,\n",
    "\n",
    "                       gene_space = gene_space, #  \n",
    "                    #    init_range_low=init_range_low,\n",
    "                    #    init_range_high=init_range_high,\n",
    "\n",
    "                       parent_selection_type=parent_selection_type,\n",
    "                       keep_parents=keep_parents,\n",
    "                       crossover_type=crossover_type,\n",
    "                       mutation_type=mutation_type,\n",
    "                       mutation_percent_genes=mutation_percent_genes,\n",
    "                       \n",
    "\n",
    "                       # callback\n",
    "                       on_generation=callback_generation,\n",
    "\n",
    "                       on_start=on_start,\n",
    "                       on_fitness=on_fitness,\n",
    "                       on_parents=on_parents,\n",
    "                       on_crossover=on_crossover,\n",
    "                       on_mutation=on_mutation,\n",
    "                     \n",
    "                       on_stop=on_stop\n",
    "                       )"
   ]
  },
  {
   "cell_type": "code",
   "execution_count": 355,
   "metadata": {},
   "outputs": [
    {
     "output_type": "execute_result",
     "data": {
      "text/plain": [
       "(50, 12)"
      ]
     },
     "metadata": {},
     "execution_count": 355
    }
   ],
   "source": [
    "ga_instance.population.shape"
   ]
  },
  {
   "cell_type": "code",
   "execution_count": 356,
   "metadata": {
    "tags": []
   },
   "outputs": [
    {
     "output_type": "stream",
     "name": "stdout",
     "text": [
      "on_start()\non_fitness()\non_parents()\non_crossover()\non_mutation()\nGeneration = 1\nFitness    = -351.2139332072614\nChange     = -351.2139332072614\non_fitness()\non_parents()\non_crossover()\non_mutation()\nGeneration = 2\nFitness    = -294.50101538564206\nChange     = 56.71291782161933\non_stop()\n"
     ]
    }
   ],
   "source": [
    "ga_instance.run()"
   ]
  },
  {
   "cell_type": "code",
   "execution_count": 357,
   "metadata": {
    "tags": []
   },
   "outputs": [
    {
     "output_type": "stream",
     "name": "stdout",
     "text": [
      "最佳解 : [10  2  2  5 12  8  4  9  6  4  3  1]\n最佳解的適應度 : -294.50101538564206\n最佳解落在第 2 個世代\n\n\n\n\n"
     ]
    }
   ],
   "source": [
    "# 取得最佳解\n",
    "solution, solution_fitness, solution_idx = ga_instance.best_solution()\n",
    "print(\"最佳解 : {solution}\".format(solution =solution))\n",
    "print(\"最佳解的適應度 : {solution_fitness}\".format(solution_fitness = solution_fitness))\n",
    "\n",
    "if ga_instance.best_solution_generation != -1:\n",
    "    print(\"最佳解落在第 {best_solution_generation} 個世代\".format(best_solution_generation = ga_instance.best_solution_generation))\n",
    "\n",
    "\n",
    "print(\"\\n\\n\\n\")"
   ]
  },
  {
   "cell_type": "code",
   "execution_count": null,
   "metadata": {},
   "outputs": [],
   "source": []
  }
 ]
}