{
 "cells": [
  {
   "source": [
    "經過上述的介紹，這裡總結一下，在使用基因演算法時，一般而言，必須設定的幾個參數：\n",
    "\n",
    "編碼方式 (Encoding method)\n",
    "染色體的長度 (Chromosome length)\n",
    "族群大小 (Population size)\n",
    "交配方式 (Crossover method)\n",
    "交配率 (Crossover rate)\n",
    "突變方式 (Mutation method)\n",
    "突變率 (Mutation rate)\n",
    "適應函式 (Fitness function)\n",
    "選擇機制 (Selection mechanism)\n",
    "終止條件 (Termination condition)\n",
    ",https://github.com/wurmen/Genetic-Algorithm-for-Job-Shop-Scheduling-and-NSGA-II/blob/master/implementation%20with%20python/GA-jobshop/GA_For_Jobshop.md"
   ],
   "cell_type": "markdown",
   "metadata": {}
  },
  {
   "cell_type": "code",
   "execution_count": 38,
   "metadata": {},
   "outputs": [],
   "source": [
    "'''\n",
    "GA: 主要是樣本大到無法在有限時間或資源內列出所有組合, 所以要在較短得時間內取得還不錯的解\n",
    "    其實這樣的演算法並不一定能達到最佳解，只是能在相對較短的時間內得到一個還不錯的解\n",
    "'''\n",
    "\n",
    "\n",
    "# -*- coding: utf-8 -*-\n",
    "\"\"\"\n",
    "Created on Fri Jul 13 17:24:51 2018\n",
    "\n",
    "Author: cheng-man wu\n",
    "LinkedIn: www.linkedin.com/in/chengmanwu\n",
    "Github: https://github.com/wurmen\n",
    "\n",
    "\"\"\"\n",
    "# 編碼原則\n",
    "# 這裡的編碼方式很簡單，每個染色體就表示一組排程結果，因此，如果 flow shop 的問題中，共有10個Job要排，則每個染色體就由10個基因所組成，每個基因即代表某個Job，在程式裡，會透過 list 來儲存每個染色體，如下面所示：\n",
    "'''==========Solving job shop scheduling problem by gentic algorithm in python======='''\n",
    "# importing required modules\n",
    "import pandas as pd\n",
    "import numpy as np\n",
    "import time\n",
    "import copy\n",
    "\n",
    "''' ================= initialization setting ======================'''\n",
    "\n",
    "pt_tmp=pd.read_excel(\"JSP_dataset.xlsx\",sheet_name=\"Processing Time\",index_col =[0])\n",
    "ms_tmp=pd.read_excel(\"JSP_dataset.xlsx\",sheet_name=\"Machines Sequence\",index_col =[0])\n",
    "\n",
    "dfshape=pt_tmp.shape\n",
    "num_mc=dfshape[1] # number of machines\n",
    "num_job=dfshape[0] # number of jobs\n",
    "num_gene=num_mc*num_job # number of genes in a chromosome\n",
    "#每個染色體共有 10 x 10 = 100 個基因\n",
    "\n",
    "pt=[list(map(int, pt_tmp.iloc[i])) for i in range(num_job)]\n",
    "ms=[list(map(int,ms_tmp.iloc[i])) for i in range(num_job)]\n",
    "\n",
    "\n"
   ]
  },
  {
   "cell_type": "code",
   "execution_count": 39,
   "metadata": {},
   "outputs": [
    {
     "output_type": "execute_result",
     "data": {
      "text/plain": [
       "(10, 10)"
      ]
     },
     "metadata": {},
     "execution_count": 39
    }
   ],
   "source": [
    "dfshape"
   ]
  },
  {
   "cell_type": "code",
   "execution_count": 40,
   "metadata": {},
   "outputs": [
    {
     "output_type": "execute_result",
     "data": {
      "text/plain": [
       "       O1  O2  O3  O4  O5  O6  O7  O8  O9  O10\n",
       "order                                         \n",
       "J1      1   2   3   4   5   6   7   8   9   10\n",
       " J2     1   3   5  10   4   2   7   6   8    9\n",
       " J3     2   1   4   3   9   6   8   7  10    5\n",
       " J4     2   3   1   5   7   9   8   4  10    6\n",
       " J5     3   1   2   6   4   5   9   8  10    7\n",
       " J6     3   2   6   4   9  10   1   7   5    8\n",
       "J7      2   1   4   3   7   6  10   9   8    5\n",
       "J8      3   1   2   6   5   7   9  10   8    4\n",
       "J9      1   2   4   6   3  10   7   8   5    9\n",
       "J10     2   1   3   7   9  10   6   4   5    8"
      ],
      "text/html": "<div>\n<style scoped>\n    .dataframe tbody tr th:only-of-type {\n        vertical-align: middle;\n    }\n\n    .dataframe tbody tr th {\n        vertical-align: top;\n    }\n\n    .dataframe thead th {\n        text-align: right;\n    }\n</style>\n<table border=\"1\" class=\"dataframe\">\n  <thead>\n    <tr style=\"text-align: right;\">\n      <th></th>\n      <th>O1</th>\n      <th>O2</th>\n      <th>O3</th>\n      <th>O4</th>\n      <th>O5</th>\n      <th>O6</th>\n      <th>O7</th>\n      <th>O8</th>\n      <th>O9</th>\n      <th>O10</th>\n    </tr>\n    <tr>\n      <th>order</th>\n      <th></th>\n      <th></th>\n      <th></th>\n      <th></th>\n      <th></th>\n      <th></th>\n      <th></th>\n      <th></th>\n      <th></th>\n      <th></th>\n    </tr>\n  </thead>\n  <tbody>\n    <tr>\n      <th>J1</th>\n      <td>1</td>\n      <td>2</td>\n      <td>3</td>\n      <td>4</td>\n      <td>5</td>\n      <td>6</td>\n      <td>7</td>\n      <td>8</td>\n      <td>9</td>\n      <td>10</td>\n    </tr>\n    <tr>\n      <th>J2</th>\n      <td>1</td>\n      <td>3</td>\n      <td>5</td>\n      <td>10</td>\n      <td>4</td>\n      <td>2</td>\n      <td>7</td>\n      <td>6</td>\n      <td>8</td>\n      <td>9</td>\n    </tr>\n    <tr>\n      <th>J3</th>\n      <td>2</td>\n      <td>1</td>\n      <td>4</td>\n      <td>3</td>\n      <td>9</td>\n      <td>6</td>\n      <td>8</td>\n      <td>7</td>\n      <td>10</td>\n      <td>5</td>\n    </tr>\n    <tr>\n      <th>J4</th>\n      <td>2</td>\n      <td>3</td>\n      <td>1</td>\n      <td>5</td>\n      <td>7</td>\n      <td>9</td>\n      <td>8</td>\n      <td>4</td>\n      <td>10</td>\n      <td>6</td>\n    </tr>\n    <tr>\n      <th>J5</th>\n      <td>3</td>\n      <td>1</td>\n      <td>2</td>\n      <td>6</td>\n      <td>4</td>\n      <td>5</td>\n      <td>9</td>\n      <td>8</td>\n      <td>10</td>\n      <td>7</td>\n    </tr>\n    <tr>\n      <th>J6</th>\n      <td>3</td>\n      <td>2</td>\n      <td>6</td>\n      <td>4</td>\n      <td>9</td>\n      <td>10</td>\n      <td>1</td>\n      <td>7</td>\n      <td>5</td>\n      <td>8</td>\n    </tr>\n    <tr>\n      <th>J7</th>\n      <td>2</td>\n      <td>1</td>\n      <td>4</td>\n      <td>3</td>\n      <td>7</td>\n      <td>6</td>\n      <td>10</td>\n      <td>9</td>\n      <td>8</td>\n      <td>5</td>\n    </tr>\n    <tr>\n      <th>J8</th>\n      <td>3</td>\n      <td>1</td>\n      <td>2</td>\n      <td>6</td>\n      <td>5</td>\n      <td>7</td>\n      <td>9</td>\n      <td>10</td>\n      <td>8</td>\n      <td>4</td>\n    </tr>\n    <tr>\n      <th>J9</th>\n      <td>1</td>\n      <td>2</td>\n      <td>4</td>\n      <td>6</td>\n      <td>3</td>\n      <td>10</td>\n      <td>7</td>\n      <td>8</td>\n      <td>5</td>\n      <td>9</td>\n    </tr>\n    <tr>\n      <th>J10</th>\n      <td>2</td>\n      <td>1</td>\n      <td>3</td>\n      <td>7</td>\n      <td>9</td>\n      <td>10</td>\n      <td>6</td>\n      <td>4</td>\n      <td>5</td>\n      <td>8</td>\n    </tr>\n  </tbody>\n</table>\n</div>"
     },
     "metadata": {},
     "execution_count": 40
    }
   ],
   "source": [
    "ms_tmp"
   ]
  },
  {
   "cell_type": "code",
   "execution_count": 41,
   "metadata": {},
   "outputs": [
    {
     "output_type": "execute_result",
     "data": {
      "text/plain": [
       "[[1, 2, 3, 4, 5, 6, 7, 8, 9, 10],\n",
       " [1, 3, 5, 10, 4, 2, 7, 6, 8, 9],\n",
       " [2, 1, 4, 3, 9, 6, 8, 7, 10, 5],\n",
       " [2, 3, 1, 5, 7, 9, 8, 4, 10, 6],\n",
       " [3, 1, 2, 6, 4, 5, 9, 8, 10, 7],\n",
       " [3, 2, 6, 4, 9, 10, 1, 7, 5, 8],\n",
       " [2, 1, 4, 3, 7, 6, 10, 9, 8, 5],\n",
       " [3, 1, 2, 6, 5, 7, 9, 10, 8, 4],\n",
       " [1, 2, 4, 6, 3, 10, 7, 8, 5, 9],\n",
       " [2, 1, 3, 7, 9, 10, 6, 4, 5, 8]]"
      ]
     },
     "metadata": {},
     "execution_count": 41
    }
   ],
   "source": [
    "ms"
   ]
  },
  {
   "cell_type": "code",
   "execution_count": 42,
   "metadata": {},
   "outputs": [
    {
     "output_type": "execute_result",
     "data": {
      "text/plain": [
       "       O1  O2  O3  O4  O5  O6   O7  O8  O9  O10\n",
       "Time                                           \n",
       "J1     29  78   9  36  49  11   62  56  44   21\n",
       " J2    43  90  75  11  69  28   46  46  72   30\n",
       " J3    91  85  39  74  90  10  12   89  45   33\n",
       " J4    81  95  71  99   9  52   85  98  22   43\n",
       " J5    14   6  22  61  26  69   21  49  72   53\n",
       " J6    84   2  52  95  48  72   47  65   6   25\n",
       "J7     46  37  61  13  32  21   32  89  30   55\n",
       "J8     31  86  46  74  32  88   19  48  36   79\n",
       "J9     76  69  76  51  85  11   40  89  26   74\n",
       "J10    85  13  61   7  64  76   47  52  90   45"
      ],
      "text/html": "<div>\n<style scoped>\n    .dataframe tbody tr th:only-of-type {\n        vertical-align: middle;\n    }\n\n    .dataframe tbody tr th {\n        vertical-align: top;\n    }\n\n    .dataframe thead th {\n        text-align: right;\n    }\n</style>\n<table border=\"1\" class=\"dataframe\">\n  <thead>\n    <tr style=\"text-align: right;\">\n      <th></th>\n      <th>O1</th>\n      <th>O2</th>\n      <th>O3</th>\n      <th>O4</th>\n      <th>O5</th>\n      <th>O6</th>\n      <th>O7</th>\n      <th>O8</th>\n      <th>O9</th>\n      <th>O10</th>\n    </tr>\n    <tr>\n      <th>Time</th>\n      <th></th>\n      <th></th>\n      <th></th>\n      <th></th>\n      <th></th>\n      <th></th>\n      <th></th>\n      <th></th>\n      <th></th>\n      <th></th>\n    </tr>\n  </thead>\n  <tbody>\n    <tr>\n      <th>J1</th>\n      <td>29</td>\n      <td>78</td>\n      <td>9</td>\n      <td>36</td>\n      <td>49</td>\n      <td>11</td>\n      <td>62</td>\n      <td>56</td>\n      <td>44</td>\n      <td>21</td>\n    </tr>\n    <tr>\n      <th>J2</th>\n      <td>43</td>\n      <td>90</td>\n      <td>75</td>\n      <td>11</td>\n      <td>69</td>\n      <td>28</td>\n      <td>46</td>\n      <td>46</td>\n      <td>72</td>\n      <td>30</td>\n    </tr>\n    <tr>\n      <th>J3</th>\n      <td>91</td>\n      <td>85</td>\n      <td>39</td>\n      <td>74</td>\n      <td>90</td>\n      <td>10</td>\n      <td>12</td>\n      <td>89</td>\n      <td>45</td>\n      <td>33</td>\n    </tr>\n    <tr>\n      <th>J4</th>\n      <td>81</td>\n      <td>95</td>\n      <td>71</td>\n      <td>99</td>\n      <td>9</td>\n      <td>52</td>\n      <td>85</td>\n      <td>98</td>\n      <td>22</td>\n      <td>43</td>\n    </tr>\n    <tr>\n      <th>J5</th>\n      <td>14</td>\n      <td>6</td>\n      <td>22</td>\n      <td>61</td>\n      <td>26</td>\n      <td>69</td>\n      <td>21</td>\n      <td>49</td>\n      <td>72</td>\n      <td>53</td>\n    </tr>\n    <tr>\n      <th>J6</th>\n      <td>84</td>\n      <td>2</td>\n      <td>52</td>\n      <td>95</td>\n      <td>48</td>\n      <td>72</td>\n      <td>47</td>\n      <td>65</td>\n      <td>6</td>\n      <td>25</td>\n    </tr>\n    <tr>\n      <th>J7</th>\n      <td>46</td>\n      <td>37</td>\n      <td>61</td>\n      <td>13</td>\n      <td>32</td>\n      <td>21</td>\n      <td>32</td>\n      <td>89</td>\n      <td>30</td>\n      <td>55</td>\n    </tr>\n    <tr>\n      <th>J8</th>\n      <td>31</td>\n      <td>86</td>\n      <td>46</td>\n      <td>74</td>\n      <td>32</td>\n      <td>88</td>\n      <td>19</td>\n      <td>48</td>\n      <td>36</td>\n      <td>79</td>\n    </tr>\n    <tr>\n      <th>J9</th>\n      <td>76</td>\n      <td>69</td>\n      <td>76</td>\n      <td>51</td>\n      <td>85</td>\n      <td>11</td>\n      <td>40</td>\n      <td>89</td>\n      <td>26</td>\n      <td>74</td>\n    </tr>\n    <tr>\n      <th>J10</th>\n      <td>85</td>\n      <td>13</td>\n      <td>61</td>\n      <td>7</td>\n      <td>64</td>\n      <td>76</td>\n      <td>47</td>\n      <td>52</td>\n      <td>90</td>\n      <td>45</td>\n    </tr>\n  </tbody>\n</table>\n</div>"
     },
     "metadata": {},
     "execution_count": 42
    }
   ],
   "source": [
    "pt_tmp"
   ]
  },
  {
   "cell_type": "code",
   "execution_count": 43,
   "metadata": {},
   "outputs": [
    {
     "output_type": "execute_result",
     "data": {
      "text/plain": [
       "[[29, 78, 9, 36, 49, 11, 62, 56, 44, 21],\n",
       " [43, 90, 75, 11, 69, 28, 46, 46, 72, 30],\n",
       " [91, 85, 39, 74, 90, 10, 12, 89, 45, 33],\n",
       " [81, 95, 71, 99, 9, 52, 85, 98, 22, 43],\n",
       " [14, 6, 22, 61, 26, 69, 21, 49, 72, 53],\n",
       " [84, 2, 52, 95, 48, 72, 47, 65, 6, 25],\n",
       " [46, 37, 61, 13, 32, 21, 32, 89, 30, 55],\n",
       " [31, 86, 46, 74, 32, 88, 19, 48, 36, 79],\n",
       " [76, 69, 76, 51, 85, 11, 40, 89, 26, 74],\n",
       " [85, 13, 61, 7, 64, 76, 47, 52, 90, 45]]"
      ]
     },
     "metadata": {},
     "execution_count": 43
    }
   ],
   "source": [
    "pt"
   ]
  },
  {
   "cell_type": "code",
   "execution_count": 44,
   "metadata": {
    "scrolled": true
   },
   "outputs": [],
   "source": [
    "\n",
    " \n",
    "#樣本數, 染色體數量\n",
    "population_size=int(input('Please input the size of population: ') or 30) # default:30 \n",
    "#交配率, 每次隨機取值, 低於交配率才交配\n",
    "crossover_rate=float(input('Please input the size of Crossover Rate: ') or 0.8) # default:0.8 \n",
    "#突變率, 每次隨機取值, 低於突變率才突變\n",
    "mutation_rate=float(input('Please input the size of Mutation Rate: ') or 0.2) # default:0.2 \n",
    "#突變選擇基因比率\n",
    "mutation_selection_rate=float(input('Please input the mutation selection rate: ') or 0.2) \n",
    "#突變基因數量\n",
    "num_mutation_jobs=round(num_gene*mutation_selection_rate) \n",
    "#跑幾個世代\n",
    "num_iteration=int(input('Please input number of iteration: ') or 2000) # default value is 2000 \n",
    "    \n",
    "start_time = time.time()\n",
    "\n",
    "'''==================== main code ==============================='''\n",
    "'''----- generate initial population -----'''\n",
    "Tbest=999999999999999\n",
    "best_list,best_obj=[],[]\n",
    "population_list=[]\n",
    "makespan_record=[]\n",
    "#每個染色體共有 n=10 x m=10 = 100 個基因\n",
    "#隨機產生30個0-99數值的染色體, 利用整除job數量的餘數(數值落在0-9之間)作為n個job number, 每個job出現m次\n",
    "#-->隨機產生30個n個job走m個機台的seq\n",
    "for i in range(population_size):\n",
    "    nxm_random_num=list(np.random.permutation(num_gene)) # generate a random permutation of 0 to num_job*num_mc-1\n",
    "    #print(np.random.permutation(num_gene)) #100的list 0-99\n",
    "    '''\n",
    "    np.random.permutation(num_gene)\n",
    "    [79 40 76 80 20 60 48 28 94 23 77 65 38 52 85 53 25 32 54 36 70 75  6 95\n",
    "     96 97 72 31 26 15 27 71 16 83 56 98  7 90 30 93 17 43 62 41 59 87  2 51\n",
    "     19 37 21 99 13 12 91 74  4 92 34 49 84 67 69 55 73  9 47 68 58 78 44 86\n",
    "      0 88 45 50 24 82 46  8 61 42 39 57 66 10 35  5 22  3 11 63 29 33 14 81\n",
    "      1 18 64 89]\n",
    "    '''\n",
    "    population_list.append(nxm_random_num) # add to the population_list\n",
    "    for j in range(num_gene):\n",
    "        #用0-99除以job數取餘數, 可以產生n個job number, 且每個job出現m次-->每個job要走m個機台\n",
    "        population_list[i][j]=population_list[i][j]%num_job # convert to job number format, every job appears m times\n",
    "        '''\n",
    "        population_list[i]\n",
    "        [8, 7, 0, 1, 7, 2, 5, 4, 4, 0, 7, 6, 9, 0, 8, 6, 5, 1, 8, 0, 2, 6, 2, 6, 4, 8, 6, 4, 3, 6, 8, 2, 9, 0, 4, 1, 3, 5,\n",
    "         9, 6, 2, 4, 9, 9, 1, 0, 0, 2, 1, 3, 5, 1, 0, 4, 7, 3, 2, 7, 5, 0, 9, 2, 1, 1, 6, 4, 5, 5, 7, 8, 6, 7, 4, 9, 3, 9,\n",
    "         7, 5, 9, 8, 6, 1, 7, 5, 0, 4, 7, 3, 5, 3, 3, 8, 9, 2, 2, 3, 8, 8, 1, 3]\n",
    "        '''\n",
    "        \n",
    "#population_list共有population_size=30個job seq, 每個job seq是10個job出現有m=10次, 即每個job seq為100個job number seq"
   ]
  },
  {
   "cell_type": "code",
   "execution_count": 45,
   "metadata": {},
   "outputs": [
    {
     "output_type": "stream",
     "name": "stdout",
     "text": [
      "optimal sequence [7, 3, 1, 7, 6, 7, 9, 7, 4, 8, 6, 5, 6, 4, 4, 1, 0, 4, 0, 1, 8, 3, 3, 4, 6, 6, 9, 6, 1, 3, 1, 5, 6, 3, 4, 2, 8, 5, 1, 0, 9, 7, 3, 6, 9, 7, 8, 8, 3, 8, 5, 6, 9, 5, 0, 4, 0, 0, 8, 2, 5, 9, 6, 8, 7, 3, 1, 1, 0, 2, 9, 5, 2, 4, 2, 4, 0, 1, 2, 5, 2, 0, 8, 5, 2, 1, 4, 9, 9, 0, 8, 7, 3, 7, 2, 9, 5, 7, 3, 2]\noptimal value:1174.000000\nthe elapsed time:39.38284397125244\n"
     ]
    },
    {
     "output_type": "display_data",
     "data": {
      "text/plain": "<Figure size 432x288 with 1 Axes>",
      "image/svg+xml": "<?xml version=\"1.0\" encoding=\"utf-8\" standalone=\"no\"?>\n<!DOCTYPE svg PUBLIC \"-//W3C//DTD SVG 1.1//EN\"\n  \"http://www.w3.org/Graphics/SVG/1.1/DTD/svg11.dtd\">\n<!-- Created with matplotlib (https://matplotlib.org/) -->\n<svg height=\"267.035313pt\" version=\"1.1\" viewBox=\"0 0 400.167187 267.035313\" width=\"400.167187pt\" xmlns=\"http://www.w3.org/2000/svg\" xmlns:xlink=\"http://www.w3.org/1999/xlink\">\n <metadata>\n  <rdf:RDF xmlns:cc=\"http://creativecommons.org/ns#\" xmlns:dc=\"http://purl.org/dc/elements/1.1/\" xmlns:rdf=\"http://www.w3.org/1999/02/22-rdf-syntax-ns#\">\n   <cc:Work>\n    <dc:type rdf:resource=\"http://purl.org/dc/dcmitype/StillImage\"/>\n    <dc:date>2021-02-20T18:28:43.566144</dc:date>\n    <dc:format>image/svg+xml</dc:format>\n    <dc:creator>\n     <cc:Agent>\n      <dc:title>Matplotlib v3.3.2, https://matplotlib.org/</dc:title>\n     </cc:Agent>\n    </dc:creator>\n   </cc:Work>\n  </rdf:RDF>\n </metadata>\n <defs>\n  <style type=\"text/css\">*{stroke-linecap:butt;stroke-linejoin:round;}</style>\n </defs>\n <g id=\"figure_1\">\n  <g id=\"patch_1\">\n   <path d=\"M 0 267.035313 \nL 400.167187 267.035313 \nL 400.167187 0 \nL 0 0 \nz\n\" style=\"fill:none;\"/>\n  </g>\n  <g id=\"axes_1\">\n   <g id=\"patch_2\">\n    <path d=\"M 58.167188 224.64 \nL 392.967188 224.64 \nL 392.967188 7.2 \nL 58.167188 7.2 \nz\n\" style=\"fill:#ffffff;\"/>\n   </g>\n   <g id=\"matplotlib.axis_1\">\n    <g id=\"xtick_1\">\n     <g id=\"line2d_1\">\n      <defs>\n       <path d=\"M 0 0 \nL 0 3.5 \n\" id=\"m3dce54b00b\" style=\"stroke:#000000;stroke-width:0.8;\"/>\n      </defs>\n      <g>\n       <use style=\"stroke:#000000;stroke-width:0.8;\" x=\"73.385369\" xlink:href=\"#m3dce54b00b\" y=\"224.64\"/>\n      </g>\n     </g>\n     <g id=\"text_1\">\n      <!-- 0 -->\n      <g transform=\"translate(70.204119 239.238438)scale(0.1 -0.1)\">\n       <defs>\n        <path d=\"M 31.78125 66.40625 \nQ 24.171875 66.40625 20.328125 58.90625 \nQ 16.5 51.421875 16.5 36.375 \nQ 16.5 21.390625 20.328125 13.890625 \nQ 24.171875 6.390625 31.78125 6.390625 \nQ 39.453125 6.390625 43.28125 13.890625 \nQ 47.125 21.390625 47.125 36.375 \nQ 47.125 51.421875 43.28125 58.90625 \nQ 39.453125 66.40625 31.78125 66.40625 \nz\nM 31.78125 74.21875 \nQ 44.046875 74.21875 50.515625 64.515625 \nQ 56.984375 54.828125 56.984375 36.375 \nQ 56.984375 17.96875 50.515625 8.265625 \nQ 44.046875 -1.421875 31.78125 -1.421875 \nQ 19.53125 -1.421875 13.0625 8.265625 \nQ 6.59375 17.96875 6.59375 36.375 \nQ 6.59375 54.828125 13.0625 64.515625 \nQ 19.53125 74.21875 31.78125 74.21875 \nz\n\" id=\"DejaVuSans-48\"/>\n       </defs>\n       <use xlink:href=\"#DejaVuSans-48\"/>\n      </g>\n     </g>\n    </g>\n    <g id=\"xtick_2\">\n     <g id=\"line2d_2\">\n      <g>\n       <use style=\"stroke:#000000;stroke-width:0.8;\" x=\"111.449856\" xlink:href=\"#m3dce54b00b\" y=\"224.64\"/>\n      </g>\n     </g>\n     <g id=\"text_2\">\n      <!-- 250 -->\n      <g transform=\"translate(101.906106 239.238438)scale(0.1 -0.1)\">\n       <defs>\n        <path d=\"M 19.1875 8.296875 \nL 53.609375 8.296875 \nL 53.609375 0 \nL 7.328125 0 \nL 7.328125 8.296875 \nQ 12.9375 14.109375 22.625 23.890625 \nQ 32.328125 33.6875 34.8125 36.53125 \nQ 39.546875 41.84375 41.421875 45.53125 \nQ 43.3125 49.21875 43.3125 52.78125 \nQ 43.3125 58.59375 39.234375 62.25 \nQ 35.15625 65.921875 28.609375 65.921875 \nQ 23.96875 65.921875 18.8125 64.3125 \nQ 13.671875 62.703125 7.8125 59.421875 \nL 7.8125 69.390625 \nQ 13.765625 71.78125 18.9375 73 \nQ 24.125 74.21875 28.421875 74.21875 \nQ 39.75 74.21875 46.484375 68.546875 \nQ 53.21875 62.890625 53.21875 53.421875 \nQ 53.21875 48.921875 51.53125 44.890625 \nQ 49.859375 40.875 45.40625 35.40625 \nQ 44.1875 33.984375 37.640625 27.21875 \nQ 31.109375 20.453125 19.1875 8.296875 \nz\n\" id=\"DejaVuSans-50\"/>\n        <path d=\"M 10.796875 72.90625 \nL 49.515625 72.90625 \nL 49.515625 64.59375 \nL 19.828125 64.59375 \nL 19.828125 46.734375 \nQ 21.96875 47.46875 24.109375 47.828125 \nQ 26.265625 48.1875 28.421875 48.1875 \nQ 40.625 48.1875 47.75 41.5 \nQ 54.890625 34.8125 54.890625 23.390625 \nQ 54.890625 11.625 47.5625 5.09375 \nQ 40.234375 -1.421875 26.90625 -1.421875 \nQ 22.3125 -1.421875 17.546875 -0.640625 \nQ 12.796875 0.140625 7.71875 1.703125 \nL 7.71875 11.625 \nQ 12.109375 9.234375 16.796875 8.0625 \nQ 21.484375 6.890625 26.703125 6.890625 \nQ 35.15625 6.890625 40.078125 11.328125 \nQ 45.015625 15.765625 45.015625 23.390625 \nQ 45.015625 31 40.078125 35.4375 \nQ 35.15625 39.890625 26.703125 39.890625 \nQ 22.75 39.890625 18.8125 39.015625 \nQ 14.890625 38.140625 10.796875 36.28125 \nz\n\" id=\"DejaVuSans-53\"/>\n       </defs>\n       <use xlink:href=\"#DejaVuSans-50\"/>\n       <use x=\"63.623047\" xlink:href=\"#DejaVuSans-53\"/>\n       <use x=\"127.246094\" xlink:href=\"#DejaVuSans-48\"/>\n      </g>\n     </g>\n    </g>\n    <g id=\"xtick_3\">\n     <g id=\"line2d_3\">\n      <g>\n       <use style=\"stroke:#000000;stroke-width:0.8;\" x=\"149.514343\" xlink:href=\"#m3dce54b00b\" y=\"224.64\"/>\n      </g>\n     </g>\n     <g id=\"text_3\">\n      <!-- 500 -->\n      <g transform=\"translate(139.970593 239.238438)scale(0.1 -0.1)\">\n       <use xlink:href=\"#DejaVuSans-53\"/>\n       <use x=\"63.623047\" xlink:href=\"#DejaVuSans-48\"/>\n       <use x=\"127.246094\" xlink:href=\"#DejaVuSans-48\"/>\n      </g>\n     </g>\n    </g>\n    <g id=\"xtick_4\">\n     <g id=\"line2d_4\">\n      <g>\n       <use style=\"stroke:#000000;stroke-width:0.8;\" x=\"187.57883\" xlink:href=\"#m3dce54b00b\" y=\"224.64\"/>\n      </g>\n     </g>\n     <g id=\"text_4\">\n      <!-- 750 -->\n      <g transform=\"translate(178.03508 239.238438)scale(0.1 -0.1)\">\n       <defs>\n        <path d=\"M 8.203125 72.90625 \nL 55.078125 72.90625 \nL 55.078125 68.703125 \nL 28.609375 0 \nL 18.3125 0 \nL 43.21875 64.59375 \nL 8.203125 64.59375 \nz\n\" id=\"DejaVuSans-55\"/>\n       </defs>\n       <use xlink:href=\"#DejaVuSans-55\"/>\n       <use x=\"63.623047\" xlink:href=\"#DejaVuSans-53\"/>\n       <use x=\"127.246094\" xlink:href=\"#DejaVuSans-48\"/>\n      </g>\n     </g>\n    </g>\n    <g id=\"xtick_5\">\n     <g id=\"line2d_5\">\n      <g>\n       <use style=\"stroke:#000000;stroke-width:0.8;\" x=\"225.643316\" xlink:href=\"#m3dce54b00b\" y=\"224.64\"/>\n      </g>\n     </g>\n     <g id=\"text_5\">\n      <!-- 1000 -->\n      <g transform=\"translate(212.918316 239.238438)scale(0.1 -0.1)\">\n       <defs>\n        <path d=\"M 12.40625 8.296875 \nL 28.515625 8.296875 \nL 28.515625 63.921875 \nL 10.984375 60.40625 \nL 10.984375 69.390625 \nL 28.421875 72.90625 \nL 38.28125 72.90625 \nL 38.28125 8.296875 \nL 54.390625 8.296875 \nL 54.390625 0 \nL 12.40625 0 \nz\n\" id=\"DejaVuSans-49\"/>\n       </defs>\n       <use xlink:href=\"#DejaVuSans-49\"/>\n       <use x=\"63.623047\" xlink:href=\"#DejaVuSans-48\"/>\n       <use x=\"127.246094\" xlink:href=\"#DejaVuSans-48\"/>\n       <use x=\"190.869141\" xlink:href=\"#DejaVuSans-48\"/>\n      </g>\n     </g>\n    </g>\n    <g id=\"xtick_6\">\n     <g id=\"line2d_6\">\n      <g>\n       <use style=\"stroke:#000000;stroke-width:0.8;\" x=\"263.707803\" xlink:href=\"#m3dce54b00b\" y=\"224.64\"/>\n      </g>\n     </g>\n     <g id=\"text_6\">\n      <!-- 1250 -->\n      <g transform=\"translate(250.982803 239.238438)scale(0.1 -0.1)\">\n       <use xlink:href=\"#DejaVuSans-49\"/>\n       <use x=\"63.623047\" xlink:href=\"#DejaVuSans-50\"/>\n       <use x=\"127.246094\" xlink:href=\"#DejaVuSans-53\"/>\n       <use x=\"190.869141\" xlink:href=\"#DejaVuSans-48\"/>\n      </g>\n     </g>\n    </g>\n    <g id=\"xtick_7\">\n     <g id=\"line2d_7\">\n      <g>\n       <use style=\"stroke:#000000;stroke-width:0.8;\" x=\"301.77229\" xlink:href=\"#m3dce54b00b\" y=\"224.64\"/>\n      </g>\n     </g>\n     <g id=\"text_7\">\n      <!-- 1500 -->\n      <g transform=\"translate(289.04729 239.238438)scale(0.1 -0.1)\">\n       <use xlink:href=\"#DejaVuSans-49\"/>\n       <use x=\"63.623047\" xlink:href=\"#DejaVuSans-53\"/>\n       <use x=\"127.246094\" xlink:href=\"#DejaVuSans-48\"/>\n       <use x=\"190.869141\" xlink:href=\"#DejaVuSans-48\"/>\n      </g>\n     </g>\n    </g>\n    <g id=\"xtick_8\">\n     <g id=\"line2d_8\">\n      <g>\n       <use style=\"stroke:#000000;stroke-width:0.8;\" x=\"339.836777\" xlink:href=\"#m3dce54b00b\" y=\"224.64\"/>\n      </g>\n     </g>\n     <g id=\"text_8\">\n      <!-- 1750 -->\n      <g transform=\"translate(327.111777 239.238438)scale(0.1 -0.1)\">\n       <use xlink:href=\"#DejaVuSans-49\"/>\n       <use x=\"63.623047\" xlink:href=\"#DejaVuSans-55\"/>\n       <use x=\"127.246094\" xlink:href=\"#DejaVuSans-53\"/>\n       <use x=\"190.869141\" xlink:href=\"#DejaVuSans-48\"/>\n      </g>\n     </g>\n    </g>\n    <g id=\"xtick_9\">\n     <g id=\"line2d_9\">\n      <g>\n       <use style=\"stroke:#000000;stroke-width:0.8;\" x=\"377.901264\" xlink:href=\"#m3dce54b00b\" y=\"224.64\"/>\n      </g>\n     </g>\n     <g id=\"text_9\">\n      <!-- 2000 -->\n      <g transform=\"translate(365.176264 239.238438)scale(0.1 -0.1)\">\n       <use xlink:href=\"#DejaVuSans-50\"/>\n       <use x=\"63.623047\" xlink:href=\"#DejaVuSans-48\"/>\n       <use x=\"127.246094\" xlink:href=\"#DejaVuSans-48\"/>\n       <use x=\"190.869141\" xlink:href=\"#DejaVuSans-48\"/>\n      </g>\n     </g>\n    </g>\n    <g id=\"text_10\">\n     <!-- generation -->\n     <g transform=\"translate(184.777734 256.715781)scale(0.15 -0.15)\">\n      <defs>\n       <path d=\"M 45.40625 27.984375 \nQ 45.40625 37.75 41.375 43.109375 \nQ 37.359375 48.484375 30.078125 48.484375 \nQ 22.859375 48.484375 18.828125 43.109375 \nQ 14.796875 37.75 14.796875 27.984375 \nQ 14.796875 18.265625 18.828125 12.890625 \nQ 22.859375 7.515625 30.078125 7.515625 \nQ 37.359375 7.515625 41.375 12.890625 \nQ 45.40625 18.265625 45.40625 27.984375 \nz\nM 54.390625 6.78125 \nQ 54.390625 -7.171875 48.1875 -13.984375 \nQ 42 -20.796875 29.203125 -20.796875 \nQ 24.46875 -20.796875 20.265625 -20.09375 \nQ 16.0625 -19.390625 12.109375 -17.921875 \nL 12.109375 -9.1875 \nQ 16.0625 -11.328125 19.921875 -12.34375 \nQ 23.78125 -13.375 27.78125 -13.375 \nQ 36.625 -13.375 41.015625 -8.765625 \nQ 45.40625 -4.15625 45.40625 5.171875 \nL 45.40625 9.625 \nQ 42.625 4.78125 38.28125 2.390625 \nQ 33.9375 0 27.875 0 \nQ 17.828125 0 11.671875 7.65625 \nQ 5.515625 15.328125 5.515625 27.984375 \nQ 5.515625 40.671875 11.671875 48.328125 \nQ 17.828125 56 27.875 56 \nQ 33.9375 56 38.28125 53.609375 \nQ 42.625 51.21875 45.40625 46.390625 \nL 45.40625 54.6875 \nL 54.390625 54.6875 \nz\n\" id=\"DejaVuSans-103\"/>\n       <path d=\"M 56.203125 29.59375 \nL 56.203125 25.203125 \nL 14.890625 25.203125 \nQ 15.484375 15.921875 20.484375 11.0625 \nQ 25.484375 6.203125 34.421875 6.203125 \nQ 39.59375 6.203125 44.453125 7.46875 \nQ 49.3125 8.734375 54.109375 11.28125 \nL 54.109375 2.78125 \nQ 49.265625 0.734375 44.1875 -0.34375 \nQ 39.109375 -1.421875 33.890625 -1.421875 \nQ 20.796875 -1.421875 13.15625 6.1875 \nQ 5.515625 13.8125 5.515625 26.8125 \nQ 5.515625 40.234375 12.765625 48.109375 \nQ 20.015625 56 32.328125 56 \nQ 43.359375 56 49.78125 48.890625 \nQ 56.203125 41.796875 56.203125 29.59375 \nz\nM 47.21875 32.234375 \nQ 47.125 39.59375 43.09375 43.984375 \nQ 39.0625 48.390625 32.421875 48.390625 \nQ 24.90625 48.390625 20.390625 44.140625 \nQ 15.875 39.890625 15.1875 32.171875 \nz\n\" id=\"DejaVuSans-101\"/>\n       <path d=\"M 54.890625 33.015625 \nL 54.890625 0 \nL 45.90625 0 \nL 45.90625 32.71875 \nQ 45.90625 40.484375 42.875 44.328125 \nQ 39.84375 48.1875 33.796875 48.1875 \nQ 26.515625 48.1875 22.3125 43.546875 \nQ 18.109375 38.921875 18.109375 30.90625 \nL 18.109375 0 \nL 9.078125 0 \nL 9.078125 54.6875 \nL 18.109375 54.6875 \nL 18.109375 46.1875 \nQ 21.34375 51.125 25.703125 53.5625 \nQ 30.078125 56 35.796875 56 \nQ 45.21875 56 50.046875 50.171875 \nQ 54.890625 44.34375 54.890625 33.015625 \nz\n\" id=\"DejaVuSans-110\"/>\n       <path d=\"M 41.109375 46.296875 \nQ 39.59375 47.171875 37.8125 47.578125 \nQ 36.03125 48 33.890625 48 \nQ 26.265625 48 22.1875 43.046875 \nQ 18.109375 38.09375 18.109375 28.8125 \nL 18.109375 0 \nL 9.078125 0 \nL 9.078125 54.6875 \nL 18.109375 54.6875 \nL 18.109375 46.1875 \nQ 20.953125 51.171875 25.484375 53.578125 \nQ 30.03125 56 36.53125 56 \nQ 37.453125 56 38.578125 55.875 \nQ 39.703125 55.765625 41.0625 55.515625 \nz\n\" id=\"DejaVuSans-114\"/>\n       <path d=\"M 34.28125 27.484375 \nQ 23.390625 27.484375 19.1875 25 \nQ 14.984375 22.515625 14.984375 16.5 \nQ 14.984375 11.71875 18.140625 8.90625 \nQ 21.296875 6.109375 26.703125 6.109375 \nQ 34.1875 6.109375 38.703125 11.40625 \nQ 43.21875 16.703125 43.21875 25.484375 \nL 43.21875 27.484375 \nz\nM 52.203125 31.203125 \nL 52.203125 0 \nL 43.21875 0 \nL 43.21875 8.296875 \nQ 40.140625 3.328125 35.546875 0.953125 \nQ 30.953125 -1.421875 24.3125 -1.421875 \nQ 15.921875 -1.421875 10.953125 3.296875 \nQ 6 8.015625 6 15.921875 \nQ 6 25.140625 12.171875 29.828125 \nQ 18.359375 34.515625 30.609375 34.515625 \nL 43.21875 34.515625 \nL 43.21875 35.40625 \nQ 43.21875 41.609375 39.140625 45 \nQ 35.0625 48.390625 27.6875 48.390625 \nQ 23 48.390625 18.546875 47.265625 \nQ 14.109375 46.140625 10.015625 43.890625 \nL 10.015625 52.203125 \nQ 14.9375 54.109375 19.578125 55.046875 \nQ 24.21875 56 28.609375 56 \nQ 40.484375 56 46.34375 49.84375 \nQ 52.203125 43.703125 52.203125 31.203125 \nz\n\" id=\"DejaVuSans-97\"/>\n       <path d=\"M 18.3125 70.21875 \nL 18.3125 54.6875 \nL 36.8125 54.6875 \nL 36.8125 47.703125 \nL 18.3125 47.703125 \nL 18.3125 18.015625 \nQ 18.3125 11.328125 20.140625 9.421875 \nQ 21.96875 7.515625 27.59375 7.515625 \nL 36.8125 7.515625 \nL 36.8125 0 \nL 27.59375 0 \nQ 17.1875 0 13.234375 3.875 \nQ 9.28125 7.765625 9.28125 18.015625 \nL 9.28125 47.703125 \nL 2.6875 47.703125 \nL 2.6875 54.6875 \nL 9.28125 54.6875 \nL 9.28125 70.21875 \nz\n\" id=\"DejaVuSans-116\"/>\n       <path d=\"M 9.421875 54.6875 \nL 18.40625 54.6875 \nL 18.40625 0 \nL 9.421875 0 \nz\nM 9.421875 75.984375 \nL 18.40625 75.984375 \nL 18.40625 64.59375 \nL 9.421875 64.59375 \nz\n\" id=\"DejaVuSans-105\"/>\n       <path d=\"M 30.609375 48.390625 \nQ 23.390625 48.390625 19.1875 42.75 \nQ 14.984375 37.109375 14.984375 27.296875 \nQ 14.984375 17.484375 19.15625 11.84375 \nQ 23.34375 6.203125 30.609375 6.203125 \nQ 37.796875 6.203125 41.984375 11.859375 \nQ 46.1875 17.53125 46.1875 27.296875 \nQ 46.1875 37.015625 41.984375 42.703125 \nQ 37.796875 48.390625 30.609375 48.390625 \nz\nM 30.609375 56 \nQ 42.328125 56 49.015625 48.375 \nQ 55.71875 40.765625 55.71875 27.296875 \nQ 55.71875 13.875 49.015625 6.21875 \nQ 42.328125 -1.421875 30.609375 -1.421875 \nQ 18.84375 -1.421875 12.171875 6.21875 \nQ 5.515625 13.875 5.515625 27.296875 \nQ 5.515625 40.765625 12.171875 48.375 \nQ 18.84375 56 30.609375 56 \nz\n\" id=\"DejaVuSans-111\"/>\n      </defs>\n      <use xlink:href=\"#DejaVuSans-103\"/>\n      <use x=\"63.476562\" xlink:href=\"#DejaVuSans-101\"/>\n      <use x=\"125\" xlink:href=\"#DejaVuSans-110\"/>\n      <use x=\"188.378906\" xlink:href=\"#DejaVuSans-101\"/>\n      <use x=\"249.902344\" xlink:href=\"#DejaVuSans-114\"/>\n      <use x=\"291.015625\" xlink:href=\"#DejaVuSans-97\"/>\n      <use x=\"352.294922\" xlink:href=\"#DejaVuSans-116\"/>\n      <use x=\"391.503906\" xlink:href=\"#DejaVuSans-105\"/>\n      <use x=\"419.287109\" xlink:href=\"#DejaVuSans-111\"/>\n      <use x=\"480.46875\" xlink:href=\"#DejaVuSans-110\"/>\n     </g>\n    </g>\n   </g>\n   <g id=\"matplotlib.axis_2\">\n    <g id=\"ytick_1\">\n     <g id=\"line2d_10\">\n      <defs>\n       <path d=\"M 0 0 \nL -3.5 0 \n\" id=\"mbd5a6dc938\" style=\"stroke:#000000;stroke-width:0.8;\"/>\n      </defs>\n      <g>\n       <use style=\"stroke:#000000;stroke-width:0.8;\" x=\"58.167188\" xlink:href=\"#mbd5a6dc938\" y=\"190.851755\"/>\n      </g>\n     </g>\n     <g id=\"text_11\">\n      <!-- 1200 -->\n      <g transform=\"translate(25.717188 194.650974)scale(0.1 -0.1)\">\n       <use xlink:href=\"#DejaVuSans-49\"/>\n       <use x=\"63.623047\" xlink:href=\"#DejaVuSans-50\"/>\n       <use x=\"127.246094\" xlink:href=\"#DejaVuSans-48\"/>\n       <use x=\"190.869141\" xlink:href=\"#DejaVuSans-48\"/>\n      </g>\n     </g>\n    </g>\n    <g id=\"ytick_2\">\n     <g id=\"line2d_11\">\n      <g>\n       <use style=\"stroke:#000000;stroke-width:0.8;\" x=\"58.167188\" xlink:href=\"#mbd5a6dc938\" y=\"144.881353\"/>\n      </g>\n     </g>\n     <g id=\"text_12\">\n      <!-- 1250 -->\n      <g transform=\"translate(25.717188 148.680572)scale(0.1 -0.1)\">\n       <use xlink:href=\"#DejaVuSans-49\"/>\n       <use x=\"63.623047\" xlink:href=\"#DejaVuSans-50\"/>\n       <use x=\"127.246094\" xlink:href=\"#DejaVuSans-53\"/>\n       <use x=\"190.869141\" xlink:href=\"#DejaVuSans-48\"/>\n      </g>\n     </g>\n    </g>\n    <g id=\"ytick_3\">\n     <g id=\"line2d_12\">\n      <g>\n       <use style=\"stroke:#000000;stroke-width:0.8;\" x=\"58.167188\" xlink:href=\"#mbd5a6dc938\" y=\"98.910951\"/>\n      </g>\n     </g>\n     <g id=\"text_13\">\n      <!-- 1300 -->\n      <g transform=\"translate(25.717188 102.71017)scale(0.1 -0.1)\">\n       <defs>\n        <path d=\"M 40.578125 39.3125 \nQ 47.65625 37.796875 51.625 33 \nQ 55.609375 28.21875 55.609375 21.1875 \nQ 55.609375 10.40625 48.1875 4.484375 \nQ 40.765625 -1.421875 27.09375 -1.421875 \nQ 22.515625 -1.421875 17.65625 -0.515625 \nQ 12.796875 0.390625 7.625 2.203125 \nL 7.625 11.71875 \nQ 11.71875 9.328125 16.59375 8.109375 \nQ 21.484375 6.890625 26.8125 6.890625 \nQ 36.078125 6.890625 40.9375 10.546875 \nQ 45.796875 14.203125 45.796875 21.1875 \nQ 45.796875 27.640625 41.28125 31.265625 \nQ 36.765625 34.90625 28.71875 34.90625 \nL 20.21875 34.90625 \nL 20.21875 43.015625 \nL 29.109375 43.015625 \nQ 36.375 43.015625 40.234375 45.921875 \nQ 44.09375 48.828125 44.09375 54.296875 \nQ 44.09375 59.90625 40.109375 62.90625 \nQ 36.140625 65.921875 28.71875 65.921875 \nQ 24.65625 65.921875 20.015625 65.03125 \nQ 15.375 64.15625 9.8125 62.3125 \nL 9.8125 71.09375 \nQ 15.4375 72.65625 20.34375 73.4375 \nQ 25.25 74.21875 29.59375 74.21875 \nQ 40.828125 74.21875 47.359375 69.109375 \nQ 53.90625 64.015625 53.90625 55.328125 \nQ 53.90625 49.265625 50.4375 45.09375 \nQ 46.96875 40.921875 40.578125 39.3125 \nz\n\" id=\"DejaVuSans-51\"/>\n       </defs>\n       <use xlink:href=\"#DejaVuSans-49\"/>\n       <use x=\"63.623047\" xlink:href=\"#DejaVuSans-51\"/>\n       <use x=\"127.246094\" xlink:href=\"#DejaVuSans-48\"/>\n       <use x=\"190.869141\" xlink:href=\"#DejaVuSans-48\"/>\n      </g>\n     </g>\n    </g>\n    <g id=\"ytick_4\">\n     <g id=\"line2d_13\">\n      <g>\n       <use style=\"stroke:#000000;stroke-width:0.8;\" x=\"58.167188\" xlink:href=\"#mbd5a6dc938\" y=\"52.94055\"/>\n      </g>\n     </g>\n     <g id=\"text_14\">\n      <!-- 1350 -->\n      <g transform=\"translate(25.717188 56.739768)scale(0.1 -0.1)\">\n       <use xlink:href=\"#DejaVuSans-49\"/>\n       <use x=\"63.623047\" xlink:href=\"#DejaVuSans-51\"/>\n       <use x=\"127.246094\" xlink:href=\"#DejaVuSans-53\"/>\n       <use x=\"190.869141\" xlink:href=\"#DejaVuSans-48\"/>\n      </g>\n     </g>\n    </g>\n    <g id=\"text_15\">\n     <!-- makespan -->\n     <g transform=\"translate(18.597656 154.525078)rotate(-90)scale(0.15 -0.15)\">\n      <defs>\n       <path d=\"M 52 44.1875 \nQ 55.375 50.25 60.0625 53.125 \nQ 64.75 56 71.09375 56 \nQ 79.640625 56 84.28125 50.015625 \nQ 88.921875 44.046875 88.921875 33.015625 \nL 88.921875 0 \nL 79.890625 0 \nL 79.890625 32.71875 \nQ 79.890625 40.578125 77.09375 44.375 \nQ 74.3125 48.1875 68.609375 48.1875 \nQ 61.625 48.1875 57.5625 43.546875 \nQ 53.515625 38.921875 53.515625 30.90625 \nL 53.515625 0 \nL 44.484375 0 \nL 44.484375 32.71875 \nQ 44.484375 40.625 41.703125 44.40625 \nQ 38.921875 48.1875 33.109375 48.1875 \nQ 26.21875 48.1875 22.15625 43.53125 \nQ 18.109375 38.875 18.109375 30.90625 \nL 18.109375 0 \nL 9.078125 0 \nL 9.078125 54.6875 \nL 18.109375 54.6875 \nL 18.109375 46.1875 \nQ 21.1875 51.21875 25.484375 53.609375 \nQ 29.78125 56 35.6875 56 \nQ 41.65625 56 45.828125 52.96875 \nQ 50 49.953125 52 44.1875 \nz\n\" id=\"DejaVuSans-109\"/>\n       <path d=\"M 9.078125 75.984375 \nL 18.109375 75.984375 \nL 18.109375 31.109375 \nL 44.921875 54.6875 \nL 56.390625 54.6875 \nL 27.390625 29.109375 \nL 57.625 0 \nL 45.90625 0 \nL 18.109375 26.703125 \nL 18.109375 0 \nL 9.078125 0 \nz\n\" id=\"DejaVuSans-107\"/>\n       <path d=\"M 44.28125 53.078125 \nL 44.28125 44.578125 \nQ 40.484375 46.53125 36.375 47.5 \nQ 32.28125 48.484375 27.875 48.484375 \nQ 21.1875 48.484375 17.84375 46.4375 \nQ 14.5 44.390625 14.5 40.28125 \nQ 14.5 37.15625 16.890625 35.375 \nQ 19.28125 33.59375 26.515625 31.984375 \nL 29.59375 31.296875 \nQ 39.15625 29.25 43.1875 25.515625 \nQ 47.21875 21.78125 47.21875 15.09375 \nQ 47.21875 7.46875 41.1875 3.015625 \nQ 35.15625 -1.421875 24.609375 -1.421875 \nQ 20.21875 -1.421875 15.453125 -0.5625 \nQ 10.6875 0.296875 5.421875 2 \nL 5.421875 11.28125 \nQ 10.40625 8.6875 15.234375 7.390625 \nQ 20.0625 6.109375 24.8125 6.109375 \nQ 31.15625 6.109375 34.5625 8.28125 \nQ 37.984375 10.453125 37.984375 14.40625 \nQ 37.984375 18.0625 35.515625 20.015625 \nQ 33.0625 21.96875 24.703125 23.78125 \nL 21.578125 24.515625 \nQ 13.234375 26.265625 9.515625 29.90625 \nQ 5.8125 33.546875 5.8125 39.890625 \nQ 5.8125 47.609375 11.28125 51.796875 \nQ 16.75 56 26.8125 56 \nQ 31.78125 56 36.171875 55.265625 \nQ 40.578125 54.546875 44.28125 53.078125 \nz\n\" id=\"DejaVuSans-115\"/>\n       <path d=\"M 18.109375 8.203125 \nL 18.109375 -20.796875 \nL 9.078125 -20.796875 \nL 9.078125 54.6875 \nL 18.109375 54.6875 \nL 18.109375 46.390625 \nQ 20.953125 51.265625 25.265625 53.625 \nQ 29.59375 56 35.59375 56 \nQ 45.5625 56 51.78125 48.09375 \nQ 58.015625 40.1875 58.015625 27.296875 \nQ 58.015625 14.40625 51.78125 6.484375 \nQ 45.5625 -1.421875 35.59375 -1.421875 \nQ 29.59375 -1.421875 25.265625 0.953125 \nQ 20.953125 3.328125 18.109375 8.203125 \nz\nM 48.6875 27.296875 \nQ 48.6875 37.203125 44.609375 42.84375 \nQ 40.53125 48.484375 33.40625 48.484375 \nQ 26.265625 48.484375 22.1875 42.84375 \nQ 18.109375 37.203125 18.109375 27.296875 \nQ 18.109375 17.390625 22.1875 11.75 \nQ 26.265625 6.109375 33.40625 6.109375 \nQ 40.53125 6.109375 44.609375 11.75 \nQ 48.6875 17.390625 48.6875 27.296875 \nz\n\" id=\"DejaVuSans-112\"/>\n      </defs>\n      <use xlink:href=\"#DejaVuSans-109\"/>\n      <use x=\"97.412109\" xlink:href=\"#DejaVuSans-97\"/>\n      <use x=\"158.691406\" xlink:href=\"#DejaVuSans-107\"/>\n      <use x=\"212.976562\" xlink:href=\"#DejaVuSans-101\"/>\n      <use x=\"274.5\" xlink:href=\"#DejaVuSans-115\"/>\n      <use x=\"326.599609\" xlink:href=\"#DejaVuSans-112\"/>\n      <use x=\"390.076172\" xlink:href=\"#DejaVuSans-97\"/>\n      <use x=\"451.355469\" xlink:href=\"#DejaVuSans-110\"/>\n     </g>\n    </g>\n   </g>\n   <g id=\"line2d_14\">\n    <path clip-path=\"url(#pdb6374145b)\" d=\"M 73.385369 17.083636 \nL 74.451175 17.083636 \nL 74.603433 63.054038 \nL 77.03956 63.054038 \nL 77.191818 72.248118 \nL 88.306648 72.248118 \nL 88.458906 101.669175 \nL 89.67697 101.669175 \nL 89.829228 103.507992 \nL 97.594383 103.507992 \nL 97.746641 151.317209 \nL 115.560821 151.317209 \nL 115.713079 192.690571 \nL 296.291004 192.690571 \nL 296.443262 214.756364 \nL 377.749006 214.756364 \nL 377.749006 214.756364 \n\" style=\"fill:none;stroke:#0000ff;stroke-linecap:square;stroke-width:1.5;\"/>\n   </g>\n   <g id=\"patch_3\">\n    <path d=\"M 58.167188 224.64 \nL 58.167188 7.2 \n\" style=\"fill:none;stroke:#000000;stroke-linecap:square;stroke-linejoin:miter;stroke-width:0.8;\"/>\n   </g>\n   <g id=\"patch_4\">\n    <path d=\"M 392.967188 224.64 \nL 392.967188 7.2 \n\" style=\"fill:none;stroke:#000000;stroke-linecap:square;stroke-linejoin:miter;stroke-width:0.8;\"/>\n   </g>\n   <g id=\"patch_5\">\n    <path d=\"M 58.167188 224.64 \nL 392.967188 224.64 \n\" style=\"fill:none;stroke:#000000;stroke-linecap:square;stroke-linejoin:miter;stroke-width:0.8;\"/>\n   </g>\n   <g id=\"patch_6\">\n    <path d=\"M 58.167188 7.2 \nL 392.967188 7.2 \n\" style=\"fill:none;stroke:#000000;stroke-linecap:square;stroke-linejoin:miter;stroke-width:0.8;\"/>\n   </g>\n  </g>\n </g>\n <defs>\n  <clipPath id=\"pdb6374145b\">\n   <rect height=\"217.44\" width=\"334.8\" x=\"58.167188\" y=\"7.2\"/>\n  </clipPath>\n </defs>\n</svg>\n",
      "image/png": "[encoded data removed]"
     },
     "metadata": {
      "needs_background": "light"
     }
    }
   ],
   "source": [
    "for n in range(num_iteration):\n",
    "    Tbest_now=99999999999           \n",
    "   \n",
    "    '''-------- two point crossover 雙點交配--------'''\n",
    "    parent_list=copy.deepcopy(population_list) #完全複製了一份副本，容器與容器中的元素地址都不一樣\n",
    "    offspring_list=copy.deepcopy(population_list)\n",
    "    S=list(np.random.permutation(population_size)) # generate a random sequence to select the parent chromosome to crossover\n",
    "    '''\n",
    "    S\n",
    "    [5, 8, 28, 1, 20, 25, 7, 24, 15, 13, 14, 10, 23, 4, 2, 27, 12, 9, 18, 17, 21, 6, 22, 11, 19, 29, 26, 16, 0, 3]\n",
    "    '''\n",
    "    for m in range(int(population_size/2)):\n",
    "        crossover_prob=np.random.rand()\n",
    "        if crossover_rate>=crossover_prob: #隨機取值, 小於交配率才交配\n",
    "            #S編號第0個樣本跟S編號第1個樣本交配, S編號第2個樣本跟S編號第3個樣本交配...\n",
    "            parent_1= population_list[S[2*m]][:]\n",
    "            parent_2= population_list[S[2*m+1]][:]\n",
    "            #print(\"parent_1\")\n",
    "            #print(parent_1)\n",
    "            #print(\"parent_2\")\n",
    "            #print(parent_2)\n",
    "            '''\n",
    "            parent_1\n",
    "            [0, 2, 6, 6, 0, 5, 1, 5, 5, 5, 8, 3, 6, 3, 3, 9, 9, 9, 3, 4, 3, 3, 4, 2, 6, 9, 6, 2, 8, 4, 8, 5, 7, 4, 3, 7, 7, 3, 3, 9, 7, 0, 6, 4, 0, 1, 2, 1, 8, 1, 5, 4, 9, 0, 2, 9, 9, 1, 6, 8, 4, 2, 7, 4, 7, 1, 6, 0, 0, 1, 0, 8, 8, 2, 5, 9, 7, 7, 6, 8, 2, 2, 7, 5, 6, 3, 9, 1, 4, 5, 8, 2, 7, 8, 0, 4, 1, 1, 0, 5]\n",
    "            parent_2\n",
    "            [1, 4, 4, 6, 4, 6, 6, 2, 8, 6, 6, 3, 3, 6, 5, 4, 3, 5, 5, 4, 3, 2, 8, 1, 7, 7, 5, 8, 3, 9, 6, 5, 9, 2, 8, 7, 7, 3, 2, 9, 7, 1, 0, 0, 9, 1, 2, 8, 3, 4, 9, 0, 2, 7, 4, 3, 7, 8, 1, 4, 5, 5, 2, 1, 5, 0, 1, 9, 0, 6, 7, 8, 6, 2, 3, 2, 2, 0, 8, 8, 9, 9, 5, 6, 0, 0, 4, 1, 4, 9, 8, 3, 7, 9, 7, 0, 1, 1, 0, 5]\n",
    "\n",
    "            '''\n",
    "            child_1=parent_1[:]\n",
    "            child_2=parent_2[:]\n",
    "            cutpoint=list(np.random.choice(num_gene, 2, replace=False))  #num_gene100個取2個replace=False, 抽出之後不放回, 不會抽到重覆\n",
    "            #隨機取兩個位置, 兩點之間的基因做交換\n",
    "            cutpoint.sort()\n",
    "        \n",
    "            child_1[cutpoint[0]:cutpoint[1]]=parent_2[cutpoint[0]:cutpoint[1]]\n",
    "            child_2[cutpoint[0]:cutpoint[1]]=parent_1[cutpoint[0]:cutpoint[1]]\n",
    "            offspring_list[S[2*m]]=child_1[:]\n",
    "            offspring_list[S[2*m+1]]=child_2[:]\n",
    "            #offspring_list紀錄交配後的基因序列 (染色體)\n",
    "        \n",
    "    \n",
    "    '''----------repairment 修復-------------'''\n",
    "    #兩點截斷後交配之後, 可能造成有的job多於m次, 有的job少於m次, 必須計算job的次數做修補\n",
    "    for m in range(population_size):\n",
    "        job_count={}\n",
    "        larger,less=[],[] # 'larger' record jobs appear in the chromosome more than m times, and 'less' records less than m times.\n",
    "        for i in range(num_job):\n",
    "            if i in offspring_list[m]:\n",
    "                count=offspring_list[m].count(i) #在第m個樣本中, job i出現的次數\n",
    "                pos=offspring_list[m].index(i) #在第m個樣本中, job i出現的位置\n",
    "                job_count[i]=[count,pos] # store the above two values to the job_count dictionary\n",
    "            else:\n",
    "                count=0\n",
    "                job_count[i]=[count,0]\n",
    "            if count>num_mc:\n",
    "                larger.append(i)\n",
    "            elif count<num_mc:\n",
    "                less.append(i)\n",
    "                \n",
    "        #取lager中的job, 把該job的那個位置換成less中的其中一個job, 直到lareger的job不再過多        \n",
    "        for k in range(len(larger)): #對每一個job出現次數過多的job做調整\n",
    "            chg_job=larger[k]  #取larger中的job number\n",
    "            while job_count[chg_job][0]>num_mc: #若job出現次數過多\n",
    "                for d in range(len(less)):\n",
    "                    if job_count[less[d]][0]<num_mc:                    \n",
    "                        offspring_list[m][job_count[chg_job][1]]=less[d] #把多的job的index位置換成less job的job\n",
    "                        job_count[chg_job][1]=offspring_list[m].index(chg_job) #job_count dictionay也要更新\n",
    "                        job_count[chg_job][0]=job_count[chg_job][0]-1\n",
    "                        job_count[less[d]][0]=job_count[less[d]][0]+1                    \n",
    "                    if job_count[chg_job][0]==num_mc:\n",
    "                        break     \n",
    "    \n",
    "    '''--------mutatuon 突變--------'''   \n",
    "    for m in range(len(offspring_list)):\n",
    "        mutation_prob=np.random.rand()\n",
    "        if mutation_rate >= mutation_prob: #隨機取值, 小於突變率才突變\n",
    "            #突變率0.2, 突變的job數量為100*0.2=20, 隨機取20個位置做突變\n",
    "            m_chg=list(np.random.choice(num_gene, num_mutation_jobs, replace=False)) # chooses the position to mutation\n",
    "            #print(\"m_chg\")\n",
    "            #print(m_chg)\n",
    "            #[80, 29, 10, 26, 86, 41, 57, 58, 0, 91, 9, 84, 3, 46, 28, 97, 59, 23, 96, 94]\n",
    "            t_value_last=offspring_list[m][m_chg[0]] # save the value which is on the first mutation position\n",
    "            for i in range(num_mutation_jobs-1):\n",
    "                offspring_list[m][m_chg[i]]=offspring_list[m][m_chg[i+1]] # displacement\n",
    "                #第i個位置由i+1的值取代...\n",
    "            \n",
    "            offspring_list[m][m_chg[num_mutation_jobs-1]]=t_value_last # move the value of the first mutation position to the last mutation position\n",
    "            #最後一個位置用第一個值取代\n",
    "    \n",
    "    '''--------fitness value(calculate makespan) 1/完工時間-------------'''\n",
    "    total_chromosome=copy.deepcopy(parent_list)+copy.deepcopy(offspring_list) # parent and offspring chromosomes combination\n",
    "    chrom_fitness,chrom_fit=[],[]\n",
    "    total_fitness=0\n",
    "    for m in range(population_size*2):\n",
    "        j_keys=[j for j in range(num_job)]\n",
    "        key_count={key:0 for key in j_keys}\n",
    "        j_count={key:0 for key in j_keys}\n",
    "        m_keys=[j+1 for j in range(num_mc)]\n",
    "        m_count={key:0 for key in m_keys}\n",
    "        '''\n",
    "        j_keys\n",
    "        [0, 1, 2, 3, 4, 5, 6, 7, 8, 9]\n",
    "        key_count\n",
    "        {0: 0, 1: 0, 2: 0, 3: 0, 4: 0, 5: 0, 6: 0, 7: 0, 8: 0, 9: 0}\n",
    "        j_count\n",
    "        {0: 0, 1: 0, 2: 0, 3: 0, 4: 0, 5: 0, 6: 0, 7: 0, 8: 0, 9: 0}\n",
    "        m_keys\n",
    "        [1, 2, 3, 4, 5, 6, 7, 8, 9, 10]\n",
    "        m_count\n",
    "        {1: 0, 2: 0, 3: 0, 4: 0, 5: 0, 6: 0, 7: 0, 8: 0, 9: 0, 10: 0}\n",
    "\n",
    "        '''\n",
    "        \n",
    "        for i in total_chromosome[m]:\n",
    "            gen_t=int(pt[i][key_count[i]]) #job i的第key_count次processTime, pt[3][0] processTime=81. pt[4][0]=14==>job4 pt=81, job5 pt=14\n",
    "            gen_m=int(ms[i][key_count[i]]) #job i的第key_count次機器number\n",
    "            j_count[i]=j_count[i]+gen_t    #jog i的累計processTime\n",
    "            m_count[gen_m]=m_count[gen_m]+gen_t #機器gen_m的累計processTime \n",
    "            \n",
    "            #把機台累計時間與job累計時間, 取最大時間, 更新機台/job最後時間\n",
    "            if m_count[gen_m]<j_count[i]:\n",
    "                m_count[gen_m]=j_count[i]\n",
    "            elif m_count[gen_m]>j_count[i]:\n",
    "                j_count[i]=m_count[gen_m]\n",
    "            \n",
    "            key_count[i]=key_count[i]+1\n",
    "    \n",
    "        makespan=max(j_count.values()) #完工時間=取最大的累計processTime\n",
    "        chrom_fitness.append(1/makespan) #求解目標是取完工時間最小值, 所以fitness用倒數\n",
    "        chrom_fit.append(makespan)\n",
    "        total_fitness=total_fitness+chrom_fitness[m]\n",
    "\n",
    "    \n",
    "    '''----------selection(roulette wheel approach)----------'''\n",
    "    #pk紀錄某染色體的fitness機率, qk紀錄從第一個累積到目前染色體的fitness機率和\n",
    "    #隨機取值, 挑出對應的累積fittness的染色體, (例外處理, 如果隨機取的值小於所有的fitness, 則取第一個染色體)\n",
    "    #總共取出population_size 30個染色體\n",
    "    #輪盤是選取: fitness越大, 所占圓盤的扇形面積越大, 被選取的機率就越高-->可挑選到較佳的染色體, 同時也不會完全排除面前最差的染色體\n",
    "    #如果每次只挑最佳的染色體, 容易造成早熟現象, 也就是挑選的染色體都過於相似, 很難走出區域最佳解, 可能無法跳出區域找到全域最佳解\n",
    "    pk,qk=[],[]\n",
    "    \n",
    "    for i in range(population_size*2):\n",
    "        pk.append(chrom_fitness[i]/total_fitness)\n",
    "    for i in range(population_size*2):\n",
    "        cumulative=0\n",
    "        for j in range(0,i+1):\n",
    "            cumulative=cumulative+pk[j]\n",
    "        qk.append(cumulative)\n",
    "    \n",
    "    selection_rand=[np.random.rand() for i in range(population_size)] #隨機取值(0-1), 取population_size 30個\n",
    "    \n",
    "    for i in range(population_size):\n",
    "        if selection_rand[i]<=qk[0]:\n",
    "            population_list[i]=copy.deepcopy(total_chromosome[0])\n",
    "        else:\n",
    "            for j in range(0,population_size*2-1):\n",
    "                if selection_rand[i]>qk[j] and selection_rand[i]<=qk[j+1]:\n",
    "                    population_list[i]=copy.deepcopy(total_chromosome[j+1])\n",
    "                    break\n",
    "                    \n",
    "    '''----------comparison----------'''\n",
    "    #取這個世代的最佳染色體(最佳job sequence)\n",
    "    for i in range(population_size*2):\n",
    "        if chrom_fit[i]<Tbest_now:\n",
    "            Tbest_now=chrom_fit[i]\n",
    "            sequence_now=copy.deepcopy(total_chromosome[i])\n",
    "    #紀錄目前為止所有世代最佳染色體(最佳job sequence)\n",
    "    if Tbest_now<=Tbest:\n",
    "        Tbest=Tbest_now\n",
    "        sequence_best=copy.deepcopy(sequence_now)\n",
    "        \n",
    "    makespan_record.append(Tbest)\n",
    "'''----------result----------'''\n",
    "print(\"optimal sequence\",sequence_best) #最佳job sequence\n",
    "print(\"optimal value:%f\"%Tbest) #完工時間 \n",
    "print('the elapsed time:%s'% (time.time() - start_time)) \n",
    "#GA是運算成本高的演算法, 除了嘗試找到最佳解, 能在有限時間資源內找到也是關注的重點\n",
    "\n",
    "import matplotlib.pyplot as plt\n",
    "%matplotlib inline\n",
    "plt.plot([i for i in range(len(makespan_record))],makespan_record,'b')\n",
    "plt.ylabel('makespan',fontsize=15)\n",
    "plt.xlabel('generation',fontsize=15)\n",
    "plt.show()"
   ]
  },
  {
   "cell_type": "code",
   "execution_count": 46,
   "metadata": {
    "scrolled": false
   },
   "outputs": [
    {
     "output_type": "stream",
     "name": "stdout",
     "text": [
      "[7, 3, 1, 7, 6, 7, 9, 7, 4, 8, 6, 5, 6, 4, 4, 1, 0, 4, 0, 1, 8, 3, 3, 4, 6, 6, 9, 6, 1, 3, 1, 5, 6, 3, 4, 2, 8, 5, 1, 0, 9, 7, 3, 6, 9, 7, 8, 8, 3, 8, 5, 6, 9, 5, 0, 4, 0, 0, 8, 2, 5, 9, 6, 8, 7, 3, 1, 1, 0, 2, 9, 5, 2, 4, 2, 4, 0, 1, 2, 5, 2, 0, 8, 5, 2, 1, 4, 9, 9, 0, 8, 7, 3, 7, 2, 9, 5, 7, 3, 2]\n7 processTime: 31 machine 3\n3 processTime: 81 machine 2\n1 processTime: 43 machine 1\n7 processTime: 86 machine 1\n6 processTime: 46 machine 2\n7 processTime: 46 machine 2\n9 processTime: 85 machine 2\n7 processTime: 74 machine 6\n4 processTime: 14 machine 3\n8 processTime: 76 machine 1\n6 processTime: 37 machine 1\n5 processTime: 84 machine 3\n6 processTime: 61 machine 4\n4 processTime: 6 machine 1\n4 processTime: 22 machine 2\n1 processTime: 90 machine 3\n0 processTime: 29 machine 1\n4 processTime: 61 machine 6\n0 processTime: 78 machine 2\n1 processTime: 75 machine 5\n8 processTime: 69 machine 2\n3 processTime: 95 machine 3\n3 processTime: 71 machine 1\n4 processTime: 26 machine 4\n6 processTime: 13 machine 3\n6 processTime: 32 machine 7\n9 processTime: 13 machine 1\n6 processTime: 21 machine 6\n1 processTime: 11 machine 10\n3 processTime: 99 machine 5\n1 processTime: 69 machine 4\n5 processTime: 2 machine 2\n6 processTime: 32 machine 10\n3 processTime: 9 machine 7\n4 processTime: 69 machine 5\n2 processTime: 91 machine 2\n8 processTime: 76 machine 4\n5 processTime: 52 machine 6\n1 processTime: 28 machine 2\n0 processTime: 9 machine 3\n9 processTime: 61 machine 3\n7 processTime: 32 machine 5\n3 processTime: 52 machine 9\n6 processTime: 89 machine 9\n9 processTime: 7 machine 7\n7 processTime: 88 machine 7\n8 processTime: 51 machine 6\n8 processTime: 85 machine 3\n3 processTime: 85 machine 8\n8 processTime: 11 machine 10\n5 processTime: 95 machine 4\n6 processTime: 30 machine 8\n9 processTime: 64 machine 9\n5 processTime: 48 machine 9\n0 processTime: 36 machine 4\n4 processTime: 21 machine 9\n0 processTime: 49 machine 5\n0 processTime: 11 machine 6\n8 processTime: 40 machine 7\n2 processTime: 85 machine 1\n5 processTime: 72 machine 10\n9 processTime: 76 machine 10\n6 processTime: 55 machine 5\n8 processTime: 89 machine 8\n7 processTime: 19 machine 9\n3 processTime: 98 machine 4\n1 processTime: 46 machine 7\n1 processTime: 46 machine 6\n0 processTime: 62 machine 7\n2 processTime: 39 machine 4\n9 processTime: 47 machine 6\n5 processTime: 47 machine 1\n2 processTime: 74 machine 3\n4 processTime: 49 machine 8\n2 processTime: 90 machine 9\n4 processTime: 72 machine 10\n0 processTime: 56 machine 8\n1 processTime: 72 machine 8\n2 processTime: 10 machine 6\n5 processTime: 65 machine 7\n2 processTime: 12 machine 8\n0 processTime: 44 machine 9\n8 processTime: 26 machine 5\n5 processTime: 6 machine 5\n2 processTime: 89 machine 7\n1 processTime: 30 machine 9\n4 processTime: 53 machine 7\n9 processTime: 52 machine 4\n9 processTime: 90 machine 5\n0 processTime: 21 machine 10\n8 processTime: 74 machine 9\n7 processTime: 48 machine 10\n3 processTime: 22 machine 10\n7 processTime: 36 machine 8\n2 processTime: 45 machine 10\n9 processTime: 45 machine 8\n5 processTime: 25 machine 8\n7 processTime: 79 machine 4\n3 processTime: 43 machine 6\n2 processTime: 33 machine 5\n"
     ]
    },
    {
     "output_type": "display_data",
     "data": {
      "application/vnd.plotly.v1+json": {
       "config": {
        "plotlyServerURL": "https://plot.ly"
       },
       "data": [
        {
         "fill": "toself",
         "fillcolor": "rgb(127, 127, 127)",
         "hoverinfo": "name",
         "legendgroup": "rgb(127, 127, 127)",
         "mode": "none",
         "name": "Job 7",
         "showlegend": true,
         "type": "scatter",
         "x": [
          "2018-07-14 0:03:25",
          "2018-07-14 0:04:02",
          "2018-07-14 0:04:02",
          "2018-07-14 0:03:25",
          "2018-07-14 0:03:25",
          "2018-07-14 0:01:21",
          "2018-07-14 0:02:07",
          "2018-07-14 0:02:07",
          "2018-07-14 0:01:21",
          "2018-07-14 0:01:21",
          "2018-07-14 0:05:14",
          "2018-07-14 0:05:27",
          "2018-07-14 0:05:27",
          "2018-07-14 0:05:14",
          "2018-07-14 0:05:14",
          "2018-07-14 0:04:02",
          "2018-07-14 0:05:03",
          "2018-07-14 0:05:03",
          "2018-07-14 0:04:02",
          "2018-07-14 0:04:02",
          "2018-07-14 0:11:34",
          "2018-07-14 0:12:29",
          "2018-07-14 0:12:29",
          "2018-07-14 0:11:34",
          "2018-07-14 0:11:34",
          "2018-07-14 0:05:59",
          "2018-07-14 0:06:20",
          "2018-07-14 0:06:20",
          "2018-07-14 0:05:59",
          "2018-07-14 0:05:59",
          "2018-07-14 0:05:27",
          "2018-07-14 0:05:59",
          "2018-07-14 0:05:59",
          "2018-07-14 0:05:27",
          "2018-07-14 0:05:27",
          "2018-07-14 0:10:34",
          "2018-07-14 0:11:04",
          "2018-07-14 0:11:04",
          "2018-07-14 0:10:34",
          "2018-07-14 0:10:34",
          "2018-07-14 0:09:05",
          "2018-07-14 0:10:34",
          "2018-07-14 0:10:34",
          "2018-07-14 0:09:05",
          "2018-07-14 0:09:05",
          "2018-07-14 0:06:20",
          "2018-07-14 0:06:52",
          "2018-07-14 0:06:52",
          "2018-07-14 0:06:20"
         ],
         "y": [
          8.8,
          8.8,
          9.2,
          9.2,
          null,
          7.8,
          7.8,
          8.2,
          8.2,
          null,
          6.8,
          6.8,
          7.2,
          7.2,
          null,
          5.8,
          5.8,
          6.2,
          6.2,
          null,
          4.8,
          4.8,
          5.2,
          5.2,
          null,
          3.8,
          3.8,
          4.2,
          4.2,
          null,
          2.8,
          2.8,
          3.2,
          3.2,
          null,
          1.8,
          1.8,
          2.2,
          2.2,
          null,
          0.8,
          0.8,
          1.2,
          1.2,
          null,
          -0.2,
          -0.2,
          0.2,
          0.2
         ]
        },
        {
         "fill": "toself",
         "fillcolor": "rgb(140, 86, 75)",
         "hoverinfo": "name",
         "legendgroup": "rgb(140, 86, 75)",
         "mode": "none",
         "name": "Job 5",
         "showlegend": true,
         "type": "scatter",
         "x": [
          "2018-07-14 0:04:02",
          "2018-07-14 0:04:08",
          "2018-07-14 0:04:08",
          "2018-07-14 0:04:02",
          "2018-07-14 0:04:02",
          "2018-07-14 0:04:20",
          "2018-07-14 0:04:42",
          "2018-07-14 0:04:42",
          "2018-07-14 0:04:20",
          "2018-07-14 0:04:20",
          "2018-07-14 0:00:31",
          "2018-07-14 0:00:45",
          "2018-07-14 0:00:45",
          "2018-07-14 0:00:31",
          "2018-07-14 0:00:31",
          "2018-07-14 0:05:43",
          "2018-07-14 0:06:09",
          "2018-07-14 0:06:09",
          "2018-07-14 0:05:43",
          "2018-07-14 0:05:43",
          "2018-07-14 0:08:04",
          "2018-07-14 0:09:13",
          "2018-07-14 0:09:13",
          "2018-07-14 0:08:04",
          "2018-07-14 0:08:04",
          "2018-07-14 0:04:42",
          "2018-07-14 0:05:43",
          "2018-07-14 0:05:43",
          "2018-07-14 0:04:42",
          "2018-07-14 0:04:42",
          "2018-07-14 0:18:00",
          "2018-07-14 0:18:53",
          "2018-07-14 0:18:53",
          "2018-07-14 0:18:00",
          "2018-07-14 0:18:00",
          "2018-07-14 0:13:22",
          "2018-07-14 0:14:11",
          "2018-07-14 0:14:11",
          "2018-07-14 0:13:22",
          "2018-07-14 0:13:22",
          "2018-07-14 0:12:26",
          "2018-07-14 0:12:47",
          "2018-07-14 0:12:47",
          "2018-07-14 0:12:26",
          "2018-07-14 0:12:26",
          "2018-07-14 0:14:54",
          "2018-07-14 0:16:06",
          "2018-07-14 0:16:06",
          "2018-07-14 0:14:54"
         ],
         "y": [
          8.8,
          8.8,
          9.2,
          9.2,
          null,
          7.8,
          7.8,
          8.2,
          8.2,
          null,
          6.8,
          6.8,
          7.2,
          7.2,
          null,
          5.8,
          5.8,
          6.2,
          6.2,
          null,
          4.8,
          4.8,
          5.2,
          5.2,
          null,
          3.8,
          3.8,
          4.2,
          4.2,
          null,
          2.8,
          2.8,
          3.2,
          3.2,
          null,
          1.8,
          1.8,
          2.2,
          2.2,
          null,
          0.8,
          0.8,
          1.2,
          1.2,
          null,
          -0.2,
          -0.2,
          0.2,
          0.2
         ]
        },
        {
         "fill": "toself",
         "fillcolor": "rgb(148, 103, 189)",
         "hoverinfo": "name",
         "legendgroup": "rgb(148, 103, 189)",
         "mode": "none",
         "name": "Job 4",
         "showlegend": true,
         "type": "scatter",
         "x": [
          "2018-07-14 0:05:14",
          "2018-07-14 0:06:25",
          "2018-07-14 0:06:25",
          "2018-07-14 0:05:14",
          "2018-07-14 0:05:14",
          "2018-07-14 0:00:00",
          "2018-07-14 0:01:21",
          "2018-07-14 0:01:21",
          "2018-07-14 0:00:00",
          "2018-07-14 0:00:00",
          "2018-07-14 0:03:39",
          "2018-07-14 0:05:14",
          "2018-07-14 0:05:14",
          "2018-07-14 0:03:39",
          "2018-07-14 0:03:39",
          "2018-07-14 0:10:45",
          "2018-07-14 0:12:23",
          "2018-07-14 0:12:23",
          "2018-07-14 0:10:45",
          "2018-07-14 0:10:45",
          "2018-07-14 0:06:25",
          "2018-07-14 0:08:04",
          "2018-07-14 0:08:04",
          "2018-07-14 0:06:25",
          "2018-07-14 0:06:25",
          "2018-07-14 0:18:01",
          "2018-07-14 0:18:44",
          "2018-07-14 0:18:44",
          "2018-07-14 0:18:01",
          "2018-07-14 0:18:01",
          "2018-07-14 0:08:04",
          "2018-07-14 0:08:13",
          "2018-07-14 0:08:13",
          "2018-07-14 0:08:04",
          "2018-07-14 0:08:04",
          "2018-07-14 0:09:05",
          "2018-07-14 0:10:30",
          "2018-07-14 0:10:30",
          "2018-07-14 0:09:05",
          "2018-07-14 0:09:05",
          "2018-07-14 0:08:13",
          "2018-07-14 0:09:05",
          "2018-07-14 0:09:05",
          "2018-07-14 0:08:13",
          "2018-07-14 0:08:13",
          "2018-07-14 0:17:39",
          "2018-07-14 0:18:01",
          "2018-07-14 0:18:01",
          "2018-07-14 0:17:39"
         ],
         "y": [
          8.8,
          8.8,
          9.2,
          9.2,
          null,
          7.8,
          7.8,
          8.2,
          8.2,
          null,
          6.8,
          6.8,
          7.2,
          7.2,
          null,
          5.8,
          5.8,
          6.2,
          6.2,
          null,
          4.8,
          4.8,
          5.2,
          5.2,
          null,
          3.8,
          3.8,
          4.2,
          4.2,
          null,
          2.8,
          2.8,
          3.2,
          3.2,
          null,
          1.8,
          1.8,
          2.2,
          2.2,
          null,
          0.8,
          0.8,
          1.2,
          1.2,
          null,
          -0.2,
          -0.2,
          0.2,
          0.2
         ]
        },
        {
         "fill": "toself",
         "fillcolor": "rgb(188, 189, 34)",
         "hoverinfo": "name",
         "legendgroup": "rgb(188, 189, 34)",
         "mode": "none",
         "name": "Job 8",
         "showlegend": true,
         "type": "scatter",
         "x": [
          "2018-07-14 0:00:43",
          "2018-07-14 0:02:09",
          "2018-07-14 0:02:09",
          "2018-07-14 0:00:43",
          "2018-07-14 0:00:43",
          "2018-07-14 0:02:09",
          "2018-07-14 0:02:55",
          "2018-07-14 0:02:55",
          "2018-07-14 0:02:09",
          "2018-07-14 0:02:09",
          "2018-07-14 0:00:00",
          "2018-07-14 0:00:31",
          "2018-07-14 0:00:31",
          "2018-07-14 0:00:00",
          "2018-07-14 0:00:00",
          "2018-07-14 0:18:15",
          "2018-07-14 0:19:34",
          "2018-07-14 0:19:34",
          "2018-07-14 0:18:15",
          "2018-07-14 0:18:15",
          "2018-07-14 0:09:13",
          "2018-07-14 0:09:45",
          "2018-07-14 0:09:45",
          "2018-07-14 0:09:13",
          "2018-07-14 0:09:13",
          "2018-07-14 0:02:55",
          "2018-07-14 0:04:09",
          "2018-07-14 0:04:09",
          "2018-07-14 0:02:55",
          "2018-07-14 0:02:55",
          "2018-07-14 0:09:45",
          "2018-07-14 0:11:13",
          "2018-07-14 0:11:13",
          "2018-07-14 0:09:45",
          "2018-07-14 0:09:45",
          "2018-07-14 0:17:39",
          "2018-07-14 0:18:15",
          "2018-07-14 0:18:15",
          "2018-07-14 0:17:39",
          "2018-07-14 0:17:39",
          "2018-07-14 0:12:47",
          "2018-07-14 0:13:06",
          "2018-07-14 0:13:06",
          "2018-07-14 0:12:47",
          "2018-07-14 0:12:47",
          "2018-07-14 0:16:51",
          "2018-07-14 0:17:39",
          "2018-07-14 0:17:39",
          "2018-07-14 0:16:51"
         ],
         "y": [
          8.8,
          8.8,
          9.2,
          9.2,
          null,
          7.8,
          7.8,
          8.2,
          8.2,
          null,
          6.8,
          6.8,
          7.2,
          7.2,
          null,
          5.8,
          5.8,
          6.2,
          6.2,
          null,
          4.8,
          4.8,
          5.2,
          5.2,
          null,
          3.8,
          3.8,
          4.2,
          4.2,
          null,
          2.8,
          2.8,
          3.2,
          3.2,
          null,
          1.8,
          1.8,
          2.2,
          2.2,
          null,
          0.8,
          0.8,
          1.2,
          1.2,
          null,
          -0.2,
          -0.2,
          0.2,
          0.2
         ]
        },
        {
         "fill": "toself",
         "fillcolor": "rgb(214, 39, 40)",
         "hoverinfo": "name",
         "legendgroup": "rgb(214, 39, 40)",
         "mode": "none",
         "name": "Job 3",
         "showlegend": true,
         "type": "scatter",
         "x": [
          "2018-07-14 0:08:42",
          "2018-07-14 0:10:07",
          "2018-07-14 0:10:07",
          "2018-07-14 0:08:42",
          "2018-07-14 0:08:42",
          "2018-07-14 0:07:11",
          "2018-07-14 0:08:42",
          "2018-07-14 0:08:42",
          "2018-07-14 0:07:11",
          "2018-07-14 0:07:11",
          "2018-07-14 0:13:02",
          "2018-07-14 0:14:16",
          "2018-07-14 0:14:16",
          "2018-07-14 0:13:02",
          "2018-07-14 0:13:02",
          "2018-07-14 0:12:23",
          "2018-07-14 0:13:02",
          "2018-07-14 0:13:02",
          "2018-07-14 0:12:23",
          "2018-07-14 0:12:23",
          "2018-07-14 0:18:46",
          "2018-07-14 0:19:19",
          "2018-07-14 0:19:19",
          "2018-07-14 0:18:46",
          "2018-07-14 0:18:46",
          "2018-07-14 0:15:46",
          "2018-07-14 0:15:56",
          "2018-07-14 0:15:56",
          "2018-07-14 0:15:46",
          "2018-07-14 0:15:46",
          "2018-07-14 0:16:31",
          "2018-07-14 0:18:00",
          "2018-07-14 0:18:00",
          "2018-07-14 0:16:31",
          "2018-07-14 0:16:31",
          "2018-07-14 0:16:19",
          "2018-07-14 0:16:31",
          "2018-07-14 0:16:31",
          "2018-07-14 0:16:19",
          "2018-07-14 0:16:19",
          "2018-07-14 0:14:16",
          "2018-07-14 0:15:46",
          "2018-07-14 0:15:46",
          "2018-07-14 0:14:16",
          "2018-07-14 0:14:16",
          "2018-07-14 0:18:01",
          "2018-07-14 0:18:46",
          "2018-07-14 0:18:46",
          "2018-07-14 0:18:01"
         ],
         "y": [
          8.8,
          8.8,
          9.2,
          9.2,
          null,
          7.8,
          7.8,
          8.2,
          8.2,
          null,
          6.8,
          6.8,
          7.2,
          7.2,
          null,
          5.8,
          5.8,
          6.2,
          6.2,
          null,
          4.8,
          4.8,
          5.2,
          5.2,
          null,
          3.8,
          3.8,
          4.2,
          4.2,
          null,
          2.8,
          2.8,
          3.2,
          3.2,
          null,
          1.8,
          1.8,
          2.2,
          2.2,
          null,
          0.8,
          0.8,
          1.2,
          1.2,
          null,
          -0.2,
          -0.2,
          0.2,
          0.2
         ]
        },
        {
         "fill": "toself",
         "fillcolor": "rgb(227, 119, 194)",
         "hoverinfo": "name",
         "legendgroup": "rgb(227, 119, 194)",
         "mode": "none",
         "name": "Job 6",
         "showlegend": true,
         "type": "scatter",
         "x": [
          "2018-07-14 0:13:38",
          "2018-07-14 0:14:25",
          "2018-07-14 0:14:25",
          "2018-07-14 0:13:38",
          "2018-07-14 0:13:38",
          "2018-07-14 0:07:09",
          "2018-07-14 0:07:11",
          "2018-07-14 0:07:11",
          "2018-07-14 0:07:09",
          "2018-07-14 0:07:09",
          "2018-07-14 0:00:45",
          "2018-07-14 0:02:09",
          "2018-07-14 0:02:09",
          "2018-07-14 0:00:45",
          "2018-07-14 0:00:45",
          "2018-07-14 0:08:34",
          "2018-07-14 0:10:09",
          "2018-07-14 0:10:09",
          "2018-07-14 0:08:34",
          "2018-07-14 0:08:34",
          "2018-07-14 0:15:30",
          "2018-07-14 0:15:36",
          "2018-07-14 0:15:36",
          "2018-07-14 0:15:30",
          "2018-07-14 0:15:30",
          "2018-07-14 0:07:11",
          "2018-07-14 0:08:03",
          "2018-07-14 0:08:03",
          "2018-07-14 0:07:11",
          "2018-07-14 0:07:11",
          "2018-07-14 0:14:25",
          "2018-07-14 0:15:30",
          "2018-07-14 0:15:30",
          "2018-07-14 0:14:25",
          "2018-07-14 0:14:25",
          "2018-07-14 0:19:00",
          "2018-07-14 0:19:25",
          "2018-07-14 0:19:25",
          "2018-07-14 0:19:00",
          "2018-07-14 0:19:00",
          "2018-07-14 0:11:38",
          "2018-07-14 0:12:26",
          "2018-07-14 0:12:26",
          "2018-07-14 0:11:38",
          "2018-07-14 0:11:38",
          "2018-07-14 0:12:26",
          "2018-07-14 0:13:38",
          "2018-07-14 0:13:38",
          "2018-07-14 0:12:26"
         ],
         "y": [
          8.8,
          8.8,
          9.2,
          9.2,
          null,
          7.8,
          7.8,
          8.2,
          8.2,
          null,
          6.8,
          6.8,
          7.2,
          7.2,
          null,
          5.8,
          5.8,
          6.2,
          6.2,
          null,
          4.8,
          4.8,
          5.2,
          5.2,
          null,
          3.8,
          3.8,
          4.2,
          4.2,
          null,
          2.8,
          2.8,
          3.2,
          3.2,
          null,
          1.8,
          1.8,
          2.2,
          2.2,
          null,
          0.8,
          0.8,
          1.2,
          1.2,
          null,
          -0.2,
          -0.2,
          0.2,
          0.2
         ]
        },
        {
         "fill": "toself",
         "fillcolor": "rgb(23, 190, 207)",
         "hoverinfo": "name",
         "legendgroup": "rgb(23, 190, 207)",
         "mode": "none",
         "name": "Job 9",
         "showlegend": true,
         "type": "scatter",
         "x": [
          "2018-07-14 0:02:09",
          "2018-07-14 0:03:25",
          "2018-07-14 0:03:25",
          "2018-07-14 0:02:09",
          "2018-07-14 0:02:09",
          "2018-07-14 0:06:00",
          "2018-07-14 0:07:09",
          "2018-07-14 0:07:09",
          "2018-07-14 0:06:00",
          "2018-07-14 0:06:00",
          "2018-07-14 0:09:25",
          "2018-07-14 0:10:50",
          "2018-07-14 0:10:50",
          "2018-07-14 0:09:25",
          "2018-07-14 0:09:25",
          "2018-07-14 0:07:18",
          "2018-07-14 0:08:34",
          "2018-07-14 0:08:34",
          "2018-07-14 0:07:18",
          "2018-07-14 0:07:18",
          "2018-07-14 0:13:22",
          "2018-07-14 0:13:48",
          "2018-07-14 0:13:48",
          "2018-07-14 0:13:22",
          "2018-07-14 0:13:22",
          "2018-07-14 0:08:34",
          "2018-07-14 0:09:25",
          "2018-07-14 0:09:25",
          "2018-07-14 0:08:34",
          "2018-07-14 0:08:34",
          "2018-07-14 0:11:13",
          "2018-07-14 0:11:53",
          "2018-07-14 0:11:53",
          "2018-07-14 0:11:13",
          "2018-07-14 0:11:13",
          "2018-07-14 0:11:53",
          "2018-07-14 0:13:22",
          "2018-07-14 0:13:22",
          "2018-07-14 0:11:53",
          "2018-07-14 0:11:53",
          "2018-07-14 0:17:00",
          "2018-07-14 0:18:14",
          "2018-07-14 0:18:14",
          "2018-07-14 0:17:00",
          "2018-07-14 0:17:00",
          "2018-07-14 0:10:50",
          "2018-07-14 0:11:01",
          "2018-07-14 0:11:01",
          "2018-07-14 0:10:50"
         ],
         "y": [
          8.8,
          8.8,
          9.2,
          9.2,
          null,
          7.8,
          7.8,
          8.2,
          8.2,
          null,
          6.8,
          6.8,
          7.2,
          7.2,
          null,
          5.8,
          5.8,
          6.2,
          6.2,
          null,
          4.8,
          4.8,
          5.2,
          5.2,
          null,
          3.8,
          3.8,
          4.2,
          4.2,
          null,
          2.8,
          2.8,
          3.2,
          3.2,
          null,
          1.8,
          1.8,
          2.2,
          2.2,
          null,
          0.8,
          0.8,
          1.2,
          1.2,
          null,
          -0.2,
          -0.2,
          0.2,
          0.2
         ]
        },
        {
         "fill": "toself",
         "fillcolor": "rgb(255, 127, 14)",
         "hoverinfo": "name",
         "legendgroup": "rgb(255, 127, 14)",
         "mode": "none",
         "name": "Job 10",
         "showlegend": true,
         "type": "scatter",
         "x": [
          "2018-07-14 0:06:25",
          "2018-07-14 0:06:38",
          "2018-07-14 0:06:38",
          "2018-07-14 0:06:25",
          "2018-07-14 0:06:25",
          "2018-07-14 0:02:55",
          "2018-07-14 0:04:20",
          "2018-07-14 0:04:20",
          "2018-07-14 0:02:55",
          "2018-07-14 0:02:55",
          "2018-07-14 0:06:38",
          "2018-07-14 0:07:39",
          "2018-07-14 0:07:39",
          "2018-07-14 0:06:38",
          "2018-07-14 0:06:38",
          "2018-07-14 0:15:41",
          "2018-07-14 0:16:33",
          "2018-07-14 0:16:33",
          "2018-07-14 0:15:41",
          "2018-07-14 0:15:41",
          "2018-07-14 0:16:33",
          "2018-07-14 0:18:03",
          "2018-07-14 0:18:03",
          "2018-07-14 0:16:33",
          "2018-07-14 0:16:33",
          "2018-07-14 0:14:54",
          "2018-07-14 0:15:41",
          "2018-07-14 0:15:41",
          "2018-07-14 0:14:54",
          "2018-07-14 0:14:54",
          "2018-07-14 0:08:13",
          "2018-07-14 0:08:20",
          "2018-07-14 0:08:20",
          "2018-07-14 0:08:13",
          "2018-07-14 0:08:13",
          "2018-07-14 0:18:15",
          "2018-07-14 0:19:00",
          "2018-07-14 0:19:00",
          "2018-07-14 0:18:15",
          "2018-07-14 0:18:15",
          "2018-07-14 0:10:34",
          "2018-07-14 0:11:38",
          "2018-07-14 0:11:38",
          "2018-07-14 0:10:34",
          "2018-07-14 0:10:34",
          "2018-07-14 0:13:38",
          "2018-07-14 0:14:54",
          "2018-07-14 0:14:54",
          "2018-07-14 0:13:38"
         ],
         "y": [
          8.8,
          8.8,
          9.2,
          9.2,
          null,
          7.8,
          7.8,
          8.2,
          8.2,
          null,
          6.8,
          6.8,
          7.2,
          7.2,
          null,
          5.8,
          5.8,
          6.2,
          6.2,
          null,
          4.8,
          4.8,
          5.2,
          5.2,
          null,
          3.8,
          3.8,
          4.2,
          4.2,
          null,
          2.8,
          2.8,
          3.2,
          3.2,
          null,
          1.8,
          1.8,
          2.2,
          2.2,
          null,
          0.8,
          0.8,
          1.2,
          1.2,
          null,
          -0.2,
          -0.2,
          0.2,
          0.2
         ]
        },
        {
         "fill": "toself",
         "fillcolor": "rgb(31, 119, 180)",
         "hoverinfo": "name",
         "legendgroup": "rgb(31, 119, 180)",
         "mode": "none",
         "name": "Job 1",
         "showlegend": true,
         "type": "scatter",
         "x": [
          "2018-07-14 0:04:08",
          "2018-07-14 0:04:37",
          "2018-07-14 0:04:37",
          "2018-07-14 0:04:08",
          "2018-07-14 0:04:08",
          "2018-07-14 0:04:42",
          "2018-07-14 0:06:00",
          "2018-07-14 0:06:00",
          "2018-07-14 0:04:42",
          "2018-07-14 0:04:42",
          "2018-07-14 0:06:00",
          "2018-07-14 0:06:09",
          "2018-07-14 0:06:09",
          "2018-07-14 0:06:00",
          "2018-07-14 0:06:00",
          "2018-07-14 0:10:09",
          "2018-07-14 0:10:45",
          "2018-07-14 0:10:45",
          "2018-07-14 0:10:09",
          "2018-07-14 0:10:09",
          "2018-07-14 0:10:45",
          "2018-07-14 0:11:34",
          "2018-07-14 0:11:34",
          "2018-07-14 0:10:45",
          "2018-07-14 0:10:45",
          "2018-07-14 0:11:34",
          "2018-07-14 0:11:45",
          "2018-07-14 0:11:45",
          "2018-07-14 0:11:34",
          "2018-07-14 0:11:34",
          "2018-07-14 0:12:39",
          "2018-07-14 0:13:41",
          "2018-07-14 0:13:41",
          "2018-07-14 0:12:39",
          "2018-07-14 0:12:39",
          "2018-07-14 0:14:11",
          "2018-07-14 0:15:07",
          "2018-07-14 0:15:07",
          "2018-07-14 0:14:11",
          "2018-07-14 0:14:11",
          "2018-07-14 0:15:46",
          "2018-07-14 0:16:30",
          "2018-07-14 0:16:30",
          "2018-07-14 0:15:46",
          "2018-07-14 0:15:46",
          "2018-07-14 0:16:30",
          "2018-07-14 0:16:51",
          "2018-07-14 0:16:51",
          "2018-07-14 0:16:30"
         ],
         "y": [
          8.8,
          8.8,
          9.2,
          9.2,
          null,
          7.8,
          7.8,
          8.2,
          8.2,
          null,
          6.8,
          6.8,
          7.2,
          7.2,
          null,
          5.8,
          5.8,
          6.2,
          6.2,
          null,
          4.8,
          4.8,
          5.2,
          5.2,
          null,
          3.8,
          3.8,
          4.2,
          4.2,
          null,
          2.8,
          2.8,
          3.2,
          3.2,
          null,
          1.8,
          1.8,
          2.2,
          2.2,
          null,
          0.8,
          0.8,
          1.2,
          1.2,
          null,
          -0.2,
          -0.2,
          0.2,
          0.2
         ]
        },
        {
         "fill": "toself",
         "fillcolor": "rgb(44, 160, 44)",
         "hoverinfo": "name",
         "legendgroup": "rgb(44, 160, 44)",
         "mode": "none",
         "name": "Job 2",
         "showlegend": true,
         "type": "scatter",
         "x": [
          "2018-07-14 0:00:00",
          "2018-07-14 0:00:43",
          "2018-07-14 0:00:43",
          "2018-07-14 0:00:00",
          "2018-07-14 0:00:00",
          "2018-07-14 0:08:42",
          "2018-07-14 0:09:10",
          "2018-07-14 0:09:10",
          "2018-07-14 0:08:42",
          "2018-07-14 0:08:42",
          "2018-07-14 0:02:09",
          "2018-07-14 0:03:39",
          "2018-07-14 0:03:39",
          "2018-07-14 0:02:09",
          "2018-07-14 0:02:09",
          "2018-07-14 0:06:09",
          "2018-07-14 0:07:18",
          "2018-07-14 0:07:18",
          "2018-07-14 0:06:09",
          "2018-07-14 0:06:09",
          "2018-07-14 0:03:39",
          "2018-07-14 0:04:54",
          "2018-07-14 0:04:54",
          "2018-07-14 0:03:39",
          "2018-07-14 0:03:39",
          "2018-07-14 0:12:39",
          "2018-07-14 0:13:25",
          "2018-07-14 0:13:25",
          "2018-07-14 0:12:39",
          "2018-07-14 0:12:39",
          "2018-07-14 0:11:53",
          "2018-07-14 0:12:39",
          "2018-07-14 0:12:39",
          "2018-07-14 0:11:53",
          "2018-07-14 0:11:53",
          "2018-07-14 0:15:07",
          "2018-07-14 0:16:19",
          "2018-07-14 0:16:19",
          "2018-07-14 0:15:07",
          "2018-07-14 0:15:07",
          "2018-07-14 0:16:30",
          "2018-07-14 0:17:00",
          "2018-07-14 0:17:00",
          "2018-07-14 0:16:30",
          "2018-07-14 0:16:30",
          "2018-07-14 0:04:54",
          "2018-07-14 0:05:05",
          "2018-07-14 0:05:05",
          "2018-07-14 0:04:54"
         ],
         "y": [
          8.8,
          8.8,
          9.2,
          9.2,
          null,
          7.8,
          7.8,
          8.2,
          8.2,
          null,
          6.8,
          6.8,
          7.2,
          7.2,
          null,
          5.8,
          5.8,
          6.2,
          6.2,
          null,
          4.8,
          4.8,
          5.2,
          5.2,
          null,
          3.8,
          3.8,
          4.2,
          4.2,
          null,
          2.8,
          2.8,
          3.2,
          3.2,
          null,
          1.8,
          1.8,
          2.2,
          2.2,
          null,
          0.8,
          0.8,
          1.2,
          1.2,
          null,
          -0.2,
          -0.2,
          0.2,
          0.2
         ]
        },
        {
         "legendgroup": "rgb(127, 127, 127)",
         "marker": {
          "color": "rgb(127, 127, 127)",
          "opacity": 0,
          "size": 1
         },
         "mode": "markers",
         "name": "",
         "showlegend": false,
         "text": [
          null,
          null,
          null,
          null,
          null,
          null,
          null,
          null,
          null,
          null,
          null,
          null,
          null,
          null,
          null,
          null,
          null,
          null,
          null,
          null
         ],
         "type": "scatter",
         "x": [
          "2018-07-14 0:03:25",
          "2018-07-14 0:04:02",
          "2018-07-14 0:01:21",
          "2018-07-14 0:02:07",
          "2018-07-14 0:05:14",
          "2018-07-14 0:05:27",
          "2018-07-14 0:04:02",
          "2018-07-14 0:05:03",
          "2018-07-14 0:11:34",
          "2018-07-14 0:12:29",
          "2018-07-14 0:05:59",
          "2018-07-14 0:06:20",
          "2018-07-14 0:05:27",
          "2018-07-14 0:05:59",
          "2018-07-14 0:10:34",
          "2018-07-14 0:11:04",
          "2018-07-14 0:09:05",
          "2018-07-14 0:10:34",
          "2018-07-14 0:06:20",
          "2018-07-14 0:06:52"
         ],
         "y": [
          9,
          9,
          8,
          8,
          7,
          7,
          6,
          6,
          5,
          5,
          4,
          4,
          3,
          3,
          2,
          2,
          1,
          1,
          0,
          0
         ]
        },
        {
         "legendgroup": "rgb(140, 86, 75)",
         "marker": {
          "color": "rgb(140, 86, 75)",
          "opacity": 0,
          "size": 1
         },
         "mode": "markers",
         "name": "",
         "showlegend": false,
         "text": [
          null,
          null,
          null,
          null,
          null,
          null,
          null,
          null,
          null,
          null,
          null,
          null,
          null,
          null,
          null,
          null,
          null,
          null,
          null,
          null
         ],
         "type": "scatter",
         "x": [
          "2018-07-14 0:04:02",
          "2018-07-14 0:04:08",
          "2018-07-14 0:04:20",
          "2018-07-14 0:04:42",
          "2018-07-14 0:00:31",
          "2018-07-14 0:00:45",
          "2018-07-14 0:05:43",
          "2018-07-14 0:06:09",
          "2018-07-14 0:08:04",
          "2018-07-14 0:09:13",
          "2018-07-14 0:04:42",
          "2018-07-14 0:05:43",
          "2018-07-14 0:18:00",
          "2018-07-14 0:18:53",
          "2018-07-14 0:13:22",
          "2018-07-14 0:14:11",
          "2018-07-14 0:12:26",
          "2018-07-14 0:12:47",
          "2018-07-14 0:14:54",
          "2018-07-14 0:16:06"
         ],
         "y": [
          9,
          9,
          8,
          8,
          7,
          7,
          6,
          6,
          5,
          5,
          4,
          4,
          3,
          3,
          2,
          2,
          1,
          1,
          0,
          0
         ]
        },
        {
         "legendgroup": "rgb(148, 103, 189)",
         "marker": {
          "color": "rgb(148, 103, 189)",
          "opacity": 0,
          "size": 1
         },
         "mode": "markers",
         "name": "",
         "showlegend": false,
         "text": [
          null,
          null,
          null,
          null,
          null,
          null,
          null,
          null,
          null,
          null,
          null,
          null,
          null,
          null,
          null,
          null,
          null,
          null,
          null,
          null
         ],
         "type": "scatter",
         "x": [
          "2018-07-14 0:05:14",
          "2018-07-14 0:06:25",
          "2018-07-14 0:00:00",
          "2018-07-14 0:01:21",
          "2018-07-14 0:03:39",
          "2018-07-14 0:05:14",
          "2018-07-14 0:10:45",
          "2018-07-14 0:12:23",
          "2018-07-14 0:06:25",
          "2018-07-14 0:08:04",
          "2018-07-14 0:18:01",
          "2018-07-14 0:18:44",
          "2018-07-14 0:08:04",
          "2018-07-14 0:08:13",
          "2018-07-14 0:09:05",
          "2018-07-14 0:10:30",
          "2018-07-14 0:08:13",
          "2018-07-14 0:09:05",
          "2018-07-14 0:17:39",
          "2018-07-14 0:18:01"
         ],
         "y": [
          9,
          9,
          8,
          8,
          7,
          7,
          6,
          6,
          5,
          5,
          4,
          4,
          3,
          3,
          2,
          2,
          1,
          1,
          0,
          0
         ]
        },
        {
         "legendgroup": "rgb(188, 189, 34)",
         "marker": {
          "color": "rgb(188, 189, 34)",
          "opacity": 0,
          "size": 1
         },
         "mode": "markers",
         "name": "",
         "showlegend": false,
         "text": [
          null,
          null,
          null,
          null,
          null,
          null,
          null,
          null,
          null,
          null,
          null,
          null,
          null,
          null,
          null,
          null,
          null,
          null,
          null,
          null
         ],
         "type": "scatter",
         "x": [
          "2018-07-14 0:00:43",
          "2018-07-14 0:02:09",
          "2018-07-14 0:02:09",
          "2018-07-14 0:02:55",
          "2018-07-14 0:00:00",
          "2018-07-14 0:00:31",
          "2018-07-14 0:18:15",
          "2018-07-14 0:19:34",
          "2018-07-14 0:09:13",
          "2018-07-14 0:09:45",
          "2018-07-14 0:02:55",
          "2018-07-14 0:04:09",
          "2018-07-14 0:09:45",
          "2018-07-14 0:11:13",
          "2018-07-14 0:17:39",
          "2018-07-14 0:18:15",
          "2018-07-14 0:12:47",
          "2018-07-14 0:13:06",
          "2018-07-14 0:16:51",
          "2018-07-14 0:17:39"
         ],
         "y": [
          9,
          9,
          8,
          8,
          7,
          7,
          6,
          6,
          5,
          5,
          4,
          4,
          3,
          3,
          2,
          2,
          1,
          1,
          0,
          0
         ]
        },
        {
         "legendgroup": "rgb(214, 39, 40)",
         "marker": {
          "color": "rgb(214, 39, 40)",
          "opacity": 0,
          "size": 1
         },
         "mode": "markers",
         "name": "",
         "showlegend": false,
         "text": [
          null,
          null,
          null,
          null,
          null,
          null,
          null,
          null,
          null,
          null,
          null,
          null,
          null,
          null,
          null,
          null,
          null,
          null,
          null,
          null
         ],
         "type": "scatter",
         "x": [
          "2018-07-14 0:08:42",
          "2018-07-14 0:10:07",
          "2018-07-14 0:07:11",
          "2018-07-14 0:08:42",
          "2018-07-14 0:13:02",
          "2018-07-14 0:14:16",
          "2018-07-14 0:12:23",
          "2018-07-14 0:13:02",
          "2018-07-14 0:18:46",
          "2018-07-14 0:19:19",
          "2018-07-14 0:15:46",
          "2018-07-14 0:15:56",
          "2018-07-14 0:16:31",
          "2018-07-14 0:18:00",
          "2018-07-14 0:16:19",
          "2018-07-14 0:16:31",
          "2018-07-14 0:14:16",
          "2018-07-14 0:15:46",
          "2018-07-14 0:18:01",
          "2018-07-14 0:18:46"
         ],
         "y": [
          9,
          9,
          8,
          8,
          7,
          7,
          6,
          6,
          5,
          5,
          4,
          4,
          3,
          3,
          2,
          2,
          1,
          1,
          0,
          0
         ]
        },
        {
         "legendgroup": "rgb(227, 119, 194)",
         "marker": {
          "color": "rgb(227, 119, 194)",
          "opacity": 0,
          "size": 1
         },
         "mode": "markers",
         "name": "",
         "showlegend": false,
         "text": [
          null,
          null,
          null,
          null,
          null,
          null,
          null,
          null,
          null,
          null,
          null,
          null,
          null,
          null,
          null,
          null,
          null,
          null,
          null,
          null
         ],
         "type": "scatter",
         "x": [
          "2018-07-14 0:13:38",
          "2018-07-14 0:14:25",
          "2018-07-14 0:07:09",
          "2018-07-14 0:07:11",
          "2018-07-14 0:00:45",
          "2018-07-14 0:02:09",
          "2018-07-14 0:08:34",
          "2018-07-14 0:10:09",
          "2018-07-14 0:15:30",
          "2018-07-14 0:15:36",
          "2018-07-14 0:07:11",
          "2018-07-14 0:08:03",
          "2018-07-14 0:14:25",
          "2018-07-14 0:15:30",
          "2018-07-14 0:19:00",
          "2018-07-14 0:19:25",
          "2018-07-14 0:11:38",
          "2018-07-14 0:12:26",
          "2018-07-14 0:12:26",
          "2018-07-14 0:13:38"
         ],
         "y": [
          9,
          9,
          8,
          8,
          7,
          7,
          6,
          6,
          5,
          5,
          4,
          4,
          3,
          3,
          2,
          2,
          1,
          1,
          0,
          0
         ]
        },
        {
         "legendgroup": "rgb(23, 190, 207)",
         "marker": {
          "color": "rgb(23, 190, 207)",
          "opacity": 0,
          "size": 1
         },
         "mode": "markers",
         "name": "",
         "showlegend": false,
         "text": [
          null,
          null,
          null,
          null,
          null,
          null,
          null,
          null,
          null,
          null,
          null,
          null,
          null,
          null,
          null,
          null,
          null,
          null,
          null,
          null
         ],
         "type": "scatter",
         "x": [
          "2018-07-14 0:02:09",
          "2018-07-14 0:03:25",
          "2018-07-14 0:06:00",
          "2018-07-14 0:07:09",
          "2018-07-14 0:09:25",
          "2018-07-14 0:10:50",
          "2018-07-14 0:07:18",
          "2018-07-14 0:08:34",
          "2018-07-14 0:13:22",
          "2018-07-14 0:13:48",
          "2018-07-14 0:08:34",
          "2018-07-14 0:09:25",
          "2018-07-14 0:11:13",
          "2018-07-14 0:11:53",
          "2018-07-14 0:11:53",
          "2018-07-14 0:13:22",
          "2018-07-14 0:17:00",
          "2018-07-14 0:18:14",
          "2018-07-14 0:10:50",
          "2018-07-14 0:11:01"
         ],
         "y": [
          9,
          9,
          8,
          8,
          7,
          7,
          6,
          6,
          5,
          5,
          4,
          4,
          3,
          3,
          2,
          2,
          1,
          1,
          0,
          0
         ]
        },
        {
         "legendgroup": "rgb(255, 127, 14)",
         "marker": {
          "color": "rgb(255, 127, 14)",
          "opacity": 0,
          "size": 1
         },
         "mode": "markers",
         "name": "",
         "showlegend": false,
         "text": [
          null,
          null,
          null,
          null,
          null,
          null,
          null,
          null,
          null,
          null,
          null,
          null,
          null,
          null,
          null,
          null,
          null,
          null,
          null,
          null
         ],
         "type": "scatter",
         "x": [
          "2018-07-14 0:06:25",
          "2018-07-14 0:06:38",
          "2018-07-14 0:02:55",
          "2018-07-14 0:04:20",
          "2018-07-14 0:06:38",
          "2018-07-14 0:07:39",
          "2018-07-14 0:15:41",
          "2018-07-14 0:16:33",
          "2018-07-14 0:16:33",
          "2018-07-14 0:18:03",
          "2018-07-14 0:14:54",
          "2018-07-14 0:15:41",
          "2018-07-14 0:08:13",
          "2018-07-14 0:08:20",
          "2018-07-14 0:18:15",
          "2018-07-14 0:19:00",
          "2018-07-14 0:10:34",
          "2018-07-14 0:11:38",
          "2018-07-14 0:13:38",
          "2018-07-14 0:14:54"
         ],
         "y": [
          9,
          9,
          8,
          8,
          7,
          7,
          6,
          6,
          5,
          5,
          4,
          4,
          3,
          3,
          2,
          2,
          1,
          1,
          0,
          0
         ]
        },
        {
         "legendgroup": "rgb(31, 119, 180)",
         "marker": {
          "color": "rgb(31, 119, 180)",
          "opacity": 0,
          "size": 1
         },
         "mode": "markers",
         "name": "",
         "showlegend": false,
         "text": [
          null,
          null,
          null,
          null,
          null,
          null,
          null,
          null,
          null,
          null,
          null,
          null,
          null,
          null,
          null,
          null,
          null,
          null,
          null,
          null
         ],
         "type": "scatter",
         "x": [
          "2018-07-14 0:04:08",
          "2018-07-14 0:04:37",
          "2018-07-14 0:04:42",
          "2018-07-14 0:06:00",
          "2018-07-14 0:06:00",
          "2018-07-14 0:06:09",
          "2018-07-14 0:10:09",
          "2018-07-14 0:10:45",
          "2018-07-14 0:10:45",
          "2018-07-14 0:11:34",
          "2018-07-14 0:11:34",
          "2018-07-14 0:11:45",
          "2018-07-14 0:12:39",
          "2018-07-14 0:13:41",
          "2018-07-14 0:14:11",
          "2018-07-14 0:15:07",
          "2018-07-14 0:15:46",
          "2018-07-14 0:16:30",
          "2018-07-14 0:16:30",
          "2018-07-14 0:16:51"
         ],
         "y": [
          9,
          9,
          8,
          8,
          7,
          7,
          6,
          6,
          5,
          5,
          4,
          4,
          3,
          3,
          2,
          2,
          1,
          1,
          0,
          0
         ]
        },
        {
         "legendgroup": "rgb(44, 160, 44)",
         "marker": {
          "color": "rgb(44, 160, 44)",
          "opacity": 0,
          "size": 1
         },
         "mode": "markers",
         "name": "",
         "showlegend": false,
         "text": [
          null,
          null,
          null,
          null,
          null,
          null,
          null,
          null,
          null,
          null,
          null,
          null,
          null,
          null,
          null,
          null,
          null,
          null,
          null,
          null
         ],
         "type": "scatter",
         "x": [
          "2018-07-14 0:00:00",
          "2018-07-14 0:00:43",
          "2018-07-14 0:08:42",
          "2018-07-14 0:09:10",
          "2018-07-14 0:02:09",
          "2018-07-14 0:03:39",
          "2018-07-14 0:06:09",
          "2018-07-14 0:07:18",
          "2018-07-14 0:03:39",
          "2018-07-14 0:04:54",
          "2018-07-14 0:12:39",
          "2018-07-14 0:13:25",
          "2018-07-14 0:11:53",
          "2018-07-14 0:12:39",
          "2018-07-14 0:15:07",
          "2018-07-14 0:16:19",
          "2018-07-14 0:16:30",
          "2018-07-14 0:17:00",
          "2018-07-14 0:04:54",
          "2018-07-14 0:05:05"
         ],
         "y": [
          9,
          9,
          8,
          8,
          7,
          7,
          6,
          6,
          5,
          5,
          4,
          4,
          3,
          3,
          2,
          2,
          1,
          1,
          0,
          0
         ]
        }
       ],
       "layout": {
        "height": 600,
        "hovermode": "closest",
        "showlegend": true,
        "template": {
         "data": {
          "bar": [
           {
            "error_x": {
             "color": "#2a3f5f"
            },
            "error_y": {
             "color": "#2a3f5f"
            },
            "marker": {
             "line": {
              "color": "#E5ECF6",
              "width": 0.5
             }
            },
            "type": "bar"
           }
          ],
          "barpolar": [
           {
            "marker": {
             "line": {
              "color": "#E5ECF6",
              "width": 0.5
             }
            },
            "type": "barpolar"
           }
          ],
          "carpet": [
           {
            "aaxis": {
             "endlinecolor": "#2a3f5f",
             "gridcolor": "white",
             "linecolor": "white",
             "minorgridcolor": "white",
             "startlinecolor": "#2a3f5f"
            },
            "baxis": {
             "endlinecolor": "#2a3f5f",
             "gridcolor": "white",
             "linecolor": "white",
             "minorgridcolor": "white",
             "startlinecolor": "#2a3f5f"
            },
            "type": "carpet"
           }
          ],
          "choropleth": [
           {
            "colorbar": {
             "outlinewidth": 0,
             "ticks": ""
            },
            "type": "choropleth"
           }
          ],
          "contour": [
           {
            "colorbar": {
             "outlinewidth": 0,
             "ticks": ""
            },
            "colorscale": [
             [
              0,
              "#0d0887"
             ],
             [
              0.1111111111111111,
              "#46039f"
             ],
             [
              0.2222222222222222,
              "#7201a8"
             ],
             [
              0.3333333333333333,
              "#9c179e"
             ],
             [
              0.4444444444444444,
              "#bd3786"
             ],
             [
              0.5555555555555556,
              "#d8576b"
             ],
             [
              0.6666666666666666,
              "#ed7953"
             ],
             [
              0.7777777777777778,
              "#fb9f3a"
             ],
             [
              0.8888888888888888,
              "#fdca26"
             ],
             [
              1,
              "#f0f921"
             ]
            ],
            "type": "contour"
           }
          ],
          "contourcarpet": [
           {
            "colorbar": {
             "outlinewidth": 0,
             "ticks": ""
            },
            "type": "contourcarpet"
           }
          ],
          "heatmap": [
           {
            "colorbar": {
             "outlinewidth": 0,
             "ticks": ""
            },
            "colorscale": [
             [
              0,
              "#0d0887"
             ],
             [
              0.1111111111111111,
              "#46039f"
             ],
             [
              0.2222222222222222,
              "#7201a8"
             ],
             [
              0.3333333333333333,
              "#9c179e"
             ],
             [
              0.4444444444444444,
              "#bd3786"
             ],
             [
              0.5555555555555556,
              "#d8576b"
             ],
             [
              0.6666666666666666,
              "#ed7953"
             ],
             [
              0.7777777777777778,
              "#fb9f3a"
             ],
             [
              0.8888888888888888,
              "#fdca26"
             ],
             [
              1,
              "#f0f921"
             ]
            ],
            "type": "heatmap"
           }
          ],
          "heatmapgl": [
           {
            "colorbar": {
             "outlinewidth": 0,
             "ticks": ""
            },
            "colorscale": [
             [
              0,
              "#0d0887"
             ],
             [
              0.1111111111111111,
              "#46039f"
             ],
             [
              0.2222222222222222,
              "#7201a8"
             ],
             [
              0.3333333333333333,
              "#9c179e"
             ],
             [
              0.4444444444444444,
              "#bd3786"
             ],
             [
              0.5555555555555556,
              "#d8576b"
             ],
             [
              0.6666666666666666,
              "#ed7953"
             ],
             [
              0.7777777777777778,
              "#fb9f3a"
             ],
             [
              0.8888888888888888,
              "#fdca26"
             ],
             [
              1,
              "#f0f921"
             ]
            ],
            "type": "heatmapgl"
           }
          ],
          "histogram": [
           {
            "marker": {
             "colorbar": {
              "outlinewidth": 0,
              "ticks": ""
             }
            },
            "type": "histogram"
           }
          ],
          "histogram2d": [
           {
            "colorbar": {
             "outlinewidth": 0,
             "ticks": ""
            },
            "colorscale": [
             [
              0,
              "#0d0887"
             ],
             [
              0.1111111111111111,
              "#46039f"
             ],
             [
              0.2222222222222222,
              "#7201a8"
             ],
             [
              0.3333333333333333,
              "#9c179e"
             ],
             [
              0.4444444444444444,
              "#bd3786"
             ],
             [
              0.5555555555555556,
              "#d8576b"
             ],
             [
              0.6666666666666666,
              "#ed7953"
             ],
             [
              0.7777777777777778,
              "#fb9f3a"
             ],
             [
              0.8888888888888888,
              "#fdca26"
             ],
             [
              1,
              "#f0f921"
             ]
            ],
            "type": "histogram2d"
           }
          ],
          "histogram2dcontour": [
           {
            "colorbar": {
             "outlinewidth": 0,
             "ticks": ""
            },
            "colorscale": [
             [
              0,
              "#0d0887"
             ],
             [
              0.1111111111111111,
              "#46039f"
             ],
             [
              0.2222222222222222,
              "#7201a8"
             ],
             [
              0.3333333333333333,
              "#9c179e"
             ],
             [
              0.4444444444444444,
              "#bd3786"
             ],
             [
              0.5555555555555556,
              "#d8576b"
             ],
             [
              0.6666666666666666,
              "#ed7953"
             ],
             [
              0.7777777777777778,
              "#fb9f3a"
             ],
             [
              0.8888888888888888,
              "#fdca26"
             ],
             [
              1,
              "#f0f921"
             ]
            ],
            "type": "histogram2dcontour"
           }
          ],
          "mesh3d": [
           {
            "colorbar": {
             "outlinewidth": 0,
             "ticks": ""
            },
            "type": "mesh3d"
           }
          ],
          "parcoords": [
           {
            "line": {
             "colorbar": {
              "outlinewidth": 0,
              "ticks": ""
             }
            },
            "type": "parcoords"
           }
          ],
          "pie": [
           {
            "automargin": true,
            "type": "pie"
           }
          ],
          "scatter": [
           {
            "marker": {
             "colorbar": {
              "outlinewidth": 0,
              "ticks": ""
             }
            },
            "type": "scatter"
           }
          ],
          "scatter3d": [
           {
            "line": {
             "colorbar": {
              "outlinewidth": 0,
              "ticks": ""
             }
            },
            "marker": {
             "colorbar": {
              "outlinewidth": 0,
              "ticks": ""
             }
            },
            "type": "scatter3d"
           }
          ],
          "scattercarpet": [
           {
            "marker": {
             "colorbar": {
              "outlinewidth": 0,
              "ticks": ""
             }
            },
            "type": "scattercarpet"
           }
          ],
          "scattergeo": [
           {
            "marker": {
             "colorbar": {
              "outlinewidth": 0,
              "ticks": ""
             }
            },
            "type": "scattergeo"
           }
          ],
          "scattergl": [
           {
            "marker": {
             "colorbar": {
              "outlinewidth": 0,
              "ticks": ""
             }
            },
            "type": "scattergl"
           }
          ],
          "scattermapbox": [
           {
            "marker": {
             "colorbar": {
              "outlinewidth": 0,
              "ticks": ""
             }
            },
            "type": "scattermapbox"
           }
          ],
          "scatterpolar": [
           {
            "marker": {
             "colorbar": {
              "outlinewidth": 0,
              "ticks": ""
             }
            },
            "type": "scatterpolar"
           }
          ],
          "scatterpolargl": [
           {
            "marker": {
             "colorbar": {
              "outlinewidth": 0,
              "ticks": ""
             }
            },
            "type": "scatterpolargl"
           }
          ],
          "scatterternary": [
           {
            "marker": {
             "colorbar": {
              "outlinewidth": 0,
              "ticks": ""
             }
            },
            "type": "scatterternary"
           }
          ],
          "surface": [
           {
            "colorbar": {
             "outlinewidth": 0,
             "ticks": ""
            },
            "colorscale": [
             [
              0,
              "#0d0887"
             ],
             [
              0.1111111111111111,
              "#46039f"
             ],
             [
              0.2222222222222222,
              "#7201a8"
             ],
             [
              0.3333333333333333,
              "#9c179e"
             ],
             [
              0.4444444444444444,
              "#bd3786"
             ],
             [
              0.5555555555555556,
              "#d8576b"
             ],
             [
              0.6666666666666666,
              "#ed7953"
             ],
             [
              0.7777777777777778,
              "#fb9f3a"
             ],
             [
              0.8888888888888888,
              "#fdca26"
             ],
             [
              1,
              "#f0f921"
             ]
            ],
            "type": "surface"
           }
          ],
          "table": [
           {
            "cells": {
             "fill": {
              "color": "#EBF0F8"
             },
             "line": {
              "color": "white"
             }
            },
            "header": {
             "fill": {
              "color": "#C8D4E3"
             },
             "line": {
              "color": "white"
             }
            },
            "type": "table"
           }
          ]
         },
         "layout": {
          "annotationdefaults": {
           "arrowcolor": "#2a3f5f",
           "arrowhead": 0,
           "arrowwidth": 1
          },
          "autotypenumbers": "strict",
          "coloraxis": {
           "colorbar": {
            "outlinewidth": 0,
            "ticks": ""
           }
          },
          "colorscale": {
           "diverging": [
            [
             0,
             "#8e0152"
            ],
            [
             0.1,
             "#c51b7d"
            ],
            [
             0.2,
             "#de77ae"
            ],
            [
             0.3,
             "#f1b6da"
            ],
            [
             0.4,
             "#fde0ef"
            ],
            [
             0.5,
             "#f7f7f7"
            ],
            [
             0.6,
             "#e6f5d0"
            ],
            [
             0.7,
             "#b8e186"
            ],
            [
             0.8,
             "#7fbc41"
            ],
            [
             0.9,
             "#4d9221"
            ],
            [
             1,
             "#276419"
            ]
           ],
           "sequential": [
            [
             0,
             "#0d0887"
            ],
            [
             0.1111111111111111,
             "#46039f"
            ],
            [
             0.2222222222222222,
             "#7201a8"
            ],
            [
             0.3333333333333333,
             "#9c179e"
            ],
            [
             0.4444444444444444,
             "#bd3786"
            ],
            [
             0.5555555555555556,
             "#d8576b"
            ],
            [
             0.6666666666666666,
             "#ed7953"
            ],
            [
             0.7777777777777778,
             "#fb9f3a"
            ],
            [
             0.8888888888888888,
             "#fdca26"
            ],
            [
             1,
             "#f0f921"
            ]
           ],
           "sequentialminus": [
            [
             0,
             "#0d0887"
            ],
            [
             0.1111111111111111,
             "#46039f"
            ],
            [
             0.2222222222222222,
             "#7201a8"
            ],
            [
             0.3333333333333333,
             "#9c179e"
            ],
            [
             0.4444444444444444,
             "#bd3786"
            ],
            [
             0.5555555555555556,
             "#d8576b"
            ],
            [
             0.6666666666666666,
             "#ed7953"
            ],
            [
             0.7777777777777778,
             "#fb9f3a"
            ],
            [
             0.8888888888888888,
             "#fdca26"
            ],
            [
             1,
             "#f0f921"
            ]
           ]
          },
          "colorway": [
           "#636efa",
           "#EF553B",
           "#00cc96",
           "#ab63fa",
           "#FFA15A",
           "#19d3f3",
           "#FF6692",
           "#B6E880",
           "#FF97FF",
           "#FECB52"
          ],
          "font": {
           "color": "#2a3f5f"
          },
          "geo": {
           "bgcolor": "white",
           "lakecolor": "white",
           "landcolor": "#E5ECF6",
           "showlakes": true,
           "showland": true,
           "subunitcolor": "white"
          },
          "hoverlabel": {
           "align": "left"
          },
          "hovermode": "closest",
          "mapbox": {
           "style": "light"
          },
          "paper_bgcolor": "white",
          "plot_bgcolor": "#E5ECF6",
          "polar": {
           "angularaxis": {
            "gridcolor": "white",
            "linecolor": "white",
            "ticks": ""
           },
           "bgcolor": "#E5ECF6",
           "radialaxis": {
            "gridcolor": "white",
            "linecolor": "white",
            "ticks": ""
           }
          },
          "scene": {
           "xaxis": {
            "backgroundcolor": "#E5ECF6",
            "gridcolor": "white",
            "gridwidth": 2,
            "linecolor": "white",
            "showbackground": true,
            "ticks": "",
            "zerolinecolor": "white"
           },
           "yaxis": {
            "backgroundcolor": "#E5ECF6",
            "gridcolor": "white",
            "gridwidth": 2,
            "linecolor": "white",
            "showbackground": true,
            "ticks": "",
            "zerolinecolor": "white"
           },
           "zaxis": {
            "backgroundcolor": "#E5ECF6",
            "gridcolor": "white",
            "gridwidth": 2,
            "linecolor": "white",
            "showbackground": true,
            "ticks": "",
            "zerolinecolor": "white"
           }
          },
          "shapedefaults": {
           "line": {
            "color": "#2a3f5f"
           }
          },
          "ternary": {
           "aaxis": {
            "gridcolor": "white",
            "linecolor": "white",
            "ticks": ""
           },
           "baxis": {
            "gridcolor": "white",
            "linecolor": "white",
            "ticks": ""
           },
           "bgcolor": "#E5ECF6",
           "caxis": {
            "gridcolor": "white",
            "linecolor": "white",
            "ticks": ""
           }
          },
          "title": {
           "x": 0.05
          },
          "xaxis": {
           "automargin": true,
           "gridcolor": "white",
           "linecolor": "white",
           "ticks": "",
           "title": {
            "standoff": 15
           },
           "zerolinecolor": "white",
           "zerolinewidth": 2
          },
          "yaxis": {
           "automargin": true,
           "gridcolor": "white",
           "linecolor": "white",
           "ticks": "",
           "title": {
            "standoff": 15
           },
           "zerolinecolor": "white",
           "zerolinewidth": 2
          }
         }
        },
        "title": {
         "text": "Job shop Schedule"
        },
        "xaxis": {
         "rangeselector": {
          "buttons": [
           {
            "count": 7,
            "label": "1w",
            "step": "day",
            "stepmode": "backward"
           },
           {
            "count": 1,
            "label": "1m",
            "step": "month",
            "stepmode": "backward"
           },
           {
            "count": 6,
            "label": "6m",
            "step": "month",
            "stepmode": "backward"
           },
           {
            "count": 1,
            "label": "YTD",
            "step": "year",
            "stepmode": "todate"
           },
           {
            "count": 1,
            "label": "1y",
            "step": "year",
            "stepmode": "backward"
           },
           {
            "step": "all"
           }
          ]
         },
         "showgrid": true,
         "type": "date",
         "zeroline": false
        },
        "yaxis": {
         "autorange": false,
         "range": [
          -1,
          11
         ],
         "showgrid": false,
         "ticktext": [
          "Machine 10",
          "Machine 9",
          "Machine 8",
          "Machine 7",
          "Machine 6",
          "Machine 5",
          "Machine 4",
          "Machine 3",
          "Machine 2",
          "Machine 1"
         ],
         "tickvals": [
          0,
          1,
          2,
          3,
          4,
          5,
          6,
          7,
          8,
          9
         ],
         "zeroline": false
        }
       }
      }
     },
     "metadata": {}
    }
   ],
   "source": [
    "'''--------plot gantt chart-------'''\n",
    "'''\n",
    "import ssl\n",
    "\n",
    "try:\n",
    "    _create_unverified_https_context = ssl._create_unverified_context\n",
    "except AttributeError:\n",
    "    # Legacy Python that doesn't verify HTTPS certificates by default\n",
    "    pass\n",
    "else:\n",
    "    # Handle target environment that doesn't support HTTPS verification\n",
    "    ssl._create_default_https_context = _create_unverified_https_context\n",
    "'''\n",
    "import pandas as pd\n",
    "import chart_studio.plotly as py\n",
    "import plotly.figure_factory as ff\n",
    "import datetime\n",
    "\n",
    "m_keys=[j+1 for j in range(num_mc)]  #[1, 2, 3, 4, 5, 6, 7, 8, 9, 10]\n",
    "j_keys=[j for j in range(num_job)]   #[0, 1, 2, 3, 4, 5, 6, 7, 8, 9]\n",
    "key_count={key:0 for key in j_keys}  #{0: 0, 1: 0, 2: 0, 3: 0, 4: 0, 5: 0, 6: 0, 7: 0, 8: 0, 9: 0}\n",
    "j_count={key:0 for key in j_keys}    #{0: 0, 1: 0, 2: 0, 3: 0, 4: 0, 5: 0, 6: 0, 7: 0, 8: 0, 9: 0}\n",
    "m_count={key:0 for key in m_keys}    #{1: 0, 2: 0, 3: 0, 4: 0, 5: 0, 6: 0, 7: 0, 8: 0, 9: 0, 10: 0}\n",
    "j_record={}\n",
    "\n",
    "print(sequence_best)\n",
    "'''\n",
    "job seq:sequence_best\n",
    "[5, 0, 4, 7, 4, 6, 0, 0, 4, 5, 1, 5, 5, 5, 1, 6, 4, 3, 6, 6, 6, 4, 7, 3, 1, 1, 0, 5, 9, 6, 7, 9, 4, 0, 6, 8, 9, 4, 0, 3, 7, 8, 0, 8, 3, 5, 1, 9, 5, 2, 5, 3, 2, 1, 6, 1, 3, 8, 7, 2, 0, 9, 9, 7, 2, 6, 1, 9, 2, 3, 1, 2, 5, 2, 7, 8, 8, 6, 8, 3, 3, 3, 9, 2, 9, 7, 8, 4, 7, 7, 8, 9, 2, 0, 4, 4, 1, 2, 0, 8]\n",
    "-->j4, j5, j10, j3, ...\n",
    "-->m2, m3, m2, m2, ...\n",
    "'''\n",
    "for i in sequence_best:\n",
    "    gen_t=int(pt[i][key_count[i]]) #pt[5][0] processTime=81. pt[0][0]=14==>job4 pt=81, job5 pt=14\n",
    "    gen_m=int(ms[i][key_count[i]]) #ms[3][0] machine=2, ms[4][0]=3\n",
    "    j_count[i]=j_count[i]+gen_t #job i的processTime\n",
    "    m_count[gen_m]=m_count[gen_m]+gen_t #machine gen_m的processTime\n",
    "    print(i,'processTime:',gen_t,'machine',gen_m) \n",
    "    #機台的時間與job的時間相比, 取最大 (因為可能須排隊)\n",
    "    if m_count[gen_m]<j_count[i]:\n",
    "        m_count[gen_m]=j_count[i]\n",
    "    elif m_count[gen_m]>j_count[i]:\n",
    "        j_count[i]=m_count[gen_m]\n",
    "    \n",
    "    start_time=str(datetime.timedelta(seconds=j_count[i]-pt[i][key_count[i]])) # convert seconds to hours, minutes and seconds\n",
    "    end_time=str(datetime.timedelta(seconds=j_count[i]))\n",
    "        \n",
    "    j_record[(i,gen_m)]=[start_time,end_time]  #job i在機台m的時間區間\n",
    "    \n",
    "    key_count[i]=key_count[i]+1\n",
    "    '''\n",
    "    print(key_count)\n",
    "    每個job算完processTime之後, 用key_count控制取下一次的job processTime\n",
    "    key_count \n",
    "    {0: 0, 1: 0, 2: 0, 3: 0, 4: 0, 5: 0, 6: 0, 7: 0, 8: 0, 9: 0} --> 3: job4算完第1次pt, count+1\n",
    "    {0: 0, 1: 0, 2: 0, 3: 1, 4: 0, 5: 0, 6: 0, 7: 0, 8: 0, 9: 0} --> 4: job5算完第1次pt, count+1\n",
    "    {0: 0, 1: 0, 2: 0, 3: 1, 4: 1, 5: 0, 6: 0, 7: 0, 8: 0, 9: 0} -->\n",
    "    {0: 0, 1: 0, 2: 0, 3: 1, 4: 1, 5: 0, 6: 0, 7: 0, 8: 0, 9: 1} -->...\n",
    "    '''\n",
    "\n",
    "df=[]\n",
    "for m in m_keys:\n",
    "    for j in j_keys:\n",
    "        df.append(dict(Task='Machine %s'%(m), Start='2018-07-14 %s'%(str(j_record[(j,m)][0])), Finish='2018-07-14 %s'%(str(j_record[(j,m)][1])),Resource='Job %s'%(j+1)))\n",
    "    \n",
    "fig = ff.create_gantt(df, index_col='Resource', show_colorbar=True, group_tasks=True, showgrid_x=True, title='Job shop Schedule')\n",
    "#py.iplot(fig, filename='GA_job_shop_scheduling', world_readable=True) #-->SSL required\n",
    "fig.show()"
   ]
  },
  {
   "cell_type": "code",
   "execution_count": 47,
   "metadata": {},
   "outputs": [
    {
     "output_type": "execute_result",
     "data": {
      "text/plain": [
       "[[1, 2, 3, 4, 5, 6, 7, 8, 9, 10],\n",
       " [1, 3, 5, 10, 4, 2, 7, 6, 8, 9],\n",
       " [2, 1, 4, 3, 9, 6, 8, 7, 10, 5],\n",
       " [2, 3, 1, 5, 7, 9, 8, 4, 10, 6],\n",
       " [3, 1, 2, 6, 4, 5, 9, 8, 10, 7],\n",
       " [3, 2, 6, 4, 9, 10, 1, 7, 5, 8],\n",
       " [2, 1, 4, 3, 7, 6, 10, 9, 8, 5],\n",
       " [3, 1, 2, 6, 5, 7, 9, 10, 8, 4],\n",
       " [1, 2, 4, 6, 3, 10, 7, 8, 5, 9],\n",
       " [2, 1, 3, 7, 9, 10, 6, 4, 5, 8]]"
      ]
     },
     "metadata": {},
     "execution_count": 47
    }
   ],
   "source": [
    "ms"
   ]
  },
  {
   "cell_type": "code",
   "execution_count": 48,
   "metadata": {},
   "outputs": [
    {
     "output_type": "execute_result",
     "data": {
      "text/plain": [
       "[[29, 78, 9, 36, 49, 11, 62, 56, 44, 21],\n",
       " [43, 90, 75, 11, 69, 28, 46, 46, 72, 30],\n",
       " [91, 85, 39, 74, 90, 10, 12, 89, 45, 33],\n",
       " [81, 95, 71, 99, 9, 52, 85, 98, 22, 43],\n",
       " [14, 6, 22, 61, 26, 69, 21, 49, 72, 53],\n",
       " [84, 2, 52, 95, 48, 72, 47, 65, 6, 25],\n",
       " [46, 37, 61, 13, 32, 21, 32, 89, 30, 55],\n",
       " [31, 86, 46, 74, 32, 88, 19, 48, 36, 79],\n",
       " [76, 69, 76, 51, 85, 11, 40, 89, 26, 74],\n",
       " [85, 13, 61, 7, 64, 76, 47, 52, 90, 45]]"
      ]
     },
     "metadata": {},
     "execution_count": 48
    }
   ],
   "source": [
    "pt"
   ]
  },
  {
   "cell_type": "code",
   "execution_count": 49,
   "metadata": {},
   "outputs": [
    {
     "output_type": "execute_result",
     "data": {
      "text/plain": [
       "{0: 10, 1: 10, 2: 10, 3: 10, 4: 10, 5: 10, 6: 10, 7: 10, 8: 10, 9: 10}"
      ]
     },
     "metadata": {},
     "execution_count": 49
    }
   ],
   "source": [
    "key_count"
   ]
  },
  {
   "cell_type": "code",
   "execution_count": null,
   "metadata": {},
   "outputs": [],
   "source": []
  }
 ],
 "metadata": {
  "kernelspec": {
   "name": "python3",
   "display_name": "Python 3",
   "language": "python"
  },
  "language_info": {
   "codemirror_mode": {
    "name": "ipython",
    "version": 3
   },
   "file_extension": ".py",
   "mimetype": "text/x-python",
   "name": "python",
   "nbconvert_exporter": "python",
   "pygments_lexer": "ipython3",
   "version": "3.7.9-final"
  }
 },
 "nbformat": 4,
 "nbformat_minor": 4
}