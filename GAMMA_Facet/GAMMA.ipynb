{
 "metadata": {
  "language_info": {
   "codemirror_mode": {
    "name": "ipython",
    "version": 3
   },
   "file_extension": ".py",
   "mimetype": "text/x-python",
   "name": "python",
   "nbconvert_exporter": "python",
   "pygments_lexer": "ipython3",
   "version": "3.7.9-final"
  },
  "orig_nbformat": 2,
  "kernelspec": {
   "name": "python3",
   "display_name": "Python 3",
   "language": "python"
  }
 },
 "nbformat": 4,
 "nbformat_minor": 2,
 "cells": [
  {
   "source": [
    "## https://github.com/BCG-Gamma/facet\n",
    ". sklearndf\n",
    "# conda install -c bcg_gamma sklearndf \n",
    "# conda install sklearndf -c bcg_gamma -c conda-forge\n",
    ". gamma-facet\n",
    "## conda install gamma-facet -c bcg_gamma -c conda-forge\n",
    "\n"
   ],
   "cell_type": "markdown",
   "metadata": {}
  },
  {
   "cell_type": "code",
   "execution_count": null,
   "metadata": {},
   "outputs": [],
   "source": []
  },
  {
   "cell_type": "code",
   "execution_count": 2,
   "metadata": {},
   "outputs": [
    {
     "output_type": "execute_result",
     "data": {
      "text/plain": [
       "feature_out  embarked_C  embarked_Q  embarked_S  embarked_Unknown  sex_female  \\\n",
       "0                   0.0         0.0         1.0               0.0         1.0   \n",
       "1                   0.0         0.0         1.0               0.0         0.0   \n",
       "2                   0.0         0.0         1.0               0.0         1.0   \n",
       "3                   0.0         0.0         1.0               0.0         0.0   \n",
       "4                   0.0         0.0         1.0               0.0         1.0   \n",
       "\n",
       "feature_out  sex_male  pclass_1.0  pclass_2.0  pclass_3.0      age      fare  \n",
       "0                 0.0         1.0         0.0         0.0  29.0000  211.3375  \n",
       "1                 1.0         1.0         0.0         0.0   0.9167  151.5500  \n",
       "2                 0.0         1.0         0.0         0.0   2.0000  151.5500  \n",
       "3                 1.0         1.0         0.0         0.0  30.0000  151.5500  \n",
       "4                 0.0         1.0         0.0         0.0  25.0000  151.5500  "
      ],
      "text/html": "<div>\n<style scoped>\n    .dataframe tbody tr th:only-of-type {\n        vertical-align: middle;\n    }\n\n    .dataframe tbody tr th {\n        vertical-align: top;\n    }\n\n    .dataframe thead th {\n        text-align: right;\n    }\n</style>\n<table border=\"1\" class=\"dataframe\">\n  <thead>\n    <tr style=\"text-align: right;\">\n      <th>feature_out</th>\n      <th>embarked_C</th>\n      <th>embarked_Q</th>\n      <th>embarked_S</th>\n      <th>embarked_Unknown</th>\n      <th>sex_female</th>\n      <th>sex_male</th>\n      <th>pclass_1.0</th>\n      <th>pclass_2.0</th>\n      <th>pclass_3.0</th>\n      <th>age</th>\n      <th>fare</th>\n    </tr>\n  </thead>\n  <tbody>\n    <tr>\n      <th>0</th>\n      <td>0.0</td>\n      <td>0.0</td>\n      <td>1.0</td>\n      <td>0.0</td>\n      <td>1.0</td>\n      <td>0.0</td>\n      <td>1.0</td>\n      <td>0.0</td>\n      <td>0.0</td>\n      <td>29.0000</td>\n      <td>211.3375</td>\n    </tr>\n    <tr>\n      <th>1</th>\n      <td>0.0</td>\n      <td>0.0</td>\n      <td>1.0</td>\n      <td>0.0</td>\n      <td>0.0</td>\n      <td>1.0</td>\n      <td>1.0</td>\n      <td>0.0</td>\n      <td>0.0</td>\n      <td>0.9167</td>\n      <td>151.5500</td>\n    </tr>\n    <tr>\n      <th>2</th>\n      <td>0.0</td>\n      <td>0.0</td>\n      <td>1.0</td>\n      <td>0.0</td>\n      <td>1.0</td>\n      <td>0.0</td>\n      <td>1.0</td>\n      <td>0.0</td>\n      <td>0.0</td>\n      <td>2.0000</td>\n      <td>151.5500</td>\n    </tr>\n    <tr>\n      <th>3</th>\n      <td>0.0</td>\n      <td>0.0</td>\n      <td>1.0</td>\n      <td>0.0</td>\n      <td>0.0</td>\n      <td>1.0</td>\n      <td>1.0</td>\n      <td>0.0</td>\n      <td>0.0</td>\n      <td>30.0000</td>\n      <td>151.5500</td>\n    </tr>\n    <tr>\n      <th>4</th>\n      <td>0.0</td>\n      <td>0.0</td>\n      <td>1.0</td>\n      <td>0.0</td>\n      <td>1.0</td>\n      <td>0.0</td>\n      <td>1.0</td>\n      <td>0.0</td>\n      <td>0.0</td>\n      <td>25.0000</td>\n      <td>151.5500</td>\n    </tr>\n  </tbody>\n</table>\n</div>"
     },
     "metadata": {},
     "execution_count": 2
    }
   ],
   "source": [
    "import numpy as np\n",
    "from sklearn.datasets import fetch_openml\n",
    "from sklearn.model_selection import train_test_split\n",
    "\n",
    "# relevant sklearndf imports\n",
    "from sklearndf.transformation import (\n",
    "    ColumnTransformerDF,\n",
    "    OneHotEncoderDF,\n",
    "    SimpleImputerDF,\n",
    ")\n",
    "from sklearndf.pipeline import (\n",
    "    PipelineDF,\n",
    "    ClassifierPipelineDF\n",
    ")\n",
    "from sklearndf.classification import RandomForestClassifierDF\n",
    "\n",
    "# load titanic data\n",
    "titanic_X, titanic_y = fetch_openml(\"titanic\", version=1, as_frame=True, return_X_y=True)\n",
    "\n",
    "# select features\n",
    "numerical_features = ['age', 'fare']\n",
    "categorical_features = ['embarked', 'sex', 'pclass']\n",
    "\n",
    "# create a preprocessing pipeline\n",
    "preprocessing_numeric_df = SimpleImputerDF(strategy=\"median\")\n",
    "\n",
    "preprocessing_categorical_df = PipelineDF(\n",
    "    steps=[\n",
    "        ('imputer', SimpleImputerDF(strategy='constant', fill_value='Unknown')),\n",
    "        ('one-hot', OneHotEncoderDF(sparse=False, handle_unknown=\"ignore\"))\n",
    "    ]\n",
    ")\n",
    "\n",
    "preprocessing_df = ColumnTransformerDF(\n",
    "    transformers=[\n",
    "        ('categorical', preprocessing_categorical_df, categorical_features),\n",
    "        ('numeric', preprocessing_numeric_df, numerical_features),\n",
    "    ]\n",
    ")\n",
    "\n",
    "# run preprocessing\n",
    "transformed_df = preprocessing_df.fit_transform(X=titanic_X, y=titanic_y)\n",
    "transformed_df.head()"
   ]
  },
  {
   "cell_type": "code",
   "execution_count": 3,
   "metadata": {},
   "outputs": [
    {
     "output_type": "execute_result",
     "data": {
      "text/plain": [
       "feature_out  embarked_C  embarked_Q  embarked_S  embarked_Unknown\n",
       "0                   0.0         0.0         1.0               0.0\n",
       "1                   0.0         0.0         1.0               0.0\n",
       "2                   0.0         0.0         1.0               0.0\n",
       "3                   0.0         0.0         1.0               0.0\n",
       "4                   0.0         0.0         1.0               0.0"
      ],
      "text/html": "<div>\n<style scoped>\n    .dataframe tbody tr th:only-of-type {\n        vertical-align: middle;\n    }\n\n    .dataframe tbody tr th {\n        vertical-align: top;\n    }\n\n    .dataframe thead th {\n        text-align: right;\n    }\n</style>\n<table border=\"1\" class=\"dataframe\">\n  <thead>\n    <tr style=\"text-align: right;\">\n      <th>feature_out</th>\n      <th>embarked_C</th>\n      <th>embarked_Q</th>\n      <th>embarked_S</th>\n      <th>embarked_Unknown</th>\n    </tr>\n  </thead>\n  <tbody>\n    <tr>\n      <th>0</th>\n      <td>0.0</td>\n      <td>0.0</td>\n      <td>1.0</td>\n      <td>0.0</td>\n    </tr>\n    <tr>\n      <th>1</th>\n      <td>0.0</td>\n      <td>0.0</td>\n      <td>1.0</td>\n      <td>0.0</td>\n    </tr>\n    <tr>\n      <th>2</th>\n      <td>0.0</td>\n      <td>0.0</td>\n      <td>1.0</td>\n      <td>0.0</td>\n    </tr>\n    <tr>\n      <th>3</th>\n      <td>0.0</td>\n      <td>0.0</td>\n      <td>1.0</td>\n      <td>0.0</td>\n    </tr>\n    <tr>\n      <th>4</th>\n      <td>0.0</td>\n      <td>0.0</td>\n      <td>1.0</td>\n      <td>0.0</td>\n    </tr>\n  </tbody>\n</table>\n</div>"
     },
     "metadata": {},
     "execution_count": 3
    }
   ],
   "source": [
    "embarked_type_derivatives = preprocessing_df.feature_names_original_ == \"embarked\"\n",
    "transformed_df.loc[:, embarked_type_derivatives].head()"
   ]
  },
  {
   "cell_type": "code",
   "execution_count": 4,
   "metadata": {},
   "outputs": [
    {
     "output_type": "stream",
     "name": "stdout",
     "text": [
      "model score: 0.79\n"
     ]
    }
   ],
   "source": [
    "# create full pipeline\n",
    "pipeline_df = ClassifierPipelineDF(\n",
    "    preprocessing=preprocessing_df,\n",
    "    classifier=RandomForestClassifierDF(\n",
    "        n_estimators=1000,\n",
    "        max_features=2/3,\n",
    "        max_depth=7,\n",
    "        random_state=42,\n",
    "        n_jobs=-3\n",
    "    )\n",
    ")\n",
    "\n",
    "# split data and then fit and score random forest classifier\n",
    "df_train, df_test, y_train, y_test = train_test_split(titanic_X, titanic_y, random_state=42)\n",
    "pipeline_df.fit(df_train, y_train)\n",
    "print(f\"model score: {pipeline_df.score(df_test, y_test).round(2)}\")"
   ]
  },
  {
   "cell_type": "code",
   "execution_count": null,
   "metadata": {},
   "outputs": [],
   "source": []
  }
 ]
}