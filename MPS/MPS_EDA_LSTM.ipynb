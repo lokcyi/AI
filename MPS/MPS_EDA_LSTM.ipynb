{
 "metadata": {
  "language_info": {
   "codemirror_mode": {
    "name": "ipython",
    "version": 3
   },
   "file_extension": ".py",
   "mimetype": "text/x-python",
   "name": "python",
   "nbconvert_exporter": "python",
   "pygments_lexer": "ipython3",
   "version": "3.7.9-final"
  },
  "orig_nbformat": 2,
  "kernelspec": {
   "name": "python3",
   "display_name": "Python 3.7.9 64-bit ('python37': conda)",
   "metadata": {
    "interpreter": {
     "hash": "c42b5a0b25f25b91547b1efdbb1d498b56c8afb4f9c2df8520f37980aedc3d2e"
    }
   }
  }
 },
 "nbformat": 4,
 "nbformat_minor": 2,
 "cells": [
  {
   "cell_type": "code",
   "execution_count": 3,
   "metadata": {},
   "outputs": [],
   "source": [
    "import numpy as np \n",
    "import math\n",
    "import matplotlib.pyplot as plt\n",
    "import pandas as pd\n",
    "\n",
    "import datetime\n",
    "final_date = '2021-01-18'\n",
    "target_ToolGID = 'PK_DUVKrF'"
   ]
  },
  {
   "cell_type": "code",
   "execution_count": null,
   "metadata": {},
   "outputs": [],
   "source": [
    "def transform_stationary(ts):\n",
    "    '''\n",
    "    平穩變換：\n",
    "    消除趨勢：移動平均、指數加權移動平均\n",
    "    有時候簡單的減掉趨勢的方法并不能得到平穩序列，尤其對于高季節性的時間序列來說，此時可以采用differencing(差分)或decomposition(分解)\n",
    "    消除趨勢和季節性：差分、序列分解\n",
    "    :param ts:\n",
    "    :return:\n",
    "    '''\n",
    "    # 利用log降低異方差性\n",
    "    ts_log = np.log(ts)\n",
    "    # plt.plot(ts_log, color='brown', label='ts_log')\n",
    "    # plt.title('ts_log')\n",
    "    # plt.show()\n",
    "\n",
    "    # 移動平均法，得到趨勢（需要確定合適的K值，當前例子中，合適的K值是12個月，因為趨勢是逐年增長，但是有些復雜場景下，K值的確定很難）\n",
    "    # trend = use_moving_avg(ts_log)\n",
    "    # 指數加權移動平均法平，得到趨勢(由于每次都是從當前時刻到起始時刻的指數加權平均，所以沒有確定K值的問題)\n",
    "    # trend = use_exponentially_weighted_moving_avg(ts_log)\n",
    "    # print(trend)\n",
    "    # 減去趨勢：將平滑后的序列從ts_log序列中移除\n",
    "    # rs = ts_log - trend\n",
    "    # 若趨勢建模是用的移動平均法，由于是取前12個月的均值，所以開始的11個值的移動平均都是非數了，需要去除非數\n",
    "    # rs.dropna(inplace=True)\n",
    "\n",
    "    # differencing(差分)\n",
    "    rs_log_diff = ts_log - ts_log.shift()  # 1階差分\n",
    "    # use_rolling_statistics(rs)\n",
    "    # rs = rs - rs.shift() # 2階差分\n",
    "    # 季節性差分 ,此案例中的季節間隔為12個月  d=1 D=1\n",
    "    # rs = (ts_log - ts_log.shift(periods=12)) - (ts_log.shift() - ts_log.shift().shift(periods=12))\n",
    "    rs_log_diff.dropna(inplace=True)\n",
    "\n",
    "    # decomposition(分解)\n",
    "    # rs = use_decomposition(ts_log)\n",
    "    # rs.dropna(inplace=True)\n",
    "\n",
    "    # 對去除趨勢后的序列做平穩性檢驗\n",
    "    # use_rolling_statistics(rs)\n",
    "    use_df(rs_log_diff)\n",
    "    return ts_log, rs_log_diff"
   ]
  },
  {
   "cell_type": "code",
   "execution_count": 4,
   "metadata": {},
   "outputs": [],
   "source": [
    "df_train_orign=pd.read_csv('./data/TRCT_TrainingData_20210131.csv')\n",
    " \n",
    "df_train_orign = df_train_orign.loc[df_train_orign['TOOLG_ID']==target_ToolGID]\n",
    "#df_train_orign['MFG_DATE'] = pd.to_datetime(test['MFG_DATE'],format='%Y%m%d') \n",
    "df_train_orign['MFG_DATE'] = df_train_orign['MFG_DATE'].apply(lambda x: pd.to_datetime(str(x), format='%Y%m%d'))"
   ]
  },
  {
   "cell_type": "code",
   "execution_count": null,
   "metadata": {},
   "outputs": [],
   "source": [
    "from statsmodels.tsa.arima_model import ARIMA"
   ]
  }
 ]
}