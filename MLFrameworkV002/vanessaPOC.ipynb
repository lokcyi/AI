{
 "metadata": {
  "language_info": {
   "codemirror_mode": {
    "name": "ipython",
    "version": 3
   },
   "file_extension": ".py",
   "mimetype": "text/x-python",
   "name": "python",
   "nbconvert_exporter": "python",
   "pygments_lexer": "ipython3",
   "version": "3.7.9-final"
  },
  "orig_nbformat": 2,
  "kernelspec": {
   "name": "python379jvsc74a57bd0fd79c5f311e48de877911d8cf1d56e7b724990a605ba536e714d512526dbebf5",
   "display_name": "Python 3.7.9 64-bit ('PY379': conda)"
  }
 },
 "nbformat": 4,
 "nbformat_minor": 2,
 "cells": [
  {
   "cell_type": "code",
   "execution_count": 2,
   "metadata": {},
   "outputs": [],
   "source": [
    "import pandas as pd\n",
    "import os\n",
    "import numpy as np \n",
    "import joblib as joblib"
   ]
  },
  {
   "cell_type": "code",
   "execution_count": 89,
   "metadata": {},
   "outputs": [],
   "source": [
    "# dataFiles = {dataFile :[\"./data/Parts_EQP_Output_ByMonth_20210407_van.csv\"\n",
    "#                 ,\"./data/ScmTrainingData_Monthly_30days.csv\"\n",
    "#                 ,\"./data/holiday.csv\"\n",
    "#                 ],\n",
    "#             relation :[['MFG_MONTH','EQP_NO'],['MFG_MONTH','TOOL_ID']]\n",
    "#                 ,[['MFG_MONTH'],['MFG_MONTH']]\n",
    "#                ]"
   ]
  },
  {
   "cell_type": "code",
   "execution_count": 58,
   "metadata": {},
   "outputs": [
    {
     "output_type": "execute_result",
     "data": {
      "text/plain": [
       "['MFG_MONTH', 'EQP_NO']"
      ]
     },
     "metadata": {},
     "execution_count": 58
    }
   ],
   "source": [
    "# datasetList =datafileList[0:1][0]\n",
    "\n",
    "# datasetRels =datafileList[1:][0]\n",
    "# datasetRels[0]"
   ]
  },
  {
   "cell_type": "code",
   "execution_count": 79,
   "metadata": {},
   "outputs": [],
   "source": [
    "def readData(inputfile):\n",
    "        df = pd.read_csv(inputfile)\n",
    "        df=df.dropna(axis=1,how='all')\n",
    "        df.info() \n",
    "        return analyzeData(df) \n",
    "def analyzeData(df):\n",
    "        print('非數值欄位：')\n",
    "        strColumnlist=df.select_dtypes(exclude=['int64','float64']).columns.tolist()\n",
    "        print(strColumnlist) \n",
    "        print('數值欄位：')\n",
    "        numbericColumnlist=df.select_dtypes(include=['int64','float64']).columns.tolist()\n",
    "        print(numbericColumnlist)\n",
    "        print('包含ＮＵＬＬ的欄位：')\n",
    "        nullColumnlist=df.columns[df.isna().any()].tolist()    \n",
    "        print(nullColumnlist)\n",
    "        print('===================================================')  \n",
    "        return df,strColumnlist,numbericColumnlist,nullColumnlist        \n",
    "def mergeDataFrame(dfleft,dfright,LeftKeys,RightKeys):\n",
    "        # dfright.columns = [str(col) + '_'+joinTableName for col in df.columns]\n",
    "        df_merge = pd.merge(dfleft, dfright, left_on=LeftKeys, right_on=RightKeys,how=\"inner\")\n",
    "        return df_merge        "
   ]
  },
  {
   "cell_type": "code",
   "execution_count": 100,
   "metadata": {},
   "outputs": [],
   "source": [
    "dataFiles = {'files':[\"./data/Parts_EQP_Output_ByMonth_20210407_van.csv\"\n",
    "                ,\"./data/ScmTrainingData_Monthly_30days.csv\"\n",
    "                ,\"./data/holiday.csv\"\n",
    "                ],\n",
    "            'relations':[\n",
    "                 [['MFG_MONTH','EQP_NO'],['MFG_MONTH','TOOL_ID']]\n",
    "                ,[['MFG_MONTH'],['MFG_MONTH']]\n",
    "               ]\n",
    "}"
   ]
  },
  {
   "cell_type": "code",
   "execution_count": 103,
   "metadata": {},
   "outputs": [
    {
     "output_type": "execute_result",
     "data": {
      "text/plain": [
       "['./data/Parts_EQP_Output_ByMonth_20210407_van.csv',\n",
       " './data/ScmTrainingData_Monthly_30days.csv',\n",
       " './data/holiday.csv']"
      ]
     },
     "metadata": {},
     "execution_count": 103
    }
   ],
   "source": [
    "dataFiles['files']"
   ]
  },
  {
   "cell_type": "code",
   "execution_count": 106,
   "metadata": {},
   "outputs": [
    {
     "output_type": "stream",
     "name": "stdout",
     "text": [
      "./data/Parts_EQP_Output_ByMonth_20210407_van.csv\n<class 'pandas.core.frame.DataFrame'>\nRangeIndex: 20775 entries, 0 to 20774\nData columns (total 9 columns):\n #   Column            Non-Null Count  Dtype  \n---  ------            --------------  -----  \n 0   PART_NO           20775 non-null  object \n 1   EQP_NO            20775 non-null  object \n 2   STOCK_EVENT_TIME  20775 non-null  object \n 3   QTY               20775 non-null  int64  \n 4   PM                20775 non-null  float64\n 5   TS                20775 non-null  float64\n 6   ENG               20775 non-null  float64\n 7   NST               20775 non-null  float64\n 8   MFG_MONTH         20775 non-null  int64  \ndtypes: float64(4), int64(2), object(3)\nmemory usage: 1.4+ MB\n非數值欄位：\n['PART_NO', 'EQP_NO', 'STOCK_EVENT_TIME']\n數值欄位：\n['QTY', 'PM', 'TS', 'ENG', 'NST', 'MFG_MONTH']\n包含ＮＵＬＬ的欄位：\n[]\n===================================================\n./data/ScmTrainingData_Monthly_30days.csv\n<class 'pandas.core.frame.DataFrame'>\nRangeIndex: 1837 entries, 0 to 1836\nData columns (total 26 columns):\n #   Column           Non-Null Count  Dtype  \n---  ------           --------------  -----  \n 0   MFG_MONTH        1837 non-null   int64  \n 1   TOOL_ID          1837 non-null   object \n 2   M_NUM            1837 non-null   float64\n 3   UP_TIME          1837 non-null   float64\n 4   C_UP_TIME        1837 non-null   float64\n 5   LOT_SIZE         1837 non-null   float64\n 6   C_LOT_SIZE       1837 non-null   float64\n 7   EQP_UTIL         1837 non-null   float64\n 8   C_EQP_UTIL       1837 non-null   float64\n 9   EQP_AVAIL_RATE   1837 non-null   float64\n 10  TC               1793 non-null   float64\n 11  PROCESS_TIME     1837 non-null   float64\n 12  PROCESS_JOBTIME  1837 non-null   float64\n 13  INLINE_CT_LOT    1837 non-null   float64\n 14  INLINE_CT_WAFER  1837 non-null   float64\n 15  MOVE_QTY         1837 non-null   float64\n 16  C_TC             1837 non-null   float64\n 17  ENG_LOT_RATE     1837 non-null   float64\n 18  HOT_LOT_RATE     1837 non-null   float64\n 19  BACKUP_BY_RATE   1837 non-null   int64  \n 20  BACKUP_FOR_RATE  1837 non-null   float64\n 21  RWORK_LOT_RATE   1837 non-null   float64\n 22  QUE_LOT_RATE     1837 non-null   float64\n 23  SAMPLING_RATE    1837 non-null   int64  \n 24  NUM_RECIPE       1837 non-null   int64  \n 25  CHANGE_RECIPE    1837 non-null   float64\ndtypes: float64(21), int64(4), object(1)\nmemory usage: 373.3+ KB\n非數值欄位：\n['TOOL_ID']\n數值欄位：\n['MFG_MONTH', 'M_NUM', 'UP_TIME', 'C_UP_TIME', 'LOT_SIZE', 'C_LOT_SIZE', 'EQP_UTIL', 'C_EQP_UTIL', 'EQP_AVAIL_RATE', 'TC', 'PROCESS_TIME', 'PROCESS_JOBTIME', 'INLINE_CT_LOT', 'INLINE_CT_WAFER', 'MOVE_QTY', 'C_TC', 'ENG_LOT_RATE', 'HOT_LOT_RATE', 'BACKUP_BY_RATE', 'BACKUP_FOR_RATE', 'RWORK_LOT_RATE', 'QUE_LOT_RATE', 'SAMPLING_RATE', 'NUM_RECIPE', 'CHANGE_RECIPE']\n包含ＮＵＬＬ的欄位：\n['TC']\n===================================================\n./data/holiday.csv\n<class 'pandas.core.frame.DataFrame'>\nRangeIndex: 163 entries, 0 to 162\nData columns (total 3 columns):\n #   Column     Non-Null Count  Dtype\n---  ------     --------------  -----\n 0   MFG_MONTH  163 non-null    int64\n 1   Holiday    163 non-null    int64\n 2   Days       163 non-null    int64\ndtypes: int64(3)\nmemory usage: 3.9 KB\n非數值欄位：\n[]\n數值欄位：\n['MFG_MONTH', 'Holiday', 'Days']\n包含ＮＵＬＬ的欄位：\n[]\n===================================================\n"
     ]
    }
   ],
   "source": [
    "\n",
    "\n",
    "def merge(dataFiles):\n",
    "    index =0\n",
    "    for dfFile in dataFiles['files']:\n",
    "        print(dfFile)\n",
    "        if index ==0:\n",
    "            _dfInputData1,_strColumnlist1,_numbericColumnlist1,_nullColumnlist1=readData(dfFile) \n",
    "            \n",
    "            # _df_result.\n",
    "        else:\n",
    "            datasetRels = dataFiles['relations'][index-1]\n",
    "            _dfInputData2,_strColumnlist2,_numbericColumnlist2,_nullColumnlist2=readData(dfFile) \n",
    "            _dfInputData1.set_index(datasetRels[0])\n",
    "            _dfInputData2.set_index(datasetRels[1])\n",
    "            df_merge = mergeDataFrame(_dfInputData1,_dfInputData2,datasetRels[0],datasetRels[1])\n",
    "            _dfInputData1 = df_merge.copy(deep=False)\n",
    "        index+=1\n",
    "    return _dfInputData1 \n",
    "df = merge(dataFiles)"
   ]
  },
  {
   "cell_type": "code",
   "execution_count": 108,
   "metadata": {},
   "outputs": [
    {
     "output_type": "execute_result",
     "data": {
      "text/plain": [
       "Index(['PART_NO', 'EQP_NO', 'STOCK_EVENT_TIME', 'QTY', 'PM', 'TS', 'ENG',\n",
       "       'NST', 'MFG_MONTH', 'TOOL_ID', 'M_NUM', 'UP_TIME', 'C_UP_TIME',\n",
       "       'LOT_SIZE', 'C_LOT_SIZE', 'EQP_UTIL', 'C_EQP_UTIL', 'EQP_AVAIL_RATE',\n",
       "       'TC', 'PROCESS_TIME', 'PROCESS_JOBTIME', 'INLINE_CT_LOT',\n",
       "       'INLINE_CT_WAFER', 'MOVE_QTY', 'C_TC', 'ENG_LOT_RATE', 'HOT_LOT_RATE',\n",
       "       'BACKUP_BY_RATE', 'BACKUP_FOR_RATE', 'RWORK_LOT_RATE', 'QUE_LOT_RATE',\n",
       "       'SAMPLING_RATE', 'NUM_RECIPE', 'CHANGE_RECIPE', 'Holiday', 'Days'],\n",
       "      dtype='object')"
      ]
     },
     "metadata": {},
     "execution_count": 108
    }
   ],
   "source": [
    "# _dfInputData1.reset_index(drop=True, inplace=True)\n",
    "# _dfInputData1.drop(['index'],axis=1)\n",
    "df.columns\n"
   ]
  },
  {
   "cell_type": "code",
   "execution_count": 65,
   "metadata": {},
   "outputs": [],
   "source": [
    "# df_parts=pd.read_csv(\"./data/Parts_EQP_Output_ByMonth_20210407_2.csv\")\n",
    "# df_parts['MFG_MONTH'] = df_parts['STOCK_EVENT_TIME'].apply(lambda x: pd.to_datetime(str(x), format='%Y/%m/%d %H:%M')).dt.strftime('%Y%m')\n",
    "# df_parts.to_csv(\"./data/Parts_EQP_Output_ByMonth_20210407_van.csv\",index=False)"
   ]
  },
  {
   "cell_type": "code",
   "execution_count": 62,
   "metadata": {},
   "outputs": [
    {
     "output_type": "execute_result",
     "data": {
      "text/plain": [
       "     TOOL_ID MFG_MONTH  M_NUM   UP_TIME  C_UP_TIME   LOT_SIZE  C_LOT_SIZE  \\\n",
       "0      DIA01    2015Q1    3.0  0.913123   0.046450  22.166542    0.293950   \n",
       "1      DIA01    2015Q2    3.0  0.843459   0.050789  21.387001    0.461008   \n",
       "2      DIA01    2015Q3    3.0  0.873781   0.051042  21.927232    0.365429   \n",
       "3      DIA01    2015Q4    3.0  0.877797   0.053552  22.479113    0.306193   \n",
       "4      DIA01    2016Q1    3.0  0.913123   0.046450  22.166542    0.293950   \n",
       "...      ...       ...    ...       ...        ...        ...         ...   \n",
       "3307   WVT02    2020Q1    1.0  0.970339   0.041758  23.003453    0.477843   \n",
       "3308   WVT02    2020Q2    1.0  0.963842   0.044825  23.192654    0.393632   \n",
       "3309   WVT02    2020Q3    1.0  0.965723   0.047085  22.749617    0.332871   \n",
       "3310   WVT02    2020Q4    1.0  0.967670   0.048026  23.045571    0.286807   \n",
       "3311   WVT02    2021Q1    1.0  0.934873   0.050617  23.016964    0.259026   \n",
       "\n",
       "      EQP_UTIL  C_EQP_UTIL  EQP_AVAIL_RATE  ...      C_TC  ENG_LOT_RATE  \\\n",
       "0     0.911978    0.234825        3.560113  ...  0.509202      0.003077   \n",
       "1     0.839925    0.266091        3.067737  ...  0.542214      0.003140   \n",
       "2     0.924559    0.238711        3.520805  ...  0.555230      0.004928   \n",
       "3     0.924369    0.234177        3.671709  ...  0.501822      0.006104   \n",
       "4     0.911978    0.234825        3.560113  ...  0.509202      0.003077   \n",
       "...        ...         ...             ...  ...       ...           ...   \n",
       "3307  0.990959    0.222740        5.358815  ...  0.450503      0.014378   \n",
       "3308  0.986904    0.225712        5.061473  ...  0.455797      0.005768   \n",
       "3309  0.983728    0.222388        5.712435  ...  0.461069      0.012419   \n",
       "3310  0.980721    0.220027        5.827443  ...  0.448182      0.009567   \n",
       "3311  0.979546    0.220315        5.642367  ...  0.449114      0.008822   \n",
       "\n",
       "      HOT_LOT_RATE  BACKUP_BY_RATE  BACKUP_FOR_RATE  RWORK_LOT_RATE  \\\n",
       "0         0.024012             0.0         0.071718        0.000102   \n",
       "1         0.033550             0.0         0.000000        0.002430   \n",
       "2         0.013528             0.0         0.000000        0.000382   \n",
       "3         0.023428             0.0         0.052450        0.001112   \n",
       "4         0.024012             0.0         0.071718        0.000102   \n",
       "...            ...             ...              ...             ...   \n",
       "3307      0.061748             0.0         0.028827        0.001472   \n",
       "3308      0.047092             0.0         0.033837        0.002145   \n",
       "3309      0.062802             0.0         0.032061        0.000671   \n",
       "3310      0.042770             0.0         0.056707        0.001686   \n",
       "3311      0.039985             0.0         0.023067        0.000051   \n",
       "\n",
       "      QUE_LOT_RATE  SAMPLING_RATE  NUM_RECIPE  CHANGE_RECIPE  \n",
       "0         0.928180            0.0   21.000000       0.649773  \n",
       "1         0.997156            0.0   44.000000       0.815174  \n",
       "2         0.999618            0.0   31.333333       0.574232  \n",
       "3         0.946869            0.0   22.333333       0.594151  \n",
       "4         0.928180            0.0   21.000000       0.649773  \n",
       "...            ...            ...         ...            ...  \n",
       "3307      0.936525            0.0   22.500000       0.846142  \n",
       "3308      0.949200            0.0   30.666667       0.880870  \n",
       "3309      0.943782            0.0   21.000000       0.863158  \n",
       "3310      0.927821            0.0   15.000000       0.861022  \n",
       "3311      0.959704            0.0   15.000000       0.837333  \n",
       "\n",
       "[3312 rows x 26 columns]"
      ],
      "text/html": "<div>\n<style scoped>\n    .dataframe tbody tr th:only-of-type {\n        vertical-align: middle;\n    }\n\n    .dataframe tbody tr th {\n        vertical-align: top;\n    }\n\n    .dataframe thead th {\n        text-align: right;\n    }\n</style>\n<table border=\"1\" class=\"dataframe\">\n  <thead>\n    <tr style=\"text-align: right;\">\n      <th></th>\n      <th>TOOL_ID</th>\n      <th>MFG_MONTH</th>\n      <th>M_NUM</th>\n      <th>UP_TIME</th>\n      <th>C_UP_TIME</th>\n      <th>LOT_SIZE</th>\n      <th>C_LOT_SIZE</th>\n      <th>EQP_UTIL</th>\n      <th>C_EQP_UTIL</th>\n      <th>EQP_AVAIL_RATE</th>\n      <th>...</th>\n      <th>C_TC</th>\n      <th>ENG_LOT_RATE</th>\n      <th>HOT_LOT_RATE</th>\n      <th>BACKUP_BY_RATE</th>\n      <th>BACKUP_FOR_RATE</th>\n      <th>RWORK_LOT_RATE</th>\n      <th>QUE_LOT_RATE</th>\n      <th>SAMPLING_RATE</th>\n      <th>NUM_RECIPE</th>\n      <th>CHANGE_RECIPE</th>\n    </tr>\n  </thead>\n  <tbody>\n    <tr>\n      <th>0</th>\n      <td>DIA01</td>\n      <td>2015Q1</td>\n      <td>3.0</td>\n      <td>0.913123</td>\n      <td>0.046450</td>\n      <td>22.166542</td>\n      <td>0.293950</td>\n      <td>0.911978</td>\n      <td>0.234825</td>\n      <td>3.560113</td>\n      <td>...</td>\n      <td>0.509202</td>\n      <td>0.003077</td>\n      <td>0.024012</td>\n      <td>0.0</td>\n      <td>0.071718</td>\n      <td>0.000102</td>\n      <td>0.928180</td>\n      <td>0.0</td>\n      <td>21.000000</td>\n      <td>0.649773</td>\n    </tr>\n    <tr>\n      <th>1</th>\n      <td>DIA01</td>\n      <td>2015Q2</td>\n      <td>3.0</td>\n      <td>0.843459</td>\n      <td>0.050789</td>\n      <td>21.387001</td>\n      <td>0.461008</td>\n      <td>0.839925</td>\n      <td>0.266091</td>\n      <td>3.067737</td>\n      <td>...</td>\n      <td>0.542214</td>\n      <td>0.003140</td>\n      <td>0.033550</td>\n      <td>0.0</td>\n      <td>0.000000</td>\n      <td>0.002430</td>\n      <td>0.997156</td>\n      <td>0.0</td>\n      <td>44.000000</td>\n      <td>0.815174</td>\n    </tr>\n    <tr>\n      <th>2</th>\n      <td>DIA01</td>\n      <td>2015Q3</td>\n      <td>3.0</td>\n      <td>0.873781</td>\n      <td>0.051042</td>\n      <td>21.927232</td>\n      <td>0.365429</td>\n      <td>0.924559</td>\n      <td>0.238711</td>\n      <td>3.520805</td>\n      <td>...</td>\n      <td>0.555230</td>\n      <td>0.004928</td>\n      <td>0.013528</td>\n      <td>0.0</td>\n      <td>0.000000</td>\n      <td>0.000382</td>\n      <td>0.999618</td>\n      <td>0.0</td>\n      <td>31.333333</td>\n      <td>0.574232</td>\n    </tr>\n    <tr>\n      <th>3</th>\n      <td>DIA01</td>\n      <td>2015Q4</td>\n      <td>3.0</td>\n      <td>0.877797</td>\n      <td>0.053552</td>\n      <td>22.479113</td>\n      <td>0.306193</td>\n      <td>0.924369</td>\n      <td>0.234177</td>\n      <td>3.671709</td>\n      <td>...</td>\n      <td>0.501822</td>\n      <td>0.006104</td>\n      <td>0.023428</td>\n      <td>0.0</td>\n      <td>0.052450</td>\n      <td>0.001112</td>\n      <td>0.946869</td>\n      <td>0.0</td>\n      <td>22.333333</td>\n      <td>0.594151</td>\n    </tr>\n    <tr>\n      <th>4</th>\n      <td>DIA01</td>\n      <td>2016Q1</td>\n      <td>3.0</td>\n      <td>0.913123</td>\n      <td>0.046450</td>\n      <td>22.166542</td>\n      <td>0.293950</td>\n      <td>0.911978</td>\n      <td>0.234825</td>\n      <td>3.560113</td>\n      <td>...</td>\n      <td>0.509202</td>\n      <td>0.003077</td>\n      <td>0.024012</td>\n      <td>0.0</td>\n      <td>0.071718</td>\n      <td>0.000102</td>\n      <td>0.928180</td>\n      <td>0.0</td>\n      <td>21.000000</td>\n      <td>0.649773</td>\n    </tr>\n    <tr>\n      <th>...</th>\n      <td>...</td>\n      <td>...</td>\n      <td>...</td>\n      <td>...</td>\n      <td>...</td>\n      <td>...</td>\n      <td>...</td>\n      <td>...</td>\n      <td>...</td>\n      <td>...</td>\n      <td>...</td>\n      <td>...</td>\n      <td>...</td>\n      <td>...</td>\n      <td>...</td>\n      <td>...</td>\n      <td>...</td>\n      <td>...</td>\n      <td>...</td>\n      <td>...</td>\n      <td>...</td>\n    </tr>\n    <tr>\n      <th>3307</th>\n      <td>WVT02</td>\n      <td>2020Q1</td>\n      <td>1.0</td>\n      <td>0.970339</td>\n      <td>0.041758</td>\n      <td>23.003453</td>\n      <td>0.477843</td>\n      <td>0.990959</td>\n      <td>0.222740</td>\n      <td>5.358815</td>\n      <td>...</td>\n      <td>0.450503</td>\n      <td>0.014378</td>\n      <td>0.061748</td>\n      <td>0.0</td>\n      <td>0.028827</td>\n      <td>0.001472</td>\n      <td>0.936525</td>\n      <td>0.0</td>\n      <td>22.500000</td>\n      <td>0.846142</td>\n    </tr>\n    <tr>\n      <th>3308</th>\n      <td>WVT02</td>\n      <td>2020Q2</td>\n      <td>1.0</td>\n      <td>0.963842</td>\n      <td>0.044825</td>\n      <td>23.192654</td>\n      <td>0.393632</td>\n      <td>0.986904</td>\n      <td>0.225712</td>\n      <td>5.061473</td>\n      <td>...</td>\n      <td>0.455797</td>\n      <td>0.005768</td>\n      <td>0.047092</td>\n      <td>0.0</td>\n      <td>0.033837</td>\n      <td>0.002145</td>\n      <td>0.949200</td>\n      <td>0.0</td>\n      <td>30.666667</td>\n      <td>0.880870</td>\n    </tr>\n    <tr>\n      <th>3309</th>\n      <td>WVT02</td>\n      <td>2020Q3</td>\n      <td>1.0</td>\n      <td>0.965723</td>\n      <td>0.047085</td>\n      <td>22.749617</td>\n      <td>0.332871</td>\n      <td>0.983728</td>\n      <td>0.222388</td>\n      <td>5.712435</td>\n      <td>...</td>\n      <td>0.461069</td>\n      <td>0.012419</td>\n      <td>0.062802</td>\n      <td>0.0</td>\n      <td>0.032061</td>\n      <td>0.000671</td>\n      <td>0.943782</td>\n      <td>0.0</td>\n      <td>21.000000</td>\n      <td>0.863158</td>\n    </tr>\n    <tr>\n      <th>3310</th>\n      <td>WVT02</td>\n      <td>2020Q4</td>\n      <td>1.0</td>\n      <td>0.967670</td>\n      <td>0.048026</td>\n      <td>23.045571</td>\n      <td>0.286807</td>\n      <td>0.980721</td>\n      <td>0.220027</td>\n      <td>5.827443</td>\n      <td>...</td>\n      <td>0.448182</td>\n      <td>0.009567</td>\n      <td>0.042770</td>\n      <td>0.0</td>\n      <td>0.056707</td>\n      <td>0.001686</td>\n      <td>0.927821</td>\n      <td>0.0</td>\n      <td>15.000000</td>\n      <td>0.861022</td>\n    </tr>\n    <tr>\n      <th>3311</th>\n      <td>WVT02</td>\n      <td>2021Q1</td>\n      <td>1.0</td>\n      <td>0.934873</td>\n      <td>0.050617</td>\n      <td>23.016964</td>\n      <td>0.259026</td>\n      <td>0.979546</td>\n      <td>0.220315</td>\n      <td>5.642367</td>\n      <td>...</td>\n      <td>0.449114</td>\n      <td>0.008822</td>\n      <td>0.039985</td>\n      <td>0.0</td>\n      <td>0.023067</td>\n      <td>0.000051</td>\n      <td>0.959704</td>\n      <td>0.0</td>\n      <td>15.000000</td>\n      <td>0.837333</td>\n    </tr>\n  </tbody>\n</table>\n<p>3312 rows × 26 columns</p>\n</div>"
     },
     "metadata": {},
     "execution_count": 62
    }
   ],
   "source": [
    "df_parts=pd.read_csv(\"./data/Parts_EQP_Output_ByMonth_20210407_van.csv\")\n",
    "df_parts['MFG_MONTH'] = pd.to_datetime(df_parts['STOCK_EVENT_TIME'].values, format='%Y-%m-%d').astype('period[Q]')\n",
    "df_parts.groupby(['PART_NO','EQP_NO','MFG_MONTH']).sum().reset_index()\n",
    "df_EQP=pd.read_csv(\"./data/ScmTrainingData_Monthly_30_20152021.csv\")\n",
    "df_EQP['MFG_MONTH'] = pd.to_datetime(df_EQP['MFG_MONTH'].values, format='%Y%m').astype('period[Q]')\n",
    "df_EQP.groupby(['TOOL_ID','MFG_MONTH']).mean().reset_index()\n",
    "pd.merge(df_parts, df_EQP, left_on=['EQP_NO','MFG_MONTH'], right_on=['TOOL_ID','MFG_MONTH'],how=\"inner\")"
   ]
  },
  {
   "cell_type": "code",
   "execution_count": 65,
   "metadata": {},
   "outputs": [
    {
     "output_type": "execute_result",
     "data": {
      "text/plain": [
       "          PART_NO EQP_NO STOCK_EVENT_TIME  QTY   PM   TS  ENG  NST MFG_MONTH  \\\n",
       "0      85-ECT0010  ECT11       2015-01-31    0  0.0  0.0  0.0  0.0    2015Q1   \n",
       "1      85-ECT0010  ECT11       2015-01-31    0  0.0  0.0  0.0  0.0    2015Q1   \n",
       "2      85-ECT0010  ECT11       2015-01-31    0  0.0  0.0  0.0  0.0    2015Q1   \n",
       "3      85-ECT0010  ECT11       2015-02-28    0  0.0  0.0  0.0  0.0    2015Q1   \n",
       "4      85-ECT0010  ECT11       2015-02-28    0  0.0  0.0  0.0  0.0    2015Q1   \n",
       "...           ...    ...              ...  ...  ...  ...  ...  ...       ...   \n",
       "60343  85-EMA0920  EWA52       2021-02-28    0  0.0  0.0  0.0  0.0    2021Q1   \n",
       "60344  85-EMA0920  EWA52       2021-02-28    0  0.0  0.0  0.0  0.0    2021Q1   \n",
       "60345  85-EMA0920  EWA52       2021-03-31    1  1.0  0.0  0.0  0.0    2021Q1   \n",
       "60346  85-EMA0920  EWA52       2021-03-31    1  1.0  0.0  0.0  0.0    2021Q1   \n",
       "60347  85-EMA0920  EWA52       2021-03-31    1  1.0  0.0  0.0  0.0    2021Q1   \n",
       "\n",
       "      TOOL_ID  ...      C_TC  ENG_LOT_RATE  HOT_LOT_RATE  BACKUP_BY_RATE  \\\n",
       "0       ECT11  ...  0.416924      0.033649      0.027876               0   \n",
       "1       ECT11  ...  0.439473      0.020306      0.047381               0   \n",
       "2       ECT11  ...  0.476868      0.020802      0.088825               0   \n",
       "3       ECT11  ...  0.416924      0.033649      0.027876               0   \n",
       "4       ECT11  ...  0.439473      0.020306      0.047381               0   \n",
       "...       ...  ...       ...           ...           ...             ...   \n",
       "60343   EWA52  ...  0.435650      0.001397      0.007784               0   \n",
       "60344   EWA52  ...  0.417824      0.004367      0.013974               0   \n",
       "60345   EWA52  ...  0.404703      0.011236      0.007745               0   \n",
       "60346   EWA52  ...  0.435650      0.001397      0.007784               0   \n",
       "60347   EWA52  ...  0.417824      0.004367      0.013974               0   \n",
       "\n",
       "       BACKUP_FOR_RATE  RWORK_LOT_RATE  QUE_LOT_RATE  SAMPLING_RATE  \\\n",
       "0             0.000000        0.002722      0.932041              0   \n",
       "1             0.000000        0.009491      0.869188              0   \n",
       "2             0.166262        0.004631      0.717051              0   \n",
       "3             0.000000        0.002722      0.932041              0   \n",
       "4             0.000000        0.009491      0.869188              0   \n",
       "...                ...             ...           ...            ...   \n",
       "60343         0.152096        0.000499      0.699202              0   \n",
       "60344         0.074585        0.013800      0.768035              0   \n",
       "60345         0.045271        0.003491      0.824588              0   \n",
       "60346         0.152096        0.000499      0.699202              0   \n",
       "60347         0.074585        0.013800      0.768035              0   \n",
       "\n",
       "       NUM_RECIPE  CHANGE_RECIPE  \n",
       "0              39       0.900391  \n",
       "1              59       0.906195  \n",
       "2              48       0.867857  \n",
       "3              39       0.900391  \n",
       "4              59       0.906195  \n",
       "...           ...            ...  \n",
       "60343          41       0.853832  \n",
       "60344          52       0.866771  \n",
       "60345          36       0.873047  \n",
       "60346          41       0.853832  \n",
       "60347          52       0.866771  \n",
       "\n",
       "[60348 rows x 34 columns]"
      ],
      "text/html": "<div>\n<style scoped>\n    .dataframe tbody tr th:only-of-type {\n        vertical-align: middle;\n    }\n\n    .dataframe tbody tr th {\n        vertical-align: top;\n    }\n\n    .dataframe thead th {\n        text-align: right;\n    }\n</style>\n<table border=\"1\" class=\"dataframe\">\n  <thead>\n    <tr style=\"text-align: right;\">\n      <th></th>\n      <th>PART_NO</th>\n      <th>EQP_NO</th>\n      <th>STOCK_EVENT_TIME</th>\n      <th>QTY</th>\n      <th>PM</th>\n      <th>TS</th>\n      <th>ENG</th>\n      <th>NST</th>\n      <th>MFG_MONTH</th>\n      <th>TOOL_ID</th>\n      <th>...</th>\n      <th>C_TC</th>\n      <th>ENG_LOT_RATE</th>\n      <th>HOT_LOT_RATE</th>\n      <th>BACKUP_BY_RATE</th>\n      <th>BACKUP_FOR_RATE</th>\n      <th>RWORK_LOT_RATE</th>\n      <th>QUE_LOT_RATE</th>\n      <th>SAMPLING_RATE</th>\n      <th>NUM_RECIPE</th>\n      <th>CHANGE_RECIPE</th>\n    </tr>\n  </thead>\n  <tbody>\n    <tr>\n      <th>0</th>\n      <td>85-ECT0010</td>\n      <td>ECT11</td>\n      <td>2015-01-31</td>\n      <td>0</td>\n      <td>0.0</td>\n      <td>0.0</td>\n      <td>0.0</td>\n      <td>0.0</td>\n      <td>2015Q1</td>\n      <td>ECT11</td>\n      <td>...</td>\n      <td>0.416924</td>\n      <td>0.033649</td>\n      <td>0.027876</td>\n      <td>0</td>\n      <td>0.000000</td>\n      <td>0.002722</td>\n      <td>0.932041</td>\n      <td>0</td>\n      <td>39</td>\n      <td>0.900391</td>\n    </tr>\n    <tr>\n      <th>1</th>\n      <td>85-ECT0010</td>\n      <td>ECT11</td>\n      <td>2015-01-31</td>\n      <td>0</td>\n      <td>0.0</td>\n      <td>0.0</td>\n      <td>0.0</td>\n      <td>0.0</td>\n      <td>2015Q1</td>\n      <td>ECT11</td>\n      <td>...</td>\n      <td>0.439473</td>\n      <td>0.020306</td>\n      <td>0.047381</td>\n      <td>0</td>\n      <td>0.000000</td>\n      <td>0.009491</td>\n      <td>0.869188</td>\n      <td>0</td>\n      <td>59</td>\n      <td>0.906195</td>\n    </tr>\n    <tr>\n      <th>2</th>\n      <td>85-ECT0010</td>\n      <td>ECT11</td>\n      <td>2015-01-31</td>\n      <td>0</td>\n      <td>0.0</td>\n      <td>0.0</td>\n      <td>0.0</td>\n      <td>0.0</td>\n      <td>2015Q1</td>\n      <td>ECT11</td>\n      <td>...</td>\n      <td>0.476868</td>\n      <td>0.020802</td>\n      <td>0.088825</td>\n      <td>0</td>\n      <td>0.166262</td>\n      <td>0.004631</td>\n      <td>0.717051</td>\n      <td>0</td>\n      <td>48</td>\n      <td>0.867857</td>\n    </tr>\n    <tr>\n      <th>3</th>\n      <td>85-ECT0010</td>\n      <td>ECT11</td>\n      <td>2015-02-28</td>\n      <td>0</td>\n      <td>0.0</td>\n      <td>0.0</td>\n      <td>0.0</td>\n      <td>0.0</td>\n      <td>2015Q1</td>\n      <td>ECT11</td>\n      <td>...</td>\n      <td>0.416924</td>\n      <td>0.033649</td>\n      <td>0.027876</td>\n      <td>0</td>\n      <td>0.000000</td>\n      <td>0.002722</td>\n      <td>0.932041</td>\n      <td>0</td>\n      <td>39</td>\n      <td>0.900391</td>\n    </tr>\n    <tr>\n      <th>4</th>\n      <td>85-ECT0010</td>\n      <td>ECT11</td>\n      <td>2015-02-28</td>\n      <td>0</td>\n      <td>0.0</td>\n      <td>0.0</td>\n      <td>0.0</td>\n      <td>0.0</td>\n      <td>2015Q1</td>\n      <td>ECT11</td>\n      <td>...</td>\n      <td>0.439473</td>\n      <td>0.020306</td>\n      <td>0.047381</td>\n      <td>0</td>\n      <td>0.000000</td>\n      <td>0.009491</td>\n      <td>0.869188</td>\n      <td>0</td>\n      <td>59</td>\n      <td>0.906195</td>\n    </tr>\n    <tr>\n      <th>...</th>\n      <td>...</td>\n      <td>...</td>\n      <td>...</td>\n      <td>...</td>\n      <td>...</td>\n      <td>...</td>\n      <td>...</td>\n      <td>...</td>\n      <td>...</td>\n      <td>...</td>\n      <td>...</td>\n      <td>...</td>\n      <td>...</td>\n      <td>...</td>\n      <td>...</td>\n      <td>...</td>\n      <td>...</td>\n      <td>...</td>\n      <td>...</td>\n      <td>...</td>\n      <td>...</td>\n    </tr>\n    <tr>\n      <th>60343</th>\n      <td>85-EMA0920</td>\n      <td>EWA52</td>\n      <td>2021-02-28</td>\n      <td>0</td>\n      <td>0.0</td>\n      <td>0.0</td>\n      <td>0.0</td>\n      <td>0.0</td>\n      <td>2021Q1</td>\n      <td>EWA52</td>\n      <td>...</td>\n      <td>0.435650</td>\n      <td>0.001397</td>\n      <td>0.007784</td>\n      <td>0</td>\n      <td>0.152096</td>\n      <td>0.000499</td>\n      <td>0.699202</td>\n      <td>0</td>\n      <td>41</td>\n      <td>0.853832</td>\n    </tr>\n    <tr>\n      <th>60344</th>\n      <td>85-EMA0920</td>\n      <td>EWA52</td>\n      <td>2021-02-28</td>\n      <td>0</td>\n      <td>0.0</td>\n      <td>0.0</td>\n      <td>0.0</td>\n      <td>0.0</td>\n      <td>2021Q1</td>\n      <td>EWA52</td>\n      <td>...</td>\n      <td>0.417824</td>\n      <td>0.004367</td>\n      <td>0.013974</td>\n      <td>0</td>\n      <td>0.074585</td>\n      <td>0.013800</td>\n      <td>0.768035</td>\n      <td>0</td>\n      <td>52</td>\n      <td>0.866771</td>\n    </tr>\n    <tr>\n      <th>60345</th>\n      <td>85-EMA0920</td>\n      <td>EWA52</td>\n      <td>2021-03-31</td>\n      <td>1</td>\n      <td>1.0</td>\n      <td>0.0</td>\n      <td>0.0</td>\n      <td>0.0</td>\n      <td>2021Q1</td>\n      <td>EWA52</td>\n      <td>...</td>\n      <td>0.404703</td>\n      <td>0.011236</td>\n      <td>0.007745</td>\n      <td>0</td>\n      <td>0.045271</td>\n      <td>0.003491</td>\n      <td>0.824588</td>\n      <td>0</td>\n      <td>36</td>\n      <td>0.873047</td>\n    </tr>\n    <tr>\n      <th>60346</th>\n      <td>85-EMA0920</td>\n      <td>EWA52</td>\n      <td>2021-03-31</td>\n      <td>1</td>\n      <td>1.0</td>\n      <td>0.0</td>\n      <td>0.0</td>\n      <td>0.0</td>\n      <td>2021Q1</td>\n      <td>EWA52</td>\n      <td>...</td>\n      <td>0.435650</td>\n      <td>0.001397</td>\n      <td>0.007784</td>\n      <td>0</td>\n      <td>0.152096</td>\n      <td>0.000499</td>\n      <td>0.699202</td>\n      <td>0</td>\n      <td>41</td>\n      <td>0.853832</td>\n    </tr>\n    <tr>\n      <th>60347</th>\n      <td>85-EMA0920</td>\n      <td>EWA52</td>\n      <td>2021-03-31</td>\n      <td>1</td>\n      <td>1.0</td>\n      <td>0.0</td>\n      <td>0.0</td>\n      <td>0.0</td>\n      <td>2021Q1</td>\n      <td>EWA52</td>\n      <td>...</td>\n      <td>0.417824</td>\n      <td>0.004367</td>\n      <td>0.013974</td>\n      <td>0</td>\n      <td>0.074585</td>\n      <td>0.013800</td>\n      <td>0.768035</td>\n      <td>0</td>\n      <td>52</td>\n      <td>0.866771</td>\n    </tr>\n  </tbody>\n</table>\n<p>60348 rows × 34 columns</p>\n</div>"
     },
     "metadata": {},
     "execution_count": 65
    }
   ],
   "source": [
    "pd.merge(df_parts, df_EQP, left_on=['EQP_NO','MFG_MONTH'], right_on=['TOOL_ID','MFG_MONTH'],how=\"inner\")"
   ]
  },
  {
   "cell_type": "code",
   "execution_count": 64,
   "metadata": {},
   "outputs": [
    {
     "output_type": "execute_result",
     "data": {
      "text/plain": [
       "          PART_NO EQP_NO STOCK_EVENT_TIME  QTY   PM   TS  ENG  NST MFG_MONTH\n",
       "0      85-ECT0010  ECT11       2015-01-31    0  0.0  0.0  0.0  0.0    2015Q1\n",
       "1      85-ECT0010  ECT11       2015-02-28    0  0.0  0.0  0.0  0.0    2015Q1\n",
       "2      85-ECT0010  ECT11       2015-03-31    0  0.0  0.0  0.0  0.0    2015Q1\n",
       "3      85-ECT0010  ECT11       2015-04-30    0  0.0  0.0  0.0  0.0    2015Q2\n",
       "4      85-ECT0010  ECT11       2015-05-31    0  0.0  0.0  0.0  0.0    2015Q2\n",
       "...           ...    ...              ...  ...  ...  ...  ...  ...       ...\n",
       "20770  85-EMA0920  EWA53       2020-11-30    0  0.0  0.0  0.0  0.0    2020Q4\n",
       "20771  85-EMA0920  EWA53       2020-12-31    0  0.0  0.0  0.0  0.0    2020Q4\n",
       "20772  85-EMA0920  EWA53       2021-01-31    0  0.0  0.0  0.0  0.0    2021Q1\n",
       "20773  85-EMA0920  EWA53       2021-02-28    0  0.0  0.0  0.0  0.0    2021Q1\n",
       "20774  85-EMA0920  EWA53       2021-03-31    0  0.0  0.0  0.0  0.0    2021Q1\n",
       "\n",
       "[20775 rows x 9 columns]"
      ],
      "text/html": "<div>\n<style scoped>\n    .dataframe tbody tr th:only-of-type {\n        vertical-align: middle;\n    }\n\n    .dataframe tbody tr th {\n        vertical-align: top;\n    }\n\n    .dataframe thead th {\n        text-align: right;\n    }\n</style>\n<table border=\"1\" class=\"dataframe\">\n  <thead>\n    <tr style=\"text-align: right;\">\n      <th></th>\n      <th>PART_NO</th>\n      <th>EQP_NO</th>\n      <th>STOCK_EVENT_TIME</th>\n      <th>QTY</th>\n      <th>PM</th>\n      <th>TS</th>\n      <th>ENG</th>\n      <th>NST</th>\n      <th>MFG_MONTH</th>\n    </tr>\n  </thead>\n  <tbody>\n    <tr>\n      <th>0</th>\n      <td>85-ECT0010</td>\n      <td>ECT11</td>\n      <td>2015-01-31</td>\n      <td>0</td>\n      <td>0.0</td>\n      <td>0.0</td>\n      <td>0.0</td>\n      <td>0.0</td>\n      <td>2015Q1</td>\n    </tr>\n    <tr>\n      <th>1</th>\n      <td>85-ECT0010</td>\n      <td>ECT11</td>\n      <td>2015-02-28</td>\n      <td>0</td>\n      <td>0.0</td>\n      <td>0.0</td>\n      <td>0.0</td>\n      <td>0.0</td>\n      <td>2015Q1</td>\n    </tr>\n    <tr>\n      <th>2</th>\n      <td>85-ECT0010</td>\n      <td>ECT11</td>\n      <td>2015-03-31</td>\n      <td>0</td>\n      <td>0.0</td>\n      <td>0.0</td>\n      <td>0.0</td>\n      <td>0.0</td>\n      <td>2015Q1</td>\n    </tr>\n    <tr>\n      <th>3</th>\n      <td>85-ECT0010</td>\n      <td>ECT11</td>\n      <td>2015-04-30</td>\n      <td>0</td>\n      <td>0.0</td>\n      <td>0.0</td>\n      <td>0.0</td>\n      <td>0.0</td>\n      <td>2015Q2</td>\n    </tr>\n    <tr>\n      <th>4</th>\n      <td>85-ECT0010</td>\n      <td>ECT11</td>\n      <td>2015-05-31</td>\n      <td>0</td>\n      <td>0.0</td>\n      <td>0.0</td>\n      <td>0.0</td>\n      <td>0.0</td>\n      <td>2015Q2</td>\n    </tr>\n    <tr>\n      <th>...</th>\n      <td>...</td>\n      <td>...</td>\n      <td>...</td>\n      <td>...</td>\n      <td>...</td>\n      <td>...</td>\n      <td>...</td>\n      <td>...</td>\n      <td>...</td>\n    </tr>\n    <tr>\n      <th>20770</th>\n      <td>85-EMA0920</td>\n      <td>EWA53</td>\n      <td>2020-11-30</td>\n      <td>0</td>\n      <td>0.0</td>\n      <td>0.0</td>\n      <td>0.0</td>\n      <td>0.0</td>\n      <td>2020Q4</td>\n    </tr>\n    <tr>\n      <th>20771</th>\n      <td>85-EMA0920</td>\n      <td>EWA53</td>\n      <td>2020-12-31</td>\n      <td>0</td>\n      <td>0.0</td>\n      <td>0.0</td>\n      <td>0.0</td>\n      <td>0.0</td>\n      <td>2020Q4</td>\n    </tr>\n    <tr>\n      <th>20772</th>\n      <td>85-EMA0920</td>\n      <td>EWA53</td>\n      <td>2021-01-31</td>\n      <td>0</td>\n      <td>0.0</td>\n      <td>0.0</td>\n      <td>0.0</td>\n      <td>0.0</td>\n      <td>2021Q1</td>\n    </tr>\n    <tr>\n      <th>20773</th>\n      <td>85-EMA0920</td>\n      <td>EWA53</td>\n      <td>2021-02-28</td>\n      <td>0</td>\n      <td>0.0</td>\n      <td>0.0</td>\n      <td>0.0</td>\n      <td>0.0</td>\n      <td>2021Q1</td>\n    </tr>\n    <tr>\n      <th>20774</th>\n      <td>85-EMA0920</td>\n      <td>EWA53</td>\n      <td>2021-03-31</td>\n      <td>0</td>\n      <td>0.0</td>\n      <td>0.0</td>\n      <td>0.0</td>\n      <td>0.0</td>\n      <td>2021Q1</td>\n    </tr>\n  </tbody>\n</table>\n<p>20775 rows × 9 columns</p>\n</div>"
     },
     "metadata": {},
     "execution_count": 64
    }
   ],
   "source": [
    "df_parts"
   ]
  },
  {
   "cell_type": "code",
   "execution_count": null,
   "metadata": {},
   "outputs": [],
   "source": []
  },
  {
   "cell_type": "code",
   "execution_count": 2,
   "metadata": {},
   "outputs": [
    {
     "output_type": "stream",
     "name": "stdout",
     "text": [
      "85-ECT0010\n85-EKA0190\n85-EKA0270\n85-EMA0130\n85-EMA0900\n85-EMA0910\n85-EMA0920\n86-DIA0120\n87-WPT1070\n"
     ]
    }
   ],
   "source": [
    "partList =['85-ECT0010','85-EKA0190','85-EKA0270','85-EMA0130','85-EMA0900','85-EMA0910','85-EMA0920','86-DIA0120','87-WPT1070']\n",
    "for p in partList:\n",
    "    print(p)"
   ]
  },
  {
   "cell_type": "code",
   "execution_count": 3,
   "metadata": {},
   "outputs": [],
   "source": [
    "TrainCondition = [\n",
    "    {'column':\"MFG_MONTH\",'operator':\">=\",'value': '201501'},\n",
    "    {'column':\"MFG_MONTH\",'operator':\"<=\",'value':'202012'},\n",
    "]\n",
    "TestCondition = [\n",
    "\n",
    "    {'column':\"MFG_MONTH\",'operator':\">\",'value':'202012'},\n",
    "]\n",
    "\n",
    "\n",
    "\n"
   ]
  },
  {
   "cell_type": "code",
   "execution_count": 15,
   "metadata": {},
   "outputs": [
    {
     "output_type": "execute_result",
     "data": {
      "text/plain": [
       "['MFG_MONTH']"
      ]
     },
     "metadata": {},
     "execution_count": 15
    }
   ],
   "source": [
    "cols = [ sub['column'] for sub in TrainCondition+TestCondition ]\n",
    "cols= [k for k, g in groupby(sorted(cols))]\n",
    "cols"
   ]
  },
  {
   "cell_type": "code",
   "execution_count": null,
   "metadata": {},
   "outputs": [],
   "source": [
    "\n",
    "combined = dict(item for d in person for item in d.items())\n",
    "for value in combined.values():\n",
    "    print(value)\n"
   ]
  },
  {
   "cell_type": "code",
   "execution_count": null,
   "metadata": {},
   "outputs": [],
   "source": [
    " import webbrowser\n",
    " url =  'file://' + 'D:\\Projects\\AI\\POC\\MLFramework.v0.01\\Report\\Parts_Tools_30_Quater_85-ECT0010_report.html'\n",
    " webbrowser.open(url)"
   ]
  }
 ]
}