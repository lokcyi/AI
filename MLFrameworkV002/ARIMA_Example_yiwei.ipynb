{
 "cells": [
  {
   "cell_type": "code",
   "execution_count": null,
   "metadata": {},
   "outputs": [],
   "source": [
    "%matplotlib inline\n",
    "import matplotlib.pyplot as plt\n",
    "import numpy as np\n",
    "import pandas as pd\n",
    "from pandas.plotting import lag_plot\n",
    "from pandas.plotting import autocorrelation_plot\n",
    "from statsmodels.tsa.ar_model import AutoReg, ar_select_order\n",
    "from statsmodels.tsa.arima_model import ARIMA\n",
    "from statsmodels.tsa.api import acf, pacf, graphics\n",
    "from statsmodels.graphics.tsaplots import plot_acf, plot_pacf\n",
    "from statsmodels.tsa.stattools import adfuller\n",
    "from statsmodels.tsa.seasonal import seasonal_decompose\n",
    "from statsmodels.tsa.seasonal import STL\n",
    "import pmdarima as pm\n",
    "plt.rcParams.update({'figure.figsize': (8,5)})"
   ]
  },
  {
   "cell_type": "markdown",
   "metadata": {},
   "source": [
    "## Data Prepare"
   ]
  },
  {
   "cell_type": "code",
   "execution_count": null,
   "metadata": {},
   "outputs": [],
   "source": [
    "# load data\n",
    "df = pd.read_csv('data/project/SCM_TMS_PARTS_LOGS_NEW.csv')\n",
    "# single part\n",
    "df = df[df['PART_NO']=='85-EMA0900']\n",
    "# transfer time to YYMM, and group by\n",
    "df['STOCK_EVENT_TIME'] = pd.to_datetime(df['STOCK_EVENT_TIME']).dt.strftime('%Y-%m')\n",
    "df['STOCK_EVENT_TIME'] = pd.to_datetime(df['STOCK_EVENT_TIME'])\n",
    "df = df[['STOCK_EVENT_TIME','QTY']].groupby(['STOCK_EVENT_TIME']).sum().sort_values(by=['STOCK_EVENT_TIME'])"
   ]
  },
  {
   "cell_type": "code",
   "execution_count": null,
   "metadata": {},
   "outputs": [],
   "source": [
    "df.plot()"
   ]
  },
  {
   "cell_type": "markdown",
   "metadata": {},
   "source": [
    "## AR (Auto Regression)"
   ]
  },
  {
   "cell_type": "code",
   "execution_count": null,
   "metadata": {},
   "outputs": [],
   "source": [
    "# 確認時間序列平穩性，透過 P-Value 來檢測 (p < 0.05)\n",
    "#   為何需要求資料平穩性？變數的歷史和現狀呈現出的基本特性，在未來階段的一個長時期里會維持不變\n",
    "#   如果p值小於 0.05表示序列不穩定，就會建議不使用AR模型\n",
    "result = adfuller(df.QTY)\n",
    "print('p-value: %.2f' % result[1])"
   ]
  },
  {
   "cell_type": "code",
   "execution_count": null,
   "metadata": {},
   "outputs": [],
   "source": [
    "# 因 P-Value > 0.05，先測試一階差異再看分數\n",
    "df_diff1 = df.QTY.diff()\n",
    "result = adfuller(df_diff1.dropna())\n",
    "print('p-value: %.2f' % result[1])"
   ]
  },
  {
   "cell_type": "code",
   "execution_count": null,
   "metadata": {},
   "outputs": [],
   "source": [
    "# 自相關\n",
    "autocorrelation_plot(df.QTY.tolist())"
   ]
  },
  {
   "cell_type": "code",
   "execution_count": null,
   "metadata": {},
   "outputs": [],
   "source": [
    "# 自相關/偏自相關\n",
    "#    自相關：考慮中間時刻值的影響, 例如t-3對t影響, 會同時考慮t-1, t-2對t的影響\n",
    "#    偏自相關：不考慮中間時刻的影響\n",
    "fig, axes = plt.subplots(2, 1)\n",
    "plot_acf(df.values.squeeze(), ax=axes[0]) #自相關, 長拖尾，需做差分\n",
    "plot_pacf(df.values.squeeze(), ax=axes[1]) #偏相關\n",
    "plt.tight_layout()\n",
    "plt.show()"
   ]
  },
  {
   "cell_type": "code",
   "execution_count": null,
   "metadata": {},
   "outputs": [],
   "source": [
    "# STL Seasonal-Trend decomposition using LOESS\n",
    "stl = STL(df['QTY'], seasonal=3)\n",
    "res = stl.fit()\n",
    "fig = res.plot()\n",
    "# Multiplicative Decomposition (乘法)\n",
    "result_mul = seasonal_decompose(df['QTY'], model='multiplicative', extrapolate_trend='freq')\n",
    "# Additive Decomposition (加法)\n",
    "result_add = seasonal_decompose(df['QTY'], model='additive', extrapolate_trend='freq')\n",
    "# Plot\n",
    "result_mul.plot().suptitle('Multiplicative Decompose')\n",
    "result_add.plot().suptitle('Additive Decompose')\n",
    "plt.show()"
   ]
  },
  {
   "cell_type": "code",
   "execution_count": null,
   "metadata": {},
   "outputs": [],
   "source": [
    "mod = AutoReg(df.values.squeeze(), 3, old_names=False)\n",
    "res = mod.fit()\n",
    "print(res.summary())"
   ]
  },
  {
   "cell_type": "code",
   "execution_count": null,
   "metadata": {},
   "outputs": [],
   "source": [
    "fig = res.plot_predict(0, 70)"
   ]
  },
  {
   "cell_type": "markdown",
   "metadata": {},
   "source": [
    "## ARIMA (AR Integrated MA)"
   ]
  },
  {
   "cell_type": "code",
   "execution_count": null,
   "metadata": {},
   "outputs": [],
   "source": [
    "# Data Prepare\n",
    "df = pd.read_csv('data/project/SCM_TMS_PARTS_LOGS_NEW.csv')\n",
    "df = df[(df['PART_NO']=='85-ECT1190')]\n",
    "df['STOCK_EVENT_TIME'] = pd.to_datetime(df['STOCK_EVENT_TIME']).dt.strftime('%Y%m')\n",
    "df = df[['STOCK_EVENT_TIME','QTY']].groupby(['STOCK_EVENT_TIME']).sum().sort_values(by=['STOCK_EVENT_TIME'])"
   ]
  },
  {
   "cell_type": "code",
   "execution_count": null,
   "metadata": {},
   "outputs": [],
   "source": [
    "# Original Series\n",
    "fig, axes = plt.subplots(3, 2, sharex=True)\n",
    "axes[0, 0].plot(df); axes[0, 0].set_title('Original Series')\n",
    "plot_acf(df, ax=axes[0, 1])\n",
    "# 1st Differencing\n",
    "axes[1, 0].plot(df.diff()); axes[1, 0].set_title('1st Order Differencing')\n",
    "plot_acf(df.diff().dropna(), ax=axes[1, 1])\n",
    "\n",
    "# 2nd Differencing\n",
    "axes[2, 0].plot(df.diff().diff()); axes[2, 0].set_title('2nd Order Differencing')\n",
    "plot_acf(df.diff().diff().dropna(), ax=axes[2, 1])\n",
    "\n",
    "plt.show()"
   ]
  },
  {
   "cell_type": "code",
   "execution_count": null,
   "metadata": {},
   "outputs": [],
   "source": [
    "model = pm.auto_arima(df, start_p=1, start_q=1,\n",
    "                      information_criterion='aic',\n",
    "                      test='adf',       # use adftest to find optimal 'd'\n",
    "                      #max_p=5, max_q=5, # maximum p and q\n",
    "                      m=1,              # frequency of series\n",
    "                      d=None,           # let model determine 'd'\n",
    "                      seasonal=False,   # No Seasonality\n",
    "                      D=0, \n",
    "                      trace=True,\n",
    "                      error_action='ignore',  \n",
    "                      suppress_warnings=True, \n",
    "                      stepwise=True)\n",
    "\n",
    "print(model.summary())"
   ]
  },
  {
   "cell_type": "code",
   "execution_count": null,
   "metadata": {},
   "outputs": [],
   "source": [
    "model = ARIMA(df, order=(4,0,2))\n",
    "model_fit = model.fit(disp=0)\n",
    "print(model_fit.summary())"
   ]
  },
  {
   "cell_type": "code",
   "execution_count": null,
   "metadata": {},
   "outputs": [],
   "source": [
    "# Plot residual errors\n",
    "residuals = pd.DataFrame(model_fit.resid)\n",
    "fig, ax = plt.subplots(1,2)\n",
    "residuals.plot(title=\"Residuals\", ax=ax[0])\n",
    "residuals.plot(kind='kde', title='Density', ax=ax[1])\n",
    "plt.show()\n",
    "# Actual vs Fitted\n",
    "model_fit.plot_predict(dynamic=False)\n",
    "plt.show()"
   ]
  },
  {
   "cell_type": "code",
   "execution_count": null,
   "metadata": {},
   "outputs": [],
   "source": [
    "df = df.reset_index(drop=True)\n",
    "# Create Training and Test\n",
    "train = df.loc[:62]\n",
    "test = df.loc[62:]\n",
    "\n",
    "# Build Model\n",
    "# model = ARIMA(train, order=(3,,1))  \n",
    "model = ARIMA(train, order=(4,0,2))  \n",
    "fitted = model.fit(disp=0)  \n",
    "\n",
    "# Forecast\n",
    "fc, se, conf = fitted.forecast(3, alpha=0.05)  # 95% conf\n",
    "\n",
    "# Make as pandas series\n",
    "fc_series = pd.Series(fc, index=test.index)\n",
    "lower_series = pd.Series(conf[:, 0], index=test.index)\n",
    "upper_series = pd.Series(conf[:, 1], index=test.index)\n",
    "\n",
    "# Plot\n",
    "plt.figure(figsize=(12,5), dpi=100)\n",
    "plt.plot(train, label='training')\n",
    "plt.plot(test, label='actual')\n",
    "plt.plot(fc_series, label='forecast')\n",
    "plt.fill_between(lower_series.index, lower_series, upper_series, color='k', alpha=.15)\n",
    "plt.title('Forecast vs Actuals')\n",
    "plt.legend(loc='upper left', fontsize=8)\n",
    "plt.show()"
   ]
  },
  {
   "cell_type": "code",
   "execution_count": null,
   "metadata": {},
   "outputs": [],
   "source": [
    "print(test)\n",
    "print(fc_series.round())"
   ]
  },
  {
   "cell_type": "code",
   "execution_count": null,
   "metadata": {},
   "outputs": [],
   "source": [
    "_accsum=0\n",
    "_acount=0\n",
    "for index, row in test.iterrows():\n",
    "    _act=row['QTY']\n",
    "    _prd=fc_series.round().loc[index]\n",
    "    if 1- abs((_prd - _act)/_act ) > 0 :\n",
    "        _accsum += (1- abs((_prd - _act)/_act ))\n",
    "    _acount += 1\n",
    "    \n",
    "#print(f'acc: {round(_accsum*100/test.shape[0],2)}')\n",
    "print(f'acc: {round(_accsum*100/_acount,2)}')"
   ]
  },
  {
   "cell_type": "markdown",
   "metadata": {},
   "source": [
    "# SARIMA"
   ]
  },
  {
   "cell_type": "markdown",
   "metadata": {},
   "source": [
    "# SARIMAX "
   ]
  }
 ],
 "metadata": {
  "kernelspec": {
   "name": "python3612jvsc74a57bd07fc4b534534e1d9ead86e0f90de9e6aae49af4ebc3a028d4206211b616369c38",
   "display_name": "Python 3.6.12 64-bit ('py36': conda)"
  },
  "language_info": {
   "codemirror_mode": {
    "name": "ipython",
    "version": 3
   },
   "file_extension": ".py",
   "mimetype": "text/x-python",
   "name": "python",
   "nbconvert_exporter": "python",
   "pygments_lexer": "ipython3",
   "version": "3.6.12"
  }
 },
 "nbformat": 4,
 "nbformat_minor": 4
}