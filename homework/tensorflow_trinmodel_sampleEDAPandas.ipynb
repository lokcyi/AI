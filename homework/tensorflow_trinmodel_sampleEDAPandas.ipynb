{
 "metadata": {
  "language_info": {
   "codemirror_mode": {
    "name": "ipython",
    "version": 3
   },
   "file_extension": ".py",
   "mimetype": "text/x-python",
   "name": "python",
   "nbconvert_exporter": "python",
   "pygments_lexer": "ipython3",
   "version": "3.7.9-final"
  },
  "orig_nbformat": 2,
  "kernelspec": {
   "name": "python3",
   "display_name": "Python 3.7.9 64-bit ('PY379': conda)",
   "metadata": {
    "interpreter": {
     "hash": "fd79c5f311e48de877911d8cf1d56e7b724990a605ba536e714d512526dbebf5"
    }
   }
  }
 },
 "nbformat": 4,
 "nbformat_minor": 2,
 "cells": [
  {
   "source": [
    "conda install -c conda-forge pandas-profiling"
   ],
   "cell_type": "markdown",
   "metadata": {}
  },
  {
   "cell_type": "code",
   "execution_count": 1,
   "metadata": {},
   "outputs": [],
   "source": [
    "\n",
    "import sys\n",
    "import pandas as pd \n",
    "from pandas_profiling import ProfileReport\n",
    "#import tensorflow as tf \n",
    "#import data_preparer\n",
    "\n",
    "# df = pd.read_csv('D:/projects/ai/poc/homework/training_data_20210128.csv')\n",
    "# df_test = pd.read_csv('D:/projects/ai/poc/homework/testing_data_20210128.csv')\n",
    "\n",
    "# print(df.columns)\n",
    "# print(test_df.columns)"
   ]
  },
  {
   "cell_type": "code",
   "execution_count": null,
   "metadata": {},
   "outputs": [],
   "source": []
  },
  {
   "cell_type": "code",
   "execution_count": 2,
   "metadata": {},
   "outputs": [],
   "source": [
    "df_train = pd.read_csv('D:/projects/ai/poc/homework/training_data_20210128.csv')\n",
    "# df=df.head(1000)\n",
    "#df = pd.read_excel(source_file_path)\n",
    "#df = pd.read_csv(source_file_path)\n",
    "# df_train = df_train.loc[df_train['LOT_TYPE']=='FDY']\n",
    "df_train = df_train.loc[df_train['LAYER']!='XX']\n",
    "df_train['CHIPNAME'] = df_train['CHIPNAME'].str.strip()\n",
    "        \n",
    "\n",
    "df_train['PRIORITY'] = df_train['PRIORITY'].astype(str)\n",
    "df_train['IS_MAIN_ROUTE'] = df_train['IS_MAIN_ROUTE'].astype(str)\n",
    "df_train['DATA_DATE'] = df_train['DATA_DATE'].astype(str)\n",
    "          \n",
    "df_train['DATA_DATE'] = pd.to_datetime(df_train['DATA_DATE'], infer_datetime_format=True)\n",
    "df_train['WS_DATE'] = pd.to_datetime(df_train['WS_DATE'], infer_datetime_format=True)\n",
    "df_train = df_train.assign(PROCESSED_DAYS = ((df_train['DATA_DATE'] -df_train['WS_DATE'])/pd.Timedelta(1, 'D')).fillna(0).astype('float64'))\n",
    "df_train['ACTUAL_WP_OUT'] =pd.to_datetime(df_train['ACTUAL_WP_OUT'], infer_datetime_format=True)\n",
    "df_train = df_train.assign(REMAIN_DAYS=((df_train['ACTUAL_WP_OUT']-df_train['DATA_DATE'])/pd.Timedelta(1, 'D')).fillna(0).astype('float64'))\n",
    "df_train = df_train.assign(CYCLE_TIME=((df_train['ACTUAL_WP_OUT']-df_train['WS_DATE'])/pd.Timedelta(1, 'D')).fillna(0).astype('float64'))\n"
   ]
  },
  {
   "cell_type": "code",
   "execution_count": 3,
   "metadata": {},
   "outputs": [],
   "source": [
    "def iqr(df, colname, bounds = [0, .75]):\n",
    "    s = df[colname]\n",
    "    q = s.quantile(bounds)\n",
    "    return df[~s.clip(*q).isin(q)]\n",
    "#df_train =iqr(df_train,'CYCLE_TIME')    "
   ]
  },
  {
   "cell_type": "code",
   "execution_count": 4,
   "metadata": {},
   "outputs": [],
   "source": [
    "df_test = pd.read_csv('D:/projects/ai/poc/homework/testing_data_20210128.csv')\n",
    "# df_test = df_test.loc[df_test['LOT_TYPE']=='FDY']\n",
    "df_test = df_test.loc[df_test['LAYER']!='XX']\n",
    "df_test['CHIPNAME'] = df_test['CHIPNAME'].str.strip()\n",
    "\n",
    "df_test['PRIORITY'] = df_test['PRIORITY'].astype(str)\n",
    "df_test['IS_MAIN_ROUTE'] = df_test['IS_MAIN_ROUTE'].astype(str)\n",
    "df_test['DATA_DATE'] = df_test['DATA_DATE'].astype(str) \n",
    "\n",
    "df_test['DATA_DATE'] = pd.to_datetime(df_test['DATA_DATE'], infer_datetime_format=True)\n",
    "\n",
    "df_test['WS_DATE'] = pd.to_datetime(df_test['WS_DATE'], infer_datetime_format=True)\n",
    "df_test = df_test.assign(PROCESSED_DAYS = ((df_test['DATA_DATE'] -df_test['WS_DATE'])/pd.Timedelta(1, 'D')).fillna(0).astype('float64'))\n",
    "df_test['ACTUAL_WP_OUT'] =pd.to_datetime(df_test['ACTUAL_WP_OUT'], infer_datetime_format=True)\n",
    "df_test = df_test.assign(REMAIN_DAYS=((df_test['ACTUAL_WP_OUT']-df_test['DATA_DATE'])/pd.Timedelta(1, 'D')).fillna(0).astype('float64'))\n",
    "df_test = df_test.assign(CYCLE_TIME=((df_test['ACTUAL_WP_OUT']-df_test['WS_DATE'])/pd.Timedelta(1, 'D')).fillna(0).astype('float64'))"
   ]
  },
  {
   "cell_type": "code",
   "execution_count": 5,
   "metadata": {},
   "outputs": [],
   "source": [
    "#df_test =iqr(df_test,'CYCLE_TIME')    "
   ]
  },
  {
   "cell_type": "code",
   "execution_count": 6,
   "metadata": {},
   "outputs": [
    {
     "output_type": "execute_result",
     "data": {
      "text/plain": [
       "Index(['DATA_DATE', 'IDX', 'LOT_ID', 'STATUS', 'CHIPNAME', 'LAYER',\n",
       "       'REMAIN_LAYER_SEQ', 'OP_NO', 'REMAIN_OP_SEQ', 'PRIORITY',\n",
       "       ...\n",
       "       'UM', 'UT', 'WL', 'WS', 'WT', 'ZL', 'ACTUAL_WP_OUT', 'PROCESSED_DAYS',\n",
       "       'REMAIN_DAYS', 'CYCLE_TIME'],\n",
       "      dtype='object', length=263)"
      ]
     },
     "metadata": {},
     "execution_count": 6
    }
   ],
   "source": [
    "df_train.columns"
   ]
  },
  {
   "cell_type": "code",
   "execution_count": 7,
   "metadata": {},
   "outputs": [
    {
     "output_type": "stream",
     "name": "stdout",
     "text": [
      "Index(['DATA_DATE', 'IDX', 'LOT_ID', 'STATUS', 'CHIPNAME', 'LAYER',\n       'REMAIN_LAYER_SEQ', 'OP_NO', 'REMAIN_OP_SEQ', 'PRIORITY', 'LOT_TYPE',\n       'WIP_QTY', 'WS_DATE', 'IS_MAIN_ROUTE', 'ACTUAL_WP_OUT',\n       'PROCESSED_DAYS', 'REMAIN_DAYS', 'CYCLE_TIME'],\n      dtype='object')\n"
     ]
    }
   ],
   "source": [
    " #df = df.drop(columns=['IDX','LOT_TYPE','WS_DATE','ACTUAL_WP_OUT','DATA_DATE','LAYER','LOT_ID'])\n",
    " df_train = df_train.drop(df_train.loc[:, '0E':'ZL'].columns, axis = 1) \n",
    "\n",
    " #df_test = df_test.drop(columns=['IDX','LOT_TYPE','WS_DATE','ACTUAL_WP_OUT','DATA_DATE','LAYER','LOT_ID'])\n",
    " df_test = df_test.drop(df_test.loc[:, '0E':'ZL'].columns, axis = 1) \n",
    "\n",
    "\n",
    "print(df_test.columns)         "
   ]
  },
  {
   "cell_type": "code",
   "execution_count": 8,
   "metadata": {},
   "outputs": [
    {
     "output_type": "stream",
     "name": "stdout",
     "text": [
      "(224907, 18)\n",
      "<class 'pandas.core.frame.DataFrame'>\n",
      "Int64Index: 224907 entries, 0 to 226722\n",
      "Data columns (total 18 columns):\n",
      " #   Column            Non-Null Count   Dtype         \n",
      "---  ------            --------------   -----         \n",
      " 0   DATA_DATE         224907 non-null  datetime64[ns]\n",
      " 1   IDX               224907 non-null  int64         \n",
      " 2   LOT_ID            224907 non-null  object        \n",
      " 3   STATUS            224907 non-null  object        \n",
      " 4   CHIPNAME          224907 non-null  object        \n",
      " 5   LAYER             224907 non-null  object        \n",
      " 6   REMAIN_LAYER_SEQ  224706 non-null  float64       \n",
      " 7   OP_NO             224907 non-null  object        \n",
      " 8   REMAIN_OP_SEQ     224636 non-null  float64       \n",
      " 9   PRIORITY          224907 non-null  object        \n",
      " 10  LOT_TYPE          224907 non-null  object        \n",
      " 11  WIP_QTY           224907 non-null  int64         \n",
      " 12  WS_DATE           224907 non-null  datetime64[ns]\n",
      " 13  IS_MAIN_ROUTE     224907 non-null  object        \n",
      " 14  ACTUAL_WP_OUT     224907 non-null  datetime64[ns]\n",
      " 15  PROCESSED_DAYS    224907 non-null  float64       \n",
      " 16  REMAIN_DAYS       224907 non-null  float64       \n",
      " 17  CYCLE_TIME        224907 non-null  float64       \n",
      "dtypes: datetime64[ns](3), float64(5), int64(2), object(8)\n",
      "memory usage: 32.6+ MB\n",
      "None\n",
      "(1005, 18)\n",
      "<class 'pandas.core.frame.DataFrame'>\n",
      "Int64Index: 1005 entries, 0 to 1014\n",
      "Data columns (total 18 columns):\n",
      " #   Column            Non-Null Count  Dtype         \n",
      "---  ------            --------------  -----         \n",
      " 0   DATA_DATE         1005 non-null   datetime64[ns]\n",
      " 1   IDX               1005 non-null   int64         \n",
      " 2   LOT_ID            1005 non-null   object        \n",
      " 3   STATUS            1005 non-null   object        \n",
      " 4   CHIPNAME          1005 non-null   object        \n",
      " 5   LAYER             1005 non-null   object        \n",
      " 6   REMAIN_LAYER_SEQ  1005 non-null   float64       \n",
      " 7   OP_NO             1005 non-null   object        \n",
      " 8   REMAIN_OP_SEQ     1005 non-null   float64       \n",
      " 9   PRIORITY          1005 non-null   object        \n",
      " 10  LOT_TYPE          1005 non-null   object        \n",
      " 11  WIP_QTY           1005 non-null   int64         \n",
      " 12  WS_DATE           1005 non-null   datetime64[ns]\n",
      " 13  IS_MAIN_ROUTE     1005 non-null   object        \n",
      " 14  ACTUAL_WP_OUT     1005 non-null   datetime64[ns]\n",
      " 15  PROCESSED_DAYS    1005 non-null   float64       \n",
      " 16  REMAIN_DAYS       1005 non-null   float64       \n",
      " 17  CYCLE_TIME        1005 non-null   float64       \n",
      "dtypes: datetime64[ns](3), float64(5), int64(2), object(8)\n",
      "memory usage: 149.2+ KB\n",
      "None\n"
     ]
    }
   ],
   "source": [
    "print(df_train.shape)\n",
    "print(df_train.info())\n",
    "\n",
    "print(df_test.shape)\n",
    "print(df_test.info())"
   ]
  },
  {
   "cell_type": "code",
   "execution_count": 9,
   "metadata": {},
   "outputs": [],
   "source": [
    "#Categorical Columns like  \n",
    "#Continuous Columns like  \n",
    "#Requirement : I need count of output date\n",
    "\n",
    "# print(pd.crosstab(train_df.out,columns='WIPDT',margins=True))\n",
    "# print(pd.crosstab(test_df.out,columns='WIPDT',margins=True))"
   ]
  },
  {
   "cell_type": "code",
   "execution_count": 10,
   "metadata": {},
   "outputs": [
    {
     "output_type": "execute_result",
     "data": {
      "text/plain": [
       "                 IDX  REMAIN_LAYER_SEQ  REMAIN_OP_SEQ        WIP_QTY  \\\n",
       "count  224907.000000     224706.000000  224636.000000  224907.000000   \n",
       "mean   240346.918469         13.632636     290.624646      22.650006   \n",
       "std    145960.363003          8.787749     174.939457       5.948238   \n",
       "min        73.000000          1.000000       0.000000       1.000000   \n",
       "25%    110996.500000          7.000000     146.000000      25.000000   \n",
       "50%    232569.000000         12.000000     278.000000      25.000000   \n",
       "75%    363074.500000         19.000000     425.000000      25.000000   \n",
       "max    511707.000000         51.000000    1013.000000      25.000000   \n",
       "\n",
       "       PROCESSED_DAYS    REMAIN_DAYS     CYCLE_TIME  \n",
       "count   224907.000000  224907.000000  224907.000000  \n",
       "mean        55.465060      34.262914      89.727974  \n",
       "std         49.549116      20.473583      45.294063  \n",
       "min          0.092361       0.004167       6.983333  \n",
       "25%         31.225694      16.772222      70.370833  \n",
       "50%         49.309722      33.696528      82.968750  \n",
       "75%         69.310069      50.536111      97.318750  \n",
       "max       1993.587500      85.218056    1994.570833  "
      ],
      "text/html": "<div>\n<style scoped>\n    .dataframe tbody tr th:only-of-type {\n        vertical-align: middle;\n    }\n\n    .dataframe tbody tr th {\n        vertical-align: top;\n    }\n\n    .dataframe thead th {\n        text-align: right;\n    }\n</style>\n<table border=\"1\" class=\"dataframe\">\n  <thead>\n    <tr style=\"text-align: right;\">\n      <th></th>\n      <th>IDX</th>\n      <th>REMAIN_LAYER_SEQ</th>\n      <th>REMAIN_OP_SEQ</th>\n      <th>WIP_QTY</th>\n      <th>PROCESSED_DAYS</th>\n      <th>REMAIN_DAYS</th>\n      <th>CYCLE_TIME</th>\n    </tr>\n  </thead>\n  <tbody>\n    <tr>\n      <th>count</th>\n      <td>224907.000000</td>\n      <td>224706.000000</td>\n      <td>224636.000000</td>\n      <td>224907.000000</td>\n      <td>224907.000000</td>\n      <td>224907.000000</td>\n      <td>224907.000000</td>\n    </tr>\n    <tr>\n      <th>mean</th>\n      <td>240346.918469</td>\n      <td>13.632636</td>\n      <td>290.624646</td>\n      <td>22.650006</td>\n      <td>55.465060</td>\n      <td>34.262914</td>\n      <td>89.727974</td>\n    </tr>\n    <tr>\n      <th>std</th>\n      <td>145960.363003</td>\n      <td>8.787749</td>\n      <td>174.939457</td>\n      <td>5.948238</td>\n      <td>49.549116</td>\n      <td>20.473583</td>\n      <td>45.294063</td>\n    </tr>\n    <tr>\n      <th>min</th>\n      <td>73.000000</td>\n      <td>1.000000</td>\n      <td>0.000000</td>\n      <td>1.000000</td>\n      <td>0.092361</td>\n      <td>0.004167</td>\n      <td>6.983333</td>\n    </tr>\n    <tr>\n      <th>25%</th>\n      <td>110996.500000</td>\n      <td>7.000000</td>\n      <td>146.000000</td>\n      <td>25.000000</td>\n      <td>31.225694</td>\n      <td>16.772222</td>\n      <td>70.370833</td>\n    </tr>\n    <tr>\n      <th>50%</th>\n      <td>232569.000000</td>\n      <td>12.000000</td>\n      <td>278.000000</td>\n      <td>25.000000</td>\n      <td>49.309722</td>\n      <td>33.696528</td>\n      <td>82.968750</td>\n    </tr>\n    <tr>\n      <th>75%</th>\n      <td>363074.500000</td>\n      <td>19.000000</td>\n      <td>425.000000</td>\n      <td>25.000000</td>\n      <td>69.310069</td>\n      <td>50.536111</td>\n      <td>97.318750</td>\n    </tr>\n    <tr>\n      <th>max</th>\n      <td>511707.000000</td>\n      <td>51.000000</td>\n      <td>1013.000000</td>\n      <td>25.000000</td>\n      <td>1993.587500</td>\n      <td>85.218056</td>\n      <td>1994.570833</td>\n    </tr>\n  </tbody>\n</table>\n</div>"
     },
     "metadata": {},
     "execution_count": 10
    }
   ],
   "source": [
    "#Requirement: All Numerical columns basic statistics.\n",
    "df_train.describe()"
   ]
  },
  {
   "cell_type": "code",
   "execution_count": 11,
   "metadata": {},
   "outputs": [
    {
     "output_type": "execute_result",
     "data": {
      "text/plain": [
       "                 IDX  REMAIN_LAYER_SEQ  REMAIN_OP_SEQ      WIP_QTY  \\\n",
       "count    1005.000000       1005.000000    1005.000000  1005.000000   \n",
       "mean   535860.655721          6.441791     152.621891    23.526368   \n",
       "std      1301.819519          4.036172     104.384624     4.984093   \n",
       "min    531147.000000          1.000000       2.000000     1.000000   \n",
       "25%    534855.000000          3.000000      58.000000    25.000000   \n",
       "50%    535973.000000          7.000000     148.000000    25.000000   \n",
       "75%    536844.000000          9.000000     238.000000    25.000000   \n",
       "max    539293.000000         32.000000     510.000000    25.000000   \n",
       "\n",
       "       PROCESSED_DAYS  REMAIN_DAYS   CYCLE_TIME  \n",
       "count     1005.000000  1005.000000  1005.000000  \n",
       "mean        59.385144    16.809771    76.194915  \n",
       "std         34.295574    11.372813    31.975142  \n",
       "min          8.211806     0.045833    39.134722  \n",
       "25%         42.188194     7.175000    61.643056  \n",
       "50%         53.270139    15.180556    67.936806  \n",
       "75%         69.302083    27.984028    80.071528  \n",
       "max        605.659028    36.232639   629.957639  "
      ],
      "text/html": "<div>\n<style scoped>\n    .dataframe tbody tr th:only-of-type {\n        vertical-align: middle;\n    }\n\n    .dataframe tbody tr th {\n        vertical-align: top;\n    }\n\n    .dataframe thead th {\n        text-align: right;\n    }\n</style>\n<table border=\"1\" class=\"dataframe\">\n  <thead>\n    <tr style=\"text-align: right;\">\n      <th></th>\n      <th>IDX</th>\n      <th>REMAIN_LAYER_SEQ</th>\n      <th>REMAIN_OP_SEQ</th>\n      <th>WIP_QTY</th>\n      <th>PROCESSED_DAYS</th>\n      <th>REMAIN_DAYS</th>\n      <th>CYCLE_TIME</th>\n    </tr>\n  </thead>\n  <tbody>\n    <tr>\n      <th>count</th>\n      <td>1005.000000</td>\n      <td>1005.000000</td>\n      <td>1005.000000</td>\n      <td>1005.000000</td>\n      <td>1005.000000</td>\n      <td>1005.000000</td>\n      <td>1005.000000</td>\n    </tr>\n    <tr>\n      <th>mean</th>\n      <td>535860.655721</td>\n      <td>6.441791</td>\n      <td>152.621891</td>\n      <td>23.526368</td>\n      <td>59.385144</td>\n      <td>16.809771</td>\n      <td>76.194915</td>\n    </tr>\n    <tr>\n      <th>std</th>\n      <td>1301.819519</td>\n      <td>4.036172</td>\n      <td>104.384624</td>\n      <td>4.984093</td>\n      <td>34.295574</td>\n      <td>11.372813</td>\n      <td>31.975142</td>\n    </tr>\n    <tr>\n      <th>min</th>\n      <td>531147.000000</td>\n      <td>1.000000</td>\n      <td>2.000000</td>\n      <td>1.000000</td>\n      <td>8.211806</td>\n      <td>0.045833</td>\n      <td>39.134722</td>\n    </tr>\n    <tr>\n      <th>25%</th>\n      <td>534855.000000</td>\n      <td>3.000000</td>\n      <td>58.000000</td>\n      <td>25.000000</td>\n      <td>42.188194</td>\n      <td>7.175000</td>\n      <td>61.643056</td>\n    </tr>\n    <tr>\n      <th>50%</th>\n      <td>535973.000000</td>\n      <td>7.000000</td>\n      <td>148.000000</td>\n      <td>25.000000</td>\n      <td>53.270139</td>\n      <td>15.180556</td>\n      <td>67.936806</td>\n    </tr>\n    <tr>\n      <th>75%</th>\n      <td>536844.000000</td>\n      <td>9.000000</td>\n      <td>238.000000</td>\n      <td>25.000000</td>\n      <td>69.302083</td>\n      <td>27.984028</td>\n      <td>80.071528</td>\n    </tr>\n    <tr>\n      <th>max</th>\n      <td>539293.000000</td>\n      <td>32.000000</td>\n      <td>510.000000</td>\n      <td>25.000000</td>\n      <td>605.659028</td>\n      <td>36.232639</td>\n      <td>629.957639</td>\n    </tr>\n  </tbody>\n</table>\n</div>"
     },
     "metadata": {},
     "execution_count": 11
    }
   ],
   "source": [
    "#Requirement: All Numerical columns basic statistics.\n",
    "df_test.describe()"
   ]
  },
  {
   "source": [
    "Pandas Profiling"
   ],
   "cell_type": "markdown",
   "metadata": {}
  },
  {
   "cell_type": "code",
   "execution_count": 15,
   "metadata": {},
   "outputs": [
    {
     "output_type": "error",
     "ename": "TypeError",
     "evalue": "to_file() got an unexpected keyword argument 'outputfile'",
     "traceback": [
      "\u001b[1;31m---------------------------------------------------------------------------\u001b[0m",
      "\u001b[1;31mTypeError\u001b[0m                                 Traceback (most recent call last)",
      "\u001b[1;32m<ipython-input-15-d53174cab5f7>\u001b[0m in \u001b[0;36m<module>\u001b[1;34m\u001b[0m\n\u001b[0;32m      1\u001b[0m \u001b[0mprofile\u001b[0m \u001b[1;33m=\u001b[0m \u001b[0mProfileReport\u001b[0m\u001b[1;33m(\u001b[0m\u001b[0mdf_train\u001b[0m\u001b[1;33m,\u001b[0m \u001b[0mtitle\u001b[0m\u001b[1;33m=\u001b[0m\u001b[1;34m'MPG Pandas Profiling Report'\u001b[0m\u001b[1;33m,\u001b[0m \u001b[0mexplorative\u001b[0m \u001b[1;33m=\u001b[0m \u001b[1;32mTrue\u001b[0m\u001b[1;33m)\u001b[0m\u001b[1;33m\u001b[0m\u001b[1;33m\u001b[0m\u001b[0m\n\u001b[0;32m      2\u001b[0m \u001b[1;31m#profile.to_html()  #支援輸出html\u001b[0m\u001b[1;33m\u001b[0m\u001b[1;33m\u001b[0m\u001b[1;33m\u001b[0m\u001b[0m\n\u001b[1;32m----> 3\u001b[1;33m \u001b[0mprofile\u001b[0m\u001b[1;33m.\u001b[0m\u001b[0mto_file\u001b[0m\u001b[1;33m(\u001b[0m\u001b[0moutputfile\u001b[0m\u001b[1;33m=\u001b[0m\u001b[1;34m\"output.html\"\u001b[0m\u001b[1;33m)\u001b[0m  \u001b[1;31m#支援輸出html\u001b[0m\u001b[1;33m\u001b[0m\u001b[1;33m\u001b[0m\u001b[0m\n\u001b[0m",
      "\u001b[1;31mTypeError\u001b[0m: to_file() got an unexpected keyword argument 'outputfile'"
     ]
    }
   ],
   "source": [
    "profile = ProfileReport(df_train, title='MPG Pandas Profiling Report', explorative = True)\n",
    "#profile.to_html()  #支援輸出html\n",
    "profile.to_file(\"output.html\")  #支援輸出html"
   ]
  },
  {
   "cell_type": "code",
   "execution_count": 12,
   "metadata": {},
   "outputs": [],
   "source": [
    " "
   ]
  }
 ]
}