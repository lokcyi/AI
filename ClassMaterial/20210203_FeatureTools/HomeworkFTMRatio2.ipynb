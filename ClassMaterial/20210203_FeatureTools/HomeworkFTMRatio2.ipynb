{
 "metadata": {
  "language_info": {
   "codemirror_mode": {
    "name": "ipython",
    "version": 3
   },
   "file_extension": ".py",
   "mimetype": "text/x-python",
   "name": "python",
   "nbconvert_exporter": "python",
   "pygments_lexer": "ipython3",
   "version": "3.7.9-final"
  },
  "orig_nbformat": 2,
  "kernelspec": {
   "name": "python3",
   "display_name": "Python 3",
   "language": "python"
  }
 },
 "nbformat": 4,
 "nbformat_minor": 2,
 "cells": [
  {
   "cell_type": "code",
   "execution_count": 384,
   "metadata": {},
   "outputs": [],
   "source": [
    "\n",
    "import sys\n",
    "import pandas as pd \n",
    "import tensorflow as tf \n",
    "# featuretools for automated feature engineering\n",
    "import featuretools as ft\n",
    "import featuretools.variable_types as vtypes\n",
    " "
   ]
  },
  {
   "cell_type": "code",
   "execution_count": 385,
   "metadata": {},
   "outputs": [],
   "source": [
    "df_Product_org = pd.read_csv('./data/P4.csv')\n",
    "df_Tool_org = pd.read_csv('./data/M4.csv')"
   ]
  },
  {
   "cell_type": "code",
   "execution_count": 386,
   "metadata": {},
   "outputs": [],
   "source": [
    "df_Product = df_Product_org.copy(deep=False)\n",
    "df_Tool = df_Tool_org.copy(deep=False)"
   ]
  },
  {
   "cell_type": "code",
   "execution_count": 389,
   "metadata": {},
   "outputs": [],
   "source": [
    "df_Product['PPkey'] = df_Product['MFG_DATE'].astype(str)+'_' +df_Product['TOOLG_ID'] +'_' +df_Product['PROD_ID'] \n",
    "df_Product['PRkey'] = df_Product['MFG_DATE'].astype(str)+'_' +df_Product['TOOLG_ID'] \n",
    "df_Tool['TRkey'] = df_Tool['MFG_DATE'].astype(str)+'_' +df_Tool['TOOLG_ID'] \n",
    " \n",
    "df_Product['dtMFG_DATE'] = df_Product['MFG_DATE'].apply(lambda x: pd.to_datetime(str(x), format='%Y%m%d'))\n",
    "df_Tool['dtMFG_DATE'] = df_Tool['MFG_DATE'].apply(lambda x: pd.to_datetime(str(x), format='%Y%m%d'))\n"
   ]
  },
  {
   "cell_type": "code",
   "execution_count": 388,
   "metadata": {},
   "outputs": [
    {
     "output_type": "execute_result",
     "data": {
      "text/plain": [
       "         PROD_ID    MOVE_P  MFG_DATE   TOOLG_ID  ProdWIP  ProdHoldWIP  \\\n",
       "0       D38BR01A  3.216123  20200126     PW_PIX      0.0          0.0   \n",
       "1       D38CL01A  3.216123  20200126     PW_PIX     25.0         25.0   \n",
       "2       D45AL03A  1.072041  20200126     PW_PIX      0.0          0.0   \n",
       "3       F40AL02B  1.072041  20200126     PW_PIX     25.0          0.0   \n",
       "4        25D_M81  3.428180  20200128     PW_PIX      0.0          0.0   \n",
       "...          ...       ...       ...        ...      ...          ...   \n",
       "166555  L11GD12A  1.519893  20200303  PK_DUVKrF    172.0          0.0   \n",
       "166556  L11GE16A  0.339215  20200303  PK_DUVKrF     50.0          0.0   \n",
       "166557  L11GE39A  2.687423  20200303  PK_DUVKrF    298.0        150.0   \n",
       "166558  L13DY47A  0.015777  20200303  PK_DUVKrF      6.0          2.0   \n",
       "166559  L15GE03A  0.021037  20200303  PK_DUVKrF      5.0          4.0   \n",
       "\n",
       "        ProdMove               PRkey dtMFG_DATE  \n",
       "0         7500.0     20200126_PW_PIX 2020-01-26  \n",
       "1         7500.0     20200126_PW_PIX 2020-01-26  \n",
       "2         2500.0     20200126_PW_PIX 2020-01-26  \n",
       "3         2500.0     20200126_PW_PIX 2020-01-26  \n",
       "4        10000.0     20200128_PW_PIX 2020-01-28  \n",
       "...          ...                 ...        ...  \n",
       "166555   57800.0  20200303_PK_DUVKrF 2020-03-03  \n",
       "166556   12900.0  20200303_PK_DUVKrF 2020-03-03  \n",
       "166557  102200.0  20200303_PK_DUVKrF 2020-03-03  \n",
       "166558     600.0  20200303_PK_DUVKrF 2020-03-03  \n",
       "166559     800.0  20200303_PK_DUVKrF 2020-03-03  \n",
       "\n",
       "[166560 rows x 9 columns]"
      ],
      "text/html": "<div>\n<style scoped>\n    .dataframe tbody tr th:only-of-type {\n        vertical-align: middle;\n    }\n\n    .dataframe tbody tr th {\n        vertical-align: top;\n    }\n\n    .dataframe thead th {\n        text-align: right;\n    }\n</style>\n<table border=\"1\" class=\"dataframe\">\n  <thead>\n    <tr style=\"text-align: right;\">\n      <th></th>\n      <th>PROD_ID</th>\n      <th>MOVE_P</th>\n      <th>MFG_DATE</th>\n      <th>TOOLG_ID</th>\n      <th>ProdWIP</th>\n      <th>ProdHoldWIP</th>\n      <th>ProdMove</th>\n      <th>PRkey</th>\n      <th>dtMFG_DATE</th>\n    </tr>\n  </thead>\n  <tbody>\n    <tr>\n      <th>0</th>\n      <td>D38BR01A</td>\n      <td>3.216123</td>\n      <td>20200126</td>\n      <td>PW_PIX</td>\n      <td>0.0</td>\n      <td>0.0</td>\n      <td>7500.0</td>\n      <td>20200126_PW_PIX</td>\n      <td>2020-01-26</td>\n    </tr>\n    <tr>\n      <th>1</th>\n      <td>D38CL01A</td>\n      <td>3.216123</td>\n      <td>20200126</td>\n      <td>PW_PIX</td>\n      <td>25.0</td>\n      <td>25.0</td>\n      <td>7500.0</td>\n      <td>20200126_PW_PIX</td>\n      <td>2020-01-26</td>\n    </tr>\n    <tr>\n      <th>2</th>\n      <td>D45AL03A</td>\n      <td>1.072041</td>\n      <td>20200126</td>\n      <td>PW_PIX</td>\n      <td>0.0</td>\n      <td>0.0</td>\n      <td>2500.0</td>\n      <td>20200126_PW_PIX</td>\n      <td>2020-01-26</td>\n    </tr>\n    <tr>\n      <th>3</th>\n      <td>F40AL02B</td>\n      <td>1.072041</td>\n      <td>20200126</td>\n      <td>PW_PIX</td>\n      <td>25.0</td>\n      <td>0.0</td>\n      <td>2500.0</td>\n      <td>20200126_PW_PIX</td>\n      <td>2020-01-26</td>\n    </tr>\n    <tr>\n      <th>4</th>\n      <td>25D_M81</td>\n      <td>3.428180</td>\n      <td>20200128</td>\n      <td>PW_PIX</td>\n      <td>0.0</td>\n      <td>0.0</td>\n      <td>10000.0</td>\n      <td>20200128_PW_PIX</td>\n      <td>2020-01-28</td>\n    </tr>\n    <tr>\n      <th>...</th>\n      <td>...</td>\n      <td>...</td>\n      <td>...</td>\n      <td>...</td>\n      <td>...</td>\n      <td>...</td>\n      <td>...</td>\n      <td>...</td>\n      <td>...</td>\n    </tr>\n    <tr>\n      <th>166555</th>\n      <td>L11GD12A</td>\n      <td>1.519893</td>\n      <td>20200303</td>\n      <td>PK_DUVKrF</td>\n      <td>172.0</td>\n      <td>0.0</td>\n      <td>57800.0</td>\n      <td>20200303_PK_DUVKrF</td>\n      <td>2020-03-03</td>\n    </tr>\n    <tr>\n      <th>166556</th>\n      <td>L11GE16A</td>\n      <td>0.339215</td>\n      <td>20200303</td>\n      <td>PK_DUVKrF</td>\n      <td>50.0</td>\n      <td>0.0</td>\n      <td>12900.0</td>\n      <td>20200303_PK_DUVKrF</td>\n      <td>2020-03-03</td>\n    </tr>\n    <tr>\n      <th>166557</th>\n      <td>L11GE39A</td>\n      <td>2.687423</td>\n      <td>20200303</td>\n      <td>PK_DUVKrF</td>\n      <td>298.0</td>\n      <td>150.0</td>\n      <td>102200.0</td>\n      <td>20200303_PK_DUVKrF</td>\n      <td>2020-03-03</td>\n    </tr>\n    <tr>\n      <th>166558</th>\n      <td>L13DY47A</td>\n      <td>0.015777</td>\n      <td>20200303</td>\n      <td>PK_DUVKrF</td>\n      <td>6.0</td>\n      <td>2.0</td>\n      <td>600.0</td>\n      <td>20200303_PK_DUVKrF</td>\n      <td>2020-03-03</td>\n    </tr>\n    <tr>\n      <th>166559</th>\n      <td>L15GE03A</td>\n      <td>0.021037</td>\n      <td>20200303</td>\n      <td>PK_DUVKrF</td>\n      <td>5.0</td>\n      <td>4.0</td>\n      <td>800.0</td>\n      <td>20200303_PK_DUVKrF</td>\n      <td>2020-03-03</td>\n    </tr>\n  </tbody>\n</table>\n<p>166560 rows × 9 columns</p>\n</div>"
     },
     "metadata": {},
     "execution_count": 388
    }
   ],
   "source": [
    "# es = ft.EntitySet(id = 'MRATIO')\n",
    "df_Product"
   ]
  },
  {
   "cell_type": "code",
   "execution_count": 392,
   "metadata": {},
   "outputs": [],
   "source": [
    "# 創建一個空的實體集\n",
    " \n",
    "es = ft.EntitySet(id = 'MRATIO')\n",
    "#Entityset 把多個實體Entity進行合併\n",
    "# Product\n",
    "es = es.entity_from_dataframe(entity_id = 'Product',\n",
    "             dataframe = df_Product,  \n",
    "            #  variable_types={'MFG_DATE': ft.variable_types.Categorical},\n",
    "            make_index = False, \n",
    "            # index=\"ID\",\n",
    "            # index = 'PRkey',\n",
    "            index ='PPkey',\n",
    "            time_index = 'dtMFG_DATE',\n",
    "            variable_types={'MFG_DATE':vtypes.Categorical},\n",
    "\n",
    "             )\n",
    "# Tool\n",
    "es = es.entity_from_dataframe(entity_id = 'Machine',\n",
    "             dataframe = df_Tool,  \n",
    "            #  variable_types={'MFG_DATE': ft.variable_types.Categorical},\n",
    "            # make_index = True, \n",
    "            # index=\"ID\",\n",
    "            index = 'TRkey', \n",
    "            time_index = 'dtMFG_DATE',\n",
    "            variable_types={'MFG_DATE':vtypes.Categorical},\n",
    "            )   \n",
    "\n",
    "\n",
    "\n"
   ]
  },
  {
   "cell_type": "code",
   "execution_count": 393,
   "metadata": {},
   "outputs": [
    {
     "output_type": "stream",
     "name": "stdout",
     "text": [
      "[<Variable: PPkey (dtype = index)>, <Variable: PROD_ID (dtype = categorical)>, <Variable: MOVE_P (dtype = numeric)>, <Variable: TOOLG_ID (dtype = categorical)>, <Variable: ProdWIP (dtype = numeric)>, <Variable: ProdHoldWIP (dtype = numeric)>, <Variable: ProdMove (dtype = numeric)>, <Variable: PRkey (dtype = categorical)>, <Variable: dtMFG_DATE (dtype: datetime_time_index, format: None)>, <Variable: MFG_DATE (dtype = categorical)>]\n[<Variable: TRkey (dtype = index)>, <Variable: TOOLG_ID (dtype = categorical)>, <Variable: IS_HOLIDAY (dtype = numeric)>, <Variable: M_NUM (dtype = numeric)>, <Variable: UP_TIME (dtype = numeric)>, <Variable: C_UP_TIME (dtype = numeric)>, <Variable: LOT_SIZE (dtype = numeric)>, <Variable: C_LOT_SIZE (dtype = numeric)>, <Variable: EQP_UTIL (dtype = numeric)>, <Variable: C_EQP_UTIL (dtype = numeric)>, <Variable: EQP_AVAIL_RATE (dtype = numeric)>, <Variable: TC (dtype = numeric)>, <Variable: PROCESS_TIME (dtype = numeric)>, <Variable: PROCESS_JOBTIME (dtype = numeric)>, <Variable: INLINE_CT_BY_LOT (dtype = numeric)>, <Variable: INLINE_CT_BY_WAFER (dtype = numeric)>, <Variable: WIP_QTY (dtype = numeric)>, <Variable: NO_HOLD_QTY (dtype = numeric)>, <Variable: MOVE_QTY (dtype = numeric)>, <Variable: ARRIVAL_WIP_QTY (dtype = numeric)>, <Variable: RUN_WIP (dtype = numeric)>, <Variable: RUN_WIP_RATIO (dtype = numeric)>, <Variable: CLOSE_WIP_QTY (dtype = numeric)>, <Variable: MANAGEMENT_WIP_QTY (dtype = numeric)>, <Variable: C_TC (dtype = numeric)>, <Variable: C_CLOSE_WIP (dtype = numeric)>, <Variable: C_TOOLG_LOADING (dtype = numeric)>, <Variable: C_TOOL_LOADING (dtype = numeric)>, <Variable: DISPATCHING (dtype = numeric)>, <Variable: HOLD_RATE (dtype = numeric)>, <Variable: ENG_LOT_RATE (dtype = numeric)>, <Variable: HOT_LOT_RATE (dtype = numeric)>, <Variable: BACKUP_BY_RATE (dtype = numeric)>, <Variable: BACKUP_FOR_RATE (dtype = numeric)>, <Variable: REWORK_LOT_RATE (dtype = numeric)>, <Variable: QUE_LOT_RATE (dtype = numeric)>, <Variable: SAMPLING_RATE (dtype = numeric)>, <Variable: NUM_RECIPE (dtype = numeric)>, <Variable: CHANGE_RECIPE (dtype = numeric)>, <Variable: BATCH_SIZE (dtype = numeric)>, <Variable: dtMFG_DATE (dtype: datetime_time_index, format: None)>, <Variable: MFG_DATE (dtype = categorical)>]\n"
     ]
    }
   ],
   "source": [
    "print(es[\"Product\"].variables)\n",
    "print(es[\"Machine\"].variables)"
   ]
  },
  {
   "cell_type": "code",
   "execution_count": null,
   "metadata": {},
   "outputs": [],
   "source": [
    "# from featuretools.variable_types import list_variable_types\n",
    "# list_variable_types()\n",
    "# from featuretools.variable_types import graph_variable_types\n",
    "# graph_variable_types()"
   ]
  },
  {
   "cell_type": "code",
   "execution_count": 394,
   "metadata": {},
   "outputs": [],
   "source": [
    "r= ft.Relationship(es['Machine']['TRkey'],es['Product']['PRkey'])\n",
    "es = es.add_relationship(r)"
   ]
  },
  {
   "cell_type": "code",
   "execution_count": null,
   "metadata": {},
   "outputs": [],
   "source": [
    "# default_agg_primitives =  [\"sum\", \"std\", \"max\", \"skew\", \"min\", \"mean\", \"count\", \"percent_true\", \"num_unique\", \"mode\"]\n",
    "# default_trans_primitives =  [\"day\", \"year\", \"month\", \"weekday\",\"num_words\",\"haversine\",\"num_characters\"]\n"
   ]
  },
  {
   "cell_type": "code",
   "execution_count": null,
   "metadata": {},
   "outputs": [],
   "source": [
    "# target 為Product 沒有意義\n",
    "# default_agg_primitives=[\"std\"]\n",
    "# default_trans_primietives = []\n",
    "\n",
    "# feature_matrix,feature_names= ft.dfs( entityset = es,\n",
    "#                 target_entity='Product',\n",
    "#                 trans_primitives = default_trans_primietives,\n",
    "#                 agg_primitives=default_agg_primitives,\n",
    "#                 primitive_options={ \n",
    "#                     #'std': {'ignore_entities': ['cohorts', 'log']}, \n",
    "#                     'std': {'include_variables': \n",
    "#                                 {'Product': ['ProdMove', 'MOVE_P'],\n",
    "#                                 'Machine': ['M_NUM'],\n",
    "#                                 }},\n",
    "\n",
    "#                 },\n",
    "\n",
    "#             max_depth=2,\n",
    "#             features_only=False,verbose=True) "
   ]
  },
  {
   "cell_type": "code",
   "execution_count": 395,
   "metadata": {},
   "outputs": [
    {
     "output_type": "stream",
     "name": "stdout",
     "text": [
      "Built 43 features\n",
      "Elapsed: 00:00 | Progress: 100%|██████████\n"
     ]
    }
   ],
   "source": [
    "# Default primitives from featuretools\n",
    "#default_agg_primitives =  [\"sum\", \"std\", \"max\", \"skew\", \"min\", \"mean\", \"count\", \"percent_true\", \"num_unique\", \"mode\"]\n",
    "# default_trans_primitives =  [\"day\", \"year\", \"month\", \"weekday\", \"haversine\",   \"characters\"]\n",
    "#default_trans_primitives =  [\"day\", \"year\", \"month\", \"weekday\"]\n",
    "\n",
    "default_trans_primitives = [\"weekday\"]\n",
    "default_agg_primitives=[\"std\"]\n",
    "feature_matrix2,feature_names2= ft.dfs( entityset = es,\n",
    "                target_entity='Machine',\n",
    "                trans_primitives = default_trans_primitives, #對母表 單一筆資料去處理\n",
    "                agg_primitives=default_agg_primitives, #對 子表做分析\n",
    "                primitive_options={ \n",
    "                    #'std': {'ignore_entities': ['cohorts', 'log']}, \n",
    "                    'std': {'include_variables': \n",
    "                                {'Product': ['ProdMove', 'MOVE_P'],#子表(1:N的表去計算)\n",
    "                                'Machine': ['M_NUM'], ## 沒有用因為 要針對子表(1:N的表去計算) \n",
    "                                }},\n",
    "                },\n",
    "            max_depth=2,\n",
    "            features_only=False,verbose=True) "
   ]
  },
  {
   "cell_type": "code",
   "execution_count": null,
   "metadata": {},
   "outputs": [],
   "source": [
    " "
   ]
  },
  {
   "cell_type": "code",
   "execution_count": 397,
   "metadata": {},
   "outputs": [
    {
     "output_type": "stream",
     "name": "stdout",
     "text": [
      "                  MFG_DATE  WEEKDAY(dtMFG_DATE) TOOLG_ID  STD(Product.MOVE_P)  \\\nTRkey                                                                           \n20200122_MA_Alps  20200122                    2  MA_Alps             7.968777   \n\n                  STD(Product.ProdMove)  \nTRkey                                    \n20200122_MA_Alps            5952.676623  \nMOVE_P                7.968777\nMFG_DATE                   0.0\nProdWIP               6.933752\nProdHoldWIP                0.0\nProdMove           5952.676623\ndtMFG_DATE     0 days 00:00:00\ndtype: object\n"
     ]
    }
   ],
   "source": [
    "#驗證資料\n",
    "print(feature_matrix2[['MFG_DATE','WEEKDAY(dtMFG_DATE)','TOOLG_ID','STD(Product.MOVE_P)','STD(Product.ProdMove)']].head(1))\n",
    "print(df_Product[df_Product['PRkey']=='20200122_MA_Alps'].std())\n",
    " \n",
    "# df_Product[(df_Product.PROD_ID=='4GDDR4_25A') & (df_Product.MFG_DATE==20200122)].std()"
   ]
  },
  {
   "cell_type": "code",
   "execution_count": null,
   "metadata": {},
   "outputs": [],
   "source": [
    "#feature_matrix2"
   ]
  },
  {
   "cell_type": "code",
   "execution_count": 404,
   "metadata": {},
   "outputs": [],
   "source": [
    "# # Feature Selection\n",
    "\n",
    "# # Threshold for removing correlated variables\n",
    "# threshold = 0.95\n",
    "\n",
    "# # Absolute value correlation matrix\n",
    "# corr_matrix = feature_names2.corr().abs()\n",
    "# upper = corr_matrix.where(np.triu(np.ones(corr_matrix.shape), k=1).astype(np.bool))\n",
    "# upper.head(50)"
   ]
  },
  {
   "cell_type": "code",
   "execution_count": 402,
   "metadata": {},
   "outputs": [
    {
     "output_type": "stream",
     "name": "stdout",
     "text": [
      "features (1647, 43)\n",
      "被刪除的欄位 remove_low_information_features (1647, 43)\n",
      "Removed 6 features from training features\n",
      "{'BATCH_SIZE', 'C_TOOLG_LOADING', 'SAMPLING_RATE', 'MANAGEMENT_WIP_QTY', 'DISPATCHING', 'C_TOOL_LOADING'}\n",
      "被刪除的欄位 remove_highly_null_features (1647, 37)\n",
      "Removed 6 features from training features\n",
      "{'BATCH_SIZE', 'C_TOOLG_LOADING', 'SAMPLING_RATE', 'MANAGEMENT_WIP_QTY', 'DISPATCHING', 'C_TOOL_LOADING'}\n",
      "被刪除的欄位 remove_single_value_features (1647, 37)\n",
      "Removed 6 features from training features\n",
      "{'BATCH_SIZE', 'C_TOOLG_LOADING', 'SAMPLING_RATE', 'MANAGEMENT_WIP_QTY', 'DISPATCHING', 'C_TOOL_LOADING'}\n",
      "被刪除的欄位 remove_highly_correlated_features (1647, 29)\n",
      "Removed 14 features from training features\n",
      "{'C_LOT_SIZE', 'BATCH_SIZE', 'C_TOOLG_LOADING', 'RUN_WIP', 'INLINE_CT_BY_WAFER', 'SAMPLING_RATE', 'ARRIVAL_WIP_QTY', 'MANAGEMENT_WIP_QTY', 'DISPATCHING', 'NO_HOLD_QTY', 'C_TOOL_LOADING', 'STD(Product.ProdMove)', 'CLOSE_WIP_QTY', 'NUM_RECIPE'}\n"
     ]
    }
   ],
   "source": [
    "\n",
    "#select features that have at least 2 unique values and that are not all null\n",
    "#(feature_matrix, features=None):\n",
    "from featuretools.selection import remove_low_information_features  ## 移除较小信息的特征\n",
    "\n",
    "#Removes columns from a feature matrix that have higher than a set threshold of null values.\n",
    "#(feature_matrix, features=None, pct_null_threshold=0.95):\n",
    "from featuretools.selection import remove_highly_null_features\n",
    "\n",
    "#Removes columns in feature matrix where all the values are the same.\n",
    "#(feature_matrix, features=None, count_nan_as_value=False):\n",
    "from featuretools.selection import remove_single_value_features\n",
    "\n",
    "#Removes columns in feature matrix that are highly correlated with another column.\n",
    "#(feature_matrix, features=None, pct_corr_threshold=0.95,features_to_check=None, features_to_keep=None):\n",
    "from featuretools.selection import remove_highly_correlated_features \n",
    "feature_matrix = feature_matrix2\n",
    "features_list =feature_names2\n",
    "\n",
    "\n",
    "print('features',feature_matrix.shape)\n",
    "features1, feature_names1 = remove_low_information_features(feature_matrix, features_list)\n",
    "print('被刪除的欄位 remove_low_information_features',feature_matrix.shape)\n",
    "print('Removed %d features from training features' % (feature_matrix.shape[1] - features1.shape[1])) \n",
    "print(set(feature_matrix) - set(features1))\n",
    "\n",
    "features1, feature_names1 = remove_highly_null_features(features1, feature_names1,0.95)\n",
    "print('被刪除的欄位 remove_highly_null_features',features1.shape)\n",
    "print('Removed %d features from training features' % (feature_matrix.shape[1] - features1.shape[1])) \n",
    "print(set(feature_matrix) - set(features1))\n",
    "\n",
    "features1, feature_names1 = remove_single_value_features(features1, feature_names1)\n",
    "print('被刪除的欄位 remove_single_value_features',features1.shape)\n",
    "print('Removed %d features from training features' % (feature_matrix.shape[1] - features1.shape[1])) \n",
    "print(set(feature_matrix) - set(features1))\n",
    "\n",
    "features1, feature_names1 = remove_highly_correlated_features(features1, feature_names1,0.95)\n",
    "print('被刪除的欄位 remove_highly_correlated_features',features1.shape)\n",
    "print('Removed %d features from training features' % (feature_matrix.shape[1] - features1.shape[1])) \n",
    "print(set(feature_matrix) - set(features1))"
   ]
  },
  {
   "cell_type": "code",
   "execution_count": 405,
   "metadata": {},
   "outputs": [
    {
     "output_type": "execute_result",
     "data": {
      "text/plain": [
       "Index(['TOOLG_ID', 'IS_HOLIDAY', 'M_NUM', 'UP_TIME', 'C_UP_TIME', 'LOT_SIZE',\n",
       "       'C_LOT_SIZE', 'EQP_UTIL', 'C_EQP_UTIL', 'EQP_AVAIL_RATE', 'TC',\n",
       "       'PROCESS_TIME', 'PROCESS_JOBTIME', 'INLINE_CT_BY_LOT',\n",
       "       'INLINE_CT_BY_WAFER', 'WIP_QTY', 'NO_HOLD_QTY', 'MOVE_QTY',\n",
       "       'ARRIVAL_WIP_QTY', 'RUN_WIP', 'RUN_WIP_RATIO', 'CLOSE_WIP_QTY',\n",
       "       'MANAGEMENT_WIP_QTY', 'C_TC', 'C_CLOSE_WIP', 'C_TOOLG_LOADING',\n",
       "       'C_TOOL_LOADING', 'DISPATCHING', 'HOLD_RATE', 'ENG_LOT_RATE',\n",
       "       'HOT_LOT_RATE', 'BACKUP_BY_RATE', 'BACKUP_FOR_RATE', 'REWORK_LOT_RATE',\n",
       "       'QUE_LOT_RATE', 'SAMPLING_RATE', 'NUM_RECIPE', 'CHANGE_RECIPE',\n",
       "       'BATCH_SIZE', 'MFG_DATE', 'STD(Product.MOVE_P)',\n",
       "       'STD(Product.ProdMove)', 'WEEKDAY(dtMFG_DATE)'],\n",
       "      dtype='object')"
      ]
     },
     "metadata": {},
     "execution_count": 405
    }
   ],
   "source": [
    "feature_matrix.columns"
   ]
  },
  {
   "cell_type": "code",
   "execution_count": 403,
   "metadata": {},
   "outputs": [
    {
     "output_type": "execute_result",
     "data": {
      "text/plain": [
       "                     TOOLG_ID  IS_HOLIDAY  M_NUM   UP_TIME  C_UP_TIME  \\\n",
       "TRkey                                                                   \n",
       "20200122_MA_Alps      MA_Alps      0.9499    4.0  0.619437   0.206197   \n",
       "20200122_PK_DUVKrF  PK_DUVKrF      0.9499   30.0  0.978936   0.130694   \n",
       "20200122_PW_PIX        PW_PIX      0.9499    3.0  1.000000   0.126728   \n",
       "20200122_XE_Sorter  XE_Sorter      0.9499   15.0  0.971326   0.125776   \n",
       "20200123_MA_Alps      MA_Alps      1.0000    4.0  0.758362   0.161453   \n",
       "...                       ...         ...    ...       ...        ...   \n",
       "20210307_XE_Sorter  XE_Sorter      1.0000   16.0  0.994306   0.127505   \n",
       "20210308_MA_Alps      MA_Alps      0.9499    6.0  0.959960   0.132039   \n",
       "20210308_PK_DUVKrF  PK_DUVKrF      0.9499   32.0  0.976119   0.129871   \n",
       "20210308_PW_PIX        PW_PIX      0.9499    3.0  0.867239   0.146173   \n",
       "20210308_XE_Sorter  XE_Sorter      0.9499   16.0  0.998937   0.126886   \n",
       "\n",
       "                     LOT_SIZE  C_LOT_SIZE  EQP_UTIL  C_EQP_UTIL  \\\n",
       "TRkey                                                             \n",
       "20200122_MA_Alps    24.096774    0.196026  0.660880    0.504139   \n",
       "20200122_PK_DUVKrF  21.543705    0.220839  0.960454    0.346952   \n",
       "20200122_PW_PIX     21.944444    0.214632  0.656590    0.504476   \n",
       "20200122_XE_Sorter  22.515499    0.202504  0.668134    0.495682   \n",
       "20200123_MA_Alps    23.275862    0.187678  0.452553    0.732736   \n",
       "...                       ...         ...       ...         ...   \n",
       "20210307_XE_Sorter  22.847264    0.186647  0.634794    0.517918   \n",
       "20210308_MA_Alps    20.035714    0.212846  0.620041    0.530249   \n",
       "20210308_PK_DUVKrF  22.090909    0.193052  0.984803    0.333859   \n",
       "20210308_PW_PIX     19.347826    0.220420  0.451044    0.728935   \n",
       "20210308_XE_Sorter  23.136236    0.184317  0.672502    0.488887   \n",
       "\n",
       "                    EQP_AVAIL_RATE  ...  REWORK_LOT_RATE  QUE_LOT_RATE  \\\n",
       "TRkey                               ...                                  \n",
       "20200122_MA_Alps          0.498691  ...         0.000000      0.609103   \n",
       "20200122_PK_DUVKrF        0.063863  ...         0.027075      0.294861   \n",
       "20200122_PW_PIX           0.587963  ...         0.008228      0.063291   \n",
       "20200122_XE_Sorter        0.863297  ...         0.020381      0.145393   \n",
       "20200123_MA_Alps          0.685629  ...         0.000000      0.776296   \n",
       "...                            ...  ...              ...           ...   \n",
       "20210307_XE_Sorter        0.907057  ...         0.012771      0.250008   \n",
       "20210308_MA_Alps          0.462821  ...         0.085561      0.677362   \n",
       "20210308_PK_DUVKrF        0.067614  ...         0.024113      0.475008   \n",
       "20210308_PW_PIX           0.478261  ...         0.016854      0.280899   \n",
       "20210308_XE_Sorter        0.871094  ...         0.013932      0.253991   \n",
       "\n",
       "                    SAMPLING_RATE  NUM_RECIPE  CHANGE_RECIPE  BATCH_SIZE  \\\n",
       "TRkey                                                                      \n",
       "20200122_MA_Alps                0           8       0.419355         NaN   \n",
       "20200122_PK_DUVKrF              0         579       0.677845         NaN   \n",
       "20200122_PW_PIX                 0          23       0.805556         NaN   \n",
       "20200122_XE_Sorter              0           2       0.299079         NaN   \n",
       "20200123_MA_Alps                0          12       0.586207         NaN   \n",
       "...                           ...         ...            ...         ...   \n",
       "20210307_XE_Sorter              0           2       0.312062         NaN   \n",
       "20210308_MA_Alps                0          13       0.607143         NaN   \n",
       "20210308_PK_DUVKrF              0         436       0.659951         NaN   \n",
       "20210308_PW_PIX                 0           6       0.804348         NaN   \n",
       "20210308_XE_Sorter              0           2       0.322812         NaN   \n",
       "\n",
       "                    MFG_DATE  STD(Product.MOVE_P)  STD(Product.ProdMove)  \\\n",
       "TRkey                                                                      \n",
       "20200122_MA_Alps    20200122             7.968777            5952.676623   \n",
       "20200122_PK_DUVKrF  20200122             1.146339           44922.744351   \n",
       "20200122_PW_PIX     20200122             3.196530            5050.517287   \n",
       "20200122_XE_Sorter  20200122             0.907129           30309.888553   \n",
       "20200123_MA_Alps    20200123             4.565021            3081.389027   \n",
       "...                      ...                  ...                    ...   \n",
       "20210307_XE_Sorter  20210307             0.827411           24877.759005   \n",
       "20210308_MA_Alps    20210308             3.778364            2078.100294   \n",
       "20210308_PK_DUVKrF  20210308             1.346584           60535.663281   \n",
       "20210308_PW_PIX     20210308             4.874968            4338.721259   \n",
       "20210308_XE_Sorter  20210308             0.814294           26827.740690   \n",
       "\n",
       "                    WEEKDAY(dtMFG_DATE)  \n",
       "TRkey                                    \n",
       "20200122_MA_Alps                      2  \n",
       "20200122_PK_DUVKrF                    2  \n",
       "20200122_PW_PIX                       2  \n",
       "20200122_XE_Sorter                    2  \n",
       "20200123_MA_Alps                      3  \n",
       "...                                 ...  \n",
       "20210307_XE_Sorter                    6  \n",
       "20210308_MA_Alps                      0  \n",
       "20210308_PK_DUVKrF                    0  \n",
       "20210308_PW_PIX                       0  \n",
       "20210308_XE_Sorter                    0  \n",
       "\n",
       "[1647 rows x 43 columns]"
      ],
      "text/html": "<div>\n<style scoped>\n    .dataframe tbody tr th:only-of-type {\n        vertical-align: middle;\n    }\n\n    .dataframe tbody tr th {\n        vertical-align: top;\n    }\n\n    .dataframe thead th {\n        text-align: right;\n    }\n</style>\n<table border=\"1\" class=\"dataframe\">\n  <thead>\n    <tr style=\"text-align: right;\">\n      <th></th>\n      <th>TOOLG_ID</th>\n      <th>IS_HOLIDAY</th>\n      <th>M_NUM</th>\n      <th>UP_TIME</th>\n      <th>C_UP_TIME</th>\n      <th>LOT_SIZE</th>\n      <th>C_LOT_SIZE</th>\n      <th>EQP_UTIL</th>\n      <th>C_EQP_UTIL</th>\n      <th>EQP_AVAIL_RATE</th>\n      <th>...</th>\n      <th>REWORK_LOT_RATE</th>\n      <th>QUE_LOT_RATE</th>\n      <th>SAMPLING_RATE</th>\n      <th>NUM_RECIPE</th>\n      <th>CHANGE_RECIPE</th>\n      <th>BATCH_SIZE</th>\n      <th>MFG_DATE</th>\n      <th>STD(Product.MOVE_P)</th>\n      <th>STD(Product.ProdMove)</th>\n      <th>WEEKDAY(dtMFG_DATE)</th>\n    </tr>\n    <tr>\n      <th>TRkey</th>\n      <th></th>\n      <th></th>\n      <th></th>\n      <th></th>\n      <th></th>\n      <th></th>\n      <th></th>\n      <th></th>\n      <th></th>\n      <th></th>\n      <th></th>\n      <th></th>\n      <th></th>\n      <th></th>\n      <th></th>\n      <th></th>\n      <th></th>\n      <th></th>\n      <th></th>\n      <th></th>\n      <th></th>\n    </tr>\n  </thead>\n  <tbody>\n    <tr>\n      <th>20200122_MA_Alps</th>\n      <td>MA_Alps</td>\n      <td>0.9499</td>\n      <td>4.0</td>\n      <td>0.619437</td>\n      <td>0.206197</td>\n      <td>24.096774</td>\n      <td>0.196026</td>\n      <td>0.660880</td>\n      <td>0.504139</td>\n      <td>0.498691</td>\n      <td>...</td>\n      <td>0.000000</td>\n      <td>0.609103</td>\n      <td>0</td>\n      <td>8</td>\n      <td>0.419355</td>\n      <td>NaN</td>\n      <td>20200122</td>\n      <td>7.968777</td>\n      <td>5952.676623</td>\n      <td>2</td>\n    </tr>\n    <tr>\n      <th>20200122_PK_DUVKrF</th>\n      <td>PK_DUVKrF</td>\n      <td>0.9499</td>\n      <td>30.0</td>\n      <td>0.978936</td>\n      <td>0.130694</td>\n      <td>21.543705</td>\n      <td>0.220839</td>\n      <td>0.960454</td>\n      <td>0.346952</td>\n      <td>0.063863</td>\n      <td>...</td>\n      <td>0.027075</td>\n      <td>0.294861</td>\n      <td>0</td>\n      <td>579</td>\n      <td>0.677845</td>\n      <td>NaN</td>\n      <td>20200122</td>\n      <td>1.146339</td>\n      <td>44922.744351</td>\n      <td>2</td>\n    </tr>\n    <tr>\n      <th>20200122_PW_PIX</th>\n      <td>PW_PIX</td>\n      <td>0.9499</td>\n      <td>3.0</td>\n      <td>1.000000</td>\n      <td>0.126728</td>\n      <td>21.944444</td>\n      <td>0.214632</td>\n      <td>0.656590</td>\n      <td>0.504476</td>\n      <td>0.587963</td>\n      <td>...</td>\n      <td>0.008228</td>\n      <td>0.063291</td>\n      <td>0</td>\n      <td>23</td>\n      <td>0.805556</td>\n      <td>NaN</td>\n      <td>20200122</td>\n      <td>3.196530</td>\n      <td>5050.517287</td>\n      <td>2</td>\n    </tr>\n    <tr>\n      <th>20200122_XE_Sorter</th>\n      <td>XE_Sorter</td>\n      <td>0.9499</td>\n      <td>15.0</td>\n      <td>0.971326</td>\n      <td>0.125776</td>\n      <td>22.515499</td>\n      <td>0.202504</td>\n      <td>0.668134</td>\n      <td>0.495682</td>\n      <td>0.863297</td>\n      <td>...</td>\n      <td>0.020381</td>\n      <td>0.145393</td>\n      <td>0</td>\n      <td>2</td>\n      <td>0.299079</td>\n      <td>NaN</td>\n      <td>20200122</td>\n      <td>0.907129</td>\n      <td>30309.888553</td>\n      <td>2</td>\n    </tr>\n    <tr>\n      <th>20200123_MA_Alps</th>\n      <td>MA_Alps</td>\n      <td>1.0000</td>\n      <td>4.0</td>\n      <td>0.758362</td>\n      <td>0.161453</td>\n      <td>23.275862</td>\n      <td>0.187678</td>\n      <td>0.452553</td>\n      <td>0.732736</td>\n      <td>0.685629</td>\n      <td>...</td>\n      <td>0.000000</td>\n      <td>0.776296</td>\n      <td>0</td>\n      <td>12</td>\n      <td>0.586207</td>\n      <td>NaN</td>\n      <td>20200123</td>\n      <td>4.565021</td>\n      <td>3081.389027</td>\n      <td>3</td>\n    </tr>\n    <tr>\n      <th>...</th>\n      <td>...</td>\n      <td>...</td>\n      <td>...</td>\n      <td>...</td>\n      <td>...</td>\n      <td>...</td>\n      <td>...</td>\n      <td>...</td>\n      <td>...</td>\n      <td>...</td>\n      <td>...</td>\n      <td>...</td>\n      <td>...</td>\n      <td>...</td>\n      <td>...</td>\n      <td>...</td>\n      <td>...</td>\n      <td>...</td>\n      <td>...</td>\n      <td>...</td>\n      <td>...</td>\n    </tr>\n    <tr>\n      <th>20210307_XE_Sorter</th>\n      <td>XE_Sorter</td>\n      <td>1.0000</td>\n      <td>16.0</td>\n      <td>0.994306</td>\n      <td>0.127505</td>\n      <td>22.847264</td>\n      <td>0.186647</td>\n      <td>0.634794</td>\n      <td>0.517918</td>\n      <td>0.907057</td>\n      <td>...</td>\n      <td>0.012771</td>\n      <td>0.250008</td>\n      <td>0</td>\n      <td>2</td>\n      <td>0.312062</td>\n      <td>NaN</td>\n      <td>20210307</td>\n      <td>0.827411</td>\n      <td>24877.759005</td>\n      <td>6</td>\n    </tr>\n    <tr>\n      <th>20210308_MA_Alps</th>\n      <td>MA_Alps</td>\n      <td>0.9499</td>\n      <td>6.0</td>\n      <td>0.959960</td>\n      <td>0.132039</td>\n      <td>20.035714</td>\n      <td>0.212846</td>\n      <td>0.620041</td>\n      <td>0.530249</td>\n      <td>0.462821</td>\n      <td>...</td>\n      <td>0.085561</td>\n      <td>0.677362</td>\n      <td>0</td>\n      <td>13</td>\n      <td>0.607143</td>\n      <td>NaN</td>\n      <td>20210308</td>\n      <td>3.778364</td>\n      <td>2078.100294</td>\n      <td>0</td>\n    </tr>\n    <tr>\n      <th>20210308_PK_DUVKrF</th>\n      <td>PK_DUVKrF</td>\n      <td>0.9499</td>\n      <td>32.0</td>\n      <td>0.976119</td>\n      <td>0.129871</td>\n      <td>22.090909</td>\n      <td>0.193052</td>\n      <td>0.984803</td>\n      <td>0.333859</td>\n      <td>0.067614</td>\n      <td>...</td>\n      <td>0.024113</td>\n      <td>0.475008</td>\n      <td>0</td>\n      <td>436</td>\n      <td>0.659951</td>\n      <td>NaN</td>\n      <td>20210308</td>\n      <td>1.346584</td>\n      <td>60535.663281</td>\n      <td>0</td>\n    </tr>\n    <tr>\n      <th>20210308_PW_PIX</th>\n      <td>PW_PIX</td>\n      <td>0.9499</td>\n      <td>3.0</td>\n      <td>0.867239</td>\n      <td>0.146173</td>\n      <td>19.347826</td>\n      <td>0.220420</td>\n      <td>0.451044</td>\n      <td>0.728935</td>\n      <td>0.478261</td>\n      <td>...</td>\n      <td>0.016854</td>\n      <td>0.280899</td>\n      <td>0</td>\n      <td>6</td>\n      <td>0.804348</td>\n      <td>NaN</td>\n      <td>20210308</td>\n      <td>4.874968</td>\n      <td>4338.721259</td>\n      <td>0</td>\n    </tr>\n    <tr>\n      <th>20210308_XE_Sorter</th>\n      <td>XE_Sorter</td>\n      <td>0.9499</td>\n      <td>16.0</td>\n      <td>0.998937</td>\n      <td>0.126886</td>\n      <td>23.136236</td>\n      <td>0.184317</td>\n      <td>0.672502</td>\n      <td>0.488887</td>\n      <td>0.871094</td>\n      <td>...</td>\n      <td>0.013932</td>\n      <td>0.253991</td>\n      <td>0</td>\n      <td>2</td>\n      <td>0.322812</td>\n      <td>NaN</td>\n      <td>20210308</td>\n      <td>0.814294</td>\n      <td>26827.740690</td>\n      <td>0</td>\n    </tr>\n  </tbody>\n</table>\n<p>1647 rows × 43 columns</p>\n</div>"
     },
     "metadata": {},
     "execution_count": 403
    }
   ],
   "source": [
    "\n",
    "# drop_cols=['MFG_DATE','PPkey','PRkey','TRkey','dtMFG_DATE','dtMFG_DATE']\n",
    "drop_cols=['MFG_DATE''dtMFG_DATE','dtMFG_DATE']\n",
    "target_cols=['TRCT']\n",
    " \n",
    "df = feature_matrix.drop(drop_cols, axis=1)"
   ]
  },
  {
   "cell_type": "code",
   "execution_count": null,
   "metadata": {},
   "outputs": [],
   "source": []
  },
  {
   "cell_type": "code",
   "execution_count": null,
   "metadata": {},
   "outputs": [],
   "source": []
  },
  {
   "cell_type": "code",
   "execution_count": null,
   "metadata": {},
   "outputs": [],
   "source": []
  },
  {
   "cell_type": "code",
   "execution_count": null,
   "metadata": {},
   "outputs": [],
   "source": []
  },
  {
   "source": [
    "# 客制功能"
   ],
   "cell_type": "markdown",
   "metadata": {}
  },
  {
   "cell_type": "code",
   "execution_count": null,
   "metadata": {},
   "outputs": [],
   "source": [
    "from featuretools.primitives import make_agg_primitive, make_trans_primitive\n",
    "from featuretools.variable_types import Text, Numeric,Boolean,Variable"
   ]
  },
  {
   "cell_type": "code",
   "execution_count": null,
   "metadata": {},
   "outputs": [],
   "source": [
    "# custom function so the name of the feature prints out correctly\n",
    "def make_name(self):\n",
    "    return \"%s_goal_last_%d\" % (self.kwargs['Qty1'], self.kwargs['Qty2'])"
   ]
  },
  {
   "cell_type": "code",
   "execution_count": null,
   "metadata": {},
   "outputs": [],
   "source": [
    " CompareMove"
   ]
  },
  {
   "cell_type": "code",
   "execution_count": null,
   "metadata": {},
   "outputs": [],
   "source": [
    "def compare_Qty(Qty1,Qty2):\n",
    "   return Qty1>Qty2\n",
    "CompareMove = make_trans_primitive(function=compare_Qty,\n",
    "                                          input_types=[Numeric, Numeric],\n",
    "                                          return_type=Boolean,\n",
    "                                          description=\"compare_Qty\"\n",
    "                                          #cls_attributes={\"generate_name\": make_name, \"uses_full_entity\":True}\n",
    "                                          )\n",
    "\n",
    "input_vars = [es[\"Machine\"][\"MOVE_QTY\"], es[\"Machine\"][\"WIP_QTY\"]]\n",
    "\n",
    "\n",
    "# Compare_Move = CompareMove(*input_vars)\n",
    "# #Compare_Move = CompareMove(Qty1=es[\"Machine\"][\"MOVE_QTY\"], Qty2=es[\"Machine\"][\"WIP_QTY\"])\n",
    "\n",
    "# features = [Compare_Move]\n",
    "\n",
    "\n",
    "# fm = ft.calculate_feature_matrix(entityset=es, features=features) \n",
    "\n",
    "\n",
    "feature_matrix, features = ft.dfs(entityset=es,target_entity=\"Product\",agg_primitives=[],\n",
    "                        trans_primitives=[CompareMove],\n",
    "                         primitive_options={ \n",
    "                            #'std': {'ignore_entities': ['cohorts', 'log']}, \n",
    "                        'CompareMove': {'include_variables': \n",
    "                                        {'Product': ['ProdMove', 'MOVE_P'],\n",
    "                                        }},\n",
    "\n",
    "                        },\n",
    "                        max_depth=2)"
   ]
  },
  {
   "cell_type": "code",
   "execution_count": null,
   "metadata": {},
   "outputs": [],
   "source": [
    "feature_matrix"
   ]
  },
  {
   "cell_type": "code",
   "execution_count": null,
   "metadata": {},
   "outputs": [],
   "source": [
    "# Feature lineage graphs\n",
    "# Understanding Feature Output¶\n",
    "# In general, Featuretools references generated features through the feature name. In order to make features easier to understand, Featuretools offers two additional tools, featuretools.graph_feature() and featuretools.describe_feature(), to help explain what a feature is and the steps Featuretools took to generate it.\n",
    "feature = feature_names[54]\n",
    "ft.graph_feature(feature)"
   ]
  },
  {
   "cell_type": "code",
   "execution_count": null,
   "metadata": {},
   "outputs": [],
   "source": [
    "ft.describe_feature(feature)"
   ]
  },
  {
   "cell_type": "code",
   "execution_count": null,
   "metadata": {},
   "outputs": [],
   "source": [
    "feature_matrix,feature_names =ft.dfs(entityset = es, target_entity = 'WIP',\n",
    "                       trans_primitives=['weekday', 'day'],\n",
    "                       #agg_primitives=default_agg_primitives, \n",
    "                        verbose = 1,\n",
    "                       features_only = False)\n",
    "\n",
    "\n",
    " "
   ]
  },
  {
   "cell_type": "code",
   "execution_count": null,
   "metadata": {},
   "outputs": [],
   "source": [
    "#累績總計 與總數\n",
    " \n",
    "feature_matrix, features_list = ft.dfs(entityset=es, \n",
    "    verbose = 1,\n",
    "\ttarget_entity='WIP',\n",
    "    agg_primitives=[], \n",
    "\ttrans_primitives=['cum_sum', 'cum_count'], \n",
    "\tgroupby_trans_primitives=['cum_sum', 'cum_count'], #累積總計、累積總數\n",
    "    \n",
    "    ignore_variables={'WIP': ['PRIORITY']}\n",
    "    \n",
    "\t)\n",
    "feature_matrix    \n"
   ]
  },
  {
   "cell_type": "code",
   "execution_count": null,
   "metadata": {},
   "outputs": [],
   "source": [
    "from featuretools.primitives import CumCount\n",
    "#累績總數\n",
    "cum_count = CumCount()\n",
    "cum_count([1, 2, 3, 4, None, 5]).tolist()\n"
   ]
  },
  {
   "cell_type": "code",
   "execution_count": null,
   "metadata": {},
   "outputs": [],
   "source": [
    "from featuretools.primitives import CumCount\n",
    "from featuretools.primitives import IsWeekend\n",
    "#累績總數\n",
    "cum_count = CumCount()\n",
    "cum_count([1, 2, 3, 4, None, 5]).tolist()\n",
    "isWkend = IsWeekend()\n",
    "feature_matrix, features_list = ft.dfs(entityset=es, \n",
    "    verbose = 1,\n",
    "\ttarget_entity='WIP',\n",
    "    agg_primitives=[], \n",
    "\ttrans_primitives=['cum_sum','cum_count','is_weekend'], \n",
    "\tprimitive_options={\n",
    "        'cum_sum': {\n",
    "                'include_variables':\n",
    "                    {'WIP': ['WIP_QTY']},\n",
    "                'ignore_variables':\n",
    "                    {'WIP': ['IS_MAIN_ROUTE']}    \n",
    "                    \n",
    "                    },\n",
    "\t\t'cum_count': {\n",
    "                'include_variables':\n",
    "                    {'WIP': ['WIP_QTY']},\n",
    "                'ignore_variables':\n",
    "                    {'WIP': ['IS_MAIN_ROUTE']}    \n",
    "                    \n",
    "                    },\n",
    "        'is_weekend': {\n",
    "                'ignore_variables':\n",
    "                        {'WIP': ['ACTUAL_WP_OUT']}}\n",
    "        }\n",
    "    \n",
    "\t)\n",
    "\n",
    "\n",
    "\n",
    "feature_matrix    "
   ]
  },
  {
   "source": [],
   "cell_type": "code",
   "metadata": {},
   "execution_count": null,
   "outputs": []
  },
  {
   "cell_type": "code",
   "execution_count": 398,
   "metadata": {},
   "outputs": [
    {
     "output_type": "error",
     "ename": "AttributeError",
     "evalue": "'list' object has no attribute 'corr'",
     "traceback": [
      "\u001b[1;31m---------------------------------------------------------------------------\u001b[0m",
      "\u001b[1;31mAttributeError\u001b[0m                            Traceback (most recent call last)",
      "\u001b[1;32m<ipython-input-398-75c4a58ad667>\u001b[0m in \u001b[0;36m<module>\u001b[1;34m\u001b[0m\n\u001b[0;32m      3\u001b[0m \u001b[1;33m\u001b[0m\u001b[0m\n\u001b[0;32m      4\u001b[0m \u001b[1;31m# Absolute value correlation matrix\u001b[0m\u001b[1;33m\u001b[0m\u001b[1;33m\u001b[0m\u001b[1;33m\u001b[0m\u001b[0m\n\u001b[1;32m----> 5\u001b[1;33m \u001b[0mcorr_matrix\u001b[0m \u001b[1;33m=\u001b[0m \u001b[0mfeatures\u001b[0m\u001b[1;33m.\u001b[0m\u001b[0mcorr\u001b[0m\u001b[1;33m(\u001b[0m\u001b[1;33m)\u001b[0m\u001b[1;33m.\u001b[0m\u001b[0mabs\u001b[0m\u001b[1;33m(\u001b[0m\u001b[1;33m)\u001b[0m\u001b[1;33m\u001b[0m\u001b[1;33m\u001b[0m\u001b[0m\n\u001b[0m\u001b[0;32m      6\u001b[0m \u001b[0mupper\u001b[0m \u001b[1;33m=\u001b[0m \u001b[0mcorr_matrix\u001b[0m\u001b[1;33m.\u001b[0m\u001b[0mwhere\u001b[0m\u001b[1;33m(\u001b[0m\u001b[0mnp\u001b[0m\u001b[1;33m.\u001b[0m\u001b[0mtriu\u001b[0m\u001b[1;33m(\u001b[0m\u001b[0mnp\u001b[0m\u001b[1;33m.\u001b[0m\u001b[0mones\u001b[0m\u001b[1;33m(\u001b[0m\u001b[0mcorr_matrix\u001b[0m\u001b[1;33m.\u001b[0m\u001b[0mshape\u001b[0m\u001b[1;33m)\u001b[0m\u001b[1;33m,\u001b[0m \u001b[0mk\u001b[0m\u001b[1;33m=\u001b[0m\u001b[1;36m1\u001b[0m\u001b[1;33m)\u001b[0m\u001b[1;33m.\u001b[0m\u001b[0mastype\u001b[0m\u001b[1;33m(\u001b[0m\u001b[0mnp\u001b[0m\u001b[1;33m.\u001b[0m\u001b[0mbool\u001b[0m\u001b[1;33m)\u001b[0m\u001b[1;33m)\u001b[0m\u001b[1;33m\u001b[0m\u001b[1;33m\u001b[0m\u001b[0m\n\u001b[0;32m      7\u001b[0m \u001b[0mupper\u001b[0m\u001b[1;33m.\u001b[0m\u001b[0mhead\u001b[0m\u001b[1;33m(\u001b[0m\u001b[1;36m50\u001b[0m\u001b[1;33m)\u001b[0m\u001b[1;33m\u001b[0m\u001b[1;33m\u001b[0m\u001b[0m\n",
      "\u001b[1;31mAttributeError\u001b[0m: 'list' object has no attribute 'corr'"
     ]
    }
   ],
   "source": []
  },
  {
   "cell_type": "code",
   "execution_count": null,
   "metadata": {},
   "outputs": [],
   "source": []
  },
  {
   "cell_type": "code",
   "execution_count": null,
   "metadata": {},
   "outputs": [],
   "source": [
    "from sklearn.svm import LinearSVC\n",
    "lsvc = LinearSVC(C=0.01, penalty=\"l1\", dual=False).fit(train_X, train_y)\n",
    "model = SelectFromModel(lsvc, prefit=True)\n",
    "X_new = model.transform(train_X)\n",
    "X_selected_df = pd.DataFrame(X_new, columns=[train_X.columns[i] for i in range(len(train_X.columns)) if model.get_support()[i]])\n",
    "X_selected_df.shape"
   ]
  },
  {
   "cell_type": "code",
   "execution_count": null,
   "metadata": {},
   "outputs": [],
   "source": []
  },
  {
   "cell_type": "code",
   "execution_count": null,
   "metadata": {},
   "outputs": [],
   "source": [
    "random_forest = RandomForestClassifier(n_estimators=2000,oob_score=True)\n",
    "random_forest.fit(X_selected_df, train_y)"
   ]
  },
  {
   "cell_type": "code",
   "execution_count": null,
   "metadata": {},
   "outputs": [],
   "source": [
    "## 客制function"
   ]
  },
  {
   "source": [
    "'''\n",
    "from featuretools.primitives import make_agg_primitive, make_trans_primitive\n",
    "from featuretools.variable_types import Text, Numeric\n",
    "\n",
    "def avg_goals_previous_n_games(home_team, away_team, home_goals, away_goals, which_team=None, n=1):\n",
    "    # make dataframe so it's easier to work with\n",
    "    df = pd.DataFrame({\n",
    "        \"home_team\": home_team,\n",
    "        \"away_team\": away_team,\n",
    "        \"home_goals\": home_goals,\n",
    "        \"away_goals\": away_goals\n",
    "        })\n",
    "\n",
    "    result = []\n",
    "    for i, current_game in df.iterrows():\n",
    "        # get the right team for this game\n",
    "        team = current_game[which_team]\n",
    "\n",
    "        # find all previous games that have been played\n",
    "        prev_games =  df.iloc[:i]\n",
    "\n",
    "        # only get games the team participated in\n",
    "        participated = prev_games[(prev_games[\"home_team\"] == team) | (prev_games[\"away_team\"] == team)]\n",
    "        if participated.shape[0] < n:\n",
    "            result.append(None)\n",
    "            continue\n",
    "\n",
    "        # get last n games\n",
    "        last_n = participated.tail(n)\n",
    "\n",
    "        # calculate games per game\n",
    "        goal_as_home = (last_n[\"home_team\"] == team) * last_n[\"home_goals\"]\n",
    "        goal_as_away = (last_n[\"away_team\"] == team) * last_n[\"away_goals\"]\n",
    "\n",
    "        # calculate mean across all home and away games\n",
    "        mean = (goal_as_home + goal_as_away).mean()\n",
    "\n",
    "        result.append(mean)\n",
    "\n",
    "    return result\n",
    "# custom function so the name of the feature prints out correctly\n",
    "def make_name(self):\n",
    "    return \"%s_goal_last_%d\" % (self.kwargs['which_team'], self.kwargs['n'])\n",
    "AvgGoalPreviousNGames = make_trans_primitive(function=avg_goals_previous_n_games,\n",
    "                                          input_types=[Categorical, Categorical, Numeric, Numeric],\n",
    "                                          return_type=Numeric,\n",
    "                                          cls_attributes={\"generate_name\": make_name, \"uses_full_entity\":True})\n",
    "\n",
    "input_vars = [es[\"matches\"][\"home_team\"], es[\"matches\"][\"away_team\"], es[\"matches\"][\"home_goals\"], es[\"matches\"][\"away_goals\"]]\n",
    "home_team_last1 = AvgGoalPreviousNGames(*input_vars, which_team=\"home_team\", n=1)\n",
    "home_team_last3 = AvgGoalPreviousNGames(*input_vars, which_team=\"home_team\", n=3)\n",
    "home_team_last5 = AvgGoalPreviousNGames(*input_vars, which_team=\"home_team\", n=5)\n",
    "away_team_last1 = AvgGoalPreviousNGames(*input_vars, which_team=\"away_team\", n=1)\n",
    "away_team_last3 = AvgGoalPreviousNGames(*input_vars, which_team=\"away_team\", n=3)\n",
    "away_team_last5 = AvgGoalPreviousNGames(*input_vars, which_team=\"away_team\", n=5)\n",
    "\n",
    "features = [home_team_last1, home_team_last3, home_team_last5,\n",
    "            away_team_last1, away_team_last3, away_team_last5]\n",
    "\n",
    "\n",
    "fm = ft.calculate_feature_matrix(entityset=es, features=features) \n",
    "\n",
    "fm, feature_defs = ft.dfs(entityset=es, \n",
    "                          target_entity=\"matches\",\n",
    "                          seed_features=features, \n",
    "                          agg_primitives=[], \n",
    "                          trans_primitives=[\"day\", \"month\", \"year\", \"weekday\", \"percentile\"])\n",
    "\n",
    "#https://stackoverflow.com/questions/53579465/how-to-use-featuretools-to-create-features-from-multiple-columns-in-single-dataf                          "
   ],
   "cell_type": "code",
   "metadata": {},
   "execution_count": null,
   "outputs": []
  }
 ]
}