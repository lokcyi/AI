{
 "metadata": {
  "language_info": {
   "codemirror_mode": {
    "name": "ipython",
    "version": 3
   },
   "file_extension": ".py",
   "mimetype": "text/x-python",
   "name": "python",
   "nbconvert_exporter": "python",
   "pygments_lexer": "ipython3",
   "version": "3.7.9-final"
  },
  "orig_nbformat": 2,
  "kernelspec": {
   "name": "python3",
   "display_name": "Python 3.7.9 64-bit ('PY379': conda)",
   "metadata": {
    "interpreter": {
     "hash": "fd79c5f311e48de877911d8cf1d56e7b724990a605ba536e714d512526dbebf5"
    }
   }
  }
 },
 "nbformat": 4,
 "nbformat_minor": 2,
 "cells": [
  {
   "cell_type": "code",
   "execution_count": 1,
   "metadata": {},
   "outputs": [],
   "source": [
    "import pygad # https://pypi.org/project/pygad/\n",
    "import sys\n",
    "import math\n",
    "import pandas as pd\n",
    "import numpy as np"
   ]
  },
  {
   "cell_type": "code",
   "execution_count": 2,
   "metadata": {},
   "outputs": [],
   "source": [
    "# 適合度函數\n",
    "def fitness_func(solution, solution_idx):\n",
    "    # print('solution: [' + ', '.join(str(x) for x in solution) + ']')\n",
    "\n",
    "    for idx, sol in enumerate(solution): # 第 1 個基因值表示產品 0 的投片量，第 2 個基因值表示產品 1 的投片量...，若 idx = 0, sol = 240\n",
    "        ms_of_product = ms[idx] # 產品進行加工時，所使用的機台 & 使用順序，如 4, 2, 1, 3\n",
    "        mc_of_product = mc[idx] # 各機台對於產品的日產量上限，如 350, 250, 210, 470，分別表示機台 4 一天僅能加工 350 個產品 0，機台 2 一天僅能加工 250 個產品 0...\n",
    "\n",
    "        is_sol_valid = True # 投片量是否可行\n",
    "        output = sol\n",
    "        for i, seq in enumerate(ms_of_product): # 若 i = 0, seq = 4\n",
    "            machine_util = mu[seq - 1][0] # 機台的可用率，如 0.98\n",
    "            output = math.ceil(output * machine_util) # 產品經過機台加工後的產出量\n",
    "            ubound = mc_of_product[i] # 機台 for 產品的日產量，如 350\n",
    "            if output > ubound:\n",
    "                is_sol_valid = False # 投片量不可行\n",
    "                break\n",
    "\n",
    "        if is_sol_valid == False:\n",
    "            # print('fitness: 0')\n",
    "            return 0\n",
    "    \n",
    "    output_total = 0\n",
    "    for i, o in enumerate(solution):\n",
    "        if o > -1:\n",
    "            mth_output = o * 30\n",
    "            mth_demand = dm[i][0]\n",
    "            if mth_output > mth_demand: # 需滿足月投片量限制\n",
    "                output_total = output_total + mth_output\n",
    "    \n",
    "    # print('fitness: ' + str(output_total))\n",
    "    return output_total"
   ]
  },
  {
   "cell_type": "code",
   "execution_count": 3,
   "metadata": {},
   "outputs": [],
   "source": [
    "\n",
    "dm_tmp = pd.read_excel(r\"D:\\Projects\\AI\\POC\\ClassMaterial\\20210219_GA_簡介\\MPS Example\\hw1_dataset.xlsx\",sheet_name=\"Monthly Demand\",index_col =[0])\n",
    "mu_tmp = pd.read_excel(r\"D:\\Projects\\AI\\POC\\ClassMaterial\\20210219_GA_簡介\\MPS Example\\hw1_dataset.xlsx\",sheet_name=\"Machine Utilization\",index_col =[0])\n",
    "ms_tmp = pd.read_excel(r\"D:\\Projects\\AI\\POC\\ClassMaterial\\20210219_GA_簡介\\MPS Example\\hw1_dataset.xlsx\",sheet_name=\"Machine Sequence\",index_col =[0])\n",
    "mc_tmp = pd.read_excel(r\"D:\\Projects\\AI\\POC\\ClassMaterial\\20210219_GA_簡介\\MPS Example\\hw1_dataset.xlsx\",sheet_name=\"Machine Daily Capacity\",index_col =[0])\n",
    "\n",
    "num_p = dm_tmp.shape[0] # product 數\n",
    "num_m = mu_tmp.shape[0] # machine 數\n",
    "\n",
    "dm = [list(map(int, dm_tmp.iloc[i])) for i in range(num_p)]\n",
    "mu = [list(map(float, mu_tmp.iloc[i])) for i in range(num_m)]\n",
    "ms = [list(map(int, ms_tmp.iloc[i])) for i in range(num_p)]\n",
    "mc = [list(map(int, mc_tmp.iloc[i])) for i in range(num_p)]\n",
    "\n"
   ]
  },
  {
   "cell_type": "code",
   "execution_count": null,
   "metadata": {},
   "outputs": [],
   "source": [
    "population_size = 20\n",
    "# 建立 GA 實體\n",
    "ga_instance = pygad.GA(\n",
    "                       # 產生初始族群\n",
    "                       sol_per_pop = population_size, # 族群內的個體數\n",
    "                       num_genes = num_p, # 個體內的基因數                       \n",
    "                       gene_type = int,\n",
    "                       init_range_low = 0,\n",
    "                       init_range_high = 500,\n",
    "\n",
    "                       # 選擇 (selection)\n",
    "                       parent_selection_type = \"rws\", # 選擇方式\n",
    "                       keep_parents = 2,\n",
    "\n",
    "                       # 交配 (crossover)\n",
    "                       num_parents_mating = population_size, # 取幾個個體進行交配                    \n",
    "                       crossover_probability = 0.8, # 交配機率\n",
    "                       crossover_type = \"two_points\", # 交配方式\n",
    "\n",
    "                       # 突變 (mutation)\n",
    "                       mutation_probability = 0.2, # 突變機率\n",
    "                       mutation_type = \"random\", # 突變方式\n",
    "                       mutation_by_replacement = True,\n",
    "                       random_mutation_min_val = 0,\n",
    "                       random_mutation_max_val = 500,\n",
    "\n",
    "                       # 適應度函數\n",
    "                       fitness_func = fitness_func,\n",
    "\n",
    "                       num_generations = 200 # 跑幾個世代\n",
    "                    )\n",
    "ga_instance.run() # 執行 GA\n",
    "\n",
    "# ga_instance.plot_result() # 繪製各世代的適應度趨勢\n",
    "\n",
    "\n",
    "\n",
    "# 取得最佳解\n",
    "solution, solution_fitness, solution_idx = ga_instance.best_solution()\n",
    "\n",
    "print(\"最佳解 (日投片量): {solution}\".format(solution = solution))\n",
    "\n",
    "mth_output = []\n",
    "for sol in solution:\n",
    "    mth_output.append(sol * 30)\n",
    "\n",
    "print(\"最佳解 (月產量): {solution}\".format(solution = mth_output))\n",
    "print(\"最佳解的適應度 (各產品月產量加總): {solution_fitness}\".format(solution_fitness = solution_fitness))\n",
    "\n",
    "if ga_instance.best_solution_generation != -1:\n",
    "    print(\"最佳解落在第 {best_solution_generation} 個世代\".format(best_solution_generation = ga_instance.best_solution_generation))\n",
    "\n",
    "print(\"\\n\")"
   ]
  }
 ]
}