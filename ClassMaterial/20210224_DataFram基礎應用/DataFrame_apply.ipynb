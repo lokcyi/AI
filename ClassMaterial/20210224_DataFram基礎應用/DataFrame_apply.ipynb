{
 "metadata": {
  "language_info": {
   "codemirror_mode": {
    "name": "ipython",
    "version": 3
   },
   "file_extension": ".py",
   "mimetype": "text/x-python",
   "name": "python",
   "nbconvert_exporter": "python",
   "pygments_lexer": "ipython3",
   "version": "3.7.9-final"
  },
  "orig_nbformat": 2,
  "kernelspec": {
   "name": "python3",
   "display_name": "Python 3",
   "language": "python"
  }
 },
 "nbformat": 4,
 "nbformat_minor": 2,
 "cells": [
  {
   "cell_type": "code",
   "execution_count": null,
   "metadata": {},
   "outputs": [],
   "source": [
    "import pandas as pd\n",
    "import numpy as np\n",
    "# DataFrame 是一個資料表，包含列與欄，兩者都有索引，各欄可以有不同的資料型態\n",
    "data = {'城市':['台中', '台中', '台中', '高雄', '高雄', '高雄'],\n",
    "        '年份':[2016, 2017, 2018, 2016, 2017, 2018],\n",
    "        '人口數':[276, 278, 280, 277, 277, 277]}\n",
    "df = pd.DataFrame(data)\n",
    "data1 = {'城市':['台北', '台中', '高雄'],\n",
    "        '市長':['柯文哲', '盧秀燕', '陳其邁']}\n",
    "m_df = pd.DataFrame(data1)"
   ]
  },
  {
   "cell_type": "code",
   "execution_count": null,
   "metadata": {},
   "outputs": [],
   "source": [
    "#用lambda函数替换for循环\n",
    "\n",
    "df['地區'] = '' # add a column\n",
    " \n",
    "def judgeLevel(df):\n",
    "    for i in range(len(df)):\n",
    "        if df['城市'] =='台中':\n",
    "            return '中部'\n",
    "        elif df['城市'] =='高雄':\n",
    "            return '南部'\n",
    "        else:\n",
    "            return ''\n",
    " \n",
    "df['地區'] = df.apply(lambda r: judgeLevel(r), axis=1)\n",
    "df"
   ]
  },
  {
   "cell_type": "code",
   "execution_count": null,
   "metadata": {},
   "outputs": [],
   "source": [
    "#group by 語法\n",
    "citygroup=df.groupby(\"城市\")\n",
    "print(\"---\")  \n",
    "print(citygroup.groups)\n",
    "print(\"---\") \n",
    "print(citygroup.get_group('台中')) "
   ]
  },
  {
   "cell_type": "code",
   "execution_count": null,
   "metadata": {},
   "outputs": [],
   "source": [
    "# group by 取平均\n",
    "avg_persons = df.groupby(\"城市\").mean()\n",
    "avg_persons1 = df.groupby(['年份','城市']).agg(np.mean)\n",
    "avg_persons2 = df.groupby(\"城市\")[\"人口數\"].mean()\n",
    "print(avg_persons)\n",
    "print(\"---\")  \n",
    "print(avg_persons1)\n",
    "print(\"---\")  \n",
    "print(avg_persons2)"
   ]
  },
  {
   "cell_type": "code",
   "execution_count": null,
   "metadata": {},
   "outputs": [],
   "source": [
    "#pandas.DataFrame.transform\n",
    "#Call func on self producing a DataFrame with transformed values\n",
    "df['count'] = df.groupby('城市')['人口數'].transform(len)\n",
    "df['sum'] = df.groupby('城市')['人口數'].transform(sum)\n",
    "df"
   ]
  },
  {
   "cell_type": "code",
   "execution_count": null,
   "metadata": {},
   "outputs": [],
   "source": [
    "#資料合併Concat、Append、Merge、Join\n",
    "#合併資料可採取使用join，outer->聯集、inner->交集(如果資料不存在時有NaN時)\n",
    "print(pd.concat([df,m_df],join='inner'))\n",
    "print('---')\n",
    "pd.concat([df,m_df],join='outer')"
   ]
  },
  {
   "cell_type": "code",
   "execution_count": null,
   "metadata": {},
   "outputs": [],
   "source": [
    "#Append: 等同Concat \n",
    "df.append(m_df)\n",
    "# m_df.append(df)"
   ]
  },
  {
   "cell_type": "code",
   "execution_count": null,
   "metadata": {},
   "outputs": [],
   "source": [
    "#merge: 也是合併資料的一種  index inner join\n",
    "mer_df = pd.merge(df, m_df)\n",
    "mer_df"
   ]
  },
  {
   "cell_type": "code",
   "execution_count": null,
   "metadata": {},
   "outputs": [],
   "source": [
    "#在merge中使用inner(交集)、outer(聯集)、left(左)，(right)右\n",
    "inner_df=pd.merge(m_df, df, left_on=\"城市\", right_on=\"城市\")\n",
    "print(inner_df)\n",
    "print('-----')\n",
    "outer_df=pd.merge(m_df, df, left_on=\"城市\", right_on=\"城市\",how=\"outer\")\n",
    "print(outer_df)\n",
    "print('-----')\n",
    "left_df=pd.merge(m_df, df, left_on=\"城市\", right_on=\"城市\",how=\"left\")\n",
    "print(left_df)\n",
    "print('-----')\n",
    "right_df=pd.merge(m_df, df, left_on=\"城市\", right_on=\"城市\",how=\"right\")\n",
    "print(right_df)\n"
   ]
  },
  {
   "cell_type": "code",
   "execution_count": null,
   "metadata": {},
   "outputs": [],
   "source": [
    "#當欄位名稱相同時使用suffixes來改變欄位名稱"
   ]
  },
  {
   "cell_type": "code",
   "execution_count": null,
   "metadata": {},
   "outputs": [],
   "source": [
    "#串接資料\n",
    "left_df['aaa']=1\n",
    "inner_df.append(left_df)"
   ]
  },
  {
   "cell_type": "code",
   "execution_count": null,
   "metadata": {},
   "outputs": [],
   "source": [
    "clist = ['城市','市長','年份','人口數']\n",
    "# Get missing columns in the training test\n",
    "missing_cols = set(clist) - set(df.columns)\n",
    "# Add a missing column in test set with default value equal to 0\n",
    "for c in missing_cols:\n",
    "    df[c] = 0\n",
    "# Ensure the order of column in the test set is in the same order than in train set\n",
    "df = df[clist]\n",
    "df"
   ]
  },
  {
   "cell_type": "code",
   "execution_count": null,
   "metadata": {},
   "outputs": [],
   "source": []
  }
 ]
}