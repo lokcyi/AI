{
 "metadata": {
  "language_info": {
   "codemirror_mode": {
    "name": "ipython",
    "version": 3
   },
   "file_extension": ".py",
   "mimetype": "text/x-python",
   "name": "python",
   "nbconvert_exporter": "python",
   "pygments_lexer": "ipython3",
   "version": "3.7.9-final"
  },
  "orig_nbformat": 2,
  "kernelspec": {
   "name": "python3",
   "display_name": "Python 3.7.9 64-bit ('PY379': conda)",
   "metadata": {
    "interpreter": {
     "hash": "fd79c5f311e48de877911d8cf1d56e7b724990a605ba536e714d512526dbebf5"
    }
   }
  }
 },
 "nbformat": 4,
 "nbformat_minor": 2,
 "cells": [
  {
   "source": [
    "https://iter01.com/575688.html\n",
    "https://kknews.cc/zh-tw/code/k2geb4r.html\n"
   ],
   "cell_type": "markdown",
   "metadata": {}
  },
  {
   "cell_type": "code",
   "execution_count": 32,
   "metadata": {},
   "outputs": [
    {
     "output_type": "stream",
     "name": "stdout",
     "text": [
      "MFG_DATE       0\n",
      "TOOLG_ID       0\n",
      "WIP_QTY        0\n",
      "NO_HOLD_QTY    0\n",
      "MOVE_QTY       0\n",
      "M              1\n",
      "U              1\n",
      "PT             0\n",
      "UP_TIME        1\n",
      "EQP_UTIL       1\n",
      "TC             0\n",
      "CS             0\n",
      "AI             0\n",
      "C_AI           0\n",
      "dtype: int64\n",
      "           WIP_QTY  NO_HOLD_QTY          M           U          PT  \\\n",
      "count   401.000000   401.000000  400.00000  400.000000  401.000000   \n",
      "mean   2298.670823  1270.147132   16.79250    0.815054  262.588917   \n",
      "std     609.330950   595.039625    1.01835    0.101562   16.646263   \n",
      "min    1058.000000   431.000000   15.00000    0.055358  225.525207   \n",
      "25%    1884.000000   870.000000   16.00000    0.804221  249.536313   \n",
      "50%    2225.000000  1158.000000   17.00000    0.823748  267.549756   \n",
      "75%    2592.000000  1550.000000   17.00000    0.850040  275.244853   \n",
      "max    6795.000000  6099.000000   18.00000    0.940454  298.657525   \n",
      "\n",
      "          UP_TIME    EQP_UTIL          TC          CS        C_AI  \n",
      "count  400.000000  400.000000  401.000000  401.000000  401.000000  \n",
      "mean     0.977081    0.638293    0.506885    0.521573    0.298731  \n",
      "std      0.024237    0.046645    0.095159    0.092327    0.080319  \n",
      "min      0.866102    0.307435    0.412453    0.421615    0.166760  \n",
      "25%      0.967623    0.626477    0.475464    0.489877    0.258382  \n",
      "50%      0.988222    0.645230    0.503697    0.516853    0.285910  \n",
      "75%      0.995434    0.661216    0.526493    0.542000    0.322987  \n",
      "max      1.000000    0.765741    2.244362    2.200816    1.112500  \n",
      "[18:05:30] WARNING: ..\\src\\learner.cc:541: \n",
      "Parameters: { n_estimators } might not be used.\n",
      "\n",
      "  This may not be accurate due to some parameters are only used in language bindings but\n",
      "  passed down to XGBoost core.  Or some parameters are not used but slip through this\n",
      "  verification. Please open an issue if you find above cases.\n",
      "\n",
      "\n",
      "[18:05:30] WARNING: ..\\src\\learner.cc:541: \n",
      "Parameters: { n_estimators } might not be used.\n",
      "\n",
      "  This may not be accurate due to some parameters are only used in language bindings but\n",
      "  passed down to XGBoost core.  Or some parameters are not used but slip through this\n",
      "  verification. Please open an issue if you find above cases.\n",
      "\n",
      "\n",
      "[18:05:30] WARNING: ..\\src\\learner.cc:541: \n",
      "Parameters: { n_estimators } might not be used.\n",
      "\n",
      "  This may not be accurate due to some parameters are only used in language bindings but\n",
      "  passed down to XGBoost core.  Or some parameters are not used but slip through this\n",
      "  verification. Please open an issue if you find above cases.\n",
      "\n",
      "\n",
      "找到最佳迭代轮数 55\n",
      "[18:05:30] WARNING: ..\\src\\learner.cc:541: \n",
      "Parameters: { n_estimators } might not be used.\n",
      "\n",
      "  This may not be accurate due to some parameters are only used in language bindings but\n",
      "  passed down to XGBoost core.  Or some parameters are not used but slip through this\n",
      "  verification. Please open an issue if you find above cases.\n",
      "\n",
      "\n",
      "[0]\ttrain-rmse:28760.12695\tvalid-rmse:28606.60938\n",
      "[1]\ttrain-rmse:25913.12891\tvalid-rmse:25760.42578\n",
      "[2]\ttrain-rmse:23360.21484\tvalid-rmse:23208.42383\n",
      "[3]\ttrain-rmse:21057.76367\tvalid-rmse:20898.25000\n",
      "[4]\ttrain-rmse:18993.62305\tvalid-rmse:18835.57031\n",
      "[5]\ttrain-rmse:17122.08789\tvalid-rmse:16965.69727\n",
      "[6]\ttrain-rmse:15467.70312\tvalid-rmse:15302.45606\n",
      "[7]\ttrain-rmse:13966.96582\tvalid-rmse:13802.75195\n",
      "[8]\ttrain-rmse:12621.39551\tvalid-rmse:12452.07617\n",
      "[9]\ttrain-rmse:11414.31543\tvalid-rmse:11242.64453\n",
      "[10]\ttrain-rmse:10312.53613\tvalid-rmse:10148.63867\n",
      "[11]\ttrain-rmse:9331.81348\tvalid-rmse:9168.96484\n",
      "[12]\ttrain-rmse:8455.35156\tvalid-rmse:8302.54688\n",
      "[13]\ttrain-rmse:7662.74463\tvalid-rmse:7513.55957\n",
      "[14]\ttrain-rmse:6962.68701\tvalid-rmse:6830.09228\n",
      "[15]\ttrain-rmse:6341.16846\tvalid-rmse:6206.66602\n",
      "[16]\ttrain-rmse:5778.86279\tvalid-rmse:5656.78272\n",
      "[17]\ttrain-rmse:5270.51709\tvalid-rmse:5169.28272\n",
      "[18]\ttrain-rmse:4821.72461\tvalid-rmse:4743.26904\n",
      "[19]\ttrain-rmse:4414.82324\tvalid-rmse:4343.27930\n",
      "[20]\ttrain-rmse:4054.24194\tvalid-rmse:4016.86231\n",
      "[21]\ttrain-rmse:3732.16333\tvalid-rmse:3710.32910\n",
      "[22]\ttrain-rmse:3435.22290\tvalid-rmse:3458.83643\n",
      "[23]\ttrain-rmse:3178.33301\tvalid-rmse:3222.94336\n",
      "[24]\ttrain-rmse:2935.78247\tvalid-rmse:3042.24658\n",
      "[25]\ttrain-rmse:2723.22534\tvalid-rmse:2879.60889\n",
      "[26]\ttrain-rmse:2548.10767\tvalid-rmse:2751.12695\n",
      "[27]\ttrain-rmse:2374.26514\tvalid-rmse:2634.11719\n",
      "[28]\ttrain-rmse:2214.51953\tvalid-rmse:2525.82886\n",
      "[29]\ttrain-rmse:2074.94385\tvalid-rmse:2427.73511\n",
      "[30]\ttrain-rmse:1955.31445\tvalid-rmse:2347.96704\n",
      "[31]\ttrain-rmse:1850.03235\tvalid-rmse:2290.96143\n",
      "[32]\ttrain-rmse:1744.97302\tvalid-rmse:2243.85327\n",
      "[33]\ttrain-rmse:1655.59131\tvalid-rmse:2180.07519\n",
      "[34]\ttrain-rmse:1582.25427\tvalid-rmse:2141.18506\n",
      "[35]\ttrain-rmse:1504.03662\tvalid-rmse:2103.93335\n",
      "[36]\ttrain-rmse:1438.60559\tvalid-rmse:2077.02710\n",
      "[37]\ttrain-rmse:1389.21875\tvalid-rmse:2062.00659\n",
      "[38]\ttrain-rmse:1342.45093\tvalid-rmse:2038.21643\n",
      "[39]\ttrain-rmse:1304.42981\tvalid-rmse:2020.66089\n",
      "[40]\ttrain-rmse:1254.90454\tvalid-rmse:2005.82654\n",
      "[41]\ttrain-rmse:1203.45947\tvalid-rmse:1991.98755\n",
      "[42]\ttrain-rmse:1169.01440\tvalid-rmse:1988.01038\n",
      "[43]\ttrain-rmse:1134.65662\tvalid-rmse:1978.30530\n",
      "[44]\ttrain-rmse:1110.37512\tvalid-rmse:1971.45508\n",
      "[45]\ttrain-rmse:1090.22131\tvalid-rmse:1969.41382\n",
      "[46]\ttrain-rmse:1063.74121\tvalid-rmse:1967.97107\n",
      "[47]\ttrain-rmse:1033.39221\tvalid-rmse:1948.13330\n",
      "[48]\ttrain-rmse:1006.84723\tvalid-rmse:1945.04004\n",
      "[49]\ttrain-rmse:982.18713\tvalid-rmse:1951.34522\n",
      "[50]\ttrain-rmse:971.50140\tvalid-rmse:1950.33276\n",
      "[51]\ttrain-rmse:959.75317\tvalid-rmse:1947.68286\n",
      "[52]\ttrain-rmse:939.45129\tvalid-rmse:1948.32910\n",
      "[53]\ttrain-rmse:923.02661\tvalid-rmse:1947.39941\n",
      "[54]\ttrain-rmse:902.97199\tvalid-rmse:1943.56177\n"
     ]
    }
   ],
   "source": [
    "import pandas as pd\n",
    "import numpy as np \n",
    "import xgboost as xgb\n",
    "import matplotlib.pyplot as plt\n",
    "from sklearn.model_selection import GridSearchCV\n",
    "from sklearn.model_selection import train_test_split\n",
    "\n",
    "# target_ToolGID = 'PK_DUVKrF'\n",
    "target_ToolGID = 'XE_Sorter'\n",
    "def readDataFromFile(file_path):\n",
    "    df = pd.read_csv(file_path)\n",
    "    return df\n",
    "\n",
    "df_train=readDataFromFile('../../homework/training_data_20210302.csv')\n",
    "df_train = df_train.loc[df_train['TOOLG_ID']==target_ToolGID]\n",
    "# 觀察缺失值------------------------------------------\n",
    "print(df_train.isnull().sum())\n",
    "# 做数据切分------------------------------------------\n",
    "print(df_train.drop(['TOOLG_ID','MOVE_QTY','MFG_DATE','AI'], axis=1).describe())\n",
    "df_train_eh =df_train.drop(['TOOLG_ID','MOVE_QTY','MFG_DATE','AI'], axis=1) \n",
    "X_dropped = np.asarray(df_train_eh)\n",
    "Y_dropped = np.asarray(df_train['MOVE_QTY'])\n",
    "\n",
    "X_train, X_val, y_train, y_val = train_test_split(X_dropped, Y_dropped,test_size =0.2, random_state=1)\n",
    "xgTrain = xgb.DMatrix(X_train,y_train)\n",
    "xgVal = xgb.DMatrix(X_val,y_val)\n",
    "\n",
    "#調超參 best_nround-----------------------------------------------------------\n",
    " \n",
    "other_params = {'learning_rate': 0.1, 'n_estimators': 500, 'max_depth': 5, 'min_child_weight': 1, 'seed': 0,\n",
    "    'subsample': 0.8, 'colsample_bytree': 0.8, 'gamma': 0, 'reg_alpha': 0, 'reg_lambda': 1}\n",
    "model = xgb.XGBRegressor(**other_params)\n",
    "num_round = 10\n",
    "best_nround = 1000\n",
    "\n",
    "# bst = xgb.train(param, dtrain, num_round)\n",
    "# 设定watchlist用于查看模型状态\n",
    "watchlist  =[(xgTrain, 'train'), (xgVal, 'valid')]\n",
    "\n",
    "res = xgb.cv(other_params,xgTrain, nfold=3,num_boost_round=500,metrics='rmse',early_stopping_rounds=25)\n",
    "# #找到最佳迭代轮数\n",
    "best_nround = res.shape[0] - 1\n",
    "print('找到最佳迭代轮数',best_nround)\n",
    "bst = xgb.train(other_params, xgTrain, best_nround, watchlist)\n",
    "\n"
   ]
  },
  {
   "cell_type": "code",
   "execution_count": 24,
   "metadata": {},
   "outputs": [
    {
     "output_type": "execute_result",
     "data": {
      "text/plain": [
       "        MFG_DATE   TOOLG_ID  WIP_QTY  NO_HOLD_QTY  MOVE_QTY     M         U  \\\n",
       "243     20200122  XE_Sorter   2570.0       1808.0   33413.0  15.0  0.863297   \n",
       "574     20200123  XE_Sorter   3630.0       2707.0   36440.0  15.0  0.850381   \n",
       "607     20200124  XE_Sorter   2913.0       2016.0   34169.0  15.0  0.890564   \n",
       "1078    20200125  XE_Sorter   2660.0       1709.0   36326.0  15.0  0.870101   \n",
       "1430    20200126  XE_Sorter   1935.0        994.0   33639.0  15.0  0.847407   \n",
       "...          ...        ...      ...          ...       ...   ...       ...   \n",
       "118756  20210221  XE_Sorter   2613.0       1398.0   34810.0  16.0  0.880261   \n",
       "118868  20210222  XE_Sorter   3072.0       1934.0   32839.0  16.0  0.850081   \n",
       "119324  20210223  XE_Sorter   2283.0       1043.0   33494.0  16.0  0.856623   \n",
       "119677  20210224  XE_Sorter   2534.0       1098.0   32530.0  16.0  0.877079   \n",
       "119770  20210225  XE_Sorter   3102.0       1803.0   29684.0  16.0  0.849179   \n",
       "\n",
       "                PT   UP_TIME  EQP_UTIL        TC        CS           AI  \\\n",
       "243     237.802561  0.971326  0.668134  0.487792  0.529806  1409.500000   \n",
       "574     246.393321  0.990389  0.670181  0.468130  0.521642  1535.833333   \n",
       "607     238.328042  0.995261  0.667693  0.462037  0.492073  1388.625000   \n",
       "1078    237.719429  0.982166  0.656306  0.478864  0.507971  1517.541667   \n",
       "1430    247.964310  0.983204  0.666610  0.511254  0.542569  1367.291667   \n",
       "...            ...       ...       ...       ...       ...          ...   \n",
       "118756  238.788866  0.999147  0.664293  0.412453  0.421615  1463.583333   \n",
       "118868  238.672870  0.994506  0.670522  0.432766  0.442644  1373.333333   \n",
       "119324  236.441398  0.995611  0.659633  0.459128  0.484667  1365.750000   \n",
       "119677  229.847841  0.997594  0.658534  0.474278  0.491863  1345.666667   \n",
       "119770  227.103474  0.995731  0.663862  0.515879  0.538369  1261.541667   \n",
       "\n",
       "            C_AI  \n",
       "243     0.378062  \n",
       "574     0.265620  \n",
       "607     0.239856  \n",
       "1078    0.271172  \n",
       "1430    0.322381  \n",
       "...          ...  \n",
       "118756  0.192957  \n",
       "118868  0.248371  \n",
       "119324  0.318864  \n",
       "119677  0.269017  \n",
       "119770  0.384110  \n",
       "\n",
       "[401 rows x 14 columns]"
      ],
      "text/html": "<div>\n<style scoped>\n    .dataframe tbody tr th:only-of-type {\n        vertical-align: middle;\n    }\n\n    .dataframe tbody tr th {\n        vertical-align: top;\n    }\n\n    .dataframe thead th {\n        text-align: right;\n    }\n</style>\n<table border=\"1\" class=\"dataframe\">\n  <thead>\n    <tr style=\"text-align: right;\">\n      <th></th>\n      <th>MFG_DATE</th>\n      <th>TOOLG_ID</th>\n      <th>WIP_QTY</th>\n      <th>NO_HOLD_QTY</th>\n      <th>MOVE_QTY</th>\n      <th>M</th>\n      <th>U</th>\n      <th>PT</th>\n      <th>UP_TIME</th>\n      <th>EQP_UTIL</th>\n      <th>TC</th>\n      <th>CS</th>\n      <th>AI</th>\n      <th>C_AI</th>\n    </tr>\n  </thead>\n  <tbody>\n    <tr>\n      <th>243</th>\n      <td>20200122</td>\n      <td>XE_Sorter</td>\n      <td>2570.0</td>\n      <td>1808.0</td>\n      <td>33413.0</td>\n      <td>15.0</td>\n      <td>0.863297</td>\n      <td>237.802561</td>\n      <td>0.971326</td>\n      <td>0.668134</td>\n      <td>0.487792</td>\n      <td>0.529806</td>\n      <td>1409.500000</td>\n      <td>0.378062</td>\n    </tr>\n    <tr>\n      <th>574</th>\n      <td>20200123</td>\n      <td>XE_Sorter</td>\n      <td>3630.0</td>\n      <td>2707.0</td>\n      <td>36440.0</td>\n      <td>15.0</td>\n      <td>0.850381</td>\n      <td>246.393321</td>\n      <td>0.990389</td>\n      <td>0.670181</td>\n      <td>0.468130</td>\n      <td>0.521642</td>\n      <td>1535.833333</td>\n      <td>0.265620</td>\n    </tr>\n    <tr>\n      <th>607</th>\n      <td>20200124</td>\n      <td>XE_Sorter</td>\n      <td>2913.0</td>\n      <td>2016.0</td>\n      <td>34169.0</td>\n      <td>15.0</td>\n      <td>0.890564</td>\n      <td>238.328042</td>\n      <td>0.995261</td>\n      <td>0.667693</td>\n      <td>0.462037</td>\n      <td>0.492073</td>\n      <td>1388.625000</td>\n      <td>0.239856</td>\n    </tr>\n    <tr>\n      <th>1078</th>\n      <td>20200125</td>\n      <td>XE_Sorter</td>\n      <td>2660.0</td>\n      <td>1709.0</td>\n      <td>36326.0</td>\n      <td>15.0</td>\n      <td>0.870101</td>\n      <td>237.719429</td>\n      <td>0.982166</td>\n      <td>0.656306</td>\n      <td>0.478864</td>\n      <td>0.507971</td>\n      <td>1517.541667</td>\n      <td>0.271172</td>\n    </tr>\n    <tr>\n      <th>1430</th>\n      <td>20200126</td>\n      <td>XE_Sorter</td>\n      <td>1935.0</td>\n      <td>994.0</td>\n      <td>33639.0</td>\n      <td>15.0</td>\n      <td>0.847407</td>\n      <td>247.964310</td>\n      <td>0.983204</td>\n      <td>0.666610</td>\n      <td>0.511254</td>\n      <td>0.542569</td>\n      <td>1367.291667</td>\n      <td>0.322381</td>\n    </tr>\n    <tr>\n      <th>...</th>\n      <td>...</td>\n      <td>...</td>\n      <td>...</td>\n      <td>...</td>\n      <td>...</td>\n      <td>...</td>\n      <td>...</td>\n      <td>...</td>\n      <td>...</td>\n      <td>...</td>\n      <td>...</td>\n      <td>...</td>\n      <td>...</td>\n      <td>...</td>\n    </tr>\n    <tr>\n      <th>118756</th>\n      <td>20210221</td>\n      <td>XE_Sorter</td>\n      <td>2613.0</td>\n      <td>1398.0</td>\n      <td>34810.0</td>\n      <td>16.0</td>\n      <td>0.880261</td>\n      <td>238.788866</td>\n      <td>0.999147</td>\n      <td>0.664293</td>\n      <td>0.412453</td>\n      <td>0.421615</td>\n      <td>1463.583333</td>\n      <td>0.192957</td>\n    </tr>\n    <tr>\n      <th>118868</th>\n      <td>20210222</td>\n      <td>XE_Sorter</td>\n      <td>3072.0</td>\n      <td>1934.0</td>\n      <td>32839.0</td>\n      <td>16.0</td>\n      <td>0.850081</td>\n      <td>238.672870</td>\n      <td>0.994506</td>\n      <td>0.670522</td>\n      <td>0.432766</td>\n      <td>0.442644</td>\n      <td>1373.333333</td>\n      <td>0.248371</td>\n    </tr>\n    <tr>\n      <th>119324</th>\n      <td>20210223</td>\n      <td>XE_Sorter</td>\n      <td>2283.0</td>\n      <td>1043.0</td>\n      <td>33494.0</td>\n      <td>16.0</td>\n      <td>0.856623</td>\n      <td>236.441398</td>\n      <td>0.995611</td>\n      <td>0.659633</td>\n      <td>0.459128</td>\n      <td>0.484667</td>\n      <td>1365.750000</td>\n      <td>0.318864</td>\n    </tr>\n    <tr>\n      <th>119677</th>\n      <td>20210224</td>\n      <td>XE_Sorter</td>\n      <td>2534.0</td>\n      <td>1098.0</td>\n      <td>32530.0</td>\n      <td>16.0</td>\n      <td>0.877079</td>\n      <td>229.847841</td>\n      <td>0.997594</td>\n      <td>0.658534</td>\n      <td>0.474278</td>\n      <td>0.491863</td>\n      <td>1345.666667</td>\n      <td>0.269017</td>\n    </tr>\n    <tr>\n      <th>119770</th>\n      <td>20210225</td>\n      <td>XE_Sorter</td>\n      <td>3102.0</td>\n      <td>1803.0</td>\n      <td>29684.0</td>\n      <td>16.0</td>\n      <td>0.849179</td>\n      <td>227.103474</td>\n      <td>0.995731</td>\n      <td>0.663862</td>\n      <td>0.515879</td>\n      <td>0.538369</td>\n      <td>1261.541667</td>\n      <td>0.384110</td>\n    </tr>\n  </tbody>\n</table>\n<p>401 rows × 14 columns</p>\n</div>"
     },
     "metadata": {},
     "execution_count": 24
    }
   ],
   "source": [
    "df_train"
   ]
  },
  {
   "cell_type": "code",
   "execution_count": 25,
   "metadata": {},
   "outputs": [],
   "source": [
    "import datetime\n",
    "\n",
    "df_train[df_train['MFG_DATE'].apply(lambda x: pd.to_datetime(str(x), format='%Y%m%d'))>pd.to_datetime('2020-11-01')]\n",
    "\n",
    "df_train_filter28days =df_train[\n",
    "    df_train['MFG_DATE'].apply(lambda x: pd.to_datetime(str(x), format='%Y%m%d'))>\n",
    "    \n",
    "     df_train['MFG_DATE'].apply(lambda x: pd.to_datetime(str(x), format='%Y%m%d')).max()- datetime.timedelta(days=28) ]\n",
    "df_train_filter28days.to_csv('./df_train_filter28days.csv')  \n"
   ]
  },
  {
   "cell_type": "code",
   "execution_count": 25,
   "metadata": {},
   "outputs": [],
   "source": [
    " "
   ]
  },
  {
   "cell_type": "code",
   "execution_count": 26,
   "metadata": {},
   "outputs": [],
   "source": [
    "df_testing = df_train_filter28days.drop(['TOOLG_ID','MOVE_QTY','MFG_DATE','AI'], axis=1)\n",
    "\n",
    " "
   ]
  },
  {
   "cell_type": "code",
   "execution_count": 8,
   "metadata": {},
   "outputs": [],
   "source": []
  },
  {
   "cell_type": "code",
   "execution_count": 27,
   "metadata": {},
   "outputs": [],
   "source": [
    "# df_train_filter28days = readDataFromFile('./df_train_filter28days.csv')\n",
    "# df_train_filter28days"
   ]
  },
  {
   "cell_type": "code",
   "execution_count": 28,
   "metadata": {},
   "outputs": [
    {
     "output_type": "stream",
     "name": "stdout",
     "text": [
      "     WIP_QTY  NO_HOLD_QTY        M         U          PT   UP_TIME  EQP_UTIL  \\\n243   2570.0       1808.0  16.7925  0.815054  262.588917  0.977081  0.638293   \n\n           TC        CS      C_AI  \n243  0.506885  0.521573  0.298731  \n1808.0 2\n"
     ]
    }
   ],
   "source": [
    "\n",
    "cols=['M','U','PT','UP_TIME','EQP_UTIL','TC','CS','C_AI']\n",
    "#df_testing = df_train_filter28days.drop(['TOOLG_ID','MOVE_QTY','MFG_DATE','AI'], axis=1)\n",
    "\n",
    "\n",
    "\n",
    "df_testing = df_train.drop(['TOOLG_ID','MOVE_QTY','MFG_DATE','AI'], axis=1)\n",
    "df_testing[cols]= df_testing[cols].mean()\n",
    "# for col in df_testing.columns:\n",
    "#     if col =='UP_TIME':\n",
    "#         df_testing[col] = df_testing[df_testing['UP_TIME'].apply(lambda x: x>=0.96)]['UP_TIME'].mean() \n",
    "#     elif col =='M':\n",
    "#         df_testing[col] = df_testing[df_testing[col].apply(lambda x: x>=31)][col].mean() \n",
    "#     elif col =='U':\n",
    "#         df_testing[col] = df_testing[df_testing[col].apply(lambda x:  0.06 <=  x <=0.08)][col].mean()         \n",
    "#     else:\n",
    "#         df_testing[col]= df_testing[col].mean()\n",
    "df_testing =df_testing[0:1]\n",
    "print(df_testing.head())\n",
    "# max_wip = df_testing['NO_HOLD_QTY'].max()* .75\n",
    "max_wip = np.percentile(df_testing['NO_HOLD_QTY'], 50) # return 50th percentile, e.g median.\n",
    "tick = (df_testing['NO_HOLD_QTY'].max() - df_testing['NO_HOLD_QTY'].min()) /400\n",
    "if max_wip <=0 :\n",
    "    max_wip=100\n",
    "if tick <1 :\n",
    "    tick = 1\n",
    "print(max_wip,tick)\n",
    "\n",
    "df = pd.DataFrame(columns = df_testing.columns)\n",
    "\n",
    "for i in range(3000):\n",
    "    df_testing['NO_HOLD_QTY']=max_wip+ tick*i\n",
    "    df = df.append(df_testing,ignore_index=True)\n",
    "# print(df.head())        \n"
   ]
  },
  {
   "cell_type": "code",
   "execution_count": 29,
   "metadata": {},
   "outputs": [
    {
     "output_type": "execute_result",
     "data": {
      "text/plain": [
       "2"
      ]
     },
     "metadata": {},
     "execution_count": 29
    }
   ],
   "source": [
    "tick"
   ]
  },
  {
   "cell_type": "code",
   "execution_count": 30,
   "metadata": {},
   "outputs": [
    {
     "output_type": "execute_result",
     "data": {
      "text/plain": [
       "      WIP_QTY  NO_HOLD_QTY        M         U          PT   UP_TIME  EQP_UTIL  \\\n",
       "0      2570.0       1808.0  16.7925  0.815054  262.588917  0.977081  0.638293   \n",
       "1      2570.0       1810.0  16.7925  0.815054  262.588917  0.977081  0.638293   \n",
       "2      2570.0       1812.0  16.7925  0.815054  262.588917  0.977081  0.638293   \n",
       "3      2570.0       1814.0  16.7925  0.815054  262.588917  0.977081  0.638293   \n",
       "4      2570.0       1816.0  16.7925  0.815054  262.588917  0.977081  0.638293   \n",
       "...       ...          ...      ...       ...         ...       ...       ...   \n",
       "2995   2570.0       7798.0  16.7925  0.815054  262.588917  0.977081  0.638293   \n",
       "2996   2570.0       7800.0  16.7925  0.815054  262.588917  0.977081  0.638293   \n",
       "2997   2570.0       7802.0  16.7925  0.815054  262.588917  0.977081  0.638293   \n",
       "2998   2570.0       7804.0  16.7925  0.815054  262.588917  0.977081  0.638293   \n",
       "2999   2570.0       7806.0  16.7925  0.815054  262.588917  0.977081  0.638293   \n",
       "\n",
       "            TC        CS      C_AI  \n",
       "0     0.506885  0.521573  0.298731  \n",
       "1     0.506885  0.521573  0.298731  \n",
       "2     0.506885  0.521573  0.298731  \n",
       "3     0.506885  0.521573  0.298731  \n",
       "4     0.506885  0.521573  0.298731  \n",
       "...        ...       ...       ...  \n",
       "2995  0.506885  0.521573  0.298731  \n",
       "2996  0.506885  0.521573  0.298731  \n",
       "2997  0.506885  0.521573  0.298731  \n",
       "2998  0.506885  0.521573  0.298731  \n",
       "2999  0.506885  0.521573  0.298731  \n",
       "\n",
       "[3000 rows x 10 columns]"
      ],
      "text/html": "<div>\n<style scoped>\n    .dataframe tbody tr th:only-of-type {\n        vertical-align: middle;\n    }\n\n    .dataframe tbody tr th {\n        vertical-align: top;\n    }\n\n    .dataframe thead th {\n        text-align: right;\n    }\n</style>\n<table border=\"1\" class=\"dataframe\">\n  <thead>\n    <tr style=\"text-align: right;\">\n      <th></th>\n      <th>WIP_QTY</th>\n      <th>NO_HOLD_QTY</th>\n      <th>M</th>\n      <th>U</th>\n      <th>PT</th>\n      <th>UP_TIME</th>\n      <th>EQP_UTIL</th>\n      <th>TC</th>\n      <th>CS</th>\n      <th>C_AI</th>\n    </tr>\n  </thead>\n  <tbody>\n    <tr>\n      <th>0</th>\n      <td>2570.0</td>\n      <td>1808.0</td>\n      <td>16.7925</td>\n      <td>0.815054</td>\n      <td>262.588917</td>\n      <td>0.977081</td>\n      <td>0.638293</td>\n      <td>0.506885</td>\n      <td>0.521573</td>\n      <td>0.298731</td>\n    </tr>\n    <tr>\n      <th>1</th>\n      <td>2570.0</td>\n      <td>1810.0</td>\n      <td>16.7925</td>\n      <td>0.815054</td>\n      <td>262.588917</td>\n      <td>0.977081</td>\n      <td>0.638293</td>\n      <td>0.506885</td>\n      <td>0.521573</td>\n      <td>0.298731</td>\n    </tr>\n    <tr>\n      <th>2</th>\n      <td>2570.0</td>\n      <td>1812.0</td>\n      <td>16.7925</td>\n      <td>0.815054</td>\n      <td>262.588917</td>\n      <td>0.977081</td>\n      <td>0.638293</td>\n      <td>0.506885</td>\n      <td>0.521573</td>\n      <td>0.298731</td>\n    </tr>\n    <tr>\n      <th>3</th>\n      <td>2570.0</td>\n      <td>1814.0</td>\n      <td>16.7925</td>\n      <td>0.815054</td>\n      <td>262.588917</td>\n      <td>0.977081</td>\n      <td>0.638293</td>\n      <td>0.506885</td>\n      <td>0.521573</td>\n      <td>0.298731</td>\n    </tr>\n    <tr>\n      <th>4</th>\n      <td>2570.0</td>\n      <td>1816.0</td>\n      <td>16.7925</td>\n      <td>0.815054</td>\n      <td>262.588917</td>\n      <td>0.977081</td>\n      <td>0.638293</td>\n      <td>0.506885</td>\n      <td>0.521573</td>\n      <td>0.298731</td>\n    </tr>\n    <tr>\n      <th>...</th>\n      <td>...</td>\n      <td>...</td>\n      <td>...</td>\n      <td>...</td>\n      <td>...</td>\n      <td>...</td>\n      <td>...</td>\n      <td>...</td>\n      <td>...</td>\n      <td>...</td>\n    </tr>\n    <tr>\n      <th>2995</th>\n      <td>2570.0</td>\n      <td>7798.0</td>\n      <td>16.7925</td>\n      <td>0.815054</td>\n      <td>262.588917</td>\n      <td>0.977081</td>\n      <td>0.638293</td>\n      <td>0.506885</td>\n      <td>0.521573</td>\n      <td>0.298731</td>\n    </tr>\n    <tr>\n      <th>2996</th>\n      <td>2570.0</td>\n      <td>7800.0</td>\n      <td>16.7925</td>\n      <td>0.815054</td>\n      <td>262.588917</td>\n      <td>0.977081</td>\n      <td>0.638293</td>\n      <td>0.506885</td>\n      <td>0.521573</td>\n      <td>0.298731</td>\n    </tr>\n    <tr>\n      <th>2997</th>\n      <td>2570.0</td>\n      <td>7802.0</td>\n      <td>16.7925</td>\n      <td>0.815054</td>\n      <td>262.588917</td>\n      <td>0.977081</td>\n      <td>0.638293</td>\n      <td>0.506885</td>\n      <td>0.521573</td>\n      <td>0.298731</td>\n    </tr>\n    <tr>\n      <th>2998</th>\n      <td>2570.0</td>\n      <td>7804.0</td>\n      <td>16.7925</td>\n      <td>0.815054</td>\n      <td>262.588917</td>\n      <td>0.977081</td>\n      <td>0.638293</td>\n      <td>0.506885</td>\n      <td>0.521573</td>\n      <td>0.298731</td>\n    </tr>\n    <tr>\n      <th>2999</th>\n      <td>2570.0</td>\n      <td>7806.0</td>\n      <td>16.7925</td>\n      <td>0.815054</td>\n      <td>262.588917</td>\n      <td>0.977081</td>\n      <td>0.638293</td>\n      <td>0.506885</td>\n      <td>0.521573</td>\n      <td>0.298731</td>\n    </tr>\n  </tbody>\n</table>\n<p>3000 rows × 10 columns</p>\n</div>"
     },
     "metadata": {},
     "execution_count": 30
    }
   ],
   "source": [
    "df"
   ]
  },
  {
   "cell_type": "code",
   "execution_count": 31,
   "metadata": {},
   "outputs": [
    {
     "output_type": "display_data",
     "data": {
      "text/plain": "<Figure size 432x288 with 1 Axes>",
      "image/svg+xml": "<?xml version=\"1.0\" encoding=\"utf-8\" standalone=\"no\"?>\r\n<!DOCTYPE svg PUBLIC \"-//W3C//DTD SVG 1.1//EN\"\r\n  \"http://www.w3.org/Graphics/SVG/1.1/DTD/svg11.dtd\">\r\n<!-- Created with matplotlib (https://matplotlib.org/) -->\r\n<svg height=\"277.1025pt\" version=\"1.1\" viewBox=\"0 0 409.041816 277.1025\" width=\"409.041816pt\" xmlns=\"http://www.w3.org/2000/svg\" xmlns:xlink=\"http://www.w3.org/1999/xlink\">\r\n <metadata>\r\n  <rdf:RDF xmlns:cc=\"http://creativecommons.org/ns#\" xmlns:dc=\"http://purl.org/dc/elements/1.1/\" xmlns:rdf=\"http://www.w3.org/1999/02/22-rdf-syntax-ns#\">\r\n   <cc:Work>\r\n    <dc:type rdf:resource=\"http://purl.org/dc/dcmitype/StillImage\"/>\r\n    <dc:date>2021-03-17T18:04:39.934360</dc:date>\r\n    <dc:format>image/svg+xml</dc:format>\r\n    <dc:creator>\r\n     <cc:Agent>\r\n      <dc:title>Matplotlib v3.3.3, https://matplotlib.org/</dc:title>\r\n     </cc:Agent>\r\n    </dc:creator>\r\n   </cc:Work>\r\n  </rdf:RDF>\r\n </metadata>\r\n <defs>\r\n  <style type=\"text/css\">*{stroke-linecap:butt;stroke-linejoin:round;}</style>\r\n </defs>\r\n <g id=\"figure_1\">\r\n  <g id=\"patch_1\">\r\n   <path d=\"M 0 277.1025 \r\nL 409.041816 277.1025 \r\nL 409.041816 0 \r\nL 0 0 \r\nz\r\n\" style=\"fill:none;\"/>\r\n  </g>\r\n  <g id=\"axes_1\">\r\n   <g id=\"patch_2\">\r\n    <path d=\"M 59.690625 239.54625 \r\nL 394.490625 239.54625 \r\nL 394.490625 22.10625 \r\nL 59.690625 22.10625 \r\nz\r\n\" style=\"fill:#ffffff;\"/>\r\n   </g>\r\n   <g id=\"matplotlib.axis_1\">\r\n    <g id=\"xtick_1\">\r\n     <g id=\"line2d_1\">\r\n      <defs>\r\n       <path d=\"M 0 0 \r\nL 0 3.5 \r\n\" id=\"m8aa2099356\" style=\"stroke:#000000;stroke-width:0.8;\"/>\r\n      </defs>\r\n      <g>\r\n       <use style=\"stroke:#000000;stroke-width:0.8;\" x=\"84.651691\" xlink:href=\"#m8aa2099356\" y=\"239.54625\"/>\r\n      </g>\r\n     </g>\r\n     <g id=\"text_1\">\r\n      <!-- 2000 -->\r\n      <g transform=\"translate(71.926691 254.144687)scale(0.1 -0.1)\">\r\n       <defs>\r\n        <path d=\"M 19.1875 8.296875 \r\nL 53.609375 8.296875 \r\nL 53.609375 0 \r\nL 7.328125 0 \r\nL 7.328125 8.296875 \r\nQ 12.9375 14.109375 22.625 23.890625 \r\nQ 32.328125 33.6875 34.8125 36.53125 \r\nQ 39.546875 41.84375 41.421875 45.53125 \r\nQ 43.3125 49.21875 43.3125 52.78125 \r\nQ 43.3125 58.59375 39.234375 62.25 \r\nQ 35.15625 65.921875 28.609375 65.921875 \r\nQ 23.96875 65.921875 18.8125 64.3125 \r\nQ 13.671875 62.703125 7.8125 59.421875 \r\nL 7.8125 69.390625 \r\nQ 13.765625 71.78125 18.9375 73 \r\nQ 24.125 74.21875 28.421875 74.21875 \r\nQ 39.75 74.21875 46.484375 68.546875 \r\nQ 53.21875 62.890625 53.21875 53.421875 \r\nQ 53.21875 48.921875 51.53125 44.890625 \r\nQ 49.859375 40.875 45.40625 35.40625 \r\nQ 44.1875 33.984375 37.640625 27.21875 \r\nQ 31.109375 20.453125 19.1875 8.296875 \r\nz\r\n\" id=\"DejaVuSans-50\"/>\r\n        <path d=\"M 31.78125 66.40625 \r\nQ 24.171875 66.40625 20.328125 58.90625 \r\nQ 16.5 51.421875 16.5 36.375 \r\nQ 16.5 21.390625 20.328125 13.890625 \r\nQ 24.171875 6.390625 31.78125 6.390625 \r\nQ 39.453125 6.390625 43.28125 13.890625 \r\nQ 47.125 21.390625 47.125 36.375 \r\nQ 47.125 51.421875 43.28125 58.90625 \r\nQ 39.453125 66.40625 31.78125 66.40625 \r\nz\r\nM 31.78125 74.21875 \r\nQ 44.046875 74.21875 50.515625 64.515625 \r\nQ 56.984375 54.828125 56.984375 36.375 \r\nQ 56.984375 17.96875 50.515625 8.265625 \r\nQ 44.046875 -1.421875 31.78125 -1.421875 \r\nQ 19.53125 -1.421875 13.0625 8.265625 \r\nQ 6.59375 17.96875 6.59375 36.375 \r\nQ 6.59375 54.828125 13.0625 64.515625 \r\nQ 19.53125 74.21875 31.78125 74.21875 \r\nz\r\n\" id=\"DejaVuSans-48\"/>\r\n       </defs>\r\n       <use xlink:href=\"#DejaVuSans-50\"/>\r\n       <use x=\"63.623047\" xlink:href=\"#DejaVuSans-48\"/>\r\n       <use x=\"127.246094\" xlink:href=\"#DejaVuSans-48\"/>\r\n       <use x=\"190.869141\" xlink:href=\"#DejaVuSans-48\"/>\r\n      </g>\r\n     </g>\r\n    </g>\r\n    <g id=\"xtick_2\">\r\n     <g id=\"line2d_2\">\r\n      <g>\r\n       <use style=\"stroke:#000000;stroke-width:0.8;\" x=\"135.395878\" xlink:href=\"#m8aa2099356\" y=\"239.54625\"/>\r\n      </g>\r\n     </g>\r\n     <g id=\"text_2\">\r\n      <!-- 3000 -->\r\n      <g transform=\"translate(122.670878 254.144687)scale(0.1 -0.1)\">\r\n       <defs>\r\n        <path d=\"M 40.578125 39.3125 \r\nQ 47.65625 37.796875 51.625 33 \r\nQ 55.609375 28.21875 55.609375 21.1875 \r\nQ 55.609375 10.40625 48.1875 4.484375 \r\nQ 40.765625 -1.421875 27.09375 -1.421875 \r\nQ 22.515625 -1.421875 17.65625 -0.515625 \r\nQ 12.796875 0.390625 7.625 2.203125 \r\nL 7.625 11.71875 \r\nQ 11.71875 9.328125 16.59375 8.109375 \r\nQ 21.484375 6.890625 26.8125 6.890625 \r\nQ 36.078125 6.890625 40.9375 10.546875 \r\nQ 45.796875 14.203125 45.796875 21.1875 \r\nQ 45.796875 27.640625 41.28125 31.265625 \r\nQ 36.765625 34.90625 28.71875 34.90625 \r\nL 20.21875 34.90625 \r\nL 20.21875 43.015625 \r\nL 29.109375 43.015625 \r\nQ 36.375 43.015625 40.234375 45.921875 \r\nQ 44.09375 48.828125 44.09375 54.296875 \r\nQ 44.09375 59.90625 40.109375 62.90625 \r\nQ 36.140625 65.921875 28.71875 65.921875 \r\nQ 24.65625 65.921875 20.015625 65.03125 \r\nQ 15.375 64.15625 9.8125 62.3125 \r\nL 9.8125 71.09375 \r\nQ 15.4375 72.65625 20.34375 73.4375 \r\nQ 25.25 74.21875 29.59375 74.21875 \r\nQ 40.828125 74.21875 47.359375 69.109375 \r\nQ 53.90625 64.015625 53.90625 55.328125 \r\nQ 53.90625 49.265625 50.4375 45.09375 \r\nQ 46.96875 40.921875 40.578125 39.3125 \r\nz\r\n\" id=\"DejaVuSans-51\"/>\r\n       </defs>\r\n       <use xlink:href=\"#DejaVuSans-51\"/>\r\n       <use x=\"63.623047\" xlink:href=\"#DejaVuSans-48\"/>\r\n       <use x=\"127.246094\" xlink:href=\"#DejaVuSans-48\"/>\r\n       <use x=\"190.869141\" xlink:href=\"#DejaVuSans-48\"/>\r\n      </g>\r\n     </g>\r\n    </g>\r\n    <g id=\"xtick_3\">\r\n     <g id=\"line2d_3\">\r\n      <g>\r\n       <use style=\"stroke:#000000;stroke-width:0.8;\" x=\"186.140066\" xlink:href=\"#m8aa2099356\" y=\"239.54625\"/>\r\n      </g>\r\n     </g>\r\n     <g id=\"text_3\">\r\n      <!-- 4000 -->\r\n      <g transform=\"translate(173.415066 254.144687)scale(0.1 -0.1)\">\r\n       <defs>\r\n        <path d=\"M 37.796875 64.3125 \r\nL 12.890625 25.390625 \r\nL 37.796875 25.390625 \r\nz\r\nM 35.203125 72.90625 \r\nL 47.609375 72.90625 \r\nL 47.609375 25.390625 \r\nL 58.015625 25.390625 \r\nL 58.015625 17.1875 \r\nL 47.609375 17.1875 \r\nL 47.609375 0 \r\nL 37.796875 0 \r\nL 37.796875 17.1875 \r\nL 4.890625 17.1875 \r\nL 4.890625 26.703125 \r\nz\r\n\" id=\"DejaVuSans-52\"/>\r\n       </defs>\r\n       <use xlink:href=\"#DejaVuSans-52\"/>\r\n       <use x=\"63.623047\" xlink:href=\"#DejaVuSans-48\"/>\r\n       <use x=\"127.246094\" xlink:href=\"#DejaVuSans-48\"/>\r\n       <use x=\"190.869141\" xlink:href=\"#DejaVuSans-48\"/>\r\n      </g>\r\n     </g>\r\n    </g>\r\n    <g id=\"xtick_4\">\r\n     <g id=\"line2d_4\">\r\n      <g>\r\n       <use style=\"stroke:#000000;stroke-width:0.8;\" x=\"236.884253\" xlink:href=\"#m8aa2099356\" y=\"239.54625\"/>\r\n      </g>\r\n     </g>\r\n     <g id=\"text_4\">\r\n      <!-- 5000 -->\r\n      <g transform=\"translate(224.159253 254.144687)scale(0.1 -0.1)\">\r\n       <defs>\r\n        <path d=\"M 10.796875 72.90625 \r\nL 49.515625 72.90625 \r\nL 49.515625 64.59375 \r\nL 19.828125 64.59375 \r\nL 19.828125 46.734375 \r\nQ 21.96875 47.46875 24.109375 47.828125 \r\nQ 26.265625 48.1875 28.421875 48.1875 \r\nQ 40.625 48.1875 47.75 41.5 \r\nQ 54.890625 34.8125 54.890625 23.390625 \r\nQ 54.890625 11.625 47.5625 5.09375 \r\nQ 40.234375 -1.421875 26.90625 -1.421875 \r\nQ 22.3125 -1.421875 17.546875 -0.640625 \r\nQ 12.796875 0.140625 7.71875 1.703125 \r\nL 7.71875 11.625 \r\nQ 12.109375 9.234375 16.796875 8.0625 \r\nQ 21.484375 6.890625 26.703125 6.890625 \r\nQ 35.15625 6.890625 40.078125 11.328125 \r\nQ 45.015625 15.765625 45.015625 23.390625 \r\nQ 45.015625 31 40.078125 35.4375 \r\nQ 35.15625 39.890625 26.703125 39.890625 \r\nQ 22.75 39.890625 18.8125 39.015625 \r\nQ 14.890625 38.140625 10.796875 36.28125 \r\nz\r\n\" id=\"DejaVuSans-53\"/>\r\n       </defs>\r\n       <use xlink:href=\"#DejaVuSans-53\"/>\r\n       <use x=\"63.623047\" xlink:href=\"#DejaVuSans-48\"/>\r\n       <use x=\"127.246094\" xlink:href=\"#DejaVuSans-48\"/>\r\n       <use x=\"190.869141\" xlink:href=\"#DejaVuSans-48\"/>\r\n      </g>\r\n     </g>\r\n    </g>\r\n    <g id=\"xtick_5\">\r\n     <g id=\"line2d_5\">\r\n      <g>\r\n       <use style=\"stroke:#000000;stroke-width:0.8;\" x=\"287.628441\" xlink:href=\"#m8aa2099356\" y=\"239.54625\"/>\r\n      </g>\r\n     </g>\r\n     <g id=\"text_5\">\r\n      <!-- 6000 -->\r\n      <g transform=\"translate(274.903441 254.144687)scale(0.1 -0.1)\">\r\n       <defs>\r\n        <path d=\"M 33.015625 40.375 \r\nQ 26.375 40.375 22.484375 35.828125 \r\nQ 18.609375 31.296875 18.609375 23.390625 \r\nQ 18.609375 15.53125 22.484375 10.953125 \r\nQ 26.375 6.390625 33.015625 6.390625 \r\nQ 39.65625 6.390625 43.53125 10.953125 \r\nQ 47.40625 15.53125 47.40625 23.390625 \r\nQ 47.40625 31.296875 43.53125 35.828125 \r\nQ 39.65625 40.375 33.015625 40.375 \r\nz\r\nM 52.59375 71.296875 \r\nL 52.59375 62.3125 \r\nQ 48.875 64.0625 45.09375 64.984375 \r\nQ 41.3125 65.921875 37.59375 65.921875 \r\nQ 27.828125 65.921875 22.671875 59.328125 \r\nQ 17.53125 52.734375 16.796875 39.40625 \r\nQ 19.671875 43.65625 24.015625 45.921875 \r\nQ 28.375 48.1875 33.59375 48.1875 \r\nQ 44.578125 48.1875 50.953125 41.515625 \r\nQ 57.328125 34.859375 57.328125 23.390625 \r\nQ 57.328125 12.15625 50.6875 5.359375 \r\nQ 44.046875 -1.421875 33.015625 -1.421875 \r\nQ 20.359375 -1.421875 13.671875 8.265625 \r\nQ 6.984375 17.96875 6.984375 36.375 \r\nQ 6.984375 53.65625 15.1875 63.9375 \r\nQ 23.390625 74.21875 37.203125 74.21875 \r\nQ 40.921875 74.21875 44.703125 73.484375 \r\nQ 48.484375 72.75 52.59375 71.296875 \r\nz\r\n\" id=\"DejaVuSans-54\"/>\r\n       </defs>\r\n       <use xlink:href=\"#DejaVuSans-54\"/>\r\n       <use x=\"63.623047\" xlink:href=\"#DejaVuSans-48\"/>\r\n       <use x=\"127.246094\" xlink:href=\"#DejaVuSans-48\"/>\r\n       <use x=\"190.869141\" xlink:href=\"#DejaVuSans-48\"/>\r\n      </g>\r\n     </g>\r\n    </g>\r\n    <g id=\"xtick_6\">\r\n     <g id=\"line2d_6\">\r\n      <g>\r\n       <use style=\"stroke:#000000;stroke-width:0.8;\" x=\"338.372628\" xlink:href=\"#m8aa2099356\" y=\"239.54625\"/>\r\n      </g>\r\n     </g>\r\n     <g id=\"text_6\">\r\n      <!-- 7000 -->\r\n      <g transform=\"translate(325.647628 254.144687)scale(0.1 -0.1)\">\r\n       <defs>\r\n        <path d=\"M 8.203125 72.90625 \r\nL 55.078125 72.90625 \r\nL 55.078125 68.703125 \r\nL 28.609375 0 \r\nL 18.3125 0 \r\nL 43.21875 64.59375 \r\nL 8.203125 64.59375 \r\nz\r\n\" id=\"DejaVuSans-55\"/>\r\n       </defs>\r\n       <use xlink:href=\"#DejaVuSans-55\"/>\r\n       <use x=\"63.623047\" xlink:href=\"#DejaVuSans-48\"/>\r\n       <use x=\"127.246094\" xlink:href=\"#DejaVuSans-48\"/>\r\n       <use x=\"190.869141\" xlink:href=\"#DejaVuSans-48\"/>\r\n      </g>\r\n     </g>\r\n    </g>\r\n    <g id=\"xtick_7\">\r\n     <g id=\"line2d_7\">\r\n      <g>\r\n       <use style=\"stroke:#000000;stroke-width:0.8;\" x=\"389.116816\" xlink:href=\"#m8aa2099356\" y=\"239.54625\"/>\r\n      </g>\r\n     </g>\r\n     <g id=\"text_7\">\r\n      <!-- 8000 -->\r\n      <g transform=\"translate(376.391816 254.144687)scale(0.1 -0.1)\">\r\n       <defs>\r\n        <path d=\"M 31.78125 34.625 \r\nQ 24.75 34.625 20.71875 30.859375 \r\nQ 16.703125 27.09375 16.703125 20.515625 \r\nQ 16.703125 13.921875 20.71875 10.15625 \r\nQ 24.75 6.390625 31.78125 6.390625 \r\nQ 38.8125 6.390625 42.859375 10.171875 \r\nQ 46.921875 13.96875 46.921875 20.515625 \r\nQ 46.921875 27.09375 42.890625 30.859375 \r\nQ 38.875 34.625 31.78125 34.625 \r\nz\r\nM 21.921875 38.8125 \r\nQ 15.578125 40.375 12.03125 44.71875 \r\nQ 8.5 49.078125 8.5 55.328125 \r\nQ 8.5 64.0625 14.71875 69.140625 \r\nQ 20.953125 74.21875 31.78125 74.21875 \r\nQ 42.671875 74.21875 48.875 69.140625 \r\nQ 55.078125 64.0625 55.078125 55.328125 \r\nQ 55.078125 49.078125 51.53125 44.71875 \r\nQ 48 40.375 41.703125 38.8125 \r\nQ 48.828125 37.15625 52.796875 32.3125 \r\nQ 56.78125 27.484375 56.78125 20.515625 \r\nQ 56.78125 9.90625 50.3125 4.234375 \r\nQ 43.84375 -1.421875 31.78125 -1.421875 \r\nQ 19.734375 -1.421875 13.25 4.234375 \r\nQ 6.78125 9.90625 6.78125 20.515625 \r\nQ 6.78125 27.484375 10.78125 32.3125 \r\nQ 14.796875 37.15625 21.921875 38.8125 \r\nz\r\nM 18.3125 54.390625 \r\nQ 18.3125 48.734375 21.84375 45.5625 \r\nQ 25.390625 42.390625 31.78125 42.390625 \r\nQ 38.140625 42.390625 41.71875 45.5625 \r\nQ 45.3125 48.734375 45.3125 54.390625 \r\nQ 45.3125 60.0625 41.71875 63.234375 \r\nQ 38.140625 66.40625 31.78125 66.40625 \r\nQ 25.390625 66.40625 21.84375 63.234375 \r\nQ 18.3125 60.0625 18.3125 54.390625 \r\nz\r\n\" id=\"DejaVuSans-56\"/>\r\n       </defs>\r\n       <use xlink:href=\"#DejaVuSans-56\"/>\r\n       <use x=\"63.623047\" xlink:href=\"#DejaVuSans-48\"/>\r\n       <use x=\"127.246094\" xlink:href=\"#DejaVuSans-48\"/>\r\n       <use x=\"190.869141\" xlink:href=\"#DejaVuSans-48\"/>\r\n      </g>\r\n     </g>\r\n    </g>\r\n    <g id=\"text_8\">\r\n     <!-- WIP -->\r\n     <g transform=\"translate(217.657031 267.822812)scale(0.1 -0.1)\">\r\n      <defs>\r\n       <path d=\"M 3.328125 72.90625 \r\nL 13.28125 72.90625 \r\nL 28.609375 11.28125 \r\nL 43.890625 72.90625 \r\nL 54.984375 72.90625 \r\nL 70.3125 11.28125 \r\nL 85.59375 72.90625 \r\nL 95.609375 72.90625 \r\nL 77.296875 0 \r\nL 64.890625 0 \r\nL 49.515625 63.28125 \r\nL 33.984375 0 \r\nL 21.578125 0 \r\nz\r\n\" id=\"DejaVuSans-87\"/>\r\n       <path d=\"M 9.8125 72.90625 \r\nL 19.671875 72.90625 \r\nL 19.671875 0 \r\nL 9.8125 0 \r\nz\r\n\" id=\"DejaVuSans-73\"/>\r\n       <path d=\"M 19.671875 64.796875 \r\nL 19.671875 37.40625 \r\nL 32.078125 37.40625 \r\nQ 38.96875 37.40625 42.71875 40.96875 \r\nQ 46.484375 44.53125 46.484375 51.125 \r\nQ 46.484375 57.671875 42.71875 61.234375 \r\nQ 38.96875 64.796875 32.078125 64.796875 \r\nz\r\nM 9.8125 72.90625 \r\nL 32.078125 72.90625 \r\nQ 44.34375 72.90625 50.609375 67.359375 \r\nQ 56.890625 61.8125 56.890625 51.125 \r\nQ 56.890625 40.328125 50.609375 34.8125 \r\nQ 44.34375 29.296875 32.078125 29.296875 \r\nL 19.671875 29.296875 \r\nL 19.671875 0 \r\nL 9.8125 0 \r\nz\r\n\" id=\"DejaVuSans-80\"/>\r\n      </defs>\r\n      <use xlink:href=\"#DejaVuSans-87\"/>\r\n      <use x=\"98.876953\" xlink:href=\"#DejaVuSans-73\"/>\r\n      <use x=\"128.369141\" xlink:href=\"#DejaVuSans-80\"/>\r\n     </g>\r\n    </g>\r\n   </g>\r\n   <g id=\"matplotlib.axis_2\">\r\n    <g id=\"ytick_1\">\r\n     <g id=\"line2d_8\">\r\n      <defs>\r\n       <path d=\"M 0 0 \r\nL -3.5 0 \r\n\" id=\"mcf0a9fb7e6\" style=\"stroke:#000000;stroke-width:0.8;\"/>\r\n      </defs>\r\n      <g>\r\n       <use style=\"stroke:#000000;stroke-width:0.8;\" x=\"59.690625\" xlink:href=\"#mcf0a9fb7e6\" y=\"220.99151\"/>\r\n      </g>\r\n     </g>\r\n     <g id=\"text_9\">\r\n      <!-- 31600 -->\r\n      <g transform=\"translate(20.878125 224.790729)scale(0.1 -0.1)\">\r\n       <defs>\r\n        <path d=\"M 12.40625 8.296875 \r\nL 28.515625 8.296875 \r\nL 28.515625 63.921875 \r\nL 10.984375 60.40625 \r\nL 10.984375 69.390625 \r\nL 28.421875 72.90625 \r\nL 38.28125 72.90625 \r\nL 38.28125 8.296875 \r\nL 54.390625 8.296875 \r\nL 54.390625 0 \r\nL 12.40625 0 \r\nz\r\n\" id=\"DejaVuSans-49\"/>\r\n       </defs>\r\n       <use xlink:href=\"#DejaVuSans-51\"/>\r\n       <use x=\"63.623047\" xlink:href=\"#DejaVuSans-49\"/>\r\n       <use x=\"127.246094\" xlink:href=\"#DejaVuSans-54\"/>\r\n       <use x=\"190.869141\" xlink:href=\"#DejaVuSans-48\"/>\r\n       <use x=\"254.492188\" xlink:href=\"#DejaVuSans-48\"/>\r\n      </g>\r\n     </g>\r\n    </g>\r\n    <g id=\"ytick_2\">\r\n     <g id=\"line2d_9\">\r\n      <g>\r\n       <use style=\"stroke:#000000;stroke-width:0.8;\" x=\"59.690625\" xlink:href=\"#mcf0a9fb7e6\" y=\"177.934534\"/>\r\n      </g>\r\n     </g>\r\n     <g id=\"text_10\">\r\n      <!-- 31700 -->\r\n      <g transform=\"translate(20.878125 181.733753)scale(0.1 -0.1)\">\r\n       <use xlink:href=\"#DejaVuSans-51\"/>\r\n       <use x=\"63.623047\" xlink:href=\"#DejaVuSans-49\"/>\r\n       <use x=\"127.246094\" xlink:href=\"#DejaVuSans-55\"/>\r\n       <use x=\"190.869141\" xlink:href=\"#DejaVuSans-48\"/>\r\n       <use x=\"254.492188\" xlink:href=\"#DejaVuSans-48\"/>\r\n      </g>\r\n     </g>\r\n    </g>\r\n    <g id=\"ytick_3\">\r\n     <g id=\"line2d_10\">\r\n      <g>\r\n       <use style=\"stroke:#000000;stroke-width:0.8;\" x=\"59.690625\" xlink:href=\"#mcf0a9fb7e6\" y=\"134.877558\"/>\r\n      </g>\r\n     </g>\r\n     <g id=\"text_11\">\r\n      <!-- 31800 -->\r\n      <g transform=\"translate(20.878125 138.676777)scale(0.1 -0.1)\">\r\n       <use xlink:href=\"#DejaVuSans-51\"/>\r\n       <use x=\"63.623047\" xlink:href=\"#DejaVuSans-49\"/>\r\n       <use x=\"127.246094\" xlink:href=\"#DejaVuSans-56\"/>\r\n       <use x=\"190.869141\" xlink:href=\"#DejaVuSans-48\"/>\r\n       <use x=\"254.492188\" xlink:href=\"#DejaVuSans-48\"/>\r\n      </g>\r\n     </g>\r\n    </g>\r\n    <g id=\"ytick_4\">\r\n     <g id=\"line2d_11\">\r\n      <g>\r\n       <use style=\"stroke:#000000;stroke-width:0.8;\" x=\"59.690625\" xlink:href=\"#mcf0a9fb7e6\" y=\"91.820582\"/>\r\n      </g>\r\n     </g>\r\n     <g id=\"text_12\">\r\n      <!-- 31900 -->\r\n      <g transform=\"translate(20.878125 95.619801)scale(0.1 -0.1)\">\r\n       <defs>\r\n        <path d=\"M 10.984375 1.515625 \r\nL 10.984375 10.5 \r\nQ 14.703125 8.734375 18.5 7.8125 \r\nQ 22.3125 6.890625 25.984375 6.890625 \r\nQ 35.75 6.890625 40.890625 13.453125 \r\nQ 46.046875 20.015625 46.78125 33.40625 \r\nQ 43.953125 29.203125 39.59375 26.953125 \r\nQ 35.25 24.703125 29.984375 24.703125 \r\nQ 19.046875 24.703125 12.671875 31.3125 \r\nQ 6.296875 37.9375 6.296875 49.421875 \r\nQ 6.296875 60.640625 12.9375 67.421875 \r\nQ 19.578125 74.21875 30.609375 74.21875 \r\nQ 43.265625 74.21875 49.921875 64.515625 \r\nQ 56.59375 54.828125 56.59375 36.375 \r\nQ 56.59375 19.140625 48.40625 8.859375 \r\nQ 40.234375 -1.421875 26.421875 -1.421875 \r\nQ 22.703125 -1.421875 18.890625 -0.6875 \r\nQ 15.09375 0.046875 10.984375 1.515625 \r\nz\r\nM 30.609375 32.421875 \r\nQ 37.25 32.421875 41.125 36.953125 \r\nQ 45.015625 41.5 45.015625 49.421875 \r\nQ 45.015625 57.28125 41.125 61.84375 \r\nQ 37.25 66.40625 30.609375 66.40625 \r\nQ 23.96875 66.40625 20.09375 61.84375 \r\nQ 16.21875 57.28125 16.21875 49.421875 \r\nQ 16.21875 41.5 20.09375 36.953125 \r\nQ 23.96875 32.421875 30.609375 32.421875 \r\nz\r\n\" id=\"DejaVuSans-57\"/>\r\n       </defs>\r\n       <use xlink:href=\"#DejaVuSans-51\"/>\r\n       <use x=\"63.623047\" xlink:href=\"#DejaVuSans-49\"/>\r\n       <use x=\"127.246094\" xlink:href=\"#DejaVuSans-57\"/>\r\n       <use x=\"190.869141\" xlink:href=\"#DejaVuSans-48\"/>\r\n       <use x=\"254.492188\" xlink:href=\"#DejaVuSans-48\"/>\r\n      </g>\r\n     </g>\r\n    </g>\r\n    <g id=\"ytick_5\">\r\n     <g id=\"line2d_12\">\r\n      <g>\r\n       <use style=\"stroke:#000000;stroke-width:0.8;\" x=\"59.690625\" xlink:href=\"#mcf0a9fb7e6\" y=\"48.763606\"/>\r\n      </g>\r\n     </g>\r\n     <g id=\"text_13\">\r\n      <!-- 32000 -->\r\n      <g transform=\"translate(20.878125 52.562825)scale(0.1 -0.1)\">\r\n       <use xlink:href=\"#DejaVuSans-51\"/>\r\n       <use x=\"63.623047\" xlink:href=\"#DejaVuSans-50\"/>\r\n       <use x=\"127.246094\" xlink:href=\"#DejaVuSans-48\"/>\r\n       <use x=\"190.869141\" xlink:href=\"#DejaVuSans-48\"/>\r\n       <use x=\"254.492188\" xlink:href=\"#DejaVuSans-48\"/>\r\n      </g>\r\n     </g>\r\n    </g>\r\n    <g id=\"text_14\">\r\n     <!-- MOVE -->\r\n     <g transform=\"translate(14.798438 145.568437)rotate(-90)scale(0.1 -0.1)\">\r\n      <defs>\r\n       <path d=\"M 9.8125 72.90625 \r\nL 24.515625 72.90625 \r\nL 43.109375 23.296875 \r\nL 61.8125 72.90625 \r\nL 76.515625 72.90625 \r\nL 76.515625 0 \r\nL 66.890625 0 \r\nL 66.890625 64.015625 \r\nL 48.09375 14.015625 \r\nL 38.1875 14.015625 \r\nL 19.390625 64.015625 \r\nL 19.390625 0 \r\nL 9.8125 0 \r\nz\r\n\" id=\"DejaVuSans-77\"/>\r\n       <path d=\"M 39.40625 66.21875 \r\nQ 28.65625 66.21875 22.328125 58.203125 \r\nQ 16.015625 50.203125 16.015625 36.375 \r\nQ 16.015625 22.609375 22.328125 14.59375 \r\nQ 28.65625 6.59375 39.40625 6.59375 \r\nQ 50.140625 6.59375 56.421875 14.59375 \r\nQ 62.703125 22.609375 62.703125 36.375 \r\nQ 62.703125 50.203125 56.421875 58.203125 \r\nQ 50.140625 66.21875 39.40625 66.21875 \r\nz\r\nM 39.40625 74.21875 \r\nQ 54.734375 74.21875 63.90625 63.9375 \r\nQ 73.09375 53.65625 73.09375 36.375 \r\nQ 73.09375 19.140625 63.90625 8.859375 \r\nQ 54.734375 -1.421875 39.40625 -1.421875 \r\nQ 24.03125 -1.421875 14.8125 8.828125 \r\nQ 5.609375 19.09375 5.609375 36.375 \r\nQ 5.609375 53.65625 14.8125 63.9375 \r\nQ 24.03125 74.21875 39.40625 74.21875 \r\nz\r\n\" id=\"DejaVuSans-79\"/>\r\n       <path d=\"M 28.609375 0 \r\nL 0.78125 72.90625 \r\nL 11.078125 72.90625 \r\nL 34.1875 11.53125 \r\nL 57.328125 72.90625 \r\nL 67.578125 72.90625 \r\nL 39.796875 0 \r\nz\r\n\" id=\"DejaVuSans-86\"/>\r\n       <path d=\"M 9.8125 72.90625 \r\nL 55.90625 72.90625 \r\nL 55.90625 64.59375 \r\nL 19.671875 64.59375 \r\nL 19.671875 43.015625 \r\nL 54.390625 43.015625 \r\nL 54.390625 34.71875 \r\nL 19.671875 34.71875 \r\nL 19.671875 8.296875 \r\nL 56.78125 8.296875 \r\nL 56.78125 0 \r\nL 9.8125 0 \r\nz\r\n\" id=\"DejaVuSans-69\"/>\r\n      </defs>\r\n      <use xlink:href=\"#DejaVuSans-77\"/>\r\n      <use x=\"86.279297\" xlink:href=\"#DejaVuSans-79\"/>\r\n      <use x=\"163.240234\" xlink:href=\"#DejaVuSans-86\"/>\r\n      <use x=\"231.648438\" xlink:href=\"#DejaVuSans-69\"/>\r\n     </g>\r\n    </g>\r\n   </g>\r\n   <g id=\"line2d_13\">\r\n    <path clip-path=\"url(#pd93163047f)\" d=\"M 74.908807 31.989886 \r\nL 89.218668 31.989886 \r\nL 89.421644 88.322203 \r\nL 91.451412 88.322203 \r\nL 91.654389 112.790675 \r\nL 92.060342 112.790675 \r\nL 92.364807 229.662614 \r\nL 379.272443 229.662614 \r\nL 379.272443 229.662614 \r\n\" style=\"fill:none;stroke:#1f77b4;stroke-linecap:square;stroke-width:1.5;\"/>\r\n   </g>\r\n   <g id=\"patch_3\">\r\n    <path d=\"M 59.690625 239.54625 \r\nL 59.690625 22.10625 \r\n\" style=\"fill:none;stroke:#000000;stroke-linecap:square;stroke-linejoin:miter;stroke-width:0.8;\"/>\r\n   </g>\r\n   <g id=\"patch_4\">\r\n    <path d=\"M 394.490625 239.54625 \r\nL 394.490625 22.10625 \r\n\" style=\"fill:none;stroke:#000000;stroke-linecap:square;stroke-linejoin:miter;stroke-width:0.8;\"/>\r\n   </g>\r\n   <g id=\"patch_5\">\r\n    <path d=\"M 59.690625 239.54625 \r\nL 394.490625 239.54625 \r\n\" style=\"fill:none;stroke:#000000;stroke-linecap:square;stroke-linejoin:miter;stroke-width:0.8;\"/>\r\n   </g>\r\n   <g id=\"patch_6\">\r\n    <path d=\"M 59.690625 22.10625 \r\nL 394.490625 22.10625 \r\n\" style=\"fill:none;stroke:#000000;stroke-linecap:square;stroke-linejoin:miter;stroke-width:0.8;\"/>\r\n   </g>\r\n   <g id=\"text_15\">\r\n    <!-- TOOLG_ID:XE_Sorter -->\r\n    <g transform=\"translate(165.2175 16.10625)scale(0.12 -0.12)\">\r\n     <defs>\r\n      <path d=\"M -0.296875 72.90625 \r\nL 61.375 72.90625 \r\nL 61.375 64.59375 \r\nL 35.5 64.59375 \r\nL 35.5 0 \r\nL 25.59375 0 \r\nL 25.59375 64.59375 \r\nL -0.296875 64.59375 \r\nz\r\n\" id=\"DejaVuSans-84\"/>\r\n      <path d=\"M 9.8125 72.90625 \r\nL 19.671875 72.90625 \r\nL 19.671875 8.296875 \r\nL 55.171875 8.296875 \r\nL 55.171875 0 \r\nL 9.8125 0 \r\nz\r\n\" id=\"DejaVuSans-76\"/>\r\n      <path d=\"M 59.515625 10.40625 \r\nL 59.515625 29.984375 \r\nL 43.40625 29.984375 \r\nL 43.40625 38.09375 \r\nL 69.28125 38.09375 \r\nL 69.28125 6.78125 \r\nQ 63.578125 2.734375 56.6875 0.65625 \r\nQ 49.8125 -1.421875 42 -1.421875 \r\nQ 24.90625 -1.421875 15.25 8.5625 \r\nQ 5.609375 18.5625 5.609375 36.375 \r\nQ 5.609375 54.25 15.25 64.234375 \r\nQ 24.90625 74.21875 42 74.21875 \r\nQ 49.125 74.21875 55.546875 72.453125 \r\nQ 61.96875 70.703125 67.390625 67.28125 \r\nL 67.390625 56.78125 \r\nQ 61.921875 61.421875 55.765625 63.765625 \r\nQ 49.609375 66.109375 42.828125 66.109375 \r\nQ 29.4375 66.109375 22.71875 58.640625 \r\nQ 16.015625 51.171875 16.015625 36.375 \r\nQ 16.015625 21.625 22.71875 14.15625 \r\nQ 29.4375 6.6875 42.828125 6.6875 \r\nQ 48.046875 6.6875 52.140625 7.59375 \r\nQ 56.25 8.5 59.515625 10.40625 \r\nz\r\n\" id=\"DejaVuSans-71\"/>\r\n      <path d=\"M 50.984375 -16.609375 \r\nL 50.984375 -23.578125 \r\nL -0.984375 -23.578125 \r\nL -0.984375 -16.609375 \r\nz\r\n\" id=\"DejaVuSans-95\"/>\r\n      <path d=\"M 19.671875 64.796875 \r\nL 19.671875 8.109375 \r\nL 31.59375 8.109375 \r\nQ 46.6875 8.109375 53.6875 14.9375 \r\nQ 60.6875 21.78125 60.6875 36.53125 \r\nQ 60.6875 51.171875 53.6875 57.984375 \r\nQ 46.6875 64.796875 31.59375 64.796875 \r\nz\r\nM 9.8125 72.90625 \r\nL 30.078125 72.90625 \r\nQ 51.265625 72.90625 61.171875 64.09375 \r\nQ 71.09375 55.28125 71.09375 36.53125 \r\nQ 71.09375 17.671875 61.125 8.828125 \r\nQ 51.171875 0 30.078125 0 \r\nL 9.8125 0 \r\nz\r\n\" id=\"DejaVuSans-68\"/>\r\n      <path d=\"M 11.71875 12.40625 \r\nL 22.015625 12.40625 \r\nL 22.015625 0 \r\nL 11.71875 0 \r\nz\r\nM 11.71875 51.703125 \r\nL 22.015625 51.703125 \r\nL 22.015625 39.3125 \r\nL 11.71875 39.3125 \r\nz\r\n\" id=\"DejaVuSans-58\"/>\r\n      <path d=\"M 6.296875 72.90625 \r\nL 16.890625 72.90625 \r\nL 35.015625 45.796875 \r\nL 53.21875 72.90625 \r\nL 63.8125 72.90625 \r\nL 40.375 37.890625 \r\nL 65.375 0 \r\nL 54.78125 0 \r\nL 34.28125 31 \r\nL 13.625 0 \r\nL 2.984375 0 \r\nL 29 38.921875 \r\nz\r\n\" id=\"DejaVuSans-88\"/>\r\n      <path d=\"M 53.515625 70.515625 \r\nL 53.515625 60.890625 \r\nQ 47.90625 63.578125 42.921875 64.890625 \r\nQ 37.9375 66.21875 33.296875 66.21875 \r\nQ 25.25 66.21875 20.875 63.09375 \r\nQ 16.5 59.96875 16.5 54.203125 \r\nQ 16.5 49.359375 19.40625 46.890625 \r\nQ 22.3125 44.4375 30.421875 42.921875 \r\nL 36.375 41.703125 \r\nQ 47.40625 39.59375 52.65625 34.296875 \r\nQ 57.90625 29 57.90625 20.125 \r\nQ 57.90625 9.515625 50.796875 4.046875 \r\nQ 43.703125 -1.421875 29.984375 -1.421875 \r\nQ 24.8125 -1.421875 18.96875 -0.25 \r\nQ 13.140625 0.921875 6.890625 3.21875 \r\nL 6.890625 13.375 \r\nQ 12.890625 10.015625 18.65625 8.296875 \r\nQ 24.421875 6.59375 29.984375 6.59375 \r\nQ 38.421875 6.59375 43.015625 9.90625 \r\nQ 47.609375 13.234375 47.609375 19.390625 \r\nQ 47.609375 24.75 44.3125 27.78125 \r\nQ 41.015625 30.8125 33.5 32.328125 \r\nL 27.484375 33.5 \r\nQ 16.453125 35.6875 11.515625 40.375 \r\nQ 6.59375 45.0625 6.59375 53.421875 \r\nQ 6.59375 63.09375 13.40625 68.65625 \r\nQ 20.21875 74.21875 32.171875 74.21875 \r\nQ 37.3125 74.21875 42.625 73.28125 \r\nQ 47.953125 72.359375 53.515625 70.515625 \r\nz\r\n\" id=\"DejaVuSans-83\"/>\r\n      <path d=\"M 30.609375 48.390625 \r\nQ 23.390625 48.390625 19.1875 42.75 \r\nQ 14.984375 37.109375 14.984375 27.296875 \r\nQ 14.984375 17.484375 19.15625 11.84375 \r\nQ 23.34375 6.203125 30.609375 6.203125 \r\nQ 37.796875 6.203125 41.984375 11.859375 \r\nQ 46.1875 17.53125 46.1875 27.296875 \r\nQ 46.1875 37.015625 41.984375 42.703125 \r\nQ 37.796875 48.390625 30.609375 48.390625 \r\nz\r\nM 30.609375 56 \r\nQ 42.328125 56 49.015625 48.375 \r\nQ 55.71875 40.765625 55.71875 27.296875 \r\nQ 55.71875 13.875 49.015625 6.21875 \r\nQ 42.328125 -1.421875 30.609375 -1.421875 \r\nQ 18.84375 -1.421875 12.171875 6.21875 \r\nQ 5.515625 13.875 5.515625 27.296875 \r\nQ 5.515625 40.765625 12.171875 48.375 \r\nQ 18.84375 56 30.609375 56 \r\nz\r\n\" id=\"DejaVuSans-111\"/>\r\n      <path d=\"M 41.109375 46.296875 \r\nQ 39.59375 47.171875 37.8125 47.578125 \r\nQ 36.03125 48 33.890625 48 \r\nQ 26.265625 48 22.1875 43.046875 \r\nQ 18.109375 38.09375 18.109375 28.8125 \r\nL 18.109375 0 \r\nL 9.078125 0 \r\nL 9.078125 54.6875 \r\nL 18.109375 54.6875 \r\nL 18.109375 46.1875 \r\nQ 20.953125 51.171875 25.484375 53.578125 \r\nQ 30.03125 56 36.53125 56 \r\nQ 37.453125 56 38.578125 55.875 \r\nQ 39.703125 55.765625 41.0625 55.515625 \r\nz\r\n\" id=\"DejaVuSans-114\"/>\r\n      <path d=\"M 18.3125 70.21875 \r\nL 18.3125 54.6875 \r\nL 36.8125 54.6875 \r\nL 36.8125 47.703125 \r\nL 18.3125 47.703125 \r\nL 18.3125 18.015625 \r\nQ 18.3125 11.328125 20.140625 9.421875 \r\nQ 21.96875 7.515625 27.59375 7.515625 \r\nL 36.8125 7.515625 \r\nL 36.8125 0 \r\nL 27.59375 0 \r\nQ 17.1875 0 13.234375 3.875 \r\nQ 9.28125 7.765625 9.28125 18.015625 \r\nL 9.28125 47.703125 \r\nL 2.6875 47.703125 \r\nL 2.6875 54.6875 \r\nL 9.28125 54.6875 \r\nL 9.28125 70.21875 \r\nz\r\n\" id=\"DejaVuSans-116\"/>\r\n      <path d=\"M 56.203125 29.59375 \r\nL 56.203125 25.203125 \r\nL 14.890625 25.203125 \r\nQ 15.484375 15.921875 20.484375 11.0625 \r\nQ 25.484375 6.203125 34.421875 6.203125 \r\nQ 39.59375 6.203125 44.453125 7.46875 \r\nQ 49.3125 8.734375 54.109375 11.28125 \r\nL 54.109375 2.78125 \r\nQ 49.265625 0.734375 44.1875 -0.34375 \r\nQ 39.109375 -1.421875 33.890625 -1.421875 \r\nQ 20.796875 -1.421875 13.15625 6.1875 \r\nQ 5.515625 13.8125 5.515625 26.8125 \r\nQ 5.515625 40.234375 12.765625 48.109375 \r\nQ 20.015625 56 32.328125 56 \r\nQ 43.359375 56 49.78125 48.890625 \r\nQ 56.203125 41.796875 56.203125 29.59375 \r\nz\r\nM 47.21875 32.234375 \r\nQ 47.125 39.59375 43.09375 43.984375 \r\nQ 39.0625 48.390625 32.421875 48.390625 \r\nQ 24.90625 48.390625 20.390625 44.140625 \r\nQ 15.875 39.890625 15.1875 32.171875 \r\nz\r\n\" id=\"DejaVuSans-101\"/>\r\n     </defs>\r\n     <use xlink:href=\"#DejaVuSans-84\"/>\r\n     <use x=\"61.083984\" xlink:href=\"#DejaVuSans-79\"/>\r\n     <use x=\"139.794922\" xlink:href=\"#DejaVuSans-79\"/>\r\n     <use x=\"218.505859\" xlink:href=\"#DejaVuSans-76\"/>\r\n     <use x=\"274.21875\" xlink:href=\"#DejaVuSans-71\"/>\r\n     <use x=\"351.708984\" xlink:href=\"#DejaVuSans-95\"/>\r\n     <use x=\"401.708984\" xlink:href=\"#DejaVuSans-73\"/>\r\n     <use x=\"431.201172\" xlink:href=\"#DejaVuSans-68\"/>\r\n     <use x=\"508.203125\" xlink:href=\"#DejaVuSans-58\"/>\r\n     <use x=\"541.894531\" xlink:href=\"#DejaVuSans-88\"/>\r\n     <use x=\"610.400391\" xlink:href=\"#DejaVuSans-69\"/>\r\n     <use x=\"673.583984\" xlink:href=\"#DejaVuSans-95\"/>\r\n     <use x=\"723.583984\" xlink:href=\"#DejaVuSans-83\"/>\r\n     <use x=\"787.060547\" xlink:href=\"#DejaVuSans-111\"/>\r\n     <use x=\"848.242188\" xlink:href=\"#DejaVuSans-114\"/>\r\n     <use x=\"889.355469\" xlink:href=\"#DejaVuSans-116\"/>\r\n     <use x=\"928.564453\" xlink:href=\"#DejaVuSans-101\"/>\r\n     <use x=\"990.087891\" xlink:href=\"#DejaVuSans-114\"/>\r\n    </g>\r\n   </g>\r\n  </g>\r\n </g>\r\n <defs>\r\n  <clipPath id=\"pd93163047f\">\r\n   <rect height=\"217.44\" width=\"334.8\" x=\"59.690625\" y=\"22.10625\"/>\r\n  </clipPath>\r\n </defs>\r\n</svg>\r\n",
      "image/png": "[encoded data removed]"
     },
     "metadata": {
      "needs_background": "light"
     }
    }
   ],
   "source": [
    "X_droppedtest = np.asarray(df)\n",
    "xgtest = xgb.DMatrix(X_droppedtest)\n",
    "y_predict = bst.predict(xgtest)\n",
    "df['predict'] = y_predict\n",
    "\n",
    "plt.plot(df['NO_HOLD_QTY'] , y_predict)\n",
    "plt.title('TOOLG_ID:'+ df_train['TOOLG_ID'].iloc[0])\n",
    "plt.xlabel(\"WIP\")\n",
    "plt.ylabel(\"MOVE\")\n",
    " \n",
    "plt.savefig('./'+df_train['TOOLG_ID'].iloc[0]+'2.pdf',width=600, height=350)#儲存檔案\n",
    "plt.show()"
   ]
  },
  {
   "cell_type": "code",
   "execution_count": null,
   "metadata": {},
   "outputs": [],
   "source": []
  }
 ]
}