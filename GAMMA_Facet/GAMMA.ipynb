{
 "metadata": {
  "language_info": {
   "codemirror_mode": {
    "name": "ipython",
    "version": 3
   },
   "file_extension": ".py",
   "mimetype": "text/x-python",
   "name": "python",
   "nbconvert_exporter": "python",
   "pygments_lexer": "ipython3",
   "version": "3.7.9-final"
  },
  "orig_nbformat": 2,
  "kernelspec": {
   "name": "python3",
   "display_name": "Python 3.7.9 64-bit ('python37': conda)",
   "metadata": {
    "interpreter": {
     "hash": "c42b5a0b25f25b91547b1efdbb1d498b56c8afb4f9c2df8520f37980aedc3d2e"
    }
   }
  }
 },
 "nbformat": 4,
 "nbformat_minor": 2,
 "cells": [
  {
   "source": [
    "##https://github.com/BCG-Gamma/facet\n",
    "conda install -c bcg_gamma sklearndf "
   ],
   "cell_type": "markdown",
   "metadata": {}
  },
  {
   "cell_type": "code",
   "execution_count": null,
   "metadata": {},
   "outputs": [],
   "source": []
  },
  {
   "cell_type": "code",
   "execution_count": 1,
   "metadata": {},
   "outputs": [
    {
     "output_type": "error",
     "ename": "ModuleNotFoundError",
     "evalue": "No module named 'sklearndf'",
     "traceback": [
      "\u001b[0;31m---------------------------------------------------------------------------\u001b[0m",
      "\u001b[0;31mModuleNotFoundError\u001b[0m                       Traceback (most recent call last)",
      "\u001b[0;32m<ipython-input-1-82bbf79f00f8>\u001b[0m in \u001b[0;36m<module>\u001b[0;34m\u001b[0m\n\u001b[1;32m      4\u001b[0m \u001b[0;34m\u001b[0m\u001b[0m\n\u001b[1;32m      5\u001b[0m \u001b[0;31m# some helpful imports from sklearndf\u001b[0m\u001b[0;34m\u001b[0m\u001b[0;34m\u001b[0m\u001b[0;34m\u001b[0m\u001b[0m\n\u001b[0;32m----> 6\u001b[0;31m \u001b[0;32mfrom\u001b[0m \u001b[0msklearndf\u001b[0m\u001b[0;34m.\u001b[0m\u001b[0mpipeline\u001b[0m \u001b[0;32mimport\u001b[0m \u001b[0mRegressorPipelineDF\u001b[0m\u001b[0;34m\u001b[0m\u001b[0;34m\u001b[0m\u001b[0m\n\u001b[0m\u001b[1;32m      7\u001b[0m \u001b[0;32mfrom\u001b[0m \u001b[0msklearndf\u001b[0m\u001b[0;34m.\u001b[0m\u001b[0mregression\u001b[0m \u001b[0;32mimport\u001b[0m \u001b[0mRandomForestRegressorDF\u001b[0m\u001b[0;34m\u001b[0m\u001b[0;34m\u001b[0m\u001b[0m\n\u001b[1;32m      8\u001b[0m \u001b[0;34m\u001b[0m\u001b[0m\n",
      "\u001b[0;31mModuleNotFoundError\u001b[0m: No module named 'sklearndf'"
     ]
    }
   ],
   "source": [
    "# standard imports\n",
    "import pandas as pd\n",
    "from sklearn.model_selection import RepeatedKFold\n",
    "\n",
    "# some helpful imports from sklearndf\n",
    "from sklearndf.pipeline import RegressorPipelineDF\n",
    "from sklearndf.regression import RandomForestRegressorDF\n",
    "\n",
    "# relevant FACET imports\n",
    "from facet.data import Sample\n",
    "from facet.selection import LearnerRanker, LearnerGrid\n",
    "\n",
    "# load the diabetes dataset\n",
    "diabetes_df = pd.read_csv('diabetes_quickstart.csv')\n",
    "\n",
    "# create FACET sample object\n",
    "diabetes_sample = Sample(observations=diabetes_df, target_name=\"Disease_progression\")\n",
    "\n",
    "# create a (trivial) pipeline for a random forest regressor\n",
    "rnd_forest_reg = RegressorPipelineDF(\n",
    "    regressor=RandomForestRegressorDF(random_state=42)\n",
    ")\n",
    "\n",
    "# define grid of models which are \"competing\" against each other\n",
    "rnd_forest_grid = [\n",
    "    LearnerGrid(\n",
    "        pipeline=rnd_forest_reg,\n",
    "        learner_parameters={\n",
    "            \"min_samples_leaf\": [8, 11, 15]\n",
    "        }\n",
    "    ),\n",
    "]\n",
    "\n",
    "# create repeated k-fold CV iterator\n",
    "rkf_cv = RepeatedKFold(n_splits=5, n_repeats=10, random_state=42)\n",
    "\n",
    "# rank your candidate models by performance (default is mean CV score - 2*SD)\n",
    "ranker = LearnerRanker(\n",
    "    grids=rnd_forest_grid, cv=rkf_cv, n_jobs=-3\n",
    ").fit(sample=diabetes_sample)\n",
    "\n",
    "# get summary report\n",
    "ranker.summary_report()"
   ]
  }
 ]
}