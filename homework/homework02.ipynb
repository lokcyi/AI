{
 "metadata": {
  "language_info": {
   "codemirror_mode": {
    "name": "ipython",
    "version": 3
   },
   "file_extension": ".py",
   "mimetype": "text/x-python",
   "name": "python",
   "nbconvert_exporter": "python",
   "pygments_lexer": "ipython3",
   "version": "3.7.9-final"
  },
  "orig_nbformat": 2,
  "kernelspec": {
   "name": "python3",
   "display_name": "Python 3",
   "language": "python"
  }
 },
 "nbformat": 4,
 "nbformat_minor": 2,
 "cells": [
  {
   "cell_type": "code",
   "execution_count": 1,
   "metadata": {},
   "outputs": [],
   "source": [
    "import tensorflow as tf\n",
    "import numpy as np \n",
    "import math\n",
    "import matplotlib.pyplot as plt\n",
    "import pandas as pd\n",
    "from sklearn.neighbors import KNeighborsClassifier\n",
    "from sklearn.model_selection import GridSearchCV\n",
    "from sklearn.preprocessing import LabelEncoder\n",
    "from sklearn import preprocessing\n",
    "save_model = './training_model2.h5'\n"
   ]
  },
  {
   "cell_type": "code",
   "execution_count": 3,
   "metadata": {},
   "outputs": [],
   "source": [
    "def readDataFromFile(file_path):\n",
    "    df = pd.read_csv(file_path)\n",
    "    return df\n",
    "\n"
   ]
  },
  {
   "cell_type": "code",
   "execution_count": 4,
   "metadata": {},
   "outputs": [],
   "source": [
    "def missData(df_train):\n",
    "    # 去掉标签\n",
    "    X_missing = df_train#.drop(['survived'],axis=1)\n",
    "\n",
    "    # 查看缺失情况\n",
    "    missing = X_missing.isna().sum()\n",
    "    missing = pd.DataFrame(data={'特徵': missing.index,'缺失值個數':missing.values})\n",
    "    #通过~取反，选取不包含数字0的行\n",
    "    missing = missing[~missing['缺失值個數'].isin([0])]\n",
    "    # 缺失比例\n",
    "    missing['缺失比率'] =  missing['缺失值個數']/X_missing.shape[0]\n",
    "    print(missing)\n",
    "    # 排序\n",
    "    missing.sort_values(by='缺失比率',ascending=False)\n",
    "\n",
    "    #柱形图可视化\n",
    "    import matplotlib.pyplot as plt\n",
    "    import numpy as np\n",
    "    import pylab as pl\n",
    "    fig = plt.figure()#figsize=(18,6))\n",
    "    plt.bar(np.arange(missing.shape[0]), list(missing['缺失比率'].values), align = 'center',color=['red','green','yellow','steelblue'])\n",
    "    plt.title('Histogram of missing value of variables')\n",
    "    plt.xlabel('variables names')\n",
    "    plt.ylabel('missing rate')\n",
    "    # 添加x轴标签，并旋转90度\n",
    "    #plt.xticks(np.arange(missing.shape[0]),list(missing['特征']))\n",
    "    plt.xticks(rotation=90)\n",
    "    # 添加数值显示\n",
    "    # for x,y in enumerate(list(missing['缺失比例'].values)):\n",
    "    #     plt.text(x,y*-0.12,'{:.2%}'.format(y),ha='center',rotation=90)    \n",
    "        \n",
    "    #     plt.xticks(rotation=90)\n",
    "    # 添加数值显示\n",
    "    # for x,y in enumerate(list(missing['缺失比例'].values)):\n",
    "    #     plt.text(x,y+0.12,'{:.2%}'.format(y),ha='center',rotation=90)    \n",
    "    #plt.ylim([0,1.2])\n",
    "    plt.show()"
   ]
  },
  {
   "cell_type": "code",
   "execution_count": 5,
   "metadata": {},
   "outputs": [],
   "source": [
    "#def handleData(df):\n",
    "   # df = readDataFromFile(source_file_path)\n",
    "\n",
    "    # df['PRIORITY'] = df['PRIORITY'].astype(str)\n",
    "    # df['IS_MAIN_ROUTE'] = df['IS_MAIN_ROUTE'].astype(str)\n",
    "\n",
    "    # df['DATA_DATE'] = df['DATA_DATE'].astype(str)\n",
    "    # df = df.loc[df['LOT_TYPE']=='FDY']\n",
    "    # df = df.loc[df['LAYER']!='XX']\n",
    "\n",
    "    # # df.fillna(0, inplace=True)\n",
    "    # df = df.assign(PROCESSED_DAYS = ((pd.to_datetime(df['DATA_DATE'], format='%Y%m%d')-pd.to_datetime(df['WS_DATE'], format='%Y%m%d'))/pd.Timedelta(1, 'D')).fillna(0).astype(int))\n",
    "    # df = df.assign(REMAIN_DAYS = ((pd.to_datetime(df['ACTUAL_WP_OUT'], format='%Y%m%d')-pd.to_datetime(df['DATA_DATE'], format='%Y%m%d'))/pd.Timedelta(1, 'D')).fillna(0).astype(int))\n",
    "\n",
    "    # df2 = df.drop(columns=['IDX','LOT_TYPE','WS_DATE','ACTUAL_WP_OUT','DATA_DATE','LAYER','LOT_ID'])\n",
    "\n",
    "    # labelencoder = LabelEncoder()\n",
    "    # df2['PRIORITY'] = labelencoder.fit_transform(df2['PRIORITY'])\n",
    "    # df2['IS_MAIN_ROUTE'] = labelencoder.fit_transform(df2['IS_MAIN_ROUTE'])\n",
    "    # df2['STATUS'] = labelencoder.fit_transform(df2['STATUS'])\n",
    "    # df2['CHIPNAME'] = labelencoder.fit_transform(df2['CHIPNAME'])\n",
    "\n",
    "    # df3 = df2.drop(df2.loc[:, '0I':'UG'].columns, axis = 1) \n",
    "    # # df3.info()"
   ]
  },
  {
   "cell_type": "code",
   "execution_count": 6,
   "metadata": {},
   "outputs": [],
   "source": [
    "def EDA(df_train):\n",
    "    import sweetviz as sv\n",
    "    pairwise_analysis='off' #相關性和其他型別的資料關聯可能需要花費較長時間。如果超過了某個閾值，就需要設定這個引數為on或者off，以判斷是否需要分析資料相關性。\n",
    "    report_train = sv.analyze([df_train, 'train'],\n",
    "                                    target_feat='MOVE_QTY' \n",
    "    )\n",
    "    report_train.show_html(filepath='Basic_train_report.html' ) # 儲存為html的格式\n",
    "\n",
    "    compare_subsets_report = sv.compare_intra(df_train,\n",
    "                                            df_train['Finish']==1, # 給條件區分\n",
    "                                            ['Finish', 'notFinish'], # 為兩個子資料集命名 \n",
    "                                            target_feat='MOVE_QTY',\n",
    "                                            )\n",
    "\n",
    "    compare_subsets_report.show_html(filepath='Compare_male_female_report.html')"
   ]
  },
  {
   "cell_type": "code",
   "execution_count": 7,
   "metadata": {},
   "outputs": [],
   "source": [
    "def preHandleDat(df):\n",
    "    \n",
    "    #rescaling 特徵縮放(0~1) 特徵最小/全距\n",
    "    # minmax_scale = preprocessing.MinMaxScaler(feature_range=(0, 1))  \n",
    "    # X_dropped = minmax_scale.fit_transform(X_dropped)  \n",
    "    #num_cols=['M','U','PT','UP_TIME','EQP_UTIL','CA','CS','WIP_QTY2']\n",
    "    #  0   TOOLG_ID     120018 non-null  object \n",
    "    # 1   NO_HOLD_QTY  120018 non-null  float64\n",
    "    # 2   MOVE_QTY     120018 non-null  float64\n",
    "    # 3   M            120018 non-null  float64\n",
    "    # 4   U            120018 non-null  float64\n",
    "    # 5   PT           120018 non-null  float64\n",
    "    # 6   UP_TIME      120018 non-null  float64\n",
    "    # 7   EQP_UTIL     120018 non-null  float64\n",
    "    # 8   TC           120018 non-null  float64\n",
    "    # 9   CS           120018 non-null  float64\n",
    "    # 10  AI           120018 non-null  float64\n",
    "    # 11  C_AI         120018 non-null  float64\n",
    "    # 12  WEEKDAY      120018 non-null  object \n",
    "    # 13  ToolPrefix   120018 non-null  object \n",
    "    # 14  ToolSub      119528 non-null  object \n",
    "\n",
    "\n",
    "    num_cols=['NO_HOLD_QTY','M','U','PT','UP_TIME','EQP_UTIL','TC','CS','AI','C_AI']\n",
    "    \n",
    "    #  8   Finish           3898 non-null   object \n",
    "    #  9   WEEKDAY          3898 non-null   object \n",
    "    #  11  ToolPrefix       3898 non-null   object \n",
    "    #  12  ToolSub          3818 non-null   object \n",
    "    #  13  ToolPrefix_NEXT  3898 non-null   object \n",
    "    #  14  ToolSub_NEXT     3806 non-null   object  \n",
    "    from sklearn.preprocessing import StandardScaler\n",
    "    from sklearn.preprocessing import MinMaxScaler\n",
    "\n",
    "    # std_scaler = StandardScaler()\n",
    "    # std_scaler.fit(df_train[num_cols])\n",
    "    # df_train_scal = df_train\n",
    "    # df_train_scal[num_cols]= std_scaler.transform(df_train[num_cols])\n",
    "    # df_train_scal \n",
    "    minMax_scaler = MinMaxScaler()\n",
    "    minMax_scaler.fit(df_train[num_cols])\n",
    "    df_train_scal = df\n",
    "    df_train_scal[num_cols]= minMax_scaler.transform(df[num_cols])\n",
    "    #==================================================\n",
    "\n",
    "    #one hot encoder\n",
    "    #cat_cols = ['Finish','WEEKDAY','ToolPrefix','ToolSub','ToolPrefix_NEXT','ToolSub_NEXT','TOOLG_ID']\n",
    "    cat_cols = [ 'WEEKDAY','ToolPrefix','ToolSub','TOOLG_ID']\n",
    "    df_train_eh =pd.get_dummies(df_train_scal.drop('MOVE_QTY', axis=1),columns=cat_cols)\n",
    "    # df_test_eh=pd.get_dummies(df.drop('MOVE_QTY', axis=1))\n",
    "    #df_test_eh = df_test_eh.reindex(columns = df_test_eh.columns, fill_value=0)\n",
    "   \n",
    "\n",
    "\n",
    "    # #rescaling 特徵縮放(0~1) 特徵最小/全距\n",
    "    # # minmax_scale = preprocessing.MinMaxScaler(feature_range=(0, 1))  \n",
    "    # # X_dropped = minmax_scale.fit_transform(X_dropped)  \n",
    "     \n",
    "    # from sklearn.preprocessing import StandardScaler\n",
    "\n",
    "    # # scaler = StandardScaler().fit(X)\n",
    "    # # X_dropped = scaler.transform(X_dropped)\n",
    "    # # Scaling features\n",
    "    # std_scaler = StandardScaler()\n",
    "    # df_test_eh = std_scaler.fit_transform(df_test_eh)\n",
    "    print(df_train_eh.head())\n",
    "    return df_train_eh"
   ]
  },
  {
   "cell_type": "code",
   "execution_count": 8,
   "metadata": {},
   "outputs": [],
   "source": [
    "def trainModel(df,save_model):\n",
    "    df_train_eh = preHandleDat(df)\n",
    "    #======================================================================================\n",
    "    X_dropped = np.asarray(df_train_eh)\n",
    "    Y_dropped = np.asarray(df['MOVE_QTY'])\n",
    "    print(X_dropped)\n",
    "    print(Y_dropped)\n",
    "\n",
    "    #1.建立模型(Model)\n",
    "    #將Layer放入Model中\n",
    "    # Activation Functions\n",
    "    # A.softmax：值介於 [0,1] 之間，且機率總和等於 1，適合多分類使用。\n",
    "    # B.sigmoid：值介於 [0,1] 之間，且分布兩極化，大部分不是 0，就是 1，適合二分法。\n",
    "    # C.Relu (Rectified Linear Units)：忽略負值，介於 [0,∞] 之間。\n",
    "    # D.tanh：與sigmoid類似，但值介於[-1,1]之間，即傳導有負值。\n",
    "    model = tf.keras.Sequential([\n",
    "        tf.keras.layers.Dense(units=16,input_shape=[X_dropped.shape[1]]), # units：输出维度\n",
    "        # tf.keras.layers.Dense(units=32),\n",
    "        # tf.keras.layers.Dense(units=64),\n",
    "        # tf.keras.layers.Dropout(0.2),\n",
    "        # tf.keras.layers.Dense(units=32),\n",
    "        # tf.keras.layers.Dropout(0.2),\n",
    "        # tf.keras.layers.Dense(units=1)\n",
    "\n",
    "        \n",
    "        tf.keras.layers.Dense(units=16, kernel_initializer='random_uniform', activation='relu'),\n",
    "        tf.keras.layers.Dense(units=16, kernel_initializer='random_uniform', activation='relu'),\n",
    "        #tf.keras.layers.Dense(units=1)\n",
    "        tf.keras.layers.Dense(units=1,kernel_initializer='normal', activation='relu')\n",
    "\n",
    "        ])\n",
    "    model.summary()\n",
    "    #======================================================================================\n",
    "    # 定義 tensorboard callback\n",
    "    tensorboard_callback = [tf.keras.callbacks.TensorBoard(log_dir='D:/Projects/AI/POC/homework/logs2')]\n",
    "    #======================================================================================\n",
    "    #2. 確立目標及求解方法：以compile函數定義損失函數(loss)、優化函數(optimizer)及成效衡量指標(mertrics)。\n",
    "\n",
    "    #compile()方法來指定損失函數與優化函數，也可以額外指定一系列的訓練和評估期間計算評量標準\n",
    "    #model.compile(loss='binary_crossentropy', optimizer='adam', metrics=['accuracy'])  \n",
    "    #root_mean_squared_error\n",
    "    # from tensorflow.keras import backend as K \n",
    "    # def root_mean_squared_error(y_true, y_pred): \n",
    "    #     return K.sqrt(K.mean(K.square(y_pred - y_true), axis=-1)) \n",
    "    # # model.compile( loss = root_mean_squared_error,optimizer = \"rmsprop\",metrics =[\"accuracy\"],callbacks=tensorboard_callback) \n",
    "    # model.compile(loss = root_mean_squared_error,metrics =[\"accuracy\"],callbacks=tensorboard_callback) \n",
    "    # \n",
    "    #--------------------------\n",
    "    #[Keras 損失函數(loss)]\n",
    "    #   A.均方誤差(mean_squared_error)----mean_squared_error-------------------------------\n",
    "    #   B.Hinge Error (hinge)：是一種單邊誤差，不考慮負值，適用於『支援向量機』(SVM)的最大間隔分類法(maximum-margin classification)\n",
    "     #  C.Cross Entropy (categorical_crossentropy)：當預測值與實際值愈相近，損失函數就愈小，反之差距很大，就會更影響損失函數的值，這篇文章 主張要用 Cross Entropy 取代 MSE，因為，在梯度下時，Cross Entropy 計算速度較快，其他變形包括 sparse_categorical_crossentropy、binary_crossentropy。\n",
    "     #  D.其他還有 logcosh、kullback_leibler_divergence、poisson、cosine_proximity 等。\n",
    "    #--------------------------\n",
    "    #[優化函數(Optimizer)]\n",
    "    #   A. 隨機梯度下降法(Stochastic Gradient Descent, SGD)：就是利用偏微分，逐步按著下降的方向，尋找最佳解。它含以下參數：\n",
    "    #        Learning Rate (lr)：逼近最佳解的學習速率，速率訂的太小，計算最佳解的時間花費較長，訂的太大，可能會在最佳解兩                               旁擺盪，找不到最佳解。\n",
    "    #        momentum：更新的動能，一開始學習速率可以大一點，接近最佳解時，學習速率步幅就要小一點，一般訂為0.5，不要那麼大時，可改為 0.9。\n",
    "    #        decay：每次更新後，學習速率隨之衰減的比率。\n",
    "    #        nesterov：是否使用 Nesterov momentum，請參考 http://blog.csdn.net/luo123n/article/details/48239963 。\n",
    "    #  B.Adam：一般而言，比SGD模型訓練成本較低，請參考『Adam - A Method for Stochastic Optimization』，包含相關參數建議值，含以下參數：\n",
    "\n",
    "    #        lr：逼近最佳解的學習速率，預設值為0.001。\n",
    "    #        beta_1：一階矩估計的指數衰減因子，預設值為0.9。\n",
    "    #        beta_2：二階矩估計的指數衰減因子，預設值為0.999。\n",
    "    #        epsilon：為一大於但接近 0 的數，放在分母，避免產生除以 0 的錯誤，預設值為1e-08。\n",
    "    #        decay：每次更新後，學習速率隨之衰減的比率。\n",
    "    # model.compile(loss='mean_squared_error', optimizer=tf.keras.optimizers.Adam(0.01)\n",
    "    #                     , metrics= ['accuracy'],callbacks=tensorboard_callback) \n",
    "    # model.compile(loss='mean_squared_error', optimizer=tf.keras.optimizers.SGD()\n",
    "    #                     , metrics= ['accuracy'],callbacks=tensorboard_callback) \n",
    "    model.compile(loss='mean_squared_error', optimizer='adam'\n",
    "                        , metrics= ['accuracy'],callbacks=tensorboard_callback) \n",
    "    #======================================================================================\n",
    "\n",
    "    #3.訓練：以compile函數進行訓練，指定訓練的樣本資料(x, y)，並撥一部分資料作驗證，還有要訓練幾個週期、訓練資料的抽樣方式。\n",
    "    # train_history = model.fit(x=X_dropped, y=Y_dropped,\n",
    "    #                validation_data=(X_dropped_test, Y_dropped_test), # Use this instead\n",
    "    #                 epochs=50, batch_size=30, verbose=2) #validation_split=0.1, 用最後的10%資料驗證 batch_size=200: 每一批次200筆資料 verbose=2: 顯示訓練過程\n",
    "    train_history = model.fit(x=X_dropped, y=Y_dropped,\n",
    "                #validation_data=(X_dropped_test, Y_dropped_test), # Use this instead\n",
    "                validation_split=0.20, epochs=50, batch_size=32, verbose=1) #validation_split=0.1, 用最後的10%資料驗證 batch_size=200: 每一批次200筆資料\n",
    "    # early_stopping = tf.keras.callbacks.EarlyStopping(patience=25)\n",
    "    # train_history = model.fit(x=X_dropped, y=Y_dropped, validation_split=0.1, epochs=200, batch_size=30, verbose=2)\n",
    "    # train_history = model.fit(X_dropped, Y_dropped, epochs=20, verbose=True)\n",
    "    \n",
    "    model.save(save_model)\n",
    "    # model.compile(loss='mean_squared_error', optimizer=tf.keras.optimizers.Adam(0.01))\n",
    "\n",
    "    #評估(Evaluation)：訓練完後，計算成效。\n",
    "    # 顯示訓練成果(分數)\n",
    "    scores = model.evaluate(X_dropped, Y_dropped) \n",
    "    print(\"Finished training the model\",scores)\n",
    "\n",
    "    # plt.xlabel('Epoch Number')\n",
    "    # plt.ylabel(\"Loss Magnitude\")\n",
    "    # plt.plot(history.history['loss'])\n",
    "    # plt.show()\n",
    "    plt.xlabel('Epoch Number')\n",
    "    plt.ylabel(\"Loss Magnitude\")\n",
    "    plt.plot(train_history.history['loss'], label = 'loss')\n",
    "\n",
    "    #plt.ylabel(\"accuracy\")\n",
    "    plt.plot(train_history.history['val_loss'], label = 'accuracy')# 準確度\n",
    "\n",
    "    plt.show()\n",
    "    #return df_test_eh"
   ]
  },
  {
   "cell_type": "code",
   "execution_count": 9,
   "metadata": {},
   "outputs": [],
   "source": [
    "def TestModel(df,save_model):\n",
    "    df_test_eh = preHandleDat(df)\n",
    "    X_dropped = np.asarray(df_test_eh)\n",
    "    Y_dropped = np.asarray(df['MOVE_QTY'])\n",
    "     #======================================================================================\n",
    "#      #one hot encoder\n",
    "#     df_test_eh=pd.get_dummies(df.drop('MOVE_QTY', axis=1))\n",
    "#     df_test_eh = df_test_eh.reindex(columns = df.columns, fill_value=0)\n",
    "    \n",
    "\n",
    "#     #rescaling 特徵縮放(0~1) 特徵最小/全距\n",
    "#     minmax_scale = preprocessing.MinMaxScaler(feature_range=(0, 1))  \n",
    "#     X_dropped = minmax_scale.fit_transform(X_dropped)  \n",
    "    # df_test3.info()\n",
    "    model = tf.keras.models.load_model(save_model)\n",
    "    # print(model.predict(df_test3))\n",
    "\n",
    "    # plt.xlabel('Seq Number')\n",
    "    plt.ylabel(\"MOVE_QTY\")\n",
    "\n",
    "    plt.plot(model.predict(X_dropped), label = \"Predict\", color='red', marker='.',linewidth = '0.5')\n",
    "    plt.legend()\n",
    "    plt.show()\n",
    " "
   ]
  },
  {
   "cell_type": "code",
   "execution_count": 10,
   "metadata": {},
   "outputs": [],
   "source": [
    "#Training('.homework/training_data_20210226.csv')\n",
    "# Testing('D:/Documents/機器學習/Data/Testing_Data.xlsx')"
   ]
  },
  {
   "cell_type": "code",
   "execution_count": 11,
   "metadata": {},
   "outputs": [
    {
     "output_type": "stream",
     "name": "stdout",
     "text": [
      "<class 'pandas.core.frame.DataFrame'>\nRangeIndex: 120018 entries, 0 to 120017\nData columns (total 14 columns):\n #   Column       Non-Null Count   Dtype  \n---  ------       --------------   -----  \n 0   MFG_DATE     120018 non-null  int64  \n 1   TOOLG_ID     120018 non-null  object \n 2   WIP_QTY      120018 non-null  float64\n 3   NO_HOLD_QTY  120018 non-null  float64\n 4   MOVE_QTY     120018 non-null  float64\n 5   M            118540 non-null  float64\n 6   U            118442 non-null  float64\n 7   PT           120018 non-null  float64\n 8   UP_TIME      118540 non-null  float64\n 9   EQP_UTIL     118540 non-null  float64\n 10  TC           115972 non-null  float64\n 11  CS           115972 non-null  float64\n 12  AI           113521 non-null  float64\n 13  C_AI         112975 non-null  float64\ndtypes: float64(12), int64(1), object(1)\nmemory usage: 12.8+ MB\n"
     ]
    }
   ],
   "source": [
    "df_train_orign =readDataFromFile('./training_data_20210302.csv')\n",
    "df_train = df_train_orign\n",
    "df_train.info()\n",
    "\n"
   ]
  },
  {
   "cell_type": "code",
   "execution_count": 12,
   "metadata": {},
   "outputs": [
    {
     "output_type": "stream",
     "name": "stdout",
     "text": [
      "          特徵  缺失值個數      缺失比率\n5          M   1478  0.012315\n6          U   1576  0.013131\n8    UP_TIME   1478  0.012315\n9   EQP_UTIL   1478  0.012315\n10        TC   4046  0.033712\n11        CS   4046  0.033712\n12        AI   6497  0.054134\n13      C_AI   7043  0.058683\n"
     ]
    },
    {
     "output_type": "display_data",
     "data": {
      "text/plain": "<Figure size 432x288 with 1 Axes>",
      "image/svg+xml": "<?xml version=\"1.0\" encoding=\"utf-8\" standalone=\"no\"?>\r\n<!DOCTYPE svg PUBLIC \"-//W3C//DTD SVG 1.1//EN\"\r\n  \"http://www.w3.org/Graphics/SVG/1.1/DTD/svg11.dtd\">\r\n<!-- Created with matplotlib (https://matplotlib.org/) -->\r\n<svg height=\"273.99875pt\" version=\"1.1\" viewBox=\"0 0 392.14375 273.99875\" width=\"392.14375pt\" xmlns=\"http://www.w3.org/2000/svg\" xmlns:xlink=\"http://www.w3.org/1999/xlink\">\r\n <metadata>\r\n  <rdf:RDF xmlns:cc=\"http://creativecommons.org/ns#\" xmlns:dc=\"http://purl.org/dc/elements/1.1/\" xmlns:rdf=\"http://www.w3.org/1999/02/22-rdf-syntax-ns#\">\r\n   <cc:Work>\r\n    <dc:type rdf:resource=\"http://purl.org/dc/dcmitype/StillImage\"/>\r\n    <dc:date>2021-03-02T19:05:26.857589</dc:date>\r\n    <dc:format>image/svg+xml</dc:format>\r\n    <dc:creator>\r\n     <cc:Agent>\r\n      <dc:title>Matplotlib v3.3.3, https://matplotlib.org/</dc:title>\r\n     </cc:Agent>\r\n    </dc:creator>\r\n   </cc:Work>\r\n  </rdf:RDF>\r\n </metadata>\r\n <defs>\r\n  <style type=\"text/css\">*{stroke-linecap:butt;stroke-linejoin:round;}</style>\r\n </defs>\r\n <g id=\"figure_1\">\r\n  <g id=\"patch_1\">\r\n   <path d=\"M 0 273.99875 \r\nL 392.14375 273.99875 \r\nL 392.14375 0 \r\nL 0 0 \r\nz\r\n\" style=\"fill:none;\"/>\r\n  </g>\r\n  <g id=\"axes_1\">\r\n   <g id=\"patch_2\">\r\n    <path d=\"M 50.14375 239.758125 \r\nL 384.94375 239.758125 \r\nL 384.94375 22.318125 \r\nL 50.14375 22.318125 \r\nz\r\n\" style=\"fill:#ffffff;\"/>\r\n   </g>\r\n   <g id=\"patch_3\">\r\n    <path clip-path=\"url(#p647edd91ab)\" d=\"M 65.361932 239.758125 \r\nL 96.578715 239.758125 \r\nL 96.578715 196.30041 \r\nL 65.361932 196.30041 \r\nz\r\n\" style=\"fill:#ff0000;\"/>\r\n   </g>\r\n   <g id=\"patch_4\">\r\n    <path clip-path=\"url(#p647edd91ab)\" d=\"M 104.382911 239.758125 \r\nL 135.599694 239.758125 \r\nL 135.599694 193.418911 \r\nL 104.382911 193.418911 \r\nz\r\n\" style=\"fill:#008000;\"/>\r\n   </g>\r\n   <g id=\"patch_5\">\r\n    <path clip-path=\"url(#p647edd91ab)\" d=\"M 143.40389 239.758125 \r\nL 174.620673 239.758125 \r\nL 174.620673 196.30041 \r\nL 143.40389 196.30041 \r\nz\r\n\" style=\"fill:#ffff00;\"/>\r\n   </g>\r\n   <g id=\"patch_6\">\r\n    <path clip-path=\"url(#p647edd91ab)\" d=\"M 182.424869 239.758125 \r\nL 213.641652 239.758125 \r\nL 213.641652 196.30041 \r\nL 182.424869 196.30041 \r\nz\r\n\" style=\"fill:#4682b4;\"/>\r\n   </g>\r\n   <g id=\"patch_7\">\r\n    <path clip-path=\"url(#p647edd91ab)\" d=\"M 221.445848 239.758125 \r\nL 252.662631 239.758125 \r\nL 252.662631 120.793366 \r\nL 221.445848 120.793366 \r\nz\r\n\" style=\"fill:#ff0000;\"/>\r\n   </g>\r\n   <g id=\"patch_8\">\r\n    <path clip-path=\"url(#p647edd91ab)\" d=\"M 260.466827 239.758125 \r\nL 291.68361 239.758125 \r\nL 291.68361 120.793366 \r\nL 260.466827 120.793366 \r\nz\r\n\" style=\"fill:#008000;\"/>\r\n   </g>\r\n   <g id=\"patch_9\">\r\n    <path clip-path=\"url(#p647edd91ab)\" d=\"M 299.487806 239.758125 \r\nL 330.704589 239.758125 \r\nL 330.704589 48.726479 \r\nL 299.487806 48.726479 \r\nz\r\n\" style=\"fill:#ffff00;\"/>\r\n   </g>\r\n   <g id=\"patch_10\">\r\n    <path clip-path=\"url(#p647edd91ab)\" d=\"M 338.508785 239.758125 \r\nL 369.725568 239.758125 \r\nL 369.725568 32.672411 \r\nL 338.508785 32.672411 \r\nz\r\n\" style=\"fill:#4682b4;\"/>\r\n   </g>\r\n   <g id=\"matplotlib.axis_1\">\r\n    <g id=\"xtick_1\">\r\n     <g id=\"line2d_1\">\r\n      <defs>\r\n       <path d=\"M 0 0 \r\nL 0 3.5 \r\n\" id=\"m9070e6ff66\" style=\"stroke:#000000;stroke-width:0.8;\"/>\r\n      </defs>\r\n      <g>\r\n       <use style=\"stroke:#000000;stroke-width:0.8;\" x=\"80.970323\" xlink:href=\"#m9070e6ff66\" y=\"239.758125\"/>\r\n      </g>\r\n     </g>\r\n     <g id=\"text_1\">\r\n      <!-- 0 -->\r\n      <g transform=\"translate(83.729698 253.120625)rotate(-90)scale(0.1 -0.1)\">\r\n       <defs>\r\n        <path d=\"M 31.78125 66.40625 \r\nQ 24.171875 66.40625 20.328125 58.90625 \r\nQ 16.5 51.421875 16.5 36.375 \r\nQ 16.5 21.390625 20.328125 13.890625 \r\nQ 24.171875 6.390625 31.78125 6.390625 \r\nQ 39.453125 6.390625 43.28125 13.890625 \r\nQ 47.125 21.390625 47.125 36.375 \r\nQ 47.125 51.421875 43.28125 58.90625 \r\nQ 39.453125 66.40625 31.78125 66.40625 \r\nz\r\nM 31.78125 74.21875 \r\nQ 44.046875 74.21875 50.515625 64.515625 \r\nQ 56.984375 54.828125 56.984375 36.375 \r\nQ 56.984375 17.96875 50.515625 8.265625 \r\nQ 44.046875 -1.421875 31.78125 -1.421875 \r\nQ 19.53125 -1.421875 13.0625 8.265625 \r\nQ 6.59375 17.96875 6.59375 36.375 \r\nQ 6.59375 54.828125 13.0625 64.515625 \r\nQ 19.53125 74.21875 31.78125 74.21875 \r\nz\r\n\" id=\"DejaVuSans-48\"/>\r\n       </defs>\r\n       <use xlink:href=\"#DejaVuSans-48\"/>\r\n      </g>\r\n     </g>\r\n    </g>\r\n    <g id=\"xtick_2\">\r\n     <g id=\"line2d_2\">\r\n      <g>\r\n       <use style=\"stroke:#000000;stroke-width:0.8;\" x=\"119.991302\" xlink:href=\"#m9070e6ff66\" y=\"239.758125\"/>\r\n      </g>\r\n     </g>\r\n     <g id=\"text_2\">\r\n      <!-- 1 -->\r\n      <g transform=\"translate(122.750677 253.120625)rotate(-90)scale(0.1 -0.1)\">\r\n       <defs>\r\n        <path d=\"M 12.40625 8.296875 \r\nL 28.515625 8.296875 \r\nL 28.515625 63.921875 \r\nL 10.984375 60.40625 \r\nL 10.984375 69.390625 \r\nL 28.421875 72.90625 \r\nL 38.28125 72.90625 \r\nL 38.28125 8.296875 \r\nL 54.390625 8.296875 \r\nL 54.390625 0 \r\nL 12.40625 0 \r\nz\r\n\" id=\"DejaVuSans-49\"/>\r\n       </defs>\r\n       <use xlink:href=\"#DejaVuSans-49\"/>\r\n      </g>\r\n     </g>\r\n    </g>\r\n    <g id=\"xtick_3\">\r\n     <g id=\"line2d_3\">\r\n      <g>\r\n       <use style=\"stroke:#000000;stroke-width:0.8;\" x=\"159.012281\" xlink:href=\"#m9070e6ff66\" y=\"239.758125\"/>\r\n      </g>\r\n     </g>\r\n     <g id=\"text_3\">\r\n      <!-- 2 -->\r\n      <g transform=\"translate(161.771656 253.120625)rotate(-90)scale(0.1 -0.1)\">\r\n       <defs>\r\n        <path d=\"M 19.1875 8.296875 \r\nL 53.609375 8.296875 \r\nL 53.609375 0 \r\nL 7.328125 0 \r\nL 7.328125 8.296875 \r\nQ 12.9375 14.109375 22.625 23.890625 \r\nQ 32.328125 33.6875 34.8125 36.53125 \r\nQ 39.546875 41.84375 41.421875 45.53125 \r\nQ 43.3125 49.21875 43.3125 52.78125 \r\nQ 43.3125 58.59375 39.234375 62.25 \r\nQ 35.15625 65.921875 28.609375 65.921875 \r\nQ 23.96875 65.921875 18.8125 64.3125 \r\nQ 13.671875 62.703125 7.8125 59.421875 \r\nL 7.8125 69.390625 \r\nQ 13.765625 71.78125 18.9375 73 \r\nQ 24.125 74.21875 28.421875 74.21875 \r\nQ 39.75 74.21875 46.484375 68.546875 \r\nQ 53.21875 62.890625 53.21875 53.421875 \r\nQ 53.21875 48.921875 51.53125 44.890625 \r\nQ 49.859375 40.875 45.40625 35.40625 \r\nQ 44.1875 33.984375 37.640625 27.21875 \r\nQ 31.109375 20.453125 19.1875 8.296875 \r\nz\r\n\" id=\"DejaVuSans-50\"/>\r\n       </defs>\r\n       <use xlink:href=\"#DejaVuSans-50\"/>\r\n      </g>\r\n     </g>\r\n    </g>\r\n    <g id=\"xtick_4\">\r\n     <g id=\"line2d_4\">\r\n      <g>\r\n       <use style=\"stroke:#000000;stroke-width:0.8;\" x=\"198.03326\" xlink:href=\"#m9070e6ff66\" y=\"239.758125\"/>\r\n      </g>\r\n     </g>\r\n     <g id=\"text_4\">\r\n      <!-- 3 -->\r\n      <g transform=\"translate(200.792635 253.120625)rotate(-90)scale(0.1 -0.1)\">\r\n       <defs>\r\n        <path d=\"M 40.578125 39.3125 \r\nQ 47.65625 37.796875 51.625 33 \r\nQ 55.609375 28.21875 55.609375 21.1875 \r\nQ 55.609375 10.40625 48.1875 4.484375 \r\nQ 40.765625 -1.421875 27.09375 -1.421875 \r\nQ 22.515625 -1.421875 17.65625 -0.515625 \r\nQ 12.796875 0.390625 7.625 2.203125 \r\nL 7.625 11.71875 \r\nQ 11.71875 9.328125 16.59375 8.109375 \r\nQ 21.484375 6.890625 26.8125 6.890625 \r\nQ 36.078125 6.890625 40.9375 10.546875 \r\nQ 45.796875 14.203125 45.796875 21.1875 \r\nQ 45.796875 27.640625 41.28125 31.265625 \r\nQ 36.765625 34.90625 28.71875 34.90625 \r\nL 20.21875 34.90625 \r\nL 20.21875 43.015625 \r\nL 29.109375 43.015625 \r\nQ 36.375 43.015625 40.234375 45.921875 \r\nQ 44.09375 48.828125 44.09375 54.296875 \r\nQ 44.09375 59.90625 40.109375 62.90625 \r\nQ 36.140625 65.921875 28.71875 65.921875 \r\nQ 24.65625 65.921875 20.015625 65.03125 \r\nQ 15.375 64.15625 9.8125 62.3125 \r\nL 9.8125 71.09375 \r\nQ 15.4375 72.65625 20.34375 73.4375 \r\nQ 25.25 74.21875 29.59375 74.21875 \r\nQ 40.828125 74.21875 47.359375 69.109375 \r\nQ 53.90625 64.015625 53.90625 55.328125 \r\nQ 53.90625 49.265625 50.4375 45.09375 \r\nQ 46.96875 40.921875 40.578125 39.3125 \r\nz\r\n\" id=\"DejaVuSans-51\"/>\r\n       </defs>\r\n       <use xlink:href=\"#DejaVuSans-51\"/>\r\n      </g>\r\n     </g>\r\n    </g>\r\n    <g id=\"xtick_5\">\r\n     <g id=\"line2d_5\">\r\n      <g>\r\n       <use style=\"stroke:#000000;stroke-width:0.8;\" x=\"237.05424\" xlink:href=\"#m9070e6ff66\" y=\"239.758125\"/>\r\n      </g>\r\n     </g>\r\n     <g id=\"text_5\">\r\n      <!-- 4 -->\r\n      <g transform=\"translate(239.813615 253.120625)rotate(-90)scale(0.1 -0.1)\">\r\n       <defs>\r\n        <path d=\"M 37.796875 64.3125 \r\nL 12.890625 25.390625 \r\nL 37.796875 25.390625 \r\nz\r\nM 35.203125 72.90625 \r\nL 47.609375 72.90625 \r\nL 47.609375 25.390625 \r\nL 58.015625 25.390625 \r\nL 58.015625 17.1875 \r\nL 47.609375 17.1875 \r\nL 47.609375 0 \r\nL 37.796875 0 \r\nL 37.796875 17.1875 \r\nL 4.890625 17.1875 \r\nL 4.890625 26.703125 \r\nz\r\n\" id=\"DejaVuSans-52\"/>\r\n       </defs>\r\n       <use xlink:href=\"#DejaVuSans-52\"/>\r\n      </g>\r\n     </g>\r\n    </g>\r\n    <g id=\"xtick_6\">\r\n     <g id=\"line2d_6\">\r\n      <g>\r\n       <use style=\"stroke:#000000;stroke-width:0.8;\" x=\"276.075219\" xlink:href=\"#m9070e6ff66\" y=\"239.758125\"/>\r\n      </g>\r\n     </g>\r\n     <g id=\"text_6\">\r\n      <!-- 5 -->\r\n      <g transform=\"translate(278.834594 253.120625)rotate(-90)scale(0.1 -0.1)\">\r\n       <defs>\r\n        <path d=\"M 10.796875 72.90625 \r\nL 49.515625 72.90625 \r\nL 49.515625 64.59375 \r\nL 19.828125 64.59375 \r\nL 19.828125 46.734375 \r\nQ 21.96875 47.46875 24.109375 47.828125 \r\nQ 26.265625 48.1875 28.421875 48.1875 \r\nQ 40.625 48.1875 47.75 41.5 \r\nQ 54.890625 34.8125 54.890625 23.390625 \r\nQ 54.890625 11.625 47.5625 5.09375 \r\nQ 40.234375 -1.421875 26.90625 -1.421875 \r\nQ 22.3125 -1.421875 17.546875 -0.640625 \r\nQ 12.796875 0.140625 7.71875 1.703125 \r\nL 7.71875 11.625 \r\nQ 12.109375 9.234375 16.796875 8.0625 \r\nQ 21.484375 6.890625 26.703125 6.890625 \r\nQ 35.15625 6.890625 40.078125 11.328125 \r\nQ 45.015625 15.765625 45.015625 23.390625 \r\nQ 45.015625 31 40.078125 35.4375 \r\nQ 35.15625 39.890625 26.703125 39.890625 \r\nQ 22.75 39.890625 18.8125 39.015625 \r\nQ 14.890625 38.140625 10.796875 36.28125 \r\nz\r\n\" id=\"DejaVuSans-53\"/>\r\n       </defs>\r\n       <use xlink:href=\"#DejaVuSans-53\"/>\r\n      </g>\r\n     </g>\r\n    </g>\r\n    <g id=\"xtick_7\">\r\n     <g id=\"line2d_7\">\r\n      <g>\r\n       <use style=\"stroke:#000000;stroke-width:0.8;\" x=\"315.096198\" xlink:href=\"#m9070e6ff66\" y=\"239.758125\"/>\r\n      </g>\r\n     </g>\r\n     <g id=\"text_7\">\r\n      <!-- 6 -->\r\n      <g transform=\"translate(317.855573 253.120625)rotate(-90)scale(0.1 -0.1)\">\r\n       <defs>\r\n        <path d=\"M 33.015625 40.375 \r\nQ 26.375 40.375 22.484375 35.828125 \r\nQ 18.609375 31.296875 18.609375 23.390625 \r\nQ 18.609375 15.53125 22.484375 10.953125 \r\nQ 26.375 6.390625 33.015625 6.390625 \r\nQ 39.65625 6.390625 43.53125 10.953125 \r\nQ 47.40625 15.53125 47.40625 23.390625 \r\nQ 47.40625 31.296875 43.53125 35.828125 \r\nQ 39.65625 40.375 33.015625 40.375 \r\nz\r\nM 52.59375 71.296875 \r\nL 52.59375 62.3125 \r\nQ 48.875 64.0625 45.09375 64.984375 \r\nQ 41.3125 65.921875 37.59375 65.921875 \r\nQ 27.828125 65.921875 22.671875 59.328125 \r\nQ 17.53125 52.734375 16.796875 39.40625 \r\nQ 19.671875 43.65625 24.015625 45.921875 \r\nQ 28.375 48.1875 33.59375 48.1875 \r\nQ 44.578125 48.1875 50.953125 41.515625 \r\nQ 57.328125 34.859375 57.328125 23.390625 \r\nQ 57.328125 12.15625 50.6875 5.359375 \r\nQ 44.046875 -1.421875 33.015625 -1.421875 \r\nQ 20.359375 -1.421875 13.671875 8.265625 \r\nQ 6.984375 17.96875 6.984375 36.375 \r\nQ 6.984375 53.65625 15.1875 63.9375 \r\nQ 23.390625 74.21875 37.203125 74.21875 \r\nQ 40.921875 74.21875 44.703125 73.484375 \r\nQ 48.484375 72.75 52.59375 71.296875 \r\nz\r\n\" id=\"DejaVuSans-54\"/>\r\n       </defs>\r\n       <use xlink:href=\"#DejaVuSans-54\"/>\r\n      </g>\r\n     </g>\r\n    </g>\r\n    <g id=\"xtick_8\">\r\n     <g id=\"line2d_8\">\r\n      <g>\r\n       <use style=\"stroke:#000000;stroke-width:0.8;\" x=\"354.117177\" xlink:href=\"#m9070e6ff66\" y=\"239.758125\"/>\r\n      </g>\r\n     </g>\r\n     <g id=\"text_8\">\r\n      <!-- 7 -->\r\n      <g transform=\"translate(356.876552 253.120625)rotate(-90)scale(0.1 -0.1)\">\r\n       <defs>\r\n        <path d=\"M 8.203125 72.90625 \r\nL 55.078125 72.90625 \r\nL 55.078125 68.703125 \r\nL 28.609375 0 \r\nL 18.3125 0 \r\nL 43.21875 64.59375 \r\nL 8.203125 64.59375 \r\nz\r\n\" id=\"DejaVuSans-55\"/>\r\n       </defs>\r\n       <use xlink:href=\"#DejaVuSans-55\"/>\r\n      </g>\r\n     </g>\r\n    </g>\r\n    <g id=\"text_9\">\r\n     <!-- variables names -->\r\n     <g transform=\"translate(176.39375 264.719062)scale(0.1 -0.1)\">\r\n      <defs>\r\n       <path d=\"M 2.984375 54.6875 \r\nL 12.5 54.6875 \r\nL 29.59375 8.796875 \r\nL 46.6875 54.6875 \r\nL 56.203125 54.6875 \r\nL 35.6875 0 \r\nL 23.484375 0 \r\nz\r\n\" id=\"DejaVuSans-118\"/>\r\n       <path d=\"M 34.28125 27.484375 \r\nQ 23.390625 27.484375 19.1875 25 \r\nQ 14.984375 22.515625 14.984375 16.5 \r\nQ 14.984375 11.71875 18.140625 8.90625 \r\nQ 21.296875 6.109375 26.703125 6.109375 \r\nQ 34.1875 6.109375 38.703125 11.40625 \r\nQ 43.21875 16.703125 43.21875 25.484375 \r\nL 43.21875 27.484375 \r\nz\r\nM 52.203125 31.203125 \r\nL 52.203125 0 \r\nL 43.21875 0 \r\nL 43.21875 8.296875 \r\nQ 40.140625 3.328125 35.546875 0.953125 \r\nQ 30.953125 -1.421875 24.3125 -1.421875 \r\nQ 15.921875 -1.421875 10.953125 3.296875 \r\nQ 6 8.015625 6 15.921875 \r\nQ 6 25.140625 12.171875 29.828125 \r\nQ 18.359375 34.515625 30.609375 34.515625 \r\nL 43.21875 34.515625 \r\nL 43.21875 35.40625 \r\nQ 43.21875 41.609375 39.140625 45 \r\nQ 35.0625 48.390625 27.6875 48.390625 \r\nQ 23 48.390625 18.546875 47.265625 \r\nQ 14.109375 46.140625 10.015625 43.890625 \r\nL 10.015625 52.203125 \r\nQ 14.9375 54.109375 19.578125 55.046875 \r\nQ 24.21875 56 28.609375 56 \r\nQ 40.484375 56 46.34375 49.84375 \r\nQ 52.203125 43.703125 52.203125 31.203125 \r\nz\r\n\" id=\"DejaVuSans-97\"/>\r\n       <path d=\"M 41.109375 46.296875 \r\nQ 39.59375 47.171875 37.8125 47.578125 \r\nQ 36.03125 48 33.890625 48 \r\nQ 26.265625 48 22.1875 43.046875 \r\nQ 18.109375 38.09375 18.109375 28.8125 \r\nL 18.109375 0 \r\nL 9.078125 0 \r\nL 9.078125 54.6875 \r\nL 18.109375 54.6875 \r\nL 18.109375 46.1875 \r\nQ 20.953125 51.171875 25.484375 53.578125 \r\nQ 30.03125 56 36.53125 56 \r\nQ 37.453125 56 38.578125 55.875 \r\nQ 39.703125 55.765625 41.0625 55.515625 \r\nz\r\n\" id=\"DejaVuSans-114\"/>\r\n       <path d=\"M 9.421875 54.6875 \r\nL 18.40625 54.6875 \r\nL 18.40625 0 \r\nL 9.421875 0 \r\nz\r\nM 9.421875 75.984375 \r\nL 18.40625 75.984375 \r\nL 18.40625 64.59375 \r\nL 9.421875 64.59375 \r\nz\r\n\" id=\"DejaVuSans-105\"/>\r\n       <path d=\"M 48.6875 27.296875 \r\nQ 48.6875 37.203125 44.609375 42.84375 \r\nQ 40.53125 48.484375 33.40625 48.484375 \r\nQ 26.265625 48.484375 22.1875 42.84375 \r\nQ 18.109375 37.203125 18.109375 27.296875 \r\nQ 18.109375 17.390625 22.1875 11.75 \r\nQ 26.265625 6.109375 33.40625 6.109375 \r\nQ 40.53125 6.109375 44.609375 11.75 \r\nQ 48.6875 17.390625 48.6875 27.296875 \r\nz\r\nM 18.109375 46.390625 \r\nQ 20.953125 51.265625 25.265625 53.625 \r\nQ 29.59375 56 35.59375 56 \r\nQ 45.5625 56 51.78125 48.09375 \r\nQ 58.015625 40.1875 58.015625 27.296875 \r\nQ 58.015625 14.40625 51.78125 6.484375 \r\nQ 45.5625 -1.421875 35.59375 -1.421875 \r\nQ 29.59375 -1.421875 25.265625 0.953125 \r\nQ 20.953125 3.328125 18.109375 8.203125 \r\nL 18.109375 0 \r\nL 9.078125 0 \r\nL 9.078125 75.984375 \r\nL 18.109375 75.984375 \r\nz\r\n\" id=\"DejaVuSans-98\"/>\r\n       <path d=\"M 9.421875 75.984375 \r\nL 18.40625 75.984375 \r\nL 18.40625 0 \r\nL 9.421875 0 \r\nz\r\n\" id=\"DejaVuSans-108\"/>\r\n       <path d=\"M 56.203125 29.59375 \r\nL 56.203125 25.203125 \r\nL 14.890625 25.203125 \r\nQ 15.484375 15.921875 20.484375 11.0625 \r\nQ 25.484375 6.203125 34.421875 6.203125 \r\nQ 39.59375 6.203125 44.453125 7.46875 \r\nQ 49.3125 8.734375 54.109375 11.28125 \r\nL 54.109375 2.78125 \r\nQ 49.265625 0.734375 44.1875 -0.34375 \r\nQ 39.109375 -1.421875 33.890625 -1.421875 \r\nQ 20.796875 -1.421875 13.15625 6.1875 \r\nQ 5.515625 13.8125 5.515625 26.8125 \r\nQ 5.515625 40.234375 12.765625 48.109375 \r\nQ 20.015625 56 32.328125 56 \r\nQ 43.359375 56 49.78125 48.890625 \r\nQ 56.203125 41.796875 56.203125 29.59375 \r\nz\r\nM 47.21875 32.234375 \r\nQ 47.125 39.59375 43.09375 43.984375 \r\nQ 39.0625 48.390625 32.421875 48.390625 \r\nQ 24.90625 48.390625 20.390625 44.140625 \r\nQ 15.875 39.890625 15.1875 32.171875 \r\nz\r\n\" id=\"DejaVuSans-101\"/>\r\n       <path d=\"M 44.28125 53.078125 \r\nL 44.28125 44.578125 \r\nQ 40.484375 46.53125 36.375 47.5 \r\nQ 32.28125 48.484375 27.875 48.484375 \r\nQ 21.1875 48.484375 17.84375 46.4375 \r\nQ 14.5 44.390625 14.5 40.28125 \r\nQ 14.5 37.15625 16.890625 35.375 \r\nQ 19.28125 33.59375 26.515625 31.984375 \r\nL 29.59375 31.296875 \r\nQ 39.15625 29.25 43.1875 25.515625 \r\nQ 47.21875 21.78125 47.21875 15.09375 \r\nQ 47.21875 7.46875 41.1875 3.015625 \r\nQ 35.15625 -1.421875 24.609375 -1.421875 \r\nQ 20.21875 -1.421875 15.453125 -0.5625 \r\nQ 10.6875 0.296875 5.421875 2 \r\nL 5.421875 11.28125 \r\nQ 10.40625 8.6875 15.234375 7.390625 \r\nQ 20.0625 6.109375 24.8125 6.109375 \r\nQ 31.15625 6.109375 34.5625 8.28125 \r\nQ 37.984375 10.453125 37.984375 14.40625 \r\nQ 37.984375 18.0625 35.515625 20.015625 \r\nQ 33.0625 21.96875 24.703125 23.78125 \r\nL 21.578125 24.515625 \r\nQ 13.234375 26.265625 9.515625 29.90625 \r\nQ 5.8125 33.546875 5.8125 39.890625 \r\nQ 5.8125 47.609375 11.28125 51.796875 \r\nQ 16.75 56 26.8125 56 \r\nQ 31.78125 56 36.171875 55.265625 \r\nQ 40.578125 54.546875 44.28125 53.078125 \r\nz\r\n\" id=\"DejaVuSans-115\"/>\r\n       <path id=\"DejaVuSans-32\"/>\r\n       <path d=\"M 54.890625 33.015625 \r\nL 54.890625 0 \r\nL 45.90625 0 \r\nL 45.90625 32.71875 \r\nQ 45.90625 40.484375 42.875 44.328125 \r\nQ 39.84375 48.1875 33.796875 48.1875 \r\nQ 26.515625 48.1875 22.3125 43.546875 \r\nQ 18.109375 38.921875 18.109375 30.90625 \r\nL 18.109375 0 \r\nL 9.078125 0 \r\nL 9.078125 54.6875 \r\nL 18.109375 54.6875 \r\nL 18.109375 46.1875 \r\nQ 21.34375 51.125 25.703125 53.5625 \r\nQ 30.078125 56 35.796875 56 \r\nQ 45.21875 56 50.046875 50.171875 \r\nQ 54.890625 44.34375 54.890625 33.015625 \r\nz\r\n\" id=\"DejaVuSans-110\"/>\r\n       <path d=\"M 52 44.1875 \r\nQ 55.375 50.25 60.0625 53.125 \r\nQ 64.75 56 71.09375 56 \r\nQ 79.640625 56 84.28125 50.015625 \r\nQ 88.921875 44.046875 88.921875 33.015625 \r\nL 88.921875 0 \r\nL 79.890625 0 \r\nL 79.890625 32.71875 \r\nQ 79.890625 40.578125 77.09375 44.375 \r\nQ 74.3125 48.1875 68.609375 48.1875 \r\nQ 61.625 48.1875 57.5625 43.546875 \r\nQ 53.515625 38.921875 53.515625 30.90625 \r\nL 53.515625 0 \r\nL 44.484375 0 \r\nL 44.484375 32.71875 \r\nQ 44.484375 40.625 41.703125 44.40625 \r\nQ 38.921875 48.1875 33.109375 48.1875 \r\nQ 26.21875 48.1875 22.15625 43.53125 \r\nQ 18.109375 38.875 18.109375 30.90625 \r\nL 18.109375 0 \r\nL 9.078125 0 \r\nL 9.078125 54.6875 \r\nL 18.109375 54.6875 \r\nL 18.109375 46.1875 \r\nQ 21.1875 51.21875 25.484375 53.609375 \r\nQ 29.78125 56 35.6875 56 \r\nQ 41.65625 56 45.828125 52.96875 \r\nQ 50 49.953125 52 44.1875 \r\nz\r\n\" id=\"DejaVuSans-109\"/>\r\n      </defs>\r\n      <use xlink:href=\"#DejaVuSans-118\"/>\r\n      <use x=\"59.179688\" xlink:href=\"#DejaVuSans-97\"/>\r\n      <use x=\"120.458984\" xlink:href=\"#DejaVuSans-114\"/>\r\n      <use x=\"161.572266\" xlink:href=\"#DejaVuSans-105\"/>\r\n      <use x=\"189.355469\" xlink:href=\"#DejaVuSans-97\"/>\r\n      <use x=\"250.634766\" xlink:href=\"#DejaVuSans-98\"/>\r\n      <use x=\"314.111328\" xlink:href=\"#DejaVuSans-108\"/>\r\n      <use x=\"341.894531\" xlink:href=\"#DejaVuSans-101\"/>\r\n      <use x=\"403.417969\" xlink:href=\"#DejaVuSans-115\"/>\r\n      <use x=\"455.517578\" xlink:href=\"#DejaVuSans-32\"/>\r\n      <use x=\"487.304688\" xlink:href=\"#DejaVuSans-110\"/>\r\n      <use x=\"550.683594\" xlink:href=\"#DejaVuSans-97\"/>\r\n      <use x=\"611.962891\" xlink:href=\"#DejaVuSans-109\"/>\r\n      <use x=\"709.375\" xlink:href=\"#DejaVuSans-101\"/>\r\n      <use x=\"770.898438\" xlink:href=\"#DejaVuSans-115\"/>\r\n     </g>\r\n    </g>\r\n   </g>\r\n   <g id=\"matplotlib.axis_2\">\r\n    <g id=\"ytick_1\">\r\n     <g id=\"line2d_9\">\r\n      <defs>\r\n       <path d=\"M 0 0 \r\nL -3.5 0 \r\n\" id=\"m5d6813519e\" style=\"stroke:#000000;stroke-width:0.8;\"/>\r\n      </defs>\r\n      <g>\r\n       <use style=\"stroke:#000000;stroke-width:0.8;\" x=\"50.14375\" xlink:href=\"#m5d6813519e\" y=\"239.758125\"/>\r\n      </g>\r\n     </g>\r\n     <g id=\"text_10\">\r\n      <!-- 0.00 -->\r\n      <g transform=\"translate(20.878125 243.557344)scale(0.1 -0.1)\">\r\n       <defs>\r\n        <path d=\"M 10.6875 12.40625 \r\nL 21 12.40625 \r\nL 21 0 \r\nL 10.6875 0 \r\nz\r\n\" id=\"DejaVuSans-46\"/>\r\n       </defs>\r\n       <use xlink:href=\"#DejaVuSans-48\"/>\r\n       <use x=\"63.623047\" xlink:href=\"#DejaVuSans-46\"/>\r\n       <use x=\"95.410156\" xlink:href=\"#DejaVuSans-48\"/>\r\n       <use x=\"159.033203\" xlink:href=\"#DejaVuSans-48\"/>\r\n      </g>\r\n     </g>\r\n    </g>\r\n    <g id=\"ytick_2\">\r\n     <g id=\"line2d_10\">\r\n      <g>\r\n       <use style=\"stroke:#000000;stroke-width:0.8;\" x=\"50.14375\" xlink:href=\"#m5d6813519e\" y=\"204.469167\"/>\r\n      </g>\r\n     </g>\r\n     <g id=\"text_11\">\r\n      <!-- 0.01 -->\r\n      <g transform=\"translate(20.878125 208.268386)scale(0.1 -0.1)\">\r\n       <use xlink:href=\"#DejaVuSans-48\"/>\r\n       <use x=\"63.623047\" xlink:href=\"#DejaVuSans-46\"/>\r\n       <use x=\"95.410156\" xlink:href=\"#DejaVuSans-48\"/>\r\n       <use x=\"159.033203\" xlink:href=\"#DejaVuSans-49\"/>\r\n      </g>\r\n     </g>\r\n    </g>\r\n    <g id=\"ytick_3\">\r\n     <g id=\"line2d_11\">\r\n      <g>\r\n       <use style=\"stroke:#000000;stroke-width:0.8;\" x=\"50.14375\" xlink:href=\"#m5d6813519e\" y=\"169.180209\"/>\r\n      </g>\r\n     </g>\r\n     <g id=\"text_12\">\r\n      <!-- 0.02 -->\r\n      <g transform=\"translate(20.878125 172.979427)scale(0.1 -0.1)\">\r\n       <use xlink:href=\"#DejaVuSans-48\"/>\r\n       <use x=\"63.623047\" xlink:href=\"#DejaVuSans-46\"/>\r\n       <use x=\"95.410156\" xlink:href=\"#DejaVuSans-48\"/>\r\n       <use x=\"159.033203\" xlink:href=\"#DejaVuSans-50\"/>\r\n      </g>\r\n     </g>\r\n    </g>\r\n    <g id=\"ytick_4\">\r\n     <g id=\"line2d_12\">\r\n      <g>\r\n       <use style=\"stroke:#000000;stroke-width:0.8;\" x=\"50.14375\" xlink:href=\"#m5d6813519e\" y=\"133.89125\"/>\r\n      </g>\r\n     </g>\r\n     <g id=\"text_13\">\r\n      <!-- 0.03 -->\r\n      <g transform=\"translate(20.878125 137.690469)scale(0.1 -0.1)\">\r\n       <use xlink:href=\"#DejaVuSans-48\"/>\r\n       <use x=\"63.623047\" xlink:href=\"#DejaVuSans-46\"/>\r\n       <use x=\"95.410156\" xlink:href=\"#DejaVuSans-48\"/>\r\n       <use x=\"159.033203\" xlink:href=\"#DejaVuSans-51\"/>\r\n      </g>\r\n     </g>\r\n    </g>\r\n    <g id=\"ytick_5\">\r\n     <g id=\"line2d_13\">\r\n      <g>\r\n       <use style=\"stroke:#000000;stroke-width:0.8;\" x=\"50.14375\" xlink:href=\"#m5d6813519e\" y=\"98.602292\"/>\r\n      </g>\r\n     </g>\r\n     <g id=\"text_14\">\r\n      <!-- 0.04 -->\r\n      <g transform=\"translate(20.878125 102.401511)scale(0.1 -0.1)\">\r\n       <use xlink:href=\"#DejaVuSans-48\"/>\r\n       <use x=\"63.623047\" xlink:href=\"#DejaVuSans-46\"/>\r\n       <use x=\"95.410156\" xlink:href=\"#DejaVuSans-48\"/>\r\n       <use x=\"159.033203\" xlink:href=\"#DejaVuSans-52\"/>\r\n      </g>\r\n     </g>\r\n    </g>\r\n    <g id=\"ytick_6\">\r\n     <g id=\"line2d_14\">\r\n      <g>\r\n       <use style=\"stroke:#000000;stroke-width:0.8;\" x=\"50.14375\" xlink:href=\"#m5d6813519e\" y=\"63.313334\"/>\r\n      </g>\r\n     </g>\r\n     <g id=\"text_15\">\r\n      <!-- 0.05 -->\r\n      <g transform=\"translate(20.878125 67.112553)scale(0.1 -0.1)\">\r\n       <use xlink:href=\"#DejaVuSans-48\"/>\r\n       <use x=\"63.623047\" xlink:href=\"#DejaVuSans-46\"/>\r\n       <use x=\"95.410156\" xlink:href=\"#DejaVuSans-48\"/>\r\n       <use x=\"159.033203\" xlink:href=\"#DejaVuSans-53\"/>\r\n      </g>\r\n     </g>\r\n    </g>\r\n    <g id=\"ytick_7\">\r\n     <g id=\"line2d_15\">\r\n      <g>\r\n       <use style=\"stroke:#000000;stroke-width:0.8;\" x=\"50.14375\" xlink:href=\"#m5d6813519e\" y=\"28.024376\"/>\r\n      </g>\r\n     </g>\r\n     <g id=\"text_16\">\r\n      <!-- 0.06 -->\r\n      <g transform=\"translate(20.878125 31.823595)scale(0.1 -0.1)\">\r\n       <use xlink:href=\"#DejaVuSans-48\"/>\r\n       <use x=\"63.623047\" xlink:href=\"#DejaVuSans-46\"/>\r\n       <use x=\"95.410156\" xlink:href=\"#DejaVuSans-48\"/>\r\n       <use x=\"159.033203\" xlink:href=\"#DejaVuSans-54\"/>\r\n      </g>\r\n     </g>\r\n    </g>\r\n    <g id=\"text_17\">\r\n     <!-- missing rate -->\r\n     <g transform=\"translate(14.798438 161.984219)rotate(-90)scale(0.1 -0.1)\">\r\n      <defs>\r\n       <path d=\"M 45.40625 27.984375 \r\nQ 45.40625 37.75 41.375 43.109375 \r\nQ 37.359375 48.484375 30.078125 48.484375 \r\nQ 22.859375 48.484375 18.828125 43.109375 \r\nQ 14.796875 37.75 14.796875 27.984375 \r\nQ 14.796875 18.265625 18.828125 12.890625 \r\nQ 22.859375 7.515625 30.078125 7.515625 \r\nQ 37.359375 7.515625 41.375 12.890625 \r\nQ 45.40625 18.265625 45.40625 27.984375 \r\nz\r\nM 54.390625 6.78125 \r\nQ 54.390625 -7.171875 48.1875 -13.984375 \r\nQ 42 -20.796875 29.203125 -20.796875 \r\nQ 24.46875 -20.796875 20.265625 -20.09375 \r\nQ 16.0625 -19.390625 12.109375 -17.921875 \r\nL 12.109375 -9.1875 \r\nQ 16.0625 -11.328125 19.921875 -12.34375 \r\nQ 23.78125 -13.375 27.78125 -13.375 \r\nQ 36.625 -13.375 41.015625 -8.765625 \r\nQ 45.40625 -4.15625 45.40625 5.171875 \r\nL 45.40625 9.625 \r\nQ 42.625 4.78125 38.28125 2.390625 \r\nQ 33.9375 0 27.875 0 \r\nQ 17.828125 0 11.671875 7.65625 \r\nQ 5.515625 15.328125 5.515625 27.984375 \r\nQ 5.515625 40.671875 11.671875 48.328125 \r\nQ 17.828125 56 27.875 56 \r\nQ 33.9375 56 38.28125 53.609375 \r\nQ 42.625 51.21875 45.40625 46.390625 \r\nL 45.40625 54.6875 \r\nL 54.390625 54.6875 \r\nz\r\n\" id=\"DejaVuSans-103\"/>\r\n       <path d=\"M 18.3125 70.21875 \r\nL 18.3125 54.6875 \r\nL 36.8125 54.6875 \r\nL 36.8125 47.703125 \r\nL 18.3125 47.703125 \r\nL 18.3125 18.015625 \r\nQ 18.3125 11.328125 20.140625 9.421875 \r\nQ 21.96875 7.515625 27.59375 7.515625 \r\nL 36.8125 7.515625 \r\nL 36.8125 0 \r\nL 27.59375 0 \r\nQ 17.1875 0 13.234375 3.875 \r\nQ 9.28125 7.765625 9.28125 18.015625 \r\nL 9.28125 47.703125 \r\nL 2.6875 47.703125 \r\nL 2.6875 54.6875 \r\nL 9.28125 54.6875 \r\nL 9.28125 70.21875 \r\nz\r\n\" id=\"DejaVuSans-116\"/>\r\n      </defs>\r\n      <use xlink:href=\"#DejaVuSans-109\"/>\r\n      <use x=\"97.412109\" xlink:href=\"#DejaVuSans-105\"/>\r\n      <use x=\"125.195312\" xlink:href=\"#DejaVuSans-115\"/>\r\n      <use x=\"177.294922\" xlink:href=\"#DejaVuSans-115\"/>\r\n      <use x=\"229.394531\" xlink:href=\"#DejaVuSans-105\"/>\r\n      <use x=\"257.177734\" xlink:href=\"#DejaVuSans-110\"/>\r\n      <use x=\"320.556641\" xlink:href=\"#DejaVuSans-103\"/>\r\n      <use x=\"384.033203\" xlink:href=\"#DejaVuSans-32\"/>\r\n      <use x=\"415.820312\" xlink:href=\"#DejaVuSans-114\"/>\r\n      <use x=\"456.933594\" xlink:href=\"#DejaVuSans-97\"/>\r\n      <use x=\"518.212891\" xlink:href=\"#DejaVuSans-116\"/>\r\n      <use x=\"557.421875\" xlink:href=\"#DejaVuSans-101\"/>\r\n     </g>\r\n    </g>\r\n   </g>\r\n   <g id=\"patch_11\">\r\n    <path d=\"M 50.14375 239.758125 \r\nL 50.14375 22.318125 \r\n\" style=\"fill:none;stroke:#000000;stroke-linecap:square;stroke-linejoin:miter;stroke-width:0.8;\"/>\r\n   </g>\r\n   <g id=\"patch_12\">\r\n    <path d=\"M 384.94375 239.758125 \r\nL 384.94375 22.318125 \r\n\" style=\"fill:none;stroke:#000000;stroke-linecap:square;stroke-linejoin:miter;stroke-width:0.8;\"/>\r\n   </g>\r\n   <g id=\"patch_13\">\r\n    <path d=\"M 50.14375 239.758125 \r\nL 384.94375 239.758125 \r\n\" style=\"fill:none;stroke:#000000;stroke-linecap:square;stroke-linejoin:miter;stroke-width:0.8;\"/>\r\n   </g>\r\n   <g id=\"patch_14\">\r\n    <path d=\"M 50.14375 22.318125 \r\nL 384.94375 22.318125 \r\n\" style=\"fill:none;stroke:#000000;stroke-linecap:square;stroke-linejoin:miter;stroke-width:0.8;\"/>\r\n   </g>\r\n   <g id=\"text_18\">\r\n    <!-- Histogram of missing value of variables -->\r\n    <g transform=\"translate(98.555313 16.318125)scale(0.12 -0.12)\">\r\n     <defs>\r\n      <path d=\"M 9.8125 72.90625 \r\nL 19.671875 72.90625 \r\nL 19.671875 43.015625 \r\nL 55.515625 43.015625 \r\nL 55.515625 72.90625 \r\nL 65.375 72.90625 \r\nL 65.375 0 \r\nL 55.515625 0 \r\nL 55.515625 34.71875 \r\nL 19.671875 34.71875 \r\nL 19.671875 0 \r\nL 9.8125 0 \r\nz\r\n\" id=\"DejaVuSans-72\"/>\r\n      <path d=\"M 30.609375 48.390625 \r\nQ 23.390625 48.390625 19.1875 42.75 \r\nQ 14.984375 37.109375 14.984375 27.296875 \r\nQ 14.984375 17.484375 19.15625 11.84375 \r\nQ 23.34375 6.203125 30.609375 6.203125 \r\nQ 37.796875 6.203125 41.984375 11.859375 \r\nQ 46.1875 17.53125 46.1875 27.296875 \r\nQ 46.1875 37.015625 41.984375 42.703125 \r\nQ 37.796875 48.390625 30.609375 48.390625 \r\nz\r\nM 30.609375 56 \r\nQ 42.328125 56 49.015625 48.375 \r\nQ 55.71875 40.765625 55.71875 27.296875 \r\nQ 55.71875 13.875 49.015625 6.21875 \r\nQ 42.328125 -1.421875 30.609375 -1.421875 \r\nQ 18.84375 -1.421875 12.171875 6.21875 \r\nQ 5.515625 13.875 5.515625 27.296875 \r\nQ 5.515625 40.765625 12.171875 48.375 \r\nQ 18.84375 56 30.609375 56 \r\nz\r\n\" id=\"DejaVuSans-111\"/>\r\n      <path d=\"M 37.109375 75.984375 \r\nL 37.109375 68.5 \r\nL 28.515625 68.5 \r\nQ 23.6875 68.5 21.796875 66.546875 \r\nQ 19.921875 64.59375 19.921875 59.515625 \r\nL 19.921875 54.6875 \r\nL 34.71875 54.6875 \r\nL 34.71875 47.703125 \r\nL 19.921875 47.703125 \r\nL 19.921875 0 \r\nL 10.890625 0 \r\nL 10.890625 47.703125 \r\nL 2.296875 47.703125 \r\nL 2.296875 54.6875 \r\nL 10.890625 54.6875 \r\nL 10.890625 58.5 \r\nQ 10.890625 67.625 15.140625 71.796875 \r\nQ 19.390625 75.984375 28.609375 75.984375 \r\nz\r\n\" id=\"DejaVuSans-102\"/>\r\n      <path d=\"M 8.5 21.578125 \r\nL 8.5 54.6875 \r\nL 17.484375 54.6875 \r\nL 17.484375 21.921875 \r\nQ 17.484375 14.15625 20.5 10.265625 \r\nQ 23.53125 6.390625 29.59375 6.390625 \r\nQ 36.859375 6.390625 41.078125 11.03125 \r\nQ 45.3125 15.671875 45.3125 23.6875 \r\nL 45.3125 54.6875 \r\nL 54.296875 54.6875 \r\nL 54.296875 0 \r\nL 45.3125 0 \r\nL 45.3125 8.40625 \r\nQ 42.046875 3.421875 37.71875 1 \r\nQ 33.40625 -1.421875 27.6875 -1.421875 \r\nQ 18.265625 -1.421875 13.375 4.4375 \r\nQ 8.5 10.296875 8.5 21.578125 \r\nz\r\nM 31.109375 56 \r\nz\r\n\" id=\"DejaVuSans-117\"/>\r\n     </defs>\r\n     <use xlink:href=\"#DejaVuSans-72\"/>\r\n     <use x=\"75.195312\" xlink:href=\"#DejaVuSans-105\"/>\r\n     <use x=\"102.978516\" xlink:href=\"#DejaVuSans-115\"/>\r\n     <use x=\"155.078125\" xlink:href=\"#DejaVuSans-116\"/>\r\n     <use x=\"194.287109\" xlink:href=\"#DejaVuSans-111\"/>\r\n     <use x=\"255.46875\" xlink:href=\"#DejaVuSans-103\"/>\r\n     <use x=\"318.945312\" xlink:href=\"#DejaVuSans-114\"/>\r\n     <use x=\"360.058594\" xlink:href=\"#DejaVuSans-97\"/>\r\n     <use x=\"421.337891\" xlink:href=\"#DejaVuSans-109\"/>\r\n     <use x=\"518.75\" xlink:href=\"#DejaVuSans-32\"/>\r\n     <use x=\"550.537109\" xlink:href=\"#DejaVuSans-111\"/>\r\n     <use x=\"611.71875\" xlink:href=\"#DejaVuSans-102\"/>\r\n     <use x=\"646.923828\" xlink:href=\"#DejaVuSans-32\"/>\r\n     <use x=\"678.710938\" xlink:href=\"#DejaVuSans-109\"/>\r\n     <use x=\"776.123047\" xlink:href=\"#DejaVuSans-105\"/>\r\n     <use x=\"803.90625\" xlink:href=\"#DejaVuSans-115\"/>\r\n     <use x=\"856.005859\" xlink:href=\"#DejaVuSans-115\"/>\r\n     <use x=\"908.105469\" xlink:href=\"#DejaVuSans-105\"/>\r\n     <use x=\"935.888672\" xlink:href=\"#DejaVuSans-110\"/>\r\n     <use x=\"999.267578\" xlink:href=\"#DejaVuSans-103\"/>\r\n     <use x=\"1062.744141\" xlink:href=\"#DejaVuSans-32\"/>\r\n     <use x=\"1094.53125\" xlink:href=\"#DejaVuSans-118\"/>\r\n     <use x=\"1153.710938\" xlink:href=\"#DejaVuSans-97\"/>\r\n     <use x=\"1214.990234\" xlink:href=\"#DejaVuSans-108\"/>\r\n     <use x=\"1242.773438\" xlink:href=\"#DejaVuSans-117\"/>\r\n     <use x=\"1306.152344\" xlink:href=\"#DejaVuSans-101\"/>\r\n     <use x=\"1367.675781\" xlink:href=\"#DejaVuSans-32\"/>\r\n     <use x=\"1399.462891\" xlink:href=\"#DejaVuSans-111\"/>\r\n     <use x=\"1460.644531\" xlink:href=\"#DejaVuSans-102\"/>\r\n     <use x=\"1495.849609\" xlink:href=\"#DejaVuSans-32\"/>\r\n     <use x=\"1527.636719\" xlink:href=\"#DejaVuSans-118\"/>\r\n     <use x=\"1586.816406\" xlink:href=\"#DejaVuSans-97\"/>\r\n     <use x=\"1648.095703\" xlink:href=\"#DejaVuSans-114\"/>\r\n     <use x=\"1689.208984\" xlink:href=\"#DejaVuSans-105\"/>\r\n     <use x=\"1716.992188\" xlink:href=\"#DejaVuSans-97\"/>\r\n     <use x=\"1778.271484\" xlink:href=\"#DejaVuSans-98\"/>\r\n     <use x=\"1841.748047\" xlink:href=\"#DejaVuSans-108\"/>\r\n     <use x=\"1869.53125\" xlink:href=\"#DejaVuSans-101\"/>\r\n     <use x=\"1931.054688\" xlink:href=\"#DejaVuSans-115\"/>\r\n    </g>\r\n   </g>\r\n  </g>\r\n </g>\r\n <defs>\r\n  <clipPath id=\"p647edd91ab\">\r\n   <rect height=\"217.44\" width=\"334.8\" x=\"50.14375\" y=\"22.318125\"/>\r\n  </clipPath>\r\n </defs>\r\n</svg>\r\n",
      "image/png": "[encoded data removed]"
     },
     "metadata": {
      "needs_background": "light"
     }
    }
   ],
   "source": [
    "num_cols=['NO_HOLD_QTY','M','U','PT','UP_TIME','EQP_UTIL','TC','CS','AI','C_AI']\n",
    "missData(df_train)"
   ]
  },
  {
   "cell_type": "code",
   "execution_count": 13,
   "metadata": {},
   "outputs": [
    {
     "output_type": "stream",
     "name": "stdout",
     "text": [
      "<class 'pandas.core.frame.DataFrame'>\nRangeIndex: 120018 entries, 0 to 120017\nData columns (total 15 columns):\n #   Column       Non-Null Count   Dtype  \n---  ------       --------------   -----  \n 0   MFG_DATE     120018 non-null  int64  \n 1   TOOLG_ID     120018 non-null  object \n 2   WIP_QTY      120018 non-null  float64\n 3   NO_HOLD_QTY  120018 non-null  float64\n 4   MOVE_QTY     120018 non-null  float64\n 5   M            118540 non-null  float64\n 6   U            118442 non-null  float64\n 7   PT           120018 non-null  float64\n 8   UP_TIME      118540 non-null  float64\n 9   EQP_UTIL     118540 non-null  float64\n 10  TC           115972 non-null  float64\n 11  CS           115972 non-null  float64\n 12  AI           113521 non-null  float64\n 13  C_AI         112975 non-null  float64\n 14  WEEKDAY      120018 non-null  object \ndtypes: float64(12), int64(1), object(2)\nmemory usage: 13.7+ MB\n"
     ]
    }
   ],
   "source": [
    "#df_train['Finish']=np.where(df_train['TOOLG_ID_NEXT'].isnull(), 1, 0).astype(str)\n",
    "df_train['WEEKDAY']=pd.to_datetime(df_train['MFG_DATE'],format='%Y%m%d').dt.day_name()\n",
    " \n",
    "df_train.info()"
   ]
  },
  {
   "cell_type": "code",
   "execution_count": 14,
   "metadata": {},
   "outputs": [
    {
     "output_type": "execute_result",
     "data": {
      "text/plain": [
       "0         Wednesday\n",
       "1         Wednesday\n",
       "2         Wednesday\n",
       "3         Wednesday\n",
       "4         Wednesday\n",
       "            ...    \n",
       "120013     Thursday\n",
       "120014     Thursday\n",
       "120015     Thursday\n",
       "120016     Thursday\n",
       "120017     Thursday\n",
       "Name: MFG_DATE, Length: 120018, dtype: object"
      ]
     },
     "metadata": {},
     "execution_count": 14
    }
   ],
   "source": [
    "pd.to_datetime(df_train['MFG_DATE'],format='%Y%m%d').dt.day_name()"
   ]
  },
  {
   "cell_type": "code",
   "execution_count": 15,
   "metadata": {},
   "outputs": [
    {
     "output_type": "execute_result",
     "data": {
      "text/plain": [
       "   MFG_DATE    TOOLG_ID  WIP_QTY  NO_HOLD_QTY  MOVE_QTY     M         U  \\\n",
       "0  20200122      CI_STI   1672.0       1500.0    3371.0   5.0  0.475904   \n",
       "1  20200122  DGM_AM_350    377.0        324.0    2294.0  10.0  0.707514   \n",
       "2  20200122      DI_PSG      0.0          0.0     125.0   2.0  0.500000   \n",
       "3  20200122      DN_SiN    131.0        125.0    1381.0   4.0  0.782313   \n",
       "4  20200122      DO_SOD     13.0         12.0     706.0   2.0  1.000000   \n",
       "\n",
       "             PT   UP_TIME  EQP_UTIL        TC        CS          AI      C_AI  \\\n",
       "0   4910.234940  0.956914  0.989448  0.382283  0.354976  159.375000  0.836586   \n",
       "1   4017.560694  0.839097  0.979897  0.264591  0.256043  101.791667  0.629749   \n",
       "2  16531.000000  0.986675  0.375072  0.052413  0.298198   12.250000  1.361144   \n",
       "3   2056.897959  0.982981  0.779669  0.477650  0.373563   51.291667  1.101988   \n",
       "4   1750.037736  0.909998  0.460758  0.278303  0.183449   25.250000  3.147461   \n",
       "\n",
       "     WEEKDAY  \n",
       "0  Wednesday  \n",
       "1  Wednesday  \n",
       "2  Wednesday  \n",
       "3  Wednesday  \n",
       "4  Wednesday  "
      ],
      "text/html": "<div>\n<style scoped>\n    .dataframe tbody tr th:only-of-type {\n        vertical-align: middle;\n    }\n\n    .dataframe tbody tr th {\n        vertical-align: top;\n    }\n\n    .dataframe thead th {\n        text-align: right;\n    }\n</style>\n<table border=\"1\" class=\"dataframe\">\n  <thead>\n    <tr style=\"text-align: right;\">\n      <th></th>\n      <th>MFG_DATE</th>\n      <th>TOOLG_ID</th>\n      <th>WIP_QTY</th>\n      <th>NO_HOLD_QTY</th>\n      <th>MOVE_QTY</th>\n      <th>M</th>\n      <th>U</th>\n      <th>PT</th>\n      <th>UP_TIME</th>\n      <th>EQP_UTIL</th>\n      <th>TC</th>\n      <th>CS</th>\n      <th>AI</th>\n      <th>C_AI</th>\n      <th>WEEKDAY</th>\n    </tr>\n  </thead>\n  <tbody>\n    <tr>\n      <th>0</th>\n      <td>20200122</td>\n      <td>CI_STI</td>\n      <td>1672.0</td>\n      <td>1500.0</td>\n      <td>3371.0</td>\n      <td>5.0</td>\n      <td>0.475904</td>\n      <td>4910.234940</td>\n      <td>0.956914</td>\n      <td>0.989448</td>\n      <td>0.382283</td>\n      <td>0.354976</td>\n      <td>159.375000</td>\n      <td>0.836586</td>\n      <td>Wednesday</td>\n    </tr>\n    <tr>\n      <th>1</th>\n      <td>20200122</td>\n      <td>DGM_AM_350</td>\n      <td>377.0</td>\n      <td>324.0</td>\n      <td>2294.0</td>\n      <td>10.0</td>\n      <td>0.707514</td>\n      <td>4017.560694</td>\n      <td>0.839097</td>\n      <td>0.979897</td>\n      <td>0.264591</td>\n      <td>0.256043</td>\n      <td>101.791667</td>\n      <td>0.629749</td>\n      <td>Wednesday</td>\n    </tr>\n    <tr>\n      <th>2</th>\n      <td>20200122</td>\n      <td>DI_PSG</td>\n      <td>0.0</td>\n      <td>0.0</td>\n      <td>125.0</td>\n      <td>2.0</td>\n      <td>0.500000</td>\n      <td>16531.000000</td>\n      <td>0.986675</td>\n      <td>0.375072</td>\n      <td>0.052413</td>\n      <td>0.298198</td>\n      <td>12.250000</td>\n      <td>1.361144</td>\n      <td>Wednesday</td>\n    </tr>\n    <tr>\n      <th>3</th>\n      <td>20200122</td>\n      <td>DN_SiN</td>\n      <td>131.0</td>\n      <td>125.0</td>\n      <td>1381.0</td>\n      <td>4.0</td>\n      <td>0.782313</td>\n      <td>2056.897959</td>\n      <td>0.982981</td>\n      <td>0.779669</td>\n      <td>0.477650</td>\n      <td>0.373563</td>\n      <td>51.291667</td>\n      <td>1.101988</td>\n      <td>Wednesday</td>\n    </tr>\n    <tr>\n      <th>4</th>\n      <td>20200122</td>\n      <td>DO_SOD</td>\n      <td>13.0</td>\n      <td>12.0</td>\n      <td>706.0</td>\n      <td>2.0</td>\n      <td>1.000000</td>\n      <td>1750.037736</td>\n      <td>0.909998</td>\n      <td>0.460758</td>\n      <td>0.278303</td>\n      <td>0.183449</td>\n      <td>25.250000</td>\n      <td>3.147461</td>\n      <td>Wednesday</td>\n    </tr>\n  </tbody>\n</table>\n</div>"
     },
     "metadata": {},
     "execution_count": 15
    }
   ],
   "source": [
    "\n",
    "df_train.head()"
   ]
  },
  {
   "cell_type": "code",
   "execution_count": null,
   "metadata": {},
   "outputs": [],
   "source": []
  },
  {
   "cell_type": "code",
   "execution_count": 16,
   "metadata": {},
   "outputs": [
    {
     "output_type": "execute_result",
     "data": {
      "text/plain": [
       "           MFG_DATE        WIP_QTY    NO_HOLD_QTY       MOVE_QTY  \\\n",
       "count  1.200180e+05  120018.000000  120018.000000  120018.000000   \n",
       "mean   2.020204e+07     665.831217     584.163217    5255.925968   \n",
       "std    3.308159e+03    1518.844885    1350.837912   15090.027801   \n",
       "min    2.020012e+07       0.000000       0.000000       0.300000   \n",
       "25%    2.020050e+07      26.000000      25.000000     235.000000   \n",
       "50%    2.020081e+07     152.000000     125.000000     834.000000   \n",
       "75%    2.020112e+07     619.000000     554.000000    2711.875000   \n",
       "max    2.021022e+07   31335.000000   29847.000000  129006.000000   \n",
       "\n",
       "                   M              U             PT        UP_TIME  \\\n",
       "count  118540.000000  118442.000000  120018.000000  118540.000000   \n",
       "mean        6.548169       0.664630    5872.975754       0.921193   \n",
       "std         8.241060       0.296037    6802.255497       0.120564   \n",
       "min         1.000000       0.000000       0.000000       0.000000   \n",
       "25%         2.000000       0.430894    2059.140621       0.888972   \n",
       "50%         3.000000       0.671875    3804.761997       0.970585   \n",
       "75%         8.000000       0.981132    6962.364087       1.000000   \n",
       "max        64.000000       3.000000   96513.000000       1.000000   \n",
       "\n",
       "            EQP_UTIL             TC             CS             AI  \\\n",
       "count  118540.000000  115972.000000  115972.000000  113521.000000   \n",
       "mean        0.624177       0.595742       0.561539     225.856884   \n",
       "std         0.296448       0.993900       0.997925     644.051553   \n",
       "min         0.000000       0.000000       0.000000    -362.083333   \n",
       "25%         0.392431       0.260518       0.220116      11.791667   \n",
       "50%         0.693149       0.400569       0.359979      35.791667   \n",
       "75%         0.886909       0.567120       0.526168     112.208333   \n",
       "max         1.000000      33.466401      33.466401    5440.833333   \n",
       "\n",
       "                C_AI  \n",
       "count  112975.000000  \n",
       "mean        2.640577  \n",
       "std        27.075672  \n",
       "min     -1746.889210  \n",
       "25%         0.816412  \n",
       "50%         1.542316  \n",
       "75%         2.811438  \n",
       "max      2581.985283  "
      ],
      "text/html": "<div>\n<style scoped>\n    .dataframe tbody tr th:only-of-type {\n        vertical-align: middle;\n    }\n\n    .dataframe tbody tr th {\n        vertical-align: top;\n    }\n\n    .dataframe thead th {\n        text-align: right;\n    }\n</style>\n<table border=\"1\" class=\"dataframe\">\n  <thead>\n    <tr style=\"text-align: right;\">\n      <th></th>\n      <th>MFG_DATE</th>\n      <th>WIP_QTY</th>\n      <th>NO_HOLD_QTY</th>\n      <th>MOVE_QTY</th>\n      <th>M</th>\n      <th>U</th>\n      <th>PT</th>\n      <th>UP_TIME</th>\n      <th>EQP_UTIL</th>\n      <th>TC</th>\n      <th>CS</th>\n      <th>AI</th>\n      <th>C_AI</th>\n    </tr>\n  </thead>\n  <tbody>\n    <tr>\n      <th>count</th>\n      <td>1.200180e+05</td>\n      <td>120018.000000</td>\n      <td>120018.000000</td>\n      <td>120018.000000</td>\n      <td>118540.000000</td>\n      <td>118442.000000</td>\n      <td>120018.000000</td>\n      <td>118540.000000</td>\n      <td>118540.000000</td>\n      <td>115972.000000</td>\n      <td>115972.000000</td>\n      <td>113521.000000</td>\n      <td>112975.000000</td>\n    </tr>\n    <tr>\n      <th>mean</th>\n      <td>2.020204e+07</td>\n      <td>665.831217</td>\n      <td>584.163217</td>\n      <td>5255.925968</td>\n      <td>6.548169</td>\n      <td>0.664630</td>\n      <td>5872.975754</td>\n      <td>0.921193</td>\n      <td>0.624177</td>\n      <td>0.595742</td>\n      <td>0.561539</td>\n      <td>225.856884</td>\n      <td>2.640577</td>\n    </tr>\n    <tr>\n      <th>std</th>\n      <td>3.308159e+03</td>\n      <td>1518.844885</td>\n      <td>1350.837912</td>\n      <td>15090.027801</td>\n      <td>8.241060</td>\n      <td>0.296037</td>\n      <td>6802.255497</td>\n      <td>0.120564</td>\n      <td>0.296448</td>\n      <td>0.993900</td>\n      <td>0.997925</td>\n      <td>644.051553</td>\n      <td>27.075672</td>\n    </tr>\n    <tr>\n      <th>min</th>\n      <td>2.020012e+07</td>\n      <td>0.000000</td>\n      <td>0.000000</td>\n      <td>0.300000</td>\n      <td>1.000000</td>\n      <td>0.000000</td>\n      <td>0.000000</td>\n      <td>0.000000</td>\n      <td>0.000000</td>\n      <td>0.000000</td>\n      <td>0.000000</td>\n      <td>-362.083333</td>\n      <td>-1746.889210</td>\n    </tr>\n    <tr>\n      <th>25%</th>\n      <td>2.020050e+07</td>\n      <td>26.000000</td>\n      <td>25.000000</td>\n      <td>235.000000</td>\n      <td>2.000000</td>\n      <td>0.430894</td>\n      <td>2059.140621</td>\n      <td>0.888972</td>\n      <td>0.392431</td>\n      <td>0.260518</td>\n      <td>0.220116</td>\n      <td>11.791667</td>\n      <td>0.816412</td>\n    </tr>\n    <tr>\n      <th>50%</th>\n      <td>2.020081e+07</td>\n      <td>152.000000</td>\n      <td>125.000000</td>\n      <td>834.000000</td>\n      <td>3.000000</td>\n      <td>0.671875</td>\n      <td>3804.761997</td>\n      <td>0.970585</td>\n      <td>0.693149</td>\n      <td>0.400569</td>\n      <td>0.359979</td>\n      <td>35.791667</td>\n      <td>1.542316</td>\n    </tr>\n    <tr>\n      <th>75%</th>\n      <td>2.020112e+07</td>\n      <td>619.000000</td>\n      <td>554.000000</td>\n      <td>2711.875000</td>\n      <td>8.000000</td>\n      <td>0.981132</td>\n      <td>6962.364087</td>\n      <td>1.000000</td>\n      <td>0.886909</td>\n      <td>0.567120</td>\n      <td>0.526168</td>\n      <td>112.208333</td>\n      <td>2.811438</td>\n    </tr>\n    <tr>\n      <th>max</th>\n      <td>2.021022e+07</td>\n      <td>31335.000000</td>\n      <td>29847.000000</td>\n      <td>129006.000000</td>\n      <td>64.000000</td>\n      <td>3.000000</td>\n      <td>96513.000000</td>\n      <td>1.000000</td>\n      <td>1.000000</td>\n      <td>33.466401</td>\n      <td>33.466401</td>\n      <td>5440.833333</td>\n      <td>2581.985283</td>\n    </tr>\n  </tbody>\n</table>\n</div>"
     },
     "metadata": {},
     "execution_count": 16
    }
   ],
   "source": [
    "df_train.describe()"
   ]
  },
  {
   "cell_type": "code",
   "execution_count": 17,
   "metadata": {},
   "outputs": [
    {
     "output_type": "stream",
     "name": "stdout",
     "text": [
      "           MFG_DATE        WIP_QTY    NO_HOLD_QTY       MOVE_QTY  \\\ncount  1.200180e+05  120018.000000  120018.000000  120018.000000   \nmean   2.020204e+07     665.831217     584.163217    5255.925968   \nstd    3.308159e+03    1518.844885    1350.837912   15090.027801   \nmin    2.020012e+07       0.000000       0.000000       0.300000   \n25%    2.020050e+07      26.000000      25.000000     235.000000   \n50%    2.020081e+07     152.000000     125.000000     834.000000   \n75%    2.020112e+07     619.000000     554.000000    2711.875000   \nmax    2.021022e+07   31335.000000   29847.000000  129006.000000   \n\n                   M              U             PT        UP_TIME  \\\ncount  120018.000000  120018.000000  120018.000000  120018.000000   \nmean        6.548169       0.664630    5872.975754       0.921801   \nstd         8.190159       0.294087    6802.255497       0.119943   \nmin         1.000000       0.000000       0.000000       0.000000   \n25%         2.000000       0.435185    2059.140621       0.890358   \n50%         4.000000       0.666667    3804.761997       0.970585   \n75%         8.000000       0.976562    6962.364087       1.000000   \nmax        64.000000       3.000000   96513.000000       1.000000   \n\n            EQP_UTIL             TC             CS             AI  \\\ncount  120018.000000  120018.000000  120018.000000  120018.000000   \nmean        0.625027       0.595742       0.561539     225.856884   \nstd         0.294715       0.977003       0.980959     626.376477   \nmin         0.000000       0.000000       0.000000    -362.083333   \n25%         0.397222       0.267085       0.227055      12.541667   \n50%         0.693149       0.409409       0.369238      40.511905   \n75%         0.885029       0.595742       0.555654     152.666667   \nmax         1.000000      33.466401      33.466401    5440.833333   \n\n                C_AI  \ncount  120018.000000  \nmean        2.640577  \nstd        26.269216  \nmin     -1746.889210  \n25%         0.865001  \n50%         1.653398  \n75%         2.690633  \nmax      2581.985283  \n<class 'pandas.core.frame.DataFrame'>\nRangeIndex: 120018 entries, 0 to 120017\nData columns (total 15 columns):\n #   Column       Non-Null Count   Dtype  \n---  ------       --------------   -----  \n 0   MFG_DATE     120018 non-null  int64  \n 1   TOOLG_ID     120018 non-null  object \n 2   WIP_QTY      120018 non-null  float64\n 3   NO_HOLD_QTY  120018 non-null  float64\n 4   MOVE_QTY     120018 non-null  float64\n 5   M            120018 non-null  float64\n 6   U            120018 non-null  float64\n 7   PT           120018 non-null  float64\n 8   UP_TIME      120018 non-null  float64\n 9   EQP_UTIL     120018 non-null  float64\n 10  TC           120018 non-null  float64\n 11  CS           120018 non-null  float64\n 12  AI           120018 non-null  float64\n 13  C_AI         120018 non-null  float64\n 14  WEEKDAY      120018 non-null  object \ndtypes: float64(12), int64(1), object(2)\nmemory usage: 13.7+ MB\nNone\n"
     ]
    }
   ],
   "source": [
    "# 5          M   1478  0.012315\n",
    "# 6          U   1576  0.013131\n",
    "# 8    UP_TIME   1478  0.012315\n",
    "# 9   EQP_UTIL   1478  0.012315\n",
    "# 10        TC   4046  0.033712\n",
    "# 11        CS   4046  0.033712\n",
    "# 12        AI   6497  0.054134\n",
    "# 13      C_AI   7043  0.058683\n",
    "#df_train['TOOLG_ID_NEXT'] = df_train['TOOLG_ID_NEXT'].fillna('NA')\n",
    "# 均值填充\n",
    "df_train['M'] = df_train['M'].fillna(df_train['M'].mean())\n",
    "df_train['U'] = df_train['U'].fillna(df_train['U'].mean())\n",
    "df_train['TC'] = df_train['TC'].fillna(df_train['TC'].mean())\n",
    "# df_train['CA'] = df_train['CA'].fillna(df_train['CA'].mean())\n",
    "df_train['CS'] = df_train['CS'].fillna(df_train['CS'].mean())\n",
    "df_train['AI'] = df_train['AI'].fillna(df_train['AI'].mean())\n",
    "df_train['C_AI'] = df_train['C_AI'].fillna(df_train['C_AI'].mean())\n",
    "\n",
    "# 中位数填充\n",
    "df_train['UP_TIME'] = df_train['UP_TIME'].fillna(df_train['UP_TIME'].median())\n",
    "df_train['EQP_UTIL'] = df_train['EQP_UTIL'].fillna(df_train['EQP_UTIL'].median())\n",
    "# 众数填充\n",
    "from sklearn.impute import SimpleImputer\n",
    "\n",
    "# imputer = Imputer(missing_values =\"NaN\",strategy = \"most_frequent\",axis = 0)\n",
    "# # imp_mean = SimpleImputer(missing_values = np.nan, strategy=\"most_frequent\",copy=True)\n",
    "# # df_train_mean = imp_mean.fit_transform(df_train[:'CS'])\n",
    "# # df_train_mean\n",
    "# df_train['CS']=imputer.transform(df_train['CS'].reshape(-1,1))\n",
    "# imputer = SimpleImputer(missing_values =\"nan\",strategy = \"mean\")\n",
    "# df_train['CS']=imputer.fit_transform(df_train['CS'].values.reshape(-1,1))[:0]\n",
    "imp = SimpleImputer(strategy=\"most_frequent\")\n",
    "imp.fit_transform(df_train)\n",
    "\n",
    "print(df_train.describe())\n",
    "print(df_train.info())\n",
    "# strategy參數：可為\"mean\"(平均數[預設])、\"median\"(中位數)、\"most_frequent\"(眾數[可用於填充文字])、\"constant\"(常數[可用於填充文字])\n",
    "# 若使用\"constant\"(常數)進行填補，則需再指定fill_value參數為何值\n",
    "# fill_value = 0：使用0進行填補\n",
    "# copy: 預設為True:創建特徵矩陣的副本 ; 設為False時，會將缺失值直接填補到原本的特徵矩陣中去\n",
    "# X_missing"
   ]
  },
  {
   "cell_type": "code",
   "execution_count": 18,
   "metadata": {},
   "outputs": [
    {
     "output_type": "stream",
     "name": "stdout",
     "text": [
      "MFG_DATE       0\nTOOLG_ID       0\nWIP_QTY        0\nNO_HOLD_QTY    0\nMOVE_QTY       0\nM              0\nU              0\nPT             0\nUP_TIME        0\nEQP_UTIL       0\nTC             0\nCS             0\nAI             0\nC_AI           0\nWEEKDAY        0\ndtype: int64\n"
     ]
    }
   ],
   "source": [
    "\n",
    "# 1. 查看缺失情况\n",
    "print(df_train.isnull().sum())\n",
    "# print(df_test.isnull().sum())\n",
    "#df_train.dropna() # 刪除null值\n",
    "#df2_test = df2_test.dropna()# 刪除null值\n"
   ]
  },
  {
   "cell_type": "code",
   "execution_count": 19,
   "metadata": {},
   "outputs": [],
   "source": [
    "#EDA(df_train)"
   ]
  },
  {
   "cell_type": "code",
   "execution_count": 21,
   "metadata": {},
   "outputs": [],
   "source": []
  },
  {
   "cell_type": "code",
   "execution_count": null,
   "metadata": {},
   "outputs": [],
   "source": []
  },
  {
   "cell_type": "code",
   "execution_count": 22,
   "metadata": {},
   "outputs": [],
   "source": [
    "#df_train[['WIP_QTY2']] = df_train['MOVE_QTY']+df_train['WIP_QTY']\n",
    "df_train[['ToolPrefix', 'ToolSub']] = df_train['TOOLG_ID'].str.split('_', 1, expand=True)\n",
    "# df_train[['ToolPrefix_NEXT', 'ToolSub_NEXT']] = df_train['TOOLG_ID_NEXT'].str.split('_', 1, expand=True)"
   ]
  },
  {
   "cell_type": "code",
   "execution_count": 23,
   "metadata": {},
   "outputs": [],
   "source": [
    "df_train = df_train.drop(columns=['MFG_DATE','WIP_QTY']) #'TOOLG_ID',,'TOOLG_ID_NEXT'"
   ]
  },
  {
   "cell_type": "code",
   "execution_count": 24,
   "metadata": {},
   "outputs": [
    {
     "output_type": "stream",
     "name": "stdout",
     "text": [
      "<class 'pandas.core.frame.DataFrame'>\nRangeIndex: 120018 entries, 0 to 120017\nData columns (total 15 columns):\n #   Column       Non-Null Count   Dtype  \n---  ------       --------------   -----  \n 0   TOOLG_ID     120018 non-null  object \n 1   NO_HOLD_QTY  120018 non-null  float64\n 2   MOVE_QTY     120018 non-null  float64\n 3   M            120018 non-null  float64\n 4   U            120018 non-null  float64\n 5   PT           120018 non-null  float64\n 6   UP_TIME      120018 non-null  float64\n 7   EQP_UTIL     120018 non-null  float64\n 8   TC           120018 non-null  float64\n 9   CS           120018 non-null  float64\n 10  AI           120018 non-null  float64\n 11  C_AI         120018 non-null  float64\n 12  WEEKDAY      120018 non-null  object \n 13  ToolPrefix   120018 non-null  object \n 14  ToolSub      119528 non-null  object \ndtypes: float64(11), object(4)\nmemory usage: 13.7+ MB\n"
     ]
    }
   ],
   "source": [
    "df_train.info()"
   ]
  },
  {
   "cell_type": "code",
   "execution_count": 25,
   "metadata": {
    "tags": []
   },
   "outputs": [],
   "source": [
    "#trainModel(df_train,save_model)\n"
   ]
  },
  {
   "cell_type": "code",
   "execution_count": 26,
   "metadata": {},
   "outputs": [],
   "source": [
    "#TestModel(df_train,save_model)"
   ]
  },
  {
   "cell_type": "code",
   "execution_count": 27,
   "metadata": {},
   "outputs": [],
   "source": [
    "# newdf = pd.DataFrame(np.repeat(df.values,3,axis=0))\n",
    "# newdf.columns = df.columns\n",
    "# print(newdf)\n"
   ]
  },
  {
   "cell_type": "code",
   "execution_count": 28,
   "metadata": {},
   "outputs": [
    {
     "output_type": "stream",
     "name": "stdout",
     "text": [
      "<class 'pandas.core.frame.DataFrame'>\nRangeIndex: 120018 entries, 0 to 120017\nData columns (total 17 columns):\n #   Column       Non-Null Count   Dtype  \n---  ------       --------------   -----  \n 0   MFG_DATE     120018 non-null  int64  \n 1   TOOLG_ID     120018 non-null  object \n 2   WIP_QTY      120018 non-null  float64\n 3   NO_HOLD_QTY  120018 non-null  float64\n 4   MOVE_QTY     120018 non-null  float64\n 5   M            120018 non-null  float64\n 6   U            120018 non-null  float64\n 7   PT           120018 non-null  float64\n 8   UP_TIME      120018 non-null  float64\n 9   EQP_UTIL     120018 non-null  float64\n 10  TC           120018 non-null  float64\n 11  CS           120018 non-null  float64\n 12  AI           120018 non-null  float64\n 13  C_AI         120018 non-null  float64\n 14  WEEKDAY      120018 non-null  object \n 15  ToolPrefix   120018 non-null  object \n 16  ToolSub      119528 non-null  object \ndtypes: float64(12), int64(1), object(4)\nmemory usage: 15.6+ MB\n"
     ]
    }
   ],
   "source": [
    "df_testing =df_train_orign\n",
    "df_train.columns\n",
    "df_train.mean()\n",
    "cols=['NO_HOLD_QTY','M','U','PT','UP_TIME','EQP_UTIL','TC','CS','AI','C_AI']\n",
    "df_testing[cols] = df_train[cols].mean()\n",
    "df_testing.head()\n",
    "df_train_orign.info()"
   ]
  },
  {
   "cell_type": "code",
   "execution_count": 402,
   "metadata": {},
   "outputs": [],
   "source": []
  },
  {
   "cell_type": "code",
   "execution_count": 29,
   "metadata": {},
   "outputs": [],
   "source": [
    "# 'CI_STI', 'DGM_AM_350', 'DI_PSG', 'DN_SiN', 'DO_SOD', 'DS_Logic',\n",
    "#        'DT_BP_G/F', 'DT_O3', 'EA_AsherM', 'EC_1C', 'EC_DK_2F', 'EC_DK1',\n",
    "#        'EC_Flex45_1C', 'EG_LAM_G2', 'EG_PolyEB_CIS', 'EG_PolyEB2',\n",
    "#        'EH_OxEB', 'EK_1G', 'EK_aC', 'CI_ILD', 'CI_IMD', 'DA_BM', 'DB_Pre',\n",
    "#        'DB_TiN', 'DGA_BM_350', 'DI_HDP', 'DK_300', 'DK_550', 'DK_SiN',\n",
    "#        'DM_TiN(ASFD)', 'DR_LampA', 'DT_STI_TD', 'DW_WSi', 'EA_RWK',\n",
    "#        'EB_Asher', 'EC_DK2', 'EC_Flex_38', 'EC_Flex45_F6X', 'EK_aC(JX)',\n",
    "#        'EK_C/F', 'EK_RG', 'EU_Jin_Cu', 'EU_V_Cu', 'EW_3S', 'FAFS_Annl',\n",
    "#        'FD_BS', 'FD_DO', 'FL_NiPt', 'FN_HTO_DK', 'IBH_HiCur', 'IBS_As(H)',\n",
    "#        'ID_HiEnrg', 'MA_Al_175', 'MP_Cu', 'MR_Cu_TD', 'MS_MOCVD',\n",
    "#        'MT_Ti/TiN', 'EC_LDD_Logic', 'EC_Shin_DK40', 'EC_TH_63',\n",
    "#        'EC_Via_20', 'EC_Via_30', 'EC_Via_40', 'EG_Gate_232', 'EG_STI_G5',\n",
    "#        'EH_CP', 'EH_LDD_2N', 'EK_1G_6X', 'EM_AL_Cln', 'EM_AL_FDY',\n",
    "#        'EM_MX_W/O', 'EM_SP55_TM', 'EW_1G', 'EW_BL', 'EW_CP_72',\n",
    "#        'EW_RG_63', 'PE_ChaEsr', 'PG_UVcure', 'PH_Immersion', 'QC_ET',\n",
    "#        'QE_ThkMea', 'QH_XRF', 'QP_Defect', 'QS_SEM', 'RI_AM', 'SC_M.Jet',\n",
    "#        'WAT_TSA', 'WDD_160_G1', 'WDD_160_G2', 'WDS_160_G2', 'WE_HV40',\n",
    "#        'WK_BsEtch', 'WK_Cu', 'WM_PosCln', 'WN_ContactCln', 'FD_Tel',\n",
    "#        'FE_Anneal', 'FG_GOX', 'FH_HT(L)', 'FJ_TD', 'FK_ZAC', 'FL_LT',\n",
    "#        'FM_ALD', 'FM_ALD_SPT', 'FM_SiN(F)', 'FO_TiO', 'FT_119',\n",
    "#        'FX_PadOxi_B', 'IBS_HiCur', 'IBV_HiCur', 'MT_TiN', 'PK_DUVKrF',\n",
    "#        'PU_C/F', 'PU_I-Line', 'CU_Cu', 'DA_AM', 'DB_Ti/SFD', 'DB_Ti/TiN',\n",
    "#        'DC_DCT', 'DC_WCVD', 'DD_BD_Cu', 'DGA_AM_230_LTO', 'DGA_AM_350',\n",
    "#        'DGA_AM_400', 'DM_SFD_480', 'DP_SiN', 'DS_FDY', 'DS_HDP', 'DT_BP',\n",
    "#        'DT_STI', 'EC_3S', 'EC_DK_1G', 'EC_Flex', 'CI_ILD_Eba',\n",
    "#        'CI_STI_Eba', 'CM_W_Eba', 'CM_WCMP', 'CN_N2_Cu', 'DB_Ti',\n",
    "#        'DD_BLOK_Cu', 'DM_SFD_650', 'EA_C/F', 'EC_LDD_Dram', 'EC_LDD_NXP',\n",
    "#        'EC_SAC', 'EC_TH_CIS', 'EG_LAM_Poly', 'EH_PV', 'EH_SR', 'EK_1F_68',\n",
    "#        'EK_1G_SDRM', 'EK_RG_SDRM', 'PW_PIX', 'QA_ADI', 'QA_AEI', 'QA_Cu',\n",
    "#        'QC_CMP', 'QGK_2365', 'QX_Overly', 'QY_D.PC', 'RD_RTO', 'SC_C/F',\n",
    "#        'WC_Crown', 'WD_130', 'WE_Crown', 'WO_SiO2', 'WQ_CeO2', 'WW_Poly',\n",
    "#        'XE_C/F', 'EL_Light_2B', 'EM_AL_Depo', 'EM_MX', 'EM_W/O',\n",
    "#        'EU_TU_Cu', 'EV_BV_AM', 'EV_BV_BM', 'EW_1GBL', 'EW_2S_G5', 'EW_CP',\n",
    "#        'EW_SP(G5)', 'FD_B-Poly', 'FD_TD', 'FE_DK', 'FJ_MLD_OX',\n",
    "#        'FK_LAZO(I)', 'FN_HTO', 'FN_SiN(DRAM)', 'FP_NDPoly', 'FQ_PIQ',\n",
    "#        'MA_Alps', 'MB_Co(H)', 'MB_Co_350', 'MB_PC30', 'MR_Cu', 'PB_BARC',\n",
    "#        'PT_Marker', 'QC_C/F', 'QC_TF', 'QPK_PUMA', 'QW_Cu', 'QW_SEM-ET',\n",
    "#        'RAM_RTA', 'RDA_RTO', 'RE_EPI_ND', 'RI_BM', 'RN_RTN_5P/2N',\n",
    "#        'WA_PreCln', 'WAT Out', 'WAT_TEST', 'WF_DK28', 'WF_LiEtch',\n",
    "#        'WH_CIS', 'WH_EKC', 'WJ_LiEtch', 'WM_PreCln', 'WN_NiPt',\n",
    "#        'WU_W-RMV', 'WW_HF', 'EC_Flex_45', 'EC_TH_45', 'EC_Via(S55)',\n",
    "#        'EG_C/F', 'EG_LAM_G1', 'EG_LDD', 'EG_PolyEB', 'EG_SiN EB',\n",
    "#        'EG_STI_232', 'EG_STI_DPS', 'EH_LDD_SP', 'EH_PI', 'EK_1G05_68',\n",
    "#        'EL_Light', 'EM_AL_AG', 'EN_1F', 'EU_U_Cu', 'EW_4F', 'EW_RG_45',\n",
    "#        'WN_Co-RMV', 'WO_NXP', 'WT_Cu', 'WW_NH4OH', 'WY_DK', 'XE_Cu',\n",
    "#        'XE_Sorter', 'XW_Sorter', 'EW_SP(G2)', 'FC_PadOxi', 'FD_Ge-Poly',\n",
    "#        'FH_HT', 'FH_HT_LCD', 'FI_WHoxid', 'FK_LAHO', 'FK_LAZO(F)',\n",
    "#        'FL_Cu', 'FM_SiN(A)', 'FN_H(F)', 'FN_SiN(A)', 'FN_SiN(F)',\n",
    "#        'FT_148', 'FT_TEOS(F)', 'IA_MidCur', 'MA_Al', 'MB_Co_250',\n",
    "#        'MS_SIP', 'MW_W', 'OTHERS', 'PH_DUVArF', 'PR_Relacs', 'PW_C/F',\n",
    "#        'QA_C/F', 'QC_Cu', 'QF_Wet', 'QG_Defect', 'QU_Mfilm', 'QW_C/F',\n",
    "#        'QW_SEM-PH', 'QZ_Defect', 'RAA_RTA', 'RAA_Spike', 'RAM_Anneal',\n",
    "#        'RN_RTN_1G', 'RS_DK', 'RS_SPA', 'WB_LiEtch', 'WC_SiO2',\n",
    "#        'WE_PreCln', 'WH_DSP', 'WL_Resist', 'EC_Flex45_F7X', 'EM_W/I',\n",
    "#        'RS_TD', 'WDD_SP55', 'MS_NiPt', 'QY_Defect', 'RE_EPI',\n",
    "#        'FT_TEOS(TD)', 'DR_NiPt', 'DD_BD_TD', 'WK_NiPt', 'EW_3SCP',\n",
    "#        'EK_1F_99', 'EC_SCCM_SiNEB', 'EW_2S_DPS', 'DC_WCVD_Cu',\n",
    "#        'EC_Flex(S90)', 'EC_Con', 'RAA_DK', 'EC_SADP_DK28',\n",
    "#        'FI_Whoxid(TD)', 'EK_BL20', 'DK_Li filter', 'FM_ALD(TD)',\n",
    "#        'EC_HV40', 'CP TEST', 'WT Out', 'RS_S55', 'DI_TD', 'DL_TD',\n",
    "#        'WM_SW', 'QD_AFM', 'EK_a-C_S', 'WR_PD_B(NPW)', 'EC_HMO',\n",
    "#        'QV_CVTest', 'QP_PUMA', 'DK_Li Pi', 'EW_RG', 'EA_TD', 'EC_HARC',\n",
    "#        'EK_1S_TD', 'D63FE01A', 'WR_PD_A(NPW)', 'FN_NPW', 'CI_C/F',\n",
    "#        'FD_TD(T92)', 'WH_C/F', 'WH_TD', 'FD_TD(K59)', 'WG_Si', 'MS_Ta2O5',\n",
    "#        'QG_2365', 'DC_400', 'EG_LAM_G3', 'PR_1B', 'FH_H88', 'EW_DK28',\n",
    "#        'DI_HDP_HV80', 'DI_HDP_FSG', 'WF_Certas'"
   ]
  },
  {
   "cell_type": "code",
   "execution_count": 69,
   "metadata": {},
   "outputs": [],
   "source": [
    "toolgCorr=[]\n",
    "for toolg in df_train_orign.TOOLG_ID.unique() :\n",
    "    df_train_orign_tool = df_train_orign.loc[df_train_orign['TOOLG_ID']==toolg]\n",
    "    if(df_train_orign_tool['WIP_QTY'].corr(df_train_orign_tool['MOVE_QTY']) >0.7):\n",
    "        toolgCorr.append([toolg,df_train_orign_tool['WIP_QTY'].corr(df_train_orign_tool['MOVE_QTY'])])\n",
    "    # print(toolg ,' corr : ',df_train_orign_tool['WIP_QTY'].corr(df_train_orign_tool['MOVE_QTY']))\n",
    "toolgCorr =np.asarray(toolgCorr) \n",
    "# toolgCorr[:,1]\n",
    " \n"
   ]
  },
  {
   "cell_type": "code",
   "execution_count": 70,
   "metadata": {},
   "outputs": [
    {
     "output_type": "execute_result",
     "data": {
      "text/plain": [
       "array([['EC_Flex_38', '0.7911504844531038'],\n",
       "       ['EK_C/F', '0.7093350967839047'],\n",
       "       ['FN_HTO_DK', '0.8118970940213679'],\n",
       "       ['WE_HV40', '0.8394352215981518'],\n",
       "       ['FE_Anneal', '0.7061817068258882'],\n",
       "       ['FK_ZAC', '0.7416137157692824'],\n",
       "       ['FL_LT', '0.8332026854057203'],\n",
       "       ['FM_ALD', '0.767263250582651'],\n",
       "       ['FM_ALD_SPT', '0.7439758436083826'],\n",
       "       ['FO_TiO', '0.7585485117665615'],\n",
       "       ['EK_RG_SDRM', '0.711698041268659'],\n",
       "       ['SC_C/F', '0.872936406656076'],\n",
       "       ['WW_Poly', '0.7351470441147052'],\n",
       "       ['FE_DK', '0.7165982592764932'],\n",
       "       ['FL_Cu', '0.7182510360970699'],\n",
       "       ['PW_C/F', '0.7348233604994369'],\n",
       "       ['EC_SADP_DK28', '0.7182303869168956'],\n",
       "       ['FI_Whoxid(TD)', '0.8044510065896284'],\n",
       "       ['EC_HMO', '0.7067499621544588'],\n",
       "       ['EW_RG', '0.7253702014905449'],\n",
       "       ['MS_Ta2O5', '0.7240866868203919']], dtype='<U18')"
      ]
     },
     "metadata": {},
     "execution_count": 70
    }
   ],
   "source": [
    "toolgCorr "
   ]
  },
  {
   "cell_type": "code",
   "execution_count": 72,
   "metadata": {},
   "outputs": [
    {
     "output_type": "display_data",
     "data": {
      "text/plain": "<Figure size 288x288 with 1 Axes>",
      "image/svg+xml": "<?xml version=\"1.0\" encoding=\"utf-8\" standalone=\"no\"?>\r\n<!DOCTYPE svg PUBLIC \"-//W3C//DTD SVG 1.1//EN\"\r\n  \"http://www.w3.org/Graphics/SVG/1.1/DTD/svg11.dtd\">\r\n<!-- Created with matplotlib (https://matplotlib.org/) -->\r\n<svg height=\"280.644375pt\" version=\"1.1\" viewBox=\"0 0 286.923693 280.644375\" width=\"286.923693pt\" xmlns=\"http://www.w3.org/2000/svg\" xmlns:xlink=\"http://www.w3.org/1999/xlink\">\r\n <metadata>\r\n  <rdf:RDF xmlns:cc=\"http://creativecommons.org/ns#\" xmlns:dc=\"http://purl.org/dc/elements/1.1/\" xmlns:rdf=\"http://www.w3.org/1999/02/22-rdf-syntax-ns#\">\r\n   <cc:Work>\r\n    <dc:type rdf:resource=\"http://purl.org/dc/dcmitype/StillImage\"/>\r\n    <dc:date>2021-03-02T19:35:28.226940</dc:date>\r\n    <dc:format>image/svg+xml</dc:format>\r\n    <dc:creator>\r\n     <cc:Agent>\r\n      <dc:title>Matplotlib v3.3.3, https://matplotlib.org/</dc:title>\r\n     </cc:Agent>\r\n    </dc:creator>\r\n   </cc:Work>\r\n  </rdf:RDF>\r\n </metadata>\r\n <defs>\r\n  <style type=\"text/css\">*{stroke-linecap:butt;stroke-linejoin:round;}</style>\r\n </defs>\r\n <g id=\"figure_1\">\r\n  <g id=\"patch_1\">\r\n   <path d=\"M 0 280.644375 \r\nL 286.923693 280.644375 \r\nL 286.923693 0 \r\nL 0 0 \r\nz\r\n\" style=\"fill:none;\"/>\r\n  </g>\r\n  <g id=\"axes_1\">\r\n   <g id=\"patch_2\">\r\n    <path d=\"M 49.023125 241.030625 \r\nL 272.223125 241.030625 \r\nL 272.223125 23.590625 \r\nL 49.023125 23.590625 \r\nz\r\n\" style=\"fill:#ffffff;\"/>\r\n   </g>\r\n   <g id=\"PathCollection_1\">\r\n    <defs>\r\n     <path d=\"M 0 3 \r\nC 0.795609 3 1.55874 2.683901 2.12132 2.12132 \r\nC 2.683901 1.55874 3 0.795609 3 0 \r\nC 3 -0.795609 2.683901 -1.55874 2.12132 -2.12132 \r\nC 1.55874 -2.683901 0.795609 -3 0 -3 \r\nC -0.795609 -3 -1.55874 -2.683901 -2.12132 -2.12132 \r\nC -2.683901 -1.55874 -3 -0.795609 -3 0 \r\nC -3 0.795609 -2.683901 1.55874 -2.12132 2.12132 \r\nC -1.55874 2.683901 -0.795609 3 0 3 \r\nz\r\n\" id=\"m54d88ac960\" style=\"stroke:#1f77b4;\"/>\r\n    </defs>\r\n    <g clip-path=\"url(#p034861bd47)\">\r\n     <use style=\"fill:#1f77b4;stroke:#1f77b4;\" x=\"233.54358\" xlink:href=\"#m54d88ac960\" y=\"90.579716\"/>\r\n     <use style=\"fill:#1f77b4;stroke:#1f77b4;\" x=\"148.645852\" xlink:href=\"#m54d88ac960\" y=\"85.747716\"/>\r\n     <use style=\"fill:#1f77b4;stroke:#1f77b4;\" x=\"121.520852\" xlink:href=\"#m54d88ac960\" y=\"99.804443\"/>\r\n     <use style=\"fill:#1f77b4;stroke:#1f77b4;\" x=\"86.998125\" xlink:href=\"#m54d88ac960\" y=\"120.889534\"/>\r\n     <use style=\"fill:#1f77b4;stroke:#1f77b4;\" x=\"95.45267\" xlink:href=\"#m54d88ac960\" y=\"134.067716\"/>\r\n     <use style=\"fill:#1f77b4;stroke:#1f77b4;\" x=\"79.95267\" xlink:href=\"#m54d88ac960\" y=\"165.695352\"/>\r\n     <use style=\"fill:#1f77b4;stroke:#1f77b4;\" x=\"88.054943\" xlink:href=\"#m54d88ac960\" y=\"96.290261\"/>\r\n     <use style=\"fill:#1f77b4;stroke:#1f77b4;\" x=\"86.645852\" xlink:href=\"#m54d88ac960\" y=\"109.02917\"/>\r\n     <use style=\"fill:#1f77b4;stroke:#1f77b4;\" x=\"78.54358\" xlink:href=\"#m54d88ac960\" y=\"87.065534\"/>\r\n     <use style=\"fill:#1f77b4;stroke:#1f77b4;\" x=\"122.57767\" xlink:href=\"#m54d88ac960\" y=\"108.589898\"/>\r\n     <use style=\"fill:#1f77b4;stroke:#1f77b4;\" x=\"93.691307\" xlink:href=\"#m54d88ac960\" y=\"121.328807\"/>\r\n     <use style=\"fill:#1f77b4;stroke:#1f77b4;\" x=\"108.134489\" xlink:href=\"#m54d88ac960\" y=\"89.261898\"/>\r\n     <use style=\"fill:#1f77b4;stroke:#1f77b4;\" x=\"160.975398\" xlink:href=\"#m54d88ac960\" y=\"77.840807\"/>\r\n     <use style=\"fill:#1f77b4;stroke:#1f77b4;\" x=\"172.95267\" xlink:href=\"#m54d88ac960\" y=\"83.11208\"/>\r\n     <use style=\"fill:#1f77b4;stroke:#1f77b4;\" x=\"176.123125\" xlink:href=\"#m54d88ac960\" y=\"67.298261\"/>\r\n     <use style=\"fill:#1f77b4;stroke:#1f77b4;\" x=\"182.816307\" xlink:href=\"#m54d88ac960\" y=\"76.522989\"/>\r\n     <use style=\"fill:#1f77b4;stroke:#1f77b4;\" x=\"162.032216\" xlink:href=\"#m54d88ac960\" y=\"104.19717\"/>\r\n     <use style=\"fill:#1f77b4;stroke:#1f77b4;\" x=\"199.020852\" xlink:href=\"#m54d88ac960\" y=\"70.37317\"/>\r\n     <use style=\"fill:#1f77b4;stroke:#1f77b4;\" x=\"150.054943\" xlink:href=\"#m54d88ac960\" y=\"56.316443\"/>\r\n     <use style=\"fill:#1f77b4;stroke:#1f77b4;\" x=\"176.475398\" xlink:href=\"#m54d88ac960\" y=\"163.938261\"/>\r\n     <use style=\"fill:#1f77b4;stroke:#1f77b4;\" x=\"141.600398\" xlink:href=\"#m54d88ac960\" y=\"198.640807\"/>\r\n     <use style=\"fill:#1f77b4;stroke:#1f77b4;\" x=\"123.986761\" xlink:href=\"#m54d88ac960\" y=\"142.85317\"/>\r\n     <use style=\"fill:#1f77b4;stroke:#1f77b4;\" x=\"142.304943\" xlink:href=\"#m54d88ac960\" y=\"55.87717\"/>\r\n     <use style=\"fill:#1f77b4;stroke:#1f77b4;\" x=\"109.54358\" xlink:href=\"#m54d88ac960\" y=\"137.581898\"/>\r\n     <use style=\"fill:#1f77b4;stroke:#1f77b4;\" x=\"64.100398\" xlink:href=\"#m54d88ac960\" y=\"225.875716\"/>\r\n     <use style=\"fill:#1f77b4;stroke:#1f77b4;\" x=\"89.816307\" xlink:href=\"#m54d88ac960\" y=\"87.504807\"/>\r\n     <use style=\"fill:#1f77b4;stroke:#1f77b4;\" x=\"127.157216\" xlink:href=\"#m54d88ac960\" y=\"66.858989\"/>\r\n     <use style=\"fill:#1f77b4;stroke:#1f77b4;\" x=\"92.634489\" xlink:href=\"#m54d88ac960\" y=\"105.514989\"/>\r\n     <use style=\"fill:#1f77b4;stroke:#1f77b4;\" x=\"119.407216\" xlink:href=\"#m54d88ac960\" y=\"165.695352\"/>\r\n     <use style=\"fill:#1f77b4;stroke:#1f77b4;\" x=\"127.509489\" xlink:href=\"#m54d88ac960\" y=\"60.269898\"/>\r\n     <use style=\"fill:#1f77b4;stroke:#1f77b4;\" x=\"123.282216\" xlink:href=\"#m54d88ac960\" y=\"89.70117\"/>\r\n     <use style=\"fill:#1f77b4;stroke:#1f77b4;\" x=\"193.384489\" xlink:href=\"#m54d88ac960\" y=\"89.70117\"/>\r\n     <use style=\"fill:#1f77b4;stroke:#1f77b4;\" x=\"219.804943\" xlink:href=\"#m54d88ac960\" y=\"65.980443\"/>\r\n     <use style=\"fill:#1f77b4;stroke:#1f77b4;\" x=\"237.066307\" xlink:href=\"#m54d88ac960\" y=\"75.644443\"/>\r\n     <use style=\"fill:#1f77b4;stroke:#1f77b4;\" x=\"217.339034\" xlink:href=\"#m54d88ac960\" y=\"78.28008\"/>\r\n     <use style=\"fill:#1f77b4;stroke:#1f77b4;\" x=\"221.91858\" xlink:href=\"#m54d88ac960\" y=\"70.37317\"/>\r\n     <use style=\"fill:#1f77b4;stroke:#1f77b4;\" x=\"133.498125\" xlink:href=\"#m54d88ac960\" y=\"107.711352\"/>\r\n     <use style=\"fill:#1f77b4;stroke:#1f77b4;\" x=\"113.770852\" xlink:href=\"#m54d88ac960\" y=\"125.721534\"/>\r\n     <use style=\"fill:#1f77b4;stroke:#1f77b4;\" x=\"77.134489\" xlink:href=\"#m54d88ac960\" y=\"149.881534\"/>\r\n     <use style=\"fill:#1f77b4;stroke:#1f77b4;\" x=\"59.16858\" xlink:href=\"#m54d88ac960\" y=\"144.170989\"/>\r\n     <use style=\"fill:#1f77b4;stroke:#1f77b4;\" x=\"111.657216\" xlink:href=\"#m54d88ac960\" y=\"85.308443\"/>\r\n     <use style=\"fill:#1f77b4;stroke:#1f77b4;\" x=\"115.532216\" xlink:href=\"#m54d88ac960\" y=\"62.905534\"/>\r\n     <use style=\"fill:#1f77b4;stroke:#1f77b4;\" x=\"133.498125\" xlink:href=\"#m54d88ac960\" y=\"77.840807\"/>\r\n     <use style=\"fill:#1f77b4;stroke:#1f77b4;\" x=\"133.850398\" xlink:href=\"#m54d88ac960\" y=\"73.008807\"/>\r\n     <use style=\"fill:#1f77b4;stroke:#1f77b4;\" x=\"86.29358\" xlink:href=\"#m54d88ac960\" y=\"174.480807\"/>\r\n     <use style=\"fill:#1f77b4;stroke:#1f77b4;\" x=\"85.589034\" xlink:href=\"#m54d88ac960\" y=\"110.346989\"/>\r\n     <use style=\"fill:#1f77b4;stroke:#1f77b4;\" x=\"76.782216\" xlink:href=\"#m54d88ac960\" y=\"153.395716\"/>\r\n     <use style=\"fill:#1f77b4;stroke:#1f77b4;\" x=\"69.032216\" xlink:href=\"#m54d88ac960\" y=\"152.077898\"/>\r\n     <use style=\"fill:#1f77b4;stroke:#1f77b4;\" x=\"67.975398\" xlink:href=\"#m54d88ac960\" y=\"154.713534\"/>\r\n     <use style=\"fill:#1f77b4;stroke:#1f77b4;\" x=\"86.998125\" xlink:href=\"#m54d88ac960\" y=\"181.948443\"/>\r\n     <use style=\"fill:#1f77b4;stroke:#1f77b4;\" x=\"71.850398\" xlink:href=\"#m54d88ac960\" y=\"161.302625\"/>\r\n     <use style=\"fill:#1f77b4;stroke:#1f77b4;\" x=\"77.839034\" xlink:href=\"#m54d88ac960\" y=\"139.338989\"/>\r\n     <use style=\"fill:#1f77b4;stroke:#1f77b4;\" x=\"89.816307\" xlink:href=\"#m54d88ac960\" y=\"131.43208\"/>\r\n     <use style=\"fill:#1f77b4;stroke:#1f77b4;\" x=\"95.45267\" xlink:href=\"#m54d88ac960\" y=\"99.36517\"/>\r\n     <use style=\"fill:#1f77b4;stroke:#1f77b4;\" x=\"113.41858\" xlink:href=\"#m54d88ac960\" y=\"127.917898\"/>\r\n     <use style=\"fill:#1f77b4;stroke:#1f77b4;\" x=\"99.32767\" xlink:href=\"#m54d88ac960\" y=\"106.832807\"/>\r\n     <use style=\"fill:#1f77b4;stroke:#1f77b4;\" x=\"134.20267\" xlink:href=\"#m54d88ac960\" y=\"150.76008\"/>\r\n     <use style=\"fill:#1f77b4;stroke:#1f77b4;\" x=\"166.259489\" xlink:href=\"#m54d88ac960\" y=\"87.065534\"/>\r\n     <use style=\"fill:#1f77b4;stroke:#1f77b4;\" x=\"140.895852\" xlink:href=\"#m54d88ac960\" y=\"87.065534\"/>\r\n     <use style=\"fill:#1f77b4;stroke:#1f77b4;\" x=\"105.66858\" xlink:href=\"#m54d88ac960\" y=\"80.915716\"/>\r\n     <use style=\"fill:#1f77b4;stroke:#1f77b4;\" x=\"170.486761\" xlink:href=\"#m54d88ac960\" y=\"192.930261\"/>\r\n     <use style=\"fill:#1f77b4;stroke:#1f77b4;\" x=\"148.29358\" xlink:href=\"#m54d88ac960\" y=\"106.393534\"/>\r\n     <use style=\"fill:#1f77b4;stroke:#1f77b4;\" x=\"121.873125\" xlink:href=\"#m54d88ac960\" y=\"133.18917\"/>\r\n     <use style=\"fill:#1f77b4;stroke:#1f77b4;\" x=\"131.384489\" xlink:href=\"#m54d88ac960\" y=\"86.186989\"/>\r\n     <use style=\"fill:#1f77b4;stroke:#1f77b4;\" x=\"114.123125\" xlink:href=\"#m54d88ac960\" y=\"96.290261\"/>\r\n     <use style=\"fill:#1f77b4;stroke:#1f77b4;\" x=\"69.032216\" xlink:href=\"#m54d88ac960\" y=\"167.452443\"/>\r\n     <use style=\"fill:#1f77b4;stroke:#1f77b4;\" x=\"89.111761\" xlink:href=\"#m54d88ac960\" y=\"141.535352\"/>\r\n     <use style=\"fill:#1f77b4;stroke:#1f77b4;\" x=\"94.04358\" xlink:href=\"#m54d88ac960\" y=\"210.061898\"/>\r\n     <use style=\"fill:#1f77b4;stroke:#1f77b4;\" x=\"95.45267\" xlink:href=\"#m54d88ac960\" y=\"178.873534\"/>\r\n     <use style=\"fill:#1f77b4;stroke:#1f77b4;\" x=\"79.95267\" xlink:href=\"#m54d88ac960\" y=\"187.658989\"/>\r\n     <use style=\"fill:#1f77b4;stroke:#1f77b4;\" x=\"84.884489\" xlink:href=\"#m54d88ac960\" y=\"105.954261\"/>\r\n     <use style=\"fill:#1f77b4;stroke:#1f77b4;\" x=\"101.79358\" xlink:href=\"#m54d88ac960\" y=\"135.385534\"/>\r\n     <use style=\"fill:#1f77b4;stroke:#1f77b4;\" x=\"60.57767\" xlink:href=\"#m54d88ac960\" y=\"153.395716\"/>\r\n     <use style=\"fill:#1f77b4;stroke:#1f77b4;\" x=\"86.998125\" xlink:href=\"#m54d88ac960\" y=\"187.658989\"/>\r\n     <use style=\"fill:#1f77b4;stroke:#1f77b4;\" x=\"87.350398\" xlink:href=\"#m54d88ac960\" y=\"187.219716\"/>\r\n     <use style=\"fill:#1f77b4;stroke:#1f77b4;\" x=\"60.57767\" xlink:href=\"#m54d88ac960\" y=\"187.658989\"/>\r\n     <use style=\"fill:#1f77b4;stroke:#1f77b4;\" x=\"70.089034\" xlink:href=\"#m54d88ac960\" y=\"219.286625\"/>\r\n     <use style=\"fill:#1f77b4;stroke:#1f77b4;\" x=\"61.282216\" xlink:href=\"#m54d88ac960\" y=\"198.640807\"/>\r\n     <use style=\"fill:#1f77b4;stroke:#1f77b4;\" x=\"70.089034\" xlink:href=\"#m54d88ac960\" y=\"176.67717\"/>\r\n     <use style=\"fill:#1f77b4;stroke:#1f77b4;\" x=\"87.70267\" xlink:href=\"#m54d88ac960\" y=\"143.731716\"/>\r\n     <use style=\"fill:#1f77b4;stroke:#1f77b4;\" x=\"61.282216\" xlink:href=\"#m54d88ac960\" y=\"208.304807\"/>\r\n     <use style=\"fill:#1f77b4;stroke:#1f77b4;\" x=\"69.384489\" xlink:href=\"#m54d88ac960\" y=\"186.34117\"/>\r\n     <use style=\"fill:#1f77b4;stroke:#1f77b4;\" x=\"60.929943\" xlink:href=\"#m54d88ac960\" y=\"164.377534\"/>\r\n     <use style=\"fill:#1f77b4;stroke:#1f77b4;\" x=\"87.350398\" xlink:href=\"#m54d88ac960\" y=\"110.786261\"/>\r\n     <use style=\"fill:#1f77b4;stroke:#1f77b4;\" x=\"140.191307\" xlink:href=\"#m54d88ac960\" y=\"77.840807\"/>\r\n     <use style=\"fill:#1f77b4;stroke:#1f77b4;\" x=\"140.191307\" xlink:href=\"#m54d88ac960\" y=\"76.962261\"/>\r\n     <use style=\"fill:#1f77b4;stroke:#1f77b4;\" x=\"122.225398\" xlink:href=\"#m54d88ac960\" y=\"99.804443\"/>\r\n     <use style=\"fill:#1f77b4;stroke:#1f77b4;\" x=\"136.316307\" xlink:href=\"#m54d88ac960\" y=\"103.757898\"/>\r\n     <use style=\"fill:#1f77b4;stroke:#1f77b4;\" x=\"153.57767\" xlink:href=\"#m54d88ac960\" y=\"124.842989\"/>\r\n     <use style=\"fill:#1f77b4;stroke:#1f77b4;\" x=\"78.191307\" xlink:href=\"#m54d88ac960\" y=\"188.537534\"/>\r\n     <use style=\"fill:#1f77b4;stroke:#1f77b4;\" x=\"64.804943\" xlink:href=\"#m54d88ac960\" y=\"212.258261\"/>\r\n     <use style=\"fill:#1f77b4;stroke:#1f77b4;\" x=\"79.248125\" xlink:href=\"#m54d88ac960\" y=\"192.051716\"/>\r\n     <use style=\"fill:#1f77b4;stroke:#1f77b4;\" x=\"100.384489\" xlink:href=\"#m54d88ac960\" y=\"104.636443\"/>\r\n     <use style=\"fill:#1f77b4;stroke:#1f77b4;\" x=\"76.782216\" xlink:href=\"#m54d88ac960\" y=\"209.622625\"/>\r\n     <use style=\"fill:#1f77b4;stroke:#1f77b4;\" x=\"71.145852\" xlink:href=\"#m54d88ac960\" y=\"222.361534\"/>\r\n     <use style=\"fill:#1f77b4;stroke:#1f77b4;\" x=\"72.20267\" xlink:href=\"#m54d88ac960\" y=\"218.40808\"/>\r\n     <use style=\"fill:#1f77b4;stroke:#1f77b4;\" x=\"67.623125\" xlink:href=\"#m54d88ac960\" y=\"200.83717\"/>\r\n     <use style=\"fill:#1f77b4;stroke:#1f77b4;\" x=\"68.32767\" xlink:href=\"#m54d88ac960\" y=\"218.40808\"/>\r\n     <use style=\"fill:#1f77b4;stroke:#1f77b4;\" x=\"77.839034\" xlink:href=\"#m54d88ac960\" y=\"144.610261\"/>\r\n     <use style=\"fill:#1f77b4;stroke:#1f77b4;\" x=\"95.804943\" xlink:href=\"#m54d88ac960\" y=\"186.34117\"/>\r\n     <use style=\"fill:#1f77b4;stroke:#1f77b4;\" x=\"59.873125\" xlink:href=\"#m54d88ac960\" y=\"231.146989\"/>\r\n     <use style=\"fill:#1f77b4;stroke:#1f77b4;\" x=\"60.57767\" xlink:href=\"#m54d88ac960\" y=\"227.193534\"/>\r\n     <use style=\"fill:#1f77b4;stroke:#1f77b4;\" x=\"59.520852\" xlink:href=\"#m54d88ac960\" y=\"225.875716\"/>\r\n     <use style=\"fill:#1f77b4;stroke:#1f77b4;\" x=\"77.134489\" xlink:href=\"#m54d88ac960\" y=\"209.622625\"/>\r\n     <use style=\"fill:#1f77b4;stroke:#1f77b4;\" x=\"85.941307\" xlink:href=\"#m54d88ac960\" y=\"198.201534\"/>\r\n     <use style=\"fill:#1f77b4;stroke:#1f77b4;\" x=\"68.32767\" xlink:href=\"#m54d88ac960\" y=\"197.762261\"/>\r\n     <use style=\"fill:#1f77b4;stroke:#1f77b4;\" x=\"68.32767\" xlink:href=\"#m54d88ac960\" y=\"187.658989\"/>\r\n     <use style=\"fill:#1f77b4;stroke:#1f77b4;\" x=\"68.32767\" xlink:href=\"#m54d88ac960\" y=\"176.67717\"/>\r\n     <use style=\"fill:#1f77b4;stroke:#1f77b4;\" x=\"85.941307\" xlink:href=\"#m54d88ac960\" y=\"187.658989\"/>\r\n     <use style=\"fill:#1f77b4;stroke:#1f77b4;\" x=\"68.32767\" xlink:href=\"#m54d88ac960\" y=\"209.622625\"/>\r\n     <use style=\"fill:#1f77b4;stroke:#1f77b4;\" x=\"69.032216\" xlink:href=\"#m54d88ac960\" y=\"192.930261\"/>\r\n     <use style=\"fill:#1f77b4;stroke:#1f77b4;\" x=\"90.873125\" xlink:href=\"#m54d88ac960\" y=\"165.695352\"/>\r\n     <use style=\"fill:#1f77b4;stroke:#1f77b4;\" x=\"75.020852\" xlink:href=\"#m54d88ac960\" y=\"172.723716\"/>\r\n     <use style=\"fill:#1f77b4;stroke:#1f77b4;\" x=\"105.316307\" xlink:href=\"#m54d88ac960\" y=\"135.385534\"/>\r\n     <use style=\"fill:#1f77b4;stroke:#1f77b4;\" x=\"115.884489\" xlink:href=\"#m54d88ac960\" y=\"133.628443\"/>\r\n     <use style=\"fill:#1f77b4;stroke:#1f77b4;\" x=\"127.157216\" xlink:href=\"#m54d88ac960\" y=\"92.77608\"/>\r\n     <use style=\"fill:#1f77b4;stroke:#1f77b4;\" x=\"119.054943\" xlink:href=\"#m54d88ac960\" y=\"111.664807\"/>\r\n     <use style=\"fill:#1f77b4;stroke:#1f77b4;\" x=\"85.941307\" xlink:href=\"#m54d88ac960\" y=\"117.375352\"/>\r\n     <use style=\"fill:#1f77b4;stroke:#1f77b4;\" x=\"86.645852\" xlink:href=\"#m54d88ac960\" y=\"185.023352\"/>\r\n     <use style=\"fill:#1f77b4;stroke:#1f77b4;\" x=\"60.929943\" xlink:href=\"#m54d88ac960\" y=\"203.033534\"/>\r\n     <use style=\"fill:#1f77b4;stroke:#1f77b4;\" x=\"59.520852\" xlink:href=\"#m54d88ac960\" y=\"165.695352\"/>\r\n     <use style=\"fill:#1f77b4;stroke:#1f77b4;\" x=\"68.32767\" xlink:href=\"#m54d88ac960\" y=\"209.622625\"/>\r\n     <use style=\"fill:#1f77b4;stroke:#1f77b4;\" x=\"59.520852\" xlink:href=\"#m54d88ac960\" y=\"219.286625\"/>\r\n     <use style=\"fill:#1f77b4;stroke:#1f77b4;\" x=\"85.941307\" xlink:href=\"#m54d88ac960\" y=\"164.377534\"/>\r\n     <use style=\"fill:#1f77b4;stroke:#1f77b4;\" x=\"64.45267\" xlink:href=\"#m54d88ac960\" y=\"202.594261\"/>\r\n     <use style=\"fill:#1f77b4;stroke:#1f77b4;\" x=\"65.157216\" xlink:href=\"#m54d88ac960\" y=\"217.090261\"/>\r\n     <use style=\"fill:#1f77b4;stroke:#1f77b4;\" x=\"59.873125\" xlink:href=\"#m54d88ac960\" y=\"230.707716\"/>\r\n     <use style=\"fill:#1f77b4;stroke:#1f77b4;\" x=\"60.57767\" xlink:href=\"#m54d88ac960\" y=\"186.780443\"/>\r\n     <use style=\"fill:#1f77b4;stroke:#1f77b4;\" x=\"77.486761\" xlink:href=\"#m54d88ac960\" y=\"110.786261\"/>\r\n     <use style=\"fill:#1f77b4;stroke:#1f77b4;\" x=\"77.486761\" xlink:href=\"#m54d88ac960\" y=\"88.822625\"/>\r\n     <use style=\"fill:#1f77b4;stroke:#1f77b4;\" x=\"147.589034\" xlink:href=\"#m54d88ac960\" y=\"66.858989\"/>\r\n     <use style=\"fill:#1f77b4;stroke:#1f77b4;\" x=\"128.214034\" xlink:href=\"#m54d88ac960\" y=\"127.478625\"/>\r\n     <use style=\"fill:#1f77b4;stroke:#1f77b4;\" x=\"137.020852\" xlink:href=\"#m54d88ac960\" y=\"51.484443\"/>\r\n     <use style=\"fill:#1f77b4;stroke:#1f77b4;\" x=\"147.589034\" xlink:href=\"#m54d88ac960\" y=\"89.261898\"/>\r\n     <use style=\"fill:#1f77b4;stroke:#1f77b4;\" x=\"95.804943\" xlink:href=\"#m54d88ac960\" y=\"66.419716\"/>\r\n     <use style=\"fill:#1f77b4;stroke:#1f77b4;\" x=\"139.486761\" xlink:href=\"#m54d88ac960\" y=\"68.176807\"/>\r\n     <use style=\"fill:#1f77b4;stroke:#1f77b4;\" x=\"69.032216\" xlink:href=\"#m54d88ac960\" y=\"197.762261\"/>\r\n     <use style=\"fill:#1f77b4;stroke:#1f77b4;\" x=\"60.225398\" xlink:href=\"#m54d88ac960\" y=\"198.201534\"/>\r\n     <use style=\"fill:#1f77b4;stroke:#1f77b4;\" x=\"86.998125\" xlink:href=\"#m54d88ac960\" y=\"141.09608\"/>\r\n     <use style=\"fill:#1f77b4;stroke:#1f77b4;\" x=\"77.839034\" xlink:href=\"#m54d88ac960\" y=\"157.34917\"/>\r\n     <use style=\"fill:#1f77b4;stroke:#1f77b4;\" x=\"60.57767\" xlink:href=\"#m54d88ac960\" y=\"205.229898\"/>\r\n     <use style=\"fill:#1f77b4;stroke:#1f77b4;\" x=\"95.100398\" xlink:href=\"#m54d88ac960\" y=\"154.713534\"/>\r\n     <use style=\"fill:#1f77b4;stroke:#1f77b4;\" x=\"88.054943\" xlink:href=\"#m54d88ac960\" y=\"189.855352\"/>\r\n     <use style=\"fill:#1f77b4;stroke:#1f77b4;\" x=\"71.145852\" xlink:href=\"#m54d88ac960\" y=\"173.162989\"/>\r\n     <use style=\"fill:#1f77b4;stroke:#1f77b4;\" x=\"71.498125\" xlink:href=\"#m54d88ac960\" y=\"193.369534\"/>\r\n     <use style=\"fill:#1f77b4;stroke:#1f77b4;\" x=\"79.95267\" xlink:href=\"#m54d88ac960\" y=\"183.266261\"/>\r\n     <use style=\"fill:#1f77b4;stroke:#1f77b4;\" x=\"79.248125\" xlink:href=\"#m54d88ac960\" y=\"161.741898\"/>\r\n     <use style=\"fill:#1f77b4;stroke:#1f77b4;\" x=\"69.032216\" xlink:href=\"#m54d88ac960\" y=\"176.67717\"/>\r\n     <use style=\"fill:#1f77b4;stroke:#1f77b4;\" x=\"95.100398\" xlink:href=\"#m54d88ac960\" y=\"155.152807\"/>\r\n     <use style=\"fill:#1f77b4;stroke:#1f77b4;\" x=\"78.191307\" xlink:href=\"#m54d88ac960\" y=\"168.770261\"/>\r\n     <use style=\"fill:#1f77b4;stroke:#1f77b4;\" x=\"113.41858\" xlink:href=\"#m54d88ac960\" y=\"88.822625\"/>\r\n     <use style=\"fill:#1f77b4;stroke:#1f77b4;\" x=\"86.998125\" xlink:href=\"#m54d88ac960\" y=\"163.938261\"/>\r\n     <use style=\"fill:#1f77b4;stroke:#1f77b4;\" x=\"70.089034\" xlink:href=\"#m54d88ac960\" y=\"217.090261\"/>\r\n     <use style=\"fill:#1f77b4;stroke:#1f77b4;\" x=\"60.57767\" xlink:href=\"#m54d88ac960\" y=\"230.707716\"/>\r\n     <use style=\"fill:#1f77b4;stroke:#1f77b4;\" x=\"60.57767\" xlink:href=\"#m54d88ac960\" y=\"229.82917\"/>\r\n     <use style=\"fill:#1f77b4;stroke:#1f77b4;\" x=\"59.873125\" xlink:href=\"#m54d88ac960\" y=\"229.389898\"/>\r\n     <use style=\"fill:#1f77b4;stroke:#1f77b4;\" x=\"60.225398\" xlink:href=\"#m54d88ac960\" y=\"228.950625\"/>\r\n     <use style=\"fill:#1f77b4;stroke:#1f77b4;\" x=\"59.873125\" xlink:href=\"#m54d88ac960\" y=\"207.426261\"/>\r\n     <use style=\"fill:#1f77b4;stroke:#1f77b4;\" x=\"60.225398\" xlink:href=\"#m54d88ac960\" y=\"220.604443\"/>\r\n     <use style=\"fill:#1f77b4;stroke:#1f77b4;\" x=\"60.225398\" xlink:href=\"#m54d88ac960\" y=\"227.193534\"/>\r\n     <use style=\"fill:#1f77b4;stroke:#1f77b4;\" x=\"60.225398\" xlink:href=\"#m54d88ac960\" y=\"219.725898\"/>\r\n     <use style=\"fill:#1f77b4;stroke:#1f77b4;\" x=\"77.839034\" xlink:href=\"#m54d88ac960\" y=\"154.274261\"/>\r\n     <use style=\"fill:#1f77b4;stroke:#1f77b4;\" x=\"77.839034\" xlink:href=\"#m54d88ac960\" y=\"197.762261\"/>\r\n     <use style=\"fill:#1f77b4;stroke:#1f77b4;\" x=\"68.32767\" xlink:href=\"#m54d88ac960\" y=\"154.713534\"/>\r\n     <use style=\"fill:#1f77b4;stroke:#1f77b4;\" x=\"86.645852\" xlink:href=\"#m54d88ac960\" y=\"154.713534\"/>\r\n     <use style=\"fill:#1f77b4;stroke:#1f77b4;\" x=\"68.32767\" xlink:href=\"#m54d88ac960\" y=\"165.25608\"/>\r\n     <use style=\"fill:#1f77b4;stroke:#1f77b4;\" x=\"76.782216\" xlink:href=\"#m54d88ac960\" y=\"111.664807\"/>\r\n     <use style=\"fill:#1f77b4;stroke:#1f77b4;\" x=\"69.032216\" xlink:href=\"#m54d88ac960\" y=\"199.08008\"/>\r\n     <use style=\"fill:#1f77b4;stroke:#1f77b4;\" x=\"77.486761\" xlink:href=\"#m54d88ac960\" y=\"198.201534\"/>\r\n     <use style=\"fill:#1f77b4;stroke:#1f77b4;\" x=\"86.29358\" xlink:href=\"#m54d88ac960\" y=\"130.992807\"/>\r\n     <use style=\"fill:#1f77b4;stroke:#1f77b4;\" x=\"121.520852\" xlink:href=\"#m54d88ac960\" y=\"109.468443\"/>\r\n     <use style=\"fill:#1f77b4;stroke:#1f77b4;\" x=\"104.259489\" xlink:href=\"#m54d88ac960\" y=\"77.840807\"/>\r\n     <use style=\"fill:#1f77b4;stroke:#1f77b4;\" x=\"77.486761\" xlink:href=\"#m54d88ac960\" y=\"132.749898\"/>\r\n     <use style=\"fill:#1f77b4;stroke:#1f77b4;\" x=\"103.554943\" xlink:href=\"#m54d88ac960\" y=\"67.298261\"/>\r\n     <use style=\"fill:#1f77b4;stroke:#1f77b4;\" x=\"95.804943\" xlink:href=\"#m54d88ac960\" y=\"112.10408\"/>\r\n     <use style=\"fill:#1f77b4;stroke:#1f77b4;\" x=\"104.259489\" xlink:href=\"#m54d88ac960\" y=\"92.336807\"/>\r\n     <use style=\"fill:#1f77b4;stroke:#1f77b4;\" x=\"105.66858\" xlink:href=\"#m54d88ac960\" y=\"135.824807\"/>\r\n     <use style=\"fill:#1f77b4;stroke:#1f77b4;\" x=\"88.759489\" xlink:href=\"#m54d88ac960\" y=\"168.330989\"/>\r\n     <use style=\"fill:#1f77b4;stroke:#1f77b4;\" x=\"68.679943\" xlink:href=\"#m54d88ac960\" y=\"219.725898\"/>\r\n     <use style=\"fill:#1f77b4;stroke:#1f77b4;\" x=\"60.225398\" xlink:href=\"#m54d88ac960\" y=\"230.268443\"/>\r\n     <use style=\"fill:#1f77b4;stroke:#1f77b4;\" x=\"60.225398\" xlink:href=\"#m54d88ac960\" y=\"219.725898\"/>\r\n     <use style=\"fill:#1f77b4;stroke:#1f77b4;\" x=\"59.873125\" xlink:href=\"#m54d88ac960\" y=\"176.237898\"/>\r\n     <use style=\"fill:#1f77b4;stroke:#1f77b4;\" x=\"67.975398\" xlink:href=\"#m54d88ac960\" y=\"211.379716\"/>\r\n     <use style=\"fill:#1f77b4;stroke:#1f77b4;\" x=\"60.929943\" xlink:href=\"#m54d88ac960\" y=\"193.369534\"/>\r\n     <use style=\"fill:#1f77b4;stroke:#1f77b4;\" x=\"76.07767\" xlink:href=\"#m54d88ac960\" y=\"177.555716\"/>\r\n     <use style=\"fill:#1f77b4;stroke:#1f77b4;\" x=\"95.100398\" xlink:href=\"#m54d88ac960\" y=\"68.61608\"/>\r\n     <use style=\"fill:#1f77b4;stroke:#1f77b4;\" x=\"147.236761\" xlink:href=\"#m54d88ac960\" y=\"56.755716\"/>\r\n     <use style=\"fill:#1f77b4;stroke:#1f77b4;\" x=\"112.714034\" xlink:href=\"#m54d88ac960\" y=\"99.804443\"/>\r\n     <use style=\"fill:#1f77b4;stroke:#1f77b4;\" x=\"59.873125\" xlink:href=\"#m54d88ac960\" y=\"187.658989\"/>\r\n     <use style=\"fill:#1f77b4;stroke:#1f77b4;\" x=\"113.066307\" xlink:href=\"#m54d88ac960\" y=\"66.419716\"/>\r\n     <use style=\"fill:#1f77b4;stroke:#1f77b4;\" x=\"95.100398\" xlink:href=\"#m54d88ac960\" y=\"95.411716\"/>\r\n     <use style=\"fill:#1f77b4;stroke:#1f77b4;\" x=\"77.486761\" xlink:href=\"#m54d88ac960\" y=\"110.786261\"/>\r\n     <use style=\"fill:#1f77b4;stroke:#1f77b4;\" x=\"59.873125\" xlink:href=\"#m54d88ac960\" y=\"154.713534\"/>\r\n     <use style=\"fill:#1f77b4;stroke:#1f77b4;\" x=\"77.486761\" xlink:href=\"#m54d88ac960\" y=\"107.27208\"/>\r\n     <use style=\"fill:#1f77b4;stroke:#1f77b4;\" x=\"94.748125\" xlink:href=\"#m54d88ac960\" y=\"122.646625\"/>\r\n     <use style=\"fill:#1f77b4;stroke:#1f77b4;\" x=\"85.236761\" xlink:href=\"#m54d88ac960\" y=\"101.561534\"/>\r\n     <use style=\"fill:#1f77b4;stroke:#1f77b4;\" x=\"103.20267\" xlink:href=\"#m54d88ac960\" y=\"145.049534\"/>\r\n     <use style=\"fill:#1f77b4;stroke:#1f77b4;\" x=\"94.748125\" xlink:href=\"#m54d88ac960\" y=\"144.610261\"/>\r\n     <use style=\"fill:#1f77b4;stroke:#1f77b4;\" x=\"59.873125\" xlink:href=\"#m54d88ac960\" y=\"176.67717\"/>\r\n     <use style=\"fill:#1f77b4;stroke:#1f77b4;\" x=\"68.679943\" xlink:href=\"#m54d88ac960\" y=\"209.622625\"/>\r\n     <use style=\"fill:#1f77b4;stroke:#1f77b4;\" x=\"59.873125\" xlink:href=\"#m54d88ac960\" y=\"188.098261\"/>\r\n     <use style=\"fill:#1f77b4;stroke:#1f77b4;\" x=\"77.486761\" xlink:href=\"#m54d88ac960\" y=\"209.622625\"/>\r\n     <use style=\"fill:#1f77b4;stroke:#1f77b4;\" x=\"59.873125\" xlink:href=\"#m54d88ac960\" y=\"221.043716\"/>\r\n     <use style=\"fill:#1f77b4;stroke:#1f77b4;\" x=\"59.873125\" xlink:href=\"#m54d88ac960\" y=\"210.061898\"/>\r\n     <use style=\"fill:#1f77b4;stroke:#1f77b4;\" x=\"59.873125\" xlink:href=\"#m54d88ac960\" y=\"209.622625\"/>\r\n     <use style=\"fill:#1f77b4;stroke:#1f77b4;\" x=\"68.679943\" xlink:href=\"#m54d88ac960\" y=\"187.658989\"/>\r\n     <use style=\"fill:#1f77b4;stroke:#1f77b4;\" x=\"59.873125\" xlink:href=\"#m54d88ac960\" y=\"209.622625\"/>\r\n     <use style=\"fill:#1f77b4;stroke:#1f77b4;\" x=\"59.873125\" xlink:href=\"#m54d88ac960\" y=\"143.731716\"/>\r\n     <use style=\"fill:#1f77b4;stroke:#1f77b4;\" x=\"95.100398\" xlink:href=\"#m54d88ac960\" y=\"132.749898\"/>\r\n     <use style=\"fill:#1f77b4;stroke:#1f77b4;\" x=\"59.873125\" xlink:href=\"#m54d88ac960\" y=\"157.34917\"/>\r\n     <use style=\"fill:#1f77b4;stroke:#1f77b4;\" x=\"69.032216\" xlink:href=\"#m54d88ac960\" y=\"110.346989\"/>\r\n     <use style=\"fill:#1f77b4;stroke:#1f77b4;\" x=\"104.259489\" xlink:href=\"#m54d88ac960\" y=\"98.925898\"/>\r\n     <use style=\"fill:#1f77b4;stroke:#1f77b4;\" x=\"112.361761\" xlink:href=\"#m54d88ac960\" y=\"134.067716\"/>\r\n     <use style=\"fill:#1f77b4;stroke:#1f77b4;\" x=\"59.873125\" xlink:href=\"#m54d88ac960\" y=\"231.146989\"/>\r\n     <use style=\"fill:#1f77b4;stroke:#1f77b4;\" x=\"77.486761\" xlink:href=\"#m54d88ac960\" y=\"111.225534\"/>\r\n     <use style=\"fill:#1f77b4;stroke:#1f77b4;\" x=\"182.816307\" xlink:href=\"#m54d88ac960\" y=\"45.334625\"/>\r\n     <use style=\"fill:#1f77b4;stroke:#1f77b4;\" x=\"183.873125\" xlink:href=\"#m54d88ac960\" y=\"77.401534\"/>\r\n     <use style=\"fill:#1f77b4;stroke:#1f77b4;\" x=\"218.395852\" xlink:href=\"#m54d88ac960\" y=\"77.401534\"/>\r\n     <use style=\"fill:#1f77b4;stroke:#1f77b4;\" x=\"262.07767\" xlink:href=\"#m54d88ac960\" y=\"78.28008\"/>\r\n     <use style=\"fill:#1f77b4;stroke:#1f77b4;\" x=\"252.91858\" xlink:href=\"#m54d88ac960\" y=\"76.962261\"/>\r\n     <use style=\"fill:#1f77b4;stroke:#1f77b4;\" x=\"210.29358\" xlink:href=\"#m54d88ac960\" y=\"55.87717\"/>\r\n     <use style=\"fill:#1f77b4;stroke:#1f77b4;\" x=\"183.16858\" xlink:href=\"#m54d88ac960\" y=\"77.840807\"/>\r\n     <use style=\"fill:#1f77b4;stroke:#1f77b4;\" x=\"200.429943\" xlink:href=\"#m54d88ac960\" y=\"100.243716\"/>\r\n     <use style=\"fill:#1f77b4;stroke:#1f77b4;\" x=\"193.384489\" xlink:href=\"#m54d88ac960\" y=\"99.804443\"/>\r\n     <use style=\"fill:#1f77b4;stroke:#1f77b4;\" x=\"206.41858\" xlink:href=\"#m54d88ac960\" y=\"62.466261\"/>\r\n     <use style=\"fill:#1f77b4;stroke:#1f77b4;\" x=\"97.214034\" xlink:href=\"#m54d88ac960\" y=\"129.235716\"/>\r\n     <use style=\"fill:#1f77b4;stroke:#1f77b4;\" x=\"63.748125\" xlink:href=\"#m54d88ac960\" y=\"193.369534\"/>\r\n     <use style=\"fill:#1f77b4;stroke:#1f77b4;\" x=\"81.714034\" xlink:href=\"#m54d88ac960\" y=\"127.478625\"/>\r\n     <use style=\"fill:#1f77b4;stroke:#1f77b4;\" x=\"60.225398\" xlink:href=\"#m54d88ac960\" y=\"138.899716\"/>\r\n     <use style=\"fill:#1f77b4;stroke:#1f77b4;\" x=\"94.748125\" xlink:href=\"#m54d88ac960\" y=\"99.804443\"/>\r\n     <use style=\"fill:#1f77b4;stroke:#1f77b4;\" x=\"60.225398\" xlink:href=\"#m54d88ac960\" y=\"195.565898\"/>\r\n     <use style=\"fill:#1f77b4;stroke:#1f77b4;\" x=\"60.225398\" xlink:href=\"#m54d88ac960\" y=\"191.612443\"/>\r\n     <use style=\"fill:#1f77b4;stroke:#1f77b4;\" x=\"60.225398\" xlink:href=\"#m54d88ac960\" y=\"220.604443\"/>\r\n     <use style=\"fill:#1f77b4;stroke:#1f77b4;\" x=\"69.032216\" xlink:href=\"#m54d88ac960\" y=\"209.622625\"/>\r\n     <use style=\"fill:#1f77b4;stroke:#1f77b4;\" x=\"60.225398\" xlink:href=\"#m54d88ac960\" y=\"228.07208\"/>\r\n     <use style=\"fill:#1f77b4;stroke:#1f77b4;\" x=\"60.225398\" xlink:href=\"#m54d88ac960\" y=\"231.146989\"/>\r\n     <use style=\"fill:#1f77b4;stroke:#1f77b4;\" x=\"60.225398\" xlink:href=\"#m54d88ac960\" y=\"216.650989\"/>\r\n     <use style=\"fill:#1f77b4;stroke:#1f77b4;\" x=\"61.282216\" xlink:href=\"#m54d88ac960\" y=\"185.901898\"/>\r\n     <use style=\"fill:#1f77b4;stroke:#1f77b4;\" x=\"59.873125\" xlink:href=\"#m54d88ac960\" y=\"220.16517\"/>\r\n     <use style=\"fill:#1f77b4;stroke:#1f77b4;\" x=\"59.873125\" xlink:href=\"#m54d88ac960\" y=\"208.74408\"/>\r\n     <use style=\"fill:#1f77b4;stroke:#1f77b4;\" x=\"87.350398\" xlink:href=\"#m54d88ac960\" y=\"154.713534\"/>\r\n     <use style=\"fill:#1f77b4;stroke:#1f77b4;\" x=\"104.611761\" xlink:href=\"#m54d88ac960\" y=\"98.925898\"/>\r\n     <use style=\"fill:#1f77b4;stroke:#1f77b4;\" x=\"103.907216\" xlink:href=\"#m54d88ac960\" y=\"98.486625\"/>\r\n     <use style=\"fill:#1f77b4;stroke:#1f77b4;\" x=\"59.873125\" xlink:href=\"#m54d88ac960\" y=\"132.310625\"/>\r\n     <use style=\"fill:#1f77b4;stroke:#1f77b4;\" x=\"165.554943\" xlink:href=\"#m54d88ac960\" y=\"44.895352\"/>\r\n     <use style=\"fill:#1f77b4;stroke:#1f77b4;\" x=\"156.395852\" xlink:href=\"#m54d88ac960\" y=\"78.28008\"/>\r\n     <use style=\"fill:#1f77b4;stroke:#1f77b4;\" x=\"190.91858\" xlink:href=\"#m54d88ac960\" y=\"68.61608\"/>\r\n     <use style=\"fill:#1f77b4;stroke:#1f77b4;\" x=\"200.07767\" xlink:href=\"#m54d88ac960\" y=\"45.334625\"/>\r\n     <use style=\"fill:#1f77b4;stroke:#1f77b4;\" x=\"200.07767\" xlink:href=\"#m54d88ac960\" y=\"89.70117\"/>\r\n     <use style=\"fill:#1f77b4;stroke:#1f77b4;\" x=\"147.236761\" xlink:href=\"#m54d88ac960\" y=\"100.243716\"/>\r\n     <use style=\"fill:#1f77b4;stroke:#1f77b4;\" x=\"119.054943\" xlink:href=\"#m54d88ac960\" y=\"92.336807\"/>\r\n     <use style=\"fill:#1f77b4;stroke:#1f77b4;\" x=\"90.16858\" xlink:href=\"#m54d88ac960\" y=\"106.832807\"/>\r\n     <use style=\"fill:#1f77b4;stroke:#1f77b4;\" x=\"69.384489\" xlink:href=\"#m54d88ac960\" y=\"164.816807\"/>\r\n     <use style=\"fill:#1f77b4;stroke:#1f77b4;\" x=\"59.873125\" xlink:href=\"#m54d88ac960\" y=\"217.529534\"/>\r\n     <use style=\"fill:#1f77b4;stroke:#1f77b4;\" x=\"60.225398\" xlink:href=\"#m54d88ac960\" y=\"202.154989\"/>\r\n     <use style=\"fill:#1f77b4;stroke:#1f77b4;\" x=\"59.520852\" xlink:href=\"#m54d88ac960\" y=\"197.322989\"/>\r\n     <use style=\"fill:#1f77b4;stroke:#1f77b4;\" x=\"59.520852\" xlink:href=\"#m54d88ac960\" y=\"221.482989\"/>\r\n     <use style=\"fill:#1f77b4;stroke:#1f77b4;\" x=\"59.520852\" xlink:href=\"#m54d88ac960\" y=\"210.940443\"/>\r\n     <use style=\"fill:#1f77b4;stroke:#1f77b4;\" x=\"59.873125\" xlink:href=\"#m54d88ac960\" y=\"231.146989\"/>\r\n     <use style=\"fill:#1f77b4;stroke:#1f77b4;\" x=\"59.873125\" xlink:href=\"#m54d88ac960\" y=\"226.754261\"/>\r\n     <use style=\"fill:#1f77b4;stroke:#1f77b4;\" x=\"59.520852\" xlink:href=\"#m54d88ac960\" y=\"220.16517\"/>\r\n     <use style=\"fill:#1f77b4;stroke:#1f77b4;\" x=\"59.520852\" xlink:href=\"#m54d88ac960\" y=\"227.193534\"/>\r\n     <use style=\"fill:#1f77b4;stroke:#1f77b4;\" x=\"59.520852\" xlink:href=\"#m54d88ac960\" y=\"198.640807\"/>\r\n     <use style=\"fill:#1f77b4;stroke:#1f77b4;\" x=\"59.520852\" xlink:href=\"#m54d88ac960\" y=\"231.146989\"/>\r\n     <use style=\"fill:#1f77b4;stroke:#1f77b4;\" x=\"59.873125\" xlink:href=\"#m54d88ac960\" y=\"220.16517\"/>\r\n     <use style=\"fill:#1f77b4;stroke:#1f77b4;\" x=\"68.32767\" xlink:href=\"#m54d88ac960\" y=\"209.622625\"/>\r\n     <use style=\"fill:#1f77b4;stroke:#1f77b4;\" x=\"68.32767\" xlink:href=\"#m54d88ac960\" y=\"194.24808\"/>\r\n     <use style=\"fill:#1f77b4;stroke:#1f77b4;\" x=\"59.520852\" xlink:href=\"#m54d88ac960\" y=\"229.82917\"/>\r\n     <use style=\"fill:#1f77b4;stroke:#1f77b4;\" x=\"59.520852\" xlink:href=\"#m54d88ac960\" y=\"142.85317\"/>\r\n     <use style=\"fill:#1f77b4;stroke:#1f77b4;\" x=\"155.691307\" xlink:href=\"#m54d88ac960\" y=\"121.328807\"/>\r\n     <use style=\"fill:#1f77b4;stroke:#1f77b4;\" x=\"199.725398\" xlink:href=\"#m54d88ac960\" y=\"166.573898\"/>\r\n     <use style=\"fill:#1f77b4;stroke:#1f77b4;\" x=\"190.91858\" xlink:href=\"#m54d88ac960\" y=\"55.87717\"/>\r\n     <use style=\"fill:#1f77b4;stroke:#1f77b4;\" x=\"199.020852\" xlink:href=\"#m54d88ac960\" y=\"76.083716\"/>\r\n     <use style=\"fill:#1f77b4;stroke:#1f77b4;\" x=\"210.645852\" xlink:href=\"#m54d88ac960\" y=\"67.737534\"/>\r\n     <use style=\"fill:#1f77b4;stroke:#1f77b4;\" x=\"181.407216\" xlink:href=\"#m54d88ac960\" y=\"53.241534\"/>\r\n     <use style=\"fill:#1f77b4;stroke:#1f77b4;\" x=\"73.611761\" xlink:href=\"#m54d88ac960\" y=\"93.215352\"/>\r\n     <use style=\"fill:#1f77b4;stroke:#1f77b4;\" x=\"94.748125\" xlink:href=\"#m54d88ac960\" y=\"110.786261\"/>\r\n     <use style=\"fill:#1f77b4;stroke:#1f77b4;\" x=\"83.123125\" xlink:href=\"#m54d88ac960\" y=\"112.543352\"/>\r\n     <use style=\"fill:#1f77b4;stroke:#1f77b4;\" x=\"77.839034\" xlink:href=\"#m54d88ac960\" y=\"120.889534\"/>\r\n     <use style=\"fill:#1f77b4;stroke:#1f77b4;\" x=\"68.32767\" xlink:href=\"#m54d88ac960\" y=\"220.16517\"/>\r\n     <use style=\"fill:#1f77b4;stroke:#1f77b4;\" x=\"139.134489\" xlink:href=\"#m54d88ac960\" y=\"131.871352\"/>\r\n     <use style=\"fill:#1f77b4;stroke:#1f77b4;\" x=\"164.850398\" xlink:href=\"#m54d88ac960\" y=\"67.298261\"/>\r\n     <use style=\"fill:#1f77b4;stroke:#1f77b4;\" x=\"208.179943\" xlink:href=\"#m54d88ac960\" y=\"66.858989\"/>\r\n     <use style=\"fill:#1f77b4;stroke:#1f77b4;\" x=\"243.407216\" xlink:href=\"#m54d88ac960\" y=\"67.298261\"/>\r\n     <use style=\"fill:#1f77b4;stroke:#1f77b4;\" x=\"226.145852\" xlink:href=\"#m54d88ac960\" y=\"109.907716\"/>\r\n     <use style=\"fill:#1f77b4;stroke:#1f77b4;\" x=\"203.248125\" xlink:href=\"#m54d88ac960\" y=\"56.316443\"/>\r\n     <use style=\"fill:#1f77b4;stroke:#1f77b4;\" x=\"131.736761\" xlink:href=\"#m54d88ac960\" y=\"130.553534\"/>\r\n     <use style=\"fill:#1f77b4;stroke:#1f77b4;\" x=\"99.32767\" xlink:href=\"#m54d88ac960\" y=\"130.553534\"/>\r\n     <use style=\"fill:#1f77b4;stroke:#1f77b4;\" x=\"59.520852\" xlink:href=\"#m54d88ac960\" y=\"208.74408\"/>\r\n     <use style=\"fill:#1f77b4;stroke:#1f77b4;\" x=\"77.134489\" xlink:href=\"#m54d88ac960\" y=\"165.25608\"/>\r\n     <use style=\"fill:#1f77b4;stroke:#1f77b4;\" x=\"68.32767\" xlink:href=\"#m54d88ac960\" y=\"220.604443\"/>\r\n     <use style=\"fill:#1f77b4;stroke:#1f77b4;\" x=\"59.520852\" xlink:href=\"#m54d88ac960\" y=\"209.622625\"/>\r\n     <use style=\"fill:#1f77b4;stroke:#1f77b4;\" x=\"59.520852\" xlink:href=\"#m54d88ac960\" y=\"220.604443\"/>\r\n     <use style=\"fill:#1f77b4;stroke:#1f77b4;\" x=\"59.520852\" xlink:href=\"#m54d88ac960\" y=\"132.749898\"/>\r\n     <use style=\"fill:#1f77b4;stroke:#1f77b4;\" x=\"112.361761\" xlink:href=\"#m54d88ac960\" y=\"132.749898\"/>\r\n     <use style=\"fill:#1f77b4;stroke:#1f77b4;\" x=\"200.782216\" xlink:href=\"#m54d88ac960\" y=\"120.889534\"/>\r\n     <use style=\"fill:#1f77b4;stroke:#1f77b4;\" x=\"235.304943\" xlink:href=\"#m54d88ac960\" y=\"55.437898\"/>\r\n     <use style=\"fill:#1f77b4;stroke:#1f77b4;\" x=\"234.95267\" xlink:href=\"#m54d88ac960\" y=\"33.474261\"/>\r\n     <use style=\"fill:#1f77b4;stroke:#1f77b4;\" x=\"182.111761\" xlink:href=\"#m54d88ac960\" y=\"88.822625\"/>\r\n     <use style=\"fill:#1f77b4;stroke:#1f77b4;\" x=\"139.839034\" xlink:href=\"#m54d88ac960\" y=\"65.980443\"/>\r\n     <use style=\"fill:#1f77b4;stroke:#1f77b4;\" x=\"130.679943\" xlink:href=\"#m54d88ac960\" y=\"86.186989\"/>\r\n     <use style=\"fill:#1f77b4;stroke:#1f77b4;\" x=\"77.134489\" xlink:href=\"#m54d88ac960\" y=\"176.67717\"/>\r\n     <use style=\"fill:#1f77b4;stroke:#1f77b4;\" x=\"59.520852\" xlink:href=\"#m54d88ac960\" y=\"220.16517\"/>\r\n     <use style=\"fill:#1f77b4;stroke:#1f77b4;\" x=\"68.32767\" xlink:href=\"#m54d88ac960\" y=\"208.74408\"/>\r\n     <use style=\"fill:#1f77b4;stroke:#1f77b4;\" x=\"76.782216\" xlink:href=\"#m54d88ac960\" y=\"99.36517\"/>\r\n     <use style=\"fill:#1f77b4;stroke:#1f77b4;\" x=\"103.554943\" xlink:href=\"#m54d88ac960\" y=\"87.94408\"/>\r\n     <use style=\"fill:#1f77b4;stroke:#1f77b4;\" x=\"67.975398\" xlink:href=\"#m54d88ac960\" y=\"88.822625\"/>\r\n     <use style=\"fill:#1f77b4;stroke:#1f77b4;\" x=\"135.259489\" xlink:href=\"#m54d88ac960\" y=\"74.765898\"/>\r\n     <use style=\"fill:#1f77b4;stroke:#1f77b4;\" x=\"120.816307\" xlink:href=\"#m54d88ac960\" y=\"69.494625\"/>\r\n     <use style=\"fill:#1f77b4;stroke:#1f77b4;\" x=\"138.782216\" xlink:href=\"#m54d88ac960\" y=\"54.559352\"/>\r\n     <use style=\"fill:#1f77b4;stroke:#1f77b4;\" x=\"192.32767\" xlink:href=\"#m54d88ac960\" y=\"56.755716\"/>\r\n     <use style=\"fill:#1f77b4;stroke:#1f77b4;\" x=\"148.29358\" xlink:href=\"#m54d88ac960\" y=\"99.36517\"/>\r\n     <use style=\"fill:#1f77b4;stroke:#1f77b4;\" x=\"174.361761\" xlink:href=\"#m54d88ac960\" y=\"54.998625\"/>\r\n     <use style=\"fill:#1f77b4;stroke:#1f77b4;\" x=\"105.66858\" xlink:href=\"#m54d88ac960\" y=\"130.553534\"/>\r\n     <use style=\"fill:#1f77b4;stroke:#1f77b4;\" x=\"95.45267\" xlink:href=\"#m54d88ac960\" y=\"151.638625\"/>\r\n     <use style=\"fill:#1f77b4;stroke:#1f77b4;\" x=\"59.520852\" xlink:href=\"#m54d88ac960\" y=\"230.268443\"/>\r\n     <use style=\"fill:#1f77b4;stroke:#1f77b4;\" x=\"59.520852\" xlink:href=\"#m54d88ac960\" y=\"231.146989\"/>\r\n     <use style=\"fill:#1f77b4;stroke:#1f77b4;\" x=\"77.486761\" xlink:href=\"#m54d88ac960\" y=\"163.498989\"/>\r\n     <use style=\"fill:#1f77b4;stroke:#1f77b4;\" x=\"86.29358\" xlink:href=\"#m54d88ac960\" y=\"166.134625\"/>\r\n     <use style=\"fill:#1f77b4;stroke:#1f77b4;\" x=\"100.384489\" xlink:href=\"#m54d88ac960\" y=\"149.881534\"/>\r\n     <use style=\"fill:#1f77b4;stroke:#1f77b4;\" x=\"103.554943\" xlink:href=\"#m54d88ac960\" y=\"112.982625\"/>\r\n     <use style=\"fill:#1f77b4;stroke:#1f77b4;\" x=\"85.236761\" xlink:href=\"#m54d88ac960\" y=\"177.116443\"/>\r\n     <use style=\"fill:#1f77b4;stroke:#1f77b4;\" x=\"59.873125\" xlink:href=\"#m54d88ac960\" y=\"209.183352\"/>\r\n     <use style=\"fill:#1f77b4;stroke:#1f77b4;\" x=\"67.975398\" xlink:href=\"#m54d88ac960\" y=\"220.604443\"/>\r\n     <use style=\"fill:#1f77b4;stroke:#1f77b4;\" x=\"59.16858\" xlink:href=\"#m54d88ac960\" y=\"209.622625\"/>\r\n     <use style=\"fill:#1f77b4;stroke:#1f77b4;\" x=\"68.32767\" xlink:href=\"#m54d88ac960\" y=\"120.889534\"/>\r\n     <use style=\"fill:#1f77b4;stroke:#1f77b4;\" x=\"129.975398\" xlink:href=\"#m54d88ac960\" y=\"54.12008\"/>\r\n     <use style=\"fill:#1f77b4;stroke:#1f77b4;\" x=\"136.66858\" xlink:href=\"#m54d88ac960\" y=\"65.980443\"/>\r\n     <use style=\"fill:#1f77b4;stroke:#1f77b4;\" x=\"149.350398\" xlink:href=\"#m54d88ac960\" y=\"83.11208\"/>\r\n     <use style=\"fill:#1f77b4;stroke:#1f77b4;\" x=\"169.782216\" xlink:href=\"#m54d88ac960\" y=\"83.11208\"/>\r\n     <use style=\"fill:#1f77b4;stroke:#1f77b4;\" x=\"113.41858\" xlink:href=\"#m54d88ac960\" y=\"94.53317\"/>\r\n     <use style=\"fill:#1f77b4;stroke:#1f77b4;\" x=\"113.41858\" xlink:href=\"#m54d88ac960\" y=\"132.310625\"/>\r\n     <use style=\"fill:#1f77b4;stroke:#1f77b4;\" x=\"94.748125\" xlink:href=\"#m54d88ac960\" y=\"196.883716\"/>\r\n     <use style=\"fill:#1f77b4;stroke:#1f77b4;\" x=\"103.554943\" xlink:href=\"#m54d88ac960\" y=\"154.713534\"/>\r\n     <use style=\"fill:#1f77b4;stroke:#1f77b4;\" x=\"112.714034\" xlink:href=\"#m54d88ac960\" y=\"88.822625\"/>\r\n     <use style=\"fill:#1f77b4;stroke:#1f77b4;\" x=\"104.964034\" xlink:href=\"#m54d88ac960\" y=\"96.729534\"/>\r\n     <use style=\"fill:#1f77b4;stroke:#1f77b4;\" x=\"122.225398\" xlink:href=\"#m54d88ac960\" y=\"66.858989\"/>\r\n     <use style=\"fill:#1f77b4;stroke:#1f77b4;\" x=\"79.95267\" xlink:href=\"#m54d88ac960\" y=\"91.458261\"/>\r\n     <use style=\"fill:#1f77b4;stroke:#1f77b4;\" x=\"120.816307\" xlink:href=\"#m54d88ac960\" y=\"85.747716\"/>\r\n     <use style=\"fill:#1f77b4;stroke:#1f77b4;\" x=\"87.350398\" xlink:href=\"#m54d88ac960\" y=\"123.964443\"/>\r\n     <use style=\"fill:#1f77b4;stroke:#1f77b4;\" x=\"144.066307\" xlink:href=\"#m54d88ac960\" y=\"93.654625\"/>\r\n     <use style=\"fill:#1f77b4;stroke:#1f77b4;\" x=\"179.29358\" xlink:href=\"#m54d88ac960\" y=\"107.27208\"/>\r\n     <use style=\"fill:#1f77b4;stroke:#1f77b4;\" x=\"127.157216\" xlink:href=\"#m54d88ac960\" y=\"76.962261\"/>\r\n     <use style=\"fill:#1f77b4;stroke:#1f77b4;\" x=\"163.79358\" xlink:href=\"#m54d88ac960\" y=\"68.61608\"/>\r\n     <use style=\"fill:#1f77b4;stroke:#1f77b4;\" x=\"135.964034\" xlink:href=\"#m54d88ac960\" y=\"101.122261\"/>\r\n     <use style=\"fill:#1f77b4;stroke:#1f77b4;\" x=\"127.157216\" xlink:href=\"#m54d88ac960\" y=\"92.336807\"/>\r\n     <use style=\"fill:#1f77b4;stroke:#1f77b4;\" x=\"84.532216\" xlink:href=\"#m54d88ac960\" y=\"200.83717\"/>\r\n     <use style=\"fill:#1f77b4;stroke:#1f77b4;\" x=\"92.986761\" xlink:href=\"#m54d88ac960\" y=\"125.282261\"/>\r\n     <use style=\"fill:#1f77b4;stroke:#1f77b4;\" x=\"60.57767\" xlink:href=\"#m54d88ac960\" y=\"180.191352\"/>\r\n     <use style=\"fill:#1f77b4;stroke:#1f77b4;\" x=\"76.782216\" xlink:href=\"#m54d88ac960\" y=\"158.227716\"/>\r\n     <use style=\"fill:#1f77b4;stroke:#1f77b4;\" x=\"69.384489\" xlink:href=\"#m54d88ac960\" y=\"182.826989\"/>\r\n     <use style=\"fill:#1f77b4;stroke:#1f77b4;\" x=\"59.873125\" xlink:href=\"#m54d88ac960\" y=\"230.707716\"/>\r\n     <use style=\"fill:#1f77b4;stroke:#1f77b4;\" x=\"59.873125\" xlink:href=\"#m54d88ac960\" y=\"231.146989\"/>\r\n     <use style=\"fill:#1f77b4;stroke:#1f77b4;\" x=\"86.29358\" xlink:href=\"#m54d88ac960\" y=\"209.622625\"/>\r\n     <use style=\"fill:#1f77b4;stroke:#1f77b4;\" x=\"77.486761\" xlink:href=\"#m54d88ac960\" y=\"143.731716\"/>\r\n     <use style=\"fill:#1f77b4;stroke:#1f77b4;\" x=\"86.29358\" xlink:href=\"#m54d88ac960\" y=\"80.03717\"/>\r\n     <use style=\"fill:#1f77b4;stroke:#1f77b4;\" x=\"85.589034\" xlink:href=\"#m54d88ac960\" y=\"162.620443\"/>\r\n     <use style=\"fill:#1f77b4;stroke:#1f77b4;\" x=\"59.873125\" xlink:href=\"#m54d88ac960\" y=\"200.83717\"/>\r\n     <use style=\"fill:#1f77b4;stroke:#1f77b4;\" x=\"85.589034\" xlink:href=\"#m54d88ac960\" y=\"144.170989\"/>\r\n     <use style=\"fill:#1f77b4;stroke:#1f77b4;\" x=\"77.486761\" xlink:href=\"#m54d88ac960\" y=\"215.33317\"/>\r\n     <use style=\"fill:#1f77b4;stroke:#1f77b4;\" x=\"87.350398\" xlink:href=\"#m54d88ac960\" y=\"191.612443\"/>\r\n     <use style=\"fill:#1f77b4;stroke:#1f77b4;\" x=\"78.895852\" xlink:href=\"#m54d88ac960\" y=\"183.705534\"/>\r\n     <use style=\"fill:#1f77b4;stroke:#1f77b4;\" x=\"59.873125\" xlink:href=\"#m54d88ac960\" y=\"153.395716\"/>\r\n     <use style=\"fill:#1f77b4;stroke:#1f77b4;\" x=\"102.145852\" xlink:href=\"#m54d88ac960\" y=\"106.832807\"/>\r\n     <use style=\"fill:#1f77b4;stroke:#1f77b4;\" x=\"68.679943\" xlink:href=\"#m54d88ac960\" y=\"208.74408\"/>\r\n     <use style=\"fill:#1f77b4;stroke:#1f77b4;\" x=\"59.873125\" xlink:href=\"#m54d88ac960\" y=\"175.798625\"/>\r\n     <use style=\"fill:#1f77b4;stroke:#1f77b4;\" x=\"86.29358\" xlink:href=\"#m54d88ac960\" y=\"88.822625\"/>\r\n     <use style=\"fill:#1f77b4;stroke:#1f77b4;\" x=\"94.395852\" xlink:href=\"#m54d88ac960\" y=\"122.646625\"/>\r\n     <use style=\"fill:#1f77b4;stroke:#1f77b4;\" x=\"59.873125\" xlink:href=\"#m54d88ac960\" y=\"209.622625\"/>\r\n     <use style=\"fill:#1f77b4;stroke:#1f77b4;\" x=\"59.873125\" xlink:href=\"#m54d88ac960\" y=\"220.604443\"/>\r\n     <use style=\"fill:#1f77b4;stroke:#1f77b4;\" x=\"59.873125\" xlink:href=\"#m54d88ac960\" y=\"177.555716\"/>\r\n     <use style=\"fill:#1f77b4;stroke:#1f77b4;\" x=\"94.395852\" xlink:href=\"#m54d88ac960\" y=\"101.561534\"/>\r\n     <use style=\"fill:#1f77b4;stroke:#1f77b4;\" x=\"77.839034\" xlink:href=\"#m54d88ac960\" y=\"176.237898\"/>\r\n     <use style=\"fill:#1f77b4;stroke:#1f77b4;\" x=\"69.032216\" xlink:href=\"#m54d88ac960\" y=\"220.604443\"/>\r\n     <use style=\"fill:#1f77b4;stroke:#1f77b4;\" x=\"67.623125\" xlink:href=\"#m54d88ac960\" y=\"199.958625\"/>\r\n     <use style=\"fill:#1f77b4;stroke:#1f77b4;\" x=\"59.873125\" xlink:href=\"#m54d88ac960\" y=\"168.770261\"/>\r\n     <use style=\"fill:#1f77b4;stroke:#1f77b4;\" x=\"59.873125\" xlink:href=\"#m54d88ac960\" y=\"231.146989\"/>\r\n    </g>\r\n   </g>\r\n   <g id=\"matplotlib.axis_1\">\r\n    <g id=\"xtick_1\">\r\n     <g id=\"line2d_1\">\r\n      <path clip-path=\"url(#p034861bd47)\" d=\"M 58.816307 241.030625 \r\nL 58.816307 23.590625 \r\n\" style=\"fill:none;stroke:#b0b0b0;stroke-linecap:square;stroke-width:0.8;\"/>\r\n     </g>\r\n     <g id=\"line2d_2\">\r\n      <defs>\r\n       <path d=\"M 0 0 \r\nL 0 3.5 \r\n\" id=\"m2950d20dbf\" style=\"stroke:#000000;stroke-width:0.8;\"/>\r\n      </defs>\r\n      <g>\r\n       <use style=\"stroke:#000000;stroke-width:0.8;\" x=\"58.816307\" xlink:href=\"#m2950d20dbf\" y=\"241.030625\"/>\r\n      </g>\r\n     </g>\r\n     <g id=\"text_1\">\r\n      <!-- 0 -->\r\n      <g transform=\"translate(55.635057 255.629062)scale(0.1 -0.1)\">\r\n       <defs>\r\n        <path d=\"M 31.78125 66.40625 \r\nQ 24.171875 66.40625 20.328125 58.90625 \r\nQ 16.5 51.421875 16.5 36.375 \r\nQ 16.5 21.390625 20.328125 13.890625 \r\nQ 24.171875 6.390625 31.78125 6.390625 \r\nQ 39.453125 6.390625 43.28125 13.890625 \r\nQ 47.125 21.390625 47.125 36.375 \r\nQ 47.125 51.421875 43.28125 58.90625 \r\nQ 39.453125 66.40625 31.78125 66.40625 \r\nz\r\nM 31.78125 74.21875 \r\nQ 44.046875 74.21875 50.515625 64.515625 \r\nQ 56.984375 54.828125 56.984375 36.375 \r\nQ 56.984375 17.96875 50.515625 8.265625 \r\nQ 44.046875 -1.421875 31.78125 -1.421875 \r\nQ 19.53125 -1.421875 13.0625 8.265625 \r\nQ 6.59375 17.96875 6.59375 36.375 \r\nQ 6.59375 54.828125 13.0625 64.515625 \r\nQ 19.53125 74.21875 31.78125 74.21875 \r\nz\r\n\" id=\"DejaVuSans-48\"/>\r\n       </defs>\r\n       <use xlink:href=\"#DejaVuSans-48\"/>\r\n      </g>\r\n     </g>\r\n    </g>\r\n    <g id=\"xtick_2\">\r\n     <g id=\"line2d_3\">\r\n      <path clip-path=\"url(#p034861bd47)\" d=\"M 94.04358 241.030625 \r\nL 94.04358 23.590625 \r\n\" style=\"fill:none;stroke:#b0b0b0;stroke-linecap:square;stroke-width:0.8;\"/>\r\n     </g>\r\n     <g id=\"line2d_4\">\r\n      <g>\r\n       <use style=\"stroke:#000000;stroke-width:0.8;\" x=\"94.04358\" xlink:href=\"#m2950d20dbf\" y=\"241.030625\"/>\r\n      </g>\r\n     </g>\r\n     <g id=\"text_2\">\r\n      <!-- 100 -->\r\n      <g transform=\"translate(84.49983 255.629062)scale(0.1 -0.1)\">\r\n       <defs>\r\n        <path d=\"M 12.40625 8.296875 \r\nL 28.515625 8.296875 \r\nL 28.515625 63.921875 \r\nL 10.984375 60.40625 \r\nL 10.984375 69.390625 \r\nL 28.421875 72.90625 \r\nL 38.28125 72.90625 \r\nL 38.28125 8.296875 \r\nL 54.390625 8.296875 \r\nL 54.390625 0 \r\nL 12.40625 0 \r\nz\r\n\" id=\"DejaVuSans-49\"/>\r\n       </defs>\r\n       <use xlink:href=\"#DejaVuSans-49\"/>\r\n       <use x=\"63.623047\" xlink:href=\"#DejaVuSans-48\"/>\r\n       <use x=\"127.246094\" xlink:href=\"#DejaVuSans-48\"/>\r\n      </g>\r\n     </g>\r\n    </g>\r\n    <g id=\"xtick_3\">\r\n     <g id=\"line2d_5\">\r\n      <path clip-path=\"url(#p034861bd47)\" d=\"M 129.270852 241.030625 \r\nL 129.270852 23.590625 \r\n\" style=\"fill:none;stroke:#b0b0b0;stroke-linecap:square;stroke-width:0.8;\"/>\r\n     </g>\r\n     <g id=\"line2d_6\">\r\n      <g>\r\n       <use style=\"stroke:#000000;stroke-width:0.8;\" x=\"129.270852\" xlink:href=\"#m2950d20dbf\" y=\"241.030625\"/>\r\n      </g>\r\n     </g>\r\n     <g id=\"text_3\">\r\n      <!-- 200 -->\r\n      <g transform=\"translate(119.727102 255.629062)scale(0.1 -0.1)\">\r\n       <defs>\r\n        <path d=\"M 19.1875 8.296875 \r\nL 53.609375 8.296875 \r\nL 53.609375 0 \r\nL 7.328125 0 \r\nL 7.328125 8.296875 \r\nQ 12.9375 14.109375 22.625 23.890625 \r\nQ 32.328125 33.6875 34.8125 36.53125 \r\nQ 39.546875 41.84375 41.421875 45.53125 \r\nQ 43.3125 49.21875 43.3125 52.78125 \r\nQ 43.3125 58.59375 39.234375 62.25 \r\nQ 35.15625 65.921875 28.609375 65.921875 \r\nQ 23.96875 65.921875 18.8125 64.3125 \r\nQ 13.671875 62.703125 7.8125 59.421875 \r\nL 7.8125 69.390625 \r\nQ 13.765625 71.78125 18.9375 73 \r\nQ 24.125 74.21875 28.421875 74.21875 \r\nQ 39.75 74.21875 46.484375 68.546875 \r\nQ 53.21875 62.890625 53.21875 53.421875 \r\nQ 53.21875 48.921875 51.53125 44.890625 \r\nQ 49.859375 40.875 45.40625 35.40625 \r\nQ 44.1875 33.984375 37.640625 27.21875 \r\nQ 31.109375 20.453125 19.1875 8.296875 \r\nz\r\n\" id=\"DejaVuSans-50\"/>\r\n       </defs>\r\n       <use xlink:href=\"#DejaVuSans-50\"/>\r\n       <use x=\"63.623047\" xlink:href=\"#DejaVuSans-48\"/>\r\n       <use x=\"127.246094\" xlink:href=\"#DejaVuSans-48\"/>\r\n      </g>\r\n     </g>\r\n    </g>\r\n    <g id=\"xtick_4\">\r\n     <g id=\"line2d_7\">\r\n      <path clip-path=\"url(#p034861bd47)\" d=\"M 164.498125 241.030625 \r\nL 164.498125 23.590625 \r\n\" style=\"fill:none;stroke:#b0b0b0;stroke-linecap:square;stroke-width:0.8;\"/>\r\n     </g>\r\n     <g id=\"line2d_8\">\r\n      <g>\r\n       <use style=\"stroke:#000000;stroke-width:0.8;\" x=\"164.498125\" xlink:href=\"#m2950d20dbf\" y=\"241.030625\"/>\r\n      </g>\r\n     </g>\r\n     <g id=\"text_4\">\r\n      <!-- 300 -->\r\n      <g transform=\"translate(154.954375 255.629062)scale(0.1 -0.1)\">\r\n       <defs>\r\n        <path d=\"M 40.578125 39.3125 \r\nQ 47.65625 37.796875 51.625 33 \r\nQ 55.609375 28.21875 55.609375 21.1875 \r\nQ 55.609375 10.40625 48.1875 4.484375 \r\nQ 40.765625 -1.421875 27.09375 -1.421875 \r\nQ 22.515625 -1.421875 17.65625 -0.515625 \r\nQ 12.796875 0.390625 7.625 2.203125 \r\nL 7.625 11.71875 \r\nQ 11.71875 9.328125 16.59375 8.109375 \r\nQ 21.484375 6.890625 26.8125 6.890625 \r\nQ 36.078125 6.890625 40.9375 10.546875 \r\nQ 45.796875 14.203125 45.796875 21.1875 \r\nQ 45.796875 27.640625 41.28125 31.265625 \r\nQ 36.765625 34.90625 28.71875 34.90625 \r\nL 20.21875 34.90625 \r\nL 20.21875 43.015625 \r\nL 29.109375 43.015625 \r\nQ 36.375 43.015625 40.234375 45.921875 \r\nQ 44.09375 48.828125 44.09375 54.296875 \r\nQ 44.09375 59.90625 40.109375 62.90625 \r\nQ 36.140625 65.921875 28.71875 65.921875 \r\nQ 24.65625 65.921875 20.015625 65.03125 \r\nQ 15.375 64.15625 9.8125 62.3125 \r\nL 9.8125 71.09375 \r\nQ 15.4375 72.65625 20.34375 73.4375 \r\nQ 25.25 74.21875 29.59375 74.21875 \r\nQ 40.828125 74.21875 47.359375 69.109375 \r\nQ 53.90625 64.015625 53.90625 55.328125 \r\nQ 53.90625 49.265625 50.4375 45.09375 \r\nQ 46.96875 40.921875 40.578125 39.3125 \r\nz\r\n\" id=\"DejaVuSans-51\"/>\r\n       </defs>\r\n       <use xlink:href=\"#DejaVuSans-51\"/>\r\n       <use x=\"63.623047\" xlink:href=\"#DejaVuSans-48\"/>\r\n       <use x=\"127.246094\" xlink:href=\"#DejaVuSans-48\"/>\r\n      </g>\r\n     </g>\r\n    </g>\r\n    <g id=\"xtick_5\">\r\n     <g id=\"line2d_9\">\r\n      <path clip-path=\"url(#p034861bd47)\" d=\"M 199.725398 241.030625 \r\nL 199.725398 23.590625 \r\n\" style=\"fill:none;stroke:#b0b0b0;stroke-linecap:square;stroke-width:0.8;\"/>\r\n     </g>\r\n     <g id=\"line2d_10\">\r\n      <g>\r\n       <use style=\"stroke:#000000;stroke-width:0.8;\" x=\"199.725398\" xlink:href=\"#m2950d20dbf\" y=\"241.030625\"/>\r\n      </g>\r\n     </g>\r\n     <g id=\"text_5\">\r\n      <!-- 400 -->\r\n      <g transform=\"translate(190.181648 255.629062)scale(0.1 -0.1)\">\r\n       <defs>\r\n        <path d=\"M 37.796875 64.3125 \r\nL 12.890625 25.390625 \r\nL 37.796875 25.390625 \r\nz\r\nM 35.203125 72.90625 \r\nL 47.609375 72.90625 \r\nL 47.609375 25.390625 \r\nL 58.015625 25.390625 \r\nL 58.015625 17.1875 \r\nL 47.609375 17.1875 \r\nL 47.609375 0 \r\nL 37.796875 0 \r\nL 37.796875 17.1875 \r\nL 4.890625 17.1875 \r\nL 4.890625 26.703125 \r\nz\r\n\" id=\"DejaVuSans-52\"/>\r\n       </defs>\r\n       <use xlink:href=\"#DejaVuSans-52\"/>\r\n       <use x=\"63.623047\" xlink:href=\"#DejaVuSans-48\"/>\r\n       <use x=\"127.246094\" xlink:href=\"#DejaVuSans-48\"/>\r\n      </g>\r\n     </g>\r\n    </g>\r\n    <g id=\"xtick_6\">\r\n     <g id=\"line2d_11\">\r\n      <path clip-path=\"url(#p034861bd47)\" d=\"M 234.95267 241.030625 \r\nL 234.95267 23.590625 \r\n\" style=\"fill:none;stroke:#b0b0b0;stroke-linecap:square;stroke-width:0.8;\"/>\r\n     </g>\r\n     <g id=\"line2d_12\">\r\n      <g>\r\n       <use style=\"stroke:#000000;stroke-width:0.8;\" x=\"234.95267\" xlink:href=\"#m2950d20dbf\" y=\"241.030625\"/>\r\n      </g>\r\n     </g>\r\n     <g id=\"text_6\">\r\n      <!-- 500 -->\r\n      <g transform=\"translate(225.40892 255.629062)scale(0.1 -0.1)\">\r\n       <defs>\r\n        <path d=\"M 10.796875 72.90625 \r\nL 49.515625 72.90625 \r\nL 49.515625 64.59375 \r\nL 19.828125 64.59375 \r\nL 19.828125 46.734375 \r\nQ 21.96875 47.46875 24.109375 47.828125 \r\nQ 26.265625 48.1875 28.421875 48.1875 \r\nQ 40.625 48.1875 47.75 41.5 \r\nQ 54.890625 34.8125 54.890625 23.390625 \r\nQ 54.890625 11.625 47.5625 5.09375 \r\nQ 40.234375 -1.421875 26.90625 -1.421875 \r\nQ 22.3125 -1.421875 17.546875 -0.640625 \r\nQ 12.796875 0.140625 7.71875 1.703125 \r\nL 7.71875 11.625 \r\nQ 12.109375 9.234375 16.796875 8.0625 \r\nQ 21.484375 6.890625 26.703125 6.890625 \r\nQ 35.15625 6.890625 40.078125 11.328125 \r\nQ 45.015625 15.765625 45.015625 23.390625 \r\nQ 45.015625 31 40.078125 35.4375 \r\nQ 35.15625 39.890625 26.703125 39.890625 \r\nQ 22.75 39.890625 18.8125 39.015625 \r\nQ 14.890625 38.140625 10.796875 36.28125 \r\nz\r\n\" id=\"DejaVuSans-53\"/>\r\n       </defs>\r\n       <use xlink:href=\"#DejaVuSans-53\"/>\r\n       <use x=\"63.623047\" xlink:href=\"#DejaVuSans-48\"/>\r\n       <use x=\"127.246094\" xlink:href=\"#DejaVuSans-48\"/>\r\n      </g>\r\n     </g>\r\n    </g>\r\n    <g id=\"xtick_7\">\r\n     <g id=\"line2d_13\">\r\n      <path clip-path=\"url(#p034861bd47)\" d=\"M 270.179943 241.030625 \r\nL 270.179943 23.590625 \r\n\" style=\"fill:none;stroke:#b0b0b0;stroke-linecap:square;stroke-width:0.8;\"/>\r\n     </g>\r\n     <g id=\"line2d_14\">\r\n      <g>\r\n       <use style=\"stroke:#000000;stroke-width:0.8;\" x=\"270.179943\" xlink:href=\"#m2950d20dbf\" y=\"241.030625\"/>\r\n      </g>\r\n     </g>\r\n     <g id=\"text_7\">\r\n      <!-- 600 -->\r\n      <g transform=\"translate(260.636193 255.629062)scale(0.1 -0.1)\">\r\n       <defs>\r\n        <path d=\"M 33.015625 40.375 \r\nQ 26.375 40.375 22.484375 35.828125 \r\nQ 18.609375 31.296875 18.609375 23.390625 \r\nQ 18.609375 15.53125 22.484375 10.953125 \r\nQ 26.375 6.390625 33.015625 6.390625 \r\nQ 39.65625 6.390625 43.53125 10.953125 \r\nQ 47.40625 15.53125 47.40625 23.390625 \r\nQ 47.40625 31.296875 43.53125 35.828125 \r\nQ 39.65625 40.375 33.015625 40.375 \r\nz\r\nM 52.59375 71.296875 \r\nL 52.59375 62.3125 \r\nQ 48.875 64.0625 45.09375 64.984375 \r\nQ 41.3125 65.921875 37.59375 65.921875 \r\nQ 27.828125 65.921875 22.671875 59.328125 \r\nQ 17.53125 52.734375 16.796875 39.40625 \r\nQ 19.671875 43.65625 24.015625 45.921875 \r\nQ 28.375 48.1875 33.59375 48.1875 \r\nQ 44.578125 48.1875 50.953125 41.515625 \r\nQ 57.328125 34.859375 57.328125 23.390625 \r\nQ 57.328125 12.15625 50.6875 5.359375 \r\nQ 44.046875 -1.421875 33.015625 -1.421875 \r\nQ 20.359375 -1.421875 13.671875 8.265625 \r\nQ 6.984375 17.96875 6.984375 36.375 \r\nQ 6.984375 53.65625 15.1875 63.9375 \r\nQ 23.390625 74.21875 37.203125 74.21875 \r\nQ 40.921875 74.21875 44.703125 73.484375 \r\nQ 48.484375 72.75 52.59375 71.296875 \r\nz\r\n\" id=\"DejaVuSans-54\"/>\r\n       </defs>\r\n       <use xlink:href=\"#DejaVuSans-54\"/>\r\n       <use x=\"63.623047\" xlink:href=\"#DejaVuSans-48\"/>\r\n       <use x=\"127.246094\" xlink:href=\"#DejaVuSans-48\"/>\r\n      </g>\r\n     </g>\r\n    </g>\r\n    <g id=\"text_8\">\r\n     <!-- WIP_QTY -->\r\n     <g transform=\"translate(134.250313 270.615)scale(0.12 -0.12)\">\r\n      <defs>\r\n       <path d=\"M 3.328125 72.90625 \r\nL 13.28125 72.90625 \r\nL 28.609375 11.28125 \r\nL 43.890625 72.90625 \r\nL 54.984375 72.90625 \r\nL 70.3125 11.28125 \r\nL 85.59375 72.90625 \r\nL 95.609375 72.90625 \r\nL 77.296875 0 \r\nL 64.890625 0 \r\nL 49.515625 63.28125 \r\nL 33.984375 0 \r\nL 21.578125 0 \r\nz\r\n\" id=\"DejaVuSans-87\"/>\r\n       <path d=\"M 9.8125 72.90625 \r\nL 19.671875 72.90625 \r\nL 19.671875 0 \r\nL 9.8125 0 \r\nz\r\n\" id=\"DejaVuSans-73\"/>\r\n       <path d=\"M 19.671875 64.796875 \r\nL 19.671875 37.40625 \r\nL 32.078125 37.40625 \r\nQ 38.96875 37.40625 42.71875 40.96875 \r\nQ 46.484375 44.53125 46.484375 51.125 \r\nQ 46.484375 57.671875 42.71875 61.234375 \r\nQ 38.96875 64.796875 32.078125 64.796875 \r\nz\r\nM 9.8125 72.90625 \r\nL 32.078125 72.90625 \r\nQ 44.34375 72.90625 50.609375 67.359375 \r\nQ 56.890625 61.8125 56.890625 51.125 \r\nQ 56.890625 40.328125 50.609375 34.8125 \r\nQ 44.34375 29.296875 32.078125 29.296875 \r\nL 19.671875 29.296875 \r\nL 19.671875 0 \r\nL 9.8125 0 \r\nz\r\n\" id=\"DejaVuSans-80\"/>\r\n       <path d=\"M 50.984375 -16.609375 \r\nL 50.984375 -23.578125 \r\nL -0.984375 -23.578125 \r\nL -0.984375 -16.609375 \r\nz\r\n\" id=\"DejaVuSans-95\"/>\r\n       <path d=\"M 39.40625 66.21875 \r\nQ 28.65625 66.21875 22.328125 58.203125 \r\nQ 16.015625 50.203125 16.015625 36.375 \r\nQ 16.015625 22.609375 22.328125 14.59375 \r\nQ 28.65625 6.59375 39.40625 6.59375 \r\nQ 50.140625 6.59375 56.421875 14.59375 \r\nQ 62.703125 22.609375 62.703125 36.375 \r\nQ 62.703125 50.203125 56.421875 58.203125 \r\nQ 50.140625 66.21875 39.40625 66.21875 \r\nz\r\nM 53.21875 1.3125 \r\nL 66.21875 -12.890625 \r\nL 54.296875 -12.890625 \r\nL 43.5 -1.21875 \r\nQ 41.890625 -1.3125 41.03125 -1.359375 \r\nQ 40.1875 -1.421875 39.40625 -1.421875 \r\nQ 24.03125 -1.421875 14.8125 8.859375 \r\nQ 5.609375 19.140625 5.609375 36.375 \r\nQ 5.609375 53.65625 14.8125 63.9375 \r\nQ 24.03125 74.21875 39.40625 74.21875 \r\nQ 54.734375 74.21875 63.90625 63.9375 \r\nQ 73.09375 53.65625 73.09375 36.375 \r\nQ 73.09375 23.6875 67.984375 14.640625 \r\nQ 62.890625 5.609375 53.21875 1.3125 \r\nz\r\n\" id=\"DejaVuSans-81\"/>\r\n       <path d=\"M -0.296875 72.90625 \r\nL 61.375 72.90625 \r\nL 61.375 64.59375 \r\nL 35.5 64.59375 \r\nL 35.5 0 \r\nL 25.59375 0 \r\nL 25.59375 64.59375 \r\nL -0.296875 64.59375 \r\nz\r\n\" id=\"DejaVuSans-84\"/>\r\n       <path d=\"M -0.203125 72.90625 \r\nL 10.40625 72.90625 \r\nL 30.609375 42.921875 \r\nL 50.6875 72.90625 \r\nL 61.28125 72.90625 \r\nL 35.5 34.71875 \r\nL 35.5 0 \r\nL 25.59375 0 \r\nL 25.59375 34.71875 \r\nz\r\n\" id=\"DejaVuSans-89\"/>\r\n      </defs>\r\n      <use xlink:href=\"#DejaVuSans-87\"/>\r\n      <use x=\"98.876953\" xlink:href=\"#DejaVuSans-73\"/>\r\n      <use x=\"128.369141\" xlink:href=\"#DejaVuSans-80\"/>\r\n      <use x=\"188.671875\" xlink:href=\"#DejaVuSans-95\"/>\r\n      <use x=\"238.671875\" xlink:href=\"#DejaVuSans-81\"/>\r\n      <use x=\"317.382812\" xlink:href=\"#DejaVuSans-84\"/>\r\n      <use x=\"378.466797\" xlink:href=\"#DejaVuSans-89\"/>\r\n     </g>\r\n    </g>\r\n   </g>\r\n   <g id=\"matplotlib.axis_2\">\r\n    <g id=\"ytick_1\">\r\n     <g id=\"line2d_15\">\r\n      <path clip-path=\"url(#p034861bd47)\" d=\"M 49.023125 231.586261 \r\nL 272.223125 231.586261 \r\n\" style=\"fill:none;stroke:#b0b0b0;stroke-linecap:square;stroke-width:0.8;\"/>\r\n     </g>\r\n     <g id=\"line2d_16\">\r\n      <defs>\r\n       <path d=\"M 0 0 \r\nL -3.5 0 \r\n\" id=\"mc6762517e4\" style=\"stroke:#000000;stroke-width:0.8;\"/>\r\n      </defs>\r\n      <g>\r\n       <use style=\"stroke:#000000;stroke-width:0.8;\" x=\"49.023125\" xlink:href=\"#mc6762517e4\" y=\"231.586261\"/>\r\n      </g>\r\n     </g>\r\n     <g id=\"text_9\">\r\n      <!-- 0 -->\r\n      <g transform=\"translate(35.660625 235.38548)scale(0.1 -0.1)\">\r\n       <use xlink:href=\"#DejaVuSans-48\"/>\r\n      </g>\r\n     </g>\r\n    </g>\r\n    <g id=\"ytick_2\">\r\n     <g id=\"line2d_17\">\r\n      <path clip-path=\"url(#p034861bd47)\" d=\"M 49.023125 187.658989 \r\nL 272.223125 187.658989 \r\n\" style=\"fill:none;stroke:#b0b0b0;stroke-linecap:square;stroke-width:0.8;\"/>\r\n     </g>\r\n     <g id=\"line2d_18\">\r\n      <g>\r\n       <use style=\"stroke:#000000;stroke-width:0.8;\" x=\"49.023125\" xlink:href=\"#mc6762517e4\" y=\"187.658989\"/>\r\n      </g>\r\n     </g>\r\n     <g id=\"text_10\">\r\n      <!-- 100 -->\r\n      <g transform=\"translate(22.935625 191.458207)scale(0.1 -0.1)\">\r\n       <use xlink:href=\"#DejaVuSans-49\"/>\r\n       <use x=\"63.623047\" xlink:href=\"#DejaVuSans-48\"/>\r\n       <use x=\"127.246094\" xlink:href=\"#DejaVuSans-48\"/>\r\n      </g>\r\n     </g>\r\n    </g>\r\n    <g id=\"ytick_3\">\r\n     <g id=\"line2d_19\">\r\n      <path clip-path=\"url(#p034861bd47)\" d=\"M 49.023125 143.731716 \r\nL 272.223125 143.731716 \r\n\" style=\"fill:none;stroke:#b0b0b0;stroke-linecap:square;stroke-width:0.8;\"/>\r\n     </g>\r\n     <g id=\"line2d_20\">\r\n      <g>\r\n       <use style=\"stroke:#000000;stroke-width:0.8;\" x=\"49.023125\" xlink:href=\"#mc6762517e4\" y=\"143.731716\"/>\r\n      </g>\r\n     </g>\r\n     <g id=\"text_11\">\r\n      <!-- 200 -->\r\n      <g transform=\"translate(22.935625 147.530935)scale(0.1 -0.1)\">\r\n       <use xlink:href=\"#DejaVuSans-50\"/>\r\n       <use x=\"63.623047\" xlink:href=\"#DejaVuSans-48\"/>\r\n       <use x=\"127.246094\" xlink:href=\"#DejaVuSans-48\"/>\r\n      </g>\r\n     </g>\r\n    </g>\r\n    <g id=\"ytick_4\">\r\n     <g id=\"line2d_21\">\r\n      <path clip-path=\"url(#p034861bd47)\" d=\"M 49.023125 99.804443 \r\nL 272.223125 99.804443 \r\n\" style=\"fill:none;stroke:#b0b0b0;stroke-linecap:square;stroke-width:0.8;\"/>\r\n     </g>\r\n     <g id=\"line2d_22\">\r\n      <g>\r\n       <use style=\"stroke:#000000;stroke-width:0.8;\" x=\"49.023125\" xlink:href=\"#mc6762517e4\" y=\"99.804443\"/>\r\n      </g>\r\n     </g>\r\n     <g id=\"text_12\">\r\n      <!-- 300 -->\r\n      <g transform=\"translate(22.935625 103.603662)scale(0.1 -0.1)\">\r\n       <use xlink:href=\"#DejaVuSans-51\"/>\r\n       <use x=\"63.623047\" xlink:href=\"#DejaVuSans-48\"/>\r\n       <use x=\"127.246094\" xlink:href=\"#DejaVuSans-48\"/>\r\n      </g>\r\n     </g>\r\n    </g>\r\n    <g id=\"ytick_5\">\r\n     <g id=\"line2d_23\">\r\n      <path clip-path=\"url(#p034861bd47)\" d=\"M 49.023125 55.87717 \r\nL 272.223125 55.87717 \r\n\" style=\"fill:none;stroke:#b0b0b0;stroke-linecap:square;stroke-width:0.8;\"/>\r\n     </g>\r\n     <g id=\"line2d_24\">\r\n      <g>\r\n       <use style=\"stroke:#000000;stroke-width:0.8;\" x=\"49.023125\" xlink:href=\"#mc6762517e4\" y=\"55.87717\"/>\r\n      </g>\r\n     </g>\r\n     <g id=\"text_13\">\r\n      <!-- 400 -->\r\n      <g transform=\"translate(22.935625 59.676389)scale(0.1 -0.1)\">\r\n       <use xlink:href=\"#DejaVuSans-52\"/>\r\n       <use x=\"63.623047\" xlink:href=\"#DejaVuSans-48\"/>\r\n       <use x=\"127.246094\" xlink:href=\"#DejaVuSans-48\"/>\r\n      </g>\r\n     </g>\r\n    </g>\r\n    <g id=\"text_14\">\r\n     <!-- MOVE_QTY -->\r\n     <g transform=\"translate(16.10625 165.05375)rotate(-90)scale(0.12 -0.12)\">\r\n      <defs>\r\n       <path d=\"M 9.8125 72.90625 \r\nL 24.515625 72.90625 \r\nL 43.109375 23.296875 \r\nL 61.8125 72.90625 \r\nL 76.515625 72.90625 \r\nL 76.515625 0 \r\nL 66.890625 0 \r\nL 66.890625 64.015625 \r\nL 48.09375 14.015625 \r\nL 38.1875 14.015625 \r\nL 19.390625 64.015625 \r\nL 19.390625 0 \r\nL 9.8125 0 \r\nz\r\n\" id=\"DejaVuSans-77\"/>\r\n       <path d=\"M 39.40625 66.21875 \r\nQ 28.65625 66.21875 22.328125 58.203125 \r\nQ 16.015625 50.203125 16.015625 36.375 \r\nQ 16.015625 22.609375 22.328125 14.59375 \r\nQ 28.65625 6.59375 39.40625 6.59375 \r\nQ 50.140625 6.59375 56.421875 14.59375 \r\nQ 62.703125 22.609375 62.703125 36.375 \r\nQ 62.703125 50.203125 56.421875 58.203125 \r\nQ 50.140625 66.21875 39.40625 66.21875 \r\nz\r\nM 39.40625 74.21875 \r\nQ 54.734375 74.21875 63.90625 63.9375 \r\nQ 73.09375 53.65625 73.09375 36.375 \r\nQ 73.09375 19.140625 63.90625 8.859375 \r\nQ 54.734375 -1.421875 39.40625 -1.421875 \r\nQ 24.03125 -1.421875 14.8125 8.828125 \r\nQ 5.609375 19.09375 5.609375 36.375 \r\nQ 5.609375 53.65625 14.8125 63.9375 \r\nQ 24.03125 74.21875 39.40625 74.21875 \r\nz\r\n\" id=\"DejaVuSans-79\"/>\r\n       <path d=\"M 28.609375 0 \r\nL 0.78125 72.90625 \r\nL 11.078125 72.90625 \r\nL 34.1875 11.53125 \r\nL 57.328125 72.90625 \r\nL 67.578125 72.90625 \r\nL 39.796875 0 \r\nz\r\n\" id=\"DejaVuSans-86\"/>\r\n       <path d=\"M 9.8125 72.90625 \r\nL 55.90625 72.90625 \r\nL 55.90625 64.59375 \r\nL 19.671875 64.59375 \r\nL 19.671875 43.015625 \r\nL 54.390625 43.015625 \r\nL 54.390625 34.71875 \r\nL 19.671875 34.71875 \r\nL 19.671875 8.296875 \r\nL 56.78125 8.296875 \r\nL 56.78125 0 \r\nL 9.8125 0 \r\nz\r\n\" id=\"DejaVuSans-69\"/>\r\n      </defs>\r\n      <use xlink:href=\"#DejaVuSans-77\"/>\r\n      <use x=\"86.279297\" xlink:href=\"#DejaVuSans-79\"/>\r\n      <use x=\"163.240234\" xlink:href=\"#DejaVuSans-86\"/>\r\n      <use x=\"231.648438\" xlink:href=\"#DejaVuSans-69\"/>\r\n      <use x=\"294.832031\" xlink:href=\"#DejaVuSans-95\"/>\r\n      <use x=\"344.832031\" xlink:href=\"#DejaVuSans-81\"/>\r\n      <use x=\"423.542969\" xlink:href=\"#DejaVuSans-84\"/>\r\n      <use x=\"484.626953\" xlink:href=\"#DejaVuSans-89\"/>\r\n     </g>\r\n    </g>\r\n   </g>\r\n   <g id=\"patch_3\">\r\n    <path d=\"M 49.023125 241.030625 \r\nL 49.023125 23.590625 \r\n\" style=\"fill:none;stroke:#000000;stroke-linecap:square;stroke-linejoin:miter;stroke-width:0.8;\"/>\r\n   </g>\r\n   <g id=\"patch_4\">\r\n    <path d=\"M 272.223125 241.030625 \r\nL 272.223125 23.590625 \r\n\" style=\"fill:none;stroke:#000000;stroke-linecap:square;stroke-linejoin:miter;stroke-width:0.8;\"/>\r\n   </g>\r\n   <g id=\"patch_5\">\r\n    <path d=\"M 49.023125 241.030625 \r\nL 272.223125 241.030625 \r\n\" style=\"fill:none;stroke:#000000;stroke-linecap:square;stroke-linejoin:miter;stroke-width:0.8;\"/>\r\n   </g>\r\n   <g id=\"patch_6\">\r\n    <path d=\"M 49.023125 23.590625 \r\nL 272.223125 23.590625 \r\n\" style=\"fill:none;stroke:#000000;stroke-linecap:square;stroke-linejoin:miter;stroke-width:0.8;\"/>\r\n   </g>\r\n   <g id=\"text_15\">\r\n    <!-- Group: PW_C/F -->\r\n    <g transform=\"translate(108.81875 17.590625)scale(0.14 -0.14)\">\r\n     <defs>\r\n      <path d=\"M 59.515625 10.40625 \r\nL 59.515625 29.984375 \r\nL 43.40625 29.984375 \r\nL 43.40625 38.09375 \r\nL 69.28125 38.09375 \r\nL 69.28125 6.78125 \r\nQ 63.578125 2.734375 56.6875 0.65625 \r\nQ 49.8125 -1.421875 42 -1.421875 \r\nQ 24.90625 -1.421875 15.25 8.5625 \r\nQ 5.609375 18.5625 5.609375 36.375 \r\nQ 5.609375 54.25 15.25 64.234375 \r\nQ 24.90625 74.21875 42 74.21875 \r\nQ 49.125 74.21875 55.546875 72.453125 \r\nQ 61.96875 70.703125 67.390625 67.28125 \r\nL 67.390625 56.78125 \r\nQ 61.921875 61.421875 55.765625 63.765625 \r\nQ 49.609375 66.109375 42.828125 66.109375 \r\nQ 29.4375 66.109375 22.71875 58.640625 \r\nQ 16.015625 51.171875 16.015625 36.375 \r\nQ 16.015625 21.625 22.71875 14.15625 \r\nQ 29.4375 6.6875 42.828125 6.6875 \r\nQ 48.046875 6.6875 52.140625 7.59375 \r\nQ 56.25 8.5 59.515625 10.40625 \r\nz\r\n\" id=\"DejaVuSans-71\"/>\r\n      <path d=\"M 41.109375 46.296875 \r\nQ 39.59375 47.171875 37.8125 47.578125 \r\nQ 36.03125 48 33.890625 48 \r\nQ 26.265625 48 22.1875 43.046875 \r\nQ 18.109375 38.09375 18.109375 28.8125 \r\nL 18.109375 0 \r\nL 9.078125 0 \r\nL 9.078125 54.6875 \r\nL 18.109375 54.6875 \r\nL 18.109375 46.1875 \r\nQ 20.953125 51.171875 25.484375 53.578125 \r\nQ 30.03125 56 36.53125 56 \r\nQ 37.453125 56 38.578125 55.875 \r\nQ 39.703125 55.765625 41.0625 55.515625 \r\nz\r\n\" id=\"DejaVuSans-114\"/>\r\n      <path d=\"M 30.609375 48.390625 \r\nQ 23.390625 48.390625 19.1875 42.75 \r\nQ 14.984375 37.109375 14.984375 27.296875 \r\nQ 14.984375 17.484375 19.15625 11.84375 \r\nQ 23.34375 6.203125 30.609375 6.203125 \r\nQ 37.796875 6.203125 41.984375 11.859375 \r\nQ 46.1875 17.53125 46.1875 27.296875 \r\nQ 46.1875 37.015625 41.984375 42.703125 \r\nQ 37.796875 48.390625 30.609375 48.390625 \r\nz\r\nM 30.609375 56 \r\nQ 42.328125 56 49.015625 48.375 \r\nQ 55.71875 40.765625 55.71875 27.296875 \r\nQ 55.71875 13.875 49.015625 6.21875 \r\nQ 42.328125 -1.421875 30.609375 -1.421875 \r\nQ 18.84375 -1.421875 12.171875 6.21875 \r\nQ 5.515625 13.875 5.515625 27.296875 \r\nQ 5.515625 40.765625 12.171875 48.375 \r\nQ 18.84375 56 30.609375 56 \r\nz\r\n\" id=\"DejaVuSans-111\"/>\r\n      <path d=\"M 8.5 21.578125 \r\nL 8.5 54.6875 \r\nL 17.484375 54.6875 \r\nL 17.484375 21.921875 \r\nQ 17.484375 14.15625 20.5 10.265625 \r\nQ 23.53125 6.390625 29.59375 6.390625 \r\nQ 36.859375 6.390625 41.078125 11.03125 \r\nQ 45.3125 15.671875 45.3125 23.6875 \r\nL 45.3125 54.6875 \r\nL 54.296875 54.6875 \r\nL 54.296875 0 \r\nL 45.3125 0 \r\nL 45.3125 8.40625 \r\nQ 42.046875 3.421875 37.71875 1 \r\nQ 33.40625 -1.421875 27.6875 -1.421875 \r\nQ 18.265625 -1.421875 13.375 4.4375 \r\nQ 8.5 10.296875 8.5 21.578125 \r\nz\r\nM 31.109375 56 \r\nz\r\n\" id=\"DejaVuSans-117\"/>\r\n      <path d=\"M 18.109375 8.203125 \r\nL 18.109375 -20.796875 \r\nL 9.078125 -20.796875 \r\nL 9.078125 54.6875 \r\nL 18.109375 54.6875 \r\nL 18.109375 46.390625 \r\nQ 20.953125 51.265625 25.265625 53.625 \r\nQ 29.59375 56 35.59375 56 \r\nQ 45.5625 56 51.78125 48.09375 \r\nQ 58.015625 40.1875 58.015625 27.296875 \r\nQ 58.015625 14.40625 51.78125 6.484375 \r\nQ 45.5625 -1.421875 35.59375 -1.421875 \r\nQ 29.59375 -1.421875 25.265625 0.953125 \r\nQ 20.953125 3.328125 18.109375 8.203125 \r\nz\r\nM 48.6875 27.296875 \r\nQ 48.6875 37.203125 44.609375 42.84375 \r\nQ 40.53125 48.484375 33.40625 48.484375 \r\nQ 26.265625 48.484375 22.1875 42.84375 \r\nQ 18.109375 37.203125 18.109375 27.296875 \r\nQ 18.109375 17.390625 22.1875 11.75 \r\nQ 26.265625 6.109375 33.40625 6.109375 \r\nQ 40.53125 6.109375 44.609375 11.75 \r\nQ 48.6875 17.390625 48.6875 27.296875 \r\nz\r\n\" id=\"DejaVuSans-112\"/>\r\n      <path d=\"M 11.71875 12.40625 \r\nL 22.015625 12.40625 \r\nL 22.015625 0 \r\nL 11.71875 0 \r\nz\r\nM 11.71875 51.703125 \r\nL 22.015625 51.703125 \r\nL 22.015625 39.3125 \r\nL 11.71875 39.3125 \r\nz\r\n\" id=\"DejaVuSans-58\"/>\r\n      <path id=\"DejaVuSans-32\"/>\r\n      <path d=\"M 64.40625 67.28125 \r\nL 64.40625 56.890625 \r\nQ 59.421875 61.53125 53.78125 63.8125 \r\nQ 48.140625 66.109375 41.796875 66.109375 \r\nQ 29.296875 66.109375 22.65625 58.46875 \r\nQ 16.015625 50.828125 16.015625 36.375 \r\nQ 16.015625 21.96875 22.65625 14.328125 \r\nQ 29.296875 6.6875 41.796875 6.6875 \r\nQ 48.140625 6.6875 53.78125 8.984375 \r\nQ 59.421875 11.28125 64.40625 15.921875 \r\nL 64.40625 5.609375 \r\nQ 59.234375 2.09375 53.4375 0.328125 \r\nQ 47.65625 -1.421875 41.21875 -1.421875 \r\nQ 24.65625 -1.421875 15.125 8.703125 \r\nQ 5.609375 18.84375 5.609375 36.375 \r\nQ 5.609375 53.953125 15.125 64.078125 \r\nQ 24.65625 74.21875 41.21875 74.21875 \r\nQ 47.75 74.21875 53.53125 72.484375 \r\nQ 59.328125 70.75 64.40625 67.28125 \r\nz\r\n\" id=\"DejaVuSans-67\"/>\r\n      <path d=\"M 25.390625 72.90625 \r\nL 33.6875 72.90625 \r\nL 8.296875 -9.28125 \r\nL 0 -9.28125 \r\nz\r\n\" id=\"DejaVuSans-47\"/>\r\n      <path d=\"M 9.8125 72.90625 \r\nL 51.703125 72.90625 \r\nL 51.703125 64.59375 \r\nL 19.671875 64.59375 \r\nL 19.671875 43.109375 \r\nL 48.578125 43.109375 \r\nL 48.578125 34.8125 \r\nL 19.671875 34.8125 \r\nL 19.671875 0 \r\nL 9.8125 0 \r\nz\r\n\" id=\"DejaVuSans-70\"/>\r\n     </defs>\r\n     <use xlink:href=\"#DejaVuSans-71\"/>\r\n     <use x=\"77.490234\" xlink:href=\"#DejaVuSans-114\"/>\r\n     <use x=\"116.353516\" xlink:href=\"#DejaVuSans-111\"/>\r\n     <use x=\"177.535156\" xlink:href=\"#DejaVuSans-117\"/>\r\n     <use x=\"240.914062\" xlink:href=\"#DejaVuSans-112\"/>\r\n     <use x=\"304.390625\" xlink:href=\"#DejaVuSans-58\"/>\r\n     <use x=\"338.082031\" xlink:href=\"#DejaVuSans-32\"/>\r\n     <use x=\"369.869141\" xlink:href=\"#DejaVuSans-80\"/>\r\n     <use x=\"430.171875\" xlink:href=\"#DejaVuSans-87\"/>\r\n     <use x=\"529.048828\" xlink:href=\"#DejaVuSans-95\"/>\r\n     <use x=\"579.048828\" xlink:href=\"#DejaVuSans-67\"/>\r\n     <use x=\"648.873047\" xlink:href=\"#DejaVuSans-47\"/>\r\n     <use x=\"682.564453\" xlink:href=\"#DejaVuSans-70\"/>\r\n    </g>\r\n   </g>\r\n  </g>\r\n </g>\r\n <defs>\r\n  <clipPath id=\"p034861bd47\">\r\n   <rect height=\"217.44\" width=\"223.2\" x=\"49.023125\" y=\"23.590625\"/>\r\n  </clipPath>\r\n </defs>\r\n</svg>\r\n",
      "image/png": "[encoded data removed]"
     },
     "metadata": {
      "needs_background": "light"
     }
    }
   ],
   "source": [
    "# df_train_orign.TOOLG_ID.unique()\n",
    "keyTool=['PW_C/F']\n",
    "# for toolg in df_train_orign.TOOLG_ID.unique() :\n",
    "for toolg in keyTool :\n",
    "    df_train_orign_toolg = df_train_orign.loc[df_train['TOOLG_ID']==toolg]\n",
    "    fig, ax = plt.subplots(figsize=(4,4))\n",
    "    ax.scatter(x=df_train_orign_toolg['WIP_QTY'], y=df_train_orign_toolg['MOVE_QTY'])\n",
    "    #            c=gp['id'], cmap='tab20')\n",
    "    \n",
    "    ax.grid()\n",
    "    ax.set_ylabel('MOVE_QTY', fontsize=12)\n",
    "    ax.set_xlabel('WIP_QTY', fontsize=12)\n",
    "    ax.set_title(f'Group: {toolg}', fontsize=14)\n",
    "    \n",
    "plt.show()\n",
    "\n",
    "# import matplotlib.pyplot as plt\n",
    "\n",
    "# data = df_plot.melt(id_vars=['MOVE_QTY', 'WIP_QTY'])\n",
    "\n",
    "# for idx, gp in data.groupby('group'):\n",
    "#     fig, ax = plt.subplots(figsize=(4,4))\n",
    "#     ax.scatter(x=gp['variable'], y=gp['value'],\n",
    "#                c=gp['id'], cmap='tab20')\n",
    "    \n",
    "#     ax.grid()\n",
    "#     ax.set_ylabel('Value', fontsize=12)\n",
    "#     ax.set_xlabel('Months', fontsize=12)\n",
    "#     ax.set_title(f'Group: {idx}', fontsize=14)\n",
    "    \n",
    "#     plt.show()"
   ]
  },
  {
   "cell_type": "code",
   "execution_count": 46,
   "metadata": {},
   "outputs": [],
   "source": [
    "#df_train_orign.TOOLG_ID.unique()"
   ]
  },
  {
   "cell_type": "code",
   "execution_count": null,
   "metadata": {},
   "outputs": [],
   "source": []
  }
 ]
}