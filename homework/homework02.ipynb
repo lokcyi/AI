{
 "metadata": {
  "language_info": {
   "codemirror_mode": {
    "name": "ipython",
    "version": 3
   },
   "file_extension": ".py",
   "mimetype": "text/x-python",
   "name": "python",
   "nbconvert_exporter": "python",
   "pygments_lexer": "ipython3",
   "version": "3.7.9-final"
  },
  "orig_nbformat": 2,
  "kernelspec": {
   "name": "python3",
   "display_name": "Python 3",
   "language": "python"
  }
 },
 "nbformat": 4,
 "nbformat_minor": 2,
 "cells": [
  {
   "source": [
    "## https://blog.csdn.net/SZU_Hadooper/article/details/79050483\n",
    "## https://flashgene.com/archives/140094.html\n",
    "## https://medium.com/@gary1346aa/%E6%A9%9F%E6%A2%B0%E5%AD%B8%E7%BF%92-gradient-boosting-1-272e8d7b17e1\n",
    "\n",
    "## 資料分析&機器學習 第5.2講: Kaggle機器學習競賽神器XGBoost介紹\n",
    "https://medium.com/jameslearningnote/%E8%B3%87%E6%96%99%E5%88%86%E6%9E%90-%E6%A9%9F%E5%99%A8%E5%AD%B8%E7%BF%92-%E7%AC%AC5-2%E8%AC%9B-kaggle%E6%A9%9F%E5%99%A8%E5%AD%B8%E7%BF%92%E7%AB%B6%E8%B3%BD%E7%A5%9E%E5%99%A8xgboost%E4%BB%8B%E7%B4%B9-1c8f55cffcc\n",
    "\n",
    "## https://read01.com/7DB44zB.html#.YEYOJWgzaHs"
   ],
   "cell_type": "markdown",
   "metadata": {}
  },
  {
   "cell_type": "code",
   "execution_count": 55,
   "metadata": {},
   "outputs": [],
   "source": [
    "import tensorflow as tf\n",
    "import numpy as np \n",
    "import math\n",
    "import matplotlib.pyplot as plt\n",
    "import pandas as pd\n",
    "from sklearn.neighbors import KNeighborsClassifier\n",
    "from sklearn.model_selection import GridSearchCV\n",
    "from sklearn.preprocessing import LabelEncoder\n",
    "from sklearn import preprocessing\n",
    "import re\n",
    "import sweetviz as sv\n",
    "save_model = './NN/training_model2.h5'\n",
    "save_modelxg = './GX/training_model2.model'\n",
    "\n"
   ]
  },
  {
   "cell_type": "code",
   "execution_count": 56,
   "metadata": {},
   "outputs": [],
   "source": [
    "def readDataFromFile(file_path):\n",
    "    df = pd.read_csv(file_path)\n",
    "    return df"
   ]
  },
  {
   "source": [
    "# Def :missData  查看缺失情况"
   ],
   "cell_type": "markdown",
   "metadata": {}
  },
  {
   "cell_type": "code",
   "execution_count": 57,
   "metadata": {},
   "outputs": [],
   "source": [
    "def missData(df_train):\n",
    "    \n",
    "    X_missing = df_train#.drop(['survived'],axis=1)\n",
    "\n",
    "    # 查看缺失情况\n",
    "    missing = X_missing.isna().sum()\n",
    "    missing = pd.DataFrame(data={'特徵': missing.index,'缺失值個數':missing.values})\n",
    "    #通过~取反，选取不包含数字0的行\n",
    "    missing = missing[~missing['缺失值個數'].isin([0])]\n",
    "    # 缺失比例\n",
    "    missing['缺失比率'] =  missing['缺失值個數']/X_missing.shape[0]\n",
    "    print(missing)\n",
    "    # 排序\n",
    "    missing.sort_values(by='缺失比率',ascending=False)\n",
    "\n",
    "    #柱形图可视化\n",
    "    # import matplotlib.pyplot as plt\n",
    "    # import numpy as np\n",
    "    import pylab as pl\n",
    "    fig = plt.figure()#figsize=(18,6))\n",
    "    plt.bar(np.arange(missing.shape[0]), list(missing['缺失比率'].values), align = 'center',color=['red','green','yellow','steelblue'])\n",
    "    plt.title('Histogram of missing value of variables')\n",
    "    plt.xlabel('variables names')\n",
    "    plt.ylabel('missing rate')\n",
    "    # 添加x轴标签，并旋转90度\n",
    "    #plt.xticks(np.arange(missing.shape[0]),list(missing['特征']))\n",
    "    plt.xticks(rotation=90)\n",
    "    # 添加数值显示\n",
    "    # for x,y in enumerate(list(missing['缺失比例'].values)):\n",
    "    #     plt.text(x,y*-0.12,'{:.2%}'.format(y),ha='center',rotation=90)    \n",
    "        \n",
    "    #     plt.xticks(rotation=90)\n",
    "    # 添加数值显示\n",
    "    # for x,y in enumerate(list(missing['缺失比例'].values)):\n",
    "    #     plt.text(x,y+0.12,'{:.2%}'.format(y),ha='center',rotation=90)    \n",
    "    #plt.ylim([0,1.2])\n",
    "    plt.show()"
   ]
  },
  {
   "source": [
    "# Def EDA 繪製 EDA 圖"
   ],
   "cell_type": "markdown",
   "metadata": {}
  },
  {
   "cell_type": "code",
   "execution_count": 58,
   "metadata": {},
   "outputs": [],
   "source": [
    "def EDA(df_train,targetfeat='NO_HOLD_QTY'):\n",
    "    \n",
    "    pairwise_analysis='off' #相關性和其他型別的資料關聯可能需要花費較長時間。如果超過了某個閾值，就需要設定這個引數為on或者off，以判斷是否需要分析資料相關性。\n",
    "    report_train = sv.analyze([df_train, 'train'],\n",
    "                                    target_feat= targetfeat\n",
    "    )\n",
    "    report_train.show_html(filepath='./sweetvizHTML/HW2_train_report.html' ) # 儲存為html的格式\n",
    "\n",
    "    # compare_subsets_report = sv.compare_intra(df_train,\n",
    "    #                                         df_train['Finish']==1, # 給條件區分\n",
    "    #                                         ['Finish', 'notFinish'], # 為兩個子資料集命名 \n",
    "    #                                         target_feat='NO_HOLD_QTY',\n",
    "    #                                         )\n",
    "\n",
    "    # compare_subsets_report.show_html(filepath='./sweetvizHTML/HW2_Compare_report.html')"
   ]
  },
  {
   "source": [
    "# Def: preHandleDat() :資料整理(label encoding one hot encoding 特徵縮放)"
   ],
   "cell_type": "markdown",
   "metadata": {}
  },
  {
   "cell_type": "code",
   "execution_count": 59,
   "metadata": {},
   "outputs": [],
   "source": [
    "def preHandleDat(df):\n",
    "   # num_cols=['NO_HOLD_QTY','M','U','PT','UP_TIME','EQP_UTIL','TC','CS','AI','C_AI']\n",
    "    num_cols=['NO_HOLD_QTY','M','U','PT','UP_TIME','EQP_UTIL','TC','CS', 'C_AI']\n",
    " \n",
    "    df = df.drop('WIP_QTY', axis=1)\n",
    "\n",
    "    df = df.sort_values('NO_HOLD_QTY')\n",
    "    print(df.describe())        \n",
    "#      2   WIP_QTY      120018 non-null  float64\n",
    "#  3   NO_HOLD_QTY  120018 non-null  float64\n",
    "#  4   MOVE_QTY     120018 non-null  float64\n",
    "#  5   M            118540 non-null  float64\n",
    "#  6   U            118442 non-null  float64\n",
    "#  7   PT           120018 non-null  float64\n",
    "#  8   UP_TIME      118540 non-null  float64\n",
    "#  9   EQP_UTIL     118540 non-null  float64\n",
    "#  10  TC           115972 non-null  float64\n",
    "#  11  CS           115972 non-null  float64\n",
    "#  12  AI           113521 non-null  float64\n",
    "#  13  C_AI         112975 non-null  float64\n",
    "    \n",
    "    #  8   Finish           3898 non-null   object \n",
    "    #  9   WEEKDAY          3898 non-null   object \n",
    "    #  11  ToolPrefix       3898 non-null   object \n",
    "    #  12  ToolSub          3818 non-null   object \n",
    "    #  13  ToolPrefix_NEXT  3898 non-null   object \n",
    "    #  14  ToolSub_NEXT     3806 non-null   object  \n",
    "    from sklearn.preprocessing import StandardScaler\n",
    "    from sklearn.preprocessing import MinMaxScaler\n",
    "    from sklearn.preprocessing import RobustScaler\n",
    "\n",
    "    # std_scaler = StandardScaler()\n",
    "    # std_scaler.fit(df_train[num_cols])\n",
    "    # df_train_scal = df\n",
    "    # df_train_scal[num_cols]= std_scaler.transform(df_train[num_cols])\n",
    "    # df_train_scal \n",
    "\n",
    "    minMax_scaler = MinMaxScaler()\n",
    "    minMax_scaler.fit(df_train[num_cols])\n",
    "    df_train_scal = df\n",
    "    df_train_scal[num_cols]= minMax_scaler.transform(df[num_cols])\n",
    "\n",
    "\n",
    "    # robust_scaler = RobustScaler()\n",
    "    # robust_scaler.fit(df_train[num_cols])\n",
    "    # df_train_scal = df\n",
    "    # df_train_scal[num_cols] = robust_scaler.transform(df[num_cols])\n",
    "    #==================================================\n",
    "    #==================================================\n",
    "    #one hot encoder\n",
    "    #==================================================\n",
    "    #cat_cols = ['Finish','WEEKDAY','ToolPrefix','ToolSub','ToolPrefix_NEXT','ToolSub_NEXT','TOOLG_ID']\n",
    "    #cat_cols = [ 'ToolPrefix','ToolSub','TOOLG_ID']\n",
    "    cat_cols = [ 'TOOLG_ID']\n",
    "    df_train_eh =pd.get_dummies(df_train_scal.drop('MOVE_QTY', axis=1),columns=cat_cols)\n",
    "    # df_test_eh=pd.get_dummies(df.drop('MOVE_QTY', axis=1))\n",
    "    #df_test_eh = df_test_eh.reindex(columns = df_test_eh.columns, fill_value=0)\n",
    "   \n",
    "\n",
    "\n",
    "    # #rescaling 特徵縮放(0~1) 特徵最小/全距\n",
    "    # # minmax_scale = preprocessing.MinMaxScaler(feature_range=(0, 1))  \n",
    "    # # X_dropped = minmax_scale.fit_transform(X_dropped)  \n",
    "     \n",
    "    # from sklearn.preprocessing import StandardScaler\n",
    "\n",
    "    # # scaler = StandardScaler().fit(X)\n",
    "    # # X_dropped = scaler.transform(X_dropped)\n",
    "    # # Scaling features\n",
    "    # std_scaler = StandardScaler()\n",
    "    # df_test_eh = std_scaler.fit_transform(df_test_eh)\n",
    "    #print(df_train_eh.head())\n",
    "    # return df_train_ehNO_HOLD_QTY'].max()* .75\n",
    "\n",
    "    #np.asarray(x).astype('float32')        \n",
    "           \n",
    "    X_dropped = np.asarray(df_train_eh)\n",
    "    Y_dropped = np.asarray(df['MOVE_QTY'])\n",
    "    return X_dropped,Y_dropped\n",
    "    "
   ]
  },
  {
   "source": [
    "# def trainModel() 訓練模型"
   ],
   "cell_type": "markdown",
   "metadata": {}
  },
  {
   "cell_type": "code",
   "execution_count": 60,
   "metadata": {},
   "outputs": [],
   "source": [
    "# #root_mean_squared_error---------------------------------\n",
    "from tensorflow.keras import backend as K \n",
    "def root_mean_squared_error(y_true, y_pred): \n",
    "    return K.sqrt(K.mean(K.square(y_pred - y_true), axis=-1)) "
   ]
  },
  {
   "source": [
    "## xgboost\n",
    "> conda install -c conda-forge xgboost\n"
   ],
   "cell_type": "markdown",
   "metadata": {}
  },
  {
   "cell_type": "code",
   "execution_count": 61,
   "metadata": {},
   "outputs": [],
   "source": [
    "# import xgboost as xgb\n",
    "# from sklearn.metrics import log_loss\n",
    "# from sklearn.model_selection import train_test_split\n",
    "# # train, test = train_test_split(df_train)\n",
    "# train_x,train_y = preHandleDat(df_train)\n",
    "# # dtrain =xgb.DMatrix(X_dropped, Y_dropped)\n",
    "# # # param = {'max_depth':2, 'eta':1, 'objective':'binary:logistic' }\n",
    "# # param = {'max_depth':6, 'eta':1, #this is the default value anyway \n",
    "# #     'colsample_bytree':1 #this is the default value anyway \n",
    "# # }\n",
    "\n",
    "\n",
    "# # num_round = 2\n",
    "# # bst = xgb.train(param, dtrain, num_round)\n",
    "\n",
    "# parameters = {'max_depth': [5, 10, 15, 20, 25],\n",
    "#               'learning_rate': [0.01, 0.02, 0.05, 0.1, 0.15],\n",
    "#               'n_estimators': [100, 250, 500, 750, 1000],\n",
    "#               'min_child_weight': [0, 2, 5, 10, 20],\n",
    "#               'max_delta_step': [0, 0.2, 0.6, 1, 2],\n",
    "#               'subsample': [0.6, 0.7, 0.8, 0.85, 0.95],\n",
    "#               'colsample_bytree': [0.5, 0.6, 0.7, 0.8, 0.9],\n",
    "#               'reg_alpha': [0, 0.25, 0.5, 0.75, 1],\n",
    "#               'reg_lambda': [0.2, 0.4, 0.6, 0.8, 1]\n",
    "#             #   ,'scale_pos_weight': [0.2, 0.4, 0.6, 0.8, 1]\n",
    "# }\n",
    "\n",
    "\n",
    "\n",
    "# xlf = xgb.XGBClassifier(max_depth=10,\n",
    "#             learning_rate=0.01,\n",
    "#             n_estimators=2000,\n",
    "#             silent=True,\n",
    "#             objective ='reg:squarederror',  # 线性回归问题\n",
    "#             num_class=3 ,\n",
    "#             nthread=-1,\n",
    "#             gamma=0,\n",
    "#             min_child_weight=1,\n",
    "#             max_delta_step=0,\n",
    "#             subsample=0.85,\n",
    "#             colsample_bytree=0.7,\n",
    "#             colsample_bylevel=1,\n",
    "#             reg_alpha=0,\n",
    "#             reg_lambda=1,\n",
    "#             scale_pos_weight=1,\n",
    "#             seed=0,\n",
    "#             missing=None)\n",
    "\n",
    "\n",
    "\n",
    "# gs = GridSearchCV(xlf, param_grid=parameters, scoring='neg_mean_squared_error', cv=3)\n",
    "\n",
    "# gs.fit(train_x, train_y)\n",
    "\n",
    "\n",
    "\n",
    "# print(\"Best score: %0.3f\" % gs.best_score_)\n",
    "\n",
    "# print(\"Best parameters set: %s\" % gs.best_params_ )"
   ]
  },
  {
   "cell_type": "code",
   "execution_count": null,
   "metadata": {},
   "outputs": [],
   "source": []
  },
  {
   "cell_type": "code",
   "execution_count": 62,
   "metadata": {},
   "outputs": [],
   "source": [
    "def trainModelXG(toolG_Id,df,save_model): \n",
    "    save_model_tool = getSavePath(toolG_Id,save_model)    \n",
    "   \n",
    "    X_dropped,Y_dropped = preHandleDat(df)\n",
    "    import xgboost as xgb\n",
    "    from sklearn.metrics import log_loss\n",
    "    from sklearn.model_selection import train_test_split\n",
    "    # 做数据切分\n",
    "    train, test = train_test_split(df)\n",
    "    X_dropped,Y_dropped = preHandleDat(train)\n",
    "    X_droppedtest,Y_droppedtest = preHandleDat(test)\n",
    "    # read in data\n",
    "    # # 转换成Dmatrix格式\n",
    "    # feature_columns = ['Pregnancies', 'Glucose', 'BloodPressure', 'SkinThickness', 'Insulin', 'BMI', 'DiabetesPedigreeFunction', 'Age']\n",
    "    # target_column = 'Outcome'\n",
    "    # # 取出numpy array去初始化DMatrix对象\n",
    "    # xgtrain = xgb.DMatrix(train[feature_columns].values, train[target_column].values)\n",
    "    # xgtest = xgb.DMatrix(test[feature_columns].values, test[target_column].values)\n",
    "\n",
    "    xgtrain = xgb.DMatrix(X_dropped, Y_dropped)\n",
    "    xgtest = xgb.DMatrix(X_droppedtest, Y_droppedtest)\n",
    "    \n",
    "    # # specify parameters via map\n",
    "    # param = {'max_depth':2, 'eta':1, 'objective':'binary:logistic' }\n",
    "    # num_round = 2\n",
    "    # bst = xgb.train(param, df, num_round)\n",
    "\n",
    "\n",
    "        #参数设定\n",
    "    '''\n",
    "    max_depth:用于设置树的最大深度,默认为6，范围为：》1\n",
    "    eta:可以看作为学习率\n",
    "    为了防止过拟合，更新过程中用到的收缩步长，\n",
    "    再每次提升计算之后算法会直接获得新特征的权重。eta通过缩减特征的权重使提升计算过程更加保守。缺省值为0.3\n",
    "    取值范围为：[0,1]\n",
    "    silent：0表示输出信息， 1表示安静模式\n",
    "    subsample:表示观测的子样本的比率，将其设置未0.5以为着xgboost将随机抽取一半观测用于数的生长，这将有助于防止过拟合现象，范围未（0，1]\n",
    "    colsample_bytree:表示用于构造每棵树时变量的子样本比率,range: (0,1]\n",
    "    objective：这个参数定义需要被最小化的损失函数。\n",
    "    binary:logistic：二分类的逻辑回归，返回预测的概率\n",
    "    '''\n",
    "    # param = {'max_depth':5, 'eta':0.1, 'silent':1, 'subsample':0.7, 'colsample_bytree':0.7, 'objective':'binary:logistic' }\n",
    "    # param = {'max_depth':6, 'eta':1, #this is the default value anyway \n",
    "    #   'colsample_bytree':1 #this is the default value anyway \n",
    "    # }\n",
    "    params ={'learning_rate': 0.1,\n",
    "              'max_depth': 10,                # 构建树的深度，越大越容易过拟合\n",
    "              'num_boost_round':2000,\n",
    "              'objective':'reg:squarederror',  # 线性回归问题\n",
    "              #'objective': 'reg:linear',      # 线性回归问题，早期版本的参与，将被reg:squarederror替换\n",
    "              'random_state': 7,\n",
    "              'gamma':0,\n",
    "              'subsample':0.8,\n",
    "              'colsample_bytree':0.8,\n",
    "              'reg_alpha':0.005,\n",
    "              'n_estimators' : 1000,\n",
    "              'eval_metric':['logloss','rmse','mae'],   #分类有“auc”\n",
    "              'eta':0.3  #为了防止过拟合，更新过程中用到的收缩步长。eta通过缩减特征 的权重使提升计算过程更加保守。缺省值为0.3，取值范围为：[0,1]\n",
    "            }\n",
    "\n",
    "    num_round = 10\n",
    "    best_nround = 1000\n",
    "    \n",
    "    # bst = xgb.train(param, dtrain, num_round)\n",
    "    # 设定watchlist用于查看模型状态\n",
    "    watchlist  = [(xgtest,'eval'), (xgtrain,'train')]\n",
    "    \n",
    "    res = xgb.cv(params,xgtrain,num_boost_round=500,metrics='rmse',early_stopping_rounds=25)\n",
    "    # #找到最佳迭代轮数\n",
    "    best_nround = res.shape[0] - 1\n",
    "    print('找到最佳迭代轮数',best_nround)\n",
    "\n",
    "\n",
    "    bst = xgb.train(params, xgtrain, best_nround, watchlist)\n",
    "    \n",
    "    # 使用模型预测\n",
    "    preds = bst.predict(xgtest)\n",
    "    \n",
    "    # 判断准确率\n",
    "    labels = xgtest.get_label()\n",
    "    print('错误类为%f' % \\\n",
    "        (sum(1 for i in range(len(preds)) if int(preds[i]>0.5)!=labels[i]) /float(len(preds))))\n",
    "  \n",
    "\n",
    "    #模型存储\n",
    "\n",
    "    # gs = GridSearchCV(xlf, param_grid=parameters, scoring='accuracy', cv=3)\n",
    "\n",
    "    # gs.fit(train_x, train_y)\n",
    "    # print(\"Best score: %0.3f\" % gs.best_score_)\n",
    "\n",
    "    # print(\"Best parameters set: %s\" % gs.best_params_ )\n",
    "\n",
    "\n",
    "    bst.save_model(save_model_tool)\n",
    "    # make prediction\n",
    "    #preds = bst.predict(dtest)\n",
    "\n",
    "    # mod = xgb.XGBRegressor(\n",
    "    #     gamma=1,                 \n",
    "    #     learning_rate=0.01,\n",
    "    #     max_depth=3,\n",
    "    #     n_estimators=10000,                                                                    \n",
    "    #     subsample=0.8,\n",
    "    #     random_state=34\n",
    "    # ) \n",
    "\n",
    "    # mod.fit(X_train, y_train)\n",
    "    # predictions = mod.predict(X_val)\n",
    "    # rmse = sqrt(mean_squared_error(y_val, predictions))\n",
    "    # print(\"score: {0:,.0f}\".format(rmse))"
   ]
  },
  {
   "cell_type": "code",
   "execution_count": 63,
   "metadata": {},
   "outputs": [],
   "source": [
    "def trainModel(toolG_Id,df,save_model):\n",
    "\n",
    "    #save_model_tool = getSavePath(df['TOOLG_ID'].iloc[0],save_model)    \n",
    "    save_model_tool = getSavePath(toolG_Id,save_model)    \n",
    "    # cleanString = re.sub('\\W+','', df['TOOLG_ID'].iloc[0] )\n",
    "    # print(cleanString)\n",
    "    \n",
    "    # save_model=save_model = './training_model2'+cleanString+'.h5'\n",
    " \n",
    "    #======================================================================================\n",
    "    # print(df.head(2))\n",
    "    # df_train_eh = preHandleDat(df)\n",
    "    # X_dropped = np.asarray(df_train_eh)\n",
    "    # Y_dropped = np.asarray(df['MOVE_QTY'])\n",
    "    X_dropped,Y_dropped = preHandleDat(df)\n",
    "    #print(\"Y_dropped\",Y_dropped)\n",
    "        # print(X_dropped)\n",
    "            # print(Y_dropped)\n",
    "            \n",
    "                #1.建立模型(Model)\n",
    "                    #將Layer放入Model中)\n",
    "    # print(X_dropped)\n",
    "    # print(Y_dropped)\n",
    "\n",
    "    #1.建立模型(Model)\n",
    "    #將Layer放入Model中\n",
    "    # Activation Functions\n",
    "    # A.softmax：值介於 [0,1] 之間，且機率總和等於 1，適合多分類使用。\n",
    "    # B.sigmoid：值介於 [0,1] 之間，且分布兩極化，大部分不是 0，就是 1，適合二分法。\n",
    "    # C.Relu (Rectified Linear Units)：忽略負值，介於 [0,∞] 之間。\n",
    "    # D.tanh：與sigmoid類似，但值介於[-1,1]之間，即傳導有負值。\n",
    "    model = tf.keras.Sequential([\n",
    "        tf.keras.layers.Dense(units=16,input_shape=[X_dropped.shape[1]]), # units：输出维度\n",
    "        # tf.keras.layers.Dense(units=32),\n",
    "        # tf.keras.layers.Dense(units=64),\n",
    "        # tf.keras.layers.Dropout(0.2),\n",
    "        # tf.keras.layers.Dense(units=32),\n",
    "        # tf.keras.layers.Dropout(0.2),\n",
    "        # tf.keras.layers.Dense(units=1)\n",
    "\n",
    "        \n",
    "        tf.keras.layers.Dense(units=16, kernel_initializer='random_uniform', activation='relu'),\n",
    "        tf.keras.layers.Dense(units=16, kernel_initializer='random_uniform', activation='relu'),\n",
    "\n",
    "        #tf.keras.layers.Dense(units=1)\n",
    "        tf.keras.layers.Dense(units=1, kernel_initializer='random_uniform',activation='relu')\n",
    "        \n",
    "\n",
    "        ])\n",
    "    #model.summary()\n",
    "    #======================================================================================\n",
    "    # 定義 tensorboard callback\n",
    "    tensorboard_callback = [tf.keras.callbacks.TensorBoard(log_dir='D:/Projects/AI/POC/homework/logs2')]\n",
    "    #======================================================================================\n",
    "    #2. 確立目標及求解方法：以compile函數定義損失函數(loss)、優化函數(optimizer)及成效衡量指標(mertrics)。\n",
    "\n",
    "    #compile()方法來指定損失函數與優化函數，也可以額外指定一系列的訓練和評估期間計算評量標準\n",
    "    #model.compile(loss='binary_crossentropy', optimizer='adam', metrics=['accuracy'])  \n",
    "    \n",
    "    # # model.compile( loss = root_mean_squared_error,optimizer = \"rmsprop\",metrics =[\"accuracy\"],callbacks=tensorboard_callback) \n",
    "    # model.compile(loss = root_mean_squared_error,metrics =[\"accuracy\"],callbacks=tensorboard_callback) \n",
    "    # \n",
    "    #--------------------------\n",
    "    #[Keras 損失函數(loss)]\n",
    "    #   A.均方誤差(mean_squared_error)----mean_squared_error-------------------------------\n",
    "    #   B.Hinge Error (hinge)：是一種單邊誤差，不考慮負值，適用於『支援向量機』(SVM)的最大間隔分類法(maximum-margin classification)\n",
    "     #  C.Cross Entropy (categorical_crossentropy)：當預測值與實際值愈相近，損失函數就愈小，反之差距很大，就會更影響損失函數的值，這篇文章 主張要用 Cross Entropy 取代 MSE，因為，在梯度下時，Cross Entropy 計算速度較快，其他變形包括 sparse_categorical_crossentropy、binary_crossentropy。\n",
    "     #  D.其他還有 logcosh、kullback_leibler_divergence、poisson、cosine_proximity 等。\n",
    "    #--------------------------\n",
    "    #[優化函數(Optimizer)]\n",
    "    #   A. 隨機梯度下降法(Stochastic Gradient Descent, SGD)：就是利用偏微分，逐步按著下降的方向，尋找最佳解。它含以下參數：\n",
    "    #        Learning Rate (lr)：逼近最佳解的學習速率，速率訂的太小，計算最佳解的時間花費較長，訂的太大，可能會在最佳解兩                               旁擺盪，找不到最佳解。\n",
    "    #        momentum：更新的動能，一開始學習速率可以大一點，接近最佳解時，學習速率步幅就要小一點，一般訂為0.5，不要那麼大時，可改為 0.9。\n",
    "    #        decay：每次更新後，學習速率隨之衰減的比率。\n",
    "    #        nesterov：是否使用 Nesterov momentum，請參考 http://blog.csdn.net/luo123n/article/details/48239963 。\n",
    "    #  B.Adam：一般而言，比SGD模型訓練成本較低，請參考『Adam - A Method for Stochastic Optimization』，包含相關參數建議值，含以下參數：\n",
    "\n",
    "    #        lr：逼近最佳解的學習速率，預設值為0.001。\n",
    "    #        beta_1：一階矩估計的指數衰減因子，預設值為0.9。\n",
    "    #        beta_2：二階矩估計的指數衰減因子，預設值為0.999。\n",
    "    #        epsilon：為一大於但接近 0 的數，放在分母，避免產生除以 0 的錯誤，預設值為1e-08。\n",
    "    #        decay：每次更新後，學習速率隨之衰減的比率。\n",
    "    # model.compile(loss='mean_squared_error', optimizer=tf.keras.optimizers.Adam(0.01)\n",
    "    #                     , metrics= ['accuracy'],callbacks=tensorboard_callback) \n",
    "    # model.compile(loss='mean_squared_error', optimizer=tf.keras.optimizers.SGD()\n",
    "    #                     , metrics= ['accuracy'],callbacks=tensorboard_callback) \n",
    "    #========================================================================\n",
    "    # SGD\n",
    "    sgd = tf.keras.optimizers.SGD(lr=0.20, momentum=0.0, decay=0.0, nesterov=False)\n",
    "    # 随机梯度下降优化器。\n",
    "    # 包含扩展功能的支持： - 动量（momentum）优化, - 学习率衰减（每次参数更新后） - Nestrov 动量 (NAG) 优化\n",
    "    # 参数\n",
    "    # lr: float >= 0. 学习率。\n",
    "    # momentum: float >= 0. 参数，用于加速 SGD 在相关方向上前进，并抑制震荡。\n",
    "    # decay: float >= 0. 每次参数更新后学习率衰减值。\n",
    "    # nesterov: boolean. 是否使用 Nesterov 动量。\n",
    "    #========================================================================\n",
    "    # compile 編譯模型\n",
    "    # model.compile(loss='mean_squared_error', optimizer='adam'\n",
    "    #                     , metrics= ['accuracy','mse', 'mae', 'mape'],callbacks=tensorboard_callback) 」‘「＝、\n",
    "    \n",
    "    # model.compile(loss='mean_squared_error', optimizer=tf.keras.optimizers.SGD(lr=0.01,decay=1e-6, momentum=0.9, nesterov=True)\n",
    "    #                     , metrics= ['accuracy','mse', 'mae', 'mape'],callbacks=tensorboard_callback) \n",
    "    # model.compile(loss=root_mean_squared_error, optimizer=tf.keras.optimizers.Adam(lr=0.01)\n",
    "    #                     , metrics = [root_mean_squared_error, 'mae', 'mape'])\n",
    "    \n",
    "    # model.compile(loss='mean_absolute_error', optimizer=tf.keras.optimizers.Adam(lr=0.01)\n",
    "    #                     , metrics = [root_mean_squared_error, 'mae', 'mape'])   \n",
    "    model.compile(loss='mean_absolute_error', optimizer=tf.keras.optimizers.Adam(lr=0.01) #, optimizer=tf.keras.optimizers.SGD(lr=0.2)\n",
    "                        , metrics = [root_mean_squared_error, 'mae', 'mape'])                                 \n",
    "    #======================================================================================\n",
    "\n",
    "    #3.訓練 fit：以compile函數進行訓練，指定訓練的樣本資料(x, y)，並撥一部分資料作驗證，還有要訓練幾個週期、訓練資料的抽樣方式。\n",
    "    # train_history = model.fit(x=X_dropped, y=Y_dropped,\n",
    "    #                validation_data=(X_dropped_test, Y_dropped_test), # Use this instead\n",
    "    #                 epochs=50, batch_size=30, verbose=2) #validation_split=0.1, 用最後的10%資料驗證 batch_size=200: 每一批次200筆資料 verbose=2: 顯示訓練過程\n",
    "    train_history = model.fit(x=X_dropped, y=Y_dropped,\n",
    "                #validation_data=(X_dropped_test, Y_dropped_test), # Use this instead\n",
    "                validation_split=0.10, epochs=50, batch_size=32, verbose=0) #validation_split=0.1, 用最後的10%資料驗證 batch_size=200: 每一批次200筆資料\n",
    "    # early_stopping = tf.keras.callbacks.EarlyStopping(patience=25)\n",
    "    # train_history = model.fit(x=X_dropped, y=Y_dropped, validation_split=0.1, epochs=200, batch_size=30, verbose=2)\n",
    "    # train_history = model.fit(X_dropped, Y_dropped, epochs=20, verbose=True)\n",
    "    \n",
    "    model.save(save_model_tool)\n",
    "    # model.compile(loss='mean_squared_error', optimizer=tf.keras.optimizers.Adam(0.01))\n",
    "\n",
    "    #評估(Evaluation)：訓練完後，計算成效。\n",
    "    # 顯示訓練成果(分數)\n",
    "    # scores = model.evaluate(X_dropped, Y_dropped) \n",
    "    \n",
    "    # print(\"Finished training the model\",scores)\n",
    "    print(train_history.history.keys())\n",
    "    #dict_keys(['loss', 'accuracy', 'mse', 'mae', 'mape', 'val_loss', 'val_accuracy', 'val_mse', 'val_mae', 'val_mape'])\n",
    "    \n",
    "    # 當RMSE收斂至接近0.02，且MAPE接近10%，即完成模型之訓練\n",
    "    figure, axis_1 = plt.subplots()\n",
    "    plt.title(df['TOOLG_ID'].iloc[0]) # title\n",
    "    plt.xlabel('Epoch Number')\n",
    "    plt.ylabel(\"Loss Magnitude\")\n",
    "\n",
    "    loss = axis_1.plot(train_history.history['loss'], label = 'loss')\n",
    "\n",
    "    #plt.ylabel(\"accuracy\")\n",
    "    # ac =axis_1.plot(train_history.history['accuracy'], label = 'accuracy' )# 準確度\n",
    "    # ac =axis_1.plot(train_history.history['mse'], label = 'mse' )# 準確度\n",
    "    \n",
    "    \n",
    "    \n",
    "    # mse = axis_1.plot(train_history.history['mse'], label = 'mse' ) \n",
    "    # vallossaxis_1= axis_1.plot(train_history.history['val_loss'], label = 'val_loss' )# 準確度\n",
    "    axis_2 = axis_1.twinx()\n",
    "    # mse = axis_2.plot(train_history.history['mse'], label = 'mse',color='red' ) \n",
    "    mse = axis_2.plot(train_history.history['root_mean_squared_error'], label = 'mse',color='red' ) \n",
    "    \n",
    "    # mape = axis_2.plot(train_history.history['mape'], label = 'mape' )# 準確度 接近10%\n",
    "        \n",
    "    axis_1.legend(loc='upper left',fontsize='large')\n",
    "    axis_2.legend(loc='upper right',fontsize='large')\n",
    "    # plt.legend((ac, valloss, mse, mape),\n",
    "    #        ('Low accuracy', 'val_loss', 'mse', 'mape'),\n",
    "    #        scatterpoints=1,\n",
    "    #        loc='upper right',\n",
    "    #     #    ncol=3,\n",
    "    #        fontsize=14)\n",
    "\n",
    "    plt.show()\n",
    "\n",
    "    from sklearn.metrics import mean_squared_error #均方誤差\n",
    "    from sklearn.metrics import mean_absolute_error #平方絕對誤差\n",
    "    from sklearn.metrics import r2_score#R square\n",
    "    #呼叫\n",
    "    y_predict = model.predict(X_dropped)\n",
    "    #print(np.count_nonzero(~np.isnan(Y_dropped)),np.count_nonzero(~np.isnan(y_predict)))\n",
    "    Y_dropped = np.nan_to_num(np.nan, copy=True)\n",
    "    # Y_dropped = np.nan_to_num(np.nan, copy=True)\n",
    "    \n",
    "\n",
    "    # print(\"mean_squared_error\",mean_squared_error(Y_dropped,y_predict))\n",
    "    # print(\"mean_absolute_error\",mean_absolute_error(Y_dropped,y_predict))\n",
    "    # print(\"r2_score\",r2_score(Y_dropped,y_predict))\n",
    "\n",
    "\n",
    "    #return df_test_eh"
   ]
  },
  {
   "cell_type": "code",
   "execution_count": 64,
   "metadata": {},
   "outputs": [],
   "source": [
    "def getSavePath(toolg,save_model):\n",
    "    cleanString = re.sub('\\W+','', toolg )\n",
    "    #print(cleanString)\n",
    "    path = save_model\n",
    "    path = save_model.replace(save_model.split('/', 2)[len( save_model.split('/', 2))-1],cleanString+save_model.split('/', 2)[len(     save_model.split('/', 2))-1])\n",
    "    print(path)\n",
    "    return path"
   ]
  },
  {
   "cell_type": "code",
   "execution_count": 65,
   "metadata": {},
   "outputs": [],
   "source": [
    "def TestModelXG(df,save_model):\n",
    "    import xgboost as xgb\n",
    "    save_model_tool = getSavePath(df['TOOLG_ID'].iloc[0],save_model)\n",
    "\n",
    "    bst2 = xgb.Booster(model_file=save_model_tool)\n",
    "    \n",
    "\n",
    "    # print(save_model_tool)\n",
    "    #======================================================================================\n",
    "    X_dropped,Y_dropped = preHandleDat(df)\n",
    "    dtest2 = xgb.DMatrix(X_dropped)\n",
    "    y_predict = bst2.predict(dtest2)\n",
    "    # assert they are the same\n",
    "    # assert np.sum(np.abs(y_predict - Y_dropped)) == 0\n",
    "    \n",
    "    \n",
    "    df['predict'] = y_predict\n",
    "\n",
    "    plt.plot(df['NO_HOLD_QTY'] , y_predict)\n",
    "    plt.show()\n"
   ]
  },
  {
   "cell_type": "code",
   "execution_count": 66,
   "metadata": {},
   "outputs": [],
   "source": [
    "def TestModel(df,save_model):\n",
    "\n",
    "    save_model_tool = getSavePath(df['TOOLG_ID'].iloc[0],save_model)\n",
    "    # print(save_model_tool)\n",
    "    #======================================================================================\n",
    "    # print(df.head(20))\n",
    "    # df_test_eh = preHandleDat(df)\n",
    "    # X_dropped = np.asarray(df_test_eh)\n",
    "    # Y_dropped = np.asarray(df['MOVE_QTY'])\n",
    "    X_dropped,Y_dropped = preHandleDat(df)\n",
    "    # print(X_dropped)     \n",
    "    # print(save_model_tool)\n",
    "     #======================================================================================\n",
    "    # #root_mean_squared_error---------------------------------\n",
    "    # from tensorflow.keras import backend as K \n",
    "    # def root_mean_squared_error(y_true, y_pred): \n",
    "    #      return K.sqrt(K.mean(K.square(y_pred - y_true), axis=-1)) \n",
    "\n",
    "\n",
    "#      #one hot encoder\n",
    "#     df_test_eh=pd.get_dummies(df.drop('MOVE_QTY', axis=1))\n",
    "#     df_test_eh = df_test_eh.reindex(columns = df.columns, fill_value=0)\n",
    "    \n",
    "\n",
    "#     #rescaling 特徵縮放(0~1) 特徵最小/全距\n",
    "#     minmax_scale = preprocessing.MinMaxScaler(feature_range=(0, 1))  \n",
    "#     X_dropped = minmax_scale.fit_transform(X_dropped)  \n",
    "    # df_test3.info()\n",
    "    # It can be used to reconstruct the model identically.\n",
    "\n",
    "   \n",
    "    # model = tf.keras.models.load_model(save_model_tool)\n",
    "    model = tf.keras.models.load_model(save_model_tool,custom_objects={ 'root_mean_squared_error': root_mean_squared_error})\n",
    "    # np.testing.assert_allclose(\n",
    "    #     model.predict(test_input), model.predict(test_input)\n",
    "    # )\n",
    "    \n",
    "    # print(model.predict(df_test3))\n",
    "\n",
    "    # plt.xlabel('Seq Number')\n",
    "    y_predict = model.predict(X_dropped)\n",
    "    \n",
    "    df['predict'] = y_predict # 預測WIP 數\n",
    "    print(y_predict)\n",
    "    # print(df.head())\n",
    "    # df['NO_HOLD_QTY'] = df_train['NO_HOLD_QTY'].astype('int')\n",
    "    # df['predict'] = df_train['predict'].astype('int')\n",
    "    # df.plot.scatter(x ='NO_HOLD_QTY', y='predict')#,style='o',figsize=(10,5), grid=True  )\n",
    "    # ax.locator_params(integer=True)\n",
    "    \n",
    " \n",
    "    plt.plot( df['NO_HOLD_QTY'] ,y_predict )\n",
    "    plt.show()\n",
    "\n",
    "    # plt.ylabel(\"MOVE_QTY\")\n",
    "    # plt.xlabel(\"WIP_QTY\")\n",
    "    \n",
    "    # plt.plot(df['NO_HOLD_QTY'],model.predict(X_dropped), label = \"Predict\", color='red', marker='.',linewidth = '0.5')\n",
    "    # plt.legend()\n",
    "    # plt.show()\n",
    " "
   ]
  },
  {
   "cell_type": "code",
   "execution_count": 67,
   "metadata": {},
   "outputs": [],
   "source": [
    "#Training('.homework/training_data_20210226.csv')\n",
    "# Testing('D:/Documents/機器學習/Data/Testing_Data.xlsx')"
   ]
  },
  {
   "source": [
    "# 開始資料分析與處理"
   ],
   "cell_type": "markdown",
   "metadata": {}
  },
  {
   "cell_type": "code",
   "execution_count": 68,
   "metadata": {},
   "outputs": [
    {
     "output_type": "stream",
     "name": "stdout",
     "text": [
      "<class 'pandas.core.frame.DataFrame'>\nRangeIndex: 120018 entries, 0 to 120017\nData columns (total 14 columns):\n #   Column       Non-Null Count   Dtype  \n---  ------       --------------   -----  \n 0   MFG_DATE     120018 non-null  int64  \n 1   TOOLG_ID     120018 non-null  object \n 2   WIP_QTY      120018 non-null  float64\n 3   NO_HOLD_QTY  120018 non-null  float64\n 4   MOVE_QTY     120018 non-null  float64\n 5   M            118540 non-null  float64\n 6   U            118442 non-null  float64\n 7   PT           120018 non-null  float64\n 8   UP_TIME      118540 non-null  float64\n 9   EQP_UTIL     118540 non-null  float64\n 10  TC           115972 non-null  float64\n 11  CS           115972 non-null  float64\n 12  AI           113521 non-null  float64\n 13  C_AI         112975 non-null  float64\ndtypes: float64(12), int64(1), object(1)\nmemory usage: 12.8+ MB\n"
     ]
    }
   ],
   "source": [
    "df_train_orign=readDataFromFile('./training_data_20210302.csv')\n",
    "df_train = df_train_orign\n",
    "df_train.info()\n",
    "# EDA(df_train_orign)"
   ]
  },
  {
   "cell_type": "code",
   "execution_count": 200,
   "metadata": {},
   "outputs": [
    {
     "output_type": "stream",
     "name": "stdout",
     "text": [
      "<class 'pandas.core.frame.DataFrame'>\nRangeIndex: 120018 entries, 0 to 120017\nData columns (total 14 columns):\n #   Column       Non-Null Count   Dtype  \n---  ------       --------------   -----  \n 0   MFG_DATE     120018 non-null  int64  \n 1   TOOLG_ID     120018 non-null  object \n 2   WIP_QTY      120018 non-null  float64\n 3   NO_HOLD_QTY  120018 non-null  float64\n 4   MOVE_QTY     120018 non-null  float64\n 5   M            118540 non-null  float64\n 6   U            118442 non-null  float64\n 7   PT           120018 non-null  float64\n 8   UP_TIME      118540 non-null  float64\n 9   EQP_UTIL     118540 non-null  float64\n 10  TC           115972 non-null  float64\n 11  CS           115972 non-null  float64\n 12  AI           113521 non-null  float64\n 13  C_AI         112975 non-null  float64\ndtypes: float64(12), int64(1), object(1)\nmemory usage: 12.8+ MB\n"
     ]
    }
   ],
   "source": []
  },
  {
   "cell_type": "code",
   "execution_count": 69,
   "metadata": {},
   "outputs": [],
   "source": [
    "#EDA(df_train)"
   ]
  },
  {
   "cell_type": "code",
   "execution_count": 70,
   "metadata": {},
   "outputs": [
    {
     "output_type": "stream",
     "name": "stdout",
     "text": [
      "          特徵  缺失值個數      缺失比率\n5          M   1478  0.012315\n6          U   1576  0.013131\n8    UP_TIME   1478  0.012315\n9   EQP_UTIL   1478  0.012315\n10        TC   4046  0.033712\n11        CS   4046  0.033712\n12        AI   6497  0.054134\n13      C_AI   7043  0.058683\n"
     ]
    },
    {
     "output_type": "display_data",
     "data": {
      "text/plain": "<Figure size 432x288 with 1 Axes>",
      "image/svg+xml": "<?xml version=\"1.0\" encoding=\"utf-8\" standalone=\"no\"?>\r\n<!DOCTYPE svg PUBLIC \"-//W3C//DTD SVG 1.1//EN\"\r\n  \"http://www.w3.org/Graphics/SVG/1.1/DTD/svg11.dtd\">\r\n<!-- Created with matplotlib (https://matplotlib.org/) -->\r\n<svg height=\"273.99875pt\" version=\"1.1\" viewBox=\"0 0 392.14375 273.99875\" width=\"392.14375pt\" xmlns=\"http://www.w3.org/2000/svg\" xmlns:xlink=\"http://www.w3.org/1999/xlink\">\r\n <metadata>\r\n  <rdf:RDF xmlns:cc=\"http://creativecommons.org/ns#\" xmlns:dc=\"http://purl.org/dc/elements/1.1/\" xmlns:rdf=\"http://www.w3.org/1999/02/22-rdf-syntax-ns#\">\r\n   <cc:Work>\r\n    <dc:type rdf:resource=\"http://purl.org/dc/dcmitype/StillImage\"/>\r\n    <dc:date>2021-03-10T14:41:06.746238</dc:date>\r\n    <dc:format>image/svg+xml</dc:format>\r\n    <dc:creator>\r\n     <cc:Agent>\r\n      <dc:title>Matplotlib v3.3.3, https://matplotlib.org/</dc:title>\r\n     </cc:Agent>\r\n    </dc:creator>\r\n   </cc:Work>\r\n  </rdf:RDF>\r\n </metadata>\r\n <defs>\r\n  <style type=\"text/css\">*{stroke-linecap:butt;stroke-linejoin:round;}</style>\r\n </defs>\r\n <g id=\"figure_1\">\r\n  <g id=\"patch_1\">\r\n   <path d=\"M 0 273.99875 \r\nL 392.14375 273.99875 \r\nL 392.14375 0 \r\nL 0 0 \r\nz\r\n\" style=\"fill:none;\"/>\r\n  </g>\r\n  <g id=\"axes_1\">\r\n   <g id=\"patch_2\">\r\n    <path d=\"M 50.14375 239.758125 \r\nL 384.94375 239.758125 \r\nL 384.94375 22.318125 \r\nL 50.14375 22.318125 \r\nz\r\n\" style=\"fill:#ffffff;\"/>\r\n   </g>\r\n   <g id=\"patch_3\">\r\n    <path clip-path=\"url(#pfa75de71da)\" d=\"M 65.361932 239.758125 \r\nL 96.578715 239.758125 \r\nL 96.578715 196.30041 \r\nL 65.361932 196.30041 \r\nz\r\n\" style=\"fill:#ff0000;\"/>\r\n   </g>\r\n   <g id=\"patch_4\">\r\n    <path clip-path=\"url(#pfa75de71da)\" d=\"M 104.382911 239.758125 \r\nL 135.599694 239.758125 \r\nL 135.599694 193.418911 \r\nL 104.382911 193.418911 \r\nz\r\n\" style=\"fill:#008000;\"/>\r\n   </g>\r\n   <g id=\"patch_5\">\r\n    <path clip-path=\"url(#pfa75de71da)\" d=\"M 143.40389 239.758125 \r\nL 174.620673 239.758125 \r\nL 174.620673 196.30041 \r\nL 143.40389 196.30041 \r\nz\r\n\" style=\"fill:#ffff00;\"/>\r\n   </g>\r\n   <g id=\"patch_6\">\r\n    <path clip-path=\"url(#pfa75de71da)\" d=\"M 182.424869 239.758125 \r\nL 213.641652 239.758125 \r\nL 213.641652 196.30041 \r\nL 182.424869 196.30041 \r\nz\r\n\" style=\"fill:#4682b4;\"/>\r\n   </g>\r\n   <g id=\"patch_7\">\r\n    <path clip-path=\"url(#pfa75de71da)\" d=\"M 221.445848 239.758125 \r\nL 252.662631 239.758125 \r\nL 252.662631 120.793366 \r\nL 221.445848 120.793366 \r\nz\r\n\" style=\"fill:#ff0000;\"/>\r\n   </g>\r\n   <g id=\"patch_8\">\r\n    <path clip-path=\"url(#pfa75de71da)\" d=\"M 260.466827 239.758125 \r\nL 291.68361 239.758125 \r\nL 291.68361 120.793366 \r\nL 260.466827 120.793366 \r\nz\r\n\" style=\"fill:#008000;\"/>\r\n   </g>\r\n   <g id=\"patch_9\">\r\n    <path clip-path=\"url(#pfa75de71da)\" d=\"M 299.487806 239.758125 \r\nL 330.704589 239.758125 \r\nL 330.704589 48.726479 \r\nL 299.487806 48.726479 \r\nz\r\n\" style=\"fill:#ffff00;\"/>\r\n   </g>\r\n   <g id=\"patch_10\">\r\n    <path clip-path=\"url(#pfa75de71da)\" d=\"M 338.508785 239.758125 \r\nL 369.725568 239.758125 \r\nL 369.725568 32.672411 \r\nL 338.508785 32.672411 \r\nz\r\n\" style=\"fill:#4682b4;\"/>\r\n   </g>\r\n   <g id=\"matplotlib.axis_1\">\r\n    <g id=\"xtick_1\">\r\n     <g id=\"line2d_1\">\r\n      <defs>\r\n       <path d=\"M 0 0 \r\nL 0 3.5 \r\n\" id=\"m89f49abb23\" style=\"stroke:#000000;stroke-width:0.8;\"/>\r\n      </defs>\r\n      <g>\r\n       <use style=\"stroke:#000000;stroke-width:0.8;\" x=\"80.970323\" xlink:href=\"#m89f49abb23\" y=\"239.758125\"/>\r\n      </g>\r\n     </g>\r\n     <g id=\"text_1\">\r\n      <!-- 0 -->\r\n      <g transform=\"translate(83.729698 253.120625)rotate(-90)scale(0.1 -0.1)\">\r\n       <defs>\r\n        <path d=\"M 31.78125 66.40625 \r\nQ 24.171875 66.40625 20.328125 58.90625 \r\nQ 16.5 51.421875 16.5 36.375 \r\nQ 16.5 21.390625 20.328125 13.890625 \r\nQ 24.171875 6.390625 31.78125 6.390625 \r\nQ 39.453125 6.390625 43.28125 13.890625 \r\nQ 47.125 21.390625 47.125 36.375 \r\nQ 47.125 51.421875 43.28125 58.90625 \r\nQ 39.453125 66.40625 31.78125 66.40625 \r\nz\r\nM 31.78125 74.21875 \r\nQ 44.046875 74.21875 50.515625 64.515625 \r\nQ 56.984375 54.828125 56.984375 36.375 \r\nQ 56.984375 17.96875 50.515625 8.265625 \r\nQ 44.046875 -1.421875 31.78125 -1.421875 \r\nQ 19.53125 -1.421875 13.0625 8.265625 \r\nQ 6.59375 17.96875 6.59375 36.375 \r\nQ 6.59375 54.828125 13.0625 64.515625 \r\nQ 19.53125 74.21875 31.78125 74.21875 \r\nz\r\n\" id=\"DejaVuSans-48\"/>\r\n       </defs>\r\n       <use xlink:href=\"#DejaVuSans-48\"/>\r\n      </g>\r\n     </g>\r\n    </g>\r\n    <g id=\"xtick_2\">\r\n     <g id=\"line2d_2\">\r\n      <g>\r\n       <use style=\"stroke:#000000;stroke-width:0.8;\" x=\"119.991302\" xlink:href=\"#m89f49abb23\" y=\"239.758125\"/>\r\n      </g>\r\n     </g>\r\n     <g id=\"text_2\">\r\n      <!-- 1 -->\r\n      <g transform=\"translate(122.750677 253.120625)rotate(-90)scale(0.1 -0.1)\">\r\n       <defs>\r\n        <path d=\"M 12.40625 8.296875 \r\nL 28.515625 8.296875 \r\nL 28.515625 63.921875 \r\nL 10.984375 60.40625 \r\nL 10.984375 69.390625 \r\nL 28.421875 72.90625 \r\nL 38.28125 72.90625 \r\nL 38.28125 8.296875 \r\nL 54.390625 8.296875 \r\nL 54.390625 0 \r\nL 12.40625 0 \r\nz\r\n\" id=\"DejaVuSans-49\"/>\r\n       </defs>\r\n       <use xlink:href=\"#DejaVuSans-49\"/>\r\n      </g>\r\n     </g>\r\n    </g>\r\n    <g id=\"xtick_3\">\r\n     <g id=\"line2d_3\">\r\n      <g>\r\n       <use style=\"stroke:#000000;stroke-width:0.8;\" x=\"159.012281\" xlink:href=\"#m89f49abb23\" y=\"239.758125\"/>\r\n      </g>\r\n     </g>\r\n     <g id=\"text_3\">\r\n      <!-- 2 -->\r\n      <g transform=\"translate(161.771656 253.120625)rotate(-90)scale(0.1 -0.1)\">\r\n       <defs>\r\n        <path d=\"M 19.1875 8.296875 \r\nL 53.609375 8.296875 \r\nL 53.609375 0 \r\nL 7.328125 0 \r\nL 7.328125 8.296875 \r\nQ 12.9375 14.109375 22.625 23.890625 \r\nQ 32.328125 33.6875 34.8125 36.53125 \r\nQ 39.546875 41.84375 41.421875 45.53125 \r\nQ 43.3125 49.21875 43.3125 52.78125 \r\nQ 43.3125 58.59375 39.234375 62.25 \r\nQ 35.15625 65.921875 28.609375 65.921875 \r\nQ 23.96875 65.921875 18.8125 64.3125 \r\nQ 13.671875 62.703125 7.8125 59.421875 \r\nL 7.8125 69.390625 \r\nQ 13.765625 71.78125 18.9375 73 \r\nQ 24.125 74.21875 28.421875 74.21875 \r\nQ 39.75 74.21875 46.484375 68.546875 \r\nQ 53.21875 62.890625 53.21875 53.421875 \r\nQ 53.21875 48.921875 51.53125 44.890625 \r\nQ 49.859375 40.875 45.40625 35.40625 \r\nQ 44.1875 33.984375 37.640625 27.21875 \r\nQ 31.109375 20.453125 19.1875 8.296875 \r\nz\r\n\" id=\"DejaVuSans-50\"/>\r\n       </defs>\r\n       <use xlink:href=\"#DejaVuSans-50\"/>\r\n      </g>\r\n     </g>\r\n    </g>\r\n    <g id=\"xtick_4\">\r\n     <g id=\"line2d_4\">\r\n      <g>\r\n       <use style=\"stroke:#000000;stroke-width:0.8;\" x=\"198.03326\" xlink:href=\"#m89f49abb23\" y=\"239.758125\"/>\r\n      </g>\r\n     </g>\r\n     <g id=\"text_4\">\r\n      <!-- 3 -->\r\n      <g transform=\"translate(200.792635 253.120625)rotate(-90)scale(0.1 -0.1)\">\r\n       <defs>\r\n        <path d=\"M 40.578125 39.3125 \r\nQ 47.65625 37.796875 51.625 33 \r\nQ 55.609375 28.21875 55.609375 21.1875 \r\nQ 55.609375 10.40625 48.1875 4.484375 \r\nQ 40.765625 -1.421875 27.09375 -1.421875 \r\nQ 22.515625 -1.421875 17.65625 -0.515625 \r\nQ 12.796875 0.390625 7.625 2.203125 \r\nL 7.625 11.71875 \r\nQ 11.71875 9.328125 16.59375 8.109375 \r\nQ 21.484375 6.890625 26.8125 6.890625 \r\nQ 36.078125 6.890625 40.9375 10.546875 \r\nQ 45.796875 14.203125 45.796875 21.1875 \r\nQ 45.796875 27.640625 41.28125 31.265625 \r\nQ 36.765625 34.90625 28.71875 34.90625 \r\nL 20.21875 34.90625 \r\nL 20.21875 43.015625 \r\nL 29.109375 43.015625 \r\nQ 36.375 43.015625 40.234375 45.921875 \r\nQ 44.09375 48.828125 44.09375 54.296875 \r\nQ 44.09375 59.90625 40.109375 62.90625 \r\nQ 36.140625 65.921875 28.71875 65.921875 \r\nQ 24.65625 65.921875 20.015625 65.03125 \r\nQ 15.375 64.15625 9.8125 62.3125 \r\nL 9.8125 71.09375 \r\nQ 15.4375 72.65625 20.34375 73.4375 \r\nQ 25.25 74.21875 29.59375 74.21875 \r\nQ 40.828125 74.21875 47.359375 69.109375 \r\nQ 53.90625 64.015625 53.90625 55.328125 \r\nQ 53.90625 49.265625 50.4375 45.09375 \r\nQ 46.96875 40.921875 40.578125 39.3125 \r\nz\r\n\" id=\"DejaVuSans-51\"/>\r\n       </defs>\r\n       <use xlink:href=\"#DejaVuSans-51\"/>\r\n      </g>\r\n     </g>\r\n    </g>\r\n    <g id=\"xtick_5\">\r\n     <g id=\"line2d_5\">\r\n      <g>\r\n       <use style=\"stroke:#000000;stroke-width:0.8;\" x=\"237.05424\" xlink:href=\"#m89f49abb23\" y=\"239.758125\"/>\r\n      </g>\r\n     </g>\r\n     <g id=\"text_5\">\r\n      <!-- 4 -->\r\n      <g transform=\"translate(239.813615 253.120625)rotate(-90)scale(0.1 -0.1)\">\r\n       <defs>\r\n        <path d=\"M 37.796875 64.3125 \r\nL 12.890625 25.390625 \r\nL 37.796875 25.390625 \r\nz\r\nM 35.203125 72.90625 \r\nL 47.609375 72.90625 \r\nL 47.609375 25.390625 \r\nL 58.015625 25.390625 \r\nL 58.015625 17.1875 \r\nL 47.609375 17.1875 \r\nL 47.609375 0 \r\nL 37.796875 0 \r\nL 37.796875 17.1875 \r\nL 4.890625 17.1875 \r\nL 4.890625 26.703125 \r\nz\r\n\" id=\"DejaVuSans-52\"/>\r\n       </defs>\r\n       <use xlink:href=\"#DejaVuSans-52\"/>\r\n      </g>\r\n     </g>\r\n    </g>\r\n    <g id=\"xtick_6\">\r\n     <g id=\"line2d_6\">\r\n      <g>\r\n       <use style=\"stroke:#000000;stroke-width:0.8;\" x=\"276.075219\" xlink:href=\"#m89f49abb23\" y=\"239.758125\"/>\r\n      </g>\r\n     </g>\r\n     <g id=\"text_6\">\r\n      <!-- 5 -->\r\n      <g transform=\"translate(278.834594 253.120625)rotate(-90)scale(0.1 -0.1)\">\r\n       <defs>\r\n        <path d=\"M 10.796875 72.90625 \r\nL 49.515625 72.90625 \r\nL 49.515625 64.59375 \r\nL 19.828125 64.59375 \r\nL 19.828125 46.734375 \r\nQ 21.96875 47.46875 24.109375 47.828125 \r\nQ 26.265625 48.1875 28.421875 48.1875 \r\nQ 40.625 48.1875 47.75 41.5 \r\nQ 54.890625 34.8125 54.890625 23.390625 \r\nQ 54.890625 11.625 47.5625 5.09375 \r\nQ 40.234375 -1.421875 26.90625 -1.421875 \r\nQ 22.3125 -1.421875 17.546875 -0.640625 \r\nQ 12.796875 0.140625 7.71875 1.703125 \r\nL 7.71875 11.625 \r\nQ 12.109375 9.234375 16.796875 8.0625 \r\nQ 21.484375 6.890625 26.703125 6.890625 \r\nQ 35.15625 6.890625 40.078125 11.328125 \r\nQ 45.015625 15.765625 45.015625 23.390625 \r\nQ 45.015625 31 40.078125 35.4375 \r\nQ 35.15625 39.890625 26.703125 39.890625 \r\nQ 22.75 39.890625 18.8125 39.015625 \r\nQ 14.890625 38.140625 10.796875 36.28125 \r\nz\r\n\" id=\"DejaVuSans-53\"/>\r\n       </defs>\r\n       <use xlink:href=\"#DejaVuSans-53\"/>\r\n      </g>\r\n     </g>\r\n    </g>\r\n    <g id=\"xtick_7\">\r\n     <g id=\"line2d_7\">\r\n      <g>\r\n       <use style=\"stroke:#000000;stroke-width:0.8;\" x=\"315.096198\" xlink:href=\"#m89f49abb23\" y=\"239.758125\"/>\r\n      </g>\r\n     </g>\r\n     <g id=\"text_7\">\r\n      <!-- 6 -->\r\n      <g transform=\"translate(317.855573 253.120625)rotate(-90)scale(0.1 -0.1)\">\r\n       <defs>\r\n        <path d=\"M 33.015625 40.375 \r\nQ 26.375 40.375 22.484375 35.828125 \r\nQ 18.609375 31.296875 18.609375 23.390625 \r\nQ 18.609375 15.53125 22.484375 10.953125 \r\nQ 26.375 6.390625 33.015625 6.390625 \r\nQ 39.65625 6.390625 43.53125 10.953125 \r\nQ 47.40625 15.53125 47.40625 23.390625 \r\nQ 47.40625 31.296875 43.53125 35.828125 \r\nQ 39.65625 40.375 33.015625 40.375 \r\nz\r\nM 52.59375 71.296875 \r\nL 52.59375 62.3125 \r\nQ 48.875 64.0625 45.09375 64.984375 \r\nQ 41.3125 65.921875 37.59375 65.921875 \r\nQ 27.828125 65.921875 22.671875 59.328125 \r\nQ 17.53125 52.734375 16.796875 39.40625 \r\nQ 19.671875 43.65625 24.015625 45.921875 \r\nQ 28.375 48.1875 33.59375 48.1875 \r\nQ 44.578125 48.1875 50.953125 41.515625 \r\nQ 57.328125 34.859375 57.328125 23.390625 \r\nQ 57.328125 12.15625 50.6875 5.359375 \r\nQ 44.046875 -1.421875 33.015625 -1.421875 \r\nQ 20.359375 -1.421875 13.671875 8.265625 \r\nQ 6.984375 17.96875 6.984375 36.375 \r\nQ 6.984375 53.65625 15.1875 63.9375 \r\nQ 23.390625 74.21875 37.203125 74.21875 \r\nQ 40.921875 74.21875 44.703125 73.484375 \r\nQ 48.484375 72.75 52.59375 71.296875 \r\nz\r\n\" id=\"DejaVuSans-54\"/>\r\n       </defs>\r\n       <use xlink:href=\"#DejaVuSans-54\"/>\r\n      </g>\r\n     </g>\r\n    </g>\r\n    <g id=\"xtick_8\">\r\n     <g id=\"line2d_8\">\r\n      <g>\r\n       <use style=\"stroke:#000000;stroke-width:0.8;\" x=\"354.117177\" xlink:href=\"#m89f49abb23\" y=\"239.758125\"/>\r\n      </g>\r\n     </g>\r\n     <g id=\"text_8\">\r\n      <!-- 7 -->\r\n      <g transform=\"translate(356.876552 253.120625)rotate(-90)scale(0.1 -0.1)\">\r\n       <defs>\r\n        <path d=\"M 8.203125 72.90625 \r\nL 55.078125 72.90625 \r\nL 55.078125 68.703125 \r\nL 28.609375 0 \r\nL 18.3125 0 \r\nL 43.21875 64.59375 \r\nL 8.203125 64.59375 \r\nz\r\n\" id=\"DejaVuSans-55\"/>\r\n       </defs>\r\n       <use xlink:href=\"#DejaVuSans-55\"/>\r\n      </g>\r\n     </g>\r\n    </g>\r\n    <g id=\"text_9\">\r\n     <!-- variables names -->\r\n     <g transform=\"translate(176.39375 264.719062)scale(0.1 -0.1)\">\r\n      <defs>\r\n       <path d=\"M 2.984375 54.6875 \r\nL 12.5 54.6875 \r\nL 29.59375 8.796875 \r\nL 46.6875 54.6875 \r\nL 56.203125 54.6875 \r\nL 35.6875 0 \r\nL 23.484375 0 \r\nz\r\n\" id=\"DejaVuSans-118\"/>\r\n       <path d=\"M 34.28125 27.484375 \r\nQ 23.390625 27.484375 19.1875 25 \r\nQ 14.984375 22.515625 14.984375 16.5 \r\nQ 14.984375 11.71875 18.140625 8.90625 \r\nQ 21.296875 6.109375 26.703125 6.109375 \r\nQ 34.1875 6.109375 38.703125 11.40625 \r\nQ 43.21875 16.703125 43.21875 25.484375 \r\nL 43.21875 27.484375 \r\nz\r\nM 52.203125 31.203125 \r\nL 52.203125 0 \r\nL 43.21875 0 \r\nL 43.21875 8.296875 \r\nQ 40.140625 3.328125 35.546875 0.953125 \r\nQ 30.953125 -1.421875 24.3125 -1.421875 \r\nQ 15.921875 -1.421875 10.953125 3.296875 \r\nQ 6 8.015625 6 15.921875 \r\nQ 6 25.140625 12.171875 29.828125 \r\nQ 18.359375 34.515625 30.609375 34.515625 \r\nL 43.21875 34.515625 \r\nL 43.21875 35.40625 \r\nQ 43.21875 41.609375 39.140625 45 \r\nQ 35.0625 48.390625 27.6875 48.390625 \r\nQ 23 48.390625 18.546875 47.265625 \r\nQ 14.109375 46.140625 10.015625 43.890625 \r\nL 10.015625 52.203125 \r\nQ 14.9375 54.109375 19.578125 55.046875 \r\nQ 24.21875 56 28.609375 56 \r\nQ 40.484375 56 46.34375 49.84375 \r\nQ 52.203125 43.703125 52.203125 31.203125 \r\nz\r\n\" id=\"DejaVuSans-97\"/>\r\n       <path d=\"M 41.109375 46.296875 \r\nQ 39.59375 47.171875 37.8125 47.578125 \r\nQ 36.03125 48 33.890625 48 \r\nQ 26.265625 48 22.1875 43.046875 \r\nQ 18.109375 38.09375 18.109375 28.8125 \r\nL 18.109375 0 \r\nL 9.078125 0 \r\nL 9.078125 54.6875 \r\nL 18.109375 54.6875 \r\nL 18.109375 46.1875 \r\nQ 20.953125 51.171875 25.484375 53.578125 \r\nQ 30.03125 56 36.53125 56 \r\nQ 37.453125 56 38.578125 55.875 \r\nQ 39.703125 55.765625 41.0625 55.515625 \r\nz\r\n\" id=\"DejaVuSans-114\"/>\r\n       <path d=\"M 9.421875 54.6875 \r\nL 18.40625 54.6875 \r\nL 18.40625 0 \r\nL 9.421875 0 \r\nz\r\nM 9.421875 75.984375 \r\nL 18.40625 75.984375 \r\nL 18.40625 64.59375 \r\nL 9.421875 64.59375 \r\nz\r\n\" id=\"DejaVuSans-105\"/>\r\n       <path d=\"M 48.6875 27.296875 \r\nQ 48.6875 37.203125 44.609375 42.84375 \r\nQ 40.53125 48.484375 33.40625 48.484375 \r\nQ 26.265625 48.484375 22.1875 42.84375 \r\nQ 18.109375 37.203125 18.109375 27.296875 \r\nQ 18.109375 17.390625 22.1875 11.75 \r\nQ 26.265625 6.109375 33.40625 6.109375 \r\nQ 40.53125 6.109375 44.609375 11.75 \r\nQ 48.6875 17.390625 48.6875 27.296875 \r\nz\r\nM 18.109375 46.390625 \r\nQ 20.953125 51.265625 25.265625 53.625 \r\nQ 29.59375 56 35.59375 56 \r\nQ 45.5625 56 51.78125 48.09375 \r\nQ 58.015625 40.1875 58.015625 27.296875 \r\nQ 58.015625 14.40625 51.78125 6.484375 \r\nQ 45.5625 -1.421875 35.59375 -1.421875 \r\nQ 29.59375 -1.421875 25.265625 0.953125 \r\nQ 20.953125 3.328125 18.109375 8.203125 \r\nL 18.109375 0 \r\nL 9.078125 0 \r\nL 9.078125 75.984375 \r\nL 18.109375 75.984375 \r\nz\r\n\" id=\"DejaVuSans-98\"/>\r\n       <path d=\"M 9.421875 75.984375 \r\nL 18.40625 75.984375 \r\nL 18.40625 0 \r\nL 9.421875 0 \r\nz\r\n\" id=\"DejaVuSans-108\"/>\r\n       <path d=\"M 56.203125 29.59375 \r\nL 56.203125 25.203125 \r\nL 14.890625 25.203125 \r\nQ 15.484375 15.921875 20.484375 11.0625 \r\nQ 25.484375 6.203125 34.421875 6.203125 \r\nQ 39.59375 6.203125 44.453125 7.46875 \r\nQ 49.3125 8.734375 54.109375 11.28125 \r\nL 54.109375 2.78125 \r\nQ 49.265625 0.734375 44.1875 -0.34375 \r\nQ 39.109375 -1.421875 33.890625 -1.421875 \r\nQ 20.796875 -1.421875 13.15625 6.1875 \r\nQ 5.515625 13.8125 5.515625 26.8125 \r\nQ 5.515625 40.234375 12.765625 48.109375 \r\nQ 20.015625 56 32.328125 56 \r\nQ 43.359375 56 49.78125 48.890625 \r\nQ 56.203125 41.796875 56.203125 29.59375 \r\nz\r\nM 47.21875 32.234375 \r\nQ 47.125 39.59375 43.09375 43.984375 \r\nQ 39.0625 48.390625 32.421875 48.390625 \r\nQ 24.90625 48.390625 20.390625 44.140625 \r\nQ 15.875 39.890625 15.1875 32.171875 \r\nz\r\n\" id=\"DejaVuSans-101\"/>\r\n       <path d=\"M 44.28125 53.078125 \r\nL 44.28125 44.578125 \r\nQ 40.484375 46.53125 36.375 47.5 \r\nQ 32.28125 48.484375 27.875 48.484375 \r\nQ 21.1875 48.484375 17.84375 46.4375 \r\nQ 14.5 44.390625 14.5 40.28125 \r\nQ 14.5 37.15625 16.890625 35.375 \r\nQ 19.28125 33.59375 26.515625 31.984375 \r\nL 29.59375 31.296875 \r\nQ 39.15625 29.25 43.1875 25.515625 \r\nQ 47.21875 21.78125 47.21875 15.09375 \r\nQ 47.21875 7.46875 41.1875 3.015625 \r\nQ 35.15625 -1.421875 24.609375 -1.421875 \r\nQ 20.21875 -1.421875 15.453125 -0.5625 \r\nQ 10.6875 0.296875 5.421875 2 \r\nL 5.421875 11.28125 \r\nQ 10.40625 8.6875 15.234375 7.390625 \r\nQ 20.0625 6.109375 24.8125 6.109375 \r\nQ 31.15625 6.109375 34.5625 8.28125 \r\nQ 37.984375 10.453125 37.984375 14.40625 \r\nQ 37.984375 18.0625 35.515625 20.015625 \r\nQ 33.0625 21.96875 24.703125 23.78125 \r\nL 21.578125 24.515625 \r\nQ 13.234375 26.265625 9.515625 29.90625 \r\nQ 5.8125 33.546875 5.8125 39.890625 \r\nQ 5.8125 47.609375 11.28125 51.796875 \r\nQ 16.75 56 26.8125 56 \r\nQ 31.78125 56 36.171875 55.265625 \r\nQ 40.578125 54.546875 44.28125 53.078125 \r\nz\r\n\" id=\"DejaVuSans-115\"/>\r\n       <path id=\"DejaVuSans-32\"/>\r\n       <path d=\"M 54.890625 33.015625 \r\nL 54.890625 0 \r\nL 45.90625 0 \r\nL 45.90625 32.71875 \r\nQ 45.90625 40.484375 42.875 44.328125 \r\nQ 39.84375 48.1875 33.796875 48.1875 \r\nQ 26.515625 48.1875 22.3125 43.546875 \r\nQ 18.109375 38.921875 18.109375 30.90625 \r\nL 18.109375 0 \r\nL 9.078125 0 \r\nL 9.078125 54.6875 \r\nL 18.109375 54.6875 \r\nL 18.109375 46.1875 \r\nQ 21.34375 51.125 25.703125 53.5625 \r\nQ 30.078125 56 35.796875 56 \r\nQ 45.21875 56 50.046875 50.171875 \r\nQ 54.890625 44.34375 54.890625 33.015625 \r\nz\r\n\" id=\"DejaVuSans-110\"/>\r\n       <path d=\"M 52 44.1875 \r\nQ 55.375 50.25 60.0625 53.125 \r\nQ 64.75 56 71.09375 56 \r\nQ 79.640625 56 84.28125 50.015625 \r\nQ 88.921875 44.046875 88.921875 33.015625 \r\nL 88.921875 0 \r\nL 79.890625 0 \r\nL 79.890625 32.71875 \r\nQ 79.890625 40.578125 77.09375 44.375 \r\nQ 74.3125 48.1875 68.609375 48.1875 \r\nQ 61.625 48.1875 57.5625 43.546875 \r\nQ 53.515625 38.921875 53.515625 30.90625 \r\nL 53.515625 0 \r\nL 44.484375 0 \r\nL 44.484375 32.71875 \r\nQ 44.484375 40.625 41.703125 44.40625 \r\nQ 38.921875 48.1875 33.109375 48.1875 \r\nQ 26.21875 48.1875 22.15625 43.53125 \r\nQ 18.109375 38.875 18.109375 30.90625 \r\nL 18.109375 0 \r\nL 9.078125 0 \r\nL 9.078125 54.6875 \r\nL 18.109375 54.6875 \r\nL 18.109375 46.1875 \r\nQ 21.1875 51.21875 25.484375 53.609375 \r\nQ 29.78125 56 35.6875 56 \r\nQ 41.65625 56 45.828125 52.96875 \r\nQ 50 49.953125 52 44.1875 \r\nz\r\n\" id=\"DejaVuSans-109\"/>\r\n      </defs>\r\n      <use xlink:href=\"#DejaVuSans-118\"/>\r\n      <use x=\"59.179688\" xlink:href=\"#DejaVuSans-97\"/>\r\n      <use x=\"120.458984\" xlink:href=\"#DejaVuSans-114\"/>\r\n      <use x=\"161.572266\" xlink:href=\"#DejaVuSans-105\"/>\r\n      <use x=\"189.355469\" xlink:href=\"#DejaVuSans-97\"/>\r\n      <use x=\"250.634766\" xlink:href=\"#DejaVuSans-98\"/>\r\n      <use x=\"314.111328\" xlink:href=\"#DejaVuSans-108\"/>\r\n      <use x=\"341.894531\" xlink:href=\"#DejaVuSans-101\"/>\r\n      <use x=\"403.417969\" xlink:href=\"#DejaVuSans-115\"/>\r\n      <use x=\"455.517578\" xlink:href=\"#DejaVuSans-32\"/>\r\n      <use x=\"487.304688\" xlink:href=\"#DejaVuSans-110\"/>\r\n      <use x=\"550.683594\" xlink:href=\"#DejaVuSans-97\"/>\r\n      <use x=\"611.962891\" xlink:href=\"#DejaVuSans-109\"/>\r\n      <use x=\"709.375\" xlink:href=\"#DejaVuSans-101\"/>\r\n      <use x=\"770.898438\" xlink:href=\"#DejaVuSans-115\"/>\r\n     </g>\r\n    </g>\r\n   </g>\r\n   <g id=\"matplotlib.axis_2\">\r\n    <g id=\"ytick_1\">\r\n     <g id=\"line2d_9\">\r\n      <defs>\r\n       <path d=\"M 0 0 \r\nL -3.5 0 \r\n\" id=\"maeab5dd661\" style=\"stroke:#000000;stroke-width:0.8;\"/>\r\n      </defs>\r\n      <g>\r\n       <use style=\"stroke:#000000;stroke-width:0.8;\" x=\"50.14375\" xlink:href=\"#maeab5dd661\" y=\"239.758125\"/>\r\n      </g>\r\n     </g>\r\n     <g id=\"text_10\">\r\n      <!-- 0.00 -->\r\n      <g transform=\"translate(20.878125 243.557344)scale(0.1 -0.1)\">\r\n       <defs>\r\n        <path d=\"M 10.6875 12.40625 \r\nL 21 12.40625 \r\nL 21 0 \r\nL 10.6875 0 \r\nz\r\n\" id=\"DejaVuSans-46\"/>\r\n       </defs>\r\n       <use xlink:href=\"#DejaVuSans-48\"/>\r\n       <use x=\"63.623047\" xlink:href=\"#DejaVuSans-46\"/>\r\n       <use x=\"95.410156\" xlink:href=\"#DejaVuSans-48\"/>\r\n       <use x=\"159.033203\" xlink:href=\"#DejaVuSans-48\"/>\r\n      </g>\r\n     </g>\r\n    </g>\r\n    <g id=\"ytick_2\">\r\n     <g id=\"line2d_10\">\r\n      <g>\r\n       <use style=\"stroke:#000000;stroke-width:0.8;\" x=\"50.14375\" xlink:href=\"#maeab5dd661\" y=\"204.469167\"/>\r\n      </g>\r\n     </g>\r\n     <g id=\"text_11\">\r\n      <!-- 0.01 -->\r\n      <g transform=\"translate(20.878125 208.268386)scale(0.1 -0.1)\">\r\n       <use xlink:href=\"#DejaVuSans-48\"/>\r\n       <use x=\"63.623047\" xlink:href=\"#DejaVuSans-46\"/>\r\n       <use x=\"95.410156\" xlink:href=\"#DejaVuSans-48\"/>\r\n       <use x=\"159.033203\" xlink:href=\"#DejaVuSans-49\"/>\r\n      </g>\r\n     </g>\r\n    </g>\r\n    <g id=\"ytick_3\">\r\n     <g id=\"line2d_11\">\r\n      <g>\r\n       <use style=\"stroke:#000000;stroke-width:0.8;\" x=\"50.14375\" xlink:href=\"#maeab5dd661\" y=\"169.180209\"/>\r\n      </g>\r\n     </g>\r\n     <g id=\"text_12\">\r\n      <!-- 0.02 -->\r\n      <g transform=\"translate(20.878125 172.979427)scale(0.1 -0.1)\">\r\n       <use xlink:href=\"#DejaVuSans-48\"/>\r\n       <use x=\"63.623047\" xlink:href=\"#DejaVuSans-46\"/>\r\n       <use x=\"95.410156\" xlink:href=\"#DejaVuSans-48\"/>\r\n       <use x=\"159.033203\" xlink:href=\"#DejaVuSans-50\"/>\r\n      </g>\r\n     </g>\r\n    </g>\r\n    <g id=\"ytick_4\">\r\n     <g id=\"line2d_12\">\r\n      <g>\r\n       <use style=\"stroke:#000000;stroke-width:0.8;\" x=\"50.14375\" xlink:href=\"#maeab5dd661\" y=\"133.89125\"/>\r\n      </g>\r\n     </g>\r\n     <g id=\"text_13\">\r\n      <!-- 0.03 -->\r\n      <g transform=\"translate(20.878125 137.690469)scale(0.1 -0.1)\">\r\n       <use xlink:href=\"#DejaVuSans-48\"/>\r\n       <use x=\"63.623047\" xlink:href=\"#DejaVuSans-46\"/>\r\n       <use x=\"95.410156\" xlink:href=\"#DejaVuSans-48\"/>\r\n       <use x=\"159.033203\" xlink:href=\"#DejaVuSans-51\"/>\r\n      </g>\r\n     </g>\r\n    </g>\r\n    <g id=\"ytick_5\">\r\n     <g id=\"line2d_13\">\r\n      <g>\r\n       <use style=\"stroke:#000000;stroke-width:0.8;\" x=\"50.14375\" xlink:href=\"#maeab5dd661\" y=\"98.602292\"/>\r\n      </g>\r\n     </g>\r\n     <g id=\"text_14\">\r\n      <!-- 0.04 -->\r\n      <g transform=\"translate(20.878125 102.401511)scale(0.1 -0.1)\">\r\n       <use xlink:href=\"#DejaVuSans-48\"/>\r\n       <use x=\"63.623047\" xlink:href=\"#DejaVuSans-46\"/>\r\n       <use x=\"95.410156\" xlink:href=\"#DejaVuSans-48\"/>\r\n       <use x=\"159.033203\" xlink:href=\"#DejaVuSans-52\"/>\r\n      </g>\r\n     </g>\r\n    </g>\r\n    <g id=\"ytick_6\">\r\n     <g id=\"line2d_14\">\r\n      <g>\r\n       <use style=\"stroke:#000000;stroke-width:0.8;\" x=\"50.14375\" xlink:href=\"#maeab5dd661\" y=\"63.313334\"/>\r\n      </g>\r\n     </g>\r\n     <g id=\"text_15\">\r\n      <!-- 0.05 -->\r\n      <g transform=\"translate(20.878125 67.112553)scale(0.1 -0.1)\">\r\n       <use xlink:href=\"#DejaVuSans-48\"/>\r\n       <use x=\"63.623047\" xlink:href=\"#DejaVuSans-46\"/>\r\n       <use x=\"95.410156\" xlink:href=\"#DejaVuSans-48\"/>\r\n       <use x=\"159.033203\" xlink:href=\"#DejaVuSans-53\"/>\r\n      </g>\r\n     </g>\r\n    </g>\r\n    <g id=\"ytick_7\">\r\n     <g id=\"line2d_15\">\r\n      <g>\r\n       <use style=\"stroke:#000000;stroke-width:0.8;\" x=\"50.14375\" xlink:href=\"#maeab5dd661\" y=\"28.024376\"/>\r\n      </g>\r\n     </g>\r\n     <g id=\"text_16\">\r\n      <!-- 0.06 -->\r\n      <g transform=\"translate(20.878125 31.823595)scale(0.1 -0.1)\">\r\n       <use xlink:href=\"#DejaVuSans-48\"/>\r\n       <use x=\"63.623047\" xlink:href=\"#DejaVuSans-46\"/>\r\n       <use x=\"95.410156\" xlink:href=\"#DejaVuSans-48\"/>\r\n       <use x=\"159.033203\" xlink:href=\"#DejaVuSans-54\"/>\r\n      </g>\r\n     </g>\r\n    </g>\r\n    <g id=\"text_17\">\r\n     <!-- missing rate -->\r\n     <g transform=\"translate(14.798438 161.984219)rotate(-90)scale(0.1 -0.1)\">\r\n      <defs>\r\n       <path d=\"M 45.40625 27.984375 \r\nQ 45.40625 37.75 41.375 43.109375 \r\nQ 37.359375 48.484375 30.078125 48.484375 \r\nQ 22.859375 48.484375 18.828125 43.109375 \r\nQ 14.796875 37.75 14.796875 27.984375 \r\nQ 14.796875 18.265625 18.828125 12.890625 \r\nQ 22.859375 7.515625 30.078125 7.515625 \r\nQ 37.359375 7.515625 41.375 12.890625 \r\nQ 45.40625 18.265625 45.40625 27.984375 \r\nz\r\nM 54.390625 6.78125 \r\nQ 54.390625 -7.171875 48.1875 -13.984375 \r\nQ 42 -20.796875 29.203125 -20.796875 \r\nQ 24.46875 -20.796875 20.265625 -20.09375 \r\nQ 16.0625 -19.390625 12.109375 -17.921875 \r\nL 12.109375 -9.1875 \r\nQ 16.0625 -11.328125 19.921875 -12.34375 \r\nQ 23.78125 -13.375 27.78125 -13.375 \r\nQ 36.625 -13.375 41.015625 -8.765625 \r\nQ 45.40625 -4.15625 45.40625 5.171875 \r\nL 45.40625 9.625 \r\nQ 42.625 4.78125 38.28125 2.390625 \r\nQ 33.9375 0 27.875 0 \r\nQ 17.828125 0 11.671875 7.65625 \r\nQ 5.515625 15.328125 5.515625 27.984375 \r\nQ 5.515625 40.671875 11.671875 48.328125 \r\nQ 17.828125 56 27.875 56 \r\nQ 33.9375 56 38.28125 53.609375 \r\nQ 42.625 51.21875 45.40625 46.390625 \r\nL 45.40625 54.6875 \r\nL 54.390625 54.6875 \r\nz\r\n\" id=\"DejaVuSans-103\"/>\r\n       <path d=\"M 18.3125 70.21875 \r\nL 18.3125 54.6875 \r\nL 36.8125 54.6875 \r\nL 36.8125 47.703125 \r\nL 18.3125 47.703125 \r\nL 18.3125 18.015625 \r\nQ 18.3125 11.328125 20.140625 9.421875 \r\nQ 21.96875 7.515625 27.59375 7.515625 \r\nL 36.8125 7.515625 \r\nL 36.8125 0 \r\nL 27.59375 0 \r\nQ 17.1875 0 13.234375 3.875 \r\nQ 9.28125 7.765625 9.28125 18.015625 \r\nL 9.28125 47.703125 \r\nL 2.6875 47.703125 \r\nL 2.6875 54.6875 \r\nL 9.28125 54.6875 \r\nL 9.28125 70.21875 \r\nz\r\n\" id=\"DejaVuSans-116\"/>\r\n      </defs>\r\n      <use xlink:href=\"#DejaVuSans-109\"/>\r\n      <use x=\"97.412109\" xlink:href=\"#DejaVuSans-105\"/>\r\n      <use x=\"125.195312\" xlink:href=\"#DejaVuSans-115\"/>\r\n      <use x=\"177.294922\" xlink:href=\"#DejaVuSans-115\"/>\r\n      <use x=\"229.394531\" xlink:href=\"#DejaVuSans-105\"/>\r\n      <use x=\"257.177734\" xlink:href=\"#DejaVuSans-110\"/>\r\n      <use x=\"320.556641\" xlink:href=\"#DejaVuSans-103\"/>\r\n      <use x=\"384.033203\" xlink:href=\"#DejaVuSans-32\"/>\r\n      <use x=\"415.820312\" xlink:href=\"#DejaVuSans-114\"/>\r\n      <use x=\"456.933594\" xlink:href=\"#DejaVuSans-97\"/>\r\n      <use x=\"518.212891\" xlink:href=\"#DejaVuSans-116\"/>\r\n      <use x=\"557.421875\" xlink:href=\"#DejaVuSans-101\"/>\r\n     </g>\r\n    </g>\r\n   </g>\r\n   <g id=\"patch_11\">\r\n    <path d=\"M 50.14375 239.758125 \r\nL 50.14375 22.318125 \r\n\" style=\"fill:none;stroke:#000000;stroke-linecap:square;stroke-linejoin:miter;stroke-width:0.8;\"/>\r\n   </g>\r\n   <g id=\"patch_12\">\r\n    <path d=\"M 384.94375 239.758125 \r\nL 384.94375 22.318125 \r\n\" style=\"fill:none;stroke:#000000;stroke-linecap:square;stroke-linejoin:miter;stroke-width:0.8;\"/>\r\n   </g>\r\n   <g id=\"patch_13\">\r\n    <path d=\"M 50.14375 239.758125 \r\nL 384.94375 239.758125 \r\n\" style=\"fill:none;stroke:#000000;stroke-linecap:square;stroke-linejoin:miter;stroke-width:0.8;\"/>\r\n   </g>\r\n   <g id=\"patch_14\">\r\n    <path d=\"M 50.14375 22.318125 \r\nL 384.94375 22.318125 \r\n\" style=\"fill:none;stroke:#000000;stroke-linecap:square;stroke-linejoin:miter;stroke-width:0.8;\"/>\r\n   </g>\r\n   <g id=\"text_18\">\r\n    <!-- Histogram of missing value of variables -->\r\n    <g transform=\"translate(98.555313 16.318125)scale(0.12 -0.12)\">\r\n     <defs>\r\n      <path d=\"M 9.8125 72.90625 \r\nL 19.671875 72.90625 \r\nL 19.671875 43.015625 \r\nL 55.515625 43.015625 \r\nL 55.515625 72.90625 \r\nL 65.375 72.90625 \r\nL 65.375 0 \r\nL 55.515625 0 \r\nL 55.515625 34.71875 \r\nL 19.671875 34.71875 \r\nL 19.671875 0 \r\nL 9.8125 0 \r\nz\r\n\" id=\"DejaVuSans-72\"/>\r\n      <path d=\"M 30.609375 48.390625 \r\nQ 23.390625 48.390625 19.1875 42.75 \r\nQ 14.984375 37.109375 14.984375 27.296875 \r\nQ 14.984375 17.484375 19.15625 11.84375 \r\nQ 23.34375 6.203125 30.609375 6.203125 \r\nQ 37.796875 6.203125 41.984375 11.859375 \r\nQ 46.1875 17.53125 46.1875 27.296875 \r\nQ 46.1875 37.015625 41.984375 42.703125 \r\nQ 37.796875 48.390625 30.609375 48.390625 \r\nz\r\nM 30.609375 56 \r\nQ 42.328125 56 49.015625 48.375 \r\nQ 55.71875 40.765625 55.71875 27.296875 \r\nQ 55.71875 13.875 49.015625 6.21875 \r\nQ 42.328125 -1.421875 30.609375 -1.421875 \r\nQ 18.84375 -1.421875 12.171875 6.21875 \r\nQ 5.515625 13.875 5.515625 27.296875 \r\nQ 5.515625 40.765625 12.171875 48.375 \r\nQ 18.84375 56 30.609375 56 \r\nz\r\n\" id=\"DejaVuSans-111\"/>\r\n      <path d=\"M 37.109375 75.984375 \r\nL 37.109375 68.5 \r\nL 28.515625 68.5 \r\nQ 23.6875 68.5 21.796875 66.546875 \r\nQ 19.921875 64.59375 19.921875 59.515625 \r\nL 19.921875 54.6875 \r\nL 34.71875 54.6875 \r\nL 34.71875 47.703125 \r\nL 19.921875 47.703125 \r\nL 19.921875 0 \r\nL 10.890625 0 \r\nL 10.890625 47.703125 \r\nL 2.296875 47.703125 \r\nL 2.296875 54.6875 \r\nL 10.890625 54.6875 \r\nL 10.890625 58.5 \r\nQ 10.890625 67.625 15.140625 71.796875 \r\nQ 19.390625 75.984375 28.609375 75.984375 \r\nz\r\n\" id=\"DejaVuSans-102\"/>\r\n      <path d=\"M 8.5 21.578125 \r\nL 8.5 54.6875 \r\nL 17.484375 54.6875 \r\nL 17.484375 21.921875 \r\nQ 17.484375 14.15625 20.5 10.265625 \r\nQ 23.53125 6.390625 29.59375 6.390625 \r\nQ 36.859375 6.390625 41.078125 11.03125 \r\nQ 45.3125 15.671875 45.3125 23.6875 \r\nL 45.3125 54.6875 \r\nL 54.296875 54.6875 \r\nL 54.296875 0 \r\nL 45.3125 0 \r\nL 45.3125 8.40625 \r\nQ 42.046875 3.421875 37.71875 1 \r\nQ 33.40625 -1.421875 27.6875 -1.421875 \r\nQ 18.265625 -1.421875 13.375 4.4375 \r\nQ 8.5 10.296875 8.5 21.578125 \r\nz\r\nM 31.109375 56 \r\nz\r\n\" id=\"DejaVuSans-117\"/>\r\n     </defs>\r\n     <use xlink:href=\"#DejaVuSans-72\"/>\r\n     <use x=\"75.195312\" xlink:href=\"#DejaVuSans-105\"/>\r\n     <use x=\"102.978516\" xlink:href=\"#DejaVuSans-115\"/>\r\n     <use x=\"155.078125\" xlink:href=\"#DejaVuSans-116\"/>\r\n     <use x=\"194.287109\" xlink:href=\"#DejaVuSans-111\"/>\r\n     <use x=\"255.46875\" xlink:href=\"#DejaVuSans-103\"/>\r\n     <use x=\"318.945312\" xlink:href=\"#DejaVuSans-114\"/>\r\n     <use x=\"360.058594\" xlink:href=\"#DejaVuSans-97\"/>\r\n     <use x=\"421.337891\" xlink:href=\"#DejaVuSans-109\"/>\r\n     <use x=\"518.75\" xlink:href=\"#DejaVuSans-32\"/>\r\n     <use x=\"550.537109\" xlink:href=\"#DejaVuSans-111\"/>\r\n     <use x=\"611.71875\" xlink:href=\"#DejaVuSans-102\"/>\r\n     <use x=\"646.923828\" xlink:href=\"#DejaVuSans-32\"/>\r\n     <use x=\"678.710938\" xlink:href=\"#DejaVuSans-109\"/>\r\n     <use x=\"776.123047\" xlink:href=\"#DejaVuSans-105\"/>\r\n     <use x=\"803.90625\" xlink:href=\"#DejaVuSans-115\"/>\r\n     <use x=\"856.005859\" xlink:href=\"#DejaVuSans-115\"/>\r\n     <use x=\"908.105469\" xlink:href=\"#DejaVuSans-105\"/>\r\n     <use x=\"935.888672\" xlink:href=\"#DejaVuSans-110\"/>\r\n     <use x=\"999.267578\" xlink:href=\"#DejaVuSans-103\"/>\r\n     <use x=\"1062.744141\" xlink:href=\"#DejaVuSans-32\"/>\r\n     <use x=\"1094.53125\" xlink:href=\"#DejaVuSans-118\"/>\r\n     <use x=\"1153.710938\" xlink:href=\"#DejaVuSans-97\"/>\r\n     <use x=\"1214.990234\" xlink:href=\"#DejaVuSans-108\"/>\r\n     <use x=\"1242.773438\" xlink:href=\"#DejaVuSans-117\"/>\r\n     <use x=\"1306.152344\" xlink:href=\"#DejaVuSans-101\"/>\r\n     <use x=\"1367.675781\" xlink:href=\"#DejaVuSans-32\"/>\r\n     <use x=\"1399.462891\" xlink:href=\"#DejaVuSans-111\"/>\r\n     <use x=\"1460.644531\" xlink:href=\"#DejaVuSans-102\"/>\r\n     <use x=\"1495.849609\" xlink:href=\"#DejaVuSans-32\"/>\r\n     <use x=\"1527.636719\" xlink:href=\"#DejaVuSans-118\"/>\r\n     <use x=\"1586.816406\" xlink:href=\"#DejaVuSans-97\"/>\r\n     <use x=\"1648.095703\" xlink:href=\"#DejaVuSans-114\"/>\r\n     <use x=\"1689.208984\" xlink:href=\"#DejaVuSans-105\"/>\r\n     <use x=\"1716.992188\" xlink:href=\"#DejaVuSans-97\"/>\r\n     <use x=\"1778.271484\" xlink:href=\"#DejaVuSans-98\"/>\r\n     <use x=\"1841.748047\" xlink:href=\"#DejaVuSans-108\"/>\r\n     <use x=\"1869.53125\" xlink:href=\"#DejaVuSans-101\"/>\r\n     <use x=\"1931.054688\" xlink:href=\"#DejaVuSans-115\"/>\r\n    </g>\r\n   </g>\r\n  </g>\r\n </g>\r\n <defs>\r\n  <clipPath id=\"pfa75de71da\">\r\n   <rect height=\"217.44\" width=\"334.8\" x=\"50.14375\" y=\"22.318125\"/>\r\n  </clipPath>\r\n </defs>\r\n</svg>\r\n",
      "image/png": "[encoded data removed]"
     },
     "metadata": {
      "needs_background": "light"
     }
    }
   ],
   "source": [
    "num_cols=['WIP_QTY','NO_HOLD_QTY','M','U','PT','UP_TIME','EQP_UTIL','TC','CS','AI','C_AI']\n",
    "missData(df_train)"
   ]
  },
  {
   "cell_type": "code",
   "execution_count": 71,
   "metadata": {},
   "outputs": [
    {
     "output_type": "stream",
     "name": "stdout",
     "text": [
      "<class 'pandas.core.frame.DataFrame'>\nRangeIndex: 120018 entries, 0 to 120017\nData columns (total 14 columns):\n #   Column       Non-Null Count   Dtype  \n---  ------       --------------   -----  \n 0   MFG_DATE     120018 non-null  int64  \n 1   TOOLG_ID     120018 non-null  object \n 2   WIP_QTY      120018 non-null  float64\n 3   NO_HOLD_QTY  120018 non-null  float64\n 4   MOVE_QTY     120018 non-null  float64\n 5   M            118540 non-null  float64\n 6   U            118442 non-null  float64\n 7   PT           120018 non-null  float64\n 8   UP_TIME      118540 non-null  float64\n 9   EQP_UTIL     118540 non-null  float64\n 10  TC           115972 non-null  float64\n 11  CS           115972 non-null  float64\n 12  AI           113521 non-null  float64\n 13  C_AI         112975 non-null  float64\ndtypes: float64(12), int64(1), object(1)\nmemory usage: 12.8+ MB\n"
     ]
    }
   ],
   "source": [
    "#df_train['Finish']=np.where(df_train['TOOLG_ID_NEXT'].isnull(), 1, 0).astype(str)\n",
    "#df_train['WEEKDAY']=pd.to_datetime(df_train['MFG_DATE'],format='%Y%m%d').dt.day_name()\n",
    " \n",
    "df_train.info()"
   ]
  },
  {
   "cell_type": "code",
   "execution_count": 72,
   "metadata": {},
   "outputs": [],
   "source": [
    "#df_traindf_trainpd.to_datetime(df_train['MFG_DATE'],format='%Y%m%d').dt.day_name()"
   ]
  },
  {
   "cell_type": "code",
   "execution_count": 73,
   "metadata": {},
   "outputs": [
    {
     "output_type": "execute_result",
     "data": {
      "text/plain": [
       "   MFG_DATE    TOOLG_ID  WIP_QTY  NO_HOLD_QTY  MOVE_QTY     M         U  \\\n",
       "0  20200122      CI_STI   1672.0       1500.0    3371.0   5.0  0.475904   \n",
       "1  20200122  DGM_AM_350    377.0        324.0    2294.0  10.0  0.707514   \n",
       "2  20200122      DI_PSG      0.0          0.0     125.0   2.0  0.500000   \n",
       "3  20200122      DN_SiN    131.0        125.0    1381.0   4.0  0.782313   \n",
       "4  20200122      DO_SOD     13.0         12.0     706.0   2.0  1.000000   \n",
       "\n",
       "             PT   UP_TIME  EQP_UTIL        TC        CS          AI      C_AI  \n",
       "0   4910.234940  0.956914  0.989448  0.382283  0.354976  159.375000  0.836586  \n",
       "1   4017.560694  0.839097  0.979897  0.264591  0.256043  101.791667  0.629749  \n",
       "2  16531.000000  0.986675  0.375072  0.052413  0.298198   12.250000  1.361144  \n",
       "3   2056.897959  0.982981  0.779669  0.477650  0.373563   51.291667  1.101988  \n",
       "4   1750.037736  0.909998  0.460758  0.278303  0.183449   25.250000  3.147461  "
      ],
      "text/html": "<div>\n<style scoped>\n    .dataframe tbody tr th:only-of-type {\n        vertical-align: middle;\n    }\n\n    .dataframe tbody tr th {\n        vertical-align: top;\n    }\n\n    .dataframe thead th {\n        text-align: right;\n    }\n</style>\n<table border=\"1\" class=\"dataframe\">\n  <thead>\n    <tr style=\"text-align: right;\">\n      <th></th>\n      <th>MFG_DATE</th>\n      <th>TOOLG_ID</th>\n      <th>WIP_QTY</th>\n      <th>NO_HOLD_QTY</th>\n      <th>MOVE_QTY</th>\n      <th>M</th>\n      <th>U</th>\n      <th>PT</th>\n      <th>UP_TIME</th>\n      <th>EQP_UTIL</th>\n      <th>TC</th>\n      <th>CS</th>\n      <th>AI</th>\n      <th>C_AI</th>\n    </tr>\n  </thead>\n  <tbody>\n    <tr>\n      <th>0</th>\n      <td>20200122</td>\n      <td>CI_STI</td>\n      <td>1672.0</td>\n      <td>1500.0</td>\n      <td>3371.0</td>\n      <td>5.0</td>\n      <td>0.475904</td>\n      <td>4910.234940</td>\n      <td>0.956914</td>\n      <td>0.989448</td>\n      <td>0.382283</td>\n      <td>0.354976</td>\n      <td>159.375000</td>\n      <td>0.836586</td>\n    </tr>\n    <tr>\n      <th>1</th>\n      <td>20200122</td>\n      <td>DGM_AM_350</td>\n      <td>377.0</td>\n      <td>324.0</td>\n      <td>2294.0</td>\n      <td>10.0</td>\n      <td>0.707514</td>\n      <td>4017.560694</td>\n      <td>0.839097</td>\n      <td>0.979897</td>\n      <td>0.264591</td>\n      <td>0.256043</td>\n      <td>101.791667</td>\n      <td>0.629749</td>\n    </tr>\n    <tr>\n      <th>2</th>\n      <td>20200122</td>\n      <td>DI_PSG</td>\n      <td>0.0</td>\n      <td>0.0</td>\n      <td>125.0</td>\n      <td>2.0</td>\n      <td>0.500000</td>\n      <td>16531.000000</td>\n      <td>0.986675</td>\n      <td>0.375072</td>\n      <td>0.052413</td>\n      <td>0.298198</td>\n      <td>12.250000</td>\n      <td>1.361144</td>\n    </tr>\n    <tr>\n      <th>3</th>\n      <td>20200122</td>\n      <td>DN_SiN</td>\n      <td>131.0</td>\n      <td>125.0</td>\n      <td>1381.0</td>\n      <td>4.0</td>\n      <td>0.782313</td>\n      <td>2056.897959</td>\n      <td>0.982981</td>\n      <td>0.779669</td>\n      <td>0.477650</td>\n      <td>0.373563</td>\n      <td>51.291667</td>\n      <td>1.101988</td>\n    </tr>\n    <tr>\n      <th>4</th>\n      <td>20200122</td>\n      <td>DO_SOD</td>\n      <td>13.0</td>\n      <td>12.0</td>\n      <td>706.0</td>\n      <td>2.0</td>\n      <td>1.000000</td>\n      <td>1750.037736</td>\n      <td>0.909998</td>\n      <td>0.460758</td>\n      <td>0.278303</td>\n      <td>0.183449</td>\n      <td>25.250000</td>\n      <td>3.147461</td>\n    </tr>\n  </tbody>\n</table>\n</div>"
     },
     "metadata": {},
     "execution_count": 73
    }
   ],
   "source": [
    "\n",
    "df_train.head()"
   ]
  },
  {
   "cell_type": "code",
   "execution_count": null,
   "metadata": {},
   "outputs": [],
   "source": []
  },
  {
   "cell_type": "code",
   "execution_count": 74,
   "metadata": {},
   "outputs": [
    {
     "output_type": "execute_result",
     "data": {
      "text/plain": [
       "           MFG_DATE        WIP_QTY    NO_HOLD_QTY       MOVE_QTY  \\\n",
       "count  1.200180e+05  120018.000000  120018.000000  120018.000000   \n",
       "mean   2.020204e+07     665.831217     584.163217    5255.925968   \n",
       "std    3.308159e+03    1518.844885    1350.837912   15090.027801   \n",
       "min    2.020012e+07       0.000000       0.000000       0.300000   \n",
       "25%    2.020050e+07      26.000000      25.000000     235.000000   \n",
       "50%    2.020081e+07     152.000000     125.000000     834.000000   \n",
       "75%    2.020112e+07     619.000000     554.000000    2711.875000   \n",
       "max    2.021022e+07   31335.000000   29847.000000  129006.000000   \n",
       "\n",
       "                   M              U             PT        UP_TIME  \\\n",
       "count  118540.000000  118442.000000  120018.000000  118540.000000   \n",
       "mean        6.548169       0.664630    5872.975754       0.921193   \n",
       "std         8.241060       0.296037    6802.255497       0.120564   \n",
       "min         1.000000       0.000000       0.000000       0.000000   \n",
       "25%         2.000000       0.430894    2059.140621       0.888972   \n",
       "50%         3.000000       0.671875    3804.761997       0.970585   \n",
       "75%         8.000000       0.981132    6962.364087       1.000000   \n",
       "max        64.000000       3.000000   96513.000000       1.000000   \n",
       "\n",
       "            EQP_UTIL             TC             CS             AI  \\\n",
       "count  118540.000000  115972.000000  115972.000000  113521.000000   \n",
       "mean        0.624177       0.595742       0.561539     225.856884   \n",
       "std         0.296448       0.993900       0.997925     644.051553   \n",
       "min         0.000000       0.000000       0.000000    -362.083333   \n",
       "25%         0.392431       0.260518       0.220116      11.791667   \n",
       "50%         0.693149       0.400569       0.359979      35.791667   \n",
       "75%         0.886909       0.567120       0.526168     112.208333   \n",
       "max         1.000000      33.466401      33.466401    5440.833333   \n",
       "\n",
       "                C_AI  \n",
       "count  112975.000000  \n",
       "mean        2.640577  \n",
       "std        27.075672  \n",
       "min     -1746.889210  \n",
       "25%         0.816412  \n",
       "50%         1.542316  \n",
       "75%         2.811438  \n",
       "max      2581.985283  "
      ],
      "text/html": "<div>\n<style scoped>\n    .dataframe tbody tr th:only-of-type {\n        vertical-align: middle;\n    }\n\n    .dataframe tbody tr th {\n        vertical-align: top;\n    }\n\n    .dataframe thead th {\n        text-align: right;\n    }\n</style>\n<table border=\"1\" class=\"dataframe\">\n  <thead>\n    <tr style=\"text-align: right;\">\n      <th></th>\n      <th>MFG_DATE</th>\n      <th>WIP_QTY</th>\n      <th>NO_HOLD_QTY</th>\n      <th>MOVE_QTY</th>\n      <th>M</th>\n      <th>U</th>\n      <th>PT</th>\n      <th>UP_TIME</th>\n      <th>EQP_UTIL</th>\n      <th>TC</th>\n      <th>CS</th>\n      <th>AI</th>\n      <th>C_AI</th>\n    </tr>\n  </thead>\n  <tbody>\n    <tr>\n      <th>count</th>\n      <td>1.200180e+05</td>\n      <td>120018.000000</td>\n      <td>120018.000000</td>\n      <td>120018.000000</td>\n      <td>118540.000000</td>\n      <td>118442.000000</td>\n      <td>120018.000000</td>\n      <td>118540.000000</td>\n      <td>118540.000000</td>\n      <td>115972.000000</td>\n      <td>115972.000000</td>\n      <td>113521.000000</td>\n      <td>112975.000000</td>\n    </tr>\n    <tr>\n      <th>mean</th>\n      <td>2.020204e+07</td>\n      <td>665.831217</td>\n      <td>584.163217</td>\n      <td>5255.925968</td>\n      <td>6.548169</td>\n      <td>0.664630</td>\n      <td>5872.975754</td>\n      <td>0.921193</td>\n      <td>0.624177</td>\n      <td>0.595742</td>\n      <td>0.561539</td>\n      <td>225.856884</td>\n      <td>2.640577</td>\n    </tr>\n    <tr>\n      <th>std</th>\n      <td>3.308159e+03</td>\n      <td>1518.844885</td>\n      <td>1350.837912</td>\n      <td>15090.027801</td>\n      <td>8.241060</td>\n      <td>0.296037</td>\n      <td>6802.255497</td>\n      <td>0.120564</td>\n      <td>0.296448</td>\n      <td>0.993900</td>\n      <td>0.997925</td>\n      <td>644.051553</td>\n      <td>27.075672</td>\n    </tr>\n    <tr>\n      <th>min</th>\n      <td>2.020012e+07</td>\n      <td>0.000000</td>\n      <td>0.000000</td>\n      <td>0.300000</td>\n      <td>1.000000</td>\n      <td>0.000000</td>\n      <td>0.000000</td>\n      <td>0.000000</td>\n      <td>0.000000</td>\n      <td>0.000000</td>\n      <td>0.000000</td>\n      <td>-362.083333</td>\n      <td>-1746.889210</td>\n    </tr>\n    <tr>\n      <th>25%</th>\n      <td>2.020050e+07</td>\n      <td>26.000000</td>\n      <td>25.000000</td>\n      <td>235.000000</td>\n      <td>2.000000</td>\n      <td>0.430894</td>\n      <td>2059.140621</td>\n      <td>0.888972</td>\n      <td>0.392431</td>\n      <td>0.260518</td>\n      <td>0.220116</td>\n      <td>11.791667</td>\n      <td>0.816412</td>\n    </tr>\n    <tr>\n      <th>50%</th>\n      <td>2.020081e+07</td>\n      <td>152.000000</td>\n      <td>125.000000</td>\n      <td>834.000000</td>\n      <td>3.000000</td>\n      <td>0.671875</td>\n      <td>3804.761997</td>\n      <td>0.970585</td>\n      <td>0.693149</td>\n      <td>0.400569</td>\n      <td>0.359979</td>\n      <td>35.791667</td>\n      <td>1.542316</td>\n    </tr>\n    <tr>\n      <th>75%</th>\n      <td>2.020112e+07</td>\n      <td>619.000000</td>\n      <td>554.000000</td>\n      <td>2711.875000</td>\n      <td>8.000000</td>\n      <td>0.981132</td>\n      <td>6962.364087</td>\n      <td>1.000000</td>\n      <td>0.886909</td>\n      <td>0.567120</td>\n      <td>0.526168</td>\n      <td>112.208333</td>\n      <td>2.811438</td>\n    </tr>\n    <tr>\n      <th>max</th>\n      <td>2.021022e+07</td>\n      <td>31335.000000</td>\n      <td>29847.000000</td>\n      <td>129006.000000</td>\n      <td>64.000000</td>\n      <td>3.000000</td>\n      <td>96513.000000</td>\n      <td>1.000000</td>\n      <td>1.000000</td>\n      <td>33.466401</td>\n      <td>33.466401</td>\n      <td>5440.833333</td>\n      <td>2581.985283</td>\n    </tr>\n  </tbody>\n</table>\n</div>"
     },
     "metadata": {},
     "execution_count": 74
    }
   ],
   "source": [
    "df_train.describe()"
   ]
  },
  {
   "cell_type": "code",
   "execution_count": 75,
   "metadata": {},
   "outputs": [
    {
     "output_type": "stream",
     "name": "stdout",
     "text": [
      "           MFG_DATE        WIP_QTY    NO_HOLD_QTY       MOVE_QTY  \\\ncount  1.085980e+05  108598.000000  108598.000000  108598.000000   \nmean   2.020204e+07     733.056944     643.897668    5635.953284   \nstd    3.312451e+03    1580.246726    1405.950742   15757.893965   \nmin    2.020012e+07       0.000000       0.000000       0.600000   \n25%    2.020050e+07      50.000000      40.000000     299.000000   \n50%    2.020081e+07     200.000000     170.000000     909.000000   \n75%    2.020112e+07     721.000000     642.000000    2843.000000   \nmax    2.021022e+07   31335.000000   29847.000000  129006.000000   \n\n                   M              U             PT        UP_TIME  \\\ncount  108598.000000  108598.000000  108598.000000  108598.000000   \nmean        6.952246       0.648095    5961.265449       0.919168   \nstd         8.455798       0.294285    6649.364058       0.118686   \nmin         1.000000       0.000000       0.000000       0.000000   \n25%         2.000000       0.410435    2221.049383       0.884840   \n50%         4.000000       0.649704    3906.592711       0.966085   \n75%         8.000000       0.948630    7059.563451       1.000000   \nmax        64.000000       3.000000   74569.000000       1.000000   \n\n            EQP_UTIL             TC             CS             AI  \\\ncount  108598.000000  108598.000000  108598.000000  108598.000000   \nmean        0.648129       0.554672       0.519300     235.508643   \nstd         0.282048       0.884696       0.888051     656.662415   \nmin         0.000000       0.000000       0.000000    -362.083333   \n25%         0.434035       0.265418       0.225004      13.458333   \n50%         0.719205       0.397678       0.356834      38.708333   \n75%         0.894240       0.548810       0.507918     119.583333   \nmax         1.000000      33.466401      33.466401    5440.833333   \n\n                C_AI  \ncount  108598.000000  \nmean        2.563740  \nstd        25.507786  \nmin     -1246.985792  \n25%         0.819984  \n50%         1.523384  \n75%         2.721883  \nmax      2581.985283  \n<class 'pandas.core.frame.DataFrame'>\nInt64Index: 108598 entries, 0 to 120017\nData columns (total 14 columns):\n #   Column       Non-Null Count   Dtype  \n---  ------       --------------   -----  \n 0   MFG_DATE     108598 non-null  int64  \n 1   TOOLG_ID     108598 non-null  object \n 2   WIP_QTY      108598 non-null  float64\n 3   NO_HOLD_QTY  108598 non-null  float64\n 4   MOVE_QTY     108598 non-null  float64\n 5   M            108598 non-null  float64\n 6   U            108598 non-null  float64\n 7   PT           108598 non-null  float64\n 8   UP_TIME      108598 non-null  float64\n 9   EQP_UTIL     108598 non-null  float64\n 10  TC           108598 non-null  float64\n 11  CS           108598 non-null  float64\n 12  AI           108598 non-null  float64\n 13  C_AI         108598 non-null  float64\ndtypes: float64(12), int64(1), object(1)\nmemory usage: 12.4+ MB\nNone\n"
     ]
    }
   ],
   "source": [
    "# 5          M   1478  0.012315\n",
    "# 6          U   1576  0.013131\n",
    "# 8    UP_TIME   1478  0.012315\n",
    "# 9   EQP_UTIL   1478  0.012315\n",
    "# 10        TC   4046  0.033712\n",
    "# 11        CS   4046  0.033712\n",
    "# 12        AI   6497  0.054134\n",
    "# 13      C_AI   7043  0.058683\n",
    "#df_train['TOOLG_ID_NEXT'] = df_train['TOOLG_ID_NEXT'].fillna('NA')\n",
    "# 1. 查看缺失情况\n",
    "# 0.刪除null值\n",
    "df_train['AI'] = df_train['AI'].fillna(df_train['AI'].mean())\n",
    "df_train = df_train.dropna()\n",
    "# # 1. 均值填充\n",
    "# df_train['M'] = df_train['M'].fillna(df_train['M'].mean())\n",
    "# df_train['U'] = df_train['U'].fillna(df_train['U'].mean())\n",
    "# df_train['TC'] = df_train['TC'].fillna(df_train['TC'].mean())\n",
    "# # df_train['CA'] = df_train['CA'].fillna(df_train['CA'].mean())\n",
    "# df_train['CS'] = df_train['CS'].fillna(df_train['CS'].mean())\n",
    "# # df_train['AI'] = df_train['AI'].fillna(df_train['AI'].mean())\n",
    "# df_train['C_AI'] = df_train['C_AI'].fillna(df_train['C_AI'].mean())\n",
    "\n",
    "# # 2.中位数填充\n",
    "\n",
    "# 5          M   1478  0.012315\n",
    "# 6          U   1576  0.013131\n",
    "# 8    UP_TIME   1478  0.012315\n",
    "# 9   EQP_UTIL   1478  0.012315\n",
    "# 10        TC   4046  0.033712\n",
    "# 11        CS   4046  0.033712\n",
    "# 12        AI   6497  0.054134\n",
    "# 13      C_AI   7043  0.058683\n",
    "# cols=['M','U','UP_TIME','EQP_UTIL','TC','CS','C_AI']\n",
    "# for col in cols:\n",
    "#     df_train[col] = df_train[col].fillna(df_train[col].median())\n",
    "# df_train['UP_TIME'] = df_train['UP_TIME'].fillna(df_train['UP_TIME'].median())\n",
    "# df_train['EQP_UTIL'] = df_train['EQP_UTIL'].fillna(df_train['EQP_UTIL'].median())\n",
    "\n",
    "# # 3.众数填充\n",
    "# from sklearn.impute import SimpleImputer\n",
    "\n",
    "# # imputer = Imputer(missing_values =\"NaN\",strategy = \"most_frequent\",axis = 0)\n",
    "# # # imp_mean = SimpleImputer(missing_values = np.nan, strategy=\"most_frequent\",copy=True)\n",
    "# # # df_train_mean = imp_mean.fit_transform(df_train[:'CS'])\n",
    "# # # df_train_mean\n",
    "# # df_train['CS']=imputer.transform(df_train['CS'].reshape(-1,1))\n",
    "# # imputer = SimpleImputer(missing_values =\"nan\",strategy = \"mean\")\n",
    "# # df_train['CS']=imputer.fit_transform(df_train['CS'].values.reshape(-1,1))[:0]\n",
    "# imp = SimpleImputer(strategy=\"most_frequent\")\n",
    "# imp.fit_transform(df_train)\n",
    "\n",
    "print(df_train.describe())\n",
    "print(df_train.info())\n",
    "# strategy參數：可為\"mean\"(平均數[預設])、\"median\"(中位數)、\"most_frequent\"(眾數[可用於填充文字])、\"constant\"(常數[可用於填充文字])\n",
    "# 若使用\"constant\"(常數)進行填補，則需再指定fill_value參數為何值\n",
    "# fill_value = 0：使用0進行填補\n",
    "# copy: 預設為True:創建特徵矩陣的副本 ; 設為False時，會將缺失值直接填補到原本的特徵矩陣中去\n",
    "# X_missing"
   ]
  },
  {
   "cell_type": "code",
   "execution_count": 76,
   "metadata": {},
   "outputs": [
    {
     "output_type": "stream",
     "name": "stdout",
     "text": [
      "MFG_DATE       0\nTOOLG_ID       0\nWIP_QTY        0\nNO_HOLD_QTY    0\nMOVE_QTY       0\nM              0\nU              0\nPT             0\nUP_TIME        0\nEQP_UTIL       0\nTC             0\nCS             0\nAI             0\nC_AI           0\ndtype: int64\n"
     ]
    }
   ],
   "source": [
    "\n",
    "# 1. 查看缺失情况\n",
    "print(df_train.isnull().sum())\n",
    "# print(df_test.isnull().sum())\n",
    "#df_train.dropna() # 刪除null值\n",
    "#df2_test = df2_test.dropna()# 刪除null值\n"
   ]
  },
  {
   "cell_type": "code",
   "execution_count": null,
   "metadata": {},
   "outputs": [],
   "source": []
  },
  {
   "cell_type": "code",
   "execution_count": 77,
   "metadata": {},
   "outputs": [],
   "source": [
    "#df_train[['WIP_QTY2']] = df_train['MOVE_QTY']+df_train['WIP_QTY']\n",
    "# df_train[['ToolPrefix', 'ToolSub']] = df_train['TOOLG_ID'].str.split('_', 1, expand=True)\n",
    "# df_train[['ToolPrefix_NEXT', 'ToolSub_NEXT']] = df_train['TOOLG_ID_NEXT'].str.split('_', 1, expand=True)"
   ]
  },
  {
   "cell_type": "code",
   "execution_count": 78,
   "metadata": {},
   "outputs": [],
   "source": [
    "df_train = df_train.drop(columns=['MFG_DATE','AI']) #'TOOLG_ID',,'TOOLG_ID_NEXT'"
   ]
  },
  {
   "cell_type": "code",
   "execution_count": 79,
   "metadata": {},
   "outputs": [
    {
     "output_type": "stream",
     "name": "stdout",
     "text": [
      "<class 'pandas.core.frame.DataFrame'>\nInt64Index: 108598 entries, 0 to 120017\nData columns (total 12 columns):\n #   Column       Non-Null Count   Dtype  \n---  ------       --------------   -----  \n 0   TOOLG_ID     108598 non-null  object \n 1   WIP_QTY      108598 non-null  float64\n 2   NO_HOLD_QTY  108598 non-null  float64\n 3   MOVE_QTY     108598 non-null  float64\n 4   M            108598 non-null  float64\n 5   U            108598 non-null  float64\n 6   PT           108598 non-null  float64\n 7   UP_TIME      108598 non-null  float64\n 8   EQP_UTIL     108598 non-null  float64\n 9   TC           108598 non-null  float64\n 10  CS           108598 non-null  float64\n 11  C_AI         108598 non-null  float64\ndtypes: float64(11), object(1)\nmemory usage: 10.8+ MB\n"
     ]
    }
   ],
   "source": [
    "df_train.info()"
   ]
  },
  {
   "cell_type": "code",
   "execution_count": 80,
   "metadata": {
    "tags": []
   },
   "outputs": [],
   "source": [
    "#trainModel(df_train,save_model)\n"
   ]
  },
  {
   "cell_type": "code",
   "execution_count": 81,
   "metadata": {},
   "outputs": [],
   "source": [
    "#TestModel(df_train,save_model)"
   ]
  },
  {
   "cell_type": "code",
   "execution_count": 82,
   "metadata": {},
   "outputs": [],
   "source": [
    "# newdf = pd.DataFrame(np.repeat(df.values,3,axis=0))\n",
    "# newdf.columns = df.columns\n",
    "# print(newdf)\n"
   ]
  },
  {
   "cell_type": "code",
   "execution_count": null,
   "metadata": {},
   "outputs": [],
   "source": []
  },
  {
   "cell_type": "code",
   "execution_count": null,
   "metadata": {},
   "outputs": [],
   "source": []
  },
  {
   "cell_type": "code",
   "execution_count": 83,
   "metadata": {},
   "outputs": [],
   "source": [
    "# 'CI_STI', 'DGM_AM_350', 'DI_PSG', 'DN_SiN', 'DO_SOD', 'DS_Logic',\n",
    "#        'DT_BP_G/F', 'DT_O3', 'EA_AsherM', 'EC_1C', 'EC_DK_2F', 'EC_DK1',\n",
    "#        'EC_Flex45_1C', 'EG_LAM_G2', 'EG_PolyEB_CIS', 'EG_PolyEB2',\n",
    "#        'EH_OxEB', 'EK_1G', 'EK_aC', 'CI_ILD', 'CI_IMD', 'DA_BM', 'DB_Pre',\n",
    "#        'DB_TiN', 'DGA_BM_350', 'DI_HDP', 'DK_300', 'DK_550', 'DK_SiN',\n",
    "#        'DM_TiN(ASFD)', 'DR_LampA', 'DT_STI_TD', 'DW_WSi', 'EA_RWK',\n",
    "#        'EB_Asher', 'EC_DK2', 'EC_Flex_38', 'EC_Flex45_F6X', 'EK_aC(JX)',\n",
    "#        'EK_C/F', 'EK_RG', 'EU_Jin_Cu', 'EU_V_Cu', 'EW_3S', 'FAFS_Annl',\n",
    "#        'FD_BS', 'FD_DO', 'FL_NiPt', 'FN_HTO_DK', 'IBH_HiCur', 'IBS_As(H)',\n",
    "#        'ID_HiEnrg', 'MA_Al_175', 'MP_Cu', 'MR_Cu_TD', 'MS_MOCVD',\n",
    "#        'MT_Ti/TiN', 'EC_LDD_Logic', 'EC_Shin_DK40', 'EC_TH_63',\n",
    "#        'EC_Via_20', 'EC_Via_30', 'EC_Via_40', 'EG_Gate_232', 'EG_STI_G5',\n",
    "#        'EH_CP', 'EH_LDD_2N', 'EK_1G_6X', 'EM_AL_Cln', 'EM_AL_FDY',\n",
    "#        'EM_MX_W/O', 'EM_SP55_TM', 'EW_1G', 'EW_BL', 'EW_CP_72',\n",
    "#        'EW_RG_63', 'PE_ChaEsr', 'PG_UVcure', 'PH_Immersion', 'QC_ET',\n",
    "#        'QE_ThkMea', 'QH_XRF', 'QP_Defect', 'QS_SEM', 'RI_AM', 'SC_M.Jet',\n",
    "#        'WAT_TSA', 'WDD_160_G1', 'WDD_160_G2', 'WDS_160_G2', 'WE_HV40',\n",
    "#        'WK_BsEtch', 'WK_Cu', 'WM_PosCln', 'WN_ContactCln', 'FD_Tel',\n",
    "#        'FE_Anneal', 'FG_GOX', 'FH_HT(L)', 'FJ_TD', 'FK_ZAC', 'FL_LT',\n",
    "#        'FM_ALD', 'FM_ALD_SPT', 'FM_SiN(F)', 'FO_TiO', 'FT_119',\n",
    "#        'FX_PadOxi_B', 'IBS_HiCur', 'IBV_HiCur', 'MT_TiN', 'PK_DUVKrF',\n",
    "#        'PU_C/F', 'PU_I-Line', 'CU_Cu', 'DA_AM', 'DB_Ti/SFD', 'DB_Ti/TiN',\n",
    "#        'DC_DCT', 'DC_WCVD', 'DD_BD_Cu', 'DGA_AM_230_LTO', 'DGA_AM_350',\n",
    "#        'DGA_AM_400', 'DM_SFD_480', 'DP_SiN', 'DS_FDY', 'DS_HDP', 'DT_BP',\n",
    "#        'DT_STI', 'EC_3S', 'EC_DK_1G', 'EC_Flex', 'CI_ILD_Eba',\n",
    "#        'CI_STI_Eba', 'CM_W_Eba', 'CM_WCMP', 'CN_N2_Cu', 'DB_Ti',\n",
    "#        'DD_BLOK_Cu', 'DM_SFD_650', 'EA_C/F', 'EC_LDD_Dram', 'EC_LDD_NXP',\n",
    "#        'EC_SAC', 'EC_TH_CIS', 'EG_LAM_Poly', 'EH_PV', 'EH_SR', 'EK_1F_68',\n",
    "#        'EK_1G_SDRM', 'EK_RG_SDRM', 'PW_PIX', 'QA_ADI', 'QA_AEI', 'QA_Cu',\n",
    "#        'QC_CMP', 'QGK_2365', 'QX_Overly', 'QY_D.PC', 'RD_RTO', 'SC_C/F',\n",
    "#        'WC_Crown', 'WD_130', 'WE_Crown', 'WO_SiO2', 'WQ_CeO2', 'WW_Poly',\n",
    "#        'XE_C/F', 'EL_Light_2B', 'EM_AL_Depo', 'EM_MX', 'EM_W/O',\n",
    "#        'EU_TU_Cu', 'EV_BV_AM', 'EV_BV_BM', 'EW_1GBL', 'EW_2S_G5', 'EW_CP',\n",
    "#        'EW_SP(G5)', 'FD_B-Poly', 'FD_TD', 'FE_DK', 'FJ_MLD_OX',\n",
    "#        'FK_LAZO(I)', 'FN_HTO', 'FN_SiN(DRAM)', 'FP_NDPoly', 'FQ_PIQ',\n",
    "#        'MA_Alps', 'MB_Co(H)', 'MB_Co_350', 'MB_PC30', 'MR_Cu', 'PB_BARC',\n",
    "#        'PT_Marker', 'QC_C/F', 'QC_TF', 'QPK_PUMA', 'QW_Cu', 'QW_SEM-ET',\n",
    "#        'RAM_RTA', 'RDA_RTO', 'RE_EPI_ND', 'RI_BM', 'RN_RTN_5P/2N',\n",
    "#        'WA_PreCln', 'WAT Out', 'WAT_TEST', 'WF_DK28', 'WF_LiEtch',\n",
    "#        'WH_CIS', 'WH_EKC', 'WJ_LiEtch', 'WM_PreCln', 'WN_NiPt',\n",
    "#        'WU_W-RMV', 'WW_HF', 'EC_Flex_45', 'EC_TH_45', 'EC_Via(S55)',\n",
    "#        'EG_C/F', 'EG_LAM_G1', 'EG_LDD', 'EG_PolyEB', 'EG_SiN EB',\n",
    "#        'EG_STI_232', 'EG_STI_DPS', 'EH_LDD_SP', 'EH_PI', 'EK_1G05_68',\n",
    "#        'EL_Light', 'EM_AL_AG', 'EN_1F', 'EU_U_Cu', 'EW_4F', 'EW_RG_45',\n",
    "#        'WN_Co-RMV', 'WO_NXP', 'WT_Cu', 'WW_NH4OH', 'WY_DK', 'XE_Cu',\n",
    "#        'XE_Sorter', 'XW_Sorter', 'EW_SP(G2)', 'FC_PadOxi', 'FD_Ge-Poly',\n",
    "#        'FH_HT', 'FH_HT_LCD', 'FI_WHoxid', 'FK_LAHO', 'FK_LAZO(F)',\n",
    "#        'FL_Cu', 'FM_SiN(A)', 'FN_H(F)', 'FN_SiN(A)', 'FN_SiN(F)',\n",
    "#        'FT_148', 'FT_TEOS(F)', 'IA_MidCur', 'MA_Al', 'MB_Co_250',\n",
    "#        'MS_SIP', 'MW_W', 'OTHERS', 'PH_DUVArF', 'PR_Relacs', 'PW_C/F',\n",
    "#        'QA_C/F', 'QC_Cu', 'QF_Wet', 'QG_Defect', 'QU_Mfilm', 'QW_C/F',\n",
    "#        'QW_SEM-PH', 'QZ_Defect', 'RAA_RTA', 'RAA_Spike', 'RAM_Anneal',\n",
    "#        'RN_RTN_1G', 'RS_DK', 'RS_SPA', 'WB_LiEtch', 'WC_SiO2',\n",
    "#        'WE_PreCln', 'WH_DSP', 'WL_Resist', 'EC_Flex45_F7X', 'EM_W/I',\n",
    "#        'RS_TD', 'WDD_SP55', 'MS_NiPt', 'QY_Defect', 'RE_EPI',\n",
    "#        'FT_TEOS(TD)', 'DR_NiPt', 'DD_BD_TD', 'WK_NiPt', 'EW_3SCP',\n",
    "#        'EK_1F_99', 'EC_SCCM_SiNEB', 'EW_2S_DPS', 'DC_WCVD_Cu',\n",
    "#        'EC_Flex(S90)', 'EC_Con', 'RAA_DK', 'EC_SADP_DK28',\n",
    "#        'FI_Whoxid(TD)', 'EK_BL20', 'DK_Li filter', 'FM_ALD(TD)',\n",
    "#        'EC_HV40', 'CP TEST', 'WT Out', 'RS_S55', 'DI_TD', 'DL_TD',\n",
    "#        'WM_SW', 'QD_AFM', 'EK_a-C_S', 'WR_PD_B(NPW)', 'EC_HMO',\n",
    "#        'QV_CVTest', 'QP_PUMA', 'DK_Li Pi', 'EW_RG', 'EA_TD', 'EC_HARC',\n",
    "#        'EK_1S_TD', 'D63FE01A', 'WR_PD_A(NPW)', 'FN_NPW', 'CI_C/F',\n",
    "#        'FD_TD(T92)', 'WH_C/F', 'WH_TD', 'FD_TD(K59)', 'WG_Si', 'MS_Ta2O5',\n",
    "#        'QG_2365', 'DC_400', 'EG_LAM_G3', 'PR_1B', 'FH_H88', 'EW_DK28',\n",
    "#        'DI_HDP_HV80', 'DI_HDP_FSG', 'WF_Certas'"
   ]
  },
  {
   "cell_type": "code",
   "execution_count": 84,
   "metadata": {},
   "outputs": [],
   "source": [
    "# WT Out\n",
    "#df_train_orign.loc[df_train_orign['TOOLG_ID']=='WT Out'].iloc[0].count()\n",
    "# df_train_orign.loc[df_train_orign['TOOLG_ID']=='PR_Relacs'].shape[0]\n",
    "   "
   ]
  },
  {
   "cell_type": "code",
   "execution_count": 85,
   "metadata": {},
   "outputs": [
    {
     "output_type": "execute_result",
     "data": {
      "text/plain": [
       "        MFG_DATE    TOOLG_ID  WIP_QTY  NO_HOLD_QTY  MOVE_QTY     M         U  \\\n",
       "0       20200122      CI_STI   1672.0       1500.0    3371.0   5.0  0.475904   \n",
       "1       20200122  DGM_AM_350    377.0        324.0    2294.0  10.0  0.707514   \n",
       "2       20200122      DI_PSG      0.0          0.0     125.0   2.0  0.500000   \n",
       "3       20200122      DN_SiN    131.0        125.0    1381.0   4.0  0.782313   \n",
       "4       20200122      DO_SOD     13.0         12.0     706.0   2.0  1.000000   \n",
       "...          ...         ...      ...          ...       ...   ...       ...   \n",
       "120013  20210225    MS_MOCVD      8.0          6.0     363.0   7.0  0.439232   \n",
       "120014  20210225      MS_SIP    590.0        584.0    5554.0  43.0  0.528306   \n",
       "120015  20210225        MW_W    113.0         62.0     698.0   6.0  0.945887   \n",
       "120016  20210225      OTHERS   2256.0       1290.0    1066.0   3.0  0.006944   \n",
       "120017  20210225   PH_DUVArF   4286.0       3709.0    9114.0  11.0  0.185234   \n",
       "\n",
       "                  PT   UP_TIME  EQP_UTIL        TC        CS          AI  \\\n",
       "0        4910.234940  0.956914  0.989448  0.382283  0.354976  159.375000   \n",
       "1        4017.560694  0.839097  0.979897  0.264591  0.256043  101.791667   \n",
       "2       16531.000000  0.986675  0.375072  0.052413  0.298198   12.250000   \n",
       "3        2056.897959  0.982981  0.779669  0.477650  0.373563   51.291667   \n",
       "4        1750.037736  0.909998  0.460758  0.278303  0.183449   25.250000   \n",
       "...              ...       ...       ...       ...       ...         ...   \n",
       "120013   5021.179104  0.632350  0.625828  0.524524  0.522686   11.208333   \n",
       "120014   4330.552448  0.829726  0.917537  0.405158  0.369477  210.916667   \n",
       "120015   1813.207792  0.772282  0.315648  0.436300  0.157383   29.583333   \n",
       "120016     30.812500  0.666667  0.007022  4.954711  4.954711   51.875000   \n",
       "120017   3470.162839  0.898888  0.834274  0.518624  0.387262  403.916667   \n",
       "\n",
       "            C_AI  \n",
       "0       0.836586  \n",
       "1       0.629749  \n",
       "2       1.361144  \n",
       "3       1.101988  \n",
       "4       3.147461  \n",
       "...          ...  \n",
       "120013  3.648754  \n",
       "120014  0.693594  \n",
       "120015  2.284976  \n",
       "120016  2.632390  \n",
       "120017  0.840406  \n",
       "\n",
       "[120018 rows x 14 columns]"
      ],
      "text/html": "<div>\n<style scoped>\n    .dataframe tbody tr th:only-of-type {\n        vertical-align: middle;\n    }\n\n    .dataframe tbody tr th {\n        vertical-align: top;\n    }\n\n    .dataframe thead th {\n        text-align: right;\n    }\n</style>\n<table border=\"1\" class=\"dataframe\">\n  <thead>\n    <tr style=\"text-align: right;\">\n      <th></th>\n      <th>MFG_DATE</th>\n      <th>TOOLG_ID</th>\n      <th>WIP_QTY</th>\n      <th>NO_HOLD_QTY</th>\n      <th>MOVE_QTY</th>\n      <th>M</th>\n      <th>U</th>\n      <th>PT</th>\n      <th>UP_TIME</th>\n      <th>EQP_UTIL</th>\n      <th>TC</th>\n      <th>CS</th>\n      <th>AI</th>\n      <th>C_AI</th>\n    </tr>\n  </thead>\n  <tbody>\n    <tr>\n      <th>0</th>\n      <td>20200122</td>\n      <td>CI_STI</td>\n      <td>1672.0</td>\n      <td>1500.0</td>\n      <td>3371.0</td>\n      <td>5.0</td>\n      <td>0.475904</td>\n      <td>4910.234940</td>\n      <td>0.956914</td>\n      <td>0.989448</td>\n      <td>0.382283</td>\n      <td>0.354976</td>\n      <td>159.375000</td>\n      <td>0.836586</td>\n    </tr>\n    <tr>\n      <th>1</th>\n      <td>20200122</td>\n      <td>DGM_AM_350</td>\n      <td>377.0</td>\n      <td>324.0</td>\n      <td>2294.0</td>\n      <td>10.0</td>\n      <td>0.707514</td>\n      <td>4017.560694</td>\n      <td>0.839097</td>\n      <td>0.979897</td>\n      <td>0.264591</td>\n      <td>0.256043</td>\n      <td>101.791667</td>\n      <td>0.629749</td>\n    </tr>\n    <tr>\n      <th>2</th>\n      <td>20200122</td>\n      <td>DI_PSG</td>\n      <td>0.0</td>\n      <td>0.0</td>\n      <td>125.0</td>\n      <td>2.0</td>\n      <td>0.500000</td>\n      <td>16531.000000</td>\n      <td>0.986675</td>\n      <td>0.375072</td>\n      <td>0.052413</td>\n      <td>0.298198</td>\n      <td>12.250000</td>\n      <td>1.361144</td>\n    </tr>\n    <tr>\n      <th>3</th>\n      <td>20200122</td>\n      <td>DN_SiN</td>\n      <td>131.0</td>\n      <td>125.0</td>\n      <td>1381.0</td>\n      <td>4.0</td>\n      <td>0.782313</td>\n      <td>2056.897959</td>\n      <td>0.982981</td>\n      <td>0.779669</td>\n      <td>0.477650</td>\n      <td>0.373563</td>\n      <td>51.291667</td>\n      <td>1.101988</td>\n    </tr>\n    <tr>\n      <th>4</th>\n      <td>20200122</td>\n      <td>DO_SOD</td>\n      <td>13.0</td>\n      <td>12.0</td>\n      <td>706.0</td>\n      <td>2.0</td>\n      <td>1.000000</td>\n      <td>1750.037736</td>\n      <td>0.909998</td>\n      <td>0.460758</td>\n      <td>0.278303</td>\n      <td>0.183449</td>\n      <td>25.250000</td>\n      <td>3.147461</td>\n    </tr>\n    <tr>\n      <th>...</th>\n      <td>...</td>\n      <td>...</td>\n      <td>...</td>\n      <td>...</td>\n      <td>...</td>\n      <td>...</td>\n      <td>...</td>\n      <td>...</td>\n      <td>...</td>\n      <td>...</td>\n      <td>...</td>\n      <td>...</td>\n      <td>...</td>\n      <td>...</td>\n    </tr>\n    <tr>\n      <th>120013</th>\n      <td>20210225</td>\n      <td>MS_MOCVD</td>\n      <td>8.0</td>\n      <td>6.0</td>\n      <td>363.0</td>\n      <td>7.0</td>\n      <td>0.439232</td>\n      <td>5021.179104</td>\n      <td>0.632350</td>\n      <td>0.625828</td>\n      <td>0.524524</td>\n      <td>0.522686</td>\n      <td>11.208333</td>\n      <td>3.648754</td>\n    </tr>\n    <tr>\n      <th>120014</th>\n      <td>20210225</td>\n      <td>MS_SIP</td>\n      <td>590.0</td>\n      <td>584.0</td>\n      <td>5554.0</td>\n      <td>43.0</td>\n      <td>0.528306</td>\n      <td>4330.552448</td>\n      <td>0.829726</td>\n      <td>0.917537</td>\n      <td>0.405158</td>\n      <td>0.369477</td>\n      <td>210.916667</td>\n      <td>0.693594</td>\n    </tr>\n    <tr>\n      <th>120015</th>\n      <td>20210225</td>\n      <td>MW_W</td>\n      <td>113.0</td>\n      <td>62.0</td>\n      <td>698.0</td>\n      <td>6.0</td>\n      <td>0.945887</td>\n      <td>1813.207792</td>\n      <td>0.772282</td>\n      <td>0.315648</td>\n      <td>0.436300</td>\n      <td>0.157383</td>\n      <td>29.583333</td>\n      <td>2.284976</td>\n    </tr>\n    <tr>\n      <th>120016</th>\n      <td>20210225</td>\n      <td>OTHERS</td>\n      <td>2256.0</td>\n      <td>1290.0</td>\n      <td>1066.0</td>\n      <td>3.0</td>\n      <td>0.006944</td>\n      <td>30.812500</td>\n      <td>0.666667</td>\n      <td>0.007022</td>\n      <td>4.954711</td>\n      <td>4.954711</td>\n      <td>51.875000</td>\n      <td>2.632390</td>\n    </tr>\n    <tr>\n      <th>120017</th>\n      <td>20210225</td>\n      <td>PH_DUVArF</td>\n      <td>4286.0</td>\n      <td>3709.0</td>\n      <td>9114.0</td>\n      <td>11.0</td>\n      <td>0.185234</td>\n      <td>3470.162839</td>\n      <td>0.898888</td>\n      <td>0.834274</td>\n      <td>0.518624</td>\n      <td>0.387262</td>\n      <td>403.916667</td>\n      <td>0.840406</td>\n    </tr>\n  </tbody>\n</table>\n<p>120018 rows × 14 columns</p>\n</div>"
     },
     "metadata": {},
     "execution_count": 85
    }
   ],
   "source": [
    "df_train_orign"
   ]
  },
  {
   "cell_type": "code",
   "execution_count": 86,
   "metadata": {},
   "outputs": [],
   "source": [
    "# df_train_tool = df_train.loc[df_train['TOOLG_ID']=='EC_Flex_38']\n",
    "# df_train_tool= df_train_tool.sort_values('WIP_QTY')\n",
    "# df_train_tool.head()\n",
    "# aa= df_train_tool['MOVE_QTY'].rolling(5).apply(lambda x: pd.Series(x).autocorr())\n",
    "# aa"
   ]
  },
  {
   "cell_type": "code",
   "execution_count": 87,
   "metadata": {
    "tags": []
   },
   "outputs": [
    {
     "output_type": "stream",
     "name": "stdout",
     "text": [
      "DA_BM\n",
      "DI_HDP\n",
      "DK_300\n",
      "EA_RWK\n",
      "MP_Cu\n",
      "EC_Via_20\n",
      "EH_LDD_2N\n",
      "WDD_160_G1\n",
      "WDD_160_G2\n",
      "FH_HT(L)\n",
      "PK_DUVKrF\n",
      "PU_I-Line\n",
      "QA_ADI\n",
      "QGK_2365\n",
      "QX_Overly\n",
      "RD_RTO\n",
      "XE_C/F\n",
      "EL_Light_2B\n",
      "EM_MX\n",
      "MB_PC30\n",
      "PB_BARC\n",
      "QPK_PUMA\n",
      "RAM_RTA\n",
      "WH_CIS\n",
      "EG_SiN EB\n",
      "EU_U_Cu\n",
      "EW_4F\n",
      "WT_Cu\n",
      "FN_SiN(F)\n",
      "MB_Co_250\n",
      "QG_Defect\n",
      "RAA_RTA\n",
      "RAM_Anneal\n",
      "WB_LiEtch\n",
      "EW_2S_DPS\n",
      "WH_C/F\n",
      "DC_400\n",
      "PR_1B\n"
     ]
    }
   ],
   "source": [
    "toolgCorr=[]\n",
    "#df_train_orign.groupby('TOOLG_ID').size()[toolg]\n",
    "for toolg in df_train_orign.TOOLG_ID.unique() :\n",
    "#for toolg in ['PK_DUVKrF'] :\n",
    "    df_train_orign_tool = df_train_orign.loc[df_train_orign['TOOLG_ID']==toolg]\n",
    "    df_train_tool = df_train.loc[df_train['TOOLG_ID']==toolg]\n",
    "    # print(toolg,df_train_orign_tool.shape[0],df_train_orign.loc[df_train_orign['TOOLG_ID']==toolg].iloc[0].shape[0])\n",
    "\n",
    "    # print(df_train_orign.loc[df_train_orign['TOOLG_ID']==toolg].iloc[0]['WIP_QTY'])\n",
    "    # print(df_train_orign.loc[df_train_orign['TOOLG_ID']==toolg].iloc[0]['MOVE_QTY'])\n",
    "    # print(df_train_orign.loc[df_train_orign['TOOLG_ID']==toolg].iloc[0].shape[0])\n",
    "    # print(df_train_orign_tool['WIP_QTY'].corr(df_train_orign_tool['MOVE_QTY']) )\n",
    "    \n",
    "     \n",
    "    # if  df_train_tool.shape[0]>100 and  (df_train_orign_tool['NO_HOLD_QTY'].corr(df_train_orign_tool['MOVE_QTY']) < 0.7 ) and  (df_train_orign_tool['NO_HOLD_QTY'].corr(df_train_orign_tool['MOVE_QTY']) > 0.5 ):\n",
    "    if  df_train_tool.shape[0]>100 and  (df_train_orign_tool['NO_HOLD_QTY'].corr(df_train_orign_tool['MOVE_QTY']) < 0.3 ) and  (df_train_orign_tool['NO_HOLD_QTY'].corr(df_train_orign_tool['MOVE_QTY']) > 0.2 ):\n",
    "   #if  df_train_orign_tool['WIP_QTY'].corr(df_train_orign_tool['MOVE_QTY']) > 0.7:\n",
    "        print(toolg)\n",
    "        # print('WIP_QTY ',df_train_orign.loc[df_train_orign['TOOLG_ID']==toolg].iloc[0]['WIP_QTY'])\n",
    "        # print('MOVE_QTY ' , df_train_orign.loc[df_train_orign['TOOLG_ID']==toolg].iloc[0]['MOVE_QTY'])\n",
    "        # print('COUNT ',df_train_orign.loc[df_train_orign['TOOLG_ID']==toolg].iloc[0].count())\n",
    "        # print('corr ' ,df_train_orign_tool['WIP_QTY'].corr(df_train_orign_tool['MOVE_QTY']) )\n",
    "        # print(toolg,df_train_orign_tool.count())\n",
    "        toolgCorr.append([toolg ,df_train_orign_tool['NO_HOLD_QTY'].corr(df_train_orign_tool['MOVE_QTY'])  ])\n",
    "    # print(toolg ,' corr : ',df_train_orign_tool['WIP_QTY'].corr(df_train_orign_tool['MOVE_QTY']))\n",
    "toolgCorr =np.asarray(toolgCorr) \n",
    "# toolgCorr[:,1]\n",
    " \n"
   ]
  },
  {
   "cell_type": "code",
   "execution_count": 483,
   "metadata": {},
   "outputs": [
    {
     "output_type": "execute_result",
     "data": {
      "text/plain": [
       "Empty DataFrame\n",
       "Columns: [TOOLG_ID, WIP_QTY, NO_HOLD_QTY, MOVE_QTY, M, U, PT, UP_TIME, EQP_UTIL, TC, CS, C_AI]\n",
       "Index: []"
      ],
      "text/html": "<div>\n<style scoped>\n    .dataframe tbody tr th:only-of-type {\n        vertical-align: middle;\n    }\n\n    .dataframe tbody tr th {\n        vertical-align: top;\n    }\n\n    .dataframe thead th {\n        text-align: right;\n    }\n</style>\n<table border=\"1\" class=\"dataframe\">\n  <thead>\n    <tr style=\"text-align: right;\">\n      <th></th>\n      <th>TOOLG_ID</th>\n      <th>WIP_QTY</th>\n      <th>NO_HOLD_QTY</th>\n      <th>MOVE_QTY</th>\n      <th>M</th>\n      <th>U</th>\n      <th>PT</th>\n      <th>UP_TIME</th>\n      <th>EQP_UTIL</th>\n      <th>TC</th>\n      <th>CS</th>\n      <th>C_AI</th>\n    </tr>\n  </thead>\n  <tbody>\n  </tbody>\n</table>\n</div>"
     },
     "metadata": {},
     "execution_count": 483
    }
   ],
   "source": []
  },
  {
   "cell_type": "code",
   "execution_count": 88,
   "metadata": {},
   "outputs": [],
   "source": [
    "# toolgCorr = toolgCorr[(toolgCorr[:,0]=='PK_DUVKrF')]\n",
    "#xy_dat[((xy_dat[:,0] > min) & (xy_dat[:,0] < max))]"
   ]
  },
  {
   "cell_type": "code",
   "execution_count": 89,
   "metadata": {},
   "outputs": [
    {
     "output_type": "execute_result",
     "data": {
      "text/plain": [
       "          TOOLG_ID  WIP_QTY  NO_HOLD_QTY  MOVE_QTY     M         U  \\\n",
       "0           CI_STI   1672.0       1500.0    3371.0   5.0  0.475904   \n",
       "1       DGM_AM_350    377.0        324.0    2294.0  10.0  0.707514   \n",
       "2           DI_PSG      0.0          0.0     125.0   2.0  0.500000   \n",
       "3           DN_SiN    131.0        125.0    1381.0   4.0  0.782313   \n",
       "4           DO_SOD     13.0         12.0     706.0   2.0  1.000000   \n",
       "...            ...      ...          ...       ...   ...       ...   \n",
       "120013    MS_MOCVD      8.0          6.0     363.0   7.0  0.439232   \n",
       "120014      MS_SIP    590.0        584.0    5554.0  43.0  0.528306   \n",
       "120015        MW_W    113.0         62.0     698.0   6.0  0.945887   \n",
       "120016      OTHERS   2256.0       1290.0    1066.0   3.0  0.006944   \n",
       "120017   PH_DUVArF   4286.0       3709.0    9114.0  11.0  0.185234   \n",
       "\n",
       "                  PT   UP_TIME  EQP_UTIL        TC        CS      C_AI  \n",
       "0        4910.234940  0.956914  0.989448  0.382283  0.354976  0.836586  \n",
       "1        4017.560694  0.839097  0.979897  0.264591  0.256043  0.629749  \n",
       "2       16531.000000  0.986675  0.375072  0.052413  0.298198  1.361144  \n",
       "3        2056.897959  0.982981  0.779669  0.477650  0.373563  1.101988  \n",
       "4        1750.037736  0.909998  0.460758  0.278303  0.183449  3.147461  \n",
       "...              ...       ...       ...       ...       ...       ...  \n",
       "120013   5021.179104  0.632350  0.625828  0.524524  0.522686  3.648754  \n",
       "120014   4330.552448  0.829726  0.917537  0.405158  0.369477  0.693594  \n",
       "120015   1813.207792  0.772282  0.315648  0.436300  0.157383  2.284976  \n",
       "120016     30.812500  0.666667  0.007022  4.954711  4.954711  2.632390  \n",
       "120017   3470.162839  0.898888  0.834274  0.518624  0.387262  0.840406  \n",
       "\n",
       "[108598 rows x 12 columns]"
      ],
      "text/html": "<div>\n<style scoped>\n    .dataframe tbody tr th:only-of-type {\n        vertical-align: middle;\n    }\n\n    .dataframe tbody tr th {\n        vertical-align: top;\n    }\n\n    .dataframe thead th {\n        text-align: right;\n    }\n</style>\n<table border=\"1\" class=\"dataframe\">\n  <thead>\n    <tr style=\"text-align: right;\">\n      <th></th>\n      <th>TOOLG_ID</th>\n      <th>WIP_QTY</th>\n      <th>NO_HOLD_QTY</th>\n      <th>MOVE_QTY</th>\n      <th>M</th>\n      <th>U</th>\n      <th>PT</th>\n      <th>UP_TIME</th>\n      <th>EQP_UTIL</th>\n      <th>TC</th>\n      <th>CS</th>\n      <th>C_AI</th>\n    </tr>\n  </thead>\n  <tbody>\n    <tr>\n      <th>0</th>\n      <td>CI_STI</td>\n      <td>1672.0</td>\n      <td>1500.0</td>\n      <td>3371.0</td>\n      <td>5.0</td>\n      <td>0.475904</td>\n      <td>4910.234940</td>\n      <td>0.956914</td>\n      <td>0.989448</td>\n      <td>0.382283</td>\n      <td>0.354976</td>\n      <td>0.836586</td>\n    </tr>\n    <tr>\n      <th>1</th>\n      <td>DGM_AM_350</td>\n      <td>377.0</td>\n      <td>324.0</td>\n      <td>2294.0</td>\n      <td>10.0</td>\n      <td>0.707514</td>\n      <td>4017.560694</td>\n      <td>0.839097</td>\n      <td>0.979897</td>\n      <td>0.264591</td>\n      <td>0.256043</td>\n      <td>0.629749</td>\n    </tr>\n    <tr>\n      <th>2</th>\n      <td>DI_PSG</td>\n      <td>0.0</td>\n      <td>0.0</td>\n      <td>125.0</td>\n      <td>2.0</td>\n      <td>0.500000</td>\n      <td>16531.000000</td>\n      <td>0.986675</td>\n      <td>0.375072</td>\n      <td>0.052413</td>\n      <td>0.298198</td>\n      <td>1.361144</td>\n    </tr>\n    <tr>\n      <th>3</th>\n      <td>DN_SiN</td>\n      <td>131.0</td>\n      <td>125.0</td>\n      <td>1381.0</td>\n      <td>4.0</td>\n      <td>0.782313</td>\n      <td>2056.897959</td>\n      <td>0.982981</td>\n      <td>0.779669</td>\n      <td>0.477650</td>\n      <td>0.373563</td>\n      <td>1.101988</td>\n    </tr>\n    <tr>\n      <th>4</th>\n      <td>DO_SOD</td>\n      <td>13.0</td>\n      <td>12.0</td>\n      <td>706.0</td>\n      <td>2.0</td>\n      <td>1.000000</td>\n      <td>1750.037736</td>\n      <td>0.909998</td>\n      <td>0.460758</td>\n      <td>0.278303</td>\n      <td>0.183449</td>\n      <td>3.147461</td>\n    </tr>\n    <tr>\n      <th>...</th>\n      <td>...</td>\n      <td>...</td>\n      <td>...</td>\n      <td>...</td>\n      <td>...</td>\n      <td>...</td>\n      <td>...</td>\n      <td>...</td>\n      <td>...</td>\n      <td>...</td>\n      <td>...</td>\n      <td>...</td>\n    </tr>\n    <tr>\n      <th>120013</th>\n      <td>MS_MOCVD</td>\n      <td>8.0</td>\n      <td>6.0</td>\n      <td>363.0</td>\n      <td>7.0</td>\n      <td>0.439232</td>\n      <td>5021.179104</td>\n      <td>0.632350</td>\n      <td>0.625828</td>\n      <td>0.524524</td>\n      <td>0.522686</td>\n      <td>3.648754</td>\n    </tr>\n    <tr>\n      <th>120014</th>\n      <td>MS_SIP</td>\n      <td>590.0</td>\n      <td>584.0</td>\n      <td>5554.0</td>\n      <td>43.0</td>\n      <td>0.528306</td>\n      <td>4330.552448</td>\n      <td>0.829726</td>\n      <td>0.917537</td>\n      <td>0.405158</td>\n      <td>0.369477</td>\n      <td>0.693594</td>\n    </tr>\n    <tr>\n      <th>120015</th>\n      <td>MW_W</td>\n      <td>113.0</td>\n      <td>62.0</td>\n      <td>698.0</td>\n      <td>6.0</td>\n      <td>0.945887</td>\n      <td>1813.207792</td>\n      <td>0.772282</td>\n      <td>0.315648</td>\n      <td>0.436300</td>\n      <td>0.157383</td>\n      <td>2.284976</td>\n    </tr>\n    <tr>\n      <th>120016</th>\n      <td>OTHERS</td>\n      <td>2256.0</td>\n      <td>1290.0</td>\n      <td>1066.0</td>\n      <td>3.0</td>\n      <td>0.006944</td>\n      <td>30.812500</td>\n      <td>0.666667</td>\n      <td>0.007022</td>\n      <td>4.954711</td>\n      <td>4.954711</td>\n      <td>2.632390</td>\n    </tr>\n    <tr>\n      <th>120017</th>\n      <td>PH_DUVArF</td>\n      <td>4286.0</td>\n      <td>3709.0</td>\n      <td>9114.0</td>\n      <td>11.0</td>\n      <td>0.185234</td>\n      <td>3470.162839</td>\n      <td>0.898888</td>\n      <td>0.834274</td>\n      <td>0.518624</td>\n      <td>0.387262</td>\n      <td>0.840406</td>\n    </tr>\n  </tbody>\n</table>\n<p>108598 rows × 12 columns</p>\n</div>"
     },
     "metadata": {},
     "execution_count": 89
    }
   ],
   "source": [
    "df_train"
   ]
  },
  {
   "cell_type": "code",
   "execution_count": 90,
   "metadata": {},
   "outputs": [],
   "source": [
    "# for t in toolgCorr:\n",
    "#     toolg = t[0]\n",
    "#     df_train.loc[df_train['TOOLG_ID']==toolg]"
   ]
  },
  {
   "source": [
    "# 觀察 散佈圖"
   ],
   "cell_type": "markdown",
   "metadata": {}
  },
  {
   "cell_type": "code",
   "execution_count": 91,
   "metadata": {},
   "outputs": [
    {
     "output_type": "execute_result",
     "data": {
      "text/plain": [
       "            WIP_QTY   NO_HOLD_QTY      MOVE_QTY           M           U  \\\n",
       "count    401.000000    401.000000    401.000000  401.000000  401.000000   \n",
       "mean   15649.438903  14153.817955  40379.463840   30.710723    0.069952   \n",
       "std     3268.166719   3199.797732   3007.540615    2.598290    0.058100   \n",
       "min     3163.000000   2805.000000   8038.000000    2.000000    0.033333   \n",
       "25%    13475.000000  12024.000000  38973.000000   30.000000    0.063549   \n",
       "50%    15328.000000  13833.000000  40498.000000   31.000000    0.065769   \n",
       "75%    17406.000000  15948.000000  41968.000000   32.000000    0.068811   \n",
       "max    31335.000000  29847.000000  45816.000000   32.000000    1.101804   \n",
       "\n",
       "                PT     UP_TIME    EQP_UTIL          TC          CS        C_AI  \n",
       "count   401.000000  401.000000  401.000000  401.000000  401.000000  401.000000  \n",
       "mean   2991.323249    0.950456    0.973200    0.505878    0.297117    0.269249  \n",
       "std      64.123117    0.033644    0.013019    0.148899    0.086718    0.930544  \n",
       "min    2821.530355    0.598291    0.920092    0.230723    0.228487  -18.039123  \n",
       "25%    2949.116780    0.936987    0.965570    0.451458    0.260931    0.219441  \n",
       "50%    2988.247734    0.954241    0.974747    0.479877    0.276570    0.268364  \n",
       "75%    3027.918790    0.968883    0.982608    0.508988    0.297060    0.358968  \n",
       "max    3353.320665    1.000000    1.000000    1.733301    1.003306    1.352526  "
      ],
      "text/html": "<div>\n<style scoped>\n    .dataframe tbody tr th:only-of-type {\n        vertical-align: middle;\n    }\n\n    .dataframe tbody tr th {\n        vertical-align: top;\n    }\n\n    .dataframe thead th {\n        text-align: right;\n    }\n</style>\n<table border=\"1\" class=\"dataframe\">\n  <thead>\n    <tr style=\"text-align: right;\">\n      <th></th>\n      <th>WIP_QTY</th>\n      <th>NO_HOLD_QTY</th>\n      <th>MOVE_QTY</th>\n      <th>M</th>\n      <th>U</th>\n      <th>PT</th>\n      <th>UP_TIME</th>\n      <th>EQP_UTIL</th>\n      <th>TC</th>\n      <th>CS</th>\n      <th>C_AI</th>\n    </tr>\n  </thead>\n  <tbody>\n    <tr>\n      <th>count</th>\n      <td>401.000000</td>\n      <td>401.000000</td>\n      <td>401.000000</td>\n      <td>401.000000</td>\n      <td>401.000000</td>\n      <td>401.000000</td>\n      <td>401.000000</td>\n      <td>401.000000</td>\n      <td>401.000000</td>\n      <td>401.000000</td>\n      <td>401.000000</td>\n    </tr>\n    <tr>\n      <th>mean</th>\n      <td>15649.438903</td>\n      <td>14153.817955</td>\n      <td>40379.463840</td>\n      <td>30.710723</td>\n      <td>0.069952</td>\n      <td>2991.323249</td>\n      <td>0.950456</td>\n      <td>0.973200</td>\n      <td>0.505878</td>\n      <td>0.297117</td>\n      <td>0.269249</td>\n    </tr>\n    <tr>\n      <th>std</th>\n      <td>3268.166719</td>\n      <td>3199.797732</td>\n      <td>3007.540615</td>\n      <td>2.598290</td>\n      <td>0.058100</td>\n      <td>64.123117</td>\n      <td>0.033644</td>\n      <td>0.013019</td>\n      <td>0.148899</td>\n      <td>0.086718</td>\n      <td>0.930544</td>\n    </tr>\n    <tr>\n      <th>min</th>\n      <td>3163.000000</td>\n      <td>2805.000000</td>\n      <td>8038.000000</td>\n      <td>2.000000</td>\n      <td>0.033333</td>\n      <td>2821.530355</td>\n      <td>0.598291</td>\n      <td>0.920092</td>\n      <td>0.230723</td>\n      <td>0.228487</td>\n      <td>-18.039123</td>\n    </tr>\n    <tr>\n      <th>25%</th>\n      <td>13475.000000</td>\n      <td>12024.000000</td>\n      <td>38973.000000</td>\n      <td>30.000000</td>\n      <td>0.063549</td>\n      <td>2949.116780</td>\n      <td>0.936987</td>\n      <td>0.965570</td>\n      <td>0.451458</td>\n      <td>0.260931</td>\n      <td>0.219441</td>\n    </tr>\n    <tr>\n      <th>50%</th>\n      <td>15328.000000</td>\n      <td>13833.000000</td>\n      <td>40498.000000</td>\n      <td>31.000000</td>\n      <td>0.065769</td>\n      <td>2988.247734</td>\n      <td>0.954241</td>\n      <td>0.974747</td>\n      <td>0.479877</td>\n      <td>0.276570</td>\n      <td>0.268364</td>\n    </tr>\n    <tr>\n      <th>75%</th>\n      <td>17406.000000</td>\n      <td>15948.000000</td>\n      <td>41968.000000</td>\n      <td>32.000000</td>\n      <td>0.068811</td>\n      <td>3027.918790</td>\n      <td>0.968883</td>\n      <td>0.982608</td>\n      <td>0.508988</td>\n      <td>0.297060</td>\n      <td>0.358968</td>\n    </tr>\n    <tr>\n      <th>max</th>\n      <td>31335.000000</td>\n      <td>29847.000000</td>\n      <td>45816.000000</td>\n      <td>32.000000</td>\n      <td>1.101804</td>\n      <td>3353.320665</td>\n      <td>1.000000</td>\n      <td>1.000000</td>\n      <td>1.733301</td>\n      <td>1.003306</td>\n      <td>1.352526</td>\n    </tr>\n  </tbody>\n</table>\n</div>"
     },
     "metadata": {},
     "execution_count": 91
    },
    {
     "output_type": "display_data",
     "data": {
      "text/plain": "<Figure size 432x288 with 1 Axes>",
      "image/svg+xml": "<?xml version=\"1.0\" encoding=\"utf-8\" standalone=\"no\"?>\r\n<!DOCTYPE svg PUBLIC \"-//W3C//DTD SVG 1.1//EN\"\r\n  \"http://www.w3.org/Graphics/SVG/1.1/DTD/svg11.dtd\">\r\n<!-- Created with matplotlib (https://matplotlib.org/) -->\r\n<svg height=\"248.518125pt\" version=\"1.1\" viewBox=\"0 0 390.422617 248.518125\" width=\"390.422617pt\" xmlns=\"http://www.w3.org/2000/svg\" xmlns:xlink=\"http://www.w3.org/1999/xlink\">\r\n <metadata>\r\n  <rdf:RDF xmlns:cc=\"http://creativecommons.org/ns#\" xmlns:dc=\"http://purl.org/dc/elements/1.1/\" xmlns:rdf=\"http://www.w3.org/1999/02/22-rdf-syntax-ns#\">\r\n   <cc:Work>\r\n    <dc:type rdf:resource=\"http://purl.org/dc/dcmitype/StillImage\"/>\r\n    <dc:date>2021-03-10T14:41:16.036677</dc:date>\r\n    <dc:format>image/svg+xml</dc:format>\r\n    <dc:creator>\r\n     <cc:Agent>\r\n      <dc:title>Matplotlib v3.3.3, https://matplotlib.org/</dc:title>\r\n     </cc:Agent>\r\n    </dc:creator>\r\n   </cc:Work>\r\n  </rdf:RDF>\r\n </metadata>\r\n <defs>\r\n  <style type=\"text/css\">*{stroke-linecap:butt;stroke-linejoin:round;}</style>\r\n </defs>\r\n <g id=\"figure_1\">\r\n  <g id=\"patch_1\">\r\n   <path d=\"M 0 248.518125 \r\nL 390.422617 248.518125 \r\nL 390.422617 0 \r\nL 0 0 \r\nz\r\n\" style=\"fill:none;\"/>\r\n  </g>\r\n  <g id=\"axes_1\">\r\n   <g id=\"patch_2\">\r\n    <path d=\"M 46.0125 224.64 \r\nL 380.8125 224.64 \r\nL 380.8125 7.2 \r\nL 46.0125 7.2 \r\nz\r\n\" style=\"fill:#ffffff;\"/>\r\n   </g>\r\n   <g id=\"PathCollection_1\">\r\n    <defs>\r\n     <path d=\"M 0 3 \r\nC 0.795609 3 1.55874 2.683901 2.12132 2.12132 \r\nC 2.683901 1.55874 3 0.795609 3 0 \r\nC 3 -0.795609 2.683901 -1.55874 2.12132 -2.12132 \r\nC 1.55874 -2.683901 0.795609 -3 0 -3 \r\nC -0.795609 -3 -1.55874 -2.683901 -2.12132 -2.12132 \r\nC -2.683901 -1.55874 -3 -0.795609 -3 0 \r\nC -3 0.795609 -2.683901 1.55874 -2.12132 2.12132 \r\nC -1.55874 2.683901 -0.795609 3 0 3 \r\nz\r\n\" id=\"m20801e0b57\" style=\"stroke:#1f77b4;\"/>\r\n    </defs>\r\n    <g clip-path=\"url(#p370f9093e7)\">\r\n     <use style=\"fill:#1f77b4;stroke:#1f77b4;\" x=\"226.333492\" xlink:href=\"#m20801e0b57\" y=\"51.764531\"/>\r\n     <use style=\"fill:#1f77b4;stroke:#1f77b4;\" x=\"235.574027\" xlink:href=\"#m20801e0b57\" y=\"41.257706\"/>\r\n     <use style=\"fill:#1f77b4;stroke:#1f77b4;\" x=\"228.899682\" xlink:href=\"#m20801e0b57\" y=\"47.892494\"/>\r\n     <use style=\"fill:#1f77b4;stroke:#1f77b4;\" x=\"211.85928\" xlink:href=\"#m20801e0b57\" y=\"41.780954\"/>\r\n     <use style=\"fill:#1f77b4;stroke:#1f77b4;\" x=\"188.358382\" xlink:href=\"#m20801e0b57\" y=\"35.894411\"/>\r\n     <use style=\"fill:#1f77b4;stroke:#1f77b4;\" x=\"165.273928\" xlink:href=\"#m20801e0b57\" y=\"50.885474\"/>\r\n     <use style=\"fill:#1f77b4;stroke:#1f77b4;\" x=\"148.323568\" xlink:href=\"#m20801e0b57\" y=\"44.732074\"/>\r\n     <use style=\"fill:#1f77b4;stroke:#1f77b4;\" x=\"129.831243\" xlink:href=\"#m20801e0b57\" y=\"49.807582\"/>\r\n     <use style=\"fill:#1f77b4;stroke:#1f77b4;\" x=\"115.627156\" xlink:href=\"#m20801e0b57\" y=\"57.070268\"/>\r\n     <use style=\"fill:#1f77b4;stroke:#1f77b4;\" x=\"134.232033\" xlink:href=\"#m20801e0b57\" y=\"58.838847\"/>\r\n     <use style=\"fill:#1f77b4;stroke:#1f77b4;\" x=\"123.798445\" xlink:href=\"#m20801e0b57\" y=\"50.137229\"/>\r\n     <use style=\"fill:#1f77b4;stroke:#1f77b4;\" x=\"147.648254\" xlink:href=\"#m20801e0b57\" y=\"47.248898\"/>\r\n     <use style=\"fill:#1f77b4;stroke:#1f77b4;\" x=\"149.561642\" xlink:href=\"#m20801e0b57\" y=\"60.46615\"/>\r\n     <use style=\"fill:#1f77b4;stroke:#1f77b4;\" x=\"156.900045\" xlink:href=\"#m20801e0b57\" y=\"56.437138\"/>\r\n     <use style=\"fill:#1f77b4;stroke:#1f77b4;\" x=\"168.391623\" xlink:href=\"#m20801e0b57\" y=\"59.341166\"/>\r\n     <use style=\"fill:#1f77b4;stroke:#1f77b4;\" x=\"171.205428\" xlink:href=\"#m20801e0b57\" y=\"55.458664\"/>\r\n     <use style=\"fill:#1f77b4;stroke:#1f77b4;\" x=\"159.713849\" xlink:href=\"#m20801e0b57\" y=\"61.428926\"/>\r\n     <use style=\"fill:#1f77b4;stroke:#1f77b4;\" x=\"138.317678\" xlink:href=\"#m20801e0b57\" y=\"59.822554\"/>\r\n     <use style=\"fill:#1f77b4;stroke:#1f77b4;\" x=\"145.498508\" xlink:href=\"#m20801e0b57\" y=\"48.630274\"/>\r\n     <use style=\"fill:#1f77b4;stroke:#1f77b4;\" x=\"156.078414\" xlink:href=\"#m20801e0b57\" y=\"57.420845\"/>\r\n     <use style=\"fill:#1f77b4;stroke:#1f77b4;\" x=\"150.383273\" xlink:href=\"#m20801e0b57\" y=\"53.810432\"/>\r\n     <use style=\"fill:#1f77b4;stroke:#1f77b4;\" x=\"164.305979\" xlink:href=\"#m20801e0b57\" y=\"65.918396\"/>\r\n     <use style=\"fill:#1f77b4;stroke:#1f77b4;\" x=\"175.583708\" xlink:href=\"#m20801e0b57\" y=\"50.922101\"/>\r\n     <use style=\"fill:#1f77b4;stroke:#1f77b4;\" x=\"175.043458\" xlink:href=\"#m20801e0b57\" y=\"44.789632\"/>\r\n     <use style=\"fill:#1f77b4;stroke:#1f77b4;\" x=\"169.359572\" xlink:href=\"#m20801e0b57\" y=\"57.556889\"/>\r\n     <use style=\"fill:#1f77b4;stroke:#1f77b4;\" x=\"232.118674\" xlink:href=\"#m20801e0b57\" y=\"34.800822\"/>\r\n     <use style=\"fill:#1f77b4;stroke:#1f77b4;\" x=\"244.037951\" xlink:href=\"#m20801e0b57\" y=\"42.492572\"/>\r\n     <use style=\"fill:#1f77b4;stroke:#1f77b4;\" x=\"262.586552\" xlink:href=\"#m20801e0b57\" y=\"40.101327\"/>\r\n     <use style=\"fill:#1f77b4;stroke:#1f77b4;\" x=\"235.303901\" xlink:href=\"#m20801e0b57\" y=\"39.217038\"/>\r\n     <use style=\"fill:#1f77b4;stroke:#1f77b4;\" x=\"199.613601\" xlink:href=\"#m20801e0b57\" y=\"48.227373\"/>\r\n     <use style=\"fill:#1f77b4;stroke:#1f77b4;\" x=\"198.927033\" xlink:href=\"#m20801e0b57\" y=\"46.783208\"/>\r\n     <use style=\"fill:#1f77b4;stroke:#1f77b4;\" x=\"177.046887\" xlink:href=\"#m20801e0b57\" y=\"50.990124\"/>\r\n     <use style=\"fill:#1f77b4;stroke:#1f77b4;\" x=\"170.226224\" xlink:href=\"#m20801e0b57\" y=\"42.366992\"/>\r\n     <use style=\"fill:#1f77b4;stroke:#1f77b4;\" x=\"167.524972\" xlink:href=\"#m20801e0b57\" y=\"54.276123\"/>\r\n     <use style=\"fill:#1f77b4;stroke:#1f77b4;\" x=\"162.06619\" xlink:href=\"#m20801e0b57\" y=\"64.039935\"/>\r\n     <use style=\"fill:#1f77b4;stroke:#1f77b4;\" x=\"158.914729\" xlink:href=\"#m20801e0b57\" y=\"64.882365\"/>\r\n     <use style=\"fill:#1f77b4;stroke:#1f77b4;\" x=\"135.897806\" xlink:href=\"#m20801e0b57\" y=\"60.42429\"/>\r\n     <use style=\"fill:#1f77b4;stroke:#1f77b4;\" x=\"146.961686\" xlink:href=\"#m20801e0b57\" y=\"60.115573\"/>\r\n     <use style=\"fill:#1f77b4;stroke:#1f77b4;\" x=\"164.339744\" xlink:href=\"#m20801e0b57\" y=\"47.955284\"/>\r\n     <use style=\"fill:#1f77b4;stroke:#1f77b4;\" x=\"160.760585\" xlink:href=\"#m20801e0b57\" y=\"54.014498\"/>\r\n     <use style=\"fill:#1f77b4;stroke:#1f77b4;\" x=\"167.524972\" xlink:href=\"#m20801e0b57\" y=\"64.468999\"/>\r\n     <use style=\"fill:#1f77b4;stroke:#1f77b4;\" x=\"209.158027\" xlink:href=\"#m20801e0b57\" y=\"57.828978\"/>\r\n     <use style=\"fill:#1f77b4;stroke:#1f77b4;\" x=\"190.001644\" xlink:href=\"#m20801e0b57\" y=\"63.731219\"/>\r\n     <use style=\"fill:#1f77b4;stroke:#1f77b4;\" x=\"225.478095\" xlink:href=\"#m20801e0b57\" y=\"57.227243\"/>\r\n     <use style=\"fill:#1f77b4;stroke:#1f77b4;\" x=\"212.928526\" xlink:href=\"#m20801e0b57\" y=\"58.08537\"/>\r\n     <use style=\"fill:#1f77b4;stroke:#1f77b4;\" x=\"221.403706\" xlink:href=\"#m20801e0b57\" y=\"46.333214\"/>\r\n     <use style=\"fill:#1f77b4;stroke:#1f77b4;\" x=\"205.241211\" xlink:href=\"#m20801e0b57\" y=\"48.164583\"/>\r\n     <use style=\"fill:#1f77b4;stroke:#1f77b4;\" x=\"235.393943\" xlink:href=\"#m20801e0b57\" y=\"47.704124\"/>\r\n     <use style=\"fill:#1f77b4;stroke:#1f77b4;\" x=\"226.468554\" xlink:href=\"#m20801e0b57\" y=\"56.777249\"/>\r\n     <use style=\"fill:#1f77b4;stroke:#1f77b4;\" x=\"213.806433\" xlink:href=\"#m20801e0b57\" y=\"58.352227\"/>\r\n     <use style=\"fill:#1f77b4;stroke:#1f77b4;\" x=\"185.263197\" xlink:href=\"#m20801e0b57\" y=\"58.179555\"/>\r\n     <use style=\"fill:#1f77b4;stroke:#1f77b4;\" x=\"191.183442\" xlink:href=\"#m20801e0b57\" y=\"48.086096\"/>\r\n     <use style=\"fill:#1f77b4;stroke:#1f77b4;\" x=\"178.577597\" xlink:href=\"#m20801e0b57\" y=\"50.738964\"/>\r\n     <use style=\"fill:#1f77b4;stroke:#1f77b4;\" x=\"165.093844\" xlink:href=\"#m20801e0b57\" y=\"42.38269\"/>\r\n     <use style=\"fill:#1f77b4;stroke:#1f77b4;\" x=\"166.129324\" xlink:href=\"#m20801e0b57\" y=\"56.860969\"/>\r\n     <use style=\"fill:#1f77b4;stroke:#1f77b4;\" x=\"186.45625\" xlink:href=\"#m20801e0b57\" y=\"56.322023\"/>\r\n     <use style=\"fill:#1f77b4;stroke:#1f77b4;\" x=\"214.009027\" xlink:href=\"#m20801e0b57\" y=\"49.6977\"/>\r\n     <use style=\"fill:#1f77b4;stroke:#1f77b4;\" x=\"184.058888\" xlink:href=\"#m20801e0b57\" y=\"51.999993\"/>\r\n     <use style=\"fill:#1f77b4;stroke:#1f77b4;\" x=\"177.395799\" xlink:href=\"#m20801e0b57\" y=\"56.928991\"/>\r\n     <use style=\"fill:#1f77b4;stroke:#1f77b4;\" x=\"176.461616\" xlink:href=\"#m20801e0b57\" y=\"50.932566\"/>\r\n     <use style=\"fill:#1f77b4;stroke:#1f77b4;\" x=\"182.685752\" xlink:href=\"#m20801e0b57\" y=\"59.210354\"/>\r\n     <use style=\"fill:#1f77b4;stroke:#1f77b4;\" x=\"208.966688\" xlink:href=\"#m20801e0b57\" y=\"53.318578\"/>\r\n     <use style=\"fill:#1f77b4;stroke:#1f77b4;\" x=\"182.933367\" xlink:href=\"#m20801e0b57\" y=\"58.289437\"/>\r\n     <use style=\"fill:#1f77b4;stroke:#1f77b4;\" x=\"176.123959\" xlink:href=\"#m20801e0b57\" y=\"58.163857\"/>\r\n     <use style=\"fill:#1f77b4;stroke:#1f77b4;\" x=\"188.988674\" xlink:href=\"#m20801e0b57\" y=\"59.278376\"/>\r\n     <use style=\"fill:#1f77b4;stroke:#1f77b4;\" x=\"199.80494\" xlink:href=\"#m20801e0b57\" y=\"69.429392\"/>\r\n     <use style=\"fill:#1f77b4;stroke:#1f77b4;\" x=\"208.831626\" xlink:href=\"#m20801e0b57\" y=\"52.910445\"/>\r\n     <use style=\"fill:#1f77b4;stroke:#1f77b4;\" x=\"215.933669\" xlink:href=\"#m20801e0b57\" y=\"40.797247\"/>\r\n     <use style=\"fill:#1f77b4;stroke:#1f77b4;\" x=\"192.286454\" xlink:href=\"#m20801e0b57\" y=\"66.567224\"/>\r\n     <use style=\"fill:#1f77b4;stroke:#1f77b4;\" x=\"167.018487\" xlink:href=\"#m20801e0b57\" y=\"71.250296\"/>\r\n     <use style=\"fill:#1f77b4;stroke:#1f77b4;\" x=\"201.470712\" xlink:href=\"#m20801e0b57\" y=\"64.19691\"/>\r\n     <use style=\"fill:#1f77b4;stroke:#1f77b4;\" x=\"186.996501\" xlink:href=\"#m20801e0b57\" y=\"47.641335\"/>\r\n     <use style=\"fill:#1f77b4;stroke:#1f77b4;\" x=\"198.578121\" xlink:href=\"#m20801e0b57\" y=\"49.509331\"/>\r\n     <use style=\"fill:#1f77b4;stroke:#1f77b4;\" x=\"200.210128\" xlink:href=\"#m20801e0b57\" y=\"53.61683\"/>\r\n     <use style=\"fill:#1f77b4;stroke:#1f77b4;\" x=\"219.276469\" xlink:href=\"#m20801e0b57\" y=\"43.601858\"/>\r\n     <use style=\"fill:#1f77b4;stroke:#1f77b4;\" x=\"232.602649\" xlink:href=\"#m20801e0b57\" y=\"44.119874\"/>\r\n     <use style=\"fill:#1f77b4;stroke:#1f77b4;\" x=\"187.502986\" xlink:href=\"#m20801e0b57\" y=\"55.620871\"/>\r\n     <use style=\"fill:#1f77b4;stroke:#1f77b4;\" x=\"194.627539\" xlink:href=\"#m20801e0b57\" y=\"56.599345\"/>\r\n     <use style=\"fill:#1f77b4;stroke:#1f77b4;\" x=\"187.941939\" xlink:href=\"#m20801e0b57\" y=\"63.574244\"/>\r\n     <use style=\"fill:#1f77b4;stroke:#1f77b4;\" x=\"198.307996\" xlink:href=\"#m20801e0b57\" y=\"56.154584\"/>\r\n     <use style=\"fill:#1f77b4;stroke:#1f77b4;\" x=\"187.626793\" xlink:href=\"#m20801e0b57\" y=\"45.119278\"/>\r\n     <use style=\"fill:#1f77b4;stroke:#1f77b4;\" x=\"188.48219\" xlink:href=\"#m20801e0b57\" y=\"45.511714\"/>\r\n     <use style=\"fill:#1f77b4;stroke:#1f77b4;\" x=\"194.458711\" xlink:href=\"#m20801e0b57\" y=\"54.778441\"/>\r\n     <use style=\"fill:#1f77b4;stroke:#1f77b4;\" x=\"193.423231\" xlink:href=\"#m20801e0b57\" y=\"55.129017\"/>\r\n     <use style=\"fill:#1f77b4;stroke:#1f77b4;\" x=\"189.765285\" xlink:href=\"#m20801e0b57\" y=\"55.814472\"/>\r\n     <use style=\"fill:#1f77b4;stroke:#1f77b4;\" x=\"173.186347\" xlink:href=\"#m20801e0b57\" y=\"64.573648\"/>\r\n     <use style=\"fill:#1f77b4;stroke:#1f77b4;\" x=\"207.852422\" xlink:href=\"#m20801e0b57\" y=\"47.128551\"/>\r\n     <use style=\"fill:#1f77b4;stroke:#1f77b4;\" x=\"209.855851\" xlink:href=\"#m20801e0b57\" y=\"51.36163\"/>\r\n     <use style=\"fill:#1f77b4;stroke:#1f77b4;\" x=\"200.885441\" xlink:href=\"#m20801e0b57\" y=\"45.579737\"/>\r\n     <use style=\"fill:#1f77b4;stroke:#1f77b4;\" x=\"200.649081\" xlink:href=\"#m20801e0b57\" y=\"59.608022\"/>\r\n     <use style=\"fill:#1f77b4;stroke:#1f77b4;\" x=\"213.4125\" xlink:href=\"#m20801e0b57\" y=\"54.338912\"/>\r\n     <use style=\"fill:#1f77b4;stroke:#1f77b4;\" x=\"210.339825\" xlink:href=\"#m20801e0b57\" y=\"53.302881\"/>\r\n     <use style=\"fill:#1f77b4;stroke:#1f77b4;\" x=\"199.05084\" xlink:href=\"#m20801e0b57\" y=\"55.516221\"/>\r\n     <use style=\"fill:#1f77b4;stroke:#1f77b4;\" x=\"211.307774\" xlink:href=\"#m20801e0b57\" y=\"51.084308\"/>\r\n     <use style=\"fill:#1f77b4;stroke:#1f77b4;\" x=\"200.660337\" xlink:href=\"#m20801e0b57\" y=\"39.667031\"/>\r\n     <use style=\"fill:#1f77b4;stroke:#1f77b4;\" x=\"177.620903\" xlink:href=\"#m20801e0b57\" y=\"38.693789\"/>\r\n     <use style=\"fill:#1f77b4;stroke:#1f77b4;\" x=\"153.883646\" xlink:href=\"#m20801e0b57\" y=\"61.439391\"/>\r\n     <use style=\"fill:#1f77b4;stroke:#1f77b4;\" x=\"162.752759\" xlink:href=\"#m20801e0b57\" y=\"71.328783\"/>\r\n     <use style=\"fill:#1f77b4;stroke:#1f77b4;\" x=\"183.451107\" xlink:href=\"#m20801e0b57\" y=\"55.657498\"/>\r\n     <use style=\"fill:#1f77b4;stroke:#1f77b4;\" x=\"168.661749\" xlink:href=\"#m20801e0b57\" y=\"59.911506\"/>\r\n     <use style=\"fill:#1f77b4;stroke:#1f77b4;\" x=\"175.65124\" xlink:href=\"#m20801e0b57\" y=\"46.861695\"/>\r\n     <use style=\"fill:#1f77b4;stroke:#1f77b4;\" x=\"167.907649\" xlink:href=\"#m20801e0b57\" y=\"46.181472\"/>\r\n     <use style=\"fill:#1f77b4;stroke:#1f77b4;\" x=\"171.756934\" xlink:href=\"#m20801e0b57\" y=\"39.656566\"/>\r\n     <use style=\"fill:#1f77b4;stroke:#1f77b4;\" x=\"187.638048\" xlink:href=\"#m20801e0b57\" y=\"53.402298\"/>\r\n     <use style=\"fill:#1f77b4;stroke:#1f77b4;\" x=\"180.513494\" xlink:href=\"#m20801e0b57\" y=\"61.910315\"/>\r\n     <use style=\"fill:#1f77b4;stroke:#1f77b4;\" x=\"188.594742\" xlink:href=\"#m20801e0b57\" y=\"54.783673\"/>\r\n     <use style=\"fill:#1f77b4;stroke:#1f77b4;\" x=\"175.279818\" xlink:href=\"#m20801e0b57\" y=\"55.118552\"/>\r\n     <use style=\"fill:#1f77b4;stroke:#1f77b4;\" x=\"162.370081\" xlink:href=\"#m20801e0b57\" y=\"54.056358\"/>\r\n     <use style=\"fill:#1f77b4;stroke:#1f77b4;\" x=\"155.830799\" xlink:href=\"#m20801e0b57\" y=\"46.887857\"/>\r\n     <use style=\"fill:#1f77b4;stroke:#1f77b4;\" x=\"175.246052\" xlink:href=\"#m20801e0b57\" y=\"46.647163\"/>\r\n     <use style=\"fill:#1f77b4;stroke:#1f77b4;\" x=\"178.071112\" xlink:href=\"#m20801e0b57\" y=\"55.78831\"/>\r\n     <use style=\"fill:#1f77b4;stroke:#1f77b4;\" x=\"161.739789\" xlink:href=\"#m20801e0b57\" y=\"59.252214\"/>\r\n     <use style=\"fill:#1f77b4;stroke:#1f77b4;\" x=\"178.375003\" xlink:href=\"#m20801e0b57\" y=\"51.31977\"/>\r\n     <use style=\"fill:#1f77b4;stroke:#1f77b4;\" x=\"197.204984\" xlink:href=\"#m20801e0b57\" y=\"61.324277\"/>\r\n     <use style=\"fill:#1f77b4;stroke:#1f77b4;\" x=\"180.839896\" xlink:href=\"#m20801e0b57\" y=\"57.996418\"/>\r\n     <use style=\"fill:#1f77b4;stroke:#1f77b4;\" x=\"183.833784\" xlink:href=\"#m20801e0b57\" y=\"44.229756\"/>\r\n     <use style=\"fill:#1f77b4;stroke:#1f77b4;\" x=\"180.389687\" xlink:href=\"#m20801e0b57\" y=\"51.209888\"/>\r\n     <use style=\"fill:#1f77b4;stroke:#1f77b4;\" x=\"191.723693\" xlink:href=\"#m20801e0b57\" y=\"51.816856\"/>\r\n     <use style=\"fill:#1f77b4;stroke:#1f77b4;\" x=\"183.60868\" xlink:href=\"#m20801e0b57\" y=\"48.750621\"/>\r\n     <use style=\"fill:#1f77b4;stroke:#1f77b4;\" x=\"195.663019\" xlink:href=\"#m20801e0b57\" y=\"48.949455\"/>\r\n     <use style=\"fill:#1f77b4;stroke:#1f77b4;\" x=\"203.958116\" xlink:href=\"#m20801e0b57\" y=\"54.977275\"/>\r\n     <use style=\"fill:#1f77b4;stroke:#1f77b4;\" x=\"195.764316\" xlink:href=\"#m20801e0b57\" y=\"48.750621\"/>\r\n     <use style=\"fill:#1f77b4;stroke:#1f77b4;\" x=\"211.544134\" xlink:href=\"#m20801e0b57\" y=\"41.760024\"/>\r\n     <use style=\"fill:#1f77b4;stroke:#1f77b4;\" x=\"192.849215\" xlink:href=\"#m20801e0b57\" y=\"38.301353\"/>\r\n     <use style=\"fill:#1f77b4;stroke:#1f77b4;\" x=\"190.373066\" xlink:href=\"#m20801e0b57\" y=\"166.88438\"/>\r\n     <use style=\"fill:#1f77b4;stroke:#1f77b4;\" x=\"70.741342\" xlink:href=\"#m20801e0b57\" y=\"214.756364\"/>\r\n     <use style=\"fill:#1f77b4;stroke:#1f77b4;\" x=\"61.230682\" xlink:href=\"#m20801e0b57\" y=\"49.289567\"/>\r\n     <use style=\"fill:#1f77b4;stroke:#1f77b4;\" x=\"164.283468\" xlink:href=\"#m20801e0b57\" y=\"59.780694\"/>\r\n     <use style=\"fill:#1f77b4;stroke:#1f77b4;\" x=\"176.337808\" xlink:href=\"#m20801e0b57\" y=\"60.780098\"/>\r\n     <use style=\"fill:#1f77b4;stroke:#1f77b4;\" x=\"181.909142\" xlink:href=\"#m20801e0b57\" y=\"51.963365\"/>\r\n     <use style=\"fill:#1f77b4;stroke:#1f77b4;\" x=\"167.896394\" xlink:href=\"#m20801e0b57\" y=\"42.748963\"/>\r\n     <use style=\"fill:#1f77b4;stroke:#1f77b4;\" x=\"163.563134\" xlink:href=\"#m20801e0b57\" y=\"48.332022\"/>\r\n     <use style=\"fill:#1f77b4;stroke:#1f77b4;\" x=\"177.136929\" xlink:href=\"#m20801e0b57\" y=\"54.794138\"/>\r\n     <use style=\"fill:#1f77b4;stroke:#1f77b4;\" x=\"211.195222\" xlink:href=\"#m20801e0b57\" y=\"60.46615\"/>\r\n     <use style=\"fill:#1f77b4;stroke:#1f77b4;\" x=\"202.956401\" xlink:href=\"#m20801e0b57\" y=\"53.486018\"/>\r\n     <use style=\"fill:#1f77b4;stroke:#1f77b4;\" x=\"198.330506\" xlink:href=\"#m20801e0b57\" y=\"59.267911\"/>\r\n     <use style=\"fill:#1f77b4;stroke:#1f77b4;\" x=\"190.451853\" xlink:href=\"#m20801e0b57\" y=\"43.528603\"/>\r\n     <use style=\"fill:#1f77b4;stroke:#1f77b4;\" x=\"181.346381\" xlink:href=\"#m20801e0b57\" y=\"41.467005\"/>\r\n     <use style=\"fill:#1f77b4;stroke:#1f77b4;\" x=\"204.655939\" xlink:href=\"#m20801e0b57\" y=\"47.625637\"/>\r\n     <use style=\"fill:#1f77b4;stroke:#1f77b4;\" x=\"226.536086\" xlink:href=\"#m20801e0b57\" y=\"59.639417\"/>\r\n     <use style=\"fill:#1f77b4;stroke:#1f77b4;\" x=\"195.100258\" xlink:href=\"#m20801e0b57\" y=\"53.454623\"/>\r\n     <use style=\"fill:#1f77b4;stroke:#1f77b4;\" x=\"186.962735\" xlink:href=\"#m20801e0b57\" y=\"54.553444\"/>\r\n     <use style=\"fill:#1f77b4;stroke:#1f77b4;\" x=\"220.401991\" xlink:href=\"#m20801e0b57\" y=\"43.460581\"/>\r\n     <use style=\"fill:#1f77b4;stroke:#1f77b4;\" x=\"227.751649\" xlink:href=\"#m20801e0b57\" y=\"41.780954\"/>\r\n     <use style=\"fill:#1f77b4;stroke:#1f77b4;\" x=\"196.473395\" xlink:href=\"#m20801e0b57\" y=\"52.89998\"/>\r\n     <use style=\"fill:#1f77b4;stroke:#1f77b4;\" x=\"210.0697\" xlink:href=\"#m20801e0b57\" y=\"53.977871\"/>\r\n     <use style=\"fill:#1f77b4;stroke:#1f77b4;\" x=\"222.956926\" xlink:href=\"#m20801e0b57\" y=\"47.175644\"/>\r\n     <use style=\"fill:#1f77b4;stroke:#1f77b4;\" x=\"213.277437\" xlink:href=\"#m20801e0b57\" y=\"52.062782\"/>\r\n     <use style=\"fill:#1f77b4;stroke:#1f77b4;\" x=\"215.258356\" xlink:href=\"#m20801e0b57\" y=\"51.037216\"/>\r\n     <use style=\"fill:#1f77b4;stroke:#1f77b4;\" x=\"240.042349\" xlink:href=\"#m20801e0b57\" y=\"43.293142\"/>\r\n     <use style=\"fill:#1f77b4;stroke:#1f77b4;\" x=\"262.136344\" xlink:href=\"#m20801e0b57\" y=\"32.812479\"/>\r\n     <use style=\"fill:#1f77b4;stroke:#1f77b4;\" x=\"231.938591\" xlink:href=\"#m20801e0b57\" y=\"35.392093\"/>\r\n     <use style=\"fill:#1f77b4;stroke:#1f77b4;\" x=\"221.34743\" xlink:href=\"#m20801e0b57\" y=\"48.792481\"/>\r\n     <use style=\"fill:#1f77b4;stroke:#1f77b4;\" x=\"247.943512\" xlink:href=\"#m20801e0b57\" y=\"49.645376\"/>\r\n     <use style=\"fill:#1f77b4;stroke:#1f77b4;\" x=\"230.115245\" xlink:href=\"#m20801e0b57\" y=\"32.770619\"/>\r\n     <use style=\"fill:#1f77b4;stroke:#1f77b4;\" x=\"215.134549\" xlink:href=\"#m20801e0b57\" y=\"29.704384\"/>\r\n     <use style=\"fill:#1f77b4;stroke:#1f77b4;\" x=\"180.220859\" xlink:href=\"#m20801e0b57\" y=\"40.226907\"/>\r\n     <use style=\"fill:#1f77b4;stroke:#1f77b4;\" x=\"182.685752\" xlink:href=\"#m20801e0b57\" y=\"44.590797\"/>\r\n     <use style=\"fill:#1f77b4;stroke:#1f77b4;\" x=\"172.195887\" xlink:href=\"#m20801e0b57\" y=\"44.156501\"/>\r\n     <use style=\"fill:#1f77b4;stroke:#1f77b4;\" x=\"174.514463\" xlink:href=\"#m20801e0b57\" y=\"52.811027\"/>\r\n     <use style=\"fill:#1f77b4;stroke:#1f77b4;\" x=\"194.93143\" xlink:href=\"#m20801e0b57\" y=\"47.327386\"/>\r\n     <use style=\"fill:#1f77b4;stroke:#1f77b4;\" x=\"183.417341\" xlink:href=\"#m20801e0b57\" y=\"55.715055\"/>\r\n     <use style=\"fill:#1f77b4;stroke:#1f77b4;\" x=\"203.744267\" xlink:href=\"#m20801e0b57\" y=\"47.845402\"/>\r\n     <use style=\"fill:#1f77b4;stroke:#1f77b4;\" x=\"207.76238\" xlink:href=\"#m20801e0b57\" y=\"46.118682\"/>\r\n     <use style=\"fill:#1f77b4;stroke:#1f77b4;\" x=\"231.555913\" xlink:href=\"#m20801e0b57\" y=\"30.374142\"/>\r\n     <use style=\"fill:#1f77b4;stroke:#1f77b4;\" x=\"231.578424\" xlink:href=\"#m20801e0b57\" y=\"28.281149\"/>\r\n     <use style=\"fill:#1f77b4;stroke:#1f77b4;\" x=\"226.333492\" xlink:href=\"#m20801e0b57\" y=\"38.254261\"/>\r\n     <use style=\"fill:#1f77b4;stroke:#1f77b4;\" x=\"218.927557\" xlink:href=\"#m20801e0b57\" y=\"53.737177\"/>\r\n     <use style=\"fill:#1f77b4;stroke:#1f77b4;\" x=\"230.869345\" xlink:href=\"#m20801e0b57\" y=\"60.204525\"/>\r\n     <use style=\"fill:#1f77b4;stroke:#1f77b4;\" x=\"238.331555\" xlink:href=\"#m20801e0b57\" y=\"54.809836\"/>\r\n     <use style=\"fill:#1f77b4;stroke:#1f77b4;\" x=\"239.704692\" xlink:href=\"#m20801e0b57\" y=\"49.556423\"/>\r\n     <use style=\"fill:#1f77b4;stroke:#1f77b4;\" x=\"243.47519\" xlink:href=\"#m20801e0b57\" y=\"45.731479\"/>\r\n     <use style=\"fill:#1f77b4;stroke:#1f77b4;\" x=\"255.180618\" xlink:href=\"#m20801e0b57\" y=\"37.417064\"/>\r\n     <use style=\"fill:#1f77b4;stroke:#1f77b4;\" x=\"260.414295\" xlink:href=\"#m20801e0b57\" y=\"39.091458\"/>\r\n     <use style=\"fill:#1f77b4;stroke:#1f77b4;\" x=\"245.411088\" xlink:href=\"#m20801e0b57\" y=\"37.218229\"/>\r\n     <use style=\"fill:#1f77b4;stroke:#1f77b4;\" x=\"241.888204\" xlink:href=\"#m20801e0b57\" y=\"37.877522\"/>\r\n     <use style=\"fill:#1f77b4;stroke:#1f77b4;\" x=\"228.652067\" xlink:href=\"#m20801e0b57\" y=\"44.821027\"/>\r\n     <use style=\"fill:#1f77b4;stroke:#1f77b4;\" x=\"223.553452\" xlink:href=\"#m20801e0b57\" y=\"55.542383\"/>\r\n     <use style=\"fill:#1f77b4;stroke:#1f77b4;\" x=\"262.080068\" xlink:href=\"#m20801e0b57\" y=\"33.686304\"/>\r\n     <use style=\"fill:#1f77b4;stroke:#1f77b4;\" x=\"259.041158\" xlink:href=\"#m20801e0b57\" y=\"29.997403\"/>\r\n     <use style=\"fill:#1f77b4;stroke:#1f77b4;\" x=\"222.66429\" xlink:href=\"#m20801e0b57\" y=\"37.563573\"/>\r\n     <use style=\"fill:#1f77b4;stroke:#1f77b4;\" x=\"242.315903\" xlink:href=\"#m20801e0b57\" y=\"45.501249\"/>\r\n     <use style=\"fill:#1f77b4;stroke:#1f77b4;\" x=\"218.612411\" xlink:href=\"#m20801e0b57\" y=\"50.346528\"/>\r\n     <use style=\"fill:#1f77b4;stroke:#1f77b4;\" x=\"198.915778\" xlink:href=\"#m20801e0b57\" y=\"46.427399\"/>\r\n     <use style=\"fill:#1f77b4;stroke:#1f77b4;\" x=\"220.61584\" xlink:href=\"#m20801e0b57\" y=\"43.941969\"/>\r\n     <use style=\"fill:#1f77b4;stroke:#1f77b4;\" x=\"186.962735\" xlink:href=\"#m20801e0b57\" y=\"47.965749\"/>\r\n     <use style=\"fill:#1f77b4;stroke:#1f77b4;\" x=\"159.342427\" xlink:href=\"#m20801e0b57\" y=\"42.858846\"/>\r\n     <use style=\"fill:#1f77b4;stroke:#1f77b4;\" x=\"172.252164\" xlink:href=\"#m20801e0b57\" y=\"39.818773\"/>\r\n     <use style=\"fill:#1f77b4;stroke:#1f77b4;\" x=\"162.392592\" xlink:href=\"#m20801e0b57\" y=\"52.889515\"/>\r\n     <use style=\"fill:#1f77b4;stroke:#1f77b4;\" x=\"157.17017\" xlink:href=\"#m20801e0b57\" y=\"53.412763\"/>\r\n     <use style=\"fill:#1f77b4;stroke:#1f77b4;\" x=\"146.961686\" xlink:href=\"#m20801e0b57\" y=\"63.579477\"/>\r\n     <use style=\"fill:#1f77b4;stroke:#1f77b4;\" x=\"151.137372\" xlink:href=\"#m20801e0b57\" y=\"47.819239\"/>\r\n     <use style=\"fill:#1f77b4;stroke:#1f77b4;\" x=\"153.016994\" xlink:href=\"#m20801e0b57\" y=\"44.909979\"/>\r\n     <use style=\"fill:#1f77b4;stroke:#1f77b4;\" x=\"185.67964\" xlink:href=\"#m20801e0b57\" y=\"32.367718\"/>\r\n     <use style=\"fill:#1f77b4;stroke:#1f77b4;\" x=\"173.647811\" xlink:href=\"#m20801e0b57\" y=\"36.632191\"/>\r\n     <use style=\"fill:#1f77b4;stroke:#1f77b4;\" x=\"189.506415\" xlink:href=\"#m20801e0b57\" y=\"34.790357\"/>\r\n     <use style=\"fill:#1f77b4;stroke:#1f77b4;\" x=\"197.542641\" xlink:href=\"#m20801e0b57\" y=\"44.067549\"/>\r\n     <use style=\"fill:#1f77b4;stroke:#1f77b4;\" x=\"206.141628\" xlink:href=\"#m20801e0b57\" y=\"38.604837\"/>\r\n     <use style=\"fill:#1f77b4;stroke:#1f77b4;\" x=\"197.576407\" xlink:href=\"#m20801e0b57\" y=\"35.747902\"/>\r\n     <use style=\"fill:#1f77b4;stroke:#1f77b4;\" x=\"191.431057\" xlink:href=\"#m20801e0b57\" y=\"29.657292\"/>\r\n     <use style=\"fill:#1f77b4;stroke:#1f77b4;\" x=\"192.702897\" xlink:href=\"#m20801e0b57\" y=\"30.850298\"/>\r\n     <use style=\"fill:#1f77b4;stroke:#1f77b4;\" x=\"179.849436\" xlink:href=\"#m20801e0b57\" y=\"43.926272\"/>\r\n     <use style=\"fill:#1f77b4;stroke:#1f77b4;\" x=\"190.699468\" xlink:href=\"#m20801e0b57\" y=\"46.940182\"/>\r\n     <use style=\"fill:#1f77b4;stroke:#1f77b4;\" x=\"193.445741\" xlink:href=\"#m20801e0b57\" y=\"39.860633\"/>\r\n     <use style=\"fill:#1f77b4;stroke:#1f77b4;\" x=\"176.090193\" xlink:href=\"#m20801e0b57\" y=\"50.278506\"/>\r\n     <use style=\"fill:#1f77b4;stroke:#1f77b4;\" x=\"179.973244\" xlink:href=\"#m20801e0b57\" y=\"40.462369\"/>\r\n     <use style=\"fill:#1f77b4;stroke:#1f77b4;\" x=\"159.229875\" xlink:href=\"#m20801e0b57\" y=\"37.453691\"/>\r\n     <use style=\"fill:#1f77b4;stroke:#1f77b4;\" x=\"163.191712\" xlink:href=\"#m20801e0b57\" y=\"33.738628\"/>\r\n     <use style=\"fill:#1f77b4;stroke:#1f77b4;\" x=\"166.624554\" xlink:href=\"#m20801e0b57\" y=\"44.998931\"/>\r\n     <use style=\"fill:#1f77b4;stroke:#1f77b4;\" x=\"177.103163\" xlink:href=\"#m20801e0b57\" y=\"31.373546\"/>\r\n     <use style=\"fill:#1f77b4;stroke:#1f77b4;\" x=\"167.153549\" xlink:href=\"#m20801e0b57\" y=\"48.012841\"/>\r\n     <use style=\"fill:#1f77b4;stroke:#1f77b4;\" x=\"161.447153\" xlink:href=\"#m20801e0b57\" y=\"38.212401\"/>\r\n     <use style=\"fill:#1f77b4;stroke:#1f77b4;\" x=\"148.188505\" xlink:href=\"#m20801e0b57\" y=\"36.422892\"/>\r\n     <use style=\"fill:#1f77b4;stroke:#1f77b4;\" x=\"147.40064\" xlink:href=\"#m20801e0b57\" y=\"39.714124\"/>\r\n     <use style=\"fill:#1f77b4;stroke:#1f77b4;\" x=\"153.816115\" xlink:href=\"#m20801e0b57\" y=\"32.116559\"/>\r\n     <use style=\"fill:#1f77b4;stroke:#1f77b4;\" x=\"129.065888\" xlink:href=\"#m20801e0b57\" y=\"40.530391\"/>\r\n     <use style=\"fill:#1f77b4;stroke:#1f77b4;\" x=\"134.929857\" xlink:href=\"#m20801e0b57\" y=\"56.055167\"/>\r\n     <use style=\"fill:#1f77b4;stroke:#1f77b4;\" x=\"157.777952\" xlink:href=\"#m20801e0b57\" y=\"53.779037\"/>\r\n     <use style=\"fill:#1f77b4;stroke:#1f77b4;\" x=\"143.371271\" xlink:href=\"#m20801e0b57\" y=\"57.169685\"/>\r\n     <use style=\"fill:#1f77b4;stroke:#1f77b4;\" x=\"144.091605\" xlink:href=\"#m20801e0b57\" y=\"59.131866\"/>\r\n     <use style=\"fill:#1f77b4;stroke:#1f77b4;\" x=\"119.217571\" xlink:href=\"#m20801e0b57\" y=\"41.58212\"/>\r\n     <use style=\"fill:#1f77b4;stroke:#1f77b4;\" x=\"166.309408\" xlink:href=\"#m20801e0b57\" y=\"36.35487\"/>\r\n     <use style=\"fill:#1f77b4;stroke:#1f77b4;\" x=\"140.489935\" xlink:href=\"#m20801e0b57\" y=\"41.639677\"/>\r\n     <use style=\"fill:#1f77b4;stroke:#1f77b4;\" x=\"137.980021\" xlink:href=\"#m20801e0b57\" y=\"41.786187\"/>\r\n     <use style=\"fill:#1f77b4;stroke:#1f77b4;\" x=\"136.87701\" xlink:href=\"#m20801e0b57\" y=\"43.172795\"/>\r\n     <use style=\"fill:#1f77b4;stroke:#1f77b4;\" x=\"145.791143\" xlink:href=\"#m20801e0b57\" y=\"42.879776\"/>\r\n     <use style=\"fill:#1f77b4;stroke:#1f77b4;\" x=\"149.617918\" xlink:href=\"#m20801e0b57\" y=\"48.850038\"/>\r\n     <use style=\"fill:#1f77b4;stroke:#1f77b4;\" x=\"172.083335\" xlink:href=\"#m20801e0b57\" y=\"34.335131\"/>\r\n     <use style=\"fill:#1f77b4;stroke:#1f77b4;\" x=\"183.957591\" xlink:href=\"#m20801e0b57\" y=\"30.358445\"/>\r\n     <use style=\"fill:#1f77b4;stroke:#1f77b4;\" x=\"162.460123\" xlink:href=\"#m20801e0b57\" y=\"40.880967\"/>\r\n     <use style=\"fill:#1f77b4;stroke:#1f77b4;\" x=\"132.02601\" xlink:href=\"#m20801e0b57\" y=\"48.923293\"/>\r\n     <use style=\"fill:#1f77b4;stroke:#1f77b4;\" x=\"143.281229\" xlink:href=\"#m20801e0b57\" y=\"49.671538\"/>\r\n     <use style=\"fill:#1f77b4;stroke:#1f77b4;\" x=\"158.081843\" xlink:href=\"#m20801e0b57\" y=\"50.513968\"/>\r\n     <use style=\"fill:#1f77b4;stroke:#1f77b4;\" x=\"143.112401\" xlink:href=\"#m20801e0b57\" y=\"44.878584\"/>\r\n     <use style=\"fill:#1f77b4;stroke:#1f77b4;\" x=\"155.673226\" xlink:href=\"#m20801e0b57\" y=\"29.479388\"/>\r\n     <use style=\"fill:#1f77b4;stroke:#1f77b4;\" x=\"148.211015\" xlink:href=\"#m20801e0b57\" y=\"29.542177\"/>\r\n     <use style=\"fill:#1f77b4;stroke:#1f77b4;\" x=\"151.587581\" xlink:href=\"#m20801e0b57\" y=\"39.813541\"/>\r\n     <use style=\"fill:#1f77b4;stroke:#1f77b4;\" x=\"151.103607\" xlink:href=\"#m20801e0b57\" y=\"44.946606\"/>\r\n     <use style=\"fill:#1f77b4;stroke:#1f77b4;\" x=\"164.756188\" xlink:href=\"#m20801e0b57\" y=\"41.273403\"/>\r\n     <use style=\"fill:#1f77b4;stroke:#1f77b4;\" x=\"143.900267\" xlink:href=\"#m20801e0b57\" y=\"37.819965\"/>\r\n     <use style=\"fill:#1f77b4;stroke:#1f77b4;\" x=\"142.166963\" xlink:href=\"#m20801e0b57\" y=\"48.98085\"/>\r\n     <use style=\"fill:#1f77b4;stroke:#1f77b4;\" x=\"171.239194\" xlink:href=\"#m20801e0b57\" y=\"35.915341\"/>\r\n     <use style=\"fill:#1f77b4;stroke:#1f77b4;\" x=\"189.393862\" xlink:href=\"#m20801e0b57\" y=\"35.878714\"/>\r\n     <use style=\"fill:#1f77b4;stroke:#1f77b4;\" x=\"173.265133\" xlink:href=\"#m20801e0b57\" y=\"38.699022\"/>\r\n     <use style=\"fill:#1f77b4;stroke:#1f77b4;\" x=\"165.870454\" xlink:href=\"#m20801e0b57\" y=\"37.035092\"/>\r\n     <use style=\"fill:#1f77b4;stroke:#1f77b4;\" x=\"165.892965\" xlink:href=\"#m20801e0b57\" y=\"41.64491\"/>\r\n     <use style=\"fill:#1f77b4;stroke:#1f77b4;\" x=\"149.077667\" xlink:href=\"#m20801e0b57\" y=\"48.488997\"/>\r\n     <use style=\"fill:#1f77b4;stroke:#1f77b4;\" x=\"140.692529\" xlink:href=\"#m20801e0b57\" y=\"57.483634\"/>\r\n     <use style=\"fill:#1f77b4;stroke:#1f77b4;\" x=\"160.625522\" xlink:href=\"#m20801e0b57\" y=\"38.835066\"/>\r\n     <use style=\"fill:#1f77b4;stroke:#1f77b4;\" x=\"139.488221\" xlink:href=\"#m20801e0b57\" y=\"49.776188\"/>\r\n     <use style=\"fill:#1f77b4;stroke:#1f77b4;\" x=\"169.978609\" xlink:href=\"#m20801e0b57\" y=\"54.490654\"/>\r\n     <use style=\"fill:#1f77b4;stroke:#1f77b4;\" x=\"155.087954\" xlink:href=\"#m20801e0b57\" y=\"47.578545\"/>\r\n     <use style=\"fill:#1f77b4;stroke:#1f77b4;\" x=\"172.027059\" xlink:href=\"#m20801e0b57\" y=\"50.090137\"/>\r\n     <use style=\"fill:#1f77b4;stroke:#1f77b4;\" x=\"179.331696\" xlink:href=\"#m20801e0b57\" y=\"30.709021\"/>\r\n     <use style=\"fill:#1f77b4;stroke:#1f77b4;\" x=\"177.373288\" xlink:href=\"#m20801e0b57\" y=\"30.416002\"/>\r\n     <use style=\"fill:#1f77b4;stroke:#1f77b4;\" x=\"175.178521\" xlink:href=\"#m20801e0b57\" y=\"31.247967\"/>\r\n     <use style=\"fill:#1f77b4;stroke:#1f77b4;\" x=\"162.032425\" xlink:href=\"#m20801e0b57\" y=\"31.284594\"/>\r\n     <use style=\"fill:#1f77b4;stroke:#1f77b4;\" x=\"186.838928\" xlink:href=\"#m20801e0b57\" y=\"39.546684\"/>\r\n     <use style=\"fill:#1f77b4;stroke:#1f77b4;\" x=\"191.678672\" xlink:href=\"#m20801e0b57\" y=\"46.239029\"/>\r\n     <use style=\"fill:#1f77b4;stroke:#1f77b4;\" x=\"177.44082\" xlink:href=\"#m20801e0b57\" y=\"35.863016\"/>\r\n     <use style=\"fill:#1f77b4;stroke:#1f77b4;\" x=\"165.352714\" xlink:href=\"#m20801e0b57\" y=\"37.526946\"/>\r\n     <use style=\"fill:#1f77b4;stroke:#1f77b4;\" x=\"195.1903\" xlink:href=\"#m20801e0b57\" y=\"34.560128\"/>\r\n     <use style=\"fill:#1f77b4;stroke:#1f77b4;\" x=\"176.731741\" xlink:href=\"#m20801e0b57\" y=\"33.335727\"/>\r\n     <use style=\"fill:#1f77b4;stroke:#1f77b4;\" x=\"196.282056\" xlink:href=\"#m20801e0b57\" y=\"32.634575\"/>\r\n     <use style=\"fill:#1f77b4;stroke:#1f77b4;\" x=\"201.808369\" xlink:href=\"#m20801e0b57\" y=\"43.842552\"/>\r\n     <use style=\"fill:#1f77b4;stroke:#1f77b4;\" x=\"230.542944\" xlink:href=\"#m20801e0b57\" y=\"40.828642\"/>\r\n     <use style=\"fill:#1f77b4;stroke:#1f77b4;\" x=\"223.733536\" xlink:href=\"#m20801e0b57\" y=\"48.95992\"/>\r\n     <use style=\"fill:#1f77b4;stroke:#1f77b4;\" x=\"216.867852\" xlink:href=\"#m20801e0b57\" y=\"41.828047\"/>\r\n     <use style=\"fill:#1f77b4;stroke:#1f77b4;\" x=\"194.593774\" xlink:href=\"#m20801e0b57\" y=\"36.773468\"/>\r\n     <use style=\"fill:#1f77b4;stroke:#1f77b4;\" x=\"191.284739\" xlink:href=\"#m20801e0b57\" y=\"35.140934\"/>\r\n     <use style=\"fill:#1f77b4;stroke:#1f77b4;\" x=\"183.439851\" xlink:href=\"#m20801e0b57\" y=\"31.384011\"/>\r\n     <use style=\"fill:#1f77b4;stroke:#1f77b4;\" x=\"162.392592\" xlink:href=\"#m20801e0b57\" y=\"46.66286\"/>\r\n     <use style=\"fill:#1f77b4;stroke:#1f77b4;\" x=\"175.448646\" xlink:href=\"#m20801e0b57\" y=\"51.884878\"/>\r\n     <use style=\"fill:#1f77b4;stroke:#1f77b4;\" x=\"191.228463\" xlink:href=\"#m20801e0b57\" y=\"60.910911\"/>\r\n     <use style=\"fill:#1f77b4;stroke:#1f77b4;\" x=\"183.811274\" xlink:href=\"#m20801e0b57\" y=\"48.724459\"/>\r\n     <use style=\"fill:#1f77b4;stroke:#1f77b4;\" x=\"163.720707\" xlink:href=\"#m20801e0b57\" y=\"38.992041\"/>\r\n     <use style=\"fill:#1f77b4;stroke:#1f77b4;\" x=\"161.255814\" xlink:href=\"#m20801e0b57\" y=\"30.907855\"/>\r\n     <use style=\"fill:#1f77b4;stroke:#1f77b4;\" x=\"144.395496\" xlink:href=\"#m20801e0b57\" y=\"38.181006\"/>\r\n     <use style=\"fill:#1f77b4;stroke:#1f77b4;\" x=\"124.788904\" xlink:href=\"#m20801e0b57\" y=\"49.472704\"/>\r\n     <use style=\"fill:#1f77b4;stroke:#1f77b4;\" x=\"129.786222\" xlink:href=\"#m20801e0b57\" y=\"51.832553\"/>\r\n     <use style=\"fill:#1f77b4;stroke:#1f77b4;\" x=\"131.181869\" xlink:href=\"#m20801e0b57\" y=\"47.751217\"/>\r\n     <use style=\"fill:#1f77b4;stroke:#1f77b4;\" x=\"133.748059\" xlink:href=\"#m20801e0b57\" y=\"47.405873\"/>\r\n     <use style=\"fill:#1f77b4;stroke:#1f77b4;\" x=\"140.591232\" xlink:href=\"#m20801e0b57\" y=\"44.344871\"/>\r\n     <use style=\"fill:#1f77b4;stroke:#1f77b4;\" x=\"140.591232\" xlink:href=\"#m20801e0b57\" y=\"35.224654\"/>\r\n     <use style=\"fill:#1f77b4;stroke:#1f77b4;\" x=\"159.319917\" xlink:href=\"#m20801e0b57\" y=\"27.632321\"/>\r\n     <use style=\"fill:#1f77b4;stroke:#1f77b4;\" x=\"161.334601\" xlink:href=\"#m20801e0b57\" y=\"32.079931\"/>\r\n     <use style=\"fill:#1f77b4;stroke:#1f77b4;\" x=\"164.002088\" xlink:href=\"#m20801e0b57\" y=\"42.288505\"/>\r\n     <use style=\"fill:#1f77b4;stroke:#1f77b4;\" x=\"174.581994\" xlink:href=\"#m20801e0b57\" y=\"41.733862\"/>\r\n     <use style=\"fill:#1f77b4;stroke:#1f77b4;\" x=\"157.507826\" xlink:href=\"#m20801e0b57\" y=\"46.856462\"/>\r\n     <use style=\"fill:#1f77b4;stroke:#1f77b4;\" x=\"184.025123\" xlink:href=\"#m20801e0b57\" y=\"42.618151\"/>\r\n     <use style=\"fill:#1f77b4;stroke:#1f77b4;\" x=\"177.294502\" xlink:href=\"#m20801e0b57\" y=\"35.392093\"/>\r\n     <use style=\"fill:#1f77b4;stroke:#1f77b4;\" x=\"184.306503\" xlink:href=\"#m20801e0b57\" y=\"25.77479\"/>\r\n     <use style=\"fill:#1f77b4;stroke:#1f77b4;\" x=\"188.257085\" xlink:href=\"#m20801e0b57\" y=\"32.362486\"/>\r\n     <use style=\"fill:#1f77b4;stroke:#1f77b4;\" x=\"207.773635\" xlink:href=\"#m20801e0b57\" y=\"38.782742\"/>\r\n     <use style=\"fill:#1f77b4;stroke:#1f77b4;\" x=\"203.519162\" xlink:href=\"#m20801e0b57\" y=\"38.044962\"/>\r\n     <use style=\"fill:#1f77b4;stroke:#1f77b4;\" x=\"178.161154\" xlink:href=\"#m20801e0b57\" y=\"45.370437\"/>\r\n     <use style=\"fill:#1f77b4;stroke:#1f77b4;\" x=\"202.269833\" xlink:href=\"#m20801e0b57\" y=\"36.475217\"/>\r\n     <use style=\"fill:#1f77b4;stroke:#1f77b4;\" x=\"201.391926\" xlink:href=\"#m20801e0b57\" y=\"29.976473\"/>\r\n     <use style=\"fill:#1f77b4;stroke:#1f77b4;\" x=\"175.144755\" xlink:href=\"#m20801e0b57\" y=\"36.276383\"/>\r\n     <use style=\"fill:#1f77b4;stroke:#1f77b4;\" x=\"149.798001\" xlink:href=\"#m20801e0b57\" y=\"47.923889\"/>\r\n     <use style=\"fill:#1f77b4;stroke:#1f77b4;\" x=\"157.417785\" xlink:href=\"#m20801e0b57\" y=\"36.255453\"/>\r\n     <use style=\"fill:#1f77b4;stroke:#1f77b4;\" x=\"140.658763\" xlink:href=\"#m20801e0b57\" y=\"45.014628\"/>\r\n     <use style=\"fill:#1f77b4;stroke:#1f77b4;\" x=\"169.044426\" xlink:href=\"#m20801e0b57\" y=\"47.039599\"/>\r\n     <use style=\"fill:#1f77b4;stroke:#1f77b4;\" x=\"189.506415\" xlink:href=\"#m20801e0b57\" y=\"42.042578\"/>\r\n     <use style=\"fill:#1f77b4;stroke:#1f77b4;\" x=\"193.648335\" xlink:href=\"#m20801e0b57\" y=\"32.059002\"/>\r\n     <use style=\"fill:#1f77b4;stroke:#1f77b4;\" x=\"210.047189\" xlink:href=\"#m20801e0b57\" y=\"50.179089\"/>\r\n     <use style=\"fill:#1f77b4;stroke:#1f77b4;\" x=\"207.874932\" xlink:href=\"#m20801e0b57\" y=\"56.594112\"/>\r\n     <use style=\"fill:#1f77b4;stroke:#1f77b4;\" x=\"234.425994\" xlink:href=\"#m20801e0b57\" y=\"45.025093\"/>\r\n     <use style=\"fill:#1f77b4;stroke:#1f77b4;\" x=\"230.768048\" xlink:href=\"#m20801e0b57\" y=\"43.225119\"/>\r\n     <use style=\"fill:#1f77b4;stroke:#1f77b4;\" x=\"237.982643\" xlink:href=\"#m20801e0b57\" y=\"37.8095\"/>\r\n     <use style=\"fill:#1f77b4;stroke:#1f77b4;\" x=\"222.033998\" xlink:href=\"#m20801e0b57\" y=\"29.353808\"/>\r\n     <use style=\"fill:#1f77b4;stroke:#1f77b4;\" x=\"186.647589\" xlink:href=\"#m20801e0b57\" y=\"27.695111\"/>\r\n     <use style=\"fill:#1f77b4;stroke:#1f77b4;\" x=\"204.250752\" xlink:href=\"#m20801e0b57\" y=\"24.984685\"/>\r\n     <use style=\"fill:#1f77b4;stroke:#1f77b4;\" x=\"187.412944\" xlink:href=\"#m20801e0b57\" y=\"42.979193\"/>\r\n     <use style=\"fill:#1f77b4;stroke:#1f77b4;\" x=\"200.514019\" xlink:href=\"#m20801e0b57\" y=\"44.151269\"/>\r\n     <use style=\"fill:#1f77b4;stroke:#1f77b4;\" x=\"218.364796\" xlink:href=\"#m20801e0b57\" y=\"39.844936\"/>\r\n     <use style=\"fill:#1f77b4;stroke:#1f77b4;\" x=\"218.274755\" xlink:href=\"#m20801e0b57\" y=\"47.981446\"/>\r\n     <use style=\"fill:#1f77b4;stroke:#1f77b4;\" x=\"231.240767\" xlink:href=\"#m20801e0b57\" y=\"41.68677\"/>\r\n     <use style=\"fill:#1f77b4;stroke:#1f77b4;\" x=\"242.878664\" xlink:href=\"#m20801e0b57\" y=\"31.629938\"/>\r\n     <use style=\"fill:#1f77b4;stroke:#1f77b4;\" x=\"234.110848\" xlink:href=\"#m20801e0b57\" y=\"25.518398\"/>\r\n     <use style=\"fill:#1f77b4;stroke:#1f77b4;\" x=\"234.909969\" xlink:href=\"#m20801e0b57\" y=\"33.790953\"/>\r\n     <use style=\"fill:#1f77b4;stroke:#1f77b4;\" x=\"254.899238\" xlink:href=\"#m20801e0b57\" y=\"48.713994\"/>\r\n     <use style=\"fill:#1f77b4;stroke:#1f77b4;\" x=\"245.658703\" xlink:href=\"#m20801e0b57\" y=\"40.959454\"/>\r\n     <use style=\"fill:#1f77b4;stroke:#1f77b4;\" x=\"228.517004\" xlink:href=\"#m20801e0b57\" y=\"117.139168\"/>\r\n     <use style=\"fill:#1f77b4;stroke:#1f77b4;\" x=\"291.399914\" xlink:href=\"#m20801e0b57\" y=\"61.135907\"/>\r\n     <use style=\"fill:#1f77b4;stroke:#1f77b4;\" x=\"304.129566\" xlink:href=\"#m20801e0b57\" y=\"27.480579\"/>\r\n     <use style=\"fill:#1f77b4;stroke:#1f77b4;\" x=\"273.188969\" xlink:href=\"#m20801e0b57\" y=\"21.505084\"/>\r\n     <use style=\"fill:#1f77b4;stroke:#1f77b4;\" x=\"248.011044\" xlink:href=\"#m20801e0b57\" y=\"26.481175\"/>\r\n     <use style=\"fill:#1f77b4;stroke:#1f77b4;\" x=\"227.346461\" xlink:href=\"#m20801e0b57\" y=\"25.047475\"/>\r\n     <use style=\"fill:#1f77b4;stroke:#1f77b4;\" x=\"196.124483\" xlink:href=\"#m20801e0b57\" y=\"30.091588\"/>\r\n     <use style=\"fill:#1f77b4;stroke:#1f77b4;\" x=\"181.684037\" xlink:href=\"#m20801e0b57\" y=\"44.44952\"/>\r\n     <use style=\"fill:#1f77b4;stroke:#1f77b4;\" x=\"191.35227\" xlink:href=\"#m20801e0b57\" y=\"51.152331\"/>\r\n     <use style=\"fill:#1f77b4;stroke:#1f77b4;\" x=\"204.250752\" xlink:href=\"#m20801e0b57\" y=\"33.702001\"/>\r\n     <use style=\"fill:#1f77b4;stroke:#1f77b4;\" x=\"221.009773\" xlink:href=\"#m20801e0b57\" y=\"28.118942\"/>\r\n     <use style=\"fill:#1f77b4;stroke:#1f77b4;\" x=\"191.926287\" xlink:href=\"#m20801e0b57\" y=\"37.741478\"/>\r\n     <use style=\"fill:#1f77b4;stroke:#1f77b4;\" x=\"184.689181\" xlink:href=\"#m20801e0b57\" y=\"37.317647\"/>\r\n     <use style=\"fill:#1f77b4;stroke:#1f77b4;\" x=\"163.923301\" xlink:href=\"#m20801e0b57\" y=\"48.776783\"/>\r\n     <use style=\"fill:#1f77b4;stroke:#1f77b4;\" x=\"185.510812\" xlink:href=\"#m20801e0b57\" y=\"41.4984\"/>\r\n     <use style=\"fill:#1f77b4;stroke:#1f77b4;\" x=\"180.119562\" xlink:href=\"#m20801e0b57\" y=\"43.104772\"/>\r\n     <use style=\"fill:#1f77b4;stroke:#1f77b4;\" x=\"168.943129\" xlink:href=\"#m20801e0b57\" y=\"36.244988\"/>\r\n     <use style=\"fill:#1f77b4;stroke:#1f77b4;\" x=\"169.201999\" xlink:href=\"#m20801e0b57\" y=\"24.053303\"/>\r\n     <use style=\"fill:#1f77b4;stroke:#1f77b4;\" x=\"167.007231\" xlink:href=\"#m20801e0b57\" y=\"37.699618\"/>\r\n     <use style=\"fill:#1f77b4;stroke:#1f77b4;\" x=\"152.893187\" xlink:href=\"#m20801e0b57\" y=\"45.673921\"/>\r\n     <use style=\"fill:#1f77b4;stroke:#1f77b4;\" x=\"161.278325\" xlink:href=\"#m20801e0b57\" y=\"55.055763\"/>\r\n     <use style=\"fill:#1f77b4;stroke:#1f77b4;\" x=\"165.206396\" xlink:href=\"#m20801e0b57\" y=\"42.414085\"/>\r\n     <use style=\"fill:#1f77b4;stroke:#1f77b4;\" x=\"165.577819\" xlink:href=\"#m20801e0b57\" y=\"30.18054\"/>\r\n     <use style=\"fill:#1f77b4;stroke:#1f77b4;\" x=\"152.150342\" xlink:href=\"#m20801e0b57\" y=\"30.682859\"/>\r\n     <use style=\"fill:#1f77b4;stroke:#1f77b4;\" x=\"163.473093\" xlink:href=\"#m20801e0b57\" y=\"31.096225\"/>\r\n     <use style=\"fill:#1f77b4;stroke:#1f77b4;\" x=\"183.901315\" xlink:href=\"#m20801e0b57\" y=\"35.753134\"/>\r\n     <use style=\"fill:#1f77b4;stroke:#1f77b4;\" x=\"210.463633\" xlink:href=\"#m20801e0b57\" y=\"32.273533\"/>\r\n     <use style=\"fill:#1f77b4;stroke:#1f77b4;\" x=\"187.097798\" xlink:href=\"#m20801e0b57\" y=\"38.390305\"/>\r\n     <use style=\"fill:#1f77b4;stroke:#1f77b4;\" x=\"178.825212\" xlink:href=\"#m20801e0b57\" y=\"48.572717\"/>\r\n     <use style=\"fill:#1f77b4;stroke:#1f77b4;\" x=\"189.967879\" xlink:href=\"#m20801e0b57\" y=\"43.219887\"/>\r\n     <use style=\"fill:#1f77b4;stroke:#1f77b4;\" x=\"194.469966\" xlink:href=\"#m20801e0b57\" y=\"113.983981\"/>\r\n     <use style=\"fill:#1f77b4;stroke:#1f77b4;\" x=\"296.644846\" xlink:href=\"#m20801e0b57\" y=\"17.941764\"/>\r\n     <use style=\"fill:#1f77b4;stroke:#1f77b4;\" x=\"233.064113\" xlink:href=\"#m20801e0b57\" y=\"23.666099\"/>\r\n     <use style=\"fill:#1f77b4;stroke:#1f77b4;\" x=\"220.266928\" xlink:href=\"#m20801e0b57\" y=\"23.179479\"/>\r\n     <use style=\"fill:#1f77b4;stroke:#1f77b4;\" x=\"193.648335\" xlink:href=\"#m20801e0b57\" y=\"34.544431\"/>\r\n     <use style=\"fill:#1f77b4;stroke:#1f77b4;\" x=\"182.59571\" xlink:href=\"#m20801e0b57\" y=\"37.976939\"/>\r\n     <use style=\"fill:#1f77b4;stroke:#1f77b4;\" x=\"182.539434\" xlink:href=\"#m20801e0b57\" y=\"36.763003\"/>\r\n     <use style=\"fill:#1f77b4;stroke:#1f77b4;\" x=\"189.697753\" xlink:href=\"#m20801e0b57\" y=\"28.307312\"/>\r\n     <use style=\"fill:#1f77b4;stroke:#1f77b4;\" x=\"190.902062\" xlink:href=\"#m20801e0b57\" y=\"27.381162\"/>\r\n     <use style=\"fill:#1f77b4;stroke:#1f77b4;\" x=\"185.150645\" xlink:href=\"#m20801e0b57\" y=\"31.839237\"/>\r\n     <use style=\"fill:#1f77b4;stroke:#1f77b4;\" x=\"153.906156\" xlink:href=\"#m20801e0b57\" y=\"38.306586\"/>\r\n     <use style=\"fill:#1f77b4;stroke:#1f77b4;\" x=\"156.190966\" xlink:href=\"#m20801e0b57\" y=\"42.073973\"/>\r\n     <use style=\"fill:#1f77b4;stroke:#1f77b4;\" x=\"146.770347\" xlink:href=\"#m20801e0b57\" y=\"41.56119\"/>\r\n     <use style=\"fill:#1f77b4;stroke:#1f77b4;\" x=\"160.816861\" xlink:href=\"#m20801e0b57\" y=\"46.427399\"/>\r\n     <use style=\"fill:#1f77b4;stroke:#1f77b4;\" x=\"148.503651\" xlink:href=\"#m20801e0b57\" y=\"45.31288\"/>\r\n     <use style=\"fill:#1f77b4;stroke:#1f77b4;\" x=\"171.329236\" xlink:href=\"#m20801e0b57\" y=\"29.510783\"/>\r\n     <use style=\"fill:#1f77b4;stroke:#1f77b4;\" x=\"164.992547\" xlink:href=\"#m20801e0b57\" y=\"48.41051\"/>\r\n     <use style=\"fill:#1f77b4;stroke:#1f77b4;\" x=\"161.52594\" xlink:href=\"#m20801e0b57\" y=\"45.789036\"/>\r\n     <use style=\"fill:#1f77b4;stroke:#1f77b4;\" x=\"157.226446\" xlink:href=\"#m20801e0b57\" y=\"55.819705\"/>\r\n     <use style=\"fill:#1f77b4;stroke:#1f77b4;\" x=\"163.61941\" xlink:href=\"#m20801e0b57\" y=\"43.947202\"/>\r\n     <use style=\"fill:#1f77b4;stroke:#1f77b4;\" x=\"180.378432\" xlink:href=\"#m20801e0b57\" y=\"36.009526\"/>\r\n     <use style=\"fill:#1f77b4;stroke:#1f77b4;\" x=\"210.035934\" xlink:href=\"#m20801e0b57\" y=\"22.875995\"/>\r\n     <use style=\"fill:#1f77b4;stroke:#1f77b4;\" x=\"205.2187\" xlink:href=\"#m20801e0b57\" y=\"24.032373\"/>\r\n     <use style=\"fill:#1f77b4;stroke:#1f77b4;\" x=\"224.633953\" xlink:href=\"#m20801e0b57\" y=\"29.406133\"/>\r\n     <use style=\"fill:#1f77b4;stroke:#1f77b4;\" x=\"211.577899\" xlink:href=\"#m20801e0b57\" y=\"43.941969\"/>\r\n     <use style=\"fill:#1f77b4;stroke:#1f77b4;\" x=\"231.353319\" xlink:href=\"#m20801e0b57\" y=\"34.413619\"/>\r\n     <use style=\"fill:#1f77b4;stroke:#1f77b4;\" x=\"201.414436\" xlink:href=\"#m20801e0b57\" y=\"38.458328\"/>\r\n     <use style=\"fill:#1f77b4;stroke:#1f77b4;\" x=\"240.357495\" xlink:href=\"#m20801e0b57\" y=\"27.386395\"/>\r\n     <use style=\"fill:#1f77b4;stroke:#1f77b4;\" x=\"223.711026\" xlink:href=\"#m20801e0b57\" y=\"71.103787\"/>\r\n     <use style=\"fill:#1f77b4;stroke:#1f77b4;\" x=\"291.591252\" xlink:href=\"#m20801e0b57\" y=\"45.930313\"/>\r\n     <use style=\"fill:#1f77b4;stroke:#1f77b4;\" x=\"333.933387\" xlink:href=\"#m20801e0b57\" y=\"37.689153\"/>\r\n     <use style=\"fill:#1f77b4;stroke:#1f77b4;\" x=\"365.594318\" xlink:href=\"#m20801e0b57\" y=\"28.820095\"/>\r\n     <use style=\"fill:#1f77b4;stroke:#1f77b4;\" x=\"329.172429\" xlink:href=\"#m20801e0b57\" y=\"21.337645\"/>\r\n     <use style=\"fill:#1f77b4;stroke:#1f77b4;\" x=\"286.751508\" xlink:href=\"#m20801e0b57\" y=\"18.90454\"/>\r\n     <use style=\"fill:#1f77b4;stroke:#1f77b4;\" x=\"269.812403\" xlink:href=\"#m20801e0b57\" y=\"19.783597\"/>\r\n     <use style=\"fill:#1f77b4;stroke:#1f77b4;\" x=\"243.373893\" xlink:href=\"#m20801e0b57\" y=\"19.532438\"/>\r\n     <use style=\"fill:#1f77b4;stroke:#1f77b4;\" x=\"204.18322\" xlink:href=\"#m20801e0b57\" y=\"28.223592\"/>\r\n     <use style=\"fill:#1f77b4;stroke:#1f77b4;\" x=\"213.423755\" xlink:href=\"#m20801e0b57\" y=\"17.083636\"/>\r\n     <use style=\"fill:#1f77b4;stroke:#1f77b4;\" x=\"209.709533\" xlink:href=\"#m20801e0b57\" y=\"19.333604\"/>\r\n     <use style=\"fill:#1f77b4;stroke:#1f77b4;\" x=\"186.152359\" xlink:href=\"#m20801e0b57\" y=\"39.996678\"/>\r\n     <use style=\"fill:#1f77b4;stroke:#1f77b4;\" x=\"196.799797\" xlink:href=\"#m20801e0b57\" y=\"33.592119\"/>\r\n     <use style=\"fill:#1f77b4;stroke:#1f77b4;\" x=\"185.353239\" xlink:href=\"#m20801e0b57\" y=\"27.674181\"/>\r\n     <use style=\"fill:#1f77b4;stroke:#1f77b4;\" x=\"170.51886\" xlink:href=\"#m20801e0b57\" y=\"28.443356\"/>\r\n     <use style=\"fill:#1f77b4;stroke:#1f77b4;\" x=\"172.612331\" xlink:href=\"#m20801e0b57\" y=\"32.885734\"/>\r\n     <use style=\"fill:#1f77b4;stroke:#1f77b4;\" x=\"198.082892\" xlink:href=\"#m20801e0b57\" y=\"35.49151\"/>\r\n     <use style=\"fill:#1f77b4;stroke:#1f77b4;\" x=\"196.360843\" xlink:href=\"#m20801e0b57\" y=\"32.121791\"/>\r\n     <use style=\"fill:#1f77b4;stroke:#1f77b4;\" x=\"176.68672\" xlink:href=\"#m20801e0b57\" y=\"38.719952\"/>\r\n     <use style=\"fill:#1f77b4;stroke:#1f77b4;\" x=\"179.961989\" xlink:href=\"#m20801e0b57\" y=\"40.410044\"/>\r\n    </g>\r\n   </g>\r\n   <g id=\"matplotlib.axis_1\">\r\n    <g id=\"xtick_1\">\r\n     <g id=\"line2d_1\">\r\n      <defs>\r\n       <path d=\"M 0 0 \r\nL 0 3.5 \r\n\" id=\"m23bf011799\" style=\"stroke:#000000;stroke-width:0.8;\"/>\r\n      </defs>\r\n      <g>\r\n       <use style=\"stroke:#000000;stroke-width:0.8;\" x=\"85.935888\" xlink:href=\"#m23bf011799\" y=\"224.64\"/>\r\n      </g>\r\n     </g>\r\n     <g id=\"text_1\">\r\n      <!-- 5000 -->\r\n      <g transform=\"translate(73.210888 239.238437)scale(0.1 -0.1)\">\r\n       <defs>\r\n        <path d=\"M 10.796875 72.90625 \r\nL 49.515625 72.90625 \r\nL 49.515625 64.59375 \r\nL 19.828125 64.59375 \r\nL 19.828125 46.734375 \r\nQ 21.96875 47.46875 24.109375 47.828125 \r\nQ 26.265625 48.1875 28.421875 48.1875 \r\nQ 40.625 48.1875 47.75 41.5 \r\nQ 54.890625 34.8125 54.890625 23.390625 \r\nQ 54.890625 11.625 47.5625 5.09375 \r\nQ 40.234375 -1.421875 26.90625 -1.421875 \r\nQ 22.3125 -1.421875 17.546875 -0.640625 \r\nQ 12.796875 0.140625 7.71875 1.703125 \r\nL 7.71875 11.625 \r\nQ 12.109375 9.234375 16.796875 8.0625 \r\nQ 21.484375 6.890625 26.703125 6.890625 \r\nQ 35.15625 6.890625 40.078125 11.328125 \r\nQ 45.015625 15.765625 45.015625 23.390625 \r\nQ 45.015625 31 40.078125 35.4375 \r\nQ 35.15625 39.890625 26.703125 39.890625 \r\nQ 22.75 39.890625 18.8125 39.015625 \r\nQ 14.890625 38.140625 10.796875 36.28125 \r\nz\r\n\" id=\"DejaVuSans-53\"/>\r\n        <path d=\"M 31.78125 66.40625 \r\nQ 24.171875 66.40625 20.328125 58.90625 \r\nQ 16.5 51.421875 16.5 36.375 \r\nQ 16.5 21.390625 20.328125 13.890625 \r\nQ 24.171875 6.390625 31.78125 6.390625 \r\nQ 39.453125 6.390625 43.28125 13.890625 \r\nQ 47.125 21.390625 47.125 36.375 \r\nQ 47.125 51.421875 43.28125 58.90625 \r\nQ 39.453125 66.40625 31.78125 66.40625 \r\nz\r\nM 31.78125 74.21875 \r\nQ 44.046875 74.21875 50.515625 64.515625 \r\nQ 56.984375 54.828125 56.984375 36.375 \r\nQ 56.984375 17.96875 50.515625 8.265625 \r\nQ 44.046875 -1.421875 31.78125 -1.421875 \r\nQ 19.53125 -1.421875 13.0625 8.265625 \r\nQ 6.59375 17.96875 6.59375 36.375 \r\nQ 6.59375 54.828125 13.0625 64.515625 \r\nQ 19.53125 74.21875 31.78125 74.21875 \r\nz\r\n\" id=\"DejaVuSans-48\"/>\r\n       </defs>\r\n       <use xlink:href=\"#DejaVuSans-53\"/>\r\n       <use x=\"63.623047\" xlink:href=\"#DejaVuSans-48\"/>\r\n       <use x=\"127.246094\" xlink:href=\"#DejaVuSans-48\"/>\r\n       <use x=\"190.869141\" xlink:href=\"#DejaVuSans-48\"/>\r\n      </g>\r\n     </g>\r\n    </g>\r\n    <g id=\"xtick_2\">\r\n     <g id=\"line2d_2\">\r\n      <g>\r\n       <use style=\"stroke:#000000;stroke-width:0.8;\" x=\"142.211984\" xlink:href=\"#m23bf011799\" y=\"224.64\"/>\r\n      </g>\r\n     </g>\r\n     <g id=\"text_2\">\r\n      <!-- 10000 -->\r\n      <g transform=\"translate(126.305734 239.238437)scale(0.1 -0.1)\">\r\n       <defs>\r\n        <path d=\"M 12.40625 8.296875 \r\nL 28.515625 8.296875 \r\nL 28.515625 63.921875 \r\nL 10.984375 60.40625 \r\nL 10.984375 69.390625 \r\nL 28.421875 72.90625 \r\nL 38.28125 72.90625 \r\nL 38.28125 8.296875 \r\nL 54.390625 8.296875 \r\nL 54.390625 0 \r\nL 12.40625 0 \r\nz\r\n\" id=\"DejaVuSans-49\"/>\r\n       </defs>\r\n       <use xlink:href=\"#DejaVuSans-49\"/>\r\n       <use x=\"63.623047\" xlink:href=\"#DejaVuSans-48\"/>\r\n       <use x=\"127.246094\" xlink:href=\"#DejaVuSans-48\"/>\r\n       <use x=\"190.869141\" xlink:href=\"#DejaVuSans-48\"/>\r\n       <use x=\"254.492188\" xlink:href=\"#DejaVuSans-48\"/>\r\n      </g>\r\n     </g>\r\n    </g>\r\n    <g id=\"xtick_3\">\r\n     <g id=\"line2d_3\">\r\n      <g>\r\n       <use style=\"stroke:#000000;stroke-width:0.8;\" x=\"198.488079\" xlink:href=\"#m23bf011799\" y=\"224.64\"/>\r\n      </g>\r\n     </g>\r\n     <g id=\"text_3\">\r\n      <!-- 15000 -->\r\n      <g transform=\"translate(182.581829 239.238437)scale(0.1 -0.1)\">\r\n       <use xlink:href=\"#DejaVuSans-49\"/>\r\n       <use x=\"63.623047\" xlink:href=\"#DejaVuSans-53\"/>\r\n       <use x=\"127.246094\" xlink:href=\"#DejaVuSans-48\"/>\r\n       <use x=\"190.869141\" xlink:href=\"#DejaVuSans-48\"/>\r\n       <use x=\"254.492188\" xlink:href=\"#DejaVuSans-48\"/>\r\n      </g>\r\n     </g>\r\n    </g>\r\n    <g id=\"xtick_4\">\r\n     <g id=\"line2d_4\">\r\n      <g>\r\n       <use style=\"stroke:#000000;stroke-width:0.8;\" x=\"254.764175\" xlink:href=\"#m23bf011799\" y=\"224.64\"/>\r\n      </g>\r\n     </g>\r\n     <g id=\"text_4\">\r\n      <!-- 20000 -->\r\n      <g transform=\"translate(238.857925 239.238437)scale(0.1 -0.1)\">\r\n       <defs>\r\n        <path d=\"M 19.1875 8.296875 \r\nL 53.609375 8.296875 \r\nL 53.609375 0 \r\nL 7.328125 0 \r\nL 7.328125 8.296875 \r\nQ 12.9375 14.109375 22.625 23.890625 \r\nQ 32.328125 33.6875 34.8125 36.53125 \r\nQ 39.546875 41.84375 41.421875 45.53125 \r\nQ 43.3125 49.21875 43.3125 52.78125 \r\nQ 43.3125 58.59375 39.234375 62.25 \r\nQ 35.15625 65.921875 28.609375 65.921875 \r\nQ 23.96875 65.921875 18.8125 64.3125 \r\nQ 13.671875 62.703125 7.8125 59.421875 \r\nL 7.8125 69.390625 \r\nQ 13.765625 71.78125 18.9375 73 \r\nQ 24.125 74.21875 28.421875 74.21875 \r\nQ 39.75 74.21875 46.484375 68.546875 \r\nQ 53.21875 62.890625 53.21875 53.421875 \r\nQ 53.21875 48.921875 51.53125 44.890625 \r\nQ 49.859375 40.875 45.40625 35.40625 \r\nQ 44.1875 33.984375 37.640625 27.21875 \r\nQ 31.109375 20.453125 19.1875 8.296875 \r\nz\r\n\" id=\"DejaVuSans-50\"/>\r\n       </defs>\r\n       <use xlink:href=\"#DejaVuSans-50\"/>\r\n       <use x=\"63.623047\" xlink:href=\"#DejaVuSans-48\"/>\r\n       <use x=\"127.246094\" xlink:href=\"#DejaVuSans-48\"/>\r\n       <use x=\"190.869141\" xlink:href=\"#DejaVuSans-48\"/>\r\n       <use x=\"254.492188\" xlink:href=\"#DejaVuSans-48\"/>\r\n      </g>\r\n     </g>\r\n    </g>\r\n    <g id=\"xtick_5\">\r\n     <g id=\"line2d_5\">\r\n      <g>\r\n       <use style=\"stroke:#000000;stroke-width:0.8;\" x=\"311.040271\" xlink:href=\"#m23bf011799\" y=\"224.64\"/>\r\n      </g>\r\n     </g>\r\n     <g id=\"text_5\">\r\n      <!-- 25000 -->\r\n      <g transform=\"translate(295.134021 239.238437)scale(0.1 -0.1)\">\r\n       <use xlink:href=\"#DejaVuSans-50\"/>\r\n       <use x=\"63.623047\" xlink:href=\"#DejaVuSans-53\"/>\r\n       <use x=\"127.246094\" xlink:href=\"#DejaVuSans-48\"/>\r\n       <use x=\"190.869141\" xlink:href=\"#DejaVuSans-48\"/>\r\n       <use x=\"254.492188\" xlink:href=\"#DejaVuSans-48\"/>\r\n      </g>\r\n     </g>\r\n    </g>\r\n    <g id=\"xtick_6\">\r\n     <g id=\"line2d_6\">\r\n      <g>\r\n       <use style=\"stroke:#000000;stroke-width:0.8;\" x=\"367.316367\" xlink:href=\"#m23bf011799\" y=\"224.64\"/>\r\n      </g>\r\n     </g>\r\n     <g id=\"text_6\">\r\n      <!-- 30000 -->\r\n      <g transform=\"translate(351.410117 239.238437)scale(0.1 -0.1)\">\r\n       <defs>\r\n        <path d=\"M 40.578125 39.3125 \r\nQ 47.65625 37.796875 51.625 33 \r\nQ 55.609375 28.21875 55.609375 21.1875 \r\nQ 55.609375 10.40625 48.1875 4.484375 \r\nQ 40.765625 -1.421875 27.09375 -1.421875 \r\nQ 22.515625 -1.421875 17.65625 -0.515625 \r\nQ 12.796875 0.390625 7.625 2.203125 \r\nL 7.625 11.71875 \r\nQ 11.71875 9.328125 16.59375 8.109375 \r\nQ 21.484375 6.890625 26.8125 6.890625 \r\nQ 36.078125 6.890625 40.9375 10.546875 \r\nQ 45.796875 14.203125 45.796875 21.1875 \r\nQ 45.796875 27.640625 41.28125 31.265625 \r\nQ 36.765625 34.90625 28.71875 34.90625 \r\nL 20.21875 34.90625 \r\nL 20.21875 43.015625 \r\nL 29.109375 43.015625 \r\nQ 36.375 43.015625 40.234375 45.921875 \r\nQ 44.09375 48.828125 44.09375 54.296875 \r\nQ 44.09375 59.90625 40.109375 62.90625 \r\nQ 36.140625 65.921875 28.71875 65.921875 \r\nQ 24.65625 65.921875 20.015625 65.03125 \r\nQ 15.375 64.15625 9.8125 62.3125 \r\nL 9.8125 71.09375 \r\nQ 15.4375 72.65625 20.34375 73.4375 \r\nQ 25.25 74.21875 29.59375 74.21875 \r\nQ 40.828125 74.21875 47.359375 69.109375 \r\nQ 53.90625 64.015625 53.90625 55.328125 \r\nQ 53.90625 49.265625 50.4375 45.09375 \r\nQ 46.96875 40.921875 40.578125 39.3125 \r\nz\r\n\" id=\"DejaVuSans-51\"/>\r\n       </defs>\r\n       <use xlink:href=\"#DejaVuSans-51\"/>\r\n       <use x=\"63.623047\" xlink:href=\"#DejaVuSans-48\"/>\r\n       <use x=\"127.246094\" xlink:href=\"#DejaVuSans-48\"/>\r\n       <use x=\"190.869141\" xlink:href=\"#DejaVuSans-48\"/>\r\n       <use x=\"254.492188\" xlink:href=\"#DejaVuSans-48\"/>\r\n      </g>\r\n     </g>\r\n    </g>\r\n   </g>\r\n   <g id=\"matplotlib.axis_2\">\r\n    <g id=\"ytick_1\">\r\n     <g id=\"line2d_7\">\r\n      <defs>\r\n       <path d=\"M 0 0 \r\nL -3.5 0 \r\n\" id=\"mdb1c7d65ae\" style=\"stroke:#000000;stroke-width:0.8;\"/>\r\n      </defs>\r\n      <g>\r\n       <use style=\"stroke:#000000;stroke-width:0.8;\" x=\"46.0125\" xlink:href=\"#mdb1c7d65ae\" y=\"204.490233\"/>\r\n      </g>\r\n     </g>\r\n     <g id=\"text_7\">\r\n      <!-- 10000 -->\r\n      <g transform=\"translate(7.2 208.289452)scale(0.1 -0.1)\">\r\n       <use xlink:href=\"#DejaVuSans-49\"/>\r\n       <use x=\"63.623047\" xlink:href=\"#DejaVuSans-48\"/>\r\n       <use x=\"127.246094\" xlink:href=\"#DejaVuSans-48\"/>\r\n       <use x=\"190.869141\" xlink:href=\"#DejaVuSans-48\"/>\r\n       <use x=\"254.492188\" xlink:href=\"#DejaVuSans-48\"/>\r\n      </g>\r\n     </g>\r\n    </g>\r\n    <g id=\"ytick_2\">\r\n     <g id=\"line2d_8\">\r\n      <g>\r\n       <use style=\"stroke:#000000;stroke-width:0.8;\" x=\"46.0125\" xlink:href=\"#mdb1c7d65ae\" y=\"178.32782\"/>\r\n      </g>\r\n     </g>\r\n     <g id=\"text_8\">\r\n      <!-- 15000 -->\r\n      <g transform=\"translate(7.2 182.127039)scale(0.1 -0.1)\">\r\n       <use xlink:href=\"#DejaVuSans-49\"/>\r\n       <use x=\"63.623047\" xlink:href=\"#DejaVuSans-53\"/>\r\n       <use x=\"127.246094\" xlink:href=\"#DejaVuSans-48\"/>\r\n       <use x=\"190.869141\" xlink:href=\"#DejaVuSans-48\"/>\r\n       <use x=\"254.492188\" xlink:href=\"#DejaVuSans-48\"/>\r\n      </g>\r\n     </g>\r\n    </g>\r\n    <g id=\"ytick_3\">\r\n     <g id=\"line2d_9\">\r\n      <g>\r\n       <use style=\"stroke:#000000;stroke-width:0.8;\" x=\"46.0125\" xlink:href=\"#mdb1c7d65ae\" y=\"152.165407\"/>\r\n      </g>\r\n     </g>\r\n     <g id=\"text_9\">\r\n      <!-- 20000 -->\r\n      <g transform=\"translate(7.2 155.964626)scale(0.1 -0.1)\">\r\n       <use xlink:href=\"#DejaVuSans-50\"/>\r\n       <use x=\"63.623047\" xlink:href=\"#DejaVuSans-48\"/>\r\n       <use x=\"127.246094\" xlink:href=\"#DejaVuSans-48\"/>\r\n       <use x=\"190.869141\" xlink:href=\"#DejaVuSans-48\"/>\r\n       <use x=\"254.492188\" xlink:href=\"#DejaVuSans-48\"/>\r\n      </g>\r\n     </g>\r\n    </g>\r\n    <g id=\"ytick_4\">\r\n     <g id=\"line2d_10\">\r\n      <g>\r\n       <use style=\"stroke:#000000;stroke-width:0.8;\" x=\"46.0125\" xlink:href=\"#mdb1c7d65ae\" y=\"126.002994\"/>\r\n      </g>\r\n     </g>\r\n     <g id=\"text_10\">\r\n      <!-- 25000 -->\r\n      <g transform=\"translate(7.2 129.802213)scale(0.1 -0.1)\">\r\n       <use xlink:href=\"#DejaVuSans-50\"/>\r\n       <use x=\"63.623047\" xlink:href=\"#DejaVuSans-53\"/>\r\n       <use x=\"127.246094\" xlink:href=\"#DejaVuSans-48\"/>\r\n       <use x=\"190.869141\" xlink:href=\"#DejaVuSans-48\"/>\r\n       <use x=\"254.492188\" xlink:href=\"#DejaVuSans-48\"/>\r\n      </g>\r\n     </g>\r\n    </g>\r\n    <g id=\"ytick_5\">\r\n     <g id=\"line2d_11\">\r\n      <g>\r\n       <use style=\"stroke:#000000;stroke-width:0.8;\" x=\"46.0125\" xlink:href=\"#mdb1c7d65ae\" y=\"99.840581\"/>\r\n      </g>\r\n     </g>\r\n     <g id=\"text_11\">\r\n      <!-- 30000 -->\r\n      <g transform=\"translate(7.2 103.6398)scale(0.1 -0.1)\">\r\n       <use xlink:href=\"#DejaVuSans-51\"/>\r\n       <use x=\"63.623047\" xlink:href=\"#DejaVuSans-48\"/>\r\n       <use x=\"127.246094\" xlink:href=\"#DejaVuSans-48\"/>\r\n       <use x=\"190.869141\" xlink:href=\"#DejaVuSans-48\"/>\r\n       <use x=\"254.492188\" xlink:href=\"#DejaVuSans-48\"/>\r\n      </g>\r\n     </g>\r\n    </g>\r\n    <g id=\"ytick_6\">\r\n     <g id=\"line2d_12\">\r\n      <g>\r\n       <use style=\"stroke:#000000;stroke-width:0.8;\" x=\"46.0125\" xlink:href=\"#mdb1c7d65ae\" y=\"73.678168\"/>\r\n      </g>\r\n     </g>\r\n     <g id=\"text_12\">\r\n      <!-- 35000 -->\r\n      <g transform=\"translate(7.2 77.477387)scale(0.1 -0.1)\">\r\n       <use xlink:href=\"#DejaVuSans-51\"/>\r\n       <use x=\"63.623047\" xlink:href=\"#DejaVuSans-53\"/>\r\n       <use x=\"127.246094\" xlink:href=\"#DejaVuSans-48\"/>\r\n       <use x=\"190.869141\" xlink:href=\"#DejaVuSans-48\"/>\r\n       <use x=\"254.492188\" xlink:href=\"#DejaVuSans-48\"/>\r\n      </g>\r\n     </g>\r\n    </g>\r\n    <g id=\"ytick_7\">\r\n     <g id=\"line2d_13\">\r\n      <g>\r\n       <use style=\"stroke:#000000;stroke-width:0.8;\" x=\"46.0125\" xlink:href=\"#mdb1c7d65ae\" y=\"47.515755\"/>\r\n      </g>\r\n     </g>\r\n     <g id=\"text_13\">\r\n      <!-- 40000 -->\r\n      <g transform=\"translate(7.2 51.314974)scale(0.1 -0.1)\">\r\n       <defs>\r\n        <path d=\"M 37.796875 64.3125 \r\nL 12.890625 25.390625 \r\nL 37.796875 25.390625 \r\nz\r\nM 35.203125 72.90625 \r\nL 47.609375 72.90625 \r\nL 47.609375 25.390625 \r\nL 58.015625 25.390625 \r\nL 58.015625 17.1875 \r\nL 47.609375 17.1875 \r\nL 47.609375 0 \r\nL 37.796875 0 \r\nL 37.796875 17.1875 \r\nL 4.890625 17.1875 \r\nL 4.890625 26.703125 \r\nz\r\n\" id=\"DejaVuSans-52\"/>\r\n       </defs>\r\n       <use xlink:href=\"#DejaVuSans-52\"/>\r\n       <use x=\"63.623047\" xlink:href=\"#DejaVuSans-48\"/>\r\n       <use x=\"127.246094\" xlink:href=\"#DejaVuSans-48\"/>\r\n       <use x=\"190.869141\" xlink:href=\"#DejaVuSans-48\"/>\r\n       <use x=\"254.492188\" xlink:href=\"#DejaVuSans-48\"/>\r\n      </g>\r\n     </g>\r\n    </g>\r\n    <g id=\"ytick_8\">\r\n     <g id=\"line2d_14\">\r\n      <g>\r\n       <use style=\"stroke:#000000;stroke-width:0.8;\" x=\"46.0125\" xlink:href=\"#mdb1c7d65ae\" y=\"21.353342\"/>\r\n      </g>\r\n     </g>\r\n     <g id=\"text_14\">\r\n      <!-- 45000 -->\r\n      <g transform=\"translate(7.2 25.152561)scale(0.1 -0.1)\">\r\n       <use xlink:href=\"#DejaVuSans-52\"/>\r\n       <use x=\"63.623047\" xlink:href=\"#DejaVuSans-53\"/>\r\n       <use x=\"127.246094\" xlink:href=\"#DejaVuSans-48\"/>\r\n       <use x=\"190.869141\" xlink:href=\"#DejaVuSans-48\"/>\r\n       <use x=\"254.492188\" xlink:href=\"#DejaVuSans-48\"/>\r\n      </g>\r\n     </g>\r\n    </g>\r\n   </g>\r\n   <g id=\"patch_3\">\r\n    <path d=\"M 46.0125 224.64 \r\nL 46.0125 7.2 \r\n\" style=\"fill:none;stroke:#000000;stroke-linecap:square;stroke-linejoin:miter;stroke-width:0.8;\"/>\r\n   </g>\r\n   <g id=\"patch_4\">\r\n    <path d=\"M 380.8125 224.64 \r\nL 380.8125 7.2 \r\n\" style=\"fill:none;stroke:#000000;stroke-linecap:square;stroke-linejoin:miter;stroke-width:0.8;\"/>\r\n   </g>\r\n   <g id=\"patch_5\">\r\n    <path d=\"M 46.0125 224.64 \r\nL 380.8125 224.64 \r\n\" style=\"fill:none;stroke:#000000;stroke-linecap:square;stroke-linejoin:miter;stroke-width:0.8;\"/>\r\n   </g>\r\n   <g id=\"patch_6\">\r\n    <path d=\"M 46.0125 7.2 \r\nL 380.8125 7.2 \r\n\" style=\"fill:none;stroke:#000000;stroke-linecap:square;stroke-linejoin:miter;stroke-width:0.8;\"/>\r\n   </g>\r\n  </g>\r\n </g>\r\n <defs>\r\n  <clipPath id=\"p370f9093e7\">\r\n   <rect height=\"217.44\" width=\"334.8\" x=\"46.0125\" y=\"7.2\"/>\r\n  </clipPath>\r\n </defs>\r\n</svg>\r\n",
      "image/png": "[encoded data removed]"
     },
     "metadata": {
      "needs_background": "light"
     }
    }
   ],
   "source": [
    "toolgCorr = toolgCorr[(toolgCorr[:,0]=='PK_DUVKrF')]\n",
    "#toolgCorr\n",
    "plt.scatter(x=df_train_orign_toolg['NO_HOLD_QTY'], y=df_train_orign_toolg['MOVE_QTY'])\n",
    "df_train_orign_toolg.describe()"
   ]
  },
  {
   "cell_type": "code",
   "execution_count": 92,
   "metadata": {
    "tags": []
   },
   "outputs": [],
   "source": [
    "# df_train_orign.TOOLG_ID.unique()\n",
    "#keyTool=['PW_C/F']\n",
    "# for toolg in df_train_orign.TOOLG_ID.unique() :\n",
    "\n",
    "# for toolg in toolgCorr[:,0]:\n",
    " \n",
    "# nrows =  math.ceil(toolgCorr.shape[0]/4)\n",
    "# fig, axes = plt.subplots(nrows,4,figsize=(20,5*nrows))\n",
    "# idex=0\n",
    " \n",
    "# for axesrow in axes:\n",
    "#      for i in range(4):\n",
    "#         # print(axesrow[i])\n",
    "#         #t = toolgCorr[i][0]\n",
    "#         if idex >= toolgCorr.shape[0]:\n",
    "#             break\n",
    "#         toolg = toolgCorr[idex][0]\n",
    "#         df_train_orign_toolg = df_train.loc[df_train['TOOLG_ID']==toolg]\n",
    "\n",
    "#         axesrow[i].scatter(x=df_train_orign_toolg['NO_HOLD_QTY'], y=df_train_orign_toolg['MOVE_QTY'])\n",
    "         \n",
    "        \n",
    "#         axesrow[i].grid()\n",
    "#         axesrow[i].set_ylabel('MOVE_QTY', fontsize=12)\n",
    "#         # ax.set_xlabel('WIP_QTY', fontsize=12)\n",
    "#         axesrow[i].set_xlabel('NO_HOLD scatter', fontsize=12)\n",
    "        \n",
    "#         axesrow[i].set_title(f'Group: {toolg}', fontsize=12)\n",
    "#         idex+=1\n",
    "         \n",
    "# plt.show()\n",
    "\n"
   ]
  },
  {
   "cell_type": "code",
   "execution_count": 93,
   "metadata": {},
   "outputs": [
    {
     "output_type": "execute_result",
     "data": {
      "text/plain": [
       "     TOOLG_ID  WIP_QTY  NO_HOLD_QTY  MOVE_QTY     M         U            PT  \\\n",
       "0      CI_STI   1672.0       1500.0    3371.0   5.0  0.475904   4910.234940   \n",
       "1  DGM_AM_350    377.0        324.0    2294.0  10.0  0.707514   4017.560694   \n",
       "2      DI_PSG      0.0          0.0     125.0   2.0  0.500000  16531.000000   \n",
       "3      DN_SiN    131.0        125.0    1381.0   4.0  0.782313   2056.897959   \n",
       "4      DO_SOD     13.0         12.0     706.0   2.0  1.000000   1750.037736   \n",
       "\n",
       "    UP_TIME  EQP_UTIL        TC        CS      C_AI  \n",
       "0  0.956914  0.989448  0.382283  0.354976  0.836586  \n",
       "1  0.839097  0.979897  0.264591  0.256043  0.629749  \n",
       "2  0.986675  0.375072  0.052413  0.298198  1.361144  \n",
       "3  0.982981  0.779669  0.477650  0.373563  1.101988  \n",
       "4  0.909998  0.460758  0.278303  0.183449  3.147461  "
      ],
      "text/html": "<div>\n<style scoped>\n    .dataframe tbody tr th:only-of-type {\n        vertical-align: middle;\n    }\n\n    .dataframe tbody tr th {\n        vertical-align: top;\n    }\n\n    .dataframe thead th {\n        text-align: right;\n    }\n</style>\n<table border=\"1\" class=\"dataframe\">\n  <thead>\n    <tr style=\"text-align: right;\">\n      <th></th>\n      <th>TOOLG_ID</th>\n      <th>WIP_QTY</th>\n      <th>NO_HOLD_QTY</th>\n      <th>MOVE_QTY</th>\n      <th>M</th>\n      <th>U</th>\n      <th>PT</th>\n      <th>UP_TIME</th>\n      <th>EQP_UTIL</th>\n      <th>TC</th>\n      <th>CS</th>\n      <th>C_AI</th>\n    </tr>\n  </thead>\n  <tbody>\n    <tr>\n      <th>0</th>\n      <td>CI_STI</td>\n      <td>1672.0</td>\n      <td>1500.0</td>\n      <td>3371.0</td>\n      <td>5.0</td>\n      <td>0.475904</td>\n      <td>4910.234940</td>\n      <td>0.956914</td>\n      <td>0.989448</td>\n      <td>0.382283</td>\n      <td>0.354976</td>\n      <td>0.836586</td>\n    </tr>\n    <tr>\n      <th>1</th>\n      <td>DGM_AM_350</td>\n      <td>377.0</td>\n      <td>324.0</td>\n      <td>2294.0</td>\n      <td>10.0</td>\n      <td>0.707514</td>\n      <td>4017.560694</td>\n      <td>0.839097</td>\n      <td>0.979897</td>\n      <td>0.264591</td>\n      <td>0.256043</td>\n      <td>0.629749</td>\n    </tr>\n    <tr>\n      <th>2</th>\n      <td>DI_PSG</td>\n      <td>0.0</td>\n      <td>0.0</td>\n      <td>125.0</td>\n      <td>2.0</td>\n      <td>0.500000</td>\n      <td>16531.000000</td>\n      <td>0.986675</td>\n      <td>0.375072</td>\n      <td>0.052413</td>\n      <td>0.298198</td>\n      <td>1.361144</td>\n    </tr>\n    <tr>\n      <th>3</th>\n      <td>DN_SiN</td>\n      <td>131.0</td>\n      <td>125.0</td>\n      <td>1381.0</td>\n      <td>4.0</td>\n      <td>0.782313</td>\n      <td>2056.897959</td>\n      <td>0.982981</td>\n      <td>0.779669</td>\n      <td>0.477650</td>\n      <td>0.373563</td>\n      <td>1.101988</td>\n    </tr>\n    <tr>\n      <th>4</th>\n      <td>DO_SOD</td>\n      <td>13.0</td>\n      <td>12.0</td>\n      <td>706.0</td>\n      <td>2.0</td>\n      <td>1.000000</td>\n      <td>1750.037736</td>\n      <td>0.909998</td>\n      <td>0.460758</td>\n      <td>0.278303</td>\n      <td>0.183449</td>\n      <td>3.147461</td>\n    </tr>\n  </tbody>\n</table>\n</div>"
     },
     "metadata": {},
     "execution_count": 93
    }
   ],
   "source": [
    "df_train.head()"
   ]
  },
  {
   "cell_type": "code",
   "execution_count": 94,
   "metadata": {},
   "outputs": [],
   "source": [
    "#df_train_orign_toolg.head()"
   ]
  },
  {
   "cell_type": "code",
   "execution_count": 95,
   "metadata": {},
   "outputs": [],
   "source": [
    "#df_train_orign_toolg.head()"
   ]
  },
  {
   "source": [
    "# 訓練機台模型"
   ],
   "cell_type": "markdown",
   "metadata": {}
  },
  {
   "cell_type": "code",
   "execution_count": 96,
   "metadata": {
    "tags": []
   },
   "outputs": [
    {
     "output_type": "stream",
     "name": "stdout",
     "text": [
      "./GX/PK_DUVKrFtraining_model2.model\n",
      "        NO_HOLD_QTY      MOVE_QTY           M           U           PT  \\\n",
      "count    401.000000    401.000000  401.000000  401.000000   401.000000   \n",
      "mean   14153.817955  40379.463840   30.710723    0.069952  2991.323249   \n",
      "std     3199.797732   3007.540615    2.598290    0.058100    64.123117   \n",
      "min     2805.000000   8038.000000    2.000000    0.033333  2821.530355   \n",
      "25%    12024.000000  38973.000000   30.000000    0.063549  2949.116780   \n",
      "50%    13833.000000  40498.000000   31.000000    0.065769  2988.247734   \n",
      "75%    15948.000000  41968.000000   32.000000    0.068811  3027.918790   \n",
      "max    29847.000000  45816.000000   32.000000    1.101804  3353.320665   \n",
      "\n",
      "          UP_TIME    EQP_UTIL          TC          CS        C_AI  \n",
      "count  401.000000  401.000000  401.000000  401.000000  401.000000  \n",
      "mean     0.950456    0.973200    0.505878    0.297117    0.269249  \n",
      "std      0.033644    0.013019    0.148899    0.086718    0.930544  \n",
      "min      0.598291    0.920092    0.230723    0.228487  -18.039123  \n",
      "25%      0.936987    0.965570    0.451458    0.260931    0.219441  \n",
      "50%      0.954241    0.974747    0.479877    0.276570    0.268364  \n",
      "75%      0.968883    0.982608    0.508988    0.297060    0.358968  \n",
      "max      1.000000    1.000000    1.733301    1.003306    1.352526  \n",
      "        NO_HOLD_QTY      MOVE_QTY           M           U           PT  \\\n",
      "count    300.000000    300.000000  300.000000  300.000000   300.000000   \n",
      "mean   14273.416667  40421.703333   30.660000    0.071378  2994.130618   \n",
      "std     3334.878530   3252.392128    2.972179    0.067082    66.884984   \n",
      "min     2805.000000   8038.000000    2.000000    0.033333  2821.530355   \n",
      "25%    11993.750000  39312.000000   30.000000    0.063480  2947.829892   \n",
      "50%    13926.000000  40617.000000   31.000000    0.065932  2988.152918   \n",
      "75%    16014.000000  42123.250000   32.000000    0.068813  3031.356604   \n",
      "max    29847.000000  45652.000000   32.000000    1.101804  3353.320665   \n",
      "\n",
      "          UP_TIME    EQP_UTIL          TC          CS        C_AI  \n",
      "count  300.000000  300.000000  300.000000  300.000000  300.000000  \n",
      "mean     0.950669    0.973682    0.504230    0.295634    0.252268  \n",
      "std      0.036687    0.013153    0.145173    0.086366    1.072497  \n",
      "min      0.598291    0.920092    0.230723    0.230471  -18.039123  \n",
      "25%      0.938467    0.966011    0.451325    0.260023    0.217582  \n",
      "50%      0.954293    0.975127    0.478323    0.275914    0.266264  \n",
      "75%      0.968876    0.983249    0.507991    0.293767    0.353483  \n",
      "max      1.000000    1.000000    1.733301    1.003306    1.352526  \n",
      "        NO_HOLD_QTY      MOVE_QTY           M           U           PT  \\\n",
      "count    101.000000    101.000000  101.000000  101.000000   101.000000   \n",
      "mean   13798.574257  40254.000000   30.861386    0.065716  2982.984530   \n",
      "std     2744.343307   2128.747979    0.748728    0.004825    54.563318   \n",
      "min     8364.000000  35464.000000   30.000000    0.033333  2860.244068   \n",
      "25%    12043.000000  38606.000000   30.000000    0.063781  2951.586347   \n",
      "50%    13715.000000  40091.000000   31.000000    0.065389  2991.590935   \n",
      "75%    15512.000000  41842.000000   31.000000    0.068791  3015.549481   \n",
      "max    20695.000000  45816.000000   32.000000    0.072905  3136.413632   \n",
      "\n",
      "          UP_TIME    EQP_UTIL          TC          CS        C_AI  \n",
      "count  101.000000  101.000000  101.000000  101.000000  101.000000  \n",
      "mean     0.949823    0.971767    0.510773    0.301523    0.319687  \n",
      "std      0.022421    0.012567    0.160114    0.088041    0.144791  \n",
      "min      0.891736    0.930413    0.238714    0.228487    0.137998  \n",
      "25%      0.933639    0.963638    0.456199    0.263280    0.225867  \n",
      "50%      0.950563    0.973362    0.484336    0.279392    0.288188  \n",
      "75%      0.969401    0.980962    0.518055    0.304363    0.371690  \n",
      "max      0.993465    0.995262    1.724510    0.943340    1.061119  \n",
      "[14:41:16] WARNING: ..\\src\\learner.cc:541: \n",
      "Parameters: { n_estimators, num_boost_round } might not be used.\n",
      "\n",
      "  This may not be accurate due to some parameters are only used in language bindings but\n",
      "  passed down to XGBoost core.  Or some parameters are not used but slip through this\n",
      "  verification. Please open an issue if you find above cases.\n",
      "\n",
      "\n",
      "[14:41:16] WARNING: ..\\src\\learner.cc:541: \n",
      "Parameters: { n_estimators, num_boost_round } might not be used.\n",
      "\n",
      "  This may not be accurate due to some parameters are only used in language bindings but\n",
      "  passed down to XGBoost core.  Or some parameters are not used but slip through this\n",
      "  verification. Please open an issue if you find above cases.\n",
      "\n",
      "\n",
      "[14:41:16] WARNING: ..\\src\\learner.cc:541: \n",
      "Parameters: { n_estimators, num_boost_round } might not be used.\n",
      "\n",
      "  This may not be accurate due to some parameters are only used in language bindings but\n",
      "  passed down to XGBoost core.  Or some parameters are not used but slip through this\n",
      "  verification. Please open an issue if you find above cases.\n",
      "\n",
      "\n",
      "找到最佳迭代轮数 94\n",
      "[14:41:17] WARNING: ..\\src\\learner.cc:541: \n",
      "Parameters: { n_estimators, num_boost_round } might not be used.\n",
      "\n",
      "  This may not be accurate due to some parameters are only used in language bindings but\n",
      "  passed down to XGBoost core.  Or some parameters are not used but slip through this\n",
      "  verification. Please open an issue if you find above cases.\n",
      "\n",
      "\n",
      "[0]\teval-logloss:-1482975.00000\teval-rmse:36291.68359\teval-mae:36229.81641\ttrain-logloss:-1489153.75000\ttrain-rmse:36543.98828\ttrain-mae:36409.60156\n",
      "[1]\teval-logloss:-1482975.00000\teval-rmse:32665.88281\teval-mae:32597.12891\ttrain-logloss:-1489153.75000\ttrain-rmse:32936.65625\ttrain-mae:32801.76172\n",
      "[2]\teval-logloss:-1482975.00000\teval-rmse:29382.33203\teval-mae:29305.87891\ttrain-logloss:-1489153.75000\ttrain-rmse:29667.78320\ttrain-mae:29525.90430\n",
      "[3]\teval-logloss:-1482975.00000\teval-rmse:26480.69531\teval-mae:26393.71484\ttrain-logloss:-1489153.75000\ttrain-rmse:26736.50000\ttrain-mae:26597.00977\n",
      "[4]\teval-logloss:-1482975.00000\teval-rmse:23825.03125\teval-mae:23728.30859\ttrain-logloss:-1489153.75000\ttrain-rmse:24113.40039\ttrain-mae:23970.98242\n",
      "[5]\teval-logloss:-1482975.00000\teval-rmse:21434.48047\teval-mae:21326.92578\ttrain-logloss:-1489153.75000\ttrain-rmse:21733.35938\ttrain-mae:21579.22266\n",
      "[6]\teval-logloss:-1482975.00000\teval-rmse:19326.82031\teval-mae:19200.52539\ttrain-logloss:-1489153.75000\ttrain-rmse:19593.62695\ttrain-mae:19433.13086\n",
      "[7]\teval-logloss:-1482975.00000\teval-rmse:17406.68359\teval-mae:17266.34570\ttrain-logloss:-1489153.75000\ttrain-rmse:17677.85547\ttrain-mae:17504.80664\n",
      "[8]\teval-logloss:-1482975.00000\teval-rmse:15668.37109\teval-mae:15512.31445\ttrain-logloss:-1489153.75000\ttrain-rmse:15947.31348\ttrain-mae:15764.38184\n",
      "[9]\teval-logloss:-1482975.00000\teval-rmse:14144.17383\teval-mae:13969.94824\ttrain-logloss:-1489153.75000\ttrain-rmse:14394.82129\ttrain-mae:14210.76172\n",
      "[10]\teval-logloss:-1482975.00000\teval-rmse:12781.92285\teval-mae:12580.60352\ttrain-logloss:-1489153.75000\ttrain-rmse:12992.48731\ttrain-mae:12801.68750\n",
      "[11]\teval-logloss:-1482975.00000\teval-rmse:11522.43945\teval-mae:11303.53711\ttrain-logloss:-1489153.75000\ttrain-rmse:11743.10644\ttrain-mae:11546.74805\n",
      "[12]\teval-logloss:-1482975.00000\teval-rmse:10457.09082\teval-mae:10205.88477\ttrain-logloss:-1489153.75000\ttrain-rmse:10623.75977\ttrain-mae:10417.07422\n",
      "[13]\teval-logloss:-1482975.00000\teval-rmse:9473.92188\teval-mae:9205.95703\ttrain-logloss:-1489153.75000\ttrain-rmse:9607.94043\ttrain-mae:9399.89941\n",
      "[14]\teval-logloss:-1482975.00000\teval-rmse:8574.81250\teval-mae:8292.17676\ttrain-logloss:-1489153.75000\ttrain-rmse:8693.50293\ttrain-mae:8486.59375\n",
      "[15]\teval-logloss:-1482975.00000\teval-rmse:7767.26807\teval-mae:7473.04541\ttrain-logloss:-1489153.75000\ttrain-rmse:7865.00537\ttrain-mae:7652.45166\n",
      "[16]\teval-logloss:-1482975.00000\teval-rmse:7047.59473\teval-mae:6738.36719\ttrain-logloss:-1489153.75000\ttrain-rmse:7120.61328\ttrain-mae:6906.96240\n",
      "[17]\teval-logloss:-1482975.00000\teval-rmse:6390.79346\teval-mae:6060.39648\ttrain-logloss:-1489153.75000\ttrain-rmse:6448.07715\ttrain-mae:6230.37353\n",
      "[18]\teval-logloss:-1482975.00000\teval-rmse:5814.55225\teval-mae:5464.58301\ttrain-logloss:-1489153.75000\ttrain-rmse:5846.06934\ttrain-mae:5624.88330\n",
      "[19]\teval-logloss:-1482975.00000\teval-rmse:5293.16260\teval-mae:4927.49512\ttrain-logloss:-1489153.75000\ttrain-rmse:5297.81592\ttrain-mae:5072.41162\n",
      "[20]\teval-logloss:-1482975.00000\teval-rmse:4830.08838\teval-mae:4437.42529\ttrain-logloss:-1489153.75000\ttrain-rmse:4808.60400\ttrain-mae:4574.58789\n",
      "[21]\teval-logloss:-1482975.00000\teval-rmse:4416.55518\teval-mae:3999.70483\ttrain-logloss:-1489153.75000\ttrain-rmse:4366.96338\ttrain-mae:4130.96826\n",
      "[22]\teval-logloss:-1482975.00000\teval-rmse:4044.92993\teval-mae:3609.85400\ttrain-logloss:-1489153.75000\ttrain-rmse:3971.92529\ttrain-mae:3731.56909\n",
      "[23]\teval-logloss:-1482975.00000\teval-rmse:3722.88525\teval-mae:3262.10107\ttrain-logloss:-1489153.75000\ttrain-rmse:3612.05640\ttrain-mae:3371.83813\n",
      "[24]\teval-logloss:-1482975.00000\teval-rmse:3432.98999\teval-mae:2949.48340\ttrain-logloss:-1489153.75000\ttrain-rmse:3289.71045\ttrain-mae:3046.44531\n",
      "[25]\teval-logloss:-1482975.00000\teval-rmse:3179.81567\teval-mae:2671.54590\ttrain-logloss:-1489153.75000\ttrain-rmse:2997.90649\ttrain-mae:2755.86865\n",
      "[26]\teval-logloss:-1482975.00000\teval-rmse:2957.75732\teval-mae:2427.93311\ttrain-logloss:-1489153.75000\ttrain-rmse:2731.88184\ttrain-mae:2488.30298\n",
      "[27]\teval-logloss:-1482975.00000\teval-rmse:2768.06030\teval-mae:2219.82080\ttrain-logloss:-1489153.75000\ttrain-rmse:2499.63403\ttrain-mae:2258.66675\n",
      "[28]\teval-logloss:-1482975.00000\teval-rmse:2600.97192\teval-mae:2028.79065\ttrain-logloss:-1489153.75000\ttrain-rmse:2288.19605\ttrain-mae:2048.01245\n",
      "[29]\teval-logloss:-1482975.00000\teval-rmse:2448.25171\teval-mae:1846.63696\ttrain-logloss:-1489153.75000\ttrain-rmse:2090.80273\ttrain-mae:1850.75330\n",
      "[30]\teval-logloss:-1482975.00000\teval-rmse:2311.02686\teval-mae:1684.78406\ttrain-logloss:-1489153.75000\ttrain-rmse:1919.27454\ttrain-mae:1679.65796\n",
      "[31]\teval-logloss:-1482975.00000\teval-rmse:2195.77612\teval-mae:1539.75537\ttrain-logloss:-1489153.75000\ttrain-rmse:1765.47205\ttrain-mae:1527.58984\n",
      "[32]\teval-logloss:-1482975.00000\teval-rmse:2077.15454\teval-mae:1418.04651\ttrain-logloss:-1489153.75000\ttrain-rmse:1619.56287\ttrain-mae:1386.56006\n",
      "[33]\teval-logloss:-1482975.00000\teval-rmse:1988.84778\teval-mae:1326.44849\ttrain-logloss:-1489153.75000\ttrain-rmse:1492.02222\ttrain-mae:1262.48584\n",
      "[34]\teval-logloss:-1482975.00000\teval-rmse:1925.23169\teval-mae:1250.53540\ttrain-logloss:-1489153.75000\ttrain-rmse:1375.93445\ttrain-mae:1147.49829\n",
      "[35]\teval-logloss:-1482975.00000\teval-rmse:1884.16846\teval-mae:1184.82385\ttrain-logloss:-1489153.75000\ttrain-rmse:1278.04871\ttrain-mae:1044.76880\n",
      "[36]\teval-logloss:-1482975.00000\teval-rmse:1842.57568\teval-mae:1122.69141\ttrain-logloss:-1489153.75000\ttrain-rmse:1188.34692\ttrain-mae:952.20062\n",
      "[37]\teval-logloss:-1482975.00000\teval-rmse:1803.18542\teval-mae:1070.27441\ttrain-logloss:-1489153.75000\ttrain-rmse:1108.55078\ttrain-mae:870.44977\n",
      "[38]\teval-logloss:-1482975.00000\teval-rmse:1764.76514\teval-mae:1024.32312\ttrain-logloss:-1489153.75000\ttrain-rmse:1037.02576\ttrain-mae:794.53229\n",
      "[39]\teval-logloss:-1482975.00000\teval-rmse:1732.74048\teval-mae:988.70410\ttrain-logloss:-1489153.75000\ttrain-rmse:963.03900\ttrain-mae:724.80121\n",
      "[40]\teval-logloss:-1482975.00000\teval-rmse:1714.88379\teval-mae:949.29004\ttrain-logloss:-1489153.75000\ttrain-rmse:904.66321\ttrain-mae:663.54877\n",
      "[41]\teval-logloss:-1482975.00000\teval-rmse:1698.90967\teval-mae:921.73303\ttrain-logloss:-1489153.75000\ttrain-rmse:847.23047\ttrain-mae:610.70752\n",
      "[42]\teval-logloss:-1482975.00000\teval-rmse:1685.89429\teval-mae:899.95660\ttrain-logloss:-1489153.75000\ttrain-rmse:806.38623\ttrain-mae:562.93353\n",
      "[43]\teval-logloss:-1482975.00000\teval-rmse:1672.68787\teval-mae:880.63824\ttrain-logloss:-1489153.75000\ttrain-rmse:754.86548\ttrain-mae:518.26544\n",
      "[44]\teval-logloss:-1482975.00000\teval-rmse:1643.26904\teval-mae:862.10022\ttrain-logloss:-1489153.75000\ttrain-rmse:707.90540\ttrain-mae:476.24640\n",
      "[45]\teval-logloss:-1482975.00000\teval-rmse:1625.72388\teval-mae:847.95825\ttrain-logloss:-1489153.75000\ttrain-rmse:663.26819\ttrain-mae:439.39551\n",
      "[46]\teval-logloss:-1482975.00000\teval-rmse:1626.04309\teval-mae:839.89545\ttrain-logloss:-1489153.75000\ttrain-rmse:624.01367\ttrain-mae:408.75662\n",
      "[47]\teval-logloss:-1482975.00000\teval-rmse:1615.57300\teval-mae:828.74133\ttrain-logloss:-1489153.75000\ttrain-rmse:585.78546\ttrain-mae:377.55917\n",
      "[48]\teval-logloss:-1482975.00000\teval-rmse:1604.46936\teval-mae:818.91895\ttrain-logloss:-1489153.75000\ttrain-rmse:552.46594\ttrain-mae:352.47052\n",
      "[49]\teval-logloss:-1482975.00000\teval-rmse:1601.95606\teval-mae:812.00836\ttrain-logloss:-1489153.75000\ttrain-rmse:521.02924\ttrain-mae:328.24448\n",
      "[50]\teval-logloss:-1482975.00000\teval-rmse:1601.29211\teval-mae:803.16272\ttrain-logloss:-1489153.75000\ttrain-rmse:491.22501\ttrain-mae:305.71155\n",
      "[51]\teval-logloss:-1482975.00000\teval-rmse:1596.30920\teval-mae:798.08875\ttrain-logloss:-1489153.75000\ttrain-rmse:464.46375\ttrain-mae:286.01144\n",
      "[52]\teval-logloss:-1482975.00000\teval-rmse:1566.17200\teval-mae:788.52277\ttrain-logloss:-1489153.75000\ttrain-rmse:440.95166\ttrain-mae:268.73422\n",
      "[53]\teval-logloss:-1482975.00000\teval-rmse:1567.76257\teval-mae:783.19336\ttrain-logloss:-1489153.75000\ttrain-rmse:414.98361\ttrain-mae:249.14191\n",
      "[54]\teval-logloss:-1482975.00000\teval-rmse:1570.55408\teval-mae:777.24072\ttrain-logloss:-1489153.75000\ttrain-rmse:392.43390\ttrain-mae:233.57550\n",
      "[55]\teval-logloss:-1482975.00000\teval-rmse:1574.90454\teval-mae:774.86743\ttrain-logloss:-1489153.75000\ttrain-rmse:371.53378\ttrain-mae:219.01003\n",
      "[56]\teval-logloss:-1482975.00000\teval-rmse:1579.05017\teval-mae:772.74817\ttrain-logloss:-1489153.75000\ttrain-rmse:351.19339\ttrain-mae:206.46631\n",
      "[57]\teval-logloss:-1482975.00000\teval-rmse:1583.45960\teval-mae:770.13361\ttrain-logloss:-1489153.75000\ttrain-rmse:332.94318\ttrain-mae:195.02925\n",
      "[58]\teval-logloss:-1482975.00000\teval-rmse:1581.27441\teval-mae:769.59143\ttrain-logloss:-1489153.75000\ttrain-rmse:314.99649\ttrain-mae:184.18565\n",
      "[59]\teval-logloss:-1482975.00000\teval-rmse:1580.41748\teval-mae:766.83337\ttrain-logloss:-1489153.75000\ttrain-rmse:304.45844\ttrain-mae:174.17418\n",
      "[60]\teval-logloss:-1482975.00000\teval-rmse:1585.09070\teval-mae:765.99054\ttrain-logloss:-1489153.75000\ttrain-rmse:289.36963\ttrain-mae:166.22232\n",
      "[61]\teval-logloss:-1482975.00000\teval-rmse:1587.13599\teval-mae:763.57983\ttrain-logloss:-1489153.75000\ttrain-rmse:276.23438\ttrain-mae:157.74667\n",
      "[62]\teval-logloss:-1482975.00000\teval-rmse:1585.88464\teval-mae:763.02539\ttrain-logloss:-1489153.75000\ttrain-rmse:266.91397\ttrain-mae:150.10225\n",
      "[63]\teval-logloss:-1482975.00000\teval-rmse:1582.22900\teval-mae:759.06805\ttrain-logloss:-1489153.75000\ttrain-rmse:260.91068\ttrain-mae:143.20068\n",
      "[64]\teval-logloss:-1482975.00000\teval-rmse:1586.22607\teval-mae:757.74616\ttrain-logloss:-1489153.75000\ttrain-rmse:249.64073\ttrain-mae:136.52779\n",
      "[65]\teval-logloss:-1482975.00000\teval-rmse:1589.96814\teval-mae:755.68195\ttrain-logloss:-1489153.75000\ttrain-rmse:243.58182\ttrain-mae:130.50076\n",
      "[66]\teval-logloss:-1482975.00000\teval-rmse:1589.06946\teval-mae:753.99310\ttrain-logloss:-1489153.75000\ttrain-rmse:236.95509\ttrain-mae:124.54890\n",
      "[67]\teval-logloss:-1482975.00000\teval-rmse:1591.82812\teval-mae:755.04004\ttrain-logloss:-1489153.75000\ttrain-rmse:226.03677\ttrain-mae:119.94008\n",
      "[68]\teval-logloss:-1482975.00000\teval-rmse:1595.23816\teval-mae:754.80780\ttrain-logloss:-1489153.75000\ttrain-rmse:216.36092\ttrain-mae:115.47066\n",
      "[69]\teval-logloss:-1482975.00000\teval-rmse:1598.82922\teval-mae:754.33325\ttrain-logloss:-1489153.75000\ttrain-rmse:212.23796\ttrain-mae:111.00663\n",
      "[70]\teval-logloss:-1482975.00000\teval-rmse:1596.95679\teval-mae:753.13648\ttrain-logloss:-1489153.75000\ttrain-rmse:202.99373\ttrain-mae:106.59644\n",
      "[71]\teval-logloss:-1482975.00000\teval-rmse:1597.01245\teval-mae:754.64032\ttrain-logloss:-1489153.75000\ttrain-rmse:193.93214\ttrain-mae:102.29578\n",
      "[72]\teval-logloss:-1482975.00000\teval-rmse:1599.93872\teval-mae:755.11230\ttrain-logloss:-1489153.75000\ttrain-rmse:185.52373\ttrain-mae:98.75375\n",
      "[73]\teval-logloss:-1482975.00000\teval-rmse:1598.07300\teval-mae:751.52643\ttrain-logloss:-1489153.75000\ttrain-rmse:176.48306\ttrain-mae:94.31916\n",
      "[74]\teval-logloss:-1482975.00000\teval-rmse:1599.96252\teval-mae:750.11188\ttrain-logloss:-1489153.75000\ttrain-rmse:168.33495\ttrain-mae:90.09683\n",
      "[75]\teval-logloss:-1482975.00000\teval-rmse:1602.70361\teval-mae:750.40442\ttrain-logloss:-1489153.75000\ttrain-rmse:161.72639\ttrain-mae:87.66421\n",
      "[76]\teval-logloss:-1482975.00000\teval-rmse:1602.72913\teval-mae:752.32086\ttrain-logloss:-1489153.75000\ttrain-rmse:154.95572\ttrain-mae:84.30843\n",
      "[77]\teval-logloss:-1482975.00000\teval-rmse:1605.16968\teval-mae:752.27142\ttrain-logloss:-1489153.75000\ttrain-rmse:152.13298\ttrain-mae:81.66515\n",
      "[78]\teval-logloss:-1482975.00000\teval-rmse:1606.55542\teval-mae:752.34375\ttrain-logloss:-1489153.75000\ttrain-rmse:145.70872\ttrain-mae:78.83405\n",
      "[79]\teval-logloss:-1482975.00000\teval-rmse:1608.76685\teval-mae:752.46210\ttrain-logloss:-1489153.75000\ttrain-rmse:143.90858\ttrain-mae:77.12381\n",
      "[80]\teval-logloss:-1482975.00000\teval-rmse:1611.02551\teval-mae:752.84985\ttrain-logloss:-1489153.75000\ttrain-rmse:138.26126\ttrain-mae:75.19564\n",
      "[81]\teval-logloss:-1482975.00000\teval-rmse:1611.97876\teval-mae:752.39710\ttrain-logloss:-1489153.75000\ttrain-rmse:131.65486\ttrain-mae:72.21905\n",
      "[82]\teval-logloss:-1482975.00000\teval-rmse:1613.79834\teval-mae:752.34106\ttrain-logloss:-1489153.75000\ttrain-rmse:126.05537\ttrain-mae:69.55003\n",
      "[83]\teval-logloss:-1482975.00000\teval-rmse:1612.96667\teval-mae:752.16260\ttrain-logloss:-1489153.75000\ttrain-rmse:120.71124\ttrain-mae:66.99191\n",
      "[84]\teval-logloss:-1482975.00000\teval-rmse:1613.41016\teval-mae:752.53809\ttrain-logloss:-1489153.75000\ttrain-rmse:117.82336\ttrain-mae:64.14791\n",
      "[85]\teval-logloss:-1482975.00000\teval-rmse:1615.20837\teval-mae:752.80090\ttrain-logloss:-1489153.75000\ttrain-rmse:116.38417\ttrain-mae:62.83778\n",
      "[86]\teval-logloss:-1482975.00000\teval-rmse:1611.97192\teval-mae:752.59839\ttrain-logloss:-1489153.75000\ttrain-rmse:111.71068\ttrain-mae:61.06093\n",
      "[87]\teval-logloss:-1482975.00000\teval-rmse:1612.45874\teval-mae:752.27508\ttrain-logloss:-1489153.75000\ttrain-rmse:107.33082\ttrain-mae:58.81747\n",
      "[88]\teval-logloss:-1482975.00000\teval-rmse:1613.87878\teval-mae:752.25031\ttrain-logloss:-1489153.75000\ttrain-rmse:103.14323\ttrain-mae:56.96509\n",
      "[89]\teval-logloss:-1482975.00000\teval-rmse:1613.98669\teval-mae:751.77924\ttrain-logloss:-1489153.75000\ttrain-rmse:98.59051\ttrain-mae:54.82019\n",
      "[90]\teval-logloss:-1482975.00000\teval-rmse:1607.13489\teval-mae:751.71973\ttrain-logloss:-1489153.75000\ttrain-rmse:94.64949\ttrain-mae:52.62943\n",
      "[91]\teval-logloss:-1482975.00000\teval-rmse:1606.83154\teval-mae:751.00915\ttrain-logloss:-1489153.75000\ttrain-rmse:90.91833\ttrain-mae:50.85191\n",
      "[92]\teval-logloss:-1482975.00000\teval-rmse:1608.54199\teval-mae:750.36713\ttrain-logloss:-1489153.75000\ttrain-rmse:87.44095\ttrain-mae:49.40138\n",
      "[93]\teval-logloss:-1482975.00000\teval-rmse:1610.44446\teval-mae:750.52344\ttrain-logloss:-1489153.75000\ttrain-rmse:84.06898\ttrain-mae:48.06023\n",
      "错误类为1.000000\n"
     ]
    }
   ],
   "source": [
    "# for t in toolgCorr:  \n",
    "#     toolg=t[0]\n",
    "#     df_train_orign_toolg = df_train.loc[df_train['TOOLG_ID']==toolg]   \n",
    "#     save_model2 = getSavePath(df_train_orign_toolg['TOOLG_ID'].iloc[0],save_model)\n",
    "#     #print(df_train_orign_toolg['TOOLG_ID'].iloc[0])\n",
    "#     cleanString = re.sub('\\W+','', df_train_orign_toolg['TOOLG_ID'].iloc[0] )\n",
    "#     print(cleanString)\n",
    "    # path = save_model\n",
    "    # path = save_model.replace(save_model.split('/', 2)[len( save_model.split('/', 2))-1],cleanString+save_model.spll6≥÷it('/', 2)[len(     save_model.split('/', 2))-1])\n",
    "    # print(path)\n",
    "for t in toolgCorr:     \n",
    "    toolg=t[0]\n",
    "    df_train_orign_toolg = df_train.loc[df_train['TOOLG_ID']==toolg]\n",
    "    #trainModel(toolg,df_train_orign_toolg,save_model)\n",
    "    trainModelXG(toolg,df_train_orign_toolg,save_modelxg)"
   ]
  },
  {
   "cell_type": "code",
   "execution_count": 97,
   "metadata": {},
   "outputs": [],
   "source": [
    "# df_testing"
   ]
  },
  {
   "source": [
    "# 測試 臨界值"
   ],
   "cell_type": "markdown",
   "metadata": {}
  },
  {
   "cell_type": "code",
   "execution_count": 98,
   "metadata": {},
   "outputs": [
    {
     "output_type": "execute_result",
     "data": {
      "text/plain": [
       "            WIP_QTY   NO_HOLD_QTY      MOVE_QTY           M           U  \\\n",
       "count    401.000000    401.000000    401.000000  401.000000  401.000000   \n",
       "mean   15649.438903  14153.817955  40379.463840   30.710723    0.069952   \n",
       "std     3268.166719   3199.797732   3007.540615    2.598290    0.058100   \n",
       "min     3163.000000   2805.000000   8038.000000    2.000000    0.033333   \n",
       "25%    13475.000000  12024.000000  38973.000000   30.000000    0.063549   \n",
       "50%    15328.000000  13833.000000  40498.000000   31.000000    0.065769   \n",
       "75%    17406.000000  15948.000000  41968.000000   32.000000    0.068811   \n",
       "max    31335.000000  29847.000000  45816.000000   32.000000    1.101804   \n",
       "\n",
       "                PT     UP_TIME    EQP_UTIL          TC          CS        C_AI  \n",
       "count   401.000000  401.000000  401.000000  401.000000  401.000000  401.000000  \n",
       "mean   2991.323249    0.950456    0.973200    0.505878    0.297117    0.269249  \n",
       "std      64.123117    0.033644    0.013019    0.148899    0.086718    0.930544  \n",
       "min    2821.530355    0.598291    0.920092    0.230723    0.228487  -18.039123  \n",
       "25%    2949.116780    0.936987    0.965570    0.451458    0.260931    0.219441  \n",
       "50%    2988.247734    0.954241    0.974747    0.479877    0.276570    0.268364  \n",
       "75%    3027.918790    0.968883    0.982608    0.508988    0.297060    0.358968  \n",
       "max    3353.320665    1.000000    1.000000    1.733301    1.003306    1.352526  "
      ],
      "text/html": "<div>\n<style scoped>\n    .dataframe tbody tr th:only-of-type {\n        vertical-align: middle;\n    }\n\n    .dataframe tbody tr th {\n        vertical-align: top;\n    }\n\n    .dataframe thead th {\n        text-align: right;\n    }\n</style>\n<table border=\"1\" class=\"dataframe\">\n  <thead>\n    <tr style=\"text-align: right;\">\n      <th></th>\n      <th>WIP_QTY</th>\n      <th>NO_HOLD_QTY</th>\n      <th>MOVE_QTY</th>\n      <th>M</th>\n      <th>U</th>\n      <th>PT</th>\n      <th>UP_TIME</th>\n      <th>EQP_UTIL</th>\n      <th>TC</th>\n      <th>CS</th>\n      <th>C_AI</th>\n    </tr>\n  </thead>\n  <tbody>\n    <tr>\n      <th>count</th>\n      <td>401.000000</td>\n      <td>401.000000</td>\n      <td>401.000000</td>\n      <td>401.000000</td>\n      <td>401.000000</td>\n      <td>401.000000</td>\n      <td>401.000000</td>\n      <td>401.000000</td>\n      <td>401.000000</td>\n      <td>401.000000</td>\n      <td>401.000000</td>\n    </tr>\n    <tr>\n      <th>mean</th>\n      <td>15649.438903</td>\n      <td>14153.817955</td>\n      <td>40379.463840</td>\n      <td>30.710723</td>\n      <td>0.069952</td>\n      <td>2991.323249</td>\n      <td>0.950456</td>\n      <td>0.973200</td>\n      <td>0.505878</td>\n      <td>0.297117</td>\n      <td>0.269249</td>\n    </tr>\n    <tr>\n      <th>std</th>\n      <td>3268.166719</td>\n      <td>3199.797732</td>\n      <td>3007.540615</td>\n      <td>2.598290</td>\n      <td>0.058100</td>\n      <td>64.123117</td>\n      <td>0.033644</td>\n      <td>0.013019</td>\n      <td>0.148899</td>\n      <td>0.086718</td>\n      <td>0.930544</td>\n    </tr>\n    <tr>\n      <th>min</th>\n      <td>3163.000000</td>\n      <td>2805.000000</td>\n      <td>8038.000000</td>\n      <td>2.000000</td>\n      <td>0.033333</td>\n      <td>2821.530355</td>\n      <td>0.598291</td>\n      <td>0.920092</td>\n      <td>0.230723</td>\n      <td>0.228487</td>\n      <td>-18.039123</td>\n    </tr>\n    <tr>\n      <th>25%</th>\n      <td>13475.000000</td>\n      <td>12024.000000</td>\n      <td>38973.000000</td>\n      <td>30.000000</td>\n      <td>0.063549</td>\n      <td>2949.116780</td>\n      <td>0.936987</td>\n      <td>0.965570</td>\n      <td>0.451458</td>\n      <td>0.260931</td>\n      <td>0.219441</td>\n    </tr>\n    <tr>\n      <th>50%</th>\n      <td>15328.000000</td>\n      <td>13833.000000</td>\n      <td>40498.000000</td>\n      <td>31.000000</td>\n      <td>0.065769</td>\n      <td>2988.247734</td>\n      <td>0.954241</td>\n      <td>0.974747</td>\n      <td>0.479877</td>\n      <td>0.276570</td>\n      <td>0.268364</td>\n    </tr>\n    <tr>\n      <th>75%</th>\n      <td>17406.000000</td>\n      <td>15948.000000</td>\n      <td>41968.000000</td>\n      <td>32.000000</td>\n      <td>0.068811</td>\n      <td>3027.918790</td>\n      <td>0.968883</td>\n      <td>0.982608</td>\n      <td>0.508988</td>\n      <td>0.297060</td>\n      <td>0.358968</td>\n    </tr>\n    <tr>\n      <th>max</th>\n      <td>31335.000000</td>\n      <td>29847.000000</td>\n      <td>45816.000000</td>\n      <td>32.000000</td>\n      <td>1.101804</td>\n      <td>3353.320665</td>\n      <td>1.000000</td>\n      <td>1.000000</td>\n      <td>1.733301</td>\n      <td>1.003306</td>\n      <td>1.352526</td>\n    </tr>\n  </tbody>\n</table>\n</div>"
     },
     "metadata": {},
     "execution_count": 98
    }
   ],
   "source": [
    "df_train.loc[df_train['TOOLG_ID']==toolg].describe()"
   ]
  },
  {
   "cell_type": "code",
   "execution_count": 99,
   "metadata": {},
   "outputs": [],
   "source": [
    "#df_testing"
   ]
  },
  {
   "source": [
    "# 執行模型預測"
   ],
   "cell_type": "markdown",
   "metadata": {}
  },
  {
   "cell_type": "code",
   "execution_count": 100,
   "metadata": {
    "tags": []
   },
   "outputs": [
    {
     "output_type": "stream",
     "name": "stdout",
     "text": [
      "17474.0 10\n",
      "./GX/PK_DUVKrFtraining_model2.model\n",
      "        NO_HOLD_QTY  MOVE_QTY             M            U           PT  \\\n",
      "count   1000.000000    1000.0  1.000000e+03  1000.000000  1000.000000   \n",
      "mean   22469.000000   39188.0  3.071072e+01     0.069952  2991.323249   \n",
      "std     2888.194361       0.0  7.108983e-15     0.000000     0.000000   \n",
      "min    17474.000000   39188.0  3.071072e+01     0.069952  2991.323249   \n",
      "25%    19971.500000   39188.0  3.071072e+01     0.069952  2991.323249   \n",
      "50%    22469.000000   39188.0  3.071072e+01     0.069952  2991.323249   \n",
      "75%    24966.500000   39188.0  3.071072e+01     0.069952  2991.323249   \n",
      "max    27464.000000   39188.0  3.071072e+01     0.069952  2991.323249   \n",
      "\n",
      "            UP_TIME      EQP_UTIL           TC            CS          C_AI  \n",
      "count  1.000000e+03  1.000000e+03  1000.000000  1.000000e+03  1.000000e+03  \n",
      "mean   9.504564e-01  9.731997e-01     0.505878  2.971171e-01  2.692492e-01  \n",
      "std    3.332336e-16  2.221557e-16     0.000000  1.110779e-16  1.110779e-16  \n",
      "min    9.504564e-01  9.731997e-01     0.505878  2.971171e-01  2.692492e-01  \n",
      "25%    9.504564e-01  9.731997e-01     0.505878  2.971171e-01  2.692492e-01  \n",
      "50%    9.504564e-01  9.731997e-01     0.505878  2.971171e-01  2.692492e-01  \n",
      "75%    9.504564e-01  9.731997e-01     0.505878  2.971171e-01  2.692492e-01  \n",
      "max    9.504564e-01  9.731997e-01     0.505878  2.971171e-01  2.692492e-01  \n"
     ]
    },
    {
     "output_type": "display_data",
     "data": {
      "text/plain": "<Figure size 432x288 with 1 Axes>",
      "image/svg+xml": "<?xml version=\"1.0\" encoding=\"utf-8\" standalone=\"no\"?>\r\n<!DOCTYPE svg PUBLIC \"-//W3C//DTD SVG 1.1//EN\"\r\n  \"http://www.w3.org/Graphics/SVG/1.1/DTD/svg11.dtd\">\r\n<!-- Created with matplotlib (https://matplotlib.org/) -->\r\n<svg height=\"248.518125pt\" version=\"1.1\" viewBox=\"0 0 388.0125 248.518125\" width=\"388.0125pt\" xmlns=\"http://www.w3.org/2000/svg\" xmlns:xlink=\"http://www.w3.org/1999/xlink\">\r\n <metadata>\r\n  <rdf:RDF xmlns:cc=\"http://creativecommons.org/ns#\" xmlns:dc=\"http://purl.org/dc/elements/1.1/\" xmlns:rdf=\"http://www.w3.org/1999/02/22-rdf-syntax-ns#\">\r\n   <cc:Work>\r\n    <dc:type rdf:resource=\"http://purl.org/dc/dcmitype/StillImage\"/>\r\n    <dc:date>2021-03-10T14:41:19.311477</dc:date>\r\n    <dc:format>image/svg+xml</dc:format>\r\n    <dc:creator>\r\n     <cc:Agent>\r\n      <dc:title>Matplotlib v3.3.3, https://matplotlib.org/</dc:title>\r\n     </cc:Agent>\r\n    </dc:creator>\r\n   </cc:Work>\r\n  </rdf:RDF>\r\n </metadata>\r\n <defs>\r\n  <style type=\"text/css\">*{stroke-linecap:butt;stroke-linejoin:round;}</style>\r\n </defs>\r\n <g id=\"figure_1\">\r\n  <g id=\"patch_1\">\r\n   <path d=\"M 0 248.518125 \r\nL 388.0125 248.518125 \r\nL 388.0125 0 \r\nL 0 0 \r\nz\r\n\" style=\"fill:none;\"/>\r\n  </g>\r\n  <g id=\"axes_1\">\r\n   <g id=\"patch_2\">\r\n    <path d=\"M 46.0125 224.64 \r\nL 380.8125 224.64 \r\nL 380.8125 7.2 \r\nL 46.0125 7.2 \r\nz\r\n\" style=\"fill:#ffffff;\"/>\r\n   </g>\r\n   <g id=\"matplotlib.axis_1\">\r\n    <g id=\"xtick_1\">\r\n     <g id=\"line2d_1\">\r\n      <defs>\r\n       <path d=\"M 0 0 \r\nL 0 3.5 \r\n\" id=\"m872bb40ab8\" style=\"stroke:#000000;stroke-width:0.8;\"/>\r\n      </defs>\r\n      <g>\r\n       <use style=\"stroke:#000000;stroke-width:0.8;\" x=\"77.256235\" xlink:href=\"#m872bb40ab8\" y=\"224.64\"/>\r\n      </g>\r\n     </g>\r\n     <g id=\"text_1\">\r\n      <!-- 18000 -->\r\n      <g transform=\"translate(61.349985 239.238437)scale(0.1 -0.1)\">\r\n       <defs>\r\n        <path d=\"M 12.40625 8.296875 \r\nL 28.515625 8.296875 \r\nL 28.515625 63.921875 \r\nL 10.984375 60.40625 \r\nL 10.984375 69.390625 \r\nL 28.421875 72.90625 \r\nL 38.28125 72.90625 \r\nL 38.28125 8.296875 \r\nL 54.390625 8.296875 \r\nL 54.390625 0 \r\nL 12.40625 0 \r\nz\r\n\" id=\"DejaVuSans-49\"/>\r\n        <path d=\"M 31.78125 34.625 \r\nQ 24.75 34.625 20.71875 30.859375 \r\nQ 16.703125 27.09375 16.703125 20.515625 \r\nQ 16.703125 13.921875 20.71875 10.15625 \r\nQ 24.75 6.390625 31.78125 6.390625 \r\nQ 38.8125 6.390625 42.859375 10.171875 \r\nQ 46.921875 13.96875 46.921875 20.515625 \r\nQ 46.921875 27.09375 42.890625 30.859375 \r\nQ 38.875 34.625 31.78125 34.625 \r\nz\r\nM 21.921875 38.8125 \r\nQ 15.578125 40.375 12.03125 44.71875 \r\nQ 8.5 49.078125 8.5 55.328125 \r\nQ 8.5 64.0625 14.71875 69.140625 \r\nQ 20.953125 74.21875 31.78125 74.21875 \r\nQ 42.671875 74.21875 48.875 69.140625 \r\nQ 55.078125 64.0625 55.078125 55.328125 \r\nQ 55.078125 49.078125 51.53125 44.71875 \r\nQ 48 40.375 41.703125 38.8125 \r\nQ 48.828125 37.15625 52.796875 32.3125 \r\nQ 56.78125 27.484375 56.78125 20.515625 \r\nQ 56.78125 9.90625 50.3125 4.234375 \r\nQ 43.84375 -1.421875 31.78125 -1.421875 \r\nQ 19.734375 -1.421875 13.25 4.234375 \r\nQ 6.78125 9.90625 6.78125 20.515625 \r\nQ 6.78125 27.484375 10.78125 32.3125 \r\nQ 14.796875 37.15625 21.921875 38.8125 \r\nz\r\nM 18.3125 54.390625 \r\nQ 18.3125 48.734375 21.84375 45.5625 \r\nQ 25.390625 42.390625 31.78125 42.390625 \r\nQ 38.140625 42.390625 41.71875 45.5625 \r\nQ 45.3125 48.734375 45.3125 54.390625 \r\nQ 45.3125 60.0625 41.71875 63.234375 \r\nQ 38.140625 66.40625 31.78125 66.40625 \r\nQ 25.390625 66.40625 21.84375 63.234375 \r\nQ 18.3125 60.0625 18.3125 54.390625 \r\nz\r\n\" id=\"DejaVuSans-56\"/>\r\n        <path d=\"M 31.78125 66.40625 \r\nQ 24.171875 66.40625 20.328125 58.90625 \r\nQ 16.5 51.421875 16.5 36.375 \r\nQ 16.5 21.390625 20.328125 13.890625 \r\nQ 24.171875 6.390625 31.78125 6.390625 \r\nQ 39.453125 6.390625 43.28125 13.890625 \r\nQ 47.125 21.390625 47.125 36.375 \r\nQ 47.125 51.421875 43.28125 58.90625 \r\nQ 39.453125 66.40625 31.78125 66.40625 \r\nz\r\nM 31.78125 74.21875 \r\nQ 44.046875 74.21875 50.515625 64.515625 \r\nQ 56.984375 54.828125 56.984375 36.375 \r\nQ 56.984375 17.96875 50.515625 8.265625 \r\nQ 44.046875 -1.421875 31.78125 -1.421875 \r\nQ 19.53125 -1.421875 13.0625 8.265625 \r\nQ 6.59375 17.96875 6.59375 36.375 \r\nQ 6.59375 54.828125 13.0625 64.515625 \r\nQ 19.53125 74.21875 31.78125 74.21875 \r\nz\r\n\" id=\"DejaVuSans-48\"/>\r\n       </defs>\r\n       <use xlink:href=\"#DejaVuSans-49\"/>\r\n       <use x=\"63.623047\" xlink:href=\"#DejaVuSans-56\"/>\r\n       <use x=\"127.246094\" xlink:href=\"#DejaVuSans-48\"/>\r\n       <use x=\"190.869141\" xlink:href=\"#DejaVuSans-48\"/>\r\n       <use x=\"254.492188\" xlink:href=\"#DejaVuSans-48\"/>\r\n      </g>\r\n     </g>\r\n    </g>\r\n    <g id=\"xtick_2\">\r\n     <g id=\"line2d_2\">\r\n      <g>\r\n       <use style=\"stroke:#000000;stroke-width:0.8;\" x=\"138.189896\" xlink:href=\"#m872bb40ab8\" y=\"224.64\"/>\r\n      </g>\r\n     </g>\r\n     <g id=\"text_2\">\r\n      <!-- 20000 -->\r\n      <g transform=\"translate(122.283646 239.238437)scale(0.1 -0.1)\">\r\n       <defs>\r\n        <path d=\"M 19.1875 8.296875 \r\nL 53.609375 8.296875 \r\nL 53.609375 0 \r\nL 7.328125 0 \r\nL 7.328125 8.296875 \r\nQ 12.9375 14.109375 22.625 23.890625 \r\nQ 32.328125 33.6875 34.8125 36.53125 \r\nQ 39.546875 41.84375 41.421875 45.53125 \r\nQ 43.3125 49.21875 43.3125 52.78125 \r\nQ 43.3125 58.59375 39.234375 62.25 \r\nQ 35.15625 65.921875 28.609375 65.921875 \r\nQ 23.96875 65.921875 18.8125 64.3125 \r\nQ 13.671875 62.703125 7.8125 59.421875 \r\nL 7.8125 69.390625 \r\nQ 13.765625 71.78125 18.9375 73 \r\nQ 24.125 74.21875 28.421875 74.21875 \r\nQ 39.75 74.21875 46.484375 68.546875 \r\nQ 53.21875 62.890625 53.21875 53.421875 \r\nQ 53.21875 48.921875 51.53125 44.890625 \r\nQ 49.859375 40.875 45.40625 35.40625 \r\nQ 44.1875 33.984375 37.640625 27.21875 \r\nQ 31.109375 20.453125 19.1875 8.296875 \r\nz\r\n\" id=\"DejaVuSans-50\"/>\r\n       </defs>\r\n       <use xlink:href=\"#DejaVuSans-50\"/>\r\n       <use x=\"63.623047\" xlink:href=\"#DejaVuSans-48\"/>\r\n       <use x=\"127.246094\" xlink:href=\"#DejaVuSans-48\"/>\r\n       <use x=\"190.869141\" xlink:href=\"#DejaVuSans-48\"/>\r\n       <use x=\"254.492188\" xlink:href=\"#DejaVuSans-48\"/>\r\n      </g>\r\n     </g>\r\n    </g>\r\n    <g id=\"xtick_3\">\r\n     <g id=\"line2d_3\">\r\n      <g>\r\n       <use style=\"stroke:#000000;stroke-width:0.8;\" x=\"199.123557\" xlink:href=\"#m872bb40ab8\" y=\"224.64\"/>\r\n      </g>\r\n     </g>\r\n     <g id=\"text_3\">\r\n      <!-- 22000 -->\r\n      <g transform=\"translate(183.217307 239.238437)scale(0.1 -0.1)\">\r\n       <use xlink:href=\"#DejaVuSans-50\"/>\r\n       <use x=\"63.623047\" xlink:href=\"#DejaVuSans-50\"/>\r\n       <use x=\"127.246094\" xlink:href=\"#DejaVuSans-48\"/>\r\n       <use x=\"190.869141\" xlink:href=\"#DejaVuSans-48\"/>\r\n       <use x=\"254.492188\" xlink:href=\"#DejaVuSans-48\"/>\r\n      </g>\r\n     </g>\r\n    </g>\r\n    <g id=\"xtick_4\">\r\n     <g id=\"line2d_4\">\r\n      <g>\r\n       <use style=\"stroke:#000000;stroke-width:0.8;\" x=\"260.057217\" xlink:href=\"#m872bb40ab8\" y=\"224.64\"/>\r\n      </g>\r\n     </g>\r\n     <g id=\"text_4\">\r\n      <!-- 24000 -->\r\n      <g transform=\"translate(244.150967 239.238437)scale(0.1 -0.1)\">\r\n       <defs>\r\n        <path d=\"M 37.796875 64.3125 \r\nL 12.890625 25.390625 \r\nL 37.796875 25.390625 \r\nz\r\nM 35.203125 72.90625 \r\nL 47.609375 72.90625 \r\nL 47.609375 25.390625 \r\nL 58.015625 25.390625 \r\nL 58.015625 17.1875 \r\nL 47.609375 17.1875 \r\nL 47.609375 0 \r\nL 37.796875 0 \r\nL 37.796875 17.1875 \r\nL 4.890625 17.1875 \r\nL 4.890625 26.703125 \r\nz\r\n\" id=\"DejaVuSans-52\"/>\r\n       </defs>\r\n       <use xlink:href=\"#DejaVuSans-50\"/>\r\n       <use x=\"63.623047\" xlink:href=\"#DejaVuSans-52\"/>\r\n       <use x=\"127.246094\" xlink:href=\"#DejaVuSans-48\"/>\r\n       <use x=\"190.869141\" xlink:href=\"#DejaVuSans-48\"/>\r\n       <use x=\"254.492188\" xlink:href=\"#DejaVuSans-48\"/>\r\n      </g>\r\n     </g>\r\n    </g>\r\n    <g id=\"xtick_5\">\r\n     <g id=\"line2d_5\">\r\n      <g>\r\n       <use style=\"stroke:#000000;stroke-width:0.8;\" x=\"320.990878\" xlink:href=\"#m872bb40ab8\" y=\"224.64\"/>\r\n      </g>\r\n     </g>\r\n     <g id=\"text_5\">\r\n      <!-- 26000 -->\r\n      <g transform=\"translate(305.084628 239.238437)scale(0.1 -0.1)\">\r\n       <defs>\r\n        <path d=\"M 33.015625 40.375 \r\nQ 26.375 40.375 22.484375 35.828125 \r\nQ 18.609375 31.296875 18.609375 23.390625 \r\nQ 18.609375 15.53125 22.484375 10.953125 \r\nQ 26.375 6.390625 33.015625 6.390625 \r\nQ 39.65625 6.390625 43.53125 10.953125 \r\nQ 47.40625 15.53125 47.40625 23.390625 \r\nQ 47.40625 31.296875 43.53125 35.828125 \r\nQ 39.65625 40.375 33.015625 40.375 \r\nz\r\nM 52.59375 71.296875 \r\nL 52.59375 62.3125 \r\nQ 48.875 64.0625 45.09375 64.984375 \r\nQ 41.3125 65.921875 37.59375 65.921875 \r\nQ 27.828125 65.921875 22.671875 59.328125 \r\nQ 17.53125 52.734375 16.796875 39.40625 \r\nQ 19.671875 43.65625 24.015625 45.921875 \r\nQ 28.375 48.1875 33.59375 48.1875 \r\nQ 44.578125 48.1875 50.953125 41.515625 \r\nQ 57.328125 34.859375 57.328125 23.390625 \r\nQ 57.328125 12.15625 50.6875 5.359375 \r\nQ 44.046875 -1.421875 33.015625 -1.421875 \r\nQ 20.359375 -1.421875 13.671875 8.265625 \r\nQ 6.984375 17.96875 6.984375 36.375 \r\nQ 6.984375 53.65625 15.1875 63.9375 \r\nQ 23.390625 74.21875 37.203125 74.21875 \r\nQ 40.921875 74.21875 44.703125 73.484375 \r\nQ 48.484375 72.75 52.59375 71.296875 \r\nz\r\n\" id=\"DejaVuSans-54\"/>\r\n       </defs>\r\n       <use xlink:href=\"#DejaVuSans-50\"/>\r\n       <use x=\"63.623047\" xlink:href=\"#DejaVuSans-54\"/>\r\n       <use x=\"127.246094\" xlink:href=\"#DejaVuSans-48\"/>\r\n       <use x=\"190.869141\" xlink:href=\"#DejaVuSans-48\"/>\r\n       <use x=\"254.492188\" xlink:href=\"#DejaVuSans-48\"/>\r\n      </g>\r\n     </g>\r\n    </g>\r\n   </g>\r\n   <g id=\"matplotlib.axis_2\">\r\n    <g id=\"ytick_1\">\r\n     <g id=\"line2d_6\">\r\n      <defs>\r\n       <path d=\"M 0 0 \r\nL -3.5 0 \r\n\" id=\"md4470c48d8\" style=\"stroke:#000000;stroke-width:0.8;\"/>\r\n      </defs>\r\n      <g>\r\n       <use style=\"stroke:#000000;stroke-width:0.8;\" x=\"46.0125\" xlink:href=\"#md4470c48d8\" y=\"194.811438\"/>\r\n      </g>\r\n     </g>\r\n     <g id=\"text_6\">\r\n      <!-- 41200 -->\r\n      <g transform=\"translate(7.2 198.610657)scale(0.1 -0.1)\">\r\n       <use xlink:href=\"#DejaVuSans-52\"/>\r\n       <use x=\"63.623047\" xlink:href=\"#DejaVuSans-49\"/>\r\n       <use x=\"127.246094\" xlink:href=\"#DejaVuSans-50\"/>\r\n       <use x=\"190.869141\" xlink:href=\"#DejaVuSans-48\"/>\r\n       <use x=\"254.492188\" xlink:href=\"#DejaVuSans-48\"/>\r\n      </g>\r\n     </g>\r\n    </g>\r\n    <g id=\"ytick_2\">\r\n     <g id=\"line2d_7\">\r\n      <g>\r\n       <use style=\"stroke:#000000;stroke-width:0.8;\" x=\"46.0125\" xlink:href=\"#md4470c48d8\" y=\"163.489775\"/>\r\n      </g>\r\n     </g>\r\n     <g id=\"text_7\">\r\n      <!-- 41400 -->\r\n      <g transform=\"translate(7.2 167.288994)scale(0.1 -0.1)\">\r\n       <use xlink:href=\"#DejaVuSans-52\"/>\r\n       <use x=\"63.623047\" xlink:href=\"#DejaVuSans-49\"/>\r\n       <use x=\"127.246094\" xlink:href=\"#DejaVuSans-52\"/>\r\n       <use x=\"190.869141\" xlink:href=\"#DejaVuSans-48\"/>\r\n       <use x=\"254.492188\" xlink:href=\"#DejaVuSans-48\"/>\r\n      </g>\r\n     </g>\r\n    </g>\r\n    <g id=\"ytick_3\">\r\n     <g id=\"line2d_8\">\r\n      <g>\r\n       <use style=\"stroke:#000000;stroke-width:0.8;\" x=\"46.0125\" xlink:href=\"#md4470c48d8\" y=\"132.168113\"/>\r\n      </g>\r\n     </g>\r\n     <g id=\"text_8\">\r\n      <!-- 41600 -->\r\n      <g transform=\"translate(7.2 135.967331)scale(0.1 -0.1)\">\r\n       <use xlink:href=\"#DejaVuSans-52\"/>\r\n       <use x=\"63.623047\" xlink:href=\"#DejaVuSans-49\"/>\r\n       <use x=\"127.246094\" xlink:href=\"#DejaVuSans-54\"/>\r\n       <use x=\"190.869141\" xlink:href=\"#DejaVuSans-48\"/>\r\n       <use x=\"254.492188\" xlink:href=\"#DejaVuSans-48\"/>\r\n      </g>\r\n     </g>\r\n    </g>\r\n    <g id=\"ytick_4\">\r\n     <g id=\"line2d_9\">\r\n      <g>\r\n       <use style=\"stroke:#000000;stroke-width:0.8;\" x=\"46.0125\" xlink:href=\"#md4470c48d8\" y=\"100.84645\"/>\r\n      </g>\r\n     </g>\r\n     <g id=\"text_9\">\r\n      <!-- 41800 -->\r\n      <g transform=\"translate(7.2 104.645668)scale(0.1 -0.1)\">\r\n       <use xlink:href=\"#DejaVuSans-52\"/>\r\n       <use x=\"63.623047\" xlink:href=\"#DejaVuSans-49\"/>\r\n       <use x=\"127.246094\" xlink:href=\"#DejaVuSans-56\"/>\r\n       <use x=\"190.869141\" xlink:href=\"#DejaVuSans-48\"/>\r\n       <use x=\"254.492188\" xlink:href=\"#DejaVuSans-48\"/>\r\n      </g>\r\n     </g>\r\n    </g>\r\n    <g id=\"ytick_5\">\r\n     <g id=\"line2d_10\">\r\n      <g>\r\n       <use style=\"stroke:#000000;stroke-width:0.8;\" x=\"46.0125\" xlink:href=\"#md4470c48d8\" y=\"69.524787\"/>\r\n      </g>\r\n     </g>\r\n     <g id=\"text_10\">\r\n      <!-- 42000 -->\r\n      <g transform=\"translate(7.2 73.324006)scale(0.1 -0.1)\">\r\n       <use xlink:href=\"#DejaVuSans-52\"/>\r\n       <use x=\"63.623047\" xlink:href=\"#DejaVuSans-50\"/>\r\n       <use x=\"127.246094\" xlink:href=\"#DejaVuSans-48\"/>\r\n       <use x=\"190.869141\" xlink:href=\"#DejaVuSans-48\"/>\r\n       <use x=\"254.492188\" xlink:href=\"#DejaVuSans-48\"/>\r\n      </g>\r\n     </g>\r\n    </g>\r\n    <g id=\"ytick_6\">\r\n     <g id=\"line2d_11\">\r\n      <g>\r\n       <use style=\"stroke:#000000;stroke-width:0.8;\" x=\"46.0125\" xlink:href=\"#md4470c48d8\" y=\"38.203124\"/>\r\n      </g>\r\n     </g>\r\n     <g id=\"text_11\">\r\n      <!-- 42200 -->\r\n      <g transform=\"translate(7.2 42.002343)scale(0.1 -0.1)\">\r\n       <use xlink:href=\"#DejaVuSans-52\"/>\r\n       <use x=\"63.623047\" xlink:href=\"#DejaVuSans-50\"/>\r\n       <use x=\"127.246094\" xlink:href=\"#DejaVuSans-50\"/>\r\n       <use x=\"190.869141\" xlink:href=\"#DejaVuSans-48\"/>\r\n       <use x=\"254.492188\" xlink:href=\"#DejaVuSans-48\"/>\r\n      </g>\r\n     </g>\r\n    </g>\r\n   </g>\r\n   <g id=\"line2d_12\">\r\n    <path clip-path=\"url(#p9481c9e3e5)\" d=\"M 61.230682 214.756364 \r\nL 66.410043 214.756364 \r\nL 66.714711 214.437641 \r\nL 68.542721 214.437641 \r\nL 68.847389 212.839135 \r\nL 69.152058 212.839135 \r\nL 69.456726 210.350531 \r\nL 72.808077 210.350531 \r\nL 73.112746 210.895602 \r\nL 73.722082 210.895602 \r\nL 74.026751 200.3068 \r\nL 74.331419 200.3068 \r\nL 74.940756 124.566492 \r\nL 78.292107 124.566492 \r\nL 78.596775 125.619927 \r\nL 78.901443 111.848184 \r\nL 79.51078 111.848184 \r\nL 79.815448 111.481133 \r\nL 85.604146 111.481133 \r\nL 85.908814 103.445781 \r\nL 86.213483 65.070014 \r\nL 102.97024 65.070014 \r\nL 103.274908 67.191568 \r\nL 116.070977 67.191568 \r\nL 116.375645 93.375744 \r\nL 129.476382 93.375744 \r\nL 129.78105 79.867665 \r\nL 138.9211 79.867665 \r\nL 139.225768 34.309939 \r\nL 168.169257 34.309939 \r\nL 168.473925 32.349888 \r\nL 178.832647 32.349888 \r\nL 179.137316 17.083636 \r\nL 212.346161 17.083636 \r\nL 212.650829 23.539447 \r\nL 214.783507 23.539447 \r\nL 215.088176 29.667359 \r\nL 252.867045 29.667359 \r\nL 253.171714 28.865965 \r\nL 261.397758 28.865965 \r\nL 261.702426 31.193678 \r\nL 354.930928 31.193678 \r\nL 355.235596 32.422075 \r\nL 365.594318 32.422075 \r\nL 365.594318 32.422075 \r\n\" style=\"fill:none;stroke:#1f77b4;stroke-linecap:square;stroke-width:1.5;\"/>\r\n   </g>\r\n   <g id=\"patch_3\">\r\n    <path d=\"M 46.0125 224.64 \r\nL 46.0125 7.2 \r\n\" style=\"fill:none;stroke:#000000;stroke-linecap:square;stroke-linejoin:miter;stroke-width:0.8;\"/>\r\n   </g>\r\n   <g id=\"patch_4\">\r\n    <path d=\"M 380.8125 224.64 \r\nL 380.8125 7.2 \r\n\" style=\"fill:none;stroke:#000000;stroke-linecap:square;stroke-linejoin:miter;stroke-width:0.8;\"/>\r\n   </g>\r\n   <g id=\"patch_5\">\r\n    <path d=\"M 46.0125 224.64 \r\nL 380.8125 224.64 \r\n\" style=\"fill:none;stroke:#000000;stroke-linecap:square;stroke-linejoin:miter;stroke-width:0.8;\"/>\r\n   </g>\r\n   <g id=\"patch_6\">\r\n    <path d=\"M 46.0125 7.2 \r\nL 380.8125 7.2 \r\n\" style=\"fill:none;stroke:#000000;stroke-linecap:square;stroke-linejoin:miter;stroke-width:0.8;\"/>\r\n   </g>\r\n  </g>\r\n </g>\r\n <defs>\r\n  <clipPath id=\"p9481c9e3e5\">\r\n   <rect height=\"217.44\" width=\"334.8\" x=\"46.0125\" y=\"7.2\"/>\r\n  </clipPath>\r\n </defs>\r\n</svg>\r\n",
      "image/png": "[encoded data removed]"
     },
     "metadata": {
      "needs_background": "light"
     }
    }
   ],
   "source": [
    "#cols=df_train.columns\n",
    "cols=['M','U','PT','UP_TIME','EQP_UTIL','TC','CS','C_AI']\n",
    "#for toolg in toolgCorr[:,0]:     \n",
    "# for toolg in toolgCorr[:,0]:  \n",
    "# \n",
    "\n",
    "for t in toolgCorr:\n",
    "    toolg=t[0]\n",
    "    # df_test_orign_toolg = df_train.loc[df_train['TOOLG_ID']==toolg]\n",
    "    # df_testing =df_test_orign_toolg\n",
    "    df_testing= df_train.loc[df_train['TOOLG_ID']==toolg]\n",
    "    df_testing[cols] = df_testing[cols].mean()\n",
    "    df_testing =df_testing[0:1]\n",
    "    # max_wip = df_testing['NO_HOLD_QTY'].max()* .75\n",
    "    max_wip = np.percentile(df_testing['NO_HOLD_QTY'], 50) # return 50th percentile, e.g median.\n",
    "    tick = (df_testing['NO_HOLD_QTY'].max() - df_testing['NO_HOLD_QTY'].min()) /400\n",
    "    if max_wip <=0 :\n",
    "        \n",
    "        max_wip=100\n",
    "    if tick <10 :\n",
    "        tick = 10\n",
    "    print(max_wip,tick)\n",
    "    #print(\" max_wip\" ,max_wip)\n",
    "    \n",
    "    \n",
    "    \n",
    "    # cols=['NO_HOLD_QTY','M','U','PT','UP_TIME','EQP_UTIL','TC','CS','AI','C_AI']\n",
    "    # df_testing[cols] = df_train[cols].mean()\n",
    "    # df_testing.head()\n",
    "    # df_train_orign.info()\n",
    "    # print(df_testing.columns)\n",
    "    # print(df_testing.head)\n",
    "    # print(df_testing.mean())\n",
    "    # df = pd.DataFrame(['FE_Anneal',584.163217,750.0,6.548169,0.66463,5872.975754,0.921801,0.625027,0.59574,0.561539,225.856884,\t2.640577,'Wednesday','FE_Anneal'], columns = df_train.columns)\n",
    "    #df = pd.DataFrame( df_testing[0:1], columns = df_testing.columns)\n",
    "    # df.loc[0] = df_testing[0:1]\n",
    "    # df_testing_template= ['FE_Anneal',584.163217,750.0,6.548169,0.66463,5872.975754,0.921801,0.625027,0.59574,0.561539,225.856884,\t2.640577,'Wednesday','FE_Anneal']#df_testing[0:1]\n",
    "\n",
    " \n",
    "    # testModel(df_train_orign_toolg,save_model)\n",
    "    df = pd.DataFrame(columns = df_testing.columns)\n",
    "   \n",
    "    for i in range(1000):\n",
    "        # #pd.concat([ df_testing ,df_testing_template]) \n",
    "        # df.append(df_testing_template,ignore_index=True,sort=False)\n",
    "        # #print(df_testing.shape)\n",
    "        # #print(df_testing_template)\n",
    "        # df.loc[i]=df_testing[0:1]\n",
    "        # df.append(pd.Series(df_testing[0:1].values.tolist(), index=newDF.columns[:len(df_testing[0:1].values.tolist())]), ignore_index=True)\n",
    "        \n",
    "        df_testing['NO_HOLD_QTY']=max_wip+ tick*i\n",
    "        #print(i,df_testing.head())\n",
    "        # n =pd.Series(df_testing[0:1].values.tolist())\n",
    "        df = df.append(df_testing,ignore_index=True)\n",
    "        \n",
    "    #print(df.shape,df.head())        \n",
    "    # TestModel(df,save_model)\n",
    "    TestModelXG(df,save_modelxg)\n",
    "       "
   ]
  },
  {
   "cell_type": "code",
   "execution_count": 101,
   "metadata": {},
   "outputs": [
    {
     "output_type": "stream",
     "name": "stdout",
     "text": [
      "<class 'pandas.core.frame.DataFrame'>\nRangeIndex: 1000 entries, 0 to 999\nData columns (total 13 columns):\n #   Column       Non-Null Count  Dtype  \n---  ------       --------------  -----  \n 0   TOOLG_ID     1000 non-null   object \n 1   WIP_QTY      1000 non-null   float64\n 2   NO_HOLD_QTY  1000 non-null   float64\n 3   MOVE_QTY     1000 non-null   float64\n 4   M            1000 non-null   float64\n 5   U            1000 non-null   float64\n 6   PT           1000 non-null   float64\n 7   UP_TIME      1000 non-null   float64\n 8   EQP_UTIL     1000 non-null   float64\n 9   TC           1000 non-null   float64\n 10  CS           1000 non-null   float64\n 11  C_AI         1000 non-null   float64\n 12  predict      1000 non-null   float32\ndtypes: float32(1), float64(11), object(1)\nmemory usage: 97.8+ KB\n"
     ]
    }
   ],
   "source": [
    "df.info()"
   ]
  },
  {
   "cell_type": "code",
   "execution_count": 102,
   "metadata": {},
   "outputs": [],
   "source": [
    "# df_train.loc[df_train['TOOLG_ID']=='PK_DUVKrF']  \n",
    "# df1=readDataFromFile('./MG-1M.csv')\n",
    "# df1.columns"
   ]
  },
  {
   "source": [
    "# sweetviz"
   ],
   "cell_type": "markdown",
   "metadata": {}
  },
  {
   "cell_type": "code",
   "execution_count": 103,
   "metadata": {
    "tags": []
   },
   "outputs": [],
   "source": [
    "\n",
    "\n",
    "# import sweetviz as sv\n",
    "# pairwise_analysis='on' #相關性和其他型別的資料關聯可能需要花費較長時間。如果超過了某個閾值，就需要設定這個引數為on或者off，以判斷是否需要分析資料相關性。\n",
    "# df1=readDataFromFile('./MG-1M.csv')\n",
    "# # 1. 查看缺失情况\n",
    "# df1.fillna(value=0, inplace=True)\n",
    "# # nullseries = df1.isnull().sum()\n",
    "# # print(nullseries[nullseries > 0])\n",
    "# # df1['TECH-PROD_ID'] = df1['TECH']+df1['PROD_ID']\n",
    "# # df1['LAYER-STAGE'] = df1['LAYER']+df1['STAGE']\n",
    "# # df1['OPER_NAME-LAYER-STAGE']= df1['OPER_NAME']+df1['LAYER']+df1['STAGE']\n",
    "# # df1['ROUTE_ID-OPER_NAME']= df1['ROUTE_ID']+df1['OPER_NAME'] \n",
    "# # df1['ROUTE_ID-OPER_NAME-LAYER-STAGE']= df1['ROUTE_ID']+df1['OPER_NAME']+df1['LAYER']+df1['STAGE']\n",
    "# # df1['ROUTE_ID-LAYER'] = df1['ROUTE_ID']+df1['LAYER']\n",
    "# # df1['ROUTE_ID-STAGE'] = df1['ROUTE_ID']+df1['STAGE']\n",
    "\n",
    "# feature_config = sv.FeatureConfig()\n",
    "# #                                    force_cat=['TECH','PROD_ID','ROUTE_ID','OPER_NAME','LAYER','STAGE','LOT_PRTY','LOT_TYPE','LAYER','STAGE','TECH-PROD_ID'\t \n",
    "# # ,'LAYER-STAGE'\t \n",
    "# # ,'OPER_NAME-LAYER-STAGE' \n",
    "# # ,'ROUTE_ID-OPER_NAME' \n",
    "# # ,'ROUTE_ID-OPER_NAME-LAYER-STAGE' \n",
    "# # ,'ROUTE_ID-LAYER' \n",
    "# # ,'ROUTE_ID-STAGE' ])\n",
    "\n",
    "\n",
    "# report_train = sv.analyze([df1, 'train'],\n",
    "#                                 target_feat='MOVE_QTY', # Categorical特徵\n",
    "#                                 feat_cfg=feature_config,\n",
    "#                                 pairwise_analysis  = pairwise_analysis) \n",
    "\n",
    "\n",
    "# report_train.show_html(filepath='Basic_train_reportMG1M.html' ) # 儲存為html的格式\n",
    "\n",
    "# # # compare_subsets_report = sv.compare_intra(df_train,\n",
    "# # #                                         df_train['Finish']==1, # 給條件區分\n",
    "# # #                                         ['Finish', 'notFinish'], # 為兩個子資料集命名 \n",
    "# # #                                         target_feat='MOVE_QTY',\n",
    "# # #                                         )\n",
    "\n",
    "# # # compare_subsets_report.show_html(filepath='./sweetvizHTML/Compare_male_female_report.html')\n",
    "\n",
    "\n"
   ]
  },
  {
   "cell_type": "code",
   "execution_count": 104,
   "metadata": {
    "tags": []
   },
   "outputs": [],
   "source": [
    "\n",
    " \n",
    "# pairwise_analysis='on' #相關性和其他型別的資料關聯可能需要花費較長時間。如果超過了某個閾值，就需要設定這個引數為on或者off，以判斷是否需要分析資料相關性。\n",
    "# df1=readDataFromFile('./MG-2M.csv')\n",
    "# # # 1. 查看缺失情况\n",
    "# df1.fillna(value=0, inplace=True)\n",
    "# # nullseries = df1.isnull().sum()\n",
    "# # print(nullseries[nullseries > 0])\n",
    "\n",
    "# # df1['TECH-PROD_ID'] = df1['TECH']+df1['PROD_ID']\n",
    "# # df1['LAYER-STAGE'] = df1['LAYER']+df1['STAGE']\n",
    "# # df1['OPER_NAME-LAYER-STAGE']= df1['OPER_NAME']+df1['LAYER']+df1['STAGE']\n",
    "# # df1['ROUTE_ID-OPER_NAME']= df1['ROUTE_ID']+df1['OPER_NAME'] \n",
    "# # df1['ROUTE_ID-OPER_NAME-LAYER-STAGE']= df1['ROUTE_ID']+df1['OPER_NAME']+df1['LAYER']+df1['STAGE']\n",
    "# # df1['ROUTE_ID-LAYER'] = df1['ROUTE_ID']+df1['LAYER']\n",
    "# # df1['ROUTE_ID-STAGE'] = df1['ROUTE_ID']+df1['STAGE']\n",
    "\n",
    "# feature_config = sv.FeatureConfig()\n",
    "# #                                    force_cat=['TECH','PROD_ID','ROUTE_ID','OPER_NAME','LAYER','STAGE','LOT_PRTY','LOT_TYPE','LAYER','STAGE','TECH-PROD_ID'\t \n",
    "# # ,'LAYER-STAGE'\t \n",
    "# # ,'OPER_NAME-LAYER-STAGE' \n",
    "# # ,'ROUTE_ID-OPER_NAME' \n",
    "# # ,'ROUTE_ID-OPER_NAME-LAYER-STAGE' \n",
    "# # ,'ROUTE_ID-LAYER' \n",
    "# # ,'ROUTE_ID-STAGE' ])\n",
    "\n",
    "\n",
    "# report_train = sv.analyze([df1, 'train'],\n",
    "#                                 target_feat='MOVE_QTY', # Categorical特徵\n",
    "#                                 feat_cfg=feature_config,\n",
    "#                                 pairwise_analysis  = pairwise_analysis) \n",
    "\n",
    "\n",
    "# report_train.show_html(filepath='Basic_train_reportMG2M.html' ) # 儲存為html的格式\n",
    "\n",
    "# # # compare_subsets_report = sv.compare_intra(df_train,\n",
    "# # #                                         df_train['Finish']==1, # 給條件區分\n",
    "# # #                                         ['Finish', 'notFinish'], # 為兩個子資料集命名 \n",
    "# # #                                         target_feat='MOVE_QTY',\n",
    "# # #                                         )\n",
    "\n",
    "# # # compare_subsets_report.show_html(filepath='./sweetvizHTML/Compare_male_female_report.html')\n",
    "\n",
    "\n"
   ]
  },
  {
   "cell_type": "code",
   "execution_count": 105,
   "metadata": {},
   "outputs": [],
   "source": [
    "# df1"
   ]
  },
  {
   "cell_type": "code",
   "execution_count": 106,
   "metadata": {},
   "outputs": [],
   "source": [
    "# plt.plot([1,2,3,4], [1,4,9,16])"
   ]
  },
  {
   "cell_type": "code",
   "execution_count": null,
   "metadata": {},
   "outputs": [],
   "source": []
  }
 ]
}