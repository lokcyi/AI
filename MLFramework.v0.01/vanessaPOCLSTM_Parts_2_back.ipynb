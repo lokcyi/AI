{
 "metadata": {
  "language_info": {
   "codemirror_mode": {
    "name": "ipython",
    "version": 3
   },
   "file_extension": ".py",
   "mimetype": "text/x-python",
   "name": "python",
   "nbconvert_exporter": "python",
   "pygments_lexer": "ipython3",
   "version": "3.7.9-final"
  },
  "orig_nbformat": 2,
  "kernelspec": {
   "name": "python379jvsc74a57bd0fd79c5f311e48de877911d8cf1d56e7b724990a605ba536e714d512526dbebf5",
   "display_name": "Python 3.7.9 64-bit"
  }
 },
 "nbformat": 4,
 "nbformat_minor": 2,
 "cells": [
  {
   "cell_type": "code",
   "execution_count": 1,
   "metadata": {},
   "outputs": [],
   "source": [
    "import pandas as pd\n",
    "import numpy  \n",
    "import tensorflow as tf\n",
    "import math\n",
    "# from keras.models import Sequential\n",
    "# from keras.layers import Dense, Dropout, Activation, Flatten, LSTM, TimeDistributed, RepeatVector\n",
    "# from keras.layers.normalization import BatchNormalization\n",
    "# from keras.optimizers import Adam\n",
    "# from keras.callbacks import EarlyStopping, ModelCheckpoint\n",
    "import matplotlib.pyplot as plt\n",
    "from sklearn.preprocessing import MinMaxScaler\n",
    "from sklearn.metrics import mean_squared_error\n",
    "configpartno='85-EKA0190'"
   ]
  },
  {
   "cell_type": "code",
   "execution_count": 2,
   "metadata": {},
   "outputs": [],
   "source": [
    "def readTrain():\n",
    "    train =  pd.read_csv(\"./data/Parts_EQP_Output_ByMonth_20210407_van.csv\")\n",
    "    train= train[train['PART_NO']==configpartno]  \n",
    "    train.drop(columns=['PART_NO','EQP_NO','MFG_MONTH','PM','TS','ENG','NST'],inplace=True)\n",
    "    train.groupby(['STOCK_EVENT_TIME']).sum().reset_index()\n",
    "    print(train)\n",
    "    return train"
   ]
  },
  {
   "cell_type": "code",
   "execution_count": 3,
   "metadata": {},
   "outputs": [],
   "source": [
    "# LSTM for international airline passengers problem with regression framing\n",
    "\n",
    "# 產生 (X, Y) 資料集, Y 是下一期的乘客數\n",
    "def create_dataset(dataset, look_back=1):\n",
    "\tdataX, dataY = [], []\n",
    "\tfor i in range(len(dataset)-look_back-1):\n",
    "\t\ta = dataset[i:(i+look_back), 0]\n",
    "\t\tdataX.append(a)\n",
    "\t\tdataY.append(dataset[i + look_back, 0])\n",
    "\treturn numpy.array(dataX), numpy.array(dataY)"
   ]
  },
  {
   "cell_type": "code",
   "execution_count": 5,
   "metadata": {},
   "outputs": [],
   "source": [
    "# dataframe[dataframe['STOCK_EVENT_TIME'] > '2021-01-01']]\n",
    " \n",
    "# print(dataframe[dataframe['STOCK_EVENT_TIME'].apply(lambda x: pd.to_datetime(str(x), format='%Y/%m/%d %H:%M'))>=  pd.to_datetime('2021-01-01')].shape)\n",
    "# print(dataframe[dataframe['STOCK_EVENT_TIME'].apply(lambda x: pd.to_datetime(str(x), format='%Y/%m/%d %H:%M'))<  pd.to_datetime('2021-01-01')].shape)"
   ]
  },
  {
   "cell_type": "code",
   "execution_count": 6,
   "metadata": {},
   "outputs": [
    {
     "output_type": "stream",
     "name": "stdout",
     "text": [
      "     STOCK_EVENT_TIME  QTY\n3150       2015-01-31    0\n3151       2015-02-28    0\n3152       2015-03-31    0\n3153       2015-04-30    0\n3154       2015-05-31    0\n...               ...  ...\n3745       2020-11-30   15\n3746       2020-12-31   20\n3747       2021-01-31   15\n3748       2021-02-28    5\n3749       2021-03-31   15\n\n[600 rows x 2 columns]\n"
     ]
    }
   ],
   "source": [
    "\n",
    "# 載入訓練資料\n",
    "#dataframe = read_csv('international-airline-passengers.csv', usecols=[1], engine='python', skipfooter=3)\n",
    "dataframe = readTrain()\n",
    "dataset = dataframe['QTY']\n",
    "dataset = dataset.astype('float32')"
   ]
  },
  {
   "cell_type": "code",
   "execution_count": 8,
   "metadata": {},
   "outputs": [],
   "source": [
    "dataset =dataset.values.reshape(-1,1)"
   ]
  },
  {
   "cell_type": "code",
   "execution_count": 9,
   "metadata": {},
   "outputs": [],
   "source": [
    "\n",
    "# 正規化(normalize) 資料，使資料值介於[0, 1]\n",
    "scaler = MinMaxScaler(feature_range=(0, 1))\n",
    "dataset = scaler.fit_transform(dataset)"
   ]
  },
  {
   "cell_type": "code",
   "execution_count": 10,
   "metadata": {},
   "outputs": [],
   "source": [
    "# 2/3 資料為訓練資料， 1/3 資料為測試資料\n",
    "# train_size = int(len(dataset) * 0.67)\n",
    "# test_size = len(dataset) - train_size\n",
    "\n",
    "train_size = dataframe[dataframe['STOCK_EVENT_TIME'].apply(lambda x: pd.to_datetime(str(x), format='%Y/%m/%d %H:%M'))>=  pd.to_datetime('2021-01-01')].shape[0]\n",
    "# test_size =  dataframe[dataframe['STOCK_EVENT_TIME'].apply(lambda x: pd.to_datetime(str(x), format='%Y/%m/%d %H:%M'))<  pd.to_datetime('2021-01-01')].shape[0]\n",
    "test_size = len(dataset) - train_size\n",
    "train, test = dataset[0:train_size,:], dataset[train_size:len(dataset),:]\n",
    "\n",
    "# 產生 (X, Y) 資料集, Y 是下一期的乘客數(reshape into X=t and Y=t+1)\n",
    "look_back = 1\n",
    "trainX, trainY = create_dataset(train, look_back)\n",
    "testX, testY = create_dataset(test, look_back)\n",
    "# reshape input to be [samples, time steps, features]\n",
    "trainX = numpy.reshape(trainX, (trainX.shape[0], 1, trainX.shape[1]))\n",
    "testX = numpy.reshape(testX, (testX.shape[0], 1, testX.shape[1]))\n"
   ]
  },
  {
   "cell_type": "code",
   "execution_count": 11,
   "metadata": {},
   "outputs": [
    {
     "output_type": "stream",
     "name": "stdout",
     "text": [
      "Model: \"sequential\"\n",
      "_________________________________________________________________\n",
      "Layer (type)                 Output Shape              Param #   \n",
      "=================================================================\n",
      "lstm (LSTM)                  (None, 4)                 96        \n",
      "_________________________________________________________________\n",
      "dense (Dense)                (None, 1)                 5         \n",
      "=================================================================\n",
      "Total params: 101\n",
      "Trainable params: 101\n",
      "Non-trainable params: 0\n",
      "_________________________________________________________________\n",
      "Train on 574 samples\n",
      "Epoch 1/100\n",
      "574/574 - 4s - loss: 0.0329\n",
      "Epoch 2/100\n",
      "574/574 - 1s - loss: 0.0156\n",
      "Epoch 3/100\n",
      "574/574 - 1s - loss: 0.0120\n",
      "Epoch 4/100\n",
      "574/574 - 1s - loss: 0.0116\n",
      "Epoch 5/100\n",
      "574/574 - 1s - loss: 0.0117\n",
      "Epoch 6/100\n",
      "574/574 - 1s - loss: 0.0116\n",
      "Epoch 7/100\n",
      "574/574 - 1s - loss: 0.0116\n",
      "Epoch 8/100\n",
      "574/574 - 1s - loss: 0.0116\n",
      "Epoch 9/100\n",
      "574/574 - 1s - loss: 0.0117\n",
      "Epoch 10/100\n",
      "574/574 - 1s - loss: 0.0116\n",
      "Epoch 11/100\n",
      "574/574 - 1s - loss: 0.0116\n",
      "Epoch 12/100\n",
      "574/574 - 1s - loss: 0.0116\n",
      "Epoch 13/100\n",
      "574/574 - 1s - loss: 0.0116\n",
      "Epoch 14/100\n",
      "574/574 - 1s - loss: 0.0116\n",
      "Epoch 15/100\n",
      "574/574 - 1s - loss: 0.0116\n",
      "Epoch 16/100\n",
      "574/574 - 1s - loss: 0.0116\n",
      "Epoch 17/100\n",
      "574/574 - 1s - loss: 0.0116\n",
      "Epoch 18/100\n",
      "574/574 - 1s - loss: 0.0115\n",
      "Epoch 19/100\n",
      "574/574 - 1s - loss: 0.0116\n",
      "Epoch 20/100\n",
      "574/574 - 1s - loss: 0.0116\n",
      "Epoch 21/100\n",
      "574/574 - 1s - loss: 0.0115\n",
      "Epoch 22/100\n",
      "574/574 - 1s - loss: 0.0117\n",
      "Epoch 23/100\n",
      "574/574 - 2s - loss: 0.0115\n",
      "Epoch 24/100\n",
      "574/574 - 2s - loss: 0.0116\n",
      "Epoch 25/100\n",
      "574/574 - 2s - loss: 0.0116\n",
      "Epoch 26/100\n",
      "574/574 - 1s - loss: 0.0116\n",
      "Epoch 27/100\n",
      "574/574 - 2s - loss: 0.0116\n",
      "Epoch 28/100\n",
      "574/574 - 2s - loss: 0.0117\n",
      "Epoch 29/100\n",
      "574/574 - 2s - loss: 0.0117\n",
      "Epoch 30/100\n",
      "574/574 - 1s - loss: 0.0115\n",
      "Epoch 31/100\n",
      "574/574 - 1s - loss: 0.0116\n",
      "Epoch 32/100\n",
      "574/574 - 1s - loss: 0.0116\n",
      "Epoch 33/100\n",
      "574/574 - 1s - loss: 0.0116\n",
      "Epoch 34/100\n",
      "574/574 - 1s - loss: 0.0116\n",
      "Epoch 35/100\n",
      "574/574 - 1s - loss: 0.0115\n",
      "Epoch 36/100\n",
      "574/574 - 1s - loss: 0.0117\n",
      "Epoch 37/100\n",
      "574/574 - 1s - loss: 0.0116\n",
      "Epoch 38/100\n",
      "574/574 - 1s - loss: 0.0116\n",
      "Epoch 39/100\n",
      "574/574 - 1s - loss: 0.0116\n",
      "Epoch 40/100\n",
      "574/574 - 1s - loss: 0.0115\n",
      "Epoch 41/100\n",
      "574/574 - 1s - loss: 0.0116\n",
      "Epoch 42/100\n",
      "574/574 - 1s - loss: 0.0116\n",
      "Epoch 43/100\n",
      "574/574 - 1s - loss: 0.0115\n",
      "Epoch 44/100\n",
      "574/574 - 1s - loss: 0.0116\n",
      "Epoch 45/100\n",
      "574/574 - 1s - loss: 0.0115\n",
      "Epoch 46/100\n",
      "574/574 - 1s - loss: 0.0115\n",
      "Epoch 47/100\n",
      "574/574 - 1s - loss: 0.0115\n",
      "Epoch 48/100\n",
      "574/574 - 1s - loss: 0.0116\n",
      "Epoch 49/100\n",
      "574/574 - 1s - loss: 0.0116\n",
      "Epoch 50/100\n",
      "574/574 - 1s - loss: 0.0115\n",
      "Epoch 51/100\n",
      "574/574 - 1s - loss: 0.0116\n",
      "Epoch 52/100\n",
      "574/574 - 1s - loss: 0.0115\n",
      "Epoch 53/100\n",
      "574/574 - 1s - loss: 0.0115\n",
      "Epoch 54/100\n",
      "574/574 - 1s - loss: 0.0116\n",
      "Epoch 55/100\n",
      "574/574 - 1s - loss: 0.0115\n",
      "Epoch 56/100\n",
      "574/574 - 1s - loss: 0.0115\n",
      "Epoch 57/100\n",
      "574/574 - 1s - loss: 0.0115\n",
      "Epoch 58/100\n",
      "574/574 - 1s - loss: 0.0116\n",
      "Epoch 59/100\n",
      "574/574 - 2s - loss: 0.0116\n",
      "Epoch 60/100\n",
      "574/574 - 1s - loss: 0.0115\n",
      "Epoch 61/100\n",
      "574/574 - 1s - loss: 0.0115\n",
      "Epoch 62/100\n",
      "574/574 - 1s - loss: 0.0116\n",
      "Epoch 63/100\n",
      "574/574 - 1s - loss: 0.0116\n",
      "Epoch 64/100\n",
      "574/574 - 1s - loss: 0.0115\n",
      "Epoch 65/100\n",
      "574/574 - 1s - loss: 0.0116\n",
      "Epoch 66/100\n",
      "574/574 - 1s - loss: 0.0116\n",
      "Epoch 67/100\n",
      "574/574 - 1s - loss: 0.0115\n",
      "Epoch 68/100\n",
      "574/574 - 1s - loss: 0.0115\n",
      "Epoch 69/100\n",
      "574/574 - 1s - loss: 0.0116\n",
      "Epoch 70/100\n",
      "574/574 - 1s - loss: 0.0115\n",
      "Epoch 71/100\n",
      "574/574 - 1s - loss: 0.0116\n",
      "Epoch 72/100\n",
      "574/574 - 1s - loss: 0.0116\n",
      "Epoch 73/100\n",
      "574/574 - 2s - loss: 0.0116\n",
      "Epoch 74/100\n",
      "574/574 - 2s - loss: 0.0115\n",
      "Epoch 75/100\n",
      "574/574 - 1s - loss: 0.0115\n",
      "Epoch 76/100\n",
      "574/574 - 1s - loss: 0.0115\n",
      "Epoch 77/100\n",
      "574/574 - 1s - loss: 0.0115\n",
      "Epoch 78/100\n",
      "574/574 - 1s - loss: 0.0116\n",
      "Epoch 79/100\n",
      "574/574 - 1s - loss: 0.0116\n",
      "Epoch 80/100\n",
      "574/574 - 1s - loss: 0.0115\n",
      "Epoch 81/100\n",
      "574/574 - 1s - loss: 0.0115\n",
      "Epoch 82/100\n",
      "574/574 - 1s - loss: 0.0115\n",
      "Epoch 83/100\n",
      "574/574 - 1s - loss: 0.0115\n",
      "Epoch 84/100\n",
      "574/574 - 1s - loss: 0.0116\n",
      "Epoch 85/100\n",
      "574/574 - 1s - loss: 0.0115\n",
      "Epoch 86/100\n",
      "574/574 - 1s - loss: 0.0115\n",
      "Epoch 87/100\n",
      "574/574 - 1s - loss: 0.0116\n",
      "Epoch 88/100\n",
      "574/574 - 1s - loss: 0.0116\n",
      "Epoch 89/100\n",
      "574/574 - 1s - loss: 0.0116\n",
      "Epoch 90/100\n",
      "574/574 - 1s - loss: 0.0115\n",
      "Epoch 91/100\n",
      "574/574 - 1s - loss: 0.0116\n",
      "Epoch 92/100\n",
      "574/574 - 1s - loss: 0.0116\n",
      "Epoch 93/100\n",
      "574/574 - 1s - loss: 0.0116\n",
      "Epoch 94/100\n",
      "574/574 - 1s - loss: 0.0115\n",
      "Epoch 95/100\n",
      "574/574 - 1s - loss: 0.0113\n",
      "Epoch 96/100\n",
      "574/574 - 1s - loss: 0.0116\n",
      "Epoch 97/100\n",
      "574/574 - 1s - loss: 0.0117\n",
      "Epoch 98/100\n",
      "574/574 - 1s - loss: 0.0115\n",
      "Epoch 99/100\n",
      "574/574 - 1s - loss: 0.0115\n",
      "Epoch 100/100\n",
      "574/574 - 1s - loss: 0.0116\n"
     ]
    },
    {
     "output_type": "execute_result",
     "data": {
      "text/plain": [
       "<tensorflow.python.keras.callbacks.History at 0x21b84269388>"
      ]
     },
     "metadata": {},
     "execution_count": 11
    }
   ],
   "source": [
    "\n",
    "# 建立及訓練 LSTM 模型\n",
    "# model = Sequential()\n",
    "# model.add(LSTM(4, input_shape=(1, look_back)))\n",
    "# model.add(Dense(1))\n",
    "# model.compile(loss='mean_squared_error', optimizer='adam')\n",
    "# model.fit(trainX, trainY, epochs=100, batch_size=1, verbose=2)\n",
    "model = tf.keras.Sequential([\n",
    "            tf.keras.layers.LSTM(units=4, input_shape=(1, look_back)),\n",
    "            tf.keras.layers.Dense(units=1),\n",
    "            ]) \n",
    "model.compile(loss='mean_squared_error', \n",
    "            optimizer=tf.keras.optimizers.Adam(),\n",
    "            # metrics=[tf.keras.metrics.MeanAbsoluteError()]\n",
    "            ) \n",
    "model.summary()\n",
    "model.fit(trainX, trainY, epochs=100, batch_size=1, verbose=2)\n"
   ]
  },
  {
   "cell_type": "code",
   "execution_count": 12,
   "metadata": {},
   "outputs": [],
   "source": [
    "# 預測\n",
    "trainPredict = model.predict(trainX)\n",
    "testPredict = model.predict(testX)"
   ]
  },
  {
   "cell_type": "code",
   "execution_count": 13,
   "metadata": {},
   "outputs": [],
   "source": [
    "# nsamples, nx, ny = train_dataset.shape\n",
    "# d2_train_dataset = train_dataset.reshape((nsamples,nx*ny))"
   ]
  },
  {
   "cell_type": "code",
   "execution_count": 14,
   "metadata": {},
   "outputs": [],
   "source": [
    "\n",
    "# 回復預測資料值為原始數據的規模\n",
    "trainPredict = scaler.inverse_transform(trainPredict)"
   ]
  },
  {
   "cell_type": "code",
   "execution_count": 15,
   "metadata": {},
   "outputs": [],
   "source": [
    "trainY = scaler.inverse_transform([trainY])"
   ]
  },
  {
   "cell_type": "code",
   "execution_count": 16,
   "metadata": {},
   "outputs": [],
   "source": [
    "\n",
    "testPredict = scaler.inverse_transform(testPredict)"
   ]
  },
  {
   "cell_type": "code",
   "execution_count": 17,
   "metadata": {},
   "outputs": [],
   "source": [
    "\n",
    "\n",
    "testY = scaler.inverse_transform([testY])"
   ]
  },
  {
   "cell_type": "code",
   "execution_count": 18,
   "metadata": {},
   "outputs": [
    {
     "output_type": "stream",
     "name": "stdout",
     "text": [
      "Train Score: 8.09 RMSE\nTest Score: 8.80 RMSE\n"
     ]
    }
   ],
   "source": [
    "#calculate 均方根誤差(root mean squared error)\n",
    "trainScore = math.sqrt(mean_squared_error(trainY[0], trainPredict[:,0]))\n",
    "print('Train Score: %.2f RMSE' % (trainScore))\n",
    "testScore = math.sqrt(mean_squared_error(testY[0], testPredict[:,0]))\n",
    "print('Test Score: %.2f RMSE' % (testScore))"
   ]
  },
  {
   "cell_type": "code",
   "execution_count": 19,
   "metadata": {},
   "outputs": [
    {
     "output_type": "display_data",
     "data": {
      "text/plain": "<Figure size 432x288 with 1 Axes>",
      "image/svg+xml": "<?xml version=\"1.0\" encoding=\"utf-8\" standalone=\"no\"?>\r\n<!DOCTYPE svg PUBLIC \"-//W3C//DTD SVG 1.1//EN\"\r\n  \"http://www.w3.org/Graphics/SVG/1.1/DTD/svg11.dtd\">\r\n<!-- Created with matplotlib (https://matplotlib.org/) -->\r\n<svg height=\"248.518125pt\" version=\"1.1\" viewBox=\"0 0 368.925 248.518125\" width=\"368.925pt\" xmlns=\"http://www.w3.org/2000/svg\" xmlns:xlink=\"http://www.w3.org/1999/xlink\">\r\n <metadata>\r\n  <rdf:RDF xmlns:cc=\"http://creativecommons.org/ns#\" xmlns:dc=\"http://purl.org/dc/elements/1.1/\" xmlns:rdf=\"http://www.w3.org/1999/02/22-rdf-syntax-ns#\">\r\n   <cc:Work>\r\n    <dc:type rdf:resource=\"http://purl.org/dc/dcmitype/StillImage\"/>\r\n    <dc:date>2021-04-14T14:02:08.580538</dc:date>\r\n    <dc:format>image/svg+xml</dc:format>\r\n    <dc:creator>\r\n     <cc:Agent>\r\n      <dc:title>Matplotlib v3.3.3, https://matplotlib.org/</dc:title>\r\n     </cc:Agent>\r\n    </dc:creator>\r\n   </cc:Work>\r\n  </rdf:RDF>\r\n </metadata>\r\n <defs>\r\n  <style type=\"text/css\">*{stroke-linecap:butt;stroke-linejoin:round;}</style>\r\n </defs>\r\n <g id=\"figure_1\">\r\n  <g id=\"patch_1\">\r\n   <path d=\"M -0 248.518125 \r\nL 368.925 248.518125 \r\nL 368.925 0 \r\nL -0 0 \r\nz\r\n\" style=\"fill:none;\"/>\r\n  </g>\r\n  <g id=\"axes_1\">\r\n   <g id=\"patch_2\">\r\n    <path d=\"M 26.925 224.64 \r\nL 361.725 224.64 \r\nL 361.725 7.2 \r\nL 26.925 7.2 \r\nz\r\n\" style=\"fill:#ffffff;\"/>\r\n   </g>\r\n   <g id=\"matplotlib.axis_1\">\r\n    <g id=\"xtick_1\">\r\n     <g id=\"line2d_1\">\r\n      <defs>\r\n       <path d=\"M 0 0 \r\nL 0 3.5 \r\n\" id=\"m26f1bdd9c5\" style=\"stroke:#000000;stroke-width:0.8;\"/>\r\n      </defs>\r\n      <g>\r\n       <use style=\"stroke:#000000;stroke-width:0.8;\" x=\"42.143182\" xlink:href=\"#m26f1bdd9c5\" y=\"224.64\"/>\r\n      </g>\r\n     </g>\r\n     <g id=\"text_1\">\r\n      <!-- 0 -->\r\n      <g transform=\"translate(38.961932 239.238437)scale(0.1 -0.1)\">\r\n       <defs>\r\n        <path d=\"M 31.78125 66.40625 \r\nQ 24.171875 66.40625 20.328125 58.90625 \r\nQ 16.5 51.421875 16.5 36.375 \r\nQ 16.5 21.390625 20.328125 13.890625 \r\nQ 24.171875 6.390625 31.78125 6.390625 \r\nQ 39.453125 6.390625 43.28125 13.890625 \r\nQ 47.125 21.390625 47.125 36.375 \r\nQ 47.125 51.421875 43.28125 58.90625 \r\nQ 39.453125 66.40625 31.78125 66.40625 \r\nz\r\nM 31.78125 74.21875 \r\nQ 44.046875 74.21875 50.515625 64.515625 \r\nQ 56.984375 54.828125 56.984375 36.375 \r\nQ 56.984375 17.96875 50.515625 8.265625 \r\nQ 44.046875 -1.421875 31.78125 -1.421875 \r\nQ 19.53125 -1.421875 13.0625 8.265625 \r\nQ 6.59375 17.96875 6.59375 36.375 \r\nQ 6.59375 54.828125 13.0625 64.515625 \r\nQ 19.53125 74.21875 31.78125 74.21875 \r\nz\r\n\" id=\"DejaVuSans-48\"/>\r\n       </defs>\r\n       <use xlink:href=\"#DejaVuSans-48\"/>\r\n      </g>\r\n     </g>\r\n    </g>\r\n    <g id=\"xtick_2\">\r\n     <g id=\"line2d_2\">\r\n      <g>\r\n       <use style=\"stroke:#000000;stroke-width:0.8;\" x=\"92.955141\" xlink:href=\"#m26f1bdd9c5\" y=\"224.64\"/>\r\n      </g>\r\n     </g>\r\n     <g id=\"text_2\">\r\n      <!-- 100 -->\r\n      <g transform=\"translate(83.411391 239.238437)scale(0.1 -0.1)\">\r\n       <defs>\r\n        <path d=\"M 12.40625 8.296875 \r\nL 28.515625 8.296875 \r\nL 28.515625 63.921875 \r\nL 10.984375 60.40625 \r\nL 10.984375 69.390625 \r\nL 28.421875 72.90625 \r\nL 38.28125 72.90625 \r\nL 38.28125 8.296875 \r\nL 54.390625 8.296875 \r\nL 54.390625 0 \r\nL 12.40625 0 \r\nz\r\n\" id=\"DejaVuSans-49\"/>\r\n       </defs>\r\n       <use xlink:href=\"#DejaVuSans-49\"/>\r\n       <use x=\"63.623047\" xlink:href=\"#DejaVuSans-48\"/>\r\n       <use x=\"127.246094\" xlink:href=\"#DejaVuSans-48\"/>\r\n      </g>\r\n     </g>\r\n    </g>\r\n    <g id=\"xtick_3\">\r\n     <g id=\"line2d_3\">\r\n      <g>\r\n       <use style=\"stroke:#000000;stroke-width:0.8;\" x=\"143.7671\" xlink:href=\"#m26f1bdd9c5\" y=\"224.64\"/>\r\n      </g>\r\n     </g>\r\n     <g id=\"text_3\">\r\n      <!-- 200 -->\r\n      <g transform=\"translate(134.22335 239.238437)scale(0.1 -0.1)\">\r\n       <defs>\r\n        <path d=\"M 19.1875 8.296875 \r\nL 53.609375 8.296875 \r\nL 53.609375 0 \r\nL 7.328125 0 \r\nL 7.328125 8.296875 \r\nQ 12.9375 14.109375 22.625 23.890625 \r\nQ 32.328125 33.6875 34.8125 36.53125 \r\nQ 39.546875 41.84375 41.421875 45.53125 \r\nQ 43.3125 49.21875 43.3125 52.78125 \r\nQ 43.3125 58.59375 39.234375 62.25 \r\nQ 35.15625 65.921875 28.609375 65.921875 \r\nQ 23.96875 65.921875 18.8125 64.3125 \r\nQ 13.671875 62.703125 7.8125 59.421875 \r\nL 7.8125 69.390625 \r\nQ 13.765625 71.78125 18.9375 73 \r\nQ 24.125 74.21875 28.421875 74.21875 \r\nQ 39.75 74.21875 46.484375 68.546875 \r\nQ 53.21875 62.890625 53.21875 53.421875 \r\nQ 53.21875 48.921875 51.53125 44.890625 \r\nQ 49.859375 40.875 45.40625 35.40625 \r\nQ 44.1875 33.984375 37.640625 27.21875 \r\nQ 31.109375 20.453125 19.1875 8.296875 \r\nz\r\n\" id=\"DejaVuSans-50\"/>\r\n       </defs>\r\n       <use xlink:href=\"#DejaVuSans-50\"/>\r\n       <use x=\"63.623047\" xlink:href=\"#DejaVuSans-48\"/>\r\n       <use x=\"127.246094\" xlink:href=\"#DejaVuSans-48\"/>\r\n      </g>\r\n     </g>\r\n    </g>\r\n    <g id=\"xtick_4\">\r\n     <g id=\"line2d_4\">\r\n      <g>\r\n       <use style=\"stroke:#000000;stroke-width:0.8;\" x=\"194.57906\" xlink:href=\"#m26f1bdd9c5\" y=\"224.64\"/>\r\n      </g>\r\n     </g>\r\n     <g id=\"text_4\">\r\n      <!-- 300 -->\r\n      <g transform=\"translate(185.03531 239.238437)scale(0.1 -0.1)\">\r\n       <defs>\r\n        <path d=\"M 40.578125 39.3125 \r\nQ 47.65625 37.796875 51.625 33 \r\nQ 55.609375 28.21875 55.609375 21.1875 \r\nQ 55.609375 10.40625 48.1875 4.484375 \r\nQ 40.765625 -1.421875 27.09375 -1.421875 \r\nQ 22.515625 -1.421875 17.65625 -0.515625 \r\nQ 12.796875 0.390625 7.625 2.203125 \r\nL 7.625 11.71875 \r\nQ 11.71875 9.328125 16.59375 8.109375 \r\nQ 21.484375 6.890625 26.8125 6.890625 \r\nQ 36.078125 6.890625 40.9375 10.546875 \r\nQ 45.796875 14.203125 45.796875 21.1875 \r\nQ 45.796875 27.640625 41.28125 31.265625 \r\nQ 36.765625 34.90625 28.71875 34.90625 \r\nL 20.21875 34.90625 \r\nL 20.21875 43.015625 \r\nL 29.109375 43.015625 \r\nQ 36.375 43.015625 40.234375 45.921875 \r\nQ 44.09375 48.828125 44.09375 54.296875 \r\nQ 44.09375 59.90625 40.109375 62.90625 \r\nQ 36.140625 65.921875 28.71875 65.921875 \r\nQ 24.65625 65.921875 20.015625 65.03125 \r\nQ 15.375 64.15625 9.8125 62.3125 \r\nL 9.8125 71.09375 \r\nQ 15.4375 72.65625 20.34375 73.4375 \r\nQ 25.25 74.21875 29.59375 74.21875 \r\nQ 40.828125 74.21875 47.359375 69.109375 \r\nQ 53.90625 64.015625 53.90625 55.328125 \r\nQ 53.90625 49.265625 50.4375 45.09375 \r\nQ 46.96875 40.921875 40.578125 39.3125 \r\nz\r\n\" id=\"DejaVuSans-51\"/>\r\n       </defs>\r\n       <use xlink:href=\"#DejaVuSans-51\"/>\r\n       <use x=\"63.623047\" xlink:href=\"#DejaVuSans-48\"/>\r\n       <use x=\"127.246094\" xlink:href=\"#DejaVuSans-48\"/>\r\n      </g>\r\n     </g>\r\n    </g>\r\n    <g id=\"xtick_5\">\r\n     <g id=\"line2d_5\">\r\n      <g>\r\n       <use style=\"stroke:#000000;stroke-width:0.8;\" x=\"245.391019\" xlink:href=\"#m26f1bdd9c5\" y=\"224.64\"/>\r\n      </g>\r\n     </g>\r\n     <g id=\"text_5\">\r\n      <!-- 400 -->\r\n      <g transform=\"translate(235.847269 239.238437)scale(0.1 -0.1)\">\r\n       <defs>\r\n        <path d=\"M 37.796875 64.3125 \r\nL 12.890625 25.390625 \r\nL 37.796875 25.390625 \r\nz\r\nM 35.203125 72.90625 \r\nL 47.609375 72.90625 \r\nL 47.609375 25.390625 \r\nL 58.015625 25.390625 \r\nL 58.015625 17.1875 \r\nL 47.609375 17.1875 \r\nL 47.609375 0 \r\nL 37.796875 0 \r\nL 37.796875 17.1875 \r\nL 4.890625 17.1875 \r\nL 4.890625 26.703125 \r\nz\r\n\" id=\"DejaVuSans-52\"/>\r\n       </defs>\r\n       <use xlink:href=\"#DejaVuSans-52\"/>\r\n       <use x=\"63.623047\" xlink:href=\"#DejaVuSans-48\"/>\r\n       <use x=\"127.246094\" xlink:href=\"#DejaVuSans-48\"/>\r\n      </g>\r\n     </g>\r\n    </g>\r\n    <g id=\"xtick_6\">\r\n     <g id=\"line2d_6\">\r\n      <g>\r\n       <use style=\"stroke:#000000;stroke-width:0.8;\" x=\"296.202978\" xlink:href=\"#m26f1bdd9c5\" y=\"224.64\"/>\r\n      </g>\r\n     </g>\r\n     <g id=\"text_6\">\r\n      <!-- 500 -->\r\n      <g transform=\"translate(286.659228 239.238437)scale(0.1 -0.1)\">\r\n       <defs>\r\n        <path d=\"M 10.796875 72.90625 \r\nL 49.515625 72.90625 \r\nL 49.515625 64.59375 \r\nL 19.828125 64.59375 \r\nL 19.828125 46.734375 \r\nQ 21.96875 47.46875 24.109375 47.828125 \r\nQ 26.265625 48.1875 28.421875 48.1875 \r\nQ 40.625 48.1875 47.75 41.5 \r\nQ 54.890625 34.8125 54.890625 23.390625 \r\nQ 54.890625 11.625 47.5625 5.09375 \r\nQ 40.234375 -1.421875 26.90625 -1.421875 \r\nQ 22.3125 -1.421875 17.546875 -0.640625 \r\nQ 12.796875 0.140625 7.71875 1.703125 \r\nL 7.71875 11.625 \r\nQ 12.109375 9.234375 16.796875 8.0625 \r\nQ 21.484375 6.890625 26.703125 6.890625 \r\nQ 35.15625 6.890625 40.078125 11.328125 \r\nQ 45.015625 15.765625 45.015625 23.390625 \r\nQ 45.015625 31 40.078125 35.4375 \r\nQ 35.15625 39.890625 26.703125 39.890625 \r\nQ 22.75 39.890625 18.8125 39.015625 \r\nQ 14.890625 38.140625 10.796875 36.28125 \r\nz\r\n\" id=\"DejaVuSans-53\"/>\r\n       </defs>\r\n       <use xlink:href=\"#DejaVuSans-53\"/>\r\n       <use x=\"63.623047\" xlink:href=\"#DejaVuSans-48\"/>\r\n       <use x=\"127.246094\" xlink:href=\"#DejaVuSans-48\"/>\r\n      </g>\r\n     </g>\r\n    </g>\r\n    <g id=\"xtick_7\">\r\n     <g id=\"line2d_7\">\r\n      <g>\r\n       <use style=\"stroke:#000000;stroke-width:0.8;\" x=\"347.014938\" xlink:href=\"#m26f1bdd9c5\" y=\"224.64\"/>\r\n      </g>\r\n     </g>\r\n     <g id=\"text_7\">\r\n      <!-- 600 -->\r\n      <g transform=\"translate(337.471188 239.238437)scale(0.1 -0.1)\">\r\n       <defs>\r\n        <path d=\"M 33.015625 40.375 \r\nQ 26.375 40.375 22.484375 35.828125 \r\nQ 18.609375 31.296875 18.609375 23.390625 \r\nQ 18.609375 15.53125 22.484375 10.953125 \r\nQ 26.375 6.390625 33.015625 6.390625 \r\nQ 39.65625 6.390625 43.53125 10.953125 \r\nQ 47.40625 15.53125 47.40625 23.390625 \r\nQ 47.40625 31.296875 43.53125 35.828125 \r\nQ 39.65625 40.375 33.015625 40.375 \r\nz\r\nM 52.59375 71.296875 \r\nL 52.59375 62.3125 \r\nQ 48.875 64.0625 45.09375 64.984375 \r\nQ 41.3125 65.921875 37.59375 65.921875 \r\nQ 27.828125 65.921875 22.671875 59.328125 \r\nQ 17.53125 52.734375 16.796875 39.40625 \r\nQ 19.671875 43.65625 24.015625 45.921875 \r\nQ 28.375 48.1875 33.59375 48.1875 \r\nQ 44.578125 48.1875 50.953125 41.515625 \r\nQ 57.328125 34.859375 57.328125 23.390625 \r\nQ 57.328125 12.15625 50.6875 5.359375 \r\nQ 44.046875 -1.421875 33.015625 -1.421875 \r\nQ 20.359375 -1.421875 13.671875 8.265625 \r\nQ 6.984375 17.96875 6.984375 36.375 \r\nQ 6.984375 53.65625 15.1875 63.9375 \r\nQ 23.390625 74.21875 37.203125 74.21875 \r\nQ 40.921875 74.21875 44.703125 73.484375 \r\nQ 48.484375 72.75 52.59375 71.296875 \r\nz\r\n\" id=\"DejaVuSans-54\"/>\r\n       </defs>\r\n       <use xlink:href=\"#DejaVuSans-54\"/>\r\n       <use x=\"63.623047\" xlink:href=\"#DejaVuSans-48\"/>\r\n       <use x=\"127.246094\" xlink:href=\"#DejaVuSans-48\"/>\r\n      </g>\r\n     </g>\r\n    </g>\r\n   </g>\r\n   <g id=\"matplotlib.axis_2\">\r\n    <g id=\"ytick_1\">\r\n     <g id=\"line2d_8\">\r\n      <defs>\r\n       <path d=\"M 0 0 \r\nL -3.5 0 \r\n\" id=\"md6769f83ec\" style=\"stroke:#000000;stroke-width:0.8;\"/>\r\n      </defs>\r\n      <g>\r\n       <use style=\"stroke:#000000;stroke-width:0.8;\" x=\"26.925\" xlink:href=\"#md6769f83ec\" y=\"214.756364\"/>\r\n      </g>\r\n     </g>\r\n     <g id=\"text_8\">\r\n      <!-- 0 -->\r\n      <g transform=\"translate(13.5625 218.555582)scale(0.1 -0.1)\">\r\n       <use xlink:href=\"#DejaVuSans-48\"/>\r\n      </g>\r\n     </g>\r\n    </g>\r\n    <g id=\"ytick_2\">\r\n     <g id=\"line2d_9\">\r\n      <g>\r\n       <use style=\"stroke:#000000;stroke-width:0.8;\" x=\"26.925\" xlink:href=\"#md6769f83ec\" y=\"188.4\"/>\r\n      </g>\r\n     </g>\r\n     <g id=\"text_9\">\r\n      <!-- 10 -->\r\n      <g transform=\"translate(7.2 192.199219)scale(0.1 -0.1)\">\r\n       <use xlink:href=\"#DejaVuSans-49\"/>\r\n       <use x=\"63.623047\" xlink:href=\"#DejaVuSans-48\"/>\r\n      </g>\r\n     </g>\r\n    </g>\r\n    <g id=\"ytick_3\">\r\n     <g id=\"line2d_10\">\r\n      <g>\r\n       <use style=\"stroke:#000000;stroke-width:0.8;\" x=\"26.925\" xlink:href=\"#md6769f83ec\" y=\"162.043636\"/>\r\n      </g>\r\n     </g>\r\n     <g id=\"text_10\">\r\n      <!-- 20 -->\r\n      <g transform=\"translate(7.2 165.842855)scale(0.1 -0.1)\">\r\n       <use xlink:href=\"#DejaVuSans-50\"/>\r\n       <use x=\"63.623047\" xlink:href=\"#DejaVuSans-48\"/>\r\n      </g>\r\n     </g>\r\n    </g>\r\n    <g id=\"ytick_4\">\r\n     <g id=\"line2d_11\">\r\n      <g>\r\n       <use style=\"stroke:#000000;stroke-width:0.8;\" x=\"26.925\" xlink:href=\"#md6769f83ec\" y=\"135.687273\"/>\r\n      </g>\r\n     </g>\r\n     <g id=\"text_11\">\r\n      <!-- 30 -->\r\n      <g transform=\"translate(7.2 139.486491)scale(0.1 -0.1)\">\r\n       <use xlink:href=\"#DejaVuSans-51\"/>\r\n       <use x=\"63.623047\" xlink:href=\"#DejaVuSans-48\"/>\r\n      </g>\r\n     </g>\r\n    </g>\r\n    <g id=\"ytick_5\">\r\n     <g id=\"line2d_12\">\r\n      <g>\r\n       <use style=\"stroke:#000000;stroke-width:0.8;\" x=\"26.925\" xlink:href=\"#md6769f83ec\" y=\"109.330909\"/>\r\n      </g>\r\n     </g>\r\n     <g id=\"text_12\">\r\n      <!-- 40 -->\r\n      <g transform=\"translate(7.2 113.130128)scale(0.1 -0.1)\">\r\n       <use xlink:href=\"#DejaVuSans-52\"/>\r\n       <use x=\"63.623047\" xlink:href=\"#DejaVuSans-48\"/>\r\n      </g>\r\n     </g>\r\n    </g>\r\n    <g id=\"ytick_6\">\r\n     <g id=\"line2d_13\">\r\n      <g>\r\n       <use style=\"stroke:#000000;stroke-width:0.8;\" x=\"26.925\" xlink:href=\"#md6769f83ec\" y=\"82.974545\"/>\r\n      </g>\r\n     </g>\r\n     <g id=\"text_13\">\r\n      <!-- 50 -->\r\n      <g transform=\"translate(7.2 86.773764)scale(0.1 -0.1)\">\r\n       <use xlink:href=\"#DejaVuSans-53\"/>\r\n       <use x=\"63.623047\" xlink:href=\"#DejaVuSans-48\"/>\r\n      </g>\r\n     </g>\r\n    </g>\r\n    <g id=\"ytick_7\">\r\n     <g id=\"line2d_14\">\r\n      <g>\r\n       <use style=\"stroke:#000000;stroke-width:0.8;\" x=\"26.925\" xlink:href=\"#md6769f83ec\" y=\"56.618182\"/>\r\n      </g>\r\n     </g>\r\n     <g id=\"text_14\">\r\n      <!-- 60 -->\r\n      <g transform=\"translate(7.2 60.417401)scale(0.1 -0.1)\">\r\n       <use xlink:href=\"#DejaVuSans-54\"/>\r\n       <use x=\"63.623047\" xlink:href=\"#DejaVuSans-48\"/>\r\n      </g>\r\n     </g>\r\n    </g>\r\n    <g id=\"ytick_8\">\r\n     <g id=\"line2d_15\">\r\n      <g>\r\n       <use style=\"stroke:#000000;stroke-width:0.8;\" x=\"26.925\" xlink:href=\"#md6769f83ec\" y=\"30.261818\"/>\r\n      </g>\r\n     </g>\r\n     <g id=\"text_15\">\r\n      <!-- 70 -->\r\n      <g transform=\"translate(7.2 34.061037)scale(0.1 -0.1)\">\r\n       <defs>\r\n        <path d=\"M 8.203125 72.90625 \r\nL 55.078125 72.90625 \r\nL 55.078125 68.703125 \r\nL 28.609375 0 \r\nL 18.3125 0 \r\nL 43.21875 64.59375 \r\nL 8.203125 64.59375 \r\nz\r\n\" id=\"DejaVuSans-55\"/>\r\n       </defs>\r\n       <use xlink:href=\"#DejaVuSans-55\"/>\r\n       <use x=\"63.623047\" xlink:href=\"#DejaVuSans-48\"/>\r\n      </g>\r\n     </g>\r\n    </g>\r\n   </g>\r\n   <g id=\"line2d_16\">\r\n    <path clip-path=\"url(#p8aedbd564a)\" d=\"M 42.143182 214.756364 \r\nL 46.716258 214.756364 \r\nL 47.224378 148.865455 \r\nL 47.732497 127.780364 \r\nL 48.240617 117.237818 \r\nL 48.748737 101.424 \r\nL 49.256856 96.152727 \r\nL 49.764976 75.067636 \r\nL 50.273095 90.881455 \r\nL 50.781215 138.322909 \r\nL 51.289334 125.144727 \r\nL 51.797454 140.958545 \r\nL 52.305574 146.229818 \r\nL 52.813693 111.966535 \r\nL 53.321813 125.144727 \r\nL 53.829932 122.509091 \r\nL 54.338052 114.602182 \r\nL 54.846172 130.416 \r\nL 55.354291 133.051631 \r\nL 55.862411 156.772364 \r\nL 56.37053 135.687273 \r\nL 56.87865 122.509091 \r\nL 57.38677 122.509091 \r\nL 57.894889 133.051631 \r\nL 58.403009 146.229818 \r\nL 58.911128 133.051631 \r\nL 59.419248 109.330909 \r\nL 59.927368 111.966535 \r\nL 60.435487 133.051631 \r\nL 60.943607 111.966535 \r\nL 61.451726 146.229818 \r\nL 61.959846 114.602182 \r\nL 62.467966 159.408 \r\nL 63.484205 133.051631 \r\nL 64.500444 156.772364 \r\nL 65.008564 125.144727 \r\nL 65.516683 159.408 \r\nL 66.024803 135.687273 \r\nL 66.532922 140.958545 \r\nL 67.041042 98.788364 \r\nL 67.549161 159.408 \r\nL 68.057281 146.229818 \r\nL 68.565401 148.865455 \r\nL 69.07352 111.966535 \r\nL 69.58164 167.314909 \r\nL 70.089759 159.408 \r\nL 70.597879 159.408 \r\nL 71.105999 172.586182 \r\nL 71.614118 148.865455 \r\nL 72.122238 180.493091 \r\nL 72.630357 183.12873 \r\nL 73.138477 148.865455 \r\nL 73.646597 125.144727 \r\nL 74.154716 148.865455 \r\nL 74.662836 159.408 \r\nL 75.170955 146.229818 \r\nL 75.679075 180.493091 \r\nL 76.187195 133.051631 \r\nL 76.695314 169.950545 \r\nL 77.711553 169.950545 \r\nL 78.219673 156.772364 \r\nL 78.727793 159.408 \r\nL 79.235912 169.950545 \r\nL 79.744032 169.950545 \r\nL 80.252151 214.756364 \r\nL 84.825228 214.756364 \r\nL 85.841467 162.043636 \r\nL 86.349586 109.330909 \r\nL 86.857706 175.221818 \r\nL 87.365826 175.221818 \r\nL 87.873945 188.4 \r\nL 88.382065 172.586182 \r\nL 88.890184 201.578182 \r\nL 89.398304 175.221818 \r\nL 89.906424 188.4 \r\nL 90.414543 188.4 \r\nL 90.922663 201.578182 \r\nL 91.938902 175.221818 \r\nL 92.447022 188.4 \r\nL 92.955141 175.221818 \r\nL 93.463261 201.578182 \r\nL 93.97138 188.4 \r\nL 94.98762 188.4 \r\nL 95.495739 175.221818 \r\nL 96.003859 188.4 \r\nL 96.511978 188.4 \r\nL 97.020098 175.221818 \r\nL 97.528217 175.221818 \r\nL 98.036337 188.4 \r\nL 98.544457 162.043636 \r\nL 99.052576 175.221818 \r\nL 99.560696 201.578182 \r\nL 100.068815 162.043636 \r\nL 100.576935 188.4 \r\nL 101.085055 175.221818 \r\nL 101.593174 188.4 \r\nL 102.101294 175.221818 \r\nL 102.609413 175.221818 \r\nL 103.117533 201.578182 \r\nL 103.625653 175.221818 \r\nL 104.133772 214.756364 \r\nL 104.641892 188.4 \r\nL 105.150011 201.578182 \r\nL 106.166251 201.578182 \r\nL 106.67437 175.221818 \r\nL 107.18249 175.221818 \r\nL 108.198729 201.578182 \r\nL 108.706849 201.578182 \r\nL 109.214968 214.756364 \r\nL 109.723088 201.578182 \r\nL 110.231207 214.756364 \r\nL 110.739327 201.578182 \r\nL 112.263686 201.578182 \r\nL 112.771805 188.4 \r\nL 113.279925 188.4 \r\nL 113.788044 201.578182 \r\nL 114.296164 188.4 \r\nL 115.312403 214.756364 \r\nL 115.820523 188.4 \r\nL 116.328642 188.4 \r\nL 116.836762 201.578182 \r\nL 117.853001 201.578182 \r\nL 118.361121 214.756364 \r\nL 122.934197 214.756364 \r\nL 123.442317 172.586182 \r\nL 123.950436 151.501096 \r\nL 124.966676 151.501096 \r\nL 125.474795 119.873455 \r\nL 125.982915 140.958545 \r\nL 126.491034 151.501096 \r\nL 126.999154 151.501096 \r\nL 127.507273 162.043636 \r\nL 128.015393 151.501096 \r\nL 128.523513 162.043636 \r\nL 129.031632 140.958545 \r\nL 129.539752 162.043636 \r\nL 130.047871 162.043636 \r\nL 130.555991 172.586182 \r\nL 131.064111 151.501096 \r\nL 131.57223 172.586182 \r\nL 132.08035 162.043636 \r\nL 133.096589 162.043636 \r\nL 134.112828 183.12873 \r\nL 134.620948 172.586182 \r\nL 135.129067 183.12873 \r\nL 137.161546 183.12873 \r\nL 137.669665 193.671273 \r\nL 138.177785 193.671273 \r\nL 138.685905 183.12873 \r\nL 139.194024 204.213818 \r\nL 139.702144 204.213818 \r\nL 140.210263 193.671273 \r\nL 140.718383 204.213818 \r\nL 141.226503 193.671273 \r\nL 141.734622 172.586182 \r\nL 142.750861 172.586182 \r\nL 143.258981 183.12873 \r\nL 143.7671 183.12873 \r\nL 144.27522 212.120727 \r\nL 144.78334 204.213818 \r\nL 145.291459 193.671273 \r\nL 145.799579 193.671273 \r\nL 146.307698 214.756364 \r\nL 146.815818 193.671273 \r\nL 147.323938 204.213818 \r\nL 147.832057 193.671273 \r\nL 148.340177 193.671273 \r\nL 148.848296 214.756364 \r\nL 149.356416 204.213818 \r\nL 149.864536 204.213818 \r\nL 150.372655 183.12873 \r\nL 150.880775 183.12873 \r\nL 151.388894 204.213818 \r\nL 151.897014 146.229818 \r\nL 152.913253 193.671273 \r\nL 153.421373 193.671273 \r\nL 153.929492 204.213818 \r\nL 154.437612 204.213818 \r\nL 154.945732 191.035636 \r\nL 155.453851 214.756364 \r\nL 155.961971 201.578182 \r\nL 156.47009 214.756364 \r\nL 161.551286 214.756364 \r\nL 162.059406 201.578182 \r\nL 162.567525 201.578182 \r\nL 163.075645 188.4 \r\nL 163.583765 201.578182 \r\nL 164.091884 188.4 \r\nL 164.600004 201.578182 \r\nL 165.108123 188.4 \r\nL 165.616243 201.578182 \r\nL 166.124363 175.221818 \r\nL 166.632482 188.4 \r\nL 167.140602 175.221818 \r\nL 167.648721 201.578182 \r\nL 168.156841 188.4 \r\nL 168.664961 188.4 \r\nL 169.17308 201.578182 \r\nL 169.6812 201.578182 \r\nL 170.189319 188.4 \r\nL 171.713678 188.4 \r\nL 172.221798 201.578182 \r\nL 172.729917 188.4 \r\nL 173.238037 201.578182 \r\nL 173.746156 188.4 \r\nL 174.254276 201.578182 \r\nL 175.778635 201.578182 \r\nL 176.286754 214.756364 \r\nL 176.794874 188.4 \r\nL 177.302994 201.578182 \r\nL 178.827352 201.578182 \r\nL 179.335472 175.221818 \r\nL 179.843592 201.578182 \r\nL 180.351711 214.756364 \r\nL 180.859831 214.756364 \r\nL 181.36795 201.578182 \r\nL 181.87607 214.756364 \r\nL 182.38419 201.578182 \r\nL 182.892309 214.756364 \r\nL 183.400429 201.578182 \r\nL 183.908548 214.756364 \r\nL 184.416668 175.221818 \r\nL 184.924788 214.756364 \r\nL 185.432907 201.578182 \r\nL 185.941027 201.578182 \r\nL 186.449146 188.4 \r\nL 186.957266 201.578182 \r\nL 187.465385 188.4 \r\nL 188.481625 188.4 \r\nL 188.989744 201.578182 \r\nL 189.497864 188.4 \r\nL 190.005983 201.578182 \r\nL 190.514103 175.221818 \r\nL 191.022223 201.578182 \r\nL 191.530342 188.4 \r\nL 192.038462 201.578182 \r\nL 192.546581 188.4 \r\nL 193.054701 201.578182 \r\nL 193.562821 188.4 \r\nL 194.07094 188.4 \r\nL 194.57906 214.756364 \r\nL 199.152136 214.756364 \r\nL 199.660256 122.509091 \r\nL 200.168375 82.974545 \r\nL 200.676495 96.152727 \r\nL 201.692734 96.152727 \r\nL 202.200854 69.796364 \r\nL 202.708973 96.152727 \r\nL 203.217093 82.974545 \r\nL 203.725212 46.075636 \r\nL 204.233332 82.974545 \r\nL 204.741452 43.44 \r\nL 205.757691 96.152727 \r\nL 206.26581 69.796364 \r\nL 206.77393 82.974545 \r\nL 207.28205 82.974545 \r\nL 207.790169 72.432 \r\nL 208.298289 82.974545 \r\nL 208.806408 69.796364 \r\nL 209.314528 82.974545 \r\nL 209.822648 17.083636 \r\nL 210.330767 82.974545 \r\nL 210.838887 82.974545 \r\nL 211.347006 69.796364 \r\nL 211.855126 69.796364 \r\nL 212.363246 82.974545 \r\nL 212.871365 56.618182 \r\nL 213.379485 96.152727 \r\nL 213.887604 56.618182 \r\nL 214.395724 82.974545 \r\nL 214.903844 43.44 \r\nL 215.411963 69.796364 \r\nL 215.920083 56.618182 \r\nL 216.428202 69.796364 \r\nL 216.936322 122.509091 \r\nL 217.444441 148.865455 \r\nL 217.952561 122.509091 \r\nL 218.460681 162.043636 \r\nL 218.9688 109.330909 \r\nL 219.47692 162.043636 \r\nL 219.985039 82.974545 \r\nL 220.493159 88.245828 \r\nL 221.001279 56.618182 \r\nL 221.509398 96.152727 \r\nL 222.017518 96.152727 \r\nL 222.525637 82.974545 \r\nL 223.541877 82.974545 \r\nL 224.049996 69.796364 \r\nL 225.574355 69.796364 \r\nL 226.082475 96.152727 \r\nL 226.590594 82.974545 \r\nL 227.098714 96.152727 \r\nL 228.114953 96.152727 \r\nL 228.623073 109.330909 \r\nL 229.131192 96.152727 \r\nL 229.639312 96.152727 \r\nL 230.147431 109.330909 \r\nL 230.655551 82.974545 \r\nL 231.163671 96.152727 \r\nL 231.67179 82.974545 \r\nL 232.17991 109.330909 \r\nL 232.688029 214.756364 \r\nL 237.261106 214.756364 \r\nL 237.769225 148.865455 \r\nL 238.277345 122.509091 \r\nL 238.785464 122.509091 \r\nL 239.293584 125.144727 \r\nL 239.801704 96.152727 \r\nL 241.326062 135.687273 \r\nL 241.834182 96.152727 \r\nL 242.342302 109.330909 \r\nL 242.850421 109.330909 \r\nL 243.358541 96.152727 \r\nL 243.86666 96.152727 \r\nL 244.37478 82.974545 \r\nL 244.8829 96.152727 \r\nL 245.391019 69.796364 \r\nL 245.899139 109.330909 \r\nL 246.407258 122.509091 \r\nL 247.423497 96.152727 \r\nL 247.931617 96.152727 \r\nL 248.439737 82.974545 \r\nL 248.947856 109.330909 \r\nL 249.455976 109.330909 \r\nL 249.964095 122.509091 \r\nL 250.472215 96.152727 \r\nL 251.488454 122.509091 \r\nL 251.996574 109.330909 \r\nL 252.504693 109.330909 \r\nL 253.012813 122.509091 \r\nL 253.520933 96.152727 \r\nL 254.537172 122.509091 \r\nL 255.045291 122.509091 \r\nL 255.553411 135.687273 \r\nL 256.061531 175.221818 \r\nL 256.56965 201.578182 \r\nL 257.07777 188.4 \r\nL 257.585889 188.4 \r\nL 258.094009 148.865455 \r\nL 258.602129 135.687273 \r\nL 259.110248 109.330909 \r\nL 259.618368 135.687273 \r\nL 260.126487 82.974545 \r\nL 260.634607 122.509091 \r\nL 261.142727 122.509091 \r\nL 261.650846 148.865455 \r\nL 262.667085 122.509091 \r\nL 263.175205 148.865455 \r\nL 263.683324 109.330909 \r\nL 264.191444 135.687273 \r\nL 264.699564 109.330909 \r\nL 265.207683 148.865455 \r\nL 265.715803 122.509091 \r\nL 266.223922 135.687273 \r\nL 267.240162 82.974545 \r\nL 267.748281 135.687273 \r\nL 268.256401 109.330909 \r\nL 268.76452 109.330909 \r\nL 269.27264 96.152727 \r\nL 269.78076 148.865455 \r\nL 270.288879 135.687273 \r\nL 270.796999 214.756364 \r\nL 275.370075 214.756364 \r\nL 275.878195 162.043636 \r\nL 276.386314 175.221818 \r\nL 276.894434 175.221818 \r\nL 277.402553 148.865455 \r\nL 278.418793 148.865455 \r\nL 278.926912 188.4 \r\nL 279.435032 135.687273 \r\nL 279.943151 175.221818 \r\nL 280.451271 135.687273 \r\nL 280.959391 175.221818 \r\nL 281.46751 148.865455 \r\nL 281.97563 188.4 \r\nL 282.483749 175.221818 \r\nL 282.991869 175.221818 \r\nL 283.499989 162.043636 \r\nL 284.008108 175.221818 \r\nL 284.516228 175.221818 \r\nL 285.024347 146.229818 \r\nL 285.532467 148.865455 \r\nL 286.548706 175.221818 \r\nL 287.056826 162.043636 \r\nL 288.073065 162.043636 \r\nL 288.581185 175.221818 \r\nL 289.089304 162.043636 \r\nL 289.597424 175.221818 \r\nL 291.121783 175.221818 \r\nL 291.629902 162.043636 \r\nL 292.138022 188.4 \r\nL 292.646141 162.043636 \r\nL 293.154261 201.578182 \r\nL 293.66238 201.578182 \r\nL 294.1705 188.4 \r\nL 294.67862 201.578182 \r\nL 295.694859 201.578182 \r\nL 296.202978 188.4 \r\nL 296.711098 201.578182 \r\nL 297.219218 175.221818 \r\nL 297.727337 201.578182 \r\nL 298.235457 201.578182 \r\nL 298.743576 188.4 \r\nL 299.251696 162.043636 \r\nL 299.759816 201.578182 \r\nL 300.776055 175.221818 \r\nL 301.284174 188.4 \r\nL 301.792294 188.4 \r\nL 302.300414 175.221818 \r\nL 302.808533 188.4 \r\nL 303.824772 188.4 \r\nL 304.332892 201.578182 \r\nL 304.841012 188.4 \r\nL 305.349131 201.578182 \r\nL 306.36537 201.578182 \r\nL 306.87349 214.756364 \r\nL 307.38161 201.578182 \r\nL 307.889729 201.578182 \r\nL 308.397849 214.756364 \r\nL 313.479045 214.756364 \r\nL 313.987164 175.221818 \r\nL 314.495284 122.509091 \r\nL 315.511523 148.865455 \r\nL 316.019643 122.509091 \r\nL 316.527762 119.873455 \r\nL 317.035882 148.865455 \r\nL 317.544001 135.687273 \r\nL 318.052121 109.330909 \r\nL 318.560241 93.517091 \r\nL 319.06836 96.152727 \r\nL 319.57648 122.509091 \r\nL 320.084599 109.330909 \r\nL 320.592719 109.330909 \r\nL 321.100839 67.160727 \r\nL 321.608958 109.330909 \r\nL 322.117078 109.330909 \r\nL 322.625197 135.687273 \r\nL 323.133317 96.152727 \r\nL 323.641436 122.509091 \r\nL 324.149556 82.974545 \r\nL 324.657676 96.152727 \r\nL 325.165795 96.152727 \r\nL 326.182034 122.509091 \r\nL 326.690154 122.509091 \r\nL 327.198274 96.152727 \r\nL 328.214513 122.509091 \r\nL 328.722632 122.509091 \r\nL 329.738872 96.152727 \r\nL 330.246991 109.330909 \r\nL 330.755111 69.796364 \r\nL 331.26323 162.043636 \r\nL 331.77135 188.4 \r\nL 332.787589 214.756364 \r\nL 333.295709 188.4 \r\nL 333.803828 214.756364 \r\nL 334.311948 214.756364 \r\nL 334.820068 109.330909 \r\nL 335.328187 109.330909 \r\nL 335.836307 162.043636 \r\nL 336.344426 148.865455 \r\nL 336.852546 214.756364 \r\nL 337.360666 188.4 \r\nL 337.868785 148.865455 \r\nL 338.376905 135.687273 \r\nL 338.885024 135.687273 \r\nL 339.393144 122.509091 \r\nL 339.901263 135.687273 \r\nL 340.409383 135.687273 \r\nL 341.425622 162.043636 \r\nL 342.441861 135.687273 \r\nL 342.949981 175.221818 \r\nL 344.47434 175.221818 \r\nL 344.982459 162.043636 \r\nL 345.490579 175.221818 \r\nL 345.998699 201.578182 \r\nL 346.506818 175.221818 \r\nL 346.506818 175.221818 \r\n\" style=\"fill:none;stroke:#1f77b4;stroke-linecap:square;stroke-width:1.5;\"/>\r\n   </g>\r\n   <g id=\"line2d_17\">\r\n    <path clip-path=\"url(#p8aedbd564a)\" d=\"M 42.651301 211.687142 \r\nL 47.224378 211.687142 \r\nL 47.732497 152.457588 \r\nL 48.240617 133.559351 \r\nL 48.748737 124.435618 \r\nL 49.256856 111.290585 \r\nL 49.764976 107.070614 \r\nL 50.273095 91.076797 \r\nL 50.781215 102.93706 \r\nL 51.289334 142.918683 \r\nL 51.797454 131.254351 \r\nL 52.305574 145.288981 \r\nL 52.813693 150.059446 \r\nL 53.321813 119.976992 \r\nL 53.829932 131.254351 \r\nL 54.338052 128.964894 \r\nL 54.846172 122.197181 \r\nL 55.354291 135.879116 \r\nL 55.862411 138.212841 \r\nL 56.37053 159.690884 \r\nL 56.87865 140.559672 \r\nL 57.38677 128.964894 \r\nL 57.894889 128.964894 \r\nL 58.403009 138.212841 \r\nL 58.911128 150.059446 \r\nL 59.419248 138.212841 \r\nL 59.927368 117.775736 \r\nL 60.435487 119.976992 \r\nL 60.943607 138.212841 \r\nL 61.451726 119.976992 \r\nL 61.959846 150.059446 \r\nL 62.467966 122.197181 \r\nL 62.976085 162.111225 \r\nL 63.992324 138.212841 \r\nL 65.008564 159.690884 \r\nL 65.516683 131.254351 \r\nL 66.024803 162.111225 \r\nL 66.532922 140.559672 \r\nL 67.041042 145.288981 \r\nL 67.549161 109.169962 \r\nL 68.057281 162.111225 \r\nL 68.565401 150.059446 \r\nL 69.07352 152.457588 \r\nL 69.58164 119.976992 \r\nL 70.089759 169.383662 \r\nL 70.597879 162.111225 \r\nL 71.105999 162.111225 \r\nL 71.614118 174.229458 \r\nL 72.122238 152.457588 \r\nL 72.630357 181.469824 \r\nL 73.138477 183.870754 \r\nL 73.646597 152.457588 \r\nL 74.154716 131.254351 \r\nL 74.662836 152.457588 \r\nL 75.170955 162.111225 \r\nL 75.679075 150.059446 \r\nL 76.187195 181.469824 \r\nL 76.695314 138.212841 \r\nL 77.203434 171.807618 \r\nL 78.219673 171.807618 \r\nL 78.727793 159.690884 \r\nL 79.235912 162.111225 \r\nL 79.744032 171.807618 \r\nL 80.252151 171.807618 \r\nL 80.760271 211.687142 \r\nL 85.333347 211.687142 \r\nL 86.349586 164.534257 \r\nL 86.857706 117.775736 \r\nL 87.365826 176.647932 \r\nL 87.873945 176.647932 \r\nL 88.382065 188.646364 \r\nL 88.890184 174.229458 \r\nL 89.398304 200.375252 \r\nL 89.906424 176.647932 \r\nL 90.414543 188.646364 \r\nL 90.922663 188.646364 \r\nL 91.430782 200.375252 \r\nL 92.447022 176.647932 \r\nL 92.955141 188.646364 \r\nL 93.463261 176.647932 \r\nL 93.97138 200.375252 \r\nL 94.4795 188.646364 \r\nL 95.495739 188.646364 \r\nL 96.003859 176.647932 \r\nL 96.511978 188.646364 \r\nL 97.020098 188.646364 \r\nL 97.528217 176.647932 \r\nL 98.036337 176.647932 \r\nL 98.544457 188.646364 \r\nL 99.052576 164.534257 \r\nL 99.560696 176.647932 \r\nL 100.068815 200.375252 \r\nL 100.576935 164.534257 \r\nL 101.085055 188.646364 \r\nL 101.593174 176.647932 \r\nL 102.101294 188.646364 \r\nL 102.609413 176.647932 \r\nL 103.117533 176.647932 \r\nL 103.625653 200.375252 \r\nL 104.133772 176.647932 \r\nL 104.641892 211.687142 \r\nL 105.150011 188.646364 \r\nL 105.658131 200.375252 \r\nL 106.67437 200.375252 \r\nL 107.18249 176.647932 \r\nL 107.690609 176.647932 \r\nL 108.706849 200.375252 \r\nL 109.214968 200.375252 \r\nL 109.723088 211.687142 \r\nL 110.231207 200.375252 \r\nL 110.739327 211.687142 \r\nL 111.247447 200.375252 \r\nL 112.771805 200.375252 \r\nL 113.279925 188.646364 \r\nL 113.788044 188.646364 \r\nL 114.296164 200.375252 \r\nL 114.804284 188.646364 \r\nL 115.820523 211.687142 \r\nL 116.328642 188.646364 \r\nL 116.836762 188.646364 \r\nL 117.344882 200.375252 \r\nL 118.361121 200.375252 \r\nL 118.86924 211.687142 \r\nL 123.442317 211.687142 \r\nL 123.950436 174.229458 \r\nL 124.458556 154.862949 \r\nL 125.474795 154.862949 \r\nL 125.982915 126.69176 \r\nL 126.491034 145.288981 \r\nL 126.999154 154.862949 \r\nL 127.507273 154.862949 \r\nL 128.015393 164.534257 \r\nL 128.523513 154.862949 \r\nL 129.031632 164.534257 \r\nL 129.539752 145.288981 \r\nL 130.047871 164.534257 \r\nL 130.555991 164.534257 \r\nL 131.064111 174.229458 \r\nL 131.57223 154.862949 \r\nL 132.08035 174.229458 \r\nL 132.588469 164.534257 \r\nL 133.604709 164.534257 \r\nL 134.620948 183.870754 \r\nL 135.129067 174.229458 \r\nL 135.637187 183.870754 \r\nL 137.669665 183.870754 \r\nL 138.177785 193.378772 \r\nL 138.685905 193.378772 \r\nL 139.194024 183.870754 \r\nL 139.702144 202.675492 \r\nL 140.210263 202.675492 \r\nL 140.718383 193.378772 \r\nL 141.226503 202.675492 \r\nL 141.734622 193.378772 \r\nL 142.242742 174.229458 \r\nL 143.258981 174.229458 \r\nL 143.7671 183.870754 \r\nL 144.27522 183.870754 \r\nL 144.78334 209.464753 \r\nL 145.291459 202.675492 \r\nL 145.799579 193.378772 \r\nL 146.307698 193.378772 \r\nL 146.815818 211.687142 \r\nL 147.323938 193.378772 \r\nL 147.832057 202.675492 \r\nL 148.340177 193.378772 \r\nL 148.848296 193.378772 \r\nL 149.356416 211.687142 \r\nL 149.864536 202.675492 \r\nL 150.372655 202.675492 \r\nL 150.880775 183.870754 \r\nL 151.388894 183.870754 \r\nL 151.897014 202.675492 \r\nL 152.405134 150.059446 \r\nL 153.421373 193.378772 \r\nL 153.929492 193.378772 \r\nL 154.437612 202.675492 \r\nL 154.945732 202.675492 \r\nL 155.453851 191.018582 \r\nL 155.961971 211.687142 \r\nL 156.47009 200.375252 \r\nL 156.97821 211.687142 \r\nL 162.059406 211.687142 \r\nL 162.567525 200.375252 \r\nL 163.075645 200.375252 \r\nL 163.583765 188.646364 \r\nL 164.091884 200.375252 \r\nL 164.600004 188.646364 \r\nL 165.108123 200.375252 \r\nL 165.616243 188.646364 \r\nL 166.124363 200.375252 \r\nL 166.632482 176.647932 \r\nL 167.140602 188.646364 \r\nL 167.648721 176.647932 \r\nL 168.156841 200.375252 \r\nL 168.664961 188.646364 \r\nL 169.17308 188.646364 \r\nL 169.6812 200.375252 \r\nL 170.189319 200.375252 \r\nL 170.697439 188.646364 \r\nL 172.221798 188.646364 \r\nL 172.729917 200.375252 \r\nL 173.238037 188.646364 \r\nL 173.746156 200.375252 \r\nL 174.254276 188.646364 \r\nL 174.762396 200.375252 \r\nL 176.286754 200.375252 \r\nL 176.794874 211.687142 \r\nL 177.302994 188.646364 \r\nL 177.811113 200.375252 \r\nL 179.335472 200.375252 \r\nL 179.843592 176.647932 \r\nL 180.351711 200.375252 \r\nL 180.859831 211.687142 \r\nL 181.36795 211.687142 \r\nL 181.87607 200.375252 \r\nL 182.38419 211.687142 \r\nL 182.892309 200.375252 \r\nL 183.400429 211.687142 \r\nL 183.908548 200.375252 \r\nL 184.416668 211.687142 \r\nL 184.924788 176.647932 \r\nL 185.432907 211.687142 \r\nL 185.941027 200.375252 \r\nL 186.449146 200.375252 \r\nL 186.957266 188.646364 \r\nL 187.465385 200.375252 \r\nL 187.973505 188.646364 \r\nL 188.989744 188.646364 \r\nL 189.497864 200.375252 \r\nL 190.005983 188.646364 \r\nL 190.514103 200.375252 \r\nL 191.022223 176.647932 \r\nL 191.530342 200.375252 \r\nL 192.038462 188.646364 \r\nL 192.546581 200.375252 \r\nL 193.054701 188.646364 \r\nL 193.562821 200.375252 \r\nL 194.07094 188.646364 \r\nL 194.57906 188.646364 \r\nL 195.087179 211.687142 \r\nL 199.660256 211.687142 \r\nL 200.168375 128.964894 \r\nL 200.676495 96.903994 \r\nL 201.184615 107.070614 \r\nL 202.200854 107.070614 \r\nL 202.708973 87.308268 \r\nL 203.217093 107.070614 \r\nL 203.725212 96.903994 \r\nL 204.233332 71.507098 \r\nL 204.741452 96.903994 \r\nL 205.249571 69.867225 \r\nL 206.26581 107.070614 \r\nL 206.77393 87.308268 \r\nL 207.28205 96.903994 \r\nL 207.790169 96.903994 \r\nL 208.298289 89.180845 \r\nL 208.806408 96.903994 \r\nL 209.314528 87.308268 \r\nL 209.822648 96.903994 \r\nL 210.330767 54.688418 \r\nL 210.838887 96.903994 \r\nL 211.347006 96.903994 \r\nL 211.855126 87.308268 \r\nL 212.363246 87.308268 \r\nL 212.871365 96.903994 \r\nL 213.379485 78.296749 \r\nL 213.887604 107.070614 \r\nL 214.395724 78.296749 \r\nL 214.903844 96.903994 \r\nL 215.411963 69.867225 \r\nL 215.920083 87.308268 \r\nL 216.428202 78.296749 \r\nL 216.936322 87.308268 \r\nL 217.444441 128.964894 \r\nL 217.952561 152.457588 \r\nL 218.460681 128.964894 \r\nL 218.9688 164.534257 \r\nL 219.47692 117.775736 \r\nL 219.985039 164.534257 \r\nL 220.493159 96.903994 \r\nL 221.001279 100.903486 \r\nL 221.509398 78.296749 \r\nL 222.017518 107.070614 \r\nL 222.525637 107.070614 \r\nL 223.033757 96.903994 \r\nL 224.049996 96.903994 \r\nL 224.558116 87.308268 \r\nL 226.082475 87.308268 \r\nL 226.590594 107.070614 \r\nL 227.098714 96.903994 \r\nL 227.606833 107.070614 \r\nL 228.623073 107.070614 \r\nL 229.131192 117.775736 \r\nL 229.639312 107.070614 \r\nL 230.147431 107.070614 \r\nL 230.655551 117.775736 \r\nL 231.163671 96.903994 \r\nL 231.67179 107.070614 \r\nL 232.17991 96.903994 \r\nL 232.688029 117.775736 \r\nL 233.196149 211.687142 \r\nL 237.769225 211.687142 \r\nL 238.277345 152.457588 \r\nL 238.785464 128.964894 \r\nL 239.293584 128.964894 \r\nL 239.801704 131.254351 \r\nL 240.309823 107.070614 \r\nL 241.834182 140.559672 \r\nL 242.342302 107.070614 \r\nL 242.850421 117.775736 \r\nL 243.358541 117.775736 \r\nL 243.86666 107.070614 \r\nL 244.37478 107.070614 \r\nL 244.8829 96.903994 \r\nL 245.391019 107.070614 \r\nL 245.899139 87.308268 \r\nL 246.407258 117.775736 \r\nL 246.915378 128.964894 \r\nL 247.931617 107.070614 \r\nL 248.439737 107.070614 \r\nL 248.947856 96.903994 \r\nL 249.455976 117.775736 \r\nL 249.964095 117.775736 \r\nL 250.472215 128.964894 \r\nL 250.980335 107.070614 \r\nL 251.996574 128.964894 \r\nL 252.504693 117.775736 \r\nL 253.012813 117.775736 \r\nL 253.520933 128.964894 \r\nL 254.029052 107.070614 \r\nL 255.045291 128.964894 \r\nL 255.553411 128.964894 \r\nL 256.061531 140.559672 \r\nL 256.56965 176.647932 \r\nL 257.07777 200.375252 \r\nL 257.585889 188.646364 \r\nL 258.094009 188.646364 \r\nL 258.602129 152.457588 \r\nL 259.110248 140.559672 \r\nL 259.618368 117.775736 \r\nL 260.126487 140.559672 \r\nL 260.634607 96.903994 \r\nL 261.142727 128.964894 \r\nL 261.650846 128.964894 \r\nL 262.158966 152.457588 \r\nL 263.175205 128.964894 \r\nL 263.683324 152.457588 \r\nL 264.191444 117.775736 \r\nL 264.699564 140.559672 \r\nL 265.207683 117.775736 \r\nL 265.715803 152.457588 \r\nL 266.223922 128.964894 \r\nL 266.732042 140.559672 \r\nL 267.748281 96.903994 \r\nL 268.256401 140.559672 \r\nL 268.76452 117.775736 \r\nL 269.27264 117.775736 \r\nL 269.78076 107.070614 \r\nL 270.288879 152.457588 \r\nL 270.796999 140.559672 \r\nL 271.305118 211.687142 \r\nL 275.878195 211.687142 \r\nL 276.386314 164.534257 \r\nL 276.894434 176.647932 \r\nL 277.402553 176.647932 \r\nL 277.910673 152.457588 \r\nL 278.926912 152.457588 \r\nL 279.435032 188.646364 \r\nL 279.943151 140.559672 \r\nL 280.451271 176.647932 \r\nL 280.959391 140.559672 \r\nL 281.46751 176.647932 \r\nL 281.97563 152.457588 \r\nL 282.483749 188.646364 \r\nL 282.991869 176.647932 \r\nL 283.499989 176.647932 \r\nL 284.008108 164.534257 \r\nL 284.516228 176.647932 \r\nL 285.024347 176.647932 \r\nL 285.532467 150.059446 \r\nL 286.040587 152.457588 \r\nL 287.056826 176.647932 \r\nL 287.564945 164.534257 \r\nL 288.581185 164.534257 \r\nL 289.089304 176.647932 \r\nL 289.597424 164.534257 \r\nL 290.105543 176.647932 \r\nL 291.629902 176.647932 \r\nL 292.138022 164.534257 \r\nL 292.646141 188.646364 \r\nL 293.154261 164.534257 \r\nL 293.66238 200.375252 \r\nL 294.1705 200.375252 \r\nL 294.67862 188.646364 \r\nL 295.186739 200.375252 \r\nL 296.202978 200.375252 \r\nL 296.711098 188.646364 \r\nL 297.219218 200.375252 \r\nL 297.727337 176.647932 \r\nL 298.235457 200.375252 \r\nL 298.743576 200.375252 \r\nL 299.251696 188.646364 \r\nL 299.759816 164.534257 \r\nL 300.267935 200.375252 \r\nL 301.284174 176.647932 \r\nL 301.792294 188.646364 \r\nL 302.300414 188.646364 \r\nL 302.808533 176.647932 \r\nL 303.316653 188.646364 \r\nL 304.332892 188.646364 \r\nL 304.841012 200.375252 \r\nL 305.349131 188.646364 \r\nL 305.857251 200.375252 \r\nL 306.87349 200.375252 \r\nL 307.38161 211.687142 \r\nL 307.889729 200.375252 \r\nL 308.397849 200.375252 \r\nL 308.905968 211.687142 \r\nL 313.987164 211.687142 \r\nL 314.495284 176.647932 \r\nL 315.003403 128.964894 \r\nL 316.019643 152.457588 \r\nL 316.527762 128.964894 \r\nL 317.035882 126.69176 \r\nL 317.544001 152.457588 \r\nL 318.052121 140.559672 \r\nL 318.560241 117.775736 \r\nL 319.06836 104.992883 \r\nL 319.57648 107.070614 \r\nL 320.084599 128.964894 \r\nL 320.592719 117.775736 \r\nL 321.100839 117.775736 \r\nL 321.608958 85.459098 \r\nL 322.117078 117.775736 \r\nL 322.625197 117.775736 \r\nL 323.133317 140.559672 \r\nL 323.641436 107.070614 \r\nL 324.149556 128.964894 \r\nL 324.657676 96.903994 \r\nL 325.165795 107.070614 \r\nL 325.673915 107.070614 \r\nL 326.690154 128.964894 \r\nL 327.198274 128.964894 \r\nL 327.706393 107.070614 \r\nL 328.722632 128.964894 \r\nL 329.230752 128.964894 \r\nL 330.246991 107.070614 \r\nL 330.755111 117.775736 \r\nL 331.26323 87.308268 \r\nL 331.77135 164.534257 \r\nL 332.27947 188.646364 \r\nL 333.295709 211.687142 \r\nL 333.803828 188.646364 \r\nL 333.803828 188.646364 \r\n\" style=\"fill:none;stroke:#ff7f0e;stroke-linecap:square;stroke-width:1.5;\"/>\r\n   </g>\r\n   <g id=\"line2d_18\">\r\n    <path clip-path=\"url(#p8aedbd564a)\" d=\"M 335.328187 117.775736 \r\nL 335.836307 117.775736 \r\nL 336.344426 164.534257 \r\nL 336.852546 152.457588 \r\nL 337.360666 211.687142 \r\nL 337.868785 188.646364 \r\nL 338.376905 152.457588 \r\nL 338.885024 140.559672 \r\nL 339.393144 140.559672 \r\nL 339.901263 128.964894 \r\nL 340.409383 140.559672 \r\nL 340.917503 140.559672 \r\nL 341.933742 164.534257 \r\nL 342.949981 140.559672 \r\nL 343.458101 176.647932 \r\nL 344.982459 176.647932 \r\nL 345.490579 164.534257 \r\nL 345.998699 176.647932 \r\nL 345.998699 176.647932 \r\n\" style=\"fill:none;stroke:#2ca02c;stroke-linecap:square;stroke-width:1.5;\"/>\r\n   </g>\r\n   <g id=\"patch_3\">\r\n    <path d=\"M 26.925 224.64 \r\nL 26.925 7.2 \r\n\" style=\"fill:none;stroke:#000000;stroke-linecap:square;stroke-linejoin:miter;stroke-width:0.8;\"/>\r\n   </g>\r\n   <g id=\"patch_4\">\r\n    <path d=\"M 361.725 224.64 \r\nL 361.725 7.2 \r\n\" style=\"fill:none;stroke:#000000;stroke-linecap:square;stroke-linejoin:miter;stroke-width:0.8;\"/>\r\n   </g>\r\n   <g id=\"patch_5\">\r\n    <path d=\"M 26.925 224.64 \r\nL 361.725 224.64 \r\n\" style=\"fill:none;stroke:#000000;stroke-linecap:square;stroke-linejoin:miter;stroke-width:0.8;\"/>\r\n   </g>\r\n   <g id=\"patch_6\">\r\n    <path d=\"M 26.925 7.2 \r\nL 361.725 7.2 \r\n\" style=\"fill:none;stroke:#000000;stroke-linecap:square;stroke-linejoin:miter;stroke-width:0.8;\"/>\r\n   </g>\r\n  </g>\r\n </g>\r\n <defs>\r\n  <clipPath id=\"p8aedbd564a\">\r\n   <rect height=\"217.44\" width=\"334.8\" x=\"26.925\" y=\"7.2\"/>\r\n  </clipPath>\r\n </defs>\r\n</svg>\r\n",
      "image/png": "[encoded data removed]"
     },
     "metadata": {
      "needs_background": "light"
     }
    }
   ],
   "source": [
    "\n",
    "# 畫訓練資料趨勢圖\n",
    "# shift train predictions for plotting\n",
    "trainPredictPlot = numpy.empty_like(dataset)\n",
    "trainPredictPlot[:, :] = numpy.nan\n",
    "trainPredictPlot[look_back:len(trainPredict)+look_back, :] = trainPredict\n",
    "\n",
    "# 畫測試資料趨勢圖\n",
    "# shift test predictions for plotting\n",
    "testPredictPlot = numpy.empty_like(dataset)\n",
    "testPredictPlot[:, :] = numpy.nan\n",
    "testPredictPlot[len(trainPredict)+(look_back*2)+1:len(dataset)-1, :] = testPredict\n",
    "\n",
    "# 畫原始資料趨勢圖\n",
    "# plot baseline and predictions\n",
    "plt.plot(scaler.inverse_transform(dataset))\n",
    "plt.plot(trainPredictPlot)\n",
    "plt.plot(testPredictPlot)\n",
    "plt.show()"
   ]
  },
  {
   "cell_type": "code",
   "execution_count": 30,
   "metadata": {},
   "outputs": [],
   "source": [
    "\n",
    "\n",
    "# trainPredictPlot[np.isnan(trainPredictPlot)] = 0  # replace all nan in a with 0\n",
    "# testPredictPlot[np.isnan(testPredictPlot)] = 0  # replace all nan in b with 0\n",
    "# numpy.add(trainPredictPlot, testPredictPlot) \n",
    "# dataframe_test = dataframe[dataframe['STOCK_EVENT_TIME'].apply(lambda x: pd.to_datetime(str(x), format='%Y/%m/%d %H:%M'))<  pd.to_datetime('2021-01-01')]\n",
    "dataframe_test = dataframe.copy(deep = False)"
   ]
  },
  {
   "cell_type": "code",
   "execution_count": 31,
   "metadata": {},
   "outputs": [],
   "source": [
    "dataframe_test['Predict'] = testPredictPlot"
   ]
  },
  {
   "cell_type": "code",
   "execution_count": 33,
   "metadata": {},
   "outputs": [],
   "source": [
    "dataframe_test =  dataframe_test[dataframe_test['STOCK_EVENT_TIME'].apply(lambda x: pd.to_datetime(str(x), format='%Y/%m/%d %H:%M'))>=  pd.to_datetime('2021-01-01')]"
   ]
  },
  {
   "cell_type": "code",
   "execution_count": 34,
   "metadata": {},
   "outputs": [],
   "source": [
    "def accsum(def_result,target_cols):\n",
    "        _accsum=0 \n",
    "        for index,row in def_result.iterrows():\n",
    "            #避免當分母為0 會無法計算\n",
    "            if row[target_cols]==0 and row['Predict']==0 :\n",
    "                row[target_cols] =1\n",
    "                row['Predict'] =1\n",
    "            elif row[target_cols] ==0 and row['Predict']!=0:\n",
    "                row[target_cols]  =0.00001\n",
    "\n",
    "            if row[target_cols] <0 :\n",
    "                row[target_cols]  =0.00001\n",
    "\n",
    "            if row['Predict'] <0 :\n",
    "                row['Predict']  =0 \n",
    "\n",
    "            if 1- abs((row['Predict'] - row[target_cols])/row[target_cols] ) >0 : \n",
    "                _accsum+=(1- abs((row['Predict'] - row[target_cols])/row[target_cols] ))\n",
    "        \n",
    "        return round(_accsum*100/def_result.shape[0],2)"
   ]
  },
  {
   "cell_type": "code",
   "execution_count": 35,
   "metadata": {},
   "outputs": [
    {
     "output_type": "execute_result",
     "data": {
      "text/plain": [
       "3.04"
      ]
     },
     "metadata": {},
     "execution_count": 35
    }
   ],
   "source": [
    "accsum(dataframe_test,'QTY')"
   ]
  },
  {
   "cell_type": "code",
   "execution_count": 36,
   "metadata": {},
   "outputs": [
    {
     "output_type": "execute_result",
     "data": {
      "text/plain": [
       "     STOCK_EVENT_TIME  QTY    Predict\n",
       "3222       2021-01-31   21        NaN\n",
       "3223       2021-02-28   17        NaN\n",
       "3224       2021-03-31   17        NaN\n",
       "3297       2021-01-31    5        NaN\n",
       "3298       2021-02-28    5        NaN\n",
       "3299       2021-03-31    5        NaN\n",
       "3372       2021-01-31    9        NaN\n",
       "3373       2021-02-28    0        NaN\n",
       "3374       2021-03-31    5        NaN\n",
       "3447       2021-01-31    5        NaN\n",
       "3448       2021-02-28   10        NaN\n",
       "3449       2021-03-31   10        NaN\n",
       "3522       2021-01-31   45        NaN\n",
       "3523       2021-02-28   50        NaN\n",
       "3524       2021-03-31   40        NaN\n",
       "3597       2021-01-31   45        NaN\n",
       "3598       2021-02-28   25        NaN\n",
       "3599       2021-03-31   30        NaN\n",
       "3672       2021-01-31    5        NaN\n",
       "3673       2021-02-28    5        NaN\n",
       "3674       2021-03-31    0        NaN\n",
       "3747       2021-01-31   15  19.055021\n",
       "3748       2021-02-28    5  14.458911\n",
       "3749       2021-03-31   15        NaN"
      ],
      "text/html": "<div>\n<style scoped>\n    .dataframe tbody tr th:only-of-type {\n        vertical-align: middle;\n    }\n\n    .dataframe tbody tr th {\n        vertical-align: top;\n    }\n\n    .dataframe thead th {\n        text-align: right;\n    }\n</style>\n<table border=\"1\" class=\"dataframe\">\n  <thead>\n    <tr style=\"text-align: right;\">\n      <th></th>\n      <th>STOCK_EVENT_TIME</th>\n      <th>QTY</th>\n      <th>Predict</th>\n    </tr>\n  </thead>\n  <tbody>\n    <tr>\n      <th>3222</th>\n      <td>2021-01-31</td>\n      <td>21</td>\n      <td>NaN</td>\n    </tr>\n    <tr>\n      <th>3223</th>\n      <td>2021-02-28</td>\n      <td>17</td>\n      <td>NaN</td>\n    </tr>\n    <tr>\n      <th>3224</th>\n      <td>2021-03-31</td>\n      <td>17</td>\n      <td>NaN</td>\n    </tr>\n    <tr>\n      <th>3297</th>\n      <td>2021-01-31</td>\n      <td>5</td>\n      <td>NaN</td>\n    </tr>\n    <tr>\n      <th>3298</th>\n      <td>2021-02-28</td>\n      <td>5</td>\n      <td>NaN</td>\n    </tr>\n    <tr>\n      <th>3299</th>\n      <td>2021-03-31</td>\n      <td>5</td>\n      <td>NaN</td>\n    </tr>\n    <tr>\n      <th>3372</th>\n      <td>2021-01-31</td>\n      <td>9</td>\n      <td>NaN</td>\n    </tr>\n    <tr>\n      <th>3373</th>\n      <td>2021-02-28</td>\n      <td>0</td>\n      <td>NaN</td>\n    </tr>\n    <tr>\n      <th>3374</th>\n      <td>2021-03-31</td>\n      <td>5</td>\n      <td>NaN</td>\n    </tr>\n    <tr>\n      <th>3447</th>\n      <td>2021-01-31</td>\n      <td>5</td>\n      <td>NaN</td>\n    </tr>\n    <tr>\n      <th>3448</th>\n      <td>2021-02-28</td>\n      <td>10</td>\n      <td>NaN</td>\n    </tr>\n    <tr>\n      <th>3449</th>\n      <td>2021-03-31</td>\n      <td>10</td>\n      <td>NaN</td>\n    </tr>\n    <tr>\n      <th>3522</th>\n      <td>2021-01-31</td>\n      <td>45</td>\n      <td>NaN</td>\n    </tr>\n    <tr>\n      <th>3523</th>\n      <td>2021-02-28</td>\n      <td>50</td>\n      <td>NaN</td>\n    </tr>\n    <tr>\n      <th>3524</th>\n      <td>2021-03-31</td>\n      <td>40</td>\n      <td>NaN</td>\n    </tr>\n    <tr>\n      <th>3597</th>\n      <td>2021-01-31</td>\n      <td>45</td>\n      <td>NaN</td>\n    </tr>\n    <tr>\n      <th>3598</th>\n      <td>2021-02-28</td>\n      <td>25</td>\n      <td>NaN</td>\n    </tr>\n    <tr>\n      <th>3599</th>\n      <td>2021-03-31</td>\n      <td>30</td>\n      <td>NaN</td>\n    </tr>\n    <tr>\n      <th>3672</th>\n      <td>2021-01-31</td>\n      <td>5</td>\n      <td>NaN</td>\n    </tr>\n    <tr>\n      <th>3673</th>\n      <td>2021-02-28</td>\n      <td>5</td>\n      <td>NaN</td>\n    </tr>\n    <tr>\n      <th>3674</th>\n      <td>2021-03-31</td>\n      <td>0</td>\n      <td>NaN</td>\n    </tr>\n    <tr>\n      <th>3747</th>\n      <td>2021-01-31</td>\n      <td>15</td>\n      <td>19.055021</td>\n    </tr>\n    <tr>\n      <th>3748</th>\n      <td>2021-02-28</td>\n      <td>5</td>\n      <td>14.458911</td>\n    </tr>\n    <tr>\n      <th>3749</th>\n      <td>2021-03-31</td>\n      <td>15</td>\n      <td>NaN</td>\n    </tr>\n  </tbody>\n</table>\n</div>"
     },
     "metadata": {},
     "execution_count": 36
    }
   ],
   "source": [
    "dataframe_test"
   ]
  },
  {
   "cell_type": "code",
   "execution_count": null,
   "metadata": {},
   "outputs": [],
   "source": []
  }
 ]
}