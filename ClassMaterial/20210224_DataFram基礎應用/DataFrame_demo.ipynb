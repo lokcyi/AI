{
 "metadata": {
  "language_info": {
   "codemirror_mode": {
    "name": "ipython",
    "version": 3
   },
   "file_extension": ".py",
   "mimetype": "text/x-python",
   "name": "python",
   "nbconvert_exporter": "python",
   "pygments_lexer": "ipython3",
   "version": "3.7.9-final"
  },
  "orig_nbformat": 2,
  "kernelspec": {
   "name": "python3",
   "display_name": "Python 3.7.9 64-bit ('ML_template': conda)",
   "metadata": {
    "interpreter": {
     "hash": "97688c33340eb7c7e106d491a33e884fe4f50491a237ad2601a35743c981e5dd"
    }
   }
  }
 },
 "nbformat": 4,
 "nbformat_minor": 2,
 "cells": [
  {
   "cell_type": "code",
   "execution_count": null,
   "metadata": {},
   "outputs": [],
   "source": [
    "#https://pandas.pydata.org/docs/reference/frame.html"
   ]
  },
  {
   "cell_type": "code",
   "execution_count": null,
   "metadata": {},
   "outputs": [],
   "source": [
    "import pandas as pd\n",
    "import numpy as np\n",
    "# DataFrame 是一個資料表，包含列與欄，兩者都有索引，各欄可以有不同的資料型態\n",
    "data = {'城市':['台中', '台中', '台中', '高雄', '高雄', '高雄'],\n",
    "        '年份':[2016, 2017, 2018, 2016, 2017, 2018],\n",
    "        '人口數':[276, 278, 280, 277, 277, 277]}"
   ]
  },
  {
   "cell_type": "code",
   "execution_count": null,
   "metadata": {},
   "outputs": [],
   "source": [
    "df = pd.DataFrame(data)\n",
    "df"
   ]
  },
  {
   "cell_type": "code",
   "execution_count": null,
   "metadata": {},
   "outputs": [],
   "source": [
    "print(df.dtypes)\n",
    "df.select_dtypes(include='int64')"
   ]
  },
  {
   "cell_type": "code",
   "execution_count": null,
   "metadata": {},
   "outputs": [],
   "source": [
    "#產生 DataFrame 時一併提供欄位順序\n",
    "df = pd.DataFrame(data, columns=['年份', '城市', '人口數'])\n",
    "df"
   ]
  },
  {
   "cell_type": "code",
   "execution_count": null,
   "metadata": {},
   "outputs": [],
   "source": [
    "#欄位標籤：Index 物件\n",
    "print(df.columns)\n",
    "print('-----')\n",
    "print(df.columns[2])\n",
    "print('-----')\n",
    "#索引值：類似 Python 的 range 物件\n",
    "print(df.index)"
   ]
  },
  {
   "cell_type": "code",
   "execution_count": null,
   "metadata": {},
   "outputs": [],
   "source": [
    "#資料值：NumPy 的二維陣列結構\n",
    "print(df.values)\n",
    "print('-----')\n",
    "print(df[\"城市\"].values)"
   ]
  },
  {
   "cell_type": "code",
   "execution_count": null,
   "metadata": {},
   "outputs": [],
   "source": [
    "print('the number of axes / array dimensions:',df.ndim)\n",
    "print('-----')\n",
    "print(' the dimensionality of the DataFrame:',df.shape)\n",
    "print('-----')\n",
    "print(' the number of rows times number of columns:',df.size)\n",
    "print('-----')\n",
    "print(' row count:',len(df))\n"
   ]
  },
  {
   "cell_type": "code",
   "execution_count": null,
   "metadata": {},
   "outputs": [],
   "source": [
    "# 可設定欄位與索引標籤；如果標籤不存在，會新增欄位並顯示遺漏值\n",
    "df2 = pd.DataFrame(data, columns=['年份', '城市', '人口數', '負債'],\n",
    "                   index=['一', '二', '三', '四', '五', '六'])\n",
    "df2"
   ]
  },
  {
   "cell_type": "code",
   "execution_count": null,
   "metadata": {},
   "outputs": [],
   "source": [
    "#以欄位標籤取出資料，結果之 Series 的索引與原 DataFrame 相同，且自動設定名稱\n",
    "s = df2['年份']\n",
    "print(type(s))\n",
    "s"
   ]
  },
  {
   "cell_type": "code",
   "execution_count": null,
   "metadata": {},
   "outputs": [],
   "source": [
    "#以列索引標籤取出資料，結果之 Series 的欄位標籤與原 DataFrame 相同，且自動設定名稱\n",
    "s = df2.loc['三']\n",
    "print(s)\n",
    "print('-----')\n",
    "print(s['城市'],s['人口數'])\n",
    "#Use at if you only need to get or set a single \n",
    "print('at:',s.at['人口數'])"
   ]
  },
  {
   "cell_type": "code",
   "execution_count": null,
   "metadata": {},
   "outputs": [],
   "source": [
    "#DataFrame.items\n",
    "#returning a tuple with the column name and the content as a Series\n",
    "print(df.items)\n",
    "for label, content in df.items():\n",
    "    print(f'label: {label}')\n",
    "    print(f'content:\\n {content}', sep='\\n')"
   ]
  },
  {
   "cell_type": "code",
   "execution_count": null,
   "metadata": {},
   "outputs": [],
   "source": [
    "#DataFrame.pop ,drop column\n",
    "df_copy=df2.copy()\n",
    "print('-----')\n",
    "df_copy.pop('城市')\n",
    "df_copy"
   ]
  },
  {
   "cell_type": "code",
   "execution_count": null,
   "metadata": {},
   "outputs": [],
   "source": [
    "#pandas.DataFrame.filter\n",
    "#Subset the dataframe rows or columns according to the specified index labels\n",
    "print(df2.filter(items=['年份','人口數']))\n",
    "print(df2[['年份','人口數']])"
   ]
  },
  {
   "cell_type": "code",
   "execution_count": null,
   "metadata": {},
   "outputs": [],
   "source": [
    "#pandas.DataFrame.where  Replace values where the condition is False\n",
    "print(df_copy.where(df_copy['人口數']>=278, 100))\n",
    "print('-----')\n",
    "#pandas.DataFrame.mask  Replace values where the condition is True\n",
    "print(df_copy.mask(df_copy['人口數']>=278, 0))\n",
    "print('-----')\n",
    "print(df_copy.iloc[np.where(df_copy['人口數']>=278)])\n",
    "print('-----')\n",
    "print(df_copy.loc[df_copy['人口數']>=278])\n",
    "print('-----')\n",
    "#pandas.DataFrame.query\n",
    "print(df_copy.query('人口數>=277 & 年份==2018'))\n",
    "print('-----')"
   ]
  },
  {
   "cell_type": "code",
   "execution_count": null,
   "metadata": {},
   "outputs": [],
   "source": [
    "#設定符合欄位標籤的資料值，可給純量或陣列\n",
    "df2['負債'] = 10000\n",
    "df2"
   ]
  },
  {
   "cell_type": "code",
   "execution_count": null,
   "metadata": {},
   "outputs": [],
   "source": [
    "df2['負債'] = np.arange(1000, 1600, 100)\n",
    "df2"
   ]
  },
  {
   "cell_type": "code",
   "execution_count": null,
   "metadata": {},
   "outputs": [],
   "source": [
    "#新增欄位，其資料由原表之資料計算而得\n",
    "df2['中部'] = (df2['城市']=='台中')\n",
    "df2['地區'] = \"xxx\"\n",
    "df2.loc[df2.城市 == '台中', '地區'] = '中部'\n",
    "df2"
   ]
  },
  {
   "cell_type": "code",
   "execution_count": null,
   "metadata": {},
   "outputs": [],
   "source": [
    "df2['負債'] = df2['人口數'] * 100\n",
    "print(df2)"
   ]
  },
  {
   "cell_type": "code",
   "execution_count": null,
   "metadata": {},
   "outputs": [],
   "source": [
    "#pandas.DataFrame.transform  \n",
    "#Call func on self producing a DataFrame with transformed values\n",
    "df2['count'] = df2.groupby('城市')['人口數'].transform(len)\n",
    "df2['sum'] = df2.groupby('城市')['人口數'].transform(sum)\n",
    "df2"
   ]
  },
  {
   "cell_type": "code",
   "execution_count": null,
   "metadata": {},
   "outputs": [],
   "source": [
    "#pandas.DataFrame.expanding\n",
    "#DataFrame.expanding(min_periods=1, center=None, axis=0)\n",
    "df2['人口數'].expanding(1).sum()"
   ]
  },
  {
   "cell_type": "code",
   "execution_count": null,
   "metadata": {},
   "outputs": [],
   "source": [
    "#pandas.DataFrame.cummax/cummin/cumprod/cumsum/diff\n",
    "print(df2)\n",
    "#每一列中找到最大值\n",
    "print(df2.cummax())\n",
    "#找到每行中的最大值 \n",
    "df3=df2[['年份','人口數']]\n",
    "print(df3.cummax(axis=1))\n",
    "#the sum in each row\n",
    "print(df3.cumsum(axis=1))\n",
    "# difference with previous row\n",
    "print(df3.diff())"
   ]
  },
  {
   "cell_type": "code",
   "execution_count": null,
   "metadata": {},
   "outputs": [],
   "source": [
    "#pandas.DataFrame.quantile\n",
    "#DataFrame.quantile(q=0.5, axis=0, numeric_only=True, interpolation='linear')\n",
    "print(df.quantile(0.5,numeric_only=True))\n",
    "print(df.quantile(0.25,numeric_only=True))\n",
    "#pandas.DataFrame.duplicated\n",
    "print(df.loc[df['年份'].duplicated()])"
   ]
  },
  {
   "cell_type": "code",
   "execution_count": null,
   "metadata": {},
   "outputs": [],
   "source": [
    "#DataFrame 轉置\n",
    "df2.T"
   ]
  },
  {
   "cell_type": "code",
   "execution_count": null,
   "metadata": {},
   "outputs": [],
   "source": [
    "#以 loc 與 iloc 選取 DataFrame 的列資料 by index\n",
    "df2.loc[['三', '六']]"
   ]
  },
  {
   "cell_type": "code",
   "execution_count": null,
   "metadata": {},
   "outputs": [],
   "source": [
    "df2.loc['三':'六']\n",
    "#df2.loc['三':'六',:'負債'] # 連續欄與列切片"
   ]
  },
  {
   "cell_type": "code",
   "execution_count": null,
   "metadata": {},
   "outputs": [],
   "source": [
    "#iloc：Integer location (整數位址)\n",
    "df2.iloc[:2,1:3]"
   ]
  },
  {
   "cell_type": "code",
   "execution_count": null,
   "metadata": {},
   "outputs": [],
   "source": [
    "#DataFrame 重新索引\n",
    "s2 = df2.reindex(['一', '三','五', '二', '四', '六'])\n",
    "s2"
   ]
  },
  {
   "cell_type": "code",
   "execution_count": null,
   "metadata": {},
   "outputs": [],
   "source": [
    "s2['a']=np.where(s2['城市']=='台中',2,3)\n",
    "s2"
   ]
  },
  {
   "cell_type": "code",
   "execution_count": null,
   "metadata": {},
   "outputs": [],
   "source": [
    "#pandas.DataFrame.reindex\n",
    "#DataFrame.reindex(labels=None, index=None, columns=None, axis=None, method=None, copy=True, level=None, fill_value=nan, limit=None, tolerance=None)\n",
    "s3 = df2.reindex(columns=['年份','城市','中部','人口數','負債','aaa'])\n",
    "print(s3)\n",
    "#pandas.DataFrame.reindex_like\n",
    "#DataFrame.reindex_like(other, method=None, copy=True, limit=None, tolerance=None)\n",
    "print(df_copy)\n",
    "df_copy.reindex_like(s3)"
   ]
  },
  {
   "cell_type": "code",
   "execution_count": null,
   "metadata": {},
   "outputs": [],
   "source": [
    "#刪除 DataFrame 資料\n",
    "df3 = pd.DataFrame(np.arange(16).reshape(4, 4),\n",
    "                  index=['台北', '台中', '台南', '高雄'],\n",
    "                  columns=[1, 2, 3, 4])\n",
    "df3"
   ]
  },
  {
   "cell_type": "code",
   "execution_count": null,
   "metadata": {},
   "outputs": [],
   "source": [
    "#刪除列\n",
    "df3.drop(['台北', '台中'])"
   ]
  },
  {
   "cell_type": "code",
   "execution_count": null,
   "metadata": {},
   "outputs": [],
   "source": [
    "df3.drop([2, 3], axis='columns')"
   ]
  },
  {
   "cell_type": "code",
   "execution_count": null,
   "metadata": {},
   "outputs": [],
   "source": [
    "#更改原物件：給 inplace=True 參數\n",
    "df3.drop([2, 3], axis='columns', inplace=True)\n",
    "df3"
   ]
  },
  {
   "cell_type": "code",
   "execution_count": null,
   "metadata": {},
   "outputs": [],
   "source": [
    "#DataFrame 運算時，索引值不一致者則設為遺漏值\n",
    "df1 = pd.DataFrame(np.arange(9.).reshape((3, 3)), columns=list('二三四'),\n",
    "                   index=['台北', '台中', '台南'])\n",
    "df2 = pd.DataFrame(np.arange(12.).reshape((4, 3)), columns=list('二四五'),\n",
    "                   index=['高雄', '台北', '台中', '新北'])\n",
    "#df1 + df2\n",
    "print(df1)\n",
    "print(df2)\n",
    "df1 + df2"
   ]
  },
  {
   "cell_type": "code",
   "execution_count": null,
   "metadata": {},
   "outputs": [],
   "source": [
    "print(df)\n",
    "#DataFrame  指定欄位，依資料排序，小到大\n",
    "df.sort_values(by='人口數')\n",
    "df.sort_values(by=['年份', '人口數']) "
   ]
  },
  {
   "cell_type": "code",
   "execution_count": null,
   "metadata": {},
   "outputs": [],
   "source": [
    "#複製資料框\n",
    "df_copy = df.copy()\n",
    "df_copy"
   ]
  },
  {
   "cell_type": "code",
   "execution_count": null,
   "metadata": {},
   "outputs": [],
   "source": [
    "#描述性統計\n",
    "df4 = pd.DataFrame([[1.4, np.nan], [7.1, -4.5],\n",
    "                   [np.nan, np.nan], [0.75, -1.3]],\n",
    "                  index=['a', 'b', 'c', 'd'],\n",
    "                  columns=['one', 'two'])\n",
    "df4"
   ]
  },
  {
   "cell_type": "code",
   "execution_count": null,
   "metadata": {},
   "outputs": [],
   "source": [
    "df4.sum()    # 縱向加總，NaN 視為 0\n",
    "df4.sum(axis='columns')    # 橫向加總"
   ]
  },
  {
   "cell_type": "code",
   "execution_count": null,
   "metadata": {},
   "outputs": [],
   "source": [
    "print(df4.shape) # 回傳列數與欄數  \n",
    "print(\"---\")  \n",
    "print(df4.describe()) # 回傳描述性統計  \n",
    "print(\"---\")  \n",
    "print(df4.head(3)) # 回傳前三筆觀測值  \n",
    "print(\"---\")  \n",
    "print(df4.tail(3)) # 回傳後三筆觀測值  \n",
    "print(\"---\")  \n",
    "print(df4.info) # 回傳資料內容"
   ]
  },
  {
   "cell_type": "code",
   "execution_count": null,
   "metadata": {},
   "outputs": [],
   "source": [
    "方法\t說明\n",
    "count()\t非 NaN 值的數量\n",
    "describe()\t摘要統計\n",
    "min(), max()\t最小、最大值\n",
    "idxmin(), idxmax()\t計算最小、最大值所在的標籤位置\n",
    "quantile()\t從 0 到 1 計算樣本分位數\n",
    "sum()\t加總\n",
    "mean()\t平均\n",
    "median()\t中位數\n",
    "mad()\t相對於平均值的平均絕對偏差 (Mean absolute deviation)\n",
    "prod()\t所有值的乘積\n",
    "var()\t變異數\n",
    "std()\t標準差\n",
    "skew()\t偏度\n",
    "kurt()\t峰度\n",
    "cumsum()\t累加\n",
    "cummin(), cummax()\t累加最小、最大值\n",
    "cumprod()\t累積\n",
    "diff()\t第一離散元素差\n",
    "pct_change()\t變動百分比"
   ]
  },
  {
   "cell_type": "code",
   "execution_count": null,
   "metadata": {},
   "outputs": [],
   "source": [
    "#出現頻率\n",
    "#df_copy.value_counts()\n",
    "df_copy[['年份','城市']].value_counts()"
   ]
  },
  {
   "cell_type": "code",
   "execution_count": null,
   "metadata": {},
   "outputs": [],
   "source": [
    "#布林值來做篩選\n",
    "out_df = df[df.loc[:,\"年份\"] >= 2017] # 選出年份>= 2017 的群組  \n",
    "print(out_df) "
   ]
  },
  {
   "cell_type": "code",
   "execution_count": null,
   "metadata": {},
   "outputs": [],
   "source": [
    "#pandas.DataFrame.isna\n",
    "newdf = pd.DataFrame(dict(age=[5, 6, np.NaN],\n",
    "                   born=[pd.NaT, pd.Timestamp('1939-05-27'),\n",
    "                         pd.Timestamp('1940-04-25')],\n",
    "                   name=['Alfred', 'Batman', ''],\n",
    "                   toy=[None, 'Batmobile', 'Joker']))\n",
    "newdf"
   ]
  },
  {
   "cell_type": "code",
   "execution_count": null,
   "metadata": {},
   "outputs": [],
   "source": [
    "print(newdf.isna())\n",
    "newdf.isnull()"
   ]
  },
  {
   "cell_type": "code",
   "execution_count": null,
   "metadata": {},
   "outputs": [],
   "source": [
    "newdf.fillna(0)\n",
    "# print(newdf)\n"
   ]
  },
  {
   "cell_type": "code",
   "execution_count": null,
   "metadata": {},
   "outputs": [],
   "source": []
  }
 ]
}